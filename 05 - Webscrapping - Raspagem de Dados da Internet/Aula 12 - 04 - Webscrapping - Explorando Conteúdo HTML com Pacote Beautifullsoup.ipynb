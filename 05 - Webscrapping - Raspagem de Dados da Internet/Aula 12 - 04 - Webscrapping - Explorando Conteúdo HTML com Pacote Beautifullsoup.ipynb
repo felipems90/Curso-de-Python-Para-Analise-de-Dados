{
 "cells": [
  {
   "cell_type": "markdown",
   "metadata": {
    "id": "oR9mUt4l_TrP"
   },
   "source": [
    "# 05 - Webscrapping - Raspagem de Dados da Internet\n",
    "## Aula 12 - 04 - Webscrapping - Explorando Conteúdo HTML com Pacote Beautifullsoup"
   ]
  },
  {
   "cell_type": "markdown",
   "metadata": {
    "id": "N0tV_hcv_TrX"
   },
   "source": [
    "## Professor: Orlando Oliveira dos Santos, MsC.\n",
    " - E-mail: professor.orlando.santos@gmail.com \n",
    " - Youtube :https://www.youtube.com/channel/UCPWWbkPWFmOjXH50TQWNAYg\n",
    " - Linkedin: https://linkedin.com/in/orlandoosantos\n",
    " - Facebook: https://www.facebook.com/proforlandosantosmsc/\n",
    " - Twitter: https://twitter.com/ProfOrlandoMsC\n",
    " - Instagram: https://www.instagram.com/proforlandosantosmsc/\n",
    "\n",
    "\n",
    "\n",
    "## Formação Acadêmica\n",
    "- Mestrado em Computação Aplicada - UnB (2014 – 2016)\t\n",
    "- MBA, Administração Estratégica de Sistemas de Informação – FGV (2011 – 2013)\n",
    "- Tecnólogo em Processamento de Dados, Análise e Desenvolvimento de Sistemas – FAETEC/SP (2000-2002)"
   ]
  },
  {
   "cell_type": "markdown",
   "metadata": {
    "id": "hQJMFiYT_Trb"
   },
   "source": [
    "#  Webscrapping - Explorando Conteúdo HTM com Pacote Beautifullsoup"
   ]
  },
  {
   "cell_type": "markdown",
   "metadata": {
    "id": "ZXbqpE_9CKHD"
   },
   "source": [
    "# Acessando e Manipulando Arquivos HTML com requests e BeautifullSoup4\n",
    "\n",
    "- HTML é a linguagem de marcação padrão para páginas da web:\n",
    "https://www.w3schools.com/html/\n",
    "\n",
    "- Requests é uma biblioteca HTTP para Python simples e elegante, feita para seres humanos. https://requests.readthedocs.io/pt_BR/latest/index.html\n",
    "\n",
    "- Beautiful Soup é uma biblioteca Python para extrair dados de arquivos HTML e XML:  \n",
    "https://beautiful-soup-4.readthedocs.io/en/latest/#"
   ]
  },
  {
   "cell_type": "markdown",
   "metadata": {
    "id": "91HRCypOF4BB"
   },
   "source": [
    "# Acessar a página de Lista de unidades federativas do Brasil por área no site da https://pt.wikipedia.org/"
   ]
  },
  {
   "cell_type": "code",
   "execution_count": 1,
   "metadata": {
    "executionInfo": {
     "elapsed": 669,
     "status": "ok",
     "timestamp": 1608161647583,
     "user": {
      "displayName": "Orlando O. S.",
      "photoUrl": "https://lh3.googleusercontent.com/a-/AOh14Gj-E1yuy1M_3ruwN4TWYPK4BwysauSW7GQmHheS=s64",
      "userId": "15066502291703974467"
     },
     "user_tz": 180
    },
    "id": "r35wJsjqSFH4"
   },
   "outputs": [],
   "source": [
    "import requests\n",
    "import os"
   ]
  },
  {
   "cell_type": "code",
   "execution_count": 6,
   "metadata": {
    "executionInfo": {
     "elapsed": 654,
     "status": "ok",
     "timestamp": 1608161648356,
     "user": {
      "displayName": "Orlando O. S.",
      "photoUrl": "https://lh3.googleusercontent.com/a-/AOh14Gj-E1yuy1M_3ruwN4TWYPK4BwysauSW7GQmHheS=s64",
      "userId": "15066502291703974467"
     },
     "user_tz": 180
    },
    "id": "urOOHfZWQpsd"
   },
   "outputs": [],
   "source": [
    "link = \"https://pt.wikipedia.org/wiki/Lista_de_unidades_federativas_do_Brasil_por_%C3%A1rea\"\n",
    "header_text = '''authority: pt.wikipedia.org\n",
    "cache-control: max-age=0\n",
    "sec-ch-ua: \"Google Chrome\";v=\"87\", \" Not;A Brand\";v=\"99\", \"Chromium\";v=\"87\"\n",
    "sec-ch-ua-mobile: ?0\n",
    "upgrade-insecure-requests: 1\n",
    "user-agent: Mozilla/5.0 (Windows NT 10.0; Win64; x64) AppleWebKit/537.36 (KHTML, like Gecko) Chrome/87.0.4280.88 Safari/537.36\n",
    "accept: text/html,application/xhtml+xml,application/xml;q=0.9,image/avif,image/webp,image/apng,*/*;q=0.8,application/signed-exchange;v=b3;q=0.9\n",
    "sec-fetch-site: cross-site\n",
    "sec-fetch-mode: navigate\n",
    "sec-fetch-user: ?1\n",
    "sec-fetch-dest: document\n",
    "referer: https://www.google.com/\n",
    "accept-language: pt-BR,pt;q=0.9,en-US;q=0.8,en;q=0.7,he-IL;q=0.6,he;q=0.5,el-GR;q=0.4,el;q=0.3,zh-CN;q=0.2,zh;q=0.1\n",
    "cookie: WMF-Last-Access=15-Dec-2020; WMF-Last-Access-Global=15-Dec-2020; GeoIP=BR:DF:Bras__lia:-15.78:-47.93:v4; ptwikimwuser-sessionId=3692423a4757aeae3688\n",
    "'''\n",
    "headerdict = { x.split(':')[0].strip() :  x.split(':')[1].strip()for x in header_text.splitlines()}\n",
    "r = requests.get(link, headers=headerdict)"
   ]
  },
  {
   "cell_type": "code",
   "execution_count": 7,
   "metadata": {
    "colab": {
     "base_uri": "https://localhost:8080/",
     "height": 158
    },
    "executionInfo": {
     "elapsed": 949,
     "status": "ok",
     "timestamp": 1608161651500,
     "user": {
      "displayName": "Orlando O. S.",
      "photoUrl": "https://lh3.googleusercontent.com/a-/AOh14Gj-E1yuy1M_3ruwN4TWYPK4BwysauSW7GQmHheS=s64",
      "userId": "15066502291703974467"
     },
     "user_tz": 180
    },
    "id": "WMnHzoXUQpY1",
    "outputId": "2e34db18-8634-4823-ad22-53592fed7600"
   },
   "outputs": [
    {
     "data": {
      "text/plain": [
       "'<!DOCTYPE html>\\n<html class=\"client-nojs\" lang=\"pt\" dir=\"ltr\">\\n<head>\\n<meta charset=\"UTF-8\"/>\\n<title>Lista de unidades federativas do Brasil por área – Wikipédia, a enciclopédia livre</title>\\n<script>document.documentElement.className=\"client-js\";RLCONF={\"wgBreakFrames\":false,\"wgSeparatorTransformTable\":[\",\\\\t.\",\"\\xa0\\\\t,\"],\"wgDigitTransformTable\":[\"\",\"\"],\"wgDefaultDateFormat\":\"dmy\",\"wgMonthNames\":[\"\",\"janeiro\",\"fevereiro\",\"março\",\"abril\",\"maio\",\"junho\",\"julho\",\"agosto\",\"setembro\",\"outubro\",\"novembro\",\"dezembro\"],\"wgRequestId\":\"e46a44ea-a384-425e-98ac-1d459dea7cca\",\"wgCSPNonce\":false,\"wgCanonicalNamespace\":\"\",\"wgCanonicalSpecialPageName\":false,\"wgNamespaceNumber\":0,\"wgPageName\":\"Lista_de_unidades_federativas_do_Brasil_por_área\",\"wgTitle\":\"Lista de unidades federativas do Brasil por área\",\"wgCurRevisionId\":64219064,\"wgRevisionId\":64219064,\"wgArticleId\":9520,\"wgIsArticle\":true,\"wgIsRedirect\":false,\"wgAction\":\"view\",\"wgUserName\":null,\"wgUserGroups\":[\"*\"],\"wgCategories\":[\"!Listas destacadas\",\"Listas de estados do Brasil\",\"Listas por área\"],\"wgPageContentLanguage\":\"pt\",\"wgPageContentModel\":\"wikitext\",\"wgRelevantPageName\":\"Lista_de_unidades_federativas_do_Brasil_por_área\",\\n\"wgRelevantArticleId\":9520,\"wgIsProbablyEditable\":true,\"wgRelevantPageIsProbablyEditable\":true,\"wgRestrictionEdit\":[],\"wgRestrictionMove\":[],\"wgVisualEditor\":{\"pageLanguageCode\":\"pt\",\"pageLanguageDir\":\"ltr\",\"pageVariantFallbacks\":\"pt\"},\"wgMFDisplayWikibaseDescriptions\":{\"search\":true,\"nearby\":true,\"watchlist\":true,\"tagline\":true},\"wgWMESchemaEditAttemptStepOversample\":false,\"wgWMEPageLength\":7000,\"wgNoticeProject\":\"wikipedia\",\"wgVector2022PreviewPages\":[],\"wgMediaViewerOnClick\":true,\"wgMediaViewerEnabledByDefault\":true,\"wgPopupsFlags\":10,\"wgULSCurrentAutonym\":\"português\",\"wgEditSubmitButtonLabelPublish\":true,\"wgCentralAuthMobileDomain\":false,\"wgULSPosition\":\"interlanguage\",\"wgULSisCompactLinksEnabled\":true,\"wgWikibaseItemId\":\"Q864869\",\"GEHomepageSuggestedEditsEnableTopics\":true,\"wgGETopicsMatchModeEnabled\":true,\"wgGEStructuredTaskRejectionReasonTextInputEnabled\":false,\"wgSiteNoticeId\":\"2.30\"};RLSTATE={\"skins.vector.user.styles\":\"ready\",\"ext.gadget.FeedbackHighlight-base\":\"ready\",\\n\"ext.gadget.keepPDU\":\"ready\",\"ext.globalCssJs.user.styles\":\"ready\",\"site.styles\":\"ready\",\"user.styles\":\"ready\",\"skins.vector.user\":\"ready\",\"ext.globalCssJs.user\":\"ready\",\"user\":\"ready\",\"user.options\":\"loading\",\"ext.cite.styles\":\"ready\",\"mediawiki.ui.button\":\"ready\",\"skins.vector.styles\":\"ready\",\"skins.vector.icons\":\"ready\",\"mediawiki.ui.icon\":\"ready\",\"jquery.tablesorter.styles\":\"ready\",\"ext.visualEditor.desktopArticleTarget.noscript\":\"ready\",\"ext.wikimediaBadges\":\"ready\",\"ext.uls.interlanguage\":\"ready\",\"wikibase.client.init\":\"ready\",\"ext.dismissableSiteNotice.styles\":\"ready\"};RLPAGEMODULES=[\"ext.cite.ux-enhancements\",\"site\",\"mediawiki.page.ready\",\"jquery.tablesorter\",\"mediawiki.toc\",\"skins.vector.js\",\"skins.vector.es6\",\"mmv.head\",\"mmv.bootstrap.autostart\",\"ext.visualEditor.desktopArticleTarget.init\",\"ext.visualEditor.targetLoader\",\"ext.eventLogging\",\"ext.wikimediaEvents\",\"ext.navigationTiming\",\"ext.cx.eventlogging.campaigns\",\"ext.imagesuggestions.notifications.styles\",\\n\"ext.centralNotice.geoIP\",\"ext.centralNotice.startUp\",\"ext.gadget.Topicon\",\"ext.gadget.Metacaixa\",\"ext.gadget.TitleRewrite\",\"ext.gadget.ElementosOcultaveis\",\"ext.gadget.FeedbackHighlight\",\"ext.gadget.ReferenceTooltips\",\"ext.gadget.NewVillagePump\",\"ext.gadget.wikibugs\",\"ext.gadget.charinsert\",\"ext.gadget.requestForAdminship\",\"ext.gadget.EnhancedSearch\",\"ext.gadget.WikiMiniAtlas\",\"ext.gadget.PagesForDeletion\",\"ext.centralauth.centralautologin\",\"ext.popups\",\"ext.uls.compactlinks\",\"ext.uls.interface\",\"ext.cx.uls.quick.actions\",\"ext.growthExperiments.SuggestedEditSession\",\"ext.dismissableSiteNotice\"];</script>\\n<script>(RLQ=window.RLQ||[]).push(function(){mw.loader.implement(\"user.options@12s5i\",function($,jQuery,require,module){mw.user.tokens.set({\"patrolToken\":\"+\\\\\\\\\",\"watchToken\":\"+\\\\\\\\\",\"csrfToken\":\"+\\\\\\\\\"});});});</script>\\n<link rel=\"stylesheet\" href=\"/w/load.php?lang=pt&amp;modules=ext.cite.styles%7Cext.dismissableSiteNotice.styles%7Cext.uls.interlanguage%7Cext.visualEditor.desktopArticleTarget.noscript%7Cext.wikimediaBadges%7Cjquery.tablesorter.styles%7Cmediawiki.ui.button%2Cicon%7Cskins.vector.icons%2Cstyles%7Cwikibase.client.init&amp;only=styles&amp;skin=vector-2022\"/>\\n<script async=\"\" src=\"/w/load.php?lang=pt&amp;modules=startup&amp;only=scripts&amp;raw=1&amp;skin=vector-2022\"></script>\\n<meta name=\"ResourceLoaderDynamicStyles\" content=\"\"/>\\n<link rel=\"stylesheet\" href=\"/w/load.php?lang=pt&amp;modules=ext.gadget.FeedbackHighlight-base%2CkeepPDU&amp;only=styles&amp;skin=vector-2022\"/>\\n<link rel=\"stylesheet\" href=\"/w/load.php?lang=pt&amp;modules=site.styles&amp;only=styles&amp;skin=vector-2022\"/>\\n<meta name=\"generator\" content=\"MediaWiki 1.40.0-wmf.2\"/>\\n<meta name=\"referrer\" content=\"origin\"/>\\n<meta name=\"referrer\" content=\"origin-when-crossorigin\"/>\\n<meta name=\"referrer\" content=\"origin-when-cross-origin\"/>\\n<meta name=\"format-detection\" content=\"telephone=no\"/>\\n<meta property=\"og:image\" content=\"https://upload.wikimedia.org/wikipedia/commons/thumb/2/28/Brazilian_States_by_Area.svg/1200px-Brazilian_States_by_Area.svg.png\"/>\\n<meta property=\"og:image:width\" content=\"1200\"/>\\n<meta property=\"og:image:height\" content=\"1057\"/>\\n<meta property=\"og:image\" content=\"https://upload.wikimedia.org/wikipedia/commons/thumb/2/28/Brazilian_States_by_Area.svg/800px-Brazilian_States_by_Area.svg.png\"/>\\n<meta property=\"og:image:width\" content=\"800\"/>\\n<meta property=\"og:image:height\" content=\"705\"/>\\n<meta property=\"og:image\" content=\"https://upload.wikimedia.org/wikipedia/commons/thumb/2/28/Brazilian_States_by_Area.svg/640px-Brazilian_States_by_Area.svg.png\"/>\\n<meta property=\"og:image:width\" content=\"640\"/>\\n<meta property=\"og:image:height\" content=\"564\"/>\\n<meta name=\"viewport\" content=\"width=1000\"/>\\n<meta property=\"og:title\" content=\"Lista de unidades federativas do Brasil por área – Wikipédia, a enciclopédia livre\"/>\\n<meta property=\"og:type\" content=\"website\"/>\\n<link rel=\"preconnect\" href=\"//upload.wikimedia.org\"/>\\n<link rel=\"alternate\" media=\"only screen and (max-width: 720px)\" href=\"//pt.m.wikipedia.org/wiki/Lista_de_unidades_federativas_do_Brasil_por_%C3%A1rea\"/>\\n<link rel=\"alternate\" type=\"application/x-wiki\" title=\"Editar\" href=\"/w/index.php?title=Lista_de_unidades_federativas_do_Brasil_por_%C3%A1rea&amp;action=edit\"/>\\n<link rel=\"apple-touch-icon\" href=\"/static/apple-touch/wikipedia.png\"/>\\n<link rel=\"icon\" href=\"/static/favicon/wikipedia.ico\"/>\\n<link rel=\"search\" type=\"application/opensearchdescription+xml\" href=\"/w/opensearch_desc.php\" title=\"Wikipédia (pt)\"/>\\n<link rel=\"EditURI\" type=\"application/rsd+xml\" href=\"//pt.wikipedia.org/w/api.php?action=rsd\"/>\\n<link rel=\"license\" href=\"https://creativecommons.org/licenses/by-sa/3.0/\"/>\\n<link rel=\"canonical\" href=\"https://pt.wikipedia.org/wiki/Lista_de_unidades_federativas_do_Brasil_por_%C3%A1rea\"/>\\n<link rel=\"dns-prefetch\" href=\"//meta.wikimedia.org\" />\\n<link rel=\"dns-prefetch\" href=\"//login.wikimedia.org\"/>\\n</head>\\n<body class=\"skin-vector skin-vector-search-vue mediawiki ltr sitedir-ltr mw-hide-empty-elt ns-0 ns-subject mw-editable page-Lista_de_unidades_federativas_do_Brasil_por_área rootpage-Lista_de_unidades_federativas_do_Brasil_por_área skin-vector-2022 action-view vector-toc-not-collapsed vector-feature-language-in-header-enabled vector-feature-language-in-main-page-header-disabled vector-feature-language-alert-in-sidebar-enabled vector-feature-sticky-header-disabled vector-feature-sticky-header-edit-disabled vector-feature-table-of-contents-disabled vector-feature-visual-enhancement-next-disabled\"><div class=\"mw-page-container\">\\n\\t<span id=\"top-page\"></span>\\n\\t<a class=\"mw-jump-link\" href=\"#content\">Saltar para o conteúdo</a>\\n\\t<div class=\"mw-page-container-inner\">\\n\\t\\t<input\\n\\t\\t\\ttype=\"checkbox\"\\n\\t\\t\\tid=\"mw-sidebar-checkbox\"\\n\\t\\t\\tclass=\"mw-checkbox-hack-checkbox\"\\n\\t\\t\\t>\\n\\t\\t<header class=\"mw-header\">\\n\\t\\t\\t<div class=\"mw-header-aside\">\\n\\t\\t\\t<label\\n\\t\\t\\t\\tid=\"mw-sidebar-button\"\\n\\t\\t\\t\\tclass=\"mw-checkbox-hack-button mw-ui-icon mw-ui-button mw-ui-quiet mw-ui-icon-element\"\\n\\t\\t\\t\\tfor=\"mw-sidebar-checkbox\"\\n\\t\\t\\t\\trole=\"button\"\\n\\t\\t\\t\\taria-controls=\"mw-panel\"\\n\\t\\t\\t\\tdata-event-name=\"ui.sidebar\"\\n\\t\\t\\t\\ttabindex=\"0\"\\n\\t\\t\\t\\ttitle=\"Menu principal\">\\n\\t\\t\\t\\t<span>Alternar barra lateral</span>\\n\\t\\t\\t</label>\\n\\t\\t\\t\\n<a href=\"/wiki/Wikip%C3%A9dia:P%C3%A1gina_principal\" class=\"mw-logo\">\\n\\t<img class=\"mw-logo-icon\" src=\"/static/images/mobile/copyright/wikipedia.png\" alt=\"\"\\n\\t\\taria-hidden=\"true\" height=\"50\" width=\"50\">\\n\\t<span class=\"mw-logo-container\">\\n\\t\\t<img class=\"mw-logo-wordmark\" alt=\"Wikipédia\"\\n\\t\\t\\tsrc=\"/static/images/mobile/copyright/wikipedia-wordmark-fr.svg\" style=\"width: 7.4375em; height: 1.125em;\">\\n\\t\\t<img class=\"mw-logo-tagline\"\\n\\t\\t\\talt=\"\"\\n\\t\\t\\tsrc=\"/static/images/mobile/copyright/wikipedia-tagline-pt.svg\" width=\"113\" height=\"13\" style=\"width: 7.0625em; height: 0.8125em;\">\\n\\t</span>\\n</a>\\n\\n\\t\\t\\t</div>\\n\\t\\t\\t<div class=\"mw-header-content\">\\n\\t\\t\\t\\n<div id=\"p-search\" role=\"search\" class=\"vector-search-box-vue  vector-search-box-collapses  vector-search-box-show-thumbnail vector-search-box-auto-expand-width vector-search-box\">\\n\\t<a href=\"/wiki/Especial:Pesquisar\"\\n\\t\\n\\t\\t\\n\\t\\t\\n\\t\\t\\n\\t\\ttitle=\"Pesquisar na Wikipédia [f]\"\\n\\t\\taccesskey=\"f\"\\n\\t\\tclass=\"mw-ui-button mw-ui-quiet mw-ui-icon mw-ui-icon-element mw-ui-icon-wikimedia-search search-toggle\">\\n\\t\\t<span>Busca</span>\\n\\t</a>\\n\\t\\n\\t<div>\\n\\t\\t<form action=\"/w/index.php\" id=\"searchform\"\\n\\t\\t\\tclass=\"vector-search-box-form\">\\n\\t\\t\\t<div id=\"simpleSearch\"\\n\\t\\t\\t\\tclass=\"vector-search-box-inner\"\\n\\t\\t\\t\\t data-search-loc=\"header-moved\">\\n\\t\\t\\t\\t<input class=\"vector-search-box-input\"\\n\\t\\t\\t\\t\\t type=\"search\" name=\"search\" placeholder=\"Pesquisar na Wikipédia\" aria-label=\"Pesquisar na Wikipédia\" autocapitalize=\"sentences\" title=\"Pesquisar na Wikipédia [f]\" accesskey=\"f\" id=\"searchInput\"\\n\\t\\t\\t\\t>\\n\\t\\t\\t\\t<input type=\"hidden\" name=\"title\" value=\"Especial:Pesquisar\">\\n\\t\\t\\t\\t<input id=\"mw-searchButton\"\\n\\t\\t\\t\\t\\t class=\"searchButton mw-fallbackSearchButton\" type=\"submit\" name=\"fulltext\" title=\"Procurar páginas que contêm este texto\" value=\"Pesquisar\">\\n\\t\\t\\t\\t<input id=\"searchButton\"\\n\\t\\t\\t\\t\\t class=\"searchButton\" type=\"submit\" name=\"go\" title=\"Ir para uma página com este nome exacto, caso exista\" value=\"Ir\">\\n\\t\\t\\t</div>\\n\\t\\t</form>\\n\\t</div>\\n</div>\\n\\n\\t\\t\\t<nav class=\"vector-user-links\" aria-label=\"Ferramentas pessoais\" role=\"navigation\" >\\n\\t\\n\\n<div id=\"p-vector-user-menu-overflow\" class=\"vector-menu mw-portlet mw-portlet-vector-user-menu-overflow vector-user-menu-overflow\"  >\\n\\t<div class=\"vector-menu-content\">\\n\\t\\t\\n\\t\\t<ul class=\"vector-menu-content-list\"><li id=\"pt-createaccount-2\" class=\"user-links-collapsible-item mw-list-item\"><a href=\"/w/index.php?title=Especial:Criar_conta&amp;returnto=Lista+de+unidades+federativas+do+Brasil+por+%C3%A1rea\" title=\"É encorajado a criar uma conta e iniciar sessão; no entanto, não é obrigatório\"><span>Criar uma conta</span></a></li></ul>\\n\\t\\t\\n\\t</div>\\n</div>\\n\\n\\t\\n\\n<div id=\"p-personal\" class=\"vector-menu mw-portlet mw-portlet-personal vector-user-menu vector-user-menu-logged-out vector-menu-dropdown\"  title=\"Mais opções\" >\\n\\t<input type=\"checkbox\"\\n\\t\\tid=\"p-personal-checkbox\"\\n\\t\\trole=\"button\"\\n\\t\\taria-haspopup=\"true\"\\n\\t\\tdata-event-name=\"ui.dropdown-p-personal\"\\n\\t\\tclass=\"vector-menu-checkbox\"\\n\\t\\t\\n\\t\\t\\n\\t/>\\n\\t<label\\n\\t\\tid=\"p-personal-label\"\\n\\t\\tfor=\"p-personal-checkbox\"\\n\\t\\tclass=\"vector-menu-heading mw-ui-button mw-ui-quiet mw-ui-icon mw-ui-icon-element mw-ui-icon-ellipsis mw-ui-icon-wikimedia-ellipsis\"\\n\\t\\t\\n\\t>\\n\\t\\t<span class=\"vector-menu-heading-label\">Ferramentas pessoais</span>\\n\\t</label>\\n\\t<div class=\"vector-menu-content\">\\n\\t\\t<div class=\"vector-user-menu-create-account\"><a href=\"/w/index.php?title=Especial:Criar_conta&amp;returnto=Lista+de+unidades+federativas+do+Brasil+por+%C3%A1rea\" class=\"vector-menu-content-item user-links-collapsible-item\" title=\"É encorajado a criar uma conta e iniciar sessão; no entanto, não é obrigatório\"><span class=\"mw-ui-icon mw-ui-icon-userAdd mw-ui-icon-wikimedia-userAdd\"></span> <span>Criar uma conta</span></a></div>\\n<div class=\"vector-user-menu-login\"><a href=\"/w/index.php?title=Especial:Entrar&amp;returnto=Lista+de+unidades+federativas+do+Brasil+por+%C3%A1rea\" class=\"vector-menu-content-item vector-menu-content-item-login\" title=\"Aconselhamos-lhe a criar uma conta na Wikipédia, embora tal não seja obrigatório. [o]\" accesskey=\"o\"><span class=\"mw-ui-icon mw-ui-icon-logIn mw-ui-icon-wikimedia-logIn\"></span> <span>Entrar</span></a></div>\\n<div class=\"vector-user-menu-anon-editor\">\\n\\t<p>\\n\\t\\tPáginas para editores sem sessão iniciada <a href=\"/wiki/Ajuda:Introduction\" aria-label=\"Saiba mais sobre edição\"><span>saber mais</span></a>\\n\\t</p>\\n</div>\\n\\n\\t\\t<ul class=\"vector-menu-content-list\"><li id=\"pt-anontalk\" class=\"mw-list-item\"><a href=\"/wiki/Especial:Minha_discuss%C3%A3o\" title=\"Discussão sobre edições feitas a partir deste endereço IP [n]\" accesskey=\"n\"><span>Discussão</span></a></li><li id=\"pt-anoncontribs\" class=\"mw-list-item\"><a href=\"/wiki/Especial:Minhas_contribui%C3%A7%C3%B5es\" title=\"Uma lista de edições feitas a partir deste endereço IP [y]\" accesskey=\"y\"><span>Contribuições</span></a></li></ul>\\n\\t\\t\\n\\t</div>\\n</div>\\n\\n</nav>\\n\\n\\t\\t\\t</div>\\n\\t\\t</header>\\n\\t\\t<div class=\"vector-sidebar-container \">\\n\\t\\t\\t<div id=\"mw-navigation\">\\n\\t\\t\\t\\t\\n\\n<nav id=\"mw-panel\" class=\"mw-sidebar\" aria-label=\"&#039;&#039;Site&#039;&#039;\" role=\"navigation\">\\n\\t\\n\\n<div id=\"p-navigation\" class=\"vector-menu mw-portlet mw-portlet-navigation vector-menu-portal portal\"  >\\n\\t<div\\n\\t\\tid=\"p-navigation-label\"\\n\\t\\tclass=\"vector-menu-heading \"\\n\\t\\t\\n\\t>\\n\\t\\t<span class=\"vector-menu-heading-label\">Navegação</span>\\n\\t</div>\\n\\t<div class=\"vector-menu-content\">\\n\\t\\t\\n\\t\\t<ul class=\"vector-menu-content-list\"><li id=\"n-mainpage-description\" class=\"mw-list-item\"><a href=\"/wiki/Wikip%C3%A9dia:P%C3%A1gina_principal\" title=\"Visitar a página principal [z]\" accesskey=\"z\"><span>Página principal</span></a></li><li id=\"n-featuredcontent\" class=\"mw-list-item\"><a href=\"/wiki/Portal:Conte%C3%BAdo_destacado\"><span>Conteúdo destacado</span></a></li><li id=\"n-currentevents\" class=\"mw-list-item\"><a href=\"/wiki/Portal:Eventos_atuais\" title=\"Informação temática sobre eventos atuais\"><span>Eventos atuais</span></a></li><li id=\"n-villagepump\" class=\"mw-list-item\"><a href=\"/wiki/Wikip%C3%A9dia:Esplanada\"><span>Esplanada</span></a></li><li id=\"n-randompage\" class=\"mw-list-item\"><a href=\"/wiki/Especial:Aleat%C3%B3ria\" title=\"Carregar página aleatória [x]\" accesskey=\"x\"><span>Página aleatória</span></a></li><li id=\"n-portals\" class=\"mw-list-item\"><a href=\"/wiki/Portal:%C3%8Dndice\"><span>Portais</span></a></li><li id=\"n-bug_in_article\" class=\"mw-list-item\"><a href=\"/wiki/Wikip%C3%A9dia:Informe_um_erro\"><span>Informar um erro</span></a></li></ul>\\n\\t\\t\\n\\t</div>\\n</div>\\n\\n\\t\\n\\t\\n\\n<div id=\"p-interaction\" class=\"vector-menu mw-portlet mw-portlet-interaction vector-menu-portal portal\"  >\\n\\t<div\\n\\t\\tid=\"p-interaction-label\"\\n\\t\\tclass=\"vector-menu-heading \"\\n\\t\\t\\n\\t>\\n\\t\\t<span class=\"vector-menu-heading-label\">Colaboração</span>\\n\\t</div>\\n\\t<div class=\"vector-menu-content\">\\n\\t\\t\\n\\t\\t<ul class=\"vector-menu-content-list\"><li id=\"n-welcome\" class=\"mw-list-item\"><a href=\"/wiki/Wikip%C3%A9dia:Boas-vindas\"><span>Boas-vindas</span></a></li><li id=\"n-help\" class=\"mw-list-item\"><a href=\"/wiki/Ajuda:P%C3%A1gina_principal\" title=\"Um local reservado para auxílio.\"><span>Ajuda</span></a></li><li id=\"n-testpage\" class=\"mw-list-item\"><a href=\"/wiki/Ajuda:P%C3%A1gina_de_testes\"><span>Página de testes</span></a></li><li id=\"n-portal\" class=\"mw-list-item\"><a href=\"/wiki/Wikip%C3%A9dia:Portal_comunit%C3%A1rio\" title=\"Sobre o projeto\"><span>Portal comunitário</span></a></li><li id=\"n-recentchanges\" class=\"mw-list-item\"><a href=\"/wiki/Especial:Mudan%C3%A7as_recentes\" title=\"Uma lista de mudanças recentes nesta wiki [r]\" accesskey=\"r\"><span>Mudanças recentes</span></a></li><li id=\"n-maintenance\" class=\"mw-list-item\"><a href=\"/wiki/Wikip%C3%A9dia:Manuten%C3%A7%C3%A3o\"><span>Manutenção</span></a></li><li id=\"n-createpage\" class=\"mw-list-item\"><a href=\"/wiki/Ajuda:Guia_de_edi%C3%A7%C3%A3o/Como_come%C3%A7ar_uma_p%C3%A1gina\"><span>Criar página</span></a></li><li id=\"n-newpages-description\" class=\"mw-list-item\"><a href=\"/wiki/Especial:P%C3%A1ginas_novas\"><span>Páginas novas</span></a></li><li id=\"n-contact-description\" class=\"mw-list-item\"><a href=\"/wiki/Wikip%C3%A9dia:Contato\"><span>Contato</span></a></li><li id=\"n-sitesupport\" class=\"mw-list-item\"><a href=\"//donate.wikimedia.org/wiki/Special:FundraiserRedirector?utm_source=donate&amp;utm_medium=sidebar&amp;utm_campaign=20120521SB001&amp;uselang=pt\" title=\"Ajude-nos\"><span>Donativos</span></a></li></ul>\\n\\t\\t\\n\\t</div>\\n</div>\\n\\n\\n<div id=\"p-tb\" class=\"vector-menu mw-portlet mw-portlet-tb vector-menu-portal portal\"  >\\n\\t<div\\n\\t\\tid=\"p-tb-label\"\\n\\t\\tclass=\"vector-menu-heading \"\\n\\t\\t\\n\\t>\\n\\t\\t<span class=\"vector-menu-heading-label\">Ferramentas</span>\\n\\t</div>\\n\\t<div class=\"vector-menu-content\">\\n\\t\\t\\n\\t\\t<ul class=\"vector-menu-content-list\"><li id=\"t-whatlinkshere\" class=\"mw-list-item\"><a href=\"/wiki/Especial:P%C3%A1ginas_afluentes/Lista_de_unidades_federativas_do_Brasil_por_%C3%A1rea\" title=\"Lista de todas as páginas que contêm hiperligações para esta [j]\" accesskey=\"j\"><span>Páginas afluentes</span></a></li><li id=\"t-recentchangeslinked\" class=\"mw-list-item\"><a href=\"/wiki/Especial:Altera%C3%A7%C3%B5es_relacionadas/Lista_de_unidades_federativas_do_Brasil_por_%C3%A1rea\" rel=\"nofollow\" title=\"Mudanças recentes nas páginas para as quais esta contém hiperligações [k]\" accesskey=\"k\"><span>Alterações relacionadas</span></a></li><li id=\"t-upload\" class=\"mw-list-item\"><a href=\"/wiki/Wikipedia:Carregar_ficheiro\" title=\"Carregar ficheiros [u]\" accesskey=\"u\"><span>Carregar ficheiro</span></a></li><li id=\"t-specialpages\" class=\"mw-list-item\"><a href=\"/wiki/Especial:P%C3%A1ginas_especiais\" title=\"Lista de páginas especiais [q]\" accesskey=\"q\"><span>Páginas especiais</span></a></li><li id=\"t-permalink\" class=\"mw-list-item\"><a href=\"/w/index.php?title=Lista_de_unidades_federativas_do_Brasil_por_%C3%A1rea&amp;oldid=64219064\" title=\"Hiperligação permanente para esta revisão desta página\"><span>Hiperligação permanente</span></a></li><li id=\"t-info\" class=\"mw-list-item\"><a href=\"/w/index.php?title=Lista_de_unidades_federativas_do_Brasil_por_%C3%A1rea&amp;action=info\" title=\"Mais informações sobre esta página\"><span>Informações da página</span></a></li><li id=\"t-cite\" class=\"mw-list-item\"><a href=\"/w/index.php?title=Especial:Citar&amp;page=Lista_de_unidades_federativas_do_Brasil_por_%C3%A1rea&amp;id=64219064&amp;wpFormIdentifier=titleform\" title=\"Informação sobre como citar esta página\"><span>Citar esta página</span></a></li><li id=\"t-wikibase\" class=\"mw-list-item\"><a href=\"https://www.wikidata.org/wiki/Special:EntityPage/Q864869\" title=\"Hiperligação para o elemento do repositório de dados [g]\" accesskey=\"g\"><span>Elemento Wikidata</span></a></li></ul>\\n\\t\\t\\n\\t</div>\\n</div>\\n\\n\\n<div id=\"p-coll-print_export\" class=\"vector-menu mw-portlet mw-portlet-coll-print_export vector-menu-portal portal\"  >\\n\\t<div\\n\\t\\tid=\"p-coll-print_export-label\"\\n\\t\\tclass=\"vector-menu-heading \"\\n\\t\\t\\n\\t>\\n\\t\\t<span class=\"vector-menu-heading-label\">Imprimir/exportar</span>\\n\\t</div>\\n\\t<div class=\"vector-menu-content\">\\n\\t\\t\\n\\t\\t<ul class=\"vector-menu-content-list\"><li id=\"coll-create_a_book\" class=\"mw-list-item\"><a href=\"/w/index.php?title=Especial:Livro&amp;bookcmd=book_creator&amp;referer=Lista+de+unidades+federativas+do+Brasil+por+%C3%A1rea\"><span>Criar um livro</span></a></li><li id=\"coll-download-as-rl\" class=\"mw-list-item\"><a href=\"/w/index.php?title=Especial:DownloadAsPdf&amp;page=Lista_de_unidades_federativas_do_Brasil_por_%C3%A1rea&amp;action=show-download-screen\"><span>Descarregar como PDF</span></a></li><li id=\"t-print\" class=\"mw-list-item\"><a href=\"/w/index.php?title=Lista_de_unidades_federativas_do_Brasil_por_%C3%A1rea&amp;printable=yes\" title=\"Versão para impressão desta página [p]\" accesskey=\"p\"><span>Versão para impressão</span></a></li></ul>\\n\\t\\t\\n\\t</div>\\n</div>\\n\\n\\t\\n<div class=\"mw-sidebar-action \">\\n\\t<div class=\"mw-sidebar-action-item vector-menu-portal\">\\n\\t\\t<div class=\"mw-sidebar-action-heading vector-menu-heading\">Línguas</div>\\n\\t\\t<div class=\"mw-sidebar-action-content vector-menu-content\">\\n\\t\\t\\t<div class=\"mw-message-box-notice vector-language-sidebar-alert mw-message-box\">Nesta Wikipédia, os atalhos de idioma estão na <a href=\"#p-lang-btn\">parte superior da página, em frente ao título do artigo</a>.</div>\\n\\t\\t</div>\\n\\t</div>\\n</div>\\n\\n</nav>\\n\\n\\t\\t\\t</div>\\n\\t\\t</div>\\n\\t\\t<div class=\"vector-sitenotice-container\">\\n\\t\\t\\t<div id=\"siteNotice\"><!-- CentralNotice --><div id=\"mw-dismissablenotice-anonplace\"></div><script>(function(){var node=document.getElementById(\"mw-dismissablenotice-anonplace\");if(node){node.outerHTML=\"\\\\u003Cdiv class=\\\\\"mw-dismissable-notice\\\\\"\\\\u003E\\\\u003Cdiv class=\\\\\"mw-dismissable-notice-close\\\\\"\\\\u003E[\\\\u003Ca tabindex=\\\\\"0\\\\\" role=\\\\\"button\\\\\"\\\\u003Eocultar\\\\u003C/a\\\\u003E]\\\\u003C/div\\\\u003E\\\\u003Cdiv class=\\\\\"mw-dismissable-notice-body\\\\\"\\\\u003E\\\\u003Cdiv id=\\\\\"localNotice\\\\\"\\\\u003E\\\\u003Cdiv class=\\\\\"anonnotice\\\\\" lang=\\\\\"pt\\\\\" dir=\\\\\"ltr\\\\\"\\\\u003E\\\\u003C/div\\\\u003E\\\\u003C/div\\\\u003E\\\\u003C/div\\\\u003E\\\\u003C/div\\\\u003E\";}}());</script></div>\\n\\t\\t</div>\\n\\t\\t<input type=\"checkbox\" id=\"vector-toc-collapsed-checkbox\" class=\"mw-checkbox-hack-checkbox\">\\n\\t\\t<div class=\"mw-table-of-contents-container\">\\n\\t\\t\\t<div class=\"vector-sticky-toc-container mw-sticky-header-element\">\\n\\t\\t\\t\\t<nav id=\"mw-panel-toc\" class=\"sidebar-toc\" role=\"navigation\" aria-labelledby=\"sidebar-toc-label\" data-event-name=\"ui.sidebar-toc\">\\n\\t\\t\\t<div id=\"sidebar-toc-label\" class=\"sidebar-toc-header\">\\n\\t\\t\\t\\t<p class=\"sidebar-toc-title\">\\n\\t\\t\\t\\tConteúdo\\n\\t\\t\\t\\t<button class=\"vector-toc-uncollapse-button\">mover para a barra lateral</button>\\n\\t\\t\\t\\t<button class=\"vector-toc-collapse-button\">ocultar</button>\\n\\t\\t\\t\\t</p>\\n\\t\\t\\t</div>\\n\\t\\t\\t<ul class=\"sidebar-toc-contents\" id=\"mw-panel-toc-list\">\\n\\t\\t\\t\\t<li id=\"toc-mw-content-text\"\\n\\t\\t\\t\\t\\tclass=\"sidebar-toc-list-item sidebar-toc-level-1\">\\n\\t\\t\\t\\t\\t<a href=\"#top-page\" class=\"sidebar-toc-link\">\\n\\t\\t\\t\\t\\t\\t<div class=\"sidebar-toc-text\">Início</div>\\n\\t\\t\\t\\t\\t</a>\\n\\t\\t\\t\\t</li>\\n\\t\\t\\t\\t<li id=\"toc-Classificação\"\\n\\t\\t\\tclass=\"sidebar-toc-list-item sidebar-toc-level-1 sidebar-toc-list-item-expanded\">\\n\\t\\t\\t<a class=\"sidebar-toc-link\" href=\"#Classificação\">\\n\\t\\t\\t\\t<div class=\"sidebar-toc-text\">\\n\\t\\t\\t\\t<span class=\"sidebar-toc-numb\">1</span>Classificação</div>\\n\\t\\t\\t</a>\\n\\t\\t\\t\\n\\t\\t\\t<ul id=\"toc-Classificação-sublist\" class=\"sidebar-toc-list\">\\n\\t\\t\\t</ul>\\n\\t\\t</li>\\n\\t\\t<li id=\"toc-Por_região\"\\n\\t\\t\\tclass=\"sidebar-toc-list-item sidebar-toc-level-1 sidebar-toc-list-item-expanded\">\\n\\t\\t\\t<a class=\"sidebar-toc-link\" href=\"#Por_região\">\\n\\t\\t\\t\\t<div class=\"sidebar-toc-text\">\\n\\t\\t\\t\\t<span class=\"sidebar-toc-numb\">2</span>Por região</div>\\n\\t\\t\\t</a>\\n\\t\\t\\t\\n\\t\\t\\t<ul id=\"toc-Por_região-sublist\" class=\"sidebar-toc-list\">\\n\\t\\t\\t</ul>\\n\\t\\t</li>\\n\\t\\t<li id=\"toc-Ver_também\"\\n\\t\\t\\tclass=\"sidebar-toc-list-item sidebar-toc-level-1 sidebar-toc-list-item-expanded\">\\n\\t\\t\\t<a class=\"sidebar-toc-link\" href=\"#Ver_também\">\\n\\t\\t\\t\\t<div class=\"sidebar-toc-text\">\\n\\t\\t\\t\\t<span class=\"sidebar-toc-numb\">3</span>Ver também</div>\\n\\t\\t\\t</a>\\n\\t\\t\\t\\n\\t\\t\\t<ul id=\"toc-Ver_também-sublist\" class=\"sidebar-toc-list\">\\n\\t\\t\\t</ul>\\n\\t\\t</li>\\n\\t\\t<li id=\"toc-Referências\"\\n\\t\\t\\tclass=\"sidebar-toc-list-item sidebar-toc-level-1 sidebar-toc-list-item-expanded\">\\n\\t\\t\\t<a class=\"sidebar-toc-link\" href=\"#Referências\">\\n\\t\\t\\t\\t<div class=\"sidebar-toc-text\">\\n\\t\\t\\t\\t<span class=\"sidebar-toc-numb\">4</span>Referências</div>\\n\\t\\t\\t</a>\\n\\t\\t\\t\\n\\t\\t\\t<ul id=\"toc-Referências-sublist\" class=\"sidebar-toc-list\">\\n\\t\\t\\t</ul>\\n\\t\\t</li>\\n\\t\\t<li id=\"toc-Ligações_externas\"\\n\\t\\t\\tclass=\"sidebar-toc-list-item sidebar-toc-level-1 sidebar-toc-list-item-expanded\">\\n\\t\\t\\t<a class=\"sidebar-toc-link\" href=\"#Ligações_externas\">\\n\\t\\t\\t\\t<div class=\"sidebar-toc-text\">\\n\\t\\t\\t\\t<span class=\"sidebar-toc-numb\">5</span>Ligações externas</div>\\n\\t\\t\\t</a>\\n\\t\\t\\t\\n\\t\\t\\t<ul id=\"toc-Ligações_externas-sublist\" class=\"sidebar-toc-list\">\\n\\t\\t\\t</ul>\\n\\t\\t</li>\\n\\t</ul>\\n\\t\\t</nav>\\n\\t</div>\\n\\t\\t</div>\\n\\t\\t<div class=\"mw-content-container\">\\n\\t\\t\\t<main id=\"content\" class=\"mw-body\" role=\"main\">\\n\\t\\t\\t\\t<a id=\"top\"></a>\\n\\t\\t\\t\\t<header class=\"mw-body-header vector-page-titlebar\">\\n\\t\\t\\t\\t\\t<label\\n\\t\\t\\t\\t\\t\\tid=\"vector-toc-collapsed-button\"\\n\\t\\t\\t\\t\\t\\tclass=\"mw-ui-button mw-ui-quiet mw-ui-icon mw-ui-icon-element mw-ui-icon-wikimedia-listBullet mw-checkbox-hack-button\"\\n\\t\\t\\t\\t\\t\\tfor=\"vector-toc-collapsed-checkbox\"\\n\\t\\t\\t\\t\\t\\trole=\"button\"\\n\\t\\t\\t\\t\\t\\taria-controls=\"toc-toggle-list\"\\n\\t\\t\\t\\t\\t\\tdata-event-name=\"vector.toc-toggle-list\"\\n\\t\\t\\t\\t\\t\\ttabindex=\"0\"\\n\\t\\t\\t\\t\\t\\ttitle=\"Índice\">\\n\\t\\t\\t\\t\\t\\tAlternar o índice\\n\\t\\t\\t\\t\\t</label>\\n\\t\\t\\t\\t\\n\\t\\t\\t\\t    <h1 id=\"firstHeading\" class=\"firstHeading mw-first-heading\"><span class=\"mw-page-title-main\">Lista de unidades federativas do Brasil por área</span></h1>\\n\\t\\t\\t\\t\\n\\t\\t\\t\\t            \\n            \\n            <div id=\"p-lang-btn\" class=\"vector-menu mw-portlet mw-portlet-lang vector-menu-dropdown\"  >\\n            \\t<input type=\"checkbox\"\\n            \\t\\tid=\"p-lang-btn-checkbox\"\\n            \\t\\trole=\"button\"\\n            \\t\\taria-haspopup=\"true\"\\n            \\t\\tdata-event-name=\"ui.dropdown-p-lang-btn\"\\n            \\t\\tclass=\"vector-menu-checkbox  mw-interlanguage-selector \"\\n            \\t\\taria-label=\"Ir para um artigo noutra língua. Disponível em 8 línguas\"\\n            \\t\\t\\n            \\t/>\\n            \\t<label\\n            \\t\\tid=\"p-lang-btn-label\"\\n            \\t\\tfor=\"p-lang-btn-checkbox\"\\n            \\t\\tclass=\"vector-menu-heading mw-ui-progressive mw-portlet-lang-heading-8 mw-ui-button mw-ui-quiet\"\\n            \\t\\t\\n            \\t>\\n            \\t\\t<span class=\"mw-ui-icon mw-ui-icon-language-progressive mw-ui-icon-wikimedia-language-progressive\"></span><span class=\"vector-menu-heading-label\">8 línguas</span>\\n            \\t</label>\\n            \\t<div class=\"vector-menu-content\">\\n            \\t\\t\\n            \\t\\t<ul class=\"vector-menu-content-list\"><li class=\"interlanguage-link interwiki-ar mw-list-item\"><a href=\"https://ar.wikipedia.org/wiki/%D9%82%D8%A7%D8%A6%D9%85%D8%A9_%D9%88%D9%84%D8%A7%D9%8A%D8%A7%D8%AA_%D8%A7%D9%84%D8%A8%D8%B1%D8%A7%D8%B2%D9%8A%D9%84_%D8%AD%D8%B3%D8%A8_%D8%A7%D9%84%D9%85%D8%B3%D8%A7%D8%AD%D8%A9\" title=\"قائمة ولايات البرازيل حسب المساحة — árabe\" lang=\"ar\" hreflang=\"ar\" class=\"interlanguage-link-target\"><span>العربية</span></a></li><li class=\"interlanguage-link interwiki-bn mw-list-item\"><a href=\"https://bn.wikipedia.org/wiki/%E0%A6%86%E0%A6%AF%E0%A6%BC%E0%A6%A4%E0%A6%A8_%E0%A6%85%E0%A6%A8%E0%A7%81%E0%A6%AF%E0%A6%BE%E0%A6%AF%E0%A6%BC%E0%A7%80_%E0%A6%AC%E0%A7%8D%E0%A6%B0%E0%A6%BE%E0%A6%9C%E0%A6%BF%E0%A6%B2%E0%A7%80%E0%A6%AF%E0%A6%BC_%E0%A6%B0%E0%A6%BE%E0%A6%9C%E0%A7%8D%E0%A6%AF%E0%A6%97%E0%A7%81%E0%A6%B2%E0%A6%BF%E0%A6%B0_%E0%A6%A4%E0%A6%BE%E0%A6%B2%E0%A6%BF%E0%A6%95%E0%A6%BE\" title=\"আয়তন অনুযায়ী ব্রাজিলীয় রাজ্যগুলির তালিকা — bengalês\" lang=\"bn\" hreflang=\"bn\" class=\"interlanguage-link-target\"><span>বাংলা</span></a></li><li class=\"interlanguage-link interwiki-ca mw-list-item\"><a href=\"https://ca.wikipedia.org/wiki/Estats_del_Brasil_per_superf%C3%ADcie,_poblaci%C3%B3_i_densitat\" title=\"Estats del Brasil per superfície, població i densitat — catalão\" lang=\"ca\" hreflang=\"ca\" class=\"interlanguage-link-target\"><span>Català</span></a></li><li class=\"interlanguage-link interwiki-en mw-list-item\"><a href=\"https://en.wikipedia.org/wiki/List_of_Brazilian_states_by_area\" title=\"List of Brazilian states by area — inglês\" lang=\"en\" hreflang=\"en\" class=\"interlanguage-link-target\"><span>English</span></a></li><li class=\"interlanguage-link interwiki-es mw-list-item\"><a href=\"https://es.wikipedia.org/wiki/Anexo:Estados_de_Brasil_por_superficie,_poblaci%C3%B3n_y_densidad\" title=\"Anexo:Estados de Brasil por superficie, población y densidad — espanhol\" lang=\"es\" hreflang=\"es\" class=\"interlanguage-link-target\"><span>Español</span></a></li><li class=\"interlanguage-link interwiki-uk mw-list-item\"><a href=\"https://uk.wikipedia.org/wiki/%D0%A1%D0%BF%D0%B8%D1%81%D0%BE%D0%BA_%D1%88%D1%82%D0%B0%D1%82%D1%96%D0%B2_%D0%91%D1%80%D0%B0%D0%B7%D0%B8%D0%BB%D1%96%D1%97_%D0%B7%D0%B0_%D0%BF%D0%BB%D0%BE%D1%89%D0%B5%D1%8E\" title=\"Список штатів Бразилії за площею — ucraniano\" lang=\"uk\" hreflang=\"uk\" class=\"interlanguage-link-target\"><span>Українська</span></a></li><li class=\"interlanguage-link interwiki-ur mw-list-item\"><a href=\"https://ur.wikipedia.org/wiki/%D9%81%DB%81%D8%B1%D8%B3%D8%AA_%D8%A8%D8%B1%D8%A7%D8%B2%DB%8C%D9%84_%DA%A9%DB%8C_%D8%B1%DB%8C%D8%A7%D8%B3%D8%AA%DB%8C%DA%BA_%D8%A8%D9%84%D8%AD%D8%A7%D8%B8_%D8%B1%D9%82%D8%A8%DB%81\" title=\"فہرست برازیل کی ریاستیں بلحاظ رقبہ — urdu\" lang=\"ur\" hreflang=\"ur\" class=\"interlanguage-link-target\"><span>اردو</span></a></li><li class=\"interlanguage-link interwiki-zh badge-Q17506997 badge-featuredlist mw-list-item\" title=\"lista destacada\"><a href=\"https://zh.wikipedia.org/wiki/%E5%B7%B4%E8%A5%BF%E5%90%84%E5%B7%9E%E9%9D%A2%E7%A9%8D%E5%88%97%E8%A1%A8\" title=\"巴西各州面積列表 — chinês\" lang=\"zh\" hreflang=\"zh\" class=\"interlanguage-link-target\"><span>中文</span></a></li></ul>\\n            \\t\\t<div class=\"after-portlet after-portlet-lang\"><span class=\"wb-langlinks-edit wb-langlinks-link\"><a href=\"https://www.wikidata.org/wiki/Special:EntityPage/Q864869#sitelinks-wikipedia\" title=\"Editar hiperligações interlínguas\" class=\"wbc-editpage\">Editar hiperligações</a></span></div>\\n            \\t</div>\\n            </div>\\n\\n\\t\\t\\t\\t</header>\\n\\t\\t\\t\\t<nav class=\"vector-article-toolbar\" aria-label=\"Ferramentas\"\\n\\t\\t\\t\\t\\trole=\"navigation\">\\n\\t\\t\\t\\t\\t<div class=\"mw-article-toolbar-container\">\\n\\t\\t\\t\\t\\t\\t<div id=\"left-navigation\">\\n\\t\\t\\t\\t\\t\\t\\t\\n\\n<div id=\"p-associated-pages\" class=\"vector-menu mw-portlet mw-portlet-associated-pages vector-menu-tabs\"  >\\n\\t<div class=\"vector-menu-content\">\\n\\t\\t\\n\\t\\t<ul class=\"vector-menu-content-list\"><li id=\"ca-nstab-main\" class=\"selected vector-tab-noicon mw-list-item\"><a href=\"/wiki/Lista_de_unidades_federativas_do_Brasil_por_%C3%A1rea\" title=\"Ver a página de conteúdo [c]\" accesskey=\"c\"><span>Artigo</span></a></li><li id=\"ca-talk\" class=\"vector-tab-noicon mw-list-item\"><a href=\"/wiki/Discuss%C3%A3o:Lista_de_unidades_federativas_do_Brasil_por_%C3%A1rea\" rel=\"discussion\" title=\"Discussão sobre o conteúdo da página [t]\" accesskey=\"t\"><span>Discussão</span></a></li></ul>\\n\\t\\t\\n\\t</div>\\n</div>\\n\\n\\t\\t\\t\\t\\t\\t\\t\\n\\n<div id=\"p-variants\" class=\"vector-menu mw-portlet mw-portlet-variants emptyPortlet vector-menu-dropdown\"  >\\n\\t<input type=\"checkbox\"\\n\\t\\tid=\"p-variants-checkbox\"\\n\\t\\trole=\"button\"\\n\\t\\taria-haspopup=\"true\"\\n\\t\\tdata-event-name=\"ui.dropdown-p-variants\"\\n\\t\\tclass=\"vector-menu-checkbox\"\\n\\t\\taria-label=\"Mudar a variante da língua\"\\n\\t\\t\\n\\t/>\\n\\t<label\\n\\t\\tid=\"p-variants-label\"\\n\\t\\tfor=\"p-variants-checkbox\"\\n\\t\\tclass=\"vector-menu-heading \"\\n\\t\\t\\n\\t>\\n\\t\\t<span class=\"vector-menu-heading-label\">português</span>\\n\\t</label>\\n\\t<div class=\"vector-menu-content\">\\n\\t\\t\\n\\t\\t<ul class=\"vector-menu-content-list\"></ul>\\n\\t\\t\\n\\t</div>\\n</div>\\n\\n\\t\\t\\t\\t\\t\\t</div>\\n\\t\\t\\t\\t\\t\\t<div id=\"right-navigation\" class=\"vector-collapsible\">\\n\\t\\t\\t\\t\\t\\t\\t\\n\\n<div id=\"p-views\" class=\"vector-menu mw-portlet mw-portlet-views vector-menu-tabs\"  >\\n\\t<div class=\"vector-menu-content\">\\n\\t\\t\\n\\t\\t<ul class=\"vector-menu-content-list\"><li id=\"ca-view\" class=\"selected vector-tab-noicon mw-list-item\"><a href=\"/wiki/Lista_de_unidades_federativas_do_Brasil_por_%C3%A1rea\"><span>Ler</span></a></li><li id=\"ca-ve-edit\" class=\"vector-tab-noicon mw-list-item\"><a href=\"/w/index.php?title=Lista_de_unidades_federativas_do_Brasil_por_%C3%A1rea&amp;veaction=edit\" title=\"Editar esta página [v]\" accesskey=\"v\"><span>Editar</span></a></li><li id=\"ca-edit\" class=\"collapsible vector-tab-noicon mw-list-item\"><a href=\"/w/index.php?title=Lista_de_unidades_federativas_do_Brasil_por_%C3%A1rea&amp;action=edit\" title=\"Editar esta página [e]\" accesskey=\"e\"><span>Editar código-fonte</span></a></li><li id=\"ca-history\" class=\"vector-tab-noicon mw-list-item\"><a href=\"/w/index.php?title=Lista_de_unidades_federativas_do_Brasil_por_%C3%A1rea&amp;action=history\" title=\"Edições anteriores desta página. [h]\" accesskey=\"h\"><span>Ver histórico</span></a></li></ul>\\n\\t\\t\\n\\t</div>\\n</div>\\n\\n\\t\\t\\t\\t\\t\\t\\t\\n\\n<div id=\"p-cactions\" class=\"vector-menu mw-portlet mw-portlet-cactions emptyPortlet vector-menu-dropdown vector-has-collapsible-items\"  title=\"Mais opções\" >\\n\\t<input type=\"checkbox\"\\n\\t\\tid=\"p-cactions-checkbox\"\\n\\t\\trole=\"button\"\\n\\t\\taria-haspopup=\"true\"\\n\\t\\tdata-event-name=\"ui.dropdown-p-cactions\"\\n\\t\\tclass=\"vector-menu-checkbox\"\\n\\t\\t\\n\\t\\t\\n\\t/>\\n\\t<label\\n\\t\\tid=\"p-cactions-label\"\\n\\t\\tfor=\"p-cactions-checkbox\"\\n\\t\\tclass=\"vector-menu-heading \"\\n\\t\\t\\n\\t>\\n\\t\\t<span class=\"vector-menu-heading-label\">Mais</span>\\n\\t</label>\\n\\t<div class=\"vector-menu-content\">\\n\\t\\t\\n\\t\\t<ul class=\"vector-menu-content-list\"><li id=\"ca-more-view\" class=\"selected vector-more-collapsible-item mw-list-item\"><a href=\"/wiki/Lista_de_unidades_federativas_do_Brasil_por_%C3%A1rea\"><span>Ler</span></a></li><li id=\"ca-more-ve-edit\" class=\"vector-more-collapsible-item mw-list-item\"><a href=\"/w/index.php?title=Lista_de_unidades_federativas_do_Brasil_por_%C3%A1rea&amp;veaction=edit\"><span>Editar</span></a></li><li id=\"ca-more-edit\" class=\"collapsible vector-more-collapsible-item mw-list-item\"><a href=\"/w/index.php?title=Lista_de_unidades_federativas_do_Brasil_por_%C3%A1rea&amp;action=edit\"><span>Editar código-fonte</span></a></li><li id=\"ca-more-history\" class=\"vector-more-collapsible-item mw-list-item\"><a href=\"/w/index.php?title=Lista_de_unidades_federativas_do_Brasil_por_%C3%A1rea&amp;action=history\"><span>Ver histórico</span></a></li></ul>\\n\\t\\t\\n\\t</div>\\n</div>\\n\\n\\t\\t\\t\\t\\t\\t</div>\\n\\t\\t\\t\\t\\t</div>\\n\\t\\t\\t\\t</nav>\\n\\t\\t\\t\\t<div id=\"bodyContent\" class=\"vector-body\" data-mw-ve-target-container>\\n\\t\\t\\t\\t\\t<div class=\"mw-body-subheader\">\\n\\t\\t\\t\\t\\t        <div class=\"mw-indicators\">\\n        <div id=\"mw-indicator-featured-star\" class=\"mw-indicator\"><div class=\"mw-parser-output\"><a href=\"/wiki/Wikip%C3%A9dia:Listas_destacadas\" title=\"Esta é uma lista destacada. Clique aqui para mais informações.\"><img alt=\"Esta é uma lista destacada. Clique aqui para mais informações.\" src=\"//upload.wikimedia.org/wikipedia/commons/thumb/b/bc/Cscr-featured1.png/20px-Cscr-featured1.png\" decoding=\"async\" width=\"20\" height=\"19\" srcset=\"//upload.wikimedia.org/wikipedia/commons/thumb/b/bc/Cscr-featured1.png/30px-Cscr-featured1.png 1.5x, //upload.wikimedia.org/wikipedia/commons/thumb/b/bc/Cscr-featured1.png/40px-Cscr-featured1.png 2x\" data-file-width=\"462\" data-file-height=\"438\" /></a></div></div>\\n        </div>\\n\\n\\t\\t\\t\\t\\t    <div id=\"siteSub\" class=\"noprint\">Origem: Wikipédia, a enciclopédia livre.</div>\\n\\t\\t\\t\\t\\t</div>\\n\\t\\t\\t\\t\\t\\n\\t\\t\\t\\t\\t\\n\\t\\t\\t\\t\\t\\n\\t\\t\\t\\t\\t<div id=\"mw-content-text\" class=\"mw-body-content mw-content-ltr\" lang=\"pt\" dir=\"ltr\"><div class=\"mw-parser-output\"><div class=\"thumb tright\"><div class=\"thumbinner\" style=\"width:352px;\"><a href=\"/wiki/Ficheiro:Brazilian_States_by_Area.svg\" class=\"image\"><img alt=\"\" src=\"//upload.wikimedia.org/wikipedia/commons/thumb/2/28/Brazilian_States_by_Area.svg/350px-Brazilian_States_by_Area.svg.png\" decoding=\"async\" width=\"350\" height=\"308\" class=\"thumbimage\" srcset=\"//upload.wikimedia.org/wikipedia/commons/thumb/2/28/Brazilian_States_by_Area.svg/525px-Brazilian_States_by_Area.svg.png 1.5x, //upload.wikimedia.org/wikipedia/commons/thumb/2/28/Brazilian_States_by_Area.svg/700px-Brazilian_States_by_Area.svg.png 2x\" data-file-width=\"780\" data-file-height=\"687\" /></a>  <div class=\"thumbcaption\"><div class=\"magnify\"><a href=\"/wiki/Ficheiro:Brazilian_States_by_Area.svg\" class=\"internal\" title=\"Ampliar\"></a></div>Mapa brasileiro mostrando suas unidades federativas classificadas por área</div></div></div>\\n<p>Aqui são listadas as <b><a href=\"/wiki/%C3%81rea\" title=\"Área\">áreas</a> das <a href=\"/wiki/Unidades_federativas_do_Brasil\" title=\"Unidades federativas do Brasil\">unidades federativas do Brasil</a></b>. Os valores foram divulgados pelo <a href=\"/wiki/Instituto_Brasileiro_de_Geografia_e_Estat%C3%ADstica\" title=\"Instituto Brasileiro de Geografia e Estatística\">Instituto Brasileiro de Geografia e Estatística</a> (IBGE), através da Portaria nº 177, de 15 de maio de 2020, publicada no <a href=\"/wiki/Di%C3%A1rio_Oficial_da_Uni%C3%A3o\" title=\"Diário Oficial da União\">Diário Oficial da União</a> (DOU) quatro dias depois, em 19 de maio. A referida portaria atualizou os valores de áreas territoriais do <a href=\"/wiki/Brasil\" title=\"Brasil\">Brasil</a>, dos estados e dos 5&#160;568 <a href=\"/wiki/Munic%C3%ADpios_do_Brasil\" class=\"mw-redirect\" title=\"Municípios do Brasil\">municípios</a>, tendo como base o quadro territorial vigente no país no dia 30 de abril de 2019.<sup id=\"cite_ref-Área-IBGE_1-0\" class=\"reference\"><a href=\"#cite_note-Área-IBGE-1\"><span>[</span>1<span>]</span></a></sup>\\n</p><p>As unidades federativas com maior área territorial são o <a href=\"/wiki/Amazonas\" title=\"Amazonas\">Amazonas</a>, com 1&#160;559&#160;167,889&#160;km², e o <a href=\"/wiki/Par%C3%A1\" title=\"Pará\">Pará</a>, com 1&#160;245&#160;870,798&#160;km², ambas na <a href=\"/wiki/Regi%C3%A3o_Norte_do_Brasil\" title=\"Região Norte do Brasil\">Região Norte</a>, ocupando quase 1/3 do território nacional, seguido por <a href=\"/wiki/Mato_Grosso\" title=\"Mato Grosso\">Mato Grosso</a>, no <a href=\"/wiki/Regi%C3%A3o_Centro-Oeste_do_Brasil\" title=\"Região Centro-Oeste do Brasil\">Centro-Oeste</a> (903&#160;207,019&#160;km²). A menor pertencia ao <a href=\"/wiki/Distrito_Federal_(Brasil)\" title=\"Distrito Federal (Brasil)\">Distrito Federal</a>, também situado no Centro-Oeste (5&#160;760,783&#160;km²), seguido por <a href=\"/wiki/Sergipe\" title=\"Sergipe\">Sergipe</a> (21&#160;925,424&#160;km²) e <a href=\"/wiki/Alagoas\" title=\"Alagoas\">Alagoas</a> (27&#160;843,295&#160;km²), ambas no <a href=\"/wiki/Regi%C3%A3o_Nordeste_do_Brasil\" title=\"Região Nordeste do Brasil\">Nordeste</a>. A área total do Brasil é de 8&#160;510&#160;295,914&#160;km², o <a href=\"/wiki/Lista_de_pa%C3%ADses_e_territ%C3%B3rios_por_%C3%A1rea\" title=\"Lista de países e territórios por área\">quinto maior país do mundo em extensão territorial</a>.<sup id=\"cite_ref-Área-IBGE_1-1\" class=\"reference\"><a href=\"#cite_note-Área-IBGE-1\"><span>[</span>1<span>]</span></a></sup>\\n</p>\\n<meta property=\"mw:PageProp/toc\" />\\n<h2><span id=\"Classifica.C3.A7.C3.A3o\"></span><span class=\"mw-headline\" id=\"Classificação\">Classificação</span><span class=\"mw-editsection\"><span class=\"mw-editsection-bracket\">[</span><a href=\"/w/index.php?title=Lista_de_unidades_federativas_do_Brasil_por_%C3%A1rea&amp;veaction=edit&amp;section=1\" class=\"mw-editsection-visualeditor\" title=\"Editar secção: Classificação\">editar</a><span class=\"mw-editsection-divider\"> | </span><a href=\"/w/index.php?title=Lista_de_unidades_federativas_do_Brasil_por_%C3%A1rea&amp;action=edit&amp;section=1\" title=\"Editar secção: Classificação\">editar código-fonte</a><span class=\"mw-editsection-bracket\">]</span></span></h2>\\n<table class=\"wikitable sortable\" style=\"text-align:center;\">\\n\\n<tbody><tr>\\n<th>Posição\\n</th>\\n<th width=\"200px\">Unidade federativa\\n</th>\\n<th width=\"100px\">Área (km²)\\n</th>\\n<th width=\"60px\">% do<br />Brasil\\n</th>\\n<th width=\"180px\">País comparável\\n</th></tr>\\n<tr>\\n<td>1</td>\\n<td style=\"text-align:left\"><img alt=\"\" src=\"//upload.wikimedia.org/wikipedia/commons/thumb/6/6b/Bandeira_do_Amazonas.svg/20px-Bandeira_do_Amazonas.svg.png\" decoding=\"async\" width=\"20\" height=\"14\" class=\"thumbborder\" srcset=\"//upload.wikimedia.org/wikipedia/commons/thumb/6/6b/Bandeira_do_Amazonas.svg/30px-Bandeira_do_Amazonas.svg.png 1.5x, //upload.wikimedia.org/wikipedia/commons/thumb/6/6b/Bandeira_do_Amazonas.svg/40px-Bandeira_do_Amazonas.svg.png 2x\" data-file-width=\"700\" data-file-height=\"500\" />&#160;<a href=\"/wiki/Amazonas\" title=\"Amazonas\">Amazonas</a></td>\\n<td>1&#160;559&#160;167,889</td>\\n<td>18,321</td>\\n<td style=\"text-align:left\"><span class=\"flagicon\"><img alt=\"\" src=\"//upload.wikimedia.org/wikipedia/commons/thumb/4/4c/Flag_of_Mongolia.svg/23px-Flag_of_Mongolia.svg.png\" decoding=\"async\" width=\"23\" height=\"12\" class=\"thumbborder\" srcset=\"//upload.wikimedia.org/wikipedia/commons/thumb/4/4c/Flag_of_Mongolia.svg/35px-Flag_of_Mongolia.svg.png 1.5x, //upload.wikimedia.org/wikipedia/commons/thumb/4/4c/Flag_of_Mongolia.svg/46px-Flag_of_Mongolia.svg.png 2x\" data-file-width=\"1200\" data-file-height=\"600\" />&#160;</span><a href=\"/wiki/Mong%C3%B3lia\" title=\"Mongólia\">Mongólia</a>\\n</td></tr>\\n<tr>\\n<td>2</td>\\n<td style=\"text-align:left\"><a href=\"/wiki/Par%C3%A1\" title=\"Pará\"><img alt=\"Pará\" src=\"//upload.wikimedia.org/wikipedia/commons/thumb/0/02/Bandeira_do_Par%C3%A1.svg/20px-Bandeira_do_Par%C3%A1.svg.png\" decoding=\"async\" width=\"20\" height=\"13\" class=\"thumbborder\" srcset=\"//upload.wikimedia.org/wikipedia/commons/thumb/0/02/Bandeira_do_Par%C3%A1.svg/30px-Bandeira_do_Par%C3%A1.svg.png 1.5x, //upload.wikimedia.org/wikipedia/commons/thumb/0/02/Bandeira_do_Par%C3%A1.svg/40px-Bandeira_do_Par%C3%A1.svg.png 2x\" data-file-width=\"900\" data-file-height=\"600\" /></a>&#160;<a href=\"/wiki/Par%C3%A1\" title=\"Pará\">Pará</a></td>\\n<td>1&#160;245&#160;870,798</td>\\n<td>14,64</td>\\n<td style=\"text-align:left\"><span class=\"flagicon\"><img alt=\"\" src=\"//upload.wikimedia.org/wikipedia/commons/thumb/9/9d/Flag_of_Angola.svg/23px-Flag_of_Angola.svg.png\" decoding=\"async\" width=\"23\" height=\"15\" class=\"thumbborder\" srcset=\"//upload.wikimedia.org/wikipedia/commons/thumb/9/9d/Flag_of_Angola.svg/35px-Flag_of_Angola.svg.png 1.5x, //upload.wikimedia.org/wikipedia/commons/thumb/9/9d/Flag_of_Angola.svg/45px-Flag_of_Angola.svg.png 2x\" data-file-width=\"900\" data-file-height=\"600\" />&#160;</span><a href=\"/wiki/Angola\" title=\"Angola\">Angola</a>\\n</td></tr>\\n<tr>\\n<td>3</td>\\n<td style=\"text-align:left\"><img alt=\"\" src=\"//upload.wikimedia.org/wikipedia/commons/thumb/0/0b/Bandeira_de_Mato_Grosso.svg/20px-Bandeira_de_Mato_Grosso.svg.png\" decoding=\"async\" width=\"20\" height=\"14\" class=\"thumbborder\" srcset=\"//upload.wikimedia.org/wikipedia/commons/thumb/0/0b/Bandeira_de_Mato_Grosso.svg/30px-Bandeira_de_Mato_Grosso.svg.png 1.5x, //upload.wikimedia.org/wikipedia/commons/thumb/0/0b/Bandeira_de_Mato_Grosso.svg/40px-Bandeira_de_Mato_Grosso.svg.png 2x\" data-file-width=\"2000\" data-file-height=\"1400\" />&#160;<a href=\"/wiki/Mato_Grosso\" title=\"Mato Grosso\">Mato Grosso</a></td>\\n<td>903&#160;207,019</td>\\n<td>10,613</td>\\n<td style=\"text-align:left\"><span class=\"flagicon\"><img alt=\"\" src=\"//upload.wikimedia.org/wikipedia/commons/thumb/0/06/Flag_of_Venezuela.svg/23px-Flag_of_Venezuela.svg.png\" decoding=\"async\" width=\"23\" height=\"15\" class=\"thumbborder\" srcset=\"//upload.wikimedia.org/wikipedia/commons/thumb/0/06/Flag_of_Venezuela.svg/35px-Flag_of_Venezuela.svg.png 1.5x, //upload.wikimedia.org/wikipedia/commons/thumb/0/06/Flag_of_Venezuela.svg/45px-Flag_of_Venezuela.svg.png 2x\" data-file-width=\"900\" data-file-height=\"600\" />&#160;</span><a href=\"/wiki/Venezuela\" title=\"Venezuela\">Venezuela</a>\\n</td></tr>\\n<tr>\\n<td>4</td>\\n<td style=\"text-align:left\"><img alt=\"\" src=\"//upload.wikimedia.org/wikipedia/commons/thumb/f/f4/Bandeira_de_Minas_Gerais.svg/20px-Bandeira_de_Minas_Gerais.svg.png\" decoding=\"async\" width=\"20\" height=\"14\" class=\"thumbborder\" srcset=\"//upload.wikimedia.org/wikipedia/commons/thumb/f/f4/Bandeira_de_Minas_Gerais.svg/30px-Bandeira_de_Minas_Gerais.svg.png 1.5x, //upload.wikimedia.org/wikipedia/commons/thumb/f/f4/Bandeira_de_Minas_Gerais.svg/40px-Bandeira_de_Minas_Gerais.svg.png 2x\" data-file-width=\"600\" data-file-height=\"420\" />&#160;<a href=\"/wiki/Minas_Gerais\" title=\"Minas Gerais\">Minas Gerais</a></td>\\n<td>586&#160;521,123</td>\\n<td>6,892</td>\\n<td style=\"text-align:left\"><span class=\"flagicon\"><img alt=\"\" src=\"//upload.wikimedia.org/wikipedia/commons/thumb/b/bc/Flag_of_Madagascar.svg/23px-Flag_of_Madagascar.svg.png\" decoding=\"async\" width=\"23\" height=\"15\" class=\"thumbborder\" srcset=\"//upload.wikimedia.org/wikipedia/commons/thumb/b/bc/Flag_of_Madagascar.svg/35px-Flag_of_Madagascar.svg.png 1.5x, //upload.wikimedia.org/wikipedia/commons/thumb/b/bc/Flag_of_Madagascar.svg/45px-Flag_of_Madagascar.svg.png 2x\" data-file-width=\"900\" data-file-height=\"600\" />&#160;</span><a href=\"/wiki/Madagascar\" class=\"mw-redirect\" title=\"Madagascar\">Madagascar</a>\\n</td></tr>\\n<tr>\\n<td>5</td>\\n<td style=\"text-align:left\"><a href=\"/wiki/Bahia\" title=\"Bahia\"><img alt=\"Bahia\" src=\"//upload.wikimedia.org/wikipedia/commons/thumb/2/28/Bandeira_da_Bahia.svg/20px-Bandeira_da_Bahia.svg.png\" decoding=\"async\" width=\"20\" height=\"13\" class=\"thumbborder\" srcset=\"//upload.wikimedia.org/wikipedia/commons/thumb/2/28/Bandeira_da_Bahia.svg/30px-Bandeira_da_Bahia.svg.png 1.5x, //upload.wikimedia.org/wikipedia/commons/thumb/2/28/Bandeira_da_Bahia.svg/40px-Bandeira_da_Bahia.svg.png 2x\" data-file-width=\"1500\" data-file-height=\"1000\" /></a>&#160;<a href=\"/wiki/Bahia\" title=\"Bahia\">Bahia</a></td>\\n<td>564&#160;760,427</td>\\n<td>6,636</td>\\n<td style=\"text-align:left\"><span class=\"flagicon\"><img alt=\"\" src=\"//upload.wikimedia.org/wikipedia/commons/thumb/c/c3/Flag_of_France.svg/23px-Flag_of_France.svg.png\" decoding=\"async\" width=\"23\" height=\"15\" class=\"thumbborder\" srcset=\"//upload.wikimedia.org/wikipedia/commons/thumb/c/c3/Flag_of_France.svg/35px-Flag_of_France.svg.png 1.5x, //upload.wikimedia.org/wikipedia/commons/thumb/c/c3/Flag_of_France.svg/45px-Flag_of_France.svg.png 2x\" data-file-width=\"900\" data-file-height=\"600\" />&#160;</span><a href=\"/wiki/Fran%C3%A7a\" title=\"França\">França</a>\\n</td></tr>\\n<tr>\\n<td>6</td>\\n<td style=\"text-align:left\"><img alt=\"\" src=\"//upload.wikimedia.org/wikipedia/commons/thumb/6/64/Bandeira_de_Mato_Grosso_do_Sul.svg/20px-Bandeira_de_Mato_Grosso_do_Sul.svg.png\" decoding=\"async\" width=\"20\" height=\"14\" class=\"thumbborder\" srcset=\"//upload.wikimedia.org/wikipedia/commons/thumb/6/64/Bandeira_de_Mato_Grosso_do_Sul.svg/30px-Bandeira_de_Mato_Grosso_do_Sul.svg.png 1.5x, //upload.wikimedia.org/wikipedia/commons/thumb/6/64/Bandeira_de_Mato_Grosso_do_Sul.svg/40px-Bandeira_de_Mato_Grosso_do_Sul.svg.png 2x\" data-file-width=\"1000\" data-file-height=\"700\" />&#160;<a href=\"/wiki/Mato_Grosso_do_Sul\" title=\"Mato Grosso do Sul\">Mato Grosso do Sul</a></td>\\n<td>357&#160;145,534</td>\\n<td>4,197</td>\\n<td style=\"text-align:left\"><span class=\"flagicon\"><img alt=\"\" src=\"//upload.wikimedia.org/wikipedia/commons/thumb/b/ba/Flag_of_Germany.svg/23px-Flag_of_Germany.svg.png\" decoding=\"async\" width=\"23\" height=\"14\" class=\"thumbborder\" srcset=\"//upload.wikimedia.org/wikipedia/commons/thumb/b/ba/Flag_of_Germany.svg/35px-Flag_of_Germany.svg.png 1.5x, //upload.wikimedia.org/wikipedia/commons/thumb/b/ba/Flag_of_Germany.svg/46px-Flag_of_Germany.svg.png 2x\" data-file-width=\"1000\" data-file-height=\"600\" />&#160;</span><a href=\"/wiki/Alemanha\" title=\"Alemanha\">Alemanha</a>\\n</td></tr>\\n<tr>\\n<td>7</td>\\n<td style=\"text-align:left\"><img alt=\"\" src=\"//upload.wikimedia.org/wikipedia/commons/thumb/b/be/Flag_of_Goi%C3%A1s.svg/20px-Flag_of_Goi%C3%A1s.svg.png\" decoding=\"async\" width=\"20\" height=\"14\" class=\"thumbborder\" srcset=\"//upload.wikimedia.org/wikipedia/commons/thumb/b/be/Flag_of_Goi%C3%A1s.svg/30px-Flag_of_Goi%C3%A1s.svg.png 1.5x, //upload.wikimedia.org/wikipedia/commons/thumb/b/be/Flag_of_Goi%C3%A1s.svg/40px-Flag_of_Goi%C3%A1s.svg.png 2x\" data-file-width=\"560\" data-file-height=\"392\" />&#160;<a href=\"/wiki/Goi%C3%A1s\" title=\"Goiás\">Goiás</a></td>\\n<td>340&#160;203,329</td>\\n<td>3,998</td>\\n<td style=\"text-align:left\"><span class=\"flagicon\"><img alt=\"\" src=\"//upload.wikimedia.org/wikipedia/commons/thumb/b/bc/Flag_of_Finland.svg/23px-Flag_of_Finland.svg.png\" decoding=\"async\" width=\"23\" height=\"14\" class=\"thumbborder\" srcset=\"//upload.wikimedia.org/wikipedia/commons/thumb/b/bc/Flag_of_Finland.svg/35px-Flag_of_Finland.svg.png 1.5x, //upload.wikimedia.org/wikipedia/commons/thumb/b/bc/Flag_of_Finland.svg/46px-Flag_of_Finland.svg.png 2x\" data-file-width=\"1800\" data-file-height=\"1100\" />&#160;</span><a href=\"/wiki/Finl%C3%A2ndia\" title=\"Finlândia\">Finlândia</a>\\n</td></tr>\\n<tr>\\n<td>8</td>\\n<td style=\"text-align:left\"><img alt=\"\" src=\"//upload.wikimedia.org/wikipedia/commons/thumb/4/45/Bandeira_do_Maranh%C3%A3o.svg/20px-Bandeira_do_Maranh%C3%A3o.svg.png\" decoding=\"async\" width=\"20\" height=\"13\" class=\"thumbborder\" srcset=\"//upload.wikimedia.org/wikipedia/commons/thumb/4/45/Bandeira_do_Maranh%C3%A3o.svg/30px-Bandeira_do_Maranh%C3%A3o.svg.png 1.5x, //upload.wikimedia.org/wikipedia/commons/thumb/4/45/Bandeira_do_Maranh%C3%A3o.svg/40px-Bandeira_do_Maranh%C3%A3o.svg.png 2x\" data-file-width=\"1350\" data-file-height=\"900\" />&#160;<a href=\"/wiki/Maranh%C3%A3o\" title=\"Maranhão\">Maranhão</a></td>\\n<td>329&#160;642,182</td>\\n<td>3,873</td>\\n<td style=\"text-align:left\"><span class=\"flagicon\"><img alt=\"\" src=\"//upload.wikimedia.org/wikipedia/commons/thumb/2/21/Flag_of_Vietnam.svg/23px-Flag_of_Vietnam.svg.png\" decoding=\"async\" width=\"23\" height=\"15\" class=\"thumbborder\" srcset=\"//upload.wikimedia.org/wikipedia/commons/thumb/2/21/Flag_of_Vietnam.svg/35px-Flag_of_Vietnam.svg.png 1.5x, //upload.wikimedia.org/wikipedia/commons/thumb/2/21/Flag_of_Vietnam.svg/45px-Flag_of_Vietnam.svg.png 2x\" data-file-width=\"900\" data-file-height=\"600\" />&#160;</span><a href=\"/wiki/Vietname\" class=\"mw-redirect\" title=\"Vietname\">Vietnã</a>\\n</td></tr>\\n<tr>\\n<td>9</td>\\n<td style=\"text-align:left\"><img alt=\"\" src=\"//upload.wikimedia.org/wikipedia/commons/thumb/6/63/Bandeira_do_Rio_Grande_do_Sul.svg/20px-Bandeira_do_Rio_Grande_do_Sul.svg.png\" decoding=\"async\" width=\"20\" height=\"14\" class=\"thumbborder\" srcset=\"//upload.wikimedia.org/wikipedia/commons/thumb/6/63/Bandeira_do_Rio_Grande_do_Sul.svg/30px-Bandeira_do_Rio_Grande_do_Sul.svg.png 1.5x, //upload.wikimedia.org/wikipedia/commons/thumb/6/63/Bandeira_do_Rio_Grande_do_Sul.svg/40px-Bandeira_do_Rio_Grande_do_Sul.svg.png 2x\" data-file-width=\"1000\" data-file-height=\"700\" />&#160;<a href=\"/wiki/Rio_Grande_do_Sul\" title=\"Rio Grande do Sul\">Rio Grande do Sul</a></td>\\n<td>281&#160;707,156</td>\\n<td>3,31</td>\\n<td style=\"text-align:left\"><span class=\"flagicon\"><img alt=\"\" src=\"//upload.wikimedia.org/wikipedia/commons/thumb/e/e8/Flag_of_Ecuador.svg/23px-Flag_of_Ecuador.svg.png\" decoding=\"async\" width=\"23\" height=\"15\" class=\"thumbborder\" srcset=\"//upload.wikimedia.org/wikipedia/commons/thumb/e/e8/Flag_of_Ecuador.svg/35px-Flag_of_Ecuador.svg.png 1.5x, //upload.wikimedia.org/wikipedia/commons/thumb/e/e8/Flag_of_Ecuador.svg/45px-Flag_of_Ecuador.svg.png 2x\" data-file-width=\"1440\" data-file-height=\"960\" />&#160;</span><a href=\"/wiki/Equador\" title=\"Equador\">Equador</a>\\n</td></tr>\\n<tr>\\n<td>10</td>\\n<td style=\"text-align:left\"><img alt=\"\" src=\"//upload.wikimedia.org/wikipedia/commons/thumb/f/ff/Bandeira_do_Tocantins.svg/20px-Bandeira_do_Tocantins.svg.png\" decoding=\"async\" width=\"20\" height=\"14\" class=\"thumbborder\" srcset=\"//upload.wikimedia.org/wikipedia/commons/thumb/f/ff/Bandeira_do_Tocantins.svg/30px-Bandeira_do_Tocantins.svg.png 1.5x, //upload.wikimedia.org/wikipedia/commons/thumb/f/ff/Bandeira_do_Tocantins.svg/40px-Bandeira_do_Tocantins.svg.png 2x\" data-file-width=\"2000\" data-file-height=\"1400\" />&#160;<a href=\"/wiki/Tocantins\" title=\"Tocantins\">Tocantins</a></td>\\n<td>277&#160;466,763</td>\\n<td>3,26</td>\\n<td style=\"text-align:left\"><span class=\"flagicon\"><img alt=\"\" src=\"//upload.wikimedia.org/wikipedia/commons/thumb/3/31/Flag_of_Burkina_Faso.svg/23px-Flag_of_Burkina_Faso.svg.png\" decoding=\"async\" width=\"23\" height=\"15\" class=\"thumbborder\" srcset=\"//upload.wikimedia.org/wikipedia/commons/thumb/3/31/Flag_of_Burkina_Faso.svg/35px-Flag_of_Burkina_Faso.svg.png 1.5x, //upload.wikimedia.org/wikipedia/commons/thumb/3/31/Flag_of_Burkina_Faso.svg/45px-Flag_of_Burkina_Faso.svg.png 2x\" data-file-width=\"900\" data-file-height=\"600\" />&#160;</span><a href=\"/wiki/Burquina_Fasso\" title=\"Burquina Fasso\">Burkina Faso</a>\\n</td></tr>\\n<tr>\\n<td>11</td>\\n<td style=\"text-align:left\"><img alt=\"\" src=\"//upload.wikimedia.org/wikipedia/commons/thumb/3/33/Bandeira_do_Piau%C3%AD.svg/20px-Bandeira_do_Piau%C3%AD.svg.png\" decoding=\"async\" width=\"20\" height=\"13\" class=\"thumbborder\" srcset=\"//upload.wikimedia.org/wikipedia/commons/thumb/3/33/Bandeira_do_Piau%C3%AD.svg/30px-Bandeira_do_Piau%C3%AD.svg.png 1.5x, //upload.wikimedia.org/wikipedia/commons/thumb/3/33/Bandeira_do_Piau%C3%AD.svg/40px-Bandeira_do_Piau%C3%AD.svg.png 2x\" data-file-width=\"1950\" data-file-height=\"1300\" />&#160;<a href=\"/wiki/Piau%C3%AD\" title=\"Piauí\">Piauí</a></td>\\n<td>251&#160;756,515</td>\\n<td>2,958</td>\\n<td style=\"text-align:left\"><span class=\"flagicon\"><img alt=\"\" src=\"//upload.wikimedia.org/wikipedia/commons/thumb/e/ed/Flag_of_Guinea.svg/23px-Flag_of_Guinea.svg.png\" decoding=\"async\" width=\"23\" height=\"15\" class=\"thumbborder\" srcset=\"//upload.wikimedia.org/wikipedia/commons/thumb/e/ed/Flag_of_Guinea.svg/35px-Flag_of_Guinea.svg.png 1.5x, //upload.wikimedia.org/wikipedia/commons/thumb/e/ed/Flag_of_Guinea.svg/45px-Flag_of_Guinea.svg.png 2x\" data-file-width=\"900\" data-file-height=\"600\" />&#160;</span><a href=\"/wiki/Guin%C3%A9\" title=\"Guiné\">Guiné</a>\\n</td></tr>\\n<tr>\\n<td>12</td>\\n<td style=\"text-align:left\"><img alt=\"\" src=\"//upload.wikimedia.org/wikipedia/commons/thumb/2/2b/Bandeira_do_estado_de_S%C3%A3o_Paulo.svg/22px-Bandeira_do_estado_de_S%C3%A3o_Paulo.svg.png\" decoding=\"async\" width=\"22\" height=\"15\" class=\"thumbborder\" srcset=\"//upload.wikimedia.org/wikipedia/commons/thumb/2/2b/Bandeira_do_estado_de_S%C3%A3o_Paulo.svg/33px-Bandeira_do_estado_de_S%C3%A3o_Paulo.svg.png 1.5x, //upload.wikimedia.org/wikipedia/commons/thumb/2/2b/Bandeira_do_estado_de_S%C3%A3o_Paulo.svg/44px-Bandeira_do_estado_de_S%C3%A3o_Paulo.svg.png 2x\" data-file-width=\"780\" data-file-height=\"520\" />&#160;<a href=\"/wiki/S%C3%A3o_Paulo_(estado)\" title=\"São Paulo (estado)\">São Paulo</a></td>\\n<td>248&#160;219,481</td>\\n<td>2,917</td>\\n<td style=\"text-align:left\"><span class=\"flagicon\"><img alt=\"\" src=\"//upload.wikimedia.org/wikipedia/commons/thumb/a/ae/Flag_of_the_United_Kingdom.svg/23px-Flag_of_the_United_Kingdom.svg.png\" decoding=\"async\" width=\"23\" height=\"12\" class=\"thumbborder\" srcset=\"//upload.wikimedia.org/wikipedia/commons/thumb/a/ae/Flag_of_the_United_Kingdom.svg/35px-Flag_of_the_United_Kingdom.svg.png 1.5x, //upload.wikimedia.org/wikipedia/commons/thumb/a/ae/Flag_of_the_United_Kingdom.svg/46px-Flag_of_the_United_Kingdom.svg.png 2x\" data-file-width=\"1200\" data-file-height=\"600\" />&#160;</span><a href=\"/wiki/Reino_Unido\" title=\"Reino Unido\">Reino Unido</a>\\n</td></tr>\\n<tr>\\n<td>13</td>\\n<td style=\"text-align:left\"><img alt=\"\" src=\"//upload.wikimedia.org/wikipedia/commons/thumb/f/fa/Bandeira_de_Rond%C3%B4nia.svg/20px-Bandeira_de_Rond%C3%B4nia.svg.png\" decoding=\"async\" width=\"20\" height=\"14\" class=\"thumbborder\" srcset=\"//upload.wikimedia.org/wikipedia/commons/thumb/f/fa/Bandeira_de_Rond%C3%B4nia.svg/30px-Bandeira_de_Rond%C3%B4nia.svg.png 1.5x, //upload.wikimedia.org/wikipedia/commons/thumb/f/fa/Bandeira_de_Rond%C3%B4nia.svg/40px-Bandeira_de_Rond%C3%B4nia.svg.png 2x\" data-file-width=\"2000\" data-file-height=\"1400\" />&#160;<a href=\"/wiki/Rond%C3%B4nia\" title=\"Rondônia\">Rondônia</a></td>\\n<td>237&#160;765,24</td>\\n<td>2,794</td>\\n<td style=\"text-align:left\"><span class=\"flagicon\"><img alt=\"\" src=\"//upload.wikimedia.org/wikipedia/commons/thumb/5/56/Flag_of_Laos.svg/23px-Flag_of_Laos.svg.png\" decoding=\"async\" width=\"23\" height=\"15\" class=\"thumbborder\" srcset=\"//upload.wikimedia.org/wikipedia/commons/thumb/5/56/Flag_of_Laos.svg/35px-Flag_of_Laos.svg.png 1.5x, //upload.wikimedia.org/wikipedia/commons/thumb/5/56/Flag_of_Laos.svg/45px-Flag_of_Laos.svg.png 2x\" data-file-width=\"900\" data-file-height=\"600\" />&#160;</span><a href=\"/wiki/Laos\" title=\"Laos\">Laos</a>\\n</td></tr>\\n<tr>\\n<td>14</td>\\n<td style=\"text-align:left\"><img alt=\"\" src=\"//upload.wikimedia.org/wikipedia/commons/thumb/9/98/Bandeira_de_Roraima.svg/20px-Bandeira_de_Roraima.svg.png\" decoding=\"async\" width=\"20\" height=\"14\" class=\"thumbborder\" srcset=\"//upload.wikimedia.org/wikipedia/commons/thumb/9/98/Bandeira_de_Roraima.svg/30px-Bandeira_de_Roraima.svg.png 1.5x, //upload.wikimedia.org/wikipedia/commons/thumb/9/98/Bandeira_de_Roraima.svg/40px-Bandeira_de_Roraima.svg.png 2x\" data-file-width=\"2000\" data-file-height=\"1400\" />&#160;<a href=\"/wiki/Roraima\" title=\"Roraima\">Roraima</a></td>\\n<td>223&#160;644,527</td>\\n<td>2,628</td>\\n<td style=\"text-align:left\"><span class=\"flagicon\"><img alt=\"\" src=\"//upload.wikimedia.org/wikipedia/commons/thumb/9/99/Flag_of_Guyana.svg/23px-Flag_of_Guyana.svg.png\" decoding=\"async\" width=\"23\" height=\"14\" class=\"thumbborder\" srcset=\"//upload.wikimedia.org/wikipedia/commons/thumb/9/99/Flag_of_Guyana.svg/35px-Flag_of_Guyana.svg.png 1.5x, //upload.wikimedia.org/wikipedia/commons/thumb/9/99/Flag_of_Guyana.svg/46px-Flag_of_Guyana.svg.png 2x\" data-file-width=\"1000\" data-file-height=\"600\" />&#160;</span><a href=\"/wiki/Guiana\" title=\"Guiana\">Guiana</a>\\n</td></tr>\\n<tr>\\n<td>15</td>\\n<td style=\"text-align:left\"><img alt=\"\" src=\"//upload.wikimedia.org/wikipedia/commons/thumb/9/93/Bandeira_do_Paran%C3%A1.svg/20px-Bandeira_do_Paran%C3%A1.svg.png\" decoding=\"async\" width=\"20\" height=\"14\" class=\"thumbborder\" srcset=\"//upload.wikimedia.org/wikipedia/commons/thumb/9/93/Bandeira_do_Paran%C3%A1.svg/30px-Bandeira_do_Paran%C3%A1.svg.png 1.5x, //upload.wikimedia.org/wikipedia/commons/thumb/9/93/Bandeira_do_Paran%C3%A1.svg/40px-Bandeira_do_Paran%C3%A1.svg.png 2x\" data-file-width=\"621\" data-file-height=\"434\" />&#160;<a href=\"/wiki/Paran%C3%A1\" title=\"Paraná\">Paraná</a></td>\\n<td>199&#160;298,979</td>\\n<td>2,342</td>\\n<td style=\"text-align:left\"><span class=\"flagicon\"><img alt=\"\" src=\"//upload.wikimedia.org/wikipedia/commons/thumb/c/c7/Flag_of_Kyrgyzstan.svg/23px-Flag_of_Kyrgyzstan.svg.png\" decoding=\"async\" width=\"23\" height=\"14\" class=\"thumbborder\" srcset=\"//upload.wikimedia.org/wikipedia/commons/thumb/c/c7/Flag_of_Kyrgyzstan.svg/35px-Flag_of_Kyrgyzstan.svg.png 1.5x, //upload.wikimedia.org/wikipedia/commons/thumb/c/c7/Flag_of_Kyrgyzstan.svg/46px-Flag_of_Kyrgyzstan.svg.png 2x\" data-file-width=\"1000\" data-file-height=\"600\" />&#160;</span><a href=\"/wiki/Quirguist%C3%A3o\" title=\"Quirguistão\">Quirguistão</a>\\n</td></tr>\\n<tr>\\n<td>16</td>\\n<td style=\"text-align:left\"><img alt=\"\" src=\"//upload.wikimedia.org/wikipedia/commons/thumb/4/4c/Bandeira_do_Acre.svg/20px-Bandeira_do_Acre.svg.png\" decoding=\"async\" width=\"20\" height=\"14\" class=\"thumbborder\" srcset=\"//upload.wikimedia.org/wikipedia/commons/thumb/4/4c/Bandeira_do_Acre.svg/30px-Bandeira_do_Acre.svg.png 1.5x, //upload.wikimedia.org/wikipedia/commons/thumb/4/4c/Bandeira_do_Acre.svg/40px-Bandeira_do_Acre.svg.png 2x\" data-file-width=\"500\" data-file-height=\"350\" />&#160;<a href=\"/wiki/Acre\" title=\"Acre\">Acre</a></td>\\n<td>164&#160;123,964</td>\\n<td>1,929</td>\\n<td style=\"text-align:left\"><span class=\"flagicon\"><img alt=\"\" src=\"//upload.wikimedia.org/wikipedia/commons/thumb/6/60/Flag_of_Suriname.svg/23px-Flag_of_Suriname.svg.png\" decoding=\"async\" width=\"23\" height=\"15\" class=\"thumbborder\" srcset=\"//upload.wikimedia.org/wikipedia/commons/thumb/6/60/Flag_of_Suriname.svg/35px-Flag_of_Suriname.svg.png 1.5x, //upload.wikimedia.org/wikipedia/commons/thumb/6/60/Flag_of_Suriname.svg/45px-Flag_of_Suriname.svg.png 2x\" data-file-width=\"900\" data-file-height=\"600\" />&#160;</span><a href=\"/wiki/Suriname\" title=\"Suriname\">Suriname</a>\\n</td></tr>\\n<tr>\\n<td>17</td>\\n<td style=\"text-align:left\"><img alt=\"\" src=\"//upload.wikimedia.org/wikipedia/commons/thumb/2/2e/Bandeira_do_Cear%C3%A1.svg/20px-Bandeira_do_Cear%C3%A1.svg.png\" decoding=\"async\" width=\"20\" height=\"14\" class=\"thumbborder\" srcset=\"//upload.wikimedia.org/wikipedia/commons/thumb/2/2e/Bandeira_do_Cear%C3%A1.svg/30px-Bandeira_do_Cear%C3%A1.svg.png 1.5x, //upload.wikimedia.org/wikipedia/commons/thumb/2/2e/Bandeira_do_Cear%C3%A1.svg/40px-Bandeira_do_Cear%C3%A1.svg.png 2x\" data-file-width=\"720\" data-file-height=\"504\" />&#160;<a href=\"/wiki/Cear%C3%A1\" title=\"Ceará\">Ceará</a></td>\\n<td>148&#160;894,441</td>\\n<td>1,75</td>\\n<td style=\"text-align:left\"><span class=\"flagicon\"><img alt=\"\" src=\"//upload.wikimedia.org/wikipedia/commons/thumb/9/9b/Flag_of_Nepal.svg/12px-Flag_of_Nepal.svg.png\" decoding=\"async\" width=\"12\" height=\"15\" srcset=\"//upload.wikimedia.org/wikipedia/commons/thumb/9/9b/Flag_of_Nepal.svg/19px-Flag_of_Nepal.svg.png 1.5x, //upload.wikimedia.org/wikipedia/commons/thumb/9/9b/Flag_of_Nepal.svg/25px-Flag_of_Nepal.svg.png 2x\" data-file-width=\"726\" data-file-height=\"885\" />&#160;&#160;&#160;</span><a href=\"/wiki/Nepal\" title=\"Nepal\">Nepal</a>\\n</td></tr>\\n<tr>\\n<td>18</td>\\n<td style=\"text-align:left\"><img alt=\"\" src=\"//upload.wikimedia.org/wikipedia/commons/thumb/0/0c/Bandeira_do_Amap%C3%A1.svg/20px-Bandeira_do_Amap%C3%A1.svg.png\" decoding=\"async\" width=\"20\" height=\"14\" class=\"thumbborder\" srcset=\"//upload.wikimedia.org/wikipedia/commons/thumb/0/0c/Bandeira_do_Amap%C3%A1.svg/30px-Bandeira_do_Amap%C3%A1.svg.png 1.5x, //upload.wikimedia.org/wikipedia/commons/thumb/0/0c/Bandeira_do_Amap%C3%A1.svg/40px-Bandeira_do_Amap%C3%A1.svg.png 2x\" data-file-width=\"1000\" data-file-height=\"700\" />&#160;<a href=\"/wiki/Amap%C3%A1\" title=\"Amapá\">Amapá</a></td>\\n<td>142&#160;470,762</td>\\n<td>1,674</td>\\n<td style=\"text-align:left\"><span class=\"flagicon\"><img alt=\"\" src=\"//upload.wikimedia.org/wikipedia/commons/thumb/d/d0/Flag_of_Tajikistan.svg/23px-Flag_of_Tajikistan.svg.png\" decoding=\"async\" width=\"23\" height=\"12\" class=\"thumbborder\" srcset=\"//upload.wikimedia.org/wikipedia/commons/thumb/d/d0/Flag_of_Tajikistan.svg/35px-Flag_of_Tajikistan.svg.png 1.5x, //upload.wikimedia.org/wikipedia/commons/thumb/d/d0/Flag_of_Tajikistan.svg/46px-Flag_of_Tajikistan.svg.png 2x\" data-file-width=\"1200\" data-file-height=\"600\" />&#160;</span><a href=\"/wiki/Tajiquist%C3%A3o\" title=\"Tajiquistão\">Tajiquistão</a>\\n</td></tr>\\n<tr>\\n<td>19</td>\\n<td style=\"text-align:left\"><img alt=\"\" src=\"//upload.wikimedia.org/wikipedia/commons/thumb/5/59/Bandeira_de_Pernambuco.svg/20px-Bandeira_de_Pernambuco.svg.png\" decoding=\"async\" width=\"20\" height=\"13\" class=\"thumbborder\" srcset=\"//upload.wikimedia.org/wikipedia/commons/thumb/5/59/Bandeira_de_Pernambuco.svg/30px-Bandeira_de_Pernambuco.svg.png 1.5x, //upload.wikimedia.org/wikipedia/commons/thumb/5/59/Bandeira_de_Pernambuco.svg/40px-Bandeira_de_Pernambuco.svg.png 2x\" data-file-width=\"540\" data-file-height=\"360\" />&#160;<a href=\"/wiki/Pernambuco\" title=\"Pernambuco\">Pernambuco</a></td>\\n<td>98&#160;067,881</td>\\n<td>1,152</td>\\n<td style=\"text-align:left\"><span class=\"flagicon\"><img alt=\"\" src=\"//upload.wikimedia.org/wikipedia/commons/thumb/0/09/Flag_of_South_Korea.svg/23px-Flag_of_South_Korea.svg.png\" decoding=\"async\" width=\"23\" height=\"15\" class=\"thumbborder\" srcset=\"//upload.wikimedia.org/wikipedia/commons/thumb/0/09/Flag_of_South_Korea.svg/35px-Flag_of_South_Korea.svg.png 1.5x, //upload.wikimedia.org/wikipedia/commons/thumb/0/09/Flag_of_South_Korea.svg/45px-Flag_of_South_Korea.svg.png 2x\" data-file-width=\"900\" data-file-height=\"600\" />&#160;</span><a href=\"/wiki/Coreia_do_Sul\" title=\"Coreia do Sul\">Coreia do Sul</a>\\n</td></tr>\\n<tr>\\n<td>20</td>\\n<td style=\"text-align:left\"><img alt=\"\" src=\"//upload.wikimedia.org/wikipedia/commons/thumb/1/1a/Bandeira_de_Santa_Catarina.svg/20px-Bandeira_de_Santa_Catarina.svg.png\" decoding=\"async\" width=\"20\" height=\"15\" class=\"thumbborder\" srcset=\"//upload.wikimedia.org/wikipedia/commons/thumb/1/1a/Bandeira_de_Santa_Catarina.svg/30px-Bandeira_de_Santa_Catarina.svg.png 1.5x, //upload.wikimedia.org/wikipedia/commons/thumb/1/1a/Bandeira_de_Santa_Catarina.svg/40px-Bandeira_de_Santa_Catarina.svg.png 2x\" data-file-width=\"836\" data-file-height=\"608\" />&#160;<a href=\"/wiki/Santa_Catarina\" title=\"Santa Catarina\">Santa Catarina</a></td>\\n<td>95&#160;730,684</td>\\n<td>1,125</td>\\n<td style=\"text-align:left\"><span class=\"flagicon\"><img alt=\"\" src=\"//upload.wikimedia.org/wikipedia/commons/thumb/5/5c/Flag_of_Portugal.svg/23px-Flag_of_Portugal.svg.png\" decoding=\"async\" width=\"23\" height=\"15\" class=\"thumbborder\" srcset=\"//upload.wikimedia.org/wikipedia/commons/thumb/5/5c/Flag_of_Portugal.svg/35px-Flag_of_Portugal.svg.png 1.5x, //upload.wikimedia.org/wikipedia/commons/thumb/5/5c/Flag_of_Portugal.svg/45px-Flag_of_Portugal.svg.png 2x\" data-file-width=\"600\" data-file-height=\"400\" />&#160;</span><a href=\"/wiki/Portugal\" title=\"Portugal\">Portugal</a>\\n</td></tr>\\n<tr>\\n<td>21</td>\\n<td style=\"text-align:left\"><img alt=\"\" src=\"//upload.wikimedia.org/wikipedia/commons/thumb/b/bb/Bandeira_da_Para%C3%ADba.svg/20px-Bandeira_da_Para%C3%ADba.svg.png\" decoding=\"async\" width=\"20\" height=\"14\" class=\"thumbborder\" srcset=\"//upload.wikimedia.org/wikipedia/commons/thumb/b/bb/Bandeira_da_Para%C3%ADba.svg/30px-Bandeira_da_Para%C3%ADba.svg.png 1.5x, //upload.wikimedia.org/wikipedia/commons/thumb/b/bb/Bandeira_da_Para%C3%ADba.svg/40px-Bandeira_da_Para%C3%ADba.svg.png 2x\" data-file-width=\"2000\" data-file-height=\"1400\" />&#160;<a href=\"/wiki/Para%C3%ADba\" title=\"Paraíba\">Paraíba</a></td>\\n<td>56&#160;467,242</td>\\n<td>0,664</td>\\n<td style=\"text-align:left\"><span class=\"flagicon\"><img alt=\"\" src=\"//upload.wikimedia.org/wikipedia/commons/thumb/1/1b/Flag_of_Croatia.svg/23px-Flag_of_Croatia.svg.png\" decoding=\"async\" width=\"23\" height=\"12\" class=\"thumbborder\" srcset=\"//upload.wikimedia.org/wikipedia/commons/thumb/1/1b/Flag_of_Croatia.svg/35px-Flag_of_Croatia.svg.png 1.5x, //upload.wikimedia.org/wikipedia/commons/thumb/1/1b/Flag_of_Croatia.svg/46px-Flag_of_Croatia.svg.png 2x\" data-file-width=\"1200\" data-file-height=\"600\" />&#160;</span><a href=\"/wiki/Cro%C3%A1cia\" title=\"Croácia\">Croácia</a>\\n</td></tr>\\n<tr>\\n<td>22</td>\\n<td style=\"text-align:left\"><img alt=\"\" src=\"//upload.wikimedia.org/wikipedia/commons/thumb/3/30/Bandeira_do_Rio_Grande_do_Norte.svg/20px-Bandeira_do_Rio_Grande_do_Norte.svg.png\" decoding=\"async\" width=\"20\" height=\"13\" class=\"thumbborder\" srcset=\"//upload.wikimedia.org/wikipedia/commons/thumb/3/30/Bandeira_do_Rio_Grande_do_Norte.svg/30px-Bandeira_do_Rio_Grande_do_Norte.svg.png 1.5x, //upload.wikimedia.org/wikipedia/commons/thumb/3/30/Bandeira_do_Rio_Grande_do_Norte.svg/40px-Bandeira_do_Rio_Grande_do_Norte.svg.png 2x\" data-file-width=\"900\" data-file-height=\"600\" />&#160;<a href=\"/wiki/Rio_Grande_do_Norte\" title=\"Rio Grande do Norte\">Rio Grande do Norte</a></td>\\n<td>52&#160;809,602</td>\\n<td>0,621</td>\\n<td style=\"text-align:left\"><span class=\"flagicon\"><img alt=\"\" src=\"//upload.wikimedia.org/wikipedia/commons/thumb/b/bf/Flag_of_Bosnia_and_Herzegovina.svg/23px-Flag_of_Bosnia_and_Herzegovina.svg.png\" decoding=\"async\" width=\"23\" height=\"12\" class=\"thumbborder\" srcset=\"//upload.wikimedia.org/wikipedia/commons/thumb/b/bf/Flag_of_Bosnia_and_Herzegovina.svg/35px-Flag_of_Bosnia_and_Herzegovina.svg.png 1.5x, //upload.wikimedia.org/wikipedia/commons/thumb/b/bf/Flag_of_Bosnia_and_Herzegovina.svg/46px-Flag_of_Bosnia_and_Herzegovina.svg.png 2x\" data-file-width=\"800\" data-file-height=\"400\" />&#160;</span><a href=\"/wiki/B%C3%B3snia_e_Herzegovina\" title=\"Bósnia e Herzegovina\">Bósnia e Herzegovina</a>\\n</td></tr>\\n<tr>\\n<td>23</td>\\n<td style=\"text-align:left\"><img alt=\"\" src=\"//upload.wikimedia.org/wikipedia/commons/thumb/4/43/Bandeira_do_Esp%C3%ADrito_Santo.svg/20px-Bandeira_do_Esp%C3%ADrito_Santo.svg.png\" decoding=\"async\" width=\"20\" height=\"14\" class=\"thumbborder\" srcset=\"//upload.wikimedia.org/wikipedia/commons/thumb/4/43/Bandeira_do_Esp%C3%ADrito_Santo.svg/30px-Bandeira_do_Esp%C3%ADrito_Santo.svg.png 1.5x, //upload.wikimedia.org/wikipedia/commons/thumb/4/43/Bandeira_do_Esp%C3%ADrito_Santo.svg/40px-Bandeira_do_Esp%C3%ADrito_Santo.svg.png 2x\" data-file-width=\"2000\" data-file-height=\"1400\" />&#160;<a href=\"/wiki/Esp%C3%ADrito_Santo_(estado)\" title=\"Espírito Santo (estado)\">Espírito Santo</a></td>\\n<td>46&#160;074,447</td>\\n<td>0,541</td>\\n<td style=\"text-align:left\"><span class=\"flagicon\"><img alt=\"\" src=\"//upload.wikimedia.org/wikipedia/commons/thumb/8/8f/Flag_of_Estonia.svg/23px-Flag_of_Estonia.svg.png\" decoding=\"async\" width=\"23\" height=\"15\" class=\"thumbborder\" srcset=\"//upload.wikimedia.org/wikipedia/commons/thumb/8/8f/Flag_of_Estonia.svg/35px-Flag_of_Estonia.svg.png 1.5x, //upload.wikimedia.org/wikipedia/commons/thumb/8/8f/Flag_of_Estonia.svg/46px-Flag_of_Estonia.svg.png 2x\" data-file-width=\"990\" data-file-height=\"630\" />&#160;</span><a href=\"/wiki/Est%C3%B3nia\" title=\"Estónia\">Estônia</a>\\n</td></tr>\\n<tr>\\n<td>24</td>\\n<td style=\"text-align:left\"><img alt=\"\" src=\"//upload.wikimedia.org/wikipedia/commons/thumb/7/73/Bandeira_do_estado_do_Rio_de_Janeiro.svg/20px-Bandeira_do_estado_do_Rio_de_Janeiro.svg.png\" decoding=\"async\" width=\"20\" height=\"14\" class=\"thumbborder\" srcset=\"//upload.wikimedia.org/wikipedia/commons/thumb/7/73/Bandeira_do_estado_do_Rio_de_Janeiro.svg/30px-Bandeira_do_estado_do_Rio_de_Janeiro.svg.png 1.5x, //upload.wikimedia.org/wikipedia/commons/thumb/7/73/Bandeira_do_estado_do_Rio_de_Janeiro.svg/40px-Bandeira_do_estado_do_Rio_de_Janeiro.svg.png 2x\" data-file-width=\"1000\" data-file-height=\"700\" />&#160;<a href=\"/wiki/Rio_de_Janeiro_(estado)\" title=\"Rio de Janeiro (estado)\">Rio de Janeiro</a></td>\\n<td>43&#160;750,427</td>\\n<td>0,514</td>\\n<td style=\"text-align:left\"><span class=\"flagicon\"><img alt=\"\" src=\"//upload.wikimedia.org/wikipedia/commons/thumb/9/9c/Flag_of_Denmark.svg/20px-Flag_of_Denmark.svg.png\" decoding=\"async\" width=\"20\" height=\"15\" class=\"thumbborder\" srcset=\"//upload.wikimedia.org/wikipedia/commons/thumb/9/9c/Flag_of_Denmark.svg/31px-Flag_of_Denmark.svg.png 1.5x, //upload.wikimedia.org/wikipedia/commons/thumb/9/9c/Flag_of_Denmark.svg/40px-Flag_of_Denmark.svg.png 2x\" data-file-width=\"512\" data-file-height=\"387\" />&#160;</span><a href=\"/wiki/Dinamarca\" title=\"Dinamarca\">Dinamarca</a>\\n</td></tr>\\n<tr>\\n<td>25</td>\\n<td style=\"text-align:left\"><img alt=\"\" src=\"//upload.wikimedia.org/wikipedia/commons/thumb/8/88/Bandeira_de_Alagoas.svg/20px-Bandeira_de_Alagoas.svg.png\" decoding=\"async\" width=\"20\" height=\"13\" class=\"thumbborder\" srcset=\"//upload.wikimedia.org/wikipedia/commons/thumb/8/88/Bandeira_de_Alagoas.svg/30px-Bandeira_de_Alagoas.svg.png 1.5x, //upload.wikimedia.org/wikipedia/commons/thumb/8/88/Bandeira_de_Alagoas.svg/40px-Bandeira_de_Alagoas.svg.png 2x\" data-file-width=\"600\" data-file-height=\"400\" />&#160;<a href=\"/wiki/Alagoas\" title=\"Alagoas\">Alagoas</a></td>\\n<td>27&#160;843,295</td>\\n<td>0,327</td>\\n<td style=\"text-align:left\"><span class=\"flagicon\"><img alt=\"\" src=\"//upload.wikimedia.org/wikipedia/commons/thumb/5/56/Flag_of_Haiti.svg/23px-Flag_of_Haiti.svg.png\" decoding=\"async\" width=\"23\" height=\"14\" class=\"thumbborder\" srcset=\"//upload.wikimedia.org/wikipedia/commons/thumb/5/56/Flag_of_Haiti.svg/35px-Flag_of_Haiti.svg.png 1.5x, //upload.wikimedia.org/wikipedia/commons/thumb/5/56/Flag_of_Haiti.svg/46px-Flag_of_Haiti.svg.png 2x\" data-file-width=\"1000\" data-file-height=\"600\" />&#160;</span><a href=\"/wiki/Haiti\" title=\"Haiti\">Haiti</a>\\n</td></tr>\\n<tr>\\n<td>26</td>\\n<td style=\"text-align:left\"><img alt=\"\" src=\"//upload.wikimedia.org/wikipedia/commons/thumb/b/be/Bandeira_de_Sergipe.svg/20px-Bandeira_de_Sergipe.svg.png\" decoding=\"async\" width=\"20\" height=\"14\" class=\"thumbborder\" srcset=\"//upload.wikimedia.org/wikipedia/commons/thumb/b/be/Bandeira_de_Sergipe.svg/30px-Bandeira_de_Sergipe.svg.png 1.5x, //upload.wikimedia.org/wikipedia/commons/thumb/b/be/Bandeira_de_Sergipe.svg/40px-Bandeira_de_Sergipe.svg.png 2x\" data-file-width=\"1050\" data-file-height=\"750\" />&#160;<a href=\"/wiki/Sergipe\" title=\"Sergipe\">Sergipe</a></td>\\n<td>21&#160;925,424</td>\\n<td>0,258</td>\\n<td style=\"text-align:left\"><span class=\"flagicon\"><img alt=\"\" src=\"//upload.wikimedia.org/wikipedia/commons/thumb/3/34/Flag_of_El_Salvador.svg/23px-Flag_of_El_Salvador.svg.png\" decoding=\"async\" width=\"23\" height=\"13\" class=\"thumbborder\" srcset=\"//upload.wikimedia.org/wikipedia/commons/thumb/3/34/Flag_of_El_Salvador.svg/35px-Flag_of_El_Salvador.svg.png 1.5x, //upload.wikimedia.org/wikipedia/commons/thumb/3/34/Flag_of_El_Salvador.svg/46px-Flag_of_El_Salvador.svg.png 2x\" data-file-width=\"1005\" data-file-height=\"567\" />&#160;</span><a href=\"/wiki/El_Salvador\" title=\"El Salvador\">El Salvador</a>\\n</td></tr>\\n<tr>\\n<td>27</td>\\n<td style=\"text-align:left\"><img alt=\"\" src=\"//upload.wikimedia.org/wikipedia/commons/thumb/3/3c/Bandeira_do_Distrito_Federal_%28Brasil%29.svg/20px-Bandeira_do_Distrito_Federal_%28Brasil%29.svg.png\" decoding=\"async\" width=\"20\" height=\"14\" class=\"thumbborder\" srcset=\"//upload.wikimedia.org/wikipedia/commons/thumb/3/3c/Bandeira_do_Distrito_Federal_%28Brasil%29.svg/30px-Bandeira_do_Distrito_Federal_%28Brasil%29.svg.png 1.5x, //upload.wikimedia.org/wikipedia/commons/thumb/3/3c/Bandeira_do_Distrito_Federal_%28Brasil%29.svg/40px-Bandeira_do_Distrito_Federal_%28Brasil%29.svg.png 2x\" data-file-width=\"1500\" data-file-height=\"1050\" />&#160;<a href=\"/wiki/Distrito_Federal_(Brasil)\" title=\"Distrito Federal (Brasil)\">Distrito Federal</a></td>\\n<td>5&#160;760,783</td>\\n<td>0,068</td>\\n<td style=\"text-align:left\"><span class=\"flagicon\"><img alt=\"\" src=\"//upload.wikimedia.org/wikipedia/commons/thumb/9/9c/Flag_of_Brunei.svg/23px-Flag_of_Brunei.svg.png\" decoding=\"async\" width=\"23\" height=\"12\" class=\"thumbborder\" srcset=\"//upload.wikimedia.org/wikipedia/commons/thumb/9/9c/Flag_of_Brunei.svg/35px-Flag_of_Brunei.svg.png 1.5x, //upload.wikimedia.org/wikipedia/commons/thumb/9/9c/Flag_of_Brunei.svg/46px-Flag_of_Brunei.svg.png 2x\" data-file-width=\"1440\" data-file-height=\"720\" />&#160;</span><a href=\"/wiki/Brunei\" title=\"Brunei\">Brunei</a>\\n</td></tr></tbody></table>\\n<h2><span id=\"Por_regi.C3.A3o\"></span><span class=\"mw-headline\" id=\"Por_região\">Por região</span><span class=\"mw-editsection\"><span class=\"mw-editsection-bracket\">[</span><a href=\"/w/index.php?title=Lista_de_unidades_federativas_do_Brasil_por_%C3%A1rea&amp;veaction=edit&amp;section=2\" class=\"mw-editsection-visualeditor\" title=\"Editar secção: Por região\">editar</a><span class=\"mw-editsection-divider\"> | </span><a href=\"/w/index.php?title=Lista_de_unidades_federativas_do_Brasil_por_%C3%A1rea&amp;action=edit&amp;section=2\" title=\"Editar secção: Por região\">editar código-fonte</a><span class=\"mw-editsection-bracket\">]</span></span></h2>\\n<table class=\"wikitable sortable\" style=\"text-align:center;\">\\n\\n<tbody><tr>\\n<th>Posição\\n</th>\\n<th width=\"200px\">Região\\n</th>\\n<th width=\"100px\">Área (km²)\\n</th>\\n<th width=\"60px\">% do<br />Brasil\\n</th>\\n<th width=\"180px\">País comparável\\n</th></tr>\\n<tr>\\n<td>1</td>\\n<td style=\"text-align:left\"><a href=\"/wiki/Regi%C3%A3o_Norte_do_Brasil\" title=\"Região Norte do Brasil\">Norte</a></td>\\n<td>3&#160;850&#160;509,943</td>\\n<td>45,245</td>\\n<td style=\"text-align:left\"><img alt=\"\" src=\"//upload.wikimedia.org/wikipedia/commons/thumb/4/41/Flag_of_India.svg/22px-Flag_of_India.svg.png\" decoding=\"async\" width=\"22\" height=\"15\" class=\"thumbborder\" srcset=\"//upload.wikimedia.org/wikipedia/commons/thumb/4/41/Flag_of_India.svg/33px-Flag_of_India.svg.png 1.5x, //upload.wikimedia.org/wikipedia/commons/thumb/4/41/Flag_of_India.svg/44px-Flag_of_India.svg.png 2x\" data-file-width=\"900\" data-file-height=\"600\" />&#160;<a href=\"/wiki/%C3%8Dndia\" title=\"Índia\">Índia</a> (3&#160;287&#160;263)\\n</td></tr>\\n<tr>\\n<td>2</td>\\n<td style=\"text-align:left\"><a href=\"/wiki/Regi%C3%A3o_Centro-Oeste_do_Brasil\" title=\"Região Centro-Oeste do Brasil\">Centro-Oeste</a></td>\\n<td>1&#160;606&#160;316,665</td>\\n<td>18,875</td>\\n<td style=\"text-align:left\"><a href=\"/wiki/Ir%C3%A3\" title=\"Irã\"><img alt=\"Irã\" src=\"//upload.wikimedia.org/wikipedia/commons/thumb/c/ca/Flag_of_Iran.svg/22px-Flag_of_Iran.svg.png\" decoding=\"async\" width=\"22\" height=\"13\" class=\"thumbborder\" srcset=\"//upload.wikimedia.org/wikipedia/commons/thumb/c/ca/Flag_of_Iran.svg/33px-Flag_of_Iran.svg.png 1.5x, //upload.wikimedia.org/wikipedia/commons/thumb/c/ca/Flag_of_Iran.svg/44px-Flag_of_Iran.svg.png 2x\" data-file-width=\"630\" data-file-height=\"360\" /></a> <a href=\"/wiki/Ir%C3%A3\" title=\"Irã\">Irã</a> (1&#160;648&#160;195)\\n</td></tr>\\n<tr>\\n<td>3</td>\\n<td style=\"text-align:left\"><a href=\"/wiki/Regi%C3%A3o_Nordeste_do_Brasil\" title=\"Região Nordeste do Brasil\">Nordeste</a></td>\\n<td>1&#160;552&#160;167,009</td>\\n<td>18,239</td>\\n<td style=\"text-align:left\"><a href=\"/wiki/Mong%C3%B3lia\" title=\"Mongólia\"><img alt=\"Mongólia\" src=\"//upload.wikimedia.org/wikipedia/commons/thumb/4/4c/Flag_of_Mongolia.svg/22px-Flag_of_Mongolia.svg.png\" decoding=\"async\" width=\"22\" height=\"11\" class=\"thumbborder\" srcset=\"//upload.wikimedia.org/wikipedia/commons/thumb/4/4c/Flag_of_Mongolia.svg/33px-Flag_of_Mongolia.svg.png 1.5x, //upload.wikimedia.org/wikipedia/commons/thumb/4/4c/Flag_of_Mongolia.svg/44px-Flag_of_Mongolia.svg.png 2x\" data-file-width=\"1200\" data-file-height=\"600\" /></a> <a href=\"/wiki/Mong%C3%B3lia\" title=\"Mongólia\">Mongólia</a> (1&#160;564&#160;110)\\n</td></tr>\\n<tr>\\n<td>4</td>\\n<td style=\"text-align:left\"><a href=\"/wiki/Regi%C3%A3o_Sudeste_do_Brasil\" title=\"Região Sudeste do Brasil\">Sudeste</a></td>\\n<td>924&#160;565,478</td>\\n<td>10,864</td>\\n<td style=\"text-align:left\"><img alt=\"\" src=\"//upload.wikimedia.org/wikipedia/commons/thumb/7/79/Flag_of_Nigeria.svg/22px-Flag_of_Nigeria.svg.png\" decoding=\"async\" width=\"22\" height=\"11\" class=\"thumbborder\" srcset=\"//upload.wikimedia.org/wikipedia/commons/thumb/7/79/Flag_of_Nigeria.svg/33px-Flag_of_Nigeria.svg.png 1.5x, //upload.wikimedia.org/wikipedia/commons/thumb/7/79/Flag_of_Nigeria.svg/44px-Flag_of_Nigeria.svg.png 2x\" data-file-width=\"1200\" data-file-height=\"600\" /> <a href=\"/wiki/Nig%C3%A9ria\" title=\"Nigéria\">Nigéria</a> (923&#160;768)\\n</td></tr>\\n<tr>\\n<td>5</td>\\n<td style=\"text-align:left\"><a href=\"/wiki/Regi%C3%A3o_Sul_do_Brasil\" title=\"Região Sul do Brasil\">Sul</a></td>\\n<td>576&#160;736,819</td>\\n<td>6,777</td>\\n<td style=\"text-align:left\"><img alt=\"\" src=\"//upload.wikimedia.org/wikipedia/commons/thumb/4/49/Flag_of_Kenya.svg/22px-Flag_of_Kenya.svg.png\" decoding=\"async\" width=\"22\" height=\"15\" class=\"thumbborder\" srcset=\"//upload.wikimedia.org/wikipedia/commons/thumb/4/49/Flag_of_Kenya.svg/33px-Flag_of_Kenya.svg.png 1.5x, //upload.wikimedia.org/wikipedia/commons/thumb/4/49/Flag_of_Kenya.svg/44px-Flag_of_Kenya.svg.png 2x\" data-file-width=\"900\" data-file-height=\"600\" />&#160;<a href=\"/wiki/Qu%C3%A9nia\" title=\"Quénia\">Quênia</a> (580&#160;367)\\n</td></tr>\\n<tr>\\n<th bgcolor=\"#ececec\"><b>Total</b></th>\\n<th style=\"text-align:left\"><span class=\"flagicon\"><img alt=\"\" src=\"//upload.wikimedia.org/wikipedia/commons/thumb/0/05/Flag_of_Brazil.svg/22px-Flag_of_Brazil.svg.png\" decoding=\"async\" width=\"22\" height=\"15\" class=\"thumbborder\" srcset=\"//upload.wikimedia.org/wikipedia/commons/thumb/0/05/Flag_of_Brazil.svg/33px-Flag_of_Brazil.svg.png 1.5x, //upload.wikimedia.org/wikipedia/commons/thumb/0/05/Flag_of_Brazil.svg/44px-Flag_of_Brazil.svg.png 2x\" data-file-width=\"749\" data-file-height=\"525\" />&#160;</span><a href=\"/wiki/Brasil\" title=\"Brasil\">Brasil</a></th>\\n<th bgcolor=\"#ececec\">8&#160;510&#160;295,914</th>\\n<th>100</th>\\n<th style=\"text-align:left\"><span class=\"flagicon\"><img alt=\"\" src=\"//upload.wikimedia.org/wikipedia/commons/thumb/0/05/Flag_of_Brazil.svg/22px-Flag_of_Brazil.svg.png\" decoding=\"async\" width=\"22\" height=\"15\" class=\"thumbborder\" srcset=\"//upload.wikimedia.org/wikipedia/commons/thumb/0/05/Flag_of_Brazil.svg/33px-Flag_of_Brazil.svg.png 1.5x, //upload.wikimedia.org/wikipedia/commons/thumb/0/05/Flag_of_Brazil.svg/44px-Flag_of_Brazil.svg.png 2x\" data-file-width=\"749\" data-file-height=\"525\" />&#160;</span><a href=\"/wiki/Brasil\" title=\"Brasil\">Brasil</a> (8&#160;510&#160;296)\\n</th></tr></tbody></table>\\n<h2><span id=\"Ver_tamb.C3.A9m\"></span><span class=\"mw-headline\" id=\"Ver_também\">Ver também</span><span class=\"mw-editsection\"><span class=\"mw-editsection-bracket\">[</span><a href=\"/w/index.php?title=Lista_de_unidades_federativas_do_Brasil_por_%C3%A1rea&amp;veaction=edit&amp;section=3\" class=\"mw-editsection-visualeditor\" title=\"Editar secção: Ver também\">editar</a><span class=\"mw-editsection-divider\"> | </span><a href=\"/w/index.php?title=Lista_de_unidades_federativas_do_Brasil_por_%C3%A1rea&amp;action=edit&amp;section=3\" title=\"Editar secção: Ver também\">editar código-fonte</a><span class=\"mw-editsection-bracket\">]</span></span></h2>\\n<ul><li><a href=\"/wiki/Lista_de_estados_brasileiros_por_n%C3%BAmero_de_munic%C3%ADpios\" title=\"Lista de estados brasileiros por número de municípios\">Lista de estados brasileiros por número de municípios</a></li>\\n<li><a href=\"/wiki/Lista_de_pa%C3%ADses_e_territ%C3%B3rios_por_%C3%A1rea\" title=\"Lista de países e territórios por área\">Lista de países e territórios por área</a></li>\\n<li><a href=\"/wiki/Lista_de_unidades_federativas_do_Brasil_por_popula%C3%A7%C3%A3o\" title=\"Lista de unidades federativas do Brasil por população\">Lista de unidades federativas do Brasil por população</a></li>\\n<li><a href=\"/wiki/Lista_de_unidades_federativas_do_Brasil_por_taxa_de_urbaniza%C3%A7%C3%A3o\" title=\"Lista de unidades federativas do Brasil por taxa de urbanização\">Lista de unidades federativas do Brasil por taxa de urbanização</a></li></ul>\\n<h2 style=\"cursor: help;\" title=\"Esta seção foi configurada para não ser editável diretamente. Edite a página toda ou a seção anterior em vez disso.\"><span id=\"Refer.C3.AAncias\"></span><span class=\"mw-headline\" id=\"Referências\">Referências</span></h2>\\n<div class=\"reflist\" style=\"list-style-type: decimal;\"><div class=\"mw-references-wrap\"><ol class=\"references\">\\n<li id=\"cite_note-Área-IBGE-1\"><span class=\"mw-cite-backlink\">↑ <sup><i><b><a href=\"#cite_ref-Área-IBGE_1-0\">a</a></b></i></sup> <sup><i><b><a href=\"#cite_ref-Área-IBGE_1-1\">b</a></b></i></sup></span> <span class=\"reference-text\"><cite class=\"citation web\"><a href=\"/wiki/Instituto_Brasileiro_de_Geografia_e_Estat%C3%ADstica\" title=\"Instituto Brasileiro de Geografia e Estatística\">Instituto Brasileiro de Geografia e Estatística</a> (IBGE). <a rel=\"nofollow\" class=\"external text\" href=\"https://www.ibge.gov.br/geociencias/organizacao-do-territorio/estrutura-territorial/15761-areas-dos-municipios.html?=&amp;t=resolucoes-e-legislacao\">«Resoluções e legislação»</a><span class=\"reference-accessdate\">. Consultado em 19 de dezembro de 2020</span></cite><span title=\"ctx_ver=Z39.88-2004&amp;rfr_id=info%3Asid%2Fpt.wikipedia.org%3ALista+de+unidades+federativas+do+Brasil+por+%C3%A1rea&amp;rft.au=Instituto+Brasileiro+de+Geografia+e+Estat%C3stica+%28IBGE%29&amp;rft.btitle=Resolu%C3%A7%C3%B5es+e+legisla%C3%A7%C3%A3o&amp;rft.genre=unknown&amp;rft_id=https%3A%2F%2Fwww.ibge.gov.br%2Fgeociencias%2Forganizacao-do-territorio%2Festrutura-territorial%2F15761-areas-dos-municipios.html%3F%3D%26t%3Dresolucoes-e-legislacao&amp;rft_val_fmt=info%3Aofi%2Ffmt%3Akev%3Amtx%3Abook\" class=\"Z3988\"><span style=\"display:none;\">&#160;</span></span></span>\\n</li>\\n</ol></div></div>\\n<h2><span id=\"Liga.C3.A7.C3.B5es_externas\"></span><span class=\"mw-headline\" id=\"Ligações_externas\">Ligações externas</span><span class=\"mw-editsection\"><span class=\"mw-editsection-bracket\">[</span><a href=\"/w/index.php?title=Lista_de_unidades_federativas_do_Brasil_por_%C3%A1rea&amp;veaction=edit&amp;section=4\" class=\"mw-editsection-visualeditor\" title=\"Editar secção: Ligações externas\">editar</a><span class=\"mw-editsection-divider\"> | </span><a href=\"/w/index.php?title=Lista_de_unidades_federativas_do_Brasil_por_%C3%A1rea&amp;action=edit&amp;section=4\" title=\"Editar secção: Ligações externas\">editar código-fonte</a><span class=\"mw-editsection-bracket\">]</span></span></h2>\\n<ul><li><cite class=\"citation web\"><a rel=\"nofollow\" class=\"external text\" href=\"http://www.ibge.gov.br/home/\">«Página do Instituto Brasileiro de Geografia e Estatística (IBGE)»</a></cite><span title=\"ctx_ver=Z39.88-2004&amp;rfr_id=info%3Asid%2Fpt.wikipedia.org%3ALista+de+unidades+federativas+do+Brasil+por+%C3%A1rea&amp;rft.btitle=P%C3%A1gina+do+Instituto+Brasileiro+de+Geografia+e+Estat%C3stica+%28IBGE%29&amp;rft.genre=unknown&amp;rft_id=http%3A%2F%2Fwww.ibge.gov.br%2Fhome%2F&amp;rft_val_fmt=info%3Aofi%2Ffmt%3Akev%3Amtx%3Abook\" class=\"Z3988\"><span style=\"display:none;\">&#160;</span></span></li></ul>\\n<div role=\"navigation\" class=\"navbox\" aria-labelledby=\"Classificações_das_unidades_federativas_do_Brasil\" style=\"padding:3px\"><table class=\"nowraplinks collapsible collapsed navbox-inner\" style=\"border-spacing:0;background:transparent;color:inherit\"><tbody><tr><th scope=\"col\" class=\"navbox-title\" colspan=\"2\"><div class=\"plainlinks hlist navbar mini\"><ul><li class=\"nv-ver\"><a href=\"/wiki/Predefini%C3%A7%C3%A3o:Classifica%C3%A7%C3%B5es_das_unidades_federativas_do_Brasil\" title=\"Predefinição:Classificações das unidades federativas do Brasil\"><abbr title=\"Ver esta predefinição\" style=\";;background:none transparent;border:none;-moz-box-shadow:none;-webkit-box-shadow:none;box-shadow:none; padding:0;\">v</abbr></a></li><li class=\"nv-discutir\"><a href=\"/w/index.php?title=Predefini%C3%A7%C3%A3o_Discuss%C3%A3o:Classifica%C3%A7%C3%B5es_das_unidades_federativas_do_Brasil&amp;action=edit&amp;redlink=1\" class=\"new\" title=\"Predefinição Discussão:Classificações das unidades federativas do Brasil (página não existe)\"><abbr title=\"Discutir esta predefinição\" style=\";;background:none transparent;border:none;-moz-box-shadow:none;-webkit-box-shadow:none;box-shadow:none; padding:0;\">d</abbr></a></li><li class=\"nv-editar\"><a class=\"external text\" href=\"https://pt.wikipedia.org/w/index.php?title=Predefini%C3%A7%C3%A3o:Classifica%C3%A7%C3%B5es_das_unidades_federativas_do_Brasil&amp;action=edit\"><abbr title=\"Editar esta predefinição\" style=\";;background:none transparent;border:none;-moz-box-shadow:none;-webkit-box-shadow:none;box-shadow:none; padding:0;\">e</abbr></a></li></ul></div><div id=\"Classificações_das_unidades_federativas_do_Brasil\" style=\"font-size:114%;margin:0 4em\"><a href=\"/wiki/Unidades_federativas_do_Brasil\" title=\"Unidades federativas do Brasil\">Classificações das unidades federativas do Brasil</a></div></th></tr><tr><th scope=\"row\" class=\"navbox-group\" style=\"width:1%\">Características<br /> geográficas</th><td class=\"navbox-list navbox-odd hlist\" style=\"text-align:left;border-left-width:2px;border-left-style:solid;width:100%;padding:0px\"><div style=\"padding:0em 0.25em\">\\n<ul><li><a class=\"mw-selflink selflink\">Área</a></li>\\n<li><a href=\"/wiki/Lista_de_unidades_federativas_do_Brasil_por_densidade_demogr%C3%A1fica\" title=\"Lista de unidades federativas do Brasil por densidade demográfica\">Densidade demográfica</a></li>\\n<li><a href=\"/wiki/Lista_de_estados_brasileiros_por_n%C3%BAmero_de_munic%C3%ADpios\" title=\"Lista de estados brasileiros por número de municípios\">Número de municípios</a></li>\\n<li><a href=\"/wiki/Lista_de_unidades_federativas_do_Brasil_por_taxa_de_urbaniza%C3%A7%C3%A3o\" title=\"Lista de unidades federativas do Brasil por taxa de urbanização\">Urbanização</a></li>\\n<li><a href=\"/wiki/Lista_de_munic%C3%ADpios_brasileiros_mais_altos_em_cada_estado\" class=\"mw-redirect\" title=\"Lista de municípios brasileiros mais altos em cada estado\">Município mais alto por estado</a></li>\\n<li><a href=\"/wiki/Lista_de_unidades_federativas_do_Brasil_por_ponto_mais_elevado\" class=\"mw-redirect\" title=\"Lista de unidades federativas do Brasil por ponto mais elevado\">Ponto culminante</a></li></ul>\\n</div></td></tr><tr><th scope=\"row\" class=\"navbox-group\" style=\"width:1%\">Indicadores<br /> demográficos</th><td class=\"navbox-list navbox-even hlist\" style=\"text-align:left;border-left-width:2px;border-left-style:solid;width:100%;padding:0px\"><div style=\"padding:0em 0.25em\">\\n<ul><li><a href=\"/wiki/Lista_de_unidades_federativas_do_Brasil_por_popula%C3%A7%C3%A3o\" title=\"Lista de unidades federativas do Brasil por população\">População</a></li>\\n<li><a href=\"/wiki/Lista_de_unidades_federativas_do_Brasil_por_densidade_demogr%C3%A1fica\" title=\"Lista de unidades federativas do Brasil por densidade demográfica\">Densidade demográfica</a></li>\\n<li><a href=\"/wiki/Lista_de_unidades_federativas_do_Brasil_por_taxa_de_natalidade\" title=\"Lista de unidades federativas do Brasil por taxa de natalidade\">Natalidade</a></li>\\n<li><a href=\"/wiki/Lista_de_unidades_federativas_do_Brasil_por_taxa_de_fecundidade\" title=\"Lista de unidades federativas do Brasil por taxa de fecundidade\">Fecundidade</a></li>\\n<li><a href=\"/wiki/Lista_de_unidades_federativas_do_Brasil_por_porcentagem_de_ra%C3%A7a\" title=\"Lista de unidades federativas do Brasil por porcentagem de raça\">Porcentagem de cor</a></li>\\n<li><a href=\"/wiki/Lista_de_unidades_federativas_do_Brasil_por_popula%C3%A7%C3%A3o_ind%C3%ADgena\" title=\"Lista de unidades federativas do Brasil por população indígena\">População indígena</a></li>\\n<li><a href=\"/wiki/Lista_dos_munic%C3%ADpios_mais_populosos_por_unidade_federativa_do_Brasil\" title=\"Lista dos municípios mais populosos por unidade federativa do Brasil\">Municípios mais populosos por estado</a></li></ul>\\n</div></td></tr><tr><th scope=\"row\" class=\"navbox-group\" style=\"width:1%\">Gestão pública</th><td class=\"navbox-list navbox-odd hlist\" style=\"text-align:left;border-left-width:2px;border-left-style:solid;width:100%;padding:0px\"><div style=\"padding:0em 0.25em\">\\n<ul><li><a href=\"/wiki/Lista_das_sedes_dos_governos_estaduais_do_Brasil\" title=\"Lista das sedes dos governos estaduais do Brasil\">Sedes governamentais</a></li>\\n<li><a href=\"/wiki/Lista_de_unidades_federativas_do_Brasil_por_%C3%ADndice_de_transpar%C3%AAncia\" title=\"Lista de unidades federativas do Brasil por índice de transparência\">Transparência</a></li>\\n<li><a href=\"/wiki/Lista_de_unidades_federativas_do_Brasil_por_arrecada%C3%A7%C3%A3o\" title=\"Lista de unidades federativas do Brasil por arrecadação\">Arrecadação</a>\\n<ul><li><a href=\"/wiki/Lista_de_unidades_federativas_do_Brasil_por_arrecada%C3%A7%C3%A3o_do_ICMS\" title=\"Lista de unidades federativas do Brasil por arrecadação do ICMS\">ICMS</a></li></ul></li>\\n<li><a href=\"/wiki/Lista_de_unidades_federativas_do_Brasil_por_repasses_federais\" title=\"Lista de unidades federativas do Brasil por repasses federais\">Repasses</a></li>\\n<li><a href=\"/wiki/Lista_de_unidades_federativas_do_Brasil_por_endividamento\" title=\"Lista de unidades federativas do Brasil por endividamento\">Endividamento</a></li>\\n<li><a href=\"/w/index.php?title=Lista_de_unidades_federativas_do_Brasil_por_IFGF&amp;action=edit&amp;redlink=1\" class=\"new\" title=\"Lista de unidades federativas do Brasil por IFGF (página não existe)\">IFGF</a></li>\\n<li><a href=\"/wiki/Lista_de_unidades_federativas_do_Brasil_por_propor%C3%A7%C3%A3o_de_gastos_com_funcionalismo\" title=\"Lista de unidades federativas do Brasil por proporção de gastos com funcionalismo\">Gastos com funcionalismo</a></li>\\n<li><a href=\"/w/index.php?title=Lista_de_unidades_federativas_do_Brasil_por_despesas_l%C3%ADquidas_do_funcionalismo&amp;action=edit&amp;redlink=1\" class=\"new\" title=\"Lista de unidades federativas do Brasil por despesas líquidas do funcionalismo (página não existe)\">Despesas líquidas</a>\\n<ul><li><a href=\"/w/index.php?title=Lista_de_unidades_federativas_do_Brasil_por_despesas_do_funcionalismo_ativo&amp;action=edit&amp;redlink=1\" class=\"new\" title=\"Lista de unidades federativas do Brasil por despesas do funcionalismo ativo (página não existe)\">Ativos</a></li>\\n<li><a href=\"/w/index.php?title=Lista_de_unidades_federativas_do_Brasil_por_despesas_de_pensionistas&amp;action=edit&amp;redlink=1\" class=\"new\" title=\"Lista de unidades federativas do Brasil por despesas de pensionistas (página não existe)\">Pensionistas</a></li></ul></li>\\n<li><a href=\"/w/index.php?title=Lista_de_unidades_federativas_do_Brasil_por_propor%C3%A7%C3%A3o_de_investimentos_p%C3%BAblicos&amp;action=edit&amp;redlink=1\" class=\"new\" title=\"Lista de unidades federativas do Brasil por proporção de investimentos públicos (página não existe)\">Investimentos públicos</a></li>\\n<li><a href=\"/w/index.php?title=Lista_de_unidades_federativas_do_Brasil_por_reserva_de_caixa&amp;action=edit&amp;redlink=1\" class=\"new\" title=\"Lista de unidades federativas do Brasil por reserva de caixa (página não existe)\">Reserva de caixa</a>\\n<ul><li><a href=\"/w/index.php?title=Lista_de_unidades_federativas_do_Brasil_por_receitas_previdenci%C3%A1rias&amp;action=edit&amp;redlink=1\" class=\"new\" title=\"Lista de unidades federativas do Brasil por receitas previdenciárias (página não existe)\">Receitas previdenciárias</a></li>\\n<li><a href=\"/w/index.php?title=Lista_de_unidades_federativas_do_Brasil_por_necessidade_de_financiamento_da_previd%C3%AAncia&amp;action=edit&amp;redlink=1\" class=\"new\" title=\"Lista de unidades federativas do Brasil por necessidade de financiamento da previdência (página não existe)\">Financiamento da previdência</a></li></ul></li></ul>\\n</div></td></tr><tr><th scope=\"row\" class=\"navbox-group\" style=\"width:1%\">Indicadores <br />econômicos<br /> e sociais</th><td class=\"navbox-list navbox-odd hlist\" style=\"text-align:left;border-left-width:2px;border-left-style:solid;width:100%;padding:0px\"><div style=\"padding:0em 0.25em\"></div><table class=\"nowraplinks navbox-subgroup\" style=\"border-spacing:0\"><tbody><tr><th scope=\"row\" class=\"navbox-group\" style=\"width:1%\"><a href=\"/wiki/Lista_de_unidades_federativas_do_Brasil_por_PIB\" title=\"Lista de unidades federativas do Brasil por PIB\">PIB</a></th><td class=\"navbox-list navbox-even hlist\" style=\"text-align:left;border-left-width:2px;border-left-style:solid;width:100%;padding:0px\"><div style=\"padding:0em 0.25em\">\\n<ul><li>Série histórica\\n<ul><li><a href=\"/wiki/Lista_de_unidades_federativas_do_Brasil_por_PIB_(1939)\" title=\"Lista de unidades federativas do Brasil por PIB (1939)\">1939</a></li>\\n<li><a href=\"/wiki/Lista_de_unidades_federativas_do_Brasil_por_PIB_(1950)\" title=\"Lista de unidades federativas do Brasil por PIB (1950)\">1950</a></li>\\n<li><a href=\"/wiki/Lista_de_unidades_federativas_do_Brasil_por_PIB_(1960)\" title=\"Lista de unidades federativas do Brasil por PIB (1960)\">1960</a></li>\\n<li><a href=\"/wiki/Lista_de_unidades_federativas_do_Brasil_por_PIB_(1970)\" title=\"Lista de unidades federativas do Brasil por PIB (1970)\">1970</a></li>\\n<li><a href=\"/w/index.php?title=Lista_de_unidades_federativas_do_Brasil_por_PIB_(1980)&amp;action=edit&amp;redlink=1\" class=\"new\" title=\"Lista de unidades federativas do Brasil por PIB (1980) (página não existe)\">1980</a></li>\\n<li><a href=\"/w/index.php?title=Lista_de_unidades_federativas_do_Brasil_por_PIB_(1990)&amp;action=edit&amp;redlink=1\" class=\"new\" title=\"Lista de unidades federativas do Brasil por PIB (1990) (página não existe)\">1990</a></li>\\n<li><a href=\"/w/index.php?title=Lista_de_unidades_federativas_do_Brasil_por_PIB_(2000)&amp;action=edit&amp;redlink=1\" class=\"new\" title=\"Lista de unidades federativas do Brasil por PIB (2000) (página não existe)\">2000</a></li>\\n<li><a href=\"/wiki/Lista_de_unidades_federativas_do_Brasil_por_PIB_(2010)\" title=\"Lista de unidades federativas do Brasil por PIB (2010)\">2010</a></li></ul></li>\\n<li><a href=\"/wiki/Lista_de_unidades_federativas_do_Brasil_por_PIB_per_capita\" title=\"Lista de unidades federativas do Brasil por PIB per capita\">PIB <i>per capita</i></a></li>\\n<li><a href=\"/wiki/Lista_de_unidades_federativas_do_Brasil_por_crescimento_do_PIB\" title=\"Lista de unidades federativas do Brasil por crescimento do PIB\">Crescimento</a></li>\\n<li><a href=\"/wiki/Lista_de_unidades_federativas_do_Brasil_por_crescimento_nominal_do_PIB\" title=\"Lista de unidades federativas do Brasil por crescimento nominal do PIB\">Crescimento nominal</a></li>\\n<li><a href=\"/wiki/Lista_de_unidades_federativas_do_Brasil_por_participa%C3%A7%C3%A3o_no_PIB\" title=\"Lista de unidades federativas do Brasil por participação no PIB\">Participação</a></li></ul>\\n</div></td></tr><tr><th scope=\"row\" class=\"navbox-group\" style=\"width:1%\">Trabalho</th><td class=\"navbox-list navbox-odd hlist\" style=\"text-align:left;border-left-width:2px;border-left-style:solid;width:100%;padding:0px\"><div style=\"padding:0em 0.25em\">\\n<ul><li><a href=\"/wiki/Lista_de_unidades_federativas_do_Brasil_por_porcentagem_de_empregados_com_carteira_de_trabalho_assinada\" title=\"Lista de unidades federativas do Brasil por porcentagem de empregados com carteira de trabalho assinada\">Empregados com carteira assinada</a></li>\\n<li><a href=\"/wiki/Lista_de_unidades_federativas_do_Brasil_por_taxa_de_desemprego\" title=\"Lista de unidades federativas do Brasil por taxa de desemprego\">Desemprego</a></li>\\n<li><a href=\"/wiki/Lista_de_unidades_federativas_do_Brasil_por_n%C3%BAmero_de_aposentados\" title=\"Lista de unidades federativas do Brasil por número de aposentados\">Aposentados</a></li></ul>\\n</div></td></tr><tr><th scope=\"row\" class=\"navbox-group\" style=\"width:1%\">Desigualdade<br /> e bem-estar</th><td class=\"navbox-list navbox-even hlist\" style=\"text-align:left;border-left-width:2px;border-left-style:solid;width:100%;padding:0px\"><div style=\"padding:0em 0.25em\">\\n<ul><li><a href=\"/wiki/Lista_de_unidades_federativas_do_Brasil_por_seguran%C3%A7a_alimentar\" title=\"Lista de unidades federativas do Brasil por segurança alimentar\">Segurança alimentar</a></li>\\n<li><a href=\"/wiki/Lista_de_unidades_federativas_do_Brasil_por_renda_per_capita\" title=\"Lista de unidades federativas do Brasil por renda per capita\">Renda <i>per capita</i></a></li>\\n<li><a href=\"/wiki/Lista_de_unidades_federativas_do_Brasil_por_IDH\" title=\"Lista de unidades federativas do Brasil por IDH\">IDH</a>\\n<ul><li><a href=\"/wiki/Lista_de_unidades_federativas_do_Brasil_por_IDH_segundo_cor/ra%C3%A7a\" title=\"Lista de unidades federativas do Brasil por IDH segundo cor/raça\">segundo cor/raça</a></li></ul></li>\\n<li><a href=\"/wiki/Lista_de_unidades_federativas_do_Brasil_por_IFDM\" title=\"Lista de unidades federativas do Brasil por IFDM\">IFDM</a></li>\\n<li><a href=\"/wiki/Lista_de_unidades_federativas_do_Brasil_por_incid%C3%AAncia_da_pobreza\" title=\"Lista de unidades federativas do Brasil por incidência da pobreza\">Incidência da pobreza</a></li>\\n<li><a href=\"/wiki/Lista_de_unidades_federativas_do_Brasil_por_%C3%ADndice_de_Gini\" title=\"Lista de unidades federativas do Brasil por índice de Gini\">GINI</a></li></ul>\\n</div></td></tr><tr><th scope=\"row\" class=\"navbox-group\" style=\"width:1%\">Educação</th><td class=\"navbox-list navbox-odd hlist\" style=\"text-align:left;border-left-width:2px;border-left-style:solid;width:100%;padding:0px\"><div style=\"padding:0em 0.25em\">\\n<ul><li><a href=\"/wiki/Lista_de_unidades_federativas_do_Brasil_por_alfabetiza%C3%A7%C3%A3o\" title=\"Lista de unidades federativas do Brasil por alfabetização\">Alfabetização</a></li>\\n<li><a href=\"/wiki/Lista_de_unidades_federativas_do_Brasil_por_porcentagem_de_crian%C3%A7as_e_adolescentes_fora_da_escola\" title=\"Lista de unidades federativas do Brasil por porcentagem de crianças e adolescentes fora da escola\">Crianças e adolescentes fora da escola</a></li>\\n<li><a href=\"/wiki/Lista_de_unidades_federativas_do_Brasil_por_porcentagem_de_pessoas_com_n%C3%ADvel_superior_completo\" title=\"Lista de unidades federativas do Brasil por porcentagem de pessoas com nível superior completo\">Nível superior</a></li>\\n<li><a href=\"/wiki/Lista_de_unidades_federativas_do_Brasil_por_nota_do_PISA\" title=\"Lista de unidades federativas do Brasil por nota do PISA\">Nota no PISA</a></li>\\n<li><a href=\"/wiki/Lista_de_unidades_federativas_do_Brasil_por_IDEB\" title=\"Lista de unidades federativas do Brasil por IDEB\">IDEB</a></li></ul>\\n</div></td></tr><tr><th scope=\"row\" class=\"navbox-group\" style=\"width:1%\">Saúde</th><td class=\"navbox-list navbox-even hlist\" style=\"text-align:left;border-left-width:2px;border-left-style:solid;width:100%;padding:0px\"><div style=\"padding:0em 0.25em\">\\n<ul><li><a href=\"/wiki/Lista_de_unidades_federativas_do_Brasil_por_mortalidade_infantil\" title=\"Lista de unidades federativas do Brasil por mortalidade infantil\">Mortalidade infantil</a></li>\\n<li><a href=\"/wiki/Lista_de_unidades_federativas_do_Brasil_por_porcentagem_de_%C3%B3bitos_infantis\" title=\"Lista de unidades federativas do Brasil por porcentagem de óbitos infantis\">Óbitos infantis</a></li>\\n<li><a href=\"/wiki/Lista_de_unidades_federativas_do_Brasil_por_taxa_de_homic%C3%ADdios\" title=\"Lista de unidades federativas do Brasil por taxa de homicídios\">Taxa de homicídios</a></li>\\n<li><a href=\"/wiki/Lista_de_unidades_federativas_do_Brasil_por_n%C3%BAmeros_totais_de_homic%C3%ADdios\" title=\"Lista de unidades federativas do Brasil por números totais de homicídios\">Número absoluto de homicídios</a></li>\\n<li><a href=\"/wiki/Lista_de_unidades_federativas_do_Brasil_por_expectativa_de_vida\" title=\"Lista de unidades federativas do Brasil por expectativa de vida\">Expectativa de vida</a></li>\\n<li><a href=\"/wiki/Lista_de_unidades_federativas_do_Brasil_por_n%C3%BAmero_de_m%C3%A9dicos_para_cada_grupo_de_mil_habitantes\" title=\"Lista de unidades federativas do Brasil por número de médicos para cada grupo de mil habitantes\">Médicos por mil habitantes</a></li>\\n<li><a href=\"/wiki/Lista_de_unidades_federativas_do_Brasil_por_acesso_%C3%A0_rede_de_esgoto\" title=\"Lista de unidades federativas do Brasil por acesso à rede de esgoto\">Rede de esgoto</a></li>\\n<li><a href=\"/w/index.php?title=Lista_de_unidades_federativas_do_Brasil_por_cobertura_de_coleta_de_lixo&amp;action=edit&amp;redlink=1\" class=\"new\" title=\"Lista de unidades federativas do Brasil por cobertura de coleta de lixo (página não existe)\">Coleta de lixo</a></li></ul>\\n</div></td></tr><tr><th scope=\"row\" class=\"navbox-group\" style=\"width:1%\">Outros</th><td class=\"navbox-list navbox-odd hlist\" style=\"text-align:left;border-left-width:2px;border-left-style:solid;width:100%;padding:0px\"><div style=\"padding:0em 0.25em\">\\n<ul><li><a href=\"/wiki/Lista_de_unidades_federativas_do_Brasil_por_religi%C3%A3o\" title=\"Lista de unidades federativas do Brasil por religião\">Religião</a>\\n<ul><li><a href=\"/wiki/Circunscri%C3%A7%C3%B5es_eclesi%C3%A1sticas_cat%C3%B3licas_do_Brasil\" title=\"Circunscrições eclesiásticas católicas do Brasil\">Circunscrições eclesiásticas</a></li></ul></li>\\n<li><a href=\"/wiki/Lista_de_unidades_federativas_do_Brasil_por_competitividade\" title=\"Lista de unidades federativas do Brasil por competitividade\">Competitividade</a></li>\\n<li><a href=\"/w/index.php?title=Lista_de_unidades_federativas_do_Brasil_por_%C3%8Dndice_Potencial_de_Consumo&amp;action=edit&amp;redlink=1\" class=\"new\" title=\"Lista de unidades federativas do Brasil por Índice Potencial de Consumo (página não existe)\">Potencial de consumo</a></li>\\n<li><a href=\"/w/index.php?title=Lista_de_unidades_federativas_do_Brasil_por_extens%C3%A3o_da_malha_rodovi%C3%A1ria&amp;action=edit&amp;redlink=1\" class=\"new\" title=\"Lista de unidades federativas do Brasil por extensão da malha rodoviária (página não existe)\">Malha rodoviária</a>\\n<ul><li><a href=\"/w/index.php?title=Lista_de_unidades_federativas_do_Brasil_por_malha_rodovi%C3%A1ria_asfaltada&amp;action=edit&amp;redlink=1\" class=\"new\" title=\"Lista de unidades federativas do Brasil por malha rodoviária asfaltada (página não existe)\">Asfaltada</a></li>\\n<li><a href=\"/wiki/Lista_de_unidades_federativas_do_Brasil_por_malha_rodovi%C3%A1ria_em_pista_dupla\" title=\"Lista de unidades federativas do Brasil por malha rodoviária em pista dupla\">Pista dupla</a></li></ul></li>\\n<li><a href=\"/wiki/Lista_de_unidades_federativas_do_Brasil_por_autom%C3%B3veis_per_capita\" title=\"Lista de unidades federativas do Brasil por automóveis per capita\">Automóveis <i>per capita</i></a></li>\\n<li><a href=\"/wiki/Lista_de_unidades_federativas_do_Brasil_por_teledensidade\" title=\"Lista de unidades federativas do Brasil por teledensidade\">Celulares por habitante</a></li></ul>\\n</div></td></tr></tbody></table><div></div></td></tr><tr><th scope=\"row\" class=\"navbox-group\" style=\"width:1%\">Símbolos</th><td class=\"navbox-list navbox-even hlist\" style=\"text-align:left;border-left-width:2px;border-left-style:solid;width:100%;padding:0px\"><div style=\"padding:0em 0.25em\">\\n<ul><li><a href=\"/w/index.php?title=Lista_de_bras%C3%B5es_do_Brasil&amp;action=edit&amp;redlink=1\" class=\"new\" title=\"Lista de brasões do Brasil (página não existe)\">Brasões</a></li>\\n<li><a href=\"/w/index.php?title=Hinos_das_unidades_federativas_do_Brasil&amp;action=edit&amp;redlink=1\" class=\"new\" title=\"Hinos das unidades federativas do Brasil (página não existe)\">Hinos</a></li></ul>\\n</div></td></tr></tbody></table></div>\\n<ul class=\"noprint\" style=\"border-top: solid silver 1px; border-bottom:1px solid silver; padding:3px; background-color: #F9F9F9; text-align: center; margin-top:10px; margin-left: 0; clear: both;\"><li style=\"display: inline;\"><span style=\"white-space: nowrap; margin: auto 1.5em\"><span style=\"margin-right: 0.5em\"><a href=\"/wiki/Ficheiro:Flag_of_Brazil.svg\" title=\"Portal do Brasil\"><img alt=\"\" src=\"//upload.wikimedia.org/wikipedia/commons/thumb/0/05/Flag_of_Brazil.svg/25px-Flag_of_Brazil.svg.png\" decoding=\"async\" width=\"25\" height=\"18\" srcset=\"//upload.wikimedia.org/wikipedia/commons/thumb/0/05/Flag_of_Brazil.svg/38px-Flag_of_Brazil.svg.png 1.5x, //upload.wikimedia.org/wikipedia/commons/thumb/0/05/Flag_of_Brazil.svg/50px-Flag_of_Brazil.svg.png 2x\" data-file-width=\"749\" data-file-height=\"525\" /></a></span> <span style=\"font-weight:bold\"><a href=\"/wiki/Portal:Brasil\" title=\"Portal:Brasil\">Portal do Brasil</a></span></span></li>         </ul>\\n<p class=\"mw-empty-elt\">\\n</p>\\n<!-- \\nNewPP limit report\\nParsed by mw1352\\nCached time: 20220926152716\\nCache expiry: 1814400\\nReduced expiry: false\\nComplications: [show‐toc]\\nCPU time usage: 0.351 seconds\\nReal time usage: 0.500 seconds\\nPreprocessor visited node count: 3319/1000000\\nPost‐expand include size: 65272/2097152 bytes\\nTemplate argument size: 4408/2097152 bytes\\nHighest expansion depth: 10/100\\nExpensive parser function count: 0/500\\nUnstrip recursion depth: 0/20\\nUnstrip post‐expand size: 1647/5000000 bytes\\nLua time usage: 0.096/10.000 seconds\\nLua memory usage: 2090337/52428800 bytes\\nNumber of Wikibase entities loaded: 0/400\\n-->\\n<!--\\nTransclusion expansion time report (%,ms,calls,template)\\n100.00%  354.466      1 -total\\n 22.66%   80.318     27 Predefinição:Flag\\n 21.80%   77.265     47 Predefinição:Fmtn\\n 12.75%   45.201      1 Predefinição:Referências\\n 12.01%   42.582      2 Predefinição:Citar_web\\n  8.00%   28.367      1 Predefinição:Lista_destacada\\n  7.56%   26.782      1 Predefinição:Top_icon\\n  7.36%   26.105      2 Predefinição:Navbox\\n  7.05%   24.992      1 Predefinição:Classificações_dos_estados_do_Brasil\\n  5.31%   18.819      1 Predefinição:Category_handler\\n-->\\n\\n<!-- Saved in parser cache with key ptwiki:pcache:idhash:9520-0!canonical and timestamp 20220926152715 and revision id 64219064.\\n -->\\n</div><noscript><img src=\"//pt.wikipedia.org/wiki/Special:CentralAutoLogin/start?type=1x1\" alt=\"\" title=\"\" width=\"1\" height=\"1\" style=\"border: none; position: absolute;\" /></noscript>\\n<div class=\"printfooter\" data-nosnippet=\"\">Obtida de \"<a dir=\"ltr\" href=\"https://pt.wikipedia.org/w/index.php?title=Lista_de_unidades_federativas_do_Brasil_por_área&amp;oldid=64219064\">https://pt.wikipedia.org/w/index.php?title=Lista_de_unidades_federativas_do_Brasil_por_área&amp;oldid=64219064</a>\"</div></div>\\n\\t\\t\\t\\t\\t<div id=\"catlinks\" class=\"catlinks\" data-mw=\"interface\"><div id=\"mw-normal-catlinks\" class=\"mw-normal-catlinks\"><a href=\"/wiki/Especial:Categorias\" title=\"Especial:Categorias\">Categorias</a>: <ul><li><a href=\"/wiki/Categoria:Listas_de_estados_do_Brasil\" title=\"Categoria:Listas de estados do Brasil\">Listas de estados do Brasil</a></li><li><a href=\"/wiki/Categoria:Listas_por_%C3%A1rea\" title=\"Categoria:Listas por área\">Listas por área</a></li></ul></div><div id=\"mw-hidden-catlinks\" class=\"mw-hidden-catlinks mw-hidden-cats-hidden\">Categoria oculta: <ul><li><a href=\"/wiki/Categoria:!Listas_destacadas\" title=\"Categoria:!Listas destacadas\">!Listas destacadas</a></li></ul></div></div>\\n\\t\\t\\t\\t</div>\\n\\t\\t\\t</main>\\n\\t\\t\\t\\n\\t\\t</div>\\n\\t\\t<div class=\"mw-footer-container\">\\n\\t\\t\\t\\n<footer id=\"footer\" class=\"mw-footer\" role=\"contentinfo\" >\\n\\t<ul id=\"footer-info\">\\n\\t<li id=\"footer-info-lastmod\"> Esta página foi editada pela última vez às 01h02min de 18 de agosto de 2022.</li>\\n\\t<li id=\"footer-info-copyright\">Este texto é disponibilizado nos termos da licença <a href=\"https://creativecommons.org/licenses/by-sa/3.0/deed.pt\">Atribuição-CompartilhaIgual 3.0 Não Adaptada (CC BY-SA 3.0) da Creative Commons</a>;\\npode estar sujeito a condições adicionais.\\nPara mais detalhes, consulte as <a href=\"https://foundation.wikimedia.org/wiki/Condições_de_Uso\">condições de utilização</a>.</li>\\n</ul>\\n\\n\\t<ul id=\"footer-places\">\\n\\t<li id=\"footer-places-privacy\"><a href=\"https://meta.wikimedia.org/wiki/Privacy_policy/pt-br\">Política de privacidade</a></li>\\n\\t<li id=\"footer-places-about\"><a href=\"/wiki/Wikip%C3%A9dia:Sobre\">Sobre a Wikipédia</a></li>\\n\\t<li id=\"footer-places-disclaimer\"><a href=\"/wiki/Wikip%C3%A9dia:Aviso_geral\">Avisos gerais</a></li>\\n\\t<li id=\"footer-places-mobileview\"><a href=\"//pt.m.wikipedia.org/w/index.php?title=Lista_de_unidades_federativas_do_Brasil_por_%C3%A1rea&amp;mobileaction=toggle_view_mobile\" class=\"noprint stopMobileRedirectToggle\">Versão móvel</a></li>\\n\\t<li id=\"footer-places-developers\"><a href=\"https://developer.wikimedia.org\">Programadores</a></li>\\n\\t<li id=\"footer-places-statslink\"><a href=\"https://stats.wikimedia.org/#/pt.wikipedia.org\">Estatísticas</a></li>\\n\\t<li id=\"footer-places-cookiestatement\"><a href=\"https://foundation.wikimedia.org/wiki/Cookie_statement\">Declaração sobre \\'\\'cookies\\'\\'</a></li>\\n</ul>\\n\\n\\t<ul id=\"footer-icons\" class=\"noprint\">\\n\\t<li id=\"footer-copyrightico\"><a href=\"https://wikimediafoundation.org/\"><img src=\"/static/images/footer/wikimedia-button.png\" srcset=\"/static/images/footer/wikimedia-button-1.5x.png 1.5x, /static/images/footer/wikimedia-button-2x.png 2x\" width=\"88\" height=\"31\" alt=\"Wikimedia Foundation\" loading=\"lazy\" /></a></li>\\n\\t<li id=\"footer-poweredbyico\"><a href=\"https://www.mediawiki.org/\"><img src=\"/static/images/footer/poweredby_mediawiki_88x31.png\" alt=\"Powered by MediaWiki\" srcset=\"/static/images/footer/poweredby_mediawiki_132x47.png 1.5x, /static/images/footer/poweredby_mediawiki_176x62.png 2x\" width=\"88\" height=\"31\" loading=\"lazy\"/></a></li>\\n</ul>\\n\\n</footer>\\n\\n\\t\\t</div>\\n\\t</div> \\n</div> \\n\\n<script>(RLQ=window.RLQ||[]).push(function(){mw.config.set({\"wgPageParseReport\":{\"limitreport\":{\"cputime\":\"0.351\",\"walltime\":\"0.500\",\"ppvisitednodes\":{\"value\":3319,\"limit\":1000000},\"postexpandincludesize\":{\"value\":65272,\"limit\":2097152},\"templateargumentsize\":{\"value\":4408,\"limit\":2097152},\"expansiondepth\":{\"value\":10,\"limit\":100},\"expensivefunctioncount\":{\"value\":0,\"limit\":500},\"unstrip-depth\":{\"value\":0,\"limit\":20},\"unstrip-size\":{\"value\":1647,\"limit\":5000000},\"entityaccesscount\":{\"value\":0,\"limit\":400},\"timingprofile\":[\"100.00%  354.466      1 -total\",\" 22.66%   80.318     27 Predefinição:Flag\",\" 21.80%   77.265     47 Predefinição:Fmtn\",\" 12.75%   45.201      1 Predefinição:Referências\",\" 12.01%   42.582      2 Predefinição:Citar_web\",\"  8.00%   28.367      1 Predefinição:Lista_destacada\",\"  7.56%   26.782      1 Predefinição:Top_icon\",\"  7.36%   26.105      2 Predefinição:Navbox\",\"  7.05%   24.992      1 Predefinição:Classificações_dos_estados_do_Brasil\",\"  5.31%   18.819      1 Predefinição:Category_handler\"]},\"scribunto\":{\"limitreport-timeusage\":{\"value\":\"0.096\",\"limit\":\"10.000\"},\"limitreport-memusage\":{\"value\":2090337,\"limit\":52428800}},\"cachereport\":{\"origin\":\"mw1352\",\"timestamp\":\"20220926152716\",\"ttl\":1814400,\"transientcontent\":false}}});});</script>\\n<script type=\"application/ld+json\">{\"@context\":\"https:\\\\/\\\\/schema.org\",\"@type\":\"Article\",\"name\":\"Lista de unidades federativas do Brasil por \\\\u00e1rea\",\"url\":\"https:\\\\/\\\\/pt.wikipedia.org\\\\/wiki\\\\/Lista_de_unidades_federativas_do_Brasil_por_%C3%A1rea\",\"sameAs\":\"http:\\\\/\\\\/www.wikidata.org\\\\/entity\\\\/Q864869\",\"mainEntity\":\"http:\\\\/\\\\/www.wikidata.org\\\\/entity\\\\/Q864869\",\"author\":{\"@type\":\"Organization\",\"name\":\"Contribuidores dos projetos da Wikimedia\"},\"publisher\":{\"@type\":\"Organization\",\"name\":\"Funda\\\\u00e7\\\\u00e3o Wikimedia, Inc.\",\"logo\":{\"@type\":\"ImageObject\",\"url\":\"https:\\\\/\\\\/www.wikimedia.org\\\\/static\\\\/images\\\\/wmf-hor-googpub.png\"}},\"datePublished\":\"2004-04-16T21:40:57Z\",\"dateModified\":\"2022-08-18T01:02:49Z\",\"image\":\"https:\\\\/\\\\/upload.wikimedia.org\\\\/wikipedia\\\\/commons\\\\/2\\\\/28\\\\/Brazilian_States_by_Area.svg\",\"headline\":\"artigo de lista da Wikimedia\"}</script><script type=\"application/ld+json\">{\"@context\":\"https:\\\\/\\\\/schema.org\",\"@type\":\"Article\",\"name\":\"Lista de unidades federativas do Brasil por \\\\u00e1rea\",\"url\":\"https:\\\\/\\\\/pt.wikipedia.org\\\\/wiki\\\\/Lista_de_unidades_federativas_do_Brasil_por_%C3%A1rea\",\"sameAs\":\"http:\\\\/\\\\/www.wikidata.org\\\\/entity\\\\/Q864869\",\"mainEntity\":\"http:\\\\/\\\\/www.wikidata.org\\\\/entity\\\\/Q864869\",\"author\":{\"@type\":\"Organization\",\"name\":\"Contribuidores dos projetos da Wikimedia\"},\"publisher\":{\"@type\":\"Organization\",\"name\":\"Funda\\\\u00e7\\\\u00e3o Wikimedia, Inc.\",\"logo\":{\"@type\":\"ImageObject\",\"url\":\"https:\\\\/\\\\/www.wikimedia.org\\\\/static\\\\/images\\\\/wmf-hor-googpub.png\"}},\"datePublished\":\"2004-04-16T21:40:57Z\",\"dateModified\":\"2022-08-18T01:02:49Z\",\"image\":\"https:\\\\/\\\\/upload.wikimedia.org\\\\/wikipedia\\\\/commons\\\\/2\\\\/28\\\\/Brazilian_States_by_Area.svg\",\"headline\":\"artigo de lista da Wikimedia\"}</script>\\n<script>(RLQ=window.RLQ||[]).push(function(){mw.config.set({\"wgBackendResponseTime\":623,\"wgHostname\":\"mw1352\"});});</script>\\n</body>\\n</html>'"
      ]
     },
     "execution_count": 7,
     "metadata": {},
     "output_type": "execute_result"
    }
   ],
   "source": [
    "r.text"
   ]
  },
  {
   "cell_type": "code",
   "execution_count": 8,
   "metadata": {
    "colab": {
     "base_uri": "https://localhost:8080/"
    },
    "executionInfo": {
     "elapsed": 893,
     "status": "ok",
     "timestamp": 1608161654488,
     "user": {
      "displayName": "Orlando O. S.",
      "photoUrl": "https://lh3.googleusercontent.com/a-/AOh14Gj-E1yuy1M_3ruwN4TWYPK4BwysauSW7GQmHheS=s64",
      "userId": "15066502291703974467"
     },
     "user_tz": 180
    },
    "id": "XGtQ7iMb4oP3",
    "outputId": "a1217d5b-29ea-442e-ca99-ecda3bcd1544"
   },
   "outputs": [
    {
     "data": {
      "text/plain": [
       "b'<!DOCTYPE html>\\n<html class=\"client-nojs\" lang=\"pt\" dir=\"ltr\">\\n<head>\\n<meta charset=\"UTF-8\"/>\\n<title>Lista de unidades federativas do Brasil por \\xc3\\xa1rea \\xe2\\x80\\x93 Wikip\\xc3\\xa9dia, a enciclop\\xc3\\xa9dia livre</title>\\n<script>document.documentElement.className=\"client-js\";RLCONF={\"wgBreakFrames\":false,\"wgSeparatorTransformTable\":[\",\\\\t.\",\"\\xc2\\xa0\\\\t,\"],\"wgDigitTransformTable\":[\"\",\"\"],\"wgDefaultDateFormat\":\"dmy\",\"wgMonthNames\":[\"\",\"janeiro\",\"fevereiro\",\"mar\\xc3\\xa7o\",\"abril\",\"maio\",\"junho\",\"julho\",\"agosto\",\"setembro\",\"outubro\",\"novembro\",\"dezembro\"],\"wgRequestId\":\"e46a44ea-a384-425e-98ac-1d459dea7cca\",\"wgCSPNonce\":false,\"wgCanonicalNamespace\":\"\",\"wgCanonicalSpecialPageName\":false,\"wgNamespaceNumber\":0,\"wgPageName\":\"Lista_de_unidades_federativas_do_Brasil_por_\\xc3\\xa1rea\",\"wgTitle\":\"Lista de unidades federativas do Brasil por \\xc3\\xa1rea\",\"wgCurRevisionId\":64219064,\"wgRevisionId\":64219064,\"wgArticleId\":9520,\"wgIsArticle\":true,\"wgIsRedirect\":false,\"wgAction\":\"view\",\"wgUserName\":null,\"wgUserGroups\":[\"*\"],\"wgCategories\":[\"!Listas destacadas\",\"Listas de estados do Brasil\",\"Listas por \\xc3\\xa1rea\"],\"wgPageContentLanguage\":\"pt\",\"wgPageContentModel\":\"wikitext\",\"wgRelevantPageName\":\"Lista_de_unidades_federativas_do_Brasil_por_\\xc3\\xa1rea\",\\n\"wgRelevantArticleId\":9520,\"wgIsProbablyEditable\":true,\"wgRelevantPageIsProbablyEditable\":true,\"wgRestrictionEdit\":[],\"wgRestrictionMove\":[],\"wgVisualEditor\":{\"pageLanguageCode\":\"pt\",\"pageLanguageDir\":\"ltr\",\"pageVariantFallbacks\":\"pt\"},\"wgMFDisplayWikibaseDescriptions\":{\"search\":true,\"nearby\":true,\"watchlist\":true,\"tagline\":true},\"wgWMESchemaEditAttemptStepOversample\":false,\"wgWMEPageLength\":7000,\"wgNoticeProject\":\"wikipedia\",\"wgVector2022PreviewPages\":[],\"wgMediaViewerOnClick\":true,\"wgMediaViewerEnabledByDefault\":true,\"wgPopupsFlags\":10,\"wgULSCurrentAutonym\":\"portugu\\xc3\\xaas\",\"wgEditSubmitButtonLabelPublish\":true,\"wgCentralAuthMobileDomain\":false,\"wgULSPosition\":\"interlanguage\",\"wgULSisCompactLinksEnabled\":true,\"wgWikibaseItemId\":\"Q864869\",\"GEHomepageSuggestedEditsEnableTopics\":true,\"wgGETopicsMatchModeEnabled\":true,\"wgGEStructuredTaskRejectionReasonTextInputEnabled\":false,\"wgSiteNoticeId\":\"2.30\"};RLSTATE={\"skins.vector.user.styles\":\"ready\",\"ext.gadget.FeedbackHighlight-base\":\"ready\",\\n\"ext.gadget.keepPDU\":\"ready\",\"ext.globalCssJs.user.styles\":\"ready\",\"site.styles\":\"ready\",\"user.styles\":\"ready\",\"skins.vector.user\":\"ready\",\"ext.globalCssJs.user\":\"ready\",\"user\":\"ready\",\"user.options\":\"loading\",\"ext.cite.styles\":\"ready\",\"mediawiki.ui.button\":\"ready\",\"skins.vector.styles\":\"ready\",\"skins.vector.icons\":\"ready\",\"mediawiki.ui.icon\":\"ready\",\"jquery.tablesorter.styles\":\"ready\",\"ext.visualEditor.desktopArticleTarget.noscript\":\"ready\",\"ext.wikimediaBadges\":\"ready\",\"ext.uls.interlanguage\":\"ready\",\"wikibase.client.init\":\"ready\",\"ext.dismissableSiteNotice.styles\":\"ready\"};RLPAGEMODULES=[\"ext.cite.ux-enhancements\",\"site\",\"mediawiki.page.ready\",\"jquery.tablesorter\",\"mediawiki.toc\",\"skins.vector.js\",\"skins.vector.es6\",\"mmv.head\",\"mmv.bootstrap.autostart\",\"ext.visualEditor.desktopArticleTarget.init\",\"ext.visualEditor.targetLoader\",\"ext.eventLogging\",\"ext.wikimediaEvents\",\"ext.navigationTiming\",\"ext.cx.eventlogging.campaigns\",\"ext.imagesuggestions.notifications.styles\",\\n\"ext.centralNotice.geoIP\",\"ext.centralNotice.startUp\",\"ext.gadget.Topicon\",\"ext.gadget.Metacaixa\",\"ext.gadget.TitleRewrite\",\"ext.gadget.ElementosOcultaveis\",\"ext.gadget.FeedbackHighlight\",\"ext.gadget.ReferenceTooltips\",\"ext.gadget.NewVillagePump\",\"ext.gadget.wikibugs\",\"ext.gadget.charinsert\",\"ext.gadget.requestForAdminship\",\"ext.gadget.EnhancedSearch\",\"ext.gadget.WikiMiniAtlas\",\"ext.gadget.PagesForDeletion\",\"ext.centralauth.centralautologin\",\"ext.popups\",\"ext.uls.compactlinks\",\"ext.uls.interface\",\"ext.cx.uls.quick.actions\",\"ext.growthExperiments.SuggestedEditSession\",\"ext.dismissableSiteNotice\"];</script>\\n<script>(RLQ=window.RLQ||[]).push(function(){mw.loader.implement(\"user.options@12s5i\",function($,jQuery,require,module){mw.user.tokens.set({\"patrolToken\":\"+\\\\\\\\\",\"watchToken\":\"+\\\\\\\\\",\"csrfToken\":\"+\\\\\\\\\"});});});</script>\\n<link rel=\"stylesheet\" href=\"/w/load.php?lang=pt&amp;modules=ext.cite.styles%7Cext.dismissableSiteNotice.styles%7Cext.uls.interlanguage%7Cext.visualEditor.desktopArticleTarget.noscript%7Cext.wikimediaBadges%7Cjquery.tablesorter.styles%7Cmediawiki.ui.button%2Cicon%7Cskins.vector.icons%2Cstyles%7Cwikibase.client.init&amp;only=styles&amp;skin=vector-2022\"/>\\n<script async=\"\" src=\"/w/load.php?lang=pt&amp;modules=startup&amp;only=scripts&amp;raw=1&amp;skin=vector-2022\"></script>\\n<meta name=\"ResourceLoaderDynamicStyles\" content=\"\"/>\\n<link rel=\"stylesheet\" href=\"/w/load.php?lang=pt&amp;modules=ext.gadget.FeedbackHighlight-base%2CkeepPDU&amp;only=styles&amp;skin=vector-2022\"/>\\n<link rel=\"stylesheet\" href=\"/w/load.php?lang=pt&amp;modules=site.styles&amp;only=styles&amp;skin=vector-2022\"/>\\n<meta name=\"generator\" content=\"MediaWiki 1.40.0-wmf.2\"/>\\n<meta name=\"referrer\" content=\"origin\"/>\\n<meta name=\"referrer\" content=\"origin-when-crossorigin\"/>\\n<meta name=\"referrer\" content=\"origin-when-cross-origin\"/>\\n<meta name=\"format-detection\" content=\"telephone=no\"/>\\n<meta property=\"og:image\" content=\"https://upload.wikimedia.org/wikipedia/commons/thumb/2/28/Brazilian_States_by_Area.svg/1200px-Brazilian_States_by_Area.svg.png\"/>\\n<meta property=\"og:image:width\" content=\"1200\"/>\\n<meta property=\"og:image:height\" content=\"1057\"/>\\n<meta property=\"og:image\" content=\"https://upload.wikimedia.org/wikipedia/commons/thumb/2/28/Brazilian_States_by_Area.svg/800px-Brazilian_States_by_Area.svg.png\"/>\\n<meta property=\"og:image:width\" content=\"800\"/>\\n<meta property=\"og:image:height\" content=\"705\"/>\\n<meta property=\"og:image\" content=\"https://upload.wikimedia.org/wikipedia/commons/thumb/2/28/Brazilian_States_by_Area.svg/640px-Brazilian_States_by_Area.svg.png\"/>\\n<meta property=\"og:image:width\" content=\"640\"/>\\n<meta property=\"og:image:height\" content=\"564\"/>\\n<meta name=\"viewport\" content=\"width=1000\"/>\\n<meta property=\"og:title\" content=\"Lista de unidades federativas do Brasil por \\xc3\\xa1rea \\xe2\\x80\\x93 Wikip\\xc3\\xa9dia, a enciclop\\xc3\\xa9dia livre\"/>\\n<meta property=\"og:type\" content=\"website\"/>\\n<link rel=\"preconnect\" href=\"//upload.wikimedia.org\"/>\\n<link rel=\"alternate\" media=\"only screen and (max-width: 720px)\" href=\"//pt.m.wikipedia.org/wiki/Lista_de_unidades_federativas_do_Brasil_por_%C3%A1rea\"/>\\n<link rel=\"alternate\" type=\"application/x-wiki\" title=\"Editar\" href=\"/w/index.php?title=Lista_de_unidades_federativas_do_Brasil_por_%C3%A1rea&amp;action=edit\"/>\\n<link rel=\"apple-touch-icon\" href=\"/static/apple-touch/wikipedia.png\"/>\\n<link rel=\"icon\" href=\"/static/favicon/wikipedia.ico\"/>\\n<link rel=\"search\" type=\"application/opensearchdescription+xml\" href=\"/w/opensearch_desc.php\" title=\"Wikip\\xc3\\xa9dia (pt)\"/>\\n<link rel=\"EditURI\" type=\"application/rsd+xml\" href=\"//pt.wikipedia.org/w/api.php?action=rsd\"/>\\n<link rel=\"license\" href=\"https://creativecommons.org/licenses/by-sa/3.0/\"/>\\n<link rel=\"canonical\" href=\"https://pt.wikipedia.org/wiki/Lista_de_unidades_federativas_do_Brasil_por_%C3%A1rea\"/>\\n<link rel=\"dns-prefetch\" href=\"//meta.wikimedia.org\" />\\n<link rel=\"dns-prefetch\" href=\"//login.wikimedia.org\"/>\\n</head>\\n<body class=\"skin-vector skin-vector-search-vue mediawiki ltr sitedir-ltr mw-hide-empty-elt ns-0 ns-subject mw-editable page-Lista_de_unidades_federativas_do_Brasil_por_\\xc3\\xa1rea rootpage-Lista_de_unidades_federativas_do_Brasil_por_\\xc3\\xa1rea skin-vector-2022 action-view vector-toc-not-collapsed vector-feature-language-in-header-enabled vector-feature-language-in-main-page-header-disabled vector-feature-language-alert-in-sidebar-enabled vector-feature-sticky-header-disabled vector-feature-sticky-header-edit-disabled vector-feature-table-of-contents-disabled vector-feature-visual-enhancement-next-disabled\"><div class=\"mw-page-container\">\\n\\t<span id=\"top-page\"></span>\\n\\t<a class=\"mw-jump-link\" href=\"#content\">Saltar para o conte\\xc3\\xbado</a>\\n\\t<div class=\"mw-page-container-inner\">\\n\\t\\t<input\\n\\t\\t\\ttype=\"checkbox\"\\n\\t\\t\\tid=\"mw-sidebar-checkbox\"\\n\\t\\t\\tclass=\"mw-checkbox-hack-checkbox\"\\n\\t\\t\\t>\\n\\t\\t<header class=\"mw-header\">\\n\\t\\t\\t<div class=\"mw-header-aside\">\\n\\t\\t\\t<label\\n\\t\\t\\t\\tid=\"mw-sidebar-button\"\\n\\t\\t\\t\\tclass=\"mw-checkbox-hack-button mw-ui-icon mw-ui-button mw-ui-quiet mw-ui-icon-element\"\\n\\t\\t\\t\\tfor=\"mw-sidebar-checkbox\"\\n\\t\\t\\t\\trole=\"button\"\\n\\t\\t\\t\\taria-controls=\"mw-panel\"\\n\\t\\t\\t\\tdata-event-name=\"ui.sidebar\"\\n\\t\\t\\t\\ttabindex=\"0\"\\n\\t\\t\\t\\ttitle=\"Menu principal\">\\n\\t\\t\\t\\t<span>Alternar barra lateral</span>\\n\\t\\t\\t</label>\\n\\t\\t\\t\\n<a href=\"/wiki/Wikip%C3%A9dia:P%C3%A1gina_principal\" class=\"mw-logo\">\\n\\t<img class=\"mw-logo-icon\" src=\"/static/images/mobile/copyright/wikipedia.png\" alt=\"\"\\n\\t\\taria-hidden=\"true\" height=\"50\" width=\"50\">\\n\\t<span class=\"mw-logo-container\">\\n\\t\\t<img class=\"mw-logo-wordmark\" alt=\"Wikip\\xc3\\xa9dia\"\\n\\t\\t\\tsrc=\"/static/images/mobile/copyright/wikipedia-wordmark-fr.svg\" style=\"width: 7.4375em; height: 1.125em;\">\\n\\t\\t<img class=\"mw-logo-tagline\"\\n\\t\\t\\talt=\"\"\\n\\t\\t\\tsrc=\"/static/images/mobile/copyright/wikipedia-tagline-pt.svg\" width=\"113\" height=\"13\" style=\"width: 7.0625em; height: 0.8125em;\">\\n\\t</span>\\n</a>\\n\\n\\t\\t\\t</div>\\n\\t\\t\\t<div class=\"mw-header-content\">\\n\\t\\t\\t\\n<div id=\"p-search\" role=\"search\" class=\"vector-search-box-vue  vector-search-box-collapses  vector-search-box-show-thumbnail vector-search-box-auto-expand-width vector-search-box\">\\n\\t<a href=\"/wiki/Especial:Pesquisar\"\\n\\t\\n\\t\\t\\n\\t\\t\\n\\t\\t\\n\\t\\ttitle=\"Pesquisar na Wikip\\xc3\\xa9dia [f]\"\\n\\t\\taccesskey=\"f\"\\n\\t\\tclass=\"mw-ui-button mw-ui-quiet mw-ui-icon mw-ui-icon-element mw-ui-icon-wikimedia-search search-toggle\">\\n\\t\\t<span>Busca</span>\\n\\t</a>\\n\\t\\n\\t<div>\\n\\t\\t<form action=\"/w/index.php\" id=\"searchform\"\\n\\t\\t\\tclass=\"vector-search-box-form\">\\n\\t\\t\\t<div id=\"simpleSearch\"\\n\\t\\t\\t\\tclass=\"vector-search-box-inner\"\\n\\t\\t\\t\\t data-search-loc=\"header-moved\">\\n\\t\\t\\t\\t<input class=\"vector-search-box-input\"\\n\\t\\t\\t\\t\\t type=\"search\" name=\"search\" placeholder=\"Pesquisar na Wikip\\xc3\\xa9dia\" aria-label=\"Pesquisar na Wikip\\xc3\\xa9dia\" autocapitalize=\"sentences\" title=\"Pesquisar na Wikip\\xc3\\xa9dia [f]\" accesskey=\"f\" id=\"searchInput\"\\n\\t\\t\\t\\t>\\n\\t\\t\\t\\t<input type=\"hidden\" name=\"title\" value=\"Especial:Pesquisar\">\\n\\t\\t\\t\\t<input id=\"mw-searchButton\"\\n\\t\\t\\t\\t\\t class=\"searchButton mw-fallbackSearchButton\" type=\"submit\" name=\"fulltext\" title=\"Procurar p\\xc3\\xa1ginas que cont\\xc3\\xaam este texto\" value=\"Pesquisar\">\\n\\t\\t\\t\\t<input id=\"searchButton\"\\n\\t\\t\\t\\t\\t class=\"searchButton\" type=\"submit\" name=\"go\" title=\"Ir para uma p\\xc3\\xa1gina com este nome exacto, caso exista\" value=\"Ir\">\\n\\t\\t\\t</div>\\n\\t\\t</form>\\n\\t</div>\\n</div>\\n\\n\\t\\t\\t<nav class=\"vector-user-links\" aria-label=\"Ferramentas pessoais\" role=\"navigation\" >\\n\\t\\n\\n<div id=\"p-vector-user-menu-overflow\" class=\"vector-menu mw-portlet mw-portlet-vector-user-menu-overflow vector-user-menu-overflow\"  >\\n\\t<div class=\"vector-menu-content\">\\n\\t\\t\\n\\t\\t<ul class=\"vector-menu-content-list\"><li id=\"pt-createaccount-2\" class=\"user-links-collapsible-item mw-list-item\"><a href=\"/w/index.php?title=Especial:Criar_conta&amp;returnto=Lista+de+unidades+federativas+do+Brasil+por+%C3%A1rea\" title=\"\\xc3\\x89 encorajado a criar uma conta e iniciar sess\\xc3\\xa3o; no entanto, n\\xc3\\xa3o \\xc3\\xa9 obrigat\\xc3\\xb3rio\"><span>Criar uma conta</span></a></li></ul>\\n\\t\\t\\n\\t</div>\\n</div>\\n\\n\\t\\n\\n<div id=\"p-personal\" class=\"vector-menu mw-portlet mw-portlet-personal vector-user-menu vector-user-menu-logged-out vector-menu-dropdown\"  title=\"Mais op\\xc3\\xa7\\xc3\\xb5es\" >\\n\\t<input type=\"checkbox\"\\n\\t\\tid=\"p-personal-checkbox\"\\n\\t\\trole=\"button\"\\n\\t\\taria-haspopup=\"true\"\\n\\t\\tdata-event-name=\"ui.dropdown-p-personal\"\\n\\t\\tclass=\"vector-menu-checkbox\"\\n\\t\\t\\n\\t\\t\\n\\t/>\\n\\t<label\\n\\t\\tid=\"p-personal-label\"\\n\\t\\tfor=\"p-personal-checkbox\"\\n\\t\\tclass=\"vector-menu-heading mw-ui-button mw-ui-quiet mw-ui-icon mw-ui-icon-element mw-ui-icon-ellipsis mw-ui-icon-wikimedia-ellipsis\"\\n\\t\\t\\n\\t>\\n\\t\\t<span class=\"vector-menu-heading-label\">Ferramentas pessoais</span>\\n\\t</label>\\n\\t<div class=\"vector-menu-content\">\\n\\t\\t<div class=\"vector-user-menu-create-account\"><a href=\"/w/index.php?title=Especial:Criar_conta&amp;returnto=Lista+de+unidades+federativas+do+Brasil+por+%C3%A1rea\" class=\"vector-menu-content-item user-links-collapsible-item\" title=\"\\xc3\\x89 encorajado a criar uma conta e iniciar sess\\xc3\\xa3o; no entanto, n\\xc3\\xa3o \\xc3\\xa9 obrigat\\xc3\\xb3rio\"><span class=\"mw-ui-icon mw-ui-icon-userAdd mw-ui-icon-wikimedia-userAdd\"></span> <span>Criar uma conta</span></a></div>\\n<div class=\"vector-user-menu-login\"><a href=\"/w/index.php?title=Especial:Entrar&amp;returnto=Lista+de+unidades+federativas+do+Brasil+por+%C3%A1rea\" class=\"vector-menu-content-item vector-menu-content-item-login\" title=\"Aconselhamos-lhe a criar uma conta na Wikip\\xc3\\xa9dia, embora tal n\\xc3\\xa3o seja obrigat\\xc3\\xb3rio. [o]\" accesskey=\"o\"><span class=\"mw-ui-icon mw-ui-icon-logIn mw-ui-icon-wikimedia-logIn\"></span> <span>Entrar</span></a></div>\\n<div class=\"vector-user-menu-anon-editor\">\\n\\t<p>\\n\\t\\tP\\xc3\\xa1ginas para editores sem sess\\xc3\\xa3o iniciada <a href=\"/wiki/Ajuda:Introduction\" aria-label=\"Saiba mais sobre edi\\xc3\\xa7\\xc3\\xa3o\"><span>saber mais</span></a>\\n\\t</p>\\n</div>\\n\\n\\t\\t<ul class=\"vector-menu-content-list\"><li id=\"pt-anontalk\" class=\"mw-list-item\"><a href=\"/wiki/Especial:Minha_discuss%C3%A3o\" title=\"Discuss\\xc3\\xa3o sobre edi\\xc3\\xa7\\xc3\\xb5es feitas a partir deste endere\\xc3\\xa7o IP [n]\" accesskey=\"n\"><span>Discuss\\xc3\\xa3o</span></a></li><li id=\"pt-anoncontribs\" class=\"mw-list-item\"><a href=\"/wiki/Especial:Minhas_contribui%C3%A7%C3%B5es\" title=\"Uma lista de edi\\xc3\\xa7\\xc3\\xb5es feitas a partir deste endere\\xc3\\xa7o IP [y]\" accesskey=\"y\"><span>Contribui\\xc3\\xa7\\xc3\\xb5es</span></a></li></ul>\\n\\t\\t\\n\\t</div>\\n</div>\\n\\n</nav>\\n\\n\\t\\t\\t</div>\\n\\t\\t</header>\\n\\t\\t<div class=\"vector-sidebar-container \">\\n\\t\\t\\t<div id=\"mw-navigation\">\\n\\t\\t\\t\\t\\n\\n<nav id=\"mw-panel\" class=\"mw-sidebar\" aria-label=\"&#039;&#039;Site&#039;&#039;\" role=\"navigation\">\\n\\t\\n\\n<div id=\"p-navigation\" class=\"vector-menu mw-portlet mw-portlet-navigation vector-menu-portal portal\"  >\\n\\t<div\\n\\t\\tid=\"p-navigation-label\"\\n\\t\\tclass=\"vector-menu-heading \"\\n\\t\\t\\n\\t>\\n\\t\\t<span class=\"vector-menu-heading-label\">Navega\\xc3\\xa7\\xc3\\xa3o</span>\\n\\t</div>\\n\\t<div class=\"vector-menu-content\">\\n\\t\\t\\n\\t\\t<ul class=\"vector-menu-content-list\"><li id=\"n-mainpage-description\" class=\"mw-list-item\"><a href=\"/wiki/Wikip%C3%A9dia:P%C3%A1gina_principal\" title=\"Visitar a p\\xc3\\xa1gina principal [z]\" accesskey=\"z\"><span>P\\xc3\\xa1gina principal</span></a></li><li id=\"n-featuredcontent\" class=\"mw-list-item\"><a href=\"/wiki/Portal:Conte%C3%BAdo_destacado\"><span>Conte\\xc3\\xbado destacado</span></a></li><li id=\"n-currentevents\" class=\"mw-list-item\"><a href=\"/wiki/Portal:Eventos_atuais\" title=\"Informa\\xc3\\xa7\\xc3\\xa3o tem\\xc3\\xa1tica sobre eventos atuais\"><span>Eventos atuais</span></a></li><li id=\"n-villagepump\" class=\"mw-list-item\"><a href=\"/wiki/Wikip%C3%A9dia:Esplanada\"><span>Esplanada</span></a></li><li id=\"n-randompage\" class=\"mw-list-item\"><a href=\"/wiki/Especial:Aleat%C3%B3ria\" title=\"Carregar p\\xc3\\xa1gina aleat\\xc3\\xb3ria [x]\" accesskey=\"x\"><span>P\\xc3\\xa1gina aleat\\xc3\\xb3ria</span></a></li><li id=\"n-portals\" class=\"mw-list-item\"><a href=\"/wiki/Portal:%C3%8Dndice\"><span>Portais</span></a></li><li id=\"n-bug_in_article\" class=\"mw-list-item\"><a href=\"/wiki/Wikip%C3%A9dia:Informe_um_erro\"><span>Informar um erro</span></a></li></ul>\\n\\t\\t\\n\\t</div>\\n</div>\\n\\n\\t\\n\\t\\n\\n<div id=\"p-interaction\" class=\"vector-menu mw-portlet mw-portlet-interaction vector-menu-portal portal\"  >\\n\\t<div\\n\\t\\tid=\"p-interaction-label\"\\n\\t\\tclass=\"vector-menu-heading \"\\n\\t\\t\\n\\t>\\n\\t\\t<span class=\"vector-menu-heading-label\">Colabora\\xc3\\xa7\\xc3\\xa3o</span>\\n\\t</div>\\n\\t<div class=\"vector-menu-content\">\\n\\t\\t\\n\\t\\t<ul class=\"vector-menu-content-list\"><li id=\"n-welcome\" class=\"mw-list-item\"><a href=\"/wiki/Wikip%C3%A9dia:Boas-vindas\"><span>Boas-vindas</span></a></li><li id=\"n-help\" class=\"mw-list-item\"><a href=\"/wiki/Ajuda:P%C3%A1gina_principal\" title=\"Um local reservado para aux\\xc3\\xadlio.\"><span>Ajuda</span></a></li><li id=\"n-testpage\" class=\"mw-list-item\"><a href=\"/wiki/Ajuda:P%C3%A1gina_de_testes\"><span>P\\xc3\\xa1gina de testes</span></a></li><li id=\"n-portal\" class=\"mw-list-item\"><a href=\"/wiki/Wikip%C3%A9dia:Portal_comunit%C3%A1rio\" title=\"Sobre o projeto\"><span>Portal comunit\\xc3\\xa1rio</span></a></li><li id=\"n-recentchanges\" class=\"mw-list-item\"><a href=\"/wiki/Especial:Mudan%C3%A7as_recentes\" title=\"Uma lista de mudan\\xc3\\xa7as recentes nesta wiki [r]\" accesskey=\"r\"><span>Mudan\\xc3\\xa7as recentes</span></a></li><li id=\"n-maintenance\" class=\"mw-list-item\"><a href=\"/wiki/Wikip%C3%A9dia:Manuten%C3%A7%C3%A3o\"><span>Manuten\\xc3\\xa7\\xc3\\xa3o</span></a></li><li id=\"n-createpage\" class=\"mw-list-item\"><a href=\"/wiki/Ajuda:Guia_de_edi%C3%A7%C3%A3o/Como_come%C3%A7ar_uma_p%C3%A1gina\"><span>Criar p\\xc3\\xa1gina</span></a></li><li id=\"n-newpages-description\" class=\"mw-list-item\"><a href=\"/wiki/Especial:P%C3%A1ginas_novas\"><span>P\\xc3\\xa1ginas novas</span></a></li><li id=\"n-contact-description\" class=\"mw-list-item\"><a href=\"/wiki/Wikip%C3%A9dia:Contato\"><span>Contato</span></a></li><li id=\"n-sitesupport\" class=\"mw-list-item\"><a href=\"//donate.wikimedia.org/wiki/Special:FundraiserRedirector?utm_source=donate&amp;utm_medium=sidebar&amp;utm_campaign=20120521SB001&amp;uselang=pt\" title=\"Ajude-nos\"><span>Donativos</span></a></li></ul>\\n\\t\\t\\n\\t</div>\\n</div>\\n\\n\\n<div id=\"p-tb\" class=\"vector-menu mw-portlet mw-portlet-tb vector-menu-portal portal\"  >\\n\\t<div\\n\\t\\tid=\"p-tb-label\"\\n\\t\\tclass=\"vector-menu-heading \"\\n\\t\\t\\n\\t>\\n\\t\\t<span class=\"vector-menu-heading-label\">Ferramentas</span>\\n\\t</div>\\n\\t<div class=\"vector-menu-content\">\\n\\t\\t\\n\\t\\t<ul class=\"vector-menu-content-list\"><li id=\"t-whatlinkshere\" class=\"mw-list-item\"><a href=\"/wiki/Especial:P%C3%A1ginas_afluentes/Lista_de_unidades_federativas_do_Brasil_por_%C3%A1rea\" title=\"Lista de todas as p\\xc3\\xa1ginas que cont\\xc3\\xaam hiperliga\\xc3\\xa7\\xc3\\xb5es para esta [j]\" accesskey=\"j\"><span>P\\xc3\\xa1ginas afluentes</span></a></li><li id=\"t-recentchangeslinked\" class=\"mw-list-item\"><a href=\"/wiki/Especial:Altera%C3%A7%C3%B5es_relacionadas/Lista_de_unidades_federativas_do_Brasil_por_%C3%A1rea\" rel=\"nofollow\" title=\"Mudan\\xc3\\xa7as recentes nas p\\xc3\\xa1ginas para as quais esta cont\\xc3\\xa9m hiperliga\\xc3\\xa7\\xc3\\xb5es [k]\" accesskey=\"k\"><span>Altera\\xc3\\xa7\\xc3\\xb5es relacionadas</span></a></li><li id=\"t-upload\" class=\"mw-list-item\"><a href=\"/wiki/Wikipedia:Carregar_ficheiro\" title=\"Carregar ficheiros [u]\" accesskey=\"u\"><span>Carregar ficheiro</span></a></li><li id=\"t-specialpages\" class=\"mw-list-item\"><a href=\"/wiki/Especial:P%C3%A1ginas_especiais\" title=\"Lista de p\\xc3\\xa1ginas especiais [q]\" accesskey=\"q\"><span>P\\xc3\\xa1ginas especiais</span></a></li><li id=\"t-permalink\" class=\"mw-list-item\"><a href=\"/w/index.php?title=Lista_de_unidades_federativas_do_Brasil_por_%C3%A1rea&amp;oldid=64219064\" title=\"Hiperliga\\xc3\\xa7\\xc3\\xa3o permanente para esta revis\\xc3\\xa3o desta p\\xc3\\xa1gina\"><span>Hiperliga\\xc3\\xa7\\xc3\\xa3o permanente</span></a></li><li id=\"t-info\" class=\"mw-list-item\"><a href=\"/w/index.php?title=Lista_de_unidades_federativas_do_Brasil_por_%C3%A1rea&amp;action=info\" title=\"Mais informa\\xc3\\xa7\\xc3\\xb5es sobre esta p\\xc3\\xa1gina\"><span>Informa\\xc3\\xa7\\xc3\\xb5es da p\\xc3\\xa1gina</span></a></li><li id=\"t-cite\" class=\"mw-list-item\"><a href=\"/w/index.php?title=Especial:Citar&amp;page=Lista_de_unidades_federativas_do_Brasil_por_%C3%A1rea&amp;id=64219064&amp;wpFormIdentifier=titleform\" title=\"Informa\\xc3\\xa7\\xc3\\xa3o sobre como citar esta p\\xc3\\xa1gina\"><span>Citar esta p\\xc3\\xa1gina</span></a></li><li id=\"t-wikibase\" class=\"mw-list-item\"><a href=\"https://www.wikidata.org/wiki/Special:EntityPage/Q864869\" title=\"Hiperliga\\xc3\\xa7\\xc3\\xa3o para o elemento do reposit\\xc3\\xb3rio de dados [g]\" accesskey=\"g\"><span>Elemento Wikidata</span></a></li></ul>\\n\\t\\t\\n\\t</div>\\n</div>\\n\\n\\n<div id=\"p-coll-print_export\" class=\"vector-menu mw-portlet mw-portlet-coll-print_export vector-menu-portal portal\"  >\\n\\t<div\\n\\t\\tid=\"p-coll-print_export-label\"\\n\\t\\tclass=\"vector-menu-heading \"\\n\\t\\t\\n\\t>\\n\\t\\t<span class=\"vector-menu-heading-label\">Imprimir/exportar</span>\\n\\t</div>\\n\\t<div class=\"vector-menu-content\">\\n\\t\\t\\n\\t\\t<ul class=\"vector-menu-content-list\"><li id=\"coll-create_a_book\" class=\"mw-list-item\"><a href=\"/w/index.php?title=Especial:Livro&amp;bookcmd=book_creator&amp;referer=Lista+de+unidades+federativas+do+Brasil+por+%C3%A1rea\"><span>Criar um livro</span></a></li><li id=\"coll-download-as-rl\" class=\"mw-list-item\"><a href=\"/w/index.php?title=Especial:DownloadAsPdf&amp;page=Lista_de_unidades_federativas_do_Brasil_por_%C3%A1rea&amp;action=show-download-screen\"><span>Descarregar como PDF</span></a></li><li id=\"t-print\" class=\"mw-list-item\"><a href=\"/w/index.php?title=Lista_de_unidades_federativas_do_Brasil_por_%C3%A1rea&amp;printable=yes\" title=\"Vers\\xc3\\xa3o para impress\\xc3\\xa3o desta p\\xc3\\xa1gina [p]\" accesskey=\"p\"><span>Vers\\xc3\\xa3o para impress\\xc3\\xa3o</span></a></li></ul>\\n\\t\\t\\n\\t</div>\\n</div>\\n\\n\\t\\n<div class=\"mw-sidebar-action \">\\n\\t<div class=\"mw-sidebar-action-item vector-menu-portal\">\\n\\t\\t<div class=\"mw-sidebar-action-heading vector-menu-heading\">L\\xc3\\xadnguas</div>\\n\\t\\t<div class=\"mw-sidebar-action-content vector-menu-content\">\\n\\t\\t\\t<div class=\"mw-message-box-notice vector-language-sidebar-alert mw-message-box\">Nesta Wikip\\xc3\\xa9dia, os atalhos de idioma est\\xc3\\xa3o na <a href=\"#p-lang-btn\">parte superior da p\\xc3\\xa1gina, em frente ao t\\xc3\\xadtulo do artigo</a>.</div>\\n\\t\\t</div>\\n\\t</div>\\n</div>\\n\\n</nav>\\n\\n\\t\\t\\t</div>\\n\\t\\t</div>\\n\\t\\t<div class=\"vector-sitenotice-container\">\\n\\t\\t\\t<div id=\"siteNotice\"><!-- CentralNotice --><div id=\"mw-dismissablenotice-anonplace\"></div><script>(function(){var node=document.getElementById(\"mw-dismissablenotice-anonplace\");if(node){node.outerHTML=\"\\\\u003Cdiv class=\\\\\"mw-dismissable-notice\\\\\"\\\\u003E\\\\u003Cdiv class=\\\\\"mw-dismissable-notice-close\\\\\"\\\\u003E[\\\\u003Ca tabindex=\\\\\"0\\\\\" role=\\\\\"button\\\\\"\\\\u003Eocultar\\\\u003C/a\\\\u003E]\\\\u003C/div\\\\u003E\\\\u003Cdiv class=\\\\\"mw-dismissable-notice-body\\\\\"\\\\u003E\\\\u003Cdiv id=\\\\\"localNotice\\\\\"\\\\u003E\\\\u003Cdiv class=\\\\\"anonnotice\\\\\" lang=\\\\\"pt\\\\\" dir=\\\\\"ltr\\\\\"\\\\u003E\\\\u003C/div\\\\u003E\\\\u003C/div\\\\u003E\\\\u003C/div\\\\u003E\\\\u003C/div\\\\u003E\";}}());</script></div>\\n\\t\\t</div>\\n\\t\\t<input type=\"checkbox\" id=\"vector-toc-collapsed-checkbox\" class=\"mw-checkbox-hack-checkbox\">\\n\\t\\t<div class=\"mw-table-of-contents-container\">\\n\\t\\t\\t<div class=\"vector-sticky-toc-container mw-sticky-header-element\">\\n\\t\\t\\t\\t<nav id=\"mw-panel-toc\" class=\"sidebar-toc\" role=\"navigation\" aria-labelledby=\"sidebar-toc-label\" data-event-name=\"ui.sidebar-toc\">\\n\\t\\t\\t<div id=\"sidebar-toc-label\" class=\"sidebar-toc-header\">\\n\\t\\t\\t\\t<p class=\"sidebar-toc-title\">\\n\\t\\t\\t\\tConte\\xc3\\xbado\\n\\t\\t\\t\\t<button class=\"vector-toc-uncollapse-button\">mover para a barra lateral</button>\\n\\t\\t\\t\\t<button class=\"vector-toc-collapse-button\">ocultar</button>\\n\\t\\t\\t\\t</p>\\n\\t\\t\\t</div>\\n\\t\\t\\t<ul class=\"sidebar-toc-contents\" id=\"mw-panel-toc-list\">\\n\\t\\t\\t\\t<li id=\"toc-mw-content-text\"\\n\\t\\t\\t\\t\\tclass=\"sidebar-toc-list-item sidebar-toc-level-1\">\\n\\t\\t\\t\\t\\t<a href=\"#top-page\" class=\"sidebar-toc-link\">\\n\\t\\t\\t\\t\\t\\t<div class=\"sidebar-toc-text\">In\\xc3\\xadcio</div>\\n\\t\\t\\t\\t\\t</a>\\n\\t\\t\\t\\t</li>\\n\\t\\t\\t\\t<li id=\"toc-Classifica\\xc3\\xa7\\xc3\\xa3o\"\\n\\t\\t\\tclass=\"sidebar-toc-list-item sidebar-toc-level-1 sidebar-toc-list-item-expanded\">\\n\\t\\t\\t<a class=\"sidebar-toc-link\" href=\"#Classifica\\xc3\\xa7\\xc3\\xa3o\">\\n\\t\\t\\t\\t<div class=\"sidebar-toc-text\">\\n\\t\\t\\t\\t<span class=\"sidebar-toc-numb\">1</span>Classifica\\xc3\\xa7\\xc3\\xa3o</div>\\n\\t\\t\\t</a>\\n\\t\\t\\t\\n\\t\\t\\t<ul id=\"toc-Classifica\\xc3\\xa7\\xc3\\xa3o-sublist\" class=\"sidebar-toc-list\">\\n\\t\\t\\t</ul>\\n\\t\\t</li>\\n\\t\\t<li id=\"toc-Por_regi\\xc3\\xa3o\"\\n\\t\\t\\tclass=\"sidebar-toc-list-item sidebar-toc-level-1 sidebar-toc-list-item-expanded\">\\n\\t\\t\\t<a class=\"sidebar-toc-link\" href=\"#Por_regi\\xc3\\xa3o\">\\n\\t\\t\\t\\t<div class=\"sidebar-toc-text\">\\n\\t\\t\\t\\t<span class=\"sidebar-toc-numb\">2</span>Por regi\\xc3\\xa3o</div>\\n\\t\\t\\t</a>\\n\\t\\t\\t\\n\\t\\t\\t<ul id=\"toc-Por_regi\\xc3\\xa3o-sublist\" class=\"sidebar-toc-list\">\\n\\t\\t\\t</ul>\\n\\t\\t</li>\\n\\t\\t<li id=\"toc-Ver_tamb\\xc3\\xa9m\"\\n\\t\\t\\tclass=\"sidebar-toc-list-item sidebar-toc-level-1 sidebar-toc-list-item-expanded\">\\n\\t\\t\\t<a class=\"sidebar-toc-link\" href=\"#Ver_tamb\\xc3\\xa9m\">\\n\\t\\t\\t\\t<div class=\"sidebar-toc-text\">\\n\\t\\t\\t\\t<span class=\"sidebar-toc-numb\">3</span>Ver tamb\\xc3\\xa9m</div>\\n\\t\\t\\t</a>\\n\\t\\t\\t\\n\\t\\t\\t<ul id=\"toc-Ver_tamb\\xc3\\xa9m-sublist\" class=\"sidebar-toc-list\">\\n\\t\\t\\t</ul>\\n\\t\\t</li>\\n\\t\\t<li id=\"toc-Refer\\xc3\\xaancias\"\\n\\t\\t\\tclass=\"sidebar-toc-list-item sidebar-toc-level-1 sidebar-toc-list-item-expanded\">\\n\\t\\t\\t<a class=\"sidebar-toc-link\" href=\"#Refer\\xc3\\xaancias\">\\n\\t\\t\\t\\t<div class=\"sidebar-toc-text\">\\n\\t\\t\\t\\t<span class=\"sidebar-toc-numb\">4</span>Refer\\xc3\\xaancias</div>\\n\\t\\t\\t</a>\\n\\t\\t\\t\\n\\t\\t\\t<ul id=\"toc-Refer\\xc3\\xaancias-sublist\" class=\"sidebar-toc-list\">\\n\\t\\t\\t</ul>\\n\\t\\t</li>\\n\\t\\t<li id=\"toc-Liga\\xc3\\xa7\\xc3\\xb5es_externas\"\\n\\t\\t\\tclass=\"sidebar-toc-list-item sidebar-toc-level-1 sidebar-toc-list-item-expanded\">\\n\\t\\t\\t<a class=\"sidebar-toc-link\" href=\"#Liga\\xc3\\xa7\\xc3\\xb5es_externas\">\\n\\t\\t\\t\\t<div class=\"sidebar-toc-text\">\\n\\t\\t\\t\\t<span class=\"sidebar-toc-numb\">5</span>Liga\\xc3\\xa7\\xc3\\xb5es externas</div>\\n\\t\\t\\t</a>\\n\\t\\t\\t\\n\\t\\t\\t<ul id=\"toc-Liga\\xc3\\xa7\\xc3\\xb5es_externas-sublist\" class=\"sidebar-toc-list\">\\n\\t\\t\\t</ul>\\n\\t\\t</li>\\n\\t</ul>\\n\\t\\t</nav>\\n\\t</div>\\n\\t\\t</div>\\n\\t\\t<div class=\"mw-content-container\">\\n\\t\\t\\t<main id=\"content\" class=\"mw-body\" role=\"main\">\\n\\t\\t\\t\\t<a id=\"top\"></a>\\n\\t\\t\\t\\t<header class=\"mw-body-header vector-page-titlebar\">\\n\\t\\t\\t\\t\\t<label\\n\\t\\t\\t\\t\\t\\tid=\"vector-toc-collapsed-button\"\\n\\t\\t\\t\\t\\t\\tclass=\"mw-ui-button mw-ui-quiet mw-ui-icon mw-ui-icon-element mw-ui-icon-wikimedia-listBullet mw-checkbox-hack-button\"\\n\\t\\t\\t\\t\\t\\tfor=\"vector-toc-collapsed-checkbox\"\\n\\t\\t\\t\\t\\t\\trole=\"button\"\\n\\t\\t\\t\\t\\t\\taria-controls=\"toc-toggle-list\"\\n\\t\\t\\t\\t\\t\\tdata-event-name=\"vector.toc-toggle-list\"\\n\\t\\t\\t\\t\\t\\ttabindex=\"0\"\\n\\t\\t\\t\\t\\t\\ttitle=\"\\xc3\\x8dndice\">\\n\\t\\t\\t\\t\\t\\tAlternar o \\xc3\\xadndice\\n\\t\\t\\t\\t\\t</label>\\n\\t\\t\\t\\t\\n\\t\\t\\t\\t    <h1 id=\"firstHeading\" class=\"firstHeading mw-first-heading\"><span class=\"mw-page-title-main\">Lista de unidades federativas do Brasil por \\xc3\\xa1rea</span></h1>\\n\\t\\t\\t\\t\\n\\t\\t\\t\\t            \\n            \\n            <div id=\"p-lang-btn\" class=\"vector-menu mw-portlet mw-portlet-lang vector-menu-dropdown\"  >\\n            \\t<input type=\"checkbox\"\\n            \\t\\tid=\"p-lang-btn-checkbox\"\\n            \\t\\trole=\"button\"\\n            \\t\\taria-haspopup=\"true\"\\n            \\t\\tdata-event-name=\"ui.dropdown-p-lang-btn\"\\n            \\t\\tclass=\"vector-menu-checkbox  mw-interlanguage-selector \"\\n            \\t\\taria-label=\"Ir para um artigo noutra l\\xc3\\xadngua. Dispon\\xc3\\xadvel em 8 l\\xc3\\xadnguas\"\\n            \\t\\t\\n            \\t/>\\n            \\t<label\\n            \\t\\tid=\"p-lang-btn-label\"\\n            \\t\\tfor=\"p-lang-btn-checkbox\"\\n            \\t\\tclass=\"vector-menu-heading mw-ui-progressive mw-portlet-lang-heading-8 mw-ui-button mw-ui-quiet\"\\n            \\t\\t\\n            \\t>\\n            \\t\\t<span class=\"mw-ui-icon mw-ui-icon-language-progressive mw-ui-icon-wikimedia-language-progressive\"></span><span class=\"vector-menu-heading-label\">8 l\\xc3\\xadnguas</span>\\n            \\t</label>\\n            \\t<div class=\"vector-menu-content\">\\n            \\t\\t\\n            \\t\\t<ul class=\"vector-menu-content-list\"><li class=\"interlanguage-link interwiki-ar mw-list-item\"><a href=\"https://ar.wikipedia.org/wiki/%D9%82%D8%A7%D8%A6%D9%85%D8%A9_%D9%88%D9%84%D8%A7%D9%8A%D8%A7%D8%AA_%D8%A7%D9%84%D8%A8%D8%B1%D8%A7%D8%B2%D9%8A%D9%84_%D8%AD%D8%B3%D8%A8_%D8%A7%D9%84%D9%85%D8%B3%D8%A7%D8%AD%D8%A9\" title=\"\\xd9\\x82\\xd8\\xa7\\xd8\\xa6\\xd9\\x85\\xd8\\xa9 \\xd9\\x88\\xd9\\x84\\xd8\\xa7\\xd9\\x8a\\xd8\\xa7\\xd8\\xaa \\xd8\\xa7\\xd9\\x84\\xd8\\xa8\\xd8\\xb1\\xd8\\xa7\\xd8\\xb2\\xd9\\x8a\\xd9\\x84 \\xd8\\xad\\xd8\\xb3\\xd8\\xa8 \\xd8\\xa7\\xd9\\x84\\xd9\\x85\\xd8\\xb3\\xd8\\xa7\\xd8\\xad\\xd8\\xa9 \\xe2\\x80\\x94 \\xc3\\xa1rabe\" lang=\"ar\" hreflang=\"ar\" class=\"interlanguage-link-target\"><span>\\xd8\\xa7\\xd9\\x84\\xd8\\xb9\\xd8\\xb1\\xd8\\xa8\\xd9\\x8a\\xd8\\xa9</span></a></li><li class=\"interlanguage-link interwiki-bn mw-list-item\"><a href=\"https://bn.wikipedia.org/wiki/%E0%A6%86%E0%A6%AF%E0%A6%BC%E0%A6%A4%E0%A6%A8_%E0%A6%85%E0%A6%A8%E0%A7%81%E0%A6%AF%E0%A6%BE%E0%A6%AF%E0%A6%BC%E0%A7%80_%E0%A6%AC%E0%A7%8D%E0%A6%B0%E0%A6%BE%E0%A6%9C%E0%A6%BF%E0%A6%B2%E0%A7%80%E0%A6%AF%E0%A6%BC_%E0%A6%B0%E0%A6%BE%E0%A6%9C%E0%A7%8D%E0%A6%AF%E0%A6%97%E0%A7%81%E0%A6%B2%E0%A6%BF%E0%A6%B0_%E0%A6%A4%E0%A6%BE%E0%A6%B2%E0%A6%BF%E0%A6%95%E0%A6%BE\" title=\"\\xe0\\xa6\\x86\\xe0\\xa6\\xaf\\xe0\\xa6\\xbc\\xe0\\xa6\\xa4\\xe0\\xa6\\xa8 \\xe0\\xa6\\x85\\xe0\\xa6\\xa8\\xe0\\xa7\\x81\\xe0\\xa6\\xaf\\xe0\\xa6\\xbe\\xe0\\xa6\\xaf\\xe0\\xa6\\xbc\\xe0\\xa7\\x80 \\xe0\\xa6\\xac\\xe0\\xa7\\x8d\\xe0\\xa6\\xb0\\xe0\\xa6\\xbe\\xe0\\xa6\\x9c\\xe0\\xa6\\xbf\\xe0\\xa6\\xb2\\xe0\\xa7\\x80\\xe0\\xa6\\xaf\\xe0\\xa6\\xbc \\xe0\\xa6\\xb0\\xe0\\xa6\\xbe\\xe0\\xa6\\x9c\\xe0\\xa7\\x8d\\xe0\\xa6\\xaf\\xe0\\xa6\\x97\\xe0\\xa7\\x81\\xe0\\xa6\\xb2\\xe0\\xa6\\xbf\\xe0\\xa6\\xb0 \\xe0\\xa6\\xa4\\xe0\\xa6\\xbe\\xe0\\xa6\\xb2\\xe0\\xa6\\xbf\\xe0\\xa6\\x95\\xe0\\xa6\\xbe \\xe2\\x80\\x94 bengal\\xc3\\xaas\" lang=\"bn\" hreflang=\"bn\" class=\"interlanguage-link-target\"><span>\\xe0\\xa6\\xac\\xe0\\xa6\\xbe\\xe0\\xa6\\x82\\xe0\\xa6\\xb2\\xe0\\xa6\\xbe</span></a></li><li class=\"interlanguage-link interwiki-ca mw-list-item\"><a href=\"https://ca.wikipedia.org/wiki/Estats_del_Brasil_per_superf%C3%ADcie,_poblaci%C3%B3_i_densitat\" title=\"Estats del Brasil per superf\\xc3\\xadcie, poblaci\\xc3\\xb3 i densitat \\xe2\\x80\\x94 catal\\xc3\\xa3o\" lang=\"ca\" hreflang=\"ca\" class=\"interlanguage-link-target\"><span>Catal\\xc3\\xa0</span></a></li><li class=\"interlanguage-link interwiki-en mw-list-item\"><a href=\"https://en.wikipedia.org/wiki/List_of_Brazilian_states_by_area\" title=\"List of Brazilian states by area \\xe2\\x80\\x94 ingl\\xc3\\xaas\" lang=\"en\" hreflang=\"en\" class=\"interlanguage-link-target\"><span>English</span></a></li><li class=\"interlanguage-link interwiki-es mw-list-item\"><a href=\"https://es.wikipedia.org/wiki/Anexo:Estados_de_Brasil_por_superficie,_poblaci%C3%B3n_y_densidad\" title=\"Anexo:Estados de Brasil por superficie, poblaci\\xc3\\xb3n y densidad \\xe2\\x80\\x94 espanhol\" lang=\"es\" hreflang=\"es\" class=\"interlanguage-link-target\"><span>Espa\\xc3\\xb1ol</span></a></li><li class=\"interlanguage-link interwiki-uk mw-list-item\"><a href=\"https://uk.wikipedia.org/wiki/%D0%A1%D0%BF%D0%B8%D1%81%D0%BE%D0%BA_%D1%88%D1%82%D0%B0%D1%82%D1%96%D0%B2_%D0%91%D1%80%D0%B0%D0%B7%D0%B8%D0%BB%D1%96%D1%97_%D0%B7%D0%B0_%D0%BF%D0%BB%D0%BE%D1%89%D0%B5%D1%8E\" title=\"\\xd0\\xa1\\xd0\\xbf\\xd0\\xb8\\xd1\\x81\\xd0\\xbe\\xd0\\xba \\xd1\\x88\\xd1\\x82\\xd0\\xb0\\xd1\\x82\\xd1\\x96\\xd0\\xb2 \\xd0\\x91\\xd1\\x80\\xd0\\xb0\\xd0\\xb7\\xd0\\xb8\\xd0\\xbb\\xd1\\x96\\xd1\\x97 \\xd0\\xb7\\xd0\\xb0 \\xd0\\xbf\\xd0\\xbb\\xd0\\xbe\\xd1\\x89\\xd0\\xb5\\xd1\\x8e \\xe2\\x80\\x94 ucraniano\" lang=\"uk\" hreflang=\"uk\" class=\"interlanguage-link-target\"><span>\\xd0\\xa3\\xd0\\xba\\xd1\\x80\\xd0\\xb0\\xd1\\x97\\xd0\\xbd\\xd1\\x81\\xd1\\x8c\\xd0\\xba\\xd0\\xb0</span></a></li><li class=\"interlanguage-link interwiki-ur mw-list-item\"><a href=\"https://ur.wikipedia.org/wiki/%D9%81%DB%81%D8%B1%D8%B3%D8%AA_%D8%A8%D8%B1%D8%A7%D8%B2%DB%8C%D9%84_%DA%A9%DB%8C_%D8%B1%DB%8C%D8%A7%D8%B3%D8%AA%DB%8C%DA%BA_%D8%A8%D9%84%D8%AD%D8%A7%D8%B8_%D8%B1%D9%82%D8%A8%DB%81\" title=\"\\xd9\\x81\\xdb\\x81\\xd8\\xb1\\xd8\\xb3\\xd8\\xaa \\xd8\\xa8\\xd8\\xb1\\xd8\\xa7\\xd8\\xb2\\xdb\\x8c\\xd9\\x84 \\xda\\xa9\\xdb\\x8c \\xd8\\xb1\\xdb\\x8c\\xd8\\xa7\\xd8\\xb3\\xd8\\xaa\\xdb\\x8c\\xda\\xba \\xd8\\xa8\\xd9\\x84\\xd8\\xad\\xd8\\xa7\\xd8\\xb8 \\xd8\\xb1\\xd9\\x82\\xd8\\xa8\\xdb\\x81 \\xe2\\x80\\x94 urdu\" lang=\"ur\" hreflang=\"ur\" class=\"interlanguage-link-target\"><span>\\xd8\\xa7\\xd8\\xb1\\xd8\\xaf\\xd9\\x88</span></a></li><li class=\"interlanguage-link interwiki-zh badge-Q17506997 badge-featuredlist mw-list-item\" title=\"lista destacada\"><a href=\"https://zh.wikipedia.org/wiki/%E5%B7%B4%E8%A5%BF%E5%90%84%E5%B7%9E%E9%9D%A2%E7%A9%8D%E5%88%97%E8%A1%A8\" title=\"\\xe5\\xb7\\xb4\\xe8\\xa5\\xbf\\xe5\\x90\\x84\\xe5\\xb7\\x9e\\xe9\\x9d\\xa2\\xe7\\xa9\\x8d\\xe5\\x88\\x97\\xe8\\xa1\\xa8 \\xe2\\x80\\x94 chin\\xc3\\xaas\" lang=\"zh\" hreflang=\"zh\" class=\"interlanguage-link-target\"><span>\\xe4\\xb8\\xad\\xe6\\x96\\x87</span></a></li></ul>\\n            \\t\\t<div class=\"after-portlet after-portlet-lang\"><span class=\"wb-langlinks-edit wb-langlinks-link\"><a href=\"https://www.wikidata.org/wiki/Special:EntityPage/Q864869#sitelinks-wikipedia\" title=\"Editar hiperliga\\xc3\\xa7\\xc3\\xb5es interl\\xc3\\xadnguas\" class=\"wbc-editpage\">Editar hiperliga\\xc3\\xa7\\xc3\\xb5es</a></span></div>\\n            \\t</div>\\n            </div>\\n\\n\\t\\t\\t\\t</header>\\n\\t\\t\\t\\t<nav class=\"vector-article-toolbar\" aria-label=\"Ferramentas\"\\n\\t\\t\\t\\t\\trole=\"navigation\">\\n\\t\\t\\t\\t\\t<div class=\"mw-article-toolbar-container\">\\n\\t\\t\\t\\t\\t\\t<div id=\"left-navigation\">\\n\\t\\t\\t\\t\\t\\t\\t\\n\\n<div id=\"p-associated-pages\" class=\"vector-menu mw-portlet mw-portlet-associated-pages vector-menu-tabs\"  >\\n\\t<div class=\"vector-menu-content\">\\n\\t\\t\\n\\t\\t<ul class=\"vector-menu-content-list\"><li id=\"ca-nstab-main\" class=\"selected vector-tab-noicon mw-list-item\"><a href=\"/wiki/Lista_de_unidades_federativas_do_Brasil_por_%C3%A1rea\" title=\"Ver a p\\xc3\\xa1gina de conte\\xc3\\xbado [c]\" accesskey=\"c\"><span>Artigo</span></a></li><li id=\"ca-talk\" class=\"vector-tab-noicon mw-list-item\"><a href=\"/wiki/Discuss%C3%A3o:Lista_de_unidades_federativas_do_Brasil_por_%C3%A1rea\" rel=\"discussion\" title=\"Discuss\\xc3\\xa3o sobre o conte\\xc3\\xbado da p\\xc3\\xa1gina [t]\" accesskey=\"t\"><span>Discuss\\xc3\\xa3o</span></a></li></ul>\\n\\t\\t\\n\\t</div>\\n</div>\\n\\n\\t\\t\\t\\t\\t\\t\\t\\n\\n<div id=\"p-variants\" class=\"vector-menu mw-portlet mw-portlet-variants emptyPortlet vector-menu-dropdown\"  >\\n\\t<input type=\"checkbox\"\\n\\t\\tid=\"p-variants-checkbox\"\\n\\t\\trole=\"button\"\\n\\t\\taria-haspopup=\"true\"\\n\\t\\tdata-event-name=\"ui.dropdown-p-variants\"\\n\\t\\tclass=\"vector-menu-checkbox\"\\n\\t\\taria-label=\"Mudar a variante da l\\xc3\\xadngua\"\\n\\t\\t\\n\\t/>\\n\\t<label\\n\\t\\tid=\"p-variants-label\"\\n\\t\\tfor=\"p-variants-checkbox\"\\n\\t\\tclass=\"vector-menu-heading \"\\n\\t\\t\\n\\t>\\n\\t\\t<span class=\"vector-menu-heading-label\">portugu\\xc3\\xaas</span>\\n\\t</label>\\n\\t<div class=\"vector-menu-content\">\\n\\t\\t\\n\\t\\t<ul class=\"vector-menu-content-list\"></ul>\\n\\t\\t\\n\\t</div>\\n</div>\\n\\n\\t\\t\\t\\t\\t\\t</div>\\n\\t\\t\\t\\t\\t\\t<div id=\"right-navigation\" class=\"vector-collapsible\">\\n\\t\\t\\t\\t\\t\\t\\t\\n\\n<div id=\"p-views\" class=\"vector-menu mw-portlet mw-portlet-views vector-menu-tabs\"  >\\n\\t<div class=\"vector-menu-content\">\\n\\t\\t\\n\\t\\t<ul class=\"vector-menu-content-list\"><li id=\"ca-view\" class=\"selected vector-tab-noicon mw-list-item\"><a href=\"/wiki/Lista_de_unidades_federativas_do_Brasil_por_%C3%A1rea\"><span>Ler</span></a></li><li id=\"ca-ve-edit\" class=\"vector-tab-noicon mw-list-item\"><a href=\"/w/index.php?title=Lista_de_unidades_federativas_do_Brasil_por_%C3%A1rea&amp;veaction=edit\" title=\"Editar esta p\\xc3\\xa1gina [v]\" accesskey=\"v\"><span>Editar</span></a></li><li id=\"ca-edit\" class=\"collapsible vector-tab-noicon mw-list-item\"><a href=\"/w/index.php?title=Lista_de_unidades_federativas_do_Brasil_por_%C3%A1rea&amp;action=edit\" title=\"Editar esta p\\xc3\\xa1gina [e]\" accesskey=\"e\"><span>Editar c\\xc3\\xb3digo-fonte</span></a></li><li id=\"ca-history\" class=\"vector-tab-noicon mw-list-item\"><a href=\"/w/index.php?title=Lista_de_unidades_federativas_do_Brasil_por_%C3%A1rea&amp;action=history\" title=\"Edi\\xc3\\xa7\\xc3\\xb5es anteriores desta p\\xc3\\xa1gina. [h]\" accesskey=\"h\"><span>Ver hist\\xc3\\xb3rico</span></a></li></ul>\\n\\t\\t\\n\\t</div>\\n</div>\\n\\n\\t\\t\\t\\t\\t\\t\\t\\n\\n<div id=\"p-cactions\" class=\"vector-menu mw-portlet mw-portlet-cactions emptyPortlet vector-menu-dropdown vector-has-collapsible-items\"  title=\"Mais op\\xc3\\xa7\\xc3\\xb5es\" >\\n\\t<input type=\"checkbox\"\\n\\t\\tid=\"p-cactions-checkbox\"\\n\\t\\trole=\"button\"\\n\\t\\taria-haspopup=\"true\"\\n\\t\\tdata-event-name=\"ui.dropdown-p-cactions\"\\n\\t\\tclass=\"vector-menu-checkbox\"\\n\\t\\t\\n\\t\\t\\n\\t/>\\n\\t<label\\n\\t\\tid=\"p-cactions-label\"\\n\\t\\tfor=\"p-cactions-checkbox\"\\n\\t\\tclass=\"vector-menu-heading \"\\n\\t\\t\\n\\t>\\n\\t\\t<span class=\"vector-menu-heading-label\">Mais</span>\\n\\t</label>\\n\\t<div class=\"vector-menu-content\">\\n\\t\\t\\n\\t\\t<ul class=\"vector-menu-content-list\"><li id=\"ca-more-view\" class=\"selected vector-more-collapsible-item mw-list-item\"><a href=\"/wiki/Lista_de_unidades_federativas_do_Brasil_por_%C3%A1rea\"><span>Ler</span></a></li><li id=\"ca-more-ve-edit\" class=\"vector-more-collapsible-item mw-list-item\"><a href=\"/w/index.php?title=Lista_de_unidades_federativas_do_Brasil_por_%C3%A1rea&amp;veaction=edit\"><span>Editar</span></a></li><li id=\"ca-more-edit\" class=\"collapsible vector-more-collapsible-item mw-list-item\"><a href=\"/w/index.php?title=Lista_de_unidades_federativas_do_Brasil_por_%C3%A1rea&amp;action=edit\"><span>Editar c\\xc3\\xb3digo-fonte</span></a></li><li id=\"ca-more-history\" class=\"vector-more-collapsible-item mw-list-item\"><a href=\"/w/index.php?title=Lista_de_unidades_federativas_do_Brasil_por_%C3%A1rea&amp;action=history\"><span>Ver hist\\xc3\\xb3rico</span></a></li></ul>\\n\\t\\t\\n\\t</div>\\n</div>\\n\\n\\t\\t\\t\\t\\t\\t</div>\\n\\t\\t\\t\\t\\t</div>\\n\\t\\t\\t\\t</nav>\\n\\t\\t\\t\\t<div id=\"bodyContent\" class=\"vector-body\" data-mw-ve-target-container>\\n\\t\\t\\t\\t\\t<div class=\"mw-body-subheader\">\\n\\t\\t\\t\\t\\t        <div class=\"mw-indicators\">\\n        <div id=\"mw-indicator-featured-star\" class=\"mw-indicator\"><div class=\"mw-parser-output\"><a href=\"/wiki/Wikip%C3%A9dia:Listas_destacadas\" title=\"Esta \\xc3\\xa9 uma lista destacada. Clique aqui para mais informa\\xc3\\xa7\\xc3\\xb5es.\"><img alt=\"Esta \\xc3\\xa9 uma lista destacada. Clique aqui para mais informa\\xc3\\xa7\\xc3\\xb5es.\" src=\"//upload.wikimedia.org/wikipedia/commons/thumb/b/bc/Cscr-featured1.png/20px-Cscr-featured1.png\" decoding=\"async\" width=\"20\" height=\"19\" srcset=\"//upload.wikimedia.org/wikipedia/commons/thumb/b/bc/Cscr-featured1.png/30px-Cscr-featured1.png 1.5x, //upload.wikimedia.org/wikipedia/commons/thumb/b/bc/Cscr-featured1.png/40px-Cscr-featured1.png 2x\" data-file-width=\"462\" data-file-height=\"438\" /></a></div></div>\\n        </div>\\n\\n\\t\\t\\t\\t\\t    <div id=\"siteSub\" class=\"noprint\">Origem: Wikip\\xc3\\xa9dia, a enciclop\\xc3\\xa9dia livre.</div>\\n\\t\\t\\t\\t\\t</div>\\n\\t\\t\\t\\t\\t\\n\\t\\t\\t\\t\\t\\n\\t\\t\\t\\t\\t\\n\\t\\t\\t\\t\\t<div id=\"mw-content-text\" class=\"mw-body-content mw-content-ltr\" lang=\"pt\" dir=\"ltr\"><div class=\"mw-parser-output\"><div class=\"thumb tright\"><div class=\"thumbinner\" style=\"width:352px;\"><a href=\"/wiki/Ficheiro:Brazilian_States_by_Area.svg\" class=\"image\"><img alt=\"\" src=\"//upload.wikimedia.org/wikipedia/commons/thumb/2/28/Brazilian_States_by_Area.svg/350px-Brazilian_States_by_Area.svg.png\" decoding=\"async\" width=\"350\" height=\"308\" class=\"thumbimage\" srcset=\"//upload.wikimedia.org/wikipedia/commons/thumb/2/28/Brazilian_States_by_Area.svg/525px-Brazilian_States_by_Area.svg.png 1.5x, //upload.wikimedia.org/wikipedia/commons/thumb/2/28/Brazilian_States_by_Area.svg/700px-Brazilian_States_by_Area.svg.png 2x\" data-file-width=\"780\" data-file-height=\"687\" /></a>  <div class=\"thumbcaption\"><div class=\"magnify\"><a href=\"/wiki/Ficheiro:Brazilian_States_by_Area.svg\" class=\"internal\" title=\"Ampliar\"></a></div>Mapa brasileiro mostrando suas unidades federativas classificadas por \\xc3\\xa1rea</div></div></div>\\n<p>Aqui s\\xc3\\xa3o listadas as <b><a href=\"/wiki/%C3%81rea\" title=\"\\xc3\\x81rea\">\\xc3\\xa1reas</a> das <a href=\"/wiki/Unidades_federativas_do_Brasil\" title=\"Unidades federativas do Brasil\">unidades federativas do Brasil</a></b>. Os valores foram divulgados pelo <a href=\"/wiki/Instituto_Brasileiro_de_Geografia_e_Estat%C3%ADstica\" title=\"Instituto Brasileiro de Geografia e Estat\\xc3\\xadstica\">Instituto Brasileiro de Geografia e Estat\\xc3\\xadstica</a> (IBGE), atrav\\xc3\\xa9s da Portaria n\\xc2\\xba 177, de 15 de maio de 2020, publicada no <a href=\"/wiki/Di%C3%A1rio_Oficial_da_Uni%C3%A3o\" title=\"Di\\xc3\\xa1rio Oficial da Uni\\xc3\\xa3o\">Di\\xc3\\xa1rio Oficial da Uni\\xc3\\xa3o</a> (DOU) quatro dias depois, em 19 de maio. A referida portaria atualizou os valores de \\xc3\\xa1reas territoriais do <a href=\"/wiki/Brasil\" title=\"Brasil\">Brasil</a>, dos estados e dos 5&#160;568 <a href=\"/wiki/Munic%C3%ADpios_do_Brasil\" class=\"mw-redirect\" title=\"Munic\\xc3\\xadpios do Brasil\">munic\\xc3\\xadpios</a>, tendo como base o quadro territorial vigente no pa\\xc3\\xads no dia 30 de abril de 2019.<sup id=\"cite_ref-\\xc3\\x81rea-IBGE_1-0\" class=\"reference\"><a href=\"#cite_note-\\xc3\\x81rea-IBGE-1\"><span>[</span>1<span>]</span></a></sup>\\n</p><p>As unidades federativas com maior \\xc3\\xa1rea territorial s\\xc3\\xa3o o <a href=\"/wiki/Amazonas\" title=\"Amazonas\">Amazonas</a>, com 1&#160;559&#160;167,889&#160;km\\xc2\\xb2, e o <a href=\"/wiki/Par%C3%A1\" title=\"Par\\xc3\\xa1\">Par\\xc3\\xa1</a>, com 1&#160;245&#160;870,798&#160;km\\xc2\\xb2, ambas na <a href=\"/wiki/Regi%C3%A3o_Norte_do_Brasil\" title=\"Regi\\xc3\\xa3o Norte do Brasil\">Regi\\xc3\\xa3o Norte</a>, ocupando quase 1/3 do territ\\xc3\\xb3rio nacional, seguido por <a href=\"/wiki/Mato_Grosso\" title=\"Mato Grosso\">Mato Grosso</a>, no <a href=\"/wiki/Regi%C3%A3o_Centro-Oeste_do_Brasil\" title=\"Regi\\xc3\\xa3o Centro-Oeste do Brasil\">Centro-Oeste</a> (903&#160;207,019&#160;km\\xc2\\xb2). A menor pertencia ao <a href=\"/wiki/Distrito_Federal_(Brasil)\" title=\"Distrito Federal (Brasil)\">Distrito Federal</a>, tamb\\xc3\\xa9m situado no Centro-Oeste (5&#160;760,783&#160;km\\xc2\\xb2), seguido por <a href=\"/wiki/Sergipe\" title=\"Sergipe\">Sergipe</a> (21&#160;925,424&#160;km\\xc2\\xb2) e <a href=\"/wiki/Alagoas\" title=\"Alagoas\">Alagoas</a> (27&#160;843,295&#160;km\\xc2\\xb2), ambas no <a href=\"/wiki/Regi%C3%A3o_Nordeste_do_Brasil\" title=\"Regi\\xc3\\xa3o Nordeste do Brasil\">Nordeste</a>. A \\xc3\\xa1rea total do Brasil \\xc3\\xa9 de 8&#160;510&#160;295,914&#160;km\\xc2\\xb2, o <a href=\"/wiki/Lista_de_pa%C3%ADses_e_territ%C3%B3rios_por_%C3%A1rea\" title=\"Lista de pa\\xc3\\xadses e territ\\xc3\\xb3rios por \\xc3\\xa1rea\">quinto maior pa\\xc3\\xads do mundo em extens\\xc3\\xa3o territorial</a>.<sup id=\"cite_ref-\\xc3\\x81rea-IBGE_1-1\" class=\"reference\"><a href=\"#cite_note-\\xc3\\x81rea-IBGE-1\"><span>[</span>1<span>]</span></a></sup>\\n</p>\\n<meta property=\"mw:PageProp/toc\" />\\n<h2><span id=\"Classifica.C3.A7.C3.A3o\"></span><span class=\"mw-headline\" id=\"Classifica\\xc3\\xa7\\xc3\\xa3o\">Classifica\\xc3\\xa7\\xc3\\xa3o</span><span class=\"mw-editsection\"><span class=\"mw-editsection-bracket\">[</span><a href=\"/w/index.php?title=Lista_de_unidades_federativas_do_Brasil_por_%C3%A1rea&amp;veaction=edit&amp;section=1\" class=\"mw-editsection-visualeditor\" title=\"Editar sec\\xc3\\xa7\\xc3\\xa3o: Classifica\\xc3\\xa7\\xc3\\xa3o\">editar</a><span class=\"mw-editsection-divider\"> | </span><a href=\"/w/index.php?title=Lista_de_unidades_federativas_do_Brasil_por_%C3%A1rea&amp;action=edit&amp;section=1\" title=\"Editar sec\\xc3\\xa7\\xc3\\xa3o: Classifica\\xc3\\xa7\\xc3\\xa3o\">editar c\\xc3\\xb3digo-fonte</a><span class=\"mw-editsection-bracket\">]</span></span></h2>\\n<table class=\"wikitable sortable\" style=\"text-align:center;\">\\n\\n<tbody><tr>\\n<th>Posi\\xc3\\xa7\\xc3\\xa3o\\n</th>\\n<th width=\"200px\">Unidade federativa\\n</th>\\n<th width=\"100px\">\\xc3\\x81rea (km\\xc2\\xb2)\\n</th>\\n<th width=\"60px\">% do<br />Brasil\\n</th>\\n<th width=\"180px\">Pa\\xc3\\xads compar\\xc3\\xa1vel\\n</th></tr>\\n<tr>\\n<td>1</td>\\n<td style=\"text-align:left\"><img alt=\"\" src=\"//upload.wikimedia.org/wikipedia/commons/thumb/6/6b/Bandeira_do_Amazonas.svg/20px-Bandeira_do_Amazonas.svg.png\" decoding=\"async\" width=\"20\" height=\"14\" class=\"thumbborder\" srcset=\"//upload.wikimedia.org/wikipedia/commons/thumb/6/6b/Bandeira_do_Amazonas.svg/30px-Bandeira_do_Amazonas.svg.png 1.5x, //upload.wikimedia.org/wikipedia/commons/thumb/6/6b/Bandeira_do_Amazonas.svg/40px-Bandeira_do_Amazonas.svg.png 2x\" data-file-width=\"700\" data-file-height=\"500\" />&#160;<a href=\"/wiki/Amazonas\" title=\"Amazonas\">Amazonas</a></td>\\n<td>1&#160;559&#160;167,889</td>\\n<td>18,321</td>\\n<td style=\"text-align:left\"><span class=\"flagicon\"><img alt=\"\" src=\"//upload.wikimedia.org/wikipedia/commons/thumb/4/4c/Flag_of_Mongolia.svg/23px-Flag_of_Mongolia.svg.png\" decoding=\"async\" width=\"23\" height=\"12\" class=\"thumbborder\" srcset=\"//upload.wikimedia.org/wikipedia/commons/thumb/4/4c/Flag_of_Mongolia.svg/35px-Flag_of_Mongolia.svg.png 1.5x, //upload.wikimedia.org/wikipedia/commons/thumb/4/4c/Flag_of_Mongolia.svg/46px-Flag_of_Mongolia.svg.png 2x\" data-file-width=\"1200\" data-file-height=\"600\" />&#160;</span><a href=\"/wiki/Mong%C3%B3lia\" title=\"Mong\\xc3\\xb3lia\">Mong\\xc3\\xb3lia</a>\\n</td></tr>\\n<tr>\\n<td>2</td>\\n<td style=\"text-align:left\"><a href=\"/wiki/Par%C3%A1\" title=\"Par\\xc3\\xa1\"><img alt=\"Par\\xc3\\xa1\" src=\"//upload.wikimedia.org/wikipedia/commons/thumb/0/02/Bandeira_do_Par%C3%A1.svg/20px-Bandeira_do_Par%C3%A1.svg.png\" decoding=\"async\" width=\"20\" height=\"13\" class=\"thumbborder\" srcset=\"//upload.wikimedia.org/wikipedia/commons/thumb/0/02/Bandeira_do_Par%C3%A1.svg/30px-Bandeira_do_Par%C3%A1.svg.png 1.5x, //upload.wikimedia.org/wikipedia/commons/thumb/0/02/Bandeira_do_Par%C3%A1.svg/40px-Bandeira_do_Par%C3%A1.svg.png 2x\" data-file-width=\"900\" data-file-height=\"600\" /></a>&#160;<a href=\"/wiki/Par%C3%A1\" title=\"Par\\xc3\\xa1\">Par\\xc3\\xa1</a></td>\\n<td>1&#160;245&#160;870,798</td>\\n<td>14,64</td>\\n<td style=\"text-align:left\"><span class=\"flagicon\"><img alt=\"\" src=\"//upload.wikimedia.org/wikipedia/commons/thumb/9/9d/Flag_of_Angola.svg/23px-Flag_of_Angola.svg.png\" decoding=\"async\" width=\"23\" height=\"15\" class=\"thumbborder\" srcset=\"//upload.wikimedia.org/wikipedia/commons/thumb/9/9d/Flag_of_Angola.svg/35px-Flag_of_Angola.svg.png 1.5x, //upload.wikimedia.org/wikipedia/commons/thumb/9/9d/Flag_of_Angola.svg/45px-Flag_of_Angola.svg.png 2x\" data-file-width=\"900\" data-file-height=\"600\" />&#160;</span><a href=\"/wiki/Angola\" title=\"Angola\">Angola</a>\\n</td></tr>\\n<tr>\\n<td>3</td>\\n<td style=\"text-align:left\"><img alt=\"\" src=\"//upload.wikimedia.org/wikipedia/commons/thumb/0/0b/Bandeira_de_Mato_Grosso.svg/20px-Bandeira_de_Mato_Grosso.svg.png\" decoding=\"async\" width=\"20\" height=\"14\" class=\"thumbborder\" srcset=\"//upload.wikimedia.org/wikipedia/commons/thumb/0/0b/Bandeira_de_Mato_Grosso.svg/30px-Bandeira_de_Mato_Grosso.svg.png 1.5x, //upload.wikimedia.org/wikipedia/commons/thumb/0/0b/Bandeira_de_Mato_Grosso.svg/40px-Bandeira_de_Mato_Grosso.svg.png 2x\" data-file-width=\"2000\" data-file-height=\"1400\" />&#160;<a href=\"/wiki/Mato_Grosso\" title=\"Mato Grosso\">Mato Grosso</a></td>\\n<td>903&#160;207,019</td>\\n<td>10,613</td>\\n<td style=\"text-align:left\"><span class=\"flagicon\"><img alt=\"\" src=\"//upload.wikimedia.org/wikipedia/commons/thumb/0/06/Flag_of_Venezuela.svg/23px-Flag_of_Venezuela.svg.png\" decoding=\"async\" width=\"23\" height=\"15\" class=\"thumbborder\" srcset=\"//upload.wikimedia.org/wikipedia/commons/thumb/0/06/Flag_of_Venezuela.svg/35px-Flag_of_Venezuela.svg.png 1.5x, //upload.wikimedia.org/wikipedia/commons/thumb/0/06/Flag_of_Venezuela.svg/45px-Flag_of_Venezuela.svg.png 2x\" data-file-width=\"900\" data-file-height=\"600\" />&#160;</span><a href=\"/wiki/Venezuela\" title=\"Venezuela\">Venezuela</a>\\n</td></tr>\\n<tr>\\n<td>4</td>\\n<td style=\"text-align:left\"><img alt=\"\" src=\"//upload.wikimedia.org/wikipedia/commons/thumb/f/f4/Bandeira_de_Minas_Gerais.svg/20px-Bandeira_de_Minas_Gerais.svg.png\" decoding=\"async\" width=\"20\" height=\"14\" class=\"thumbborder\" srcset=\"//upload.wikimedia.org/wikipedia/commons/thumb/f/f4/Bandeira_de_Minas_Gerais.svg/30px-Bandeira_de_Minas_Gerais.svg.png 1.5x, //upload.wikimedia.org/wikipedia/commons/thumb/f/f4/Bandeira_de_Minas_Gerais.svg/40px-Bandeira_de_Minas_Gerais.svg.png 2x\" data-file-width=\"600\" data-file-height=\"420\" />&#160;<a href=\"/wiki/Minas_Gerais\" title=\"Minas Gerais\">Minas Gerais</a></td>\\n<td>586&#160;521,123</td>\\n<td>6,892</td>\\n<td style=\"text-align:left\"><span class=\"flagicon\"><img alt=\"\" src=\"//upload.wikimedia.org/wikipedia/commons/thumb/b/bc/Flag_of_Madagascar.svg/23px-Flag_of_Madagascar.svg.png\" decoding=\"async\" width=\"23\" height=\"15\" class=\"thumbborder\" srcset=\"//upload.wikimedia.org/wikipedia/commons/thumb/b/bc/Flag_of_Madagascar.svg/35px-Flag_of_Madagascar.svg.png 1.5x, //upload.wikimedia.org/wikipedia/commons/thumb/b/bc/Flag_of_Madagascar.svg/45px-Flag_of_Madagascar.svg.png 2x\" data-file-width=\"900\" data-file-height=\"600\" />&#160;</span><a href=\"/wiki/Madagascar\" class=\"mw-redirect\" title=\"Madagascar\">Madagascar</a>\\n</td></tr>\\n<tr>\\n<td>5</td>\\n<td style=\"text-align:left\"><a href=\"/wiki/Bahia\" title=\"Bahia\"><img alt=\"Bahia\" src=\"//upload.wikimedia.org/wikipedia/commons/thumb/2/28/Bandeira_da_Bahia.svg/20px-Bandeira_da_Bahia.svg.png\" decoding=\"async\" width=\"20\" height=\"13\" class=\"thumbborder\" srcset=\"//upload.wikimedia.org/wikipedia/commons/thumb/2/28/Bandeira_da_Bahia.svg/30px-Bandeira_da_Bahia.svg.png 1.5x, //upload.wikimedia.org/wikipedia/commons/thumb/2/28/Bandeira_da_Bahia.svg/40px-Bandeira_da_Bahia.svg.png 2x\" data-file-width=\"1500\" data-file-height=\"1000\" /></a>&#160;<a href=\"/wiki/Bahia\" title=\"Bahia\">Bahia</a></td>\\n<td>564&#160;760,427</td>\\n<td>6,636</td>\\n<td style=\"text-align:left\"><span class=\"flagicon\"><img alt=\"\" src=\"//upload.wikimedia.org/wikipedia/commons/thumb/c/c3/Flag_of_France.svg/23px-Flag_of_France.svg.png\" decoding=\"async\" width=\"23\" height=\"15\" class=\"thumbborder\" srcset=\"//upload.wikimedia.org/wikipedia/commons/thumb/c/c3/Flag_of_France.svg/35px-Flag_of_France.svg.png 1.5x, //upload.wikimedia.org/wikipedia/commons/thumb/c/c3/Flag_of_France.svg/45px-Flag_of_France.svg.png 2x\" data-file-width=\"900\" data-file-height=\"600\" />&#160;</span><a href=\"/wiki/Fran%C3%A7a\" title=\"Fran\\xc3\\xa7a\">Fran\\xc3\\xa7a</a>\\n</td></tr>\\n<tr>\\n<td>6</td>\\n<td style=\"text-align:left\"><img alt=\"\" src=\"//upload.wikimedia.org/wikipedia/commons/thumb/6/64/Bandeira_de_Mato_Grosso_do_Sul.svg/20px-Bandeira_de_Mato_Grosso_do_Sul.svg.png\" decoding=\"async\" width=\"20\" height=\"14\" class=\"thumbborder\" srcset=\"//upload.wikimedia.org/wikipedia/commons/thumb/6/64/Bandeira_de_Mato_Grosso_do_Sul.svg/30px-Bandeira_de_Mato_Grosso_do_Sul.svg.png 1.5x, //upload.wikimedia.org/wikipedia/commons/thumb/6/64/Bandeira_de_Mato_Grosso_do_Sul.svg/40px-Bandeira_de_Mato_Grosso_do_Sul.svg.png 2x\" data-file-width=\"1000\" data-file-height=\"700\" />&#160;<a href=\"/wiki/Mato_Grosso_do_Sul\" title=\"Mato Grosso do Sul\">Mato Grosso do Sul</a></td>\\n<td>357&#160;145,534</td>\\n<td>4,197</td>\\n<td style=\"text-align:left\"><span class=\"flagicon\"><img alt=\"\" src=\"//upload.wikimedia.org/wikipedia/commons/thumb/b/ba/Flag_of_Germany.svg/23px-Flag_of_Germany.svg.png\" decoding=\"async\" width=\"23\" height=\"14\" class=\"thumbborder\" srcset=\"//upload.wikimedia.org/wikipedia/commons/thumb/b/ba/Flag_of_Germany.svg/35px-Flag_of_Germany.svg.png 1.5x, //upload.wikimedia.org/wikipedia/commons/thumb/b/ba/Flag_of_Germany.svg/46px-Flag_of_Germany.svg.png 2x\" data-file-width=\"1000\" data-file-height=\"600\" />&#160;</span><a href=\"/wiki/Alemanha\" title=\"Alemanha\">Alemanha</a>\\n</td></tr>\\n<tr>\\n<td>7</td>\\n<td style=\"text-align:left\"><img alt=\"\" src=\"//upload.wikimedia.org/wikipedia/commons/thumb/b/be/Flag_of_Goi%C3%A1s.svg/20px-Flag_of_Goi%C3%A1s.svg.png\" decoding=\"async\" width=\"20\" height=\"14\" class=\"thumbborder\" srcset=\"//upload.wikimedia.org/wikipedia/commons/thumb/b/be/Flag_of_Goi%C3%A1s.svg/30px-Flag_of_Goi%C3%A1s.svg.png 1.5x, //upload.wikimedia.org/wikipedia/commons/thumb/b/be/Flag_of_Goi%C3%A1s.svg/40px-Flag_of_Goi%C3%A1s.svg.png 2x\" data-file-width=\"560\" data-file-height=\"392\" />&#160;<a href=\"/wiki/Goi%C3%A1s\" title=\"Goi\\xc3\\xa1s\">Goi\\xc3\\xa1s</a></td>\\n<td>340&#160;203,329</td>\\n<td>3,998</td>\\n<td style=\"text-align:left\"><span class=\"flagicon\"><img alt=\"\" src=\"//upload.wikimedia.org/wikipedia/commons/thumb/b/bc/Flag_of_Finland.svg/23px-Flag_of_Finland.svg.png\" decoding=\"async\" width=\"23\" height=\"14\" class=\"thumbborder\" srcset=\"//upload.wikimedia.org/wikipedia/commons/thumb/b/bc/Flag_of_Finland.svg/35px-Flag_of_Finland.svg.png 1.5x, //upload.wikimedia.org/wikipedia/commons/thumb/b/bc/Flag_of_Finland.svg/46px-Flag_of_Finland.svg.png 2x\" data-file-width=\"1800\" data-file-height=\"1100\" />&#160;</span><a href=\"/wiki/Finl%C3%A2ndia\" title=\"Finl\\xc3\\xa2ndia\">Finl\\xc3\\xa2ndia</a>\\n</td></tr>\\n<tr>\\n<td>8</td>\\n<td style=\"text-align:left\"><img alt=\"\" src=\"//upload.wikimedia.org/wikipedia/commons/thumb/4/45/Bandeira_do_Maranh%C3%A3o.svg/20px-Bandeira_do_Maranh%C3%A3o.svg.png\" decoding=\"async\" width=\"20\" height=\"13\" class=\"thumbborder\" srcset=\"//upload.wikimedia.org/wikipedia/commons/thumb/4/45/Bandeira_do_Maranh%C3%A3o.svg/30px-Bandeira_do_Maranh%C3%A3o.svg.png 1.5x, //upload.wikimedia.org/wikipedia/commons/thumb/4/45/Bandeira_do_Maranh%C3%A3o.svg/40px-Bandeira_do_Maranh%C3%A3o.svg.png 2x\" data-file-width=\"1350\" data-file-height=\"900\" />&#160;<a href=\"/wiki/Maranh%C3%A3o\" title=\"Maranh\\xc3\\xa3o\">Maranh\\xc3\\xa3o</a></td>\\n<td>329&#160;642,182</td>\\n<td>3,873</td>\\n<td style=\"text-align:left\"><span class=\"flagicon\"><img alt=\"\" src=\"//upload.wikimedia.org/wikipedia/commons/thumb/2/21/Flag_of_Vietnam.svg/23px-Flag_of_Vietnam.svg.png\" decoding=\"async\" width=\"23\" height=\"15\" class=\"thumbborder\" srcset=\"//upload.wikimedia.org/wikipedia/commons/thumb/2/21/Flag_of_Vietnam.svg/35px-Flag_of_Vietnam.svg.png 1.5x, //upload.wikimedia.org/wikipedia/commons/thumb/2/21/Flag_of_Vietnam.svg/45px-Flag_of_Vietnam.svg.png 2x\" data-file-width=\"900\" data-file-height=\"600\" />&#160;</span><a href=\"/wiki/Vietname\" class=\"mw-redirect\" title=\"Vietname\">Vietn\\xc3\\xa3</a>\\n</td></tr>\\n<tr>\\n<td>9</td>\\n<td style=\"text-align:left\"><img alt=\"\" src=\"//upload.wikimedia.org/wikipedia/commons/thumb/6/63/Bandeira_do_Rio_Grande_do_Sul.svg/20px-Bandeira_do_Rio_Grande_do_Sul.svg.png\" decoding=\"async\" width=\"20\" height=\"14\" class=\"thumbborder\" srcset=\"//upload.wikimedia.org/wikipedia/commons/thumb/6/63/Bandeira_do_Rio_Grande_do_Sul.svg/30px-Bandeira_do_Rio_Grande_do_Sul.svg.png 1.5x, //upload.wikimedia.org/wikipedia/commons/thumb/6/63/Bandeira_do_Rio_Grande_do_Sul.svg/40px-Bandeira_do_Rio_Grande_do_Sul.svg.png 2x\" data-file-width=\"1000\" data-file-height=\"700\" />&#160;<a href=\"/wiki/Rio_Grande_do_Sul\" title=\"Rio Grande do Sul\">Rio Grande do Sul</a></td>\\n<td>281&#160;707,156</td>\\n<td>3,31</td>\\n<td style=\"text-align:left\"><span class=\"flagicon\"><img alt=\"\" src=\"//upload.wikimedia.org/wikipedia/commons/thumb/e/e8/Flag_of_Ecuador.svg/23px-Flag_of_Ecuador.svg.png\" decoding=\"async\" width=\"23\" height=\"15\" class=\"thumbborder\" srcset=\"//upload.wikimedia.org/wikipedia/commons/thumb/e/e8/Flag_of_Ecuador.svg/35px-Flag_of_Ecuador.svg.png 1.5x, //upload.wikimedia.org/wikipedia/commons/thumb/e/e8/Flag_of_Ecuador.svg/45px-Flag_of_Ecuador.svg.png 2x\" data-file-width=\"1440\" data-file-height=\"960\" />&#160;</span><a href=\"/wiki/Equador\" title=\"Equador\">Equador</a>\\n</td></tr>\\n<tr>\\n<td>10</td>\\n<td style=\"text-align:left\"><img alt=\"\" src=\"//upload.wikimedia.org/wikipedia/commons/thumb/f/ff/Bandeira_do_Tocantins.svg/20px-Bandeira_do_Tocantins.svg.png\" decoding=\"async\" width=\"20\" height=\"14\" class=\"thumbborder\" srcset=\"//upload.wikimedia.org/wikipedia/commons/thumb/f/ff/Bandeira_do_Tocantins.svg/30px-Bandeira_do_Tocantins.svg.png 1.5x, //upload.wikimedia.org/wikipedia/commons/thumb/f/ff/Bandeira_do_Tocantins.svg/40px-Bandeira_do_Tocantins.svg.png 2x\" data-file-width=\"2000\" data-file-height=\"1400\" />&#160;<a href=\"/wiki/Tocantins\" title=\"Tocantins\">Tocantins</a></td>\\n<td>277&#160;466,763</td>\\n<td>3,26</td>\\n<td style=\"text-align:left\"><span class=\"flagicon\"><img alt=\"\" src=\"//upload.wikimedia.org/wikipedia/commons/thumb/3/31/Flag_of_Burkina_Faso.svg/23px-Flag_of_Burkina_Faso.svg.png\" decoding=\"async\" width=\"23\" height=\"15\" class=\"thumbborder\" srcset=\"//upload.wikimedia.org/wikipedia/commons/thumb/3/31/Flag_of_Burkina_Faso.svg/35px-Flag_of_Burkina_Faso.svg.png 1.5x, //upload.wikimedia.org/wikipedia/commons/thumb/3/31/Flag_of_Burkina_Faso.svg/45px-Flag_of_Burkina_Faso.svg.png 2x\" data-file-width=\"900\" data-file-height=\"600\" />&#160;</span><a href=\"/wiki/Burquina_Fasso\" title=\"Burquina Fasso\">Burkina Faso</a>\\n</td></tr>\\n<tr>\\n<td>11</td>\\n<td style=\"text-align:left\"><img alt=\"\" src=\"//upload.wikimedia.org/wikipedia/commons/thumb/3/33/Bandeira_do_Piau%C3%AD.svg/20px-Bandeira_do_Piau%C3%AD.svg.png\" decoding=\"async\" width=\"20\" height=\"13\" class=\"thumbborder\" srcset=\"//upload.wikimedia.org/wikipedia/commons/thumb/3/33/Bandeira_do_Piau%C3%AD.svg/30px-Bandeira_do_Piau%C3%AD.svg.png 1.5x, //upload.wikimedia.org/wikipedia/commons/thumb/3/33/Bandeira_do_Piau%C3%AD.svg/40px-Bandeira_do_Piau%C3%AD.svg.png 2x\" data-file-width=\"1950\" data-file-height=\"1300\" />&#160;<a href=\"/wiki/Piau%C3%AD\" title=\"Piau\\xc3\\xad\">Piau\\xc3\\xad</a></td>\\n<td>251&#160;756,515</td>\\n<td>2,958</td>\\n<td style=\"text-align:left\"><span class=\"flagicon\"><img alt=\"\" src=\"//upload.wikimedia.org/wikipedia/commons/thumb/e/ed/Flag_of_Guinea.svg/23px-Flag_of_Guinea.svg.png\" decoding=\"async\" width=\"23\" height=\"15\" class=\"thumbborder\" srcset=\"//upload.wikimedia.org/wikipedia/commons/thumb/e/ed/Flag_of_Guinea.svg/35px-Flag_of_Guinea.svg.png 1.5x, //upload.wikimedia.org/wikipedia/commons/thumb/e/ed/Flag_of_Guinea.svg/45px-Flag_of_Guinea.svg.png 2x\" data-file-width=\"900\" data-file-height=\"600\" />&#160;</span><a href=\"/wiki/Guin%C3%A9\" title=\"Guin\\xc3\\xa9\">Guin\\xc3\\xa9</a>\\n</td></tr>\\n<tr>\\n<td>12</td>\\n<td style=\"text-align:left\"><img alt=\"\" src=\"//upload.wikimedia.org/wikipedia/commons/thumb/2/2b/Bandeira_do_estado_de_S%C3%A3o_Paulo.svg/22px-Bandeira_do_estado_de_S%C3%A3o_Paulo.svg.png\" decoding=\"async\" width=\"22\" height=\"15\" class=\"thumbborder\" srcset=\"//upload.wikimedia.org/wikipedia/commons/thumb/2/2b/Bandeira_do_estado_de_S%C3%A3o_Paulo.svg/33px-Bandeira_do_estado_de_S%C3%A3o_Paulo.svg.png 1.5x, //upload.wikimedia.org/wikipedia/commons/thumb/2/2b/Bandeira_do_estado_de_S%C3%A3o_Paulo.svg/44px-Bandeira_do_estado_de_S%C3%A3o_Paulo.svg.png 2x\" data-file-width=\"780\" data-file-height=\"520\" />&#160;<a href=\"/wiki/S%C3%A3o_Paulo_(estado)\" title=\"S\\xc3\\xa3o Paulo (estado)\">S\\xc3\\xa3o Paulo</a></td>\\n<td>248&#160;219,481</td>\\n<td>2,917</td>\\n<td style=\"text-align:left\"><span class=\"flagicon\"><img alt=\"\" src=\"//upload.wikimedia.org/wikipedia/commons/thumb/a/ae/Flag_of_the_United_Kingdom.svg/23px-Flag_of_the_United_Kingdom.svg.png\" decoding=\"async\" width=\"23\" height=\"12\" class=\"thumbborder\" srcset=\"//upload.wikimedia.org/wikipedia/commons/thumb/a/ae/Flag_of_the_United_Kingdom.svg/35px-Flag_of_the_United_Kingdom.svg.png 1.5x, //upload.wikimedia.org/wikipedia/commons/thumb/a/ae/Flag_of_the_United_Kingdom.svg/46px-Flag_of_the_United_Kingdom.svg.png 2x\" data-file-width=\"1200\" data-file-height=\"600\" />&#160;</span><a href=\"/wiki/Reino_Unido\" title=\"Reino Unido\">Reino Unido</a>\\n</td></tr>\\n<tr>\\n<td>13</td>\\n<td style=\"text-align:left\"><img alt=\"\" src=\"//upload.wikimedia.org/wikipedia/commons/thumb/f/fa/Bandeira_de_Rond%C3%B4nia.svg/20px-Bandeira_de_Rond%C3%B4nia.svg.png\" decoding=\"async\" width=\"20\" height=\"14\" class=\"thumbborder\" srcset=\"//upload.wikimedia.org/wikipedia/commons/thumb/f/fa/Bandeira_de_Rond%C3%B4nia.svg/30px-Bandeira_de_Rond%C3%B4nia.svg.png 1.5x, //upload.wikimedia.org/wikipedia/commons/thumb/f/fa/Bandeira_de_Rond%C3%B4nia.svg/40px-Bandeira_de_Rond%C3%B4nia.svg.png 2x\" data-file-width=\"2000\" data-file-height=\"1400\" />&#160;<a href=\"/wiki/Rond%C3%B4nia\" title=\"Rond\\xc3\\xb4nia\">Rond\\xc3\\xb4nia</a></td>\\n<td>237&#160;765,24</td>\\n<td>2,794</td>\\n<td style=\"text-align:left\"><span class=\"flagicon\"><img alt=\"\" src=\"//upload.wikimedia.org/wikipedia/commons/thumb/5/56/Flag_of_Laos.svg/23px-Flag_of_Laos.svg.png\" decoding=\"async\" width=\"23\" height=\"15\" class=\"thumbborder\" srcset=\"//upload.wikimedia.org/wikipedia/commons/thumb/5/56/Flag_of_Laos.svg/35px-Flag_of_Laos.svg.png 1.5x, //upload.wikimedia.org/wikipedia/commons/thumb/5/56/Flag_of_Laos.svg/45px-Flag_of_Laos.svg.png 2x\" data-file-width=\"900\" data-file-height=\"600\" />&#160;</span><a href=\"/wiki/Laos\" title=\"Laos\">Laos</a>\\n</td></tr>\\n<tr>\\n<td>14</td>\\n<td style=\"text-align:left\"><img alt=\"\" src=\"//upload.wikimedia.org/wikipedia/commons/thumb/9/98/Bandeira_de_Roraima.svg/20px-Bandeira_de_Roraima.svg.png\" decoding=\"async\" width=\"20\" height=\"14\" class=\"thumbborder\" srcset=\"//upload.wikimedia.org/wikipedia/commons/thumb/9/98/Bandeira_de_Roraima.svg/30px-Bandeira_de_Roraima.svg.png 1.5x, //upload.wikimedia.org/wikipedia/commons/thumb/9/98/Bandeira_de_Roraima.svg/40px-Bandeira_de_Roraima.svg.png 2x\" data-file-width=\"2000\" data-file-height=\"1400\" />&#160;<a href=\"/wiki/Roraima\" title=\"Roraima\">Roraima</a></td>\\n<td>223&#160;644,527</td>\\n<td>2,628</td>\\n<td style=\"text-align:left\"><span class=\"flagicon\"><img alt=\"\" src=\"//upload.wikimedia.org/wikipedia/commons/thumb/9/99/Flag_of_Guyana.svg/23px-Flag_of_Guyana.svg.png\" decoding=\"async\" width=\"23\" height=\"14\" class=\"thumbborder\" srcset=\"//upload.wikimedia.org/wikipedia/commons/thumb/9/99/Flag_of_Guyana.svg/35px-Flag_of_Guyana.svg.png 1.5x, //upload.wikimedia.org/wikipedia/commons/thumb/9/99/Flag_of_Guyana.svg/46px-Flag_of_Guyana.svg.png 2x\" data-file-width=\"1000\" data-file-height=\"600\" />&#160;</span><a href=\"/wiki/Guiana\" title=\"Guiana\">Guiana</a>\\n</td></tr>\\n<tr>\\n<td>15</td>\\n<td style=\"text-align:left\"><img alt=\"\" src=\"//upload.wikimedia.org/wikipedia/commons/thumb/9/93/Bandeira_do_Paran%C3%A1.svg/20px-Bandeira_do_Paran%C3%A1.svg.png\" decoding=\"async\" width=\"20\" height=\"14\" class=\"thumbborder\" srcset=\"//upload.wikimedia.org/wikipedia/commons/thumb/9/93/Bandeira_do_Paran%C3%A1.svg/30px-Bandeira_do_Paran%C3%A1.svg.png 1.5x, //upload.wikimedia.org/wikipedia/commons/thumb/9/93/Bandeira_do_Paran%C3%A1.svg/40px-Bandeira_do_Paran%C3%A1.svg.png 2x\" data-file-width=\"621\" data-file-height=\"434\" />&#160;<a href=\"/wiki/Paran%C3%A1\" title=\"Paran\\xc3\\xa1\">Paran\\xc3\\xa1</a></td>\\n<td>199&#160;298,979</td>\\n<td>2,342</td>\\n<td style=\"text-align:left\"><span class=\"flagicon\"><img alt=\"\" src=\"//upload.wikimedia.org/wikipedia/commons/thumb/c/c7/Flag_of_Kyrgyzstan.svg/23px-Flag_of_Kyrgyzstan.svg.png\" decoding=\"async\" width=\"23\" height=\"14\" class=\"thumbborder\" srcset=\"//upload.wikimedia.org/wikipedia/commons/thumb/c/c7/Flag_of_Kyrgyzstan.svg/35px-Flag_of_Kyrgyzstan.svg.png 1.5x, //upload.wikimedia.org/wikipedia/commons/thumb/c/c7/Flag_of_Kyrgyzstan.svg/46px-Flag_of_Kyrgyzstan.svg.png 2x\" data-file-width=\"1000\" data-file-height=\"600\" />&#160;</span><a href=\"/wiki/Quirguist%C3%A3o\" title=\"Quirguist\\xc3\\xa3o\">Quirguist\\xc3\\xa3o</a>\\n</td></tr>\\n<tr>\\n<td>16</td>\\n<td style=\"text-align:left\"><img alt=\"\" src=\"//upload.wikimedia.org/wikipedia/commons/thumb/4/4c/Bandeira_do_Acre.svg/20px-Bandeira_do_Acre.svg.png\" decoding=\"async\" width=\"20\" height=\"14\" class=\"thumbborder\" srcset=\"//upload.wikimedia.org/wikipedia/commons/thumb/4/4c/Bandeira_do_Acre.svg/30px-Bandeira_do_Acre.svg.png 1.5x, //upload.wikimedia.org/wikipedia/commons/thumb/4/4c/Bandeira_do_Acre.svg/40px-Bandeira_do_Acre.svg.png 2x\" data-file-width=\"500\" data-file-height=\"350\" />&#160;<a href=\"/wiki/Acre\" title=\"Acre\">Acre</a></td>\\n<td>164&#160;123,964</td>\\n<td>1,929</td>\\n<td style=\"text-align:left\"><span class=\"flagicon\"><img alt=\"\" src=\"//upload.wikimedia.org/wikipedia/commons/thumb/6/60/Flag_of_Suriname.svg/23px-Flag_of_Suriname.svg.png\" decoding=\"async\" width=\"23\" height=\"15\" class=\"thumbborder\" srcset=\"//upload.wikimedia.org/wikipedia/commons/thumb/6/60/Flag_of_Suriname.svg/35px-Flag_of_Suriname.svg.png 1.5x, //upload.wikimedia.org/wikipedia/commons/thumb/6/60/Flag_of_Suriname.svg/45px-Flag_of_Suriname.svg.png 2x\" data-file-width=\"900\" data-file-height=\"600\" />&#160;</span><a href=\"/wiki/Suriname\" title=\"Suriname\">Suriname</a>\\n</td></tr>\\n<tr>\\n<td>17</td>\\n<td style=\"text-align:left\"><img alt=\"\" src=\"//upload.wikimedia.org/wikipedia/commons/thumb/2/2e/Bandeira_do_Cear%C3%A1.svg/20px-Bandeira_do_Cear%C3%A1.svg.png\" decoding=\"async\" width=\"20\" height=\"14\" class=\"thumbborder\" srcset=\"//upload.wikimedia.org/wikipedia/commons/thumb/2/2e/Bandeira_do_Cear%C3%A1.svg/30px-Bandeira_do_Cear%C3%A1.svg.png 1.5x, //upload.wikimedia.org/wikipedia/commons/thumb/2/2e/Bandeira_do_Cear%C3%A1.svg/40px-Bandeira_do_Cear%C3%A1.svg.png 2x\" data-file-width=\"720\" data-file-height=\"504\" />&#160;<a href=\"/wiki/Cear%C3%A1\" title=\"Cear\\xc3\\xa1\">Cear\\xc3\\xa1</a></td>\\n<td>148&#160;894,441</td>\\n<td>1,75</td>\\n<td style=\"text-align:left\"><span class=\"flagicon\"><img alt=\"\" src=\"//upload.wikimedia.org/wikipedia/commons/thumb/9/9b/Flag_of_Nepal.svg/12px-Flag_of_Nepal.svg.png\" decoding=\"async\" width=\"12\" height=\"15\" srcset=\"//upload.wikimedia.org/wikipedia/commons/thumb/9/9b/Flag_of_Nepal.svg/19px-Flag_of_Nepal.svg.png 1.5x, //upload.wikimedia.org/wikipedia/commons/thumb/9/9b/Flag_of_Nepal.svg/25px-Flag_of_Nepal.svg.png 2x\" data-file-width=\"726\" data-file-height=\"885\" />&#160;&#160;&#160;</span><a href=\"/wiki/Nepal\" title=\"Nepal\">Nepal</a>\\n</td></tr>\\n<tr>\\n<td>18</td>\\n<td style=\"text-align:left\"><img alt=\"\" src=\"//upload.wikimedia.org/wikipedia/commons/thumb/0/0c/Bandeira_do_Amap%C3%A1.svg/20px-Bandeira_do_Amap%C3%A1.svg.png\" decoding=\"async\" width=\"20\" height=\"14\" class=\"thumbborder\" srcset=\"//upload.wikimedia.org/wikipedia/commons/thumb/0/0c/Bandeira_do_Amap%C3%A1.svg/30px-Bandeira_do_Amap%C3%A1.svg.png 1.5x, //upload.wikimedia.org/wikipedia/commons/thumb/0/0c/Bandeira_do_Amap%C3%A1.svg/40px-Bandeira_do_Amap%C3%A1.svg.png 2x\" data-file-width=\"1000\" data-file-height=\"700\" />&#160;<a href=\"/wiki/Amap%C3%A1\" title=\"Amap\\xc3\\xa1\">Amap\\xc3\\xa1</a></td>\\n<td>142&#160;470,762</td>\\n<td>1,674</td>\\n<td style=\"text-align:left\"><span class=\"flagicon\"><img alt=\"\" src=\"//upload.wikimedia.org/wikipedia/commons/thumb/d/d0/Flag_of_Tajikistan.svg/23px-Flag_of_Tajikistan.svg.png\" decoding=\"async\" width=\"23\" height=\"12\" class=\"thumbborder\" srcset=\"//upload.wikimedia.org/wikipedia/commons/thumb/d/d0/Flag_of_Tajikistan.svg/35px-Flag_of_Tajikistan.svg.png 1.5x, //upload.wikimedia.org/wikipedia/commons/thumb/d/d0/Flag_of_Tajikistan.svg/46px-Flag_of_Tajikistan.svg.png 2x\" data-file-width=\"1200\" data-file-height=\"600\" />&#160;</span><a href=\"/wiki/Tajiquist%C3%A3o\" title=\"Tajiquist\\xc3\\xa3o\">Tajiquist\\xc3\\xa3o</a>\\n</td></tr>\\n<tr>\\n<td>19</td>\\n<td style=\"text-align:left\"><img alt=\"\" src=\"//upload.wikimedia.org/wikipedia/commons/thumb/5/59/Bandeira_de_Pernambuco.svg/20px-Bandeira_de_Pernambuco.svg.png\" decoding=\"async\" width=\"20\" height=\"13\" class=\"thumbborder\" srcset=\"//upload.wikimedia.org/wikipedia/commons/thumb/5/59/Bandeira_de_Pernambuco.svg/30px-Bandeira_de_Pernambuco.svg.png 1.5x, //upload.wikimedia.org/wikipedia/commons/thumb/5/59/Bandeira_de_Pernambuco.svg/40px-Bandeira_de_Pernambuco.svg.png 2x\" data-file-width=\"540\" data-file-height=\"360\" />&#160;<a href=\"/wiki/Pernambuco\" title=\"Pernambuco\">Pernambuco</a></td>\\n<td>98&#160;067,881</td>\\n<td>1,152</td>\\n<td style=\"text-align:left\"><span class=\"flagicon\"><img alt=\"\" src=\"//upload.wikimedia.org/wikipedia/commons/thumb/0/09/Flag_of_South_Korea.svg/23px-Flag_of_South_Korea.svg.png\" decoding=\"async\" width=\"23\" height=\"15\" class=\"thumbborder\" srcset=\"//upload.wikimedia.org/wikipedia/commons/thumb/0/09/Flag_of_South_Korea.svg/35px-Flag_of_South_Korea.svg.png 1.5x, //upload.wikimedia.org/wikipedia/commons/thumb/0/09/Flag_of_South_Korea.svg/45px-Flag_of_South_Korea.svg.png 2x\" data-file-width=\"900\" data-file-height=\"600\" />&#160;</span><a href=\"/wiki/Coreia_do_Sul\" title=\"Coreia do Sul\">Coreia do Sul</a>\\n</td></tr>\\n<tr>\\n<td>20</td>\\n<td style=\"text-align:left\"><img alt=\"\" src=\"//upload.wikimedia.org/wikipedia/commons/thumb/1/1a/Bandeira_de_Santa_Catarina.svg/20px-Bandeira_de_Santa_Catarina.svg.png\" decoding=\"async\" width=\"20\" height=\"15\" class=\"thumbborder\" srcset=\"//upload.wikimedia.org/wikipedia/commons/thumb/1/1a/Bandeira_de_Santa_Catarina.svg/30px-Bandeira_de_Santa_Catarina.svg.png 1.5x, //upload.wikimedia.org/wikipedia/commons/thumb/1/1a/Bandeira_de_Santa_Catarina.svg/40px-Bandeira_de_Santa_Catarina.svg.png 2x\" data-file-width=\"836\" data-file-height=\"608\" />&#160;<a href=\"/wiki/Santa_Catarina\" title=\"Santa Catarina\">Santa Catarina</a></td>\\n<td>95&#160;730,684</td>\\n<td>1,125</td>\\n<td style=\"text-align:left\"><span class=\"flagicon\"><img alt=\"\" src=\"//upload.wikimedia.org/wikipedia/commons/thumb/5/5c/Flag_of_Portugal.svg/23px-Flag_of_Portugal.svg.png\" decoding=\"async\" width=\"23\" height=\"15\" class=\"thumbborder\" srcset=\"//upload.wikimedia.org/wikipedia/commons/thumb/5/5c/Flag_of_Portugal.svg/35px-Flag_of_Portugal.svg.png 1.5x, //upload.wikimedia.org/wikipedia/commons/thumb/5/5c/Flag_of_Portugal.svg/45px-Flag_of_Portugal.svg.png 2x\" data-file-width=\"600\" data-file-height=\"400\" />&#160;</span><a href=\"/wiki/Portugal\" title=\"Portugal\">Portugal</a>\\n</td></tr>\\n<tr>\\n<td>21</td>\\n<td style=\"text-align:left\"><img alt=\"\" src=\"//upload.wikimedia.org/wikipedia/commons/thumb/b/bb/Bandeira_da_Para%C3%ADba.svg/20px-Bandeira_da_Para%C3%ADba.svg.png\" decoding=\"async\" width=\"20\" height=\"14\" class=\"thumbborder\" srcset=\"//upload.wikimedia.org/wikipedia/commons/thumb/b/bb/Bandeira_da_Para%C3%ADba.svg/30px-Bandeira_da_Para%C3%ADba.svg.png 1.5x, //upload.wikimedia.org/wikipedia/commons/thumb/b/bb/Bandeira_da_Para%C3%ADba.svg/40px-Bandeira_da_Para%C3%ADba.svg.png 2x\" data-file-width=\"2000\" data-file-height=\"1400\" />&#160;<a href=\"/wiki/Para%C3%ADba\" title=\"Para\\xc3\\xadba\">Para\\xc3\\xadba</a></td>\\n<td>56&#160;467,242</td>\\n<td>0,664</td>\\n<td style=\"text-align:left\"><span class=\"flagicon\"><img alt=\"\" src=\"//upload.wikimedia.org/wikipedia/commons/thumb/1/1b/Flag_of_Croatia.svg/23px-Flag_of_Croatia.svg.png\" decoding=\"async\" width=\"23\" height=\"12\" class=\"thumbborder\" srcset=\"//upload.wikimedia.org/wikipedia/commons/thumb/1/1b/Flag_of_Croatia.svg/35px-Flag_of_Croatia.svg.png 1.5x, //upload.wikimedia.org/wikipedia/commons/thumb/1/1b/Flag_of_Croatia.svg/46px-Flag_of_Croatia.svg.png 2x\" data-file-width=\"1200\" data-file-height=\"600\" />&#160;</span><a href=\"/wiki/Cro%C3%A1cia\" title=\"Cro\\xc3\\xa1cia\">Cro\\xc3\\xa1cia</a>\\n</td></tr>\\n<tr>\\n<td>22</td>\\n<td style=\"text-align:left\"><img alt=\"\" src=\"//upload.wikimedia.org/wikipedia/commons/thumb/3/30/Bandeira_do_Rio_Grande_do_Norte.svg/20px-Bandeira_do_Rio_Grande_do_Norte.svg.png\" decoding=\"async\" width=\"20\" height=\"13\" class=\"thumbborder\" srcset=\"//upload.wikimedia.org/wikipedia/commons/thumb/3/30/Bandeira_do_Rio_Grande_do_Norte.svg/30px-Bandeira_do_Rio_Grande_do_Norte.svg.png 1.5x, //upload.wikimedia.org/wikipedia/commons/thumb/3/30/Bandeira_do_Rio_Grande_do_Norte.svg/40px-Bandeira_do_Rio_Grande_do_Norte.svg.png 2x\" data-file-width=\"900\" data-file-height=\"600\" />&#160;<a href=\"/wiki/Rio_Grande_do_Norte\" title=\"Rio Grande do Norte\">Rio Grande do Norte</a></td>\\n<td>52&#160;809,602</td>\\n<td>0,621</td>\\n<td style=\"text-align:left\"><span class=\"flagicon\"><img alt=\"\" src=\"//upload.wikimedia.org/wikipedia/commons/thumb/b/bf/Flag_of_Bosnia_and_Herzegovina.svg/23px-Flag_of_Bosnia_and_Herzegovina.svg.png\" decoding=\"async\" width=\"23\" height=\"12\" class=\"thumbborder\" srcset=\"//upload.wikimedia.org/wikipedia/commons/thumb/b/bf/Flag_of_Bosnia_and_Herzegovina.svg/35px-Flag_of_Bosnia_and_Herzegovina.svg.png 1.5x, //upload.wikimedia.org/wikipedia/commons/thumb/b/bf/Flag_of_Bosnia_and_Herzegovina.svg/46px-Flag_of_Bosnia_and_Herzegovina.svg.png 2x\" data-file-width=\"800\" data-file-height=\"400\" />&#160;</span><a href=\"/wiki/B%C3%B3snia_e_Herzegovina\" title=\"B\\xc3\\xb3snia e Herzegovina\">B\\xc3\\xb3snia e Herzegovina</a>\\n</td></tr>\\n<tr>\\n<td>23</td>\\n<td style=\"text-align:left\"><img alt=\"\" src=\"//upload.wikimedia.org/wikipedia/commons/thumb/4/43/Bandeira_do_Esp%C3%ADrito_Santo.svg/20px-Bandeira_do_Esp%C3%ADrito_Santo.svg.png\" decoding=\"async\" width=\"20\" height=\"14\" class=\"thumbborder\" srcset=\"//upload.wikimedia.org/wikipedia/commons/thumb/4/43/Bandeira_do_Esp%C3%ADrito_Santo.svg/30px-Bandeira_do_Esp%C3%ADrito_Santo.svg.png 1.5x, //upload.wikimedia.org/wikipedia/commons/thumb/4/43/Bandeira_do_Esp%C3%ADrito_Santo.svg/40px-Bandeira_do_Esp%C3%ADrito_Santo.svg.png 2x\" data-file-width=\"2000\" data-file-height=\"1400\" />&#160;<a href=\"/wiki/Esp%C3%ADrito_Santo_(estado)\" title=\"Esp\\xc3\\xadrito Santo (estado)\">Esp\\xc3\\xadrito Santo</a></td>\\n<td>46&#160;074,447</td>\\n<td>0,541</td>\\n<td style=\"text-align:left\"><span class=\"flagicon\"><img alt=\"\" src=\"//upload.wikimedia.org/wikipedia/commons/thumb/8/8f/Flag_of_Estonia.svg/23px-Flag_of_Estonia.svg.png\" decoding=\"async\" width=\"23\" height=\"15\" class=\"thumbborder\" srcset=\"//upload.wikimedia.org/wikipedia/commons/thumb/8/8f/Flag_of_Estonia.svg/35px-Flag_of_Estonia.svg.png 1.5x, //upload.wikimedia.org/wikipedia/commons/thumb/8/8f/Flag_of_Estonia.svg/46px-Flag_of_Estonia.svg.png 2x\" data-file-width=\"990\" data-file-height=\"630\" />&#160;</span><a href=\"/wiki/Est%C3%B3nia\" title=\"Est\\xc3\\xb3nia\">Est\\xc3\\xb4nia</a>\\n</td></tr>\\n<tr>\\n<td>24</td>\\n<td style=\"text-align:left\"><img alt=\"\" src=\"//upload.wikimedia.org/wikipedia/commons/thumb/7/73/Bandeira_do_estado_do_Rio_de_Janeiro.svg/20px-Bandeira_do_estado_do_Rio_de_Janeiro.svg.png\" decoding=\"async\" width=\"20\" height=\"14\" class=\"thumbborder\" srcset=\"//upload.wikimedia.org/wikipedia/commons/thumb/7/73/Bandeira_do_estado_do_Rio_de_Janeiro.svg/30px-Bandeira_do_estado_do_Rio_de_Janeiro.svg.png 1.5x, //upload.wikimedia.org/wikipedia/commons/thumb/7/73/Bandeira_do_estado_do_Rio_de_Janeiro.svg/40px-Bandeira_do_estado_do_Rio_de_Janeiro.svg.png 2x\" data-file-width=\"1000\" data-file-height=\"700\" />&#160;<a href=\"/wiki/Rio_de_Janeiro_(estado)\" title=\"Rio de Janeiro (estado)\">Rio de Janeiro</a></td>\\n<td>43&#160;750,427</td>\\n<td>0,514</td>\\n<td style=\"text-align:left\"><span class=\"flagicon\"><img alt=\"\" src=\"//upload.wikimedia.org/wikipedia/commons/thumb/9/9c/Flag_of_Denmark.svg/20px-Flag_of_Denmark.svg.png\" decoding=\"async\" width=\"20\" height=\"15\" class=\"thumbborder\" srcset=\"//upload.wikimedia.org/wikipedia/commons/thumb/9/9c/Flag_of_Denmark.svg/31px-Flag_of_Denmark.svg.png 1.5x, //upload.wikimedia.org/wikipedia/commons/thumb/9/9c/Flag_of_Denmark.svg/40px-Flag_of_Denmark.svg.png 2x\" data-file-width=\"512\" data-file-height=\"387\" />&#160;</span><a href=\"/wiki/Dinamarca\" title=\"Dinamarca\">Dinamarca</a>\\n</td></tr>\\n<tr>\\n<td>25</td>\\n<td style=\"text-align:left\"><img alt=\"\" src=\"//upload.wikimedia.org/wikipedia/commons/thumb/8/88/Bandeira_de_Alagoas.svg/20px-Bandeira_de_Alagoas.svg.png\" decoding=\"async\" width=\"20\" height=\"13\" class=\"thumbborder\" srcset=\"//upload.wikimedia.org/wikipedia/commons/thumb/8/88/Bandeira_de_Alagoas.svg/30px-Bandeira_de_Alagoas.svg.png 1.5x, //upload.wikimedia.org/wikipedia/commons/thumb/8/88/Bandeira_de_Alagoas.svg/40px-Bandeira_de_Alagoas.svg.png 2x\" data-file-width=\"600\" data-file-height=\"400\" />&#160;<a href=\"/wiki/Alagoas\" title=\"Alagoas\">Alagoas</a></td>\\n<td>27&#160;843,295</td>\\n<td>0,327</td>\\n<td style=\"text-align:left\"><span class=\"flagicon\"><img alt=\"\" src=\"//upload.wikimedia.org/wikipedia/commons/thumb/5/56/Flag_of_Haiti.svg/23px-Flag_of_Haiti.svg.png\" decoding=\"async\" width=\"23\" height=\"14\" class=\"thumbborder\" srcset=\"//upload.wikimedia.org/wikipedia/commons/thumb/5/56/Flag_of_Haiti.svg/35px-Flag_of_Haiti.svg.png 1.5x, //upload.wikimedia.org/wikipedia/commons/thumb/5/56/Flag_of_Haiti.svg/46px-Flag_of_Haiti.svg.png 2x\" data-file-width=\"1000\" data-file-height=\"600\" />&#160;</span><a href=\"/wiki/Haiti\" title=\"Haiti\">Haiti</a>\\n</td></tr>\\n<tr>\\n<td>26</td>\\n<td style=\"text-align:left\"><img alt=\"\" src=\"//upload.wikimedia.org/wikipedia/commons/thumb/b/be/Bandeira_de_Sergipe.svg/20px-Bandeira_de_Sergipe.svg.png\" decoding=\"async\" width=\"20\" height=\"14\" class=\"thumbborder\" srcset=\"//upload.wikimedia.org/wikipedia/commons/thumb/b/be/Bandeira_de_Sergipe.svg/30px-Bandeira_de_Sergipe.svg.png 1.5x, //upload.wikimedia.org/wikipedia/commons/thumb/b/be/Bandeira_de_Sergipe.svg/40px-Bandeira_de_Sergipe.svg.png 2x\" data-file-width=\"1050\" data-file-height=\"750\" />&#160;<a href=\"/wiki/Sergipe\" title=\"Sergipe\">Sergipe</a></td>\\n<td>21&#160;925,424</td>\\n<td>0,258</td>\\n<td style=\"text-align:left\"><span class=\"flagicon\"><img alt=\"\" src=\"//upload.wikimedia.org/wikipedia/commons/thumb/3/34/Flag_of_El_Salvador.svg/23px-Flag_of_El_Salvador.svg.png\" decoding=\"async\" width=\"23\" height=\"13\" class=\"thumbborder\" srcset=\"//upload.wikimedia.org/wikipedia/commons/thumb/3/34/Flag_of_El_Salvador.svg/35px-Flag_of_El_Salvador.svg.png 1.5x, //upload.wikimedia.org/wikipedia/commons/thumb/3/34/Flag_of_El_Salvador.svg/46px-Flag_of_El_Salvador.svg.png 2x\" data-file-width=\"1005\" data-file-height=\"567\" />&#160;</span><a href=\"/wiki/El_Salvador\" title=\"El Salvador\">El Salvador</a>\\n</td></tr>\\n<tr>\\n<td>27</td>\\n<td style=\"text-align:left\"><img alt=\"\" src=\"//upload.wikimedia.org/wikipedia/commons/thumb/3/3c/Bandeira_do_Distrito_Federal_%28Brasil%29.svg/20px-Bandeira_do_Distrito_Federal_%28Brasil%29.svg.png\" decoding=\"async\" width=\"20\" height=\"14\" class=\"thumbborder\" srcset=\"//upload.wikimedia.org/wikipedia/commons/thumb/3/3c/Bandeira_do_Distrito_Federal_%28Brasil%29.svg/30px-Bandeira_do_Distrito_Federal_%28Brasil%29.svg.png 1.5x, //upload.wikimedia.org/wikipedia/commons/thumb/3/3c/Bandeira_do_Distrito_Federal_%28Brasil%29.svg/40px-Bandeira_do_Distrito_Federal_%28Brasil%29.svg.png 2x\" data-file-width=\"1500\" data-file-height=\"1050\" />&#160;<a href=\"/wiki/Distrito_Federal_(Brasil)\" title=\"Distrito Federal (Brasil)\">Distrito Federal</a></td>\\n<td>5&#160;760,783</td>\\n<td>0,068</td>\\n<td style=\"text-align:left\"><span class=\"flagicon\"><img alt=\"\" src=\"//upload.wikimedia.org/wikipedia/commons/thumb/9/9c/Flag_of_Brunei.svg/23px-Flag_of_Brunei.svg.png\" decoding=\"async\" width=\"23\" height=\"12\" class=\"thumbborder\" srcset=\"//upload.wikimedia.org/wikipedia/commons/thumb/9/9c/Flag_of_Brunei.svg/35px-Flag_of_Brunei.svg.png 1.5x, //upload.wikimedia.org/wikipedia/commons/thumb/9/9c/Flag_of_Brunei.svg/46px-Flag_of_Brunei.svg.png 2x\" data-file-width=\"1440\" data-file-height=\"720\" />&#160;</span><a href=\"/wiki/Brunei\" title=\"Brunei\">Brunei</a>\\n</td></tr></tbody></table>\\n<h2><span id=\"Por_regi.C3.A3o\"></span><span class=\"mw-headline\" id=\"Por_regi\\xc3\\xa3o\">Por regi\\xc3\\xa3o</span><span class=\"mw-editsection\"><span class=\"mw-editsection-bracket\">[</span><a href=\"/w/index.php?title=Lista_de_unidades_federativas_do_Brasil_por_%C3%A1rea&amp;veaction=edit&amp;section=2\" class=\"mw-editsection-visualeditor\" title=\"Editar sec\\xc3\\xa7\\xc3\\xa3o: Por regi\\xc3\\xa3o\">editar</a><span class=\"mw-editsection-divider\"> | </span><a href=\"/w/index.php?title=Lista_de_unidades_federativas_do_Brasil_por_%C3%A1rea&amp;action=edit&amp;section=2\" title=\"Editar sec\\xc3\\xa7\\xc3\\xa3o: Por regi\\xc3\\xa3o\">editar c\\xc3\\xb3digo-fonte</a><span class=\"mw-editsection-bracket\">]</span></span></h2>\\n<table class=\"wikitable sortable\" style=\"text-align:center;\">\\n\\n<tbody><tr>\\n<th>Posi\\xc3\\xa7\\xc3\\xa3o\\n</th>\\n<th width=\"200px\">Regi\\xc3\\xa3o\\n</th>\\n<th width=\"100px\">\\xc3\\x81rea (km\\xc2\\xb2)\\n</th>\\n<th width=\"60px\">% do<br />Brasil\\n</th>\\n<th width=\"180px\">Pa\\xc3\\xads compar\\xc3\\xa1vel\\n</th></tr>\\n<tr>\\n<td>1</td>\\n<td style=\"text-align:left\"><a href=\"/wiki/Regi%C3%A3o_Norte_do_Brasil\" title=\"Regi\\xc3\\xa3o Norte do Brasil\">Norte</a></td>\\n<td>3&#160;850&#160;509,943</td>\\n<td>45,245</td>\\n<td style=\"text-align:left\"><img alt=\"\" src=\"//upload.wikimedia.org/wikipedia/commons/thumb/4/41/Flag_of_India.svg/22px-Flag_of_India.svg.png\" decoding=\"async\" width=\"22\" height=\"15\" class=\"thumbborder\" srcset=\"//upload.wikimedia.org/wikipedia/commons/thumb/4/41/Flag_of_India.svg/33px-Flag_of_India.svg.png 1.5x, //upload.wikimedia.org/wikipedia/commons/thumb/4/41/Flag_of_India.svg/44px-Flag_of_India.svg.png 2x\" data-file-width=\"900\" data-file-height=\"600\" />&#160;<a href=\"/wiki/%C3%8Dndia\" title=\"\\xc3\\x8dndia\">\\xc3\\x8dndia</a> (3&#160;287&#160;263)\\n</td></tr>\\n<tr>\\n<td>2</td>\\n<td style=\"text-align:left\"><a href=\"/wiki/Regi%C3%A3o_Centro-Oeste_do_Brasil\" title=\"Regi\\xc3\\xa3o Centro-Oeste do Brasil\">Centro-Oeste</a></td>\\n<td>1&#160;606&#160;316,665</td>\\n<td>18,875</td>\\n<td style=\"text-align:left\"><a href=\"/wiki/Ir%C3%A3\" title=\"Ir\\xc3\\xa3\"><img alt=\"Ir\\xc3\\xa3\" src=\"//upload.wikimedia.org/wikipedia/commons/thumb/c/ca/Flag_of_Iran.svg/22px-Flag_of_Iran.svg.png\" decoding=\"async\" width=\"22\" height=\"13\" class=\"thumbborder\" srcset=\"//upload.wikimedia.org/wikipedia/commons/thumb/c/ca/Flag_of_Iran.svg/33px-Flag_of_Iran.svg.png 1.5x, //upload.wikimedia.org/wikipedia/commons/thumb/c/ca/Flag_of_Iran.svg/44px-Flag_of_Iran.svg.png 2x\" data-file-width=\"630\" data-file-height=\"360\" /></a> <a href=\"/wiki/Ir%C3%A3\" title=\"Ir\\xc3\\xa3\">Ir\\xc3\\xa3</a> (1&#160;648&#160;195)\\n</td></tr>\\n<tr>\\n<td>3</td>\\n<td style=\"text-align:left\"><a href=\"/wiki/Regi%C3%A3o_Nordeste_do_Brasil\" title=\"Regi\\xc3\\xa3o Nordeste do Brasil\">Nordeste</a></td>\\n<td>1&#160;552&#160;167,009</td>\\n<td>18,239</td>\\n<td style=\"text-align:left\"><a href=\"/wiki/Mong%C3%B3lia\" title=\"Mong\\xc3\\xb3lia\"><img alt=\"Mong\\xc3\\xb3lia\" src=\"//upload.wikimedia.org/wikipedia/commons/thumb/4/4c/Flag_of_Mongolia.svg/22px-Flag_of_Mongolia.svg.png\" decoding=\"async\" width=\"22\" height=\"11\" class=\"thumbborder\" srcset=\"//upload.wikimedia.org/wikipedia/commons/thumb/4/4c/Flag_of_Mongolia.svg/33px-Flag_of_Mongolia.svg.png 1.5x, //upload.wikimedia.org/wikipedia/commons/thumb/4/4c/Flag_of_Mongolia.svg/44px-Flag_of_Mongolia.svg.png 2x\" data-file-width=\"1200\" data-file-height=\"600\" /></a> <a href=\"/wiki/Mong%C3%B3lia\" title=\"Mong\\xc3\\xb3lia\">Mong\\xc3\\xb3lia</a> (1&#160;564&#160;110)\\n</td></tr>\\n<tr>\\n<td>4</td>\\n<td style=\"text-align:left\"><a href=\"/wiki/Regi%C3%A3o_Sudeste_do_Brasil\" title=\"Regi\\xc3\\xa3o Sudeste do Brasil\">Sudeste</a></td>\\n<td>924&#160;565,478</td>\\n<td>10,864</td>\\n<td style=\"text-align:left\"><img alt=\"\" src=\"//upload.wikimedia.org/wikipedia/commons/thumb/7/79/Flag_of_Nigeria.svg/22px-Flag_of_Nigeria.svg.png\" decoding=\"async\" width=\"22\" height=\"11\" class=\"thumbborder\" srcset=\"//upload.wikimedia.org/wikipedia/commons/thumb/7/79/Flag_of_Nigeria.svg/33px-Flag_of_Nigeria.svg.png 1.5x, //upload.wikimedia.org/wikipedia/commons/thumb/7/79/Flag_of_Nigeria.svg/44px-Flag_of_Nigeria.svg.png 2x\" data-file-width=\"1200\" data-file-height=\"600\" /> <a href=\"/wiki/Nig%C3%A9ria\" title=\"Nig\\xc3\\xa9ria\">Nig\\xc3\\xa9ria</a> (923&#160;768)\\n</td></tr>\\n<tr>\\n<td>5</td>\\n<td style=\"text-align:left\"><a href=\"/wiki/Regi%C3%A3o_Sul_do_Brasil\" title=\"Regi\\xc3\\xa3o Sul do Brasil\">Sul</a></td>\\n<td>576&#160;736,819</td>\\n<td>6,777</td>\\n<td style=\"text-align:left\"><img alt=\"\" src=\"//upload.wikimedia.org/wikipedia/commons/thumb/4/49/Flag_of_Kenya.svg/22px-Flag_of_Kenya.svg.png\" decoding=\"async\" width=\"22\" height=\"15\" class=\"thumbborder\" srcset=\"//upload.wikimedia.org/wikipedia/commons/thumb/4/49/Flag_of_Kenya.svg/33px-Flag_of_Kenya.svg.png 1.5x, //upload.wikimedia.org/wikipedia/commons/thumb/4/49/Flag_of_Kenya.svg/44px-Flag_of_Kenya.svg.png 2x\" data-file-width=\"900\" data-file-height=\"600\" />&#160;<a href=\"/wiki/Qu%C3%A9nia\" title=\"Qu\\xc3\\xa9nia\">Qu\\xc3\\xaania</a> (580&#160;367)\\n</td></tr>\\n<tr>\\n<th bgcolor=\"#ececec\"><b>Total</b></th>\\n<th style=\"text-align:left\"><span class=\"flagicon\"><img alt=\"\" src=\"//upload.wikimedia.org/wikipedia/commons/thumb/0/05/Flag_of_Brazil.svg/22px-Flag_of_Brazil.svg.png\" decoding=\"async\" width=\"22\" height=\"15\" class=\"thumbborder\" srcset=\"//upload.wikimedia.org/wikipedia/commons/thumb/0/05/Flag_of_Brazil.svg/33px-Flag_of_Brazil.svg.png 1.5x, //upload.wikimedia.org/wikipedia/commons/thumb/0/05/Flag_of_Brazil.svg/44px-Flag_of_Brazil.svg.png 2x\" data-file-width=\"749\" data-file-height=\"525\" />&#160;</span><a href=\"/wiki/Brasil\" title=\"Brasil\">Brasil</a></th>\\n<th bgcolor=\"#ececec\">8&#160;510&#160;295,914</th>\\n<th>100</th>\\n<th style=\"text-align:left\"><span class=\"flagicon\"><img alt=\"\" src=\"//upload.wikimedia.org/wikipedia/commons/thumb/0/05/Flag_of_Brazil.svg/22px-Flag_of_Brazil.svg.png\" decoding=\"async\" width=\"22\" height=\"15\" class=\"thumbborder\" srcset=\"//upload.wikimedia.org/wikipedia/commons/thumb/0/05/Flag_of_Brazil.svg/33px-Flag_of_Brazil.svg.png 1.5x, //upload.wikimedia.org/wikipedia/commons/thumb/0/05/Flag_of_Brazil.svg/44px-Flag_of_Brazil.svg.png 2x\" data-file-width=\"749\" data-file-height=\"525\" />&#160;</span><a href=\"/wiki/Brasil\" title=\"Brasil\">Brasil</a> (8&#160;510&#160;296)\\n</th></tr></tbody></table>\\n<h2><span id=\"Ver_tamb.C3.A9m\"></span><span class=\"mw-headline\" id=\"Ver_tamb\\xc3\\xa9m\">Ver tamb\\xc3\\xa9m</span><span class=\"mw-editsection\"><span class=\"mw-editsection-bracket\">[</span><a href=\"/w/index.php?title=Lista_de_unidades_federativas_do_Brasil_por_%C3%A1rea&amp;veaction=edit&amp;section=3\" class=\"mw-editsection-visualeditor\" title=\"Editar sec\\xc3\\xa7\\xc3\\xa3o: Ver tamb\\xc3\\xa9m\">editar</a><span class=\"mw-editsection-divider\"> | </span><a href=\"/w/index.php?title=Lista_de_unidades_federativas_do_Brasil_por_%C3%A1rea&amp;action=edit&amp;section=3\" title=\"Editar sec\\xc3\\xa7\\xc3\\xa3o: Ver tamb\\xc3\\xa9m\">editar c\\xc3\\xb3digo-fonte</a><span class=\"mw-editsection-bracket\">]</span></span></h2>\\n<ul><li><a href=\"/wiki/Lista_de_estados_brasileiros_por_n%C3%BAmero_de_munic%C3%ADpios\" title=\"Lista de estados brasileiros por n\\xc3\\xbamero de munic\\xc3\\xadpios\">Lista de estados brasileiros por n\\xc3\\xbamero de munic\\xc3\\xadpios</a></li>\\n<li><a href=\"/wiki/Lista_de_pa%C3%ADses_e_territ%C3%B3rios_por_%C3%A1rea\" title=\"Lista de pa\\xc3\\xadses e territ\\xc3\\xb3rios por \\xc3\\xa1rea\">Lista de pa\\xc3\\xadses e territ\\xc3\\xb3rios por \\xc3\\xa1rea</a></li>\\n<li><a href=\"/wiki/Lista_de_unidades_federativas_do_Brasil_por_popula%C3%A7%C3%A3o\" title=\"Lista de unidades federativas do Brasil por popula\\xc3\\xa7\\xc3\\xa3o\">Lista de unidades federativas do Brasil por popula\\xc3\\xa7\\xc3\\xa3o</a></li>\\n<li><a href=\"/wiki/Lista_de_unidades_federativas_do_Brasil_por_taxa_de_urbaniza%C3%A7%C3%A3o\" title=\"Lista de unidades federativas do Brasil por taxa de urbaniza\\xc3\\xa7\\xc3\\xa3o\">Lista de unidades federativas do Brasil por taxa de urbaniza\\xc3\\xa7\\xc3\\xa3o</a></li></ul>\\n<h2 style=\"cursor: help;\" title=\"Esta se\\xc3\\xa7\\xc3\\xa3o foi configurada para n\\xc3\\xa3o ser edit\\xc3\\xa1vel diretamente. Edite a p\\xc3\\xa1gina toda ou a se\\xc3\\xa7\\xc3\\xa3o anterior em vez disso.\"><span id=\"Refer.C3.AAncias\"></span><span class=\"mw-headline\" id=\"Refer\\xc3\\xaancias\">Refer\\xc3\\xaancias</span></h2>\\n<div class=\"reflist\" style=\"list-style-type: decimal;\"><div class=\"mw-references-wrap\"><ol class=\"references\">\\n<li id=\"cite_note-\\xc3\\x81rea-IBGE-1\"><span class=\"mw-cite-backlink\">\\xe2\\x86\\x91 <sup><i><b><a href=\"#cite_ref-\\xc3\\x81rea-IBGE_1-0\">a</a></b></i></sup> <sup><i><b><a href=\"#cite_ref-\\xc3\\x81rea-IBGE_1-1\">b</a></b></i></sup></span> <span class=\"reference-text\"><cite class=\"citation web\"><a href=\"/wiki/Instituto_Brasileiro_de_Geografia_e_Estat%C3%ADstica\" title=\"Instituto Brasileiro de Geografia e Estat\\xc3\\xadstica\">Instituto Brasileiro de Geografia e Estat\\xc3\\xadstica</a> (IBGE). <a rel=\"nofollow\" class=\"external text\" href=\"https://www.ibge.gov.br/geociencias/organizacao-do-territorio/estrutura-territorial/15761-areas-dos-municipios.html?=&amp;t=resolucoes-e-legislacao\">\\xc2\\xabResolu\\xc3\\xa7\\xc3\\xb5es e legisla\\xc3\\xa7\\xc3\\xa3o\\xc2\\xbb</a><span class=\"reference-accessdate\">. Consultado em 19 de dezembro de 2020</span></cite><span title=\"ctx_ver=Z39.88-2004&amp;rfr_id=info%3Asid%2Fpt.wikipedia.org%3ALista+de+unidades+federativas+do+Brasil+por+%C3%A1rea&amp;rft.au=Instituto+Brasileiro+de+Geografia+e+Estat%C3stica+%28IBGE%29&amp;rft.btitle=Resolu%C3%A7%C3%B5es+e+legisla%C3%A7%C3%A3o&amp;rft.genre=unknown&amp;rft_id=https%3A%2F%2Fwww.ibge.gov.br%2Fgeociencias%2Forganizacao-do-territorio%2Festrutura-territorial%2F15761-areas-dos-municipios.html%3F%3D%26t%3Dresolucoes-e-legislacao&amp;rft_val_fmt=info%3Aofi%2Ffmt%3Akev%3Amtx%3Abook\" class=\"Z3988\"><span style=\"display:none;\">&#160;</span></span></span>\\n</li>\\n</ol></div></div>\\n<h2><span id=\"Liga.C3.A7.C3.B5es_externas\"></span><span class=\"mw-headline\" id=\"Liga\\xc3\\xa7\\xc3\\xb5es_externas\">Liga\\xc3\\xa7\\xc3\\xb5es externas</span><span class=\"mw-editsection\"><span class=\"mw-editsection-bracket\">[</span><a href=\"/w/index.php?title=Lista_de_unidades_federativas_do_Brasil_por_%C3%A1rea&amp;veaction=edit&amp;section=4\" class=\"mw-editsection-visualeditor\" title=\"Editar sec\\xc3\\xa7\\xc3\\xa3o: Liga\\xc3\\xa7\\xc3\\xb5es externas\">editar</a><span class=\"mw-editsection-divider\"> | </span><a href=\"/w/index.php?title=Lista_de_unidades_federativas_do_Brasil_por_%C3%A1rea&amp;action=edit&amp;section=4\" title=\"Editar sec\\xc3\\xa7\\xc3\\xa3o: Liga\\xc3\\xa7\\xc3\\xb5es externas\">editar c\\xc3\\xb3digo-fonte</a><span class=\"mw-editsection-bracket\">]</span></span></h2>\\n<ul><li><cite class=\"citation web\"><a rel=\"nofollow\" class=\"external text\" href=\"http://www.ibge.gov.br/home/\">\\xc2\\xabP\\xc3\\xa1gina do Instituto Brasileiro de Geografia e Estat\\xc3\\xadstica (IBGE)\\xc2\\xbb</a></cite><span title=\"ctx_ver=Z39.88-2004&amp;rfr_id=info%3Asid%2Fpt.wikipedia.org%3ALista+de+unidades+federativas+do+Brasil+por+%C3%A1rea&amp;rft.btitle=P%C3%A1gina+do+Instituto+Brasileiro+de+Geografia+e+Estat%C3stica+%28IBGE%29&amp;rft.genre=unknown&amp;rft_id=http%3A%2F%2Fwww.ibge.gov.br%2Fhome%2F&amp;rft_val_fmt=info%3Aofi%2Ffmt%3Akev%3Amtx%3Abook\" class=\"Z3988\"><span style=\"display:none;\">&#160;</span></span></li></ul>\\n<div role=\"navigation\" class=\"navbox\" aria-labelledby=\"Classifica\\xc3\\xa7\\xc3\\xb5es_das_unidades_federativas_do_Brasil\" style=\"padding:3px\"><table class=\"nowraplinks collapsible collapsed navbox-inner\" style=\"border-spacing:0;background:transparent;color:inherit\"><tbody><tr><th scope=\"col\" class=\"navbox-title\" colspan=\"2\"><div class=\"plainlinks hlist navbar mini\"><ul><li class=\"nv-ver\"><a href=\"/wiki/Predefini%C3%A7%C3%A3o:Classifica%C3%A7%C3%B5es_das_unidades_federativas_do_Brasil\" title=\"Predefini\\xc3\\xa7\\xc3\\xa3o:Classifica\\xc3\\xa7\\xc3\\xb5es das unidades federativas do Brasil\"><abbr title=\"Ver esta predefini\\xc3\\xa7\\xc3\\xa3o\" style=\";;background:none transparent;border:none;-moz-box-shadow:none;-webkit-box-shadow:none;box-shadow:none; padding:0;\">v</abbr></a></li><li class=\"nv-discutir\"><a href=\"/w/index.php?title=Predefini%C3%A7%C3%A3o_Discuss%C3%A3o:Classifica%C3%A7%C3%B5es_das_unidades_federativas_do_Brasil&amp;action=edit&amp;redlink=1\" class=\"new\" title=\"Predefini\\xc3\\xa7\\xc3\\xa3o Discuss\\xc3\\xa3o:Classifica\\xc3\\xa7\\xc3\\xb5es das unidades federativas do Brasil (p\\xc3\\xa1gina n\\xc3\\xa3o existe)\"><abbr title=\"Discutir esta predefini\\xc3\\xa7\\xc3\\xa3o\" style=\";;background:none transparent;border:none;-moz-box-shadow:none;-webkit-box-shadow:none;box-shadow:none; padding:0;\">d</abbr></a></li><li class=\"nv-editar\"><a class=\"external text\" href=\"https://pt.wikipedia.org/w/index.php?title=Predefini%C3%A7%C3%A3o:Classifica%C3%A7%C3%B5es_das_unidades_federativas_do_Brasil&amp;action=edit\"><abbr title=\"Editar esta predefini\\xc3\\xa7\\xc3\\xa3o\" style=\";;background:none transparent;border:none;-moz-box-shadow:none;-webkit-box-shadow:none;box-shadow:none; padding:0;\">e</abbr></a></li></ul></div><div id=\"Classifica\\xc3\\xa7\\xc3\\xb5es_das_unidades_federativas_do_Brasil\" style=\"font-size:114%;margin:0 4em\"><a href=\"/wiki/Unidades_federativas_do_Brasil\" title=\"Unidades federativas do Brasil\">Classifica\\xc3\\xa7\\xc3\\xb5es das unidades federativas do Brasil</a></div></th></tr><tr><th scope=\"row\" class=\"navbox-group\" style=\"width:1%\">Caracter\\xc3\\xadsticas<br /> geogr\\xc3\\xa1ficas</th><td class=\"navbox-list navbox-odd hlist\" style=\"text-align:left;border-left-width:2px;border-left-style:solid;width:100%;padding:0px\"><div style=\"padding:0em 0.25em\">\\n<ul><li><a class=\"mw-selflink selflink\">\\xc3\\x81rea</a></li>\\n<li><a href=\"/wiki/Lista_de_unidades_federativas_do_Brasil_por_densidade_demogr%C3%A1fica\" title=\"Lista de unidades federativas do Brasil por densidade demogr\\xc3\\xa1fica\">Densidade demogr\\xc3\\xa1fica</a></li>\\n<li><a href=\"/wiki/Lista_de_estados_brasileiros_por_n%C3%BAmero_de_munic%C3%ADpios\" title=\"Lista de estados brasileiros por n\\xc3\\xbamero de munic\\xc3\\xadpios\">N\\xc3\\xbamero de munic\\xc3\\xadpios</a></li>\\n<li><a href=\"/wiki/Lista_de_unidades_federativas_do_Brasil_por_taxa_de_urbaniza%C3%A7%C3%A3o\" title=\"Lista de unidades federativas do Brasil por taxa de urbaniza\\xc3\\xa7\\xc3\\xa3o\">Urbaniza\\xc3\\xa7\\xc3\\xa3o</a></li>\\n<li><a href=\"/wiki/Lista_de_munic%C3%ADpios_brasileiros_mais_altos_em_cada_estado\" class=\"mw-redirect\" title=\"Lista de munic\\xc3\\xadpios brasileiros mais altos em cada estado\">Munic\\xc3\\xadpio mais alto por estado</a></li>\\n<li><a href=\"/wiki/Lista_de_unidades_federativas_do_Brasil_por_ponto_mais_elevado\" class=\"mw-redirect\" title=\"Lista de unidades federativas do Brasil por ponto mais elevado\">Ponto culminante</a></li></ul>\\n</div></td></tr><tr><th scope=\"row\" class=\"navbox-group\" style=\"width:1%\">Indicadores<br /> demogr\\xc3\\xa1ficos</th><td class=\"navbox-list navbox-even hlist\" style=\"text-align:left;border-left-width:2px;border-left-style:solid;width:100%;padding:0px\"><div style=\"padding:0em 0.25em\">\\n<ul><li><a href=\"/wiki/Lista_de_unidades_federativas_do_Brasil_por_popula%C3%A7%C3%A3o\" title=\"Lista de unidades federativas do Brasil por popula\\xc3\\xa7\\xc3\\xa3o\">Popula\\xc3\\xa7\\xc3\\xa3o</a></li>\\n<li><a href=\"/wiki/Lista_de_unidades_federativas_do_Brasil_por_densidade_demogr%C3%A1fica\" title=\"Lista de unidades federativas do Brasil por densidade demogr\\xc3\\xa1fica\">Densidade demogr\\xc3\\xa1fica</a></li>\\n<li><a href=\"/wiki/Lista_de_unidades_federativas_do_Brasil_por_taxa_de_natalidade\" title=\"Lista de unidades federativas do Brasil por taxa de natalidade\">Natalidade</a></li>\\n<li><a href=\"/wiki/Lista_de_unidades_federativas_do_Brasil_por_taxa_de_fecundidade\" title=\"Lista de unidades federativas do Brasil por taxa de fecundidade\">Fecundidade</a></li>\\n<li><a href=\"/wiki/Lista_de_unidades_federativas_do_Brasil_por_porcentagem_de_ra%C3%A7a\" title=\"Lista de unidades federativas do Brasil por porcentagem de ra\\xc3\\xa7a\">Porcentagem de cor</a></li>\\n<li><a href=\"/wiki/Lista_de_unidades_federativas_do_Brasil_por_popula%C3%A7%C3%A3o_ind%C3%ADgena\" title=\"Lista de unidades federativas do Brasil por popula\\xc3\\xa7\\xc3\\xa3o ind\\xc3\\xadgena\">Popula\\xc3\\xa7\\xc3\\xa3o ind\\xc3\\xadgena</a></li>\\n<li><a href=\"/wiki/Lista_dos_munic%C3%ADpios_mais_populosos_por_unidade_federativa_do_Brasil\" title=\"Lista dos munic\\xc3\\xadpios mais populosos por unidade federativa do Brasil\">Munic\\xc3\\xadpios mais populosos por estado</a></li></ul>\\n</div></td></tr><tr><th scope=\"row\" class=\"navbox-group\" style=\"width:1%\">Gest\\xc3\\xa3o p\\xc3\\xbablica</th><td class=\"navbox-list navbox-odd hlist\" style=\"text-align:left;border-left-width:2px;border-left-style:solid;width:100%;padding:0px\"><div style=\"padding:0em 0.25em\">\\n<ul><li><a href=\"/wiki/Lista_das_sedes_dos_governos_estaduais_do_Brasil\" title=\"Lista das sedes dos governos estaduais do Brasil\">Sedes governamentais</a></li>\\n<li><a href=\"/wiki/Lista_de_unidades_federativas_do_Brasil_por_%C3%ADndice_de_transpar%C3%AAncia\" title=\"Lista de unidades federativas do Brasil por \\xc3\\xadndice de transpar\\xc3\\xaancia\">Transpar\\xc3\\xaancia</a></li>\\n<li><a href=\"/wiki/Lista_de_unidades_federativas_do_Brasil_por_arrecada%C3%A7%C3%A3o\" title=\"Lista de unidades federativas do Brasil por arrecada\\xc3\\xa7\\xc3\\xa3o\">Arrecada\\xc3\\xa7\\xc3\\xa3o</a>\\n<ul><li><a href=\"/wiki/Lista_de_unidades_federativas_do_Brasil_por_arrecada%C3%A7%C3%A3o_do_ICMS\" title=\"Lista de unidades federativas do Brasil por arrecada\\xc3\\xa7\\xc3\\xa3o do ICMS\">ICMS</a></li></ul></li>\\n<li><a href=\"/wiki/Lista_de_unidades_federativas_do_Brasil_por_repasses_federais\" title=\"Lista de unidades federativas do Brasil por repasses federais\">Repasses</a></li>\\n<li><a href=\"/wiki/Lista_de_unidades_federativas_do_Brasil_por_endividamento\" title=\"Lista de unidades federativas do Brasil por endividamento\">Endividamento</a></li>\\n<li><a href=\"/w/index.php?title=Lista_de_unidades_federativas_do_Brasil_por_IFGF&amp;action=edit&amp;redlink=1\" class=\"new\" title=\"Lista de unidades federativas do Brasil por IFGF (p\\xc3\\xa1gina n\\xc3\\xa3o existe)\">IFGF</a></li>\\n<li><a href=\"/wiki/Lista_de_unidades_federativas_do_Brasil_por_propor%C3%A7%C3%A3o_de_gastos_com_funcionalismo\" title=\"Lista de unidades federativas do Brasil por propor\\xc3\\xa7\\xc3\\xa3o de gastos com funcionalismo\">Gastos com funcionalismo</a></li>\\n<li><a href=\"/w/index.php?title=Lista_de_unidades_federativas_do_Brasil_por_despesas_l%C3%ADquidas_do_funcionalismo&amp;action=edit&amp;redlink=1\" class=\"new\" title=\"Lista de unidades federativas do Brasil por despesas l\\xc3\\xadquidas do funcionalismo (p\\xc3\\xa1gina n\\xc3\\xa3o existe)\">Despesas l\\xc3\\xadquidas</a>\\n<ul><li><a href=\"/w/index.php?title=Lista_de_unidades_federativas_do_Brasil_por_despesas_do_funcionalismo_ativo&amp;action=edit&amp;redlink=1\" class=\"new\" title=\"Lista de unidades federativas do Brasil por despesas do funcionalismo ativo (p\\xc3\\xa1gina n\\xc3\\xa3o existe)\">Ativos</a></li>\\n<li><a href=\"/w/index.php?title=Lista_de_unidades_federativas_do_Brasil_por_despesas_de_pensionistas&amp;action=edit&amp;redlink=1\" class=\"new\" title=\"Lista de unidades federativas do Brasil por despesas de pensionistas (p\\xc3\\xa1gina n\\xc3\\xa3o existe)\">Pensionistas</a></li></ul></li>\\n<li><a href=\"/w/index.php?title=Lista_de_unidades_federativas_do_Brasil_por_propor%C3%A7%C3%A3o_de_investimentos_p%C3%BAblicos&amp;action=edit&amp;redlink=1\" class=\"new\" title=\"Lista de unidades federativas do Brasil por propor\\xc3\\xa7\\xc3\\xa3o de investimentos p\\xc3\\xbablicos (p\\xc3\\xa1gina n\\xc3\\xa3o existe)\">Investimentos p\\xc3\\xbablicos</a></li>\\n<li><a href=\"/w/index.php?title=Lista_de_unidades_federativas_do_Brasil_por_reserva_de_caixa&amp;action=edit&amp;redlink=1\" class=\"new\" title=\"Lista de unidades federativas do Brasil por reserva de caixa (p\\xc3\\xa1gina n\\xc3\\xa3o existe)\">Reserva de caixa</a>\\n<ul><li><a href=\"/w/index.php?title=Lista_de_unidades_federativas_do_Brasil_por_receitas_previdenci%C3%A1rias&amp;action=edit&amp;redlink=1\" class=\"new\" title=\"Lista de unidades federativas do Brasil por receitas previdenci\\xc3\\xa1rias (p\\xc3\\xa1gina n\\xc3\\xa3o existe)\">Receitas previdenci\\xc3\\xa1rias</a></li>\\n<li><a href=\"/w/index.php?title=Lista_de_unidades_federativas_do_Brasil_por_necessidade_de_financiamento_da_previd%C3%AAncia&amp;action=edit&amp;redlink=1\" class=\"new\" title=\"Lista de unidades federativas do Brasil por necessidade de financiamento da previd\\xc3\\xaancia (p\\xc3\\xa1gina n\\xc3\\xa3o existe)\">Financiamento da previd\\xc3\\xaancia</a></li></ul></li></ul>\\n</div></td></tr><tr><th scope=\"row\" class=\"navbox-group\" style=\"width:1%\">Indicadores <br />econ\\xc3\\xb4micos<br /> e sociais</th><td class=\"navbox-list navbox-odd hlist\" style=\"text-align:left;border-left-width:2px;border-left-style:solid;width:100%;padding:0px\"><div style=\"padding:0em 0.25em\"></div><table class=\"nowraplinks navbox-subgroup\" style=\"border-spacing:0\"><tbody><tr><th scope=\"row\" class=\"navbox-group\" style=\"width:1%\"><a href=\"/wiki/Lista_de_unidades_federativas_do_Brasil_por_PIB\" title=\"Lista de unidades federativas do Brasil por PIB\">PIB</a></th><td class=\"navbox-list navbox-even hlist\" style=\"text-align:left;border-left-width:2px;border-left-style:solid;width:100%;padding:0px\"><div style=\"padding:0em 0.25em\">\\n<ul><li>S\\xc3\\xa9rie hist\\xc3\\xb3rica\\n<ul><li><a href=\"/wiki/Lista_de_unidades_federativas_do_Brasil_por_PIB_(1939)\" title=\"Lista de unidades federativas do Brasil por PIB (1939)\">1939</a></li>\\n<li><a href=\"/wiki/Lista_de_unidades_federativas_do_Brasil_por_PIB_(1950)\" title=\"Lista de unidades federativas do Brasil por PIB (1950)\">1950</a></li>\\n<li><a href=\"/wiki/Lista_de_unidades_federativas_do_Brasil_por_PIB_(1960)\" title=\"Lista de unidades federativas do Brasil por PIB (1960)\">1960</a></li>\\n<li><a href=\"/wiki/Lista_de_unidades_federativas_do_Brasil_por_PIB_(1970)\" title=\"Lista de unidades federativas do Brasil por PIB (1970)\">1970</a></li>\\n<li><a href=\"/w/index.php?title=Lista_de_unidades_federativas_do_Brasil_por_PIB_(1980)&amp;action=edit&amp;redlink=1\" class=\"new\" title=\"Lista de unidades federativas do Brasil por PIB (1980) (p\\xc3\\xa1gina n\\xc3\\xa3o existe)\">1980</a></li>\\n<li><a href=\"/w/index.php?title=Lista_de_unidades_federativas_do_Brasil_por_PIB_(1990)&amp;action=edit&amp;redlink=1\" class=\"new\" title=\"Lista de unidades federativas do Brasil por PIB (1990) (p\\xc3\\xa1gina n\\xc3\\xa3o existe)\">1990</a></li>\\n<li><a href=\"/w/index.php?title=Lista_de_unidades_federativas_do_Brasil_por_PIB_(2000)&amp;action=edit&amp;redlink=1\" class=\"new\" title=\"Lista de unidades federativas do Brasil por PIB (2000) (p\\xc3\\xa1gina n\\xc3\\xa3o existe)\">2000</a></li>\\n<li><a href=\"/wiki/Lista_de_unidades_federativas_do_Brasil_por_PIB_(2010)\" title=\"Lista de unidades federativas do Brasil por PIB (2010)\">2010</a></li></ul></li>\\n<li><a href=\"/wiki/Lista_de_unidades_federativas_do_Brasil_por_PIB_per_capita\" title=\"Lista de unidades federativas do Brasil por PIB per capita\">PIB <i>per capita</i></a></li>\\n<li><a href=\"/wiki/Lista_de_unidades_federativas_do_Brasil_por_crescimento_do_PIB\" title=\"Lista de unidades federativas do Brasil por crescimento do PIB\">Crescimento</a></li>\\n<li><a href=\"/wiki/Lista_de_unidades_federativas_do_Brasil_por_crescimento_nominal_do_PIB\" title=\"Lista de unidades federativas do Brasil por crescimento nominal do PIB\">Crescimento nominal</a></li>\\n<li><a href=\"/wiki/Lista_de_unidades_federativas_do_Brasil_por_participa%C3%A7%C3%A3o_no_PIB\" title=\"Lista de unidades federativas do Brasil por participa\\xc3\\xa7\\xc3\\xa3o no PIB\">Participa\\xc3\\xa7\\xc3\\xa3o</a></li></ul>\\n</div></td></tr><tr><th scope=\"row\" class=\"navbox-group\" style=\"width:1%\">Trabalho</th><td class=\"navbox-list navbox-odd hlist\" style=\"text-align:left;border-left-width:2px;border-left-style:solid;width:100%;padding:0px\"><div style=\"padding:0em 0.25em\">\\n<ul><li><a href=\"/wiki/Lista_de_unidades_federativas_do_Brasil_por_porcentagem_de_empregados_com_carteira_de_trabalho_assinada\" title=\"Lista de unidades federativas do Brasil por porcentagem de empregados com carteira de trabalho assinada\">Empregados com carteira assinada</a></li>\\n<li><a href=\"/wiki/Lista_de_unidades_federativas_do_Brasil_por_taxa_de_desemprego\" title=\"Lista de unidades federativas do Brasil por taxa de desemprego\">Desemprego</a></li>\\n<li><a href=\"/wiki/Lista_de_unidades_federativas_do_Brasil_por_n%C3%BAmero_de_aposentados\" title=\"Lista de unidades federativas do Brasil por n\\xc3\\xbamero de aposentados\">Aposentados</a></li></ul>\\n</div></td></tr><tr><th scope=\"row\" class=\"navbox-group\" style=\"width:1%\">Desigualdade<br /> e bem-estar</th><td class=\"navbox-list navbox-even hlist\" style=\"text-align:left;border-left-width:2px;border-left-style:solid;width:100%;padding:0px\"><div style=\"padding:0em 0.25em\">\\n<ul><li><a href=\"/wiki/Lista_de_unidades_federativas_do_Brasil_por_seguran%C3%A7a_alimentar\" title=\"Lista de unidades federativas do Brasil por seguran\\xc3\\xa7a alimentar\">Seguran\\xc3\\xa7a alimentar</a></li>\\n<li><a href=\"/wiki/Lista_de_unidades_federativas_do_Brasil_por_renda_per_capita\" title=\"Lista de unidades federativas do Brasil por renda per capita\">Renda <i>per capita</i></a></li>\\n<li><a href=\"/wiki/Lista_de_unidades_federativas_do_Brasil_por_IDH\" title=\"Lista de unidades federativas do Brasil por IDH\">IDH</a>\\n<ul><li><a href=\"/wiki/Lista_de_unidades_federativas_do_Brasil_por_IDH_segundo_cor/ra%C3%A7a\" title=\"Lista de unidades federativas do Brasil por IDH segundo cor/ra\\xc3\\xa7a\">segundo cor/ra\\xc3\\xa7a</a></li></ul></li>\\n<li><a href=\"/wiki/Lista_de_unidades_federativas_do_Brasil_por_IFDM\" title=\"Lista de unidades federativas do Brasil por IFDM\">IFDM</a></li>\\n<li><a href=\"/wiki/Lista_de_unidades_federativas_do_Brasil_por_incid%C3%AAncia_da_pobreza\" title=\"Lista de unidades federativas do Brasil por incid\\xc3\\xaancia da pobreza\">Incid\\xc3\\xaancia da pobreza</a></li>\\n<li><a href=\"/wiki/Lista_de_unidades_federativas_do_Brasil_por_%C3%ADndice_de_Gini\" title=\"Lista de unidades federativas do Brasil por \\xc3\\xadndice de Gini\">GINI</a></li></ul>\\n</div></td></tr><tr><th scope=\"row\" class=\"navbox-group\" style=\"width:1%\">Educa\\xc3\\xa7\\xc3\\xa3o</th><td class=\"navbox-list navbox-odd hlist\" style=\"text-align:left;border-left-width:2px;border-left-style:solid;width:100%;padding:0px\"><div style=\"padding:0em 0.25em\">\\n<ul><li><a href=\"/wiki/Lista_de_unidades_federativas_do_Brasil_por_alfabetiza%C3%A7%C3%A3o\" title=\"Lista de unidades federativas do Brasil por alfabetiza\\xc3\\xa7\\xc3\\xa3o\">Alfabetiza\\xc3\\xa7\\xc3\\xa3o</a></li>\\n<li><a href=\"/wiki/Lista_de_unidades_federativas_do_Brasil_por_porcentagem_de_crian%C3%A7as_e_adolescentes_fora_da_escola\" title=\"Lista de unidades federativas do Brasil por porcentagem de crian\\xc3\\xa7as e adolescentes fora da escola\">Crian\\xc3\\xa7as e adolescentes fora da escola</a></li>\\n<li><a href=\"/wiki/Lista_de_unidades_federativas_do_Brasil_por_porcentagem_de_pessoas_com_n%C3%ADvel_superior_completo\" title=\"Lista de unidades federativas do Brasil por porcentagem de pessoas com n\\xc3\\xadvel superior completo\">N\\xc3\\xadvel superior</a></li>\\n<li><a href=\"/wiki/Lista_de_unidades_federativas_do_Brasil_por_nota_do_PISA\" title=\"Lista de unidades federativas do Brasil por nota do PISA\">Nota no PISA</a></li>\\n<li><a href=\"/wiki/Lista_de_unidades_federativas_do_Brasil_por_IDEB\" title=\"Lista de unidades federativas do Brasil por IDEB\">IDEB</a></li></ul>\\n</div></td></tr><tr><th scope=\"row\" class=\"navbox-group\" style=\"width:1%\">Sa\\xc3\\xbade</th><td class=\"navbox-list navbox-even hlist\" style=\"text-align:left;border-left-width:2px;border-left-style:solid;width:100%;padding:0px\"><div style=\"padding:0em 0.25em\">\\n<ul><li><a href=\"/wiki/Lista_de_unidades_federativas_do_Brasil_por_mortalidade_infantil\" title=\"Lista de unidades federativas do Brasil por mortalidade infantil\">Mortalidade infantil</a></li>\\n<li><a href=\"/wiki/Lista_de_unidades_federativas_do_Brasil_por_porcentagem_de_%C3%B3bitos_infantis\" title=\"Lista de unidades federativas do Brasil por porcentagem de \\xc3\\xb3bitos infantis\">\\xc3\\x93bitos infantis</a></li>\\n<li><a href=\"/wiki/Lista_de_unidades_federativas_do_Brasil_por_taxa_de_homic%C3%ADdios\" title=\"Lista de unidades federativas do Brasil por taxa de homic\\xc3\\xaddios\">Taxa de homic\\xc3\\xaddios</a></li>\\n<li><a href=\"/wiki/Lista_de_unidades_federativas_do_Brasil_por_n%C3%BAmeros_totais_de_homic%C3%ADdios\" title=\"Lista de unidades federativas do Brasil por n\\xc3\\xbameros totais de homic\\xc3\\xaddios\">N\\xc3\\xbamero absoluto de homic\\xc3\\xaddios</a></li>\\n<li><a href=\"/wiki/Lista_de_unidades_federativas_do_Brasil_por_expectativa_de_vida\" title=\"Lista de unidades federativas do Brasil por expectativa de vida\">Expectativa de vida</a></li>\\n<li><a href=\"/wiki/Lista_de_unidades_federativas_do_Brasil_por_n%C3%BAmero_de_m%C3%A9dicos_para_cada_grupo_de_mil_habitantes\" title=\"Lista de unidades federativas do Brasil por n\\xc3\\xbamero de m\\xc3\\xa9dicos para cada grupo de mil habitantes\">M\\xc3\\xa9dicos por mil habitantes</a></li>\\n<li><a href=\"/wiki/Lista_de_unidades_federativas_do_Brasil_por_acesso_%C3%A0_rede_de_esgoto\" title=\"Lista de unidades federativas do Brasil por acesso \\xc3\\xa0 rede de esgoto\">Rede de esgoto</a></li>\\n<li><a href=\"/w/index.php?title=Lista_de_unidades_federativas_do_Brasil_por_cobertura_de_coleta_de_lixo&amp;action=edit&amp;redlink=1\" class=\"new\" title=\"Lista de unidades federativas do Brasil por cobertura de coleta de lixo (p\\xc3\\xa1gina n\\xc3\\xa3o existe)\">Coleta de lixo</a></li></ul>\\n</div></td></tr><tr><th scope=\"row\" class=\"navbox-group\" style=\"width:1%\">Outros</th><td class=\"navbox-list navbox-odd hlist\" style=\"text-align:left;border-left-width:2px;border-left-style:solid;width:100%;padding:0px\"><div style=\"padding:0em 0.25em\">\\n<ul><li><a href=\"/wiki/Lista_de_unidades_federativas_do_Brasil_por_religi%C3%A3o\" title=\"Lista de unidades federativas do Brasil por religi\\xc3\\xa3o\">Religi\\xc3\\xa3o</a>\\n<ul><li><a href=\"/wiki/Circunscri%C3%A7%C3%B5es_eclesi%C3%A1sticas_cat%C3%B3licas_do_Brasil\" title=\"Circunscri\\xc3\\xa7\\xc3\\xb5es eclesi\\xc3\\xa1sticas cat\\xc3\\xb3licas do Brasil\">Circunscri\\xc3\\xa7\\xc3\\xb5es eclesi\\xc3\\xa1sticas</a></li></ul></li>\\n<li><a href=\"/wiki/Lista_de_unidades_federativas_do_Brasil_por_competitividade\" title=\"Lista de unidades federativas do Brasil por competitividade\">Competitividade</a></li>\\n<li><a href=\"/w/index.php?title=Lista_de_unidades_federativas_do_Brasil_por_%C3%8Dndice_Potencial_de_Consumo&amp;action=edit&amp;redlink=1\" class=\"new\" title=\"Lista de unidades federativas do Brasil por \\xc3\\x8dndice Potencial de Consumo (p\\xc3\\xa1gina n\\xc3\\xa3o existe)\">Potencial de consumo</a></li>\\n<li><a href=\"/w/index.php?title=Lista_de_unidades_federativas_do_Brasil_por_extens%C3%A3o_da_malha_rodovi%C3%A1ria&amp;action=edit&amp;redlink=1\" class=\"new\" title=\"Lista de unidades federativas do Brasil por extens\\xc3\\xa3o da malha rodovi\\xc3\\xa1ria (p\\xc3\\xa1gina n\\xc3\\xa3o existe)\">Malha rodovi\\xc3\\xa1ria</a>\\n<ul><li><a href=\"/w/index.php?title=Lista_de_unidades_federativas_do_Brasil_por_malha_rodovi%C3%A1ria_asfaltada&amp;action=edit&amp;redlink=1\" class=\"new\" title=\"Lista de unidades federativas do Brasil por malha rodovi\\xc3\\xa1ria asfaltada (p\\xc3\\xa1gina n\\xc3\\xa3o existe)\">Asfaltada</a></li>\\n<li><a href=\"/wiki/Lista_de_unidades_federativas_do_Brasil_por_malha_rodovi%C3%A1ria_em_pista_dupla\" title=\"Lista de unidades federativas do Brasil por malha rodovi\\xc3\\xa1ria em pista dupla\">Pista dupla</a></li></ul></li>\\n<li><a href=\"/wiki/Lista_de_unidades_federativas_do_Brasil_por_autom%C3%B3veis_per_capita\" title=\"Lista de unidades federativas do Brasil por autom\\xc3\\xb3veis per capita\">Autom\\xc3\\xb3veis <i>per capita</i></a></li>\\n<li><a href=\"/wiki/Lista_de_unidades_federativas_do_Brasil_por_teledensidade\" title=\"Lista de unidades federativas do Brasil por teledensidade\">Celulares por habitante</a></li></ul>\\n</div></td></tr></tbody></table><div></div></td></tr><tr><th scope=\"row\" class=\"navbox-group\" style=\"width:1%\">S\\xc3\\xadmbolos</th><td class=\"navbox-list navbox-even hlist\" style=\"text-align:left;border-left-width:2px;border-left-style:solid;width:100%;padding:0px\"><div style=\"padding:0em 0.25em\">\\n<ul><li><a href=\"/w/index.php?title=Lista_de_bras%C3%B5es_do_Brasil&amp;action=edit&amp;redlink=1\" class=\"new\" title=\"Lista de bras\\xc3\\xb5es do Brasil (p\\xc3\\xa1gina n\\xc3\\xa3o existe)\">Bras\\xc3\\xb5es</a></li>\\n<li><a href=\"/w/index.php?title=Hinos_das_unidades_federativas_do_Brasil&amp;action=edit&amp;redlink=1\" class=\"new\" title=\"Hinos das unidades federativas do Brasil (p\\xc3\\xa1gina n\\xc3\\xa3o existe)\">Hinos</a></li></ul>\\n</div></td></tr></tbody></table></div>\\n<ul class=\"noprint\" style=\"border-top: solid silver 1px; border-bottom:1px solid silver; padding:3px; background-color: #F9F9F9; text-align: center; margin-top:10px; margin-left: 0; clear: both;\"><li style=\"display: inline;\"><span style=\"white-space: nowrap; margin: auto 1.5em\"><span style=\"margin-right: 0.5em\"><a href=\"/wiki/Ficheiro:Flag_of_Brazil.svg\" title=\"Portal do Brasil\"><img alt=\"\" src=\"//upload.wikimedia.org/wikipedia/commons/thumb/0/05/Flag_of_Brazil.svg/25px-Flag_of_Brazil.svg.png\" decoding=\"async\" width=\"25\" height=\"18\" srcset=\"//upload.wikimedia.org/wikipedia/commons/thumb/0/05/Flag_of_Brazil.svg/38px-Flag_of_Brazil.svg.png 1.5x, //upload.wikimedia.org/wikipedia/commons/thumb/0/05/Flag_of_Brazil.svg/50px-Flag_of_Brazil.svg.png 2x\" data-file-width=\"749\" data-file-height=\"525\" /></a></span> <span style=\"font-weight:bold\"><a href=\"/wiki/Portal:Brasil\" title=\"Portal:Brasil\">Portal do Brasil</a></span></span></li>         </ul>\\n<p class=\"mw-empty-elt\">\\n</p>\\n<!-- \\nNewPP limit report\\nParsed by mw1352\\nCached time: 20220926152716\\nCache expiry: 1814400\\nReduced expiry: false\\nComplications: [show\\xe2\\x80\\x90toc]\\nCPU time usage: 0.351 seconds\\nReal time usage: 0.500 seconds\\nPreprocessor visited node count: 3319/1000000\\nPost\\xe2\\x80\\x90expand include size: 65272/2097152 bytes\\nTemplate argument size: 4408/2097152 bytes\\nHighest expansion depth: 10/100\\nExpensive parser function count: 0/500\\nUnstrip recursion depth: 0/20\\nUnstrip post\\xe2\\x80\\x90expand size: 1647/5000000 bytes\\nLua time usage: 0.096/10.000 seconds\\nLua memory usage: 2090337/52428800 bytes\\nNumber of Wikibase entities loaded: 0/400\\n-->\\n<!--\\nTransclusion expansion time report (%,ms,calls,template)\\n100.00%  354.466      1 -total\\n 22.66%   80.318     27 Predefini\\xc3\\xa7\\xc3\\xa3o:Flag\\n 21.80%   77.265     47 Predefini\\xc3\\xa7\\xc3\\xa3o:Fmtn\\n 12.75%   45.201      1 Predefini\\xc3\\xa7\\xc3\\xa3o:Refer\\xc3\\xaancias\\n 12.01%   42.582      2 Predefini\\xc3\\xa7\\xc3\\xa3o:Citar_web\\n  8.00%   28.367      1 Predefini\\xc3\\xa7\\xc3\\xa3o:Lista_destacada\\n  7.56%   26.782      1 Predefini\\xc3\\xa7\\xc3\\xa3o:Top_icon\\n  7.36%   26.105      2 Predefini\\xc3\\xa7\\xc3\\xa3o:Navbox\\n  7.05%   24.992      1 Predefini\\xc3\\xa7\\xc3\\xa3o:Classifica\\xc3\\xa7\\xc3\\xb5es_dos_estados_do_Brasil\\n  5.31%   18.819      1 Predefini\\xc3\\xa7\\xc3\\xa3o:Category_handler\\n-->\\n\\n<!-- Saved in parser cache with key ptwiki:pcache:idhash:9520-0!canonical and timestamp 20220926152715 and revision id 64219064.\\n -->\\n</div><noscript><img src=\"//pt.wikipedia.org/wiki/Special:CentralAutoLogin/start?type=1x1\" alt=\"\" title=\"\" width=\"1\" height=\"1\" style=\"border: none; position: absolute;\" /></noscript>\\n<div class=\"printfooter\" data-nosnippet=\"\">Obtida de \"<a dir=\"ltr\" href=\"https://pt.wikipedia.org/w/index.php?title=Lista_de_unidades_federativas_do_Brasil_por_\\xc3\\xa1rea&amp;oldid=64219064\">https://pt.wikipedia.org/w/index.php?title=Lista_de_unidades_federativas_do_Brasil_por_\\xc3\\xa1rea&amp;oldid=64219064</a>\"</div></div>\\n\\t\\t\\t\\t\\t<div id=\"catlinks\" class=\"catlinks\" data-mw=\"interface\"><div id=\"mw-normal-catlinks\" class=\"mw-normal-catlinks\"><a href=\"/wiki/Especial:Categorias\" title=\"Especial:Categorias\">Categorias</a>: <ul><li><a href=\"/wiki/Categoria:Listas_de_estados_do_Brasil\" title=\"Categoria:Listas de estados do Brasil\">Listas de estados do Brasil</a></li><li><a href=\"/wiki/Categoria:Listas_por_%C3%A1rea\" title=\"Categoria:Listas por \\xc3\\xa1rea\">Listas por \\xc3\\xa1rea</a></li></ul></div><div id=\"mw-hidden-catlinks\" class=\"mw-hidden-catlinks mw-hidden-cats-hidden\">Categoria oculta: <ul><li><a href=\"/wiki/Categoria:!Listas_destacadas\" title=\"Categoria:!Listas destacadas\">!Listas destacadas</a></li></ul></div></div>\\n\\t\\t\\t\\t</div>\\n\\t\\t\\t</main>\\n\\t\\t\\t\\n\\t\\t</div>\\n\\t\\t<div class=\"mw-footer-container\">\\n\\t\\t\\t\\n<footer id=\"footer\" class=\"mw-footer\" role=\"contentinfo\" >\\n\\t<ul id=\"footer-info\">\\n\\t<li id=\"footer-info-lastmod\"> Esta p\\xc3\\xa1gina foi editada pela \\xc3\\xbaltima vez \\xc3\\xa0s 01h02min de 18 de agosto de 2022.</li>\\n\\t<li id=\"footer-info-copyright\">Este texto \\xc3\\xa9 disponibilizado nos termos da licen\\xc3\\xa7a <a href=\"https://creativecommons.org/licenses/by-sa/3.0/deed.pt\">Atribui\\xc3\\xa7\\xc3\\xa3o-CompartilhaIgual 3.0 N\\xc3\\xa3o Adaptada (CC BY-SA 3.0) da Creative Commons</a>;\\npode estar sujeito a condi\\xc3\\xa7\\xc3\\xb5es adicionais.\\nPara mais detalhes, consulte as <a href=\"https://foundation.wikimedia.org/wiki/Condi\\xc3\\xa7\\xc3\\xb5es_de_Uso\">condi\\xc3\\xa7\\xc3\\xb5es de utiliza\\xc3\\xa7\\xc3\\xa3o</a>.</li>\\n</ul>\\n\\n\\t<ul id=\"footer-places\">\\n\\t<li id=\"footer-places-privacy\"><a href=\"https://meta.wikimedia.org/wiki/Privacy_policy/pt-br\">Pol\\xc3\\xadtica de privacidade</a></li>\\n\\t<li id=\"footer-places-about\"><a href=\"/wiki/Wikip%C3%A9dia:Sobre\">Sobre a Wikip\\xc3\\xa9dia</a></li>\\n\\t<li id=\"footer-places-disclaimer\"><a href=\"/wiki/Wikip%C3%A9dia:Aviso_geral\">Avisos gerais</a></li>\\n\\t<li id=\"footer-places-mobileview\"><a href=\"//pt.m.wikipedia.org/w/index.php?title=Lista_de_unidades_federativas_do_Brasil_por_%C3%A1rea&amp;mobileaction=toggle_view_mobile\" class=\"noprint stopMobileRedirectToggle\">Vers\\xc3\\xa3o m\\xc3\\xb3vel</a></li>\\n\\t<li id=\"footer-places-developers\"><a href=\"https://developer.wikimedia.org\">Programadores</a></li>\\n\\t<li id=\"footer-places-statslink\"><a href=\"https://stats.wikimedia.org/#/pt.wikipedia.org\">Estat\\xc3\\xadsticas</a></li>\\n\\t<li id=\"footer-places-cookiestatement\"><a href=\"https://foundation.wikimedia.org/wiki/Cookie_statement\">Declara\\xc3\\xa7\\xc3\\xa3o sobre \\'\\'cookies\\'\\'</a></li>\\n</ul>\\n\\n\\t<ul id=\"footer-icons\" class=\"noprint\">\\n\\t<li id=\"footer-copyrightico\"><a href=\"https://wikimediafoundation.org/\"><img src=\"/static/images/footer/wikimedia-button.png\" srcset=\"/static/images/footer/wikimedia-button-1.5x.png 1.5x, /static/images/footer/wikimedia-button-2x.png 2x\" width=\"88\" height=\"31\" alt=\"Wikimedia Foundation\" loading=\"lazy\" /></a></li>\\n\\t<li id=\"footer-poweredbyico\"><a href=\"https://www.mediawiki.org/\"><img src=\"/static/images/footer/poweredby_mediawiki_88x31.png\" alt=\"Powered by MediaWiki\" srcset=\"/static/images/footer/poweredby_mediawiki_132x47.png 1.5x, /static/images/footer/poweredby_mediawiki_176x62.png 2x\" width=\"88\" height=\"31\" loading=\"lazy\"/></a></li>\\n</ul>\\n\\n</footer>\\n\\n\\t\\t</div>\\n\\t</div> \\n</div> \\n\\n<script>(RLQ=window.RLQ||[]).push(function(){mw.config.set({\"wgPageParseReport\":{\"limitreport\":{\"cputime\":\"0.351\",\"walltime\":\"0.500\",\"ppvisitednodes\":{\"value\":3319,\"limit\":1000000},\"postexpandincludesize\":{\"value\":65272,\"limit\":2097152},\"templateargumentsize\":{\"value\":4408,\"limit\":2097152},\"expansiondepth\":{\"value\":10,\"limit\":100},\"expensivefunctioncount\":{\"value\":0,\"limit\":500},\"unstrip-depth\":{\"value\":0,\"limit\":20},\"unstrip-size\":{\"value\":1647,\"limit\":5000000},\"entityaccesscount\":{\"value\":0,\"limit\":400},\"timingprofile\":[\"100.00%  354.466      1 -total\",\" 22.66%   80.318     27 Predefini\\xc3\\xa7\\xc3\\xa3o:Flag\",\" 21.80%   77.265     47 Predefini\\xc3\\xa7\\xc3\\xa3o:Fmtn\",\" 12.75%   45.201      1 Predefini\\xc3\\xa7\\xc3\\xa3o:Refer\\xc3\\xaancias\",\" 12.01%   42.582      2 Predefini\\xc3\\xa7\\xc3\\xa3o:Citar_web\",\"  8.00%   28.367      1 Predefini\\xc3\\xa7\\xc3\\xa3o:Lista_destacada\",\"  7.56%   26.782      1 Predefini\\xc3\\xa7\\xc3\\xa3o:Top_icon\",\"  7.36%   26.105      2 Predefini\\xc3\\xa7\\xc3\\xa3o:Navbox\",\"  7.05%   24.992      1 Predefini\\xc3\\xa7\\xc3\\xa3o:Classifica\\xc3\\xa7\\xc3\\xb5es_dos_estados_do_Brasil\",\"  5.31%   18.819      1 Predefini\\xc3\\xa7\\xc3\\xa3o:Category_handler\"]},\"scribunto\":{\"limitreport-timeusage\":{\"value\":\"0.096\",\"limit\":\"10.000\"},\"limitreport-memusage\":{\"value\":2090337,\"limit\":52428800}},\"cachereport\":{\"origin\":\"mw1352\",\"timestamp\":\"20220926152716\",\"ttl\":1814400,\"transientcontent\":false}}});});</script>\\n<script type=\"application/ld+json\">{\"@context\":\"https:\\\\/\\\\/schema.org\",\"@type\":\"Article\",\"name\":\"Lista de unidades federativas do Brasil por \\\\u00e1rea\",\"url\":\"https:\\\\/\\\\/pt.wikipedia.org\\\\/wiki\\\\/Lista_de_unidades_federativas_do_Brasil_por_%C3%A1rea\",\"sameAs\":\"http:\\\\/\\\\/www.wikidata.org\\\\/entity\\\\/Q864869\",\"mainEntity\":\"http:\\\\/\\\\/www.wikidata.org\\\\/entity\\\\/Q864869\",\"author\":{\"@type\":\"Organization\",\"name\":\"Contribuidores dos projetos da Wikimedia\"},\"publisher\":{\"@type\":\"Organization\",\"name\":\"Funda\\\\u00e7\\\\u00e3o Wikimedia, Inc.\",\"logo\":{\"@type\":\"ImageObject\",\"url\":\"https:\\\\/\\\\/www.wikimedia.org\\\\/static\\\\/images\\\\/wmf-hor-googpub.png\"}},\"datePublished\":\"2004-04-16T21:40:57Z\",\"dateModified\":\"2022-08-18T01:02:49Z\",\"image\":\"https:\\\\/\\\\/upload.wikimedia.org\\\\/wikipedia\\\\/commons\\\\/2\\\\/28\\\\/Brazilian_States_by_Area.svg\",\"headline\":\"artigo de lista da Wikimedia\"}</script><script type=\"application/ld+json\">{\"@context\":\"https:\\\\/\\\\/schema.org\",\"@type\":\"Article\",\"name\":\"Lista de unidades federativas do Brasil por \\\\u00e1rea\",\"url\":\"https:\\\\/\\\\/pt.wikipedia.org\\\\/wiki\\\\/Lista_de_unidades_federativas_do_Brasil_por_%C3%A1rea\",\"sameAs\":\"http:\\\\/\\\\/www.wikidata.org\\\\/entity\\\\/Q864869\",\"mainEntity\":\"http:\\\\/\\\\/www.wikidata.org\\\\/entity\\\\/Q864869\",\"author\":{\"@type\":\"Organization\",\"name\":\"Contribuidores dos projetos da Wikimedia\"},\"publisher\":{\"@type\":\"Organization\",\"name\":\"Funda\\\\u00e7\\\\u00e3o Wikimedia, Inc.\",\"logo\":{\"@type\":\"ImageObject\",\"url\":\"https:\\\\/\\\\/www.wikimedia.org\\\\/static\\\\/images\\\\/wmf-hor-googpub.png\"}},\"datePublished\":\"2004-04-16T21:40:57Z\",\"dateModified\":\"2022-08-18T01:02:49Z\",\"image\":\"https:\\\\/\\\\/upload.wikimedia.org\\\\/wikipedia\\\\/commons\\\\/2\\\\/28\\\\/Brazilian_States_by_Area.svg\",\"headline\":\"artigo de lista da Wikimedia\"}</script>\\n<script>(RLQ=window.RLQ||[]).push(function(){mw.config.set({\"wgBackendResponseTime\":623,\"wgHostname\":\"mw1352\"});});</script>\\n</body>\\n</html>'"
      ]
     },
     "execution_count": 8,
     "metadata": {},
     "output_type": "execute_result"
    }
   ],
   "source": [
    "r.content"
   ]
  },
  {
   "cell_type": "markdown",
   "metadata": {
    "id": "af2S5jKUUtzd"
   },
   "source": [
    "# O Beatifullsoup transforma o html e um estrutura de dados que pode ser acessada pelos diversos atributos do objeto soup"
   ]
  },
  {
   "cell_type": "code",
   "execution_count": 10,
   "metadata": {
    "colab": {
     "base_uri": "https://localhost:8080/"
    },
    "executionInfo": {
     "elapsed": 749,
     "status": "ok",
     "timestamp": 1608161658072,
     "user": {
      "displayName": "Orlando O. S.",
      "photoUrl": "https://lh3.googleusercontent.com/a-/AOh14Gj-E1yuy1M_3ruwN4TWYPK4BwysauSW7GQmHheS=s64",
      "userId": "15066502291703974467"
     },
     "user_tz": 180
    },
    "id": "OW488kRNSStQ",
    "outputId": "01879b65-1a9c-4bf5-dc04-e19228274bdc"
   },
   "outputs": [
    {
     "name": "stdout",
     "output_type": "stream",
     "text": [
      "<!DOCTYPE html>\n",
      "<html class=\"client-nojs\" dir=\"ltr\" lang=\"pt\">\n",
      " <head>\n",
      "  <meta charset=\"utf-8\"/>\n",
      "  <title>\n",
      "   Lista de unidades federativas do Brasil por área – Wikipédia, a enciclopédia livre\n",
      "  </title>\n",
      "  <script>\n",
      "   document.documentElement.className=\"client-js\";RLCONF={\"wgBreakFrames\":false,\"wgSeparatorTransformTable\":[\",\\t.\",\" \\t,\"],\"wgDigitTransformTable\":[\"\",\"\"],\"wgDefaultDateFormat\":\"dmy\",\"wgMonthNames\":[\"\",\"janeiro\",\"fevereiro\",\"março\",\"abril\",\"maio\",\"junho\",\"julho\",\"agosto\",\"setembro\",\"outubro\",\"novembro\",\"dezembro\"],\"wgRequestId\":\"e46a44ea-a384-425e-98ac-1d459dea7cca\",\"wgCSPNonce\":false,\"wgCanonicalNamespace\":\"\",\"wgCanonicalSpecialPageName\":false,\"wgNamespaceNumber\":0,\"wgPageName\":\"Lista_de_unidades_federativas_do_Brasil_por_área\",\"wgTitle\":\"Lista de unidades federativas do Brasil por área\",\"wgCurRevisionId\":64219064,\"wgRevisionId\":64219064,\"wgArticleId\":9520,\"wgIsArticle\":true,\"wgIsRedirect\":false,\"wgAction\":\"view\",\"wgUserName\":null,\"wgUserGroups\":[\"*\"],\"wgCategories\":[\"!Listas destacadas\",\"Listas de estados do Brasil\",\"Listas por área\"],\"wgPageContentLanguage\":\"pt\",\"wgPageContentModel\":\"wikitext\",\"wgRelevantPageName\":\"Lista_de_unidades_federativas_do_Brasil_por_área\",\n",
      "\"wgRelevantArticleId\":9520,\"wgIsProbablyEditable\":true,\"wgRelevantPageIsProbablyEditable\":true,\"wgRestrictionEdit\":[],\"wgRestrictionMove\":[],\"wgVisualEditor\":{\"pageLanguageCode\":\"pt\",\"pageLanguageDir\":\"ltr\",\"pageVariantFallbacks\":\"pt\"},\"wgMFDisplayWikibaseDescriptions\":{\"search\":true,\"nearby\":true,\"watchlist\":true,\"tagline\":true},\"wgWMESchemaEditAttemptStepOversample\":false,\"wgWMEPageLength\":7000,\"wgNoticeProject\":\"wikipedia\",\"wgVector2022PreviewPages\":[],\"wgMediaViewerOnClick\":true,\"wgMediaViewerEnabledByDefault\":true,\"wgPopupsFlags\":10,\"wgULSCurrentAutonym\":\"português\",\"wgEditSubmitButtonLabelPublish\":true,\"wgCentralAuthMobileDomain\":false,\"wgULSPosition\":\"interlanguage\",\"wgULSisCompactLinksEnabled\":true,\"wgWikibaseItemId\":\"Q864869\",\"GEHomepageSuggestedEditsEnableTopics\":true,\"wgGETopicsMatchModeEnabled\":true,\"wgGEStructuredTaskRejectionReasonTextInputEnabled\":false,\"wgSiteNoticeId\":\"2.30\"};RLSTATE={\"skins.vector.user.styles\":\"ready\",\"ext.gadget.FeedbackHighlight-base\":\"ready\",\n",
      "\"ext.gadget.keepPDU\":\"ready\",\"ext.globalCssJs.user.styles\":\"ready\",\"site.styles\":\"ready\",\"user.styles\":\"ready\",\"skins.vector.user\":\"ready\",\"ext.globalCssJs.user\":\"ready\",\"user\":\"ready\",\"user.options\":\"loading\",\"ext.cite.styles\":\"ready\",\"mediawiki.ui.button\":\"ready\",\"skins.vector.styles\":\"ready\",\"skins.vector.icons\":\"ready\",\"mediawiki.ui.icon\":\"ready\",\"jquery.tablesorter.styles\":\"ready\",\"ext.visualEditor.desktopArticleTarget.noscript\":\"ready\",\"ext.wikimediaBadges\":\"ready\",\"ext.uls.interlanguage\":\"ready\",\"wikibase.client.init\":\"ready\",\"ext.dismissableSiteNotice.styles\":\"ready\"};RLPAGEMODULES=[\"ext.cite.ux-enhancements\",\"site\",\"mediawiki.page.ready\",\"jquery.tablesorter\",\"mediawiki.toc\",\"skins.vector.js\",\"skins.vector.es6\",\"mmv.head\",\"mmv.bootstrap.autostart\",\"ext.visualEditor.desktopArticleTarget.init\",\"ext.visualEditor.targetLoader\",\"ext.eventLogging\",\"ext.wikimediaEvents\",\"ext.navigationTiming\",\"ext.cx.eventlogging.campaigns\",\"ext.imagesuggestions.notifications.styles\",\n",
      "\"ext.centralNotice.geoIP\",\"ext.centralNotice.startUp\",\"ext.gadget.Topicon\",\"ext.gadget.Metacaixa\",\"ext.gadget.TitleRewrite\",\"ext.gadget.ElementosOcultaveis\",\"ext.gadget.FeedbackHighlight\",\"ext.gadget.ReferenceTooltips\",\"ext.gadget.NewVillagePump\",\"ext.gadget.wikibugs\",\"ext.gadget.charinsert\",\"ext.gadget.requestForAdminship\",\"ext.gadget.EnhancedSearch\",\"ext.gadget.WikiMiniAtlas\",\"ext.gadget.PagesForDeletion\",\"ext.centralauth.centralautologin\",\"ext.popups\",\"ext.uls.compactlinks\",\"ext.uls.interface\",\"ext.cx.uls.quick.actions\",\"ext.growthExperiments.SuggestedEditSession\",\"ext.dismissableSiteNotice\"];\n",
      "  </script>\n",
      "  <script>\n",
      "   (RLQ=window.RLQ||[]).push(function(){mw.loader.implement(\"user.options@12s5i\",function($,jQuery,require,module){mw.user.tokens.set({\"patrolToken\":\"+\\\\\",\"watchToken\":\"+\\\\\",\"csrfToken\":\"+\\\\\"});});});\n",
      "  </script>\n",
      "  <link href=\"/w/load.php?lang=pt&amp;modules=ext.cite.styles%7Cext.dismissableSiteNotice.styles%7Cext.uls.interlanguage%7Cext.visualEditor.desktopArticleTarget.noscript%7Cext.wikimediaBadges%7Cjquery.tablesorter.styles%7Cmediawiki.ui.button%2Cicon%7Cskins.vector.icons%2Cstyles%7Cwikibase.client.init&amp;only=styles&amp;skin=vector-2022\" rel=\"stylesheet\"/>\n",
      "  <script async=\"\" src=\"/w/load.php?lang=pt&amp;modules=startup&amp;only=scripts&amp;raw=1&amp;skin=vector-2022\">\n",
      "  </script>\n",
      "  <meta content=\"\" name=\"ResourceLoaderDynamicStyles\"/>\n"
     ]
    }
   ],
   "source": [
    "from bs4 import BeautifulSoup\n",
    "soup = BeautifulSoup(r.text, 'html.parser')\n",
    "\n",
    "for linha in  soup.prettify().splitlines()[:20]:\n",
    "    print(linha)"
   ]
  },
  {
   "cell_type": "markdown",
   "metadata": {
    "id": "Cpeo8CPSM1Ki"
   },
   "source": [
    "## Acessar o título da página"
   ]
  },
  {
   "cell_type": "code",
   "execution_count": 11,
   "metadata": {
    "colab": {
     "base_uri": "https://localhost:8080/"
    },
    "executionInfo": {
     "elapsed": 623,
     "status": "ok",
     "timestamp": 1608161661876,
     "user": {
      "displayName": "Orlando O. S.",
      "photoUrl": "https://lh3.googleusercontent.com/a-/AOh14Gj-E1yuy1M_3ruwN4TWYPK4BwysauSW7GQmHheS=s64",
      "userId": "15066502291703974467"
     },
     "user_tz": 180
    },
    "id": "Gi7_Fn0hUkc7",
    "outputId": "ab499def-47ec-4253-c8bc-ae6799964a1c"
   },
   "outputs": [
    {
     "data": {
      "text/plain": [
       "<title>Lista de unidades federativas do Brasil por área – Wikipédia, a enciclopédia livre</title>"
      ]
     },
     "execution_count": 11,
     "metadata": {},
     "output_type": "execute_result"
    }
   ],
   "source": [
    "soup.title"
   ]
  },
  {
   "cell_type": "markdown",
   "metadata": {
    "id": "jzdQi8yFM6eS"
   },
   "source": [
    "## Acessar o nome da tag título"
   ]
  },
  {
   "cell_type": "code",
   "execution_count": 12,
   "metadata": {
    "colab": {
     "base_uri": "https://localhost:8080/",
     "height": 35
    },
    "executionInfo": {
     "elapsed": 697,
     "status": "ok",
     "timestamp": 1608161665129,
     "user": {
      "displayName": "Orlando O. S.",
      "photoUrl": "https://lh3.googleusercontent.com/a-/AOh14Gj-E1yuy1M_3ruwN4TWYPK4BwysauSW7GQmHheS=s64",
      "userId": "15066502291703974467"
     },
     "user_tz": 180
    },
    "id": "YspgWOADUs2D",
    "outputId": "820aab4a-c85d-4fcc-e6c7-a07370139d5b"
   },
   "outputs": [
    {
     "data": {
      "text/plain": [
       "'title'"
      ]
     },
     "execution_count": 12,
     "metadata": {},
     "output_type": "execute_result"
    }
   ],
   "source": [
    "soup.title.name"
   ]
  },
  {
   "cell_type": "markdown",
   "metadata": {
    "id": "dAdZjHY_NGJ5"
   },
   "source": [
    "## Acessar o conteúdo o texto da tag"
   ]
  },
  {
   "cell_type": "code",
   "execution_count": 13,
   "metadata": {
    "colab": {
     "base_uri": "https://localhost:8080/",
     "height": 35
    },
    "executionInfo": {
     "elapsed": 643,
     "status": "ok",
     "timestamp": 1608161673729,
     "user": {
      "displayName": "Orlando O. S.",
      "photoUrl": "https://lh3.googleusercontent.com/a-/AOh14Gj-E1yuy1M_3ruwN4TWYPK4BwysauSW7GQmHheS=s64",
      "userId": "15066502291703974467"
     },
     "user_tz": 180
    },
    "id": "jC5p7v6fVcy8",
    "outputId": "fa498c6a-19b9-4d51-c806-3b6514633f9c"
   },
   "outputs": [
    {
     "data": {
      "text/plain": [
       "'Lista de unidades federativas do Brasil por área – Wikipédia, a enciclopédia livre'"
      ]
     },
     "execution_count": 13,
     "metadata": {},
     "output_type": "execute_result"
    }
   ],
   "source": [
    "soup.title.string"
   ]
  },
  {
   "cell_type": "markdown",
   "metadata": {
    "id": "ESVz8frINNbE"
   },
   "source": [
    "## Acessar o objeto pai do objeto selecionado"
   ]
  },
  {
   "cell_type": "code",
   "execution_count": 14,
   "metadata": {
    "colab": {
     "base_uri": "https://localhost:8080/",
     "height": 35
    },
    "executionInfo": {
     "elapsed": 739,
     "status": "ok",
     "timestamp": 1608161797702,
     "user": {
      "displayName": "Orlando O. S.",
      "photoUrl": "https://lh3.googleusercontent.com/a-/AOh14Gj-E1yuy1M_3ruwN4TWYPK4BwysauSW7GQmHheS=s64",
      "userId": "15066502291703974467"
     },
     "user_tz": 180
    },
    "id": "cpRxhKxEVcjy",
    "outputId": "d66bf5f6-c66b-49fe-c262-f9b86f22e260"
   },
   "outputs": [
    {
     "data": {
      "text/plain": [
       "'head'"
      ]
     },
     "execution_count": 14,
     "metadata": {},
     "output_type": "execute_result"
    }
   ],
   "source": [
    "soup.title.parent.name"
   ]
  },
  {
   "cell_type": "markdown",
   "metadata": {
    "id": "5xWE83wfNYYp"
   },
   "source": [
    "## Acessar o primeiro objeto de determinado tipo"
   ]
  },
  {
   "cell_type": "code",
   "execution_count": 15,
   "metadata": {
    "colab": {
     "base_uri": "https://localhost:8080/"
    },
    "executionInfo": {
     "elapsed": 738,
     "status": "ok",
     "timestamp": 1608161916685,
     "user": {
      "displayName": "Orlando O. S.",
      "photoUrl": "https://lh3.googleusercontent.com/a-/AOh14Gj-E1yuy1M_3ruwN4TWYPK4BwysauSW7GQmHheS=s64",
      "userId": "15066502291703974467"
     },
     "user_tz": 180
    },
    "id": "PdeUZDy0VnlM",
    "outputId": "dbbf5b43-6204-4da0-868d-74213f908e97"
   },
   "outputs": [
    {
     "data": {
      "text/plain": [
       "<p>\n",
       "\t\tPáginas para editores sem sessão iniciada <a aria-label=\"Saiba mais sobre edição\" href=\"/wiki/Ajuda:Introduction\"><span>saber mais</span></a>\n",
       "</p>"
      ]
     },
     "execution_count": 15,
     "metadata": {},
     "output_type": "execute_result"
    }
   ],
   "source": [
    "soup.p"
   ]
  },
  {
   "cell_type": "markdown",
   "metadata": {
    "id": "8bEQ0mqWNgGh"
   },
   "source": [
    "## Acessar o próximo objeto a partir do atual"
   ]
  },
  {
   "cell_type": "code",
   "execution_count": 16,
   "metadata": {
    "colab": {
     "base_uri": "https://localhost:8080/",
     "height": 35
    },
    "executionInfo": {
     "elapsed": 776,
     "status": "ok",
     "timestamp": 1608162001623,
     "user": {
      "displayName": "Orlando O. S.",
      "photoUrl": "https://lh3.googleusercontent.com/a-/AOh14Gj-E1yuy1M_3ruwN4TWYPK4BwysauSW7GQmHheS=s64",
      "userId": "15066502291703974467"
     },
     "user_tz": 180
    },
    "id": "nOkXkOjONoDw",
    "outputId": "1393dc47-bc8d-456b-90ba-cb5478e729e0"
   },
   "outputs": [
    {
     "data": {
      "text/plain": [
       "'\\n\\t\\tPáginas para editores sem sessão iniciada '"
      ]
     },
     "execution_count": 16,
     "metadata": {},
     "output_type": "execute_result"
    }
   ],
   "source": [
    "soup.p.next"
   ]
  },
  {
   "cell_type": "markdown",
   "metadata": {
    "id": "uzXFTdtmOGDG"
   },
   "source": [
    "## Acessar a primeira tabela"
   ]
  },
  {
   "cell_type": "code",
   "execution_count": 17,
   "metadata": {
    "colab": {
     "base_uri": "https://localhost:8080/"
    },
    "executionInfo": {
     "elapsed": 845,
     "status": "ok",
     "timestamp": 1608162867337,
     "user": {
      "displayName": "Orlando O. S.",
      "photoUrl": "https://lh3.googleusercontent.com/a-/AOh14Gj-E1yuy1M_3ruwN4TWYPK4BwysauSW7GQmHheS=s64",
      "userId": "15066502291703974467"
     },
     "user_tz": 180
    },
    "id": "qDynxFLDWi7e",
    "outputId": "6a039e73-e837-4347-c031-62a667eac7c3"
   },
   "outputs": [
    {
     "data": {
      "text/plain": [
       "<table class=\"wikitable sortable\" style=\"text-align:center;\">\n",
       "<tbody><tr>\n",
       "<th>Posição\n",
       "</th>\n",
       "<th width=\"200px\">Unidade federativa\n",
       "</th>\n",
       "<th width=\"100px\">Área (km²)\n",
       "</th>\n",
       "<th width=\"60px\">% do<br/>Brasil\n",
       "</th>\n",
       "<th width=\"180px\">País comparável\n",
       "</th></tr>\n",
       "<tr>\n",
       "<td>1</td>\n",
       "<td style=\"text-align:left\"><img alt=\"\" class=\"thumbborder\" data-file-height=\"500\" data-file-width=\"700\" decoding=\"async\" height=\"14\" src=\"//upload.wikimedia.org/wikipedia/commons/thumb/6/6b/Bandeira_do_Amazonas.svg/20px-Bandeira_do_Amazonas.svg.png\" srcset=\"//upload.wikimedia.org/wikipedia/commons/thumb/6/6b/Bandeira_do_Amazonas.svg/30px-Bandeira_do_Amazonas.svg.png 1.5x, //upload.wikimedia.org/wikipedia/commons/thumb/6/6b/Bandeira_do_Amazonas.svg/40px-Bandeira_do_Amazonas.svg.png 2x\" width=\"20\"> <a href=\"/wiki/Amazonas\" title=\"Amazonas\">Amazonas</a></img></td>\n",
       "<td>1 559 167,889</td>\n",
       "<td>18,321</td>\n",
       "<td style=\"text-align:left\"><span class=\"flagicon\"><img alt=\"\" class=\"thumbborder\" data-file-height=\"600\" data-file-width=\"1200\" decoding=\"async\" height=\"12\" src=\"//upload.wikimedia.org/wikipedia/commons/thumb/4/4c/Flag_of_Mongolia.svg/23px-Flag_of_Mongolia.svg.png\" srcset=\"//upload.wikimedia.org/wikipedia/commons/thumb/4/4c/Flag_of_Mongolia.svg/35px-Flag_of_Mongolia.svg.png 1.5x, //upload.wikimedia.org/wikipedia/commons/thumb/4/4c/Flag_of_Mongolia.svg/46px-Flag_of_Mongolia.svg.png 2x\" width=\"23\"/> </span><a href=\"/wiki/Mong%C3%B3lia\" title=\"Mongólia\">Mongólia</a>\n",
       "</td></tr>\n",
       "<tr>\n",
       "<td>2</td>\n",
       "<td style=\"text-align:left\"><a href=\"/wiki/Par%C3%A1\" title=\"Pará\"><img alt=\"Pará\" class=\"thumbborder\" data-file-height=\"600\" data-file-width=\"900\" decoding=\"async\" height=\"13\" src=\"//upload.wikimedia.org/wikipedia/commons/thumb/0/02/Bandeira_do_Par%C3%A1.svg/20px-Bandeira_do_Par%C3%A1.svg.png\" srcset=\"//upload.wikimedia.org/wikipedia/commons/thumb/0/02/Bandeira_do_Par%C3%A1.svg/30px-Bandeira_do_Par%C3%A1.svg.png 1.5x, //upload.wikimedia.org/wikipedia/commons/thumb/0/02/Bandeira_do_Par%C3%A1.svg/40px-Bandeira_do_Par%C3%A1.svg.png 2x\" width=\"20\"/></a> <a href=\"/wiki/Par%C3%A1\" title=\"Pará\">Pará</a></td>\n",
       "<td>1 245 870,798</td>\n",
       "<td>14,64</td>\n",
       "<td style=\"text-align:left\"><span class=\"flagicon\"><img alt=\"\" class=\"thumbborder\" data-file-height=\"600\" data-file-width=\"900\" decoding=\"async\" height=\"15\" src=\"//upload.wikimedia.org/wikipedia/commons/thumb/9/9d/Flag_of_Angola.svg/23px-Flag_of_Angola.svg.png\" srcset=\"//upload.wikimedia.org/wikipedia/commons/thumb/9/9d/Flag_of_Angola.svg/35px-Flag_of_Angola.svg.png 1.5x, //upload.wikimedia.org/wikipedia/commons/thumb/9/9d/Flag_of_Angola.svg/45px-Flag_of_Angola.svg.png 2x\" width=\"23\"/> </span><a href=\"/wiki/Angola\" title=\"Angola\">Angola</a>\n",
       "</td></tr>\n",
       "<tr>\n",
       "<td>3</td>\n",
       "<td style=\"text-align:left\"><img alt=\"\" class=\"thumbborder\" data-file-height=\"1400\" data-file-width=\"2000\" decoding=\"async\" height=\"14\" src=\"//upload.wikimedia.org/wikipedia/commons/thumb/0/0b/Bandeira_de_Mato_Grosso.svg/20px-Bandeira_de_Mato_Grosso.svg.png\" srcset=\"//upload.wikimedia.org/wikipedia/commons/thumb/0/0b/Bandeira_de_Mato_Grosso.svg/30px-Bandeira_de_Mato_Grosso.svg.png 1.5x, //upload.wikimedia.org/wikipedia/commons/thumb/0/0b/Bandeira_de_Mato_Grosso.svg/40px-Bandeira_de_Mato_Grosso.svg.png 2x\" width=\"20\"/> <a href=\"/wiki/Mato_Grosso\" title=\"Mato Grosso\">Mato Grosso</a></td>\n",
       "<td>903 207,019</td>\n",
       "<td>10,613</td>\n",
       "<td style=\"text-align:left\"><span class=\"flagicon\"><img alt=\"\" class=\"thumbborder\" data-file-height=\"600\" data-file-width=\"900\" decoding=\"async\" height=\"15\" src=\"//upload.wikimedia.org/wikipedia/commons/thumb/0/06/Flag_of_Venezuela.svg/23px-Flag_of_Venezuela.svg.png\" srcset=\"//upload.wikimedia.org/wikipedia/commons/thumb/0/06/Flag_of_Venezuela.svg/35px-Flag_of_Venezuela.svg.png 1.5x, //upload.wikimedia.org/wikipedia/commons/thumb/0/06/Flag_of_Venezuela.svg/45px-Flag_of_Venezuela.svg.png 2x\" width=\"23\"/> </span><a href=\"/wiki/Venezuela\" title=\"Venezuela\">Venezuela</a>\n",
       "</td></tr>\n",
       "<tr>\n",
       "<td>4</td>\n",
       "<td style=\"text-align:left\"><img alt=\"\" class=\"thumbborder\" data-file-height=\"420\" data-file-width=\"600\" decoding=\"async\" height=\"14\" src=\"//upload.wikimedia.org/wikipedia/commons/thumb/f/f4/Bandeira_de_Minas_Gerais.svg/20px-Bandeira_de_Minas_Gerais.svg.png\" srcset=\"//upload.wikimedia.org/wikipedia/commons/thumb/f/f4/Bandeira_de_Minas_Gerais.svg/30px-Bandeira_de_Minas_Gerais.svg.png 1.5x, //upload.wikimedia.org/wikipedia/commons/thumb/f/f4/Bandeira_de_Minas_Gerais.svg/40px-Bandeira_de_Minas_Gerais.svg.png 2x\" width=\"20\"/> <a href=\"/wiki/Minas_Gerais\" title=\"Minas Gerais\">Minas Gerais</a></td>\n",
       "<td>586 521,123</td>\n",
       "<td>6,892</td>\n",
       "<td style=\"text-align:left\"><span class=\"flagicon\"><img alt=\"\" class=\"thumbborder\" data-file-height=\"600\" data-file-width=\"900\" decoding=\"async\" height=\"15\" src=\"//upload.wikimedia.org/wikipedia/commons/thumb/b/bc/Flag_of_Madagascar.svg/23px-Flag_of_Madagascar.svg.png\" srcset=\"//upload.wikimedia.org/wikipedia/commons/thumb/b/bc/Flag_of_Madagascar.svg/35px-Flag_of_Madagascar.svg.png 1.5x, //upload.wikimedia.org/wikipedia/commons/thumb/b/bc/Flag_of_Madagascar.svg/45px-Flag_of_Madagascar.svg.png 2x\" width=\"23\"/> </span><a class=\"mw-redirect\" href=\"/wiki/Madagascar\" title=\"Madagascar\">Madagascar</a>\n",
       "</td></tr>\n",
       "<tr>\n",
       "<td>5</td>\n",
       "<td style=\"text-align:left\"><a href=\"/wiki/Bahia\" title=\"Bahia\"><img alt=\"Bahia\" class=\"thumbborder\" data-file-height=\"1000\" data-file-width=\"1500\" decoding=\"async\" height=\"13\" src=\"//upload.wikimedia.org/wikipedia/commons/thumb/2/28/Bandeira_da_Bahia.svg/20px-Bandeira_da_Bahia.svg.png\" srcset=\"//upload.wikimedia.org/wikipedia/commons/thumb/2/28/Bandeira_da_Bahia.svg/30px-Bandeira_da_Bahia.svg.png 1.5x, //upload.wikimedia.org/wikipedia/commons/thumb/2/28/Bandeira_da_Bahia.svg/40px-Bandeira_da_Bahia.svg.png 2x\" width=\"20\"/></a> <a href=\"/wiki/Bahia\" title=\"Bahia\">Bahia</a></td>\n",
       "<td>564 760,427</td>\n",
       "<td>6,636</td>\n",
       "<td style=\"text-align:left\"><span class=\"flagicon\"><img alt=\"\" class=\"thumbborder\" data-file-height=\"600\" data-file-width=\"900\" decoding=\"async\" height=\"15\" src=\"//upload.wikimedia.org/wikipedia/commons/thumb/c/c3/Flag_of_France.svg/23px-Flag_of_France.svg.png\" srcset=\"//upload.wikimedia.org/wikipedia/commons/thumb/c/c3/Flag_of_France.svg/35px-Flag_of_France.svg.png 1.5x, //upload.wikimedia.org/wikipedia/commons/thumb/c/c3/Flag_of_France.svg/45px-Flag_of_France.svg.png 2x\" width=\"23\"/> </span><a href=\"/wiki/Fran%C3%A7a\" title=\"França\">França</a>\n",
       "</td></tr>\n",
       "<tr>\n",
       "<td>6</td>\n",
       "<td style=\"text-align:left\"><img alt=\"\" class=\"thumbborder\" data-file-height=\"700\" data-file-width=\"1000\" decoding=\"async\" height=\"14\" src=\"//upload.wikimedia.org/wikipedia/commons/thumb/6/64/Bandeira_de_Mato_Grosso_do_Sul.svg/20px-Bandeira_de_Mato_Grosso_do_Sul.svg.png\" srcset=\"//upload.wikimedia.org/wikipedia/commons/thumb/6/64/Bandeira_de_Mato_Grosso_do_Sul.svg/30px-Bandeira_de_Mato_Grosso_do_Sul.svg.png 1.5x, //upload.wikimedia.org/wikipedia/commons/thumb/6/64/Bandeira_de_Mato_Grosso_do_Sul.svg/40px-Bandeira_de_Mato_Grosso_do_Sul.svg.png 2x\" width=\"20\"/> <a href=\"/wiki/Mato_Grosso_do_Sul\" title=\"Mato Grosso do Sul\">Mato Grosso do Sul</a></td>\n",
       "<td>357 145,534</td>\n",
       "<td>4,197</td>\n",
       "<td style=\"text-align:left\"><span class=\"flagicon\"><img alt=\"\" class=\"thumbborder\" data-file-height=\"600\" data-file-width=\"1000\" decoding=\"async\" height=\"14\" src=\"//upload.wikimedia.org/wikipedia/commons/thumb/b/ba/Flag_of_Germany.svg/23px-Flag_of_Germany.svg.png\" srcset=\"//upload.wikimedia.org/wikipedia/commons/thumb/b/ba/Flag_of_Germany.svg/35px-Flag_of_Germany.svg.png 1.5x, //upload.wikimedia.org/wikipedia/commons/thumb/b/ba/Flag_of_Germany.svg/46px-Flag_of_Germany.svg.png 2x\" width=\"23\"/> </span><a href=\"/wiki/Alemanha\" title=\"Alemanha\">Alemanha</a>\n",
       "</td></tr>\n",
       "<tr>\n",
       "<td>7</td>\n",
       "<td style=\"text-align:left\"><img alt=\"\" class=\"thumbborder\" data-file-height=\"392\" data-file-width=\"560\" decoding=\"async\" height=\"14\" src=\"//upload.wikimedia.org/wikipedia/commons/thumb/b/be/Flag_of_Goi%C3%A1s.svg/20px-Flag_of_Goi%C3%A1s.svg.png\" srcset=\"//upload.wikimedia.org/wikipedia/commons/thumb/b/be/Flag_of_Goi%C3%A1s.svg/30px-Flag_of_Goi%C3%A1s.svg.png 1.5x, //upload.wikimedia.org/wikipedia/commons/thumb/b/be/Flag_of_Goi%C3%A1s.svg/40px-Flag_of_Goi%C3%A1s.svg.png 2x\" width=\"20\"/> <a href=\"/wiki/Goi%C3%A1s\" title=\"Goiás\">Goiás</a></td>\n",
       "<td>340 203,329</td>\n",
       "<td>3,998</td>\n",
       "<td style=\"text-align:left\"><span class=\"flagicon\"><img alt=\"\" class=\"thumbborder\" data-file-height=\"1100\" data-file-width=\"1800\" decoding=\"async\" height=\"14\" src=\"//upload.wikimedia.org/wikipedia/commons/thumb/b/bc/Flag_of_Finland.svg/23px-Flag_of_Finland.svg.png\" srcset=\"//upload.wikimedia.org/wikipedia/commons/thumb/b/bc/Flag_of_Finland.svg/35px-Flag_of_Finland.svg.png 1.5x, //upload.wikimedia.org/wikipedia/commons/thumb/b/bc/Flag_of_Finland.svg/46px-Flag_of_Finland.svg.png 2x\" width=\"23\"/> </span><a href=\"/wiki/Finl%C3%A2ndia\" title=\"Finlândia\">Finlândia</a>\n",
       "</td></tr>\n",
       "<tr>\n",
       "<td>8</td>\n",
       "<td style=\"text-align:left\"><img alt=\"\" class=\"thumbborder\" data-file-height=\"900\" data-file-width=\"1350\" decoding=\"async\" height=\"13\" src=\"//upload.wikimedia.org/wikipedia/commons/thumb/4/45/Bandeira_do_Maranh%C3%A3o.svg/20px-Bandeira_do_Maranh%C3%A3o.svg.png\" srcset=\"//upload.wikimedia.org/wikipedia/commons/thumb/4/45/Bandeira_do_Maranh%C3%A3o.svg/30px-Bandeira_do_Maranh%C3%A3o.svg.png 1.5x, //upload.wikimedia.org/wikipedia/commons/thumb/4/45/Bandeira_do_Maranh%C3%A3o.svg/40px-Bandeira_do_Maranh%C3%A3o.svg.png 2x\" width=\"20\"/> <a href=\"/wiki/Maranh%C3%A3o\" title=\"Maranhão\">Maranhão</a></td>\n",
       "<td>329 642,182</td>\n",
       "<td>3,873</td>\n",
       "<td style=\"text-align:left\"><span class=\"flagicon\"><img alt=\"\" class=\"thumbborder\" data-file-height=\"600\" data-file-width=\"900\" decoding=\"async\" height=\"15\" src=\"//upload.wikimedia.org/wikipedia/commons/thumb/2/21/Flag_of_Vietnam.svg/23px-Flag_of_Vietnam.svg.png\" srcset=\"//upload.wikimedia.org/wikipedia/commons/thumb/2/21/Flag_of_Vietnam.svg/35px-Flag_of_Vietnam.svg.png 1.5x, //upload.wikimedia.org/wikipedia/commons/thumb/2/21/Flag_of_Vietnam.svg/45px-Flag_of_Vietnam.svg.png 2x\" width=\"23\"/> </span><a class=\"mw-redirect\" href=\"/wiki/Vietname\" title=\"Vietname\">Vietnã</a>\n",
       "</td></tr>\n",
       "<tr>\n",
       "<td>9</td>\n",
       "<td style=\"text-align:left\"><img alt=\"\" class=\"thumbborder\" data-file-height=\"700\" data-file-width=\"1000\" decoding=\"async\" height=\"14\" src=\"//upload.wikimedia.org/wikipedia/commons/thumb/6/63/Bandeira_do_Rio_Grande_do_Sul.svg/20px-Bandeira_do_Rio_Grande_do_Sul.svg.png\" srcset=\"//upload.wikimedia.org/wikipedia/commons/thumb/6/63/Bandeira_do_Rio_Grande_do_Sul.svg/30px-Bandeira_do_Rio_Grande_do_Sul.svg.png 1.5x, //upload.wikimedia.org/wikipedia/commons/thumb/6/63/Bandeira_do_Rio_Grande_do_Sul.svg/40px-Bandeira_do_Rio_Grande_do_Sul.svg.png 2x\" width=\"20\"/> <a href=\"/wiki/Rio_Grande_do_Sul\" title=\"Rio Grande do Sul\">Rio Grande do Sul</a></td>\n",
       "<td>281 707,156</td>\n",
       "<td>3,31</td>\n",
       "<td style=\"text-align:left\"><span class=\"flagicon\"><img alt=\"\" class=\"thumbborder\" data-file-height=\"960\" data-file-width=\"1440\" decoding=\"async\" height=\"15\" src=\"//upload.wikimedia.org/wikipedia/commons/thumb/e/e8/Flag_of_Ecuador.svg/23px-Flag_of_Ecuador.svg.png\" srcset=\"//upload.wikimedia.org/wikipedia/commons/thumb/e/e8/Flag_of_Ecuador.svg/35px-Flag_of_Ecuador.svg.png 1.5x, //upload.wikimedia.org/wikipedia/commons/thumb/e/e8/Flag_of_Ecuador.svg/45px-Flag_of_Ecuador.svg.png 2x\" width=\"23\"/> </span><a href=\"/wiki/Equador\" title=\"Equador\">Equador</a>\n",
       "</td></tr>\n",
       "<tr>\n",
       "<td>10</td>\n",
       "<td style=\"text-align:left\"><img alt=\"\" class=\"thumbborder\" data-file-height=\"1400\" data-file-width=\"2000\" decoding=\"async\" height=\"14\" src=\"//upload.wikimedia.org/wikipedia/commons/thumb/f/ff/Bandeira_do_Tocantins.svg/20px-Bandeira_do_Tocantins.svg.png\" srcset=\"//upload.wikimedia.org/wikipedia/commons/thumb/f/ff/Bandeira_do_Tocantins.svg/30px-Bandeira_do_Tocantins.svg.png 1.5x, //upload.wikimedia.org/wikipedia/commons/thumb/f/ff/Bandeira_do_Tocantins.svg/40px-Bandeira_do_Tocantins.svg.png 2x\" width=\"20\"/> <a href=\"/wiki/Tocantins\" title=\"Tocantins\">Tocantins</a></td>\n",
       "<td>277 466,763</td>\n",
       "<td>3,26</td>\n",
       "<td style=\"text-align:left\"><span class=\"flagicon\"><img alt=\"\" class=\"thumbborder\" data-file-height=\"600\" data-file-width=\"900\" decoding=\"async\" height=\"15\" src=\"//upload.wikimedia.org/wikipedia/commons/thumb/3/31/Flag_of_Burkina_Faso.svg/23px-Flag_of_Burkina_Faso.svg.png\" srcset=\"//upload.wikimedia.org/wikipedia/commons/thumb/3/31/Flag_of_Burkina_Faso.svg/35px-Flag_of_Burkina_Faso.svg.png 1.5x, //upload.wikimedia.org/wikipedia/commons/thumb/3/31/Flag_of_Burkina_Faso.svg/45px-Flag_of_Burkina_Faso.svg.png 2x\" width=\"23\"/> </span><a href=\"/wiki/Burquina_Fasso\" title=\"Burquina Fasso\">Burkina Faso</a>\n",
       "</td></tr>\n",
       "<tr>\n",
       "<td>11</td>\n",
       "<td style=\"text-align:left\"><img alt=\"\" class=\"thumbborder\" data-file-height=\"1300\" data-file-width=\"1950\" decoding=\"async\" height=\"13\" src=\"//upload.wikimedia.org/wikipedia/commons/thumb/3/33/Bandeira_do_Piau%C3%AD.svg/20px-Bandeira_do_Piau%C3%AD.svg.png\" srcset=\"//upload.wikimedia.org/wikipedia/commons/thumb/3/33/Bandeira_do_Piau%C3%AD.svg/30px-Bandeira_do_Piau%C3%AD.svg.png 1.5x, //upload.wikimedia.org/wikipedia/commons/thumb/3/33/Bandeira_do_Piau%C3%AD.svg/40px-Bandeira_do_Piau%C3%AD.svg.png 2x\" width=\"20\"/> <a href=\"/wiki/Piau%C3%AD\" title=\"Piauí\">Piauí</a></td>\n",
       "<td>251 756,515</td>\n",
       "<td>2,958</td>\n",
       "<td style=\"text-align:left\"><span class=\"flagicon\"><img alt=\"\" class=\"thumbborder\" data-file-height=\"600\" data-file-width=\"900\" decoding=\"async\" height=\"15\" src=\"//upload.wikimedia.org/wikipedia/commons/thumb/e/ed/Flag_of_Guinea.svg/23px-Flag_of_Guinea.svg.png\" srcset=\"//upload.wikimedia.org/wikipedia/commons/thumb/e/ed/Flag_of_Guinea.svg/35px-Flag_of_Guinea.svg.png 1.5x, //upload.wikimedia.org/wikipedia/commons/thumb/e/ed/Flag_of_Guinea.svg/45px-Flag_of_Guinea.svg.png 2x\" width=\"23\"/> </span><a href=\"/wiki/Guin%C3%A9\" title=\"Guiné\">Guiné</a>\n",
       "</td></tr>\n",
       "<tr>\n",
       "<td>12</td>\n",
       "<td style=\"text-align:left\"><img alt=\"\" class=\"thumbborder\" data-file-height=\"520\" data-file-width=\"780\" decoding=\"async\" height=\"15\" src=\"//upload.wikimedia.org/wikipedia/commons/thumb/2/2b/Bandeira_do_estado_de_S%C3%A3o_Paulo.svg/22px-Bandeira_do_estado_de_S%C3%A3o_Paulo.svg.png\" srcset=\"//upload.wikimedia.org/wikipedia/commons/thumb/2/2b/Bandeira_do_estado_de_S%C3%A3o_Paulo.svg/33px-Bandeira_do_estado_de_S%C3%A3o_Paulo.svg.png 1.5x, //upload.wikimedia.org/wikipedia/commons/thumb/2/2b/Bandeira_do_estado_de_S%C3%A3o_Paulo.svg/44px-Bandeira_do_estado_de_S%C3%A3o_Paulo.svg.png 2x\" width=\"22\"/> <a href=\"/wiki/S%C3%A3o_Paulo_(estado)\" title=\"São Paulo (estado)\">São Paulo</a></td>\n",
       "<td>248 219,481</td>\n",
       "<td>2,917</td>\n",
       "<td style=\"text-align:left\"><span class=\"flagicon\"><img alt=\"\" class=\"thumbborder\" data-file-height=\"600\" data-file-width=\"1200\" decoding=\"async\" height=\"12\" src=\"//upload.wikimedia.org/wikipedia/commons/thumb/a/ae/Flag_of_the_United_Kingdom.svg/23px-Flag_of_the_United_Kingdom.svg.png\" srcset=\"//upload.wikimedia.org/wikipedia/commons/thumb/a/ae/Flag_of_the_United_Kingdom.svg/35px-Flag_of_the_United_Kingdom.svg.png 1.5x, //upload.wikimedia.org/wikipedia/commons/thumb/a/ae/Flag_of_the_United_Kingdom.svg/46px-Flag_of_the_United_Kingdom.svg.png 2x\" width=\"23\"/> </span><a href=\"/wiki/Reino_Unido\" title=\"Reino Unido\">Reino Unido</a>\n",
       "</td></tr>\n",
       "<tr>\n",
       "<td>13</td>\n",
       "<td style=\"text-align:left\"><img alt=\"\" class=\"thumbborder\" data-file-height=\"1400\" data-file-width=\"2000\" decoding=\"async\" height=\"14\" src=\"//upload.wikimedia.org/wikipedia/commons/thumb/f/fa/Bandeira_de_Rond%C3%B4nia.svg/20px-Bandeira_de_Rond%C3%B4nia.svg.png\" srcset=\"//upload.wikimedia.org/wikipedia/commons/thumb/f/fa/Bandeira_de_Rond%C3%B4nia.svg/30px-Bandeira_de_Rond%C3%B4nia.svg.png 1.5x, //upload.wikimedia.org/wikipedia/commons/thumb/f/fa/Bandeira_de_Rond%C3%B4nia.svg/40px-Bandeira_de_Rond%C3%B4nia.svg.png 2x\" width=\"20\"/> <a href=\"/wiki/Rond%C3%B4nia\" title=\"Rondônia\">Rondônia</a></td>\n",
       "<td>237 765,24</td>\n",
       "<td>2,794</td>\n",
       "<td style=\"text-align:left\"><span class=\"flagicon\"><img alt=\"\" class=\"thumbborder\" data-file-height=\"600\" data-file-width=\"900\" decoding=\"async\" height=\"15\" src=\"//upload.wikimedia.org/wikipedia/commons/thumb/5/56/Flag_of_Laos.svg/23px-Flag_of_Laos.svg.png\" srcset=\"//upload.wikimedia.org/wikipedia/commons/thumb/5/56/Flag_of_Laos.svg/35px-Flag_of_Laos.svg.png 1.5x, //upload.wikimedia.org/wikipedia/commons/thumb/5/56/Flag_of_Laos.svg/45px-Flag_of_Laos.svg.png 2x\" width=\"23\"/> </span><a href=\"/wiki/Laos\" title=\"Laos\">Laos</a>\n",
       "</td></tr>\n",
       "<tr>\n",
       "<td>14</td>\n",
       "<td style=\"text-align:left\"><img alt=\"\" class=\"thumbborder\" data-file-height=\"1400\" data-file-width=\"2000\" decoding=\"async\" height=\"14\" src=\"//upload.wikimedia.org/wikipedia/commons/thumb/9/98/Bandeira_de_Roraima.svg/20px-Bandeira_de_Roraima.svg.png\" srcset=\"//upload.wikimedia.org/wikipedia/commons/thumb/9/98/Bandeira_de_Roraima.svg/30px-Bandeira_de_Roraima.svg.png 1.5x, //upload.wikimedia.org/wikipedia/commons/thumb/9/98/Bandeira_de_Roraima.svg/40px-Bandeira_de_Roraima.svg.png 2x\" width=\"20\"/> <a href=\"/wiki/Roraima\" title=\"Roraima\">Roraima</a></td>\n",
       "<td>223 644,527</td>\n",
       "<td>2,628</td>\n",
       "<td style=\"text-align:left\"><span class=\"flagicon\"><img alt=\"\" class=\"thumbborder\" data-file-height=\"600\" data-file-width=\"1000\" decoding=\"async\" height=\"14\" src=\"//upload.wikimedia.org/wikipedia/commons/thumb/9/99/Flag_of_Guyana.svg/23px-Flag_of_Guyana.svg.png\" srcset=\"//upload.wikimedia.org/wikipedia/commons/thumb/9/99/Flag_of_Guyana.svg/35px-Flag_of_Guyana.svg.png 1.5x, //upload.wikimedia.org/wikipedia/commons/thumb/9/99/Flag_of_Guyana.svg/46px-Flag_of_Guyana.svg.png 2x\" width=\"23\"/> </span><a href=\"/wiki/Guiana\" title=\"Guiana\">Guiana</a>\n",
       "</td></tr>\n",
       "<tr>\n",
       "<td>15</td>\n",
       "<td style=\"text-align:left\"><img alt=\"\" class=\"thumbborder\" data-file-height=\"434\" data-file-width=\"621\" decoding=\"async\" height=\"14\" src=\"//upload.wikimedia.org/wikipedia/commons/thumb/9/93/Bandeira_do_Paran%C3%A1.svg/20px-Bandeira_do_Paran%C3%A1.svg.png\" srcset=\"//upload.wikimedia.org/wikipedia/commons/thumb/9/93/Bandeira_do_Paran%C3%A1.svg/30px-Bandeira_do_Paran%C3%A1.svg.png 1.5x, //upload.wikimedia.org/wikipedia/commons/thumb/9/93/Bandeira_do_Paran%C3%A1.svg/40px-Bandeira_do_Paran%C3%A1.svg.png 2x\" width=\"20\"/> <a href=\"/wiki/Paran%C3%A1\" title=\"Paraná\">Paraná</a></td>\n",
       "<td>199 298,979</td>\n",
       "<td>2,342</td>\n",
       "<td style=\"text-align:left\"><span class=\"flagicon\"><img alt=\"\" class=\"thumbborder\" data-file-height=\"600\" data-file-width=\"1000\" decoding=\"async\" height=\"14\" src=\"//upload.wikimedia.org/wikipedia/commons/thumb/c/c7/Flag_of_Kyrgyzstan.svg/23px-Flag_of_Kyrgyzstan.svg.png\" srcset=\"//upload.wikimedia.org/wikipedia/commons/thumb/c/c7/Flag_of_Kyrgyzstan.svg/35px-Flag_of_Kyrgyzstan.svg.png 1.5x, //upload.wikimedia.org/wikipedia/commons/thumb/c/c7/Flag_of_Kyrgyzstan.svg/46px-Flag_of_Kyrgyzstan.svg.png 2x\" width=\"23\"/> </span><a href=\"/wiki/Quirguist%C3%A3o\" title=\"Quirguistão\">Quirguistão</a>\n",
       "</td></tr>\n",
       "<tr>\n",
       "<td>16</td>\n",
       "<td style=\"text-align:left\"><img alt=\"\" class=\"thumbborder\" data-file-height=\"350\" data-file-width=\"500\" decoding=\"async\" height=\"14\" src=\"//upload.wikimedia.org/wikipedia/commons/thumb/4/4c/Bandeira_do_Acre.svg/20px-Bandeira_do_Acre.svg.png\" srcset=\"//upload.wikimedia.org/wikipedia/commons/thumb/4/4c/Bandeira_do_Acre.svg/30px-Bandeira_do_Acre.svg.png 1.5x, //upload.wikimedia.org/wikipedia/commons/thumb/4/4c/Bandeira_do_Acre.svg/40px-Bandeira_do_Acre.svg.png 2x\" width=\"20\"/> <a href=\"/wiki/Acre\" title=\"Acre\">Acre</a></td>\n",
       "<td>164 123,964</td>\n",
       "<td>1,929</td>\n",
       "<td style=\"text-align:left\"><span class=\"flagicon\"><img alt=\"\" class=\"thumbborder\" data-file-height=\"600\" data-file-width=\"900\" decoding=\"async\" height=\"15\" src=\"//upload.wikimedia.org/wikipedia/commons/thumb/6/60/Flag_of_Suriname.svg/23px-Flag_of_Suriname.svg.png\" srcset=\"//upload.wikimedia.org/wikipedia/commons/thumb/6/60/Flag_of_Suriname.svg/35px-Flag_of_Suriname.svg.png 1.5x, //upload.wikimedia.org/wikipedia/commons/thumb/6/60/Flag_of_Suriname.svg/45px-Flag_of_Suriname.svg.png 2x\" width=\"23\"/> </span><a href=\"/wiki/Suriname\" title=\"Suriname\">Suriname</a>\n",
       "</td></tr>\n",
       "<tr>\n",
       "<td>17</td>\n",
       "<td style=\"text-align:left\"><img alt=\"\" class=\"thumbborder\" data-file-height=\"504\" data-file-width=\"720\" decoding=\"async\" height=\"14\" src=\"//upload.wikimedia.org/wikipedia/commons/thumb/2/2e/Bandeira_do_Cear%C3%A1.svg/20px-Bandeira_do_Cear%C3%A1.svg.png\" srcset=\"//upload.wikimedia.org/wikipedia/commons/thumb/2/2e/Bandeira_do_Cear%C3%A1.svg/30px-Bandeira_do_Cear%C3%A1.svg.png 1.5x, //upload.wikimedia.org/wikipedia/commons/thumb/2/2e/Bandeira_do_Cear%C3%A1.svg/40px-Bandeira_do_Cear%C3%A1.svg.png 2x\" width=\"20\"/> <a href=\"/wiki/Cear%C3%A1\" title=\"Ceará\">Ceará</a></td>\n",
       "<td>148 894,441</td>\n",
       "<td>1,75</td>\n",
       "<td style=\"text-align:left\"><span class=\"flagicon\"><img alt=\"\" data-file-height=\"885\" data-file-width=\"726\" decoding=\"async\" height=\"15\" src=\"//upload.wikimedia.org/wikipedia/commons/thumb/9/9b/Flag_of_Nepal.svg/12px-Flag_of_Nepal.svg.png\" srcset=\"//upload.wikimedia.org/wikipedia/commons/thumb/9/9b/Flag_of_Nepal.svg/19px-Flag_of_Nepal.svg.png 1.5x, //upload.wikimedia.org/wikipedia/commons/thumb/9/9b/Flag_of_Nepal.svg/25px-Flag_of_Nepal.svg.png 2x\" width=\"12\"/>   </span><a href=\"/wiki/Nepal\" title=\"Nepal\">Nepal</a>\n",
       "</td></tr>\n",
       "<tr>\n",
       "<td>18</td>\n",
       "<td style=\"text-align:left\"><img alt=\"\" class=\"thumbborder\" data-file-height=\"700\" data-file-width=\"1000\" decoding=\"async\" height=\"14\" src=\"//upload.wikimedia.org/wikipedia/commons/thumb/0/0c/Bandeira_do_Amap%C3%A1.svg/20px-Bandeira_do_Amap%C3%A1.svg.png\" srcset=\"//upload.wikimedia.org/wikipedia/commons/thumb/0/0c/Bandeira_do_Amap%C3%A1.svg/30px-Bandeira_do_Amap%C3%A1.svg.png 1.5x, //upload.wikimedia.org/wikipedia/commons/thumb/0/0c/Bandeira_do_Amap%C3%A1.svg/40px-Bandeira_do_Amap%C3%A1.svg.png 2x\" width=\"20\"/> <a href=\"/wiki/Amap%C3%A1\" title=\"Amapá\">Amapá</a></td>\n",
       "<td>142 470,762</td>\n",
       "<td>1,674</td>\n",
       "<td style=\"text-align:left\"><span class=\"flagicon\"><img alt=\"\" class=\"thumbborder\" data-file-height=\"600\" data-file-width=\"1200\" decoding=\"async\" height=\"12\" src=\"//upload.wikimedia.org/wikipedia/commons/thumb/d/d0/Flag_of_Tajikistan.svg/23px-Flag_of_Tajikistan.svg.png\" srcset=\"//upload.wikimedia.org/wikipedia/commons/thumb/d/d0/Flag_of_Tajikistan.svg/35px-Flag_of_Tajikistan.svg.png 1.5x, //upload.wikimedia.org/wikipedia/commons/thumb/d/d0/Flag_of_Tajikistan.svg/46px-Flag_of_Tajikistan.svg.png 2x\" width=\"23\"/> </span><a href=\"/wiki/Tajiquist%C3%A3o\" title=\"Tajiquistão\">Tajiquistão</a>\n",
       "</td></tr>\n",
       "<tr>\n",
       "<td>19</td>\n",
       "<td style=\"text-align:left\"><img alt=\"\" class=\"thumbborder\" data-file-height=\"360\" data-file-width=\"540\" decoding=\"async\" height=\"13\" src=\"//upload.wikimedia.org/wikipedia/commons/thumb/5/59/Bandeira_de_Pernambuco.svg/20px-Bandeira_de_Pernambuco.svg.png\" srcset=\"//upload.wikimedia.org/wikipedia/commons/thumb/5/59/Bandeira_de_Pernambuco.svg/30px-Bandeira_de_Pernambuco.svg.png 1.5x, //upload.wikimedia.org/wikipedia/commons/thumb/5/59/Bandeira_de_Pernambuco.svg/40px-Bandeira_de_Pernambuco.svg.png 2x\" width=\"20\"/> <a href=\"/wiki/Pernambuco\" title=\"Pernambuco\">Pernambuco</a></td>\n",
       "<td>98 067,881</td>\n",
       "<td>1,152</td>\n",
       "<td style=\"text-align:left\"><span class=\"flagicon\"><img alt=\"\" class=\"thumbborder\" data-file-height=\"600\" data-file-width=\"900\" decoding=\"async\" height=\"15\" src=\"//upload.wikimedia.org/wikipedia/commons/thumb/0/09/Flag_of_South_Korea.svg/23px-Flag_of_South_Korea.svg.png\" srcset=\"//upload.wikimedia.org/wikipedia/commons/thumb/0/09/Flag_of_South_Korea.svg/35px-Flag_of_South_Korea.svg.png 1.5x, //upload.wikimedia.org/wikipedia/commons/thumb/0/09/Flag_of_South_Korea.svg/45px-Flag_of_South_Korea.svg.png 2x\" width=\"23\"/> </span><a href=\"/wiki/Coreia_do_Sul\" title=\"Coreia do Sul\">Coreia do Sul</a>\n",
       "</td></tr>\n",
       "<tr>\n",
       "<td>20</td>\n",
       "<td style=\"text-align:left\"><img alt=\"\" class=\"thumbborder\" data-file-height=\"608\" data-file-width=\"836\" decoding=\"async\" height=\"15\" src=\"//upload.wikimedia.org/wikipedia/commons/thumb/1/1a/Bandeira_de_Santa_Catarina.svg/20px-Bandeira_de_Santa_Catarina.svg.png\" srcset=\"//upload.wikimedia.org/wikipedia/commons/thumb/1/1a/Bandeira_de_Santa_Catarina.svg/30px-Bandeira_de_Santa_Catarina.svg.png 1.5x, //upload.wikimedia.org/wikipedia/commons/thumb/1/1a/Bandeira_de_Santa_Catarina.svg/40px-Bandeira_de_Santa_Catarina.svg.png 2x\" width=\"20\"/> <a href=\"/wiki/Santa_Catarina\" title=\"Santa Catarina\">Santa Catarina</a></td>\n",
       "<td>95 730,684</td>\n",
       "<td>1,125</td>\n",
       "<td style=\"text-align:left\"><span class=\"flagicon\"><img alt=\"\" class=\"thumbborder\" data-file-height=\"400\" data-file-width=\"600\" decoding=\"async\" height=\"15\" src=\"//upload.wikimedia.org/wikipedia/commons/thumb/5/5c/Flag_of_Portugal.svg/23px-Flag_of_Portugal.svg.png\" srcset=\"//upload.wikimedia.org/wikipedia/commons/thumb/5/5c/Flag_of_Portugal.svg/35px-Flag_of_Portugal.svg.png 1.5x, //upload.wikimedia.org/wikipedia/commons/thumb/5/5c/Flag_of_Portugal.svg/45px-Flag_of_Portugal.svg.png 2x\" width=\"23\"/> </span><a href=\"/wiki/Portugal\" title=\"Portugal\">Portugal</a>\n",
       "</td></tr>\n",
       "<tr>\n",
       "<td>21</td>\n",
       "<td style=\"text-align:left\"><img alt=\"\" class=\"thumbborder\" data-file-height=\"1400\" data-file-width=\"2000\" decoding=\"async\" height=\"14\" src=\"//upload.wikimedia.org/wikipedia/commons/thumb/b/bb/Bandeira_da_Para%C3%ADba.svg/20px-Bandeira_da_Para%C3%ADba.svg.png\" srcset=\"//upload.wikimedia.org/wikipedia/commons/thumb/b/bb/Bandeira_da_Para%C3%ADba.svg/30px-Bandeira_da_Para%C3%ADba.svg.png 1.5x, //upload.wikimedia.org/wikipedia/commons/thumb/b/bb/Bandeira_da_Para%C3%ADba.svg/40px-Bandeira_da_Para%C3%ADba.svg.png 2x\" width=\"20\"/> <a href=\"/wiki/Para%C3%ADba\" title=\"Paraíba\">Paraíba</a></td>\n",
       "<td>56 467,242</td>\n",
       "<td>0,664</td>\n",
       "<td style=\"text-align:left\"><span class=\"flagicon\"><img alt=\"\" class=\"thumbborder\" data-file-height=\"600\" data-file-width=\"1200\" decoding=\"async\" height=\"12\" src=\"//upload.wikimedia.org/wikipedia/commons/thumb/1/1b/Flag_of_Croatia.svg/23px-Flag_of_Croatia.svg.png\" srcset=\"//upload.wikimedia.org/wikipedia/commons/thumb/1/1b/Flag_of_Croatia.svg/35px-Flag_of_Croatia.svg.png 1.5x, //upload.wikimedia.org/wikipedia/commons/thumb/1/1b/Flag_of_Croatia.svg/46px-Flag_of_Croatia.svg.png 2x\" width=\"23\"/> </span><a href=\"/wiki/Cro%C3%A1cia\" title=\"Croácia\">Croácia</a>\n",
       "</td></tr>\n",
       "<tr>\n",
       "<td>22</td>\n",
       "<td style=\"text-align:left\"><img alt=\"\" class=\"thumbborder\" data-file-height=\"600\" data-file-width=\"900\" decoding=\"async\" height=\"13\" src=\"//upload.wikimedia.org/wikipedia/commons/thumb/3/30/Bandeira_do_Rio_Grande_do_Norte.svg/20px-Bandeira_do_Rio_Grande_do_Norte.svg.png\" srcset=\"//upload.wikimedia.org/wikipedia/commons/thumb/3/30/Bandeira_do_Rio_Grande_do_Norte.svg/30px-Bandeira_do_Rio_Grande_do_Norte.svg.png 1.5x, //upload.wikimedia.org/wikipedia/commons/thumb/3/30/Bandeira_do_Rio_Grande_do_Norte.svg/40px-Bandeira_do_Rio_Grande_do_Norte.svg.png 2x\" width=\"20\"/> <a href=\"/wiki/Rio_Grande_do_Norte\" title=\"Rio Grande do Norte\">Rio Grande do Norte</a></td>\n",
       "<td>52 809,602</td>\n",
       "<td>0,621</td>\n",
       "<td style=\"text-align:left\"><span class=\"flagicon\"><img alt=\"\" class=\"thumbborder\" data-file-height=\"400\" data-file-width=\"800\" decoding=\"async\" height=\"12\" src=\"//upload.wikimedia.org/wikipedia/commons/thumb/b/bf/Flag_of_Bosnia_and_Herzegovina.svg/23px-Flag_of_Bosnia_and_Herzegovina.svg.png\" srcset=\"//upload.wikimedia.org/wikipedia/commons/thumb/b/bf/Flag_of_Bosnia_and_Herzegovina.svg/35px-Flag_of_Bosnia_and_Herzegovina.svg.png 1.5x, //upload.wikimedia.org/wikipedia/commons/thumb/b/bf/Flag_of_Bosnia_and_Herzegovina.svg/46px-Flag_of_Bosnia_and_Herzegovina.svg.png 2x\" width=\"23\"/> </span><a href=\"/wiki/B%C3%B3snia_e_Herzegovina\" title=\"Bósnia e Herzegovina\">Bósnia e Herzegovina</a>\n",
       "</td></tr>\n",
       "<tr>\n",
       "<td>23</td>\n",
       "<td style=\"text-align:left\"><img alt=\"\" class=\"thumbborder\" data-file-height=\"1400\" data-file-width=\"2000\" decoding=\"async\" height=\"14\" src=\"//upload.wikimedia.org/wikipedia/commons/thumb/4/43/Bandeira_do_Esp%C3%ADrito_Santo.svg/20px-Bandeira_do_Esp%C3%ADrito_Santo.svg.png\" srcset=\"//upload.wikimedia.org/wikipedia/commons/thumb/4/43/Bandeira_do_Esp%C3%ADrito_Santo.svg/30px-Bandeira_do_Esp%C3%ADrito_Santo.svg.png 1.5x, //upload.wikimedia.org/wikipedia/commons/thumb/4/43/Bandeira_do_Esp%C3%ADrito_Santo.svg/40px-Bandeira_do_Esp%C3%ADrito_Santo.svg.png 2x\" width=\"20\"/> <a href=\"/wiki/Esp%C3%ADrito_Santo_(estado)\" title=\"Espírito Santo (estado)\">Espírito Santo</a></td>\n",
       "<td>46 074,447</td>\n",
       "<td>0,541</td>\n",
       "<td style=\"text-align:left\"><span class=\"flagicon\"><img alt=\"\" class=\"thumbborder\" data-file-height=\"630\" data-file-width=\"990\" decoding=\"async\" height=\"15\" src=\"//upload.wikimedia.org/wikipedia/commons/thumb/8/8f/Flag_of_Estonia.svg/23px-Flag_of_Estonia.svg.png\" srcset=\"//upload.wikimedia.org/wikipedia/commons/thumb/8/8f/Flag_of_Estonia.svg/35px-Flag_of_Estonia.svg.png 1.5x, //upload.wikimedia.org/wikipedia/commons/thumb/8/8f/Flag_of_Estonia.svg/46px-Flag_of_Estonia.svg.png 2x\" width=\"23\"/> </span><a href=\"/wiki/Est%C3%B3nia\" title=\"Estónia\">Estônia</a>\n",
       "</td></tr>\n",
       "<tr>\n",
       "<td>24</td>\n",
       "<td style=\"text-align:left\"><img alt=\"\" class=\"thumbborder\" data-file-height=\"700\" data-file-width=\"1000\" decoding=\"async\" height=\"14\" src=\"//upload.wikimedia.org/wikipedia/commons/thumb/7/73/Bandeira_do_estado_do_Rio_de_Janeiro.svg/20px-Bandeira_do_estado_do_Rio_de_Janeiro.svg.png\" srcset=\"//upload.wikimedia.org/wikipedia/commons/thumb/7/73/Bandeira_do_estado_do_Rio_de_Janeiro.svg/30px-Bandeira_do_estado_do_Rio_de_Janeiro.svg.png 1.5x, //upload.wikimedia.org/wikipedia/commons/thumb/7/73/Bandeira_do_estado_do_Rio_de_Janeiro.svg/40px-Bandeira_do_estado_do_Rio_de_Janeiro.svg.png 2x\" width=\"20\"/> <a href=\"/wiki/Rio_de_Janeiro_(estado)\" title=\"Rio de Janeiro (estado)\">Rio de Janeiro</a></td>\n",
       "<td>43 750,427</td>\n",
       "<td>0,514</td>\n",
       "<td style=\"text-align:left\"><span class=\"flagicon\"><img alt=\"\" class=\"thumbborder\" data-file-height=\"387\" data-file-width=\"512\" decoding=\"async\" height=\"15\" src=\"//upload.wikimedia.org/wikipedia/commons/thumb/9/9c/Flag_of_Denmark.svg/20px-Flag_of_Denmark.svg.png\" srcset=\"//upload.wikimedia.org/wikipedia/commons/thumb/9/9c/Flag_of_Denmark.svg/31px-Flag_of_Denmark.svg.png 1.5x, //upload.wikimedia.org/wikipedia/commons/thumb/9/9c/Flag_of_Denmark.svg/40px-Flag_of_Denmark.svg.png 2x\" width=\"20\"/> </span><a href=\"/wiki/Dinamarca\" title=\"Dinamarca\">Dinamarca</a>\n",
       "</td></tr>\n",
       "<tr>\n",
       "<td>25</td>\n",
       "<td style=\"text-align:left\"><img alt=\"\" class=\"thumbborder\" data-file-height=\"400\" data-file-width=\"600\" decoding=\"async\" height=\"13\" src=\"//upload.wikimedia.org/wikipedia/commons/thumb/8/88/Bandeira_de_Alagoas.svg/20px-Bandeira_de_Alagoas.svg.png\" srcset=\"//upload.wikimedia.org/wikipedia/commons/thumb/8/88/Bandeira_de_Alagoas.svg/30px-Bandeira_de_Alagoas.svg.png 1.5x, //upload.wikimedia.org/wikipedia/commons/thumb/8/88/Bandeira_de_Alagoas.svg/40px-Bandeira_de_Alagoas.svg.png 2x\" width=\"20\"/> <a href=\"/wiki/Alagoas\" title=\"Alagoas\">Alagoas</a></td>\n",
       "<td>27 843,295</td>\n",
       "<td>0,327</td>\n",
       "<td style=\"text-align:left\"><span class=\"flagicon\"><img alt=\"\" class=\"thumbborder\" data-file-height=\"600\" data-file-width=\"1000\" decoding=\"async\" height=\"14\" src=\"//upload.wikimedia.org/wikipedia/commons/thumb/5/56/Flag_of_Haiti.svg/23px-Flag_of_Haiti.svg.png\" srcset=\"//upload.wikimedia.org/wikipedia/commons/thumb/5/56/Flag_of_Haiti.svg/35px-Flag_of_Haiti.svg.png 1.5x, //upload.wikimedia.org/wikipedia/commons/thumb/5/56/Flag_of_Haiti.svg/46px-Flag_of_Haiti.svg.png 2x\" width=\"23\"/> </span><a href=\"/wiki/Haiti\" title=\"Haiti\">Haiti</a>\n",
       "</td></tr>\n",
       "<tr>\n",
       "<td>26</td>\n",
       "<td style=\"text-align:left\"><img alt=\"\" class=\"thumbborder\" data-file-height=\"750\" data-file-width=\"1050\" decoding=\"async\" height=\"14\" src=\"//upload.wikimedia.org/wikipedia/commons/thumb/b/be/Bandeira_de_Sergipe.svg/20px-Bandeira_de_Sergipe.svg.png\" srcset=\"//upload.wikimedia.org/wikipedia/commons/thumb/b/be/Bandeira_de_Sergipe.svg/30px-Bandeira_de_Sergipe.svg.png 1.5x, //upload.wikimedia.org/wikipedia/commons/thumb/b/be/Bandeira_de_Sergipe.svg/40px-Bandeira_de_Sergipe.svg.png 2x\" width=\"20\"/> <a href=\"/wiki/Sergipe\" title=\"Sergipe\">Sergipe</a></td>\n",
       "<td>21 925,424</td>\n",
       "<td>0,258</td>\n",
       "<td style=\"text-align:left\"><span class=\"flagicon\"><img alt=\"\" class=\"thumbborder\" data-file-height=\"567\" data-file-width=\"1005\" decoding=\"async\" height=\"13\" src=\"//upload.wikimedia.org/wikipedia/commons/thumb/3/34/Flag_of_El_Salvador.svg/23px-Flag_of_El_Salvador.svg.png\" srcset=\"//upload.wikimedia.org/wikipedia/commons/thumb/3/34/Flag_of_El_Salvador.svg/35px-Flag_of_El_Salvador.svg.png 1.5x, //upload.wikimedia.org/wikipedia/commons/thumb/3/34/Flag_of_El_Salvador.svg/46px-Flag_of_El_Salvador.svg.png 2x\" width=\"23\"/> </span><a href=\"/wiki/El_Salvador\" title=\"El Salvador\">El Salvador</a>\n",
       "</td></tr>\n",
       "<tr>\n",
       "<td>27</td>\n",
       "<td style=\"text-align:left\"><img alt=\"\" class=\"thumbborder\" data-file-height=\"1050\" data-file-width=\"1500\" decoding=\"async\" height=\"14\" src=\"//upload.wikimedia.org/wikipedia/commons/thumb/3/3c/Bandeira_do_Distrito_Federal_%28Brasil%29.svg/20px-Bandeira_do_Distrito_Federal_%28Brasil%29.svg.png\" srcset=\"//upload.wikimedia.org/wikipedia/commons/thumb/3/3c/Bandeira_do_Distrito_Federal_%28Brasil%29.svg/30px-Bandeira_do_Distrito_Federal_%28Brasil%29.svg.png 1.5x, //upload.wikimedia.org/wikipedia/commons/thumb/3/3c/Bandeira_do_Distrito_Federal_%28Brasil%29.svg/40px-Bandeira_do_Distrito_Federal_%28Brasil%29.svg.png 2x\" width=\"20\"/> <a href=\"/wiki/Distrito_Federal_(Brasil)\" title=\"Distrito Federal (Brasil)\">Distrito Federal</a></td>\n",
       "<td>5 760,783</td>\n",
       "<td>0,068</td>\n",
       "<td style=\"text-align:left\"><span class=\"flagicon\"><img alt=\"\" class=\"thumbborder\" data-file-height=\"720\" data-file-width=\"1440\" decoding=\"async\" height=\"12\" src=\"//upload.wikimedia.org/wikipedia/commons/thumb/9/9c/Flag_of_Brunei.svg/23px-Flag_of_Brunei.svg.png\" srcset=\"//upload.wikimedia.org/wikipedia/commons/thumb/9/9c/Flag_of_Brunei.svg/35px-Flag_of_Brunei.svg.png 1.5x, //upload.wikimedia.org/wikipedia/commons/thumb/9/9c/Flag_of_Brunei.svg/46px-Flag_of_Brunei.svg.png 2x\" width=\"23\"/> </span><a href=\"/wiki/Brunei\" title=\"Brunei\">Brunei</a>\n",
       "</td></tr></tbody></table>"
      ]
     },
     "execution_count": 17,
     "metadata": {},
     "output_type": "execute_result"
    }
   ],
   "source": [
    "soup.table"
   ]
  },
  {
   "cell_type": "markdown",
   "metadata": {
    "id": "Aax35gZlOOf3"
   },
   "source": [
    "## Acessar os atributos do objeto : Classe css"
   ]
  },
  {
   "cell_type": "code",
   "execution_count": 18,
   "metadata": {
    "colab": {
     "base_uri": "https://localhost:8080/"
    },
    "executionInfo": {
     "elapsed": 731,
     "status": "ok",
     "timestamp": 1608162907458,
     "user": {
      "displayName": "Orlando O. S.",
      "photoUrl": "https://lh3.googleusercontent.com/a-/AOh14Gj-E1yuy1M_3ruwN4TWYPK4BwysauSW7GQmHheS=s64",
      "userId": "15066502291703974467"
     },
     "user_tz": 180
    },
    "id": "A_JoQMFlV8-D",
    "outputId": "3e882e0e-efe7-4e32-ef6f-9ac175529ea1"
   },
   "outputs": [
    {
     "data": {
      "text/plain": [
       "['wikitable', 'sortable']"
      ]
     },
     "execution_count": 18,
     "metadata": {},
     "output_type": "execute_result"
    }
   ],
   "source": [
    "soup.table['class']"
   ]
  },
  {
   "cell_type": "markdown",
   "metadata": {
    "id": "FcSxCZwrOdCS"
   },
   "source": [
    "## Acessar os atributos do objeto : style"
   ]
  },
  {
   "cell_type": "code",
   "execution_count": 19,
   "metadata": {
    "colab": {
     "base_uri": "https://localhost:8080/",
     "height": 35
    },
    "executionInfo": {
     "elapsed": 749,
     "status": "ok",
     "timestamp": 1608162918025,
     "user": {
      "displayName": "Orlando O. S.",
      "photoUrl": "https://lh3.googleusercontent.com/a-/AOh14Gj-E1yuy1M_3ruwN4TWYPK4BwysauSW7GQmHheS=s64",
      "userId": "15066502291703974467"
     },
     "user_tz": 180
    },
    "id": "5TxPcw7QWy1_",
    "outputId": "a919e35f-150c-44f0-df13-550855716825"
   },
   "outputs": [
    {
     "data": {
      "text/plain": [
       "'text-align:center;'"
      ]
     },
     "execution_count": 19,
     "metadata": {},
     "output_type": "execute_result"
    }
   ],
   "source": [
    "soup.table['style']"
   ]
  },
  {
   "cell_type": "markdown",
   "metadata": {
    "id": "kNGfG1sPOhgI"
   },
   "source": [
    "## Acessar o primeiro objeto do tipo h2"
   ]
  },
  {
   "cell_type": "code",
   "execution_count": 20,
   "metadata": {
    "colab": {
     "base_uri": "https://localhost:8080/"
    },
    "executionInfo": {
     "elapsed": 675,
     "status": "ok",
     "timestamp": 1608162991171,
     "user": {
      "displayName": "Orlando O. S.",
      "photoUrl": "https://lh3.googleusercontent.com/a-/AOh14Gj-E1yuy1M_3ruwN4TWYPK4BwysauSW7GQmHheS=s64",
      "userId": "15066502291703974467"
     },
     "user_tz": 180
    },
    "id": "-nHSq08EW6L8",
    "outputId": "36c60c79-4928-4730-8626-3eb0aab208d7"
   },
   "outputs": [
    {
     "data": {
      "text/plain": [
       "<h1 class=\"firstHeading mw-first-heading\" id=\"firstHeading\"><span class=\"mw-page-title-main\">Lista de unidades federativas do Brasil por área</span></h1>"
      ]
     },
     "execution_count": 20,
     "metadata": {},
     "output_type": "execute_result"
    }
   ],
   "source": [
    "soup.h1"
   ]
  },
  {
   "cell_type": "markdown",
   "metadata": {
    "id": "z3MBJf7AOpln"
   },
   "source": [
    "## Acessar o texto do objeto"
   ]
  },
  {
   "cell_type": "code",
   "execution_count": 21,
   "metadata": {
    "colab": {
     "base_uri": "https://localhost:8080/",
     "height": 35
    },
    "executionInfo": {
     "elapsed": 714,
     "status": "ok",
     "timestamp": 1608163026604,
     "user": {
      "displayName": "Orlando O. S.",
      "photoUrl": "https://lh3.googleusercontent.com/a-/AOh14Gj-E1yuy1M_3ruwN4TWYPK4BwysauSW7GQmHheS=s64",
      "userId": "15066502291703974467"
     },
     "user_tz": 180
    },
    "id": "1_Vi9pYUW6Ie",
    "outputId": "e20f3bb8-1cc9-47c4-ebb4-2a0d8cc433fc"
   },
   "outputs": [
    {
     "data": {
      "text/plain": [
       "'Classificação[editar | editar código-fonte]'"
      ]
     },
     "execution_count": 21,
     "metadata": {},
     "output_type": "execute_result"
    }
   ],
   "source": [
    "soup.h2.text"
   ]
  },
  {
   "cell_type": "markdown",
   "metadata": {
    "id": "iz6mM1OTOuPc"
   },
   "source": [
    "## Acessar o primeiro objeto do tipo lista"
   ]
  },
  {
   "cell_type": "code",
   "execution_count": 22,
   "metadata": {
    "colab": {
     "base_uri": "https://localhost:8080/"
    },
    "executionInfo": {
     "elapsed": 742,
     "status": "ok",
     "timestamp": 1608163038040,
     "user": {
      "displayName": "Orlando O. S.",
      "photoUrl": "https://lh3.googleusercontent.com/a-/AOh14Gj-E1yuy1M_3ruwN4TWYPK4BwysauSW7GQmHheS=s64",
      "userId": "15066502291703974467"
     },
     "user_tz": 180
    },
    "id": "MbUJznB9W6FP",
    "outputId": "506e0cf9-74d3-4b7d-e63b-90d405c5527d"
   },
   "outputs": [
    {
     "data": {
      "text/plain": [
       "<ul class=\"vector-menu-content-list\"><li class=\"user-links-collapsible-item mw-list-item\" id=\"pt-createaccount-2\"><a href=\"/w/index.php?title=Especial:Criar_conta&amp;returnto=Lista+de+unidades+federativas+do+Brasil+por+%C3%A1rea\" title=\"É encorajado a criar uma conta e iniciar sessão; no entanto, não é obrigatório\"><span>Criar uma conta</span></a></li></ul>"
      ]
     },
     "execution_count": 22,
     "metadata": {},
     "output_type": "execute_result"
    }
   ],
   "source": [
    "soup.ul"
   ]
  },
  {
   "cell_type": "markdown",
   "metadata": {
    "id": "hZxWgHUpO342"
   },
   "source": [
    "## Acessar o primeiro item dentro da primeira lista"
   ]
  },
  {
   "cell_type": "code",
   "execution_count": 23,
   "metadata": {
    "colab": {
     "base_uri": "https://localhost:8080/"
    },
    "executionInfo": {
     "elapsed": 718,
     "status": "ok",
     "timestamp": 1608163075398,
     "user": {
      "displayName": "Orlando O. S.",
      "photoUrl": "https://lh3.googleusercontent.com/a-/AOh14Gj-E1yuy1M_3ruwN4TWYPK4BwysauSW7GQmHheS=s64",
      "userId": "15066502291703974467"
     },
     "user_tz": 180
    },
    "id": "JORHsALIW6Bo",
    "outputId": "25a724c3-6de2-46c4-aac2-938965e9c6e3"
   },
   "outputs": [
    {
     "data": {
      "text/plain": [
       "<li class=\"user-links-collapsible-item mw-list-item\" id=\"pt-createaccount-2\"><a href=\"/w/index.php?title=Especial:Criar_conta&amp;returnto=Lista+de+unidades+federativas+do+Brasil+por+%C3%A1rea\" title=\"É encorajado a criar uma conta e iniciar sessão; no entanto, não é obrigatório\"><span>Criar uma conta</span></a></li>"
      ]
     },
     "execution_count": 23,
     "metadata": {},
     "output_type": "execute_result"
    }
   ],
   "source": [
    "soup.ul.li"
   ]
  },
  {
   "cell_type": "markdown",
   "metadata": {
    "id": "YD_PlWlPO-ew"
   },
   "source": [
    "## Acessar a lista de objeto de determinado tipo"
   ]
  },
  {
   "cell_type": "code",
   "execution_count": 24,
   "metadata": {
    "colab": {
     "base_uri": "https://localhost:8080/"
    },
    "executionInfo": {
     "elapsed": 759,
     "status": "ok",
     "timestamp": 1608163103651,
     "user": {
      "displayName": "Orlando O. S.",
      "photoUrl": "https://lh3.googleusercontent.com/a-/AOh14Gj-E1yuy1M_3ruwN4TWYPK4BwysauSW7GQmHheS=s64",
      "userId": "15066502291703974467"
     },
     "user_tz": 180
    },
    "id": "qNQbgIkMW58Y",
    "outputId": "8b54f6b5-e337-4f8a-e24d-f91bcc98c0ac"
   },
   "outputs": [
    {
     "data": {
      "text/plain": [
       "[<h1 class=\"firstHeading mw-first-heading\" id=\"firstHeading\"><span class=\"mw-page-title-main\">Lista de unidades federativas do Brasil por área</span></h1>]"
      ]
     },
     "execution_count": 24,
     "metadata": {},
     "output_type": "execute_result"
    }
   ],
   "source": [
    "soup.find_all('h1')"
   ]
  },
  {
   "cell_type": "code",
   "execution_count": 25,
   "metadata": {
    "colab": {
     "base_uri": "https://localhost:8080/"
    },
    "executionInfo": {
     "elapsed": 723,
     "status": "ok",
     "timestamp": 1608163110154,
     "user": {
      "displayName": "Orlando O. S.",
      "photoUrl": "https://lh3.googleusercontent.com/a-/AOh14Gj-E1yuy1M_3ruwN4TWYPK4BwysauSW7GQmHheS=s64",
      "userId": "15066502291703974467"
     },
     "user_tz": 180
    },
    "id": "h832I7TNXu2P",
    "outputId": "627e0331-edb3-40a9-d341-446532228661"
   },
   "outputs": [
    {
     "data": {
      "text/plain": [
       "[<h2><span id=\"Classifica.C3.A7.C3.A3o\"></span><span class=\"mw-headline\" id=\"Classificação\">Classificação</span><span class=\"mw-editsection\"><span class=\"mw-editsection-bracket\">[</span><a class=\"mw-editsection-visualeditor\" href=\"/w/index.php?title=Lista_de_unidades_federativas_do_Brasil_por_%C3%A1rea&amp;veaction=edit&amp;section=1\" title=\"Editar secção: Classificação\">editar</a><span class=\"mw-editsection-divider\"> | </span><a href=\"/w/index.php?title=Lista_de_unidades_federativas_do_Brasil_por_%C3%A1rea&amp;action=edit&amp;section=1\" title=\"Editar secção: Classificação\">editar código-fonte</a><span class=\"mw-editsection-bracket\">]</span></span></h2>,\n",
       " <h2><span id=\"Por_regi.C3.A3o\"></span><span class=\"mw-headline\" id=\"Por_região\">Por região</span><span class=\"mw-editsection\"><span class=\"mw-editsection-bracket\">[</span><a class=\"mw-editsection-visualeditor\" href=\"/w/index.php?title=Lista_de_unidades_federativas_do_Brasil_por_%C3%A1rea&amp;veaction=edit&amp;section=2\" title=\"Editar secção: Por região\">editar</a><span class=\"mw-editsection-divider\"> | </span><a href=\"/w/index.php?title=Lista_de_unidades_federativas_do_Brasil_por_%C3%A1rea&amp;action=edit&amp;section=2\" title=\"Editar secção: Por região\">editar código-fonte</a><span class=\"mw-editsection-bracket\">]</span></span></h2>,\n",
       " <h2><span id=\"Ver_tamb.C3.A9m\"></span><span class=\"mw-headline\" id=\"Ver_também\">Ver também</span><span class=\"mw-editsection\"><span class=\"mw-editsection-bracket\">[</span><a class=\"mw-editsection-visualeditor\" href=\"/w/index.php?title=Lista_de_unidades_federativas_do_Brasil_por_%C3%A1rea&amp;veaction=edit&amp;section=3\" title=\"Editar secção: Ver também\">editar</a><span class=\"mw-editsection-divider\"> | </span><a href=\"/w/index.php?title=Lista_de_unidades_federativas_do_Brasil_por_%C3%A1rea&amp;action=edit&amp;section=3\" title=\"Editar secção: Ver também\">editar código-fonte</a><span class=\"mw-editsection-bracket\">]</span></span></h2>,\n",
       " <h2 style=\"cursor: help;\" title=\"Esta seção foi configurada para não ser editável diretamente. Edite a página toda ou a seção anterior em vez disso.\"><span id=\"Refer.C3.AAncias\"></span><span class=\"mw-headline\" id=\"Referências\">Referências</span></h2>,\n",
       " <h2><span id=\"Liga.C3.A7.C3.B5es_externas\"></span><span class=\"mw-headline\" id=\"Ligações_externas\">Ligações externas</span><span class=\"mw-editsection\"><span class=\"mw-editsection-bracket\">[</span><a class=\"mw-editsection-visualeditor\" href=\"/w/index.php?title=Lista_de_unidades_federativas_do_Brasil_por_%C3%A1rea&amp;veaction=edit&amp;section=4\" title=\"Editar secção: Ligações externas\">editar</a><span class=\"mw-editsection-divider\"> | </span><a href=\"/w/index.php?title=Lista_de_unidades_federativas_do_Brasil_por_%C3%A1rea&amp;action=edit&amp;section=4\" title=\"Editar secção: Ligações externas\">editar código-fonte</a><span class=\"mw-editsection-bracket\">]</span></span></h2>]"
      ]
     },
     "execution_count": 25,
     "metadata": {},
     "output_type": "execute_result"
    }
   ],
   "source": [
    "soup.find_all('h2')"
   ]
  },
  {
   "cell_type": "code",
   "execution_count": 26,
   "metadata": {
    "colab": {
     "base_uri": "https://localhost:8080/"
    },
    "executionInfo": {
     "elapsed": 803,
     "status": "ok",
     "timestamp": 1608163145271,
     "user": {
      "displayName": "Orlando O. S.",
      "photoUrl": "https://lh3.googleusercontent.com/a-/AOh14Gj-E1yuy1M_3ruwN4TWYPK4BwysauSW7GQmHheS=s64",
      "userId": "15066502291703974467"
     },
     "user_tz": 180
    },
    "id": "X23e9XKqUsrS",
    "outputId": "505e21cb-806d-40c0-f484-e3825c1b6b40"
   },
   "outputs": [
    {
     "data": {
      "text/plain": [
       "<table class=\"wikitable sortable\" style=\"text-align:center;\">\n",
       "<tbody><tr>\n",
       "<th>Posição\n",
       "</th>\n",
       "<th width=\"200px\">Região\n",
       "</th>\n",
       "<th width=\"100px\">Área (km²)\n",
       "</th>\n",
       "<th width=\"60px\">% do<br/>Brasil\n",
       "</th>\n",
       "<th width=\"180px\">País comparável\n",
       "</th></tr>\n",
       "<tr>\n",
       "<td>1</td>\n",
       "<td style=\"text-align:left\"><a href=\"/wiki/Regi%C3%A3o_Norte_do_Brasil\" title=\"Região Norte do Brasil\">Norte</a></td>\n",
       "<td>3 850 509,943</td>\n",
       "<td>45,245</td>\n",
       "<td style=\"text-align:left\"><img alt=\"\" class=\"thumbborder\" data-file-height=\"600\" data-file-width=\"900\" decoding=\"async\" height=\"15\" src=\"//upload.wikimedia.org/wikipedia/commons/thumb/4/41/Flag_of_India.svg/22px-Flag_of_India.svg.png\" srcset=\"//upload.wikimedia.org/wikipedia/commons/thumb/4/41/Flag_of_India.svg/33px-Flag_of_India.svg.png 1.5x, //upload.wikimedia.org/wikipedia/commons/thumb/4/41/Flag_of_India.svg/44px-Flag_of_India.svg.png 2x\" width=\"22\"/> <a href=\"/wiki/%C3%8Dndia\" title=\"Índia\">Índia</a> (3 287 263)\n",
       "</td></tr>\n",
       "<tr>\n",
       "<td>2</td>\n",
       "<td style=\"text-align:left\"><a href=\"/wiki/Regi%C3%A3o_Centro-Oeste_do_Brasil\" title=\"Região Centro-Oeste do Brasil\">Centro-Oeste</a></td>\n",
       "<td>1 606 316,665</td>\n",
       "<td>18,875</td>\n",
       "<td style=\"text-align:left\"><a href=\"/wiki/Ir%C3%A3\" title=\"Irã\"><img alt=\"Irã\" class=\"thumbborder\" data-file-height=\"360\" data-file-width=\"630\" decoding=\"async\" height=\"13\" src=\"//upload.wikimedia.org/wikipedia/commons/thumb/c/ca/Flag_of_Iran.svg/22px-Flag_of_Iran.svg.png\" srcset=\"//upload.wikimedia.org/wikipedia/commons/thumb/c/ca/Flag_of_Iran.svg/33px-Flag_of_Iran.svg.png 1.5x, //upload.wikimedia.org/wikipedia/commons/thumb/c/ca/Flag_of_Iran.svg/44px-Flag_of_Iran.svg.png 2x\" width=\"22\"/></a> <a href=\"/wiki/Ir%C3%A3\" title=\"Irã\">Irã</a> (1 648 195)\n",
       "</td></tr>\n",
       "<tr>\n",
       "<td>3</td>\n",
       "<td style=\"text-align:left\"><a href=\"/wiki/Regi%C3%A3o_Nordeste_do_Brasil\" title=\"Região Nordeste do Brasil\">Nordeste</a></td>\n",
       "<td>1 552 167,009</td>\n",
       "<td>18,239</td>\n",
       "<td style=\"text-align:left\"><a href=\"/wiki/Mong%C3%B3lia\" title=\"Mongólia\"><img alt=\"Mongólia\" class=\"thumbborder\" data-file-height=\"600\" data-file-width=\"1200\" decoding=\"async\" height=\"11\" src=\"//upload.wikimedia.org/wikipedia/commons/thumb/4/4c/Flag_of_Mongolia.svg/22px-Flag_of_Mongolia.svg.png\" srcset=\"//upload.wikimedia.org/wikipedia/commons/thumb/4/4c/Flag_of_Mongolia.svg/33px-Flag_of_Mongolia.svg.png 1.5x, //upload.wikimedia.org/wikipedia/commons/thumb/4/4c/Flag_of_Mongolia.svg/44px-Flag_of_Mongolia.svg.png 2x\" width=\"22\"/></a> <a href=\"/wiki/Mong%C3%B3lia\" title=\"Mongólia\">Mongólia</a> (1 564 110)\n",
       "</td></tr>\n",
       "<tr>\n",
       "<td>4</td>\n",
       "<td style=\"text-align:left\"><a href=\"/wiki/Regi%C3%A3o_Sudeste_do_Brasil\" title=\"Região Sudeste do Brasil\">Sudeste</a></td>\n",
       "<td>924 565,478</td>\n",
       "<td>10,864</td>\n",
       "<td style=\"text-align:left\"><img alt=\"\" class=\"thumbborder\" data-file-height=\"600\" data-file-width=\"1200\" decoding=\"async\" height=\"11\" src=\"//upload.wikimedia.org/wikipedia/commons/thumb/7/79/Flag_of_Nigeria.svg/22px-Flag_of_Nigeria.svg.png\" srcset=\"//upload.wikimedia.org/wikipedia/commons/thumb/7/79/Flag_of_Nigeria.svg/33px-Flag_of_Nigeria.svg.png 1.5x, //upload.wikimedia.org/wikipedia/commons/thumb/7/79/Flag_of_Nigeria.svg/44px-Flag_of_Nigeria.svg.png 2x\" width=\"22\"/> <a href=\"/wiki/Nig%C3%A9ria\" title=\"Nigéria\">Nigéria</a> (923 768)\n",
       "</td></tr>\n",
       "<tr>\n",
       "<td>5</td>\n",
       "<td style=\"text-align:left\"><a href=\"/wiki/Regi%C3%A3o_Sul_do_Brasil\" title=\"Região Sul do Brasil\">Sul</a></td>\n",
       "<td>576 736,819</td>\n",
       "<td>6,777</td>\n",
       "<td style=\"text-align:left\"><img alt=\"\" class=\"thumbborder\" data-file-height=\"600\" data-file-width=\"900\" decoding=\"async\" height=\"15\" src=\"//upload.wikimedia.org/wikipedia/commons/thumb/4/49/Flag_of_Kenya.svg/22px-Flag_of_Kenya.svg.png\" srcset=\"//upload.wikimedia.org/wikipedia/commons/thumb/4/49/Flag_of_Kenya.svg/33px-Flag_of_Kenya.svg.png 1.5x, //upload.wikimedia.org/wikipedia/commons/thumb/4/49/Flag_of_Kenya.svg/44px-Flag_of_Kenya.svg.png 2x\" width=\"22\"/> <a href=\"/wiki/Qu%C3%A9nia\" title=\"Quénia\">Quênia</a> (580 367)\n",
       "</td></tr>\n",
       "<tr>\n",
       "<th bgcolor=\"#ececec\"><b>Total</b></th>\n",
       "<th style=\"text-align:left\"><span class=\"flagicon\"><img alt=\"\" class=\"thumbborder\" data-file-height=\"525\" data-file-width=\"749\" decoding=\"async\" height=\"15\" src=\"//upload.wikimedia.org/wikipedia/commons/thumb/0/05/Flag_of_Brazil.svg/22px-Flag_of_Brazil.svg.png\" srcset=\"//upload.wikimedia.org/wikipedia/commons/thumb/0/05/Flag_of_Brazil.svg/33px-Flag_of_Brazil.svg.png 1.5x, //upload.wikimedia.org/wikipedia/commons/thumb/0/05/Flag_of_Brazil.svg/44px-Flag_of_Brazil.svg.png 2x\" width=\"22\"/> </span><a href=\"/wiki/Brasil\" title=\"Brasil\">Brasil</a></th>\n",
       "<th bgcolor=\"#ececec\">8 510 295,914</th>\n",
       "<th>100</th>\n",
       "<th style=\"text-align:left\"><span class=\"flagicon\"><img alt=\"\" class=\"thumbborder\" data-file-height=\"525\" data-file-width=\"749\" decoding=\"async\" height=\"15\" src=\"//upload.wikimedia.org/wikipedia/commons/thumb/0/05/Flag_of_Brazil.svg/22px-Flag_of_Brazil.svg.png\" srcset=\"//upload.wikimedia.org/wikipedia/commons/thumb/0/05/Flag_of_Brazil.svg/33px-Flag_of_Brazil.svg.png 1.5x, //upload.wikimedia.org/wikipedia/commons/thumb/0/05/Flag_of_Brazil.svg/44px-Flag_of_Brazil.svg.png 2x\" width=\"22\"/> </span><a href=\"/wiki/Brasil\" title=\"Brasil\">Brasil</a> (8 510 296)\n",
       "</th></tr></tbody></table>"
      ]
     },
     "execution_count": 26,
     "metadata": {},
     "output_type": "execute_result"
    }
   ],
   "source": [
    "soup.find_all(\"table\")[1]"
   ]
  },
  {
   "cell_type": "code",
   "execution_count": 27,
   "metadata": {
    "colab": {
     "base_uri": "https://localhost:8080/"
    },
    "executionInfo": {
     "elapsed": 766,
     "status": "ok",
     "timestamp": 1608163190207,
     "user": {
      "displayName": "Orlando O. S.",
      "photoUrl": "https://lh3.googleusercontent.com/a-/AOh14Gj-E1yuy1M_3ruwN4TWYPK4BwysauSW7GQmHheS=s64",
      "userId": "15066502291703974467"
     },
     "user_tz": 180
    },
    "id": "CJkSpd49_sd5",
    "outputId": "e834c0d8-4ace-4a85-f6eb-739977b66abf"
   },
   "outputs": [
    {
     "data": {
      "text/plain": [
       "<a class=\"mw-jump-link\" href=\"#content\">Saltar para o conteúdo</a>"
      ]
     },
     "execution_count": 27,
     "metadata": {},
     "output_type": "execute_result"
    }
   ],
   "source": [
    "soup.a"
   ]
  },
  {
   "cell_type": "code",
   "execution_count": 28,
   "metadata": {
    "colab": {
     "base_uri": "https://localhost:8080/"
    },
    "executionInfo": {
     "elapsed": 725,
     "status": "ok",
     "timestamp": 1608163276414,
     "user": {
      "displayName": "Orlando O. S.",
      "photoUrl": "https://lh3.googleusercontent.com/a-/AOh14Gj-E1yuy1M_3ruwN4TWYPK4BwysauSW7GQmHheS=s64",
      "userId": "15066502291703974467"
     },
     "user_tz": 180
    },
    "id": "t2znf3bMUsg7",
    "outputId": "f54936c2-7329-42f2-dec8-5d9fa7254967"
   },
   "outputs": [
    {
     "name": "stdout",
     "output_type": "stream",
     "text": [
      "#content\n",
      "/wiki/Wikip%C3%A9dia:P%C3%A1gina_principal\n",
      "/wiki/Especial:Pesquisar\n",
      "/w/index.php?title=Especial:Criar_conta&returnto=Lista+de+unidades+federativas+do+Brasil+por+%C3%A1rea\n",
      "/w/index.php?title=Especial:Criar_conta&returnto=Lista+de+unidades+federativas+do+Brasil+por+%C3%A1rea\n",
      "/w/index.php?title=Especial:Entrar&returnto=Lista+de+unidades+federativas+do+Brasil+por+%C3%A1rea\n",
      "/wiki/Ajuda:Introduction\n",
      "/wiki/Especial:Minha_discuss%C3%A3o\n",
      "/wiki/Especial:Minhas_contribui%C3%A7%C3%B5es\n",
      "/wiki/Wikip%C3%A9dia:P%C3%A1gina_principal\n"
     ]
    }
   ],
   "source": [
    "for link in soup.find_all('a')[:10]:\n",
    "    print(link.get('href'))"
   ]
  },
  {
   "cell_type": "markdown",
   "metadata": {
    "id": "WZvCdn48ZG8j"
   },
   "source": [
    "## Obtendo todo o texto da página sem as marcações html"
   ]
  },
  {
   "cell_type": "code",
   "execution_count": 29,
   "metadata": {
    "colab": {
     "base_uri": "https://localhost:8080/"
    },
    "executionInfo": {
     "elapsed": 717,
     "status": "ok",
     "timestamp": 1608163288641,
     "user": {
      "displayName": "Orlando O. S.",
      "photoUrl": "https://lh3.googleusercontent.com/a-/AOh14Gj-E1yuy1M_3ruwN4TWYPK4BwysauSW7GQmHheS=s64",
      "userId": "15066502291703974467"
     },
     "user_tz": 180
    },
    "id": "zAgo-cLKUsWu",
    "outputId": "7264c996-bfbc-49c1-fb26-ca56c7071fe4"
   },
   "outputs": [
    {
     "name": "stdout",
     "output_type": "stream",
     "text": [
      "\n",
      "\n",
      "Posição\n",
      "\n",
      "Unidade federativa\n",
      "\n",
      "Área (km²)\n",
      "\n",
      "% doBrasil\n",
      "\n",
      "País comparável\n",
      "\n",
      "\n",
      "1\n",
      " Amazonas\n",
      "1 559 167,889\n",
      "18,321\n",
      " Mongólia\n",
      "\n",
      "\n",
      "2\n",
      " Pará\n",
      "1 245 870,798\n",
      "14,64\n",
      " Angola\n",
      "\n",
      "\n",
      "3\n",
      " Mato Grosso\n",
      "903 207,019\n",
      "10,613\n",
      " Venezuela\n",
      "\n",
      "\n",
      "4\n",
      " Minas Gerais\n",
      "586 521,123\n",
      "6,892\n",
      " Madagascar\n",
      "\n",
      "\n",
      "5\n",
      " Bahia\n",
      "564 760,427\n",
      "6,636\n",
      " França\n",
      "\n",
      "\n",
      "6\n",
      " Mato Grosso do Sul\n",
      "357 145,534\n",
      "4,197\n",
      " Alemanha\n",
      "\n",
      "\n",
      "7\n",
      " Goiás\n",
      "340 203,329\n",
      "3,998\n",
      " Finlândia\n",
      "\n",
      "\n",
      "8\n",
      " Maranhão\n",
      "329 642,182\n",
      "3,873\n",
      " Vietnã\n",
      "\n",
      "\n",
      "9\n",
      " Rio Grande do Sul\n",
      "281 707,156\n",
      "3,31\n",
      " Equador\n",
      "\n",
      "\n",
      "10\n",
      " Tocantins\n",
      "277 466,763\n",
      "3,26\n",
      " Burkina Faso\n",
      "\n",
      "\n",
      "11\n",
      " Piauí\n",
      "251 756,515\n",
      "2,958\n",
      " Guiné\n",
      "\n",
      "\n",
      "12\n",
      " São Paulo\n",
      "248 219,481\n",
      "2,917\n",
      " Reino Unido\n",
      "\n",
      "\n",
      "13\n",
      " Rondônia\n",
      "237 765,24\n",
      "2,794\n",
      " Laos\n",
      "\n",
      "\n",
      "14\n",
      " Roraima\n",
      "223 644,527\n",
      "2,628\n",
      " Guiana\n",
      "\n",
      "\n",
      "15\n",
      " Paraná\n",
      "199 298,979\n",
      "2,342\n",
      " Quirguistão\n",
      "\n",
      "\n",
      "16\n",
      " Acre\n",
      "164 123,964\n",
      "1,929\n",
      " Suriname\n",
      "\n",
      "\n",
      "17\n",
      " Ceará\n",
      "148 894,441\n",
      "1,75\n",
      "   Nepal\n",
      "\n",
      "\n",
      "18\n",
      " Amapá\n",
      "142 470,762\n",
      "1,674\n",
      " Tajiquistão\n",
      "\n",
      "\n",
      "19\n",
      " Pernambuco\n",
      "98 067,881\n",
      "1,152\n",
      " Coreia do Sul\n",
      "\n",
      "\n",
      "20\n",
      " Santa Catarina\n",
      "95 730,684\n",
      "1,125\n",
      " Portugal\n",
      "\n",
      "\n",
      "21\n",
      " Paraíba\n",
      "56 467,242\n",
      "0,664\n",
      " Croácia\n",
      "\n",
      "\n",
      "22\n",
      " Rio Grande do Norte\n",
      "52 809,602\n",
      "0,621\n",
      " Bósnia e Herzegovina\n",
      "\n",
      "\n",
      "23\n",
      " Espírito Santo\n",
      "46 074,447\n",
      "0,541\n",
      " Estônia\n",
      "\n",
      "\n",
      "24\n",
      " Rio de Janeiro\n",
      "43 750,427\n",
      "0,514\n",
      " Dinamarca\n",
      "\n",
      "\n",
      "25\n",
      " Alagoas\n",
      "27 843,295\n",
      "0,327\n",
      " Haiti\n",
      "\n",
      "\n",
      "26\n",
      " Sergipe\n",
      "21 925,424\n",
      "0,258\n",
      " El Salvador\n",
      "\n",
      "\n",
      "27\n",
      " Distrito Federal\n",
      "5 760,783\n",
      "0,068\n",
      " Brunei\n",
      "\n"
     ]
    }
   ],
   "source": [
    "print(soup.table.get_text())"
   ]
  },
  {
   "cell_type": "markdown",
   "metadata": {
    "id": "4omfCHbNPxTK"
   },
   "source": [
    "## Interagir com a lista de objetos de determinado tipo e acessar determinados objetos aninhados"
   ]
  },
  {
   "cell_type": "code",
   "execution_count": 41,
   "metadata": {
    "colab": {
     "base_uri": "https://localhost:8080/"
    },
    "executionInfo": {
     "elapsed": 734,
     "status": "ok",
     "timestamp": 1608163353105,
     "user": {
      "displayName": "Orlando O. S.",
      "photoUrl": "https://lh3.googleusercontent.com/a-/AOh14Gj-E1yuy1M_3ruwN4TWYPK4BwysauSW7GQmHheS=s64",
      "userId": "15066502291703974467"
     },
     "user_tz": 180
    },
    "id": "X0NlXX7gUsJ5",
    "outputId": "861f0a7f-8f60-42c0-d824-9c5dd687432d"
   },
   "outputs": [],
   "source": [
    "for tabela in soup.find_all(\"table\"):\n",
    "    caption = tabela.find('caption')\n",
    "    if caption:\n",
    "        print(caption)"
   ]
  },
  {
   "cell_type": "markdown",
   "metadata": {
    "id": "EF5HhMveQMfV"
   },
   "source": [
    "## Utilizar list comprehension para localizar objetos contendo conteúdo específico"
   ]
  },
  {
   "cell_type": "code",
   "execution_count": 42,
   "metadata": {
    "colab": {
     "base_uri": "https://localhost:8080/"
    },
    "executionInfo": {
     "elapsed": 718,
     "status": "ok",
     "timestamp": 1608163462990,
     "user": {
      "displayName": "Orlando O. S.",
      "photoUrl": "https://lh3.googleusercontent.com/a-/AOh14Gj-E1yuy1M_3ruwN4TWYPK4BwysauSW7GQmHheS=s64",
      "userId": "15066502291703974467"
     },
     "user_tz": 180
    },
    "id": "aR1y3lJus-cH",
    "outputId": "8a6655b8-ca5e-4430-f1ec-73df7a15819b"
   },
   "outputs": [
    {
     "data": {
      "text/plain": [
       "4"
      ]
     },
     "execution_count": 42,
     "metadata": {},
     "output_type": "execute_result"
    }
   ],
   "source": [
    "caption = 'Unidades federativas do Brasil por área'\n",
    "tabelasencontradas = [ tabela for tabela in soup.find_all(\"table\") ]\n",
    "len(tabelasencontradas)"
   ]
  },
  {
   "cell_type": "markdown",
   "metadata": {
    "id": "JiRPc_OZQkwb"
   },
   "source": [
    "## Acessando o conteúdo interno de uma tabela html"
   ]
  },
  {
   "cell_type": "code",
   "execution_count": 43,
   "metadata": {
    "colab": {
     "base_uri": "https://localhost:8080/"
    },
    "executionInfo": {
     "elapsed": 703,
     "status": "ok",
     "timestamp": 1608163622721,
     "user": {
      "displayName": "Orlando O. S.",
      "photoUrl": "https://lh3.googleusercontent.com/a-/AOh14Gj-E1yuy1M_3ruwN4TWYPK4BwysauSW7GQmHheS=s64",
      "userId": "15066502291703974467"
     },
     "user_tz": 180
    },
    "id": "xazgf3MOt11n",
    "outputId": "59e027ae-a543-4b12-c9de-573ffd6b8bbd"
   },
   "outputs": [
    {
     "data": {
      "text/plain": [
       "<tr>\n",
       "<td>2</td>\n",
       "<td style=\"text-align:left\"><a href=\"/wiki/Par%C3%A1\" title=\"Pará\"><img alt=\"Pará\" class=\"thumbborder\" data-file-height=\"600\" data-file-width=\"900\" decoding=\"async\" height=\"13\" src=\"//upload.wikimedia.org/wikipedia/commons/thumb/0/02/Bandeira_do_Par%C3%A1.svg/20px-Bandeira_do_Par%C3%A1.svg.png\" srcset=\"//upload.wikimedia.org/wikipedia/commons/thumb/0/02/Bandeira_do_Par%C3%A1.svg/30px-Bandeira_do_Par%C3%A1.svg.png 1.5x, //upload.wikimedia.org/wikipedia/commons/thumb/0/02/Bandeira_do_Par%C3%A1.svg/40px-Bandeira_do_Par%C3%A1.svg.png 2x\" width=\"20\"/></a> <a href=\"/wiki/Par%C3%A1\" title=\"Pará\">Pará</a></td>\n",
       "<td>1 245 870,798</td>\n",
       "<td>14,64</td>\n",
       "<td style=\"text-align:left\"><span class=\"flagicon\"><img alt=\"\" class=\"thumbborder\" data-file-height=\"600\" data-file-width=\"900\" decoding=\"async\" height=\"15\" src=\"//upload.wikimedia.org/wikipedia/commons/thumb/9/9d/Flag_of_Angola.svg/23px-Flag_of_Angola.svg.png\" srcset=\"//upload.wikimedia.org/wikipedia/commons/thumb/9/9d/Flag_of_Angola.svg/35px-Flag_of_Angola.svg.png 1.5x, //upload.wikimedia.org/wikipedia/commons/thumb/9/9d/Flag_of_Angola.svg/45px-Flag_of_Angola.svg.png 2x\" width=\"23\"/> </span><a href=\"/wiki/Angola\" title=\"Angola\">Angola</a>\n",
       "</td></tr>"
      ]
     },
     "execution_count": 43,
     "metadata": {},
     "output_type": "execute_result"
    }
   ],
   "source": [
    "primeiratabela = tabelasencontradas[0].tbody\n",
    "primeiratabela.contents[4]"
   ]
  },
  {
   "cell_type": "markdown",
   "metadata": {
    "id": "BOxqCna5Qu9s"
   },
   "source": [
    "## Utilizar o atributo para identificar e interagir com os objetos filhos do corpo da tabela (linhas)"
   ]
  },
  {
   "cell_type": "code",
   "execution_count": 44,
   "metadata": {
    "colab": {
     "base_uri": "https://localhost:8080/"
    },
    "executionInfo": {
     "elapsed": 753,
     "status": "ok",
     "timestamp": 1608163652074,
     "user": {
      "displayName": "Orlando O. S.",
      "photoUrl": "https://lh3.googleusercontent.com/a-/AOh14Gj-E1yuy1M_3ruwN4TWYPK4BwysauSW7GQmHheS=s64",
      "userId": "15066502291703974467"
     },
     "user_tz": 180
    },
    "id": "2MsIo7y_gy1X",
    "outputId": "c2b961c9-44a2-42d0-b98e-4eab9a113bb9"
   },
   "outputs": [
    {
     "name": "stdout",
     "output_type": "stream",
     "text": [
      "tr <tr>\n",
      "<th>Posição\n",
      "</th>\n",
      "<th width=\"200px\">Unidade federativa\n",
      "</th>\n",
      "<th width=\"100px\">Área (km²)\n",
      "</th>\n",
      "<th width=\"60px\">% do<br/>Brasil\n",
      "</th>\n",
      "<th width=\"180px\">País comparável\n",
      "</th></tr>\n",
      "None \n",
      "\n",
      "tr <tr>\n",
      "<td>1</td>\n",
      "<td style=\"text-align:left\"><img alt=\"\" class=\"thumbborder\" data-file-height=\"500\" data-file-width=\"700\" decoding=\"async\" height=\"14\" src=\"//upload.wikimedia.org/wikipedia/commons/thumb/6/6b/Bandeira_do_Amazonas.svg/20px-Bandeira_do_Amazonas.svg.png\" srcset=\"//upload.wikimedia.org/wikipedia/commons/thumb/6/6b/Bandeira_do_Amazonas.svg/30px-Bandeira_do_Amazonas.svg.png 1.5x, //upload.wikimedia.org/wikipedia/commons/thumb/6/6b/Bandeira_do_Amazonas.svg/40px-Bandeira_do_Amazonas.svg.png 2x\" width=\"20\"> <a href=\"/wiki/Amazonas\" title=\"Amazonas\">Amazonas</a></img></td>\n",
      "<td>1 559 167,889</td>\n",
      "<td>18,321</td>\n",
      "<td style=\"text-align:left\"><span class=\"flagicon\"><img alt=\"\" class=\"thumbborder\" data-file-height=\"600\" data-file-width=\"1200\" decoding=\"async\" height=\"12\" src=\"//upload.wikimedia.org/wikipedia/commons/thumb/4/4c/Flag_of_Mongolia.svg/23px-Flag_of_Mongolia.svg.png\" srcset=\"//upload.wikimedia.org/wikipedia/commons/thumb/4/4c/Flag_of_Mongolia.svg/35px-Flag_of_Mongolia.svg.png 1.5x, //upload.wikimedia.org/wikipedia/commons/thumb/4/4c/Flag_of_Mongolia.svg/46px-Flag_of_Mongolia.svg.png 2x\" width=\"23\"/> </span><a href=\"/wiki/Mong%C3%B3lia\" title=\"Mongólia\">Mongólia</a>\n",
      "</td></tr>\n"
     ]
    }
   ],
   "source": [
    "for filho in list(primeiratabela.children)[:3]:\n",
    "    print(filho.name, filho)"
   ]
  },
  {
   "cell_type": "markdown",
   "metadata": {
    "id": "k_jYqmrrRD8r"
   },
   "source": [
    "## Utilizando loops aninhados para curar um dicionário com o conteúdo da tabela"
   ]
  },
  {
   "cell_type": "code",
   "execution_count": 46,
   "metadata": {
    "colab": {
     "base_uri": "https://localhost:8080/"
    },
    "executionInfo": {
     "elapsed": 767,
     "status": "ok",
     "timestamp": 1608163743953,
     "user": {
      "displayName": "Orlando O. S.",
      "photoUrl": "https://lh3.googleusercontent.com/a-/AOh14Gj-E1yuy1M_3ruwN4TWYPK4BwysauSW7GQmHheS=s64",
      "userId": "15066502291703974467"
     },
     "user_tz": 180
    },
    "id": "6pbhqc2Jh99C",
    "outputId": "45fe5e9b-36ed-4f93-bd41-0d24341a3222"
   },
   "outputs": [
    {
     "data": {
      "text/plain": [
       "defaultdict(list,\n",
       "            {0: ['Posição',\n",
       "              'Unidade federativa',\n",
       "              'Área (km²)',\n",
       "              '% doBrasil',\n",
       "              'País comparável'],\n",
       "             1: ['1', 'Amazonas', '1559167,889', '18,321', 'Mongólia'],\n",
       "             2: ['2', 'Pará', '1245870,798', '14,64', 'Angola'],\n",
       "             3: ['3', 'Mato Grosso', '903207,019', '10,613', 'Venezuela'],\n",
       "             4: ['4', 'Minas Gerais', '586521,123', '6,892', 'Madagascar'],\n",
       "             5: ['5', 'Bahia', '564760,427', '6,636', 'França'],\n",
       "             6: ['6', 'Mato Grosso do Sul', '357145,534', '4,197', 'Alemanha'],\n",
       "             7: ['7', 'Goiás', '340203,329', '3,998', 'Finlândia'],\n",
       "             8: ['8', 'Maranhão', '329642,182', '3,873', 'Vietnã'],\n",
       "             9: ['9', 'Rio Grande do Sul', '281707,156', '3,31', 'Equador'],\n",
       "             10: ['10', 'Tocantins', '277466,763', '3,26', 'Burkina Faso'],\n",
       "             11: ['11', 'Piauí', '251756,515', '2,958', 'Guiné'],\n",
       "             12: ['12', 'São Paulo', '248219,481', '2,917', 'Reino Unido'],\n",
       "             13: ['13', 'Rondônia', '237765,24', '2,794', 'Laos'],\n",
       "             14: ['14', 'Roraima', '223644,527', '2,628', 'Guiana'],\n",
       "             15: ['15', 'Paraná', '199298,979', '2,342', 'Quirguistão'],\n",
       "             16: ['16', 'Acre', '164123,964', '1,929', 'Suriname'],\n",
       "             17: ['17', 'Ceará', '148894,441', '1,75', 'Nepal'],\n",
       "             18: ['18', 'Amapá', '142470,762', '1,674', 'Tajiquistão'],\n",
       "             19: ['19', 'Pernambuco', '98067,881', '1,152', 'Coreia do Sul'],\n",
       "             20: ['20', 'Santa Catarina', '95730,684', '1,125', 'Portugal'],\n",
       "             21: ['21', 'Paraíba', '56467,242', '0,664', 'Croácia'],\n",
       "             22: ['22',\n",
       "              'Rio Grande do Norte',\n",
       "              '52809,602',\n",
       "              '0,621',\n",
       "              'Bósnia e Herzegovina'],\n",
       "             23: ['23', 'Espírito Santo', '46074,447', '0,541', 'Estônia'],\n",
       "             24: ['24', 'Rio de Janeiro', '43750,427', '0,514', 'Dinamarca'],\n",
       "             25: ['25', 'Alagoas', '27843,295', '0,327', 'Haiti'],\n",
       "             26: ['26', 'Sergipe', '21925,424', '0,258', 'El Salvador'],\n",
       "             27: ['27', 'Distrito Federal', '5760,783', '0,068', 'Brunei']})"
      ]
     },
     "execution_count": 46,
     "metadata": {},
     "output_type": "execute_result"
    }
   ],
   "source": [
    "from collections import defaultdict\n",
    "import html\n",
    "tabela = defaultdict(list)\n",
    "for id, linha in enumerate(list(primeiratabela.find_all('tr'))):\n",
    "    if id <28:\n",
    "        for celula in list(linha.find_all('th')):\n",
    "            tabela[id].append(html.unescape(celula.get_text(strip=True).replace(u'\\xa0', u'')))\n",
    "\n",
    "        for celula in list(linha.find_all('td')):\n",
    "            tabela[id].append(html.unescape(celula.get_text(strip=True).replace(u'\\xa0', u'')))\n",
    "tabela"
   ]
  },
  {
   "cell_type": "markdown",
   "metadata": {
    "id": "fneK7yByRMrf"
   },
   "source": [
    "##  Gerando um DataFrame com o conteúdo extraído da tabela"
   ]
  },
  {
   "cell_type": "code",
   "execution_count": 47,
   "metadata": {
    "executionInfo": {
     "elapsed": 792,
     "status": "ok",
     "timestamp": 1608163794973,
     "user": {
      "displayName": "Orlando O. S.",
      "photoUrl": "https://lh3.googleusercontent.com/a-/AOh14Gj-E1yuy1M_3ruwN4TWYPK4BwysauSW7GQmHheS=s64",
      "userId": "15066502291703974467"
     },
     "user_tz": 180
    },
    "id": "0uA-jKLJjkRP"
   },
   "outputs": [],
   "source": [
    "import pandas as pd\n"
   ]
  },
  {
   "cell_type": "code",
   "execution_count": 48,
   "metadata": {
    "colab": {
     "base_uri": "https://localhost:8080/",
     "height": 911
    },
    "executionInfo": {
     "elapsed": 930,
     "status": "ok",
     "timestamp": 1608163854713,
     "user": {
      "displayName": "Orlando O. S.",
      "photoUrl": "https://lh3.googleusercontent.com/a-/AOh14Gj-E1yuy1M_3ruwN4TWYPK4BwysauSW7GQmHheS=s64",
      "userId": "15066502291703974467"
     },
     "user_tz": 180
    },
    "id": "enFg3ReEm1oJ",
    "outputId": "13284095-09d1-40ff-805b-fb46755c2377"
   },
   "outputs": [
    {
     "data": {
      "text/html": [
       "<div>\n",
       "<style scoped>\n",
       "    .dataframe tbody tr th:only-of-type {\n",
       "        vertical-align: middle;\n",
       "    }\n",
       "\n",
       "    .dataframe tbody tr th {\n",
       "        vertical-align: top;\n",
       "    }\n",
       "\n",
       "    .dataframe thead th {\n",
       "        text-align: right;\n",
       "    }\n",
       "</style>\n",
       "<table border=\"1\" class=\"dataframe\">\n",
       "  <thead>\n",
       "    <tr style=\"text-align: right;\">\n",
       "      <th></th>\n",
       "      <th>0</th>\n",
       "      <th>1</th>\n",
       "      <th>2</th>\n",
       "      <th>3</th>\n",
       "      <th>4</th>\n",
       "    </tr>\n",
       "  </thead>\n",
       "  <tbody>\n",
       "    <tr>\n",
       "      <th>0</th>\n",
       "      <td>Posição</td>\n",
       "      <td>Unidade federativa</td>\n",
       "      <td>Área (km²)</td>\n",
       "      <td>% doBrasil</td>\n",
       "      <td>País comparável</td>\n",
       "    </tr>\n",
       "    <tr>\n",
       "      <th>1</th>\n",
       "      <td>1</td>\n",
       "      <td>Amazonas</td>\n",
       "      <td>1559167,889</td>\n",
       "      <td>18,321</td>\n",
       "      <td>Mongólia</td>\n",
       "    </tr>\n",
       "    <tr>\n",
       "      <th>2</th>\n",
       "      <td>2</td>\n",
       "      <td>Pará</td>\n",
       "      <td>1245870,798</td>\n",
       "      <td>14,64</td>\n",
       "      <td>Angola</td>\n",
       "    </tr>\n",
       "    <tr>\n",
       "      <th>3</th>\n",
       "      <td>3</td>\n",
       "      <td>Mato Grosso</td>\n",
       "      <td>903207,019</td>\n",
       "      <td>10,613</td>\n",
       "      <td>Venezuela</td>\n",
       "    </tr>\n",
       "    <tr>\n",
       "      <th>4</th>\n",
       "      <td>4</td>\n",
       "      <td>Minas Gerais</td>\n",
       "      <td>586521,123</td>\n",
       "      <td>6,892</td>\n",
       "      <td>Madagascar</td>\n",
       "    </tr>\n",
       "    <tr>\n",
       "      <th>5</th>\n",
       "      <td>5</td>\n",
       "      <td>Bahia</td>\n",
       "      <td>564760,427</td>\n",
       "      <td>6,636</td>\n",
       "      <td>França</td>\n",
       "    </tr>\n",
       "    <tr>\n",
       "      <th>6</th>\n",
       "      <td>6</td>\n",
       "      <td>Mato Grosso do Sul</td>\n",
       "      <td>357145,534</td>\n",
       "      <td>4,197</td>\n",
       "      <td>Alemanha</td>\n",
       "    </tr>\n",
       "    <tr>\n",
       "      <th>7</th>\n",
       "      <td>7</td>\n",
       "      <td>Goiás</td>\n",
       "      <td>340203,329</td>\n",
       "      <td>3,998</td>\n",
       "      <td>Finlândia</td>\n",
       "    </tr>\n",
       "    <tr>\n",
       "      <th>8</th>\n",
       "      <td>8</td>\n",
       "      <td>Maranhão</td>\n",
       "      <td>329642,182</td>\n",
       "      <td>3,873</td>\n",
       "      <td>Vietnã</td>\n",
       "    </tr>\n",
       "    <tr>\n",
       "      <th>9</th>\n",
       "      <td>9</td>\n",
       "      <td>Rio Grande do Sul</td>\n",
       "      <td>281707,156</td>\n",
       "      <td>3,31</td>\n",
       "      <td>Equador</td>\n",
       "    </tr>\n",
       "    <tr>\n",
       "      <th>10</th>\n",
       "      <td>10</td>\n",
       "      <td>Tocantins</td>\n",
       "      <td>277466,763</td>\n",
       "      <td>3,26</td>\n",
       "      <td>Burkina Faso</td>\n",
       "    </tr>\n",
       "    <tr>\n",
       "      <th>11</th>\n",
       "      <td>11</td>\n",
       "      <td>Piauí</td>\n",
       "      <td>251756,515</td>\n",
       "      <td>2,958</td>\n",
       "      <td>Guiné</td>\n",
       "    </tr>\n",
       "    <tr>\n",
       "      <th>12</th>\n",
       "      <td>12</td>\n",
       "      <td>São Paulo</td>\n",
       "      <td>248219,481</td>\n",
       "      <td>2,917</td>\n",
       "      <td>Reino Unido</td>\n",
       "    </tr>\n",
       "    <tr>\n",
       "      <th>13</th>\n",
       "      <td>13</td>\n",
       "      <td>Rondônia</td>\n",
       "      <td>237765,24</td>\n",
       "      <td>2,794</td>\n",
       "      <td>Laos</td>\n",
       "    </tr>\n",
       "    <tr>\n",
       "      <th>14</th>\n",
       "      <td>14</td>\n",
       "      <td>Roraima</td>\n",
       "      <td>223644,527</td>\n",
       "      <td>2,628</td>\n",
       "      <td>Guiana</td>\n",
       "    </tr>\n",
       "    <tr>\n",
       "      <th>15</th>\n",
       "      <td>15</td>\n",
       "      <td>Paraná</td>\n",
       "      <td>199298,979</td>\n",
       "      <td>2,342</td>\n",
       "      <td>Quirguistão</td>\n",
       "    </tr>\n",
       "    <tr>\n",
       "      <th>16</th>\n",
       "      <td>16</td>\n",
       "      <td>Acre</td>\n",
       "      <td>164123,964</td>\n",
       "      <td>1,929</td>\n",
       "      <td>Suriname</td>\n",
       "    </tr>\n",
       "    <tr>\n",
       "      <th>17</th>\n",
       "      <td>17</td>\n",
       "      <td>Ceará</td>\n",
       "      <td>148894,441</td>\n",
       "      <td>1,75</td>\n",
       "      <td>Nepal</td>\n",
       "    </tr>\n",
       "    <tr>\n",
       "      <th>18</th>\n",
       "      <td>18</td>\n",
       "      <td>Amapá</td>\n",
       "      <td>142470,762</td>\n",
       "      <td>1,674</td>\n",
       "      <td>Tajiquistão</td>\n",
       "    </tr>\n",
       "    <tr>\n",
       "      <th>19</th>\n",
       "      <td>19</td>\n",
       "      <td>Pernambuco</td>\n",
       "      <td>98067,881</td>\n",
       "      <td>1,152</td>\n",
       "      <td>Coreia do Sul</td>\n",
       "    </tr>\n",
       "    <tr>\n",
       "      <th>20</th>\n",
       "      <td>20</td>\n",
       "      <td>Santa Catarina</td>\n",
       "      <td>95730,684</td>\n",
       "      <td>1,125</td>\n",
       "      <td>Portugal</td>\n",
       "    </tr>\n",
       "    <tr>\n",
       "      <th>21</th>\n",
       "      <td>21</td>\n",
       "      <td>Paraíba</td>\n",
       "      <td>56467,242</td>\n",
       "      <td>0,664</td>\n",
       "      <td>Croácia</td>\n",
       "    </tr>\n",
       "    <tr>\n",
       "      <th>22</th>\n",
       "      <td>22</td>\n",
       "      <td>Rio Grande do Norte</td>\n",
       "      <td>52809,602</td>\n",
       "      <td>0,621</td>\n",
       "      <td>Bósnia e Herzegovina</td>\n",
       "    </tr>\n",
       "    <tr>\n",
       "      <th>23</th>\n",
       "      <td>23</td>\n",
       "      <td>Espírito Santo</td>\n",
       "      <td>46074,447</td>\n",
       "      <td>0,541</td>\n",
       "      <td>Estônia</td>\n",
       "    </tr>\n",
       "    <tr>\n",
       "      <th>24</th>\n",
       "      <td>24</td>\n",
       "      <td>Rio de Janeiro</td>\n",
       "      <td>43750,427</td>\n",
       "      <td>0,514</td>\n",
       "      <td>Dinamarca</td>\n",
       "    </tr>\n",
       "    <tr>\n",
       "      <th>25</th>\n",
       "      <td>25</td>\n",
       "      <td>Alagoas</td>\n",
       "      <td>27843,295</td>\n",
       "      <td>0,327</td>\n",
       "      <td>Haiti</td>\n",
       "    </tr>\n",
       "    <tr>\n",
       "      <th>26</th>\n",
       "      <td>26</td>\n",
       "      <td>Sergipe</td>\n",
       "      <td>21925,424</td>\n",
       "      <td>0,258</td>\n",
       "      <td>El Salvador</td>\n",
       "    </tr>\n",
       "    <tr>\n",
       "      <th>27</th>\n",
       "      <td>27</td>\n",
       "      <td>Distrito Federal</td>\n",
       "      <td>5760,783</td>\n",
       "      <td>0,068</td>\n",
       "      <td>Brunei</td>\n",
       "    </tr>\n",
       "  </tbody>\n",
       "</table>\n",
       "</div>"
      ],
      "text/plain": [
       "          0                    1            2           3  \\\n",
       "0   Posição   Unidade federativa   Área (km²)  % doBrasil   \n",
       "1         1             Amazonas  1559167,889      18,321   \n",
       "2         2                 Pará  1245870,798       14,64   \n",
       "3         3          Mato Grosso   903207,019      10,613   \n",
       "4         4         Minas Gerais   586521,123       6,892   \n",
       "5         5                Bahia   564760,427       6,636   \n",
       "6         6   Mato Grosso do Sul   357145,534       4,197   \n",
       "7         7                Goiás   340203,329       3,998   \n",
       "8         8             Maranhão   329642,182       3,873   \n",
       "9         9    Rio Grande do Sul   281707,156        3,31   \n",
       "10       10            Tocantins   277466,763        3,26   \n",
       "11       11                Piauí   251756,515       2,958   \n",
       "12       12            São Paulo   248219,481       2,917   \n",
       "13       13             Rondônia    237765,24       2,794   \n",
       "14       14              Roraima   223644,527       2,628   \n",
       "15       15               Paraná   199298,979       2,342   \n",
       "16       16                 Acre   164123,964       1,929   \n",
       "17       17                Ceará   148894,441        1,75   \n",
       "18       18                Amapá   142470,762       1,674   \n",
       "19       19           Pernambuco    98067,881       1,152   \n",
       "20       20       Santa Catarina    95730,684       1,125   \n",
       "21       21              Paraíba    56467,242       0,664   \n",
       "22       22  Rio Grande do Norte    52809,602       0,621   \n",
       "23       23       Espírito Santo    46074,447       0,541   \n",
       "24       24       Rio de Janeiro    43750,427       0,514   \n",
       "25       25              Alagoas    27843,295       0,327   \n",
       "26       26              Sergipe    21925,424       0,258   \n",
       "27       27     Distrito Federal     5760,783       0,068   \n",
       "\n",
       "                       4  \n",
       "0        País comparável  \n",
       "1               Mongólia  \n",
       "2                 Angola  \n",
       "3              Venezuela  \n",
       "4             Madagascar  \n",
       "5                 França  \n",
       "6               Alemanha  \n",
       "7              Finlândia  \n",
       "8                 Vietnã  \n",
       "9                Equador  \n",
       "10          Burkina Faso  \n",
       "11                 Guiné  \n",
       "12           Reino Unido  \n",
       "13                  Laos  \n",
       "14                Guiana  \n",
       "15           Quirguistão  \n",
       "16              Suriname  \n",
       "17                 Nepal  \n",
       "18           Tajiquistão  \n",
       "19         Coreia do Sul  \n",
       "20              Portugal  \n",
       "21               Croácia  \n",
       "22  Bósnia e Herzegovina  \n",
       "23               Estônia  \n",
       "24             Dinamarca  \n",
       "25                 Haiti  \n",
       "26           El Salvador  \n",
       "27                Brunei  "
      ]
     },
     "execution_count": 48,
     "metadata": {},
     "output_type": "execute_result"
    }
   ],
   "source": [
    "pd.DataFrame(tabela).T"
   ]
  },
  {
   "cell_type": "markdown",
   "metadata": {
    "id": "YVLjaQ_fRh_e"
   },
   "source": [
    "## Utilizar o pandas.read_html para fazer o trabalho sujo!"
   ]
  },
  {
   "cell_type": "code",
   "execution_count": 49,
   "metadata": {
    "executionInfo": {
     "elapsed": 1304,
     "status": "ok",
     "timestamp": 1608163960958,
     "user": {
      "displayName": "Orlando O. S.",
      "photoUrl": "https://lh3.googleusercontent.com/a-/AOh14Gj-E1yuy1M_3ruwN4TWYPK4BwysauSW7GQmHheS=s64",
      "userId": "15066502291703974467"
     },
     "user_tz": 180
    },
    "id": "V-zoJeA8RwMg"
   },
   "outputs": [],
   "source": [
    "table_MN = pd.read_html('https://pt.wikipedia.org/wiki/Lista_de_unidades_federativas_do_Brasil_por_%C3%A1rea')"
   ]
  },
  {
   "cell_type": "code",
   "execution_count": 50,
   "metadata": {
    "colab": {
     "base_uri": "https://localhost:8080/"
    },
    "executionInfo": {
     "elapsed": 1962,
     "status": "ok",
     "timestamp": 1608163970431,
     "user": {
      "displayName": "Orlando O. S.",
      "photoUrl": "https://lh3.googleusercontent.com/a-/AOh14Gj-E1yuy1M_3ruwN4TWYPK4BwysauSW7GQmHheS=s64",
      "userId": "15066502291703974467"
     },
     "user_tz": 180
    },
    "id": "RFBbIkhZCrn3",
    "outputId": "c1704ca4-96cc-44db-a650-5bf6cfaa92b0"
   },
   "outputs": [
    {
     "data": {
      "text/plain": [
       "[    Posição   Unidade federativa     Área (km²)  % doBrasil  \\\n",
       " 0         1             Amazonas  1 559 167,889       18321   \n",
       " 1         2                 Pará  1 245 870,798        1464   \n",
       " 2         3          Mato Grosso    903 207,019       10613   \n",
       " 3         4         Minas Gerais    586 521,123        6892   \n",
       " 4         5                Bahia    564 760,427        6636   \n",
       " 5         6   Mato Grosso do Sul    357 145,534        4197   \n",
       " 6         7                Goiás    340 203,329        3998   \n",
       " 7         8             Maranhão    329 642,182        3873   \n",
       " 8         9    Rio Grande do Sul    281 707,156         331   \n",
       " 9        10            Tocantins    277 466,763         326   \n",
       " 10       11                Piauí    251 756,515        2958   \n",
       " 11       12            São Paulo    248 219,481        2917   \n",
       " 12       13             Rondônia     237 765,24        2794   \n",
       " 13       14              Roraima    223 644,527        2628   \n",
       " 14       15               Paraná    199 298,979        2342   \n",
       " 15       16                 Acre    164 123,964        1929   \n",
       " 16       17                Ceará    148 894,441         175   \n",
       " 17       18                Amapá    142 470,762        1674   \n",
       " 18       19           Pernambuco     98 067,881        1152   \n",
       " 19       20       Santa Catarina     95 730,684        1125   \n",
       " 20       21              Paraíba     56 467,242         664   \n",
       " 21       22  Rio Grande do Norte     52 809,602         621   \n",
       " 22       23       Espírito Santo     46 074,447         541   \n",
       " 23       24       Rio de Janeiro     43 750,427         514   \n",
       " 24       25              Alagoas     27 843,295         327   \n",
       " 25       26              Sergipe     21 925,424         258   \n",
       " 26       27     Distrito Federal      5 760,783          68   \n",
       " \n",
       "          País comparável  \n",
       " 0               Mongólia  \n",
       " 1                 Angola  \n",
       " 2              Venezuela  \n",
       " 3             Madagascar  \n",
       " 4                 França  \n",
       " 5               Alemanha  \n",
       " 6              Finlândia  \n",
       " 7                 Vietnã  \n",
       " 8                Equador  \n",
       " 9           Burkina Faso  \n",
       " 10                 Guiné  \n",
       " 11           Reino Unido  \n",
       " 12                  Laos  \n",
       " 13                Guiana  \n",
       " 14           Quirguistão  \n",
       " 15              Suriname  \n",
       " 16                 Nepal  \n",
       " 17           Tajiquistão  \n",
       " 18         Coreia do Sul  \n",
       " 19              Portugal  \n",
       " 20               Croácia  \n",
       " 21  Bósnia e Herzegovina  \n",
       " 22               Estônia  \n",
       " 23             Dinamarca  \n",
       " 24                 Haiti  \n",
       " 25           El Salvador  \n",
       " 26                Brunei  ,\n",
       "   Posição        Região     Área (km²)  % doBrasil       País comparável\n",
       " 0       1         Norte  3 850 509,943       45245     Índia (3 287 263)\n",
       " 1       2  Centro-Oeste  1 606 316,665       18875       Irã (1 648 195)\n",
       " 2       3      Nordeste  1 552 167,009       18239  Mongólia (1 564 110)\n",
       " 3       4       Sudeste    924 565,478       10864     Nigéria (923 768)\n",
       " 4       5           Sul    576 736,819        6777      Quênia (580 367)\n",
       " 5   Total        Brasil  8 510 295,914         100    Brasil (8 510 296),\n",
       "    vdeClassificações das unidades federativas do Brasil  \\\n",
       " 0                         Características geográficas     \n",
       " 1                            Indicadores demográficos     \n",
       " 2                                      Gestão pública     \n",
       " 3                    Indicadores econômicos e sociais     \n",
       " 4                                                 PIB     \n",
       " 5                                            Trabalho     \n",
       " 6                            Desigualdade e bem-estar     \n",
       " 7                                            Educação     \n",
       " 8                                               Saúde     \n",
       " 9                                              Outros     \n",
       " 10                                           Símbolos     \n",
       " \n",
       "    vdeClassificações das unidades federativas do Brasil.1  \n",
       " 0   Área Densidade demográfica Número de município...      \n",
       " 1   População Densidade demográfica Natalidade Fec...      \n",
       " 2   Sedes governamentais Transparência Arrecadação...      \n",
       " 3   PIB Série histórica 1939 1950 1960 1970 1980 1...      \n",
       " 4   Série histórica 1939 1950 1960 1970 1980 1990 ...      \n",
       " 5   Empregados com carteira assinada Desemprego Ap...      \n",
       " 6   Segurança alimentar Renda per capita IDH segun...      \n",
       " 7   Alfabetização Crianças e adolescentes fora da ...      \n",
       " 8   Mortalidade infantil Óbitos infantis Taxa de h...      \n",
       " 9   Religião Circunscrições eclesiásticas Competit...      \n",
       " 10                                      Brasões Hinos      ,\n",
       "                           0                                                  1\n",
       " 0                       PIB  Série histórica 1939 1950 1960 1970 1980 1990 ...\n",
       " 1                  Trabalho  Empregados com carteira assinada Desemprego Ap...\n",
       " 2  Desigualdade e bem-estar  Segurança alimentar Renda per capita IDH segun...\n",
       " 3                  Educação  Alfabetização Crianças e adolescentes fora da ...\n",
       " 4                     Saúde  Mortalidade infantil Óbitos infantis Taxa de h...\n",
       " 5                    Outros  Religião Circunscrições eclesiásticas Competit...]"
      ]
     },
     "execution_count": 50,
     "metadata": {},
     "output_type": "execute_result"
    }
   ],
   "source": [
    "table_MN"
   ]
  },
  {
   "cell_type": "code",
   "execution_count": 51,
   "metadata": {
    "colab": {
     "base_uri": "https://localhost:8080/",
     "height": 203
    },
    "executionInfo": {
     "elapsed": 1293,
     "status": "ok",
     "timestamp": 1608164019613,
     "user": {
      "displayName": "Orlando O. S.",
      "photoUrl": "https://lh3.googleusercontent.com/a-/AOh14Gj-E1yuy1M_3ruwN4TWYPK4BwysauSW7GQmHheS=s64",
      "userId": "15066502291703974467"
     },
     "user_tz": 180
    },
    "id": "Ja6pDrs5RwZO",
    "outputId": "840dfb21-ca3f-4640-fa83-9332842223be"
   },
   "outputs": [
    {
     "data": {
      "text/html": [
       "<div>\n",
       "<style scoped>\n",
       "    .dataframe tbody tr th:only-of-type {\n",
       "        vertical-align: middle;\n",
       "    }\n",
       "\n",
       "    .dataframe tbody tr th {\n",
       "        vertical-align: top;\n",
       "    }\n",
       "\n",
       "    .dataframe thead th {\n",
       "        text-align: right;\n",
       "    }\n",
       "</style>\n",
       "<table border=\"1\" class=\"dataframe\">\n",
       "  <thead>\n",
       "    <tr style=\"text-align: right;\">\n",
       "      <th></th>\n",
       "      <th>Posição</th>\n",
       "      <th>Unidade federativa</th>\n",
       "      <th>Área (km²)</th>\n",
       "      <th>% doBrasil</th>\n",
       "      <th>País comparável</th>\n",
       "    </tr>\n",
       "  </thead>\n",
       "  <tbody>\n",
       "    <tr>\n",
       "      <th>0</th>\n",
       "      <td>1</td>\n",
       "      <td>Amazonas</td>\n",
       "      <td>1 559 167,889</td>\n",
       "      <td>18321</td>\n",
       "      <td>Mongólia</td>\n",
       "    </tr>\n",
       "    <tr>\n",
       "      <th>1</th>\n",
       "      <td>2</td>\n",
       "      <td>Pará</td>\n",
       "      <td>1 245 870,798</td>\n",
       "      <td>1464</td>\n",
       "      <td>Angola</td>\n",
       "    </tr>\n",
       "    <tr>\n",
       "      <th>2</th>\n",
       "      <td>3</td>\n",
       "      <td>Mato Grosso</td>\n",
       "      <td>903 207,019</td>\n",
       "      <td>10613</td>\n",
       "      <td>Venezuela</td>\n",
       "    </tr>\n",
       "    <tr>\n",
       "      <th>3</th>\n",
       "      <td>4</td>\n",
       "      <td>Minas Gerais</td>\n",
       "      <td>586 521,123</td>\n",
       "      <td>6892</td>\n",
       "      <td>Madagascar</td>\n",
       "    </tr>\n",
       "    <tr>\n",
       "      <th>4</th>\n",
       "      <td>5</td>\n",
       "      <td>Bahia</td>\n",
       "      <td>564 760,427</td>\n",
       "      <td>6636</td>\n",
       "      <td>França</td>\n",
       "    </tr>\n",
       "  </tbody>\n",
       "</table>\n",
       "</div>"
      ],
      "text/plain": [
       "   Posição Unidade federativa     Área (km²)  % doBrasil País comparável\n",
       "0        1           Amazonas  1 559 167,889       18321        Mongólia\n",
       "1        2               Pará  1 245 870,798        1464          Angola\n",
       "2        3        Mato Grosso    903 207,019       10613       Venezuela\n",
       "3        4       Minas Gerais    586 521,123        6892      Madagascar\n",
       "4        5              Bahia    564 760,427        6636          França"
      ]
     },
     "execution_count": 51,
     "metadata": {},
     "output_type": "execute_result"
    }
   ],
   "source": [
    "table_MN[0].head()"
   ]
  },
  {
   "cell_type": "code",
   "execution_count": 52,
   "metadata": {
    "colab": {
     "base_uri": "https://localhost:8080/",
     "height": 880
    },
    "executionInfo": {
     "elapsed": 696,
     "status": "ok",
     "timestamp": 1608164024644,
     "user": {
      "displayName": "Orlando O. S.",
      "photoUrl": "https://lh3.googleusercontent.com/a-/AOh14Gj-E1yuy1M_3ruwN4TWYPK4BwysauSW7GQmHheS=s64",
      "userId": "15066502291703974467"
     },
     "user_tz": 180
    },
    "id": "K8nUoqyzR2DB",
    "outputId": "def12201-cb79-44af-fc9d-efb25fbf7d5f"
   },
   "outputs": [
    {
     "data": {
      "text/html": [
       "<div>\n",
       "<style scoped>\n",
       "    .dataframe tbody tr th:only-of-type {\n",
       "        vertical-align: middle;\n",
       "    }\n",
       "\n",
       "    .dataframe tbody tr th {\n",
       "        vertical-align: top;\n",
       "    }\n",
       "\n",
       "    .dataframe thead th {\n",
       "        text-align: right;\n",
       "    }\n",
       "</style>\n",
       "<table border=\"1\" class=\"dataframe\">\n",
       "  <thead>\n",
       "    <tr style=\"text-align: right;\">\n",
       "      <th></th>\n",
       "      <th>Posição</th>\n",
       "      <th>Região</th>\n",
       "      <th>Área (km²)</th>\n",
       "      <th>% doBrasil</th>\n",
       "      <th>País comparável</th>\n",
       "    </tr>\n",
       "  </thead>\n",
       "  <tbody>\n",
       "    <tr>\n",
       "      <th>0</th>\n",
       "      <td>1</td>\n",
       "      <td>Norte</td>\n",
       "      <td>3 850 509,943</td>\n",
       "      <td>45245</td>\n",
       "      <td>Índia (3 287 263)</td>\n",
       "    </tr>\n",
       "    <tr>\n",
       "      <th>1</th>\n",
       "      <td>2</td>\n",
       "      <td>Centro-Oeste</td>\n",
       "      <td>1 606 316,665</td>\n",
       "      <td>18875</td>\n",
       "      <td>Irã (1 648 195)</td>\n",
       "    </tr>\n",
       "    <tr>\n",
       "      <th>2</th>\n",
       "      <td>3</td>\n",
       "      <td>Nordeste</td>\n",
       "      <td>1 552 167,009</td>\n",
       "      <td>18239</td>\n",
       "      <td>Mongólia (1 564 110)</td>\n",
       "    </tr>\n",
       "    <tr>\n",
       "      <th>3</th>\n",
       "      <td>4</td>\n",
       "      <td>Sudeste</td>\n",
       "      <td>924 565,478</td>\n",
       "      <td>10864</td>\n",
       "      <td>Nigéria (923 768)</td>\n",
       "    </tr>\n",
       "    <tr>\n",
       "      <th>4</th>\n",
       "      <td>5</td>\n",
       "      <td>Sul</td>\n",
       "      <td>576 736,819</td>\n",
       "      <td>6777</td>\n",
       "      <td>Quênia (580 367)</td>\n",
       "    </tr>\n",
       "    <tr>\n",
       "      <th>5</th>\n",
       "      <td>Total</td>\n",
       "      <td>Brasil</td>\n",
       "      <td>8 510 295,914</td>\n",
       "      <td>100</td>\n",
       "      <td>Brasil (8 510 296)</td>\n",
       "    </tr>\n",
       "  </tbody>\n",
       "</table>\n",
       "</div>"
      ],
      "text/plain": [
       "  Posição        Região     Área (km²)  % doBrasil       País comparável\n",
       "0       1         Norte  3 850 509,943       45245     Índia (3 287 263)\n",
       "1       2  Centro-Oeste  1 606 316,665       18875       Irã (1 648 195)\n",
       "2       3      Nordeste  1 552 167,009       18239  Mongólia (1 564 110)\n",
       "3       4       Sudeste    924 565,478       10864     Nigéria (923 768)\n",
       "4       5           Sul    576 736,819        6777      Quênia (580 367)\n",
       "5   Total        Brasil  8 510 295,914         100    Brasil (8 510 296)"
      ]
     },
     "execution_count": 52,
     "metadata": {},
     "output_type": "execute_result"
    }
   ],
   "source": [
    "table_MN[1]"
   ]
  },
  {
   "cell_type": "markdown",
   "metadata": {
    "id": "uVt0VgSzR5-O"
   },
   "source": [
    "## Ajudando panda a encontrar a tabela desejada"
   ]
  },
  {
   "cell_type": "code",
   "execution_count": 54,
   "metadata": {
    "colab": {
     "base_uri": "https://localhost:8080/"
    },
    "executionInfo": {
     "elapsed": 742,
     "status": "ok",
     "timestamp": 1608164062687,
     "user": {
      "displayName": "Orlando O. S.",
      "photoUrl": "https://lh3.googleusercontent.com/a-/AOh14Gj-E1yuy1M_3ruwN4TWYPK4BwysauSW7GQmHheS=s64",
      "userId": "15066502291703974467"
     },
     "user_tz": 180
    },
    "id": "bo8TPmCpnx_-",
    "outputId": "f0e35e9a-f303-4ae6-d24c-4485c9fb3b65"
   },
   "outputs": [
    {
     "data": {
      "text/plain": [
       "1"
      ]
     },
     "execution_count": 54,
     "metadata": {},
     "output_type": "execute_result"
    }
   ],
   "source": [
    "table_MN = pd.read_html('https://pt.wikipedia.org/wiki/Lista_de_unidades_federativas_do_Brasil_por_%C3%A1rea', \n",
    "                        match='Unidade federativa')\n",
    "len(table_MN)"
   ]
  },
  {
   "cell_type": "code",
   "execution_count": 55,
   "metadata": {
    "colab": {
     "base_uri": "https://localhost:8080/",
     "height": 880
    },
    "executionInfo": {
     "elapsed": 766,
     "status": "ok",
     "timestamp": 1608164072971,
     "user": {
      "displayName": "Orlando O. S.",
      "photoUrl": "https://lh3.googleusercontent.com/a-/AOh14Gj-E1yuy1M_3ruwN4TWYPK4BwysauSW7GQmHheS=s64",
      "userId": "15066502291703974467"
     },
     "user_tz": 180
    },
    "id": "2GFFdNkUpeuR",
    "outputId": "35640d58-2f3d-44af-90d1-5b20105cb37d"
   },
   "outputs": [
    {
     "data": {
      "text/html": [
       "<div>\n",
       "<style scoped>\n",
       "    .dataframe tbody tr th:only-of-type {\n",
       "        vertical-align: middle;\n",
       "    }\n",
       "\n",
       "    .dataframe tbody tr th {\n",
       "        vertical-align: top;\n",
       "    }\n",
       "\n",
       "    .dataframe thead th {\n",
       "        text-align: right;\n",
       "    }\n",
       "</style>\n",
       "<table border=\"1\" class=\"dataframe\">\n",
       "  <thead>\n",
       "    <tr style=\"text-align: right;\">\n",
       "      <th></th>\n",
       "      <th>Posição</th>\n",
       "      <th>Unidade federativa</th>\n",
       "      <th>Área (km²)</th>\n",
       "      <th>% doBrasil</th>\n",
       "      <th>País comparável</th>\n",
       "    </tr>\n",
       "  </thead>\n",
       "  <tbody>\n",
       "    <tr>\n",
       "      <th>0</th>\n",
       "      <td>1</td>\n",
       "      <td>Amazonas</td>\n",
       "      <td>1 559 167,889</td>\n",
       "      <td>18321</td>\n",
       "      <td>Mongólia</td>\n",
       "    </tr>\n",
       "    <tr>\n",
       "      <th>1</th>\n",
       "      <td>2</td>\n",
       "      <td>Pará</td>\n",
       "      <td>1 245 870,798</td>\n",
       "      <td>1464</td>\n",
       "      <td>Angola</td>\n",
       "    </tr>\n",
       "    <tr>\n",
       "      <th>2</th>\n",
       "      <td>3</td>\n",
       "      <td>Mato Grosso</td>\n",
       "      <td>903 207,019</td>\n",
       "      <td>10613</td>\n",
       "      <td>Venezuela</td>\n",
       "    </tr>\n",
       "    <tr>\n",
       "      <th>3</th>\n",
       "      <td>4</td>\n",
       "      <td>Minas Gerais</td>\n",
       "      <td>586 521,123</td>\n",
       "      <td>6892</td>\n",
       "      <td>Madagascar</td>\n",
       "    </tr>\n",
       "    <tr>\n",
       "      <th>4</th>\n",
       "      <td>5</td>\n",
       "      <td>Bahia</td>\n",
       "      <td>564 760,427</td>\n",
       "      <td>6636</td>\n",
       "      <td>França</td>\n",
       "    </tr>\n",
       "    <tr>\n",
       "      <th>5</th>\n",
       "      <td>6</td>\n",
       "      <td>Mato Grosso do Sul</td>\n",
       "      <td>357 145,534</td>\n",
       "      <td>4197</td>\n",
       "      <td>Alemanha</td>\n",
       "    </tr>\n",
       "    <tr>\n",
       "      <th>6</th>\n",
       "      <td>7</td>\n",
       "      <td>Goiás</td>\n",
       "      <td>340 203,329</td>\n",
       "      <td>3998</td>\n",
       "      <td>Finlândia</td>\n",
       "    </tr>\n",
       "    <tr>\n",
       "      <th>7</th>\n",
       "      <td>8</td>\n",
       "      <td>Maranhão</td>\n",
       "      <td>329 642,182</td>\n",
       "      <td>3873</td>\n",
       "      <td>Vietnã</td>\n",
       "    </tr>\n",
       "    <tr>\n",
       "      <th>8</th>\n",
       "      <td>9</td>\n",
       "      <td>Rio Grande do Sul</td>\n",
       "      <td>281 707,156</td>\n",
       "      <td>331</td>\n",
       "      <td>Equador</td>\n",
       "    </tr>\n",
       "    <tr>\n",
       "      <th>9</th>\n",
       "      <td>10</td>\n",
       "      <td>Tocantins</td>\n",
       "      <td>277 466,763</td>\n",
       "      <td>326</td>\n",
       "      <td>Burkina Faso</td>\n",
       "    </tr>\n",
       "    <tr>\n",
       "      <th>10</th>\n",
       "      <td>11</td>\n",
       "      <td>Piauí</td>\n",
       "      <td>251 756,515</td>\n",
       "      <td>2958</td>\n",
       "      <td>Guiné</td>\n",
       "    </tr>\n",
       "    <tr>\n",
       "      <th>11</th>\n",
       "      <td>12</td>\n",
       "      <td>São Paulo</td>\n",
       "      <td>248 219,481</td>\n",
       "      <td>2917</td>\n",
       "      <td>Reino Unido</td>\n",
       "    </tr>\n",
       "    <tr>\n",
       "      <th>12</th>\n",
       "      <td>13</td>\n",
       "      <td>Rondônia</td>\n",
       "      <td>237 765,24</td>\n",
       "      <td>2794</td>\n",
       "      <td>Laos</td>\n",
       "    </tr>\n",
       "    <tr>\n",
       "      <th>13</th>\n",
       "      <td>14</td>\n",
       "      <td>Roraima</td>\n",
       "      <td>223 644,527</td>\n",
       "      <td>2628</td>\n",
       "      <td>Guiana</td>\n",
       "    </tr>\n",
       "    <tr>\n",
       "      <th>14</th>\n",
       "      <td>15</td>\n",
       "      <td>Paraná</td>\n",
       "      <td>199 298,979</td>\n",
       "      <td>2342</td>\n",
       "      <td>Quirguistão</td>\n",
       "    </tr>\n",
       "    <tr>\n",
       "      <th>15</th>\n",
       "      <td>16</td>\n",
       "      <td>Acre</td>\n",
       "      <td>164 123,964</td>\n",
       "      <td>1929</td>\n",
       "      <td>Suriname</td>\n",
       "    </tr>\n",
       "    <tr>\n",
       "      <th>16</th>\n",
       "      <td>17</td>\n",
       "      <td>Ceará</td>\n",
       "      <td>148 894,441</td>\n",
       "      <td>175</td>\n",
       "      <td>Nepal</td>\n",
       "    </tr>\n",
       "    <tr>\n",
       "      <th>17</th>\n",
       "      <td>18</td>\n",
       "      <td>Amapá</td>\n",
       "      <td>142 470,762</td>\n",
       "      <td>1674</td>\n",
       "      <td>Tajiquistão</td>\n",
       "    </tr>\n",
       "    <tr>\n",
       "      <th>18</th>\n",
       "      <td>19</td>\n",
       "      <td>Pernambuco</td>\n",
       "      <td>98 067,881</td>\n",
       "      <td>1152</td>\n",
       "      <td>Coreia do Sul</td>\n",
       "    </tr>\n",
       "    <tr>\n",
       "      <th>19</th>\n",
       "      <td>20</td>\n",
       "      <td>Santa Catarina</td>\n",
       "      <td>95 730,684</td>\n",
       "      <td>1125</td>\n",
       "      <td>Portugal</td>\n",
       "    </tr>\n",
       "    <tr>\n",
       "      <th>20</th>\n",
       "      <td>21</td>\n",
       "      <td>Paraíba</td>\n",
       "      <td>56 467,242</td>\n",
       "      <td>664</td>\n",
       "      <td>Croácia</td>\n",
       "    </tr>\n",
       "    <tr>\n",
       "      <th>21</th>\n",
       "      <td>22</td>\n",
       "      <td>Rio Grande do Norte</td>\n",
       "      <td>52 809,602</td>\n",
       "      <td>621</td>\n",
       "      <td>Bósnia e Herzegovina</td>\n",
       "    </tr>\n",
       "    <tr>\n",
       "      <th>22</th>\n",
       "      <td>23</td>\n",
       "      <td>Espírito Santo</td>\n",
       "      <td>46 074,447</td>\n",
       "      <td>541</td>\n",
       "      <td>Estônia</td>\n",
       "    </tr>\n",
       "    <tr>\n",
       "      <th>23</th>\n",
       "      <td>24</td>\n",
       "      <td>Rio de Janeiro</td>\n",
       "      <td>43 750,427</td>\n",
       "      <td>514</td>\n",
       "      <td>Dinamarca</td>\n",
       "    </tr>\n",
       "    <tr>\n",
       "      <th>24</th>\n",
       "      <td>25</td>\n",
       "      <td>Alagoas</td>\n",
       "      <td>27 843,295</td>\n",
       "      <td>327</td>\n",
       "      <td>Haiti</td>\n",
       "    </tr>\n",
       "    <tr>\n",
       "      <th>25</th>\n",
       "      <td>26</td>\n",
       "      <td>Sergipe</td>\n",
       "      <td>21 925,424</td>\n",
       "      <td>258</td>\n",
       "      <td>El Salvador</td>\n",
       "    </tr>\n",
       "    <tr>\n",
       "      <th>26</th>\n",
       "      <td>27</td>\n",
       "      <td>Distrito Federal</td>\n",
       "      <td>5 760,783</td>\n",
       "      <td>68</td>\n",
       "      <td>Brunei</td>\n",
       "    </tr>\n",
       "  </tbody>\n",
       "</table>\n",
       "</div>"
      ],
      "text/plain": [
       "    Posição   Unidade federativa     Área (km²)  % doBrasil  \\\n",
       "0         1             Amazonas  1 559 167,889       18321   \n",
       "1         2                 Pará  1 245 870,798        1464   \n",
       "2         3          Mato Grosso    903 207,019       10613   \n",
       "3         4         Minas Gerais    586 521,123        6892   \n",
       "4         5                Bahia    564 760,427        6636   \n",
       "5         6   Mato Grosso do Sul    357 145,534        4197   \n",
       "6         7                Goiás    340 203,329        3998   \n",
       "7         8             Maranhão    329 642,182        3873   \n",
       "8         9    Rio Grande do Sul    281 707,156         331   \n",
       "9        10            Tocantins    277 466,763         326   \n",
       "10       11                Piauí    251 756,515        2958   \n",
       "11       12            São Paulo    248 219,481        2917   \n",
       "12       13             Rondônia     237 765,24        2794   \n",
       "13       14              Roraima    223 644,527        2628   \n",
       "14       15               Paraná    199 298,979        2342   \n",
       "15       16                 Acre    164 123,964        1929   \n",
       "16       17                Ceará    148 894,441         175   \n",
       "17       18                Amapá    142 470,762        1674   \n",
       "18       19           Pernambuco     98 067,881        1152   \n",
       "19       20       Santa Catarina     95 730,684        1125   \n",
       "20       21              Paraíba     56 467,242         664   \n",
       "21       22  Rio Grande do Norte     52 809,602         621   \n",
       "22       23       Espírito Santo     46 074,447         541   \n",
       "23       24       Rio de Janeiro     43 750,427         514   \n",
       "24       25              Alagoas     27 843,295         327   \n",
       "25       26              Sergipe     21 925,424         258   \n",
       "26       27     Distrito Federal      5 760,783          68   \n",
       "\n",
       "         País comparável  \n",
       "0               Mongólia  \n",
       "1                 Angola  \n",
       "2              Venezuela  \n",
       "3             Madagascar  \n",
       "4                 França  \n",
       "5               Alemanha  \n",
       "6              Finlândia  \n",
       "7                 Vietnã  \n",
       "8                Equador  \n",
       "9           Burkina Faso  \n",
       "10                 Guiné  \n",
       "11           Reino Unido  \n",
       "12                  Laos  \n",
       "13                Guiana  \n",
       "14           Quirguistão  \n",
       "15              Suriname  \n",
       "16                 Nepal  \n",
       "17           Tajiquistão  \n",
       "18         Coreia do Sul  \n",
       "19              Portugal  \n",
       "20               Croácia  \n",
       "21  Bósnia e Herzegovina  \n",
       "22               Estônia  \n",
       "23             Dinamarca  \n",
       "24                 Haiti  \n",
       "25           El Salvador  \n",
       "26                Brunei  "
      ]
     },
     "execution_count": 55,
     "metadata": {},
     "output_type": "execute_result"
    }
   ],
   "source": [
    "table_MN[0]"
   ]
  },
  {
   "cell_type": "code",
   "execution_count": 56,
   "metadata": {
    "colab": {
     "base_uri": "https://localhost:8080/"
    },
    "executionInfo": {
     "elapsed": 745,
     "status": "ok",
     "timestamp": 1608164102223,
     "user": {
      "displayName": "Orlando O. S.",
      "photoUrl": "https://lh3.googleusercontent.com/a-/AOh14Gj-E1yuy1M_3ruwN4TWYPK4BwysauSW7GQmHheS=s64",
      "userId": "15066502291703974467"
     },
     "user_tz": 180
    },
    "id": "MVm3chXGSO1c",
    "outputId": "c0288d36-25b7-4832-de90-f3eb65c45a6a"
   },
   "outputs": [
    {
     "name": "stdout",
     "output_type": "stream",
     "text": [
      "Help on function read_html in module pandas.io.html:\n",
      "\n",
      "read_html(io: Union[ForwardRef('PathLike[str]'), str, IO[~T], io.RawIOBase, io.BufferedIOBase, io.TextIOBase, _io.TextIOWrapper, mmap.mmap], match: Union[str, Pattern] = '.+', flavor: Union[str, NoneType] = None, header: Union[int, Sequence[int], NoneType] = None, index_col: Union[int, Sequence[int], NoneType] = None, skiprows: Union[int, Sequence[int], slice, NoneType] = None, attrs: Union[Dict[str, str], NoneType] = None, parse_dates: bool = False, thousands: Union[str, NoneType] = ',', encoding: Union[str, NoneType] = None, decimal: str = '.', converters: Union[Dict, NoneType] = None, na_values=None, keep_default_na: bool = True, displayed_only: bool = True) -> List[pandas.core.frame.DataFrame]\n",
      "    Read HTML tables into a ``list`` of ``DataFrame`` objects.\n",
      "    \n",
      "    Parameters\n",
      "    ----------\n",
      "    io : str, path object or file-like object\n",
      "        A URL, a file-like object, or a raw string containing HTML. Note that\n",
      "        lxml only accepts the http, ftp and file url protocols. If you have a\n",
      "        URL that starts with ``'https'`` you might try removing the ``'s'``.\n",
      "    \n",
      "    match : str or compiled regular expression, optional\n",
      "        The set of tables containing text matching this regex or string will be\n",
      "        returned. Unless the HTML is extremely simple you will probably need to\n",
      "        pass a non-empty string here. Defaults to '.+' (match any non-empty\n",
      "        string). The default value will return all tables contained on a page.\n",
      "        This value is converted to a regular expression so that there is\n",
      "        consistent behavior between Beautiful Soup and lxml.\n",
      "    \n",
      "    flavor : str, optional\n",
      "        The parsing engine to use. 'bs4' and 'html5lib' are synonymous with\n",
      "        each other, they are both there for backwards compatibility. The\n",
      "        default of ``None`` tries to use ``lxml`` to parse and if that fails it\n",
      "        falls back on ``bs4`` + ``html5lib``.\n",
      "    \n",
      "    header : int or list-like, optional\n",
      "        The row (or list of rows for a :class:`~pandas.MultiIndex`) to use to\n",
      "        make the columns headers.\n",
      "    \n",
      "    index_col : int or list-like, optional\n",
      "        The column (or list of columns) to use to create the index.\n",
      "    \n",
      "    skiprows : int, list-like or slice, optional\n",
      "        Number of rows to skip after parsing the column integer. 0-based. If a\n",
      "        sequence of integers or a slice is given, will skip the rows indexed by\n",
      "        that sequence.  Note that a single element sequence means 'skip the nth\n",
      "        row' whereas an integer means 'skip n rows'.\n",
      "    \n",
      "    attrs : dict, optional\n",
      "        This is a dictionary of attributes that you can pass to use to identify\n",
      "        the table in the HTML. These are not checked for validity before being\n",
      "        passed to lxml or Beautiful Soup. However, these attributes must be\n",
      "        valid HTML table attributes to work correctly. For example, ::\n",
      "    \n",
      "            attrs = {'id': 'table'}\n",
      "    \n",
      "        is a valid attribute dictionary because the 'id' HTML tag attribute is\n",
      "        a valid HTML attribute for *any* HTML tag as per `this document\n",
      "        <https://html.spec.whatwg.org/multipage/dom.html#global-attributes>`__. ::\n",
      "    \n",
      "            attrs = {'asdf': 'table'}\n",
      "    \n",
      "        is *not* a valid attribute dictionary because 'asdf' is not a valid\n",
      "        HTML attribute even if it is a valid XML attribute.  Valid HTML 4.01\n",
      "        table attributes can be found `here\n",
      "        <http://www.w3.org/TR/REC-html40/struct/tables.html#h-11.2>`__. A\n",
      "        working draft of the HTML 5 spec can be found `here\n",
      "        <https://html.spec.whatwg.org/multipage/tables.html>`__. It contains the\n",
      "        latest information on table attributes for the modern web.\n",
      "    \n",
      "    parse_dates : bool, optional\n",
      "        See :func:`~read_csv` for more details.\n",
      "    \n",
      "    thousands : str, optional\n",
      "        Separator to use to parse thousands. Defaults to ``','``.\n",
      "    \n",
      "    encoding : str, optional\n",
      "        The encoding used to decode the web page. Defaults to ``None``.``None``\n",
      "        preserves the previous encoding behavior, which depends on the\n",
      "        underlying parser library (e.g., the parser library will try to use\n",
      "        the encoding provided by the document).\n",
      "    \n",
      "    decimal : str, default '.'\n",
      "        Character to recognize as decimal point (e.g. use ',' for European\n",
      "        data).\n",
      "    \n",
      "    converters : dict, default None\n",
      "        Dict of functions for converting values in certain columns. Keys can\n",
      "        either be integers or column labels, values are functions that take one\n",
      "        input argument, the cell (not column) content, and return the\n",
      "        transformed content.\n",
      "    \n",
      "    na_values : iterable, default None\n",
      "        Custom NA values.\n",
      "    \n",
      "    keep_default_na : bool, default True\n",
      "        If na_values are specified and keep_default_na is False the default NaN\n",
      "        values are overridden, otherwise they're appended to.\n",
      "    \n",
      "    displayed_only : bool, default True\n",
      "        Whether elements with \"display: none\" should be parsed.\n",
      "    \n",
      "    Returns\n",
      "    -------\n",
      "    dfs\n",
      "        A list of DataFrames.\n",
      "    \n",
      "    See Also\n",
      "    --------\n",
      "    read_csv : Read a comma-separated values (csv) file into DataFrame.\n",
      "    \n",
      "    Notes\n",
      "    -----\n",
      "    Before using this function you should read the :ref:`gotchas about the\n",
      "    HTML parsing libraries <io.html.gotchas>`.\n",
      "    \n",
      "    Expect to do some cleanup after you call this function. For example, you\n",
      "    might need to manually assign column names if the column names are\n",
      "    converted to NaN when you pass the `header=0` argument. We try to assume as\n",
      "    little as possible about the structure of the table and push the\n",
      "    idiosyncrasies of the HTML contained in the table to the user.\n",
      "    \n",
      "    This function searches for ``<table>`` elements and only for ``<tr>``\n",
      "    and ``<th>`` rows and ``<td>`` elements within each ``<tr>`` or ``<th>``\n",
      "    element in the table. ``<td>`` stands for \"table data\". This function\n",
      "    attempts to properly handle ``colspan`` and ``rowspan`` attributes.\n",
      "    If the function has a ``<thead>`` argument, it is used to construct\n",
      "    the header, otherwise the function attempts to find the header within\n",
      "    the body (by putting rows with only ``<th>`` elements into the header).\n",
      "    \n",
      "    Similar to :func:`~read_csv` the `header` argument is applied\n",
      "    **after** `skiprows` is applied.\n",
      "    \n",
      "    This function will *always* return a list of :class:`DataFrame` *or*\n",
      "    it will fail, e.g., it will *not* return an empty list.\n",
      "    \n",
      "    Examples\n",
      "    --------\n",
      "    See the :ref:`read_html documentation in the IO section of the docs\n",
      "    <io.read_html>` for some examples of reading in HTML tables.\n",
      "\n"
     ]
    }
   ],
   "source": [
    "help(pd.read_html)"
   ]
  }
 ],
 "metadata": {
  "colab": {
   "authorship_tag": "ABX9TyOtjIAKnWR52fQAJYT4deq5",
   "collapsed_sections": [],
   "name": "Aulas sobre Web Scrapping com Python - Conteúdo HTML.ipynb",
   "provenance": [
    {
     "file_id": "1AODJ6glMNure6tKgcdSK8pbHIPElpfRD",
     "timestamp": 1607999515005
    }
   ]
  },
  "kernelspec": {
   "display_name": "Python 3",
   "language": "python",
   "name": "python3"
  },
  "language_info": {
   "codemirror_mode": {
    "name": "ipython",
    "version": 3
   },
   "file_extension": ".py",
   "mimetype": "text/x-python",
   "name": "python",
   "nbconvert_exporter": "python",
   "pygments_lexer": "ipython3",
   "version": "3.7.8"
  }
 },
 "nbformat": 4,
 "nbformat_minor": 1
}
