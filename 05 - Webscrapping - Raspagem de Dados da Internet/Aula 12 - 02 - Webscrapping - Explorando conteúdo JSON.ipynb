{
 "cells": [
  {
   "cell_type": "markdown",
   "metadata": {
    "id": "oR9mUt4l_TrP"
   },
   "source": [
    "# 05 - Webscrapping - Raspagem de Dados da Internet\n",
    "## Aula 12 - 02 - Webscrapping - Explorando conteúdo JSON"
   ]
  },
  {
   "cell_type": "markdown",
   "metadata": {
    "id": "N0tV_hcv_TrX"
   },
   "source": [
    "## Professor: Orlando Oliveira dos Santos, MsC.\n",
    " - E-mail: professor.orlando.santos@gmail.com \n",
    " - Youtube :https://www.youtube.com/channel/UCPWWbkPWFmOjXH50TQWNAYg\n",
    " - Linkedin: https://linkedin.com/in/orlandoosantos\n",
    " - Facebook: https://www.facebook.com/proforlandosantosmsc/\n",
    " - Twitter: https://twitter.com/ProfOrlandoMsC\n",
    " - Instagram: https://www.instagram.com/proforlandosantosmsc/\n",
    "\n",
    "\n",
    "\n",
    "## Formação Acadêmica\n",
    "- Mestrado em Computação Aplicada - UnB (2014 – 2016)\t\n",
    "- MBA, Administração Estratégica de Sistemas de Informação – FGV (2011 – 2013)\n",
    "- Tecnólogo em Processamento de Dados, Análise e Desenvolvimento de Sistemas – FAETEC/SP (2000-2002)"
   ]
  },
  {
   "cell_type": "markdown",
   "metadata": {
    "id": "hQJMFiYT_Trb"
   },
   "source": [
    "#  Webscrapping - Explorando conteúdo JSON"
   ]
  },
  {
   "cell_type": "markdown",
   "metadata": {
    "id": "ZXbqpE_9CKHD"
   },
   "source": [
    "# Acessando e Manipulando Arquivos JSON com requests e Json\n",
    "\n",
    "- Especificação do formato  JSON (JavaScript Object Notation)\n",
    "https://www.json.org/json-en.html\n",
    "\n",
    "- Requests é uma biblioteca HTTP para Python simples e elegante, feita para seres humanos. https://requests.readthedocs.io/pt_BR/latest/index.html\n",
    "\n",
    "\n",
    "- Python json é uma biblioteca para codificar e decodificar JSON \n",
    "https://docs.python.org/3/library/json.html"
   ]
  },
  {
   "cell_type": "markdown",
   "metadata": {
    "id": "91HRCypOF4BB"
   },
   "source": [
    "## Decodificando o conteúdo no formato Json com método json.loads()\n",
    "\n",
    "### Exemplo de Acesso a API de localidades do IBGE"
   ]
  },
  {
   "cell_type": "code",
   "execution_count": 1,
   "metadata": {
    "colab": {
     "base_uri": "https://localhost:8080/"
    },
    "executionInfo": {
     "elapsed": 1499,
     "status": "ok",
     "timestamp": 1607990526912,
     "user": {
      "displayName": "Orlando O. S.",
      "photoUrl": "https://lh3.googleusercontent.com/a-/AOh14Gj-E1yuy1M_3ruwN4TWYPK4BwysauSW7GQmHheS=s64",
      "userId": "15066502291703974467"
     },
     "user_tz": 180
    },
    "id": "vFRW1qZjF5VA",
    "outputId": "ba7612d7-fe2b-4f19-bcae-0ebc804b4cd4"
   },
   "outputs": [
    {
     "name": "stdout",
     "output_type": "stream",
     "text": [
      "[{'id': 11, 'sigla': 'RO', 'nome': 'Rondônia', 'regiao': {'id': 1, 'sigla': 'N', 'nome': 'Norte'}}, {'id': 12, 'sigla': 'AC', 'nome': 'Acre', 'regiao': {'id': 1, 'sigla': 'N', 'nome': 'Norte'}}, {'id': 13, 'sigla': 'AM', 'nome': 'Amazonas', 'regiao': {'id': 1, 'sigla': 'N', 'nome': 'Norte'}}, {'id': 14, 'sigla': 'RR', 'nome': 'Roraima', 'regiao': {'id': 1, 'sigla': 'N', 'nome': 'Norte'}}, {'id': 15, 'sigla': 'PA', 'nome': 'Pará', 'regiao': {'id': 1, 'sigla': 'N', 'nome': 'Norte'}}, {'id': 16, 'sigla': 'AP', 'nome': 'Amapá', 'regiao': {'id': 1, 'sigla': 'N', 'nome': 'Norte'}}, {'id': 17, 'sigla': 'TO', 'nome': 'Tocantins', 'regiao': {'id': 1, 'sigla': 'N', 'nome': 'Norte'}}, {'id': 21, 'sigla': 'MA', 'nome': 'Maranhão', 'regiao': {'id': 2, 'sigla': 'NE', 'nome': 'Nordeste'}}, {'id': 22, 'sigla': 'PI', 'nome': 'Piauí', 'regiao': {'id': 2, 'sigla': 'NE', 'nome': 'Nordeste'}}, {'id': 23, 'sigla': 'CE', 'nome': 'Ceará', 'regiao': {'id': 2, 'sigla': 'NE', 'nome': 'Nordeste'}}, {'id': 24, 'sigla': 'RN', 'nome': 'Rio Grande do Norte', 'regiao': {'id': 2, 'sigla': 'NE', 'nome': 'Nordeste'}}, {'id': 25, 'sigla': 'PB', 'nome': 'Paraíba', 'regiao': {'id': 2, 'sigla': 'NE', 'nome': 'Nordeste'}}, {'id': 26, 'sigla': 'PE', 'nome': 'Pernambuco', 'regiao': {'id': 2, 'sigla': 'NE', 'nome': 'Nordeste'}}, {'id': 27, 'sigla': 'AL', 'nome': 'Alagoas', 'regiao': {'id': 2, 'sigla': 'NE', 'nome': 'Nordeste'}}, {'id': 28, 'sigla': 'SE', 'nome': 'Sergipe', 'regiao': {'id': 2, 'sigla': 'NE', 'nome': 'Nordeste'}}, {'id': 29, 'sigla': 'BA', 'nome': 'Bahia', 'regiao': {'id': 2, 'sigla': 'NE', 'nome': 'Nordeste'}}, {'id': 31, 'sigla': 'MG', 'nome': 'Minas Gerais', 'regiao': {'id': 3, 'sigla': 'SE', 'nome': 'Sudeste'}}, {'id': 32, 'sigla': 'ES', 'nome': 'Espírito Santo', 'regiao': {'id': 3, 'sigla': 'SE', 'nome': 'Sudeste'}}, {'id': 33, 'sigla': 'RJ', 'nome': 'Rio de Janeiro', 'regiao': {'id': 3, 'sigla': 'SE', 'nome': 'Sudeste'}}, {'id': 35, 'sigla': 'SP', 'nome': 'São Paulo', 'regiao': {'id': 3, 'sigla': 'SE', 'nome': 'Sudeste'}}, {'id': 41, 'sigla': 'PR', 'nome': 'Paraná', 'regiao': {'id': 4, 'sigla': 'S', 'nome': 'Sul'}}, {'id': 42, 'sigla': 'SC', 'nome': 'Santa Catarina', 'regiao': {'id': 4, 'sigla': 'S', 'nome': 'Sul'}}, {'id': 43, 'sigla': 'RS', 'nome': 'Rio Grande do Sul', 'regiao': {'id': 4, 'sigla': 'S', 'nome': 'Sul'}}, {'id': 50, 'sigla': 'MS', 'nome': 'Mato Grosso do Sul', 'regiao': {'id': 5, 'sigla': 'CO', 'nome': 'Centro-Oeste'}}, {'id': 51, 'sigla': 'MT', 'nome': 'Mato Grosso', 'regiao': {'id': 5, 'sigla': 'CO', 'nome': 'Centro-Oeste'}}, {'id': 52, 'sigla': 'GO', 'nome': 'Goiás', 'regiao': {'id': 5, 'sigla': 'CO', 'nome': 'Centro-Oeste'}}, {'id': 53, 'sigla': 'DF', 'nome': 'Distrito Federal', 'regiao': {'id': 5, 'sigla': 'CO', 'nome': 'Centro-Oeste'}}]\n"
     ]
    }
   ],
   "source": [
    "import requests\n",
    "import json\n",
    "url = 'https://servicodados.ibge.gov.br/api/v1/localidades/estados'\n",
    "r = requests.get(url)\n",
    "json_pesquisas = json.loads(r.text)\n",
    "print(json_pesquisas)"
   ]
  },
  {
   "cell_type": "markdown",
   "metadata": {
    "id": "uGjtgV7ePJnt"
   },
   "source": [
    "## Decodificando o conteúdo no formato Json com método response.json()\n",
    "\n",
    "### Exemplo de Acesso a API de localidades do IBGE\n",
    "\n"
   ]
  },
  {
   "cell_type": "code",
   "execution_count": 2,
   "metadata": {
    "colab": {
     "base_uri": "https://localhost:8080/"
    },
    "executionInfo": {
     "elapsed": 1583,
     "status": "ok",
     "timestamp": 1607990553571,
     "user": {
      "displayName": "Orlando O. S.",
      "photoUrl": "https://lh3.googleusercontent.com/a-/AOh14Gj-E1yuy1M_3ruwN4TWYPK4BwysauSW7GQmHheS=s64",
      "userId": "15066502291703974467"
     },
     "user_tz": 180
    },
    "id": "LMjpUgCbQaZM",
    "outputId": "8b656cf4-27b2-420d-af88-35e60f8d06c9"
   },
   "outputs": [
    {
     "name": "stdout",
     "output_type": "stream",
     "text": [
      "[{'id': 11, 'sigla': 'RO', 'nome': 'Rondônia', 'regiao': {'id': 1, 'sigla': 'N', 'nome': 'Norte'}}, {'id': 12, 'sigla': 'AC', 'nome': 'Acre', 'regiao': {'id': 1, 'sigla': 'N', 'nome': 'Norte'}}, {'id': 13, 'sigla': 'AM', 'nome': 'Amazonas', 'regiao': {'id': 1, 'sigla': 'N', 'nome': 'Norte'}}, {'id': 14, 'sigla': 'RR', 'nome': 'Roraima', 'regiao': {'id': 1, 'sigla': 'N', 'nome': 'Norte'}}, {'id': 15, 'sigla': 'PA', 'nome': 'Pará', 'regiao': {'id': 1, 'sigla': 'N', 'nome': 'Norte'}}, {'id': 16, 'sigla': 'AP', 'nome': 'Amapá', 'regiao': {'id': 1, 'sigla': 'N', 'nome': 'Norte'}}, {'id': 17, 'sigla': 'TO', 'nome': 'Tocantins', 'regiao': {'id': 1, 'sigla': 'N', 'nome': 'Norte'}}, {'id': 21, 'sigla': 'MA', 'nome': 'Maranhão', 'regiao': {'id': 2, 'sigla': 'NE', 'nome': 'Nordeste'}}, {'id': 22, 'sigla': 'PI', 'nome': 'Piauí', 'regiao': {'id': 2, 'sigla': 'NE', 'nome': 'Nordeste'}}, {'id': 23, 'sigla': 'CE', 'nome': 'Ceará', 'regiao': {'id': 2, 'sigla': 'NE', 'nome': 'Nordeste'}}, {'id': 24, 'sigla': 'RN', 'nome': 'Rio Grande do Norte', 'regiao': {'id': 2, 'sigla': 'NE', 'nome': 'Nordeste'}}, {'id': 25, 'sigla': 'PB', 'nome': 'Paraíba', 'regiao': {'id': 2, 'sigla': 'NE', 'nome': 'Nordeste'}}, {'id': 26, 'sigla': 'PE', 'nome': 'Pernambuco', 'regiao': {'id': 2, 'sigla': 'NE', 'nome': 'Nordeste'}}, {'id': 27, 'sigla': 'AL', 'nome': 'Alagoas', 'regiao': {'id': 2, 'sigla': 'NE', 'nome': 'Nordeste'}}, {'id': 28, 'sigla': 'SE', 'nome': 'Sergipe', 'regiao': {'id': 2, 'sigla': 'NE', 'nome': 'Nordeste'}}, {'id': 29, 'sigla': 'BA', 'nome': 'Bahia', 'regiao': {'id': 2, 'sigla': 'NE', 'nome': 'Nordeste'}}, {'id': 31, 'sigla': 'MG', 'nome': 'Minas Gerais', 'regiao': {'id': 3, 'sigla': 'SE', 'nome': 'Sudeste'}}, {'id': 32, 'sigla': 'ES', 'nome': 'Espírito Santo', 'regiao': {'id': 3, 'sigla': 'SE', 'nome': 'Sudeste'}}, {'id': 33, 'sigla': 'RJ', 'nome': 'Rio de Janeiro', 'regiao': {'id': 3, 'sigla': 'SE', 'nome': 'Sudeste'}}, {'id': 35, 'sigla': 'SP', 'nome': 'São Paulo', 'regiao': {'id': 3, 'sigla': 'SE', 'nome': 'Sudeste'}}, {'id': 41, 'sigla': 'PR', 'nome': 'Paraná', 'regiao': {'id': 4, 'sigla': 'S', 'nome': 'Sul'}}, {'id': 42, 'sigla': 'SC', 'nome': 'Santa Catarina', 'regiao': {'id': 4, 'sigla': 'S', 'nome': 'Sul'}}, {'id': 43, 'sigla': 'RS', 'nome': 'Rio Grande do Sul', 'regiao': {'id': 4, 'sigla': 'S', 'nome': 'Sul'}}, {'id': 50, 'sigla': 'MS', 'nome': 'Mato Grosso do Sul', 'regiao': {'id': 5, 'sigla': 'CO', 'nome': 'Centro-Oeste'}}, {'id': 51, 'sigla': 'MT', 'nome': 'Mato Grosso', 'regiao': {'id': 5, 'sigla': 'CO', 'nome': 'Centro-Oeste'}}, {'id': 52, 'sigla': 'GO', 'nome': 'Goiás', 'regiao': {'id': 5, 'sigla': 'CO', 'nome': 'Centro-Oeste'}}, {'id': 53, 'sigla': 'DF', 'nome': 'Distrito Federal', 'regiao': {'id': 5, 'sigla': 'CO', 'nome': 'Centro-Oeste'}}]\n"
     ]
    }
   ],
   "source": [
    "import requests\n",
    "url = 'https://servicodados.ibge.gov.br/api/v1/localidades/estados'\n",
    "r = requests.get(url)\n",
    "json_pesquisas = r.json()\n",
    "print(json_pesquisas)"
   ]
  },
  {
   "cell_type": "markdown",
   "metadata": {
    "id": "R0dV33I_5AoE"
   },
   "source": [
    "### gerando uma tupla ordenada com o dados dos estados"
   ]
  },
  {
   "cell_type": "code",
   "execution_count": 3,
   "metadata": {
    "colab": {
     "base_uri": "https://localhost:8080/"
    },
    "executionInfo": {
     "elapsed": 782,
     "status": "ok",
     "timestamp": 1607985287207,
     "user": {
      "displayName": "Orlando O. S.",
      "photoUrl": "https://lh3.googleusercontent.com/a-/AOh14Gj-E1yuy1M_3ruwN4TWYPK4BwysauSW7GQmHheS=s64",
      "userId": "15066502291703974467"
     },
     "user_tz": 180
    },
    "id": "B-YDctNBQvp0",
    "outputId": "d6479a58-cead-4485-a778-0c006267cb8d"
   },
   "outputs": [
    {
     "name": "stdout",
     "output_type": "stream",
     "text": [
      "('Acre', 'AC', 12, 'Norte')\n",
      "('Alagoas', 'AL', 27, 'Nordeste')\n",
      "('Amapá', 'AP', 16, 'Norte')\n",
      "('Amazonas', 'AM', 13, 'Norte')\n",
      "('Bahia', 'BA', 29, 'Nordeste')\n",
      "('Ceará', 'CE', 23, 'Nordeste')\n",
      "('Distrito Federal', 'DF', 53, 'Centro-Oeste')\n",
      "('Espírito Santo', 'ES', 32, 'Sudeste')\n",
      "('Goiás', 'GO', 52, 'Centro-Oeste')\n",
      "('Maranhão', 'MA', 21, 'Nordeste')\n",
      "('Mato Grosso', 'MT', 51, 'Centro-Oeste')\n",
      "('Mato Grosso do Sul', 'MS', 50, 'Centro-Oeste')\n",
      "('Minas Gerais', 'MG', 31, 'Sudeste')\n",
      "('Paraná', 'PR', 41, 'Sul')\n",
      "('Paraíba', 'PB', 25, 'Nordeste')\n",
      "('Pará', 'PA', 15, 'Norte')\n",
      "('Pernambuco', 'PE', 26, 'Nordeste')\n",
      "('Piauí', 'PI', 22, 'Nordeste')\n",
      "('Rio Grande do Norte', 'RN', 24, 'Nordeste')\n",
      "('Rio Grande do Sul', 'RS', 43, 'Sul')\n",
      "('Rio de Janeiro', 'RJ', 33, 'Sudeste')\n",
      "('Rondônia', 'RO', 11, 'Norte')\n",
      "('Roraima', 'RR', 14, 'Norte')\n",
      "('Santa Catarina', 'SC', 42, 'Sul')\n",
      "('Sergipe', 'SE', 28, 'Nordeste')\n",
      "('São Paulo', 'SP', 35, 'Sudeste')\n",
      "('Tocantins', 'TO', 17, 'Norte')\n"
     ]
    }
   ],
   "source": [
    "estados_tuplas = sorted([(pesq['nome'],pesq['sigla'],pesq['id'], pesq['regiao']['nome']) \\\n",
    "                            for pesq in json_pesquisas], key=lambda x : x[0])\n",
    "for tup in estados_tuplas:\n",
    "  print(tup)"
   ]
  },
  {
   "cell_type": "markdown",
   "metadata": {
    "id": "mPKinf4Chbu-"
   },
   "source": [
    "### Exemplo de Acesso a API de agregados do IBGE\n",
    "\n",
    "### Obtendo a lista de agragados"
   ]
  },
  {
   "cell_type": "code",
   "execution_count": 4,
   "metadata": {
    "colab": {
     "base_uri": "https://localhost:8080/"
    },
    "executionInfo": {
     "elapsed": 3941,
     "status": "ok",
     "timestamp": 1607990708267,
     "user": {
      "displayName": "Orlando O. S.",
      "photoUrl": "https://lh3.googleusercontent.com/a-/AOh14Gj-E1yuy1M_3ruwN4TWYPK4BwysauSW7GQmHheS=s64",
      "userId": "15066502291703974467"
     },
     "user_tz": 180
    },
    "id": "FpoynVDSP1Fn",
    "outputId": "c16cdd80-12c5-44d7-8164-ac178423885f"
   },
   "outputs": [
    {
     "data": {
      "text/plain": [
       "[(0, 'Cadastro Central de Empresas', 'CL'),\n",
       " (1, 'Censo Agropecuário', 'CA'),\n",
       " (2, 'Censo Comum do Mercosul, Bolívia e Chile', 'ME'),\n",
       " (3, 'Censo Demográfico', 'CD'),\n",
       " (4, 'Contagem da População ', 'CM'),\n",
       " (7, 'Contas Econômicas Ambientais da Água', 'C4'),\n",
       " (8, 'Contas Econômicas Ambientais de Energia: produtos da biomassa', 'DZ'),\n",
       " (9, 'Contas Nacionais Anuais', 'SU'),\n",
       " (10, 'Contas Nacionais Trimestrais', 'ST'),\n",
       " (6, 'Contas de Espécies Ameaçadas ', 'DT'),\n",
       " (5, 'Contas de ecossistemas: o uso da terra nos biomas brasileiros', 'DU'),\n",
       " (11, 'Demografia das Empresas e Estatísticas de Empreendedorismo', 'DE'),\n",
       " (12, 'Estimativas de População', 'XF'),\n",
       " (13, 'Fundações Privadas e Associações Sem Fins Lucrativos', 'FP'),\n",
       " (14, 'Indicadores de Desenvolvimento Sustentável', 'IU'),\n",
       " (23, 'Levantamento Sistemático da Produção Agrícola', 'LA'),\n",
       " (24, 'Objetivos de Desenvolvimento Sustentável', 'C2'),\n",
       " (25, 'Pesquisa Anual da Indústria da Construção', 'AC'),\n",
       " (26, 'Pesquisa Anual de Comércio', 'PB'),\n",
       " (27, 'Pesquisa Anual de Serviços', 'PY'),\n",
       " (37, 'Pesquisa Estatísticas do Registro Civil', 'RC'),\n",
       " (38, 'Pesquisa Industrial Anual', 'PI'),\n",
       " (39, 'Pesquisa Industrial Anual - Empresa', 'PK'),\n",
       " (40, 'Pesquisa Industrial Anual - Produto', 'PJ'),\n",
       " (41, 'Pesquisa Industrial Mensal - Dados Gerais', 'DG'),\n",
       " (42, 'Pesquisa Industrial Mensal - Produção Física', 'PZ'),\n",
       " (43, 'Pesquisa Industrial Mensal de Emprego e Salário', 'XY'),\n",
       " (44, 'Pesquisa Mensal de Abate de Animais', 'AB'),\n",
       " (45, 'Pesquisa Mensal de Comércio', 'MC'),\n",
       " (46, 'Pesquisa Mensal de Emprego', 'PE'),\n",
       " (47, 'Pesquisa Mensal de Serviços', 'SC'),\n",
       " (48, 'Pesquisa Mensal do Leite', 'PL'),\n",
       " (49, 'Pesquisa Nacional de Saneamento Básico', 'SB'),\n",
       " (50, 'Pesquisa Nacional de Saúde', 'XN'),\n",
       " (51, 'Pesquisa Nacional de Saúde do Escolar', 'AA'),\n",
       " (52, 'Pesquisa Nacional por Amostra de Domicílios', 'PD'),\n",
       " (53, 'Pesquisa Nacional por Amostra de Domicílios Contínua anual', 'B5'),\n",
       " (54, 'Pesquisa Nacional por Amostra de Domicílios Contínua mensal', 'BB'),\n",
       " (55, 'Pesquisa Nacional por Amostra de Domicílios Contínua trimestral', 'DD'),\n",
       " (56, 'Pesquisa Trimestral do Abate de Animais', 'AX'),\n",
       " (57, 'Pesquisa Trimestral do Couro', 'CQ'),\n",
       " (58, 'Pesquisa Trimestral do Leite', 'LT'),\n",
       " (28, 'Pesquisa da Pecuária Municipal', 'PP'),\n",
       " (29, 'Pesquisa de Assistência Médico-Sanitária', 'AM'),\n",
       " (30, 'Pesquisa de Estoques', 'ES'),\n",
       " (31, 'Pesquisa de Informações Básicas Municipais', 'PM'),\n",
       " (32, 'Pesquisa de Inovação', 'IT'),\n",
       " (33, 'Pesquisa de Orçamentos Familiares', 'OF'),\n",
       " (34, 'Pesquisa de Serviços de Hospedagem', 'SH'),\n",
       " (35, 'Pesquisa de Serviços de Publicidade e Promoção', 'SE'),\n",
       " (36, 'Pesquisa de Serviços de Tecnologia da Informação', 'PT'),\n",
       " (62, 'Produto Interno Bruto dos Municípios', 'IO'),\n",
       " (59, 'Produção Agrícola Municipal', 'PA'),\n",
       " (60, 'Produção da Extração Vegetal e da Silvicultura', 'VS'),\n",
       " (61, 'Produção de Ovos de Galinha', 'PO'),\n",
       " (63, 'Projeção da População', 'XE'),\n",
       " (64,\n",
       "  'Sistema Nacional de Pesquisa de Custos e Índices da Construção Civil',\n",
       "  'SI'),\n",
       " (18, 'Índice Nacional de Preços ao Consumidor', 'PC'),\n",
       " (19, 'Índice Nacional de Preços ao Consumidor Amplo', 'IA'),\n",
       " (20, 'Índice Nacional de Preços ao Consumidor Amplo 15', 'IQ'),\n",
       " (21, 'Índice Nacional de Preços ao Consumidor Amplo Especial', 'IG'),\n",
       " (22, 'Índice Nacional de Preços ao Consumidor Especial', 'PG'),\n",
       " (15, 'Índice de Preços ao Consumidor em Real', 'IL'),\n",
       " (16, 'Índice de Preços ao Produtor', 'IR'),\n",
       " (17, 'Índice de Reajuste do Salário Mínimo', 'IJ')]"
      ]
     },
     "execution_count": 4,
     "metadata": {},
     "output_type": "execute_result"
    }
   ],
   "source": [
    "import requests\n",
    "url = 'https://servicodados.ibge.gov.br/api/v3/agregados'\n",
    "r = requests.get(url)\n",
    "json_agregados = r.json()\n",
    "sorted([(i, pesq['nome'], pesq['id']) for i, pesq in enumerate(json_agregados)], key = lambda x : x[1])"
   ]
  },
  {
   "cell_type": "markdown",
   "metadata": {
    "id": "ZEg0mQbN5aux"
   },
   "source": [
    "#### Verificando as series históricas de PIB "
   ]
  },
  {
   "cell_type": "code",
   "execution_count": 5,
   "metadata": {
    "colab": {
     "base_uri": "https://localhost:8080/"
    },
    "executionInfo": {
     "elapsed": 733,
     "status": "ok",
     "timestamp": 1607990717496,
     "user": {
      "displayName": "Orlando O. S.",
      "photoUrl": "https://lh3.googleusercontent.com/a-/AOh14Gj-E1yuy1M_3ruwN4TWYPK4BwysauSW7GQmHheS=s64",
      "userId": "15066502291703974467"
     },
     "user_tz": 180
    },
    "id": "GoWeL4H3d_M9",
    "outputId": "f2cd0c06-3a21-448c-df8a-573c77bafa8a"
   },
   "outputs": [
    {
     "data": {
      "text/plain": [
       "{'id': 'VS',\n",
       " 'nome': 'Produção da Extração Vegetal e da Silvicultura',\n",
       " 'agregados': [{'id': '5930',\n",
       "   'nome': 'Área total existente em 31/12 dos efetivos da silvicultura, por espécie florestal'},\n",
       "  {'id': '289',\n",
       "   'nome': 'Quantidade produzida e valor da produção na extração vegetal, por tipo de produto extrativo'},\n",
       "  {'id': '291',\n",
       "   'nome': 'Quantidade produzida e valor da produção na silvicultura, por tipo de produto da silvicultura'},\n",
       "  {'id': '290',\n",
       "   'nome': 'Valor da produção na extração vegetal, por tipo de produto extrativo (série encerrada)'},\n",
       "  {'id': '292',\n",
       "   'nome': 'Valor da produção na silvicultura, por tipo de produto da silvicultura (série encerrada)'}]}"
      ]
     },
     "execution_count": 5,
     "metadata": {},
     "output_type": "execute_result"
    }
   ],
   "source": [
    "json_agregados[60]"
   ]
  },
  {
   "cell_type": "markdown",
   "metadata": {
    "id": "kcpffFiUhHwI"
   },
   "source": [
    "### Exemplo de Acesso ao Dados de PIB a preços correntes dos estados\n",
    "\n",
    "#### Usar o construtor de consultas da API de agregados do IBGE para criar a url desejada\n",
    "- endereço de construtor de consultas da API: https://servicodados.ibge.gov.br/api/docs/agregados?versao=3#api-bq\n",
    "\n",
    "\n",
    "#### Acessar o conteúdo usando o requests"
   ]
  },
  {
   "cell_type": "code",
   "execution_count": 6,
   "metadata": {
    "id": "1LTJoSlafGUY"
   },
   "outputs": [],
   "source": [
    "import requests\n",
    "url = 'https://servicodados.ibge.gov.br/api/v3/agregados/5938/periodos/2002|2003|2004|2005|2006|2007|2008|2009|2010|2011|2012|2013|2014|2015|2016|2017/variaveis/37?localidades=N3[all]'\n",
    "r = requests.get(url)\n",
    "json_agregado_pib_estadual = r.json()"
   ]
  },
  {
   "cell_type": "code",
   "execution_count": 7,
   "metadata": {
    "colab": {
     "base_uri": "https://localhost:8080/"
    },
    "executionInfo": {
     "elapsed": 832,
     "status": "ok",
     "timestamp": 1607990743173,
     "user": {
      "displayName": "Orlando O. S.",
      "photoUrl": "https://lh3.googleusercontent.com/a-/AOh14Gj-E1yuy1M_3ruwN4TWYPK4BwysauSW7GQmHheS=s64",
      "userId": "15066502291703974467"
     },
     "user_tz": 180
    },
    "id": "ClhpKqc3iGOP",
    "outputId": "100f529c-399f-4058-8f38-c617aae9746e"
   },
   "outputs": [
    {
     "data": {
      "text/plain": [
       "{'localidade': {'id': '11',\n",
       "  'nivel': {'id': 'N3', 'nome': 'Unidade da Federação'},\n",
       "  'nome': 'Rondônia'},\n",
       " 'serie': {'2002': '7467630',\n",
       "  '2003': '9425010',\n",
       "  '2004': '11004641',\n",
       "  '2005': '12511821',\n",
       "  '2006': '13054713',\n",
       "  '2007': '14438376',\n",
       "  '2008': '17285542',\n",
       "  '2009': '19725010',\n",
       "  '2010': '23907887',\n",
       "  '2011': '27574714',\n",
       "  '2012': '30112720',\n",
       "  '2013': '31121413',\n",
       "  '2014': '34030982',\n",
       "  '2015': '36563333',\n",
       "  '2016': '39460359',\n",
       "  '2017': '43516147'}}"
      ]
     },
     "execution_count": 7,
     "metadata": {},
     "output_type": "execute_result"
    }
   ],
   "source": [
    "json_agregado_pib_estadual[0]['resultados'][0]['series'][0]"
   ]
  },
  {
   "cell_type": "markdown",
   "metadata": {
    "id": "7nadB_miArRd"
   },
   "source": [
    "### Gerando um dicionário simplificado com os dados de PIP"
   ]
  },
  {
   "cell_type": "code",
   "execution_count": 8,
   "metadata": {
    "colab": {
     "base_uri": "https://localhost:8080/"
    },
    "executionInfo": {
     "elapsed": 796,
     "status": "ok",
     "timestamp": 1607990834883,
     "user": {
      "displayName": "Orlando O. S.",
      "photoUrl": "https://lh3.googleusercontent.com/a-/AOh14Gj-E1yuy1M_3ruwN4TWYPK4BwysauSW7GQmHheS=s64",
      "userId": "15066502291703974467"
     },
     "user_tz": 180
    },
    "id": "fE9PiEdk6Fou",
    "outputId": "87520fe4-730a-4ab6-898e-31256523740a"
   },
   "outputs": [
    {
     "data": {
      "text/plain": [
       "{'2002': '2971301',\n",
       " '2003': '3377234',\n",
       " '2004': '3784003',\n",
       " '2005': '4300581',\n",
       " '2006': '4661807',\n",
       " '2007': '5458172',\n",
       " '2008': '6410255',\n",
       " '2009': '7407821',\n",
       " '2010': '8342356',\n",
       " '2011': '8949434',\n",
       " '2012': '10137925',\n",
       " '2013': '11473930',\n",
       " '2014': '13458698',\n",
       " '2015': '13622802',\n",
       " '2016': '13754240',\n",
       " '2017': '14272941'}"
      ]
     },
     "execution_count": 8,
     "metadata": {},
     "output_type": "execute_result"
    }
   ],
   "source": [
    "pibs_estados = {}\n",
    "for item in json_agregado_pib_estadual[:2]:\n",
    "  #print(item['variavel'], item['unidade'])\n",
    "  estado = {}\n",
    "  for serie in item['resultados'][0]['series']:\n",
    "    #print(serie)\n",
    "    pibs_estados[serie['localidade']['nome']] = serie['serie']\n",
    "\n",
    "pibs_estados['Acre']"
   ]
  },
  {
   "cell_type": "markdown",
   "metadata": {
    "id": "HGsZCs0UAzXc"
   },
   "source": [
    "### Gerando uma matriz 2d com NumPy a partir do dicionário"
   ]
  },
  {
   "cell_type": "code",
   "execution_count": 9,
   "metadata": {
    "colab": {
     "base_uri": "https://localhost:8080/"
    },
    "executionInfo": {
     "elapsed": 694,
     "status": "ok",
     "timestamp": 1607990933877,
     "user": {
      "displayName": "Orlando O. S.",
      "photoUrl": "https://lh3.googleusercontent.com/a-/AOh14Gj-E1yuy1M_3ruwN4TWYPK4BwysauSW7GQmHheS=s64",
      "userId": "15066502291703974467"
     },
     "user_tz": 180
    },
    "id": "lcsS7QpU9kef",
    "outputId": "160be783-e490-4010-e918-515bcfbf35bc"
   },
   "outputs": [
    {
     "data": {
      "text/plain": [
       "array([['Estado', '2002', '2003', '2004', '2005'],\n",
       "       ['Rondônia', '7467630', '9425010', '11004641', '12511821'],\n",
       "       ['Acre', '2971301', '3377234', '3784003', '4300581'],\n",
       "       ['Amazonas', '22093338', '25862134', '31090696', '33980877'],\n",
       "       ['Roraima', '2392033', '2594081', '2822757', '3193430'],\n",
       "       ['Pará', '26482159', '30270152', '37272726', '40522893'],\n",
       "       ['Amapá', '3173343', '3413195', '3824740', '4306410'],\n",
       "       ['Tocantins', '5322563', '6612339', '7251580', '7707340'],\n",
       "       ['Maranhão', '15924003', '19502900', '22127132', '25104209'],\n",
       "       ['Piauí', '7122635', '8414901', '9406461', '10711834'],\n",
       "       ['Ceará', '28718840', '32687418', '36890816', '41059459'],\n",
       "       ['Rio Grande do Norte', '13566803', '14865441', '17252398',\n",
       "        '19966918'],\n",
       "       ['Paraíba', '12747021', '14737920', '15757832', '17557226'],\n",
       "       ['Pernambuco', '36056032', '38815845', '44982684', '50240325'],\n",
       "       ['Alagoas', '11536853', '12624030', '14044907', '15484521'],\n",
       "       ['Sergipe', '10332494', '11749574', '13336258', '14430118'],\n",
       "       ['Bahia', '58842976', '67174227', '77931725', '88291883'],\n",
       "       ['Minas Gerais', '124071066', '144189094', '171870934',\n",
       "        '188364436'],\n",
       "       ['Espírito Santo', '27048997', '31519106', '39732638', '47020588'],\n",
       "       ['Rio de Janeiro', '184310915', '202640789', '241206738',\n",
       "        '269830061'],\n",
       "       ['São Paulo', '518878815', '591454032', '652955558', '743042944'],\n",
       "       ['Paraná', '88235715', '110039414', '123451530', '127464507'],\n",
       "       ['Santa Catarina', '54481893', '64098475', '73618966', '81549244'],\n",
       "       ['Rio Grande do Sul', '98847211', '119325399', '131192206',\n",
       "        '136362769'],\n",
       "       ['Mato Grosso do Sul', '16440424', '21846566', '23372308',\n",
       "        '23725258'],\n",
       "       ['Mato Grosso', '19190653', '26697097', '33388670', '34257055'],\n",
       "       ['Goiás', '38629365', '45557889', '51103815', '53865113'],\n",
       "       ['Distrito Federal', '53902200', '58456124', '67076505',\n",
       "        '75732681']], dtype='<U50')"
      ]
     },
     "execution_count": 9,
     "metadata": {},
     "output_type": "execute_result"
    }
   ],
   "source": [
    "import numpy as np\n",
    "\n",
    "anosseries = np.array(list(pibs_estados['Acre'].keys()), dtype='U50')\n",
    "cabecalho = np.insert(anosseries, 0, 'Estado')\n",
    "#print(cabecalho)\n",
    "\n",
    "pibsmatriz = cabecalho\n",
    "for uf, serie in pibs_estados.items():\n",
    "  valores = np.array(list(serie.values()), dtype='U50')\n",
    "  linha_arr = np.insert(valores, 0, uf)\n",
    "  pibsmatriz = np.vstack((pibsmatriz, linha_arr))\n",
    "\n",
    "# Imprimindo as primeiras colunas da matriz\n",
    "pibsmatriz[:,[0,1,2,3,4]]"
   ]
  },
  {
   "cell_type": "markdown",
   "metadata": {
    "id": "cQ0Ifwlzq6zr"
   },
   "source": [
    "### Exemplo de Acesso ao Dados de população estimada dos estados"
   ]
  },
  {
   "cell_type": "code",
   "execution_count": 10,
   "metadata": {
    "id": "e5r84ZkPT_m3"
   },
   "outputs": [],
   "source": [
    "import requests\n",
    "url = 'https://servicodados.ibge.gov.br/api/v3/agregados/6579/periodos/2001|2002|2003|2004|2005|2006|2008|2009|2011|2012|2013|2014|2015|2016|2017|2018|2019|2020/variaveis/9324?localidades=N3[all]'\n",
    "r = requests.get(url)\n",
    "json_agregado_pop_estadual = r.json()"
   ]
  },
  {
   "cell_type": "code",
   "execution_count": 11,
   "metadata": {
    "colab": {
     "base_uri": "https://localhost:8080/"
    },
    "executionInfo": {
     "elapsed": 718,
     "status": "ok",
     "timestamp": 1607990969974,
     "user": {
      "displayName": "Orlando O. S.",
      "photoUrl": "https://lh3.googleusercontent.com/a-/AOh14Gj-E1yuy1M_3ruwN4TWYPK4BwysauSW7GQmHheS=s64",
      "userId": "15066502291703974467"
     },
     "user_tz": 180
    },
    "id": "dvIZpF7kTrVI",
    "outputId": "98d96623-6d32-4882-c4c5-fe48f13351b6"
   },
   "outputs": [
    {
     "data": {
      "text/plain": [
       "{'localidade': {'id': '11',\n",
       "  'nivel': {'id': 'N3', 'nome': 'Unidade da Federação'},\n",
       "  'nome': 'Rondônia'},\n",
       " 'serie': {'2001': '1407886',\n",
       "  '2002': '1431777',\n",
       "  '2003': '1455907',\n",
       "  '2004': '1562085',\n",
       "  '2005': '1534594',\n",
       "  '2006': '1562417',\n",
       "  '2008': '1493565',\n",
       "  '2009': '1503928',\n",
       "  '2011': '1576455',\n",
       "  '2012': '1590011',\n",
       "  '2013': '1728214',\n",
       "  '2014': '1748531',\n",
       "  '2015': '1768204',\n",
       "  '2016': '1787279',\n",
       "  '2017': '1805788',\n",
       "  '2018': '1757589',\n",
       "  '2019': '1777225',\n",
       "  '2020': '1796460'}}"
      ]
     },
     "execution_count": 11,
     "metadata": {},
     "output_type": "execute_result"
    }
   ],
   "source": [
    "json_agregado_pop_estadual[0]['resultados'][0]['series'][0]"
   ]
  },
  {
   "cell_type": "code",
   "execution_count": 12,
   "metadata": {
    "colab": {
     "base_uri": "https://localhost:8080/"
    },
    "executionInfo": {
     "elapsed": 654,
     "status": "ok",
     "timestamp": 1607990974042,
     "user": {
      "displayName": "Orlando O. S.",
      "photoUrl": "https://lh3.googleusercontent.com/a-/AOh14Gj-E1yuy1M_3ruwN4TWYPK4BwysauSW7GQmHheS=s64",
      "userId": "15066502291703974467"
     },
     "user_tz": 180
    },
    "id": "NuxZ21NhBZRa",
    "outputId": "402dd6b5-7b90-46a2-f36c-71544facd482"
   },
   "outputs": [
    {
     "data": {
      "text/plain": [
       "{'2001': '574355',\n",
       " '2002': '586942',\n",
       " '2003': '600595',\n",
       " '2004': '630328',\n",
       " '2005': '669736',\n",
       " '2006': '686652',\n",
       " '2008': '680075',\n",
       " '2009': '691132',\n",
       " '2011': '746386',\n",
       " '2012': '758786',\n",
       " '2013': '776463',\n",
       " '2014': '790101',\n",
       " '2015': '803513',\n",
       " '2016': '816687',\n",
       " '2017': '829619',\n",
       " '2018': '869265',\n",
       " '2019': '881935',\n",
       " '2020': '894470'}"
      ]
     },
     "execution_count": 12,
     "metadata": {},
     "output_type": "execute_result"
    }
   ],
   "source": [
    "pops_estados = {}\n",
    "for item in json_agregado_pop_estadual[:2]:\n",
    "  #print(item['variavel'], item['unidade'])\n",
    "  estado = {}\n",
    "  for serie in item['resultados'][0]['series']:\n",
    "    #print(serie)\n",
    "    pops_estados[serie['localidade']['nome']] = serie['serie']\n",
    "\n",
    "pops_estados['Acre']"
   ]
  },
  {
   "cell_type": "code",
   "execution_count": 13,
   "metadata": {
    "colab": {
     "base_uri": "https://localhost:8080/"
    },
    "executionInfo": {
     "elapsed": 609,
     "status": "ok",
     "timestamp": 1607990977787,
     "user": {
      "displayName": "Orlando O. S.",
      "photoUrl": "https://lh3.googleusercontent.com/a-/AOh14Gj-E1yuy1M_3ruwN4TWYPK4BwysauSW7GQmHheS=s64",
      "userId": "15066502291703974467"
     },
     "user_tz": 180
    },
    "id": "nacDV1XSBmWa",
    "outputId": "dfce33b1-7e30-404e-ee74-40d8326efb07"
   },
   "outputs": [
    {
     "data": {
      "text/plain": [
       "array([['Estado', '2001', '2003', '2004'],\n",
       "       ['Rondônia', '1407886', '1455907', '1562085'],\n",
       "       ['Acre', '574355', '600595', '630328'],\n",
       "       ['Amazonas', '2900240', '3031068', '3138726'],\n",
       "       ['Roraima', '337237', '357302', '381896'],\n",
       "       ['Pará', '6341736', '6574993', '6850181'],\n",
       "       ['Amapá', '498735', '534835', '547400'],\n",
       "       ['Tocantins', '1184895', '1230181', '1262644'],\n",
       "       ['Maranhão', '5730467', '5873655', '6021504'],\n",
       "       ['Piauí', '2873010', '2923725', '2974698'],\n",
       "       ['Ceará', '7547620', '7758441', '7976563'],\n",
       "       ['Rio Grande do Norte', '2815244', '2888058', '2962107'],\n",
       "       ['Paraíba', '3468594', '3518595', '3568350'],\n",
       "       ['Pernambuco', '8008207', '8161862', '8323911'],\n",
       "       ['Alagoas', '2856629', '2917664', '2980910'],\n",
       "       ['Sergipe', '1817301', '1874613', '1934596'],\n",
       "       ['Bahia', '13214114', '13435612', '13682074'],\n",
       "       ['Minas Gerais', '18127096', '18553312', '18993720'],\n",
       "       ['Espírito Santo', '3155016', '3250219', '3352024'],\n",
       "       ['Rio de Janeiro', '14558545', '14879118', '15203750'],\n",
       "       ['São Paulo', '37630106', '38709320', '39825226'],\n",
       "       ['Paraná', '9694709', '9906866', '10135388'],\n",
       "       ['Santa Catarina', '5448736', '5607233', '5774178'],\n",
       "       ['Rio Grande do Sul', '10309819', '10510992', '10726063'],\n",
       "       ['Mato Grosso do Sul', '2111036', '2169688', '2227794'],\n",
       "       ['Mato Grosso', '2560584', '2651335', '2742646'],\n",
       "       ['Goiás', '5116462', '5306459', '5508245'],\n",
       "       ['Distrito Federal', '2097447', '2189789', '2282049']],\n",
       "      dtype='<U50')"
      ]
     },
     "execution_count": 13,
     "metadata": {},
     "output_type": "execute_result"
    }
   ],
   "source": [
    "import numpy as np\n",
    "\n",
    "anosseries = np.array(list(pops_estados['Acre'].keys()), dtype='U50')\n",
    "cabecalho = np.insert(anosseries, 0, 'Estado')\n",
    "#print(cabecalho)\n",
    "\n",
    "popsmatriz = cabecalho\n",
    "for uf, serie in pops_estados.items():\n",
    "  valores = np.array(list(serie.values()), dtype='U50')\n",
    "  linha_arr = np.insert(valores, 0, uf)\n",
    "  popsmatriz = np.vstack((popsmatriz, linha_arr))\n",
    "\n",
    "# Imprimindo as primeiras colunas da matriz\n",
    "popsmatriz[:,[0,1,3,4]]"
   ]
  }
 ],
 "metadata": {
  "colab": {
   "authorship_tag": "ABX9TyPBBNek7BhyeB0vMJH+uI5D",
   "collapsed_sections": [],
   "name": "Aulas sobre Web Scrapping com Python - Conteúdo JSON.ipynb",
   "provenance": []
  },
  "kernelspec": {
   "display_name": "Python 3",
   "language": "python",
   "name": "python3"
  },
  "language_info": {
   "codemirror_mode": {
    "name": "ipython",
    "version": 3
   },
   "file_extension": ".py",
   "mimetype": "text/x-python",
   "name": "python",
   "nbconvert_exporter": "python",
   "pygments_lexer": "ipython3",
   "version": "3.7.8"
  }
 },
 "nbformat": 4,
 "nbformat_minor": 1
}
