{
 "cells": [
  {
   "cell_type": "markdown",
   "metadata": {
    "id": "oR9mUt4l_TrP"
   },
   "source": [
    "# 05 - Webscrapping - Raspagem de Dados da Internet\n",
    "## Aula 12 - 01 - Webscrapping - Conhecendo o Pacote Requests"
   ]
  },
  {
   "cell_type": "markdown",
   "metadata": {
    "id": "N0tV_hcv_TrX"
   },
   "source": [
    "## Professor: Orlando Oliveira dos Santos, MsC.\n",
    " - E-mail: professor.orlando.santos@gmail.com \n",
    " - Youtube :https://www.youtube.com/channel/UCPWWbkPWFmOjXH50TQWNAYg\n",
    " - Linkedin: https://linkedin.com/in/orlandoosantos\n",
    " - Facebook: https://www.facebook.com/proforlandosantosmsc/\n",
    " - Twitter: https://twitter.com/ProfOrlandoMsC\n",
    " - Instagram: https://www.instagram.com/proforlandosantosmsc/\n",
    "\n",
    "\n",
    "\n",
    "## Formação Acadêmica\n",
    "- Mestrado em Computação Aplicada - UnB (2014 – 2016)\t\n",
    "- MBA, Administração Estratégica de Sistemas de Informação – FGV (2011 – 2013)\n",
    "- Tecnólogo em Processamento de Dados, Análise e Desenvolvimento de Sistemas – FAETEC/SP (2000-2002)"
   ]
  },
  {
   "cell_type": "markdown",
   "metadata": {
    "id": "hQJMFiYT_Trb"
   },
   "source": [
    "#  Webscrapping - Conhecendo o Pacote Requests"
   ]
  },
  {
   "cell_type": "markdown",
   "metadata": {
    "id": "Pl5PKic6IXWw"
   },
   "source": [
    "## Pacote requests\n",
    "\n",
    "- Requests é uma biblioteca HTTP para Python simples e elegante, feita para seres humanos.\n",
    "\n",
    "- https://requests.readthedocs.io/pt_BR/latest/index.html"
   ]
  },
  {
   "cell_type": "markdown",
   "metadata": {
    "id": "BvG80E7x4S6t"
   },
   "source": [
    "### Instalação\n"
   ]
  },
  {
   "cell_type": "code",
   "execution_count": null,
   "metadata": {
    "colab": {
     "base_uri": "https://localhost:8080/"
    },
    "executionInfo": {
     "elapsed": 3188,
     "status": "ok",
     "timestamp": 1607989855324,
     "user": {
      "displayName": "Orlando O. S.",
      "photoUrl": "https://lh3.googleusercontent.com/a-/AOh14Gj-E1yuy1M_3ruwN4TWYPK4BwysauSW7GQmHheS=s64",
      "userId": "15066502291703974467"
     },
     "user_tz": 180
    },
    "id": "XTDtWL0w4VyE",
    "outputId": "1eaf8903-2e15-4ada-b6ab-7a62478deef2"
   },
   "outputs": [],
   "source": [
    "!pip install requests"
   ]
  },
  {
   "cell_type": "markdown",
   "metadata": {
    "id": "VlxR0MS_JEMU"
   },
   "source": [
    "## Faça um Requisições Simples \n"
   ]
  },
  {
   "cell_type": "code",
   "execution_count": null,
   "metadata": {
    "executionInfo": {
     "elapsed": 3164,
     "status": "ok",
     "timestamp": 1607989855326,
     "user": {
      "displayName": "Orlando O. S.",
      "photoUrl": "https://lh3.googleusercontent.com/a-/AOh14Gj-E1yuy1M_3ruwN4TWYPK4BwysauSW7GQmHheS=s64",
      "userId": "15066502291703974467"
     },
     "user_tz": 180
    },
    "id": "8vFLzAiLJB4G"
   },
   "outputs": [],
   "source": [
    "import requests"
   ]
  },
  {
   "cell_type": "markdown",
   "metadata": {
    "id": "D4kww7fiJriN"
   },
   "source": [
    "\n",
    "\n",
    "##Método Get\n",
    "get(url, params=None, **kwargs)\n",
    "\n",
    "O resultado obtido será um objeto response que tem todas as informações sobre o conteúdo requisitado."
   ]
  },
  {
   "cell_type": "code",
   "execution_count": null,
   "metadata": {
    "executionInfo": {
     "elapsed": 4008,
     "status": "ok",
     "timestamp": 1607989856181,
     "user": {
      "displayName": "Orlando O. S.",
      "photoUrl": "https://lh3.googleusercontent.com/a-/AOh14Gj-E1yuy1M_3ruwN4TWYPK4BwysauSW7GQmHheS=s64",
      "userId": "15066502291703974467"
     },
     "user_tz": 180
    },
    "id": "kMpMcEZ7I8uf"
   },
   "outputs": [],
   "source": [
    "import requests\n",
    "url = 'https://www.camara.leg.br/deputados/quem-sao/resultado?search=&partido=&uf=&legislatura=56&sexo='\n",
    "r = requests.get(url)"
   ]
  },
  {
   "cell_type": "markdown",
   "metadata": {
    "id": "urf8o_GsmIC4"
   },
   "source": [
    "### Checando se a requisição ocorreu com sucesso usando o  atributo \"ok\"\n",
    "- Retorna True se: attr: `status_code` é menor que 400, False se não.\n",
    "- Este atributo verifica se o código de status da resposta está entre 400 e 600 para ver se houve um erro do cliente ou do servidor. \n",
    "- E se o código de status está entre 200 e 400, isso retornará True"
   ]
  },
  {
   "cell_type": "code",
   "execution_count": null,
   "metadata": {
    "colab": {
     "base_uri": "https://localhost:8080/"
    },
    "executionInfo": {
     "elapsed": 4003,
     "status": "ok",
     "timestamp": 1607989856183,
     "user": {
      "displayName": "Orlando O. S.",
      "photoUrl": "https://lh3.googleusercontent.com/a-/AOh14Gj-E1yuy1M_3ruwN4TWYPK4BwysauSW7GQmHheS=s64",
      "userId": "15066502291703974467"
     },
     "user_tz": 180
    },
    "id": "zvHiPs3olTaJ",
    "outputId": "2e8105ce-7ff9-4392-89aa-960191c6b922"
   },
   "outputs": [],
   "source": [
    "r.ok"
   ]
  },
  {
   "cell_type": "markdown",
   "metadata": {
    "id": "hdnbh6zMu5j0"
   },
   "source": [
    "### Checando o código do status da resposta"
   ]
  },
  {
   "cell_type": "code",
   "execution_count": null,
   "metadata": {
    "colab": {
     "base_uri": "https://localhost:8080/"
    },
    "executionInfo": {
     "elapsed": 3994,
     "status": "ok",
     "timestamp": 1607989856184,
     "user": {
      "displayName": "Orlando O. S.",
      "photoUrl": "https://lh3.googleusercontent.com/a-/AOh14Gj-E1yuy1M_3ruwN4TWYPK4BwysauSW7GQmHheS=s64",
      "userId": "15066502291703974467"
     },
     "user_tz": 180
    },
    "id": "zsioe2k6uzsm",
    "outputId": "5c3666a6-cddc-43aa-b2c6-f2847c94834e"
   },
   "outputs": [],
   "source": [
    "r.status_code"
   ]
  },
  {
   "cell_type": "markdown",
   "metadata": {
    "id": "oI0etXgDu_MT"
   },
   "source": [
    "### Checando o cabeçalhos da resposta usando um dicionário Python:"
   ]
  },
  {
   "cell_type": "code",
   "execution_count": null,
   "metadata": {
    "colab": {
     "base_uri": "https://localhost:8080/"
    },
    "executionInfo": {
     "elapsed": 3982,
     "status": "ok",
     "timestamp": 1607989856187,
     "user": {
      "displayName": "Orlando O. S.",
      "photoUrl": "https://lh3.googleusercontent.com/a-/AOh14Gj-E1yuy1M_3ruwN4TWYPK4BwysauSW7GQmHheS=s64",
      "userId": "15066502291703974467"
     },
     "user_tz": 180
    },
    "id": "BX0DAq-Yu_tD",
    "outputId": "73f4701b-ee4c-4fbf-ced7-750a3e1b8b7c"
   },
   "outputs": [],
   "source": [
    "print(r.headers)"
   ]
  },
  {
   "cell_type": "markdown",
   "metadata": {
    "id": "jKU_f3klnMWs"
   },
   "source": [
    "### Verificando o enconding inferido do texto\n",
    "- Será usando par decodificar o texto ao chamar o método r.text\n",
    "- Se não estiver correto, pode ser alterado. Por Exemplo: ```r.encoding = utf-8```"
   ]
  },
  {
   "cell_type": "code",
   "execution_count": null,
   "metadata": {
    "colab": {
     "base_uri": "https://localhost:8080/",
     "height": 35
    },
    "executionInfo": {
     "elapsed": 3971,
     "status": "ok",
     "timestamp": 1607989856188,
     "user": {
      "displayName": "Orlando O. S.",
      "photoUrl": "https://lh3.googleusercontent.com/a-/AOh14Gj-E1yuy1M_3ruwN4TWYPK4BwysauSW7GQmHheS=s64",
      "userId": "15066502291703974467"
     },
     "user_tz": 180
    },
    "id": "YVq68jgRnMhH",
    "outputId": "470c678e-7ff9-4da4-a381-546062b70945"
   },
   "outputs": [],
   "source": [
    "r.encoding"
   ]
  },
  {
   "cell_type": "markdown",
   "metadata": {
    "id": "iowOXYjhm-V2"
   },
   "source": [
    "### Obtendo o conteúdo do Response em texto Unicode.\n",
    " - Se Response.encoding for None, a codificação será adivinhada ```r.encoding```.  Lembre que você pode alterar se necesário.\n",
    "\n",
    " "
   ]
  },
  {
   "cell_type": "code",
   "execution_count": null,
   "metadata": {
    "colab": {
     "base_uri": "https://localhost:8080/",
     "height": 158
    },
    "executionInfo": {
     "elapsed": 3958,
     "status": "ok",
     "timestamp": 1607989856190,
     "user": {
      "displayName": "Orlando O. S.",
      "photoUrl": "https://lh3.googleusercontent.com/a-/AOh14Gj-E1yuy1M_3ruwN4TWYPK4BwysauSW7GQmHheS=s64",
      "userId": "15066502291703974467"
     },
     "user_tz": 180
    },
    "id": "3IJagToclcyh",
    "outputId": "0de174c2-9640-4ad8-d937-1682ec200d58"
   },
   "outputs": [],
   "source": [
    "r.text"
   ]
  },
  {
   "cell_type": "markdown",
   "metadata": {
    "id": "c1qFbs4vpZuE"
   },
   "source": [
    "### Obtendo o conteúdo do Response em bytes"
   ]
  },
  {
   "cell_type": "code",
   "execution_count": null,
   "metadata": {
    "colab": {
     "base_uri": "https://localhost:8080/"
    },
    "executionInfo": {
     "elapsed": 3947,
     "status": "ok",
     "timestamp": 1607989856192,
     "user": {
      "displayName": "Orlando O. S.",
      "photoUrl": "https://lh3.googleusercontent.com/a-/AOh14Gj-E1yuy1M_3ruwN4TWYPK4BwysauSW7GQmHheS=s64",
      "userId": "15066502291703974467"
     },
     "user_tz": 180
    },
    "id": "8bsiVMhKlrsQ",
    "outputId": "bed09f4e-77af-4daf-b18f-c64dcdfb6618"
   },
   "outputs": [],
   "source": [
    "r.content"
   ]
  },
  {
   "cell_type": "markdown",
   "metadata": {
    "id": "XfMMSpZNO2M-"
   },
   "source": [
    "## Acessar o conteúdo por chunks de forma iterativa"
   ]
  },
  {
   "cell_type": "code",
   "execution_count": null,
   "metadata": {
    "colab": {
     "base_uri": "https://localhost:8080/"
    },
    "executionInfo": {
     "elapsed": 3946,
     "status": "ok",
     "timestamp": 1607989856208,
     "user": {
      "displayName": "Orlando O. S.",
      "photoUrl": "https://lh3.googleusercontent.com/a-/AOh14Gj-E1yuy1M_3ruwN4TWYPK4BwysauSW7GQmHheS=s64",
      "userId": "15066502291703974467"
     },
     "user_tz": 180
    },
    "id": "1eg8OGhXNrY6",
    "outputId": "d3012ede-b9d3-4a87-b1ba-784d6b9a6ba2"
   },
   "outputs": [],
   "source": [
    "for data in list(r.iter_content(chunk_size=100))[:10]:\n",
    "    print(data)"
   ]
  },
  {
   "cell_type": "markdown",
   "metadata": {
    "id": "aCs_4dXBPD2G"
   },
   "source": [
    "## Acessar o conteúdo por linhas de forma iterativa"
   ]
  },
  {
   "cell_type": "code",
   "execution_count": null,
   "metadata": {
    "colab": {
     "base_uri": "https://localhost:8080/"
    },
    "executionInfo": {
     "elapsed": 3938,
     "status": "ok",
     "timestamp": 1607989856210,
     "user": {
      "displayName": "Orlando O. S.",
      "photoUrl": "https://lh3.googleusercontent.com/a-/AOh14Gj-E1yuy1M_3ruwN4TWYPK4BwysauSW7GQmHheS=s64",
      "userId": "15066502291703974467"
     },
     "user_tz": 180
    },
    "id": "12BXZ4v3OLPq",
    "outputId": "de829074-7a42-4ed2-86ff-fa5c0d277710"
   },
   "outputs": [],
   "source": [
    "for data in list(r.iter_lines())[:10]:\n",
    "    print(data)"
   ]
  },
  {
   "cell_type": "markdown",
   "metadata": {
    "id": "uGjtgV7ePJnt"
   },
   "source": [
    "## Decodificando o conteúdo no formato Json com método response.json()\n",
    "\n",
    "### Exemplo de Acesso a API de localidades do IBGE\n",
    "\n"
   ]
  },
  {
   "cell_type": "code",
   "execution_count": null,
   "metadata": {
    "colab": {
     "base_uri": "https://localhost:8080/"
    },
    "executionInfo": {
     "elapsed": 4628,
     "status": "ok",
     "timestamp": 1607989856911,
     "user": {
      "displayName": "Orlando O. S.",
      "photoUrl": "https://lh3.googleusercontent.com/a-/AOh14Gj-E1yuy1M_3ruwN4TWYPK4BwysauSW7GQmHheS=s64",
      "userId": "15066502291703974467"
     },
     "user_tz": 180
    },
    "id": "LMjpUgCbQaZM",
    "outputId": "53771626-7a75-43e3-a335-4be050f3c442"
   },
   "outputs": [],
   "source": [
    "import requests\n",
    "url = 'https://servicodados.ibge.gov.br/api/v1/localidades/estados'\n",
    "r = requests.get(url)\n",
    "json_pesquisas = r.json()\n",
    "\n",
    "for estado in json_pesquisas:\n",
    "  print(estado)"
   ]
  },
  {
   "cell_type": "markdown",
   "metadata": {
    "id": "mPKinf4Chbu-"
   },
   "source": [
    "### Exemplo de Acesso a API de agregados do IBGE\n",
    "\n",
    "### Obtendo a lista de agregados"
   ]
  },
  {
   "cell_type": "code",
   "execution_count": null,
   "metadata": {
    "colab": {
     "base_uri": "https://localhost:8080/"
    },
    "executionInfo": {
     "elapsed": 7790,
     "status": "ok",
     "timestamp": 1607989860082,
     "user": {
      "displayName": "Orlando O. S.",
      "photoUrl": "https://lh3.googleusercontent.com/a-/AOh14Gj-E1yuy1M_3ruwN4TWYPK4BwysauSW7GQmHheS=s64",
      "userId": "15066502291703974467"
     },
     "user_tz": 180
    },
    "id": "FpoynVDSP1Fn",
    "outputId": "48f91854-650d-4bcd-f3e7-44615676923a"
   },
   "outputs": [],
   "source": [
    "import requests\n",
    "url = 'https://servicodados.ibge.gov.br/api/v3/agregados'\n",
    "r = requests.get(url)\n",
    "json_agregados = r.json()\n",
    "sorted([(i, pesq['nome'], pesq['id']) for i, pesq in enumerate(json_agregados)], key = lambda x : x[1])"
   ]
  },
  {
   "cell_type": "markdown",
   "metadata": {
    "id": "ZEg0mQbN5aux"
   },
   "source": [
    "#### Verificando as series históricas de PIB "
   ]
  },
  {
   "cell_type": "code",
   "execution_count": null,
   "metadata": {
    "colab": {
     "base_uri": "https://localhost:8080/"
    },
    "executionInfo": {
     "elapsed": 7782,
     "status": "ok",
     "timestamp": 1607989860084,
     "user": {
      "displayName": "Orlando O. S.",
      "photoUrl": "https://lh3.googleusercontent.com/a-/AOh14Gj-E1yuy1M_3ruwN4TWYPK4BwysauSW7GQmHheS=s64",
      "userId": "15066502291703974467"
     },
     "user_tz": 180
    },
    "id": "GoWeL4H3d_M9",
    "outputId": "64e00cd6-8882-4dc5-a1fa-a66aee070847"
   },
   "outputs": [],
   "source": [
    "json_agregados[60]"
   ]
  },
  {
   "cell_type": "markdown",
   "metadata": {
    "id": "kcpffFiUhHwI"
   },
   "source": [
    "### Exemplo de Acesso ao Dados de PIB a preços correntes dos estados\n",
    "\n",
    "#### Usar o construtor de consultas da API de agregados do IBGE para criar a url desejada\n",
    "- endereço de construtor de consultas da API: https://servicodados.ibge.gov.br/api/docs/agregados?versao=3#api-bq\n",
    "\n",
    "\n",
    "#### Acessar o conteúdo usando o requests"
   ]
  },
  {
   "cell_type": "code",
   "execution_count": null,
   "metadata": {
    "executionInfo": {
     "elapsed": 20504,
     "status": "ok",
     "timestamp": 1607989872815,
     "user": {
      "displayName": "Orlando O. S.",
      "photoUrl": "https://lh3.googleusercontent.com/a-/AOh14Gj-E1yuy1M_3ruwN4TWYPK4BwysauSW7GQmHheS=s64",
      "userId": "15066502291703974467"
     },
     "user_tz": 180
    },
    "id": "1LTJoSlafGUY"
   },
   "outputs": [],
   "source": [
    "import requests\n",
    "url = 'https://servicodados.ibge.gov.br/api/v3/agregados/5938/periodos/2002|2003|2004|2005|2006|2007|2008|2009|2010|2011|2012|2013|2014|2015|2016|2017/variaveis/37?localidades=N3[all]'\n",
    "r = requests.get(url)\n",
    "json_agregado_pib_estadual = r.json()"
   ]
  },
  {
   "cell_type": "code",
   "execution_count": null,
   "metadata": {
    "colab": {
     "base_uri": "https://localhost:8080/"
    },
    "executionInfo": {
     "elapsed": 667,
     "status": "ok",
     "timestamp": 1607989894052,
     "user": {
      "displayName": "Orlando O. S.",
      "photoUrl": "https://lh3.googleusercontent.com/a-/AOh14Gj-E1yuy1M_3ruwN4TWYPK4BwysauSW7GQmHheS=s64",
      "userId": "15066502291703974467"
     },
     "user_tz": 180
    },
    "id": "ClhpKqc3iGOP",
    "outputId": "a5b76bfc-cdc6-43e0-b800-ff5d4b1e0f71"
   },
   "outputs": [],
   "source": [
    "json_agregado_pib_estadual[0]['resultados'][0]['series'][0]"
   ]
  },
  {
   "cell_type": "markdown",
   "metadata": {
    "id": "cQ0Ifwlzq6zr"
   },
   "source": [
    "### Exemplo de Acesso ao Dados de população estimada dos estados"
   ]
  },
  {
   "cell_type": "code",
   "execution_count": null,
   "metadata": {
    "executionInfo": {
     "elapsed": 13502,
     "status": "ok",
     "timestamp": 1607989940171,
     "user": {
      "displayName": "Orlando O. S.",
      "photoUrl": "https://lh3.googleusercontent.com/a-/AOh14Gj-E1yuy1M_3ruwN4TWYPK4BwysauSW7GQmHheS=s64",
      "userId": "15066502291703974467"
     },
     "user_tz": 180
    },
    "id": "e5r84ZkPT_m3"
   },
   "outputs": [],
   "source": [
    "import requests\n",
    "url = 'https://servicodados.ibge.gov.br/api/v3/agregados/6579/periodos/2001|2002|2003|2004|2005|2006|2008|2009|2011|2012|2013|2014|2015|2016|2017|2018|2019|2020/variaveis/9324?localidades=N3[all]'\n",
    "r = requests.get(url)\n",
    "json_agregado_pop_estadual = r.json()"
   ]
  },
  {
   "cell_type": "code",
   "execution_count": null,
   "metadata": {
    "colab": {
     "base_uri": "https://localhost:8080/"
    },
    "executionInfo": {
     "elapsed": 630,
     "status": "ok",
     "timestamp": 1607989945647,
     "user": {
      "displayName": "Orlando O. S.",
      "photoUrl": "https://lh3.googleusercontent.com/a-/AOh14Gj-E1yuy1M_3ruwN4TWYPK4BwysauSW7GQmHheS=s64",
      "userId": "15066502291703974467"
     },
     "user_tz": 180
    },
    "id": "dvIZpF7kTrVI",
    "outputId": "6f4e26ef-992d-4eeb-8990-4b58dc3ba226"
   },
   "outputs": [],
   "source": [
    "json_agregado_pop_estadual[0]['resultados'][0]['series'][0]"
   ]
  },
  {
   "cell_type": "markdown",
   "metadata": {
    "id": "_RuCbbG8sBmY"
   },
   "source": [
    "## configurando  Cabeçalhos personalizados\n",
    "Para adicionar cabeçalhos HTTP para uma requisição, simplesmente passe-os em um dict para o parâmetro headers.\n",
    "\n",
    "### Escolhendo o formato do arquivo desejando na API da Câmara dos Deputados\n",
    "- Escolhendo o formado xml"
   ]
  },
  {
   "cell_type": "code",
   "execution_count": null,
   "metadata": {
    "colab": {
     "base_uri": "https://localhost:8080/",
     "height": 158
    },
    "executionInfo": {
     "elapsed": 2450,
     "status": "ok",
     "timestamp": 1607990186089,
     "user": {
      "displayName": "Orlando O. S.",
      "photoUrl": "https://lh3.googleusercontent.com/a-/AOh14Gj-E1yuy1M_3ruwN4TWYPK4BwysauSW7GQmHheS=s64",
      "userId": "15066502291703974467"
     },
     "user_tz": 180
    },
    "id": "mnxxTqUzsKgh",
    "outputId": "62bca17a-acdf-4676-c319-3617935ac319"
   },
   "outputs": [],
   "source": [
    "import requests\n",
    "url = 'https://dadosabertos.camara.leg.br/api/v2/deputados' \n",
    "headers = {'accept': 'text/xml'}\n",
    "r = requests.get(url, headers=headers)\n",
    "r.text"
   ]
  },
  {
   "cell_type": "code",
   "execution_count": null,
   "metadata": {
    "colab": {
     "base_uri": "https://localhost:8080/",
     "height": 158
    },
    "executionInfo": {
     "elapsed": 2356,
     "status": "ok",
     "timestamp": 1607990195362,
     "user": {
      "displayName": "Orlando O. S.",
      "photoUrl": "https://lh3.googleusercontent.com/a-/AOh14Gj-E1yuy1M_3ruwN4TWYPK4BwysauSW7GQmHheS=s64",
      "userId": "15066502291703974467"
     },
     "user_tz": 180
    },
    "id": "VY3y9aoEc1bQ",
    "outputId": "b79155e9-cfe4-41d8-cbc0-7ad679ab914f"
   },
   "outputs": [],
   "source": [
    "\n",
    "import requests\n",
    "url = 'https://dadosabertos.camara.leg.br/api/v2/deputados' \n",
    "headers = {'accept': 'application/xml'}\n",
    "r = requests.get(url, headers=headers)\n",
    "r.text"
   ]
  },
  {
   "cell_type": "code",
   "execution_count": null,
   "metadata": {
    "colab": {
     "base_uri": "https://localhost:8080/",
     "height": 175
    },
    "executionInfo": {
     "elapsed": 2121,
     "status": "ok",
     "timestamp": 1607990203335,
     "user": {
      "displayName": "Orlando O. S.",
      "photoUrl": "https://lh3.googleusercontent.com/a-/AOh14Gj-E1yuy1M_3ruwN4TWYPK4BwysauSW7GQmHheS=s64",
      "userId": "15066502291703974467"
     },
     "user_tz": 180
    },
    "id": "onWNQQbxJaDt",
    "outputId": "57f6b322-c3f6-4fef-dd9d-929ee8397260"
   },
   "outputs": [],
   "source": [
    "url = 'https://dadosabertos.camara.leg.br/api/v2/deputados' \n",
    "headers = {'accept': 'application/json'}\n",
    "r = requests.get(url, headers=headers)\n",
    "r.text"
   ]
  },
  {
   "cell_type": "code",
   "execution_count": null,
   "metadata": {
    "colab": {
     "base_uri": "https://localhost:8080/"
    },
    "executionInfo": {
     "elapsed": 631,
     "status": "ok",
     "timestamp": 1607990296936,
     "user": {
      "displayName": "Orlando O. S.",
      "photoUrl": "https://lh3.googleusercontent.com/a-/AOh14Gj-E1yuy1M_3ruwN4TWYPK4BwysauSW7GQmHheS=s64",
      "userId": "15066502291703974467"
     },
     "user_tz": 180
    },
    "id": "RlUHsS7kdWqo",
    "outputId": "011837cc-c069-45a9-c789-2606ea76f35c"
   },
   "outputs": [],
   "source": [
    "for dep in list(r.json()['dados'])[:10]:\n",
    "    print(dep['nome'])"
   ]
  },
  {
   "cell_type": "markdown",
   "metadata": {
    "id": "OB3A5SfRt46-"
   },
   "source": [
    "## Passando parâmetros para a query string do Request\n",
    "\n",
    "\n"
   ]
  },
  {
   "cell_type": "code",
   "execution_count": null,
   "metadata": {
    "colab": {
     "base_uri": "https://localhost:8080/",
     "height": 193
    },
    "executionInfo": {
     "elapsed": 2287,
     "status": "ok",
     "timestamp": 1607990383206,
     "user": {
      "displayName": "Orlando O. S.",
      "photoUrl": "https://lh3.googleusercontent.com/a-/AOh14Gj-E1yuy1M_3ruwN4TWYPK4BwysauSW7GQmHheS=s64",
      "userId": "15066502291703974467"
     },
     "user_tz": 180
    },
    "id": "kH_pZRZ1tA4_",
    "outputId": "f3d453ab-7d56-4a39-814e-3f268c272b1c"
   },
   "outputs": [],
   "source": [
    "url = 'https://dadosabertos.camara.leg.br/api/v2/deputados' \n",
    "headers = {'accept': 'application/json'}\n",
    "parametros = {'ordem': 'DESC', 'ordenarPor': 'nome'}\n",
    "r = requests.get(url, headers=headers, params=parametros)\n",
    "print(r.url)\n",
    "r.text"
   ]
  }
 ],
 "metadata": {
  "colab": {
   "authorship_tag": "ABX9TyMKL7Jk9rXGzhft11Z9kHrg",
   "collapsed_sections": [],
   "name": "Aula Sobre Web Scrapping comPython - Pacote Requests.ipynb",
   "provenance": []
  },
  "kernelspec": {
   "display_name": "Python 3",
   "language": "python",
   "name": "python3"
  },
  "language_info": {
   "codemirror_mode": {
    "name": "ipython",
    "version": 3
   },
   "file_extension": ".py",
   "mimetype": "text/x-python",
   "name": "python",
   "nbconvert_exporter": "python",
   "pygments_lexer": "ipython3",
   "version": "3.7.8"
  }
 },
 "nbformat": 4,
 "nbformat_minor": 1
}
