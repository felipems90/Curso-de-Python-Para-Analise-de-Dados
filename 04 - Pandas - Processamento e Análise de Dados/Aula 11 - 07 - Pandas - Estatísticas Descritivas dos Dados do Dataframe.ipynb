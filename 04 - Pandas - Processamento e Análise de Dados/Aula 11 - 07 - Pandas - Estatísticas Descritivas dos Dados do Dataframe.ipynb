{
 "cells": [
  {
   "cell_type": "markdown",
   "metadata": {
    "id": "uGqJJfZ36iR6"
   },
   "source": [
    "# 04 - Pandas - Processamento e Análise de Dados\n",
    "## Aula 11 - 07 - Pandas - Estatísticas Descritivas dos Dados do Dataframe"
   ]
  },
  {
   "cell_type": "markdown",
   "metadata": {
    "id": "JNifjo59P9mf"
   },
   "source": [
    "## Professor: Orlando Oliveira dos Santos, MsC.\n",
    " - E-mail: professor.orlando.santos@gmail.com \n",
    " - Youtube :https://www.youtube.com/channel/UCPWWbkPWFmOjXH50TQWNAYg\n",
    " - Linkedin: https://linkedin.com/in/orlandoosantos\n",
    " - Facebook: https://www.facebook.com/proforlandosantosmsc/\n",
    " - Twitter: https://twitter.com/ProfOrlandoMsC\n",
    " - Instagram: https://www.instagram.com/proforlandosantosmsc/\n",
    "\n",
    "\n",
    "\n",
    "## Formação Acadêmica\n",
    "- Mestrado em Computação Aplicada - UnB (2014 – 2016)\t\n",
    "- MBA, Administração Estratégica de Sistemas de Informação – FGV (2011 – 2013)\n",
    "- Tecnólogo em Processamento de Dados, Análise e Desenvolvimento de Sistemas – FAETEC/SP (2000-2002)"
   ]
  },
  {
   "cell_type": "markdown",
   "metadata": {
    "id": "3eTDNWVHN6Fi"
   },
   "source": [
    "# Pandas - Estatísticas Descritivas dos Dados do Dataframe\n",
    "## Pandas\n",
    "\n",
    "O pandas é uma ferramenta de análise e manipulação de dados de código aberto rápida, poderosa, flexível e fácil de usar,\n",
    "construída sobre a linguagem de programação Python \n",
    "\n",
    "https://pandas.pydata.org/\n"
   ]
  },
  {
   "cell_type": "markdown",
   "metadata": {
    "id": "8Dg5YwJxS5HK"
   },
   "source": [
    "## Estruturas de dados do Pandas\n"
   ]
  },
  {
   "cell_type": "code",
   "execution_count": 1,
   "metadata": {
    "id": "NdylDEvvS5HK"
   },
   "outputs": [],
   "source": [
    "import numpy as np\n",
    "import pandas as pd"
   ]
  },
  {
   "cell_type": "markdown",
   "metadata": {
    "id": "Ck5UWWXVbVm2"
   },
   "source": [
    "## Estatísticas descritivas \n",
    "Existe um grande número de métodos para calcular estatísticas descritivas como sum(), mean()e quantile(),  cumsum()e cumprod()"
   ]
  },
  {
   "cell_type": "code",
   "execution_count": 2,
   "metadata": {
    "colab": {
     "base_uri": "https://localhost:8080/",
     "height": 233
    },
    "executionInfo": {
     "elapsed": 888,
     "status": "ok",
     "timestamp": 1606956965406,
     "user": {
      "displayName": "Orlando O. S.",
      "photoUrl": "https://lh3.googleusercontent.com/a-/AOh14Gj-E1yuy1M_3ruwN4TWYPK4BwysauSW7GQmHheS=s64",
      "userId": "15066502291703974467"
     },
     "user_tz": 180
    },
    "id": "9cmy-EcMbVm2",
    "outputId": "66b2f156-2bd2-4e63-a03f-4be6f1f5a7f9"
   },
   "outputs": [
    {
     "data": {
      "text/html": [
       "<div>\n",
       "<style scoped>\n",
       "    .dataframe tbody tr th:only-of-type {\n",
       "        vertical-align: middle;\n",
       "    }\n",
       "\n",
       "    .dataframe tbody tr th {\n",
       "        vertical-align: top;\n",
       "    }\n",
       "\n",
       "    .dataframe thead th {\n",
       "        text-align: right;\n",
       "    }\n",
       "</style>\n",
       "<table border=\"1\" class=\"dataframe\">\n",
       "  <thead>\n",
       "    <tr style=\"text-align: right;\">\n",
       "      <th></th>\n",
       "      <th>CASOS</th>\n",
       "      <th>OBITOS</th>\n",
       "    </tr>\n",
       "    <tr>\n",
       "      <th>UF</th>\n",
       "      <th></th>\n",
       "      <th></th>\n",
       "    </tr>\n",
       "  </thead>\n",
       "  <tbody>\n",
       "    <tr>\n",
       "      <th>Centro-Oeste</th>\n",
       "      <td>734005</td>\n",
       "      <td>15660</td>\n",
       "    </tr>\n",
       "    <tr>\n",
       "      <th>Nordeste</th>\n",
       "      <td>1553565</td>\n",
       "      <td>43546</td>\n",
       "    </tr>\n",
       "    <tr>\n",
       "      <th>Norte</th>\n",
       "      <td>739331</td>\n",
       "      <td>16428</td>\n",
       "    </tr>\n",
       "    <tr>\n",
       "      <th>Sudeste</th>\n",
       "      <td>2078787</td>\n",
       "      <td>76288</td>\n",
       "    </tr>\n",
       "    <tr>\n",
       "      <th>Sul</th>\n",
       "      <td>840161</td>\n",
       "      <td>15533</td>\n",
       "    </tr>\n",
       "  </tbody>\n",
       "</table>\n",
       "</div>"
      ],
      "text/plain": [
       "                CASOS  OBITOS\n",
       "UF                           \n",
       "Centro-Oeste   734005   15660\n",
       "Nordeste      1553565   43546\n",
       "Norte          739331   16428\n",
       "Sudeste       2078787   76288\n",
       "Sul            840161   15533"
      ]
     },
     "execution_count": 2,
     "metadata": {},
     "output_type": "execute_result"
    }
   ],
   "source": [
    "df = pd.read_csv('./content/totaisregioes_arr.csv', sep=';',names =['UF','CASOS','OBITOS'], index_col='UF')\n",
    "df"
   ]
  },
  {
   "cell_type": "code",
   "execution_count": 3,
   "metadata": {
    "colab": {
     "base_uri": "https://localhost:8080/"
    },
    "executionInfo": {
     "elapsed": 814,
     "status": "ok",
     "timestamp": 1606956969397,
     "user": {
      "displayName": "Orlando O. S.",
      "photoUrl": "https://lh3.googleusercontent.com/a-/AOh14Gj-E1yuy1M_3ruwN4TWYPK4BwysauSW7GQmHheS=s64",
      "userId": "15066502291703974467"
     },
     "user_tz": 180
    },
    "id": "ytpMMZR8bVm2",
    "outputId": "812aece8-e5a3-4db1-bfd3-ff085f7d6b6f"
   },
   "outputs": [
    {
     "data": {
      "text/plain": [
       "CASOS     1189169.8\n",
       "OBITOS      33491.0\n",
       "dtype: float64"
      ]
     },
     "execution_count": 3,
     "metadata": {},
     "output_type": "execute_result"
    }
   ],
   "source": [
    "df.mean(0)"
   ]
  },
  {
   "cell_type": "code",
   "execution_count": 4,
   "metadata": {
    "colab": {
     "base_uri": "https://localhost:8080/",
     "height": 110
    },
    "executionInfo": {
     "elapsed": 875,
     "status": "ok",
     "timestamp": 1606956977365,
     "user": {
      "displayName": "Orlando O. S.",
      "photoUrl": "https://lh3.googleusercontent.com/a-/AOh14Gj-E1yuy1M_3ruwN4TWYPK4BwysauSW7GQmHheS=s64",
      "userId": "15066502291703974467"
     },
     "user_tz": 180
    },
    "id": "qVKhPBkNbVm2",
    "outputId": "bb97761b-972d-45d4-a029-2c89f0025cc9"
   },
   "outputs": [
    {
     "data": {
      "text/html": [
       "<div>\n",
       "<style scoped>\n",
       "    .dataframe tbody tr th:only-of-type {\n",
       "        vertical-align: middle;\n",
       "    }\n",
       "\n",
       "    .dataframe tbody tr th {\n",
       "        vertical-align: top;\n",
       "    }\n",
       "\n",
       "    .dataframe thead th {\n",
       "        text-align: right;\n",
       "    }\n",
       "</style>\n",
       "<table border=\"1\" class=\"dataframe\">\n",
       "  <thead>\n",
       "    <tr style=\"text-align: right;\">\n",
       "      <th>UF</th>\n",
       "      <th>Centro-Oeste</th>\n",
       "      <th>Nordeste</th>\n",
       "      <th>Norte</th>\n",
       "      <th>Sudeste</th>\n",
       "      <th>Sul</th>\n",
       "    </tr>\n",
       "  </thead>\n",
       "  <tbody>\n",
       "    <tr>\n",
       "      <th>CASOS</th>\n",
       "      <td>734005</td>\n",
       "      <td>1553565</td>\n",
       "      <td>739331</td>\n",
       "      <td>2078787</td>\n",
       "      <td>840161</td>\n",
       "    </tr>\n",
       "    <tr>\n",
       "      <th>OBITOS</th>\n",
       "      <td>15660</td>\n",
       "      <td>43546</td>\n",
       "      <td>16428</td>\n",
       "      <td>76288</td>\n",
       "      <td>15533</td>\n",
       "    </tr>\n",
       "  </tbody>\n",
       "</table>\n",
       "</div>"
      ],
      "text/plain": [
       "UF      Centro-Oeste  Nordeste   Norte  Sudeste     Sul\n",
       "CASOS         734005   1553565  739331  2078787  840161\n",
       "OBITOS         15660     43546   16428    76288   15533"
      ]
     },
     "execution_count": 4,
     "metadata": {},
     "output_type": "execute_result"
    }
   ],
   "source": [
    "df2 = df.T\n",
    "df2"
   ]
  },
  {
   "cell_type": "code",
   "execution_count": 5,
   "metadata": {
    "colab": {
     "base_uri": "https://localhost:8080/"
    },
    "executionInfo": {
     "elapsed": 848,
     "status": "ok",
     "timestamp": 1606956991605,
     "user": {
      "displayName": "Orlando O. S.",
      "photoUrl": "https://lh3.googleusercontent.com/a-/AOh14Gj-E1yuy1M_3ruwN4TWYPK4BwysauSW7GQmHheS=s64",
      "userId": "15066502291703974467"
     },
     "user_tz": 180
    },
    "id": "9FTk6vcnbVm2",
    "outputId": "ef571705-dd47-4df0-afa5-b3233e865188"
   },
   "outputs": [
    {
     "data": {
      "text/plain": [
       "CASOS     1189169.8\n",
       "OBITOS      33491.0\n",
       "dtype: float64"
      ]
     },
     "execution_count": 5,
     "metadata": {},
     "output_type": "execute_result"
    }
   ],
   "source": [
    "df2.mean(1)"
   ]
  },
  {
   "cell_type": "markdown",
   "metadata": {
    "id": "U3X8_vqIbVm3"
   },
   "source": [
    "Todos esses métodos têm uma skipna opção sinalizando se deve excluir dados ausentes ( True por padrão):"
   ]
  },
  {
   "cell_type": "code",
   "execution_count": 6,
   "metadata": {
    "colab": {
     "base_uri": "https://localhost:8080/"
    },
    "executionInfo": {
     "elapsed": 777,
     "status": "ok",
     "timestamp": 1606957045636,
     "user": {
      "displayName": "Orlando O. S.",
      "photoUrl": "https://lh3.googleusercontent.com/a-/AOh14Gj-E1yuy1M_3ruwN4TWYPK4BwysauSW7GQmHheS=s64",
      "userId": "15066502291703974467"
     },
     "user_tz": 180
    },
    "id": "ysEx1qrtbVm3",
    "outputId": "8e2c1c50-3c73-4f76-8f5d-c2f67a1b8ea6"
   },
   "outputs": [
    {
     "data": {
      "text/plain": [
       "CASOS     5945849\n",
       "OBITOS     167455\n",
       "dtype: int64"
      ]
     },
     "execution_count": 6,
     "metadata": {},
     "output_type": "execute_result"
    }
   ],
   "source": [
    "df.sum(0, skipna=False)"
   ]
  },
  {
   "cell_type": "code",
   "execution_count": 7,
   "metadata": {
    "colab": {
     "base_uri": "https://localhost:8080/"
    },
    "executionInfo": {
     "elapsed": 757,
     "status": "ok",
     "timestamp": 1606957050544,
     "user": {
      "displayName": "Orlando O. S.",
      "photoUrl": "https://lh3.googleusercontent.com/a-/AOh14Gj-E1yuy1M_3ruwN4TWYPK4BwysauSW7GQmHheS=s64",
      "userId": "15066502291703974467"
     },
     "user_tz": 180
    },
    "id": "7dHpkGD4bVm3",
    "outputId": "cdadf07c-a788-46d6-d410-abee253810e2"
   },
   "outputs": [
    {
     "data": {
      "text/plain": [
       "CASOS     5945849\n",
       "OBITOS     167455\n",
       "dtype: int64"
      ]
     },
     "execution_count": 7,
     "metadata": {},
     "output_type": "execute_result"
    }
   ],
   "source": [
    "df.sum(axis=0, skipna=True)"
   ]
  },
  {
   "cell_type": "markdown",
   "metadata": {
    "id": "R-zk-lZ8bVm3"
   },
   "source": [
    "## Combinado com o comportamento aritmético / de transmissão"
   ]
  },
  {
   "cell_type": "code",
   "execution_count": 8,
   "metadata": {
    "colab": {
     "base_uri": "https://localhost:8080/",
     "height": 233
    },
    "executionInfo": {
     "elapsed": 843,
     "status": "ok",
     "timestamp": 1606957083409,
     "user": {
      "displayName": "Orlando O. S.",
      "photoUrl": "https://lh3.googleusercontent.com/a-/AOh14Gj-E1yuy1M_3ruwN4TWYPK4BwysauSW7GQmHheS=s64",
      "userId": "15066502291703974467"
     },
     "user_tz": 180
    },
    "id": "pgGfDRlGbVm3",
    "outputId": "05f2a2a1-5d17-4952-d39c-5af094db1a6e"
   },
   "outputs": [
    {
     "data": {
      "text/html": [
       "<div>\n",
       "<style scoped>\n",
       "    .dataframe tbody tr th:only-of-type {\n",
       "        vertical-align: middle;\n",
       "    }\n",
       "\n",
       "    .dataframe tbody tr th {\n",
       "        vertical-align: top;\n",
       "    }\n",
       "\n",
       "    .dataframe thead th {\n",
       "        text-align: right;\n",
       "    }\n",
       "</style>\n",
       "<table border=\"1\" class=\"dataframe\">\n",
       "  <thead>\n",
       "    <tr style=\"text-align: right;\">\n",
       "      <th></th>\n",
       "      <th>CASOS</th>\n",
       "      <th>OBITOS</th>\n",
       "    </tr>\n",
       "    <tr>\n",
       "      <th>UF</th>\n",
       "      <th></th>\n",
       "      <th></th>\n",
       "    </tr>\n",
       "  </thead>\n",
       "  <tbody>\n",
       "    <tr>\n",
       "      <th>Centro-Oeste</th>\n",
       "      <td>-455164.8</td>\n",
       "      <td>-17831.0</td>\n",
       "    </tr>\n",
       "    <tr>\n",
       "      <th>Nordeste</th>\n",
       "      <td>364395.2</td>\n",
       "      <td>10055.0</td>\n",
       "    </tr>\n",
       "    <tr>\n",
       "      <th>Norte</th>\n",
       "      <td>-449838.8</td>\n",
       "      <td>-17063.0</td>\n",
       "    </tr>\n",
       "    <tr>\n",
       "      <th>Sudeste</th>\n",
       "      <td>889617.2</td>\n",
       "      <td>42797.0</td>\n",
       "    </tr>\n",
       "    <tr>\n",
       "      <th>Sul</th>\n",
       "      <td>-349008.8</td>\n",
       "      <td>-17958.0</td>\n",
       "    </tr>\n",
       "  </tbody>\n",
       "</table>\n",
       "</div>"
      ],
      "text/plain": [
       "                 CASOS   OBITOS\n",
       "UF                             \n",
       "Centro-Oeste -455164.8 -17831.0\n",
       "Nordeste      364395.2  10055.0\n",
       "Norte        -449838.8 -17063.0\n",
       "Sudeste       889617.2  42797.0\n",
       "Sul          -349008.8 -17958.0"
      ]
     },
     "execution_count": 8,
     "metadata": {},
     "output_type": "execute_result"
    }
   ],
   "source": [
    "desvio = (df - df.mean()) \n",
    "desvio"
   ]
  },
  {
   "cell_type": "code",
   "execution_count": 9,
   "metadata": {
    "colab": {
     "base_uri": "https://localhost:8080/",
     "height": 233
    },
    "executionInfo": {
     "elapsed": 886,
     "status": "ok",
     "timestamp": 1606957189373,
     "user": {
      "displayName": "Orlando O. S.",
      "photoUrl": "https://lh3.googleusercontent.com/a-/AOh14Gj-E1yuy1M_3ruwN4TWYPK4BwysauSW7GQmHheS=s64",
      "userId": "15066502291703974467"
     },
     "user_tz": 180
    },
    "id": "0aTYQXCEbVm3",
    "outputId": "c0c49965-ebcc-44c4-f09d-3563a1912243"
   },
   "outputs": [
    {
     "data": {
      "text/html": [
       "<div>\n",
       "<style scoped>\n",
       "    .dataframe tbody tr th:only-of-type {\n",
       "        vertical-align: middle;\n",
       "    }\n",
       "\n",
       "    .dataframe tbody tr th {\n",
       "        vertical-align: top;\n",
       "    }\n",
       "\n",
       "    .dataframe thead th {\n",
       "        text-align: right;\n",
       "    }\n",
       "</style>\n",
       "<table border=\"1\" class=\"dataframe\">\n",
       "  <thead>\n",
       "    <tr style=\"text-align: right;\">\n",
       "      <th></th>\n",
       "      <th>CASOS</th>\n",
       "      <th>OBITOS</th>\n",
       "    </tr>\n",
       "    <tr>\n",
       "      <th>UF</th>\n",
       "      <th></th>\n",
       "      <th></th>\n",
       "    </tr>\n",
       "  </thead>\n",
       "  <tbody>\n",
       "    <tr>\n",
       "      <th>Centro-Oeste</th>\n",
       "      <td>734005</td>\n",
       "      <td>15660</td>\n",
       "    </tr>\n",
       "    <tr>\n",
       "      <th>Nordeste</th>\n",
       "      <td>2287570</td>\n",
       "      <td>59206</td>\n",
       "    </tr>\n",
       "    <tr>\n",
       "      <th>Norte</th>\n",
       "      <td>3026901</td>\n",
       "      <td>75634</td>\n",
       "    </tr>\n",
       "    <tr>\n",
       "      <th>Sudeste</th>\n",
       "      <td>5105688</td>\n",
       "      <td>151922</td>\n",
       "    </tr>\n",
       "    <tr>\n",
       "      <th>Sul</th>\n",
       "      <td>5945849</td>\n",
       "      <td>167455</td>\n",
       "    </tr>\n",
       "  </tbody>\n",
       "</table>\n",
       "</div>"
      ],
      "text/plain": [
       "                CASOS  OBITOS\n",
       "UF                           \n",
       "Centro-Oeste   734005   15660\n",
       "Nordeste      2287570   59206\n",
       "Norte         3026901   75634\n",
       "Sudeste       5105688  151922\n",
       "Sul           5945849  167455"
      ]
     },
     "execution_count": 9,
     "metadata": {},
     "output_type": "execute_result"
    }
   ],
   "source": [
    "df.cumsum()"
   ]
  },
  {
   "cell_type": "markdown",
   "metadata": {
    "id": "AaaQs4yVbVm3"
   },
   "source": [
    "### Função Comuns"
   ]
  },
  {
   "cell_type": "markdown",
   "metadata": {
    "id": "WGsE1m8pbVm3"
   },
   "source": [
    "- count: Número de observações não NA\n",
    "- sum : Soma de valores\n",
    "- mean : Média dos valores\n",
    "- mad: Desvio médio absoluto\n",
    "- median: Mediana aritmética de valores\n",
    "- min: Mínimo\n",
    "- max: Máximo\n",
    "- mode: Modo\n",
    "- abs: Valor absoluto\n",
    "- prod ;Produto de valores\n",
    "- std: Desvio padrão da amostra corrigido por Bessel\n",
    "- var: Variância imparcial\n",
    "- sem: Erro padrão da média\n",
    "- skew: Amostra de assimetria (3º momento)\n",
    "- kurt: Curtose de amostra (4º momento)\n",
    "- quantile: Quantil de amostra (valor em%)\n",
    "- cumsum: Soma cumulativa\n",
    "- cumprod: Produto cumulativo\n",
    "- cummax: Máximo cumulativo\n",
    "- cummin: Mínimo cumulativo"
   ]
  },
  {
   "cell_type": "markdown",
   "metadata": {
    "id": "pOvoiEPjbVm3"
   },
   "source": [
    "### Series.nunique() \n",
    "retornará o número de valores não NA exclusivos em uma série:"
   ]
  },
  {
   "cell_type": "code",
   "execution_count": 10,
   "metadata": {
    "colab": {
     "base_uri": "https://localhost:8080/"
    },
    "executionInfo": {
     "elapsed": 912,
     "status": "ok",
     "timestamp": 1606957274855,
     "user": {
      "displayName": "Orlando O. S.",
      "photoUrl": "https://lh3.googleusercontent.com/a-/AOh14Gj-E1yuy1M_3ruwN4TWYPK4BwysauSW7GQmHheS=s64",
      "userId": "15066502291703974467"
     },
     "user_tz": 180
    },
    "id": "FS_jAZdKbVm3",
    "outputId": "a1730810-8110-42de-cfd2-f5933d56add7"
   },
   "outputs": [
    {
     "name": "stdout",
     "output_type": "stream",
     "text": [
      "0    112\n",
      "1    135\n",
      "2    100\n",
      "3    126\n",
      "4    142\n",
      "5    103\n",
      "6    128\n",
      "7    149\n",
      "8    125\n",
      "9    117\n",
      "dtype: int32\n",
      "10\n"
     ]
    }
   ],
   "source": [
    "series = pd.Series(np.random.randint(100,150,10))\n",
    "print(series)\n",
    "series.unique()\n",
    "print(series.nunique())"
   ]
  },
  {
   "cell_type": "markdown",
   "metadata": {
    "id": "QABLh-lMbVm3"
   },
   "source": [
    "## Resumindo os dados com :describe() \n",
    "Describe() função conveniente que calcula uma variedade de estatísticas resumidas sobre uma série ou colunas de um DataFrame (excluindo NAs):"
   ]
  },
  {
   "cell_type": "code",
   "execution_count": 11,
   "metadata": {
    "colab": {
     "base_uri": "https://localhost:8080/"
    },
    "executionInfo": {
     "elapsed": 700,
     "status": "ok",
     "timestamp": 1606957325656,
     "user": {
      "displayName": "Orlando O. S.",
      "photoUrl": "https://lh3.googleusercontent.com/a-/AOh14Gj-E1yuy1M_3ruwN4TWYPK4BwysauSW7GQmHheS=s64",
      "userId": "15066502291703974467"
     },
     "user_tz": 180
    },
    "id": "9_SEZzFqbVm3",
    "outputId": "978aef30-71f5-4d49-9484-3f3a4ecfee87"
   },
   "outputs": [
    {
     "data": {
      "text/plain": [
       "0   -0.691855\n",
       "2    1.481085\n",
       "4   -0.809886\n",
       "6    0.465082\n",
       "8    2.076143\n",
       "dtype: float64"
      ]
     },
     "execution_count": 11,
     "metadata": {},
     "output_type": "execute_result"
    }
   ],
   "source": [
    "series = pd.Series(np.random.randn(10))\n",
    "series[::2]"
   ]
  },
  {
   "cell_type": "code",
   "execution_count": 12,
   "metadata": {
    "colab": {
     "base_uri": "https://localhost:8080/"
    },
    "executionInfo": {
     "elapsed": 876,
     "status": "ok",
     "timestamp": 1606957327670,
     "user": {
      "displayName": "Orlando O. S.",
      "photoUrl": "https://lh3.googleusercontent.com/a-/AOh14Gj-E1yuy1M_3ruwN4TWYPK4BwysauSW7GQmHheS=s64",
      "userId": "15066502291703974467"
     },
     "user_tz": 180
    },
    "id": "yGiyyavvbVm3",
    "outputId": "791f5afb-f111-46fb-9407-4844d383b6fa"
   },
   "outputs": [
    {
     "data": {
      "text/plain": [
       "0         NaN\n",
       "1    0.217429\n",
       "2         NaN\n",
       "3    0.052257\n",
       "4         NaN\n",
       "5    0.339029\n",
       "6         NaN\n",
       "7    0.250409\n",
       "8         NaN\n",
       "9    0.598727\n",
       "dtype: float64"
      ]
     },
     "execution_count": 12,
     "metadata": {},
     "output_type": "execute_result"
    }
   ],
   "source": [
    "series[::2] = np.nan\n",
    "series"
   ]
  },
  {
   "cell_type": "code",
   "execution_count": 13,
   "metadata": {
    "colab": {
     "base_uri": "https://localhost:8080/"
    },
    "executionInfo": {
     "elapsed": 772,
     "status": "ok",
     "timestamp": 1606957335813,
     "user": {
      "displayName": "Orlando O. S.",
      "photoUrl": "https://lh3.googleusercontent.com/a-/AOh14Gj-E1yuy1M_3ruwN4TWYPK4BwysauSW7GQmHheS=s64",
      "userId": "15066502291703974467"
     },
     "user_tz": 180
    },
    "id": "uMtZA70ObVm3",
    "outputId": "3afe224f-131d-43ec-c7bd-86261eb9a8da"
   },
   "outputs": [
    {
     "data": {
      "text/plain": [
       "count    5.000000\n",
       "mean     0.291570\n",
       "std      0.200661\n",
       "min      0.052257\n",
       "25%      0.217429\n",
       "50%      0.250409\n",
       "75%      0.339029\n",
       "max      0.598727\n",
       "dtype: float64"
      ]
     },
     "execution_count": 13,
     "metadata": {},
     "output_type": "execute_result"
    }
   ],
   "source": [
    "series.describe()"
   ]
  },
  {
   "cell_type": "code",
   "execution_count": 14,
   "metadata": {
    "colab": {
     "base_uri": "https://localhost:8080/",
     "height": 357
    },
    "executionInfo": {
     "elapsed": 1026,
     "status": "ok",
     "timestamp": 1606957415499,
     "user": {
      "displayName": "Orlando O. S.",
      "photoUrl": "https://lh3.googleusercontent.com/a-/AOh14Gj-E1yuy1M_3ruwN4TWYPK4BwysauSW7GQmHheS=s64",
      "userId": "15066502291703974467"
     },
     "user_tz": 180
    },
    "id": "Em_K1bnsbVm3",
    "outputId": "7eb0b11a-e62b-42ed-8c7a-dabbeb9129bc"
   },
   "outputs": [
    {
     "data": {
      "text/html": [
       "<div>\n",
       "<style scoped>\n",
       "    .dataframe tbody tr th:only-of-type {\n",
       "        vertical-align: middle;\n",
       "    }\n",
       "\n",
       "    .dataframe tbody tr th {\n",
       "        vertical-align: top;\n",
       "    }\n",
       "\n",
       "    .dataframe thead th {\n",
       "        text-align: right;\n",
       "    }\n",
       "</style>\n",
       "<table border=\"1\" class=\"dataframe\">\n",
       "  <thead>\n",
       "    <tr style=\"text-align: right;\">\n",
       "      <th></th>\n",
       "      <th>a</th>\n",
       "      <th>b</th>\n",
       "      <th>c</th>\n",
       "      <th>d</th>\n",
       "      <th>e</th>\n",
       "    </tr>\n",
       "  </thead>\n",
       "  <tbody>\n",
       "    <tr>\n",
       "      <th>0</th>\n",
       "      <td>-0.670969</td>\n",
       "      <td>0.556258</td>\n",
       "      <td>-0.171905</td>\n",
       "      <td>1.847292</td>\n",
       "      <td>0.064458</td>\n",
       "    </tr>\n",
       "    <tr>\n",
       "      <th>1</th>\n",
       "      <td>-0.758956</td>\n",
       "      <td>-1.005167</td>\n",
       "      <td>1.753226</td>\n",
       "      <td>0.511697</td>\n",
       "      <td>-0.747891</td>\n",
       "    </tr>\n",
       "    <tr>\n",
       "      <th>2</th>\n",
       "      <td>-1.622330</td>\n",
       "      <td>-1.867684</td>\n",
       "      <td>0.666846</td>\n",
       "      <td>-1.128170</td>\n",
       "      <td>0.847080</td>\n",
       "    </tr>\n",
       "    <tr>\n",
       "      <th>3</th>\n",
       "      <td>-0.509682</td>\n",
       "      <td>0.829846</td>\n",
       "      <td>-2.847759</td>\n",
       "      <td>0.868310</td>\n",
       "      <td>0.891832</td>\n",
       "    </tr>\n",
       "    <tr>\n",
       "      <th>4</th>\n",
       "      <td>0.272411</td>\n",
       "      <td>-0.813158</td>\n",
       "      <td>1.235552</td>\n",
       "      <td>-0.253376</td>\n",
       "      <td>-1.243086</td>\n",
       "    </tr>\n",
       "    <tr>\n",
       "      <th>5</th>\n",
       "      <td>1.169720</td>\n",
       "      <td>-0.790300</td>\n",
       "      <td>0.675137</td>\n",
       "      <td>1.999245</td>\n",
       "      <td>-0.733086</td>\n",
       "    </tr>\n",
       "    <tr>\n",
       "      <th>6</th>\n",
       "      <td>1.348166</td>\n",
       "      <td>-1.200926</td>\n",
       "      <td>-2.441887</td>\n",
       "      <td>1.001535</td>\n",
       "      <td>-0.011194</td>\n",
       "    </tr>\n",
       "    <tr>\n",
       "      <th>7</th>\n",
       "      <td>0.300978</td>\n",
       "      <td>-0.235816</td>\n",
       "      <td>0.855715</td>\n",
       "      <td>1.026085</td>\n",
       "      <td>-1.015722</td>\n",
       "    </tr>\n",
       "    <tr>\n",
       "      <th>8</th>\n",
       "      <td>1.086260</td>\n",
       "      <td>-0.925942</td>\n",
       "      <td>-0.679304</td>\n",
       "      <td>-0.705552</td>\n",
       "      <td>0.048928</td>\n",
       "    </tr>\n",
       "    <tr>\n",
       "      <th>9</th>\n",
       "      <td>-0.593288</td>\n",
       "      <td>1.153318</td>\n",
       "      <td>1.059611</td>\n",
       "      <td>-0.585237</td>\n",
       "      <td>-0.186586</td>\n",
       "    </tr>\n",
       "  </tbody>\n",
       "</table>\n",
       "</div>"
      ],
      "text/plain": [
       "          a         b         c         d         e\n",
       "0 -0.670969  0.556258 -0.171905  1.847292  0.064458\n",
       "1 -0.758956 -1.005167  1.753226  0.511697 -0.747891\n",
       "2 -1.622330 -1.867684  0.666846 -1.128170  0.847080\n",
       "3 -0.509682  0.829846 -2.847759  0.868310  0.891832\n",
       "4  0.272411 -0.813158  1.235552 -0.253376 -1.243086\n",
       "5  1.169720 -0.790300  0.675137  1.999245 -0.733086\n",
       "6  1.348166 -1.200926 -2.441887  1.001535 -0.011194\n",
       "7  0.300978 -0.235816  0.855715  1.026085 -1.015722\n",
       "8  1.086260 -0.925942 -0.679304 -0.705552  0.048928\n",
       "9 -0.593288  1.153318  1.059611 -0.585237 -0.186586"
      ]
     },
     "execution_count": 14,
     "metadata": {},
     "output_type": "execute_result"
    }
   ],
   "source": [
    "df = pd.DataFrame(np.random.randn(10, 5), columns=['a', 'b', 'c', 'd', 'e'])\n",
    "df"
   ]
  },
  {
   "cell_type": "code",
   "execution_count": 15,
   "metadata": {
    "colab": {
     "base_uri": "https://localhost:8080/",
     "height": 357
    },
    "executionInfo": {
     "elapsed": 770,
     "status": "ok",
     "timestamp": 1606957425541,
     "user": {
      "displayName": "Orlando O. S.",
      "photoUrl": "https://lh3.googleusercontent.com/a-/AOh14Gj-E1yuy1M_3ruwN4TWYPK4BwysauSW7GQmHheS=s64",
      "userId": "15066502291703974467"
     },
     "user_tz": 180
    },
    "id": "RK4MLJFYbVm3",
    "outputId": "62324c50-0613-4a6f-9839-828cbaad955e"
   },
   "outputs": [
    {
     "data": {
      "text/html": [
       "<div>\n",
       "<style scoped>\n",
       "    .dataframe tbody tr th:only-of-type {\n",
       "        vertical-align: middle;\n",
       "    }\n",
       "\n",
       "    .dataframe tbody tr th {\n",
       "        vertical-align: top;\n",
       "    }\n",
       "\n",
       "    .dataframe thead th {\n",
       "        text-align: right;\n",
       "    }\n",
       "</style>\n",
       "<table border=\"1\" class=\"dataframe\">\n",
       "  <thead>\n",
       "    <tr style=\"text-align: right;\">\n",
       "      <th></th>\n",
       "      <th>a</th>\n",
       "      <th>b</th>\n",
       "      <th>c</th>\n",
       "      <th>d</th>\n",
       "      <th>e</th>\n",
       "    </tr>\n",
       "  </thead>\n",
       "  <tbody>\n",
       "    <tr>\n",
       "      <th>0</th>\n",
       "      <td>NaN</td>\n",
       "      <td>NaN</td>\n",
       "      <td>NaN</td>\n",
       "      <td>NaN</td>\n",
       "      <td>NaN</td>\n",
       "    </tr>\n",
       "    <tr>\n",
       "      <th>1</th>\n",
       "      <td>-0.758956</td>\n",
       "      <td>-1.005167</td>\n",
       "      <td>1.753226</td>\n",
       "      <td>0.511697</td>\n",
       "      <td>-0.747891</td>\n",
       "    </tr>\n",
       "    <tr>\n",
       "      <th>2</th>\n",
       "      <td>NaN</td>\n",
       "      <td>NaN</td>\n",
       "      <td>NaN</td>\n",
       "      <td>NaN</td>\n",
       "      <td>NaN</td>\n",
       "    </tr>\n",
       "    <tr>\n",
       "      <th>3</th>\n",
       "      <td>-0.509682</td>\n",
       "      <td>0.829846</td>\n",
       "      <td>-2.847759</td>\n",
       "      <td>0.868310</td>\n",
       "      <td>0.891832</td>\n",
       "    </tr>\n",
       "    <tr>\n",
       "      <th>4</th>\n",
       "      <td>NaN</td>\n",
       "      <td>NaN</td>\n",
       "      <td>NaN</td>\n",
       "      <td>NaN</td>\n",
       "      <td>NaN</td>\n",
       "    </tr>\n",
       "    <tr>\n",
       "      <th>5</th>\n",
       "      <td>1.169720</td>\n",
       "      <td>-0.790300</td>\n",
       "      <td>0.675137</td>\n",
       "      <td>1.999245</td>\n",
       "      <td>-0.733086</td>\n",
       "    </tr>\n",
       "    <tr>\n",
       "      <th>6</th>\n",
       "      <td>NaN</td>\n",
       "      <td>NaN</td>\n",
       "      <td>NaN</td>\n",
       "      <td>NaN</td>\n",
       "      <td>NaN</td>\n",
       "    </tr>\n",
       "    <tr>\n",
       "      <th>7</th>\n",
       "      <td>0.300978</td>\n",
       "      <td>-0.235816</td>\n",
       "      <td>0.855715</td>\n",
       "      <td>1.026085</td>\n",
       "      <td>-1.015722</td>\n",
       "    </tr>\n",
       "    <tr>\n",
       "      <th>8</th>\n",
       "      <td>NaN</td>\n",
       "      <td>NaN</td>\n",
       "      <td>NaN</td>\n",
       "      <td>NaN</td>\n",
       "      <td>NaN</td>\n",
       "    </tr>\n",
       "    <tr>\n",
       "      <th>9</th>\n",
       "      <td>-0.593288</td>\n",
       "      <td>1.153318</td>\n",
       "      <td>1.059611</td>\n",
       "      <td>-0.585237</td>\n",
       "      <td>-0.186586</td>\n",
       "    </tr>\n",
       "  </tbody>\n",
       "</table>\n",
       "</div>"
      ],
      "text/plain": [
       "          a         b         c         d         e\n",
       "0       NaN       NaN       NaN       NaN       NaN\n",
       "1 -0.758956 -1.005167  1.753226  0.511697 -0.747891\n",
       "2       NaN       NaN       NaN       NaN       NaN\n",
       "3 -0.509682  0.829846 -2.847759  0.868310  0.891832\n",
       "4       NaN       NaN       NaN       NaN       NaN\n",
       "5  1.169720 -0.790300  0.675137  1.999245 -0.733086\n",
       "6       NaN       NaN       NaN       NaN       NaN\n",
       "7  0.300978 -0.235816  0.855715  1.026085 -1.015722\n",
       "8       NaN       NaN       NaN       NaN       NaN\n",
       "9 -0.593288  1.153318  1.059611 -0.585237 -0.186586"
      ]
     },
     "execution_count": 15,
     "metadata": {},
     "output_type": "execute_result"
    }
   ],
   "source": [
    "df.iloc[::2] = np.nan\n",
    "df"
   ]
  },
  {
   "cell_type": "code",
   "execution_count": 16,
   "metadata": {
    "colab": {
     "base_uri": "https://localhost:8080/",
     "height": 295
    },
    "executionInfo": {
     "elapsed": 898,
     "status": "ok",
     "timestamp": 1606957434962,
     "user": {
      "displayName": "Orlando O. S.",
      "photoUrl": "https://lh3.googleusercontent.com/a-/AOh14Gj-E1yuy1M_3ruwN4TWYPK4BwysauSW7GQmHheS=s64",
      "userId": "15066502291703974467"
     },
     "user_tz": 180
    },
    "id": "c--LGC5ObVm3",
    "outputId": "2dcfe002-cb32-45ca-ad86-d5b7fbfdd573"
   },
   "outputs": [
    {
     "data": {
      "text/html": [
       "<div>\n",
       "<style scoped>\n",
       "    .dataframe tbody tr th:only-of-type {\n",
       "        vertical-align: middle;\n",
       "    }\n",
       "\n",
       "    .dataframe tbody tr th {\n",
       "        vertical-align: top;\n",
       "    }\n",
       "\n",
       "    .dataframe thead th {\n",
       "        text-align: right;\n",
       "    }\n",
       "</style>\n",
       "<table border=\"1\" class=\"dataframe\">\n",
       "  <thead>\n",
       "    <tr style=\"text-align: right;\">\n",
       "      <th></th>\n",
       "      <th>a</th>\n",
       "      <th>b</th>\n",
       "      <th>c</th>\n",
       "      <th>d</th>\n",
       "      <th>e</th>\n",
       "    </tr>\n",
       "  </thead>\n",
       "  <tbody>\n",
       "    <tr>\n",
       "      <th>count</th>\n",
       "      <td>5.000000</td>\n",
       "      <td>5.000000</td>\n",
       "      <td>5.000000</td>\n",
       "      <td>5.000000</td>\n",
       "      <td>5.000000</td>\n",
       "    </tr>\n",
       "    <tr>\n",
       "      <th>mean</th>\n",
       "      <td>-0.078245</td>\n",
       "      <td>-0.009624</td>\n",
       "      <td>0.299186</td>\n",
       "      <td>0.764020</td>\n",
       "      <td>-0.358291</td>\n",
       "    </tr>\n",
       "    <tr>\n",
       "      <th>std</th>\n",
       "      <td>0.808703</td>\n",
       "      <td>0.962921</td>\n",
       "      <td>1.806018</td>\n",
       "      <td>0.934010</td>\n",
       "      <td>0.761046</td>\n",
       "    </tr>\n",
       "    <tr>\n",
       "      <th>min</th>\n",
       "      <td>-0.758956</td>\n",
       "      <td>-1.005167</td>\n",
       "      <td>-2.847759</td>\n",
       "      <td>-0.585237</td>\n",
       "      <td>-1.015722</td>\n",
       "    </tr>\n",
       "    <tr>\n",
       "      <th>25%</th>\n",
       "      <td>-0.593288</td>\n",
       "      <td>-0.790300</td>\n",
       "      <td>0.675137</td>\n",
       "      <td>0.511697</td>\n",
       "      <td>-0.747891</td>\n",
       "    </tr>\n",
       "    <tr>\n",
       "      <th>50%</th>\n",
       "      <td>-0.509682</td>\n",
       "      <td>-0.235816</td>\n",
       "      <td>0.855715</td>\n",
       "      <td>0.868310</td>\n",
       "      <td>-0.733086</td>\n",
       "    </tr>\n",
       "    <tr>\n",
       "      <th>75%</th>\n",
       "      <td>0.300978</td>\n",
       "      <td>0.829846</td>\n",
       "      <td>1.059611</td>\n",
       "      <td>1.026085</td>\n",
       "      <td>-0.186586</td>\n",
       "    </tr>\n",
       "    <tr>\n",
       "      <th>max</th>\n",
       "      <td>1.169720</td>\n",
       "      <td>1.153318</td>\n",
       "      <td>1.753226</td>\n",
       "      <td>1.999245</td>\n",
       "      <td>0.891832</td>\n",
       "    </tr>\n",
       "  </tbody>\n",
       "</table>\n",
       "</div>"
      ],
      "text/plain": [
       "              a         b         c         d         e\n",
       "count  5.000000  5.000000  5.000000  5.000000  5.000000\n",
       "mean  -0.078245 -0.009624  0.299186  0.764020 -0.358291\n",
       "std    0.808703  0.962921  1.806018  0.934010  0.761046\n",
       "min   -0.758956 -1.005167 -2.847759 -0.585237 -1.015722\n",
       "25%   -0.593288 -0.790300  0.675137  0.511697 -0.747891\n",
       "50%   -0.509682 -0.235816  0.855715  0.868310 -0.733086\n",
       "75%    0.300978  0.829846  1.059611  1.026085 -0.186586\n",
       "max    1.169720  1.153318  1.753226  1.999245  0.891832"
      ]
     },
     "execution_count": 16,
     "metadata": {},
     "output_type": "execute_result"
    }
   ],
   "source": [
    "df.describe()"
   ]
  },
  {
   "cell_type": "markdown",
   "metadata": {
    "id": "YqCuy18WbVm4"
   },
   "source": [
    "#### Você pode selecionar percentis específicos para incluir na saída:"
   ]
  },
  {
   "cell_type": "code",
   "execution_count": 17,
   "metadata": {
    "colab": {
     "base_uri": "https://localhost:8080/"
    },
    "executionInfo": {
     "elapsed": 1009,
     "status": "ok",
     "timestamp": 1606957475350,
     "user": {
      "displayName": "Orlando O. S.",
      "photoUrl": "https://lh3.googleusercontent.com/a-/AOh14Gj-E1yuy1M_3ruwN4TWYPK4BwysauSW7GQmHheS=s64",
      "userId": "15066502291703974467"
     },
     "user_tz": 180
    },
    "id": "jRsTCdqFbVm4",
    "outputId": "9fb27279-b36d-47f7-e23e-c2a17904ba48"
   },
   "outputs": [
    {
     "data": {
      "text/plain": [
       "count    5.000000\n",
       "mean     0.291570\n",
       "std      0.200661\n",
       "min      0.052257\n",
       "5%       0.085291\n",
       "25%      0.217429\n",
       "50%      0.250409\n",
       "75%      0.339029\n",
       "95%      0.546787\n",
       "max      0.598727\n",
       "dtype: float64"
      ]
     },
     "execution_count": 17,
     "metadata": {},
     "output_type": "execute_result"
    }
   ],
   "source": [
    "series.describe(percentiles=[.05, .25, .75, .95])"
   ]
  },
  {
   "cell_type": "markdown",
   "metadata": {
    "id": "W7aZ7TucbVm4"
   },
   "source": [
    "Para um objeto Series não numérico, describe()fornecerá um resumo simples do número de valores exclusivos e valores de ocorrência mais frequente:"
   ]
  },
  {
   "cell_type": "code",
   "execution_count": 18,
   "metadata": {
    "colab": {
     "base_uri": "https://localhost:8080/"
    },
    "executionInfo": {
     "elapsed": 874,
     "status": "ok",
     "timestamp": 1606957512955,
     "user": {
      "displayName": "Orlando O. S.",
      "photoUrl": "https://lh3.googleusercontent.com/a-/AOh14Gj-E1yuy1M_3ruwN4TWYPK4BwysauSW7GQmHheS=s64",
      "userId": "15066502291703974467"
     },
     "user_tz": 180
    },
    "id": "-wVj06I8bVm4",
    "outputId": "f3b9be99-9c66-4484-fe53-6a7e91d0f205"
   },
   "outputs": [
    {
     "data": {
      "text/plain": [
       "count     9\n",
       "unique    4\n",
       "top       a\n",
       "freq      5\n",
       "dtype: object"
      ]
     },
     "execution_count": 18,
     "metadata": {},
     "output_type": "execute_result"
    }
   ],
   "source": [
    "s = pd.Series(['a', 'a', 'b', 'b', 'a', 'a', np.nan, 'c', 'd', 'a'])\n",
    "s.describe()"
   ]
  },
  {
   "cell_type": "markdown",
   "metadata": {
    "id": "_BeXOdchbVm4"
   },
   "source": [
    "Em DataFrame de tipo misto,o describe() restringirá o resumo para incluir apenas colunas numéricas ou, se nenhuma for, apenas colunas categóricas:"
   ]
  },
  {
   "cell_type": "code",
   "execution_count": 19,
   "metadata": {
    "colab": {
     "base_uri": "https://localhost:8080/",
     "height": 295
    },
    "executionInfo": {
     "elapsed": 863,
     "status": "ok",
     "timestamp": 1606957647028,
     "user": {
      "displayName": "Orlando O. S.",
      "photoUrl": "https://lh3.googleusercontent.com/a-/AOh14Gj-E1yuy1M_3ruwN4TWYPK4BwysauSW7GQmHheS=s64",
      "userId": "15066502291703974467"
     },
     "user_tz": 180
    },
    "id": "KyJaHAYobVm4",
    "outputId": "990cb416-5cbf-4238-ac34-6881888caaca"
   },
   "outputs": [
    {
     "data": {
      "text/html": [
       "<div>\n",
       "<style scoped>\n",
       "    .dataframe tbody tr th:only-of-type {\n",
       "        vertical-align: middle;\n",
       "    }\n",
       "\n",
       "    .dataframe tbody tr th {\n",
       "        vertical-align: top;\n",
       "    }\n",
       "\n",
       "    .dataframe thead th {\n",
       "        text-align: right;\n",
       "    }\n",
       "</style>\n",
       "<table border=\"1\" class=\"dataframe\">\n",
       "  <thead>\n",
       "    <tr style=\"text-align: right;\">\n",
       "      <th></th>\n",
       "      <th>b</th>\n",
       "    </tr>\n",
       "  </thead>\n",
       "  <tbody>\n",
       "    <tr>\n",
       "      <th>count</th>\n",
       "      <td>4.000000</td>\n",
       "    </tr>\n",
       "    <tr>\n",
       "      <th>mean</th>\n",
       "      <td>1.500000</td>\n",
       "    </tr>\n",
       "    <tr>\n",
       "      <th>std</th>\n",
       "      <td>1.290994</td>\n",
       "    </tr>\n",
       "    <tr>\n",
       "      <th>min</th>\n",
       "      <td>0.000000</td>\n",
       "    </tr>\n",
       "    <tr>\n",
       "      <th>25%</th>\n",
       "      <td>0.750000</td>\n",
       "    </tr>\n",
       "    <tr>\n",
       "      <th>50%</th>\n",
       "      <td>1.500000</td>\n",
       "    </tr>\n",
       "    <tr>\n",
       "      <th>75%</th>\n",
       "      <td>2.250000</td>\n",
       "    </tr>\n",
       "    <tr>\n",
       "      <th>max</th>\n",
       "      <td>3.000000</td>\n",
       "    </tr>\n",
       "  </tbody>\n",
       "</table>\n",
       "</div>"
      ],
      "text/plain": [
       "              b\n",
       "count  4.000000\n",
       "mean   1.500000\n",
       "std    1.290994\n",
       "min    0.000000\n",
       "25%    0.750000\n",
       "50%    1.500000\n",
       "75%    2.250000\n",
       "max    3.000000"
      ]
     },
     "execution_count": 19,
     "metadata": {},
     "output_type": "execute_result"
    }
   ],
   "source": [
    "df = pd.DataFrame({'a': ['joão', 'jose', 'joaquim', 'maria'], 'b': range(4)})\n",
    "df.describe()"
   ]
  },
  {
   "cell_type": "markdown",
   "metadata": {
    "id": "TUDbxS3ZbVm4"
   },
   "source": [
    "### Este comportamento pode ser controlado fornecendo uma lista de tipos como include/ exclude argumentos. O valor especial alltambém pode ser usado:"
   ]
  },
  {
   "cell_type": "code",
   "execution_count": 20,
   "metadata": {
    "colab": {
     "base_uri": "https://localhost:8080/",
     "height": 172
    },
    "executionInfo": {
     "elapsed": 754,
     "status": "ok",
     "timestamp": 1606957654741,
     "user": {
      "displayName": "Orlando O. S.",
      "photoUrl": "https://lh3.googleusercontent.com/a-/AOh14Gj-E1yuy1M_3ruwN4TWYPK4BwysauSW7GQmHheS=s64",
      "userId": "15066502291703974467"
     },
     "user_tz": 180
    },
    "id": "UrwwgS9dbVm4",
    "outputId": "e04acea7-95a7-4bbe-b005-045c1acfe7ac"
   },
   "outputs": [
    {
     "data": {
      "text/html": [
       "<div>\n",
       "<style scoped>\n",
       "    .dataframe tbody tr th:only-of-type {\n",
       "        vertical-align: middle;\n",
       "    }\n",
       "\n",
       "    .dataframe tbody tr th {\n",
       "        vertical-align: top;\n",
       "    }\n",
       "\n",
       "    .dataframe thead th {\n",
       "        text-align: right;\n",
       "    }\n",
       "</style>\n",
       "<table border=\"1\" class=\"dataframe\">\n",
       "  <thead>\n",
       "    <tr style=\"text-align: right;\">\n",
       "      <th></th>\n",
       "      <th>a</th>\n",
       "    </tr>\n",
       "  </thead>\n",
       "  <tbody>\n",
       "    <tr>\n",
       "      <th>count</th>\n",
       "      <td>4</td>\n",
       "    </tr>\n",
       "    <tr>\n",
       "      <th>unique</th>\n",
       "      <td>4</td>\n",
       "    </tr>\n",
       "    <tr>\n",
       "      <th>top</th>\n",
       "      <td>joão</td>\n",
       "    </tr>\n",
       "    <tr>\n",
       "      <th>freq</th>\n",
       "      <td>1</td>\n",
       "    </tr>\n",
       "  </tbody>\n",
       "</table>\n",
       "</div>"
      ],
      "text/plain": [
       "           a\n",
       "count      4\n",
       "unique     4\n",
       "top     joão\n",
       "freq       1"
      ]
     },
     "execution_count": 20,
     "metadata": {},
     "output_type": "execute_result"
    }
   ],
   "source": [
    "df.describe(include=['object'])"
   ]
  },
  {
   "cell_type": "code",
   "execution_count": 21,
   "metadata": {
    "colab": {
     "base_uri": "https://localhost:8080/",
     "height": 295
    },
    "executionInfo": {
     "elapsed": 889,
     "status": "ok",
     "timestamp": 1606957669450,
     "user": {
      "displayName": "Orlando O. S.",
      "photoUrl": "https://lh3.googleusercontent.com/a-/AOh14Gj-E1yuy1M_3ruwN4TWYPK4BwysauSW7GQmHheS=s64",
      "userId": "15066502291703974467"
     },
     "user_tz": 180
    },
    "id": "ER213Kp3bVm4",
    "outputId": "81006ab5-7a33-4dc5-96f6-3c20a7b0fe07"
   },
   "outputs": [
    {
     "data": {
      "text/html": [
       "<div>\n",
       "<style scoped>\n",
       "    .dataframe tbody tr th:only-of-type {\n",
       "        vertical-align: middle;\n",
       "    }\n",
       "\n",
       "    .dataframe tbody tr th {\n",
       "        vertical-align: top;\n",
       "    }\n",
       "\n",
       "    .dataframe thead th {\n",
       "        text-align: right;\n",
       "    }\n",
       "</style>\n",
       "<table border=\"1\" class=\"dataframe\">\n",
       "  <thead>\n",
       "    <tr style=\"text-align: right;\">\n",
       "      <th></th>\n",
       "      <th>b</th>\n",
       "    </tr>\n",
       "  </thead>\n",
       "  <tbody>\n",
       "    <tr>\n",
       "      <th>count</th>\n",
       "      <td>4.000000</td>\n",
       "    </tr>\n",
       "    <tr>\n",
       "      <th>mean</th>\n",
       "      <td>1.500000</td>\n",
       "    </tr>\n",
       "    <tr>\n",
       "      <th>std</th>\n",
       "      <td>1.290994</td>\n",
       "    </tr>\n",
       "    <tr>\n",
       "      <th>min</th>\n",
       "      <td>0.000000</td>\n",
       "    </tr>\n",
       "    <tr>\n",
       "      <th>25%</th>\n",
       "      <td>0.750000</td>\n",
       "    </tr>\n",
       "    <tr>\n",
       "      <th>50%</th>\n",
       "      <td>1.500000</td>\n",
       "    </tr>\n",
       "    <tr>\n",
       "      <th>75%</th>\n",
       "      <td>2.250000</td>\n",
       "    </tr>\n",
       "    <tr>\n",
       "      <th>max</th>\n",
       "      <td>3.000000</td>\n",
       "    </tr>\n",
       "  </tbody>\n",
       "</table>\n",
       "</div>"
      ],
      "text/plain": [
       "              b\n",
       "count  4.000000\n",
       "mean   1.500000\n",
       "std    1.290994\n",
       "min    0.000000\n",
       "25%    0.750000\n",
       "50%    1.500000\n",
       "75%    2.250000\n",
       "max    3.000000"
      ]
     },
     "execution_count": 21,
     "metadata": {},
     "output_type": "execute_result"
    }
   ],
   "source": [
    "df.describe(include=['number'])"
   ]
  },
  {
   "cell_type": "code",
   "execution_count": 22,
   "metadata": {
    "colab": {
     "base_uri": "https://localhost:8080/",
     "height": 387
    },
    "executionInfo": {
     "elapsed": 840,
     "status": "ok",
     "timestamp": 1606957684811,
     "user": {
      "displayName": "Orlando O. S.",
      "photoUrl": "https://lh3.googleusercontent.com/a-/AOh14Gj-E1yuy1M_3ruwN4TWYPK4BwysauSW7GQmHheS=s64",
      "userId": "15066502291703974467"
     },
     "user_tz": 180
    },
    "id": "njF_YgQLbVm4",
    "outputId": "8cec0913-1a34-47bc-f48c-a82ec87a7eb9"
   },
   "outputs": [
    {
     "data": {
      "text/html": [
       "<div>\n",
       "<style scoped>\n",
       "    .dataframe tbody tr th:only-of-type {\n",
       "        vertical-align: middle;\n",
       "    }\n",
       "\n",
       "    .dataframe tbody tr th {\n",
       "        vertical-align: top;\n",
       "    }\n",
       "\n",
       "    .dataframe thead th {\n",
       "        text-align: right;\n",
       "    }\n",
       "</style>\n",
       "<table border=\"1\" class=\"dataframe\">\n",
       "  <thead>\n",
       "    <tr style=\"text-align: right;\">\n",
       "      <th></th>\n",
       "      <th>a</th>\n",
       "      <th>b</th>\n",
       "    </tr>\n",
       "  </thead>\n",
       "  <tbody>\n",
       "    <tr>\n",
       "      <th>count</th>\n",
       "      <td>4</td>\n",
       "      <td>4.000000</td>\n",
       "    </tr>\n",
       "    <tr>\n",
       "      <th>unique</th>\n",
       "      <td>4</td>\n",
       "      <td>NaN</td>\n",
       "    </tr>\n",
       "    <tr>\n",
       "      <th>top</th>\n",
       "      <td>joão</td>\n",
       "      <td>NaN</td>\n",
       "    </tr>\n",
       "    <tr>\n",
       "      <th>freq</th>\n",
       "      <td>1</td>\n",
       "      <td>NaN</td>\n",
       "    </tr>\n",
       "    <tr>\n",
       "      <th>mean</th>\n",
       "      <td>NaN</td>\n",
       "      <td>1.500000</td>\n",
       "    </tr>\n",
       "    <tr>\n",
       "      <th>std</th>\n",
       "      <td>NaN</td>\n",
       "      <td>1.290994</td>\n",
       "    </tr>\n",
       "    <tr>\n",
       "      <th>min</th>\n",
       "      <td>NaN</td>\n",
       "      <td>0.000000</td>\n",
       "    </tr>\n",
       "    <tr>\n",
       "      <th>25%</th>\n",
       "      <td>NaN</td>\n",
       "      <td>0.750000</td>\n",
       "    </tr>\n",
       "    <tr>\n",
       "      <th>50%</th>\n",
       "      <td>NaN</td>\n",
       "      <td>1.500000</td>\n",
       "    </tr>\n",
       "    <tr>\n",
       "      <th>75%</th>\n",
       "      <td>NaN</td>\n",
       "      <td>2.250000</td>\n",
       "    </tr>\n",
       "    <tr>\n",
       "      <th>max</th>\n",
       "      <td>NaN</td>\n",
       "      <td>3.000000</td>\n",
       "    </tr>\n",
       "  </tbody>\n",
       "</table>\n",
       "</div>"
      ],
      "text/plain": [
       "           a         b\n",
       "count      4  4.000000\n",
       "unique     4       NaN\n",
       "top     joão       NaN\n",
       "freq       1       NaN\n",
       "mean     NaN  1.500000\n",
       "std      NaN  1.290994\n",
       "min      NaN  0.000000\n",
       "25%      NaN  0.750000\n",
       "50%      NaN  1.500000\n",
       "75%      NaN  2.250000\n",
       "max      NaN  3.000000"
      ]
     },
     "execution_count": 22,
     "metadata": {},
     "output_type": "execute_result"
    }
   ],
   "source": [
    "df.describe(include='all')"
   ]
  },
  {
   "cell_type": "markdown",
   "metadata": {
    "id": "DX9JWKhxX1xn"
   },
   "source": [
    "## Leituras Adicionais e Referências:\n",
    "\n",
    "- Python Tutorial at W3Schools: https://www.w3schools.com/python/\n",
    "- Python official documentation: https://docs.python.org/3/tutorial/index.html\n",
    "- Pandas  official documentation: https://pandas.pydata.org/pandas-docs/stable/index.html"
   ]
  }
 ],
 "metadata": {
  "colab": {
   "collapsed_sections": [],
   "name": "Aula Sobre Manipulação de Dados com Pandas - Parte 1.ipynb",
   "provenance": []
  },
  "kernelspec": {
   "display_name": "Python 3",
   "language": "python",
   "name": "python3"
  },
  "language_info": {
   "codemirror_mode": {
    "name": "ipython",
    "version": 3
   },
   "file_extension": ".py",
   "mimetype": "text/x-python",
   "name": "python",
   "nbconvert_exporter": "python",
   "pygments_lexer": "ipython3",
   "version": "3.7.8"
  }
 },
 "nbformat": 4,
 "nbformat_minor": 1
}
