{
 "cells": [
  {
   "cell_type": "markdown",
   "metadata": {
    "id": "Dx4kCUY6TO6K"
   },
   "source": [
    "# 04 - Pandas - Processamento e Análise de Dados\n",
    "## Aula 11 - 21- Pandas - Junção de Dataframes (merge e join)"
   ]
  },
  {
   "cell_type": "markdown",
   "metadata": {
    "id": "R3U8kR3NTO6N"
   },
   "source": [
    "## Professor: Orlando Oliveira dos Santos, MsC.\n",
    " - E-mail: professor.orlando.santos@gmail.com \n",
    " - Youtube :https://www.youtube.com/channel/UCPWWbkPWFmOjXH50TQWNAYg\n",
    " - Linkedin: https://linkedin.com/in/orlandoosantos\n",
    " - Facebook: https://www.facebook.com/proforlandosantosmsc/\n",
    " - Twitter: https://twitter.com/ProfOrlandoMsC\n",
    " - Instagram: https://www.instagram.com/proforlandosantosmsc/\n",
    "\n",
    "\n",
    "\n",
    "## Formação Acadêmica\n",
    "- Mestrado em Computação Aplicada - UnB (2014 – 2016)\t\n",
    "- MBA, Administração Estratégica de Sistemas de Informação – FGV (2011 – 2013)\n",
    "- Tecnólogo em Processamento de Dados, Análise e Desenvolvimento de Sistemas – FAETEC/SP (2000-2002)"
   ]
  },
  {
   "cell_type": "markdown",
   "metadata": {
    "id": "PzFSjLXWTO6O"
   },
   "source": [
    "# Pandas - Junção de Dataframes (merge e join)"
   ]
  },
  {
   "cell_type": "markdown",
   "metadata": {
    "id": "gJvFWT0MTO6k"
   },
   "source": [
    "## DataFrame de estilo de banco de dados ou junção / fusão de séries nomeadas \n",
    "- O pandas tem operações de junção in-memory full-features e de alto desempenho , idiomicamente muito semelhantes a bancos de dados relacionais como SQL. \n"
   ]
  },
  {
   "cell_type": "markdown",
   "metadata": {
    "id": "NcUOAIObTO6k"
   },
   "source": [
    "```\n",
    "pd.merge(dfcasos, dfobitos, how='inner', on=None, left_on=None, right_on=None,\n",
    "         left_index=False, right_index=False, sort=True,\n",
    "         suffixes=('_x', '_y'), copy=True, indicator=False,\n",
    "         validate=None)\n",
    "         \n",
    "```\n"
   ]
  },
  {
   "cell_type": "markdown",
   "metadata": {
    "id": "dSnpOJk5TO6k"
   },
   "source": [
    "-left: Um DataFrame ou objeto Series nomeado.\n",
    "\n",
    "- right: Outro DataFrame ou objeto Series nomeado.\n",
    "\n",
    "- on: Nomes da coluna ou índice para unir.\n",
    "\n",
    "- left_on: Colunas ou níveis de índice do DataFrame ou Series esquerdo para usar como chaves.\n",
    "\n",
    "- right_on: Colunas ou níveis de índice do DataFrame ou Série certo para usar como chaves. \n",
    "\n",
    "- left_index: Se True, use o índice (rótulos de linha) do DataFrame ou Series esquerdo como sua (s) chave (s) de junção. \n",
    "\n",
    "- right_index: Mesmo uso left_indexdo DataFrame ou Série certa\n",
    "\n",
    "- how: Um dos 'left', 'right', 'outer', 'inner'. O padrão é inner. \n",
    "\n",
    "- sort: Classifique o DataFrame de resultado pelas chaves de junção em ordem lexicográfica.\n",
    "\n",
    "- suffixes: Uma tupla de sufixos de string a serem aplicados a colunas sobrepostas. O padrão é .('_x', '_y')\n",
    "\n",
    "- indicator: Adicione uma coluna ao DataFrame de saída chamado _merge com informações sobre a origem de cada linha.\n",
    "\n",
    "- validate: string, padrão Nenhum. Se especificado, verifica se a mesclagem é do tipo especificado.\n",
    "\n",
    " - “One_to_one” ou “1: 1”: verifica se as chaves de mesclagem são exclusivas nos conjuntos de dados esquerdo e direito.\n",
    "\n",
    " - “One_to_many” ou “1: m”: verifica se as chaves de mesclagem são exclusivas no conjunto de dados esquerdo.\n",
    "\n",
    " - “Many_to_one” ou “m: 1”: verifica se as chaves de mesclagem são exclusivas no conjunto de dados correto.\n",
    "\n",
    " - “Many_to_many” ou “m: m”: permitido, mas não resulta em verificações.\n",
    "\n",
    "\n",
    "O método join() usa mergeinternamente para a junção índice no índice (por padrão) e coluna (s) no índice. Se você está ingressando apenas no índice, pode desejar usar DataFrame.joinpara economizar alguma digitação.\n",
    "m"
   ]
  },
  {
   "cell_type": "markdown",
   "metadata": {
    "id": "noMdADiaTO6Q"
   },
   "source": [
    "## Importando dataframes de exemplo"
   ]
  },
  {
   "cell_type": "code",
   "execution_count": 1,
   "metadata": {
    "executionInfo": {
     "elapsed": 1694,
     "status": "ok",
     "timestamp": 1607557611548,
     "user": {
      "displayName": "Orlando O. S.",
      "photoUrl": "https://lh3.googleusercontent.com/a-/AOh14Gj-E1yuy1M_3ruwN4TWYPK4BwysauSW7GQmHheS=s64",
      "userId": "15066502291703974467"
     },
     "user_tz": 180
    },
    "id": "TO0SSmloTR_1"
   },
   "outputs": [
    {
     "name": "stdout",
     "output_type": "stream",
     "text": [
      "C:\\Orlando\\Curso-de-Python-Para-Analise-de-Dados\\04 - Pandas - Processamento e Análise de Dados\n"
     ]
    }
   ],
   "source": [
    "import numpy as np\n",
    "import pandas as pd\n",
    "import os\n",
    "import zipfile\n",
    "\n",
    "diratual = os.getcwd()\n",
    "print(diratual)\n",
    "\n",
    "diretorio = os.path.join(diratual, 'content') \n",
    "diretorio\n",
    "\n",
    "\n",
    "nome_arquivo_compactado = 'HIST_PAINEL_COVIDBR_18nov2020.zip'\n",
    "with zipfile.ZipFile( os.path.join(diretorio, nome_arquivo_compactado), 'r') as zip_ref:\n",
    "    zip_ref.extractall(diretorio)"
   ]
  },
  {
   "cell_type": "code",
   "execution_count": 2,
   "metadata": {
    "colab": {
     "base_uri": "https://localhost:8080/",
     "height": 309
    },
    "executionInfo": {
     "elapsed": 3464,
     "status": "ok",
     "timestamp": 1607557619790,
     "user": {
      "displayName": "Orlando O. S.",
      "photoUrl": "https://lh3.googleusercontent.com/a-/AOh14Gj-E1yuy1M_3ruwN4TWYPK4BwysauSW7GQmHheS=s64",
      "userId": "15066502291703974467"
     },
     "user_tz": 180
    },
    "id": "DFzH_RzGTZw8",
    "outputId": "539d723f-2349-436d-df93-0742941cfd56"
   },
   "outputs": [
    {
     "data": {
      "text/html": [
       "<div>\n",
       "<style scoped>\n",
       "    .dataframe tbody tr th:only-of-type {\n",
       "        vertical-align: middle;\n",
       "    }\n",
       "\n",
       "    .dataframe tbody tr th {\n",
       "        vertical-align: top;\n",
       "    }\n",
       "\n",
       "    .dataframe thead th {\n",
       "        text-align: right;\n",
       "    }\n",
       "</style>\n",
       "<table border=\"1\" class=\"dataframe\">\n",
       "  <thead>\n",
       "    <tr style=\"text-align: right;\">\n",
       "      <th></th>\n",
       "      <th>regiao</th>\n",
       "      <th>estado</th>\n",
       "      <th>municipio</th>\n",
       "      <th>coduf</th>\n",
       "      <th>codmun</th>\n",
       "      <th>codRegiaoSaude</th>\n",
       "      <th>nomeRegiaoSaude</th>\n",
       "      <th>data</th>\n",
       "      <th>semanaEpi</th>\n",
       "      <th>populacaoTCU2019</th>\n",
       "      <th>casosAcumulado</th>\n",
       "      <th>casosNovos</th>\n",
       "      <th>obitosAcumulado</th>\n",
       "      <th>obitosNovos</th>\n",
       "      <th>Recuperadosnovos</th>\n",
       "      <th>emAcompanhamentoNovos</th>\n",
       "      <th>interior/metropolitana</th>\n",
       "    </tr>\n",
       "  </thead>\n",
       "  <tbody>\n",
       "    <tr>\n",
       "      <th>0</th>\n",
       "      <td>Brasil</td>\n",
       "      <td>NaN</td>\n",
       "      <td>NaN</td>\n",
       "      <td>76</td>\n",
       "      <td>NaN</td>\n",
       "      <td>NaN</td>\n",
       "      <td>NaN</td>\n",
       "      <td>2020-02-25</td>\n",
       "      <td>9</td>\n",
       "      <td>210147125.0</td>\n",
       "      <td>0</td>\n",
       "      <td>0</td>\n",
       "      <td>0</td>\n",
       "      <td>0</td>\n",
       "      <td>NaN</td>\n",
       "      <td>NaN</td>\n",
       "      <td>NaN</td>\n",
       "    </tr>\n",
       "    <tr>\n",
       "      <th>1</th>\n",
       "      <td>Brasil</td>\n",
       "      <td>NaN</td>\n",
       "      <td>NaN</td>\n",
       "      <td>76</td>\n",
       "      <td>NaN</td>\n",
       "      <td>NaN</td>\n",
       "      <td>NaN</td>\n",
       "      <td>2020-02-26</td>\n",
       "      <td>9</td>\n",
       "      <td>210147125.0</td>\n",
       "      <td>1</td>\n",
       "      <td>1</td>\n",
       "      <td>0</td>\n",
       "      <td>0</td>\n",
       "      <td>NaN</td>\n",
       "      <td>NaN</td>\n",
       "      <td>NaN</td>\n",
       "    </tr>\n",
       "    <tr>\n",
       "      <th>2</th>\n",
       "      <td>Brasil</td>\n",
       "      <td>NaN</td>\n",
       "      <td>NaN</td>\n",
       "      <td>76</td>\n",
       "      <td>NaN</td>\n",
       "      <td>NaN</td>\n",
       "      <td>NaN</td>\n",
       "      <td>2020-02-27</td>\n",
       "      <td>9</td>\n",
       "      <td>210147125.0</td>\n",
       "      <td>1</td>\n",
       "      <td>0</td>\n",
       "      <td>0</td>\n",
       "      <td>0</td>\n",
       "      <td>NaN</td>\n",
       "      <td>NaN</td>\n",
       "      <td>NaN</td>\n",
       "    </tr>\n",
       "    <tr>\n",
       "      <th>3</th>\n",
       "      <td>Brasil</td>\n",
       "      <td>NaN</td>\n",
       "      <td>NaN</td>\n",
       "      <td>76</td>\n",
       "      <td>NaN</td>\n",
       "      <td>NaN</td>\n",
       "      <td>NaN</td>\n",
       "      <td>2020-02-28</td>\n",
       "      <td>9</td>\n",
       "      <td>210147125.0</td>\n",
       "      <td>1</td>\n",
       "      <td>0</td>\n",
       "      <td>0</td>\n",
       "      <td>0</td>\n",
       "      <td>NaN</td>\n",
       "      <td>NaN</td>\n",
       "      <td>NaN</td>\n",
       "    </tr>\n",
       "    <tr>\n",
       "      <th>4</th>\n",
       "      <td>Brasil</td>\n",
       "      <td>NaN</td>\n",
       "      <td>NaN</td>\n",
       "      <td>76</td>\n",
       "      <td>NaN</td>\n",
       "      <td>NaN</td>\n",
       "      <td>NaN</td>\n",
       "      <td>2020-02-29</td>\n",
       "      <td>9</td>\n",
       "      <td>210147125.0</td>\n",
       "      <td>2</td>\n",
       "      <td>1</td>\n",
       "      <td>0</td>\n",
       "      <td>0</td>\n",
       "      <td>NaN</td>\n",
       "      <td>NaN</td>\n",
       "      <td>NaN</td>\n",
       "    </tr>\n",
       "  </tbody>\n",
       "</table>\n",
       "</div>"
      ],
      "text/plain": [
       "   regiao estado municipio  coduf  codmun  codRegiaoSaude nomeRegiaoSaude  \\\n",
       "0  Brasil    NaN       NaN     76     NaN             NaN             NaN   \n",
       "1  Brasil    NaN       NaN     76     NaN             NaN             NaN   \n",
       "2  Brasil    NaN       NaN     76     NaN             NaN             NaN   \n",
       "3  Brasil    NaN       NaN     76     NaN             NaN             NaN   \n",
       "4  Brasil    NaN       NaN     76     NaN             NaN             NaN   \n",
       "\n",
       "         data  semanaEpi  populacaoTCU2019  casosAcumulado  casosNovos  \\\n",
       "0  2020-02-25          9       210147125.0               0           0   \n",
       "1  2020-02-26          9       210147125.0               1           1   \n",
       "2  2020-02-27          9       210147125.0               1           0   \n",
       "3  2020-02-28          9       210147125.0               1           0   \n",
       "4  2020-02-29          9       210147125.0               2           1   \n",
       "\n",
       "   obitosAcumulado  obitosNovos  Recuperadosnovos  emAcompanhamentoNovos  \\\n",
       "0                0            0               NaN                    NaN   \n",
       "1                0            0               NaN                    NaN   \n",
       "2                0            0               NaN                    NaN   \n",
       "3                0            0               NaN                    NaN   \n",
       "4                0            0               NaN                    NaN   \n",
       "\n",
       "   interior/metropolitana  \n",
       "0                     NaN  \n",
       "1                     NaN  \n",
       "2                     NaN  \n",
       "3                     NaN  \n",
       "4                     NaN  "
      ]
     },
     "execution_count": 2,
     "metadata": {},
     "output_type": "execute_result"
    }
   ],
   "source": [
    "dfcovid = pd.read_csv(os.path.join(diretorio, 'HIST_PAINEL_COVIDBR_18nov2020.csv') , sep=';')\n",
    "dfcovid.head()"
   ]
  },
  {
   "cell_type": "code",
   "execution_count": 3,
   "metadata": {
    "colab": {
     "base_uri": "https://localhost:8080/",
     "height": 220
    },
    "executionInfo": {
     "elapsed": 4160,
     "status": "ok",
     "timestamp": 1607557620538,
     "user": {
      "displayName": "Orlando O. S.",
      "photoUrl": "https://lh3.googleusercontent.com/a-/AOh14Gj-E1yuy1M_3ruwN4TWYPK4BwysauSW7GQmHheS=s64",
      "userId": "15066502291703974467"
     },
     "user_tz": 180
    },
    "id": "EEXYF6twUKVW",
    "outputId": "5934b882-8aad-4359-9ac5-d3c6100f6388"
   },
   "outputs": [
    {
     "name": "stdout",
     "output_type": "stream",
     "text": [
      "(7290, 5)\n"
     ]
    },
    {
     "data": {
      "text/html": [
       "<div>\n",
       "<style scoped>\n",
       "    .dataframe tbody tr th:only-of-type {\n",
       "        vertical-align: middle;\n",
       "    }\n",
       "\n",
       "    .dataframe tbody tr th {\n",
       "        vertical-align: top;\n",
       "    }\n",
       "\n",
       "    .dataframe thead th {\n",
       "        text-align: right;\n",
       "    }\n",
       "</style>\n",
       "<table border=\"1\" class=\"dataframe\">\n",
       "  <thead>\n",
       "    <tr style=\"text-align: right;\">\n",
       "      <th></th>\n",
       "      <th>regiao</th>\n",
       "      <th>estado</th>\n",
       "      <th>populacaoTCU2019</th>\n",
       "      <th>casosNovos</th>\n",
       "      <th>obitosNovos</th>\n",
       "    </tr>\n",
       "  </thead>\n",
       "  <tbody>\n",
       "    <tr>\n",
       "      <th>270</th>\n",
       "      <td>Norte</td>\n",
       "      <td>RO</td>\n",
       "      <td>1777225.0</td>\n",
       "      <td>0</td>\n",
       "      <td>0</td>\n",
       "    </tr>\n",
       "    <tr>\n",
       "      <th>271</th>\n",
       "      <td>Norte</td>\n",
       "      <td>RO</td>\n",
       "      <td>1777225.0</td>\n",
       "      <td>0</td>\n",
       "      <td>0</td>\n",
       "    </tr>\n",
       "    <tr>\n",
       "      <th>272</th>\n",
       "      <td>Norte</td>\n",
       "      <td>RO</td>\n",
       "      <td>1777225.0</td>\n",
       "      <td>0</td>\n",
       "      <td>0</td>\n",
       "    </tr>\n",
       "    <tr>\n",
       "      <th>273</th>\n",
       "      <td>Norte</td>\n",
       "      <td>RO</td>\n",
       "      <td>1777225.0</td>\n",
       "      <td>0</td>\n",
       "      <td>0</td>\n",
       "    </tr>\n",
       "    <tr>\n",
       "      <th>274</th>\n",
       "      <td>Norte</td>\n",
       "      <td>RO</td>\n",
       "      <td>1777225.0</td>\n",
       "      <td>0</td>\n",
       "      <td>0</td>\n",
       "    </tr>\n",
       "  </tbody>\n",
       "</table>\n",
       "</div>"
      ],
      "text/plain": [
       "    regiao estado  populacaoTCU2019  casosNovos  obitosNovos\n",
       "270  Norte     RO         1777225.0           0            0\n",
       "271  Norte     RO         1777225.0           0            0\n",
       "272  Norte     RO         1777225.0           0            0\n",
       "273  Norte     RO         1777225.0           0            0\n",
       "274  Norte     RO         1777225.0           0            0"
      ]
     },
     "execution_count": 3,
     "metadata": {},
     "output_type": "execute_result"
    }
   ],
   "source": [
    "filtro = (dfcovid['estado'].isna() == False ) & ( dfcovid['codmun'].isna()  )\n",
    "dfcovid = dfcovid[filtro][['regiao', 'estado',  'populacaoTCU2019',\n",
    "       'casosNovos', 'obitosNovos']]\n",
    "print(dfcovid.shape)\n",
    "dfcovid.head()"
   ]
  },
  {
   "cell_type": "code",
   "execution_count": 4,
   "metadata": {
    "colab": {
     "base_uri": "https://localhost:8080/",
     "height": 203
    },
    "executionInfo": {
     "elapsed": 3556,
     "status": "ok",
     "timestamp": 1607557620551,
     "user": {
      "displayName": "Orlando O. S.",
      "photoUrl": "https://lh3.googleusercontent.com/a-/AOh14Gj-E1yuy1M_3ruwN4TWYPK4BwysauSW7GQmHheS=s64",
      "userId": "15066502291703974467"
     },
     "user_tz": 180
    },
    "id": "fmIzWmlMVH9L",
    "outputId": "e13bca39-8b68-46dd-abcd-8213a3d9300b"
   },
   "outputs": [
    {
     "data": {
      "text/html": [
       "<div>\n",
       "<style scoped>\n",
       "    .dataframe tbody tr th:only-of-type {\n",
       "        vertical-align: middle;\n",
       "    }\n",
       "\n",
       "    .dataframe tbody tr th {\n",
       "        vertical-align: top;\n",
       "    }\n",
       "\n",
       "    .dataframe thead th {\n",
       "        text-align: right;\n",
       "    }\n",
       "</style>\n",
       "<table border=\"1\" class=\"dataframe\">\n",
       "  <thead>\n",
       "    <tr style=\"text-align: right;\">\n",
       "      <th></th>\n",
       "      <th>regiao</th>\n",
       "      <th>estado</th>\n",
       "      <th>casosNovos</th>\n",
       "      <th>obitosNovos</th>\n",
       "      <th>populacaoTCU2019</th>\n",
       "    </tr>\n",
       "  </thead>\n",
       "  <tbody>\n",
       "    <tr>\n",
       "      <th>0</th>\n",
       "      <td>Centro-Oeste</td>\n",
       "      <td>DF</td>\n",
       "      <td>222836</td>\n",
       "      <td>3857</td>\n",
       "      <td>3015268.0</td>\n",
       "    </tr>\n",
       "    <tr>\n",
       "      <th>1</th>\n",
       "      <td>Centro-Oeste</td>\n",
       "      <td>GO</td>\n",
       "      <td>272494</td>\n",
       "      <td>6201</td>\n",
       "      <td>7018354.0</td>\n",
       "    </tr>\n",
       "    <tr>\n",
       "      <th>2</th>\n",
       "      <td>Centro-Oeste</td>\n",
       "      <td>MS</td>\n",
       "      <td>90765</td>\n",
       "      <td>1713</td>\n",
       "      <td>2778986.0</td>\n",
       "    </tr>\n",
       "    <tr>\n",
       "      <th>3</th>\n",
       "      <td>Centro-Oeste</td>\n",
       "      <td>MT</td>\n",
       "      <td>153800</td>\n",
       "      <td>4025</td>\n",
       "      <td>3484466.0</td>\n",
       "    </tr>\n",
       "    <tr>\n",
       "      <th>4</th>\n",
       "      <td>Nordeste</td>\n",
       "      <td>AL</td>\n",
       "      <td>93245</td>\n",
       "      <td>2311</td>\n",
       "      <td>3337357.0</td>\n",
       "    </tr>\n",
       "  </tbody>\n",
       "</table>\n",
       "</div>"
      ],
      "text/plain": [
       "         regiao estado  casosNovos  obitosNovos  populacaoTCU2019\n",
       "0  Centro-Oeste     DF      222836         3857         3015268.0\n",
       "1  Centro-Oeste     GO      272494         6201         7018354.0\n",
       "2  Centro-Oeste     MS       90765         1713         2778986.0\n",
       "3  Centro-Oeste     MT      153800         4025         3484466.0\n",
       "4      Nordeste     AL       93245         2311         3337357.0"
      ]
     },
     "execution_count": 4,
     "metadata": {},
     "output_type": "execute_result"
    }
   ],
   "source": [
    "dfregiaouf = dfcovid[['regiao', 'estado',  'casosNovos', 'obitosNovos', 'populacaoTCU2019']]\\\n",
    "  .groupby(['regiao', 'estado'])\\\n",
    "  .agg({'casosNovos':'sum', 'obitosNovos':'sum', 'populacaoTCU2019':'max'})\\\n",
    "  .reset_index()\n",
    "dfregiaouf.head()"
   ]
  },
  {
   "cell_type": "markdown",
   "metadata": {
    "id": "PNgYXd1VTO6R"
   },
   "source": [
    "## Separar o dataframe em partes por região"
   ]
  },
  {
   "cell_type": "code",
   "execution_count": 5,
   "metadata": {
    "colab": {
     "base_uri": "https://localhost:8080/",
     "height": 203
    },
    "executionInfo": {
     "elapsed": 650,
     "status": "ok",
     "timestamp": 1607557622874,
     "user": {
      "displayName": "Orlando O. S.",
      "photoUrl": "https://lh3.googleusercontent.com/a-/AOh14Gj-E1yuy1M_3ruwN4TWYPK4BwysauSW7GQmHheS=s64",
      "userId": "15066502291703974467"
     },
     "user_tz": 180
    },
    "id": "OscY73JLTO6S",
    "outputId": "c711eb34-a6e2-4273-c09d-2c821c95afae"
   },
   "outputs": [
    {
     "data": {
      "text/html": [
       "<div>\n",
       "<style scoped>\n",
       "    .dataframe tbody tr th:only-of-type {\n",
       "        vertical-align: middle;\n",
       "    }\n",
       "\n",
       "    .dataframe tbody tr th {\n",
       "        vertical-align: top;\n",
       "    }\n",
       "\n",
       "    .dataframe thead th {\n",
       "        text-align: right;\n",
       "    }\n",
       "</style>\n",
       "<table border=\"1\" class=\"dataframe\">\n",
       "  <thead>\n",
       "    <tr style=\"text-align: right;\">\n",
       "      <th></th>\n",
       "      <th>regiao</th>\n",
       "      <th>estado</th>\n",
       "      <th>casosNovos</th>\n",
       "      <th>obitosNovos</th>\n",
       "      <th>populacaoTCU2019</th>\n",
       "    </tr>\n",
       "  </thead>\n",
       "  <tbody>\n",
       "    <tr>\n",
       "      <th>4</th>\n",
       "      <td>Nordeste</td>\n",
       "      <td>AL</td>\n",
       "      <td>93245</td>\n",
       "      <td>2311</td>\n",
       "      <td>3337357.0</td>\n",
       "    </tr>\n",
       "    <tr>\n",
       "      <th>5</th>\n",
       "      <td>Nordeste</td>\n",
       "      <td>BA</td>\n",
       "      <td>382164</td>\n",
       "      <td>8061</td>\n",
       "      <td>14873064.0</td>\n",
       "    </tr>\n",
       "    <tr>\n",
       "      <th>6</th>\n",
       "      <td>Nordeste</td>\n",
       "      <td>CE</td>\n",
       "      <td>289925</td>\n",
       "      <td>9477</td>\n",
       "      <td>9132078.0</td>\n",
       "    </tr>\n",
       "    <tr>\n",
       "      <th>7</th>\n",
       "      <td>Nordeste</td>\n",
       "      <td>MA</td>\n",
       "      <td>190953</td>\n",
       "      <td>4218</td>\n",
       "      <td>7075181.0</td>\n",
       "    </tr>\n",
       "    <tr>\n",
       "      <th>8</th>\n",
       "      <td>Nordeste</td>\n",
       "      <td>PB</td>\n",
       "      <td>141615</td>\n",
       "      <td>3236</td>\n",
       "      <td>4018127.0</td>\n",
       "    </tr>\n",
       "  </tbody>\n",
       "</table>\n",
       "</div>"
      ],
      "text/plain": [
       "     regiao estado  casosNovos  obitosNovos  populacaoTCU2019\n",
       "4  Nordeste     AL       93245         2311         3337357.0\n",
       "5  Nordeste     BA      382164         8061        14873064.0\n",
       "6  Nordeste     CE      289925         9477         9132078.0\n",
       "7  Nordeste     MA      190953         4218         7075181.0\n",
       "8  Nordeste     PB      141615         3236         4018127.0"
      ]
     },
     "execution_count": 5,
     "metadata": {},
     "output_type": "execute_result"
    }
   ],
   "source": [
    "dfnordeste = dfregiaouf[dfregiaouf.regiao == 'Nordeste']\n",
    "dfnordeste.head()"
   ]
  },
  {
   "cell_type": "code",
   "execution_count": 6,
   "metadata": {
    "colab": {
     "base_uri": "https://localhost:8080/",
     "height": 203
    },
    "executionInfo": {
     "elapsed": 504,
     "status": "ok",
     "timestamp": 1607557623285,
     "user": {
      "displayName": "Orlando O. S.",
      "photoUrl": "https://lh3.googleusercontent.com/a-/AOh14Gj-E1yuy1M_3ruwN4TWYPK4BwysauSW7GQmHheS=s64",
      "userId": "15066502291703974467"
     },
     "user_tz": 180
    },
    "id": "rekHW4fhTO6T",
    "outputId": "5ca0bfa2-6257-4ff1-8e94-8523cd37cc46"
   },
   "outputs": [
    {
     "data": {
      "text/html": [
       "<div>\n",
       "<style scoped>\n",
       "    .dataframe tbody tr th:only-of-type {\n",
       "        vertical-align: middle;\n",
       "    }\n",
       "\n",
       "    .dataframe tbody tr th {\n",
       "        vertical-align: top;\n",
       "    }\n",
       "\n",
       "    .dataframe thead th {\n",
       "        text-align: right;\n",
       "    }\n",
       "</style>\n",
       "<table border=\"1\" class=\"dataframe\">\n",
       "  <thead>\n",
       "    <tr style=\"text-align: right;\">\n",
       "      <th></th>\n",
       "      <th>regiao</th>\n",
       "      <th>estado</th>\n",
       "      <th>casosNovos</th>\n",
       "      <th>obitosNovos</th>\n",
       "      <th>populacaoTCU2019</th>\n",
       "    </tr>\n",
       "  </thead>\n",
       "  <tbody>\n",
       "    <tr>\n",
       "      <th>13</th>\n",
       "      <td>Norte</td>\n",
       "      <td>AC</td>\n",
       "      <td>34246</td>\n",
       "      <td>711</td>\n",
       "      <td>881935.0</td>\n",
       "    </tr>\n",
       "    <tr>\n",
       "      <th>14</th>\n",
       "      <td>Norte</td>\n",
       "      <td>AM</td>\n",
       "      <td>172858</td>\n",
       "      <td>4761</td>\n",
       "      <td>4144597.0</td>\n",
       "    </tr>\n",
       "    <tr>\n",
       "      <th>15</th>\n",
       "      <td>Norte</td>\n",
       "      <td>AP</td>\n",
       "      <td>56085</td>\n",
       "      <td>787</td>\n",
       "      <td>845731.0</td>\n",
       "    </tr>\n",
       "    <tr>\n",
       "      <th>16</th>\n",
       "      <td>Norte</td>\n",
       "      <td>PA</td>\n",
       "      <td>264810</td>\n",
       "      <td>6855</td>\n",
       "      <td>8602865.0</td>\n",
       "    </tr>\n",
       "    <tr>\n",
       "      <th>17</th>\n",
       "      <td>Norte</td>\n",
       "      <td>RO</td>\n",
       "      <td>76729</td>\n",
       "      <td>1515</td>\n",
       "      <td>1777225.0</td>\n",
       "    </tr>\n",
       "  </tbody>\n",
       "</table>\n",
       "</div>"
      ],
      "text/plain": [
       "   regiao estado  casosNovos  obitosNovos  populacaoTCU2019\n",
       "13  Norte     AC       34246          711          881935.0\n",
       "14  Norte     AM      172858         4761         4144597.0\n",
       "15  Norte     AP       56085          787          845731.0\n",
       "16  Norte     PA      264810         6855         8602865.0\n",
       "17  Norte     RO       76729         1515         1777225.0"
      ]
     },
     "execution_count": 6,
     "metadata": {},
     "output_type": "execute_result"
    }
   ],
   "source": [
    "dfnorte = dfregiaouf[dfregiaouf.regiao == 'Norte']\n",
    "dfnorte.head()"
   ]
  },
  {
   "cell_type": "code",
   "execution_count": 7,
   "metadata": {
    "colab": {
     "base_uri": "https://localhost:8080/",
     "height": 141
    },
    "executionInfo": {
     "elapsed": 650,
     "status": "ok",
     "timestamp": 1607557624088,
     "user": {
      "displayName": "Orlando O. S.",
      "photoUrl": "https://lh3.googleusercontent.com/a-/AOh14Gj-E1yuy1M_3ruwN4TWYPK4BwysauSW7GQmHheS=s64",
      "userId": "15066502291703974467"
     },
     "user_tz": 180
    },
    "id": "bo9dV86lTO6T",
    "outputId": "d4cd9cd3-a6e4-4851-e274-bdad97d866dd"
   },
   "outputs": [
    {
     "data": {
      "text/html": [
       "<div>\n",
       "<style scoped>\n",
       "    .dataframe tbody tr th:only-of-type {\n",
       "        vertical-align: middle;\n",
       "    }\n",
       "\n",
       "    .dataframe tbody tr th {\n",
       "        vertical-align: top;\n",
       "    }\n",
       "\n",
       "    .dataframe thead th {\n",
       "        text-align: right;\n",
       "    }\n",
       "</style>\n",
       "<table border=\"1\" class=\"dataframe\">\n",
       "  <thead>\n",
       "    <tr style=\"text-align: right;\">\n",
       "      <th></th>\n",
       "      <th>regiao</th>\n",
       "      <th>estado</th>\n",
       "      <th>casosNovos</th>\n",
       "      <th>obitosNovos</th>\n",
       "      <th>populacaoTCU2019</th>\n",
       "    </tr>\n",
       "  </thead>\n",
       "  <tbody>\n",
       "    <tr>\n",
       "      <th>24</th>\n",
       "      <td>Sul</td>\n",
       "      <td>PR</td>\n",
       "      <td>250898</td>\n",
       "      <td>5832</td>\n",
       "      <td>11433957.0</td>\n",
       "    </tr>\n",
       "    <tr>\n",
       "      <th>25</th>\n",
       "      <td>Sul</td>\n",
       "      <td>RS</td>\n",
       "      <td>293221</td>\n",
       "      <td>6447</td>\n",
       "      <td>11377239.0</td>\n",
       "    </tr>\n",
       "    <tr>\n",
       "      <th>26</th>\n",
       "      <td>Sul</td>\n",
       "      <td>SC</td>\n",
       "      <td>317502</td>\n",
       "      <td>3435</td>\n",
       "      <td>7164788.0</td>\n",
       "    </tr>\n",
       "  </tbody>\n",
       "</table>\n",
       "</div>"
      ],
      "text/plain": [
       "   regiao estado  casosNovos  obitosNovos  populacaoTCU2019\n",
       "24    Sul     PR      250898         5832        11433957.0\n",
       "25    Sul     RS      293221         6447        11377239.0\n",
       "26    Sul     SC      317502         3435         7164788.0"
      ]
     },
     "execution_count": 7,
     "metadata": {},
     "output_type": "execute_result"
    }
   ],
   "source": [
    "dfsul = dfregiaouf[dfregiaouf.regiao == 'Sul']\n",
    "dfsul.head()"
   ]
  },
  {
   "cell_type": "code",
   "execution_count": 8,
   "metadata": {
    "colab": {
     "base_uri": "https://localhost:8080/",
     "height": 172
    },
    "executionInfo": {
     "elapsed": 500,
     "status": "ok",
     "timestamp": 1607557624573,
     "user": {
      "displayName": "Orlando O. S.",
      "photoUrl": "https://lh3.googleusercontent.com/a-/AOh14Gj-E1yuy1M_3ruwN4TWYPK4BwysauSW7GQmHheS=s64",
      "userId": "15066502291703974467"
     },
     "user_tz": 180
    },
    "id": "niZ112cjTO6U",
    "outputId": "3c9ba307-58b8-444a-8f45-293f82485034"
   },
   "outputs": [
    {
     "data": {
      "text/html": [
       "<div>\n",
       "<style scoped>\n",
       "    .dataframe tbody tr th:only-of-type {\n",
       "        vertical-align: middle;\n",
       "    }\n",
       "\n",
       "    .dataframe tbody tr th {\n",
       "        vertical-align: top;\n",
       "    }\n",
       "\n",
       "    .dataframe thead th {\n",
       "        text-align: right;\n",
       "    }\n",
       "</style>\n",
       "<table border=\"1\" class=\"dataframe\">\n",
       "  <thead>\n",
       "    <tr style=\"text-align: right;\">\n",
       "      <th></th>\n",
       "      <th>regiao</th>\n",
       "      <th>estado</th>\n",
       "      <th>casosNovos</th>\n",
       "      <th>obitosNovos</th>\n",
       "      <th>populacaoTCU2019</th>\n",
       "    </tr>\n",
       "  </thead>\n",
       "  <tbody>\n",
       "    <tr>\n",
       "      <th>0</th>\n",
       "      <td>Centro-Oeste</td>\n",
       "      <td>DF</td>\n",
       "      <td>222836</td>\n",
       "      <td>3857</td>\n",
       "      <td>3015268.0</td>\n",
       "    </tr>\n",
       "    <tr>\n",
       "      <th>1</th>\n",
       "      <td>Centro-Oeste</td>\n",
       "      <td>GO</td>\n",
       "      <td>272494</td>\n",
       "      <td>6201</td>\n",
       "      <td>7018354.0</td>\n",
       "    </tr>\n",
       "    <tr>\n",
       "      <th>2</th>\n",
       "      <td>Centro-Oeste</td>\n",
       "      <td>MS</td>\n",
       "      <td>90765</td>\n",
       "      <td>1713</td>\n",
       "      <td>2778986.0</td>\n",
       "    </tr>\n",
       "    <tr>\n",
       "      <th>3</th>\n",
       "      <td>Centro-Oeste</td>\n",
       "      <td>MT</td>\n",
       "      <td>153800</td>\n",
       "      <td>4025</td>\n",
       "      <td>3484466.0</td>\n",
       "    </tr>\n",
       "  </tbody>\n",
       "</table>\n",
       "</div>"
      ],
      "text/plain": [
       "         regiao estado  casosNovos  obitosNovos  populacaoTCU2019\n",
       "0  Centro-Oeste     DF      222836         3857         3015268.0\n",
       "1  Centro-Oeste     GO      272494         6201         7018354.0\n",
       "2  Centro-Oeste     MS       90765         1713         2778986.0\n",
       "3  Centro-Oeste     MT      153800         4025         3484466.0"
      ]
     },
     "execution_count": 8,
     "metadata": {},
     "output_type": "execute_result"
    }
   ],
   "source": [
    "dfcentrooeste = dfregiaouf[dfregiaouf.regiao == 'Centro-Oeste']\n",
    "dfcentrooeste.head()"
   ]
  },
  {
   "cell_type": "code",
   "execution_count": 9,
   "metadata": {
    "colab": {
     "base_uri": "https://localhost:8080/",
     "height": 172
    },
    "executionInfo": {
     "elapsed": 552,
     "status": "ok",
     "timestamp": 1607557625253,
     "user": {
      "displayName": "Orlando O. S.",
      "photoUrl": "https://lh3.googleusercontent.com/a-/AOh14Gj-E1yuy1M_3ruwN4TWYPK4BwysauSW7GQmHheS=s64",
      "userId": "15066502291703974467"
     },
     "user_tz": 180
    },
    "id": "OqMB8TkdTO6U",
    "outputId": "968d5665-29f0-4967-92be-aad833d07cd2"
   },
   "outputs": [
    {
     "data": {
      "text/html": [
       "<div>\n",
       "<style scoped>\n",
       "    .dataframe tbody tr th:only-of-type {\n",
       "        vertical-align: middle;\n",
       "    }\n",
       "\n",
       "    .dataframe tbody tr th {\n",
       "        vertical-align: top;\n",
       "    }\n",
       "\n",
       "    .dataframe thead th {\n",
       "        text-align: right;\n",
       "    }\n",
       "</style>\n",
       "<table border=\"1\" class=\"dataframe\">\n",
       "  <thead>\n",
       "    <tr style=\"text-align: right;\">\n",
       "      <th></th>\n",
       "      <th>regiao</th>\n",
       "      <th>estado</th>\n",
       "      <th>casosNovos</th>\n",
       "      <th>obitosNovos</th>\n",
       "      <th>populacaoTCU2019</th>\n",
       "    </tr>\n",
       "  </thead>\n",
       "  <tbody>\n",
       "    <tr>\n",
       "      <th>20</th>\n",
       "      <td>Sudeste</td>\n",
       "      <td>ES</td>\n",
       "      <td>176903</td>\n",
       "      <td>4101</td>\n",
       "      <td>4018650.0</td>\n",
       "    </tr>\n",
       "    <tr>\n",
       "      <th>21</th>\n",
       "      <td>Sudeste</td>\n",
       "      <td>MG</td>\n",
       "      <td>393110</td>\n",
       "      <td>9688</td>\n",
       "      <td>21168791.0</td>\n",
       "    </tr>\n",
       "    <tr>\n",
       "      <th>22</th>\n",
       "      <td>Sudeste</td>\n",
       "      <td>RJ</td>\n",
       "      <td>336915</td>\n",
       "      <td>21938</td>\n",
       "      <td>17264943.0</td>\n",
       "    </tr>\n",
       "    <tr>\n",
       "      <th>23</th>\n",
       "      <td>Sudeste</td>\n",
       "      <td>SP</td>\n",
       "      <td>1200348</td>\n",
       "      <td>41179</td>\n",
       "      <td>45919049.0</td>\n",
       "    </tr>\n",
       "  </tbody>\n",
       "</table>\n",
       "</div>"
      ],
      "text/plain": [
       "     regiao estado  casosNovos  obitosNovos  populacaoTCU2019\n",
       "20  Sudeste     ES      176903         4101         4018650.0\n",
       "21  Sudeste     MG      393110         9688        21168791.0\n",
       "22  Sudeste     RJ      336915        21938        17264943.0\n",
       "23  Sudeste     SP     1200348        41179        45919049.0"
      ]
     },
     "execution_count": 9,
     "metadata": {},
     "output_type": "execute_result"
    }
   ],
   "source": [
    "dfsudeste = dfregiaouf[dfregiaouf.regiao == 'Sudeste']\n",
    "dfsudeste.head()"
   ]
  },
  {
   "cell_type": "markdown",
   "metadata": {
    "id": "gJvFWT0MTO6k"
   },
   "source": [
    "## DataFrame de estilo de banco de dados ou junção / fusão de séries nomeadas \n",
    "- O pandas tem operações de junção in-memory full-features e de alto desempenho ,  muito semelhantes a bancos de dados relacionais como SQL. "
   ]
  },
  {
   "cell_type": "markdown",
   "metadata": {
    "id": "NcUOAIObTO6k"
   },
   "source": [
    "```\n",
    "pd.merge(dfcasos, dfobitos, how='inner', on=None, left_on=None, right_on=None,\n",
    "         left_index=False, right_index=False, sort=True,\n",
    "         suffixes=('_x', '_y'), copy=True, indicator=False,\n",
    "         validate=None)\n",
    "         \n",
    "```\n"
   ]
  },
  {
   "cell_type": "markdown",
   "metadata": {
    "id": "dSnpOJk5TO6k"
   },
   "source": [
    "-left: Um DataFrame ou objeto Series nomeado.\n",
    "\n",
    "- right: Outro DataFrame ou objeto Series nomeado.\n",
    "\n",
    "- on: Nomes da coluna ou índice para unir.\n",
    "\n",
    "- left_on: Colunas ou níveis de índice do DataFrame ou Series esquerdo para usar como chaves.\n",
    "\n",
    "- right_on: Colunas ou níveis de índice do DataFrame ou Série certo para usar como chaves. \n",
    "\n",
    "- left_index: Se True, use o índice (rótulos de linha) do DataFrame ou Series esquerdo como sua (s) chave (s) de junção. \n",
    "\n",
    "- right_index: Mesmo uso left_indexdo DataFrame ou Série certa\n",
    "\n",
    "- how: Um dos 'left', 'right', 'outer', 'inner'. O padrão é inner. \n",
    "\n",
    "- sort: Classifique o DataFrame de resultado pelas chaves de junção em ordem lexicográfica.\n",
    "\n",
    "- suffixes: Uma tupla de sufixos de string a serem aplicados a colunas sobrepostas. O padrão é .('_x', '_y')\n",
    "\n",
    "- indicator: Adicione uma coluna ao DataFrame de saída chamado _merge com informações sobre a origem de cada linha.\n",
    "\n",
    "- validate: string, padrão Nenhum. Se especificado, verifica se a mesclagem é do tipo especificado.\n",
    "\n",
    " - “One_to_one” ou “1: 1”: verifica se as chaves de mesclagem são exclusivas nos conjuntos de dados esquerdo e direito.\n",
    "\n",
    " - “One_to_many” ou “1: m”: verifica se as chaves de mesclagem são exclusivas no conjunto de dados esquerdo.\n",
    "\n",
    " - “Many_to_one” ou “m: 1”: verifica se as chaves de mesclagem são exclusivas no conjunto de dados correto.\n",
    "\n",
    " - “Many_to_many” ou “m: m”: permitido, mas não resulta em verificações.\n",
    "\n",
    "\n",
    "O método join() usa mergeinternamente para a junção índice no índice (por padrão) e coluna (s) no índice. Se você está ingressando apenas no índice, pode desejar usar DataFrame.joinpara economizar alguma digitação.\n",
    "m"
   ]
  },
  {
   "cell_type": "code",
   "execution_count": 10,
   "metadata": {
    "colab": {
     "base_uri": "https://localhost:8080/",
     "height": 189
    },
    "executionInfo": {
     "elapsed": 741,
     "status": "ok",
     "timestamp": 1607559909694,
     "user": {
      "displayName": "Orlando O. S.",
      "photoUrl": "https://lh3.googleusercontent.com/a-/AOh14Gj-E1yuy1M_3ruwN4TWYPK4BwysauSW7GQmHheS=s64",
      "userId": "15066502291703974467"
     },
     "user_tz": 180
    },
    "id": "05_wd-8HtTRr",
    "outputId": "541f9252-75d7-437c-ab51-561c07ed81e0"
   },
   "outputs": [
    {
     "name": "stdout",
     "output_type": "stream",
     "text": [
      "(1, 3)\n"
     ]
    },
    {
     "data": {
      "text/html": [
       "<div>\n",
       "<style scoped>\n",
       "    .dataframe tbody tr th:only-of-type {\n",
       "        vertical-align: middle;\n",
       "    }\n",
       "\n",
       "    .dataframe tbody tr th {\n",
       "        vertical-align: top;\n",
       "    }\n",
       "\n",
       "    .dataframe thead th {\n",
       "        text-align: right;\n",
       "    }\n",
       "</style>\n",
       "<table border=\"1\" class=\"dataframe\">\n",
       "  <thead>\n",
       "    <tr style=\"text-align: right;\">\n",
       "      <th></th>\n",
       "      <th>regiao</th>\n",
       "      <th>estado</th>\n",
       "      <th>casosNovos</th>\n",
       "    </tr>\n",
       "  </thead>\n",
       "  <tbody>\n",
       "    <tr>\n",
       "      <th>23</th>\n",
       "      <td>Sudeste</td>\n",
       "      <td>SP</td>\n",
       "      <td>1200348</td>\n",
       "    </tr>\n",
       "  </tbody>\n",
       "</table>\n",
       "</div>"
      ],
      "text/plain": [
       "     regiao estado  casosNovos\n",
       "23  Sudeste     SP     1200348"
      ]
     },
     "execution_count": 10,
     "metadata": {},
     "output_type": "execute_result"
    }
   ],
   "source": [
    "dfcasos = dfregiaouf[dfregiaouf['casosNovos'] > 400_000 ][['regiao','estado', 'casosNovos']]\n",
    "print(dfcasos.shape)\n",
    "dfcasos.head()\n"
   ]
  },
  {
   "cell_type": "code",
   "execution_count": 11,
   "metadata": {
    "colab": {
     "base_uri": "https://localhost:8080/",
     "height": 220
    },
    "executionInfo": {
     "elapsed": 850,
     "status": "ok",
     "timestamp": 1607560370104,
     "user": {
      "displayName": "Orlando O. S.",
      "photoUrl": "https://lh3.googleusercontent.com/a-/AOh14Gj-E1yuy1M_3ruwN4TWYPK4BwysauSW7GQmHheS=s64",
      "userId": "15066502291703974467"
     },
     "user_tz": 180
    },
    "id": "9RFpuJH0tTSp",
    "outputId": "6ab2439f-0bc4-4d26-8765-a3e5c1e4450f"
   },
   "outputs": [
    {
     "name": "stdout",
     "output_type": "stream",
     "text": [
      "(11, 3)\n"
     ]
    },
    {
     "data": {
      "text/html": [
       "<div>\n",
       "<style scoped>\n",
       "    .dataframe tbody tr th:only-of-type {\n",
       "        vertical-align: middle;\n",
       "    }\n",
       "\n",
       "    .dataframe tbody tr th {\n",
       "        vertical-align: top;\n",
       "    }\n",
       "\n",
       "    .dataframe thead th {\n",
       "        text-align: right;\n",
       "    }\n",
       "</style>\n",
       "<table border=\"1\" class=\"dataframe\">\n",
       "  <thead>\n",
       "    <tr style=\"text-align: right;\">\n",
       "      <th></th>\n",
       "      <th>regiao</th>\n",
       "      <th>estado</th>\n",
       "      <th>obitosNovos</th>\n",
       "    </tr>\n",
       "  </thead>\n",
       "  <tbody>\n",
       "    <tr>\n",
       "      <th>1</th>\n",
       "      <td>Centro-Oeste</td>\n",
       "      <td>GO</td>\n",
       "      <td>6201</td>\n",
       "    </tr>\n",
       "    <tr>\n",
       "      <th>5</th>\n",
       "      <td>Nordeste</td>\n",
       "      <td>BA</td>\n",
       "      <td>8061</td>\n",
       "    </tr>\n",
       "    <tr>\n",
       "      <th>6</th>\n",
       "      <td>Nordeste</td>\n",
       "      <td>CE</td>\n",
       "      <td>9477</td>\n",
       "    </tr>\n",
       "    <tr>\n",
       "      <th>9</th>\n",
       "      <td>Nordeste</td>\n",
       "      <td>PE</td>\n",
       "      <td>8899</td>\n",
       "    </tr>\n",
       "    <tr>\n",
       "      <th>14</th>\n",
       "      <td>Norte</td>\n",
       "      <td>AM</td>\n",
       "      <td>4761</td>\n",
       "    </tr>\n",
       "  </tbody>\n",
       "</table>\n",
       "</div>"
      ],
      "text/plain": [
       "          regiao estado  obitosNovos\n",
       "1   Centro-Oeste     GO         6201\n",
       "5       Nordeste     BA         8061\n",
       "6       Nordeste     CE         9477\n",
       "9       Nordeste     PE         8899\n",
       "14         Norte     AM         4761"
      ]
     },
     "execution_count": 11,
     "metadata": {},
     "output_type": "execute_result"
    }
   ],
   "source": [
    "dfobitos = dfregiaouf[dfregiaouf['obitosNovos'] >= 4500 ][['regiao','estado','obitosNovos']]\n",
    "print(dfobitos.shape)\n",
    "dfobitos.head()\n"
   ]
  },
  {
   "cell_type": "code",
   "execution_count": 12,
   "metadata": {
    "colab": {
     "base_uri": "https://localhost:8080/",
     "height": 172
    },
    "executionInfo": {
     "elapsed": 799,
     "status": "ok",
     "timestamp": 1607560024669,
     "user": {
      "displayName": "Orlando O. S.",
      "photoUrl": "https://lh3.googleusercontent.com/a-/AOh14Gj-E1yuy1M_3ruwN4TWYPK4BwysauSW7GQmHheS=s64",
      "userId": "15066502291703974467"
     },
     "user_tz": 180
    },
    "id": "lTlYof0uTO6m",
    "outputId": "f561df8a-76cc-4b96-f8e6-cfa4c06f7e47"
   },
   "outputs": [
    {
     "data": {
      "text/html": [
       "<div>\n",
       "<style scoped>\n",
       "    .dataframe tbody tr th:only-of-type {\n",
       "        vertical-align: middle;\n",
       "    }\n",
       "\n",
       "    .dataframe tbody tr th {\n",
       "        vertical-align: top;\n",
       "    }\n",
       "\n",
       "    .dataframe thead th {\n",
       "        text-align: right;\n",
       "    }\n",
       "</style>\n",
       "<table border=\"1\" class=\"dataframe\">\n",
       "  <thead>\n",
       "    <tr style=\"text-align: right;\">\n",
       "      <th></th>\n",
       "      <th>regiao_x</th>\n",
       "      <th>estado</th>\n",
       "      <th>casosNovos</th>\n",
       "      <th>regiao_y</th>\n",
       "      <th>obitosNovos</th>\n",
       "    </tr>\n",
       "  </thead>\n",
       "  <tbody>\n",
       "    <tr>\n",
       "      <th>0</th>\n",
       "      <td>Sudeste</td>\n",
       "      <td>SP</td>\n",
       "      <td>1200348</td>\n",
       "      <td>Sudeste</td>\n",
       "      <td>41179</td>\n",
       "    </tr>\n",
       "  </tbody>\n",
       "</table>\n",
       "</div>"
      ],
      "text/plain": [
       "  regiao_x estado  casosNovos regiao_y  obitosNovos\n",
       "0  Sudeste     SP     1200348  Sudeste        41179"
      ]
     },
     "execution_count": 12,
     "metadata": {},
     "output_type": "execute_result"
    }
   ],
   "source": [
    "dfcompleto = pd.merge(dfcasos, dfobitos, on='estado')\n",
    "dfcompleto.head()"
   ]
  },
  {
   "cell_type": "markdown",
   "metadata": {
    "id": "tQIArKLFTO6m"
   },
   "source": [
    "Aqui está um exemplo mais complicado com várias chaves de junção. Apenas as chaves que aparecem em left e right estão presentes (a interseção), pois how='inner'por padrão."
   ]
  },
  {
   "cell_type": "code",
   "execution_count": 13,
   "metadata": {
    "colab": {
     "base_uri": "https://localhost:8080/",
     "height": 172
    },
    "executionInfo": {
     "elapsed": 745,
     "status": "ok",
     "timestamp": 1607560122854,
     "user": {
      "displayName": "Orlando O. S.",
      "photoUrl": "https://lh3.googleusercontent.com/a-/AOh14Gj-E1yuy1M_3ruwN4TWYPK4BwysauSW7GQmHheS=s64",
      "userId": "15066502291703974467"
     },
     "user_tz": 180
    },
    "id": "jBWJJG4YTO6n",
    "outputId": "e21d1350-8c7b-4ad8-8e91-0aa0a06e8ba0"
   },
   "outputs": [
    {
     "data": {
      "text/html": [
       "<div>\n",
       "<style scoped>\n",
       "    .dataframe tbody tr th:only-of-type {\n",
       "        vertical-align: middle;\n",
       "    }\n",
       "\n",
       "    .dataframe tbody tr th {\n",
       "        vertical-align: top;\n",
       "    }\n",
       "\n",
       "    .dataframe thead th {\n",
       "        text-align: right;\n",
       "    }\n",
       "</style>\n",
       "<table border=\"1\" class=\"dataframe\">\n",
       "  <thead>\n",
       "    <tr style=\"text-align: right;\">\n",
       "      <th></th>\n",
       "      <th>regiao</th>\n",
       "      <th>estado</th>\n",
       "      <th>casosNovos</th>\n",
       "      <th>obitosNovos</th>\n",
       "    </tr>\n",
       "  </thead>\n",
       "  <tbody>\n",
       "    <tr>\n",
       "      <th>0</th>\n",
       "      <td>Sudeste</td>\n",
       "      <td>SP</td>\n",
       "      <td>1200348</td>\n",
       "      <td>41179</td>\n",
       "    </tr>\n",
       "  </tbody>\n",
       "</table>\n",
       "</div>"
      ],
      "text/plain": [
       "    regiao estado  casosNovos  obitosNovos\n",
       "0  Sudeste     SP     1200348        41179"
      ]
     },
     "execution_count": 13,
     "metadata": {},
     "output_type": "execute_result"
    }
   ],
   "source": [
    "dfcompleto = pd.merge(dfcasos, dfobitos, on=['regiao', 'estado'])\n",
    "dfcompleto.head()"
   ]
  },
  {
   "cell_type": "markdown",
   "metadata": {
    "id": "kWPVpQOyTO6n"
   },
   "source": [
    "### Método de junção\n",
    "\n",
    "- left - LEFT OUTER JOIN - Use as chaves do dataframe esquerdo apenas\n",
    "\n",
    "- right - RIGHT OUTER JOIN - Use as chaves do dataframe direito apenas\n",
    "\n",
    "- outer - FULL OUTER JOIN - Use a união de chaves de ambos os dataframe\n",
    "\n",
    "- inner - INNER JOIN - Use a interseção de chaves de ambos os dataframe"
   ]
  },
  {
   "cell_type": "code",
   "execution_count": 14,
   "metadata": {
    "colab": {
     "base_uri": "https://localhost:8080/",
     "height": 172
    },
    "executionInfo": {
     "elapsed": 806,
     "status": "ok",
     "timestamp": 1607560376082,
     "user": {
      "displayName": "Orlando O. S.",
      "photoUrl": "https://lh3.googleusercontent.com/a-/AOh14Gj-E1yuy1M_3ruwN4TWYPK4BwysauSW7GQmHheS=s64",
      "userId": "15066502291703974467"
     },
     "user_tz": 180
    },
    "id": "ATShIQQLTO6n",
    "outputId": "162328f1-4344-41bc-a301-a80b26ba7051"
   },
   "outputs": [
    {
     "data": {
      "text/html": [
       "<div>\n",
       "<style scoped>\n",
       "    .dataframe tbody tr th:only-of-type {\n",
       "        vertical-align: middle;\n",
       "    }\n",
       "\n",
       "    .dataframe tbody tr th {\n",
       "        vertical-align: top;\n",
       "    }\n",
       "\n",
       "    .dataframe thead th {\n",
       "        text-align: right;\n",
       "    }\n",
       "</style>\n",
       "<table border=\"1\" class=\"dataframe\">\n",
       "  <thead>\n",
       "    <tr style=\"text-align: right;\">\n",
       "      <th></th>\n",
       "      <th>regiao</th>\n",
       "      <th>estado</th>\n",
       "      <th>casosNovos</th>\n",
       "      <th>obitosNovos</th>\n",
       "    </tr>\n",
       "  </thead>\n",
       "  <tbody>\n",
       "    <tr>\n",
       "      <th>0</th>\n",
       "      <td>Sudeste</td>\n",
       "      <td>SP</td>\n",
       "      <td>1200348</td>\n",
       "      <td>41179</td>\n",
       "    </tr>\n",
       "  </tbody>\n",
       "</table>\n",
       "</div>"
      ],
      "text/plain": [
       "    regiao estado  casosNovos  obitosNovos\n",
       "0  Sudeste     SP     1200348        41179"
      ]
     },
     "execution_count": 14,
     "metadata": {},
     "output_type": "execute_result"
    }
   ],
   "source": [
    "dfcompleto = pd.merge(dfcasos, dfobitos, how='left', on=['regiao', 'estado'])\n",
    "dfcompleto.head()"
   ]
  },
  {
   "cell_type": "code",
   "execution_count": 15,
   "metadata": {
    "colab": {
     "base_uri": "https://localhost:8080/",
     "height": 387
    },
    "executionInfo": {
     "elapsed": 741,
     "status": "ok",
     "timestamp": 1607560419945,
     "user": {
      "displayName": "Orlando O. S.",
      "photoUrl": "https://lh3.googleusercontent.com/a-/AOh14Gj-E1yuy1M_3ruwN4TWYPK4BwysauSW7GQmHheS=s64",
      "userId": "15066502291703974467"
     },
     "user_tz": 180
    },
    "id": "fGUd53yITO6n",
    "outputId": "f2d26296-e3e7-4e19-b4e7-01dccbcd549e"
   },
   "outputs": [
    {
     "data": {
      "text/html": [
       "<div>\n",
       "<style scoped>\n",
       "    .dataframe tbody tr th:only-of-type {\n",
       "        vertical-align: middle;\n",
       "    }\n",
       "\n",
       "    .dataframe tbody tr th {\n",
       "        vertical-align: top;\n",
       "    }\n",
       "\n",
       "    .dataframe thead th {\n",
       "        text-align: right;\n",
       "    }\n",
       "</style>\n",
       "<table border=\"1\" class=\"dataframe\">\n",
       "  <thead>\n",
       "    <tr style=\"text-align: right;\">\n",
       "      <th></th>\n",
       "      <th>regiao</th>\n",
       "      <th>estado</th>\n",
       "      <th>casosNovos</th>\n",
       "      <th>obitosNovos</th>\n",
       "    </tr>\n",
       "  </thead>\n",
       "  <tbody>\n",
       "    <tr>\n",
       "      <th>0</th>\n",
       "      <td>Centro-Oeste</td>\n",
       "      <td>GO</td>\n",
       "      <td>NaN</td>\n",
       "      <td>6201</td>\n",
       "    </tr>\n",
       "    <tr>\n",
       "      <th>1</th>\n",
       "      <td>Nordeste</td>\n",
       "      <td>BA</td>\n",
       "      <td>NaN</td>\n",
       "      <td>8061</td>\n",
       "    </tr>\n",
       "    <tr>\n",
       "      <th>2</th>\n",
       "      <td>Nordeste</td>\n",
       "      <td>CE</td>\n",
       "      <td>NaN</td>\n",
       "      <td>9477</td>\n",
       "    </tr>\n",
       "    <tr>\n",
       "      <th>3</th>\n",
       "      <td>Nordeste</td>\n",
       "      <td>PE</td>\n",
       "      <td>NaN</td>\n",
       "      <td>8899</td>\n",
       "    </tr>\n",
       "    <tr>\n",
       "      <th>4</th>\n",
       "      <td>Norte</td>\n",
       "      <td>AM</td>\n",
       "      <td>NaN</td>\n",
       "      <td>4761</td>\n",
       "    </tr>\n",
       "    <tr>\n",
       "      <th>5</th>\n",
       "      <td>Norte</td>\n",
       "      <td>PA</td>\n",
       "      <td>NaN</td>\n",
       "      <td>6855</td>\n",
       "    </tr>\n",
       "    <tr>\n",
       "      <th>6</th>\n",
       "      <td>Sudeste</td>\n",
       "      <td>MG</td>\n",
       "      <td>NaN</td>\n",
       "      <td>9688</td>\n",
       "    </tr>\n",
       "    <tr>\n",
       "      <th>7</th>\n",
       "      <td>Sudeste</td>\n",
       "      <td>RJ</td>\n",
       "      <td>NaN</td>\n",
       "      <td>21938</td>\n",
       "    </tr>\n",
       "    <tr>\n",
       "      <th>8</th>\n",
       "      <td>Sudeste</td>\n",
       "      <td>SP</td>\n",
       "      <td>1200348.0</td>\n",
       "      <td>41179</td>\n",
       "    </tr>\n",
       "    <tr>\n",
       "      <th>9</th>\n",
       "      <td>Sul</td>\n",
       "      <td>PR</td>\n",
       "      <td>NaN</td>\n",
       "      <td>5832</td>\n",
       "    </tr>\n",
       "    <tr>\n",
       "      <th>10</th>\n",
       "      <td>Sul</td>\n",
       "      <td>RS</td>\n",
       "      <td>NaN</td>\n",
       "      <td>6447</td>\n",
       "    </tr>\n",
       "  </tbody>\n",
       "</table>\n",
       "</div>"
      ],
      "text/plain": [
       "          regiao estado  casosNovos  obitosNovos\n",
       "0   Centro-Oeste     GO         NaN         6201\n",
       "1       Nordeste     BA         NaN         8061\n",
       "2       Nordeste     CE         NaN         9477\n",
       "3       Nordeste     PE         NaN         8899\n",
       "4          Norte     AM         NaN         4761\n",
       "5          Norte     PA         NaN         6855\n",
       "6        Sudeste     MG         NaN         9688\n",
       "7        Sudeste     RJ         NaN        21938\n",
       "8        Sudeste     SP   1200348.0        41179\n",
       "9            Sul     PR         NaN         5832\n",
       "10           Sul     RS         NaN         6447"
      ]
     },
     "execution_count": 15,
     "metadata": {},
     "output_type": "execute_result"
    }
   ],
   "source": [
    "dfcompleto = pd.merge(dfcasos, dfobitos, how='right', on=['regiao', 'estado'])\n",
    "dfcompleto.head(20)"
   ]
  },
  {
   "cell_type": "code",
   "execution_count": 16,
   "metadata": {
    "colab": {
     "base_uri": "https://localhost:8080/",
     "height": 418
    },
    "executionInfo": {
     "elapsed": 727,
     "status": "ok",
     "timestamp": 1607560469345,
     "user": {
      "displayName": "Orlando O. S.",
      "photoUrl": "https://lh3.googleusercontent.com/a-/AOh14Gj-E1yuy1M_3ruwN4TWYPK4BwysauSW7GQmHheS=s64",
      "userId": "15066502291703974467"
     },
     "user_tz": 180
    },
    "id": "N4q1xGiQTO6n",
    "outputId": "b7286645-8417-491b-876e-2dbe1dacfde1"
   },
   "outputs": [
    {
     "data": {
      "text/html": [
       "<div>\n",
       "<style scoped>\n",
       "    .dataframe tbody tr th:only-of-type {\n",
       "        vertical-align: middle;\n",
       "    }\n",
       "\n",
       "    .dataframe tbody tr th {\n",
       "        vertical-align: top;\n",
       "    }\n",
       "\n",
       "    .dataframe thead th {\n",
       "        text-align: right;\n",
       "    }\n",
       "</style>\n",
       "<table border=\"1\" class=\"dataframe\">\n",
       "  <thead>\n",
       "    <tr style=\"text-align: right;\">\n",
       "      <th></th>\n",
       "      <th>regiao</th>\n",
       "      <th>estado</th>\n",
       "      <th>casosNovos</th>\n",
       "      <th>obitosNovos</th>\n",
       "    </tr>\n",
       "  </thead>\n",
       "  <tbody>\n",
       "    <tr>\n",
       "      <th>0</th>\n",
       "      <td>Sudeste</td>\n",
       "      <td>SP</td>\n",
       "      <td>1200348.0</td>\n",
       "      <td>41179</td>\n",
       "    </tr>\n",
       "    <tr>\n",
       "      <th>1</th>\n",
       "      <td>Centro-Oeste</td>\n",
       "      <td>GO</td>\n",
       "      <td>NaN</td>\n",
       "      <td>6201</td>\n",
       "    </tr>\n",
       "    <tr>\n",
       "      <th>2</th>\n",
       "      <td>Nordeste</td>\n",
       "      <td>BA</td>\n",
       "      <td>NaN</td>\n",
       "      <td>8061</td>\n",
       "    </tr>\n",
       "    <tr>\n",
       "      <th>3</th>\n",
       "      <td>Nordeste</td>\n",
       "      <td>CE</td>\n",
       "      <td>NaN</td>\n",
       "      <td>9477</td>\n",
       "    </tr>\n",
       "    <tr>\n",
       "      <th>4</th>\n",
       "      <td>Nordeste</td>\n",
       "      <td>PE</td>\n",
       "      <td>NaN</td>\n",
       "      <td>8899</td>\n",
       "    </tr>\n",
       "    <tr>\n",
       "      <th>5</th>\n",
       "      <td>Norte</td>\n",
       "      <td>AM</td>\n",
       "      <td>NaN</td>\n",
       "      <td>4761</td>\n",
       "    </tr>\n",
       "    <tr>\n",
       "      <th>6</th>\n",
       "      <td>Norte</td>\n",
       "      <td>PA</td>\n",
       "      <td>NaN</td>\n",
       "      <td>6855</td>\n",
       "    </tr>\n",
       "    <tr>\n",
       "      <th>7</th>\n",
       "      <td>Sudeste</td>\n",
       "      <td>MG</td>\n",
       "      <td>NaN</td>\n",
       "      <td>9688</td>\n",
       "    </tr>\n",
       "    <tr>\n",
       "      <th>8</th>\n",
       "      <td>Sudeste</td>\n",
       "      <td>RJ</td>\n",
       "      <td>NaN</td>\n",
       "      <td>21938</td>\n",
       "    </tr>\n",
       "    <tr>\n",
       "      <th>9</th>\n",
       "      <td>Sul</td>\n",
       "      <td>PR</td>\n",
       "      <td>NaN</td>\n",
       "      <td>5832</td>\n",
       "    </tr>\n",
       "    <tr>\n",
       "      <th>10</th>\n",
       "      <td>Sul</td>\n",
       "      <td>RS</td>\n",
       "      <td>NaN</td>\n",
       "      <td>6447</td>\n",
       "    </tr>\n",
       "  </tbody>\n",
       "</table>\n",
       "</div>"
      ],
      "text/plain": [
       "          regiao estado  casosNovos  obitosNovos\n",
       "0        Sudeste     SP   1200348.0        41179\n",
       "1   Centro-Oeste     GO         NaN         6201\n",
       "2       Nordeste     BA         NaN         8061\n",
       "3       Nordeste     CE         NaN         9477\n",
       "4       Nordeste     PE         NaN         8899\n",
       "5          Norte     AM         NaN         4761\n",
       "6          Norte     PA         NaN         6855\n",
       "7        Sudeste     MG         NaN         9688\n",
       "8        Sudeste     RJ         NaN        21938\n",
       "9            Sul     PR         NaN         5832\n",
       "10           Sul     RS         NaN         6447"
      ]
     },
     "execution_count": 16,
     "metadata": {},
     "output_type": "execute_result"
    }
   ],
   "source": [
    "dfcompleto = pd.merge(dfcasos, dfobitos, how='outer', on=['regiao', 'estado'])\n",
    "dfcompleto.head(20)"
   ]
  },
  {
   "cell_type": "code",
   "execution_count": 17,
   "metadata": {
    "colab": {
     "base_uri": "https://localhost:8080/",
     "height": 141
    },
    "executionInfo": {
     "elapsed": 711,
     "status": "ok",
     "timestamp": 1607560511778,
     "user": {
      "displayName": "Orlando O. S.",
      "photoUrl": "https://lh3.googleusercontent.com/a-/AOh14Gj-E1yuy1M_3ruwN4TWYPK4BwysauSW7GQmHheS=s64",
      "userId": "15066502291703974467"
     },
     "user_tz": 180
    },
    "id": "bg-H6fPaTO6o",
    "outputId": "216f2bf8-1a92-4c4f-eb7d-38f26aba4c5e"
   },
   "outputs": [
    {
     "data": {
      "text/html": [
       "<div>\n",
       "<style scoped>\n",
       "    .dataframe tbody tr th:only-of-type {\n",
       "        vertical-align: middle;\n",
       "    }\n",
       "\n",
       "    .dataframe tbody tr th {\n",
       "        vertical-align: top;\n",
       "    }\n",
       "\n",
       "    .dataframe thead th {\n",
       "        text-align: right;\n",
       "    }\n",
       "</style>\n",
       "<table border=\"1\" class=\"dataframe\">\n",
       "  <thead>\n",
       "    <tr style=\"text-align: right;\">\n",
       "      <th></th>\n",
       "      <th>regiao</th>\n",
       "      <th>estado</th>\n",
       "      <th>casosNovos</th>\n",
       "      <th>obitosNovos</th>\n",
       "    </tr>\n",
       "  </thead>\n",
       "  <tbody>\n",
       "    <tr>\n",
       "      <th>0</th>\n",
       "      <td>Sudeste</td>\n",
       "      <td>SP</td>\n",
       "      <td>1200348</td>\n",
       "      <td>41179</td>\n",
       "    </tr>\n",
       "  </tbody>\n",
       "</table>\n",
       "</div>"
      ],
      "text/plain": [
       "    regiao estado  casosNovos  obitosNovos\n",
       "0  Sudeste     SP     1200348        41179"
      ]
     },
     "execution_count": 17,
     "metadata": {},
     "output_type": "execute_result"
    }
   ],
   "source": [
    "dfcompleto = pd.merge(dfcasos, dfobitos, how='inner', on=['regiao', 'estado'])\n",
    "dfcompleto.head()"
   ]
  },
  {
   "cell_type": "markdown",
   "metadata": {
    "id": "i16bWk4ETO6o"
   },
   "source": [
    "Aqui está outro exemplo com chaves de junção duplicadas em DataFrames:"
   ]
  },
  {
   "cell_type": "code",
   "execution_count": 18,
   "metadata": {
    "colab": {
     "base_uri": "https://localhost:8080/",
     "height": 480
    },
    "executionInfo": {
     "elapsed": 591,
     "status": "ok",
     "timestamp": 1607560658911,
     "user": {
      "displayName": "Orlando O. S.",
      "photoUrl": "https://lh3.googleusercontent.com/a-/AOh14Gj-E1yuy1M_3ruwN4TWYPK4BwysauSW7GQmHheS=s64",
      "userId": "15066502291703974467"
     },
     "user_tz": 180
    },
    "id": "mHjlcf-MTO6p",
    "outputId": "f9d6385a-7309-46be-b40d-7b9e2f4f20ca"
   },
   "outputs": [
    {
     "data": {
      "text/html": [
       "<div>\n",
       "<style scoped>\n",
       "    .dataframe tbody tr th:only-of-type {\n",
       "        vertical-align: middle;\n",
       "    }\n",
       "\n",
       "    .dataframe tbody tr th {\n",
       "        vertical-align: top;\n",
       "    }\n",
       "\n",
       "    .dataframe thead th {\n",
       "        text-align: right;\n",
       "    }\n",
       "</style>\n",
       "<table border=\"1\" class=\"dataframe\">\n",
       "  <thead>\n",
       "    <tr style=\"text-align: right;\">\n",
       "      <th></th>\n",
       "      <th>regiao</th>\n",
       "      <th>estado_x</th>\n",
       "      <th>casosNovos</th>\n",
       "      <th>estado_y</th>\n",
       "      <th>obitosNovos</th>\n",
       "    </tr>\n",
       "  </thead>\n",
       "  <tbody>\n",
       "    <tr>\n",
       "      <th>3</th>\n",
       "      <td>Centro-Oeste</td>\n",
       "      <td>NaN</td>\n",
       "      <td>NaN</td>\n",
       "      <td>GO</td>\n",
       "      <td>6201</td>\n",
       "    </tr>\n",
       "    <tr>\n",
       "      <th>4</th>\n",
       "      <td>Nordeste</td>\n",
       "      <td>NaN</td>\n",
       "      <td>NaN</td>\n",
       "      <td>BA</td>\n",
       "      <td>8061</td>\n",
       "    </tr>\n",
       "    <tr>\n",
       "      <th>5</th>\n",
       "      <td>Nordeste</td>\n",
       "      <td>NaN</td>\n",
       "      <td>NaN</td>\n",
       "      <td>CE</td>\n",
       "      <td>9477</td>\n",
       "    </tr>\n",
       "    <tr>\n",
       "      <th>6</th>\n",
       "      <td>Nordeste</td>\n",
       "      <td>NaN</td>\n",
       "      <td>NaN</td>\n",
       "      <td>PE</td>\n",
       "      <td>8899</td>\n",
       "    </tr>\n",
       "    <tr>\n",
       "      <th>7</th>\n",
       "      <td>Norte</td>\n",
       "      <td>NaN</td>\n",
       "      <td>NaN</td>\n",
       "      <td>AM</td>\n",
       "      <td>4761</td>\n",
       "    </tr>\n",
       "    <tr>\n",
       "      <th>8</th>\n",
       "      <td>Norte</td>\n",
       "      <td>NaN</td>\n",
       "      <td>NaN</td>\n",
       "      <td>PA</td>\n",
       "      <td>6855</td>\n",
       "    </tr>\n",
       "    <tr>\n",
       "      <th>0</th>\n",
       "      <td>Sudeste</td>\n",
       "      <td>SP</td>\n",
       "      <td>1200348.0</td>\n",
       "      <td>MG</td>\n",
       "      <td>9688</td>\n",
       "    </tr>\n",
       "    <tr>\n",
       "      <th>1</th>\n",
       "      <td>Sudeste</td>\n",
       "      <td>SP</td>\n",
       "      <td>1200348.0</td>\n",
       "      <td>RJ</td>\n",
       "      <td>21938</td>\n",
       "    </tr>\n",
       "    <tr>\n",
       "      <th>2</th>\n",
       "      <td>Sudeste</td>\n",
       "      <td>SP</td>\n",
       "      <td>1200348.0</td>\n",
       "      <td>SP</td>\n",
       "      <td>41179</td>\n",
       "    </tr>\n",
       "    <tr>\n",
       "      <th>9</th>\n",
       "      <td>Sul</td>\n",
       "      <td>NaN</td>\n",
       "      <td>NaN</td>\n",
       "      <td>PR</td>\n",
       "      <td>5832</td>\n",
       "    </tr>\n",
       "    <tr>\n",
       "      <th>10</th>\n",
       "      <td>Sul</td>\n",
       "      <td>NaN</td>\n",
       "      <td>NaN</td>\n",
       "      <td>RS</td>\n",
       "      <td>6447</td>\n",
       "    </tr>\n",
       "  </tbody>\n",
       "</table>\n",
       "</div>"
      ],
      "text/plain": [
       "          regiao estado_x  casosNovos estado_y  obitosNovos\n",
       "3   Centro-Oeste      NaN         NaN       GO         6201\n",
       "4       Nordeste      NaN         NaN       BA         8061\n",
       "5       Nordeste      NaN         NaN       CE         9477\n",
       "6       Nordeste      NaN         NaN       PE         8899\n",
       "7          Norte      NaN         NaN       AM         4761\n",
       "8          Norte      NaN         NaN       PA         6855\n",
       "0        Sudeste       SP   1200348.0       MG         9688\n",
       "1        Sudeste       SP   1200348.0       RJ        21938\n",
       "2        Sudeste       SP   1200348.0       SP        41179\n",
       "9            Sul      NaN         NaN       PR         5832\n",
       "10           Sul      NaN         NaN       RS         6447"
      ]
     },
     "execution_count": 18,
     "metadata": {},
     "output_type": "execute_result"
    }
   ],
   "source": [
    "dfcompleto = pd.merge(dfcasos, dfobitos, on='regiao', how='outer').sort_values(by=['regiao','estado_x'])\n",
    "dfcompleto.head(20)"
   ]
  },
  {
   "cell_type": "markdown",
   "metadata": {
    "id": "CBrL13fdTO6p"
   },
   "source": [
    "## Unir / mesclar em chaves duplicadas resulta em produto cartesiano e resultar em estouro de memória. "
   ]
  },
  {
   "cell_type": "markdown",
   "metadata": {
    "id": "8ZOGpfYwTO6p"
   },
   "source": [
    "### Verificando chaves duplicadas \n",
    "- O argumento validate pode ser usado para verificar automaticamente se há duplicatas inesperadas em suas chaves de mesclagem, para  proteger contra estouros de memória. "
   ]
  },
  {
   "cell_type": "code",
   "execution_count": 19,
   "metadata": {
    "colab": {
     "base_uri": "https://localhost:8080/"
    },
    "executionInfo": {
     "elapsed": 691,
     "status": "ok",
     "timestamp": 1607560836825,
     "user": {
      "displayName": "Orlando O. S.",
      "photoUrl": "https://lh3.googleusercontent.com/a-/AOh14Gj-E1yuy1M_3ruwN4TWYPK4BwysauSW7GQmHheS=s64",
      "userId": "15066502291703974467"
     },
     "user_tz": 180
    },
    "id": "FWIR2m8NTO6q",
    "outputId": "36b21148-d3e9-4158-892a-a71555e9edce"
   },
   "outputs": [
    {
     "name": "stdout",
     "output_type": "stream",
     "text": [
      "Merge keys are not unique in right dataset; not a one-to-one merge\n"
     ]
    }
   ],
   "source": [
    "from pandas.errors import MergeError\n",
    "try:\n",
    "  dfcompleto = pd.merge(dfcasos, dfobitos, on='regiao', how='outer', validate=\"one_to_one\")\n",
    "  dfcompleto\n",
    "except MergeError as e:\n",
    "  print(str(e))"
   ]
  },
  {
   "cell_type": "code",
   "execution_count": 20,
   "metadata": {
    "colab": {
     "base_uri": "https://localhost:8080/",
     "height": 203
    },
    "executionInfo": {
     "elapsed": 743,
     "status": "ok",
     "timestamp": 1607560870668,
     "user": {
      "displayName": "Orlando O. S.",
      "photoUrl": "https://lh3.googleusercontent.com/a-/AOh14Gj-E1yuy1M_3ruwN4TWYPK4BwysauSW7GQmHheS=s64",
      "userId": "15066502291703974467"
     },
     "user_tz": 180
    },
    "id": "ROFG6NjTyYgk",
    "outputId": "5df8aa69-567a-4437-99d8-cb6e3e0de854"
   },
   "outputs": [
    {
     "data": {
      "text/html": [
       "<div>\n",
       "<style scoped>\n",
       "    .dataframe tbody tr th:only-of-type {\n",
       "        vertical-align: middle;\n",
       "    }\n",
       "\n",
       "    .dataframe tbody tr th {\n",
       "        vertical-align: top;\n",
       "    }\n",
       "\n",
       "    .dataframe thead th {\n",
       "        text-align: right;\n",
       "    }\n",
       "</style>\n",
       "<table border=\"1\" class=\"dataframe\">\n",
       "  <thead>\n",
       "    <tr style=\"text-align: right;\">\n",
       "      <th></th>\n",
       "      <th>regiao_x</th>\n",
       "      <th>estado</th>\n",
       "      <th>casosNovos</th>\n",
       "      <th>regiao_y</th>\n",
       "      <th>obitosNovos</th>\n",
       "    </tr>\n",
       "  </thead>\n",
       "  <tbody>\n",
       "    <tr>\n",
       "      <th>0</th>\n",
       "      <td>Sudeste</td>\n",
       "      <td>SP</td>\n",
       "      <td>1200348.0</td>\n",
       "      <td>Sudeste</td>\n",
       "      <td>41179</td>\n",
       "    </tr>\n",
       "    <tr>\n",
       "      <th>1</th>\n",
       "      <td>NaN</td>\n",
       "      <td>GO</td>\n",
       "      <td>NaN</td>\n",
       "      <td>Centro-Oeste</td>\n",
       "      <td>6201</td>\n",
       "    </tr>\n",
       "    <tr>\n",
       "      <th>2</th>\n",
       "      <td>NaN</td>\n",
       "      <td>BA</td>\n",
       "      <td>NaN</td>\n",
       "      <td>Nordeste</td>\n",
       "      <td>8061</td>\n",
       "    </tr>\n",
       "    <tr>\n",
       "      <th>3</th>\n",
       "      <td>NaN</td>\n",
       "      <td>CE</td>\n",
       "      <td>NaN</td>\n",
       "      <td>Nordeste</td>\n",
       "      <td>9477</td>\n",
       "    </tr>\n",
       "    <tr>\n",
       "      <th>4</th>\n",
       "      <td>NaN</td>\n",
       "      <td>PE</td>\n",
       "      <td>NaN</td>\n",
       "      <td>Nordeste</td>\n",
       "      <td>8899</td>\n",
       "    </tr>\n",
       "  </tbody>\n",
       "</table>\n",
       "</div>"
      ],
      "text/plain": [
       "  regiao_x estado  casosNovos      regiao_y  obitosNovos\n",
       "0  Sudeste     SP   1200348.0       Sudeste        41179\n",
       "1      NaN     GO         NaN  Centro-Oeste         6201\n",
       "2      NaN     BA         NaN      Nordeste         8061\n",
       "3      NaN     CE         NaN      Nordeste         9477\n",
       "4      NaN     PE         NaN      Nordeste         8899"
      ]
     },
     "execution_count": 20,
     "metadata": {},
     "output_type": "execute_result"
    }
   ],
   "source": [
    "dfcompleto = pd.merge(dfcasos, dfobitos, on='estado', how='outer', validate=\"one_to_one\")\n",
    "dfcompleto.head()"
   ]
  },
  {
   "cell_type": "code",
   "execution_count": 21,
   "metadata": {
    "colab": {
     "base_uri": "https://localhost:8080/",
     "height": 203
    },
    "executionInfo": {
     "elapsed": 938,
     "status": "ok",
     "timestamp": 1607560887732,
     "user": {
      "displayName": "Orlando O. S.",
      "photoUrl": "https://lh3.googleusercontent.com/a-/AOh14Gj-E1yuy1M_3ruwN4TWYPK4BwysauSW7GQmHheS=s64",
      "userId": "15066502291703974467"
     },
     "user_tz": 180
    },
    "id": "WgTidkaHTO6q",
    "outputId": "ea75aa7a-f538-4d3c-9628-109ad706edfd"
   },
   "outputs": [
    {
     "data": {
      "text/html": [
       "<div>\n",
       "<style scoped>\n",
       "    .dataframe tbody tr th:only-of-type {\n",
       "        vertical-align: middle;\n",
       "    }\n",
       "\n",
       "    .dataframe tbody tr th {\n",
       "        vertical-align: top;\n",
       "    }\n",
       "\n",
       "    .dataframe thead th {\n",
       "        text-align: right;\n",
       "    }\n",
       "</style>\n",
       "<table border=\"1\" class=\"dataframe\">\n",
       "  <thead>\n",
       "    <tr style=\"text-align: right;\">\n",
       "      <th></th>\n",
       "      <th>regiao_x</th>\n",
       "      <th>estado</th>\n",
       "      <th>casosNovos</th>\n",
       "      <th>regiao_y</th>\n",
       "      <th>obitosNovos</th>\n",
       "    </tr>\n",
       "  </thead>\n",
       "  <tbody>\n",
       "    <tr>\n",
       "      <th>0</th>\n",
       "      <td>Sudeste</td>\n",
       "      <td>SP</td>\n",
       "      <td>1200348.0</td>\n",
       "      <td>Sudeste</td>\n",
       "      <td>41179</td>\n",
       "    </tr>\n",
       "    <tr>\n",
       "      <th>1</th>\n",
       "      <td>NaN</td>\n",
       "      <td>GO</td>\n",
       "      <td>NaN</td>\n",
       "      <td>Centro-Oeste</td>\n",
       "      <td>6201</td>\n",
       "    </tr>\n",
       "    <tr>\n",
       "      <th>2</th>\n",
       "      <td>NaN</td>\n",
       "      <td>BA</td>\n",
       "      <td>NaN</td>\n",
       "      <td>Nordeste</td>\n",
       "      <td>8061</td>\n",
       "    </tr>\n",
       "    <tr>\n",
       "      <th>3</th>\n",
       "      <td>NaN</td>\n",
       "      <td>CE</td>\n",
       "      <td>NaN</td>\n",
       "      <td>Nordeste</td>\n",
       "      <td>9477</td>\n",
       "    </tr>\n",
       "    <tr>\n",
       "      <th>4</th>\n",
       "      <td>NaN</td>\n",
       "      <td>PE</td>\n",
       "      <td>NaN</td>\n",
       "      <td>Nordeste</td>\n",
       "      <td>8899</td>\n",
       "    </tr>\n",
       "  </tbody>\n",
       "</table>\n",
       "</div>"
      ],
      "text/plain": [
       "  regiao_x estado  casosNovos      regiao_y  obitosNovos\n",
       "0  Sudeste     SP   1200348.0       Sudeste        41179\n",
       "1      NaN     GO         NaN  Centro-Oeste         6201\n",
       "2      NaN     BA         NaN      Nordeste         8061\n",
       "3      NaN     CE         NaN      Nordeste         9477\n",
       "4      NaN     PE         NaN      Nordeste         8899"
      ]
     },
     "execution_count": 21,
     "metadata": {},
     "output_type": "execute_result"
    }
   ],
   "source": [
    "dfcompleto = pd.merge(dfcasos, dfobitos, on='estado', how='outer', validate=\"one_to_many\")\n",
    "dfcompleto.head()"
   ]
  },
  {
   "cell_type": "markdown",
   "metadata": {
    "id": "FTYCzrDXTO6q"
   },
   "source": [
    "### O indicador de mesclagem \n",
    "merge()aceita o argumento indicator. Se True, uma coluna do tipo categórico chamada _mergeserá adicionada ao objeto de saída que assume os valores:\n",
    "\n",
    "- Chave de mesclagem apenas no 'left'quadro: left_only\n",
    "\n",
    "- Chave de mesclagem apenas no 'right'quadro: right_only\n",
    "\n",
    "- Chave de mesclagem em ambos os quadros: both"
   ]
  },
  {
   "cell_type": "code",
   "execution_count": 22,
   "metadata": {
    "colab": {
     "base_uri": "https://localhost:8080/",
     "height": 203
    },
    "executionInfo": {
     "elapsed": 685,
     "status": "ok",
     "timestamp": 1607560939328,
     "user": {
      "displayName": "Orlando O. S.",
      "photoUrl": "https://lh3.googleusercontent.com/a-/AOh14Gj-E1yuy1M_3ruwN4TWYPK4BwysauSW7GQmHheS=s64",
      "userId": "15066502291703974467"
     },
     "user_tz": 180
    },
    "id": "SboLK2NxTO6r",
    "outputId": "67d816be-af58-4862-99bc-1040aefc52c9"
   },
   "outputs": [
    {
     "data": {
      "text/html": [
       "<div>\n",
       "<style scoped>\n",
       "    .dataframe tbody tr th:only-of-type {\n",
       "        vertical-align: middle;\n",
       "    }\n",
       "\n",
       "    .dataframe tbody tr th {\n",
       "        vertical-align: top;\n",
       "    }\n",
       "\n",
       "    .dataframe thead th {\n",
       "        text-align: right;\n",
       "    }\n",
       "</style>\n",
       "<table border=\"1\" class=\"dataframe\">\n",
       "  <thead>\n",
       "    <tr style=\"text-align: right;\">\n",
       "      <th></th>\n",
       "      <th>regiao</th>\n",
       "      <th>estado</th>\n",
       "      <th>casosNovos</th>\n",
       "      <th>obitosNovos</th>\n",
       "      <th>_merge</th>\n",
       "    </tr>\n",
       "  </thead>\n",
       "  <tbody>\n",
       "    <tr>\n",
       "      <th>0</th>\n",
       "      <td>Sudeste</td>\n",
       "      <td>SP</td>\n",
       "      <td>1200348.0</td>\n",
       "      <td>41179</td>\n",
       "      <td>both</td>\n",
       "    </tr>\n",
       "    <tr>\n",
       "      <th>1</th>\n",
       "      <td>Centro-Oeste</td>\n",
       "      <td>GO</td>\n",
       "      <td>NaN</td>\n",
       "      <td>6201</td>\n",
       "      <td>right_only</td>\n",
       "    </tr>\n",
       "    <tr>\n",
       "      <th>2</th>\n",
       "      <td>Nordeste</td>\n",
       "      <td>BA</td>\n",
       "      <td>NaN</td>\n",
       "      <td>8061</td>\n",
       "      <td>right_only</td>\n",
       "    </tr>\n",
       "    <tr>\n",
       "      <th>3</th>\n",
       "      <td>Nordeste</td>\n",
       "      <td>CE</td>\n",
       "      <td>NaN</td>\n",
       "      <td>9477</td>\n",
       "      <td>right_only</td>\n",
       "    </tr>\n",
       "    <tr>\n",
       "      <th>4</th>\n",
       "      <td>Nordeste</td>\n",
       "      <td>PE</td>\n",
       "      <td>NaN</td>\n",
       "      <td>8899</td>\n",
       "      <td>right_only</td>\n",
       "    </tr>\n",
       "  </tbody>\n",
       "</table>\n",
       "</div>"
      ],
      "text/plain": [
       "         regiao estado  casosNovos  obitosNovos      _merge\n",
       "0       Sudeste     SP   1200348.0        41179        both\n",
       "1  Centro-Oeste     GO         NaN         6201  right_only\n",
       "2      Nordeste     BA         NaN         8061  right_only\n",
       "3      Nordeste     CE         NaN         9477  right_only\n",
       "4      Nordeste     PE         NaN         8899  right_only"
      ]
     },
     "execution_count": 22,
     "metadata": {},
     "output_type": "execute_result"
    }
   ],
   "source": [
    "dfcompleto = pd.merge(dfcasos, dfobitos, on=['regiao', 'estado'], how='outer', indicator=True)\n",
    "dfcompleto.head()"
   ]
  },
  {
   "cell_type": "code",
   "execution_count": 23,
   "metadata": {
    "colab": {
     "base_uri": "https://localhost:8080/",
     "height": 141
    },
    "executionInfo": {
     "elapsed": 833,
     "status": "ok",
     "timestamp": 1607561007940,
     "user": {
      "displayName": "Orlando O. S.",
      "photoUrl": "https://lh3.googleusercontent.com/a-/AOh14Gj-E1yuy1M_3ruwN4TWYPK4BwysauSW7GQmHheS=s64",
      "userId": "15066502291703974467"
     },
     "user_tz": 180
    },
    "id": "_FYWzayoGgWM",
    "outputId": "9ae6a970-8288-4569-ffff-96680b08010e"
   },
   "outputs": [
    {
     "data": {
      "text/html": [
       "<div>\n",
       "<style scoped>\n",
       "    .dataframe tbody tr th:only-of-type {\n",
       "        vertical-align: middle;\n",
       "    }\n",
       "\n",
       "    .dataframe tbody tr th {\n",
       "        vertical-align: top;\n",
       "    }\n",
       "\n",
       "    .dataframe thead th {\n",
       "        text-align: right;\n",
       "    }\n",
       "</style>\n",
       "<table border=\"1\" class=\"dataframe\">\n",
       "  <thead>\n",
       "    <tr style=\"text-align: right;\">\n",
       "      <th></th>\n",
       "      <th>regiao</th>\n",
       "      <th>estado</th>\n",
       "      <th>casosNovos</th>\n",
       "      <th>obitosNovos</th>\n",
       "      <th>_merge</th>\n",
       "    </tr>\n",
       "  </thead>\n",
       "  <tbody>\n",
       "    <tr>\n",
       "      <th>0</th>\n",
       "      <td>Sudeste</td>\n",
       "      <td>SP</td>\n",
       "      <td>1200348.0</td>\n",
       "      <td>41179</td>\n",
       "      <td>both</td>\n",
       "    </tr>\n",
       "  </tbody>\n",
       "</table>\n",
       "</div>"
      ],
      "text/plain": [
       "    regiao estado  casosNovos  obitosNovos _merge\n",
       "0  Sudeste     SP   1200348.0        41179   both"
      ]
     },
     "execution_count": 23,
     "metadata": {},
     "output_type": "execute_result"
    }
   ],
   "source": [
    "dfcompleto[ dfcompleto._merge =='both']"
   ]
  },
  {
   "cell_type": "code",
   "execution_count": 24,
   "metadata": {
    "colab": {
     "base_uri": "https://localhost:8080/"
    },
    "executionInfo": {
     "elapsed": 675,
     "status": "ok",
     "timestamp": 1607561041551,
     "user": {
      "displayName": "Orlando O. S.",
      "photoUrl": "https://lh3.googleusercontent.com/a-/AOh14Gj-E1yuy1M_3ruwN4TWYPK4BwysauSW7GQmHheS=s64",
      "userId": "15066502291703974467"
     },
     "user_tz": 180
    },
    "id": "D12VqQkVGm9Y",
    "outputId": "b2b19f2b-e1f4-4748-a91f-b874daeb2b23"
   },
   "outputs": [
    {
     "data": {
      "text/plain": [
       "right_only    10\n",
       "both           1\n",
       "left_only      0\n",
       "Name: _merge, dtype: int64"
      ]
     },
     "execution_count": 24,
     "metadata": {},
     "output_type": "execute_result"
    }
   ],
   "source": [
    "dfcompleto._merge.value_counts()"
   ]
  },
  {
   "cell_type": "markdown",
   "metadata": {
    "id": "2fFxdtouTO6r"
   },
   "source": [
    "- O argumento indicator também aceitará argumentos de string, caso em que a função do indicador usará o valor da string passada como o nome da coluna do indicador."
   ]
  },
  {
   "cell_type": "code",
   "execution_count": 25,
   "metadata": {
    "colab": {
     "base_uri": "https://localhost:8080/",
     "height": 203
    },
    "executionInfo": {
     "elapsed": 785,
     "status": "ok",
     "timestamp": 1607561073892,
     "user": {
      "displayName": "Orlando O. S.",
      "photoUrl": "https://lh3.googleusercontent.com/a-/AOh14Gj-E1yuy1M_3ruwN4TWYPK4BwysauSW7GQmHheS=s64",
      "userId": "15066502291703974467"
     },
     "user_tz": 180
    },
    "id": "I5IgIA-BTO6r",
    "outputId": "001ccdb0-2ee3-49e4-a752-fa5abd8b33cc"
   },
   "outputs": [
    {
     "data": {
      "text/html": [
       "<div>\n",
       "<style scoped>\n",
       "    .dataframe tbody tr th:only-of-type {\n",
       "        vertical-align: middle;\n",
       "    }\n",
       "\n",
       "    .dataframe tbody tr th {\n",
       "        vertical-align: top;\n",
       "    }\n",
       "\n",
       "    .dataframe thead th {\n",
       "        text-align: right;\n",
       "    }\n",
       "</style>\n",
       "<table border=\"1\" class=\"dataframe\">\n",
       "  <thead>\n",
       "    <tr style=\"text-align: right;\">\n",
       "      <th></th>\n",
       "      <th>regiao</th>\n",
       "      <th>estado</th>\n",
       "      <th>casosNovos</th>\n",
       "      <th>obitosNovos</th>\n",
       "      <th>indicator_column</th>\n",
       "    </tr>\n",
       "  </thead>\n",
       "  <tbody>\n",
       "    <tr>\n",
       "      <th>0</th>\n",
       "      <td>Sudeste</td>\n",
       "      <td>SP</td>\n",
       "      <td>1200348.0</td>\n",
       "      <td>41179</td>\n",
       "      <td>both</td>\n",
       "    </tr>\n",
       "    <tr>\n",
       "      <th>1</th>\n",
       "      <td>Centro-Oeste</td>\n",
       "      <td>GO</td>\n",
       "      <td>NaN</td>\n",
       "      <td>6201</td>\n",
       "      <td>right_only</td>\n",
       "    </tr>\n",
       "    <tr>\n",
       "      <th>2</th>\n",
       "      <td>Nordeste</td>\n",
       "      <td>BA</td>\n",
       "      <td>NaN</td>\n",
       "      <td>8061</td>\n",
       "      <td>right_only</td>\n",
       "    </tr>\n",
       "    <tr>\n",
       "      <th>3</th>\n",
       "      <td>Nordeste</td>\n",
       "      <td>CE</td>\n",
       "      <td>NaN</td>\n",
       "      <td>9477</td>\n",
       "      <td>right_only</td>\n",
       "    </tr>\n",
       "    <tr>\n",
       "      <th>4</th>\n",
       "      <td>Nordeste</td>\n",
       "      <td>PE</td>\n",
       "      <td>NaN</td>\n",
       "      <td>8899</td>\n",
       "      <td>right_only</td>\n",
       "    </tr>\n",
       "  </tbody>\n",
       "</table>\n",
       "</div>"
      ],
      "text/plain": [
       "         regiao estado  casosNovos  obitosNovos indicator_column\n",
       "0       Sudeste     SP   1200348.0        41179             both\n",
       "1  Centro-Oeste     GO         NaN         6201       right_only\n",
       "2      Nordeste     BA         NaN         8061       right_only\n",
       "3      Nordeste     CE         NaN         9477       right_only\n",
       "4      Nordeste     PE         NaN         8899       right_only"
      ]
     },
     "execution_count": 25,
     "metadata": {},
     "output_type": "execute_result"
    }
   ],
   "source": [
    "dfcompleto = pd.merge(dfcasos, dfobitos, on=['regiao', 'estado'], how='outer', indicator='indicator_column')\n",
    "dfcompleto.head()"
   ]
  },
  {
   "cell_type": "markdown",
   "metadata": {
    "id": "HEF9hCw7TO6s"
   },
   "source": [
    "# Merge dtypes \n",
    "A mesclagem preservará o dtype das chaves de junção."
   ]
  },
  {
   "cell_type": "code",
   "execution_count": 26,
   "metadata": {
    "colab": {
     "base_uri": "https://localhost:8080/"
    },
    "executionInfo": {
     "elapsed": 740,
     "status": "ok",
     "timestamp": 1607561090007,
     "user": {
      "displayName": "Orlando O. S.",
      "photoUrl": "https://lh3.googleusercontent.com/a-/AOh14Gj-E1yuy1M_3ruwN4TWYPK4BwysauSW7GQmHheS=s64",
      "userId": "15066502291703974467"
     },
     "user_tz": 180
    },
    "id": "-hyvvgOW1b6P",
    "outputId": "2d93f826-f8b1-4931-da88-70c97febb985"
   },
   "outputs": [
    {
     "data": {
      "text/plain": [
       "regiao        object\n",
       "estado        object\n",
       "casosNovos     int64\n",
       "dtype: object"
      ]
     },
     "execution_count": 26,
     "metadata": {},
     "output_type": "execute_result"
    }
   ],
   "source": [
    "dfcasos.dtypes"
   ]
  },
  {
   "cell_type": "code",
   "execution_count": 27,
   "metadata": {
    "colab": {
     "base_uri": "https://localhost:8080/"
    },
    "executionInfo": {
     "elapsed": 753,
     "status": "ok",
     "timestamp": 1607561093420,
     "user": {
      "displayName": "Orlando O. S.",
      "photoUrl": "https://lh3.googleusercontent.com/a-/AOh14Gj-E1yuy1M_3ruwN4TWYPK4BwysauSW7GQmHheS=s64",
      "userId": "15066502291703974467"
     },
     "user_tz": 180
    },
    "id": "vpeJ4n1h1bpi",
    "outputId": "f87f5297-e5c6-4bd3-85f3-7352c7e3d745"
   },
   "outputs": [
    {
     "data": {
      "text/plain": [
       "regiao         object\n",
       "estado         object\n",
       "obitosNovos     int64\n",
       "dtype: object"
      ]
     },
     "execution_count": 27,
     "metadata": {},
     "output_type": "execute_result"
    }
   ],
   "source": [
    "dfobitos.dtypes"
   ]
  },
  {
   "cell_type": "code",
   "execution_count": 28,
   "metadata": {
    "colab": {
     "base_uri": "https://localhost:8080/"
    },
    "executionInfo": {
     "elapsed": 851,
     "status": "ok",
     "timestamp": 1607561103117,
     "user": {
      "displayName": "Orlando O. S.",
      "photoUrl": "https://lh3.googleusercontent.com/a-/AOh14Gj-E1yuy1M_3ruwN4TWYPK4BwysauSW7GQmHheS=s64",
      "userId": "15066502291703974467"
     },
     "user_tz": 180
    },
    "id": "JM1rkxTQTO6s",
    "outputId": "cd928c0b-0519-4d18-8b8b-31b5ce316030"
   },
   "outputs": [
    {
     "data": {
      "text/plain": [
       "regiao         object\n",
       "estado         object\n",
       "casosNovos      int64\n",
       "obitosNovos     int64\n",
       "dtype: object"
      ]
     },
     "execution_count": 28,
     "metadata": {},
     "output_type": "execute_result"
    }
   ],
   "source": [
    "dfcompleto = pd.merge(dfcasos, dfobitos, how='inner', on=['regiao', 'estado'])\n",
    "dfcompleto.dtypes"
   ]
  },
  {
   "cell_type": "markdown",
   "metadata": {
    "id": "KM3QGHWFTO6t"
   },
   "source": [
    "Se tiver valores ausentes introduzidos, o dtype resultante será atualizado."
   ]
  },
  {
   "cell_type": "code",
   "execution_count": 29,
   "metadata": {
    "colab": {
     "base_uri": "https://localhost:8080/",
     "height": 418
    },
    "executionInfo": {
     "elapsed": 779,
     "status": "ok",
     "timestamp": 1607561118618,
     "user": {
      "displayName": "Orlando O. S.",
      "photoUrl": "https://lh3.googleusercontent.com/a-/AOh14Gj-E1yuy1M_3ruwN4TWYPK4BwysauSW7GQmHheS=s64",
      "userId": "15066502291703974467"
     },
     "user_tz": 180
    },
    "id": "uraN_qbXTO6t",
    "outputId": "c8c62ac8-3c8e-477f-e428-450be22e85a9"
   },
   "outputs": [
    {
     "data": {
      "text/html": [
       "<div>\n",
       "<style scoped>\n",
       "    .dataframe tbody tr th:only-of-type {\n",
       "        vertical-align: middle;\n",
       "    }\n",
       "\n",
       "    .dataframe tbody tr th {\n",
       "        vertical-align: top;\n",
       "    }\n",
       "\n",
       "    .dataframe thead th {\n",
       "        text-align: right;\n",
       "    }\n",
       "</style>\n",
       "<table border=\"1\" class=\"dataframe\">\n",
       "  <thead>\n",
       "    <tr style=\"text-align: right;\">\n",
       "      <th></th>\n",
       "      <th>regiao_x</th>\n",
       "      <th>estado</th>\n",
       "      <th>casosNovos</th>\n",
       "      <th>regiao_y</th>\n",
       "      <th>obitosNovos</th>\n",
       "    </tr>\n",
       "  </thead>\n",
       "  <tbody>\n",
       "    <tr>\n",
       "      <th>0</th>\n",
       "      <td>Sudeste</td>\n",
       "      <td>SP</td>\n",
       "      <td>1200348.0</td>\n",
       "      <td>Sudeste</td>\n",
       "      <td>41179</td>\n",
       "    </tr>\n",
       "    <tr>\n",
       "      <th>1</th>\n",
       "      <td>NaN</td>\n",
       "      <td>GO</td>\n",
       "      <td>NaN</td>\n",
       "      <td>Centro-Oeste</td>\n",
       "      <td>6201</td>\n",
       "    </tr>\n",
       "    <tr>\n",
       "      <th>2</th>\n",
       "      <td>NaN</td>\n",
       "      <td>BA</td>\n",
       "      <td>NaN</td>\n",
       "      <td>Nordeste</td>\n",
       "      <td>8061</td>\n",
       "    </tr>\n",
       "    <tr>\n",
       "      <th>3</th>\n",
       "      <td>NaN</td>\n",
       "      <td>CE</td>\n",
       "      <td>NaN</td>\n",
       "      <td>Nordeste</td>\n",
       "      <td>9477</td>\n",
       "    </tr>\n",
       "    <tr>\n",
       "      <th>4</th>\n",
       "      <td>NaN</td>\n",
       "      <td>PE</td>\n",
       "      <td>NaN</td>\n",
       "      <td>Nordeste</td>\n",
       "      <td>8899</td>\n",
       "    </tr>\n",
       "    <tr>\n",
       "      <th>5</th>\n",
       "      <td>NaN</td>\n",
       "      <td>AM</td>\n",
       "      <td>NaN</td>\n",
       "      <td>Norte</td>\n",
       "      <td>4761</td>\n",
       "    </tr>\n",
       "    <tr>\n",
       "      <th>6</th>\n",
       "      <td>NaN</td>\n",
       "      <td>PA</td>\n",
       "      <td>NaN</td>\n",
       "      <td>Norte</td>\n",
       "      <td>6855</td>\n",
       "    </tr>\n",
       "    <tr>\n",
       "      <th>7</th>\n",
       "      <td>NaN</td>\n",
       "      <td>MG</td>\n",
       "      <td>NaN</td>\n",
       "      <td>Sudeste</td>\n",
       "      <td>9688</td>\n",
       "    </tr>\n",
       "    <tr>\n",
       "      <th>8</th>\n",
       "      <td>NaN</td>\n",
       "      <td>RJ</td>\n",
       "      <td>NaN</td>\n",
       "      <td>Sudeste</td>\n",
       "      <td>21938</td>\n",
       "    </tr>\n",
       "    <tr>\n",
       "      <th>9</th>\n",
       "      <td>NaN</td>\n",
       "      <td>PR</td>\n",
       "      <td>NaN</td>\n",
       "      <td>Sul</td>\n",
       "      <td>5832</td>\n",
       "    </tr>\n",
       "    <tr>\n",
       "      <th>10</th>\n",
       "      <td>NaN</td>\n",
       "      <td>RS</td>\n",
       "      <td>NaN</td>\n",
       "      <td>Sul</td>\n",
       "      <td>6447</td>\n",
       "    </tr>\n",
       "  </tbody>\n",
       "</table>\n",
       "</div>"
      ],
      "text/plain": [
       "   regiao_x estado  casosNovos      regiao_y  obitosNovos\n",
       "0   Sudeste     SP   1200348.0       Sudeste        41179\n",
       "1       NaN     GO         NaN  Centro-Oeste         6201\n",
       "2       NaN     BA         NaN      Nordeste         8061\n",
       "3       NaN     CE         NaN      Nordeste         9477\n",
       "4       NaN     PE         NaN      Nordeste         8899\n",
       "5       NaN     AM         NaN         Norte         4761\n",
       "6       NaN     PA         NaN         Norte         6855\n",
       "7       NaN     MG         NaN       Sudeste         9688\n",
       "8       NaN     RJ         NaN       Sudeste        21938\n",
       "9       NaN     PR         NaN           Sul         5832\n",
       "10      NaN     RS         NaN           Sul         6447"
      ]
     },
     "execution_count": 29,
     "metadata": {},
     "output_type": "execute_result"
    }
   ],
   "source": [
    "pd.merge(dfcasos, dfobitos, how='outer', on='estado')"
   ]
  },
  {
   "cell_type": "code",
   "execution_count": 30,
   "metadata": {
    "colab": {
     "base_uri": "https://localhost:8080/"
    },
    "executionInfo": {
     "elapsed": 765,
     "status": "ok",
     "timestamp": 1607561123454,
     "user": {
      "displayName": "Orlando O. S.",
      "photoUrl": "https://lh3.googleusercontent.com/a-/AOh14Gj-E1yuy1M_3ruwN4TWYPK4BwysauSW7GQmHheS=s64",
      "userId": "15066502291703974467"
     },
     "user_tz": 180
    },
    "id": "EEFke-UoTO6t",
    "outputId": "0b5ff716-6ffa-451b-a55e-d0edf271bb2f"
   },
   "outputs": [
    {
     "data": {
      "text/plain": [
       "regiao_x        object\n",
       "estado          object\n",
       "casosNovos     float64\n",
       "regiao_y        object\n",
       "obitosNovos      int64\n",
       "dtype: object"
      ]
     },
     "execution_count": 30,
     "metadata": {},
     "output_type": "execute_result"
    }
   ],
   "source": [
    "pd.merge(dfcasos, dfobitos, how='outer', on='estado').dtypes"
   ]
  },
  {
   "cell_type": "markdown",
   "metadata": {
    "id": "WtFw6XDLTO6u"
   },
   "source": [
    "## Juntando com base no índice \n",
    "DataFrame.join() é um método conveniente para combinar as colunas de dois DataFrames potencialmente indexados em um único resultado DataFrame. "
   ]
  },
  {
   "cell_type": "code",
   "execution_count": 31,
   "metadata": {
    "colab": {
     "base_uri": "https://localhost:8080/",
     "height": 172
    },
    "executionInfo": {
     "elapsed": 768,
     "status": "ok",
     "timestamp": 1607561226716,
     "user": {
      "displayName": "Orlando O. S.",
      "photoUrl": "https://lh3.googleusercontent.com/a-/AOh14Gj-E1yuy1M_3ruwN4TWYPK4BwysauSW7GQmHheS=s64",
      "userId": "15066502291703974467"
     },
     "user_tz": 180
    },
    "id": "9csRrG5fHZ_i",
    "outputId": "570838ca-34ca-4bd5-ee6c-7ffa62b3703b"
   },
   "outputs": [
    {
     "data": {
      "text/html": [
       "<div>\n",
       "<style scoped>\n",
       "    .dataframe tbody tr th:only-of-type {\n",
       "        vertical-align: middle;\n",
       "    }\n",
       "\n",
       "    .dataframe tbody tr th {\n",
       "        vertical-align: top;\n",
       "    }\n",
       "\n",
       "    .dataframe thead th {\n",
       "        text-align: right;\n",
       "    }\n",
       "</style>\n",
       "<table border=\"1\" class=\"dataframe\">\n",
       "  <thead>\n",
       "    <tr style=\"text-align: right;\">\n",
       "      <th></th>\n",
       "      <th>regiao</th>\n",
       "      <th>estado</th>\n",
       "      <th>casosNovos</th>\n",
       "    </tr>\n",
       "  </thead>\n",
       "  <tbody>\n",
       "    <tr>\n",
       "      <th>23</th>\n",
       "      <td>Sudeste</td>\n",
       "      <td>SP</td>\n",
       "      <td>1200348</td>\n",
       "    </tr>\n",
       "  </tbody>\n",
       "</table>\n",
       "</div>"
      ],
      "text/plain": [
       "     regiao estado  casosNovos\n",
       "23  Sudeste     SP     1200348"
      ]
     },
     "execution_count": 31,
     "metadata": {},
     "output_type": "execute_result"
    }
   ],
   "source": [
    "dfcasos"
   ]
  },
  {
   "cell_type": "code",
   "execution_count": 32,
   "metadata": {
    "colab": {
     "base_uri": "https://localhost:8080/",
     "height": 387
    },
    "executionInfo": {
     "elapsed": 738,
     "status": "ok",
     "timestamp": 1607561344333,
     "user": {
      "displayName": "Orlando O. S.",
      "photoUrl": "https://lh3.googleusercontent.com/a-/AOh14Gj-E1yuy1M_3ruwN4TWYPK4BwysauSW7GQmHheS=s64",
      "userId": "15066502291703974467"
     },
     "user_tz": 180
    },
    "id": "sgfEEFgaH2uz",
    "outputId": "fc399e6b-020f-475c-889c-06f9130d825d"
   },
   "outputs": [
    {
     "data": {
      "text/html": [
       "<div>\n",
       "<style scoped>\n",
       "    .dataframe tbody tr th:only-of-type {\n",
       "        vertical-align: middle;\n",
       "    }\n",
       "\n",
       "    .dataframe tbody tr th {\n",
       "        vertical-align: top;\n",
       "    }\n",
       "\n",
       "    .dataframe thead th {\n",
       "        text-align: right;\n",
       "    }\n",
       "</style>\n",
       "<table border=\"1\" class=\"dataframe\">\n",
       "  <thead>\n",
       "    <tr style=\"text-align: right;\">\n",
       "      <th></th>\n",
       "      <th>regiao</th>\n",
       "      <th>estado</th>\n",
       "      <th>obitosNovos</th>\n",
       "    </tr>\n",
       "  </thead>\n",
       "  <tbody>\n",
       "    <tr>\n",
       "      <th>1</th>\n",
       "      <td>Centro-Oeste</td>\n",
       "      <td>GO</td>\n",
       "      <td>6201</td>\n",
       "    </tr>\n",
       "    <tr>\n",
       "      <th>5</th>\n",
       "      <td>Nordeste</td>\n",
       "      <td>BA</td>\n",
       "      <td>8061</td>\n",
       "    </tr>\n",
       "    <tr>\n",
       "      <th>6</th>\n",
       "      <td>Nordeste</td>\n",
       "      <td>CE</td>\n",
       "      <td>9477</td>\n",
       "    </tr>\n",
       "    <tr>\n",
       "      <th>9</th>\n",
       "      <td>Nordeste</td>\n",
       "      <td>PE</td>\n",
       "      <td>8899</td>\n",
       "    </tr>\n",
       "    <tr>\n",
       "      <th>14</th>\n",
       "      <td>Norte</td>\n",
       "      <td>AM</td>\n",
       "      <td>4761</td>\n",
       "    </tr>\n",
       "    <tr>\n",
       "      <th>16</th>\n",
       "      <td>Norte</td>\n",
       "      <td>PA</td>\n",
       "      <td>6855</td>\n",
       "    </tr>\n",
       "    <tr>\n",
       "      <th>21</th>\n",
       "      <td>Sudeste</td>\n",
       "      <td>MG</td>\n",
       "      <td>9688</td>\n",
       "    </tr>\n",
       "    <tr>\n",
       "      <th>22</th>\n",
       "      <td>Sudeste</td>\n",
       "      <td>RJ</td>\n",
       "      <td>21938</td>\n",
       "    </tr>\n",
       "    <tr>\n",
       "      <th>23</th>\n",
       "      <td>Sudeste</td>\n",
       "      <td>SP</td>\n",
       "      <td>41179</td>\n",
       "    </tr>\n",
       "    <tr>\n",
       "      <th>24</th>\n",
       "      <td>Sul</td>\n",
       "      <td>PR</td>\n",
       "      <td>5832</td>\n",
       "    </tr>\n",
       "    <tr>\n",
       "      <th>25</th>\n",
       "      <td>Sul</td>\n",
       "      <td>RS</td>\n",
       "      <td>6447</td>\n",
       "    </tr>\n",
       "  </tbody>\n",
       "</table>\n",
       "</div>"
      ],
      "text/plain": [
       "          regiao estado  obitosNovos\n",
       "1   Centro-Oeste     GO         6201\n",
       "5       Nordeste     BA         8061\n",
       "6       Nordeste     CE         9477\n",
       "9       Nordeste     PE         8899\n",
       "14         Norte     AM         4761\n",
       "16         Norte     PA         6855\n",
       "21       Sudeste     MG         9688\n",
       "22       Sudeste     RJ        21938\n",
       "23       Sudeste     SP        41179\n",
       "24           Sul     PR         5832\n",
       "25           Sul     RS         6447"
      ]
     },
     "execution_count": 32,
     "metadata": {},
     "output_type": "execute_result"
    }
   ],
   "source": [
    "dfobitos"
   ]
  },
  {
   "cell_type": "code",
   "execution_count": 33,
   "metadata": {
    "colab": {
     "base_uri": "https://localhost:8080/",
     "height": 203
    },
    "executionInfo": {
     "elapsed": 751,
     "status": "ok",
     "timestamp": 1607561350284,
     "user": {
      "displayName": "Orlando O. S.",
      "photoUrl": "https://lh3.googleusercontent.com/a-/AOh14Gj-E1yuy1M_3ruwN4TWYPK4BwysauSW7GQmHheS=s64",
      "userId": "15066502291703974467"
     },
     "user_tz": 180
    },
    "id": "iMEzaYXyTO6u",
    "outputId": "e9318d5c-e435-443d-d6a1-370fa5ac506f"
   },
   "outputs": [
    {
     "data": {
      "text/html": [
       "<div>\n",
       "<style scoped>\n",
       "    .dataframe tbody tr th:only-of-type {\n",
       "        vertical-align: middle;\n",
       "    }\n",
       "\n",
       "    .dataframe tbody tr th {\n",
       "        vertical-align: top;\n",
       "    }\n",
       "\n",
       "    .dataframe thead th {\n",
       "        text-align: right;\n",
       "    }\n",
       "</style>\n",
       "<table border=\"1\" class=\"dataframe\">\n",
       "  <thead>\n",
       "    <tr style=\"text-align: right;\">\n",
       "      <th></th>\n",
       "      <th></th>\n",
       "      <th>casosNovos</th>\n",
       "    </tr>\n",
       "    <tr>\n",
       "      <th>regiao</th>\n",
       "      <th>estado</th>\n",
       "      <th></th>\n",
       "    </tr>\n",
       "  </thead>\n",
       "  <tbody>\n",
       "    <tr>\n",
       "      <th>Sudeste</th>\n",
       "      <th>SP</th>\n",
       "      <td>1200348</td>\n",
       "    </tr>\n",
       "  </tbody>\n",
       "</table>\n",
       "</div>"
      ],
      "text/plain": [
       "                casosNovos\n",
       "regiao  estado            \n",
       "Sudeste SP         1200348"
      ]
     },
     "execution_count": 33,
     "metadata": {},
     "output_type": "execute_result"
    }
   ],
   "source": [
    "dfcasos = dfcasos.set_index(['regiao','estado'])\n",
    "dfcasos.head()"
   ]
  },
  {
   "cell_type": "code",
   "execution_count": 34,
   "metadata": {
    "colab": {
     "base_uri": "https://localhost:8080/",
     "height": 233
    },
    "executionInfo": {
     "elapsed": 877,
     "status": "ok",
     "timestamp": 1607561358301,
     "user": {
      "displayName": "Orlando O. S.",
      "photoUrl": "https://lh3.googleusercontent.com/a-/AOh14Gj-E1yuy1M_3ruwN4TWYPK4BwysauSW7GQmHheS=s64",
      "userId": "15066502291703974467"
     },
     "user_tz": 180
    },
    "id": "zCbX3q013O-K",
    "outputId": "9a99387d-c3af-4172-fad3-8100e516ab01"
   },
   "outputs": [
    {
     "data": {
      "text/html": [
       "<div>\n",
       "<style scoped>\n",
       "    .dataframe tbody tr th:only-of-type {\n",
       "        vertical-align: middle;\n",
       "    }\n",
       "\n",
       "    .dataframe tbody tr th {\n",
       "        vertical-align: top;\n",
       "    }\n",
       "\n",
       "    .dataframe thead th {\n",
       "        text-align: right;\n",
       "    }\n",
       "</style>\n",
       "<table border=\"1\" class=\"dataframe\">\n",
       "  <thead>\n",
       "    <tr style=\"text-align: right;\">\n",
       "      <th></th>\n",
       "      <th></th>\n",
       "      <th>obitosNovos</th>\n",
       "    </tr>\n",
       "    <tr>\n",
       "      <th>regiao</th>\n",
       "      <th>estado</th>\n",
       "      <th></th>\n",
       "    </tr>\n",
       "  </thead>\n",
       "  <tbody>\n",
       "    <tr>\n",
       "      <th>Centro-Oeste</th>\n",
       "      <th>GO</th>\n",
       "      <td>6201</td>\n",
       "    </tr>\n",
       "    <tr>\n",
       "      <th rowspan=\"3\" valign=\"top\">Nordeste</th>\n",
       "      <th>BA</th>\n",
       "      <td>8061</td>\n",
       "    </tr>\n",
       "    <tr>\n",
       "      <th>CE</th>\n",
       "      <td>9477</td>\n",
       "    </tr>\n",
       "    <tr>\n",
       "      <th>PE</th>\n",
       "      <td>8899</td>\n",
       "    </tr>\n",
       "    <tr>\n",
       "      <th>Norte</th>\n",
       "      <th>AM</th>\n",
       "      <td>4761</td>\n",
       "    </tr>\n",
       "  </tbody>\n",
       "</table>\n",
       "</div>"
      ],
      "text/plain": [
       "                     obitosNovos\n",
       "regiao       estado             \n",
       "Centro-Oeste GO             6201\n",
       "Nordeste     BA             8061\n",
       "             CE             9477\n",
       "             PE             8899\n",
       "Norte        AM             4761"
      ]
     },
     "execution_count": 34,
     "metadata": {},
     "output_type": "execute_result"
    }
   ],
   "source": [
    "dfobitos = dfobitos.set_index(['regiao','estado'])\n",
    "dfobitos.head()"
   ]
  },
  {
   "cell_type": "code",
   "execution_count": 35,
   "metadata": {
    "colab": {
     "base_uri": "https://localhost:8080/",
     "height": 203
    },
    "executionInfo": {
     "elapsed": 748,
     "status": "ok",
     "timestamp": 1607561382904,
     "user": {
      "displayName": "Orlando O. S.",
      "photoUrl": "https://lh3.googleusercontent.com/a-/AOh14Gj-E1yuy1M_3ruwN4TWYPK4BwysauSW7GQmHheS=s64",
      "userId": "15066502291703974467"
     },
     "user_tz": 180
    },
    "id": "R8uz8QxqTO6u",
    "outputId": "3e7a85b0-0e08-4add-bdc3-ee1c1b18710f"
   },
   "outputs": [
    {
     "data": {
      "text/html": [
       "<div>\n",
       "<style scoped>\n",
       "    .dataframe tbody tr th:only-of-type {\n",
       "        vertical-align: middle;\n",
       "    }\n",
       "\n",
       "    .dataframe tbody tr th {\n",
       "        vertical-align: top;\n",
       "    }\n",
       "\n",
       "    .dataframe thead th {\n",
       "        text-align: right;\n",
       "    }\n",
       "</style>\n",
       "<table border=\"1\" class=\"dataframe\">\n",
       "  <thead>\n",
       "    <tr style=\"text-align: right;\">\n",
       "      <th></th>\n",
       "      <th></th>\n",
       "      <th>casosNovos</th>\n",
       "      <th>obitosNovos</th>\n",
       "    </tr>\n",
       "    <tr>\n",
       "      <th>regiao</th>\n",
       "      <th>estado</th>\n",
       "      <th></th>\n",
       "      <th></th>\n",
       "    </tr>\n",
       "  </thead>\n",
       "  <tbody>\n",
       "    <tr>\n",
       "      <th>Sudeste</th>\n",
       "      <th>SP</th>\n",
       "      <td>1200348</td>\n",
       "      <td>41179</td>\n",
       "    </tr>\n",
       "  </tbody>\n",
       "</table>\n",
       "</div>"
      ],
      "text/plain": [
       "                casosNovos  obitosNovos\n",
       "regiao  estado                         \n",
       "Sudeste SP         1200348        41179"
      ]
     },
     "execution_count": 35,
     "metadata": {},
     "output_type": "execute_result"
    }
   ],
   "source": [
    "dfcompleto = dfcasos.join(dfobitos)\n",
    "dfcompleto.head()"
   ]
  },
  {
   "cell_type": "code",
   "execution_count": 36,
   "metadata": {
    "colab": {
     "base_uri": "https://localhost:8080/",
     "height": 233
    },
    "executionInfo": {
     "elapsed": 790,
     "status": "ok",
     "timestamp": 1607561427492,
     "user": {
      "displayName": "Orlando O. S.",
      "photoUrl": "https://lh3.googleusercontent.com/a-/AOh14Gj-E1yuy1M_3ruwN4TWYPK4BwysauSW7GQmHheS=s64",
      "userId": "15066502291703974467"
     },
     "user_tz": 180
    },
    "id": "X7MsGtTOTO6u",
    "outputId": "00dd8dfa-91ba-4cfd-aee4-00b4440898fe"
   },
   "outputs": [
    {
     "data": {
      "text/html": [
       "<div>\n",
       "<style scoped>\n",
       "    .dataframe tbody tr th:only-of-type {\n",
       "        vertical-align: middle;\n",
       "    }\n",
       "\n",
       "    .dataframe tbody tr th {\n",
       "        vertical-align: top;\n",
       "    }\n",
       "\n",
       "    .dataframe thead th {\n",
       "        text-align: right;\n",
       "    }\n",
       "</style>\n",
       "<table border=\"1\" class=\"dataframe\">\n",
       "  <thead>\n",
       "    <tr style=\"text-align: right;\">\n",
       "      <th></th>\n",
       "      <th></th>\n",
       "      <th>casosNovos</th>\n",
       "      <th>obitosNovos</th>\n",
       "    </tr>\n",
       "    <tr>\n",
       "      <th>regiao</th>\n",
       "      <th>estado</th>\n",
       "      <th></th>\n",
       "      <th></th>\n",
       "    </tr>\n",
       "  </thead>\n",
       "  <tbody>\n",
       "    <tr>\n",
       "      <th>Centro-Oeste</th>\n",
       "      <th>GO</th>\n",
       "      <td>NaN</td>\n",
       "      <td>6201</td>\n",
       "    </tr>\n",
       "    <tr>\n",
       "      <th rowspan=\"3\" valign=\"top\">Nordeste</th>\n",
       "      <th>BA</th>\n",
       "      <td>NaN</td>\n",
       "      <td>8061</td>\n",
       "    </tr>\n",
       "    <tr>\n",
       "      <th>CE</th>\n",
       "      <td>NaN</td>\n",
       "      <td>9477</td>\n",
       "    </tr>\n",
       "    <tr>\n",
       "      <th>PE</th>\n",
       "      <td>NaN</td>\n",
       "      <td>8899</td>\n",
       "    </tr>\n",
       "    <tr>\n",
       "      <th>Norte</th>\n",
       "      <th>AM</th>\n",
       "      <td>NaN</td>\n",
       "      <td>4761</td>\n",
       "    </tr>\n",
       "  </tbody>\n",
       "</table>\n",
       "</div>"
      ],
      "text/plain": [
       "                     casosNovos  obitosNovos\n",
       "regiao       estado                         \n",
       "Centro-Oeste GO             NaN         6201\n",
       "Nordeste     BA             NaN         8061\n",
       "             CE             NaN         9477\n",
       "             PE             NaN         8899\n",
       "Norte        AM             NaN         4761"
      ]
     },
     "execution_count": 36,
     "metadata": {},
     "output_type": "execute_result"
    }
   ],
   "source": [
    "dfcompleto = dfcasos.join(dfobitos, how='outer')\n",
    "dfcompleto.head()"
   ]
  },
  {
   "cell_type": "code",
   "execution_count": 37,
   "metadata": {
    "colab": {
     "base_uri": "https://localhost:8080/",
     "height": 172
    },
    "executionInfo": {
     "elapsed": 776,
     "status": "ok",
     "timestamp": 1607561442849,
     "user": {
      "displayName": "Orlando O. S.",
      "photoUrl": "https://lh3.googleusercontent.com/a-/AOh14Gj-E1yuy1M_3ruwN4TWYPK4BwysauSW7GQmHheS=s64",
      "userId": "15066502291703974467"
     },
     "user_tz": 180
    },
    "id": "nYhAHWzOTO6v",
    "outputId": "e13e05e4-a534-4c38-de21-e2b60b6296d1"
   },
   "outputs": [
    {
     "data": {
      "text/html": [
       "<div>\n",
       "<style scoped>\n",
       "    .dataframe tbody tr th:only-of-type {\n",
       "        vertical-align: middle;\n",
       "    }\n",
       "\n",
       "    .dataframe tbody tr th {\n",
       "        vertical-align: top;\n",
       "    }\n",
       "\n",
       "    .dataframe thead th {\n",
       "        text-align: right;\n",
       "    }\n",
       "</style>\n",
       "<table border=\"1\" class=\"dataframe\">\n",
       "  <thead>\n",
       "    <tr style=\"text-align: right;\">\n",
       "      <th></th>\n",
       "      <th></th>\n",
       "      <th>casosNovos</th>\n",
       "      <th>obitosNovos</th>\n",
       "    </tr>\n",
       "    <tr>\n",
       "      <th>regiao</th>\n",
       "      <th>estado</th>\n",
       "      <th></th>\n",
       "      <th></th>\n",
       "    </tr>\n",
       "  </thead>\n",
       "  <tbody>\n",
       "    <tr>\n",
       "      <th>Sudeste</th>\n",
       "      <th>SP</th>\n",
       "      <td>1200348</td>\n",
       "      <td>41179</td>\n",
       "    </tr>\n",
       "  </tbody>\n",
       "</table>\n",
       "</div>"
      ],
      "text/plain": [
       "                casosNovos  obitosNovos\n",
       "regiao  estado                         \n",
       "Sudeste SP         1200348        41179"
      ]
     },
     "execution_count": 37,
     "metadata": {},
     "output_type": "execute_result"
    }
   ],
   "source": [
    "dfcompleto = dfcasos.join(dfobitos, how='inner')\n",
    "dfcompleto.head()"
   ]
  },
  {
   "cell_type": "code",
   "execution_count": 38,
   "metadata": {
    "colab": {
     "base_uri": "https://localhost:8080/",
     "height": 233
    },
    "executionInfo": {
     "elapsed": 751,
     "status": "ok",
     "timestamp": 1607561450663,
     "user": {
      "displayName": "Orlando O. S.",
      "photoUrl": "https://lh3.googleusercontent.com/a-/AOh14Gj-E1yuy1M_3ruwN4TWYPK4BwysauSW7GQmHheS=s64",
      "userId": "15066502291703974467"
     },
     "user_tz": 180
    },
    "id": "RaON7YtoTO6v",
    "outputId": "bef456cd-8f1b-45be-8a35-490dd57eea23"
   },
   "outputs": [
    {
     "data": {
      "text/html": [
       "<div>\n",
       "<style scoped>\n",
       "    .dataframe tbody tr th:only-of-type {\n",
       "        vertical-align: middle;\n",
       "    }\n",
       "\n",
       "    .dataframe tbody tr th {\n",
       "        vertical-align: top;\n",
       "    }\n",
       "\n",
       "    .dataframe thead th {\n",
       "        text-align: right;\n",
       "    }\n",
       "</style>\n",
       "<table border=\"1\" class=\"dataframe\">\n",
       "  <thead>\n",
       "    <tr style=\"text-align: right;\">\n",
       "      <th></th>\n",
       "      <th></th>\n",
       "      <th>casosNovos</th>\n",
       "      <th>obitosNovos</th>\n",
       "    </tr>\n",
       "    <tr>\n",
       "      <th>regiao</th>\n",
       "      <th>estado</th>\n",
       "      <th></th>\n",
       "      <th></th>\n",
       "    </tr>\n",
       "  </thead>\n",
       "  <tbody>\n",
       "    <tr>\n",
       "      <th>Centro-Oeste</th>\n",
       "      <th>GO</th>\n",
       "      <td>NaN</td>\n",
       "      <td>6201</td>\n",
       "    </tr>\n",
       "    <tr>\n",
       "      <th rowspan=\"3\" valign=\"top\">Nordeste</th>\n",
       "      <th>BA</th>\n",
       "      <td>NaN</td>\n",
       "      <td>8061</td>\n",
       "    </tr>\n",
       "    <tr>\n",
       "      <th>CE</th>\n",
       "      <td>NaN</td>\n",
       "      <td>9477</td>\n",
       "    </tr>\n",
       "    <tr>\n",
       "      <th>PE</th>\n",
       "      <td>NaN</td>\n",
       "      <td>8899</td>\n",
       "    </tr>\n",
       "    <tr>\n",
       "      <th>Norte</th>\n",
       "      <th>AM</th>\n",
       "      <td>NaN</td>\n",
       "      <td>4761</td>\n",
       "    </tr>\n",
       "  </tbody>\n",
       "</table>\n",
       "</div>"
      ],
      "text/plain": [
       "                     casosNovos  obitosNovos\n",
       "regiao       estado                         \n",
       "Centro-Oeste GO             NaN         6201\n",
       "Nordeste     BA             NaN         8061\n",
       "             CE             NaN         9477\n",
       "             PE             NaN         8899\n",
       "Norte        AM             NaN         4761"
      ]
     },
     "execution_count": 38,
     "metadata": {},
     "output_type": "execute_result"
    }
   ],
   "source": [
    "dfcompleto = pd.merge(dfcasos, dfobitos, left_index=True, right_index=True, how='outer')\n",
    "dfcompleto.head()"
   ]
  },
  {
   "cell_type": "code",
   "execution_count": 39,
   "metadata": {
    "colab": {
     "base_uri": "https://localhost:8080/",
     "height": 172
    },
    "executionInfo": {
     "elapsed": 779,
     "status": "ok",
     "timestamp": 1607561482221,
     "user": {
      "displayName": "Orlando O. S.",
      "photoUrl": "https://lh3.googleusercontent.com/a-/AOh14Gj-E1yuy1M_3ruwN4TWYPK4BwysauSW7GQmHheS=s64",
      "userId": "15066502291703974467"
     },
     "user_tz": 180
    },
    "id": "ZmrqocSSTO6v",
    "outputId": "604de98f-cd90-4b7c-b201-160810566522"
   },
   "outputs": [
    {
     "data": {
      "text/html": [
       "<div>\n",
       "<style scoped>\n",
       "    .dataframe tbody tr th:only-of-type {\n",
       "        vertical-align: middle;\n",
       "    }\n",
       "\n",
       "    .dataframe tbody tr th {\n",
       "        vertical-align: top;\n",
       "    }\n",
       "\n",
       "    .dataframe thead th {\n",
       "        text-align: right;\n",
       "    }\n",
       "</style>\n",
       "<table border=\"1\" class=\"dataframe\">\n",
       "  <thead>\n",
       "    <tr style=\"text-align: right;\">\n",
       "      <th></th>\n",
       "      <th></th>\n",
       "      <th>casosNovos</th>\n",
       "      <th>obitosNovos</th>\n",
       "    </tr>\n",
       "    <tr>\n",
       "      <th>regiao</th>\n",
       "      <th>estado</th>\n",
       "      <th></th>\n",
       "      <th></th>\n",
       "    </tr>\n",
       "  </thead>\n",
       "  <tbody>\n",
       "    <tr>\n",
       "      <th>Sudeste</th>\n",
       "      <th>SP</th>\n",
       "      <td>1200348</td>\n",
       "      <td>41179</td>\n",
       "    </tr>\n",
       "  </tbody>\n",
       "</table>\n",
       "</div>"
      ],
      "text/plain": [
       "                casosNovos  obitosNovos\n",
       "regiao  estado                         \n",
       "Sudeste SP         1200348        41179"
      ]
     },
     "execution_count": 39,
     "metadata": {},
     "output_type": "execute_result"
    }
   ],
   "source": [
    "dfcompleto = pd.merge(dfcasos, dfobitos, left_index=True, right_index=True, how='inner')\n",
    "dfcompleto.head()"
   ]
  },
  {
   "cell_type": "markdown",
   "metadata": {
    "id": "7cQw99SHTO6v"
   },
   "source": [
    "### Juntando colunas-chave em um índice \n",
    "\n",
    "- O join é indicado para junções muitos para um (onde um dos DataFrame já está indexado pela chave de junção).\n",
    "\n",
    "- O padrão para DataFrame.join é realizar uma junção à esquerda  left. Para outros tipos de junção deve se indicar o parâmetro how\n",
    "\n",
    "- join() recebe um argumento opcional  on que pode ser uma coluna ou vários nomes de coluna, que especifica que o DataFrame passado  deve ser alinhado nessa coluna no DataFrame. \n",
    "\n",
    "#### Essas duas chamadas de função são completamente equivalentes.\n",
    "\n",
    "```\n",
    "dfcasos.join(dfobitos, on='estado')\n",
    "\n",
    "pd.merge(dfcasos, dfobitos, left_on='estado', right_index=True,\n",
    "      how='left', sort=False)\n",
    "```"
   ]
  },
  {
   "cell_type": "markdown",
   "metadata": {
    "id": "CdBRXySKTO6v"
   },
   "source": []
  },
  {
   "cell_type": "code",
   "execution_count": 40,
   "metadata": {
    "colab": {
     "base_uri": "https://localhost:8080/",
     "height": 233
    },
    "executionInfo": {
     "elapsed": 684,
     "status": "ok",
     "timestamp": 1607561512277,
     "user": {
      "displayName": "Orlando O. S.",
      "photoUrl": "https://lh3.googleusercontent.com/a-/AOh14Gj-E1yuy1M_3ruwN4TWYPK4BwysauSW7GQmHheS=s64",
      "userId": "15066502291703974467"
     },
     "user_tz": 180
    },
    "id": "l14v5AhXD4i0",
    "outputId": "4c34a79d-e20c-4365-d6c1-fc12a3f32860"
   },
   "outputs": [
    {
     "data": {
      "text/html": [
       "<div>\n",
       "<style scoped>\n",
       "    .dataframe tbody tr th:only-of-type {\n",
       "        vertical-align: middle;\n",
       "    }\n",
       "\n",
       "    .dataframe tbody tr th {\n",
       "        vertical-align: top;\n",
       "    }\n",
       "\n",
       "    .dataframe thead th {\n",
       "        text-align: right;\n",
       "    }\n",
       "</style>\n",
       "<table border=\"1\" class=\"dataframe\">\n",
       "  <thead>\n",
       "    <tr style=\"text-align: right;\">\n",
       "      <th></th>\n",
       "      <th></th>\n",
       "      <th>obitosNovos</th>\n",
       "    </tr>\n",
       "    <tr>\n",
       "      <th>regiao</th>\n",
       "      <th>estado</th>\n",
       "      <th></th>\n",
       "    </tr>\n",
       "  </thead>\n",
       "  <tbody>\n",
       "    <tr>\n",
       "      <th>Centro-Oeste</th>\n",
       "      <th>GO</th>\n",
       "      <td>6201</td>\n",
       "    </tr>\n",
       "    <tr>\n",
       "      <th rowspan=\"3\" valign=\"top\">Nordeste</th>\n",
       "      <th>BA</th>\n",
       "      <td>8061</td>\n",
       "    </tr>\n",
       "    <tr>\n",
       "      <th>CE</th>\n",
       "      <td>9477</td>\n",
       "    </tr>\n",
       "    <tr>\n",
       "      <th>PE</th>\n",
       "      <td>8899</td>\n",
       "    </tr>\n",
       "    <tr>\n",
       "      <th>Norte</th>\n",
       "      <th>AM</th>\n",
       "      <td>4761</td>\n",
       "    </tr>\n",
       "  </tbody>\n",
       "</table>\n",
       "</div>"
      ],
      "text/plain": [
       "                     obitosNovos\n",
       "regiao       estado             \n",
       "Centro-Oeste GO             6201\n",
       "Nordeste     BA             8061\n",
       "             CE             9477\n",
       "             PE             8899\n",
       "Norte        AM             4761"
      ]
     },
     "execution_count": 40,
     "metadata": {},
     "output_type": "execute_result"
    }
   ],
   "source": [
    "dfobitos.head()"
   ]
  },
  {
   "cell_type": "code",
   "execution_count": 41,
   "metadata": {
    "colab": {
     "base_uri": "https://localhost:8080/",
     "height": 172
    },
    "executionInfo": {
     "elapsed": 795,
     "status": "ok",
     "timestamp": 1607561523835,
     "user": {
      "displayName": "Orlando O. S.",
      "photoUrl": "https://lh3.googleusercontent.com/a-/AOh14Gj-E1yuy1M_3ruwN4TWYPK4BwysauSW7GQmHheS=s64",
      "userId": "15066502291703974467"
     },
     "user_tz": 180
    },
    "id": "JgAI9OkgEc27",
    "outputId": "81d2cbd4-e86c-4523-9064-cba5eaed5e6b"
   },
   "outputs": [
    {
     "data": {
      "text/html": [
       "<div>\n",
       "<style scoped>\n",
       "    .dataframe tbody tr th:only-of-type {\n",
       "        vertical-align: middle;\n",
       "    }\n",
       "\n",
       "    .dataframe tbody tr th {\n",
       "        vertical-align: top;\n",
       "    }\n",
       "\n",
       "    .dataframe thead th {\n",
       "        text-align: right;\n",
       "    }\n",
       "</style>\n",
       "<table border=\"1\" class=\"dataframe\">\n",
       "  <thead>\n",
       "    <tr style=\"text-align: right;\">\n",
       "      <th></th>\n",
       "      <th>regiao</th>\n",
       "      <th>estado</th>\n",
       "      <th>casosNovos</th>\n",
       "    </tr>\n",
       "  </thead>\n",
       "  <tbody>\n",
       "    <tr>\n",
       "      <th>0</th>\n",
       "      <td>Sudeste</td>\n",
       "      <td>SP</td>\n",
       "      <td>1200348</td>\n",
       "    </tr>\n",
       "  </tbody>\n",
       "</table>\n",
       "</div>"
      ],
      "text/plain": [
       "    regiao estado  casosNovos\n",
       "0  Sudeste     SP     1200348"
      ]
     },
     "execution_count": 41,
     "metadata": {},
     "output_type": "execute_result"
    }
   ],
   "source": [
    "dfcasos.reset_index(inplace=True)\n",
    "dfcasos.head()"
   ]
  },
  {
   "cell_type": "code",
   "execution_count": 42,
   "metadata": {
    "colab": {
     "base_uri": "https://localhost:8080/",
     "height": 172
    },
    "executionInfo": {
     "elapsed": 782,
     "status": "ok",
     "timestamp": 1607561567934,
     "user": {
      "displayName": "Orlando O. S.",
      "photoUrl": "https://lh3.googleusercontent.com/a-/AOh14Gj-E1yuy1M_3ruwN4TWYPK4BwysauSW7GQmHheS=s64",
      "userId": "15066502291703974467"
     },
     "user_tz": 180
    },
    "id": "ZXQTZJpDTO6w",
    "outputId": "676d5196-b754-41ac-de10-6599ab2349a5"
   },
   "outputs": [
    {
     "data": {
      "text/html": [
       "<div>\n",
       "<style scoped>\n",
       "    .dataframe tbody tr th:only-of-type {\n",
       "        vertical-align: middle;\n",
       "    }\n",
       "\n",
       "    .dataframe tbody tr th {\n",
       "        vertical-align: top;\n",
       "    }\n",
       "\n",
       "    .dataframe thead th {\n",
       "        text-align: right;\n",
       "    }\n",
       "</style>\n",
       "<table border=\"1\" class=\"dataframe\">\n",
       "  <thead>\n",
       "    <tr style=\"text-align: right;\">\n",
       "      <th></th>\n",
       "      <th>regiao</th>\n",
       "      <th>estado</th>\n",
       "      <th>casosNovos</th>\n",
       "      <th>obitosNovos</th>\n",
       "    </tr>\n",
       "  </thead>\n",
       "  <tbody>\n",
       "    <tr>\n",
       "      <th>0</th>\n",
       "      <td>Sudeste</td>\n",
       "      <td>SP</td>\n",
       "      <td>1200348</td>\n",
       "      <td>41179</td>\n",
       "    </tr>\n",
       "  </tbody>\n",
       "</table>\n",
       "</div>"
      ],
      "text/plain": [
       "    regiao estado  casosNovos  obitosNovos\n",
       "0  Sudeste     SP     1200348        41179"
      ]
     },
     "execution_count": 42,
     "metadata": {},
     "output_type": "execute_result"
    }
   ],
   "source": [
    "dfcompleto = dfcasos.join(dfobitos, on=['regiao', 'estado'])\n",
    "dfcompleto.head()"
   ]
  },
  {
   "cell_type": "code",
   "execution_count": 43,
   "metadata": {
    "colab": {
     "base_uri": "https://localhost:8080/",
     "height": 172
    },
    "executionInfo": {
     "elapsed": 718,
     "status": "ok",
     "timestamp": 1607561615728,
     "user": {
      "displayName": "Orlando O. S.",
      "photoUrl": "https://lh3.googleusercontent.com/a-/AOh14Gj-E1yuy1M_3ruwN4TWYPK4BwysauSW7GQmHheS=s64",
      "userId": "15066502291703974467"
     },
     "user_tz": 180
    },
    "id": "drHpuWzdTO6w",
    "outputId": "630c1f73-49b6-4264-86a1-0e36bef5a1f6"
   },
   "outputs": [
    {
     "data": {
      "text/html": [
       "<div>\n",
       "<style scoped>\n",
       "    .dataframe tbody tr th:only-of-type {\n",
       "        vertical-align: middle;\n",
       "    }\n",
       "\n",
       "    .dataframe tbody tr th {\n",
       "        vertical-align: top;\n",
       "    }\n",
       "\n",
       "    .dataframe thead th {\n",
       "        text-align: right;\n",
       "    }\n",
       "</style>\n",
       "<table border=\"1\" class=\"dataframe\">\n",
       "  <thead>\n",
       "    <tr style=\"text-align: right;\">\n",
       "      <th></th>\n",
       "      <th>regiao</th>\n",
       "      <th>estado</th>\n",
       "      <th>casosNovos</th>\n",
       "      <th>obitosNovos</th>\n",
       "    </tr>\n",
       "  </thead>\n",
       "  <tbody>\n",
       "    <tr>\n",
       "      <th>0</th>\n",
       "      <td>Sudeste</td>\n",
       "      <td>SP</td>\n",
       "      <td>1200348</td>\n",
       "      <td>41179</td>\n",
       "    </tr>\n",
       "  </tbody>\n",
       "</table>\n",
       "</div>"
      ],
      "text/plain": [
       "    regiao estado  casosNovos  obitosNovos\n",
       "0  Sudeste     SP     1200348        41179"
      ]
     },
     "execution_count": 43,
     "metadata": {},
     "output_type": "execute_result"
    }
   ],
   "source": [
    "dfcompleto = pd.merge(dfcasos, dfobitos, left_on=['regiao', 'estado'], right_index=True, how='left', sort=False)\n",
    "dfcompleto.head()"
   ]
  },
  {
   "cell_type": "code",
   "execution_count": 44,
   "metadata": {
    "colab": {
     "base_uri": "https://localhost:8080/",
     "height": 172
    },
    "executionInfo": {
     "elapsed": 732,
     "status": "ok",
     "timestamp": 1607561635113,
     "user": {
      "displayName": "Orlando O. S.",
      "photoUrl": "https://lh3.googleusercontent.com/a-/AOh14Gj-E1yuy1M_3ruwN4TWYPK4BwysauSW7GQmHheS=s64",
      "userId": "15066502291703974467"
     },
     "user_tz": 180
    },
    "id": "FeI_yH2uG3M9",
    "outputId": "7a389e2c-835a-46b3-fa0c-e008edb9c907"
   },
   "outputs": [
    {
     "data": {
      "text/html": [
       "<div>\n",
       "<style scoped>\n",
       "    .dataframe tbody tr th:only-of-type {\n",
       "        vertical-align: middle;\n",
       "    }\n",
       "\n",
       "    .dataframe tbody tr th {\n",
       "        vertical-align: top;\n",
       "    }\n",
       "\n",
       "    .dataframe thead th {\n",
       "        text-align: right;\n",
       "    }\n",
       "</style>\n",
       "<table border=\"1\" class=\"dataframe\">\n",
       "  <thead>\n",
       "    <tr style=\"text-align: right;\">\n",
       "      <th></th>\n",
       "      <th>regiao</th>\n",
       "      <th>estado</th>\n",
       "      <th>casosNovos</th>\n",
       "    </tr>\n",
       "  </thead>\n",
       "  <tbody>\n",
       "    <tr>\n",
       "      <th>0</th>\n",
       "      <td>Sudeste</td>\n",
       "      <td>SP</td>\n",
       "      <td>1200348</td>\n",
       "    </tr>\n",
       "  </tbody>\n",
       "</table>\n",
       "</div>"
      ],
      "text/plain": [
       "    regiao estado  casosNovos\n",
       "0  Sudeste     SP     1200348"
      ]
     },
     "execution_count": 44,
     "metadata": {},
     "output_type": "execute_result"
    }
   ],
   "source": [
    "dfcasos.head()"
   ]
  },
  {
   "cell_type": "code",
   "execution_count": 45,
   "metadata": {
    "colab": {
     "base_uri": "https://localhost:8080/",
     "height": 233
    },
    "executionInfo": {
     "elapsed": 777,
     "status": "ok",
     "timestamp": 1607561640387,
     "user": {
      "displayName": "Orlando O. S.",
      "photoUrl": "https://lh3.googleusercontent.com/a-/AOh14Gj-E1yuy1M_3ruwN4TWYPK4BwysauSW7GQmHheS=s64",
      "userId": "15066502291703974467"
     },
     "user_tz": 180
    },
    "id": "mQX80ZiBG5LQ",
    "outputId": "4b36efff-cce8-4010-f1f2-ec044dc4b0f6"
   },
   "outputs": [
    {
     "data": {
      "text/html": [
       "<div>\n",
       "<style scoped>\n",
       "    .dataframe tbody tr th:only-of-type {\n",
       "        vertical-align: middle;\n",
       "    }\n",
       "\n",
       "    .dataframe tbody tr th {\n",
       "        vertical-align: top;\n",
       "    }\n",
       "\n",
       "    .dataframe thead th {\n",
       "        text-align: right;\n",
       "    }\n",
       "</style>\n",
       "<table border=\"1\" class=\"dataframe\">\n",
       "  <thead>\n",
       "    <tr style=\"text-align: right;\">\n",
       "      <th></th>\n",
       "      <th></th>\n",
       "      <th>obitosNovos</th>\n",
       "    </tr>\n",
       "    <tr>\n",
       "      <th>regiao</th>\n",
       "      <th>estado</th>\n",
       "      <th></th>\n",
       "    </tr>\n",
       "  </thead>\n",
       "  <tbody>\n",
       "    <tr>\n",
       "      <th>Centro-Oeste</th>\n",
       "      <th>GO</th>\n",
       "      <td>6201</td>\n",
       "    </tr>\n",
       "    <tr>\n",
       "      <th rowspan=\"3\" valign=\"top\">Nordeste</th>\n",
       "      <th>BA</th>\n",
       "      <td>8061</td>\n",
       "    </tr>\n",
       "    <tr>\n",
       "      <th>CE</th>\n",
       "      <td>9477</td>\n",
       "    </tr>\n",
       "    <tr>\n",
       "      <th>PE</th>\n",
       "      <td>8899</td>\n",
       "    </tr>\n",
       "    <tr>\n",
       "      <th>Norte</th>\n",
       "      <th>AM</th>\n",
       "      <td>4761</td>\n",
       "    </tr>\n",
       "  </tbody>\n",
       "</table>\n",
       "</div>"
      ],
      "text/plain": [
       "                     obitosNovos\n",
       "regiao       estado             \n",
       "Centro-Oeste GO             6201\n",
       "Nordeste     BA             8061\n",
       "             CE             9477\n",
       "             PE             8899\n",
       "Norte        AM             4761"
      ]
     },
     "execution_count": 45,
     "metadata": {},
     "output_type": "execute_result"
    }
   ],
   "source": [
    "dfobitos.head()"
   ]
  },
  {
   "cell_type": "code",
   "execution_count": 46,
   "metadata": {
    "colab": {
     "base_uri": "https://localhost:8080/",
     "height": 203
    },
    "executionInfo": {
     "elapsed": 699,
     "status": "ok",
     "timestamp": 1607561650700,
     "user": {
      "displayName": "Orlando O. S.",
      "photoUrl": "https://lh3.googleusercontent.com/a-/AOh14Gj-E1yuy1M_3ruwN4TWYPK4BwysauSW7GQmHheS=s64",
      "userId": "15066502291703974467"
     },
     "user_tz": 180
    },
    "id": "sJowZcJUGg3-",
    "outputId": "0d188f4a-5345-4eed-a01d-d170302b2401"
   },
   "outputs": [
    {
     "data": {
      "text/html": [
       "<div>\n",
       "<style scoped>\n",
       "    .dataframe tbody tr th:only-of-type {\n",
       "        vertical-align: middle;\n",
       "    }\n",
       "\n",
       "    .dataframe tbody tr th {\n",
       "        vertical-align: top;\n",
       "    }\n",
       "\n",
       "    .dataframe thead th {\n",
       "        text-align: right;\n",
       "    }\n",
       "</style>\n",
       "<table border=\"1\" class=\"dataframe\">\n",
       "  <thead>\n",
       "    <tr style=\"text-align: right;\">\n",
       "      <th></th>\n",
       "      <th></th>\n",
       "      <th>casosNovos</th>\n",
       "    </tr>\n",
       "    <tr>\n",
       "      <th>regiao</th>\n",
       "      <th>estado</th>\n",
       "      <th></th>\n",
       "    </tr>\n",
       "  </thead>\n",
       "  <tbody>\n",
       "    <tr>\n",
       "      <th>Sudeste</th>\n",
       "      <th>SP</th>\n",
       "      <td>1200348</td>\n",
       "    </tr>\n",
       "  </tbody>\n",
       "</table>\n",
       "</div>"
      ],
      "text/plain": [
       "                casosNovos\n",
       "regiao  estado            \n",
       "Sudeste SP         1200348"
      ]
     },
     "execution_count": 46,
     "metadata": {},
     "output_type": "execute_result"
    }
   ],
   "source": [
    "dfcasos = dfcasos.set_index(['regiao','estado'])\n",
    "dfcasos.head()"
   ]
  },
  {
   "cell_type": "code",
   "execution_count": 47,
   "metadata": {
    "colab": {
     "base_uri": "https://localhost:8080/",
     "height": 203
    },
    "executionInfo": {
     "elapsed": 733,
     "status": "ok",
     "timestamp": 1607561682117,
     "user": {
      "displayName": "Orlando O. S.",
      "photoUrl": "https://lh3.googleusercontent.com/a-/AOh14Gj-E1yuy1M_3ruwN4TWYPK4BwysauSW7GQmHheS=s64",
      "userId": "15066502291703974467"
     },
     "user_tz": 180
    },
    "id": "m0CH_MsbGrbE",
    "outputId": "001ffdb6-afab-4d8d-b128-ab79c3f4d7c7"
   },
   "outputs": [
    {
     "data": {
      "text/html": [
       "<div>\n",
       "<style scoped>\n",
       "    .dataframe tbody tr th:only-of-type {\n",
       "        vertical-align: middle;\n",
       "    }\n",
       "\n",
       "    .dataframe tbody tr th {\n",
       "        vertical-align: top;\n",
       "    }\n",
       "\n",
       "    .dataframe thead th {\n",
       "        text-align: right;\n",
       "    }\n",
       "</style>\n",
       "<table border=\"1\" class=\"dataframe\">\n",
       "  <thead>\n",
       "    <tr style=\"text-align: right;\">\n",
       "      <th></th>\n",
       "      <th></th>\n",
       "      <th>casosNovos</th>\n",
       "      <th>obitosNovos</th>\n",
       "    </tr>\n",
       "    <tr>\n",
       "      <th>regiao</th>\n",
       "      <th>estado</th>\n",
       "      <th></th>\n",
       "      <th></th>\n",
       "    </tr>\n",
       "  </thead>\n",
       "  <tbody>\n",
       "    <tr>\n",
       "      <th>Sudeste</th>\n",
       "      <th>SP</th>\n",
       "      <td>1200348</td>\n",
       "      <td>41179</td>\n",
       "    </tr>\n",
       "  </tbody>\n",
       "</table>\n",
       "</div>"
      ],
      "text/plain": [
       "                casosNovos  obitosNovos\n",
       "regiao  estado                         \n",
       "Sudeste SP         1200348        41179"
      ]
     },
     "execution_count": 47,
     "metadata": {},
     "output_type": "execute_result"
    }
   ],
   "source": [
    "dfcompleto = pd.merge(dfcasos, dfobitos, left_on=['regiao', 'estado'], right_index=True, how='left', sort=False)\n",
    "dfcompleto.head()"
   ]
  },
  {
   "cell_type": "code",
   "execution_count": 48,
   "metadata": {
    "colab": {
     "base_uri": "https://localhost:8080/",
     "height": 172
    },
    "executionInfo": {
     "elapsed": 726,
     "status": "ok",
     "timestamp": 1607561696768,
     "user": {
      "displayName": "Orlando O. S.",
      "photoUrl": "https://lh3.googleusercontent.com/a-/AOh14Gj-E1yuy1M_3ruwN4TWYPK4BwysauSW7GQmHheS=s64",
      "userId": "15066502291703974467"
     },
     "user_tz": 180
    },
    "id": "UfW744rUTO6y",
    "outputId": "f22b07d5-dcab-4b01-f330-1c3809cca279"
   },
   "outputs": [
    {
     "data": {
      "text/html": [
       "<div>\n",
       "<style scoped>\n",
       "    .dataframe tbody tr th:only-of-type {\n",
       "        vertical-align: middle;\n",
       "    }\n",
       "\n",
       "    .dataframe tbody tr th {\n",
       "        vertical-align: top;\n",
       "    }\n",
       "\n",
       "    .dataframe thead th {\n",
       "        text-align: right;\n",
       "    }\n",
       "</style>\n",
       "<table border=\"1\" class=\"dataframe\">\n",
       "  <thead>\n",
       "    <tr style=\"text-align: right;\">\n",
       "      <th></th>\n",
       "      <th></th>\n",
       "      <th>casosNovos</th>\n",
       "      <th>obitosNovos</th>\n",
       "    </tr>\n",
       "    <tr>\n",
       "      <th>regiao</th>\n",
       "      <th>estado</th>\n",
       "      <th></th>\n",
       "      <th></th>\n",
       "    </tr>\n",
       "  </thead>\n",
       "  <tbody>\n",
       "    <tr>\n",
       "      <th>Sudeste</th>\n",
       "      <th>SP</th>\n",
       "      <td>1200348</td>\n",
       "      <td>41179</td>\n",
       "    </tr>\n",
       "  </tbody>\n",
       "</table>\n",
       "</div>"
      ],
      "text/plain": [
       "                casosNovos  obitosNovos\n",
       "regiao  estado                         \n",
       "Sudeste SP         1200348        41179"
      ]
     },
     "execution_count": 48,
     "metadata": {},
     "output_type": "execute_result"
    }
   ],
   "source": [
    "dfcompleto = dfcasos.join(dfobitos, on=['regiao', 'estado'], how='inner')\n",
    "dfcompleto"
   ]
  }
 ],
 "metadata": {
  "colab": {
   "collapsed_sections": [],
   "name": "Aula Sobre Manipulação de Dados com Pandas - Unir, unir, concatenar e comparar.ipynb",
   "provenance": []
  },
  "kernelspec": {
   "display_name": "Python 3",
   "language": "python",
   "name": "python3"
  },
  "language_info": {
   "codemirror_mode": {
    "name": "ipython",
    "version": 3
   },
   "file_extension": ".py",
   "mimetype": "text/x-python",
   "name": "python",
   "nbconvert_exporter": "python",
   "pygments_lexer": "ipython3",
   "version": "3.7.8"
  }
 },
 "nbformat": 4,
 "nbformat_minor": 1
}
