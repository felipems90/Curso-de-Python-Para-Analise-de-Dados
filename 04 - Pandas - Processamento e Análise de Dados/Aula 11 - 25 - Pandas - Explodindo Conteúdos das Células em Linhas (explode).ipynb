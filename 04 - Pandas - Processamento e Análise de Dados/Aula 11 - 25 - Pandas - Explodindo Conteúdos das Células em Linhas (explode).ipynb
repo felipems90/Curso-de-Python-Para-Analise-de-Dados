{
 "cells": [
  {
   "cell_type": "markdown",
   "metadata": {
    "id": "b1zUiY5cFSGO"
   },
   "source": [
    "# 04 - Pandas - Processamento e Análise de Dados\n",
    "## Aula 11 - 25 - Pandas - Explodindo Conteúdos das Células em Linhas (explode)"
   ]
  },
  {
   "cell_type": "markdown",
   "metadata": {
    "id": "AhdCK7tUFSGZ"
   },
   "source": [
    "## Professor: Orlando Oliveira dos Santos, MsC.\n",
    " - E-mail: professor.orlando.santos@gmail.com \n",
    " - Youtube :https://www.youtube.com/channel/UCPWWbkPWFmOjXH50TQWNAYg\n",
    " - Linkedin: https://linkedin.com/in/orlandoosantos\n",
    " - Facebook: https://www.facebook.com/proforlandosantosmsc/\n",
    " - Twitter: https://twitter.com/ProfOrlandoMsC\n",
    " - Instagram: https://www.instagram.com/proforlandosantosmsc/\n",
    "\n",
    "\n",
    "\n",
    "## Formação Acadêmica\n",
    "- Mestrado em Computação Aplicada - UnB (2014 – 2016)\t\n",
    "- MBA, Administração Estratégica de Sistemas de Informação – FGV (2011 – 2013)\n",
    "- Tecnólogo em Processamento de Dados, Análise e Desenvolvimento de Sistemas – FAETEC/SP (2000-2002)"
   ]
  },
  {
   "cell_type": "markdown",
   "metadata": {
    "id": "AdgeTIaNFSGa"
   },
   "source": [
    "#  Pandas - Explodindo Conteúdos das Células em Linhas (explode)"
   ]
  },
  {
   "cell_type": "code",
   "execution_count": 1,
   "metadata": {
    "executionInfo": {
     "elapsed": 739,
     "status": "ok",
     "timestamp": 1607728872522,
     "user": {
      "displayName": "Orlando O. S.",
      "photoUrl": "https://lh3.googleusercontent.com/a-/AOh14Gj-E1yuy1M_3ruwN4TWYPK4BwysauSW7GQmHheS=s64",
      "userId": "15066502291703974467"
     },
     "user_tz": 180
    },
    "id": "GDDrnx22FSGb"
   },
   "outputs": [],
   "source": [
    "import numpy as np\n",
    "import pandas as pd"
   ]
  },
  {
   "cell_type": "markdown",
   "metadata": {
    "id": "9PJpiPAgFSHM"
   },
   "source": [
    "## Explodindo uma coluna semelhante a uma lista \n",
    "Às vezes, os valores em uma coluna são semelhantes a listas.\n",
    "Podemos 'explodir' a valuescoluna, transformando cada tipo de lista em uma linha separada, usando explode(). Isso irá replicar os valores de índice da linha original"
   ]
  },
  {
   "cell_type": "code",
   "execution_count": 2,
   "metadata": {
    "executionInfo": {
     "elapsed": 684,
     "status": "ok",
     "timestamp": 1607732698336,
     "user": {
      "displayName": "Orlando O. S.",
      "photoUrl": "https://lh3.googleusercontent.com/a-/AOh14Gj-E1yuy1M_3ruwN4TWYPK4BwysauSW7GQmHheS=s64",
      "userId": "15066502291703974467"
     },
     "user_tz": 180
    },
    "id": "oRI2n_7-FSHN"
   },
   "outputs": [],
   "source": [
    "ufs = [{\"id\":11,\"sigla\":\"RO\",\"nome\":\"Rondônia\",\"regiao\":{\"id\":1,\"sigla\":\"N\",\"nome\":\"Norte\"}},\n",
    "       {\"id\":12,\"sigla\":\"AC\",\"nome\":\"Acre\",\"regiao\":{\"id\":1,\"sigla\":\"N\",\"nome\":\"Norte\"}},\n",
    "       {\"id\":13,\"sigla\":\"AM\",\"nome\":\"Amazonas\",\"regiao\":{\"id\":1,\"sigla\":\"N\",\"nome\":\"Norte\"}},\n",
    "       {\"id\":14,\"sigla\":\"RR\",\"nome\":\"Roraima\",\"regiao\":{\"id\":1,\"sigla\":\"N\",\"nome\":\"Norte\"}},\n",
    "       {\"id\":15,\"sigla\":\"PA\",\"nome\":\"Pará\",\"regiao\":{\"id\":1,\"sigla\":\"N\",\"nome\":\"Norte\"}},\n",
    "       {\"id\":16,\"sigla\":\"AP\",\"nome\":\"Amapá\",\"regiao\":{\"id\":1,\"sigla\":\"N\",\"nome\":\"Norte\"}},\n",
    "       {\"id\":17,\"sigla\":\"TO\",\"nome\":\"Tocantins\",\"regiao\":{\"id\":1,\"sigla\":\"N\",\"nome\":\"Norte\"}},\n",
    "       {\"id\":21,\"sigla\":\"MA\",\"nome\":\"Maranhão\",\"regiao\":{\"id\":2,\"sigla\":\"NE\",\"nome\":\"Nordeste\"}},\n",
    "       {\"id\":22,\"sigla\":\"PI\",\"nome\":\"Piauí\",\"regiao\":{\"id\":2,\"sigla\":\"NE\",\"nome\":\"Nordeste\"}},\n",
    "       {\"id\":23,\"sigla\":\"CE\",\"nome\":\"Ceará\",\"regiao\":{\"id\":2,\"sigla\":\"NE\",\"nome\":\"Nordeste\"}},\n",
    "       {\"id\":24,\"sigla\":\"RN\",\"nome\":\"Rio Grande do Norte\",\"regiao\":{\"id\":2,\"sigla\":\"NE\",\"nome\":\"Nordeste\"}},\n",
    "       {\"id\":25,\"sigla\":\"PB\",\"nome\":\"Paraíba\",\"regiao\":{\"id\":2,\"sigla\":\"NE\",\"nome\":\"Nordeste\"}},\n",
    "       {\"id\":26,\"sigla\":\"PE\",\"nome\":\"Pernambuco\",\"regiao\":{\"id\":2,\"sigla\":\"NE\",\"nome\":\"Nordeste\"}},\n",
    "       {\"id\":27,\"sigla\":\"AL\",\"nome\":\"Alagoas\",\"regiao\":{\"id\":2,\"sigla\":\"NE\",\"nome\":\"Nordeste\"}},\n",
    "       {\"id\":28,\"sigla\":\"SE\",\"nome\":\"Sergipe\",\"regiao\":{\"id\":2,\"sigla\":\"NE\",\"nome\":\"Nordeste\"}},\n",
    "       {\"id\":29,\"sigla\":\"BA\",\"nome\":\"Bahia\",\"regiao\":{\"id\":2,\"sigla\":\"NE\",\"nome\":\"Nordeste\"}},\n",
    "       {\"id\":31,\"sigla\":\"MG\",\"nome\":\"Minas Gerais\",\"regiao\":{\"id\":3,\"sigla\":\"SE\",\"nome\":\"Sudeste\"}},\n",
    "       {\"id\":32,\"sigla\":\"ES\",\"nome\":\"Espírito Santo\",\"regiao\":{\"id\":3,\"sigla\":\"SE\",\"nome\":\"Sudeste\"}},\n",
    "       {\"id\":33,\"sigla\":\"RJ\",\"nome\":\"Rio de Janeiro\",\"regiao\":{\"id\":3,\"sigla\":\"SE\",\"nome\":\"Sudeste\"}},\n",
    "       {\"id\":35,\"sigla\":\"SP\",\"nome\":\"São Paulo\",\"regiao\":{\"id\":3,\"sigla\":\"SE\",\"nome\":\"Sudeste\"}},\n",
    "       {\"id\":41,\"sigla\":\"PR\",\"nome\":\"Paraná\",\"regiao\":{\"id\":4,\"sigla\":\"S\",\"nome\":\"Sul\"}},\n",
    "       {\"id\":42,\"sigla\":\"SC\",\"nome\":\"Santa Catarina\",\"regiao\":{\"id\":4,\"sigla\":\"S\",\"nome\":\"Sul\"}},\n",
    "       {\"id\":43,\"sigla\":\"RS\",\"nome\":\"Rio Grande do Sul\",\"regiao\":{\"id\":4,\"sigla\":\"S\",\"nome\":\"Sul\"}},\n",
    "       {\"id\":50,\"sigla\":\"MS\",\"nome\":\"Mato Grosso do Sul\",\"regiao\":{\"id\":5,\"sigla\":\"CO\",\"nome\":\"Centro-Oeste\"}},\n",
    "       {\"id\":51,\"sigla\":\"MT\",\"nome\":\"Mato Grosso\",\"regiao\":{\"id\":5,\"sigla\":\"CO\",\"nome\":\"Centro-Oeste\"}},\n",
    "       {\"id\":52,\"sigla\":\"GO\",\"nome\":\"Goiás\",\"regiao\":{\"id\":5,\"sigla\":\"CO\",\"nome\":\"Centro-Oeste\"}},\n",
    "       {\"id\":53,\"sigla\":\"DF\",\"nome\":\"Distrito Federal\",\"regiao\":{\"id\":5,\"sigla\":\"CO\",\"nome\":\"Centro-Oeste\"}}]"
   ]
  },
  {
   "cell_type": "code",
   "execution_count": 3,
   "metadata": {
    "executionInfo": {
     "elapsed": 679,
     "status": "ok",
     "timestamp": 1607732756007,
     "user": {
      "displayName": "Orlando O. S.",
      "photoUrl": "https://lh3.googleusercontent.com/a-/AOh14Gj-E1yuy1M_3ruwN4TWYPK4BwysauSW7GQmHheS=s64",
      "userId": "15066502291703974467"
     },
     "user_tz": 180
    },
    "id": "8vsib35BFSHN"
   },
   "outputs": [],
   "source": [
    "dictreg = []\n",
    "regiao = {}\n",
    "for uf in ufs:\n",
    "    #print(uf)\n",
    "    if regiao != {} and regiao['id'] != uf['regiao']['id'] :\n",
    "        dictreg.append(regiao)\n",
    "        regiao = {}\n",
    "    \n",
    "    if regiao == {} or regiao['id'] != uf['regiao']['id']  :\n",
    "        regiao = uf['regiao'].copy() \n",
    "        \n",
    "\n",
    "    if regiao.get('ufs')  is None:\n",
    "        regiao['ufs'] = [uf['nome'],]\n",
    "    else:\n",
    "        regiao['ufs'].append(uf['nome'])\n",
    "        \n"
   ]
  },
  {
   "cell_type": "code",
   "execution_count": 4,
   "metadata": {
    "colab": {
     "base_uri": "https://localhost:8080/"
    },
    "executionInfo": {
     "elapsed": 901,
     "status": "ok",
     "timestamp": 1607732759668,
     "user": {
      "displayName": "Orlando O. S.",
      "photoUrl": "https://lh3.googleusercontent.com/a-/AOh14Gj-E1yuy1M_3ruwN4TWYPK4BwysauSW7GQmHheS=s64",
      "userId": "15066502291703974467"
     },
     "user_tz": 180
    },
    "id": "3QQiKeMxVuFw",
    "outputId": "e5834043-fbaf-4290-b2b3-c70e89fed1e5"
   },
   "outputs": [
    {
     "data": {
      "text/plain": [
       "[{'id': 1,\n",
       "  'sigla': 'N',\n",
       "  'nome': 'Norte',\n",
       "  'ufs': ['Rondônia',\n",
       "   'Acre',\n",
       "   'Amazonas',\n",
       "   'Roraima',\n",
       "   'Pará',\n",
       "   'Amapá',\n",
       "   'Tocantins']},\n",
       " {'id': 2,\n",
       "  'sigla': 'NE',\n",
       "  'nome': 'Nordeste',\n",
       "  'ufs': ['Maranhão',\n",
       "   'Piauí',\n",
       "   'Ceará',\n",
       "   'Rio Grande do Norte',\n",
       "   'Paraíba',\n",
       "   'Pernambuco',\n",
       "   'Alagoas',\n",
       "   'Sergipe',\n",
       "   'Bahia']},\n",
       " {'id': 3,\n",
       "  'sigla': 'SE',\n",
       "  'nome': 'Sudeste',\n",
       "  'ufs': ['Minas Gerais', 'Espírito Santo', 'Rio de Janeiro', 'São Paulo']},\n",
       " {'id': 4,\n",
       "  'sigla': 'S',\n",
       "  'nome': 'Sul',\n",
       "  'ufs': ['Paraná', 'Santa Catarina', 'Rio Grande do Sul']}]"
      ]
     },
     "execution_count": 4,
     "metadata": {},
     "output_type": "execute_result"
    }
   ],
   "source": [
    "dictreg"
   ]
  },
  {
   "cell_type": "code",
   "execution_count": 5,
   "metadata": {
    "colab": {
     "base_uri": "https://localhost:8080/",
     "height": 172
    },
    "executionInfo": {
     "elapsed": 687,
     "status": "ok",
     "timestamp": 1607732797422,
     "user": {
      "displayName": "Orlando O. S.",
      "photoUrl": "https://lh3.googleusercontent.com/a-/AOh14Gj-E1yuy1M_3ruwN4TWYPK4BwysauSW7GQmHheS=s64",
      "userId": "15066502291703974467"
     },
     "user_tz": 180
    },
    "id": "_h5uI75pVs7e",
    "outputId": "d1a193d6-066e-46cc-ef11-0ba217624e3e"
   },
   "outputs": [
    {
     "data": {
      "text/html": [
       "<div>\n",
       "<style scoped>\n",
       "    .dataframe tbody tr th:only-of-type {\n",
       "        vertical-align: middle;\n",
       "    }\n",
       "\n",
       "    .dataframe tbody tr th {\n",
       "        vertical-align: top;\n",
       "    }\n",
       "\n",
       "    .dataframe thead th {\n",
       "        text-align: right;\n",
       "    }\n",
       "</style>\n",
       "<table border=\"1\" class=\"dataframe\">\n",
       "  <thead>\n",
       "    <tr style=\"text-align: right;\">\n",
       "      <th></th>\n",
       "      <th>id</th>\n",
       "      <th>sigla</th>\n",
       "      <th>nome</th>\n",
       "      <th>ufs</th>\n",
       "    </tr>\n",
       "  </thead>\n",
       "  <tbody>\n",
       "    <tr>\n",
       "      <th>0</th>\n",
       "      <td>1</td>\n",
       "      <td>N</td>\n",
       "      <td>Norte</td>\n",
       "      <td>[Rondônia, Acre, Amazonas, Roraima, Pará, Amap...</td>\n",
       "    </tr>\n",
       "    <tr>\n",
       "      <th>1</th>\n",
       "      <td>2</td>\n",
       "      <td>NE</td>\n",
       "      <td>Nordeste</td>\n",
       "      <td>[Maranhão, Piauí, Ceará, Rio Grande do Norte, ...</td>\n",
       "    </tr>\n",
       "    <tr>\n",
       "      <th>2</th>\n",
       "      <td>3</td>\n",
       "      <td>SE</td>\n",
       "      <td>Sudeste</td>\n",
       "      <td>[Minas Gerais, Espírito Santo, Rio de Janeiro,...</td>\n",
       "    </tr>\n",
       "    <tr>\n",
       "      <th>3</th>\n",
       "      <td>4</td>\n",
       "      <td>S</td>\n",
       "      <td>Sul</td>\n",
       "      <td>[Paraná, Santa Catarina, Rio Grande do Sul]</td>\n",
       "    </tr>\n",
       "  </tbody>\n",
       "</table>\n",
       "</div>"
      ],
      "text/plain": [
       "   id sigla      nome                                                ufs\n",
       "0   1     N     Norte  [Rondônia, Acre, Amazonas, Roraima, Pará, Amap...\n",
       "1   2    NE  Nordeste  [Maranhão, Piauí, Ceará, Rio Grande do Norte, ...\n",
       "2   3    SE   Sudeste  [Minas Gerais, Espírito Santo, Rio de Janeiro,...\n",
       "3   4     S       Sul        [Paraná, Santa Catarina, Rio Grande do Sul]"
      ]
     },
     "execution_count": 5,
     "metadata": {},
     "output_type": "execute_result"
    }
   ],
   "source": [
    "dfregioes = pd.DataFrame(dictreg)  \n",
    "dfregioes.head()"
   ]
  },
  {
   "cell_type": "code",
   "execution_count": 6,
   "metadata": {
    "colab": {
     "base_uri": "https://localhost:8080/"
    },
    "executionInfo": {
     "elapsed": 769,
     "status": "ok",
     "timestamp": 1607732836484,
     "user": {
      "displayName": "Orlando O. S.",
      "photoUrl": "https://lh3.googleusercontent.com/a-/AOh14Gj-E1yuy1M_3ruwN4TWYPK4BwysauSW7GQmHheS=s64",
      "userId": "15066502291703974467"
     },
     "user_tz": 180
    },
    "id": "upZw5VYeFSHO",
    "outputId": "8c8764a2-1ed3-44d8-d665-0f4f2c8e3520"
   },
   "outputs": [
    {
     "data": {
      "text/plain": [
       "0               Rondônia\n",
       "0                   Acre\n",
       "0               Amazonas\n",
       "0                Roraima\n",
       "0                   Pará\n",
       "0                  Amapá\n",
       "0              Tocantins\n",
       "1               Maranhão\n",
       "1                  Piauí\n",
       "1                  Ceará\n",
       "1    Rio Grande do Norte\n",
       "1                Paraíba\n",
       "1             Pernambuco\n",
       "1                Alagoas\n",
       "1                Sergipe\n",
       "1                  Bahia\n",
       "2           Minas Gerais\n",
       "2         Espírito Santo\n",
       "2         Rio de Janeiro\n",
       "2              São Paulo\n",
       "3                 Paraná\n",
       "3         Santa Catarina\n",
       "3      Rio Grande do Sul\n",
       "Name: ufs, dtype: object"
      ]
     },
     "execution_count": 6,
     "metadata": {},
     "output_type": "execute_result"
    }
   ],
   "source": [
    "dfregioes['ufs'].explode()"
   ]
  },
  {
   "cell_type": "markdown",
   "metadata": {
    "id": "HaRzkrJUFSHP"
   },
   "source": [
    "Você também pode explodir a coluna no DataFrame."
   ]
  },
  {
   "cell_type": "code",
   "execution_count": 7,
   "metadata": {
    "colab": {
     "base_uri": "https://localhost:8080/",
     "height": 667
    },
    "executionInfo": {
     "elapsed": 757,
     "status": "ok",
     "timestamp": 1607732891719,
     "user": {
      "displayName": "Orlando O. S.",
      "photoUrl": "https://lh3.googleusercontent.com/a-/AOh14Gj-E1yuy1M_3ruwN4TWYPK4BwysauSW7GQmHheS=s64",
      "userId": "15066502291703974467"
     },
     "user_tz": 180
    },
    "id": "0C-2s5X3FSHQ",
    "outputId": "6cd6e486-ad3a-4b85-cb56-5d3c3df514a4"
   },
   "outputs": [
    {
     "data": {
      "text/html": [
       "<div>\n",
       "<style scoped>\n",
       "    .dataframe tbody tr th:only-of-type {\n",
       "        vertical-align: middle;\n",
       "    }\n",
       "\n",
       "    .dataframe tbody tr th {\n",
       "        vertical-align: top;\n",
       "    }\n",
       "\n",
       "    .dataframe thead th {\n",
       "        text-align: right;\n",
       "    }\n",
       "</style>\n",
       "<table border=\"1\" class=\"dataframe\">\n",
       "  <thead>\n",
       "    <tr style=\"text-align: right;\">\n",
       "      <th></th>\n",
       "      <th>id</th>\n",
       "      <th>sigla</th>\n",
       "      <th>nome</th>\n",
       "      <th>ufs</th>\n",
       "    </tr>\n",
       "  </thead>\n",
       "  <tbody>\n",
       "    <tr>\n",
       "      <th>0</th>\n",
       "      <td>1</td>\n",
       "      <td>N</td>\n",
       "      <td>Norte</td>\n",
       "      <td>Rondônia</td>\n",
       "    </tr>\n",
       "    <tr>\n",
       "      <th>0</th>\n",
       "      <td>1</td>\n",
       "      <td>N</td>\n",
       "      <td>Norte</td>\n",
       "      <td>Acre</td>\n",
       "    </tr>\n",
       "    <tr>\n",
       "      <th>0</th>\n",
       "      <td>1</td>\n",
       "      <td>N</td>\n",
       "      <td>Norte</td>\n",
       "      <td>Amazonas</td>\n",
       "    </tr>\n",
       "    <tr>\n",
       "      <th>0</th>\n",
       "      <td>1</td>\n",
       "      <td>N</td>\n",
       "      <td>Norte</td>\n",
       "      <td>Roraima</td>\n",
       "    </tr>\n",
       "    <tr>\n",
       "      <th>0</th>\n",
       "      <td>1</td>\n",
       "      <td>N</td>\n",
       "      <td>Norte</td>\n",
       "      <td>Pará</td>\n",
       "    </tr>\n",
       "    <tr>\n",
       "      <th>0</th>\n",
       "      <td>1</td>\n",
       "      <td>N</td>\n",
       "      <td>Norte</td>\n",
       "      <td>Amapá</td>\n",
       "    </tr>\n",
       "    <tr>\n",
       "      <th>0</th>\n",
       "      <td>1</td>\n",
       "      <td>N</td>\n",
       "      <td>Norte</td>\n",
       "      <td>Tocantins</td>\n",
       "    </tr>\n",
       "    <tr>\n",
       "      <th>1</th>\n",
       "      <td>2</td>\n",
       "      <td>NE</td>\n",
       "      <td>Nordeste</td>\n",
       "      <td>Maranhão</td>\n",
       "    </tr>\n",
       "    <tr>\n",
       "      <th>1</th>\n",
       "      <td>2</td>\n",
       "      <td>NE</td>\n",
       "      <td>Nordeste</td>\n",
       "      <td>Piauí</td>\n",
       "    </tr>\n",
       "    <tr>\n",
       "      <th>1</th>\n",
       "      <td>2</td>\n",
       "      <td>NE</td>\n",
       "      <td>Nordeste</td>\n",
       "      <td>Ceará</td>\n",
       "    </tr>\n",
       "    <tr>\n",
       "      <th>1</th>\n",
       "      <td>2</td>\n",
       "      <td>NE</td>\n",
       "      <td>Nordeste</td>\n",
       "      <td>Rio Grande do Norte</td>\n",
       "    </tr>\n",
       "    <tr>\n",
       "      <th>1</th>\n",
       "      <td>2</td>\n",
       "      <td>NE</td>\n",
       "      <td>Nordeste</td>\n",
       "      <td>Paraíba</td>\n",
       "    </tr>\n",
       "    <tr>\n",
       "      <th>1</th>\n",
       "      <td>2</td>\n",
       "      <td>NE</td>\n",
       "      <td>Nordeste</td>\n",
       "      <td>Pernambuco</td>\n",
       "    </tr>\n",
       "    <tr>\n",
       "      <th>1</th>\n",
       "      <td>2</td>\n",
       "      <td>NE</td>\n",
       "      <td>Nordeste</td>\n",
       "      <td>Alagoas</td>\n",
       "    </tr>\n",
       "    <tr>\n",
       "      <th>1</th>\n",
       "      <td>2</td>\n",
       "      <td>NE</td>\n",
       "      <td>Nordeste</td>\n",
       "      <td>Sergipe</td>\n",
       "    </tr>\n",
       "    <tr>\n",
       "      <th>1</th>\n",
       "      <td>2</td>\n",
       "      <td>NE</td>\n",
       "      <td>Nordeste</td>\n",
       "      <td>Bahia</td>\n",
       "    </tr>\n",
       "    <tr>\n",
       "      <th>2</th>\n",
       "      <td>3</td>\n",
       "      <td>SE</td>\n",
       "      <td>Sudeste</td>\n",
       "      <td>Minas Gerais</td>\n",
       "    </tr>\n",
       "    <tr>\n",
       "      <th>2</th>\n",
       "      <td>3</td>\n",
       "      <td>SE</td>\n",
       "      <td>Sudeste</td>\n",
       "      <td>Espírito Santo</td>\n",
       "    </tr>\n",
       "    <tr>\n",
       "      <th>2</th>\n",
       "      <td>3</td>\n",
       "      <td>SE</td>\n",
       "      <td>Sudeste</td>\n",
       "      <td>Rio de Janeiro</td>\n",
       "    </tr>\n",
       "    <tr>\n",
       "      <th>2</th>\n",
       "      <td>3</td>\n",
       "      <td>SE</td>\n",
       "      <td>Sudeste</td>\n",
       "      <td>São Paulo</td>\n",
       "    </tr>\n",
       "  </tbody>\n",
       "</table>\n",
       "</div>"
      ],
      "text/plain": [
       "   id sigla      nome                  ufs\n",
       "0   1     N     Norte             Rondônia\n",
       "0   1     N     Norte                 Acre\n",
       "0   1     N     Norte             Amazonas\n",
       "0   1     N     Norte              Roraima\n",
       "0   1     N     Norte                 Pará\n",
       "0   1     N     Norte                Amapá\n",
       "0   1     N     Norte            Tocantins\n",
       "1   2    NE  Nordeste             Maranhão\n",
       "1   2    NE  Nordeste                Piauí\n",
       "1   2    NE  Nordeste                Ceará\n",
       "1   2    NE  Nordeste  Rio Grande do Norte\n",
       "1   2    NE  Nordeste              Paraíba\n",
       "1   2    NE  Nordeste           Pernambuco\n",
       "1   2    NE  Nordeste              Alagoas\n",
       "1   2    NE  Nordeste              Sergipe\n",
       "1   2    NE  Nordeste                Bahia\n",
       "2   3    SE   Sudeste         Minas Gerais\n",
       "2   3    SE   Sudeste       Espírito Santo\n",
       "2   3    SE   Sudeste       Rio de Janeiro\n",
       "2   3    SE   Sudeste            São Paulo"
      ]
     },
     "execution_count": 7,
     "metadata": {},
     "output_type": "execute_result"
    }
   ],
   "source": [
    "dfregioes.explode('ufs').head(20)"
   ]
  },
  {
   "cell_type": "markdown",
   "metadata": {
    "id": "K1k3M7lCFSHQ"
   },
   "source": [
    "### Exemplo de uso da função explode com strings separadas por vírgulas em uma coluna"
   ]
  },
  {
   "cell_type": "code",
   "execution_count": 8,
   "metadata": {
    "executionInfo": {
     "elapsed": 738,
     "status": "ok",
     "timestamp": 1607732976313,
     "user": {
      "displayName": "Orlando O. S.",
      "photoUrl": "https://lh3.googleusercontent.com/a-/AOh14Gj-E1yuy1M_3ruwN4TWYPK4BwysauSW7GQmHheS=s64",
      "userId": "15066502291703974467"
     },
     "user_tz": 180
    },
    "id": "I_t-CFaeFSHR"
   },
   "outputs": [],
   "source": [
    "dictreg = []\n",
    "regiao = {}\n",
    "for uf in ufs:\n",
    "    #print(uf)\n",
    "    if regiao != {} and regiao['id'] != uf['regiao']['id'] :\n",
    "        regiao['ufs'] = ';'.join(regiao['ufs'])\n",
    "        dictreg.append(regiao)\n",
    "        regiao = {}\n",
    "    \n",
    "    if regiao == {} or regiao['id'] != uf['regiao']['id']  :\n",
    "        regiao = uf['regiao'].copy() \n",
    "        \n",
    "\n",
    "    if regiao.get('ufs')  is None:\n",
    "        regiao['ufs'] = [uf['nome'],]\n",
    "    else:\n",
    "        regiao['ufs'].append(uf['nome'])\n"
   ]
  },
  {
   "cell_type": "code",
   "execution_count": 9,
   "metadata": {
    "colab": {
     "base_uri": "https://localhost:8080/"
    },
    "executionInfo": {
     "elapsed": 813,
     "status": "ok",
     "timestamp": 1607732979046,
     "user": {
      "displayName": "Orlando O. S.",
      "photoUrl": "https://lh3.googleusercontent.com/a-/AOh14Gj-E1yuy1M_3ruwN4TWYPK4BwysauSW7GQmHheS=s64",
      "userId": "15066502291703974467"
     },
     "user_tz": 180
    },
    "id": "ZzNwHL1WWf_2",
    "outputId": "ee952f51-70a6-4fce-92e1-72a49f2224bc"
   },
   "outputs": [
    {
     "data": {
      "text/plain": [
       "[{'id': 1,\n",
       "  'sigla': 'N',\n",
       "  'nome': 'Norte',\n",
       "  'ufs': 'Rondônia;Acre;Amazonas;Roraima;Pará;Amapá;Tocantins'},\n",
       " {'id': 2,\n",
       "  'sigla': 'NE',\n",
       "  'nome': 'Nordeste',\n",
       "  'ufs': 'Maranhão;Piauí;Ceará;Rio Grande do Norte;Paraíba;Pernambuco;Alagoas;Sergipe;Bahia'},\n",
       " {'id': 3,\n",
       "  'sigla': 'SE',\n",
       "  'nome': 'Sudeste',\n",
       "  'ufs': 'Minas Gerais;Espírito Santo;Rio de Janeiro;São Paulo'},\n",
       " {'id': 4,\n",
       "  'sigla': 'S',\n",
       "  'nome': 'Sul',\n",
       "  'ufs': 'Paraná;Santa Catarina;Rio Grande do Sul'}]"
      ]
     },
     "execution_count": 9,
     "metadata": {},
     "output_type": "execute_result"
    }
   ],
   "source": [
    "dictreg"
   ]
  },
  {
   "cell_type": "code",
   "execution_count": 10,
   "metadata": {
    "colab": {
     "base_uri": "https://localhost:8080/",
     "height": 172
    },
    "executionInfo": {
     "elapsed": 855,
     "status": "ok",
     "timestamp": 1607732995094,
     "user": {
      "displayName": "Orlando O. S.",
      "photoUrl": "https://lh3.googleusercontent.com/a-/AOh14Gj-E1yuy1M_3ruwN4TWYPK4BwysauSW7GQmHheS=s64",
      "userId": "15066502291703974467"
     },
     "user_tz": 180
    },
    "id": "tyNdYLU7WdNr",
    "outputId": "ce4b3bf1-0a2e-4c29-c614-0ecb3a7a00c0"
   },
   "outputs": [
    {
     "data": {
      "text/html": [
       "<div>\n",
       "<style scoped>\n",
       "    .dataframe tbody tr th:only-of-type {\n",
       "        vertical-align: middle;\n",
       "    }\n",
       "\n",
       "    .dataframe tbody tr th {\n",
       "        vertical-align: top;\n",
       "    }\n",
       "\n",
       "    .dataframe thead th {\n",
       "        text-align: right;\n",
       "    }\n",
       "</style>\n",
       "<table border=\"1\" class=\"dataframe\">\n",
       "  <thead>\n",
       "    <tr style=\"text-align: right;\">\n",
       "      <th></th>\n",
       "      <th>id</th>\n",
       "      <th>sigla</th>\n",
       "      <th>nome</th>\n",
       "      <th>ufs</th>\n",
       "    </tr>\n",
       "  </thead>\n",
       "  <tbody>\n",
       "    <tr>\n",
       "      <th>0</th>\n",
       "      <td>1</td>\n",
       "      <td>N</td>\n",
       "      <td>Norte</td>\n",
       "      <td>Rondônia;Acre;Amazonas;Roraima;Pará;Amapá;Toca...</td>\n",
       "    </tr>\n",
       "    <tr>\n",
       "      <th>1</th>\n",
       "      <td>2</td>\n",
       "      <td>NE</td>\n",
       "      <td>Nordeste</td>\n",
       "      <td>Maranhão;Piauí;Ceará;Rio Grande do Norte;Paraí...</td>\n",
       "    </tr>\n",
       "    <tr>\n",
       "      <th>2</th>\n",
       "      <td>3</td>\n",
       "      <td>SE</td>\n",
       "      <td>Sudeste</td>\n",
       "      <td>Minas Gerais;Espírito Santo;Rio de Janeiro;São...</td>\n",
       "    </tr>\n",
       "    <tr>\n",
       "      <th>3</th>\n",
       "      <td>4</td>\n",
       "      <td>S</td>\n",
       "      <td>Sul</td>\n",
       "      <td>Paraná;Santa Catarina;Rio Grande do Sul</td>\n",
       "    </tr>\n",
       "  </tbody>\n",
       "</table>\n",
       "</div>"
      ],
      "text/plain": [
       "   id sigla      nome                                                ufs\n",
       "0   1     N     Norte  Rondônia;Acre;Amazonas;Roraima;Pará;Amapá;Toca...\n",
       "1   2    NE  Nordeste  Maranhão;Piauí;Ceará;Rio Grande do Norte;Paraí...\n",
       "2   3    SE   Sudeste  Minas Gerais;Espírito Santo;Rio de Janeiro;São...\n",
       "3   4     S       Sul            Paraná;Santa Catarina;Rio Grande do Sul"
      ]
     },
     "execution_count": 10,
     "metadata": {},
     "output_type": "execute_result"
    }
   ],
   "source": [
    "        \n",
    "dfregioes = pd.DataFrame(dictreg)  \n",
    "dfregioes.head()"
   ]
  },
  {
   "cell_type": "code",
   "execution_count": 11,
   "metadata": {
    "colab": {
     "base_uri": "https://localhost:8080/",
     "height": 203
    },
    "executionInfo": {
     "elapsed": 878,
     "status": "ok",
     "timestamp": 1607733026018,
     "user": {
      "displayName": "Orlando O. S.",
      "photoUrl": "https://lh3.googleusercontent.com/a-/AOh14Gj-E1yuy1M_3ruwN4TWYPK4BwysauSW7GQmHheS=s64",
      "userId": "15066502291703974467"
     },
     "user_tz": 180
    },
    "id": "d8aRPMjcFSHR",
    "outputId": "34eab923-54ea-4d63-87e6-baaae596afbd"
   },
   "outputs": [
    {
     "data": {
      "text/html": [
       "<div>\n",
       "<style scoped>\n",
       "    .dataframe tbody tr th:only-of-type {\n",
       "        vertical-align: middle;\n",
       "    }\n",
       "\n",
       "    .dataframe tbody tr th {\n",
       "        vertical-align: top;\n",
       "    }\n",
       "\n",
       "    .dataframe thead th {\n",
       "        text-align: right;\n",
       "    }\n",
       "</style>\n",
       "<table border=\"1\" class=\"dataframe\">\n",
       "  <thead>\n",
       "    <tr style=\"text-align: right;\">\n",
       "      <th></th>\n",
       "      <th>id</th>\n",
       "      <th>sigla</th>\n",
       "      <th>nome</th>\n",
       "      <th>ufs</th>\n",
       "    </tr>\n",
       "  </thead>\n",
       "  <tbody>\n",
       "    <tr>\n",
       "      <th>0</th>\n",
       "      <td>1</td>\n",
       "      <td>N</td>\n",
       "      <td>Norte</td>\n",
       "      <td>Rondônia</td>\n",
       "    </tr>\n",
       "    <tr>\n",
       "      <th>0</th>\n",
       "      <td>1</td>\n",
       "      <td>N</td>\n",
       "      <td>Norte</td>\n",
       "      <td>Acre</td>\n",
       "    </tr>\n",
       "    <tr>\n",
       "      <th>0</th>\n",
       "      <td>1</td>\n",
       "      <td>N</td>\n",
       "      <td>Norte</td>\n",
       "      <td>Amazonas</td>\n",
       "    </tr>\n",
       "    <tr>\n",
       "      <th>0</th>\n",
       "      <td>1</td>\n",
       "      <td>N</td>\n",
       "      <td>Norte</td>\n",
       "      <td>Roraima</td>\n",
       "    </tr>\n",
       "    <tr>\n",
       "      <th>0</th>\n",
       "      <td>1</td>\n",
       "      <td>N</td>\n",
       "      <td>Norte</td>\n",
       "      <td>Pará</td>\n",
       "    </tr>\n",
       "  </tbody>\n",
       "</table>\n",
       "</div>"
      ],
      "text/plain": [
       "   id sigla   nome       ufs\n",
       "0   1     N  Norte  Rondônia\n",
       "0   1     N  Norte      Acre\n",
       "0   1     N  Norte  Amazonas\n",
       "0   1     N  Norte   Roraima\n",
       "0   1     N  Norte      Pará"
      ]
     },
     "execution_count": 11,
     "metadata": {},
     "output_type": "execute_result"
    }
   ],
   "source": [
    "dfregioes.assign(ufs=dfregioes.ufs.str.split(';')).explode('ufs').head()"
   ]
  },
  {
   "cell_type": "code",
   "execution_count": null,
   "metadata": {},
   "outputs": [],
   "source": []
  }
 ],
 "metadata": {
  "colab": {
   "collapsed_sections": [],
   "name": "Aula Sobre Manipulação de Dados com Pandas - Parte 4 - Remodelagem e tabelas dinâmicas.ipynb",
   "provenance": []
  },
  "kernelspec": {
   "display_name": "Python 3",
   "language": "python",
   "name": "python3"
  },
  "language_info": {
   "codemirror_mode": {
    "name": "ipython",
    "version": 3
   },
   "file_extension": ".py",
   "mimetype": "text/x-python",
   "name": "python",
   "nbconvert_exporter": "python",
   "pygments_lexer": "ipython3",
   "version": "3.7.8"
  }
 },
 "nbformat": 4,
 "nbformat_minor": 1
}
