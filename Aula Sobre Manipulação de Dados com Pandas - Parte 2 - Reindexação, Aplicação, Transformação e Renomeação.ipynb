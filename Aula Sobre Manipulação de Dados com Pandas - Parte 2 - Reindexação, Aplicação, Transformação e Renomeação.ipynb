{
 "cells": [
  {
   "cell_type": "markdown",
   "metadata": {
    "id": "uGqJJfZ36iR6"
   },
   "source": [
    "# INEFE-Instituto de Estudos e de Formação Especializada  "
   ]
  },
  {
   "cell_type": "markdown",
   "metadata": {
    "id": "JNifjo59P9mf"
   },
   "source": [
    "## Professor: Orlando Oliveira dos Santos, MsC.\n",
    "orlandosantos@gmail.com\n",
    "(61) 99646 6151"
   ]
  },
  {
   "cell_type": "markdown",
   "metadata": {
    "id": "ymCeBUyxPjMK"
   },
   "source": [
    "\n",
    "#  PROGRAMA PYTHON ANALYTICS e DATA SCIENCE"
   ]
  },
  {
   "cell_type": "markdown",
   "metadata": {
    "id": "Xc-orqZEbVm4"
   },
   "source": [
    "# Pandas Parte 2 \n",
    "## Índice de valores mín. / Máx. \n",
    "- As funções idxmin()e idxmax() em Series e DataFrame calculam os rótulos de índice correspondentes aos valores mínimo e máximo \n",
    "- idxmine idxmax são chamados argmine argmaxem NumPy.\n",
    "- Quando houver várias linhas (ou colunas) correspondendo ao valor mínimo ou máximo idxmin()e idxmax() retornar o primeiro índice correspondente"
   ]
  },
  {
   "cell_type": "code",
   "execution_count": null,
   "metadata": {
    "id": "VCpKNcOLyEbf"
   },
   "outputs": [],
   "source": [
    "import numpy as np\n",
    "import pandas as pd\n",
    "df = pd.read_csv('/content/totaisestadoscomregiao_arr.csv', sep=';',names =['REGIAO','UF','CASOS','OBITOS'])\n",
    "df.head()"
   ]
  },
  {
   "cell_type": "code",
   "execution_count": null,
   "metadata": {
    "id": "eE-oQ94x0QDO"
   },
   "outputs": [],
   "source": [
    "df.CASOS.idxmin(), df.CASOS.idxmax()"
   ]
  },
  {
   "cell_type": "code",
   "execution_count": null,
   "metadata": {
    "id": "PergY2810QDQ"
   },
   "outputs": [],
   "source": [
    "df[['CASOS', 'OBITOS']].idxmin(axis=0)"
   ]
  },
  {
   "cell_type": "code",
   "execution_count": null,
   "metadata": {
    "id": "Hykd7dnmh-VK"
   },
   "outputs": [],
   "source": [
    "df[['CASOS', 'OBITOS']].T"
   ]
  },
  {
   "cell_type": "code",
   "execution_count": null,
   "metadata": {
    "id": "MSMPROqfaHyL"
   },
   "outputs": [],
   "source": [
    "df[['CASOS', 'OBITOS']].T.idxmin(axis=1)"
   ]
  },
  {
   "cell_type": "markdown",
   "metadata": {
    "id": "G7h0iOU00QDQ"
   },
   "source": [
    "## Contagens de valor (histograma) / modo \n",
    "- O método value_counts() calcula um histograma de uma matriz 1D de valores"
   ]
  },
  {
   "cell_type": "code",
   "execution_count": null,
   "metadata": {
    "id": "naQeJeHs0QDQ"
   },
   "outputs": [],
   "source": [
    "df.REGIAO.value_counts()"
   ]
  },
  {
   "cell_type": "code",
   "execution_count": null,
   "metadata": {
    "id": "lP86u1BH0QDR"
   },
   "outputs": [],
   "source": [
    "pd.value_counts(df.REGIAO)"
   ]
  },
  {
   "cell_type": "code",
   "execution_count": null,
   "metadata": {
    "id": "b9q20b95al6t"
   },
   "outputs": [],
   "source": [
    "df.groupby('REGIAO').count()"
   ]
  },
  {
   "cell_type": "code",
   "execution_count": null,
   "metadata": {
    "id": "9dYjxH2xbGLS"
   },
   "outputs": [],
   "source": [
    "df['REGIAO'].count()"
   ]
  },
  {
   "cell_type": "code",
   "execution_count": null,
   "metadata": {
    "id": "4qWYnEn6bRUV"
   },
   "outputs": [],
   "source": [
    "df.groupby('REGIAO').count() / df['REGIAO'].count()"
   ]
  },
  {
   "cell_type": "code",
   "execution_count": null,
   "metadata": {
    "id": "mk7ixe_qit65"
   },
   "outputs": [],
   "source": [
    "pd.value_counts(df.REGIAO) / df['REGIAO'].count()"
   ]
  },
  {
   "cell_type": "markdown",
   "metadata": {
    "id": "zYA6kjXi0QDR"
   },
   "source": [
    "### O método value_counts() pode ser usado para contar combinações em várias colunas. "
   ]
  },
  {
   "cell_type": "code",
   "execution_count": null,
   "metadata": {
    "id": "D8kb0IPFjFTC"
   },
   "outputs": [],
   "source": [
    "df['casos100milhares'] = df['CASOS']/100_000\n",
    "df['casos100milhares'] = df['casos100milhares'].astype(int)\n",
    "df"
   ]
  },
  {
   "cell_type": "code",
   "execution_count": null,
   "metadata": {
    "id": "VT2e9kUo0QDR"
   },
   "outputs": [],
   "source": [
    "df[['REGIAO', 'casos100milhares']].value_counts()"
   ]
  },
  {
   "cell_type": "markdown",
   "metadata": {
    "id": "8wRFrdP-0QDR"
   },
   "source": [
    "### Da mesma forma, você pode obter os valores de ocorrência mais frequente, ou seja, a moda"
   ]
  },
  {
   "cell_type": "code",
   "execution_count": null,
   "metadata": {
    "id": "zHCAuMz60QDR"
   },
   "outputs": [],
   "source": [
    "df.REGIAO.mode()"
   ]
  },
  {
   "cell_type": "code",
   "execution_count": null,
   "metadata": {
    "id": "YunKskzMj_ag"
   },
   "outputs": [],
   "source": [
    "df.casos100milhares.mode()"
   ]
  },
  {
   "cell_type": "markdown",
   "metadata": {
    "id": "VVbyO_Uk0QDR"
   },
   "source": [
    "## Discretização e quantificação \n",
    "Valores contínuos podem ser discretizados usando as funções\n",
    "\n",
    "- cut()(bins com base em valores) e \n",
    "- qcut()(bins com base em quantis de amostra):"
   ]
  },
  {
   "cell_type": "code",
   "execution_count": null,
   "metadata": {
    "id": "sh_B58bpyEbi"
   },
   "outputs": [],
   "source": [
    "df.head()"
   ]
  },
  {
   "cell_type": "code",
   "execution_count": null,
   "metadata": {
    "id": "b9keJXsU0QDR"
   },
   "outputs": [],
   "source": [
    "df['intervalos'] = pd.cut(df.OBITOS, 4)\n",
    "df.head()"
   ]
  },
  {
   "cell_type": "code",
   "execution_count": null,
   "metadata": {
    "id": "V6evuexoyEbi"
   },
   "outputs": [],
   "source": [
    "pd.value_counts(df['intervalos'])"
   ]
  },
  {
   "cell_type": "code",
   "execution_count": null,
   "metadata": {
    "id": "1LaHCIxZ0QDR"
   },
   "outputs": [],
   "source": [
    "df['intervalos'] = pd.cut(df.OBITOS, [0, 5000, 10000, 15000, 20000, 30000, 40000, 50000])\n",
    "df.head()"
   ]
  },
  {
   "cell_type": "code",
   "execution_count": null,
   "metadata": {
    "id": "owXvxsXNyEbj"
   },
   "outputs": [],
   "source": [
    "pd.value_counts(df['intervalos'])"
   ]
  },
  {
   "cell_type": "markdown",
   "metadata": {
    "id": "2Ghip7ml0QDR"
   },
   "source": [
    "## qcut() calcula quantis de amostra.\n",
    "\n",
    "- Divir em quartis de tamanhos iguais, como:"
   ]
  },
  {
   "cell_type": "code",
   "execution_count": null,
   "metadata": {
    "id": "Tm1Zi55a0QDR"
   },
   "outputs": [],
   "source": [
    "df['intervalos'] = pd.qcut(df.OBITOS, [0, .25, .5, .75, 1])\n",
    "\n",
    "df.head()"
   ]
  },
  {
   "cell_type": "code",
   "execution_count": null,
   "metadata": {
    "id": "EI2j9ZZi0QDR"
   },
   "outputs": [],
   "source": [
    "pd.value_counts(df['intervalos'])"
   ]
  },
  {
   "cell_type": "markdown",
   "metadata": {
    "id": "UMIPg5FM0QDR"
   },
   "source": [
    "## Também podemos passar valores infinitos para definir os bins:"
   ]
  },
  {
   "cell_type": "code",
   "execution_count": null,
   "metadata": {
    "id": "2ofQF9da0QDR"
   },
   "outputs": [],
   "source": [
    "df['intervalos'] = pd.cut(df.OBITOS, [-np.inf, 3000, 5000 ,np.inf])\n",
    "\n",
    "df['intervalos'].head()"
   ]
  },
  {
   "cell_type": "code",
   "execution_count": null,
   "metadata": {
    "id": "JbcO2DhGmcTj"
   },
   "outputs": [],
   "source": [
    "pd.value_counts(df['intervalos'])"
   ]
  },
  {
   "cell_type": "markdown",
   "metadata": {
    "id": "RixvZOSs0QDR"
   },
   "source": [
    "# Função de Aplicação\n",
    "Para aplicar as suas próprias funções ou as de outra biblioteca aos objetos pandas, exitem três formas:\n",
    "- Aplicação de função tablewise :pipe()\n",
    "- Aplicação de função em linha ou coluna :apply()\n",
    "- API de agregação : agg() e transform()\n",
    "- Aplicando funções Elementwise :applymap()"
   ]
  },
  {
   "cell_type": "markdown",
   "metadata": {
    "id": "crbPvOsA0QDR"
   },
   "source": [
    "### Aplicação da função tablewise \n",
    "DataFrames e Seriespode ser passado para funções. \n",
    "No entanto, se a função precisar ser chamada de forma encadeada, considere o uso do método pipe().\n"
   ]
  },
  {
   "cell_type": "code",
   "execution_count": null,
   "metadata": {
    "id": "IH-J4KRZyEbj"
   },
   "outputs": [],
   "source": [
    "import pandas as pd\n",
    "df = pd.read_csv('/content/totaisestadoscomregiao_arr.csv', sep=';',names =['REGIAO','UF','CASOS','OBITOS'])\n",
    "df.head()"
   ]
  },
  {
   "cell_type": "code",
   "execution_count": null,
   "metadata": {
    "id": "j6CrGLx2nelh"
   },
   "outputs": [],
   "source": [
    "df['OBITOSMILHARES'] = df['OBITOS']/1000\n",
    "df['CASOSMILHARES'] = df['CASOS']/1000\n",
    "df['LETALIDADE'] = df['OBITOS']/ df['CASOS'] * 100\n",
    "df.head()\n"
   ]
  },
  {
   "cell_type": "code",
   "execution_count": null,
   "metadata": {
    "id": "h0erUoQk0QDR"
   },
   "outputs": [],
   "source": [
    "def calculaobitosemmilhares(df):\n",
    "    df['OBITOSMILHARES'] = df['OBITOS']/1000\n",
    "    return df\n",
    "\n",
    "def calculacasosemmilhares(df):\n",
    "    df['CASOSMILHARES'] = df['CASOS']/1000\n",
    "    return df\n",
    "\n",
    "def calculaletalidades(df):\n",
    "    df['LETALIDADE'] = df['OBITOS']/ df['CASOS'] * 100\n",
    "    return df"
   ]
  },
  {
   "cell_type": "code",
   "execution_count": null,
   "metadata": {
    "id": "KNbshwMwn3Zm"
   },
   "outputs": [],
   "source": [
    "df = df[['REGIAO','UF','CASOS','OBITOS']]\n",
    "df.head()"
   ]
  },
  {
   "cell_type": "code",
   "execution_count": null,
   "metadata": {
    "id": "iouoiEdq0QDR",
    "scrolled": true
   },
   "outputs": [],
   "source": [
    "calculaletalidades(calculaobitosemmilhares(calculacasosemmilhares(df))).head()"
   ]
  },
  {
   "cell_type": "markdown",
   "metadata": {
    "id": "oScj5InV0QDR"
   },
   "source": [
    "### É equivalente a:"
   ]
  },
  {
   "cell_type": "code",
   "execution_count": null,
   "metadata": {
    "id": "JJtecSI4yEbj"
   },
   "outputs": [],
   "source": [
    "df = pd.read_csv('/content/totaisestadoscomregiao_arr.csv', sep=';',names =['REGIAO','UF','CASOS','OBITOS'])\n",
    "df.head()"
   ]
  },
  {
   "cell_type": "code",
   "execution_count": null,
   "metadata": {
    "id": "1WB9Hf3l0QDR"
   },
   "outputs": [],
   "source": [
    "(df.pipe(calculaobitosemmilhares)\n",
    "    .pipe(calculacasosemmilhares)\n",
    "    .pipe(calculaletalidades)\n",
    ")\n",
    "df.head()"
   ]
  },
  {
   "cell_type": "markdown",
   "metadata": {
    "id": "PwMgeJ5P0QDS"
   },
   "source": [
    "### O Pandas recomenda o uso do pipe pois torna mais fácil usar suas próprias funções ou as funções de outra biblioteca encadeadas com os métodos do pandas.\n"
   ]
  },
  {
   "cell_type": "code",
   "execution_count": null,
   "metadata": {
    "id": "vVuPF8HP0QDS"
   },
   "outputs": [],
   "source": [
    "(df.groupby('REGIAO')\n",
    "    .pipe(lambda x: x.sum())\n",
    "    .pipe(calculaobitosemmilhares)\n",
    "    .pipe(calculacasosemmilhares)\n",
    "    .pipe(lambda x: x.cumsum())\n",
    "    .head()\n",
    ")"
   ]
  },
  {
   "cell_type": "markdown",
   "metadata": {
    "id": "j09Mnaty0QDS"
   },
   "source": [
    "### Aplicação de função em linha ou coluna \n",
    "\n",
    "As funções arbitrárias podem ser aplicadas ao longo dos eixos de um DataFrame usando o método apply(), que, como os métodos de estatística descritiva, tem um axis argumento opcional"
   ]
  },
  {
   "cell_type": "code",
   "execution_count": null,
   "metadata": {
    "id": "tupWLevj0QDS"
   },
   "outputs": [],
   "source": [
    "df = pd.read_csv('/content/totaisestadoscomregiao_arr.csv', sep=';'\n",
    "                 ,names =['REGIAO','UF','CASOS','OBITOS'])\n",
    "df.head()"
   ]
  },
  {
   "cell_type": "code",
   "execution_count": null,
   "metadata": {
    "id": "dBIT3w0p0QDS"
   },
   "outputs": [],
   "source": [
    "df[['CASOS', 'OBITOS']].apply(np.mean)"
   ]
  },
  {
   "cell_type": "code",
   "execution_count": null,
   "metadata": {
    "id": "Wic8f7ixyEbj"
   },
   "outputs": [],
   "source": [
    "dfT = df[['CASOS', 'OBITOS']].T\n",
    "dfT"
   ]
  },
  {
   "cell_type": "code",
   "execution_count": null,
   "metadata": {
    "id": "6bT5WmUp0QDS"
   },
   "outputs": [],
   "source": [
    "dfT.apply(np.mean, axis=1)"
   ]
  },
  {
   "cell_type": "code",
   "execution_count": null,
   "metadata": {
    "id": "Wv9boVem0QDS"
   },
   "outputs": [],
   "source": [
    "df[['CASOS', 'OBITOS']].apply(lambda x: x.max() - x.min())"
   ]
  },
  {
   "cell_type": "code",
   "execution_count": null,
   "metadata": {
    "id": "oC_Ul6aT0QDS"
   },
   "outputs": [],
   "source": [
    "df[['CASOS', 'OBITOS']].apply(np.cumsum).tail()"
   ]
  },
  {
   "cell_type": "code",
   "execution_count": null,
   "metadata": {
    "id": "x1-7YqgI0QDS"
   },
   "outputs": [],
   "source": [
    "df[['CASOS', 'OBITOS']].apply(np.log).tail()"
   ]
  },
  {
   "cell_type": "markdown",
   "metadata": {
    "id": "dbfE7asB0QDS"
   },
   "source": [
    "O método apply() também pode ser passado um nome de método como texto"
   ]
  },
  {
   "cell_type": "code",
   "execution_count": null,
   "metadata": {
    "id": "lA5X8qbN0QDS"
   },
   "outputs": [],
   "source": [
    "df[['CASOS', 'OBITOS']].apply('mean')"
   ]
  },
  {
   "cell_type": "code",
   "execution_count": null,
   "metadata": {
    "id": "i0lGoYI50QDS"
   },
   "outputs": [],
   "source": [
    "df[['CASOS', 'OBITOS']].T.apply('mean', axis=1)"
   ]
  },
  {
   "cell_type": "code",
   "execution_count": null,
   "metadata": {
    "id": "OufvS0ay0QDS"
   },
   "outputs": [],
   "source": [
    "df[['CASOS', 'OBITOS']].apply(lambda x: x.idxmax())"
   ]
  },
  {
   "cell_type": "markdown",
   "metadata": {
    "id": "Ez1z1ihX0QDS"
   },
   "source": [
    "### Pode passar argumentos adicionais e argumentos de palavra-chave para o método apply() ."
   ]
  },
  {
   "cell_type": "code",
   "execution_count": null,
   "metadata": {
    "id": "SK2_IRdu0QDS"
   },
   "outputs": [],
   "source": [
    "def valores_em_outra_unidade(x, divisor=1000):\n",
    "    return (x / divisor)\n",
    "    "
   ]
  },
  {
   "cell_type": "code",
   "execution_count": null,
   "metadata": {
    "id": "whpM2wRJ0QDS"
   },
   "outputs": [],
   "source": [
    "df[['CASOS', 'OBITOS']].apply(valores_em_outra_unidade, divisor=100).head()"
   ]
  },
  {
   "cell_type": "markdown",
   "metadata": {
    "id": "kThkoMBM0QDT"
   },
   "source": [
    "# API Transform \n",
    "- O método transform() retorna um objeto indexado com o mesmo (mesmo tamanho) do original.\n",
    "- Essa api é muito semelhante à API .agg."
   ]
  },
  {
   "cell_type": "code",
   "execution_count": null,
   "metadata": {
    "id": "faGqteXj0QDT"
   },
   "outputs": [],
   "source": [
    "import numpy as np\n",
    "import pandas as pd\n",
    "df = pd.read_csv('/content/totaisregioes_arr.csv', sep=';',names =['REGIAO','CASOS','OBITOS'])\n",
    "df.head()"
   ]
  },
  {
   "cell_type": "code",
   "execution_count": null,
   "metadata": {
    "id": "skMlr_nHyEbk"
   },
   "outputs": [],
   "source": [
    "df[3:5] = df[3:5].assign(CASOS = lambda x: x['CASOS'] * -1, OBITOS = lambda x: x['OBITOS'] * -1)\n",
    "df.head()"
   ]
  },
  {
   "cell_type": "markdown",
   "metadata": {
    "id": "dfLcXU790QDT"
   },
   "source": [
    "### Transforme todo o quadro. \n",
    ".transform() permite funções de entrada como: uma função NumPy, um nome de função de string ou uma função definida pelo usuário."
   ]
  },
  {
   "cell_type": "code",
   "execution_count": null,
   "metadata": {
    "id": "ccPeTpI60QDT"
   },
   "outputs": [],
   "source": [
    "df[['CASOS', 'OBITOS']].transform(np.abs)"
   ]
  },
  {
   "cell_type": "code",
   "execution_count": null,
   "metadata": {
    "id": "HOkKLgbD0QDT"
   },
   "outputs": [],
   "source": [
    "df[['CASOS', 'OBITOS']].transform('abs')\n"
   ]
  },
  {
   "cell_type": "code",
   "execution_count": null,
   "metadata": {
    "id": "fdAPcDcx0QDU"
   },
   "outputs": [],
   "source": [
    "df[['CASOS', 'OBITOS']].transform(lambda x: x.abs())"
   ]
  },
  {
   "cell_type": "markdown",
   "metadata": {
    "id": "5MBqAgIC0QDU"
   },
   "source": [
    "### Passar uma única função para .transform()  com um Series  resultará em uma única Series em retorno."
   ]
  },
  {
   "cell_type": "code",
   "execution_count": null,
   "metadata": {
    "id": "HX-BN56b0QDU"
   },
   "outputs": [],
   "source": [
    "df['CASOS'].transform(np.square)"
   ]
  },
  {
   "cell_type": "markdown",
   "metadata": {
    "id": "7eyP95jf0QDU"
   },
   "source": [
    "### Transforme com várias funções \n",
    "A passagem de várias funções produzirá uma coluna MultiIndexed DataFrame. O primeiro nível será os nomes das colunas do quadro original; o segundo nível serão os nomes das funções de transformação."
   ]
  },
  {
   "cell_type": "code",
   "execution_count": null,
   "metadata": {
    "id": "Sd6CePSR0QDU"
   },
   "outputs": [],
   "source": [
    "df.transform([np.abs, lambda x: x /1000, np.log])"
   ]
  },
  {
   "cell_type": "markdown",
   "metadata": {
    "id": "4Vfj_AaI0QDU"
   },
   "source": [
    "Passar várias funções para uma série produzirá um DataFrame. Os nomes das colunas resultantes serão as funções de transformação."
   ]
  },
  {
   "cell_type": "code",
   "execution_count": null,
   "metadata": {
    "id": "3JDqCATV0QDU"
   },
   "outputs": [],
   "source": [
    "df['CASOS'].transform([np.abs, lambda x: x /1000, np.log])"
   ]
  },
  {
   "cell_type": "markdown",
   "metadata": {
    "id": "qolYiJj90QDU"
   },
   "source": [
    "### Transformando com um dicionario \n",
    "A passagem de um dicionário de funções permitirá a transformação seletiva por coluna."
   ]
  },
  {
   "cell_type": "code",
   "execution_count": null,
   "metadata": {
    "id": "0avT2wR30QDU"
   },
   "outputs": [],
   "source": [
    "df.transform({'CASOS': np.abs, 'OBITOS': lambda x: x /1000})"
   ]
  },
  {
   "cell_type": "markdown",
   "metadata": {
    "id": "vccQbgSZ0QDU"
   },
   "source": [
    "Passar um dicionário de listas irá gerar um MultiIndexed DataFrame com essas transformações seletivas."
   ]
  },
  {
   "cell_type": "code",
   "execution_count": null,
   "metadata": {
    "id": "p--l_GGq0QDU"
   },
   "outputs": [],
   "source": [
    "df.transform({'CASOS': np.abs, 'OBITOS': [lambda x: x /1000, np.log, np.log10]})"
   ]
  },
  {
   "cell_type": "code",
   "execution_count": null,
   "metadata": {
    "id": "PYpm3cVBfYUx"
   },
   "outputs": [],
   "source": [
    "df2 = df.transform({'CASOS': np.abs, 'OBITOS': [lambda x: x /1000, np.log, np.log10]})\n",
    "df2"
   ]
  },
  {
   "cell_type": "code",
   "execution_count": null,
   "metadata": {
    "id": "Dkd9mYSGrhSs"
   },
   "outputs": [],
   "source": []
  },
  {
   "cell_type": "code",
   "execution_count": null,
   "metadata": {
    "id": "jmSvu8d6rg9U"
   },
   "outputs": [],
   "source": []
  },
  {
   "cell_type": "code",
   "execution_count": null,
   "metadata": {
    "id": "EpcfzX8gfbZS"
   },
   "outputs": [],
   "source": [
    "df2.columns = ['CASOS','OBITOS em mil','OBITOS log','OBITOS log10']\n",
    "df2"
   ]
  },
  {
   "cell_type": "markdown",
   "metadata": {
    "id": "KNnZQ0UE0QDU"
   },
   "source": [
    "## Aplicando funções elementwise \n",
    "Como nem todas as funções podem ser vetorizadas (aceitar matrizes NumPy e retornar outra matriz ou valor), os métodos applymap() em DataFrame aceitam qualquer função Python assumindo um único valor e retornando um único valor."
   ]
  },
  {
   "cell_type": "code",
   "execution_count": null,
   "metadata": {
    "id": "zQ9gRU-z0QDU"
   },
   "outputs": [],
   "source": [
    "import numpy as np\n",
    "import pandas as pd\n",
    "df = pd.read_csv('/content/totaisregioes_arr.csv', sep=';',names =['REGIAO','CASOS','OBITOS'])\n",
    "df.head()"
   ]
  },
  {
   "cell_type": "code",
   "execution_count": null,
   "metadata": {
    "id": "ojI9NOoF0QDU"
   },
   "outputs": [],
   "source": [
    "def extrai_sigla(x):\n",
    "    return ''.join([w[0] for w in x.split('-') ]) + ('E' if 'deste' in x else '')"
   ]
  },
  {
   "cell_type": "code",
   "execution_count": null,
   "metadata": {
    "id": "yEDpKbq70QDV"
   },
   "outputs": [],
   "source": [
    "df['REGIAO'].map(extrai_sigla)"
   ]
  },
  {
   "cell_type": "code",
   "execution_count": null,
   "metadata": {
    "id": "PUrsmVtqyEbk"
   },
   "outputs": [],
   "source": [
    "def unidade_milhares(x):\n",
    "    valor = x\n",
    "    \n",
    "    if type(valor) is int:\n",
    "        valor = round(valor/1000,2)\n",
    "    return valor\n",
    "        \n",
    "unidade_milhares(121323)      "
   ]
  },
  {
   "cell_type": "code",
   "execution_count": null,
   "metadata": {
    "id": "6yKHZc_UyEbk"
   },
   "outputs": [],
   "source": [
    "def uppertext(x):\n",
    "    return str(x).upper()"
   ]
  },
  {
   "cell_type": "code",
   "execution_count": null,
   "metadata": {
    "id": "jhKIsCvmyEbk"
   },
   "outputs": [],
   "source": [
    "df"
   ]
  },
  {
   "cell_type": "code",
   "execution_count": null,
   "metadata": {
    "id": "4a4YmY7n0QDV"
   },
   "outputs": [],
   "source": [
    "df.applymap(uppertext)"
   ]
  },
  {
   "cell_type": "code",
   "execution_count": null,
   "metadata": {
    "id": "elwln_KzyEbk"
   },
   "outputs": [],
   "source": [
    "df.applymap(unidade_milhares)"
   ]
  },
  {
   "cell_type": "markdown",
   "metadata": {
    "id": "h5toJ20f0QDV"
   },
   "source": [
    "### Series.map() tem um recurso adicional; pode ser usado para “vincular” ou “mapear” facilmente valores definidos por uma série secundária. "
   ]
  },
  {
   "cell_type": "code",
   "execution_count": null,
   "metadata": {
    "id": "rd0cM1Ak0QDV"
   },
   "outputs": [],
   "source": [
    "regioes = pd.Series({'Centro-Oeste':'CO', 'Nordeste':'NE', 'Norte' : 'N', 'Sudeste': 'SE', 'Sul': 'S'})\n",
    "regioes"
   ]
  },
  {
   "cell_type": "code",
   "execution_count": null,
   "metadata": {
    "id": "Fac2h8o_0QDV"
   },
   "outputs": [],
   "source": [
    "df['SIGLA_REGIAO'] = df['REGIAO'].map(regioes)\n",
    "df"
   ]
  },
  {
   "cell_type": "markdown",
   "metadata": {
    "id": "udei96aK0QDV"
   },
   "source": [
    "# Reindexando e alterando rótulos \n",
    "reindex() é o método de alinhamento de dados fundamental em pandas. "
   ]
  },
  {
   "cell_type": "code",
   "execution_count": null,
   "metadata": {
    "id": "nIeQtXQh0QDV"
   },
   "outputs": [],
   "source": [
    "import numpy as np\n",
    "import pandas as pd\n",
    "df = pd.read_csv('/content/totaisestadoscomregiao_arr.csv', sep=';',names =['REGIAO','UF', 'CASOS','OBITOS'], index_col=False)\n",
    "df.head()"
   ]
  },
  {
   "cell_type": "code",
   "execution_count": null,
   "metadata": {
    "id": "-jKbJF_7yEbl"
   },
   "outputs": [],
   "source": [
    "novoindex =  sorted(df.index, reverse= True)\n",
    "print(novoindex)\n",
    "\n",
    "colunas= sorted(df.columns, reverse= True)\n",
    "print(colunas)"
   ]
  },
  {
   "cell_type": "code",
   "execution_count": null,
   "metadata": {
    "id": "NpMHasSj0QDV"
   },
   "outputs": [],
   "source": [
    "df.reindex(novoindex).head()"
   ]
  },
  {
   "cell_type": "code",
   "execution_count": null,
   "metadata": {
    "id": "CCgB0H7F0QDV"
   },
   "outputs": [],
   "source": [
    "df.reindex(index=novoindex, columns=colunas).head()"
   ]
  },
  {
   "cell_type": "code",
   "execution_count": null,
   "metadata": {
    "id": "pOWPWJLA0QDV"
   },
   "outputs": [],
   "source": [
    "df.reindex(novoindex, axis='index').head()"
   ]
  },
  {
   "cell_type": "code",
   "execution_count": null,
   "metadata": {
    "id": "CreDufBF0QDV"
   },
   "outputs": [],
   "source": [
    "df.reindex(colunas, axis='columns').head()"
   ]
  },
  {
   "cell_type": "code",
   "execution_count": null,
   "metadata": {
    "id": "q2pgcLWIyEbl"
   },
   "outputs": [],
   "source": [
    "obitos = df['OBITOS']\n",
    "obitos = obitos.reindex(novoindex)\n",
    "obitos.head()"
   ]
  },
  {
   "cell_type": "code",
   "execution_count": null,
   "metadata": {
    "id": "9-zBXMdCyEbl"
   },
   "outputs": [],
   "source": [
    "df['CASOS'].head()"
   ]
  },
  {
   "cell_type": "code",
   "execution_count": null,
   "metadata": {
    "id": "vEtaOvstyEbl"
   },
   "outputs": [],
   "source": [
    "df['CASOS'].reindex_like(obitos).head()"
   ]
  },
  {
   "cell_type": "markdown",
   "metadata": {
    "id": "EsM66wfB0QDV"
   },
   "source": [
    "## Descartando rótulos de um eixo \n",
    "A função drop() remove um conjunto de rótulos de um eixo:"
   ]
  },
  {
   "cell_type": "code",
   "execution_count": null,
   "metadata": {
    "id": "Zw3OR78m0QDV"
   },
   "outputs": [],
   "source": [
    "import numpy as np\n",
    "import pandas as pd\n",
    "df = pd.read_csv('/content/totaisestadoscomregiao_arr.csv', sep=';',names =['REGIAO', 'UF', 'CASOS','OBITOS'], index_col=False)\n",
    "df.head()"
   ]
  },
  {
   "cell_type": "code",
   "execution_count": null,
   "metadata": {
    "id": "RYpWB2Kr0QDW"
   },
   "outputs": [],
   "source": [
    "df.drop([1,2,3,4,5,6,7,8,9], axis=0).head()"
   ]
  },
  {
   "cell_type": "code",
   "execution_count": null,
   "metadata": {
    "id": "w97h_A-G0QDW"
   },
   "outputs": [],
   "source": [
    "df.drop(['REGIAO', 'CASOS'], axis=1).head()"
   ]
  },
  {
   "cell_type": "markdown",
   "metadata": {
    "id": "YYtZUfsY0QDW"
   },
   "source": [
    "# Renomeando / mapeando rótulos \n",
    "O método rename() permite que você renomeie um eixo com base em algum mapeamento (um dicionário ou série) ou uma função arbitrária."
   ]
  },
  {
   "cell_type": "code",
   "execution_count": null,
   "metadata": {
    "id": "3-utt2NpyEbl"
   },
   "outputs": [],
   "source": [
    "import numpy as np\n",
    "import pandas as pd\n",
    "df = pd.read_csv('/content/totaisregioes_arr.csv', sep=';',names =['REGIAO', 'CASOS','OBITOS'], index_col='REGIAO')\n",
    "df.head()"
   ]
  },
  {
   "cell_type": "code",
   "execution_count": null,
   "metadata": {
    "id": "ORcAo9M10QDW"
   },
   "outputs": [],
   "source": [
    "df['CASOS'].rename(str.upper).head()"
   ]
  },
  {
   "cell_type": "markdown",
   "metadata": {
    "id": "QTArFs1l0QDW"
   },
   "source": [
    "### Um dicionário ou série também pode ser usado\n",
    "- Se o mapeamento não incluir um rótulo de coluna / índice, ele não será renomeado"
   ]
  },
  {
   "cell_type": "code",
   "execution_count": null,
   "metadata": {
    "id": "JNhs_2P00QDW"
   },
   "outputs": [],
   "source": [
    "df.rename(columns={'CASOS': 'Qtd.Casos', 'OBITOS': 'Qtd. Obitos'},\n",
    "          index={'Centro-Oeste': 'CO', 'Nordeste': 'NE', 'Norte': 'N', \n",
    "                 'Sudeste': 'SE', 'Sul': 'S'})"
   ]
  },
  {
   "cell_type": "code",
   "execution_count": null,
   "metadata": {
    "id": "GLtFTLVS0QDW",
    "scrolled": true
   },
   "outputs": [],
   "source": [
    "df.rename({'CASOS': 'casos', 'OBITOS': 'obitos'}, axis='columns')"
   ]
  },
  {
   "cell_type": "code",
   "execution_count": null,
   "metadata": {
    "id": "EREZqMjNyEbl"
   },
   "outputs": [],
   "source": [
    "df.rename({'Centro-Oeste': 'CO', 'Nordeste': 'NE', 'Norte': 'N', \n",
    "           'Sudeste': 'SE', 'Sul': 'S'}, axis='index')"
   ]
  },
  {
   "cell_type": "code",
   "execution_count": null,
   "metadata": {
    "id": "iJky0r1AyEbm"
   },
   "outputs": [],
   "source": [
    "df"
   ]
  },
  {
   "cell_type": "markdown",
   "metadata": {
    "id": "a_0oXTGHyEbm"
   },
   "source": [
    "### Usando rename inplace"
   ]
  },
  {
   "cell_type": "code",
   "execution_count": null,
   "metadata": {
    "id": "KHMh66ccyEbm"
   },
   "outputs": [],
   "source": [
    "df.rename(columns={'CASOS': 'casos', 'OBITOS': 'obitos'},\n",
    "      index={'Centro-Oeste': 'CO', 'Nordeste': 'NE', 'Norte': 'N', 'Sudeste': 'SE', 'Sul': 'S'},\n",
    "         inplace=True)\n",
    "df"
   ]
  },
  {
   "cell_type": "markdown",
   "metadata": {
    "id": "8WdNEF38yEbm"
   },
   "source": [
    "# Interando com DataFrame"
   ]
  },
  {
   "cell_type": "markdown",
   "metadata": {
    "id": "tk7lC7DYyEbm"
   },
   "source": [
    "### Interando pelas colunas"
   ]
  },
  {
   "cell_type": "code",
   "execution_count": null,
   "metadata": {
    "id": "GxHxZzFJyEbm"
   },
   "outputs": [],
   "source": [
    "import numpy as np\n",
    "import pandas as pd\n",
    "df = pd.read_csv('/content/totaisregioes_arr.csv', sep=';',names =['REGIAO', 'CASOS','OBITOS'], index_col='REGIAO')\n",
    "df.head()"
   ]
  },
  {
   "cell_type": "code",
   "execution_count": null,
   "metadata": {
    "id": "xhJ5Q4dx0QDW"
   },
   "outputs": [],
   "source": [
    "for col in df:\n",
    "    print(col)\n",
    "    print(df[col].sum())"
   ]
  },
  {
   "cell_type": "markdown",
   "metadata": {
    "id": "Ii0bJByfyEbm"
   },
   "source": [
    "### Os objetos Pandas também possuem o método items() do tipo dict para iterar os pares (chave, valor)."
   ]
  },
  {
   "cell_type": "code",
   "execution_count": null,
   "metadata": {
    "id": "RiJGMNXRyEbm"
   },
   "outputs": [],
   "source": [
    "for col, values in df.items():\n",
    "    print(f\"coluna: {col} , total { values.sum()}\")"
   ]
  },
  {
   "cell_type": "markdown",
   "metadata": {
    "id": "9c-sKMRe0QDW"
   },
   "source": [
    "### Interando  usando métodos iterrows(): \n",
    "Itere sobre as linhas de um DataFrame como pares (índice, série). Isso converte as linhas em objetos Series, o que pode alterar os dtypes e tem algumas implicações de desempenho."
   ]
  },
  {
   "cell_type": "code",
   "execution_count": null,
   "metadata": {
    "id": "TBuLiArtyEbm"
   },
   "outputs": [],
   "source": [
    "for id, linha in df.iterrows():\n",
    "    print(id, linha['CASOS'], linha['OBITOS'])"
   ]
  },
  {
   "cell_type": "markdown",
   "metadata": {
    "id": "F0fvuPflyEbm"
   },
   "source": [
    "### Interando o método itertuples(): \n",
    "Itere sobre as linhas de um DataFrame como pares nomeados dos valores. Isso é muito mais rápido iterrows()e, na maioria dos casos, é preferível usar para iterar os valores de um DataFrame."
   ]
  },
  {
   "cell_type": "code",
   "execution_count": null,
   "metadata": {
    "id": "3IsRH8YkyEbm"
   },
   "outputs": [],
   "source": [
    "for row in df.itertuples():\n",
    "    print(row[0], row[1], row[2])"
   ]
  },
  {
   "cell_type": "markdown",
   "metadata": {
    "id": "9ba1FUwRyEbm"
   },
   "source": [
    "### Atenção\n",
    "\n",
    "A iteração por meio de objetos pandas é geralmente lenta . Em muitos casos, a iteração manual nas linhas não é necessária e \n",
    "Você nunca deve modificar algo sobre o qual está iterando. \n",
    "Por exemplo, no seguinte caso, definir o valor pode em alguns casos não ter efeito:"
   ]
  },
  {
   "cell_type": "code",
   "execution_count": null,
   "metadata": {
    "id": "XW1LrihUyjGM"
   },
   "outputs": [],
   "source": [
    "df\n"
   ]
  },
  {
   "cell_type": "code",
   "execution_count": null,
   "metadata": {
    "id": "itkWS6KC0QDW"
   },
   "outputs": [],
   "source": [
    "for index, row in df.iterrows():\n",
    "    row['CASOS'] = row['CASOS']  / 100_000"
   ]
  },
  {
   "cell_type": "code",
   "execution_count": null,
   "metadata": {
    "id": "5tpDI6l80QDW"
   },
   "outputs": [],
   "source": [
    "df"
   ]
  },
  {
   "cell_type": "markdown",
   "metadata": {
    "id": "zv3C8wLW0QDW"
   },
   "source": [
    "# Métodos vetorizados de string \n",
    "A série é equipada com um conjunto de métodos de processamento de strings que facilitam a operação em cada elemento da matriz.\n",
    "\n",
    "Eles são acessados ​​por meio do stratributo da série e geralmente têm nomes que correspondem aos métodos de string embutidos equivalentes (escalares)."
   ]
  },
  {
   "cell_type": "code",
   "execution_count": null,
   "metadata": {
    "id": "5udMshU50QDW"
   },
   "outputs": [],
   "source": [
    "import numpy as np\n",
    "import pandas as pd\n",
    "df = pd.read_csv('/content/totaisregioes_arr.csv', sep=';',names =['REGIAO', 'CASOS','OBITOS'], index_col=False)\n",
    "df.head()"
   ]
  },
  {
   "cell_type": "code",
   "execution_count": null,
   "metadata": {
    "id": "D9LbAGY4OLY4"
   },
   "outputs": [],
   "source": [
    "df['REGIAO'].str.lower()"
   ]
  },
  {
   "cell_type": "code",
   "execution_count": null,
   "metadata": {
    "id": "8Z_BRGGwO76e"
   },
   "outputs": [],
   "source": [
    "df['REGIAO'].str.upper()"
   ]
  },
  {
   "cell_type": "code",
   "execution_count": null,
   "metadata": {
    "id": "AFHWrT0eO_CE"
   },
   "outputs": [],
   "source": [
    "df['REGIAO'].str.title()"
   ]
  },
  {
   "cell_type": "markdown",
   "metadata": {
    "id": "hHHAQn-q0QDW"
   },
   "source": [
    "# Classificando - Ordenação de Dados\n",
    "O Pandas suporta três tipos de classificação: classificação por rótulos de índice, classificação por valores de coluna e classificação por uma combinação de ambos.\n",
    "\n",
    "## Ordenando DataFrame Por índice \n",
    "Os métodos Series.sort_index()e DataFrame.sort_index()são usados ​​para classificar um objeto pandas por seus níveis de índice."
   ]
  },
  {
   "cell_type": "code",
   "execution_count": null,
   "metadata": {
    "colab": {
     "base_uri": "https://localhost:8080/",
     "height": 203
    },
    "executionInfo": {
     "elapsed": 895,
     "status": "ok",
     "timestamp": 1607555949827,
     "user": {
      "displayName": "Orlando O. S.",
      "photoUrl": "https://lh3.googleusercontent.com/a-/AOh14Gj-E1yuy1M_3ruwN4TWYPK4BwysauSW7GQmHheS=s64",
      "userId": "15066502291703974467"
     },
     "user_tz": 180
    },
    "id": "PoEy0nwo0QDW",
    "outputId": "5d0a93b1-3c60-4582-97d9-9eeca127ecb3"
   },
   "outputs": [
    {
     "data": {
      "text/html": [
       "<div>\n",
       "<style scoped>\n",
       "    .dataframe tbody tr th:only-of-type {\n",
       "        vertical-align: middle;\n",
       "    }\n",
       "\n",
       "    .dataframe tbody tr th {\n",
       "        vertical-align: top;\n",
       "    }\n",
       "\n",
       "    .dataframe thead th {\n",
       "        text-align: right;\n",
       "    }\n",
       "</style>\n",
       "<table border=\"1\" class=\"dataframe\">\n",
       "  <thead>\n",
       "    <tr style=\"text-align: right;\">\n",
       "      <th></th>\n",
       "      <th>REGIAO</th>\n",
       "      <th>UF</th>\n",
       "      <th>CASOS</th>\n",
       "      <th>OBITOS</th>\n",
       "    </tr>\n",
       "  </thead>\n",
       "  <tbody>\n",
       "    <tr>\n",
       "      <th>0</th>\n",
       "      <td>Centro-Oeste</td>\n",
       "      <td>DF</td>\n",
       "      <td>235480</td>\n",
       "      <td>4011</td>\n",
       "    </tr>\n",
       "    <tr>\n",
       "      <th>1</th>\n",
       "      <td>Centro-Oeste</td>\n",
       "      <td>GO</td>\n",
       "      <td>287858</td>\n",
       "      <td>6486</td>\n",
       "    </tr>\n",
       "    <tr>\n",
       "      <th>2</th>\n",
       "      <td>Centro-Oeste</td>\n",
       "      <td>MS</td>\n",
       "      <td>107235</td>\n",
       "      <td>1852</td>\n",
       "    </tr>\n",
       "    <tr>\n",
       "      <th>3</th>\n",
       "      <td>Centro-Oeste</td>\n",
       "      <td>MT</td>\n",
       "      <td>162923</td>\n",
       "      <td>4159</td>\n",
       "    </tr>\n",
       "    <tr>\n",
       "      <th>4</th>\n",
       "      <td>Nordeste</td>\n",
       "      <td>AL</td>\n",
       "      <td>96973</td>\n",
       "      <td>2360</td>\n",
       "    </tr>\n",
       "  </tbody>\n",
       "</table>\n",
       "</div>"
      ],
      "text/plain": [
       "         REGIAO  UF   CASOS  OBITOS\n",
       "0  Centro-Oeste  DF  235480    4011\n",
       "1  Centro-Oeste  GO  287858    6486\n",
       "2  Centro-Oeste  MS  107235    1852\n",
       "3  Centro-Oeste  MT  162923    4159\n",
       "4      Nordeste  AL   96973    2360"
      ]
     },
     "execution_count": 160,
     "metadata": {
      "tags": []
     },
     "output_type": "execute_result"
    }
   ],
   "source": [
    "import pandas as pd\n",
    "df = pd.read_csv('/content/totaisestadoscomregiao_arr.csv', sep=';',names =['REGIAO', 'UF', 'CASOS','OBITOS'], index_col=False)\n",
    "df.head()"
   ]
  },
  {
   "cell_type": "code",
   "execution_count": null,
   "metadata": {
    "colab": {
     "base_uri": "https://localhost:8080/"
    },
    "executionInfo": {
     "elapsed": 722,
     "status": "ok",
     "timestamp": 1607555984520,
     "user": {
      "displayName": "Orlando O. S.",
      "photoUrl": "https://lh3.googleusercontent.com/a-/AOh14Gj-E1yuy1M_3ruwN4TWYPK4BwysauSW7GQmHheS=s64",
      "userId": "15066502291703974467"
     },
     "user_tz": 180
    },
    "id": "mA2zr_5YP_uL",
    "outputId": "d5d01bd7-b66a-4640-b6e7-5a348cd06280"
   },
   "outputs": [
    {
     "name": "stdout",
     "output_type": "stream",
     "text": [
      "[ 0  1  2  3  4  5  6  7  8  9 10 11 12 13 14 15 16 17 18 19 20 21 22 23\n",
      " 24 25 26]\n",
      "[20 26 24  9 16 18  6  2 12  8 22 11 10 23 17 19  0 14 13  5  7  1 21  3\n",
      " 25 15  4]\n"
     ]
    }
   ],
   "source": [
    "import numpy as np\n",
    "index = np.array(df.index)\n",
    "print(index)\n",
    "np.random.shuffle(index)\n",
    "print(index)"
   ]
  },
  {
   "cell_type": "code",
   "execution_count": null,
   "metadata": {
    "colab": {
     "base_uri": "https://localhost:8080/",
     "height": 203
    },
    "executionInfo": {
     "elapsed": 724,
     "status": "ok",
     "timestamp": 1607555994462,
     "user": {
      "displayName": "Orlando O. S.",
      "photoUrl": "https://lh3.googleusercontent.com/a-/AOh14Gj-E1yuy1M_3ruwN4TWYPK4BwysauSW7GQmHheS=s64",
      "userId": "15066502291703974467"
     },
     "user_tz": 180
    },
    "id": "p4aOg3kvg-5H",
    "outputId": "9925e996-0a72-46ef-ad91-e9eccb1ca752"
   },
   "outputs": [
    {
     "data": {
      "text/html": [
       "<div>\n",
       "<style scoped>\n",
       "    .dataframe tbody tr th:only-of-type {\n",
       "        vertical-align: middle;\n",
       "    }\n",
       "\n",
       "    .dataframe tbody tr th {\n",
       "        vertical-align: top;\n",
       "    }\n",
       "\n",
       "    .dataframe thead th {\n",
       "        text-align: right;\n",
       "    }\n",
       "</style>\n",
       "<table border=\"1\" class=\"dataframe\">\n",
       "  <thead>\n",
       "    <tr style=\"text-align: right;\">\n",
       "      <th></th>\n",
       "      <th>REGIAO</th>\n",
       "      <th>UF</th>\n",
       "      <th>CASOS</th>\n",
       "      <th>OBITOS</th>\n",
       "    </tr>\n",
       "  </thead>\n",
       "  <tbody>\n",
       "    <tr>\n",
       "      <th>20</th>\n",
       "      <td>Sudeste</td>\n",
       "      <td>ES</td>\n",
       "      <td>204292</td>\n",
       "      <td>4455</td>\n",
       "    </tr>\n",
       "    <tr>\n",
       "      <th>26</th>\n",
       "      <td>Sul</td>\n",
       "      <td>SC</td>\n",
       "      <td>406003</td>\n",
       "      <td>4132</td>\n",
       "    </tr>\n",
       "    <tr>\n",
       "      <th>24</th>\n",
       "      <td>Sul</td>\n",
       "      <td>PR</td>\n",
       "      <td>308811</td>\n",
       "      <td>6539</td>\n",
       "    </tr>\n",
       "    <tr>\n",
       "      <th>9</th>\n",
       "      <td>Nordeste</td>\n",
       "      <td>PE</td>\n",
       "      <td>192397</td>\n",
       "      <td>9186</td>\n",
       "    </tr>\n",
       "    <tr>\n",
       "      <th>16</th>\n",
       "      <td>Norte</td>\n",
       "      <td>PA</td>\n",
       "      <td>276221</td>\n",
       "      <td>6959</td>\n",
       "    </tr>\n",
       "  </tbody>\n",
       "</table>\n",
       "</div>"
      ],
      "text/plain": [
       "      REGIAO  UF   CASOS  OBITOS\n",
       "20   Sudeste  ES  204292    4455\n",
       "26       Sul  SC  406003    4132\n",
       "24       Sul  PR  308811    6539\n",
       "9   Nordeste  PE  192397    9186\n",
       "16     Norte  PA  276221    6959"
      ]
     },
     "execution_count": 162,
     "metadata": {
      "tags": []
     },
     "output_type": "execute_result"
    }
   ],
   "source": [
    "df = df.reindex(index)\n",
    "df.head()"
   ]
  },
  {
   "cell_type": "code",
   "execution_count": null,
   "metadata": {
    "colab": {
     "base_uri": "https://localhost:8080/",
     "height": 203
    },
    "executionInfo": {
     "elapsed": 695,
     "status": "ok",
     "timestamp": 1607556037570,
     "user": {
      "displayName": "Orlando O. S.",
      "photoUrl": "https://lh3.googleusercontent.com/a-/AOh14Gj-E1yuy1M_3ruwN4TWYPK4BwysauSW7GQmHheS=s64",
      "userId": "15066502291703974467"
     },
     "user_tz": 180
    },
    "id": "5z7W_Vse0QDX",
    "outputId": "9fbcee42-fefc-49bc-a13c-821c583833a0"
   },
   "outputs": [
    {
     "data": {
      "text/html": [
       "<div>\n",
       "<style scoped>\n",
       "    .dataframe tbody tr th:only-of-type {\n",
       "        vertical-align: middle;\n",
       "    }\n",
       "\n",
       "    .dataframe tbody tr th {\n",
       "        vertical-align: top;\n",
       "    }\n",
       "\n",
       "    .dataframe thead th {\n",
       "        text-align: right;\n",
       "    }\n",
       "</style>\n",
       "<table border=\"1\" class=\"dataframe\">\n",
       "  <thead>\n",
       "    <tr style=\"text-align: right;\">\n",
       "      <th></th>\n",
       "      <th>REGIAO</th>\n",
       "      <th>UF</th>\n",
       "      <th>CASOS</th>\n",
       "      <th>OBITOS</th>\n",
       "    </tr>\n",
       "  </thead>\n",
       "  <tbody>\n",
       "    <tr>\n",
       "      <th>0</th>\n",
       "      <td>Centro-Oeste</td>\n",
       "      <td>DF</td>\n",
       "      <td>235480</td>\n",
       "      <td>4011</td>\n",
       "    </tr>\n",
       "    <tr>\n",
       "      <th>1</th>\n",
       "      <td>Centro-Oeste</td>\n",
       "      <td>GO</td>\n",
       "      <td>287858</td>\n",
       "      <td>6486</td>\n",
       "    </tr>\n",
       "    <tr>\n",
       "      <th>2</th>\n",
       "      <td>Centro-Oeste</td>\n",
       "      <td>MS</td>\n",
       "      <td>107235</td>\n",
       "      <td>1852</td>\n",
       "    </tr>\n",
       "    <tr>\n",
       "      <th>3</th>\n",
       "      <td>Centro-Oeste</td>\n",
       "      <td>MT</td>\n",
       "      <td>162923</td>\n",
       "      <td>4159</td>\n",
       "    </tr>\n",
       "    <tr>\n",
       "      <th>4</th>\n",
       "      <td>Nordeste</td>\n",
       "      <td>AL</td>\n",
       "      <td>96973</td>\n",
       "      <td>2360</td>\n",
       "    </tr>\n",
       "  </tbody>\n",
       "</table>\n",
       "</div>"
      ],
      "text/plain": [
       "         REGIAO  UF   CASOS  OBITOS\n",
       "0  Centro-Oeste  DF  235480    4011\n",
       "1  Centro-Oeste  GO  287858    6486\n",
       "2  Centro-Oeste  MS  107235    1852\n",
       "3  Centro-Oeste  MT  162923    4159\n",
       "4      Nordeste  AL   96973    2360"
      ]
     },
     "execution_count": 163,
     "metadata": {
      "tags": []
     },
     "output_type": "execute_result"
    }
   ],
   "source": [
    "df.sort_index().head()"
   ]
  },
  {
   "cell_type": "code",
   "execution_count": null,
   "metadata": {
    "colab": {
     "base_uri": "https://localhost:8080/",
     "height": 203
    },
    "executionInfo": {
     "elapsed": 692,
     "status": "ok",
     "timestamp": 1607556063290,
     "user": {
      "displayName": "Orlando O. S.",
      "photoUrl": "https://lh3.googleusercontent.com/a-/AOh14Gj-E1yuy1M_3ruwN4TWYPK4BwysauSW7GQmHheS=s64",
      "userId": "15066502291703974467"
     },
     "user_tz": 180
    },
    "id": "5u5cNgoX0QDX",
    "outputId": "ea0d10ee-0518-4938-8500-ebb68f8b5dea"
   },
   "outputs": [
    {
     "data": {
      "text/html": [
       "<div>\n",
       "<style scoped>\n",
       "    .dataframe tbody tr th:only-of-type {\n",
       "        vertical-align: middle;\n",
       "    }\n",
       "\n",
       "    .dataframe tbody tr th {\n",
       "        vertical-align: top;\n",
       "    }\n",
       "\n",
       "    .dataframe thead th {\n",
       "        text-align: right;\n",
       "    }\n",
       "</style>\n",
       "<table border=\"1\" class=\"dataframe\">\n",
       "  <thead>\n",
       "    <tr style=\"text-align: right;\">\n",
       "      <th></th>\n",
       "      <th>REGIAO</th>\n",
       "      <th>UF</th>\n",
       "      <th>CASOS</th>\n",
       "      <th>OBITOS</th>\n",
       "    </tr>\n",
       "  </thead>\n",
       "  <tbody>\n",
       "    <tr>\n",
       "      <th>26</th>\n",
       "      <td>Sul</td>\n",
       "      <td>SC</td>\n",
       "      <td>406003</td>\n",
       "      <td>4132</td>\n",
       "    </tr>\n",
       "    <tr>\n",
       "      <th>25</th>\n",
       "      <td>Sul</td>\n",
       "      <td>RS</td>\n",
       "      <td>354683</td>\n",
       "      <td>7316</td>\n",
       "    </tr>\n",
       "    <tr>\n",
       "      <th>24</th>\n",
       "      <td>Sul</td>\n",
       "      <td>PR</td>\n",
       "      <td>308811</td>\n",
       "      <td>6539</td>\n",
       "    </tr>\n",
       "    <tr>\n",
       "      <th>23</th>\n",
       "      <td>Sudeste</td>\n",
       "      <td>SP</td>\n",
       "      <td>1296801</td>\n",
       "      <td>43282</td>\n",
       "    </tr>\n",
       "    <tr>\n",
       "      <th>22</th>\n",
       "      <td>Sudeste</td>\n",
       "      <td>RJ</td>\n",
       "      <td>374753</td>\n",
       "      <td>23270</td>\n",
       "    </tr>\n",
       "  </tbody>\n",
       "</table>\n",
       "</div>"
      ],
      "text/plain": [
       "     REGIAO  UF    CASOS  OBITOS\n",
       "26      Sul  SC   406003    4132\n",
       "25      Sul  RS   354683    7316\n",
       "24      Sul  PR   308811    6539\n",
       "23  Sudeste  SP  1296801   43282\n",
       "22  Sudeste  RJ   374753   23270"
      ]
     },
     "execution_count": 164,
     "metadata": {
      "tags": []
     },
     "output_type": "execute_result"
    }
   ],
   "source": [
    "df.sort_index(ascending=False).head()"
   ]
  },
  {
   "cell_type": "code",
   "execution_count": null,
   "metadata": {
    "colab": {
     "base_uri": "https://localhost:8080/",
     "height": 203
    },
    "executionInfo": {
     "elapsed": 747,
     "status": "ok",
     "timestamp": 1607556070250,
     "user": {
      "displayName": "Orlando O. S.",
      "photoUrl": "https://lh3.googleusercontent.com/a-/AOh14Gj-E1yuy1M_3ruwN4TWYPK4BwysauSW7GQmHheS=s64",
      "userId": "15066502291703974467"
     },
     "user_tz": 180
    },
    "id": "OTzi2Rgw0QDX",
    "outputId": "bab410da-8b40-4bc6-9f2e-020fa951bd2b"
   },
   "outputs": [
    {
     "data": {
      "text/html": [
       "<div>\n",
       "<style scoped>\n",
       "    .dataframe tbody tr th:only-of-type {\n",
       "        vertical-align: middle;\n",
       "    }\n",
       "\n",
       "    .dataframe tbody tr th {\n",
       "        vertical-align: top;\n",
       "    }\n",
       "\n",
       "    .dataframe thead th {\n",
       "        text-align: right;\n",
       "    }\n",
       "</style>\n",
       "<table border=\"1\" class=\"dataframe\">\n",
       "  <thead>\n",
       "    <tr style=\"text-align: right;\">\n",
       "      <th></th>\n",
       "      <th>CASOS</th>\n",
       "      <th>OBITOS</th>\n",
       "      <th>REGIAO</th>\n",
       "      <th>UF</th>\n",
       "    </tr>\n",
       "  </thead>\n",
       "  <tbody>\n",
       "    <tr>\n",
       "      <th>20</th>\n",
       "      <td>204292</td>\n",
       "      <td>4455</td>\n",
       "      <td>Sudeste</td>\n",
       "      <td>ES</td>\n",
       "    </tr>\n",
       "    <tr>\n",
       "      <th>26</th>\n",
       "      <td>406003</td>\n",
       "      <td>4132</td>\n",
       "      <td>Sul</td>\n",
       "      <td>SC</td>\n",
       "    </tr>\n",
       "    <tr>\n",
       "      <th>24</th>\n",
       "      <td>308811</td>\n",
       "      <td>6539</td>\n",
       "      <td>Sul</td>\n",
       "      <td>PR</td>\n",
       "    </tr>\n",
       "    <tr>\n",
       "      <th>9</th>\n",
       "      <td>192397</td>\n",
       "      <td>9186</td>\n",
       "      <td>Nordeste</td>\n",
       "      <td>PE</td>\n",
       "    </tr>\n",
       "    <tr>\n",
       "      <th>16</th>\n",
       "      <td>276221</td>\n",
       "      <td>6959</td>\n",
       "      <td>Norte</td>\n",
       "      <td>PA</td>\n",
       "    </tr>\n",
       "  </tbody>\n",
       "</table>\n",
       "</div>"
      ],
      "text/plain": [
       "     CASOS  OBITOS    REGIAO  UF\n",
       "20  204292    4455   Sudeste  ES\n",
       "26  406003    4132       Sul  SC\n",
       "24  308811    6539       Sul  PR\n",
       "9   192397    9186  Nordeste  PE\n",
       "16  276221    6959     Norte  PA"
      ]
     },
     "execution_count": 165,
     "metadata": {
      "tags": []
     },
     "output_type": "execute_result"
    }
   ],
   "source": [
    "df.sort_index(axis=1).head()"
   ]
  },
  {
   "cell_type": "markdown",
   "metadata": {
    "id": "mFkgsLfu0QDX"
   },
   "source": [
    "## Ordenando Series Por índice"
   ]
  },
  {
   "cell_type": "code",
   "execution_count": null,
   "metadata": {
    "colab": {
     "base_uri": "https://localhost:8080/"
    },
    "executionInfo": {
     "elapsed": 643,
     "status": "ok",
     "timestamp": 1607556118778,
     "user": {
      "displayName": "Orlando O. S.",
      "photoUrl": "https://lh3.googleusercontent.com/a-/AOh14Gj-E1yuy1M_3ruwN4TWYPK4BwysauSW7GQmHheS=s64",
      "userId": "15066502291703974467"
     },
     "user_tz": 180
    },
    "id": "lutYPZBw0QDX",
    "outputId": "6c76dfe1-ac36-4120-ac0e-060865823948"
   },
   "outputs": [
    {
     "data": {
      "text/plain": [
       "0    DF\n",
       "1    GO\n",
       "2    MS\n",
       "3    MT\n",
       "4    AL\n",
       "Name: UF, dtype: object"
      ]
     },
     "execution_count": 166,
     "metadata": {
      "tags": []
     },
     "output_type": "execute_result"
    }
   ],
   "source": [
    "df['UF'].sort_index().head()"
   ]
  },
  {
   "cell_type": "markdown",
   "metadata": {
    "id": "p4nbJZy_0QDX"
   },
   "source": [
    "A classificação por índice também oferece suporte a um parâmetro key  que usa uma função que pode ser chamada para ser aplicada ao índice que está sendo classificado. "
   ]
  },
  {
   "cell_type": "code",
   "execution_count": null,
   "metadata": {
    "colab": {
     "base_uri": "https://localhost:8080/",
     "height": 203
    },
    "executionInfo": {
     "elapsed": 789,
     "status": "ok",
     "timestamp": 1607556206929,
     "user": {
      "displayName": "Orlando O. S.",
      "photoUrl": "https://lh3.googleusercontent.com/a-/AOh14Gj-E1yuy1M_3ruwN4TWYPK4BwysauSW7GQmHheS=s64",
      "userId": "15066502291703974467"
     },
     "user_tz": 180
    },
    "id": "6W3wea_w0NoZ",
    "outputId": "81972116-0f19-44b7-ea89-84e14f57bfcd"
   },
   "outputs": [
    {
     "data": {
      "text/html": [
       "<div>\n",
       "<style scoped>\n",
       "    .dataframe tbody tr th:only-of-type {\n",
       "        vertical-align: middle;\n",
       "    }\n",
       "\n",
       "    .dataframe tbody tr th {\n",
       "        vertical-align: top;\n",
       "    }\n",
       "\n",
       "    .dataframe thead th {\n",
       "        text-align: right;\n",
       "    }\n",
       "</style>\n",
       "<table border=\"1\" class=\"dataframe\">\n",
       "  <thead>\n",
       "    <tr style=\"text-align: right;\">\n",
       "      <th></th>\n",
       "      <th>REGIAO</th>\n",
       "      <th>UF</th>\n",
       "      <th>CASOS</th>\n",
       "      <th>OBITOS</th>\n",
       "    </tr>\n",
       "  </thead>\n",
       "  <tbody>\n",
       "    <tr>\n",
       "      <th>20</th>\n",
       "      <td>Sudeste</td>\n",
       "      <td>ES</td>\n",
       "      <td>204292</td>\n",
       "      <td>4455</td>\n",
       "    </tr>\n",
       "    <tr>\n",
       "      <th>26</th>\n",
       "      <td>Sul</td>\n",
       "      <td>SC</td>\n",
       "      <td>406003</td>\n",
       "      <td>4132</td>\n",
       "    </tr>\n",
       "    <tr>\n",
       "      <th>24</th>\n",
       "      <td>Sul</td>\n",
       "      <td>PR</td>\n",
       "      <td>308811</td>\n",
       "      <td>6539</td>\n",
       "    </tr>\n",
       "    <tr>\n",
       "      <th>9</th>\n",
       "      <td>Nordeste</td>\n",
       "      <td>PE</td>\n",
       "      <td>192397</td>\n",
       "      <td>9186</td>\n",
       "    </tr>\n",
       "    <tr>\n",
       "      <th>16</th>\n",
       "      <td>Norte</td>\n",
       "      <td>PA</td>\n",
       "      <td>276221</td>\n",
       "      <td>6959</td>\n",
       "    </tr>\n",
       "  </tbody>\n",
       "</table>\n",
       "</div>"
      ],
      "text/plain": [
       "      REGIAO  UF   CASOS  OBITOS\n",
       "20   Sudeste  ES  204292    4455\n",
       "26       Sul  SC  406003    4132\n",
       "24       Sul  PR  308811    6539\n",
       "9   Nordeste  PE  192397    9186\n",
       "16     Norte  PA  276221    6959"
      ]
     },
     "execution_count": 167,
     "metadata": {
      "tags": []
     },
     "output_type": "execute_result"
    }
   ],
   "source": [
    "df.head()"
   ]
  },
  {
   "cell_type": "code",
   "execution_count": null,
   "metadata": {
    "colab": {
     "base_uri": "https://localhost:8080/",
     "height": 911
    },
    "executionInfo": {
     "elapsed": 832,
     "status": "ok",
     "timestamp": 1607556223427,
     "user": {
      "displayName": "Orlando O. S.",
      "photoUrl": "https://lh3.googleusercontent.com/a-/AOh14Gj-E1yuy1M_3ruwN4TWYPK4BwysauSW7GQmHheS=s64",
      "userId": "15066502291703974467"
     },
     "user_tz": 180
    },
    "id": "p053E_C40TlM",
    "outputId": "243cec85-eb15-468a-8611-ad27fe696d17"
   },
   "outputs": [
    {
     "data": {
      "text/html": [
       "<div>\n",
       "<style scoped>\n",
       "    .dataframe tbody tr th:only-of-type {\n",
       "        vertical-align: middle;\n",
       "    }\n",
       "\n",
       "    .dataframe tbody tr th {\n",
       "        vertical-align: top;\n",
       "    }\n",
       "\n",
       "    .dataframe thead th {\n",
       "        text-align: right;\n",
       "    }\n",
       "</style>\n",
       "<table border=\"1\" class=\"dataframe\">\n",
       "  <thead>\n",
       "    <tr style=\"text-align: right;\">\n",
       "      <th></th>\n",
       "      <th>REGIAO</th>\n",
       "      <th>CASOS</th>\n",
       "      <th>OBITOS</th>\n",
       "    </tr>\n",
       "    <tr>\n",
       "      <th>UF</th>\n",
       "      <th></th>\n",
       "      <th></th>\n",
       "      <th></th>\n",
       "    </tr>\n",
       "  </thead>\n",
       "  <tbody>\n",
       "    <tr>\n",
       "      <th>ES</th>\n",
       "      <td>Sudeste</td>\n",
       "      <td>204292</td>\n",
       "      <td>4455</td>\n",
       "    </tr>\n",
       "    <tr>\n",
       "      <th>SC</th>\n",
       "      <td>Sul</td>\n",
       "      <td>406003</td>\n",
       "      <td>4132</td>\n",
       "    </tr>\n",
       "    <tr>\n",
       "      <th>PR</th>\n",
       "      <td>Sul</td>\n",
       "      <td>308811</td>\n",
       "      <td>6539</td>\n",
       "    </tr>\n",
       "    <tr>\n",
       "      <th>PE</th>\n",
       "      <td>Nordeste</td>\n",
       "      <td>192397</td>\n",
       "      <td>9186</td>\n",
       "    </tr>\n",
       "    <tr>\n",
       "      <th>PA</th>\n",
       "      <td>Norte</td>\n",
       "      <td>276221</td>\n",
       "      <td>6959</td>\n",
       "    </tr>\n",
       "    <tr>\n",
       "      <th>RR</th>\n",
       "      <td>Norte</td>\n",
       "      <td>65084</td>\n",
       "      <td>744</td>\n",
       "    </tr>\n",
       "    <tr>\n",
       "      <th>CE</th>\n",
       "      <td>Nordeste</td>\n",
       "      <td>309168</td>\n",
       "      <td>9738</td>\n",
       "    </tr>\n",
       "    <tr>\n",
       "      <th>MS</th>\n",
       "      <td>Centro-Oeste</td>\n",
       "      <td>107235</td>\n",
       "      <td>1852</td>\n",
       "    </tr>\n",
       "    <tr>\n",
       "      <th>SE</th>\n",
       "      <td>Nordeste</td>\n",
       "      <td>95493</td>\n",
       "      <td>2341</td>\n",
       "    </tr>\n",
       "    <tr>\n",
       "      <th>PB</th>\n",
       "      <td>Nordeste</td>\n",
       "      <td>150575</td>\n",
       "      <td>3380</td>\n",
       "    </tr>\n",
       "    <tr>\n",
       "      <th>RJ</th>\n",
       "      <td>Sudeste</td>\n",
       "      <td>374753</td>\n",
       "      <td>23270</td>\n",
       "    </tr>\n",
       "    <tr>\n",
       "      <th>RN</th>\n",
       "      <td>Nordeste</td>\n",
       "      <td>98831</td>\n",
       "      <td>2753</td>\n",
       "    </tr>\n",
       "    <tr>\n",
       "      <th>PI</th>\n",
       "      <td>Nordeste</td>\n",
       "      <td>132095</td>\n",
       "      <td>2691</td>\n",
       "    </tr>\n",
       "    <tr>\n",
       "      <th>SP</th>\n",
       "      <td>Sudeste</td>\n",
       "      <td>1296801</td>\n",
       "      <td>43282</td>\n",
       "    </tr>\n",
       "    <tr>\n",
       "      <th>RO</th>\n",
       "      <td>Norte</td>\n",
       "      <td>83959</td>\n",
       "      <td>1610</td>\n",
       "    </tr>\n",
       "    <tr>\n",
       "      <th>TO</th>\n",
       "      <td>Norte</td>\n",
       "      <td>83948</td>\n",
       "      <td>1187</td>\n",
       "    </tr>\n",
       "    <tr>\n",
       "      <th>DF</th>\n",
       "      <td>Centro-Oeste</td>\n",
       "      <td>235480</td>\n",
       "      <td>4011</td>\n",
       "    </tr>\n",
       "    <tr>\n",
       "      <th>AM</th>\n",
       "      <td>Norte</td>\n",
       "      <td>183830</td>\n",
       "      <td>4969</td>\n",
       "    </tr>\n",
       "    <tr>\n",
       "      <th>AC</th>\n",
       "      <td>Norte</td>\n",
       "      <td>37556</td>\n",
       "      <td>737</td>\n",
       "    </tr>\n",
       "    <tr>\n",
       "      <th>BA</th>\n",
       "      <td>Nordeste</td>\n",
       "      <td>428034</td>\n",
       "      <td>8474</td>\n",
       "    </tr>\n",
       "    <tr>\n",
       "      <th>MA</th>\n",
       "      <td>Nordeste</td>\n",
       "      <td>195589</td>\n",
       "      <td>4349</td>\n",
       "    </tr>\n",
       "    <tr>\n",
       "      <th>GO</th>\n",
       "      <td>Centro-Oeste</td>\n",
       "      <td>287858</td>\n",
       "      <td>6486</td>\n",
       "    </tr>\n",
       "    <tr>\n",
       "      <th>MG</th>\n",
       "      <td>Sudeste</td>\n",
       "      <td>444800</td>\n",
       "      <td>10345</td>\n",
       "    </tr>\n",
       "    <tr>\n",
       "      <th>MT</th>\n",
       "      <td>Centro-Oeste</td>\n",
       "      <td>162923</td>\n",
       "      <td>4159</td>\n",
       "    </tr>\n",
       "    <tr>\n",
       "      <th>RS</th>\n",
       "      <td>Sul</td>\n",
       "      <td>354683</td>\n",
       "      <td>7316</td>\n",
       "    </tr>\n",
       "    <tr>\n",
       "      <th>AP</th>\n",
       "      <td>Norte</td>\n",
       "      <td>61607</td>\n",
       "      <td>834</td>\n",
       "    </tr>\n",
       "    <tr>\n",
       "      <th>AL</th>\n",
       "      <td>Nordeste</td>\n",
       "      <td>96973</td>\n",
       "      <td>2360</td>\n",
       "    </tr>\n",
       "  </tbody>\n",
       "</table>\n",
       "</div>"
      ],
      "text/plain": [
       "          REGIAO    CASOS  OBITOS\n",
       "UF                               \n",
       "ES       Sudeste   204292    4455\n",
       "SC           Sul   406003    4132\n",
       "PR           Sul   308811    6539\n",
       "PE      Nordeste   192397    9186\n",
       "PA         Norte   276221    6959\n",
       "RR         Norte    65084     744\n",
       "CE      Nordeste   309168    9738\n",
       "MS  Centro-Oeste   107235    1852\n",
       "SE      Nordeste    95493    2341\n",
       "PB      Nordeste   150575    3380\n",
       "RJ       Sudeste   374753   23270\n",
       "RN      Nordeste    98831    2753\n",
       "PI      Nordeste   132095    2691\n",
       "SP       Sudeste  1296801   43282\n",
       "RO         Norte    83959    1610\n",
       "TO         Norte    83948    1187\n",
       "DF  Centro-Oeste   235480    4011\n",
       "AM         Norte   183830    4969\n",
       "AC         Norte    37556     737\n",
       "BA      Nordeste   428034    8474\n",
       "MA      Nordeste   195589    4349\n",
       "GO  Centro-Oeste   287858    6486\n",
       "MG       Sudeste   444800   10345\n",
       "MT  Centro-Oeste   162923    4159\n",
       "RS           Sul   354683    7316\n",
       "AP         Norte    61607     834\n",
       "AL      Nordeste    96973    2360"
      ]
     },
     "execution_count": 168,
     "metadata": {
      "tags": []
     },
     "output_type": "execute_result"
    }
   ],
   "source": [
    "df.set_index('UF')"
   ]
  },
  {
   "cell_type": "code",
   "execution_count": null,
   "metadata": {
    "colab": {
     "base_uri": "https://localhost:8080/",
     "height": 387
    },
    "executionInfo": {
     "elapsed": 782,
     "status": "ok",
     "timestamp": 1607556644793,
     "user": {
      "displayName": "Orlando O. S.",
      "photoUrl": "https://lh3.googleusercontent.com/a-/AOh14Gj-E1yuy1M_3ruwN4TWYPK4BwysauSW7GQmHheS=s64",
      "userId": "15066502291703974467"
     },
     "user_tz": 180
    },
    "id": "-2xkoPDE0QDX",
    "outputId": "2383ff01-5ca7-4476-a717-bc50587c205d"
   },
   "outputs": [
    {
     "data": {
      "text/html": [
       "<div>\n",
       "<style scoped>\n",
       "    .dataframe tbody tr th:only-of-type {\n",
       "        vertical-align: middle;\n",
       "    }\n",
       "\n",
       "    .dataframe tbody tr th {\n",
       "        vertical-align: top;\n",
       "    }\n",
       "\n",
       "    .dataframe thead th {\n",
       "        text-align: right;\n",
       "    }\n",
       "</style>\n",
       "<table border=\"1\" class=\"dataframe\">\n",
       "  <thead>\n",
       "    <tr style=\"text-align: right;\">\n",
       "      <th></th>\n",
       "      <th>REGIAO</th>\n",
       "      <th>CASOS</th>\n",
       "      <th>OBITOS</th>\n",
       "    </tr>\n",
       "    <tr>\n",
       "      <th>UF</th>\n",
       "      <th></th>\n",
       "      <th></th>\n",
       "      <th></th>\n",
       "    </tr>\n",
       "  </thead>\n",
       "  <tbody>\n",
       "    <tr>\n",
       "      <th>BA</th>\n",
       "      <td>Nordeste</td>\n",
       "      <td>428034</td>\n",
       "      <td>8474</td>\n",
       "    </tr>\n",
       "    <tr>\n",
       "      <th>MA</th>\n",
       "      <td>Nordeste</td>\n",
       "      <td>195589</td>\n",
       "      <td>4349</td>\n",
       "    </tr>\n",
       "    <tr>\n",
       "      <th>PA</th>\n",
       "      <td>Norte</td>\n",
       "      <td>276221</td>\n",
       "      <td>6959</td>\n",
       "    </tr>\n",
       "    <tr>\n",
       "      <th>PB</th>\n",
       "      <td>Nordeste</td>\n",
       "      <td>150575</td>\n",
       "      <td>3380</td>\n",
       "    </tr>\n",
       "    <tr>\n",
       "      <th>AC</th>\n",
       "      <td>Norte</td>\n",
       "      <td>37556</td>\n",
       "      <td>737</td>\n",
       "    </tr>\n",
       "    <tr>\n",
       "      <th>SC</th>\n",
       "      <td>Sul</td>\n",
       "      <td>406003</td>\n",
       "      <td>4132</td>\n",
       "    </tr>\n",
       "    <tr>\n",
       "      <th>CE</th>\n",
       "      <td>Nordeste</td>\n",
       "      <td>309168</td>\n",
       "      <td>9738</td>\n",
       "    </tr>\n",
       "    <tr>\n",
       "      <th>SE</th>\n",
       "      <td>Nordeste</td>\n",
       "      <td>95493</td>\n",
       "      <td>2341</td>\n",
       "    </tr>\n",
       "    <tr>\n",
       "      <th>PE</th>\n",
       "      <td>Nordeste</td>\n",
       "      <td>192397</td>\n",
       "      <td>9186</td>\n",
       "    </tr>\n",
       "    <tr>\n",
       "      <th>DF</th>\n",
       "      <td>Centro-Oeste</td>\n",
       "      <td>235480</td>\n",
       "      <td>4011</td>\n",
       "    </tr>\n",
       "  </tbody>\n",
       "</table>\n",
       "</div>"
      ],
      "text/plain": [
       "          REGIAO   CASOS  OBITOS\n",
       "UF                              \n",
       "BA      Nordeste  428034    8474\n",
       "MA      Nordeste  195589    4349\n",
       "PA         Norte  276221    6959\n",
       "PB      Nordeste  150575    3380\n",
       "AC         Norte   37556     737\n",
       "SC           Sul  406003    4132\n",
       "CE      Nordeste  309168    9738\n",
       "SE      Nordeste   95493    2341\n",
       "PE      Nordeste  192397    9186\n",
       "DF  Centro-Oeste  235480    4011"
      ]
     },
     "execution_count": 182,
     "metadata": {
      "tags": []
     },
     "output_type": "execute_result"
    }
   ],
   "source": [
    "df.set_index('UF').sort_index(key=lambda idx: [x[1] for x in  idx]).head(10)"
   ]
  },
  {
   "cell_type": "markdown",
   "metadata": {
    "id": "nHSJg2XT0QDX"
   },
   "source": [
    "### Ordenando DataFrames Por valores \n",
    "\n",
    "O método Series.sort_values() é usado para classificar uma série por seus valores. \n",
    "\n",
    "O método DataFrame.sort_values() é usado para classificar um DataFrame por seus valores de coluna ou linha. \n",
    "\n",
    "\n",
    "O parâmetro opcional by para DataFrame.sort_values()pode ser usado para especificar uma ou mais colunas a serem usadas para determinar a ordem de classificação."
   ]
  },
  {
   "cell_type": "code",
   "execution_count": null,
   "metadata": {
    "colab": {
     "base_uri": "https://localhost:8080/",
     "height": 203
    },
    "executionInfo": {
     "elapsed": 746,
     "status": "ok",
     "timestamp": 1607556691596,
     "user": {
      "displayName": "Orlando O. S.",
      "photoUrl": "https://lh3.googleusercontent.com/a-/AOh14Gj-E1yuy1M_3ruwN4TWYPK4BwysauSW7GQmHheS=s64",
      "userId": "15066502291703974467"
     },
     "user_tz": 180
    },
    "id": "qlmG5awI0QDX",
    "outputId": "25dd2d53-4866-4431-c7d1-46800254b5d3"
   },
   "outputs": [
    {
     "data": {
      "text/html": [
       "<div>\n",
       "<style scoped>\n",
       "    .dataframe tbody tr th:only-of-type {\n",
       "        vertical-align: middle;\n",
       "    }\n",
       "\n",
       "    .dataframe tbody tr th {\n",
       "        vertical-align: top;\n",
       "    }\n",
       "\n",
       "    .dataframe thead th {\n",
       "        text-align: right;\n",
       "    }\n",
       "</style>\n",
       "<table border=\"1\" class=\"dataframe\">\n",
       "  <thead>\n",
       "    <tr style=\"text-align: right;\">\n",
       "      <th></th>\n",
       "      <th>REGIAO</th>\n",
       "      <th>UF</th>\n",
       "      <th>CASOS</th>\n",
       "      <th>OBITOS</th>\n",
       "    </tr>\n",
       "  </thead>\n",
       "  <tbody>\n",
       "    <tr>\n",
       "      <th>13</th>\n",
       "      <td>Norte</td>\n",
       "      <td>AC</td>\n",
       "      <td>37556</td>\n",
       "      <td>737</td>\n",
       "    </tr>\n",
       "    <tr>\n",
       "      <th>4</th>\n",
       "      <td>Nordeste</td>\n",
       "      <td>AL</td>\n",
       "      <td>96973</td>\n",
       "      <td>2360</td>\n",
       "    </tr>\n",
       "    <tr>\n",
       "      <th>14</th>\n",
       "      <td>Norte</td>\n",
       "      <td>AM</td>\n",
       "      <td>183830</td>\n",
       "      <td>4969</td>\n",
       "    </tr>\n",
       "    <tr>\n",
       "      <th>15</th>\n",
       "      <td>Norte</td>\n",
       "      <td>AP</td>\n",
       "      <td>61607</td>\n",
       "      <td>834</td>\n",
       "    </tr>\n",
       "    <tr>\n",
       "      <th>5</th>\n",
       "      <td>Nordeste</td>\n",
       "      <td>BA</td>\n",
       "      <td>428034</td>\n",
       "      <td>8474</td>\n",
       "    </tr>\n",
       "  </tbody>\n",
       "</table>\n",
       "</div>"
      ],
      "text/plain": [
       "      REGIAO  UF   CASOS  OBITOS\n",
       "13     Norte  AC   37556     737\n",
       "4   Nordeste  AL   96973    2360\n",
       "14     Norte  AM  183830    4969\n",
       "15     Norte  AP   61607     834\n",
       "5   Nordeste  BA  428034    8474"
      ]
     },
     "execution_count": 183,
     "metadata": {
      "tags": []
     },
     "output_type": "execute_result"
    }
   ],
   "source": [
    "df.sort_values(by='UF').head()"
   ]
  },
  {
   "cell_type": "markdown",
   "metadata": {
    "id": "OQ_hhisl0QDX"
   },
   "source": [
    "O byparâmetro pode levar uma lista de nomes de coluna, por exemplo:"
   ]
  },
  {
   "cell_type": "code",
   "execution_count": null,
   "metadata": {
    "colab": {
     "base_uri": "https://localhost:8080/",
     "height": 203
    },
    "executionInfo": {
     "elapsed": 696,
     "status": "ok",
     "timestamp": 1607556700036,
     "user": {
      "displayName": "Orlando O. S.",
      "photoUrl": "https://lh3.googleusercontent.com/a-/AOh14Gj-E1yuy1M_3ruwN4TWYPK4BwysauSW7GQmHheS=s64",
      "userId": "15066502291703974467"
     },
     "user_tz": 180
    },
    "id": "xh5JBCsP0QDX",
    "outputId": "1324bace-b99d-4063-d69e-0fe4d5fd7338"
   },
   "outputs": [
    {
     "data": {
      "text/html": [
       "<div>\n",
       "<style scoped>\n",
       "    .dataframe tbody tr th:only-of-type {\n",
       "        vertical-align: middle;\n",
       "    }\n",
       "\n",
       "    .dataframe tbody tr th {\n",
       "        vertical-align: top;\n",
       "    }\n",
       "\n",
       "    .dataframe thead th {\n",
       "        text-align: right;\n",
       "    }\n",
       "</style>\n",
       "<table border=\"1\" class=\"dataframe\">\n",
       "  <thead>\n",
       "    <tr style=\"text-align: right;\">\n",
       "      <th></th>\n",
       "      <th>REGIAO</th>\n",
       "      <th>UF</th>\n",
       "      <th>CASOS</th>\n",
       "      <th>OBITOS</th>\n",
       "    </tr>\n",
       "  </thead>\n",
       "  <tbody>\n",
       "    <tr>\n",
       "      <th>0</th>\n",
       "      <td>Centro-Oeste</td>\n",
       "      <td>DF</td>\n",
       "      <td>235480</td>\n",
       "      <td>4011</td>\n",
       "    </tr>\n",
       "    <tr>\n",
       "      <th>1</th>\n",
       "      <td>Centro-Oeste</td>\n",
       "      <td>GO</td>\n",
       "      <td>287858</td>\n",
       "      <td>6486</td>\n",
       "    </tr>\n",
       "    <tr>\n",
       "      <th>2</th>\n",
       "      <td>Centro-Oeste</td>\n",
       "      <td>MS</td>\n",
       "      <td>107235</td>\n",
       "      <td>1852</td>\n",
       "    </tr>\n",
       "    <tr>\n",
       "      <th>3</th>\n",
       "      <td>Centro-Oeste</td>\n",
       "      <td>MT</td>\n",
       "      <td>162923</td>\n",
       "      <td>4159</td>\n",
       "    </tr>\n",
       "    <tr>\n",
       "      <th>4</th>\n",
       "      <td>Nordeste</td>\n",
       "      <td>AL</td>\n",
       "      <td>96973</td>\n",
       "      <td>2360</td>\n",
       "    </tr>\n",
       "  </tbody>\n",
       "</table>\n",
       "</div>"
      ],
      "text/plain": [
       "         REGIAO  UF   CASOS  OBITOS\n",
       "0  Centro-Oeste  DF  235480    4011\n",
       "1  Centro-Oeste  GO  287858    6486\n",
       "2  Centro-Oeste  MS  107235    1852\n",
       "3  Centro-Oeste  MT  162923    4159\n",
       "4      Nordeste  AL   96973    2360"
      ]
     },
     "execution_count": 184,
     "metadata": {
      "tags": []
     },
     "output_type": "execute_result"
    }
   ],
   "source": [
    "df.sort_values(by=['REGIAO','UF']).head()"
   ]
  },
  {
   "cell_type": "markdown",
   "metadata": {
    "id": "Hw5Gm3B40QDX"
   },
   "source": [
    "Esses métodos têm tratamento especial de valores NA por meio do na_position argumento:"
   ]
  },
  {
   "cell_type": "code",
   "execution_count": null,
   "metadata": {
    "colab": {
     "base_uri": "https://localhost:8080/",
     "height": 203
    },
    "executionInfo": {
     "elapsed": 733,
     "status": "ok",
     "timestamp": 1607556725595,
     "user": {
      "displayName": "Orlando O. S.",
      "photoUrl": "https://lh3.googleusercontent.com/a-/AOh14Gj-E1yuy1M_3ruwN4TWYPK4BwysauSW7GQmHheS=s64",
      "userId": "15066502291703974467"
     },
     "user_tz": 180
    },
    "id": "5KJbAZr2kDW2",
    "outputId": "897b1f37-81bd-4101-d9a4-ac5f36c8f0e5"
   },
   "outputs": [
    {
     "data": {
      "text/html": [
       "<div>\n",
       "<style scoped>\n",
       "    .dataframe tbody tr th:only-of-type {\n",
       "        vertical-align: middle;\n",
       "    }\n",
       "\n",
       "    .dataframe tbody tr th {\n",
       "        vertical-align: top;\n",
       "    }\n",
       "\n",
       "    .dataframe thead th {\n",
       "        text-align: right;\n",
       "    }\n",
       "</style>\n",
       "<table border=\"1\" class=\"dataframe\">\n",
       "  <thead>\n",
       "    <tr style=\"text-align: right;\">\n",
       "      <th></th>\n",
       "      <th>REGIAO</th>\n",
       "      <th>UF</th>\n",
       "      <th>CASOS</th>\n",
       "      <th>OBITOS</th>\n",
       "    </tr>\n",
       "  </thead>\n",
       "  <tbody>\n",
       "    <tr>\n",
       "      <th>0</th>\n",
       "      <td>Centro-Oeste</td>\n",
       "      <td>DF</td>\n",
       "      <td>235480</td>\n",
       "      <td>4011</td>\n",
       "    </tr>\n",
       "    <tr>\n",
       "      <th>1</th>\n",
       "      <td>Centro-Oeste</td>\n",
       "      <td>GO</td>\n",
       "      <td>287858</td>\n",
       "      <td>6486</td>\n",
       "    </tr>\n",
       "    <tr>\n",
       "      <th>2</th>\n",
       "      <td>Centro-Oeste</td>\n",
       "      <td>MS</td>\n",
       "      <td>107235</td>\n",
       "      <td>1852</td>\n",
       "    </tr>\n",
       "    <tr>\n",
       "      <th>3</th>\n",
       "      <td>Centro-Oeste</td>\n",
       "      <td>MT</td>\n",
       "      <td>162923</td>\n",
       "      <td>4159</td>\n",
       "    </tr>\n",
       "    <tr>\n",
       "      <th>4</th>\n",
       "      <td>Nordeste</td>\n",
       "      <td>AL</td>\n",
       "      <td>96973</td>\n",
       "      <td>2360</td>\n",
       "    </tr>\n",
       "  </tbody>\n",
       "</table>\n",
       "</div>"
      ],
      "text/plain": [
       "         REGIAO  UF   CASOS  OBITOS\n",
       "0  Centro-Oeste  DF  235480    4011\n",
       "1  Centro-Oeste  GO  287858    6486\n",
       "2  Centro-Oeste  MS  107235    1852\n",
       "3  Centro-Oeste  MT  162923    4159\n",
       "4      Nordeste  AL   96973    2360"
      ]
     },
     "execution_count": 185,
     "metadata": {
      "tags": []
     },
     "output_type": "execute_result"
    }
   ],
   "source": [
    "import pandas as pd\n",
    "df = pd.read_csv('/content/totaisestadoscomregiao_arr.csv', sep=';',names =['REGIAO', 'UF', 'CASOS','OBITOS'], index_col=False)\n",
    "df.head()"
   ]
  },
  {
   "cell_type": "code",
   "execution_count": null,
   "metadata": {
    "id": "yUxh-Jvu0QDX"
   },
   "outputs": [],
   "source": [
    "df.loc[ 20 , ['OBITOS']] = np.nan\n",
    "df.loc[ 26 , ['OBITOS']] = np.nan"
   ]
  },
  {
   "cell_type": "code",
   "execution_count": null,
   "metadata": {
    "colab": {
     "base_uri": "https://localhost:8080/",
     "height": 203
    },
    "executionInfo": {
     "elapsed": 738,
     "status": "ok",
     "timestamp": 1607556761562,
     "user": {
      "displayName": "Orlando O. S.",
      "photoUrl": "https://lh3.googleusercontent.com/a-/AOh14Gj-E1yuy1M_3ruwN4TWYPK4BwysauSW7GQmHheS=s64",
      "userId": "15066502291703974467"
     },
     "user_tz": 180
    },
    "id": "PTH1mwev0QDX",
    "outputId": "462b7608-1d99-4899-fc11-e465c5fccb58"
   },
   "outputs": [
    {
     "data": {
      "text/html": [
       "<div>\n",
       "<style scoped>\n",
       "    .dataframe tbody tr th:only-of-type {\n",
       "        vertical-align: middle;\n",
       "    }\n",
       "\n",
       "    .dataframe tbody tr th {\n",
       "        vertical-align: top;\n",
       "    }\n",
       "\n",
       "    .dataframe thead th {\n",
       "        text-align: right;\n",
       "    }\n",
       "</style>\n",
       "<table border=\"1\" class=\"dataframe\">\n",
       "  <thead>\n",
       "    <tr style=\"text-align: right;\">\n",
       "      <th></th>\n",
       "      <th>REGIAO</th>\n",
       "      <th>UF</th>\n",
       "      <th>CASOS</th>\n",
       "      <th>OBITOS</th>\n",
       "    </tr>\n",
       "  </thead>\n",
       "  <tbody>\n",
       "    <tr>\n",
       "      <th>20</th>\n",
       "      <td>Sudeste</td>\n",
       "      <td>ES</td>\n",
       "      <td>204292</td>\n",
       "      <td>NaN</td>\n",
       "    </tr>\n",
       "    <tr>\n",
       "      <th>26</th>\n",
       "      <td>Sul</td>\n",
       "      <td>SC</td>\n",
       "      <td>406003</td>\n",
       "      <td>NaN</td>\n",
       "    </tr>\n",
       "    <tr>\n",
       "      <th>13</th>\n",
       "      <td>Norte</td>\n",
       "      <td>AC</td>\n",
       "      <td>37556</td>\n",
       "      <td>737.0</td>\n",
       "    </tr>\n",
       "    <tr>\n",
       "      <th>18</th>\n",
       "      <td>Norte</td>\n",
       "      <td>RR</td>\n",
       "      <td>65084</td>\n",
       "      <td>744.0</td>\n",
       "    </tr>\n",
       "    <tr>\n",
       "      <th>15</th>\n",
       "      <td>Norte</td>\n",
       "      <td>AP</td>\n",
       "      <td>61607</td>\n",
       "      <td>834.0</td>\n",
       "    </tr>\n",
       "  </tbody>\n",
       "</table>\n",
       "</div>"
      ],
      "text/plain": [
       "     REGIAO  UF   CASOS  OBITOS\n",
       "20  Sudeste  ES  204292     NaN\n",
       "26      Sul  SC  406003     NaN\n",
       "13    Norte  AC   37556   737.0\n",
       "18    Norte  RR   65084   744.0\n",
       "15    Norte  AP   61607   834.0"
      ]
     },
     "execution_count": 187,
     "metadata": {
      "tags": []
     },
     "output_type": "execute_result"
    }
   ],
   "source": [
    "df.sort_values(by='OBITOS', na_position='first').head()"
   ]
  },
  {
   "cell_type": "markdown",
   "metadata": {
    "id": "P6ZCjnoD0QDX"
   },
   "source": [
    "A classificação também oferece suporte a um parâmetro key   que usa uma função chamável para aplicar aos valores que estão sendo classificados."
   ]
  },
  {
   "cell_type": "code",
   "execution_count": null,
   "metadata": {
    "colab": {
     "base_uri": "https://localhost:8080/"
    },
    "executionInfo": {
     "elapsed": 680,
     "status": "ok",
     "timestamp": 1607556783701,
     "user": {
      "displayName": "Orlando O. S.",
      "photoUrl": "https://lh3.googleusercontent.com/a-/AOh14Gj-E1yuy1M_3ruwN4TWYPK4BwysauSW7GQmHheS=s64",
      "userId": "15066502291703974467"
     },
     "user_tz": 180
    },
    "id": "QHvwkQdW0QDX",
    "outputId": "39ac1262-1b89-4b53-e889-9cc7ef739bdc"
   },
   "outputs": [
    {
     "data": {
      "text/plain": [
       "23    1296801\n",
       "26     406003\n",
       "21     444800\n",
       "5      428034\n",
       "24     308811\n",
       "22     374753\n",
       "6      309168\n",
       "25     354683\n",
       "16     276221\n",
       "1      287858\n",
       "0      235480\n",
       "20     204292\n",
       "14     183830\n",
       "10     132095\n",
       "9      192397\n",
       "8      150575\n",
       "7      195589\n",
       "3      162923\n",
       "2      107235\n",
       "15      61607\n",
       "17      83959\n",
       "12      95493\n",
       "11      98831\n",
       "18      65084\n",
       "19      83948\n",
       "4       96973\n",
       "13      37556\n",
       "Name: CASOS, dtype: int64"
      ]
     },
     "execution_count": 188,
     "metadata": {
      "tags": []
     },
     "output_type": "execute_result"
    }
   ],
   "source": [
    "df['CASOS'].sort_values(key=lambda x: x//100_000, ascending=False)"
   ]
  },
  {
   "cell_type": "markdown",
   "metadata": {
    "id": "b4JX2qhN0QDX"
   },
   "source": [
    "A chave receberá os Series valores de e deve retornar um Series ou array da mesma forma com os valores transformados. Para objetos DataFrame , a chave é aplicada por coluna, então a chave ainda deve esperar uma série e retornar uma série, por exemplo"
   ]
  },
  {
   "cell_type": "code",
   "execution_count": null,
   "metadata": {
    "colab": {
     "base_uri": "https://localhost:8080/",
     "height": 880
    },
    "executionInfo": {
     "elapsed": 685,
     "status": "ok",
     "timestamp": 1607556836610,
     "user": {
      "displayName": "Orlando O. S.",
      "photoUrl": "https://lh3.googleusercontent.com/a-/AOh14Gj-E1yuy1M_3ruwN4TWYPK4BwysauSW7GQmHheS=s64",
      "userId": "15066502291703974467"
     },
     "user_tz": 180
    },
    "id": "MNBXUOMg0QDX",
    "outputId": "ad9f67d5-59d0-482f-a86a-3ce2aaef2a5d"
   },
   "outputs": [
    {
     "data": {
      "text/html": [
       "<div>\n",
       "<style scoped>\n",
       "    .dataframe tbody tr th:only-of-type {\n",
       "        vertical-align: middle;\n",
       "    }\n",
       "\n",
       "    .dataframe tbody tr th {\n",
       "        vertical-align: top;\n",
       "    }\n",
       "\n",
       "    .dataframe thead th {\n",
       "        text-align: right;\n",
       "    }\n",
       "</style>\n",
       "<table border=\"1\" class=\"dataframe\">\n",
       "  <thead>\n",
       "    <tr style=\"text-align: right;\">\n",
       "      <th></th>\n",
       "      <th>REGIAO</th>\n",
       "      <th>UF</th>\n",
       "      <th>CASOS</th>\n",
       "      <th>OBITOS</th>\n",
       "    </tr>\n",
       "  </thead>\n",
       "  <tbody>\n",
       "    <tr>\n",
       "      <th>23</th>\n",
       "      <td>Sudeste</td>\n",
       "      <td>SP</td>\n",
       "      <td>1296801</td>\n",
       "      <td>43282.0</td>\n",
       "    </tr>\n",
       "    <tr>\n",
       "      <th>26</th>\n",
       "      <td>Sul</td>\n",
       "      <td>SC</td>\n",
       "      <td>406003</td>\n",
       "      <td>NaN</td>\n",
       "    </tr>\n",
       "    <tr>\n",
       "      <th>5</th>\n",
       "      <td>Nordeste</td>\n",
       "      <td>BA</td>\n",
       "      <td>428034</td>\n",
       "      <td>8474.0</td>\n",
       "    </tr>\n",
       "    <tr>\n",
       "      <th>21</th>\n",
       "      <td>Sudeste</td>\n",
       "      <td>MG</td>\n",
       "      <td>444800</td>\n",
       "      <td>10345.0</td>\n",
       "    </tr>\n",
       "    <tr>\n",
       "      <th>25</th>\n",
       "      <td>Sul</td>\n",
       "      <td>RS</td>\n",
       "      <td>354683</td>\n",
       "      <td>7316.0</td>\n",
       "    </tr>\n",
       "    <tr>\n",
       "      <th>24</th>\n",
       "      <td>Sul</td>\n",
       "      <td>PR</td>\n",
       "      <td>308811</td>\n",
       "      <td>6539.0</td>\n",
       "    </tr>\n",
       "    <tr>\n",
       "      <th>6</th>\n",
       "      <td>Nordeste</td>\n",
       "      <td>CE</td>\n",
       "      <td>309168</td>\n",
       "      <td>9738.0</td>\n",
       "    </tr>\n",
       "    <tr>\n",
       "      <th>22</th>\n",
       "      <td>Sudeste</td>\n",
       "      <td>RJ</td>\n",
       "      <td>374753</td>\n",
       "      <td>23270.0</td>\n",
       "    </tr>\n",
       "    <tr>\n",
       "      <th>1</th>\n",
       "      <td>Centro-Oeste</td>\n",
       "      <td>GO</td>\n",
       "      <td>287858</td>\n",
       "      <td>6486.0</td>\n",
       "    </tr>\n",
       "    <tr>\n",
       "      <th>20</th>\n",
       "      <td>Sudeste</td>\n",
       "      <td>ES</td>\n",
       "      <td>204292</td>\n",
       "      <td>NaN</td>\n",
       "    </tr>\n",
       "    <tr>\n",
       "      <th>16</th>\n",
       "      <td>Norte</td>\n",
       "      <td>PA</td>\n",
       "      <td>276221</td>\n",
       "      <td>6959.0</td>\n",
       "    </tr>\n",
       "    <tr>\n",
       "      <th>0</th>\n",
       "      <td>Centro-Oeste</td>\n",
       "      <td>DF</td>\n",
       "      <td>235480</td>\n",
       "      <td>4011.0</td>\n",
       "    </tr>\n",
       "    <tr>\n",
       "      <th>14</th>\n",
       "      <td>Norte</td>\n",
       "      <td>AM</td>\n",
       "      <td>183830</td>\n",
       "      <td>4969.0</td>\n",
       "    </tr>\n",
       "    <tr>\n",
       "      <th>10</th>\n",
       "      <td>Nordeste</td>\n",
       "      <td>PI</td>\n",
       "      <td>132095</td>\n",
       "      <td>2691.0</td>\n",
       "    </tr>\n",
       "    <tr>\n",
       "      <th>9</th>\n",
       "      <td>Nordeste</td>\n",
       "      <td>PE</td>\n",
       "      <td>192397</td>\n",
       "      <td>9186.0</td>\n",
       "    </tr>\n",
       "    <tr>\n",
       "      <th>8</th>\n",
       "      <td>Nordeste</td>\n",
       "      <td>PB</td>\n",
       "      <td>150575</td>\n",
       "      <td>3380.0</td>\n",
       "    </tr>\n",
       "    <tr>\n",
       "      <th>7</th>\n",
       "      <td>Nordeste</td>\n",
       "      <td>MA</td>\n",
       "      <td>195589</td>\n",
       "      <td>4349.0</td>\n",
       "    </tr>\n",
       "    <tr>\n",
       "      <th>3</th>\n",
       "      <td>Centro-Oeste</td>\n",
       "      <td>MT</td>\n",
       "      <td>162923</td>\n",
       "      <td>4159.0</td>\n",
       "    </tr>\n",
       "    <tr>\n",
       "      <th>2</th>\n",
       "      <td>Centro-Oeste</td>\n",
       "      <td>MS</td>\n",
       "      <td>107235</td>\n",
       "      <td>1852.0</td>\n",
       "    </tr>\n",
       "    <tr>\n",
       "      <th>12</th>\n",
       "      <td>Nordeste</td>\n",
       "      <td>SE</td>\n",
       "      <td>95493</td>\n",
       "      <td>2341.0</td>\n",
       "    </tr>\n",
       "    <tr>\n",
       "      <th>11</th>\n",
       "      <td>Nordeste</td>\n",
       "      <td>RN</td>\n",
       "      <td>98831</td>\n",
       "      <td>2753.0</td>\n",
       "    </tr>\n",
       "    <tr>\n",
       "      <th>15</th>\n",
       "      <td>Norte</td>\n",
       "      <td>AP</td>\n",
       "      <td>61607</td>\n",
       "      <td>834.0</td>\n",
       "    </tr>\n",
       "    <tr>\n",
       "      <th>17</th>\n",
       "      <td>Norte</td>\n",
       "      <td>RO</td>\n",
       "      <td>83959</td>\n",
       "      <td>1610.0</td>\n",
       "    </tr>\n",
       "    <tr>\n",
       "      <th>18</th>\n",
       "      <td>Norte</td>\n",
       "      <td>RR</td>\n",
       "      <td>65084</td>\n",
       "      <td>744.0</td>\n",
       "    </tr>\n",
       "    <tr>\n",
       "      <th>19</th>\n",
       "      <td>Norte</td>\n",
       "      <td>TO</td>\n",
       "      <td>83948</td>\n",
       "      <td>1187.0</td>\n",
       "    </tr>\n",
       "    <tr>\n",
       "      <th>4</th>\n",
       "      <td>Nordeste</td>\n",
       "      <td>AL</td>\n",
       "      <td>96973</td>\n",
       "      <td>2360.0</td>\n",
       "    </tr>\n",
       "    <tr>\n",
       "      <th>13</th>\n",
       "      <td>Norte</td>\n",
       "      <td>AC</td>\n",
       "      <td>37556</td>\n",
       "      <td>737.0</td>\n",
       "    </tr>\n",
       "  </tbody>\n",
       "</table>\n",
       "</div>"
      ],
      "text/plain": [
       "          REGIAO  UF    CASOS   OBITOS\n",
       "23       Sudeste  SP  1296801  43282.0\n",
       "26           Sul  SC   406003      NaN\n",
       "5       Nordeste  BA   428034   8474.0\n",
       "21       Sudeste  MG   444800  10345.0\n",
       "25           Sul  RS   354683   7316.0\n",
       "24           Sul  PR   308811   6539.0\n",
       "6       Nordeste  CE   309168   9738.0\n",
       "22       Sudeste  RJ   374753  23270.0\n",
       "1   Centro-Oeste  GO   287858   6486.0\n",
       "20       Sudeste  ES   204292      NaN\n",
       "16         Norte  PA   276221   6959.0\n",
       "0   Centro-Oeste  DF   235480   4011.0\n",
       "14         Norte  AM   183830   4969.0\n",
       "10      Nordeste  PI   132095   2691.0\n",
       "9       Nordeste  PE   192397   9186.0\n",
       "8       Nordeste  PB   150575   3380.0\n",
       "7       Nordeste  MA   195589   4349.0\n",
       "3   Centro-Oeste  MT   162923   4159.0\n",
       "2   Centro-Oeste  MS   107235   1852.0\n",
       "12      Nordeste  SE    95493   2341.0\n",
       "11      Nordeste  RN    98831   2753.0\n",
       "15         Norte  AP    61607    834.0\n",
       "17         Norte  RO    83959   1610.0\n",
       "18         Norte  RR    65084    744.0\n",
       "19         Norte  TO    83948   1187.0\n",
       "4       Nordeste  AL    96973   2360.0\n",
       "13         Norte  AC    37556    737.0"
      ]
     },
     "execution_count": 189,
     "metadata": {
      "tags": []
     },
     "output_type": "execute_result"
    }
   ],
   "source": [
    "df.sort_values(by='CASOS',  key=lambda x: x//100_000, ascending=False)"
   ]
  },
  {
   "cell_type": "markdown",
   "metadata": {
    "id": "YQSSQWaH0QDX"
   },
   "source": [
    "## menor / maior valor \n",
    "Series tem os métodos nsmallest() e nlargest() que retornam o menor ou o maior nvalores."
   ]
  },
  {
   "cell_type": "code",
   "execution_count": null,
   "metadata": {
    "colab": {
     "base_uri": "https://localhost:8080/"
    },
    "executionInfo": {
     "elapsed": 666,
     "status": "ok",
     "timestamp": 1607556909117,
     "user": {
      "displayName": "Orlando O. S.",
      "photoUrl": "https://lh3.googleusercontent.com/a-/AOh14Gj-E1yuy1M_3ruwN4TWYPK4BwysauSW7GQmHheS=s64",
      "userId": "15066502291703974467"
     },
     "user_tz": 180
    },
    "id": "zt5vcDGK0QDY",
    "outputId": "84ef4523-f906-41d6-db22-f8c6aeace658"
   },
   "outputs": [
    {
     "data": {
      "text/plain": [
       "13    37556\n",
       "15    61607\n",
       "18    65084\n",
       "19    83948\n",
       "17    83959\n",
       "Name: CASOS, dtype: int64"
      ]
     },
     "execution_count": 192,
     "metadata": {
      "tags": []
     },
     "output_type": "execute_result"
    }
   ],
   "source": [
    "df['CASOS'].nsmallest(5)"
   ]
  },
  {
   "cell_type": "code",
   "execution_count": null,
   "metadata": {
    "colab": {
     "base_uri": "https://localhost:8080/"
    },
    "executionInfo": {
     "elapsed": 771,
     "status": "ok",
     "timestamp": 1607556912695,
     "user": {
      "displayName": "Orlando O. S.",
      "photoUrl": "https://lh3.googleusercontent.com/a-/AOh14Gj-E1yuy1M_3ruwN4TWYPK4BwysauSW7GQmHheS=s64",
      "userId": "15066502291703974467"
     },
     "user_tz": 180
    },
    "id": "QyP1ayFF0QDY",
    "outputId": "8d662579-4d04-49dc-e6b1-922355f292da"
   },
   "outputs": [
    {
     "data": {
      "text/plain": [
       "23    1296801\n",
       "21     444800\n",
       "5      428034\n",
       "26     406003\n",
       "22     374753\n",
       "Name: CASOS, dtype: int64"
      ]
     },
     "execution_count": 193,
     "metadata": {
      "tags": []
     },
     "output_type": "execute_result"
    }
   ],
   "source": [
    "df['CASOS'].nlargest(5)"
   ]
  },
  {
   "cell_type": "markdown",
   "metadata": {
    "id": "OOXfrAj80QDY"
   },
   "source": [
    "Data Frametambém tem os métodos nlargeste nsmallest."
   ]
  },
  {
   "cell_type": "code",
   "execution_count": null,
   "metadata": {
    "colab": {
     "base_uri": "https://localhost:8080/",
     "height": 141
    },
    "executionInfo": {
     "elapsed": 739,
     "status": "ok",
     "timestamp": 1607556932715,
     "user": {
      "displayName": "Orlando O. S.",
      "photoUrl": "https://lh3.googleusercontent.com/a-/AOh14Gj-E1yuy1M_3ruwN4TWYPK4BwysauSW7GQmHheS=s64",
      "userId": "15066502291703974467"
     },
     "user_tz": 180
    },
    "id": "ysiMiw7O0QDY",
    "outputId": "8c1792fb-a7c2-4bc7-97ff-36335747634c"
   },
   "outputs": [
    {
     "data": {
      "text/html": [
       "<div>\n",
       "<style scoped>\n",
       "    .dataframe tbody tr th:only-of-type {\n",
       "        vertical-align: middle;\n",
       "    }\n",
       "\n",
       "    .dataframe tbody tr th {\n",
       "        vertical-align: top;\n",
       "    }\n",
       "\n",
       "    .dataframe thead th {\n",
       "        text-align: right;\n",
       "    }\n",
       "</style>\n",
       "<table border=\"1\" class=\"dataframe\">\n",
       "  <thead>\n",
       "    <tr style=\"text-align: right;\">\n",
       "      <th></th>\n",
       "      <th>REGIAO</th>\n",
       "      <th>UF</th>\n",
       "      <th>CASOS</th>\n",
       "      <th>OBITOS</th>\n",
       "    </tr>\n",
       "  </thead>\n",
       "  <tbody>\n",
       "    <tr>\n",
       "      <th>23</th>\n",
       "      <td>Sudeste</td>\n",
       "      <td>SP</td>\n",
       "      <td>1296801</td>\n",
       "      <td>43282.0</td>\n",
       "    </tr>\n",
       "    <tr>\n",
       "      <th>21</th>\n",
       "      <td>Sudeste</td>\n",
       "      <td>MG</td>\n",
       "      <td>444800</td>\n",
       "      <td>10345.0</td>\n",
       "    </tr>\n",
       "    <tr>\n",
       "      <th>5</th>\n",
       "      <td>Nordeste</td>\n",
       "      <td>BA</td>\n",
       "      <td>428034</td>\n",
       "      <td>8474.0</td>\n",
       "    </tr>\n",
       "  </tbody>\n",
       "</table>\n",
       "</div>"
      ],
      "text/plain": [
       "      REGIAO  UF    CASOS   OBITOS\n",
       "23   Sudeste  SP  1296801  43282.0\n",
       "21   Sudeste  MG   444800  10345.0\n",
       "5   Nordeste  BA   428034   8474.0"
      ]
     },
     "execution_count": 194,
     "metadata": {
      "tags": []
     },
     "output_type": "execute_result"
    }
   ],
   "source": [
    "df.nlargest(3, 'CASOS')"
   ]
  },
  {
   "cell_type": "code",
   "execution_count": null,
   "metadata": {
    "colab": {
     "base_uri": "https://localhost:8080/",
     "height": 203
    },
    "executionInfo": {
     "elapsed": 636,
     "status": "ok",
     "timestamp": 1607556949769,
     "user": {
      "displayName": "Orlando O. S.",
      "photoUrl": "https://lh3.googleusercontent.com/a-/AOh14Gj-E1yuy1M_3ruwN4TWYPK4BwysauSW7GQmHheS=s64",
      "userId": "15066502291703974467"
     },
     "user_tz": 180
    },
    "id": "FmmCVKi10QDY",
    "outputId": "6d60159e-780e-4fad-b46f-d9ba30a982cf"
   },
   "outputs": [
    {
     "data": {
      "text/html": [
       "<div>\n",
       "<style scoped>\n",
       "    .dataframe tbody tr th:only-of-type {\n",
       "        vertical-align: middle;\n",
       "    }\n",
       "\n",
       "    .dataframe tbody tr th {\n",
       "        vertical-align: top;\n",
       "    }\n",
       "\n",
       "    .dataframe thead th {\n",
       "        text-align: right;\n",
       "    }\n",
       "</style>\n",
       "<table border=\"1\" class=\"dataframe\">\n",
       "  <thead>\n",
       "    <tr style=\"text-align: right;\">\n",
       "      <th></th>\n",
       "      <th>REGIAO</th>\n",
       "      <th>UF</th>\n",
       "      <th>CASOS</th>\n",
       "      <th>OBITOS</th>\n",
       "    </tr>\n",
       "  </thead>\n",
       "  <tbody>\n",
       "    <tr>\n",
       "      <th>23</th>\n",
       "      <td>Sudeste</td>\n",
       "      <td>SP</td>\n",
       "      <td>1296801</td>\n",
       "      <td>43282.0</td>\n",
       "    </tr>\n",
       "    <tr>\n",
       "      <th>21</th>\n",
       "      <td>Sudeste</td>\n",
       "      <td>MG</td>\n",
       "      <td>444800</td>\n",
       "      <td>10345.0</td>\n",
       "    </tr>\n",
       "    <tr>\n",
       "      <th>5</th>\n",
       "      <td>Nordeste</td>\n",
       "      <td>BA</td>\n",
       "      <td>428034</td>\n",
       "      <td>8474.0</td>\n",
       "    </tr>\n",
       "    <tr>\n",
       "      <th>26</th>\n",
       "      <td>Sul</td>\n",
       "      <td>SC</td>\n",
       "      <td>406003</td>\n",
       "      <td>NaN</td>\n",
       "    </tr>\n",
       "    <tr>\n",
       "      <th>22</th>\n",
       "      <td>Sudeste</td>\n",
       "      <td>RJ</td>\n",
       "      <td>374753</td>\n",
       "      <td>23270.0</td>\n",
       "    </tr>\n",
       "  </tbody>\n",
       "</table>\n",
       "</div>"
      ],
      "text/plain": [
       "      REGIAO  UF    CASOS   OBITOS\n",
       "23   Sudeste  SP  1296801  43282.0\n",
       "21   Sudeste  MG   444800  10345.0\n",
       "5   Nordeste  BA   428034   8474.0\n",
       "26       Sul  SC   406003      NaN\n",
       "22   Sudeste  RJ   374753  23270.0"
      ]
     },
     "execution_count": 195,
     "metadata": {
      "tags": []
     },
     "output_type": "execute_result"
    }
   ],
   "source": [
    "df.nlargest(5, ['CASOS', 'OBITOS'])"
   ]
  },
  {
   "cell_type": "code",
   "execution_count": null,
   "metadata": {
    "colab": {
     "base_uri": "https://localhost:8080/",
     "height": 141
    },
    "executionInfo": {
     "elapsed": 700,
     "status": "ok",
     "timestamp": 1607556972573,
     "user": {
      "displayName": "Orlando O. S.",
      "photoUrl": "https://lh3.googleusercontent.com/a-/AOh14Gj-E1yuy1M_3ruwN4TWYPK4BwysauSW7GQmHheS=s64",
      "userId": "15066502291703974467"
     },
     "user_tz": 180
    },
    "id": "Yu0Ewhwx0QDY",
    "outputId": "5f5c7af3-774b-4616-9770-7ec6dbefa8bb"
   },
   "outputs": [
    {
     "data": {
      "text/html": [
       "<div>\n",
       "<style scoped>\n",
       "    .dataframe tbody tr th:only-of-type {\n",
       "        vertical-align: middle;\n",
       "    }\n",
       "\n",
       "    .dataframe tbody tr th {\n",
       "        vertical-align: top;\n",
       "    }\n",
       "\n",
       "    .dataframe thead th {\n",
       "        text-align: right;\n",
       "    }\n",
       "</style>\n",
       "<table border=\"1\" class=\"dataframe\">\n",
       "  <thead>\n",
       "    <tr style=\"text-align: right;\">\n",
       "      <th></th>\n",
       "      <th>REGIAO</th>\n",
       "      <th>UF</th>\n",
       "      <th>CASOS</th>\n",
       "      <th>OBITOS</th>\n",
       "    </tr>\n",
       "  </thead>\n",
       "  <tbody>\n",
       "    <tr>\n",
       "      <th>13</th>\n",
       "      <td>Norte</td>\n",
       "      <td>AC</td>\n",
       "      <td>37556</td>\n",
       "      <td>737.0</td>\n",
       "    </tr>\n",
       "    <tr>\n",
       "      <th>15</th>\n",
       "      <td>Norte</td>\n",
       "      <td>AP</td>\n",
       "      <td>61607</td>\n",
       "      <td>834.0</td>\n",
       "    </tr>\n",
       "    <tr>\n",
       "      <th>18</th>\n",
       "      <td>Norte</td>\n",
       "      <td>RR</td>\n",
       "      <td>65084</td>\n",
       "      <td>744.0</td>\n",
       "    </tr>\n",
       "  </tbody>\n",
       "</table>\n",
       "</div>"
      ],
      "text/plain": [
       "   REGIAO  UF  CASOS  OBITOS\n",
       "13  Norte  AC  37556   737.0\n",
       "15  Norte  AP  61607   834.0\n",
       "18  Norte  RR  65084   744.0"
      ]
     },
     "execution_count": 196,
     "metadata": {
      "tags": []
     },
     "output_type": "execute_result"
    }
   ],
   "source": [
    "df.nsmallest(3, 'CASOS')"
   ]
  },
  {
   "cell_type": "code",
   "execution_count": null,
   "metadata": {
    "colab": {
     "base_uri": "https://localhost:8080/",
     "height": 203
    },
    "executionInfo": {
     "elapsed": 706,
     "status": "ok",
     "timestamp": 1607556976792,
     "user": {
      "displayName": "Orlando O. S.",
      "photoUrl": "https://lh3.googleusercontent.com/a-/AOh14Gj-E1yuy1M_3ruwN4TWYPK4BwysauSW7GQmHheS=s64",
      "userId": "15066502291703974467"
     },
     "user_tz": 180
    },
    "id": "BTAsgAX20QDY",
    "outputId": "9ada28fb-38cb-4e47-805a-2cc9a8269e6f"
   },
   "outputs": [
    {
     "data": {
      "text/html": [
       "<div>\n",
       "<style scoped>\n",
       "    .dataframe tbody tr th:only-of-type {\n",
       "        vertical-align: middle;\n",
       "    }\n",
       "\n",
       "    .dataframe tbody tr th {\n",
       "        vertical-align: top;\n",
       "    }\n",
       "\n",
       "    .dataframe thead th {\n",
       "        text-align: right;\n",
       "    }\n",
       "</style>\n",
       "<table border=\"1\" class=\"dataframe\">\n",
       "  <thead>\n",
       "    <tr style=\"text-align: right;\">\n",
       "      <th></th>\n",
       "      <th>REGIAO</th>\n",
       "      <th>UF</th>\n",
       "      <th>CASOS</th>\n",
       "      <th>OBITOS</th>\n",
       "    </tr>\n",
       "  </thead>\n",
       "  <tbody>\n",
       "    <tr>\n",
       "      <th>13</th>\n",
       "      <td>Norte</td>\n",
       "      <td>AC</td>\n",
       "      <td>37556</td>\n",
       "      <td>737.0</td>\n",
       "    </tr>\n",
       "    <tr>\n",
       "      <th>15</th>\n",
       "      <td>Norte</td>\n",
       "      <td>AP</td>\n",
       "      <td>61607</td>\n",
       "      <td>834.0</td>\n",
       "    </tr>\n",
       "    <tr>\n",
       "      <th>18</th>\n",
       "      <td>Norte</td>\n",
       "      <td>RR</td>\n",
       "      <td>65084</td>\n",
       "      <td>744.0</td>\n",
       "    </tr>\n",
       "    <tr>\n",
       "      <th>19</th>\n",
       "      <td>Norte</td>\n",
       "      <td>TO</td>\n",
       "      <td>83948</td>\n",
       "      <td>1187.0</td>\n",
       "    </tr>\n",
       "    <tr>\n",
       "      <th>17</th>\n",
       "      <td>Norte</td>\n",
       "      <td>RO</td>\n",
       "      <td>83959</td>\n",
       "      <td>1610.0</td>\n",
       "    </tr>\n",
       "  </tbody>\n",
       "</table>\n",
       "</div>"
      ],
      "text/plain": [
       "   REGIAO  UF  CASOS  OBITOS\n",
       "13  Norte  AC  37556   737.0\n",
       "15  Norte  AP  61607   834.0\n",
       "18  Norte  RR  65084   744.0\n",
       "19  Norte  TO  83948  1187.0\n",
       "17  Norte  RO  83959  1610.0"
      ]
     },
     "execution_count": 197,
     "metadata": {
      "tags": []
     },
     "output_type": "execute_result"
    }
   ],
   "source": [
    "df.nsmallest(5, ['CASOS', 'OBITOS'])"
   ]
  },
  {
   "cell_type": "markdown",
   "metadata": {
    "id": "DX9JWKhxX1xn"
   },
   "source": [
    "## Leituras Adicionais e Referências:\n",
    "\n",
    "- Python Tutorial at W3Schools: https://www.w3schools.com/python/\n",
    "- Python official documentation: https://docs.python.org/3/tutorial/index.html"
   ]
  },
  {
   "cell_type": "markdown",
   "metadata": {
    "id": "W2DQ8lHqSz8O"
   },
   "source": [
    "# Exercícios de Fixação\n",
    "***\n",
    "- Utilizando o conteúdo abaixo, extraído do portal do IBGE (https://www.ibge.gov.br/cidades-e-estados), atribua-o a uma variável chamada estados do Brasil"
   ]
  },
  {
   "cell_type": "markdown",
   "metadata": {
    "id": "-DQv-F-PXDW3"
   },
   "source": [
    "## Entrega dos Exercícios:\n",
    "Os notebooks devem ser postados no ambiente virtual https://inefeonline.com.br/ no tópico da respectiva aula para avaliação."
   ]
  },
  {
   "cell_type": "markdown",
   "metadata": {
    "id": "Eng6mnot_NJw"
   },
   "source": [
    "# Agradecimentos\n",
    "\n",
    "## Muito obrigado a todos os presentes e até a próxima aula.\n",
    "\n",
    "\n"
   ]
  }
 ],
 "metadata": {
  "colab": {
   "collapsed_sections": [],
   "name": "Aula Sobre Manipulação de Dados com Pandas - Parte 2 - Reindexação, Aplicação, Transformação e Renomeação.ipynb",
   "provenance": [
    {
     "file_id": "1rvyu2VOA5B8EMV5-zzQJaPP56cCOjLAD",
     "timestamp": 1607355074421
    }
   ]
  },
  "kernelspec": {
   "display_name": "Python 3",
   "language": "python",
   "name": "python3"
  },
  "language_info": {
   "codemirror_mode": {
    "name": "ipython",
    "version": 3
   },
   "file_extension": ".py",
   "mimetype": "text/x-python",
   "name": "python",
   "nbconvert_exporter": "python",
   "pygments_lexer": "ipython3",
   "version": "3.7.8"
  }
 },
 "nbformat": 4,
 "nbformat_minor": 1
}
