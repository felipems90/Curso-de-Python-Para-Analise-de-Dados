{
 "cells": [
  {
   "cell_type": "markdown",
   "metadata": {
    "id": "uGqJJfZ36iR6"
   },
   "source": [
    "# 01 - Introdução à Linguagem Python\n",
    "## Aula 01 - Funções Lambda, Map, Reduce e Filter"
   ]
  },
  {
   "cell_type": "markdown",
   "metadata": {
    "id": "JNifjo59P9mf"
   },
   "source": [
    "## Professor: Orlando Oliveira dos Santos, MsC.\n",
    " - E-mail: professor.orlando.santos@gmail.com \n",
    " - Youtube :https://www.youtube.com/channel/UCPWWbkPWFmOjXH50TQWNAYg\n",
    " - Linkedin: https://linkedin.com/in/orlandoosantos\n",
    " - Facebook: https://www.facebook.com/proforlandosantosmsc/\n",
    " - Twitter: https://twitter.com/ProfOrlandoMsC\n",
    " - Instagram: https://www.instagram.com/proforlandosantosmsc/\n",
    "\n",
    "\n",
    "\n",
    "## Formação Acadêmica\n",
    "- Mestrado em Computação Aplicada - UnB (2014 – 2016)\t\n",
    "- MBA, Administração Estratégica de Sistemas de Informação – FGV (2011 – 2013)\n",
    "- Tecnólogo em Processamento de Dados, Análise e Desenvolvimento de Sistemas – FAETEC/SP (2000-2002)"
   ]
  },
  {
   "cell_type": "markdown",
   "metadata": {},
   "source": [
    "# Funções, Lambda, Map, Reduce e Filter"
   ]
  },
  {
   "cell_type": "markdown",
   "metadata": {
    "id": "-wttXmB0JYuh"
   },
   "source": [
    "# Funções Python"
   ]
  },
  {
   "cell_type": "markdown",
   "metadata": {
    "id": "SZcOT891PhIQ"
   },
   "source": [
    "## Que são funções\n",
    "Sã bloco de código que só é executado quando é chamado, passando se parâmetro e retornando resultados.\n",
    "\n",
    "## Criação de uma função\n",
    "Declarada usando a palavra-chave def :\n",
    "  "
   ]
  },
  {
   "cell_type": "code",
   "execution_count": 1,
   "metadata": {
    "id": "Qomvsf49PhIQ"
   },
   "outputs": [],
   "source": [
    "def funcao():\n",
    "  print(\"Resultado da Função\")"
   ]
  },
  {
   "cell_type": "code",
   "execution_count": 2,
   "metadata": {
    "colab": {
     "base_uri": "https://localhost:8080/"
    },
    "executionInfo": {
     "elapsed": 636,
     "status": "ok",
     "timestamp": 1604532675036,
     "user": {
      "displayName": "Orlando O. S.",
      "photoUrl": "https://lh3.googleusercontent.com/a-/AOh14Gj-E1yuy1M_3ruwN4TWYPK4BwysauSW7GQmHheS=s64",
      "userId": "15066502291703974467"
     },
     "user_tz": 180
    },
    "id": "9dFTCHNDmX9M",
    "outputId": "5c9f7fa9-e6f8-416a-ff12-acc0ccae1fd4"
   },
   "outputs": [
    {
     "name": "stdout",
     "output_type": "stream",
     "text": [
      "Resultado da Função\n"
     ]
    }
   ],
   "source": [
    "funcao()"
   ]
  },
  {
   "cell_type": "markdown",
   "metadata": {
    "id": "37cxOkY3PhIU"
   },
   "source": [
    "# Chamando uma função\n",
    "Usar o nome da função seguido por parênteses:\n"
   ]
  },
  {
   "cell_type": "code",
   "execution_count": 3,
   "metadata": {
    "colab": {
     "base_uri": "https://localhost:8080/"
    },
    "executionInfo": {
     "elapsed": 651,
     "status": "ok",
     "timestamp": 1604532738795,
     "user": {
      "displayName": "Orlando O. S.",
      "photoUrl": "https://lh3.googleusercontent.com/a-/AOh14Gj-E1yuy1M_3ruwN4TWYPK4BwysauSW7GQmHheS=s64",
      "userId": "15066502291703974467"
     },
     "user_tz": 180
    },
    "id": "GFlQHOQXPhIV",
    "outputId": "465d71bb-775f-49b7-ccae-2f75f2d6d470"
   },
   "outputs": [
    {
     "name": "stdout",
     "output_type": "stream",
     "text": [
      "Resultado da Função\n"
     ]
    }
   ],
   "source": [
    "def funcao():\n",
    "  print(\"Resultado da Função\")\n",
    "\n",
    "funcao()"
   ]
  },
  {
   "cell_type": "markdown",
   "metadata": {
    "id": "ykD_j-jDPhIY"
   },
   "source": [
    "#Argumentos  ou  parâmetros (args)\n",
    "\n",
    "\n",
    "Forma de passar informações para funções, especificando-os após o nome da função, entre parênteses. \n",
    "\n",
    "Podem ser passados quando forem necessários, separdos por vírgula.\n"
   ]
  },
  {
   "cell_type": "code",
   "execution_count": 4,
   "metadata": {
    "colab": {
     "base_uri": "https://localhost:8080/"
    },
    "executionInfo": {
     "elapsed": 675,
     "status": "ok",
     "timestamp": 1604532778237,
     "user": {
      "displayName": "Orlando O. S.",
      "photoUrl": "https://lh3.googleusercontent.com/a-/AOh14Gj-E1yuy1M_3ruwN4TWYPK4BwysauSW7GQmHheS=s64",
      "userId": "15066502291703974467"
     },
     "user_tz": 180
    },
    "id": "7ziL7TxYPhIY",
    "outputId": "32843482-1157-419d-f114-4db7597ad08b"
   },
   "outputs": [
    {
     "name": "stdout",
     "output_type": "stream",
     "text": [
      "Maria Santos\n",
      "José Silva\n",
      "Joao Costa\n"
     ]
    }
   ],
   "source": [
    "def nome_completo(nome, sobrenome):\n",
    "  print(f'{nome} {sobrenome}')\n",
    "\n",
    "nome_completo(\"Maria\", \"Santos\")\n",
    "nome_completo(\"José\", \"Silva\")\n",
    "nome_completo(\"Joao\", \"Costa\")"
   ]
  },
  {
   "cell_type": "markdown",
   "metadata": {
    "id": "Rn03fNvVPhIb"
   },
   "source": [
    "## uma função deve ser chamada com o número correto de argumentos"
   ]
  },
  {
   "cell_type": "code",
   "execution_count": 5,
   "metadata": {
    "colab": {
     "base_uri": "https://localhost:8080/"
    },
    "executionInfo": {
     "elapsed": 663,
     "status": "ok",
     "timestamp": 1604532961346,
     "user": {
      "displayName": "Orlando O. S.",
      "photoUrl": "https://lh3.googleusercontent.com/a-/AOh14Gj-E1yuy1M_3ruwN4TWYPK4BwysauSW7GQmHheS=s64",
      "userId": "15066502291703974467"
     },
     "user_tz": 180
    },
    "id": "EMMaAjtePhIc",
    "outputId": "c2083dd2-0a64-46ff-f947-78c9bc3fa257"
   },
   "outputs": [
    {
     "name": "stdout",
     "output_type": "stream",
     "text": [
      "Maria Santos\n"
     ]
    }
   ],
   "source": [
    "def nome_completo(nome, sobrenome):\n",
    "  #print('{} {}'.format(nome, sobrenome))\n",
    "  print(f'{nome} {sobrenome}')\n",
    "  \n",
    "nome_completo(\"Maria\", \"Santos\")\n"
   ]
  },
  {
   "cell_type": "code",
   "execution_count": 6,
   "metadata": {
    "colab": {
     "base_uri": "https://localhost:8080/",
     "height": 165
    },
    "executionInfo": {
     "elapsed": 751,
     "status": "error",
     "timestamp": 1604532989083,
     "user": {
      "displayName": "Orlando O. S.",
      "photoUrl": "https://lh3.googleusercontent.com/a-/AOh14Gj-E1yuy1M_3ruwN4TWYPK4BwysauSW7GQmHheS=s64",
      "userId": "15066502291703974467"
     },
     "user_tz": 180
    },
    "id": "-ia4OXQgnGvc",
    "outputId": "c61862b5-256a-4fbd-da1e-447e7dc7223b"
   },
   "outputs": [
    {
     "ename": "TypeError",
     "evalue": "nome_completo() missing 1 required positional argument: 'sobrenome'",
     "output_type": "error",
     "traceback": [
      "\u001b[1;31m---------------------------------------------------------------------------\u001b[0m",
      "\u001b[1;31mTypeError\u001b[0m                                 Traceback (most recent call last)",
      "\u001b[1;32m<ipython-input-6-ec79cb653f33>\u001b[0m in \u001b[0;36m<module>\u001b[1;34m\u001b[0m\n\u001b[1;32m----> 1\u001b[1;33m \u001b[0mnome_completo\u001b[0m\u001b[1;33m(\u001b[0m\u001b[1;34m\"Maria\"\u001b[0m\u001b[1;33m)\u001b[0m\u001b[1;33m\u001b[0m\u001b[1;33m\u001b[0m\u001b[0m\n\u001b[0m",
      "\u001b[1;31mTypeError\u001b[0m: nome_completo() missing 1 required positional argument: 'sobrenome'"
     ]
    }
   ],
   "source": [
    "nome_completo(\"Maria\")"
   ]
  },
  {
   "cell_type": "markdown",
   "metadata": {
    "id": "L9H2mkbbPhIk"
   },
   "source": [
    "## Argumentos arbitrários, * args\n",
    "\n",
    "Quando não se sabe quantos argumentos serão passados ​​para sua função, pode adicionar  um *antes do nome do parâmetro na definição da função.\n",
    "\n",
    "com isso uma tupla de argumentos será esperada como aragumentoe e poderá acessar os itens de acordo com o indice."
   ]
  },
  {
   "cell_type": "code",
   "execution_count": 9,
   "metadata": {
    "colab": {
     "base_uri": "https://localhost:8080/"
    },
    "executionInfo": {
     "elapsed": 669,
     "status": "ok",
     "timestamp": 1604533167617,
     "user": {
      "displayName": "Orlando O. S.",
      "photoUrl": "https://lh3.googleusercontent.com/a-/AOh14Gj-E1yuy1M_3ruwN4TWYPK4BwysauSW7GQmHheS=s64",
      "userId": "15066502291703974467"
     },
     "user_tz": 180
    },
    "id": "bO2UqnwZoB12",
    "outputId": "05aa7221-2a7f-4211-93bd-8ea8fed52fc1"
   },
   "outputs": [
    {
     "name": "stdout",
     "output_type": "stream",
     "text": [
      "Maria Santos\n"
     ]
    }
   ],
   "source": [
    "def nome_completo(*partes):\n",
    "  print(partes[0] + ' ' + partes[1])\n",
    "\n",
    "nome_completo(\"Maria\", \"Santos\")\n"
   ]
  },
  {
   "cell_type": "code",
   "execution_count": 10,
   "metadata": {
    "colab": {
     "base_uri": "https://localhost:8080/",
     "height": 35
    },
    "executionInfo": {
     "elapsed": 739,
     "status": "ok",
     "timestamp": 1604533388035,
     "user": {
      "displayName": "Orlando O. S.",
      "photoUrl": "https://lh3.googleusercontent.com/a-/AOh14Gj-E1yuy1M_3ruwN4TWYPK4BwysauSW7GQmHheS=s64",
      "userId": "15066502291703974467"
     },
     "user_tz": 180
    },
    "id": "qqjoyPaRo27t",
    "outputId": "b4a7200f-a0ba-4767-fbb7-d31dbd7bf561"
   },
   "outputs": [
    {
     "data": {
      "text/plain": [
       "'Maria*Santos*Silva*Maria*Santos*Silva'"
      ]
     },
     "execution_count": 10,
     "metadata": {},
     "output_type": "execute_result"
    }
   ],
   "source": [
    "tp = ('Maria', 'Santos', 'Silva', 'Maria', 'Santos', 'Silva')\n",
    "'*'.join(tp)"
   ]
  },
  {
   "cell_type": "code",
   "execution_count": 11,
   "metadata": {
    "colab": {
     "base_uri": "https://localhost:8080/"
    },
    "executionInfo": {
     "elapsed": 703,
     "status": "ok",
     "timestamp": 1604533269005,
     "user": {
      "displayName": "Orlando O. S.",
      "photoUrl": "https://lh3.googleusercontent.com/a-/AOh14Gj-E1yuy1M_3ruwN4TWYPK4BwysauSW7GQmHheS=s64",
      "userId": "15066502291703974467"
     },
     "user_tz": 180
    },
    "id": "-NndreNwPhIl",
    "outputId": "df4f2e7e-60f6-44a2-af57-b70adc60af98"
   },
   "outputs": [
    {
     "name": "stdout",
     "output_type": "stream",
     "text": [
      "('Maria', 'Santos', 'Silva', 'Maria', 'Santos', 'Silva')\n",
      "Maria Santos Silva Maria Santos Silva\n",
      "('Maria', 'Santos')\n",
      "Maria Santos\n",
      "('Maria',)\n",
      "Maria\n"
     ]
    }
   ],
   "source": [
    "def nome_completo(*partes):\n",
    "  print(partes)\n",
    "  print(' '.join(partes))\n",
    "\n",
    "nome_completo(\"Maria\", \"Santos\", \"Silva\", \"Maria\", \"Santos\", \"Silva\")  \n",
    "nome_completo(\"Maria\", \"Santos\")\n",
    "nome_completo(\"Maria\")"
   ]
  },
  {
   "cell_type": "markdown",
   "metadata": {
    "id": "oAiKjT7bPhIn"
   },
   "source": [
    "##Argumentos de Palavras-Chave\n",
    "Pode se passar argumentos com a sintaxe chave = valor."
   ]
  },
  {
   "cell_type": "code",
   "execution_count": 12,
   "metadata": {
    "id": "kx8vJe03pWwW"
   },
   "outputs": [],
   "source": [
    "def nome_completo(nome, sobrenome):\n",
    "  print(f'{nome} {sobrenome}')"
   ]
  },
  {
   "cell_type": "code",
   "execution_count": 13,
   "metadata": {
    "id": "1TX2P4XYpYsx"
   },
   "outputs": [
    {
     "name": "stdout",
     "output_type": "stream",
     "text": [
      "Maria Santos\n"
     ]
    }
   ],
   "source": [
    "nome_completo( \"Maria\", \"Santos\")"
   ]
  },
  {
   "cell_type": "code",
   "execution_count": 14,
   "metadata": {
    "colab": {
     "base_uri": "https://localhost:8080/"
    },
    "executionInfo": {
     "elapsed": 673,
     "status": "ok",
     "timestamp": 1604533629581,
     "user": {
      "displayName": "Orlando O. S.",
      "photoUrl": "https://lh3.googleusercontent.com/a-/AOh14Gj-E1yuy1M_3ruwN4TWYPK4BwysauSW7GQmHheS=s64",
      "userId": "15066502291703974467"
     },
     "user_tz": 180
    },
    "id": "OL1QMnZPPhIo",
    "outputId": "21ab9f1e-0e98-4ee0-cb32-785f61a5d781"
   },
   "outputs": [
    {
     "name": "stdout",
     "output_type": "stream",
     "text": [
      "Maria Santos Silva\n",
      "Maria Santos Silva\n"
     ]
    }
   ],
   "source": [
    "def nome_completo(nome, sobrenome, ultimonome):\n",
    "  print(f'{nome} {sobrenome} {ultimonome}')\n",
    "  \n",
    "nome_completo( nome = \"Maria\", sobrenome =\"Santos\" ,  ultimonome = 'Silva')\n",
    "nome_completo( sobrenome = \"Santos\", nome = \"Maria\",  ultimonome = 'Silva' )"
   ]
  },
  {
   "cell_type": "code",
   "execution_count": 15,
   "metadata": {
    "colab": {
     "base_uri": "https://localhost:8080/",
     "height": 131
    },
    "executionInfo": {
     "elapsed": 719,
     "status": "error",
     "timestamp": 1604533649840,
     "user": {
      "displayName": "Orlando O. S.",
      "photoUrl": "https://lh3.googleusercontent.com/a-/AOh14Gj-E1yuy1M_3ruwN4TWYPK4BwysauSW7GQmHheS=s64",
      "userId": "15066502291703974467"
     },
     "user_tz": 180
    },
    "id": "tMvT177qqFj2",
    "outputId": "9b5cbd64-4d73-449d-9355-80b4324469dc"
   },
   "outputs": [
    {
     "ename": "SyntaxError",
     "evalue": "positional argument follows keyword argument (<ipython-input-15-2d523d90cdf0>, line 1)",
     "output_type": "error",
     "traceback": [
      "\u001b[1;36m  File \u001b[1;32m\"<ipython-input-15-2d523d90cdf0>\"\u001b[1;36m, line \u001b[1;32m1\u001b[0m\n\u001b[1;33m    nome_completo( sobrenome = \"Santos\", \"Maria\",   'Silva' )\u001b[0m\n\u001b[1;37m                                        ^\u001b[0m\n\u001b[1;31mSyntaxError\u001b[0m\u001b[1;31m:\u001b[0m positional argument follows keyword argument\n"
     ]
    }
   ],
   "source": [
    "nome_completo( sobrenome = \"Santos\", \"Maria\",   'Silva' )"
   ]
  },
  {
   "cell_type": "markdown",
   "metadata": {
    "id": "53aan6mNPhIr"
   },
   "source": [
    "## Argumentos de palavras-chave arbitrárias -  ** kwargs\n",
    "Se não souber quantos argumentos de palavra-chave serão passados ​​para sua função, deve adicionar  dois asteriscos: ** antes do nome do parâmetro na definição da função."
   ]
  },
  {
   "cell_type": "code",
   "execution_count": 18,
   "metadata": {
    "colab": {
     "base_uri": "https://localhost:8080/"
    },
    "executionInfo": {
     "elapsed": 704,
     "status": "ok",
     "timestamp": 1604534068489,
     "user": {
      "displayName": "Orlando O. S.",
      "photoUrl": "https://lh3.googleusercontent.com/a-/AOh14Gj-E1yuy1M_3ruwN4TWYPK4BwysauSW7GQmHheS=s64",
      "userId": "15066502291703974467"
     },
     "user_tz": 180
    },
    "id": "Fls6oo6kqxc6",
    "outputId": "79ea805e-f0c6-4b63-a4aa-16afb3464a44"
   },
   "outputs": [
    {
     "name": "stdout",
     "output_type": "stream",
     "text": [
      "('Maria', 'Santos', 'Silva')\n",
      "Maria Santos Silva\n",
      "('Maria', 'Santos')\n",
      "Maria Santos\n",
      "('Maria',)\n",
      "Maria\n"
     ]
    }
   ],
   "source": [
    "def nome_completo(*args):\n",
    "  print(args)\n",
    "  print(' '.join(args))\n",
    "\n",
    "nome_completo( \"Maria\", \"Santos\",   \"Silva\")  \n",
    "nome_completo( \"Maria\", \"Santos\")\n",
    "nome_completo( \"Maria\")"
   ]
  },
  {
   "cell_type": "code",
   "execution_count": 19,
   "metadata": {
    "colab": {
     "base_uri": "https://localhost:8080/"
    },
    "executionInfo": {
     "elapsed": 690,
     "status": "ok",
     "timestamp": 1604534030321,
     "user": {
      "displayName": "Orlando O. S.",
      "photoUrl": "https://lh3.googleusercontent.com/a-/AOh14Gj-E1yuy1M_3ruwN4TWYPK4BwysauSW7GQmHheS=s64",
      "userId": "15066502291703974467"
     },
     "user_tz": 180
    },
    "id": "gA0OwF2TPhIr",
    "outputId": "ed68c9fa-f1c5-47f1-f08b-e438af5995a3"
   },
   "outputs": [
    {
     "name": "stdout",
     "output_type": "stream",
     "text": [
      "{'nome': 'Maria', 'sobrenome': 'Santos', 'ultimonome': 'Silva'}\n",
      "Maria Santos Silva\n",
      "{'nome': 'Maria', 'sobrenome': 'Santos'}\n",
      "Maria Santos None\n",
      "{'nome': 'Maria'}\n",
      "Maria None None\n"
     ]
    }
   ],
   "source": [
    "def nome_completo(**kwargs):\n",
    "  print(kwargs)\n",
    "  print(f\"{kwargs.get('nome')} {kwargs.get('sobrenome')} {kwargs.get('ultimonome')}\")\n",
    "\n",
    "nome_completo( nome = \"Maria\", sobrenome = \"Santos\",  ultimonome = \"Silva\")  \n",
    "nome_completo( nome = \"Maria\", sobrenome = \"Santos\")\n",
    "nome_completo( nome = \"Maria\")"
   ]
  },
  {
   "cell_type": "code",
   "execution_count": 20,
   "metadata": {
    "id": "ctA4Z3kSr0tc"
   },
   "outputs": [],
   "source": [
    "def nome_completo(*args, **kwargs):\n",
    "  print(kwargs)\n",
    "  print(f\" {args[0]}   {kwargs.get('nome')} {kwargs.get('sobrenome')} {kwargs.get('ultimonome')}\")"
   ]
  },
  {
   "cell_type": "code",
   "execution_count": 21,
   "metadata": {
    "colab": {
     "base_uri": "https://localhost:8080/"
    },
    "executionInfo": {
     "elapsed": 731,
     "status": "ok",
     "timestamp": 1604534228314,
     "user": {
      "displayName": "Orlando O. S.",
      "photoUrl": "https://lh3.googleusercontent.com/a-/AOh14Gj-E1yuy1M_3ruwN4TWYPK4BwysauSW7GQmHheS=s64",
      "userId": "15066502291703974467"
     },
     "user_tz": 180
    },
    "id": "FGOx57PCsCKn",
    "outputId": "4a209e6f-b300-4850-bfe1-8545eaead258"
   },
   "outputs": [
    {
     "name": "stdout",
     "output_type": "stream",
     "text": [
      "{'nome': 'Orlando', 'sobrenome': 'Santos'}\n",
      " Brasilia   Orlando Santos None\n"
     ]
    }
   ],
   "source": [
    "nome_completo('Brasilia', nome='Orlando', sobrenome = 'Santos' )"
   ]
  },
  {
   "cell_type": "markdown",
   "metadata": {
    "id": "8ShvKTyKTIwx"
   },
   "source": [
    "## Valor padrão do parâmetro \n",
    "\n",
    "Definir o valor na declaração da função. E se chamarmos a função sem argumento, ela usará o valor padrão:\n"
   ]
  },
  {
   "cell_type": "code",
   "execution_count": 22,
   "metadata": {
    "colab": {
     "base_uri": "https://localhost:8080/"
    },
    "executionInfo": {
     "elapsed": 676,
     "status": "ok",
     "timestamp": 1604534461360,
     "user": {
      "displayName": "Orlando O. S.",
      "photoUrl": "https://lh3.googleusercontent.com/a-/AOh14Gj-E1yuy1M_3ruwN4TWYPK4BwysauSW7GQmHheS=s64",
      "userId": "15066502291703974467"
     },
     "user_tz": 180
    },
    "id": "gf5SpHF2T4Vk",
    "outputId": "0f6b1317-1820-4b19-faf9-d1cec3b6aa81"
   },
   "outputs": [
    {
     "name": "stdout",
     "output_type": "stream",
     "text": [
      "Meu nome é José, tenho 20 ano e sou Brasileiro(a)\n",
      "Meu nome é Joseph, tenho 30 ano e sou Americano\n"
     ]
    }
   ],
   "source": [
    "def dadospessoaos(nome, idade, nacionalidade = \"Brasileiro(a)\"):\n",
    "  print(f'Meu nome é {nome}, tenho {idade} ano e sou {nacionalidade}')\n",
    "\n",
    "dadospessoaos(\"José\", 20) \n",
    "dadospessoaos(\"Joseph\", 30, \"Americano\") \n"
   ]
  },
  {
   "cell_type": "code",
   "execution_count": 23,
   "metadata": {
    "colab": {
     "base_uri": "https://localhost:8080/",
     "height": 131
    },
    "executionInfo": {
     "elapsed": 712,
     "status": "error",
     "timestamp": 1604534515711,
     "user": {
      "displayName": "Orlando O. S.",
      "photoUrl": "https://lh3.googleusercontent.com/a-/AOh14Gj-E1yuy1M_3ruwN4TWYPK4BwysauSW7GQmHheS=s64",
      "userId": "15066502291703974467"
     },
     "user_tz": 180
    },
    "id": "-7QkdnRqtWLP",
    "outputId": "00363fc2-8845-4b10-8de8-e3fb61154c3d"
   },
   "outputs": [
    {
     "ename": "SyntaxError",
     "evalue": "non-default argument follows default argument (<ipython-input-23-00bfcfff2d56>, line 1)",
     "output_type": "error",
     "traceback": [
      "\u001b[1;36m  File \u001b[1;32m\"<ipython-input-23-00bfcfff2d56>\"\u001b[1;36m, line \u001b[1;32m1\u001b[0m\n\u001b[1;33m    def dadospessoaos(nacionalidade = \"Brasileiro(a)\", nome, idade):\u001b[0m\n\u001b[1;37m                     ^\u001b[0m\n\u001b[1;31mSyntaxError\u001b[0m\u001b[1;31m:\u001b[0m non-default argument follows default argument\n"
     ]
    }
   ],
   "source": [
    "def dadospessoaos(nacionalidade = \"Brasileiro(a)\", nome, idade):\n",
    "  print(f'Meu nome é {nome}, tenho {idade} ano e sou {nacionalidade}')\n",
    "\n",
    "dadospessoaos(\"José\", 20) \n",
    "dadospessoaos(\"Joseph\", 30, \"Americano\") "
   ]
  },
  {
   "cell_type": "markdown",
   "metadata": {
    "id": "dtCCwKPDWFCd"
   },
   "source": [
    "## Passando estruturas de dados como um argumento\n",
    "Qualquer tipo de dado de argumento para uma função (string, número, lista, dicionário, etc.), e manterá o mesmo tipo de dado dentro da função.\n"
   ]
  },
  {
   "cell_type": "code",
   "execution_count": 25,
   "metadata": {
    "id": "eWXazB-AWqdQ"
   },
   "outputs": [],
   "source": [
    "pessoas_idade = {'Lavínia': 40, 'Nicole': 41, 'Vinícius': 39, 'Fernanda': 38, \n",
    "                 'Vicente': 40, 'Isis': 38, 'Maria Clara': 39, 'Guilherme': 40, \n",
    "                 'Maria Flor': 41, 'João Lucas': 40, 'Ana Beatriz': 40, \n",
    "                 'Enzo Gabriel': 38, 'Giovanna': 39, 'Amanda': 39, \n",
    "                 'Maria': 41, 'Luan': 42, 'Murilo': 39, 'Joaquim': 38, \n",
    "                 'Pedro Miguel': 38, 'Maria Laura': 39}"
   ]
  },
  {
   "cell_type": "code",
   "execution_count": 26,
   "metadata": {
    "colab": {
     "base_uri": "https://localhost:8080/"
    },
    "executionInfo": {
     "elapsed": 612,
     "status": "ok",
     "timestamp": 1604534623333,
     "user": {
      "displayName": "Orlando O. S.",
      "photoUrl": "https://lh3.googleusercontent.com/a-/AOh14Gj-E1yuy1M_3ruwN4TWYPK4BwysauSW7GQmHheS=s64",
      "userId": "15066502291703974467"
     },
     "user_tz": 180
    },
    "id": "QB985vOaXNkl",
    "outputId": "c9f65ba8-eeca-4c38-e50a-cdae59ce011e"
   },
   "outputs": [
    {
     "name": "stdout",
     "output_type": "stream",
     "text": [
      "Lavínia 40\n",
      "Nicole 41\n",
      "Vinícius 39\n",
      "Fernanda 38\n",
      "Vicente 40\n",
      "Isis 38\n",
      "Maria Clara 39\n",
      "Guilherme 40\n",
      "Maria Flor 41\n",
      "João Lucas 40\n",
      "Ana Beatriz 40\n",
      "Enzo Gabriel 38\n",
      "Giovanna 39\n",
      "Amanda 39\n",
      "Maria 41\n",
      "Luan 42\n",
      "Murilo 39\n",
      "Joaquim 38\n",
      "Pedro Miguel 38\n",
      "Maria Laura 39\n"
     ]
    }
   ],
   "source": [
    "def imprime_nome_idade(pessoas):\n",
    "  for pessoa, idade in pessoas.items():\n",
    "    print(pessoa, idade)\n",
    "\n",
    "\n",
    "imprime_nome_idade(pessoas_idade)"
   ]
  },
  {
   "cell_type": "code",
   "execution_count": 27,
   "metadata": {
    "colab": {
     "base_uri": "https://localhost:8080/"
    },
    "executionInfo": {
     "elapsed": 645,
     "status": "ok",
     "timestamp": 1604534692378,
     "user": {
      "displayName": "Orlando O. S.",
      "photoUrl": "https://lh3.googleusercontent.com/a-/AOh14Gj-E1yuy1M_3ruwN4TWYPK4BwysauSW7GQmHheS=s64",
      "userId": "15066502291703974467"
     },
     "user_tz": 180
    },
    "id": "1NI1PXu6W3RP",
    "outputId": "915c4521-ed67-4695-d443-ca5cfbf7a759"
   },
   "outputs": [
    {
     "name": "stdout",
     "output_type": "stream",
     "text": [
      "['Lavínia', 'Nicole', 'Vinícius', 'Fernanda', 'Vicente', 'Isis', 'Maria Clara', 'Guilherme', 'Maria Flor', 'João Lucas', 'Ana Beatriz', 'Enzo Gabriel', 'Giovanna', 'Amanda', 'Maria', 'Luan', 'Murilo', 'Joaquim', 'Pedro Miguel', 'Maria Laura']\n",
      "Lavínia\n",
      "Nicole\n",
      "Vinícius\n",
      "Fernanda\n",
      "Vicente\n",
      "Isis\n",
      "Maria Clara\n",
      "Guilherme\n",
      "Maria Flor\n",
      "João Lucas\n",
      "Ana Beatriz\n",
      "Enzo Gabriel\n",
      "Giovanna\n",
      "Amanda\n",
      "Maria\n",
      "Luan\n",
      "Murilo\n",
      "Joaquim\n",
      "Pedro Miguel\n",
      "Maria Laura\n"
     ]
    }
   ],
   "source": [
    "nomes = list(pessoas_idade.keys())\n",
    "print(nomes)\n",
    "\n",
    "def imprime_nome(pessoas):\n",
    "  for pessoa in pessoas:\n",
    "    print(pessoa)\n",
    "\n",
    "\n",
    "imprime_nome(nomes)"
   ]
  },
  {
   "cell_type": "code",
   "execution_count": 28,
   "metadata": {
    "colab": {
     "base_uri": "https://localhost:8080/"
    },
    "executionInfo": {
     "elapsed": 624,
     "status": "ok",
     "timestamp": 1604534742443,
     "user": {
      "displayName": "Orlando O. S.",
      "photoUrl": "https://lh3.googleusercontent.com/a-/AOh14Gj-E1yuy1M_3ruwN4TWYPK4BwysauSW7GQmHheS=s64",
      "userId": "15066502291703974467"
     },
     "user_tz": 180
    },
    "id": "TsJ9qOPdXEsl",
    "outputId": "fd8e5c9f-1af9-42fe-cb69-90706c0dd02e"
   },
   "outputs": [
    {
     "name": "stdout",
     "output_type": "stream",
     "text": [
      "(40, 41, 39, 38, 40, 38, 39, 40, 41, 40, 40, 38, 39, 39, 41, 42, 39, 38, 38, 39)\n",
      "40\n",
      "41\n",
      "39\n",
      "38\n",
      "40\n",
      "38\n",
      "39\n",
      "40\n",
      "41\n",
      "40\n",
      "40\n",
      "38\n",
      "39\n",
      "39\n",
      "41\n",
      "42\n",
      "39\n",
      "38\n",
      "38\n",
      "39\n"
     ]
    }
   ],
   "source": [
    "idades = tuple(pessoas_idade.values())\n",
    "print(idades)\n",
    "\n",
    "def imprime_idadee(idades):\n",
    "  for idade in idades:\n",
    "    print(idade)\n",
    "\n",
    "\n",
    "imprime_nome(idades)\n",
    "\n"
   ]
  },
  {
   "cell_type": "markdown",
   "metadata": {
    "id": "1I1kVJFIYRR9"
   },
   "source": [
    "# Valores Retornados por Função\n",
    "Para que a função retorne um valor, use a instrução return.  Pode ser retornado qualquer tipo de variável.\n"
   ]
  },
  {
   "cell_type": "code",
   "execution_count": 29,
   "metadata": {
    "colab": {
     "base_uri": "https://localhost:8080/"
    },
    "executionInfo": {
     "elapsed": 769,
     "status": "ok",
     "timestamp": 1604534870434,
     "user": {
      "displayName": "Orlando O. S.",
      "photoUrl": "https://lh3.googleusercontent.com/a-/AOh14Gj-E1yuy1M_3ruwN4TWYPK4BwysauSW7GQmHheS=s64",
      "userId": "15066502291703974467"
     },
     "user_tz": 180
    },
    "id": "sAMiEjbIYjJq",
    "outputId": "0e8a19a0-e3de-4a03-8aae-0911d83d92bb"
   },
   "outputs": [
    {
     "name": "stdout",
     "output_type": "stream",
     "text": [
      "10\n",
      "17\n",
      "57\n"
     ]
    }
   ],
   "source": [
    "def soma(primeironumero, segundonumero):\n",
    "  total = primeironumero + segundonumero\n",
    "  return total\n",
    "\n",
    "\n",
    "print(soma(3,7))  \n",
    "print(soma(14,3)) \n",
    "print(soma(23,34)) "
   ]
  },
  {
   "cell_type": "markdown",
   "metadata": {
    "id": "hM9L44eIZHZn"
   },
   "source": [
    "Pode retornar mais de uma variável ao mesmo tempo"
   ]
  },
  {
   "cell_type": "code",
   "execution_count": 30,
   "metadata": {
    "colab": {
     "base_uri": "https://localhost:8080/"
    },
    "executionInfo": {
     "elapsed": 654,
     "status": "ok",
     "timestamp": 1604535309629,
     "user": {
      "displayName": "Orlando O. S.",
      "photoUrl": "https://lh3.googleusercontent.com/a-/AOh14Gj-E1yuy1M_3ruwN4TWYPK4BwysauSW7GQmHheS=s64",
      "userId": "15066502291703974467"
     },
     "user_tz": 180
    },
    "id": "oy3YlAuvZGee",
    "outputId": "e4e360d6-1732-4120-b9d0-2a02e471dab5"
   },
   "outputs": [
    {
     "name": "stdout",
     "output_type": "stream",
     "text": [
      "(40, 41, 39, 38, 40, 38, 39, 40, 41, 40, 40, 38, 39, 39, 41, 42, 39, 38, 38, 39)\n",
      "(38, 42, 4)\n",
      "38 42 4\n"
     ]
    }
   ],
   "source": [
    "def menor_maior_diferenca(lista_numeros):\n",
    "  listaordenada = sorted(lista_numeros)\n",
    "  menor = listaordenada[0]\n",
    "  maior = listaordenada[-1]\n",
    "  diferenca = maior - menor\n",
    "  return menor, maior, diferenca\n",
    "\n",
    "print(idades)\n",
    "print(menor_maior_diferenca(idades))\n",
    "\n",
    "men, mai, dif = menor_maior_diferenca(idades)\n",
    "print(men, mai, dif)\n"
   ]
  },
  {
   "cell_type": "code",
   "execution_count": 31,
   "metadata": {
    "colab": {
     "base_uri": "https://localhost:8080/"
    },
    "executionInfo": {
     "elapsed": 734,
     "status": "ok",
     "timestamp": 1604535446551,
     "user": {
      "displayName": "Orlando O. S.",
      "photoUrl": "https://lh3.googleusercontent.com/a-/AOh14Gj-E1yuy1M_3ruwN4TWYPK4BwysauSW7GQmHheS=s64",
      "userId": "15066502291703974467"
     },
     "user_tz": 180
    },
    "id": "FZFyJPdMv7M3",
    "outputId": "37f889a9-435a-48c7-afe7-bd477ce3eb1f"
   },
   "outputs": [
    {
     "name": "stdout",
     "output_type": "stream",
     "text": [
      "(40, 41, 39, 38, 40, 38, 39, 40, 41, 40, 40, 38, 39, 39, 41, 42, 39, 38, 38, 39)\n",
      "{'menor': 38, 'maior': 42, 'diferenca': 4}\n",
      "38\n"
     ]
    }
   ],
   "source": [
    "def menor_maior_diferenca(lista_numeros):\n",
    "  listaordenada = sorted(lista_numeros)\n",
    "  menor = listaordenada[0]\n",
    "  maior = listaordenada[-1]\n",
    "  diferenca = maior - menor\n",
    "  return {'menor': menor, 'maior': maior, 'diferenca': diferenca}\n",
    "\n",
    "\n",
    "print(idades)\n",
    "print(menor_maior_diferenca(idades))\n",
    "\n",
    "menor = menor_maior_diferenca(idades)['menor']\n",
    "\n",
    "print(menor)\n"
   ]
  },
  {
   "cell_type": "markdown",
   "metadata": {
    "id": "qxKVLPQKZG0G"
   },
   "source": [
    "## Recebendo os retorno de uma função:"
   ]
  },
  {
   "cell_type": "code",
   "execution_count": 32,
   "metadata": {
    "colab": {
     "base_uri": "https://localhost:8080/"
    },
    "executionInfo": {
     "elapsed": 676,
     "status": "ok",
     "timestamp": 1604536508744,
     "user": {
      "displayName": "Orlando O. S.",
      "photoUrl": "https://lh3.googleusercontent.com/a-/AOh14Gj-E1yuy1M_3ruwN4TWYPK4BwysauSW7GQmHheS=s64",
      "userId": "15066502291703974467"
     },
     "user_tz": 180
    },
    "id": "4rcfUSdsZDAd",
    "outputId": "42a1c4c0-dd02-4421-9216-549793d01fc4"
   },
   "outputs": [
    {
     "name": "stdout",
     "output_type": "stream",
     "text": [
      "57\n"
     ]
    }
   ],
   "source": [
    "total = soma(23,34)\n",
    "print(total)"
   ]
  },
  {
   "cell_type": "code",
   "execution_count": 33,
   "metadata": {
    "colab": {
     "base_uri": "https://localhost:8080/"
    },
    "executionInfo": {
     "elapsed": 672,
     "status": "ok",
     "timestamp": 1604536545349,
     "user": {
      "displayName": "Orlando O. S.",
      "photoUrl": "https://lh3.googleusercontent.com/a-/AOh14Gj-E1yuy1M_3ruwN4TWYPK4BwysauSW7GQmHheS=s64",
      "userId": "15066502291703974467"
     },
     "user_tz": 180
    },
    "id": "_BS7WTQPaUgy",
    "outputId": "374eebab-42ae-4d92-e906-409aecf5f6f9"
   },
   "outputs": [
    {
     "name": "stdout",
     "output_type": "stream",
     "text": [
      "O resultado é negativo\n"
     ]
    }
   ],
   "source": [
    "if soma(23,-34) >= 0:\n",
    "  print( 'O resultado é positivo')\n",
    "else:\n",
    "  print( 'O resultado é negativo') \n"
   ]
  },
  {
   "cell_type": "code",
   "execution_count": 34,
   "metadata": {
    "colab": {
     "base_uri": "https://localhost:8080/"
    },
    "executionInfo": {
     "elapsed": 714,
     "status": "ok",
     "timestamp": 1604529700756,
     "user": {
      "displayName": "Orlando O. S.",
      "photoUrl": "https://lh3.googleusercontent.com/a-/AOh14Gj-E1yuy1M_3ruwN4TWYPK4BwysauSW7GQmHheS=s64",
      "userId": "15066502291703974467"
     },
     "user_tz": 180
    },
    "id": "mQniQrpoaUkq",
    "outputId": "3a23420a-37ea-45c9-f936-c8f6144dbf64"
   },
   "outputs": [
    {
     "name": "stdout",
     "output_type": "stream",
     "text": [
      "O maior é maior, o menor é menor e a difença entre eles é diferenca\n"
     ]
    }
   ],
   "source": [
    "men, mai, dif = menor_maior_diferenca(idades)\n",
    "print(f'O maior é {mai}, o menor é {men} e a difença entre eles é {dif}')"
   ]
  },
  {
   "cell_type": "markdown",
   "metadata": {
    "id": "wkFJWRQqbKZu"
   },
   "source": [
    "## A declaração de pass\n",
    "Para criar uma função sem conteúdo utilize a instrução pass para evitar erro de excução."
   ]
  },
  {
   "cell_type": "code",
   "execution_count": 35,
   "metadata": {
    "colab": {
     "base_uri": "https://localhost:8080/"
    },
    "executionInfo": {
     "elapsed": 702,
     "status": "ok",
     "timestamp": 1604536634530,
     "user": {
      "displayName": "Orlando O. S.",
      "photoUrl": "https://lh3.googleusercontent.com/a-/AOh14Gj-E1yuy1M_3ruwN4TWYPK4BwysauSW7GQmHheS=s64",
      "userId": "15066502291703974467"
     },
     "user_tz": 180
    },
    "id": "2SFEemAzbjhI",
    "outputId": "7005b715-7de7-49b6-cbc7-c0d9be89fd73"
   },
   "outputs": [
    {
     "name": "stdout",
     "output_type": "stream",
     "text": [
      "None\n"
     ]
    }
   ],
   "source": [
    "def media(lista_numeros):\n",
    "  pass\n",
    "\n",
    "print(media(idades))"
   ]
  },
  {
   "cell_type": "code",
   "execution_count": 36,
   "metadata": {
    "id": "nDh8EODe1yoX"
   },
   "outputs": [],
   "source": [
    "lista = [1,2,3,4,5]"
   ]
  },
  {
   "cell_type": "code",
   "execution_count": 37,
   "metadata": {
    "id": "3bacna0C1_PI"
   },
   "outputs": [],
   "source": [
    "lista.append(0)"
   ]
  },
  {
   "cell_type": "code",
   "execution_count": 38,
   "metadata": {
    "id": "eUggHSZK2fyM"
   },
   "outputs": [],
   "source": [
    "estados_brasil = \"\"\"UF [-],Código [-],Gentílico [-],Governador [2019],Capital [2010],Área Territorial - km² [2019],População estimada - pessoas [2020],Densidade demográfica - hab/km² [2010],Matrículas no ensino fundamental - matrículas [2018],IDH <span>Índice de desenvolvimento humano</span> [2010],Receitas realizadas - R$ (×1000) [2017],Despesas empenhadas - R$ (×1000) [2017],Rendimento mensal domiciliar per capita - R$ [2019],Total de veículos - veículos [2018],\n",
    "Acre,12,acriano,GLADSON DE LIMA CAMELI,Rio Branco,164123.964,894470,4.47,157646,0.663,6632883.10836,6084416.8063,890,277831,\n",
    "Alagoas,27,alagoano,JOSE RENAN VASCONCELOS CALHEIROS FILHO,Maceió,27843.295,3351543,112.33,490587,0.631,11950438.46015,10460634.91711,731,834827,\n",
    "Amapá,16,amapaense,ANTONIO WALDEZ GÓES DA SILVA,Macapá,142470.762,861773,4.69,136185,0.708,5396417.14471,4224464.08829,880,195039,\n",
    "Amazonas,13,amazonense,WILSON MIRANDA LIMA,Manaus,1559167.889,4207714,2.23,705007,0.674,17328459.43402,15324896.55705,842,883083,\n",
    "Bahia,29,baiano,RUI COSTA DOS SANTOS,Salvador,564760.427,14930634,24.82,2034711,0.660,50191003.24052,45570160.0038,913,4139107,\n",
    "Ceará,23,cearense,CAMILO SOBREIRA DE SANTANA,Fortaleza,148894.441,9187103,56.76,1198116,0.682,28420222.47191,24608352.18276,942,3148369,\n",
    "Distrito Federal,53,brasiliense,IBANEIS ROCHA BARROS JUNIOR,Brasília,5760.783,3055149,444.66,377622,0.824,23812211.27074,21990464.6849,2686,1812473,\n",
    "Espírito Santo,32,capixaba ou espírito-santense,JOSE RENATO CASAGRANDE,Vitória,46074.447,4064052,76.25,502059,0.740,19685616.74376,14392338.00188,1477,1936862,\n",
    "Goiás,52,goiano,RONALDO RAMOS CAIADO,Goiânia,340203.329,7113540,17.65,877593,0.735,37885335.16848,24248380.34233,1306,3909429,\n",
    "Maranhão,21,maranhense,FLÁVIO DINO DE CASTRO E COSTA,São Luís,329642.182,7114598,19.81,1178949,0.639,18503261.35491,17627170.75574,636,1696683,\n",
    "Mato Grosso,51,mato-grossense,MAURO MENDES FERREIRA,Cuiabá,903207.019,3526220,3.36,471613,0.725,23958528.83588,18187363.27009,1403,2080848,\n",
    "Mato Grosso do Sul,50,sul-mato-grossense ou mato-grossense-do-sul,REINALDO AZAMBUJA SILVA,Campo Grande,357145.534,2809394,6.86,404114,0.729,16396655.77012,14506915.37404,1514,1583142,\n",
    "Minas Gerais,31,mineiro,ROMEU ZEMA NETO,Belo Horizonte,586521.123,21292666,33.41,2511483,0.731,97199823.15616,98391669.16323,1358,11191341,\n",
    "Pará,15,paraense,HELDER ZAHLUTH BARBALHO,Belém,1245870.798,8690745,6.07,1439788,0.646,25849446.10454,22533470.04547,807,2013952,\n",
    "Paraíba,25,paraibano,JOÃO AZEVEDO LINS FILHO,João Pessoa,56467.242,4039277,66.70,556248,0.658,13097005.31928,10074700.04266,929,1293668,\n",
    "Paraná,41,paranaense,CARLOS ROBERTO MASSA JUNIOR,Curitiba,199298.979,11516840,52.40,1427218,0.749,60163576.12246,55534402.97483,1621,7571122,\n",
    "Pernambuco,26,pernambucano,PAULO HENRIQUE SARAIVA CÂMARA,Recife,98067.881,9616621,89.62,1301930,0.673,35746028.97102,33320486.44445,970,3010638,\n",
    "Piauí,22,piauiense,JOSÉ WELLINGTON BARROSO DE ARAÚJO DIAS,Teresina,251756.515,3281480,12.40,480126,0.646,12124215.61511,9676736.31835,827,1196192,\n",
    "Rio de Janeiro,33,fluminense,WILSON JOSÉ WITZEL,Rio de Janeiro,43750.427,17366189,365.23,2003315,0.761,78488140.78862,67965548.69757,1882,6725822,\n",
    "Rio Grande do Norte,24,potiguar ou  norte-rio-grandense ou  rio-grandense-do-norte,MARIA DE FATIMA BEZERRA,Natal,52809.602,3534165,59.99,467629,0.684,13527552.73159,11330957.55333,1057,1290903,\n",
    "Rio Grande do Sul,43,gaúcho ou sul-rio-grandense,EDUARDO FIGUEIREDO CAVALHEIRO LEITE,Porto Alegre,281707.156,11422973,37.96,1298736,0.746,66397468.17915,62476279.34364,1843,7077972,\n",
    "Rondônia,11,rondoniense ou rondoniano,MARCOS JOSE ROCHA DOS SANTOS,Porto Velho,237765.240,1796460,6.58,269626,0.690,9122310.72305,7085530.0168,1136,985047,\n",
    "Roraima,14,roraimense,ANTONIO OLIVERIO GARCIA DE ALMEIDA,Boa Vista,223644.527,631181,2.01,96582,0.707,4419450.41557,3384683.73914,1044,219290,\n",
    "Santa Catarina,42,catarinense ou barriga-verde,CARLOS MOISÉS DA SILVA,Florianópolis,95730.684,7252502,65.27,851993,0.774,34696772.82078,25595103.37918,1769,5152615,\n",
    "São Paulo,35,paulista,JOÃO AGRIPINO DA COSTA DORIA JUNIOR,São Paulo,248219.481,46289333,166.23,5367614,0.783,232822496.56706,231982243.69176,1946,29057749,\n",
    "Sergipe,28,sergipano ou sergipense,BELIVALDO CHAGAS SILVA,Aracaju,21925.424,2318822,94.36,331297,0.665,10145046.95355,8494927.19996,980,772380,\n",
    "Tocantins,17,tocantinense,MAURO CARLESSE,Palmas,277466.763,1590248,4.98,246183,0.699,10305099.01288,8929456.43836,1056,690169,\"\"\"\n"
   ]
  },
  {
   "cell_type": "code",
   "execution_count": 39,
   "metadata": {
    "id": "CAGz__T12uni"
   },
   "outputs": [],
   "source": [
    "estados_dict = {}\n",
    "cabecalho = estados_brasil.splitlines()[0].split(\",\")\n",
    "for linha in estados_brasil.splitlines()[1:]:\n",
    "  linhalista = linha.split(\",\")\n",
    "  dictuf = { cabecalho[x] : linhalista[x] for x in range(len(cabecalho))  }\n",
    "  uf = linhalista[0]\n",
    "  estados_dict[uf] = dictuf"
   ]
  },
  {
   "cell_type": "code",
   "execution_count": 40,
   "metadata": {
    "id": "CD-6nvc729Xf"
   },
   "outputs": [],
   "source": [
    "def convertcstparadict (texto):\n",
    "  estados_dict = {}\n",
    "  cabecalho = texto.splitlines()[0].split(\",\")\n",
    "  for linha in texto.splitlines()[1:]:\n",
    "    linhalista = linha.split(\",\")\n",
    "    dictuf = { cabecalho[x] : linhalista[x] for x in range(len(cabecalho))  }\n",
    "    uf = linhalista[0]\n",
    "    estados_dict[uf] = dictuf\n",
    "  return estados_dict"
   ]
  },
  {
   "cell_type": "code",
   "execution_count": 41,
   "metadata": {
    "colab": {
     "base_uri": "https://localhost:8080/"
    },
    "executionInfo": {
     "elapsed": 655,
     "status": "ok",
     "timestamp": 1604537237357,
     "user": {
      "displayName": "Orlando O. S.",
      "photoUrl": "https://lh3.googleusercontent.com/a-/AOh14Gj-E1yuy1M_3ruwN4TWYPK4BwysauSW7GQmHheS=s64",
      "userId": "15066502291703974467"
     },
     "user_tz": 180
    },
    "id": "ci2tZK6v3nmj",
    "outputId": "88a673fe-a4aa-46fb-985e-6a040c80cadd"
   },
   "outputs": [
    {
     "data": {
      "text/plain": [
       "{'UF [-]': 'Acre',\n",
       " 'Código [-]': '12',\n",
       " 'Gentílico [-]': 'acriano',\n",
       " 'Governador [2019]': 'GLADSON DE LIMA CAMELI',\n",
       " 'Capital [2010]': 'Rio Branco',\n",
       " 'Área Territorial - km² [2019]': '164123.964',\n",
       " 'População estimada - pessoas [2020]': '894470',\n",
       " 'Densidade demográfica - hab/km² [2010]': '4.47',\n",
       " 'Matrículas no ensino fundamental - matrículas [2018]': '157646',\n",
       " 'IDH <span>Índice de desenvolvimento humano</span> [2010]': '0.663',\n",
       " 'Receitas realizadas - R$ (×1000) [2017]': '6632883.10836',\n",
       " 'Despesas empenhadas - R$ (×1000) [2017]': '6084416.8063',\n",
       " 'Rendimento mensal domiciliar per capita - R$ [2019]': '890',\n",
       " 'Total de veículos - veículos [2018]': '277831',\n",
       " '': ''}"
      ]
     },
     "execution_count": 41,
     "metadata": {},
     "output_type": "execute_result"
    }
   ],
   "source": [
    "convertcstparadict(estados_brasil)['Acre']"
   ]
  },
  {
   "cell_type": "code",
   "execution_count": 42,
   "metadata": {
    "colab": {
     "base_uri": "https://localhost:8080/"
    },
    "executionInfo": {
     "elapsed": 784,
     "status": "ok",
     "timestamp": 1604537550757,
     "user": {
      "displayName": "Orlando O. S.",
      "photoUrl": "https://lh3.googleusercontent.com/a-/AOh14Gj-E1yuy1M_3ruwN4TWYPK4BwysauSW7GQmHheS=s64",
      "userId": "15066502291703974467"
     },
     "user_tz": 180
    },
    "id": "eKoYAHtA3upq",
    "outputId": "41c0dbb7-b46f-4128-d5b6-9e91e744cd7f"
   },
   "outputs": [
    {
     "data": {
      "text/plain": [
       "{'fulano': {'nome': 'fulano', ' sobrenome': ' silva'},\n",
       " 'Sicrano': {'nome': 'Sicrano', ' sobrenome': ' Souza'},\n",
       " 'Beltrano': {'nome': 'Beltrano', ' sobrenome': ' Reis'}}"
      ]
     },
     "execution_count": 42,
     "metadata": {},
     "output_type": "execute_result"
    }
   ],
   "source": [
    "\n",
    "meucsv = \"\"\"nome, sobrenome\n",
    "fulano, silva\n",
    "Sicrano, Souza\n",
    "Beltrano, Reis\n",
    "\"\"\"\n",
    "convertcstparadict(meucsv)"
   ]
  },
  {
   "cell_type": "code",
   "execution_count": 43,
   "metadata": {
    "colab": {
     "base_uri": "https://localhost:8080/"
    },
    "executionInfo": {
     "elapsed": 659,
     "status": "ok",
     "timestamp": 1604537984495,
     "user": {
      "displayName": "Orlando O. S.",
      "photoUrl": "https://lh3.googleusercontent.com/a-/AOh14Gj-E1yuy1M_3ruwN4TWYPK4BwysauSW7GQmHheS=s64",
      "userId": "15066502291703974467"
     },
     "user_tz": 180
    },
    "id": "jHgcMch94dIw",
    "outputId": "f50b90c2-d715-41ca-ef24-cfd053cce465"
   },
   "outputs": [
    {
     "data": {
      "text/plain": [
       "{'fulano': {'nome': 'fulano', ' sobrenome': ' silva'},\n",
       " 'Sicrano': {'nome': 'Sicrano', ' sobrenome': ' Souza'},\n",
       " 'Beltrano': {'nome': 'Beltrano', ' sobrenome': ' Reis'}}"
      ]
     },
     "execution_count": 43,
     "metadata": {},
     "output_type": "execute_result"
    }
   ],
   "source": [
    "def obtem_cabecalho(texto):\n",
    "  colunas = texto.splitlines()[0].split(\",\")\n",
    "  return colunas\n",
    "\n",
    "def geradictlinha(linha,cabecalho):\n",
    "    linhalista = linha.split(\",\")\n",
    "    dictuf = { cabecalho[x] : linhalista[x] for x in range(len(cabecalho))  }\n",
    "    uf = linhalista[0]\n",
    "    return dictuf\n",
    "\n",
    "def convertcstparadict (texto):\n",
    "  estados_dict = {}\n",
    "  cabecalho = obtem_cabecalho(texto)\n",
    "  for linha in texto.splitlines()[1:]:\n",
    "    chave = linha.split(\",\")[0]\n",
    "    estados_dict[chave] = geradictlinha(linha, cabecalho)\n",
    "  return estados_dict\n",
    "\n",
    "convertcstparadict(meucsv)"
   ]
  },
  {
   "cell_type": "markdown",
   "metadata": {
    "id": "azP7MJvCbdhP"
   },
   "source": [
    "## Funções Recursivas\n",
    "\n",
    "Recursão significa que uma função definida pode chamar a si mesma.\n",
    "\n",
    "Usada para simplificar a programação, mas deve ser usada com muito cuidado para não criar uma função que nunca termina nunca termina, ou uma que usa muito recurso da memória ou  processador. \n",
    "\n",
    "Com esses cuidados, pode ser uma abordagem de programação muito eficiente e matematicamente elegante.\n",
    "\n"
   ]
  },
  {
   "cell_type": "code",
   "execution_count": 44,
   "metadata": {
    "id": "wrHyTBD8c6_-"
   },
   "outputs": [],
   "source": [
    "lista =  [1,2,3,4,5,6]"
   ]
  },
  {
   "cell_type": "code",
   "execution_count": 45,
   "metadata": {
    "colab": {
     "base_uri": "https://localhost:8080/"
    },
    "executionInfo": {
     "elapsed": 659,
     "status": "ok",
     "timestamp": 1604538320647,
     "user": {
      "displayName": "Orlando O. S.",
      "photoUrl": "https://lh3.googleusercontent.com/a-/AOh14Gj-E1yuy1M_3ruwN4TWYPK4BwysauSW7GQmHheS=s64",
      "userId": "15066502291703974467"
     },
     "user_tz": 180
    },
    "id": "BT1bizkPdBy2",
    "outputId": "fd3b9195-cc7c-469a-df13-d8cb6742b81f"
   },
   "outputs": [
    {
     "data": {
      "text/plain": [
       "45"
      ]
     },
     "execution_count": 45,
     "metadata": {},
     "output_type": "execute_result"
    }
   ],
   "source": [
    "def rec_soma(lista):\n",
    "  if(lista):\n",
    "    item = lista.pop()\n",
    "    recresult = rec_soma(lista)\n",
    "    total = item + recresult\n",
    "  else:\n",
    "    total = 0\n",
    "  return total\n",
    "\n",
    "lista = list(range(10))\n",
    "rec_soma(lista)"
   ]
  },
  {
   "cell_type": "code",
   "execution_count": 46,
   "metadata": {
    "colab": {
     "base_uri": "https://localhost:8080/"
    },
    "executionInfo": {
     "elapsed": 655,
     "status": "ok",
     "timestamp": 1604538393293,
     "user": {
      "displayName": "Orlando O. S.",
      "photoUrl": "https://lh3.googleusercontent.com/a-/AOh14Gj-E1yuy1M_3ruwN4TWYPK4BwysauSW7GQmHheS=s64",
      "userId": "15066502291703974467"
     },
     "user_tz": 180
    },
    "id": "PPyAHCJccuPd",
    "outputId": "70256e2a-4499-4be5-d599-601c2e84c2f3"
   },
   "outputs": [
    {
     "name": "stdout",
     "output_type": "stream",
     "text": [
      "Antes da recursão\n",
      "[0, 1, 2, 3, 4, 5, 6, 7, 8, 9]\n",
      "Antes da recursão\n",
      "[0, 1, 2, 3, 4, 5, 6, 7, 8]\n",
      "Antes da recursão\n",
      "[0, 1, 2, 3, 4, 5, 6, 7]\n",
      "Antes da recursão\n",
      "[0, 1, 2, 3, 4, 5, 6]\n",
      "Antes da recursão\n",
      "[0, 1, 2, 3, 4, 5]\n",
      "Antes da recursão\n",
      "[0, 1, 2, 3, 4]\n",
      "Antes da recursão\n",
      "[0, 1, 2, 3]\n",
      "Antes da recursão\n",
      "[0, 1, 2]\n",
      "Antes da recursão\n",
      "[0, 1]\n",
      "Antes da recursão\n",
      "[0]\n",
      "Depois da recursão\n",
      "0 + 0 = 0\n",
      "[]\n",
      "Depois da recursão\n",
      "0 + 1 = 1\n",
      "[]\n",
      "Depois da recursão\n",
      "1 + 2 = 3\n",
      "[]\n",
      "Depois da recursão\n",
      "3 + 3 = 6\n",
      "[]\n",
      "Depois da recursão\n",
      "6 + 4 = 10\n",
      "[]\n",
      "Depois da recursão\n",
      "10 + 5 = 15\n",
      "[]\n",
      "Depois da recursão\n",
      "15 + 6 = 21\n",
      "[]\n",
      "Depois da recursão\n",
      "21 + 7 = 28\n",
      "[]\n",
      "Depois da recursão\n",
      "28 + 8 = 36\n",
      "[]\n",
      "Depois da recursão\n",
      "36 + 9 = 45\n",
      "[]\n"
     ]
    },
    {
     "data": {
      "text/plain": [
       "45"
      ]
     },
     "execution_count": 46,
     "metadata": {},
     "output_type": "execute_result"
    }
   ],
   "source": [
    "def rec_soma(lista):\n",
    "  if(lista):\n",
    "    print('Antes da recursão')\n",
    "    print(lista)\n",
    "    item = lista.pop()\n",
    "    recresult = rec_soma(lista)\n",
    "   \n",
    "    print('Depois da recursão')\n",
    "    total = item + recresult\n",
    "    print(f'{recresult} + {item} = {total}' )\n",
    "    print(lista)\n",
    "  else:\n",
    "    total = 0\n",
    "  return total\n",
    "\n",
    "lista = list(range(10))\n",
    "rec_soma(lista)"
   ]
  },
  {
   "cell_type": "markdown",
   "metadata": {
    "id": "n42INMm5PhIu"
   },
   "source": [
    "# Escopo de variáveis em Python \n",
    "Uma variável está disponível apenas dentro da região em que foi criada. Isso é chamado de escopo .\n",
    "\n",
    "## Escopo Local\n",
    "Uma variável criada dentro de uma função pertence ao escopo local dessa função e só pode ser usada dentro dessa função.\n"
   ]
  },
  {
   "cell_type": "code",
   "execution_count": 47,
   "metadata": {
    "id": "IkbIoRW29U8S"
   },
   "outputs": [
    {
     "ename": "NameError",
     "evalue": "name 'nome_pessoa' is not defined",
     "output_type": "error",
     "traceback": [
      "\u001b[1;31m---------------------------------------------------------------------------\u001b[0m",
      "\u001b[1;31mNameError\u001b[0m                                 Traceback (most recent call last)",
      "\u001b[1;32m<ipython-input-47-9e3401a3e38b>\u001b[0m in \u001b[0;36m<module>\u001b[1;34m\u001b[0m\n\u001b[1;32m----> 1\u001b[1;33m \u001b[1;32mdel\u001b[0m \u001b[0mnome_pessoa\u001b[0m\u001b[1;33m\u001b[0m\u001b[1;33m\u001b[0m\u001b[0m\n\u001b[0m\u001b[0;32m      2\u001b[0m \u001b[1;33m\u001b[0m\u001b[0m\n",
      "\u001b[1;31mNameError\u001b[0m: name 'nome_pessoa' is not defined"
     ]
    }
   ],
   "source": [
    " del nome_pessoa\n",
    " "
   ]
  },
  {
   "cell_type": "code",
   "execution_count": 48,
   "metadata": {
    "colab": {
     "base_uri": "https://localhost:8080/",
     "height": 235
    },
    "executionInfo": {
     "elapsed": 631,
     "status": "error",
     "timestamp": 1604538718427,
     "user": {
      "displayName": "Orlando O. S.",
      "photoUrl": "https://lh3.googleusercontent.com/a-/AOh14Gj-E1yuy1M_3ruwN4TWYPK4BwysauSW7GQmHheS=s64",
      "userId": "15066502291703974467"
     },
     "user_tz": 180
    },
    "id": "OwkGn3SlPhIu",
    "outputId": "131376a4-e6df-41ec-f61b-bfc5129900f0"
   },
   "outputs": [
    {
     "name": "stdout",
     "output_type": "stream",
     "text": [
      "Maria Santos\n",
      "Maria Santos\n"
     ]
    },
    {
     "ename": "NameError",
     "evalue": "name 'nome_pessoa' is not defined",
     "output_type": "error",
     "traceback": [
      "\u001b[1;31m---------------------------------------------------------------------------\u001b[0m",
      "\u001b[1;31mNameError\u001b[0m                                 Traceback (most recent call last)",
      "\u001b[1;32m<ipython-input-48-5ba3db1f4854>\u001b[0m in \u001b[0;36m<module>\u001b[1;34m\u001b[0m\n\u001b[0;32m      6\u001b[0m \u001b[0mnome_completo\u001b[0m\u001b[1;33m(\u001b[0m \u001b[0msobrenome\u001b[0m \u001b[1;33m=\u001b[0m \u001b[1;34m\"Santos\"\u001b[0m\u001b[1;33m,\u001b[0m \u001b[0mnome\u001b[0m \u001b[1;33m=\u001b[0m \u001b[1;34m\"Maria\"\u001b[0m \u001b[1;33m)\u001b[0m\u001b[1;33m\u001b[0m\u001b[1;33m\u001b[0m\u001b[0m\n\u001b[0;32m      7\u001b[0m \u001b[1;33m\u001b[0m\u001b[0m\n\u001b[1;32m----> 8\u001b[1;33m \u001b[0mprint\u001b[0m\u001b[1;33m(\u001b[0m\u001b[0mnome_pessoa\u001b[0m\u001b[1;33m)\u001b[0m\u001b[1;33m\u001b[0m\u001b[1;33m\u001b[0m\u001b[0m\n\u001b[0m",
      "\u001b[1;31mNameError\u001b[0m: name 'nome_pessoa' is not defined"
     ]
    }
   ],
   "source": [
    "def nome_completo(nome, sobrenome):\n",
    "  nome_pessoa = f'{nome} {sobrenome}'\n",
    "  print(nome_pessoa)\n",
    "  \n",
    "nome_completo( nome = \"Maria\", sobrenome =\"Santos\")\n",
    "nome_completo( sobrenome = \"Santos\", nome = \"Maria\" )\n",
    "\n",
    "print(nome_pessoa)"
   ]
  },
  {
   "cell_type": "markdown",
   "metadata": {
    "id": "wnz0IjNwPhIx"
   },
   "source": [
    "## Função Dentro da Função\n",
    " Variáveis locais são acessiveis por função definida dentro da própria função.\n",
    " \n"
   ]
  },
  {
   "cell_type": "code",
   "execution_count": null,
   "metadata": {
    "colab": {
     "base_uri": "https://localhost:8080/"
    },
    "executionInfo": {
     "elapsed": 769,
     "status": "ok",
     "timestamp": 1604538817785,
     "user": {
      "displayName": "Orlando O. S.",
      "photoUrl": "https://lh3.googleusercontent.com/a-/AOh14Gj-E1yuy1M_3ruwN4TWYPK4BwysauSW7GQmHheS=s64",
      "userId": "15066502291703974467"
     },
     "user_tz": 180
    },
    "id": "yWEW9WWDPhIy",
    "outputId": "9ceec94b-7857-4bdf-e320-e59b60867994"
   },
   "outputs": [],
   "source": [
    "def nome_completo(nome, sobrenome):\n",
    "  nome_pessoa = f'{nome} {sobrenome}'\n",
    "  print(nome_pessoa)\n",
    "\n",
    "  def cumprimentar():\n",
    "    print(f'Olá {nome_pessoa}')\n",
    "\n",
    "  cumprimentar()\n",
    "  \n",
    "nome_completo( nome = \"Maria\", sobrenome =\"Santos\")\n",
    "nome_completo( sobrenome = \"Santos\", nome = \"Maria\" )"
   ]
  },
  {
   "cell_type": "code",
   "execution_count": null,
   "metadata": {
    "colab": {
     "base_uri": "https://localhost:8080/"
    },
    "executionInfo": {
     "elapsed": 673,
     "status": "ok",
     "timestamp": 1604538981603,
     "user": {
      "displayName": "Orlando O. S.",
      "photoUrl": "https://lh3.googleusercontent.com/a-/AOh14Gj-E1yuy1M_3ruwN4TWYPK4BwysauSW7GQmHheS=s64",
      "userId": "15066502291703974467"
     },
     "user_tz": 180
    },
    "id": "db8UXe_P99Bt",
    "outputId": "1062b899-9fad-4656-8e62-84049db23861"
   },
   "outputs": [],
   "source": [
    "def cumprimentar(nome_pessoa):\n",
    "    print(f'Olá {nome_pessoa}')\n",
    "\n",
    "def nome_completo(nome, sobrenome):\n",
    "  nome_pessoa = f'{nome} {sobrenome}'\n",
    "  print(nome_pessoa)\n",
    "  cumprimentar(nome_pessoa)\n",
    "  \n",
    "nome_completo( nome = \"Maria\", sobrenome =\"Santos\")\n",
    "nome_completo( sobrenome = \"Santos\", nome = \"Maria\" )"
   ]
  },
  {
   "cell_type": "markdown",
   "metadata": {
    "id": "43vXSiOXPhI1"
   },
   "source": [
    "## Escopo global\n",
    "Uma variável criada no corpo principal do código Python é uma variável global e pertence ao escopo global e estão disponíveis em qualquer escopo"
   ]
  },
  {
   "cell_type": "code",
   "execution_count": null,
   "metadata": {
    "colab": {
     "base_uri": "https://localhost:8080/"
    },
    "executionInfo": {
     "elapsed": 706,
     "status": "ok",
     "timestamp": 1604539291793,
     "user": {
      "displayName": "Orlando O. S.",
      "photoUrl": "https://lh3.googleusercontent.com/a-/AOh14Gj-E1yuy1M_3ruwN4TWYPK4BwysauSW7GQmHheS=s64",
      "userId": "15066502291703974467"
     },
     "user_tz": 180
    },
    "id": "FonL07fAPhI1",
    "outputId": "981bccba-5abb-4590-bf18-5e988cf7a9f6"
   },
   "outputs": [],
   "source": [
    "nome = \"Maria\"\n",
    "sobrenome =\"Santos\"\n",
    "\n",
    "def nome_completo():\n",
    "  nome = \"jose\"\n",
    "  sobrenome =\"Santos\"\n",
    "  nome_pessoa = f'{nome} {sobrenome}'\n",
    "  print(nome_pessoa)\n",
    "\n",
    "  def cumprimentar():\n",
    "    print(f'Olá {nome} {sobrenome}')\n",
    "\n",
    "  cumprimentar()\n",
    "  \n",
    "nome_completo()\n",
    "\n",
    "print(f'{nome} {sobrenome}')\n"
   ]
  },
  {
   "cell_type": "markdown",
   "metadata": {
    "id": "JczYM8SPPhI4"
   },
   "source": [
    "## Variáveis com mesmo nome\n",
    "Se o mesmo nome de variável for usando dentro e fora de uma função, serão tratadas como duas variáveis diferentes, uma no escopo global e outra no escopo local da função\n"
   ]
  },
  {
   "cell_type": "code",
   "execution_count": null,
   "metadata": {
    "id": "-12qvZNYPhI5"
   },
   "outputs": [],
   "source": [
    "\n",
    "def nome_completo():\n",
    "  nome = \"Jose\"\n",
    "  sobrenome =\"Silva\"\n",
    "  nome_pessoa = f'{nome} {sobrenome}'\n",
    "  print(nome_pessoa)\n",
    "\n",
    "  def cumprimentar():\n",
    "    print(f'Olá {nome} {sobrenome}')\n",
    "\n",
    "  cumprimentar()"
   ]
  },
  {
   "cell_type": "code",
   "execution_count": null,
   "metadata": {
    "colab": {
     "base_uri": "https://localhost:8080/"
    },
    "executionInfo": {
     "elapsed": 667,
     "status": "ok",
     "timestamp": 1604539386228,
     "user": {
      "displayName": "Orlando O. S.",
      "photoUrl": "https://lh3.googleusercontent.com/a-/AOh14Gj-E1yuy1M_3ruwN4TWYPK4BwysauSW7GQmHheS=s64",
      "userId": "15066502291703974467"
     },
     "user_tz": 180
    },
    "id": "Rhb6_Ttrfprr",
    "outputId": "3c98d1f7-a6da-428f-ca96-bb0c3d5cc114"
   },
   "outputs": [],
   "source": [
    "nome = \"Maria\"\n",
    "sobrenome =\"Santos\"\n",
    "nome_completo()\n",
    "\n",
    "\n",
    "print(f'Oi {nome} {sobrenome}')"
   ]
  },
  {
   "cell_type": "markdown",
   "metadata": {
    "id": "ucPzYKf-PhI7"
   },
   "source": [
    "## Palavra-chave global\n",
    "Para criar uma variável global, a partir do escopo local, pode-se usar a palavra - chave global.\n",
    "\n"
   ]
  },
  {
   "cell_type": "code",
   "execution_count": null,
   "metadata": {
    "colab": {
     "base_uri": "https://localhost:8080/"
    },
    "executionInfo": {
     "elapsed": 678,
     "status": "ok",
     "timestamp": 1604539449505,
     "user": {
      "displayName": "Orlando O. S.",
      "photoUrl": "https://lh3.googleusercontent.com/a-/AOh14Gj-E1yuy1M_3ruwN4TWYPK4BwysauSW7GQmHheS=s64",
      "userId": "15066502291703974467"
     },
     "user_tz": 180
    },
    "id": "GIlbyJIYPhI8",
    "outputId": "df7218ed-e5bc-4912-8bd9-6a86528e3831"
   },
   "outputs": [],
   "source": [
    "def nome_completo():\n",
    "  global nome_pessoa\n",
    "  nome_pessoa = f'{nome} {sobrenome}'\n",
    "  print(nome_pessoa)\n",
    "\n",
    "def cumprimentar():\n",
    "  print(f'Olá {nome_pessoa}') \n",
    "\n",
    "nome = \"Mariana\"\n",
    "sobrenome =\"Silva\"\n",
    "nome_completo()\n",
    "cumprimentar()  "
   ]
  },
  {
   "cell_type": "markdown",
   "metadata": {
    "id": "pBkekhuepmuN"
   },
   "source": [
    "## Usar a palavra-chave global se quiser fazer uma alteração em uma variável global dentro de uma função.\n",
    "  "
   ]
  },
  {
   "cell_type": "code",
   "execution_count": null,
   "metadata": {
    "colab": {
     "base_uri": "https://localhost:8080/"
    },
    "executionInfo": {
     "elapsed": 663,
     "status": "ok",
     "timestamp": 1604539600722,
     "user": {
      "displayName": "Orlando O. S.",
      "photoUrl": "https://lh3.googleusercontent.com/a-/AOh14Gj-E1yuy1M_3ruwN4TWYPK4BwysauSW7GQmHheS=s64",
      "userId": "15066502291703974467"
     },
     "user_tz": 180
    },
    "id": "IkuQgnVJPhI-",
    "outputId": "c0036eaf-c621-4274-a3b8-238049172544"
   },
   "outputs": [],
   "source": [
    "def nome_completo():\n",
    "  global nome \n",
    "  global sobrenome \n",
    "\n",
    "  nome = \"José\"\n",
    "  sobrenome =\"Fernandes\"\n",
    "  global nome_pessoa\n",
    "  nome_pessoa = f'{nome} {sobrenome}'\n",
    "  print(nome_pessoa)\n",
    "\n",
    "def cumprimentar():\n",
    "  print(f'Olá {nome_pessoa}') \n",
    "\n",
    "nome = \"Mariana\"\n",
    "sobrenome =\"Silva\"\n",
    "nome_completo()\n",
    "cumprimentar()  \n",
    "\n",
    "print(f'{nome} {sobrenome}')"
   ]
  },
  {
   "cell_type": "markdown",
   "metadata": {
    "id": "CBWeMNKOZoMU"
   },
   "source": [
    "# Python Lambda\n",
    "## Função Lambda: Pode receber qualquer número de argumentos, mas só pode ter uma expressão.\n",
    "\n",
    "Use funções lambda quando uma função anônima for necessária por um curto período de tempo.\n",
    "\n",
    "Sintaxe\n",
    "```\n",
    "lambda arguments : expression\n",
    "```"
   ]
  },
  {
   "cell_type": "code",
   "execution_count": null,
   "metadata": {
    "colab": {
     "base_uri": "https://localhost:8080/"
    },
    "executionInfo": {
     "elapsed": 1213,
     "status": "ok",
     "timestamp": 1604704943367,
     "user": {
      "displayName": "Orlando O. S.",
      "photoUrl": "https://lh3.googleusercontent.com/a-/AOh14Gj-E1yuy1M_3ruwN4TWYPK4BwysauSW7GQmHheS=s64",
      "userId": "15066502291703974467"
     },
     "user_tz": 180
    },
    "id": "eFSHyECFPhJC",
    "outputId": "097cb5b2-105d-45b7-faf6-d3537a066d9b"
   },
   "outputs": [],
   "source": [
    "fun = lambda x : x ** 2\n",
    "print(fun(10))"
   ]
  },
  {
   "cell_type": "markdown",
   "metadata": {
    "id": "mjsNWdRVPhJE"
   },
   "source": [
    "### Podem receber qualquer número de argumentos:\n"
   ]
  },
  {
   "cell_type": "code",
   "execution_count": null,
   "metadata": {
    "colab": {
     "base_uri": "https://localhost:8080/"
    },
    "executionInfo": {
     "elapsed": 1190,
     "status": "ok",
     "timestamp": 1604704989397,
     "user": {
      "displayName": "Orlando O. S.",
      "photoUrl": "https://lh3.googleusercontent.com/a-/AOh14Gj-E1yuy1M_3ruwN4TWYPK4BwysauSW7GQmHheS=s64",
      "userId": "15066502291703974467"
     },
     "user_tz": 180
    },
    "id": "DME6dnLJPhJF",
    "outputId": "4fbe1633-c4fe-496d-d724-6cfc9f189a91"
   },
   "outputs": [],
   "source": [
    "fun = lambda x,y : x ** y\n",
    "print(fun(10,2))\n",
    "print(fun(10,3))"
   ]
  },
  {
   "cell_type": "code",
   "execution_count": null,
   "metadata": {
    "colab": {
     "base_uri": "https://localhost:8080/"
    },
    "executionInfo": {
     "elapsed": 514,
     "status": "ok",
     "timestamp": 1604705005148,
     "user": {
      "displayName": "Orlando O. S.",
      "photoUrl": "https://lh3.googleusercontent.com/a-/AOh14Gj-E1yuy1M_3ruwN4TWYPK4BwysauSW7GQmHheS=s64",
      "userId": "15066502291703974467"
     },
     "user_tz": 180
    },
    "id": "uD71XFgRPhJH",
    "outputId": "67c30448-7070-40bb-e708-0f0e41eb7481"
   },
   "outputs": [],
   "source": [
    "fun = lambda x,y,z : x ** y + z\n",
    "print(fun(10,2,10))"
   ]
  },
  {
   "cell_type": "markdown",
   "metadata": {
    "id": "T_QBrTgEPhJK"
   },
   "source": [
    "## Pode ser usado uma função anônima dentro de outra função.\n"
   ]
  },
  {
   "cell_type": "code",
   "execution_count": null,
   "metadata": {
    "colab": {
     "base_uri": "https://localhost:8080/"
    },
    "executionInfo": {
     "elapsed": 584,
     "status": "ok",
     "timestamp": 1604705058360,
     "user": {
      "displayName": "Orlando O. S.",
      "photoUrl": "https://lh3.googleusercontent.com/a-/AOh14Gj-E1yuy1M_3ruwN4TWYPK4BwysauSW7GQmHheS=s64",
      "userId": "15066502291703974467"
     },
     "user_tz": 180
    },
    "id": "w6MoP97CPhJK",
    "outputId": "66c0ceb7-6f3a-4990-ad45-715ec28094d8"
   },
   "outputs": [],
   "source": [
    "def quadrado ():\n",
    " return lambda x : x ** 2\n",
    "\n",
    "funcquad = quadrado()\n",
    "\n",
    "print(funcquad(5))"
   ]
  },
  {
   "cell_type": "code",
   "execution_count": null,
   "metadata": {
    "colab": {
     "base_uri": "https://localhost:8080/"
    },
    "executionInfo": {
     "elapsed": 636,
     "status": "ok",
     "timestamp": 1604705139157,
     "user": {
      "displayName": "Orlando O. S.",
      "photoUrl": "https://lh3.googleusercontent.com/a-/AOh14Gj-E1yuy1M_3ruwN4TWYPK4BwysauSW7GQmHheS=s64",
      "userId": "15066502291703974467"
     },
     "user_tz": 180
    },
    "id": "pBG_KwgfPhJO",
    "outputId": "05459820-8d83-40e3-d7bf-ff55c3491cfc"
   },
   "outputs": [],
   "source": [
    "def potencia (p):\n",
    " return lambda x : x ** p\n",
    "\n",
    "funcquad = potencia(2)\n",
    "\n",
    "print(funcquad(10))"
   ]
  },
  {
   "cell_type": "code",
   "execution_count": null,
   "metadata": {
    "colab": {
     "base_uri": "https://localhost:8080/"
    },
    "executionInfo": {
     "elapsed": 1195,
     "status": "ok",
     "timestamp": 1604705155462,
     "user": {
      "displayName": "Orlando O. S.",
      "photoUrl": "https://lh3.googleusercontent.com/a-/AOh14Gj-E1yuy1M_3ruwN4TWYPK4BwysauSW7GQmHheS=s64",
      "userId": "15066502291703974467"
     },
     "user_tz": 180
    },
    "id": "0af5UB0SFO6U",
    "outputId": "01a3104b-ecdc-4a63-c2e4-adc029a77597"
   },
   "outputs": [],
   "source": [
    "funccubo = potencia(3)\n",
    "\n",
    "print(funccubo(10))"
   ]
  },
  {
   "cell_type": "markdown",
   "metadata": {
    "id": "K4qo6b9rYYcH"
   },
   "source": [
    "# map()\n",
    "map() função nativa do interpretador Python que serve para aplicar uma função a cada elemento de uma lista, retornando uma nova lista contendo os resultados da aplicação da função.\n",
    "\n",
    "```\n",
    "map(function_to_apply, list_of_inputs)\n",
    "\n",
    "```"
   ]
  },
  {
   "cell_type": "code",
   "execution_count": null,
   "metadata": {
    "colab": {
     "background_save": true,
     "base_uri": "https://localhost:8080/"
    },
    "executionInfo": {
     "elapsed": 1223,
     "status": "ok",
     "timestamp": 1604629900923,
     "user": {
      "displayName": "Orlando O. S.",
      "photoUrl": "https://lh3.googleusercontent.com/a-/AOh14Gj-E1yuy1M_3ruwN4TWYPK4BwysauSW7GQmHheS=s64",
      "userId": "15066502291703974467"
     },
     "user_tz": 180
    },
    "id": "nQxvnmAUZFN-",
    "outputId": "60af6e0a-1d6b-4201-8bc5-b1566358b0df"
   },
   "outputs": [],
   "source": [
    "items = [1, 2, 3, 4, 5]\n",
    "quadrado = []\n",
    "for x in items:\n",
    "    quadrado.append(x**2)\n",
    "print(quadrado)"
   ]
  },
  {
   "cell_type": "code",
   "execution_count": 49,
   "metadata": {
    "colab": {
     "background_save": true
    },
    "id": "x41YJ2iAY6DV",
    "outputId": "c5bdd703-1a00-4d83-cd36-fdb8fcd5b421"
   },
   "outputs": [
    {
     "name": "stdout",
     "output_type": "stream",
     "text": [
      "[1, 4, 9, 16, 25]\n"
     ]
    }
   ],
   "source": [
    "items = [1, 2, 3, 4, 5]\n",
    "quadrado = [x**2 for x in items ]\n",
    "print(quadrado)"
   ]
  },
  {
   "cell_type": "code",
   "execution_count": 50,
   "metadata": {
    "id": "GTUeTzJjZg-_"
   },
   "outputs": [],
   "source": [
    "def quad(x):\n",
    "  return x**2"
   ]
  },
  {
   "cell_type": "code",
   "execution_count": 51,
   "metadata": {
    "colab": {
     "background_save": true,
     "base_uri": "https://localhost:8080/"
    },
    "executionInfo": {
     "elapsed": 549,
     "status": "ok",
     "timestamp": 1604630038446,
     "user": {
      "displayName": "Orlando O. S.",
      "photoUrl": "https://lh3.googleusercontent.com/a-/AOh14Gj-E1yuy1M_3ruwN4TWYPK4BwysauSW7GQmHheS=s64",
      "userId": "15066502291703974467"
     },
     "user_tz": 180
    },
    "id": "EMj_LTgeZdMX",
    "outputId": "0ec9c229-4c39-4e00-c3fe-523ea2d4f9ce"
   },
   "outputs": [
    {
     "name": "stdout",
     "output_type": "stream",
     "text": [
      "[1, 4, 9, 16, 25]\n"
     ]
    }
   ],
   "source": [
    "items = [1, 2, 3, 4, 5]\n",
    "quadrado = list(map(quad,items))\n",
    "print(quadrado)"
   ]
  },
  {
   "cell_type": "code",
   "execution_count": 52,
   "metadata": {
    "executionInfo": {
     "elapsed": 992,
     "status": "ok",
     "timestamp": 1604706946747,
     "user": {
      "displayName": "Orlando O. S.",
      "photoUrl": "https://lh3.googleusercontent.com/a-/AOh14Gj-E1yuy1M_3ruwN4TWYPK4BwysauSW7GQmHheS=s64",
      "userId": "15066502291703974467"
     },
     "user_tz": 180
    },
    "id": "UyGtPTI99w68"
   },
   "outputs": [],
   "source": [
    "def quad (x):\n",
    "   return  x**2"
   ]
  },
  {
   "cell_type": "code",
   "execution_count": 53,
   "metadata": {
    "colab": {
     "base_uri": "https://localhost:8080/",
     "height": 0
    },
    "executionInfo": {
     "elapsed": 642,
     "status": "ok",
     "timestamp": 1604706897681,
     "user": {
      "displayName": "Orlando O. S.",
      "photoUrl": "https://lh3.googleusercontent.com/a-/AOh14Gj-E1yuy1M_3ruwN4TWYPK4BwysauSW7GQmHheS=s64",
      "userId": "15066502291703974467"
     },
     "user_tz": 180
    },
    "id": "yK4sCyBv9Wz4",
    "outputId": "706f69cf-aac3-4334-f839-1da550922586"
   },
   "outputs": [
    {
     "name": "stdout",
     "output_type": "stream",
     "text": [
      "[1, 4, 9, 16, 25]\n"
     ]
    }
   ],
   "source": [
    "quadrado = list(map(lambda x: x**2,items))\n",
    "print(quadrado)"
   ]
  },
  {
   "cell_type": "code",
   "execution_count": 54,
   "metadata": {
    "colab": {
     "base_uri": "https://localhost:8080/",
     "height": 0
    },
    "executionInfo": {
     "elapsed": 1000,
     "status": "ok",
     "timestamp": 1604706950025,
     "user": {
      "displayName": "Orlando O. S.",
      "photoUrl": "https://lh3.googleusercontent.com/a-/AOh14Gj-E1yuy1M_3ruwN4TWYPK4BwysauSW7GQmHheS=s64",
      "userId": "15066502291703974467"
     },
     "user_tz": 180
    },
    "id": "ajifIcg69i8e",
    "outputId": "0a910cc6-173e-4177-f5c4-9261cb01cffa"
   },
   "outputs": [
    {
     "name": "stdout",
     "output_type": "stream",
     "text": [
      "[1, 4, 9, 16, 25]\n"
     ]
    }
   ],
   "source": [
    "quadrado = list(map(quad,items))\n",
    "print(quadrado)"
   ]
  },
  {
   "cell_type": "markdown",
   "metadata": {
    "id": "UpFJ2cfrZ5Hb"
   },
   "source": [
    "# reduce()\n",
    "reduce() é uma função do módulo functools que agrega todos os valores em um único valor. Por exemplo, a soma dea todos os elementos de uma sequência."
   ]
  },
  {
   "cell_type": "code",
   "execution_count": 55,
   "metadata": {
    "colab": {
     "base_uri": "https://localhost:8080/",
     "height": 0
    },
    "executionInfo": {
     "elapsed": 1805,
     "status": "ok",
     "timestamp": 1604707416913,
     "user": {
      "displayName": "Orlando O. S.",
      "photoUrl": "https://lh3.googleusercontent.com/a-/AOh14Gj-E1yuy1M_3ruwN4TWYPK4BwysauSW7GQmHheS=s64",
      "userId": "15066502291703974467"
     },
     "user_tz": 180
    },
    "id": "4VJFjiKJaZwi",
    "outputId": "33a16014-cfd7-4aea-c8c4-81e76b6afd44"
   },
   "outputs": [
    {
     "name": "stdout",
     "output_type": "stream",
     "text": [
      "15\n"
     ]
    }
   ],
   "source": [
    "from functools import reduce\n",
    "items = [1, 2, 3, 4, 5]\n",
    "total = reduce(lambda x , y : x + y , items)\n",
    "print(total)"
   ]
  },
  {
   "cell_type": "code",
   "execution_count": 56,
   "metadata": {
    "colab": {
     "base_uri": "https://localhost:8080/",
     "height": 0
    },
    "executionInfo": {
     "elapsed": 1352,
     "status": "ok",
     "timestamp": 1604707439232,
     "user": {
      "displayName": "Orlando O. S.",
      "photoUrl": "https://lh3.googleusercontent.com/a-/AOh14Gj-E1yuy1M_3ruwN4TWYPK4BwysauSW7GQmHheS=s64",
      "userId": "15066502291703974467"
     },
     "user_tz": 180
    },
    "id": "IOthe6vn_-UK",
    "outputId": "2a2d4484-14b3-4458-c382-929375719237"
   },
   "outputs": [
    {
     "name": "stdout",
     "output_type": "stream",
     "text": [
      "25\n"
     ]
    }
   ],
   "source": [
    "total = reduce(lambda x , y : x + y , items,  10)\n",
    "print(total)"
   ]
  },
  {
   "cell_type": "code",
   "execution_count": 57,
   "metadata": {
    "colab": {
     "base_uri": "https://localhost:8080/",
     "height": 0
    },
    "executionInfo": {
     "elapsed": 646,
     "status": "ok",
     "timestamp": 1604707554260,
     "user": {
      "displayName": "Orlando O. S.",
      "photoUrl": "https://lh3.googleusercontent.com/a-/AOh14Gj-E1yuy1M_3ruwN4TWYPK4BwysauSW7GQmHheS=s64",
      "userId": "15066502291703974467"
     },
     "user_tz": 180
    },
    "id": "8JxuP5hMbZXq",
    "outputId": "38393402-65fc-4f79-e618-18352affcf73"
   },
   "outputs": [
    {
     "name": "stdout",
     "output_type": "stream",
     "text": [
      "15\n"
     ]
    }
   ],
   "source": [
    "import operator\n",
    "\n",
    "total = reduce(operator.add, items)\n",
    "print(total)\n"
   ]
  },
  {
   "cell_type": "markdown",
   "metadata": {
    "id": "C8EwOwQib6HO"
   },
   "source": [
    "# filter()\n",
    "filter() filtra os elementos de uma sequência por meio de uma função que retorna valores boleando True or False.\n",
    "\n",
    "A lista resltante conterá os elementos que a função retornar True.\n"
   ]
  },
  {
   "cell_type": "code",
   "execution_count": 58,
   "metadata": {
    "colab": {
     "base_uri": "https://localhost:8080/"
    },
    "executionInfo": {
     "elapsed": 624,
     "status": "ok",
     "timestamp": 1604630832667,
     "user": {
      "displayName": "Orlando O. S.",
      "photoUrl": "https://lh3.googleusercontent.com/a-/AOh14Gj-E1yuy1M_3ruwN4TWYPK4BwysauSW7GQmHheS=s64",
      "userId": "15066502291703974467"
     },
     "user_tz": 180
    },
    "id": "Sia8Zvs0cYRL",
    "outputId": "f23e78fe-74f1-48e5-9b31-11a0d4610191"
   },
   "outputs": [
    {
     "name": "stdout",
     "output_type": "stream",
     "text": [
      "[-10, -9, -8, -7, -6, -5, -4, -3, -2, -1, 0, 1, 2, 3, 4, 5, 6, 7, 8, 9]\n",
      "[-10, -8, -6, -4, -2, 0, 2, 4, 6, 8]\n"
     ]
    }
   ],
   "source": [
    "def epar(x):\n",
    "  return x % 2 ==0\n",
    "\n",
    "valores = list(range (-10,10))\n",
    "print(valores)\n",
    "print(list(filter(epar, valores)))\n"
   ]
  },
  {
   "cell_type": "code",
   "execution_count": 59,
   "metadata": {
    "executionInfo": {
     "elapsed": 576,
     "status": "ok",
     "timestamp": 1604707715614,
     "user": {
      "displayName": "Orlando O. S.",
      "photoUrl": "https://lh3.googleusercontent.com/a-/AOh14Gj-E1yuy1M_3ruwN4TWYPK4BwysauSW7GQmHheS=s64",
      "userId": "15066502291703974467"
     },
     "user_tz": 180
    },
    "id": "E4Ipzs-nCCym"
   },
   "outputs": [],
   "source": [
    "lista = list(range(1,11))"
   ]
  },
  {
   "cell_type": "code",
   "execution_count": 60,
   "metadata": {
    "colab": {
     "base_uri": "https://localhost:8080/",
     "height": 0
    },
    "executionInfo": {
     "elapsed": 590,
     "status": "ok",
     "timestamp": 1604707911712,
     "user": {
      "displayName": "Orlando O. S.",
      "photoUrl": "https://lh3.googleusercontent.com/a-/AOh14Gj-E1yuy1M_3ruwN4TWYPK4BwysauSW7GQmHheS=s64",
      "userId": "15066502291703974467"
     },
     "user_tz": 180
    },
    "id": "uGzlzCPXCMAc",
    "outputId": "359bde82-94a5-4bed-e439-68153732a749"
   },
   "outputs": [
    {
     "name": "stdout",
     "output_type": "stream",
     "text": [
      "220\n"
     ]
    }
   ],
   "source": [
    "lista2 = reduce(lambda x,y : x + y,list( map(lambda x : x**2 , filter(lambda x : x % 2 == 0 , lista))))\n",
    "print(lista2)"
   ]
  },
  {
   "cell_type": "code",
   "execution_count": 62,
   "metadata": {
    "colab": {
     "base_uri": "https://localhost:8080/",
     "height": 0
    },
    "executionInfo": {
     "elapsed": 584,
     "status": "ok",
     "timestamp": 1604708850586,
     "user": {
      "displayName": "Orlando O. S.",
      "photoUrl": "https://lh3.googleusercontent.com/a-/AOh14Gj-E1yuy1M_3ruwN4TWYPK4BwysauSW7GQmHheS=s64",
      "userId": "15066502291703974467"
     },
     "user_tz": 180
    },
    "id": "S0xGszXSEQCP",
    "outputId": "3a1ad7e5-a935-41f5-a89d-d23309eca4f7"
   },
   "outputs": [
    {
     "name": "stdout",
     "output_type": "stream",
     "text": [
      "Help on built-in function reduce in module _functools:\n",
      "\n",
      "reduce(...)\n",
      "    reduce(function, sequence[, initial]) -> value\n",
      "    \n",
      "    Apply a function of two arguments cumulatively to the items of a sequence,\n",
      "    from left to right, so as to reduce the sequence to a single value.\n",
      "    For example, reduce(lambda x, y: x+y, [1, 2, 3, 4, 5]) calculates\n",
      "    ((((1+2)+3)+4)+5).  If initial is present, it is placed before the items\n",
      "    of the sequence in the calculation, and serves as a default when the\n",
      "    sequence is empty.\n",
      "\n"
     ]
    }
   ],
   "source": [
    "help(reduce)"
   ]
  },
  {
   "cell_type": "markdown",
   "metadata": {
    "id": "DX9JWKhxX1xn"
   },
   "source": [
    "## Leituras Adicionais e Referências:\n",
    "\n",
    "- Python Tutorial at W3Schools: https://www.w3schools.com/python/\n",
    "- Python official documentation: https://docs.python.org/3/tutorial/index.html"
   ]
  }
 ],
 "metadata": {
  "colab": {
   "collapsed_sections": [],
   "name": "Aula 05 Introdução à Linguagem de Python para Analytics e Data Science.ipynb",
   "provenance": []
  },
  "kernelspec": {
   "display_name": "Python 3",
   "language": "python",
   "name": "python3"
  },
  "language_info": {
   "codemirror_mode": {
    "name": "ipython",
    "version": 3
   },
   "file_extension": ".py",
   "mimetype": "text/x-python",
   "name": "python",
   "nbconvert_exporter": "python",
   "pygments_lexer": "ipython3",
   "version": "3.7.8"
  }
 },
 "nbformat": 4,
 "nbformat_minor": 1
}
