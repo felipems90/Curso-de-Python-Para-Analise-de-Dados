{
 "cells": [
  {
   "cell_type": "markdown",
   "metadata": {
    "id": "uGqJJfZ36iR6"
   },
   "source": [
    "# 01 - Introdução à Linguagem Python\n",
    "## Aula 01 - Instalação do Python e Jupyter Notebook"
   ]
  },
  {
   "attachments": {},
   "cell_type": "markdown",
   "metadata": {
    "id": "JNifjo59P9mf"
   },
   "source": [
    "## Professor: Orlando Oliveira dos Santos, MsC.\n",
    " - E-mail: professor.orlando.santos@gmail.com \n",
    " - Youtube :https://www.youtube.com/channel/UCPWWbkPWFmOjXH50TQWNAYg\n",
    " - Linkedin: https://linkedin.com/in/orlandoosantos\n",
    " - Facebook: https://www.facebook.com/proforlandosantosmsc/\n",
    " - Twitter: https://twitter.com/ProfOrlandoMsC\n",
    " - Instagram: https://www.instagram.com/proforlandosantosmsc/\n",
    "\n",
    "\n",
    "\n",
    "## Formação Acadêmica\n",
    "- Mestrado em Computação Aplicada - UnB (2014 – 2016)\t\n",
    "- MBA, Administração Estratégica de Sistemas de Informação – FGV (2011 – 2013)\n",
    "- Tecnólogo em Processamento de Dados, Análise e Desenvolvimento de Sistemas – FAETEC/SP (2000-2002)\n"
   ]
  },
  {
   "cell_type": "markdown",
   "metadata": {
    "id": "ymCeBUyxPjMK"
   },
   "source": [
    "\n",
    "#  Curso de Python para Análise de Dados"
   ]
  },
  {
   "cell_type": "markdown",
   "metadata": {
    "id": "UMkmeNBbJx-o"
   },
   "source": [
    "## Motivação para Criação do Programa\n",
    "\n",
    "O crescimento altamente acelerado da geração e armazenamento de dados nas organizações em todos os ramos de atividade tem demandado um número cada vez maior de profissionais capacitados para coletar, armazenar, gerenciar e analisar os dados, gerando insights para apoiar à tomada de decisão e garantindo vantagens competitivas da organização.\n",
    "\n",
    "Diante disso muitas profissões vêm surgindo e crescendo cada vez mais em oferta de vagas e em remuneração, entre elas estão Cientista de Dados, Engenheiro de Dados, Engenheiro de Machine Learning, Engenheiro de Inteligência Artificial, Analista de Dados e Arquiteto de Dados. \n",
    "\n",
    "Isto deixa claro que as carreiras ligadas Analytics e Data Science a representam uma excelente oportunidade para ampliação do potencial de empregabilidade de crescimento profissional.\n",
    "\n",
    "Dentre as linguagens de programação mais utilizadas para análise de dados, computação interativa e visualização de dados está o Python.  \n",
    "\n",
    "Nos últimos 10 anos, o Python tornou-se uma das linguagens mais importantes para ciência de dados, aprendizado de máquina e desenvolvimento geral de software na academia e na indústria. \n",
    "\n",
    "Esse programa de Cursos Python para Analytics e Data Science tem como objetivo capacitar profissionais nos passos iniciais para atuação nessa extraordinária área do conhecimento.\n"
   ]
  },
  {
   "cell_type": "markdown",
   "metadata": {
    "id": "MatyeeozKMIt"
   },
   "source": [
    "## Objetivos de Aprendizagem do Curso\n",
    "\n",
    "Ao final do curso o aluno terá capacidade de:\n",
    " - Realizar programação utilizando a linguagem Python;\n",
    " - Realizar operações com matrizes e computação vetorizada com NumPy;\n",
    " - Acessar dados em diversas fontes (arquivos, bancos de dados e web) e formatos (txt, csv, html, json, xls) utilizando Python e Pandas;\n",
    " - Realizar operações complexas de carga, consolidação, limpeza e transformação de dados usando o Pandas \n",
    " - Realizar operações de análise e visualização de dados utilizando Pandas, Matplotlib e Seaborn.\n"
   ]
  },
  {
   "cell_type": "markdown",
   "metadata": {
    "id": "5hwNmurSKgWe"
   },
   "source": [
    "## Metodologia de Ensino\n",
    "\n",
    "- Aulas expositivas de introdução conceitual dos temas relacionados ao conteúdo teórico previsto usando apresentação de Slides e Tutoriais.\n",
    "- Aulas práticas para aplicação dos conhecimentos teórico utilizando a Linguagem Python 3 e a IDE Jupyter Notebook ( Computador Local ou Google Colaboratory )\n",
    "\n",
    "\n",
    "## Sobre o Notebook Jupyter (https://jupyter.org/)\n",
    "O Jupyter Notebook é um aplicativo da web de código aberto que permite criar e compartilhar documentos que contêm código ativo, equações, visualizações e texto narrativo. Os usos incluem: limpeza e transformação de dados, simulação numérica, modelagem estatística, visualização de dados, aprendizado de máquina e muito mais.\n",
    "\n",
    "\n",
    "## Sobre o Google Colaboratory (https://colab.research.google.com/):\n",
    "Colaboratory, ou “Colab” abreviadamente, é um produto do Google Research. O Colab permite que qualquer pessoa escreva e execute código Python arbitrário por meio do navegador e é especialmente adequado para aprendizado de máquina, análise de dados e educação. Mais tecnicamente, Colab é um serviço hospedado de notebook Jupyter que não requer configuração para uso, ao mesmo tempo que fornece acesso gratuito a recursos de computação, incluindo GPUs (Graphics Processing Unit)."
   ]
  },
  {
   "cell_type": "markdown",
   "metadata": {
    "id": "-wttXmB0JYuh"
   },
   "source": [
    "# Instalação e configuração do ambiente e ferramentas"
   ]
  },
  {
   "cell_type": "markdown",
   "metadata": {
    "id": "jkQsyKF6RwMx"
   },
   "source": [
    "Ambiente Jupyter Notebook (https://jupyter.org/)\n",
    "\n",
    "## Passo 1: Installar o Python 3.7.9\n",
    "- Fazer download do Python 3.9 a partir endereço: https://www.python.org/downloads/release/python-379/\n",
    "- Execute o instalador que foi baixado;\n",
    "- Marque a opção \"Add Python 3.7.9 to PATH\";\n",
    "- Clique em \"Install Now\";\n",
    "- Após a instalação, abra o prompt de comandos e digite python + Enter, para checar se o Python 3.7.9 está corretamente Instalado;\n",
    "- Digite quit() + Enter para fechar o Python."
   ]
  },
  {
   "cell_type": "markdown",
   "metadata": {
    "id": "B-lS66HKXbae"
   },
   "source": [
    "## Passo 2: Installar o Jupyter Notebook\n",
    "- Abra o Prompt de comando;\n",
    "- Digite o seguinte comando:\n",
    "\n",
    "    pip install notebook\n",
    "\n",
    "-  Após finalizada a instalação digite o seguinte comando para iniciar o Jupyter Notebook:\n",
    "\n",
    "    jupyter notebook\n",
    "\n",
    "- O notebook iniciará o servidor e abriará automanticamente o novegador da internet no seguinte endereço: http://localhost:8888/tree\n",
    "- Feche o navegador;\n",
    "- Na tela de Prompt de comando digite as teclas ctrl+c para interromper o servidor jupyter.\n"
   ]
  }
 ],
 "metadata": {
  "colab": {
   "authorship_tag": "ABX9TyNkcJri8W4L2spn9cCfC/TQ",
   "collapsed_sections": [],
   "name": "Aula 01 - Introdução à Linguagem de Python para Analytics e Data Science.ipynb",
   "provenance": []
  },
  "kernelspec": {
   "display_name": "Python 3",
   "language": "python",
   "name": "python3"
  },
  "language_info": {
   "codemirror_mode": {
    "name": "ipython",
    "version": 3
   },
   "file_extension": ".py",
   "mimetype": "text/x-python",
   "name": "python",
   "nbconvert_exporter": "python",
   "pygments_lexer": "ipython3",
   "version": "3.7.8"
  }
 },
 "nbformat": 4,
 "nbformat_minor": 1
}
