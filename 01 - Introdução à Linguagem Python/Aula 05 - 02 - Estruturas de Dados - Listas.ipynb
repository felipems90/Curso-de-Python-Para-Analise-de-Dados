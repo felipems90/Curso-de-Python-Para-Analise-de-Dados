{
 "cells": [
  {
   "cell_type": "markdown",
   "metadata": {
    "id": "uGqJJfZ36iR6"
   },
   "source": [
    "# 01 - Introdução à Linguagem Python\n",
    "## Aula 05 - 02 - Estruturas de Dados - Listas"
   ]
  },
  {
   "cell_type": "markdown",
   "metadata": {
    "id": "JNifjo59P9mf"
   },
   "source": [
    "## Professor: Orlando Oliveira dos Santos, MsC.\n",
    " - E-mail: professor.orlando.santos@gmail.com \n",
    " - Youtube :https://www.youtube.com/channel/UCPWWbkPWFmOjXH50TQWNAYg\n",
    " - Linkedin: https://linkedin.com/in/orlandoosantos\n",
    " - Facebook: https://www.facebook.com/proforlandosantosmsc/\n",
    " - Twitter: https://twitter.com/ProfOrlandoMsC\n",
    " - Instagram: https://www.instagram.com/proforlandosantosmsc/\n",
    "\n",
    "\n",
    "\n",
    "## Formação Acadêmica\n",
    "- Mestrado em Computação Aplicada - UnB (2014 – 2016)\t\n",
    "- MBA, Administração Estratégica de Sistemas de Informação – FGV (2011 – 2013)\n",
    "- Tecnólogo em Processamento de Dados, Análise e Desenvolvimento de Sistemas – FAETEC/SP (2000-2002)\n"
   ]
  },
  {
   "cell_type": "markdown",
   "metadata": {
    "id": "-wttXmB0JYuh"
   },
   "source": [
    "# Estruturas de Dados - Listas"
   ]
  },
  {
   "cell_type": "markdown",
   "metadata": {
    "id": "4xhJ43D9hR11"
   },
   "source": [
    "### list \n",
    "coleção ordenada e mutável, declaradas com colchetes.\n"
   ]
  },
  {
   "cell_type": "code",
   "execution_count": 1,
   "metadata": {
    "colab": {
     "base_uri": "https://localhost:8080/",
     "height": 35
    },
    "executionInfo": {
     "elapsed": 775,
     "status": "ok",
     "timestamp": 1603760102546,
     "user": {
      "displayName": "Orlando O. S.",
      "photoUrl": "https://lh3.googleusercontent.com/a-/AOh14Gj-E1yuy1M_3ruwN4TWYPK4BwysauSW7GQmHheS=s64",
      "userId": "15066502291703974467"
     },
     "user_tz": 180
    },
    "id": "LupVpDFfhR11",
    "outputId": "7e3221aa-ba1e-438a-e85e-44fcbe1eba9c",
    "scrolled": true
   },
   "outputs": [
    {
     "name": "stdout",
     "output_type": "stream",
     "text": [
      "['Norte', 'Sul', 'Sudeste', 'Nordeste', 'Centro Oeste']\n"
     ]
    }
   ],
   "source": [
    "lista_regioes = [\"Norte\", \"Sul\", \"Sudeste\",\"Nordeste\", \"Centro Oeste\"]\n",
    "print(lista_regioes)"
   ]
  },
  {
   "cell_type": "markdown",
   "metadata": {
    "id": "bJiET0ObhR13"
   },
   "source": [
    "Acessar item da lista\n",
    "Utiliza-se o número do índice:\n"
   ]
  },
  {
   "cell_type": "code",
   "execution_count": 2,
   "metadata": {
    "colab": {
     "base_uri": "https://localhost:8080/",
     "height": 35
    },
    "executionInfo": {
     "elapsed": 816,
     "status": "ok",
     "timestamp": 1603760116844,
     "user": {
      "displayName": "Orlando O. S.",
      "photoUrl": "https://lh3.googleusercontent.com/a-/AOh14Gj-E1yuy1M_3ruwN4TWYPK4BwysauSW7GQmHheS=s64",
      "userId": "15066502291703974467"
     },
     "user_tz": 180
    },
    "id": "RMwLa5dchR14",
    "outputId": "670f163a-a43d-4564-da5b-b9e703f9bc2d"
   },
   "outputs": [
    {
     "name": "stdout",
     "output_type": "stream",
     "text": [
      "Sul\n"
     ]
    }
   ],
   "source": [
    "lista_regioes = [\"Norte\", \"Sul\", \"Sudeste\",\"Nordeste\", \"Centro Oeste\"]\n",
    "print(lista_regioes[1])"
   ]
  },
  {
   "cell_type": "markdown",
   "metadata": {
    "id": "B3AZOElDhR16"
   },
   "source": [
    "## Indexação Negativa\n",
    "Acessar  por indexação negativa "
   ]
  },
  {
   "cell_type": "code",
   "execution_count": 3,
   "metadata": {
    "colab": {
     "base_uri": "https://localhost:8080/",
     "height": 35
    },
    "executionInfo": {
     "elapsed": 1104,
     "status": "ok",
     "timestamp": 1603760128522,
     "user": {
      "displayName": "Orlando O. S.",
      "photoUrl": "https://lh3.googleusercontent.com/a-/AOh14Gj-E1yuy1M_3ruwN4TWYPK4BwysauSW7GQmHheS=s64",
      "userId": "15066502291703974467"
     },
     "user_tz": 180
    },
    "id": "IlmAoF8JhR17",
    "outputId": "1a17162b-4a38-4c3f-db05-bd67ce8a477d"
   },
   "outputs": [
    {
     "name": "stdout",
     "output_type": "stream",
     "text": [
      "Centro Oeste\n"
     ]
    }
   ],
   "source": [
    "lista_regioes = [\"Norte\", \"Sul\", \"Sudeste\",\"Nordeste\", \"Centro Oeste\"]\n",
    "print(lista_regioes[-1])"
   ]
  },
  {
   "cell_type": "markdown",
   "metadata": {
    "id": "uFu5FQN6hR1-"
   },
   "source": [
    "### Acessar os itens da lista\n",
    "por intervalo de indices"
   ]
  },
  {
   "cell_type": "code",
   "execution_count": 4,
   "metadata": {
    "colab": {
     "base_uri": "https://localhost:8080/",
     "height": 35
    },
    "executionInfo": {
     "elapsed": 1038,
     "status": "ok",
     "timestamp": 1603760135884,
     "user": {
      "displayName": "Orlando O. S.",
      "photoUrl": "https://lh3.googleusercontent.com/a-/AOh14Gj-E1yuy1M_3ruwN4TWYPK4BwysauSW7GQmHheS=s64",
      "userId": "15066502291703974467"
     },
     "user_tz": 180
    },
    "id": "hRTIDpazhR1_",
    "outputId": "932d9a35-4417-4e97-d7e8-1812a1b0ce87"
   },
   "outputs": [
    {
     "name": "stdout",
     "output_type": "stream",
     "text": [
      "['Sudeste', 'Nordeste', 'Centro Oeste']\n"
     ]
    }
   ],
   "source": [
    "lista_regioes = [\"Norte\", \"Sul\", \"Sudeste\",\"Nordeste\", \"Centro Oeste\", \"Noroeste\", \"Leste\" ]\n",
    "print(lista_regioes[2:5])"
   ]
  },
  {
   "cell_type": "code",
   "execution_count": 5,
   "metadata": {
    "colab": {
     "base_uri": "https://localhost:8080/",
     "height": 35
    },
    "executionInfo": {
     "elapsed": 1016,
     "status": "ok",
     "timestamp": 1603760147423,
     "user": {
      "displayName": "Orlando O. S.",
      "photoUrl": "https://lh3.googleusercontent.com/a-/AOh14Gj-E1yuy1M_3ruwN4TWYPK4BwysauSW7GQmHheS=s64",
      "userId": "15066502291703974467"
     },
     "user_tz": 180
    },
    "id": "aPp9-UnnhR2C",
    "outputId": "5ebf8533-c10a-4130-9471-eeabb8d90a12"
   },
   "outputs": [
    {
     "name": "stdout",
     "output_type": "stream",
     "text": [
      "['Norte', 'Sul', 'Sudeste', 'Nordeste']\n"
     ]
    }
   ],
   "source": [
    "lista_regioes = [\"Norte\", \"Sul\", \"Sudeste\",\"Nordeste\", \"Centro Oeste\", \"Noroeste\", \"Leste\"\n",
    " ]\n",
    "print(lista_regioes[:4])"
   ]
  },
  {
   "cell_type": "code",
   "execution_count": 6,
   "metadata": {
    "colab": {
     "base_uri": "https://localhost:8080/",
     "height": 35
    },
    "executionInfo": {
     "elapsed": 871,
     "status": "ok",
     "timestamp": 1603760157623,
     "user": {
      "displayName": "Orlando O. S.",
      "photoUrl": "https://lh3.googleusercontent.com/a-/AOh14Gj-E1yuy1M_3ruwN4TWYPK4BwysauSW7GQmHheS=s64",
      "userId": "15066502291703974467"
     },
     "user_tz": 180
    },
    "id": "LFfoWq9thR2F",
    "outputId": "598a9ae5-6cdf-46cc-d029-b11677e31678"
   },
   "outputs": [
    {
     "name": "stdout",
     "output_type": "stream",
     "text": [
      "['Sudeste', 'Nordeste', 'Centro Oeste', 'Noroeste', 'Leste']\n"
     ]
    }
   ],
   "source": [
    "lista_regioes = [\"Norte\", \"Sul\", \"Sudeste\",\"Nordeste\", \"Centro Oeste\", \"Noroeste\", \"Leste\" ]\n",
    "print(lista_regioes[2:])"
   ]
  },
  {
   "cell_type": "markdown",
   "metadata": {
    "id": "ORiLfm5WhR2I"
   },
   "source": [
    "Por intevalos de indices negativos"
   ]
  },
  {
   "cell_type": "code",
   "execution_count": 7,
   "metadata": {
    "colab": {
     "base_uri": "https://localhost:8080/",
     "height": 35
    },
    "executionInfo": {
     "elapsed": 973,
     "status": "ok",
     "timestamp": 1603760169633,
     "user": {
      "displayName": "Orlando O. S.",
      "photoUrl": "https://lh3.googleusercontent.com/a-/AOh14Gj-E1yuy1M_3ruwN4TWYPK4BwysauSW7GQmHheS=s64",
      "userId": "15066502291703974467"
     },
     "user_tz": 180
    },
    "id": "LwVIVGPHhR2I",
    "outputId": "8e14f51e-dd65-4295-a5ef-4a18c8926225"
   },
   "outputs": [
    {
     "name": "stdout",
     "output_type": "stream",
     "text": [
      "['Nordeste', 'Centro Oeste', 'Noroeste']\n"
     ]
    }
   ],
   "source": [
    "lista_regioes = [\"Norte\", \"Sul\", \"Sudeste\",\"Nordeste\", \"Centro Oeste\", \"Noroeste\", \"Leste\" ]\n",
    "print(lista_regioes[-4:-1])"
   ]
  },
  {
   "cell_type": "markdown",
   "metadata": {
    "id": "JiMmCizihR2K"
   },
   "source": [
    "### Alterar o valor do item\n",
    "Utilize o número do índice:\n"
   ]
  },
  {
   "cell_type": "code",
   "execution_count": 8,
   "metadata": {
    "colab": {
     "base_uri": "https://localhost:8080/",
     "height": 35
    },
    "executionInfo": {
     "elapsed": 911,
     "status": "ok",
     "timestamp": 1603760200317,
     "user": {
      "displayName": "Orlando O. S.",
      "photoUrl": "https://lh3.googleusercontent.com/a-/AOh14Gj-E1yuy1M_3ruwN4TWYPK4BwysauSW7GQmHheS=s64",
      "userId": "15066502291703974467"
     },
     "user_tz": 180
    },
    "id": "jQ3z7z3shR2L",
    "outputId": "78b86492-34e4-463b-c635-42764f113f7f"
   },
   "outputs": [
    {
     "name": "stdout",
     "output_type": "stream",
     "text": [
      "['Norte', 'SUL', 'Sudeste', 'Nordeste', 'Centro Oeste']\n"
     ]
    }
   ],
   "source": [
    "lista_regioes = [\"Norte\", \"Sul\", \"Sudeste\",\"Nordeste\", \"Centro Oeste\"]\n",
    "lista_regioes[1] = \"SUL\"\n",
    "print(lista_regioes)"
   ]
  },
  {
   "cell_type": "markdown",
   "metadata": {
    "id": "XdX048ixhR2N"
   },
   "source": [
    "### Percorrer uma lista\n",
    "Pode-se usaar um for loop:"
   ]
  },
  {
   "cell_type": "code",
   "execution_count": 9,
   "metadata": {
    "colab": {
     "base_uri": "https://localhost:8080/",
     "height": 108
    },
    "executionInfo": {
     "elapsed": 918,
     "status": "ok",
     "timestamp": 1603760259520,
     "user": {
      "displayName": "Orlando O. S.",
      "photoUrl": "https://lh3.googleusercontent.com/a-/AOh14Gj-E1yuy1M_3ruwN4TWYPK4BwysauSW7GQmHheS=s64",
      "userId": "15066502291703974467"
     },
     "user_tz": 180
    },
    "id": "YK37o3SfhR2N",
    "outputId": "8daffe57-80d8-45de-c5e0-3c16212427da"
   },
   "outputs": [
    {
     "name": "stdout",
     "output_type": "stream",
     "text": [
      "Norte\n",
      "Sul\n",
      "Sudeste\n",
      "Nordeste\n",
      "Centro Oeste\n"
     ]
    }
   ],
   "source": [
    "lista_regioes = [\"Norte\", \"Sul\", \"Sudeste\",\"Nordeste\", \"Centro Oeste\"]\n",
    "for x in lista_regioes:\n",
    "  print(x)"
   ]
  },
  {
   "cell_type": "markdown",
   "metadata": {
    "id": "Dy37POwFhR2Q"
   },
   "source": [
    "### Verifique se o item existe na lista"
   ]
  },
  {
   "cell_type": "code",
   "execution_count": 10,
   "metadata": {
    "colab": {
     "base_uri": "https://localhost:8080/",
     "height": 35
    },
    "executionInfo": {
     "elapsed": 793,
     "status": "ok",
     "timestamp": 1603760273663,
     "user": {
      "displayName": "Orlando O. S.",
      "photoUrl": "https://lh3.googleusercontent.com/a-/AOh14Gj-E1yuy1M_3ruwN4TWYPK4BwysauSW7GQmHheS=s64",
      "userId": "15066502291703974467"
     },
     "user_tz": 180
    },
    "id": "StNZpBS7hR2Q",
    "outputId": "4116f59f-0476-4dc4-d5fd-6e8ecada208c"
   },
   "outputs": [
    {
     "name": "stdout",
     "output_type": "stream",
     "text": [
      "Sim, 'Norte' está na lista de regiões\n"
     ]
    }
   ],
   "source": [
    "lista_regioes = [\"Norte\", \"Sul\", \"Sudeste\",\"Nordeste\", \"Centro Oeste\"]\n",
    "if \"Norte\" in lista_regioes:\n",
    "  print(\"Sim, 'Norte' está na lista de regiões\")"
   ]
  },
  {
   "cell_type": "markdown",
   "metadata": {
    "id": "JXFNlte3hR2T"
   },
   "source": [
    "Ver tamanho da lista\n",
    "Usar a função len():"
   ]
  },
  {
   "cell_type": "code",
   "execution_count": 11,
   "metadata": {
    "colab": {
     "base_uri": "https://localhost:8080/",
     "height": 35
    },
    "executionInfo": {
     "elapsed": 788,
     "status": "ok",
     "timestamp": 1603760290130,
     "user": {
      "displayName": "Orlando O. S.",
      "photoUrl": "https://lh3.googleusercontent.com/a-/AOh14Gj-E1yuy1M_3ruwN4TWYPK4BwysauSW7GQmHheS=s64",
      "userId": "15066502291703974467"
     },
     "user_tz": 180
    },
    "id": "t9ai_4eUhR2T",
    "outputId": "f51d2055-2f52-474b-ef7c-94ca3a777516"
   },
   "outputs": [
    {
     "name": "stdout",
     "output_type": "stream",
     "text": [
      "5\n"
     ]
    }
   ],
   "source": [
    "lista_regioes = [\"Norte\", \"Sul\", \"Sudeste\",\"Nordeste\", \"Centro Oeste\"]\n",
    "print(len(lista_regioes))"
   ]
  },
  {
   "cell_type": "markdown",
   "metadata": {
    "id": "1fiLkH8yhR2V"
   },
   "source": [
    "### Adicionar itens\n",
    "Para adicionar um item ao final da lista, use o método append ()"
   ]
  },
  {
   "cell_type": "code",
   "execution_count": 12,
   "metadata": {
    "colab": {
     "base_uri": "https://localhost:8080/",
     "height": 35
    },
    "executionInfo": {
     "elapsed": 826,
     "status": "ok",
     "timestamp": 1603760320173,
     "user": {
      "displayName": "Orlando O. S.",
      "photoUrl": "https://lh3.googleusercontent.com/a-/AOh14Gj-E1yuy1M_3ruwN4TWYPK4BwysauSW7GQmHheS=s64",
      "userId": "15066502291703974467"
     },
     "user_tz": 180
    },
    "id": "SPYQi5AshR2W",
    "outputId": "25f6968d-42e7-4693-a744-e815d2ba8f34"
   },
   "outputs": [
    {
     "name": "stdout",
     "output_type": "stream",
     "text": [
      "['Norte', 'Sul', 'Sudeste', 'Nordeste', 'Centro Oeste', 'Noroeste']\n"
     ]
    }
   ],
   "source": [
    "lista_regioes = [\"Norte\", \"Sul\", \"Sudeste\",\"Nordeste\", \"Centro Oeste\"]\n",
    "lista_regioes.append(\"Noroeste\")\n",
    "print(lista_regioes)"
   ]
  },
  {
   "cell_type": "markdown",
   "metadata": {
    "id": "bdbHAoAuhR2Y"
   },
   "source": [
    "Para adicionar um item no índice especificado, use o método insert () :"
   ]
  },
  {
   "cell_type": "code",
   "execution_count": 13,
   "metadata": {
    "colab": {
     "base_uri": "https://localhost:8080/",
     "height": 35
    },
    "executionInfo": {
     "elapsed": 1120,
     "status": "ok",
     "timestamp": 1603760391702,
     "user": {
      "displayName": "Orlando O. S.",
      "photoUrl": "https://lh3.googleusercontent.com/a-/AOh14Gj-E1yuy1M_3ruwN4TWYPK4BwysauSW7GQmHheS=s64",
      "userId": "15066502291703974467"
     },
     "user_tz": 180
    },
    "id": "SmXVUIIdhR2Y",
    "outputId": "86f25494-8d97-47e8-d952-180fb93ae7d9"
   },
   "outputs": [
    {
     "name": "stdout",
     "output_type": "stream",
     "text": [
      "['Norte', 'Noroeste', 'Sul', 'Sudeste', 'Nordeste', 'Centro Oeste']\n"
     ]
    }
   ],
   "source": [
    "lista_regioes = [\"Norte\", \"Sul\", \"Sudeste\",\"Nordeste\", \"Centro Oeste\"]\n",
    "lista_regioes.insert(1, \"Noroeste\")\n",
    "print(lista_regioes)"
   ]
  },
  {
   "cell_type": "markdown",
   "metadata": {
    "id": "1NgC-_1lhR2b"
   },
   "source": [
    "### Remover item\n",
    "Existem vários métodos para remover itens de uma lista:\n",
    "O método remove() remove o item especificado:"
   ]
  },
  {
   "cell_type": "code",
   "execution_count": 14,
   "metadata": {
    "colab": {
     "base_uri": "https://localhost:8080/",
     "height": 35
    },
    "executionInfo": {
     "elapsed": 962,
     "status": "ok",
     "timestamp": 1603760408581,
     "user": {
      "displayName": "Orlando O. S.",
      "photoUrl": "https://lh3.googleusercontent.com/a-/AOh14Gj-E1yuy1M_3ruwN4TWYPK4BwysauSW7GQmHheS=s64",
      "userId": "15066502291703974467"
     },
     "user_tz": 180
    },
    "id": "j60xkhebhR2b",
    "outputId": "94d8213f-99f3-4d6c-b169-dbd052e81d3b"
   },
   "outputs": [
    {
     "name": "stdout",
     "output_type": "stream",
     "text": [
      "['Sul', 'Sudeste', 'Nordeste', 'Centro Oeste']\n"
     ]
    }
   ],
   "source": [
    "lista_regioes = [\"Norte\", \"Sul\", \"Sudeste\",\"Nordeste\", \"Centro Oeste\"]\n",
    "lista_regioes.remove(\"Norte\")\n",
    "print(lista_regioes)"
   ]
  },
  {
   "cell_type": "code",
   "execution_count": 15,
   "metadata": {
    "colab": {
     "base_uri": "https://localhost:8080/",
     "height": 54
    },
    "executionInfo": {
     "elapsed": 1284,
     "status": "ok",
     "timestamp": 1603760454145,
     "user": {
      "displayName": "Orlando O. S.",
      "photoUrl": "https://lh3.googleusercontent.com/a-/AOh14Gj-E1yuy1M_3ruwN4TWYPK4BwysauSW7GQmHheS=s64",
      "userId": "15066502291703974467"
     },
     "user_tz": 180
    },
    "id": "3GSVPtj1kdd7",
    "outputId": "bf7f971c-ba58-4dea-b51b-5cbafe38f23c"
   },
   "outputs": [
    {
     "name": "stdout",
     "output_type": "stream",
     "text": [
      "['Norte', 'Sul', 'Sudeste', 'Nordeste', 'Centro Oeste', 'Norte']\n",
      "['Sul', 'Sudeste', 'Nordeste', 'Centro Oeste', 'Norte']\n"
     ]
    }
   ],
   "source": [
    "lista_regioes = [\"Norte\", \"Sul\", \"Sudeste\",\"Nordeste\", \"Centro Oeste\"]\n",
    "lista_regioes.append(\"Norte\")\n",
    "print(lista_regioes)\n",
    "lista_regioes.remove(\"Norte\")\n",
    "print(lista_regioes)"
   ]
  },
  {
   "cell_type": "code",
   "execution_count": 16,
   "metadata": {
    "colab": {
     "base_uri": "https://localhost:8080/",
     "height": 126
    },
    "executionInfo": {
     "elapsed": 723,
     "status": "ok",
     "timestamp": 1603760493846,
     "user": {
      "displayName": "Orlando O. S.",
      "photoUrl": "https://lh3.googleusercontent.com/a-/AOh14Gj-E1yuy1M_3ruwN4TWYPK4BwysauSW7GQmHheS=s64",
      "userId": "15066502291703974467"
     },
     "user_tz": 180
    },
    "id": "GPBoJxEnktK3",
    "outputId": "fe51a544-ab97-4143-c4c0-a2516d7db4f2"
   },
   "outputs": [
    {
     "name": "stdout",
     "output_type": "stream",
     "text": [
      "Help on built-in function remove:\n",
      "\n",
      "remove(value, /) method of builtins.list instance\n",
      "    Remove first occurrence of value.\n",
      "    \n",
      "    Raises ValueError if the value is not present.\n",
      "\n"
     ]
    }
   ],
   "source": [
    "help(lista_regioes.remove)"
   ]
  },
  {
   "cell_type": "markdown",
   "metadata": {
    "id": "Py_22vM1hR2e"
   },
   "source": [
    "O método pop() remove o índice especificado (ou o último item se o índice não for especificado):"
   ]
  },
  {
   "cell_type": "code",
   "execution_count": 17,
   "metadata": {
    "colab": {
     "base_uri": "https://localhost:8080/",
     "height": 72
    },
    "executionInfo": {
     "elapsed": 827,
     "status": "ok",
     "timestamp": 1603760596717,
     "user": {
      "displayName": "Orlando O. S.",
      "photoUrl": "https://lh3.googleusercontent.com/a-/AOh14Gj-E1yuy1M_3ruwN4TWYPK4BwysauSW7GQmHheS=s64",
      "userId": "15066502291703974467"
     },
     "user_tz": 180
    },
    "id": "I6On1M5OhR2f",
    "outputId": "68fc034d-cf25-465d-96c4-f084afb7f5d8"
   },
   "outputs": [
    {
     "name": "stdout",
     "output_type": "stream",
     "text": [
      "['Norte', 'Sul', 'Sudeste', 'Nordeste', 'Centro Oeste']\n",
      "['Norte', 'Sul', 'Sudeste', 'Nordeste']\n",
      "['Norte', 'Sul', 'Nordeste']\n"
     ]
    }
   ],
   "source": [
    "lista_regioes = [\"Norte\", \"Sul\", \"Sudeste\",\"Nordeste\", \"Centro Oeste\"]\n",
    "print(lista_regioes)\n",
    "lista_regioes.pop()\n",
    "print(lista_regioes)\n",
    "lista_regioes.pop(2)\n",
    "print(lista_regioes)"
   ]
  },
  {
   "cell_type": "code",
   "execution_count": 18,
   "metadata": {
    "colab": {
     "base_uri": "https://localhost:8080/",
     "height": 35
    },
    "executionInfo": {
     "elapsed": 916,
     "status": "ok",
     "timestamp": 1603760616432,
     "user": {
      "displayName": "Orlando O. S.",
      "photoUrl": "https://lh3.googleusercontent.com/a-/AOh14Gj-E1yuy1M_3ruwN4TWYPK4BwysauSW7GQmHheS=s64",
      "userId": "15066502291703974467"
     },
     "user_tz": 180
    },
    "id": "vpHwcNAxlOZJ",
    "outputId": "31ef87dc-69af-4c97-f4cd-095c0865079b"
   },
   "outputs": [
    {
     "data": {
      "text/plain": [
       "'Nordeste'"
      ]
     },
     "execution_count": 18,
     "metadata": {},
     "output_type": "execute_result"
    }
   ],
   "source": [
    "lista_regioes.pop()"
   ]
  },
  {
   "cell_type": "code",
   "execution_count": 19,
   "metadata": {
    "colab": {
     "base_uri": "https://localhost:8080/",
     "height": 108
    },
    "executionInfo": {
     "elapsed": 1054,
     "status": "ok",
     "timestamp": 1603760716418,
     "user": {
      "displayName": "Orlando O. S.",
      "photoUrl": "https://lh3.googleusercontent.com/a-/AOh14Gj-E1yuy1M_3ruwN4TWYPK4BwysauSW7GQmHheS=s64",
      "userId": "15066502291703974467"
     },
     "user_tz": 180
    },
    "id": "Ze6rxgfulZYb",
    "outputId": "6062ea6e-6bae-44e8-d340-14f40eb0001c"
   },
   "outputs": [
    {
     "name": "stdout",
     "output_type": "stream",
     "text": [
      "Centro Oeste\n",
      "Nordeste\n",
      "Sudeste\n",
      "Sul\n",
      "Norte\n"
     ]
    }
   ],
   "source": [
    "lista_regioes = [\"Norte\", \"Sul\", \"Sudeste\",\"Nordeste\", \"Centro Oeste\"]\n",
    "while len(lista_regioes) > 0:\n",
    "  print(lista_regioes.pop())"
   ]
  },
  {
   "cell_type": "markdown",
   "metadata": {
    "id": "NznciPWMhR2h"
   },
   "source": [
    "A palavra-chave del remove o índice especificado:"
   ]
  },
  {
   "cell_type": "code",
   "execution_count": 20,
   "metadata": {
    "colab": {
     "base_uri": "https://localhost:8080/",
     "height": 35
    },
    "executionInfo": {
     "elapsed": 888,
     "status": "ok",
     "timestamp": 1603760766667,
     "user": {
      "displayName": "Orlando O. S.",
      "photoUrl": "https://lh3.googleusercontent.com/a-/AOh14Gj-E1yuy1M_3ruwN4TWYPK4BwysauSW7GQmHheS=s64",
      "userId": "15066502291703974467"
     },
     "user_tz": 180
    },
    "id": "ZjmuKJNVhR2h",
    "outputId": "e8a5814d-0bf2-4cda-d4b4-89fefaeb096e"
   },
   "outputs": [
    {
     "name": "stdout",
     "output_type": "stream",
     "text": [
      "['Sul', 'Sudeste', 'Nordeste', 'Centro Oeste']\n"
     ]
    }
   ],
   "source": [
    "lista_regioes = [\"Norte\", \"Sul\", \"Sudeste\",\"Nordeste\", \"Centro Oeste\"]\n",
    "del lista_regioes[0]\n",
    "print(lista_regioes)"
   ]
  },
  {
   "cell_type": "markdown",
   "metadata": {
    "id": "0sia-6LxhR2k"
   },
   "source": [
    "A palavra-chave del também pode excluir a lista completamente:"
   ]
  },
  {
   "cell_type": "code",
   "execution_count": 21,
   "metadata": {
    "colab": {
     "base_uri": "https://localhost:8080/",
     "height": 54
    },
    "executionInfo": {
     "elapsed": 907,
     "status": "ok",
     "timestamp": 1603760846519,
     "user": {
      "displayName": "Orlando O. S.",
      "photoUrl": "https://lh3.googleusercontent.com/a-/AOh14Gj-E1yuy1M_3ruwN4TWYPK4BwysauSW7GQmHheS=s64",
      "userId": "15066502291703974467"
     },
     "user_tz": 180
    },
    "id": "yGsoucenhR2k",
    "outputId": "e5e46e87-394c-41b3-8fbd-87a0444228d8"
   },
   "outputs": [
    {
     "name": "stdout",
     "output_type": "stream",
     "text": [
      "lista_regioes\t x\t \n"
     ]
    }
   ],
   "source": [
    "lista_regioes = [\"Norte\", \"Sul\", \"Sudeste\",\"Nordeste\", \"Centro Oeste\"]\n",
    "%who"
   ]
  },
  {
   "cell_type": "code",
   "execution_count": 22,
   "metadata": {
    "id": "c6wyZTRpl3aI"
   },
   "outputs": [],
   "source": [
    "del\t lista_regioes"
   ]
  },
  {
   "cell_type": "code",
   "execution_count": 23,
   "metadata": {
    "colab": {
     "base_uri": "https://localhost:8080/",
     "height": 35
    },
    "executionInfo": {
     "elapsed": 994,
     "status": "ok",
     "timestamp": 1603760921131,
     "user": {
      "displayName": "Orlando O. S.",
      "photoUrl": "https://lh3.googleusercontent.com/a-/AOh14Gj-E1yuy1M_3ruwN4TWYPK4BwysauSW7GQmHheS=s64",
      "userId": "15066502291703974467"
     },
     "user_tz": 180
    },
    "id": "5n6H6LA_mAqh",
    "outputId": "05e5925a-240f-4047-d5f1-7bc861a9f26b"
   },
   "outputs": [
    {
     "name": "stdout",
     "output_type": "stream",
     "text": [
      "x\t \n"
     ]
    }
   ],
   "source": [
    "%who"
   ]
  },
  {
   "cell_type": "markdown",
   "metadata": {
    "id": "VnitUySahR2m"
   },
   "source": [
    "O método  clear() esvazia a lista:"
   ]
  },
  {
   "cell_type": "code",
   "execution_count": 24,
   "metadata": {
    "colab": {
     "base_uri": "https://localhost:8080/",
     "height": 54
    },
    "executionInfo": {
     "elapsed": 833,
     "status": "ok",
     "timestamp": 1603760994868,
     "user": {
      "displayName": "Orlando O. S.",
      "photoUrl": "https://lh3.googleusercontent.com/a-/AOh14Gj-E1yuy1M_3ruwN4TWYPK4BwysauSW7GQmHheS=s64",
      "userId": "15066502291703974467"
     },
     "user_tz": 180
    },
    "id": "2_F8tkzahR2n",
    "outputId": "ae3c8cde-f0cd-456f-ede6-0bab4bcf649b"
   },
   "outputs": [
    {
     "name": "stdout",
     "output_type": "stream",
     "text": [
      "['Norte', 'Sul', 'Sudeste', 'Nordeste', 'Centro Oeste']\n",
      "[]\n"
     ]
    }
   ],
   "source": [
    "lista_regioes = [\"Norte\", \"Sul\", \"Sudeste\",\"Nordeste\", \"Centro Oeste\"]\n",
    "print(lista_regioes)\n",
    "lista_regioes.clear()\n",
    "print(lista_regioes)"
   ]
  },
  {
   "cell_type": "markdown",
   "metadata": {
    "id": "BJPZnmaehR2p"
   },
   "source": [
    "### Copiar uma lista\n",
    "Não-se pode copiar uma lista simplesmente digitando list2 = list1\n",
    "A list2 será uma referência a list1\n",
    "As alterações feitas em list1 refletirão na list2.\n",
    "\n",
    "### Copie usando o método copy():"
   ]
  },
  {
   "cell_type": "code",
   "execution_count": 25,
   "metadata": {
    "id": "OS2mNW-6mzI1"
   },
   "outputs": [],
   "source": [
    "lista_regioes = [\"Norte\", \"Sul\", \"Sudeste\",\"Nordeste\", \"Centro Oeste\"]\n",
    "lista_regioes2 = lista_regioes"
   ]
  },
  {
   "cell_type": "code",
   "execution_count": 26,
   "metadata": {
    "colab": {
     "base_uri": "https://localhost:8080/",
     "height": 35
    },
    "executionInfo": {
     "elapsed": 868,
     "status": "ok",
     "timestamp": 1603761073144,
     "user": {
      "displayName": "Orlando O. S.",
      "photoUrl": "https://lh3.googleusercontent.com/a-/AOh14Gj-E1yuy1M_3ruwN4TWYPK4BwysauSW7GQmHheS=s64",
      "userId": "15066502291703974467"
     },
     "user_tz": 180
    },
    "id": "9hp8gohem8Dr",
    "outputId": "75eaa95e-ec10-441f-c8db-e65617578c20"
   },
   "outputs": [
    {
     "data": {
      "text/plain": [
       "'Centro Oeste'"
      ]
     },
     "execution_count": 26,
     "metadata": {},
     "output_type": "execute_result"
    }
   ],
   "source": [
    "lista_regioes2.pop()"
   ]
  },
  {
   "cell_type": "code",
   "execution_count": 27,
   "metadata": {
    "colab": {
     "base_uri": "https://localhost:8080/",
     "height": 35
    },
    "executionInfo": {
     "elapsed": 1027,
     "status": "ok",
     "timestamp": 1603761083972,
     "user": {
      "displayName": "Orlando O. S.",
      "photoUrl": "https://lh3.googleusercontent.com/a-/AOh14Gj-E1yuy1M_3ruwN4TWYPK4BwysauSW7GQmHheS=s64",
      "userId": "15066502291703974467"
     },
     "user_tz": 180
    },
    "id": "Md2617T5m_Y2",
    "outputId": "0e8cbb9b-32b2-4b4d-ece1-9d8be849a000"
   },
   "outputs": [
    {
     "data": {
      "text/plain": [
       "['Norte', 'Sul', 'Sudeste', 'Nordeste']"
      ]
     },
     "execution_count": 27,
     "metadata": {},
     "output_type": "execute_result"
    }
   ],
   "source": [
    "lista_regioes"
   ]
  },
  {
   "cell_type": "code",
   "execution_count": 28,
   "metadata": {
    "colab": {
     "base_uri": "https://localhost:8080/",
     "height": 35
    },
    "executionInfo": {
     "elapsed": 843,
     "status": "ok",
     "timestamp": 1603761106258,
     "user": {
      "displayName": "Orlando O. S.",
      "photoUrl": "https://lh3.googleusercontent.com/a-/AOh14Gj-E1yuy1M_3ruwN4TWYPK4BwysauSW7GQmHheS=s64",
      "userId": "15066502291703974467"
     },
     "user_tz": 180
    },
    "id": "TvX5Ff6tnFzS",
    "outputId": "40115202-8b44-4a7d-a8c4-db263101bf60"
   },
   "outputs": [
    {
     "data": {
      "text/plain": [
       "['Norte', 'Sul', 'Sudeste', 'Nordeste']"
      ]
     },
     "execution_count": 28,
     "metadata": {},
     "output_type": "execute_result"
    }
   ],
   "source": [
    "lista_regioes2"
   ]
  },
  {
   "cell_type": "code",
   "execution_count": 29,
   "metadata": {
    "colab": {
     "base_uri": "https://localhost:8080/",
     "height": 35
    },
    "executionInfo": {
     "elapsed": 813,
     "status": "ok",
     "timestamp": 1603761175917,
     "user": {
      "displayName": "Orlando O. S.",
      "photoUrl": "https://lh3.googleusercontent.com/a-/AOh14Gj-E1yuy1M_3ruwN4TWYPK4BwysauSW7GQmHheS=s64",
      "userId": "15066502291703974467"
     },
     "user_tz": 180
    },
    "id": "orhBRyhGhR2q",
    "outputId": "5ee91193-cf7e-41e5-a479-a115a6fcd6f8"
   },
   "outputs": [
    {
     "name": "stdout",
     "output_type": "stream",
     "text": [
      "['Norte', 'Sul', 'Sudeste', 'Nordeste', 'Centro Oeste']\n"
     ]
    }
   ],
   "source": [
    "lista_regioes = [\"Norte\", \"Sul\", \"Sudeste\",\"Nordeste\", \"Centro Oeste\"]\n",
    "minhalista = lista_regioes.copy()\n",
    "print( minhalista)"
   ]
  },
  {
   "cell_type": "code",
   "execution_count": 30,
   "metadata": {
    "colab": {
     "base_uri": "https://localhost:8080/",
     "height": 35
    },
    "executionInfo": {
     "elapsed": 833,
     "status": "ok",
     "timestamp": 1603761192707,
     "user": {
      "displayName": "Orlando O. S.",
      "photoUrl": "https://lh3.googleusercontent.com/a-/AOh14Gj-E1yuy1M_3ruwN4TWYPK4BwysauSW7GQmHheS=s64",
      "userId": "15066502291703974467"
     },
     "user_tz": 180
    },
    "id": "o-KETeFKnaUM",
    "outputId": "7f674957-e513-40c2-94ac-97af49ebc8d8"
   },
   "outputs": [
    {
     "data": {
      "text/plain": [
       "'Centro Oeste'"
      ]
     },
     "execution_count": 30,
     "metadata": {},
     "output_type": "execute_result"
    }
   ],
   "source": [
    "minhalista.pop()"
   ]
  },
  {
   "cell_type": "code",
   "execution_count": 31,
   "metadata": {
    "colab": {
     "base_uri": "https://localhost:8080/",
     "height": 35
    },
    "executionInfo": {
     "elapsed": 983,
     "status": "ok",
     "timestamp": 1603761199665,
     "user": {
      "displayName": "Orlando O. S.",
      "photoUrl": "https://lh3.googleusercontent.com/a-/AOh14Gj-E1yuy1M_3ruwN4TWYPK4BwysauSW7GQmHheS=s64",
      "userId": "15066502291703974467"
     },
     "user_tz": 180
    },
    "id": "xhKAHyU5ncyB",
    "outputId": "17fbaae4-fcd2-4d46-a14e-869620cf6e4a"
   },
   "outputs": [
    {
     "data": {
      "text/plain": [
       "['Norte', 'Sul', 'Sudeste', 'Nordeste']"
      ]
     },
     "execution_count": 31,
     "metadata": {},
     "output_type": "execute_result"
    }
   ],
   "source": [
    "minhalista"
   ]
  },
  {
   "cell_type": "code",
   "execution_count": 32,
   "metadata": {
    "colab": {
     "base_uri": "https://localhost:8080/",
     "height": 35
    },
    "executionInfo": {
     "elapsed": 986,
     "status": "ok",
     "timestamp": 1603761209854,
     "user": {
      "displayName": "Orlando O. S.",
      "photoUrl": "https://lh3.googleusercontent.com/a-/AOh14Gj-E1yuy1M_3ruwN4TWYPK4BwysauSW7GQmHheS=s64",
      "userId": "15066502291703974467"
     },
     "user_tz": 180
    },
    "id": "OSw800nQnfP8",
    "outputId": "291d021b-ab36-4063-b896-8969b0cd0f5a"
   },
   "outputs": [
    {
     "data": {
      "text/plain": [
       "['Norte', 'Sul', 'Sudeste', 'Nordeste', 'Centro Oeste']"
      ]
     },
     "execution_count": 32,
     "metadata": {},
     "output_type": "execute_result"
    }
   ],
   "source": [
    "lista_regioes"
   ]
  },
  {
   "cell_type": "markdown",
   "metadata": {
    "id": "aM3FP7EFhR2t"
   },
   "source": [
    "### Copie usando o list()"
   ]
  },
  {
   "cell_type": "code",
   "execution_count": 33,
   "metadata": {
    "colab": {
     "base_uri": "https://localhost:8080/",
     "height": 35
    },
    "executionInfo": {
     "elapsed": 808,
     "status": "ok",
     "timestamp": 1603761254292,
     "user": {
      "displayName": "Orlando O. S.",
      "photoUrl": "https://lh3.googleusercontent.com/a-/AOh14Gj-E1yuy1M_3ruwN4TWYPK4BwysauSW7GQmHheS=s64",
      "userId": "15066502291703974467"
     },
     "user_tz": 180
    },
    "id": "jOxpKELXhR2u",
    "outputId": "7c9c32f2-d3de-42c1-99e9-ae0a78a32910"
   },
   "outputs": [
    {
     "name": "stdout",
     "output_type": "stream",
     "text": [
      "['Norte', 'Sul', 'Sudeste', 'Nordeste', 'Centro Oeste']\n"
     ]
    }
   ],
   "source": [
    "lista_regioes = [\"Norte\", \"Sul\", \"Sudeste\",\"Nordeste\", \"Centro Oeste\"]\n",
    "minhalista = list(lista_regioes)\n",
    "print( minhalista)"
   ]
  },
  {
   "cell_type": "code",
   "execution_count": 34,
   "metadata": {
    "colab": {
     "base_uri": "https://localhost:8080/",
     "height": 54
    },
    "executionInfo": {
     "elapsed": 899,
     "status": "ok",
     "timestamp": 1603761276951,
     "user": {
      "displayName": "Orlando O. S.",
      "photoUrl": "https://lh3.googleusercontent.com/a-/AOh14Gj-E1yuy1M_3ruwN4TWYPK4BwysauSW7GQmHheS=s64",
      "userId": "15066502291703974467"
     },
     "user_tz": 180
    },
    "id": "-he_khMMntOG",
    "outputId": "7f0e02f7-6985-49d2-8cd0-6d37b145ec62"
   },
   "outputs": [
    {
     "name": "stdout",
     "output_type": "stream",
     "text": [
      "['Norte', 'Sul', 'Sudeste', 'Nordeste']\n",
      "['Norte', 'Sul', 'Sudeste', 'Nordeste', 'Centro Oeste']\n"
     ]
    }
   ],
   "source": [
    "minhalista.pop()\n",
    "print( minhalista)\n",
    "print( lista_regioes)"
   ]
  },
  {
   "cell_type": "markdown",
   "metadata": {
    "id": "MkOwAwNYhR2x"
   },
   "source": [
    "### Juntar duas listas\n",
    "Existem várias maneiras de juntar, ou concatenar, duas ou mais listas em Python.\n",
    "\n",
    "#### Juntar usando o + operador.\n"
   ]
  },
  {
   "cell_type": "code",
   "execution_count": 35,
   "metadata": {
    "colab": {
     "base_uri": "https://localhost:8080/",
     "height": 35
    },
    "executionInfo": {
     "elapsed": 931,
     "status": "ok",
     "timestamp": 1603761294579,
     "user": {
      "displayName": "Orlando O. S.",
      "photoUrl": "https://lh3.googleusercontent.com/a-/AOh14Gj-E1yuy1M_3ruwN4TWYPK4BwysauSW7GQmHheS=s64",
      "userId": "15066502291703974467"
     },
     "user_tz": 180
    },
    "id": "rzlXGm6-hR2y",
    "outputId": "ce144276-5ef0-4c93-f86a-8694c489d61e"
   },
   "outputs": [
    {
     "name": "stdout",
     "output_type": "stream",
     "text": [
      "['a', 'b', 'c', 1, 2, 3]\n"
     ]
    }
   ],
   "source": [
    "list1 = [\"a\", \"b\" , \"c\"]\n",
    "list2 = [1, 2, 3]\n",
    "\n",
    "list3 = list1 + list2\n",
    "print(list3)"
   ]
  },
  {
   "cell_type": "markdown",
   "metadata": {
    "id": "uiN6giTxhR20"
   },
   "source": [
    "## Junte anexar todos os itens da lista2 à lista1, um por um:"
   ]
  },
  {
   "cell_type": "code",
   "execution_count": 36,
   "metadata": {
    "colab": {
     "base_uri": "https://localhost:8080/",
     "height": 35
    },
    "executionInfo": {
     "elapsed": 796,
     "status": "ok",
     "timestamp": 1603757531944,
     "user": {
      "displayName": "Orlando O. S.",
      "photoUrl": "https://lh3.googleusercontent.com/a-/AOh14Gj-E1yuy1M_3ruwN4TWYPK4BwysauSW7GQmHheS=s64",
      "userId": "15066502291703974467"
     },
     "user_tz": 180
    },
    "id": "DpDQSEsZhR21",
    "outputId": "df182007-7c46-4341-80ac-9cc3de330d93"
   },
   "outputs": [
    {
     "name": "stdout",
     "output_type": "stream",
     "text": [
      "['a', 'b', 'c', 1, 2, 3]\n"
     ]
    }
   ],
   "source": [
    "list1 = [\"a\", \"b\" , \"c\"]\n",
    "list2 = [1, 2, 3]\n",
    "\n",
    "for x in list2:\n",
    "  list1.append(x)\n",
    "\n",
    "print(list1)"
   ]
  },
  {
   "cell_type": "markdown",
   "metadata": {
    "id": "APwFOK2GhR23"
   },
   "source": [
    "#### Juntar listas usando o Método extend() método"
   ]
  },
  {
   "cell_type": "code",
   "execution_count": 37,
   "metadata": {
    "colab": {
     "base_uri": "https://localhost:8080/",
     "height": 35
    },
    "executionInfo": {
     "elapsed": 917,
     "status": "ok",
     "timestamp": 1603761367609,
     "user": {
      "displayName": "Orlando O. S.",
      "photoUrl": "https://lh3.googleusercontent.com/a-/AOh14Gj-E1yuy1M_3ruwN4TWYPK4BwysauSW7GQmHheS=s64",
      "userId": "15066502291703974467"
     },
     "user_tz": 180
    },
    "id": "a1-GC_AwhR23",
    "outputId": "f420242c-78d7-41f6-ae6b-e30a73352e00"
   },
   "outputs": [
    {
     "name": "stdout",
     "output_type": "stream",
     "text": [
      "['a', 'b', 'c', 1, 2, 3]\n"
     ]
    }
   ],
   "source": [
    "list1 = [\"a\", \"b\" , \"c\"]\n",
    "list2 = [1, 2, 3]\n",
    "\n",
    "list1.extend(list2)\n",
    "print(list1)"
   ]
  },
  {
   "cell_type": "markdown",
   "metadata": {
    "id": "crvFCK05hR25"
   },
   "source": [
    "### O construtor list()\n",
    "Pode-se usar construtor list() para fazer uma nova lista."
   ]
  },
  {
   "cell_type": "code",
   "execution_count": 38,
   "metadata": {
    "colab": {
     "base_uri": "https://localhost:8080/",
     "height": 35
    },
    "executionInfo": {
     "elapsed": 1367,
     "status": "ok",
     "timestamp": 1603761390251,
     "user": {
      "displayName": "Orlando O. S.",
      "photoUrl": "https://lh3.googleusercontent.com/a-/AOh14Gj-E1yuy1M_3ruwN4TWYPK4BwysauSW7GQmHheS=s64",
      "userId": "15066502291703974467"
     },
     "user_tz": 180
    },
    "id": "VmQMDz_zhR26",
    "outputId": "fd6777eb-5e25-45eb-95ce-c2ba0ce77668"
   },
   "outputs": [
    {
     "name": "stdout",
     "output_type": "stream",
     "text": [
      "['Norte', 'Sul', 'Sudeste', 'Nordeste', 'Centro Oeste']\n"
     ]
    }
   ],
   "source": [
    "lista_regioes = list((\"Norte\", \"Sul\", \"Sudeste\",\"Nordeste\", \"Centro Oeste\")) # observar os parentesis duplos\n",
    "print(lista_regioes)"
   ]
  },
  {
   "cell_type": "markdown",
   "metadata": {
    "id": "GRjWjFBfhR29"
   },
   "source": [
    "### Métodos da lista\n",
    "Python tem outros métodos integrados para usar em listas.\n",
    "\n",
    "- count() Retorna o número de elementos com o valor especificado\n",
    "- reverse() Inverte a ordem da lista\n",
    "- sort() Classifica a lista"
   ]
  },
  {
   "cell_type": "code",
   "execution_count": 39,
   "metadata": {
    "id": "KlhmDDmIacVn"
   },
   "outputs": [],
   "source": [
    "lista = [\"a\", \"b\" , \"c\" , 1, 2, 3, \"a\", \"b\" , \"c\" , 1, 2, 3]"
   ]
  },
  {
   "cell_type": "code",
   "execution_count": 40,
   "metadata": {
    "colab": {
     "base_uri": "https://localhost:8080/",
     "height": 35
    },
    "executionInfo": {
     "elapsed": 1426,
     "status": "ok",
     "timestamp": 1603761431779,
     "user": {
      "displayName": "Orlando O. S.",
      "photoUrl": "https://lh3.googleusercontent.com/a-/AOh14Gj-E1yuy1M_3ruwN4TWYPK4BwysauSW7GQmHheS=s64",
      "userId": "15066502291703974467"
     },
     "user_tz": 180
    },
    "id": "o6EY3dIGacyp",
    "outputId": "558bef7d-0a0d-4f55-dbc2-2c09ccf53f80"
   },
   "outputs": [
    {
     "data": {
      "text/plain": [
       "2"
      ]
     },
     "execution_count": 40,
     "metadata": {},
     "output_type": "execute_result"
    }
   ],
   "source": [
    "lista.count(1)"
   ]
  },
  {
   "cell_type": "code",
   "execution_count": 41,
   "metadata": {
    "colab": {
     "base_uri": "https://localhost:8080/",
     "height": 35
    },
    "executionInfo": {
     "elapsed": 864,
     "status": "ok",
     "timestamp": 1603761568855,
     "user": {
      "displayName": "Orlando O. S.",
      "photoUrl": "https://lh3.googleusercontent.com/a-/AOh14Gj-E1yuy1M_3ruwN4TWYPK4BwysauSW7GQmHheS=s64",
      "userId": "15066502291703974467"
     },
     "user_tz": 180
    },
    "id": "1vLJHnPYac77",
    "outputId": "e4ffb26e-2bd1-474d-8161-89b4bbf92e7f"
   },
   "outputs": [
    {
     "data": {
      "text/plain": [
       "[4, 3, 2, 1, 10]"
      ]
     },
     "execution_count": 41,
     "metadata": {},
     "output_type": "execute_result"
    }
   ],
   "source": [
    "lista = [10, 1,2,3,4]\n",
    "lista.reverse()\n",
    "lista"
   ]
  },
  {
   "cell_type": "code",
   "execution_count": 42,
   "metadata": {
    "colab": {
     "base_uri": "https://localhost:8080/",
     "height": 35
    },
    "executionInfo": {
     "elapsed": 1004,
     "status": "ok",
     "timestamp": 1603761592444,
     "user": {
      "displayName": "Orlando O. S.",
      "photoUrl": "https://lh3.googleusercontent.com/a-/AOh14Gj-E1yuy1M_3ruwN4TWYPK4BwysauSW7GQmHheS=s64",
      "userId": "15066502291703974467"
     },
     "user_tz": 180
    },
    "id": "FVZUOwQ3awEr",
    "outputId": "072c3842-a60f-491f-d543-0f119aaa5bc8"
   },
   "outputs": [
    {
     "data": {
      "text/plain": [
       "[1, 2, 3, 4, 10]"
      ]
     },
     "execution_count": 42,
     "metadata": {},
     "output_type": "execute_result"
    }
   ],
   "source": [
    "lista.sort()\n",
    "lista"
   ]
  },
  {
   "cell_type": "code",
   "execution_count": 43,
   "metadata": {
    "colab": {
     "base_uri": "https://localhost:8080/",
     "height": 35
    },
    "executionInfo": {
     "elapsed": 929,
     "status": "ok",
     "timestamp": 1603761667209,
     "user": {
      "displayName": "Orlando O. S.",
      "photoUrl": "https://lh3.googleusercontent.com/a-/AOh14Gj-E1yuy1M_3ruwN4TWYPK4BwysauSW7GQmHheS=s64",
      "userId": "15066502291703974467"
     },
     "user_tz": 180
    },
    "id": "WmuPfm_npCDc",
    "outputId": "d11a8f90-5416-44f6-8ac3-923a5c06144e"
   },
   "outputs": [
    {
     "data": {
      "text/plain": [
       "[10, 4, 3, 2, 1]"
      ]
     },
     "execution_count": 43,
     "metadata": {},
     "output_type": "execute_result"
    }
   ],
   "source": [
    "lista.sort(reverse=True)\n",
    "lista"
   ]
  },
  {
   "cell_type": "markdown",
   "metadata": {
    "id": "DX9JWKhxX1xn"
   },
   "source": [
    "## Leituras Adicionais e Referências:\n",
    "\n",
    "- Python Tutorial at W3Schools: https://www.w3schools.com/python/\n",
    "- Python official documentation: https://docs.python.org/3/tutorial/index.html"
   ]
  }
 ],
 "metadata": {
  "colab": {
   "collapsed_sections": [],
   "name": "Aula 04 Introdução à Linguagem de Python para Analytics e Data Science.ipynb",
   "provenance": []
  },
  "kernelspec": {
   "display_name": "Python 3",
   "language": "python",
   "name": "python3"
  },
  "language_info": {
   "codemirror_mode": {
    "name": "ipython",
    "version": 3
   },
   "file_extension": ".py",
   "mimetype": "text/x-python",
   "name": "python",
   "nbconvert_exporter": "python",
   "pygments_lexer": "ipython3",
   "version": "3.7.8"
  }
 },
 "nbformat": 4,
 "nbformat_minor": 1
}
