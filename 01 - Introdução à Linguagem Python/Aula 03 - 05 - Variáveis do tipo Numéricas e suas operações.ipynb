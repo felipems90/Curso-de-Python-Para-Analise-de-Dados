{
 "cells": [
  {
   "cell_type": "markdown",
   "metadata": {
    "id": "uGqJJfZ36iR6"
   },
   "source": [
    "# 01 - Introdução à Linguagem Python\n",
    "## Aula 03 - 05 - Variáveis do tipo Numéricas e suas operações"
   ]
  },
  {
   "cell_type": "markdown",
   "metadata": {
    "id": "JNifjo59P9mf"
   },
   "source": [
    "## Professor: Orlando Oliveira dos Santos, MsC.\n",
    " - E-mail: professor.orlando.santos@gmail.com \n",
    " - Youtube :https://www.youtube.com/channel/UCPWWbkPWFmOjXH50TQWNAYg\n",
    " - Linkedin: https://linkedin.com/in/orlandoosantos\n",
    " - Facebook: https://www.facebook.com/proforlandosantosmsc/\n",
    " - Twitter: https://twitter.com/ProfOrlandoMsC\n",
    " - Instagram: https://www.instagram.com/proforlandosantosmsc/\n",
    "\n",
    "## Formação Acadêmica\n",
    "- Mestrado em Computação Aplicada - UnB (2014 – 2016)\t\n",
    "- MBA, Administração Estratégica de Sistemas de Informação – FGV (2011 – 2013)\n",
    "- Tecnólogo em Processamento de Dados, Análise e Desenvolvimento de Sistemas – FAETEC/SP (2000-2002)"
   ]
  },
  {
   "cell_type": "markdown",
   "metadata": {
    "id": "aItHDT5Og3wz"
   },
   "source": [
    "# Variáveis do tipo Numéricas e suas operações"
   ]
  },
  {
   "cell_type": "markdown",
   "metadata": {
    "id": "gu9Rk8Y5hEbb"
   },
   "source": [
    "Tipos de variExistem três tipos numéricos em Python:\n",
    "\n",
    "- int\n",
    "- float\n",
    "- complex\n",
    "Variáveis ​​de tipos numéricos são criadas quando você atribui um valor a elas:"
   ]
  },
  {
   "cell_type": "code",
   "execution_count": 1,
   "metadata": {
    "colab": {
     "base_uri": "https://localhost:8080/",
     "height": 35
    },
    "executionInfo": {
     "elapsed": 721,
     "status": "ok",
     "timestamp": 1603496934660,
     "user": {
      "displayName": "Orlando O. S.",
      "photoUrl": "https://lh3.googleusercontent.com/a-/AOh14Gj-E1yuy1M_3ruwN4TWYPK4BwysauSW7GQmHheS=s64",
      "userId": "15066502291703974467"
     },
     "user_tz": 180
    },
    "id": "D7cpTOGCiEwq",
    "outputId": "ca867168-7aa3-4232-e1c5-06e5de28b11d"
   },
   "outputs": [
    {
     "data": {
      "text/plain": [
       "int"
      ]
     },
     "execution_count": 1,
     "metadata": {},
     "output_type": "execute_result"
    }
   ],
   "source": [
    "intvar = 10  \n",
    "type(intvar)"
   ]
  },
  {
   "cell_type": "code",
   "execution_count": 2,
   "metadata": {
    "colab": {
     "base_uri": "https://localhost:8080/",
     "height": 35
    },
    "executionInfo": {
     "elapsed": 1255,
     "status": "ok",
     "timestamp": 1603496971053,
     "user": {
      "displayName": "Orlando O. S.",
      "photoUrl": "https://lh3.googleusercontent.com/a-/AOh14Gj-E1yuy1M_3ruwN4TWYPK4BwysauSW7GQmHheS=s64",
      "userId": "15066502291703974467"
     },
     "user_tz": 180
    },
    "id": "Tmcmy2TuiSpV",
    "outputId": "b2a6092f-7a96-4ee8-a1f4-f80d5c32bcda"
   },
   "outputs": [
    {
     "data": {
      "text/plain": [
       "float"
      ]
     },
     "execution_count": 2,
     "metadata": {},
     "output_type": "execute_result"
    }
   ],
   "source": [
    "floatvar = 52.5 \n",
    "type(floatvar)"
   ]
  },
  {
   "cell_type": "code",
   "execution_count": 3,
   "metadata": {
    "colab": {
     "base_uri": "https://localhost:8080/",
     "height": 35
    },
    "executionInfo": {
     "elapsed": 1285,
     "status": "ok",
     "timestamp": 1603496979784,
     "user": {
      "displayName": "Orlando O. S.",
      "photoUrl": "https://lh3.googleusercontent.com/a-/AOh14Gj-E1yuy1M_3ruwN4TWYPK4BwysauSW7GQmHheS=s64",
      "userId": "15066502291703974467"
     },
     "user_tz": 180
    },
    "id": "3-Nbi3oiiSv2",
    "outputId": "a3a1f2b5-1dd8-47e7-a6fe-f8a512f60237"
   },
   "outputs": [
    {
     "data": {
      "text/plain": [
       "complex"
      ]
     },
     "execution_count": 3,
     "metadata": {},
     "output_type": "execute_result"
    }
   ],
   "source": [
    "complexvar = 5j   \n",
    "type(complexvar)"
   ]
  },
  {
   "cell_type": "markdown",
   "metadata": {
    "id": "1qdWkZ6VkEfz"
   },
   "source": [
    "### Int\n",
    "Int, ou inteiro, é um número inteiro, positivo ou negativo, sem decimais, de comprimento ilimitado."
   ]
  },
  {
   "cell_type": "code",
   "execution_count": 4,
   "metadata": {
    "colab": {
     "base_uri": "https://localhost:8080/",
     "height": 70
    },
    "executionInfo": {
     "elapsed": 858,
     "status": "ok",
     "timestamp": 1603497002896,
     "user": {
      "displayName": "Orlando O. S.",
      "photoUrl": "https://lh3.googleusercontent.com/a-/AOh14Gj-E1yuy1M_3ruwN4TWYPK4BwysauSW7GQmHheS=s64",
      "userId": "15066502291703974467"
     },
     "user_tz": 180
    },
    "id": "y-flsD9IkQir",
    "outputId": "684a637d-9d09-48e5-a750-a339be3cec07"
   },
   "outputs": [
    {
     "name": "stdout",
     "output_type": "stream",
     "text": [
      "346 <class 'int'>\n",
      "12312931029310934235304952349534953405934095345 <class 'int'>\n",
      "-4567456745674567 <class 'int'>\n"
     ]
    }
   ],
   "source": [
    "x = 346\n",
    "y = 12312931029310934235304952349534953405934095345\n",
    "z = -4567456745674567\n",
    "\n",
    "print(x,type(x))\n",
    "print(y, type(y))\n",
    "print(z, type(z))"
   ]
  },
  {
   "cell_type": "markdown",
   "metadata": {
    "id": "9cj3FbjDko_o"
   },
   "source": [
    "### float\n",
    "float ou \"número de ponto flutuante\" é um número, positivo ou negativo, que contém um ou mais decimais.\n",
    "\n",
    "Podem ter seu valor atribuido na forma padrão com separador decimal na forma pode ser números científicos com um \"e\" para indicar a potência de 10. "
   ]
  },
  {
   "cell_type": "code",
   "execution_count": 5,
   "metadata": {
    "colab": {
     "base_uri": "https://localhost:8080/",
     "height": 70
    },
    "executionInfo": {
     "elapsed": 697,
     "status": "ok",
     "timestamp": 1603497042628,
     "user": {
      "displayName": "Orlando O. S.",
      "photoUrl": "https://lh3.googleusercontent.com/a-/AOh14Gj-E1yuy1M_3ruwN4TWYPK4BwysauSW7GQmHheS=s64",
      "userId": "15066502291703974467"
     },
     "user_tz": 180
    },
    "id": "iOzbxoFxlLTf",
    "outputId": "18b36e87-5434-4a99-aa0f-b18b8dd64d2f"
   },
   "outputs": [
    {
     "name": "stdout",
     "output_type": "stream",
     "text": [
      "34.41 <class 'float'>\n",
      "341.34 <class 'float'>\n",
      "-345.34 <class 'float'>\n"
     ]
    }
   ],
   "source": [
    "x = 34.410\n",
    "y = 341.34\n",
    "z = -345.34\n",
    "\n",
    "print(x,type(x))\n",
    "print(y, type(y))\n",
    "print(z, type(z))"
   ]
  },
  {
   "cell_type": "code",
   "execution_count": 6,
   "metadata": {
    "colab": {
     "base_uri": "https://localhost:8080/",
     "height": 70
    },
    "executionInfo": {
     "elapsed": 844,
     "status": "ok",
     "timestamp": 1603497068916,
     "user": {
      "displayName": "Orlando O. S.",
      "photoUrl": "https://lh3.googleusercontent.com/a-/AOh14Gj-E1yuy1M_3ruwN4TWYPK4BwysauSW7GQmHheS=s64",
      "userId": "15066502291703974467"
     },
     "user_tz": 180
    },
    "id": "2XObw7gWlL5p",
    "outputId": "ee0c8c78-f9ae-40cd-9f32-9b9f832427ce"
   },
   "outputs": [
    {
     "name": "stdout",
     "output_type": "stream",
     "text": [
      "30000000000.0 <class 'float'>\n",
      "2400000.0 <class 'float'>\n",
      "-350000.0 <class 'float'>\n"
     ]
    }
   ],
   "source": [
    "x = 3e10\n",
    "y = 24E5\n",
    "z = -35e4\n",
    "\n",
    "print(x,type(x))\n",
    "print(y, type(y))\n",
    "print(z, type(z))"
   ]
  },
  {
   "cell_type": "markdown",
   "metadata": {
    "id": "_jRZnHDrmCTn"
   },
   "source": [
    "### complex\n",
    "Os números complexos são escritos com um \"j\" como parte imaginária"
   ]
  },
  {
   "cell_type": "code",
   "execution_count": 7,
   "metadata": {
    "colab": {
     "base_uri": "https://localhost:8080/",
     "height": 70
    },
    "executionInfo": {
     "elapsed": 729,
     "status": "ok",
     "timestamp": 1603497105856,
     "user": {
      "displayName": "Orlando O. S.",
      "photoUrl": "https://lh3.googleusercontent.com/a-/AOh14Gj-E1yuy1M_3ruwN4TWYPK4BwysauSW7GQmHheS=s64",
      "userId": "15066502291703974467"
     },
     "user_tz": 180
    },
    "id": "-hlRapevmT6x",
    "outputId": "4bf21dba-398e-458d-e888-76604b171038"
   },
   "outputs": [
    {
     "name": "stdout",
     "output_type": "stream",
     "text": [
      "(33+2j) <class 'complex'>\n",
      "35j <class 'complex'>\n",
      "(-0-45j) <class 'complex'>\n"
     ]
    }
   ],
   "source": [
    "x = 33+2j\n",
    "y = 35j\n",
    "z = -45j\n",
    "\n",
    "print(x,type(x))\n",
    "print(y, type(y))\n",
    "print(z, type(z))"
   ]
  },
  {
   "cell_type": "markdown",
   "metadata": {
    "id": "daaIASmOmkRt"
   },
   "source": [
    "### Conversão de Tipo\n",
    "Uma variável ou valor pode ser convertido de um tipo para outro com os métodos int(), float() e complex()"
   ]
  },
  {
   "cell_type": "code",
   "execution_count": 8,
   "metadata": {
    "colab": {
     "base_uri": "https://localhost:8080/",
     "height": 70
    },
    "executionInfo": {
     "elapsed": 974,
     "status": "ok",
     "timestamp": 1603497202871,
     "user": {
      "displayName": "Orlando O. S.",
      "photoUrl": "https://lh3.googleusercontent.com/a-/AOh14Gj-E1yuy1M_3ruwN4TWYPK4BwysauSW7GQmHheS=s64",
      "userId": "15066502291703974467"
     },
     "user_tz": 180
    },
    "id": "kbfVmaJdnmxL",
    "outputId": "5a29c6fa-2bea-408a-dca4-d75fa5297dbe"
   },
   "outputs": [
    {
     "name": "stdout",
     "output_type": "stream",
     "text": [
      "10 <class 'int'>\n",
      "10.0 <class 'float'>\n",
      "(10+0j) <class 'complex'>\n"
     ]
    }
   ],
   "source": [
    "intvar = 10  \n",
    "print(intvar, type(intvar))\n",
    "floatvar = float(intvar) \n",
    "print(floatvar, type(floatvar))\n",
    "complexvar = complex(intvar)   \n",
    "print(complexvar, type(complexvar))"
   ]
  },
  {
   "cell_type": "code",
   "execution_count": 9,
   "metadata": {
    "colab": {
     "base_uri": "https://localhost:8080/",
     "height": 70
    },
    "executionInfo": {
     "elapsed": 835,
     "status": "ok",
     "timestamp": 1603497221829,
     "user": {
      "displayName": "Orlando O. S.",
      "photoUrl": "https://lh3.googleusercontent.com/a-/AOh14Gj-E1yuy1M_3ruwN4TWYPK4BwysauSW7GQmHheS=s64",
      "userId": "15066502291703974467"
     },
     "user_tz": 180
    },
    "id": "s4Vk5swpnxeG",
    "outputId": "fa1792eb-8365-46fc-c13c-142516121088"
   },
   "outputs": [
    {
     "name": "stdout",
     "output_type": "stream",
     "text": [
      "14.5 <class 'float'>\n",
      "14 <class 'float'>\n",
      "(14.5+0j) <class 'complex'>\n"
     ]
    }
   ],
   "source": [
    "floatvar = 14.5 \n",
    "print(floatvar, type(floatvar))\n",
    "intvar = int(floatvar) \n",
    "print(intvar, type(floatvar))\n",
    "complexvar = complex(floatvar)   \n",
    "print(complexvar, type(complexvar))"
   ]
  },
  {
   "cell_type": "markdown",
   "metadata": {
    "id": "txCHwbpSvLuv"
   },
   "source": [
    "#### :< - Alinha o resultado à esquerda (dentro do espaço disponível)\n"
   ]
  },
  {
   "cell_type": "code",
   "execution_count": 10,
   "metadata": {
    "colab": {
     "base_uri": "https://localhost:8080/",
     "height": 35
    },
    "executionInfo": {
     "elapsed": 718,
     "status": "ok",
     "timestamp": 1603497413735,
     "user": {
      "displayName": "Orlando O. S.",
      "photoUrl": "https://lh3.googleusercontent.com/a-/AOh14Gj-E1yuy1M_3ruwN4TWYPK4BwysauSW7GQmHheS=s64",
      "userId": "15066502291703974467"
     },
     "user_tz": 180
    },
    "id": "GleSgumy75dN",
    "outputId": "b6495191-f317-4174-a607-99be14ab467c"
   },
   "outputs": [
    {
     "data": {
      "text/plain": [
       "'valor = [10000000                      ]'"
      ]
     },
     "execution_count": 10,
     "metadata": {},
     "output_type": "execute_result"
    }
   ],
   "source": [
    "valor =10000000\n",
    "f'valor = [{valor:<30d}]'"
   ]
  },
  {
   "cell_type": "code",
   "execution_count": 11,
   "metadata": {
    "colab": {
     "base_uri": "https://localhost:8080/",
     "height": 35
    },
    "executionInfo": {
     "elapsed": 698,
     "status": "ok",
     "timestamp": 1603497432810,
     "user": {
      "displayName": "Orlando O. S.",
      "photoUrl": "https://lh3.googleusercontent.com/a-/AOh14Gj-E1yuy1M_3ruwN4TWYPK4BwysauSW7GQmHheS=s64",
      "userId": "15066502291703974467"
     },
     "user_tz": 180
    },
    "id": "sAUOFIh38WmI",
    "outputId": "967b6d23-6ff7-4f3f-fbbb-d0fcb679f607"
   },
   "outputs": [
    {
     "data": {
      "text/plain": [
       "'valor = [José                          ]'"
      ]
     },
     "execution_count": 11,
     "metadata": {},
     "output_type": "execute_result"
    }
   ],
   "source": [
    "valor ='José'\n",
    "f'valor = [{valor:<30s}]'"
   ]
  },
  {
   "cell_type": "markdown",
   "metadata": {
    "id": "zDiUcHJVvN0O"
   },
   "source": [
    "#### :> - Alinha o resultado à direita (dentro do espaço disponível)\n"
   ]
  },
  {
   "cell_type": "code",
   "execution_count": 12,
   "metadata": {
    "colab": {
     "base_uri": "https://localhost:8080/",
     "height": 35
    },
    "executionInfo": {
     "elapsed": 2837,
     "status": "ok",
     "timestamp": 1603497446347,
     "user": {
      "displayName": "Orlando O. S.",
      "photoUrl": "https://lh3.googleusercontent.com/a-/AOh14Gj-E1yuy1M_3ruwN4TWYPK4BwysauSW7GQmHheS=s64",
      "userId": "15066502291703974467"
     },
     "user_tz": 180
    },
    "id": "nksKjYJg8Le7",
    "outputId": "67a00c21-ea8f-4ae4-a76e-93e38e580f2c"
   },
   "outputs": [
    {
     "data": {
      "text/plain": [
       "'valor = [                      10000000]'"
      ]
     },
     "execution_count": 12,
     "metadata": {},
     "output_type": "execute_result"
    }
   ],
   "source": [
    "valor =10000000\n",
    "f'valor = [{valor:>30d}]'"
   ]
  },
  {
   "cell_type": "code",
   "execution_count": 13,
   "metadata": {
    "colab": {
     "base_uri": "https://localhost:8080/",
     "height": 35
    },
    "executionInfo": {
     "elapsed": 1515,
     "status": "ok",
     "timestamp": 1603497446793,
     "user": {
      "displayName": "Orlando O. S.",
      "photoUrl": "https://lh3.googleusercontent.com/a-/AOh14Gj-E1yuy1M_3ruwN4TWYPK4BwysauSW7GQmHheS=s64",
      "userId": "15066502291703974467"
     },
     "user_tz": 180
    },
    "id": "KG-l2e6h8eZ3",
    "outputId": "70051a05-9202-4f4f-91a5-82c361fde7b8"
   },
   "outputs": [
    {
     "data": {
      "text/plain": [
       "'valor = [                          José]'"
      ]
     },
     "execution_count": 13,
     "metadata": {},
     "output_type": "execute_result"
    }
   ],
   "source": [
    "valor ='José'\n",
    "f'valor = [{valor:>30s}]'"
   ]
  },
  {
   "cell_type": "markdown",
   "metadata": {
    "id": "jVUvk2iGvNnI"
   },
   "source": [
    "#### :^ - Centro alinha o resultado (dentro do espaço disponível)\n"
   ]
  },
  {
   "cell_type": "code",
   "execution_count": 14,
   "metadata": {
    "colab": {
     "base_uri": "https://localhost:8080/",
     "height": 35
    },
    "executionInfo": {
     "elapsed": 805,
     "status": "ok",
     "timestamp": 1603497460988,
     "user": {
      "displayName": "Orlando O. S.",
      "photoUrl": "https://lh3.googleusercontent.com/a-/AOh14Gj-E1yuy1M_3ruwN4TWYPK4BwysauSW7GQmHheS=s64",
      "userId": "15066502291703974467"
     },
     "user_tz": 180
    },
    "id": "5px4TYg28Ruz",
    "outputId": "fe400746-6629-46c1-8344-e0382d86eb62"
   },
   "outputs": [
    {
     "data": {
      "text/plain": [
       "'valor = [           10000000           ]'"
      ]
     },
     "execution_count": 14,
     "metadata": {},
     "output_type": "execute_result"
    }
   ],
   "source": [
    "valor =10000000\n",
    "f'valor = [{valor:^30d}]'"
   ]
  },
  {
   "cell_type": "code",
   "execution_count": 15,
   "metadata": {
    "colab": {
     "base_uri": "https://localhost:8080/",
     "height": 35
    },
    "executionInfo": {
     "elapsed": 720,
     "status": "ok",
     "timestamp": 1603497465642,
     "user": {
      "displayName": "Orlando O. S.",
      "photoUrl": "https://lh3.googleusercontent.com/a-/AOh14Gj-E1yuy1M_3ruwN4TWYPK4BwysauSW7GQmHheS=s64",
      "userId": "15066502291703974467"
     },
     "user_tz": 180
    },
    "id": "IVi4Kscl8iEj",
    "outputId": "424ad610-6d94-4848-afa6-d639d1f40f5d"
   },
   "outputs": [
    {
     "data": {
      "text/plain": [
       "'valor = [             José             ]'"
      ]
     },
     "execution_count": 15,
     "metadata": {},
     "output_type": "execute_result"
    }
   ],
   "source": [
    "valor ='José'\n",
    "f'valor = [{valor:^30s}]'"
   ]
  },
  {
   "cell_type": "markdown",
   "metadata": {
    "id": "50oQkF_4wM8t"
   },
   "source": [
    "#### :, - Use uma vírgula como separador de milhar\n"
   ]
  },
  {
   "cell_type": "code",
   "execution_count": 16,
   "metadata": {
    "colab": {
     "base_uri": "https://localhost:8080/",
     "height": 35
    },
    "executionInfo": {
     "elapsed": 707,
     "status": "ok",
     "timestamp": 1603497484234,
     "user": {
      "displayName": "Orlando O. S.",
      "photoUrl": "https://lh3.googleusercontent.com/a-/AOh14Gj-E1yuy1M_3ruwN4TWYPK4BwysauSW7GQmHheS=s64",
      "userId": "15066502291703974467"
     },
     "user_tz": 180
    },
    "id": "9a1xu83q51Dp",
    "outputId": "cdc7c5cd-6026-4a76-a71f-977d57737621"
   },
   "outputs": [
    {
     "data": {
      "text/plain": [
       "'valor = 10,000,000'"
      ]
     },
     "execution_count": 16,
     "metadata": {},
     "output_type": "execute_result"
    }
   ],
   "source": [
    "valor =10000000\n",
    "f'valor = {valor:,}'"
   ]
  },
  {
   "cell_type": "markdown",
   "metadata": {
    "id": "0AKQ8ikkwNPa"
   },
   "source": [
    "#### :_ - Use um sublinhado como separador de milhar\n"
   ]
  },
  {
   "cell_type": "code",
   "execution_count": 17,
   "metadata": {
    "colab": {
     "base_uri": "https://localhost:8080/",
     "height": 35
    },
    "executionInfo": {
     "elapsed": 814,
     "status": "ok",
     "timestamp": 1603497491021,
     "user": {
      "displayName": "Orlando O. S.",
      "photoUrl": "https://lh3.googleusercontent.com/a-/AOh14Gj-E1yuy1M_3ruwN4TWYPK4BwysauSW7GQmHheS=s64",
      "userId": "15066502291703974467"
     },
     "user_tz": 180
    },
    "id": "LCAvWhe35ide",
    "outputId": "dc4bf116-571e-47c2-ae5c-d2a7b1e3bb3b"
   },
   "outputs": [
    {
     "data": {
      "text/plain": [
       "'valor = 10_000_000'"
      ]
     },
     "execution_count": 17,
     "metadata": {},
     "output_type": "execute_result"
    }
   ],
   "source": [
    "valor =10000000\n",
    "f'valor = {valor:_}'"
   ]
  },
  {
   "cell_type": "code",
   "execution_count": 18,
   "metadata": {
    "colab": {
     "base_uri": "https://localhost:8080/",
     "height": 35
    },
    "executionInfo": {
     "elapsed": 739,
     "status": "ok",
     "timestamp": 1603497583473,
     "user": {
      "displayName": "Orlando O. S.",
      "photoUrl": "https://lh3.googleusercontent.com/a-/AOh14Gj-E1yuy1M_3ruwN4TWYPK4BwysauSW7GQmHheS=s64",
      "userId": "15066502291703974467"
     },
     "user_tz": 180
    },
    "id": "urNErGEo5jL1",
    "outputId": "2198a103-5cbb-4ca0-9e77-c632c1e88648"
   },
   "outputs": [
    {
     "data": {
      "text/plain": [
       "10000000.000001"
      ]
     },
     "execution_count": 18,
     "metadata": {},
     "output_type": "execute_result"
    }
   ],
   "source": [
    "valor = 10_000_000.000_001\n",
    "valor\n"
   ]
  },
  {
   "cell_type": "markdown",
   "metadata": {
    "id": "cUpCiCRDwNj9"
   },
   "source": [
    "#### :b - Formato binário\n"
   ]
  },
  {
   "cell_type": "code",
   "execution_count": 19,
   "metadata": {
    "colab": {
     "base_uri": "https://localhost:8080/",
     "height": 35
    },
    "executionInfo": {
     "elapsed": 773,
     "status": "ok",
     "timestamp": 1603497712036,
     "user": {
      "displayName": "Orlando O. S.",
      "photoUrl": "https://lh3.googleusercontent.com/a-/AOh14Gj-E1yuy1M_3ruwN4TWYPK4BwysauSW7GQmHheS=s64",
      "userId": "15066502291703974467"
     },
     "user_tz": 180
    },
    "id": "rjZcDDVG5OIh",
    "outputId": "aa0132b2-fe64-46cf-f8ba-d835cbf057ff"
   },
   "outputs": [
    {
     "data": {
      "text/plain": [
       "'valor = 0'"
      ]
     },
     "execution_count": 19,
     "metadata": {},
     "output_type": "execute_result"
    }
   ],
   "source": [
    "valor = 0\n",
    "f'valor = {valor:b}'"
   ]
  },
  {
   "cell_type": "code",
   "execution_count": 20,
   "metadata": {
    "colab": {
     "base_uri": "https://localhost:8080/",
     "height": 35
    },
    "executionInfo": {
     "elapsed": 857,
     "status": "ok",
     "timestamp": 1603497726365,
     "user": {
      "displayName": "Orlando O. S.",
      "photoUrl": "https://lh3.googleusercontent.com/a-/AOh14Gj-E1yuy1M_3ruwN4TWYPK4BwysauSW7GQmHheS=s64",
      "userId": "15066502291703974467"
     },
     "user_tz": 180
    },
    "id": "KPgZk0dP5Ry5",
    "outputId": "0f7f5eaa-aafb-4baa-f30b-0e66797c8112"
   },
   "outputs": [
    {
     "data": {
      "text/plain": [
       "'valor = 1011011010110'"
      ]
     },
     "execution_count": 20,
     "metadata": {},
     "output_type": "execute_result"
    }
   ],
   "source": [
    "valor =  5846\n",
    "f'valor = {valor:b}'"
   ]
  },
  {
   "cell_type": "markdown",
   "metadata": {
    "id": "u7cfAz4UwN2k"
   },
   "source": [
    "#### :c - Converte o valor no caractere Unicode correspondente\n"
   ]
  },
  {
   "cell_type": "code",
   "execution_count": 21,
   "metadata": {
    "colab": {
     "base_uri": "https://localhost:8080/",
     "height": 35
    },
    "executionInfo": {
     "elapsed": 689,
     "status": "ok",
     "timestamp": 1603497748971,
     "user": {
      "displayName": "Orlando O. S.",
      "photoUrl": "https://lh3.googleusercontent.com/a-/AOh14Gj-E1yuy1M_3ruwN4TWYPK4BwysauSW7GQmHheS=s64",
      "userId": "15066502291703974467"
     },
     "user_tz": 180
    },
    "id": "Y5r8IT6F5FC0",
    "outputId": "84fc4332-46b4-4a54-f570-205aa754c34c"
   },
   "outputs": [
    {
     "data": {
      "text/plain": [
       "'valor = d'"
      ]
     },
     "execution_count": 21,
     "metadata": {},
     "output_type": "execute_result"
    }
   ],
   "source": [
    "valor =100\n",
    "f'valor = {valor:c}'"
   ]
  },
  {
   "cell_type": "code",
   "execution_count": 22,
   "metadata": {
    "colab": {
     "base_uri": "https://localhost:8080/",
     "height": 35
    },
    "executionInfo": {
     "elapsed": 896,
     "status": "ok",
     "timestamp": 1603497889595,
     "user": {
      "displayName": "Orlando O. S.",
      "photoUrl": "https://lh3.googleusercontent.com/a-/AOh14Gj-E1yuy1M_3ruwN4TWYPK4BwysauSW7GQmHheS=s64",
      "userId": "15066502291703974467"
     },
     "user_tz": 180
    },
    "id": "YSYXM0Cm5JbJ",
    "outputId": "bedf7e8b-185a-4a80-c4fc-c4a9ae3eb55f"
   },
   "outputs": [
    {
     "data": {
      "text/plain": [
       "'valor = @'"
      ]
     },
     "execution_count": 22,
     "metadata": {},
     "output_type": "execute_result"
    }
   ],
   "source": [
    "valor =64\n",
    "f'valor = {valor:c}'"
   ]
  },
  {
   "cell_type": "code",
   "execution_count": 23,
   "metadata": {
    "colab": {
     "base_uri": "https://localhost:8080/",
     "height": 35
    },
    "executionInfo": {
     "elapsed": 715,
     "status": "ok",
     "timestamp": 1603497922675,
     "user": {
      "displayName": "Orlando O. S.",
      "photoUrl": "https://lh3.googleusercontent.com/a-/AOh14Gj-E1yuy1M_3ruwN4TWYPK4BwysauSW7GQmHheS=s64",
      "userId": "15066502291703974467"
     },
     "user_tz": 180
    },
    "id": "qe6fgAVV6pEX",
    "outputId": "c1e9d797-ecb7-4374-e7f0-61c62991987e"
   },
   "outputs": [
    {
     "name": "stdout",
     "output_type": "stream",
     "text": [
      "33\n"
     ]
    }
   ],
   "source": [
    "for i in range(255):\n",
    "  if f'{i:c}' == '!':\n",
    "    print(i)"
   ]
  },
  {
   "cell_type": "markdown",
   "metadata": {
    "id": "YRURD64AwOK9"
   },
   "source": [
    "#### :d - Formato decimal\n"
   ]
  },
  {
   "cell_type": "code",
   "execution_count": 24,
   "metadata": {
    "colab": {
     "base_uri": "https://localhost:8080/",
     "height": 35
    },
    "executionInfo": {
     "elapsed": 782,
     "status": "ok",
     "timestamp": 1603498066389,
     "user": {
      "displayName": "Orlando O. S.",
      "photoUrl": "https://lh3.googleusercontent.com/a-/AOh14Gj-E1yuy1M_3ruwN4TWYPK4BwysauSW7GQmHheS=s64",
      "userId": "15066502291703974467"
     },
     "user_tz": 180
    },
    "id": "QblhTYpn3Txd",
    "outputId": "a7c7b572-fc58-4034-e1f0-64473b6a444f"
   },
   "outputs": [
    {
     "data": {
      "text/plain": [
       "'valor =        100'"
      ]
     },
     "execution_count": 24,
     "metadata": {},
     "output_type": "execute_result"
    }
   ],
   "source": [
    "valor =100\n",
    "f'valor = {valor:10d}'"
   ]
  },
  {
   "cell_type": "code",
   "execution_count": 25,
   "metadata": {
    "colab": {
     "base_uri": "https://localhost:8080/",
     "height": 35
    },
    "executionInfo": {
     "elapsed": 721,
     "status": "ok",
     "timestamp": 1603498096620,
     "user": {
      "displayName": "Orlando O. S.",
      "photoUrl": "https://lh3.googleusercontent.com/a-/AOh14Gj-E1yuy1M_3ruwN4TWYPK4BwysauSW7GQmHheS=s64",
      "userId": "15066502291703974467"
     },
     "user_tz": 180
    },
    "id": "LsH4xUxb43nE",
    "outputId": "9ee6c0cb-d4f0-4d18-b743-d9c1eff02494"
   },
   "outputs": [
    {
     "data": {
      "text/plain": [
       "'valor =   100'"
      ]
     },
     "execution_count": 25,
     "metadata": {},
     "output_type": "execute_result"
    }
   ],
   "source": [
    "valor =100\n",
    "f'valor = {valor:5d}'"
   ]
  },
  {
   "cell_type": "markdown",
   "metadata": {
    "id": "ukTdMck2vNg9"
   },
   "source": [
    "#### := - Coloca o sinal na posição mais à esquerda\n"
   ]
  },
  {
   "cell_type": "code",
   "execution_count": 26,
   "metadata": {
    "id": "rgb4aXOS7Bpq"
   },
   "outputs": [
    {
     "name": "stdout",
     "output_type": "stream",
     "text": [
      "valor = 10000000\n",
      "valor =             10000000\n",
      "valor = -10000000\n",
      "valor = -           10000000\n"
     ]
    }
   ],
   "source": [
    "valor =10000000\n",
    "print(f'valor = {valor}')\n",
    "print(f'valor = {valor:=20d}')\n",
    "valor = -10000000\n",
    "print(f'valor = {valor}')\n",
    "print(f'valor = {valor:=20d}')"
   ]
  },
  {
   "cell_type": "markdown",
   "metadata": {
    "id": "e-qPHvYVvNaG"
   },
   "source": [
    "#### :+ - Use um sinal de mais para indicar se o resultado é positivo ou negativo\n"
   ]
  },
  {
   "cell_type": "code",
   "execution_count": 27,
   "metadata": {
    "colab": {
     "base_uri": "https://localhost:8080/",
     "height": 87
    },
    "executionInfo": {
     "elapsed": 2739,
     "status": "ok",
     "timestamp": 1603498109376,
     "user": {
      "displayName": "Orlando O. S.",
      "photoUrl": "https://lh3.googleusercontent.com/a-/AOh14Gj-E1yuy1M_3ruwN4TWYPK4BwysauSW7GQmHheS=s64",
      "userId": "15066502291703974467"
     },
     "user_tz": 180
    },
    "id": "0WxYRHR062Zq",
    "outputId": "6b32e7a0-ae13-430f-e2e5-24f1180d0e90"
   },
   "outputs": [
    {
     "name": "stdout",
     "output_type": "stream",
     "text": [
      "valor = 10000000\n",
      "valor = +10000000\n",
      "valor = -10000000\n",
      "valor = -10000000\n"
     ]
    }
   ],
   "source": [
    "valor =10000000\n",
    "print(f'valor = {valor}')\n",
    "print(f'valor = {valor:+}')\n",
    "valor = -10000000\n",
    "print(f'valor = {valor}')\n",
    "print(f'valor = {valor:+}')"
   ]
  },
  {
   "cell_type": "markdown",
   "metadata": {
    "id": "QEe-nPu9vNN9"
   },
   "source": [
    "#### :- - Use um sinal de menos apenas para valores negativos\n"
   ]
  },
  {
   "cell_type": "code",
   "execution_count": 28,
   "metadata": {
    "colab": {
     "base_uri": "https://localhost:8080/",
     "height": 87
    },
    "executionInfo": {
     "elapsed": 840,
     "status": "ok",
     "timestamp": 1603498143212,
     "user": {
      "displayName": "Orlando O. S.",
      "photoUrl": "https://lh3.googleusercontent.com/a-/AOh14Gj-E1yuy1M_3ruwN4TWYPK4BwysauSW7GQmHheS=s64",
      "userId": "15066502291703974467"
     },
     "user_tz": 180
    },
    "id": "uzj_eTw26uyv",
    "outputId": "27e67527-8a78-4f1a-a66e-8b4f8c48631a"
   },
   "outputs": [
    {
     "name": "stdout",
     "output_type": "stream",
     "text": [
      "valor = 10000000\n",
      "valor = 10000000\n",
      "valor = -10000000\n",
      "valor = -10000000\n"
     ]
    }
   ],
   "source": [
    "valor =10000000\n",
    "print(f'valor = {valor}')\n",
    "print(f'valor = {valor:-}')\n",
    "valor = -10000000\n",
    "print(f'valor = {valor}')\n",
    "print(f'valor = {valor:-}')"
   ]
  },
  {
   "cell_type": "markdown",
   "metadata": {
    "id": "5NU8hxJmwMna"
   },
   "source": [
    "#### :  - Use um espaço para inserir um espaço extra antes dos números positivos (e um sinal de menos antes dos números negativos)\n"
   ]
  },
  {
   "cell_type": "code",
   "execution_count": 29,
   "metadata": {
    "colab": {
     "base_uri": "https://localhost:8080/",
     "height": 87
    },
    "executionInfo": {
     "elapsed": 1120,
     "status": "ok",
     "timestamp": 1603498161720,
     "user": {
      "displayName": "Orlando O. S.",
      "photoUrl": "https://lh3.googleusercontent.com/a-/AOh14Gj-E1yuy1M_3ruwN4TWYPK4BwysauSW7GQmHheS=s64",
      "userId": "15066502291703974467"
     },
     "user_tz": 180
    },
    "id": "eTAwingz52Fz",
    "outputId": "77235d1b-ffb2-4f0f-a382-6cf76d56476d"
   },
   "outputs": [
    {
     "name": "stdout",
     "output_type": "stream",
     "text": [
      "valor = [10000000]\n",
      "valor = [ 10000000]\n",
      "valor = -10000000\n",
      "valor = -10000000\n"
     ]
    }
   ],
   "source": [
    "valor =10000000\n",
    "print(f'valor = [{valor}]')\n",
    "print(f'valor = [{valor: }]')\n",
    "valor = -10000000\n",
    "print(f'valor = {valor}')\n",
    "print(f'valor = {valor: }')"
   ]
  },
  {
   "cell_type": "markdown",
   "metadata": {
    "id": "STX6-boJwl1H"
   },
   "source": [
    "#### :e - Formato científico, com e minúsculo\n"
   ]
  },
  {
   "cell_type": "code",
   "execution_count": 30,
   "metadata": {
    "colab": {
     "base_uri": "https://localhost:8080/",
     "height": 35
    },
    "executionInfo": {
     "elapsed": 913,
     "status": "ok",
     "timestamp": 1603498189094,
     "user": {
      "displayName": "Orlando O. S.",
      "photoUrl": "https://lh3.googleusercontent.com/a-/AOh14Gj-E1yuy1M_3ruwN4TWYPK4BwysauSW7GQmHheS=s64",
      "userId": "15066502291703974467"
     },
     "user_tz": 180
    },
    "id": "cYyNOHpa3IN5",
    "outputId": "07dab250-8eda-4635-df27-82d61827d0a2"
   },
   "outputs": [
    {
     "data": {
      "text/plain": [
       "'valor = 9.598453e+21'"
      ]
     },
     "execution_count": 30,
     "metadata": {},
     "output_type": "execute_result"
    }
   ],
   "source": [
    "valor = 9598453453459823452354\n",
    "f'valor = {valor:e}'"
   ]
  },
  {
   "cell_type": "markdown",
   "metadata": {
    "id": "YhirInpWwoXS"
   },
   "source": [
    "#### :E - Formato científico, com E maiúsculo\n"
   ]
  },
  {
   "cell_type": "code",
   "execution_count": 31,
   "metadata": {
    "colab": {
     "base_uri": "https://localhost:8080/",
     "height": 35
    },
    "executionInfo": {
     "elapsed": 2108,
     "status": "ok",
     "timestamp": 1603498205578,
     "user": {
      "displayName": "Orlando O. S.",
      "photoUrl": "https://lh3.googleusercontent.com/a-/AOh14Gj-E1yuy1M_3ruwN4TWYPK4BwysauSW7GQmHheS=s64",
      "userId": "15066502291703974467"
     },
     "user_tz": 180
    },
    "id": "lS561Xp93Fpl",
    "outputId": "17e627bb-4f82-423c-ee87-bc1d13b8a462"
   },
   "outputs": [
    {
     "data": {
      "text/plain": [
       "'valor = 9.598453E+21'"
      ]
     },
     "execution_count": 31,
     "metadata": {},
     "output_type": "execute_result"
    }
   ],
   "source": [
    "valor = 9598453453459823452354\n",
    "f'valor = {valor:E}'"
   ]
  },
  {
   "cell_type": "markdown",
   "metadata": {
    "id": "pk-cS2wNyl7H"
   },
   "source": [
    "\n",
    "#### :f - Fixe o formato do número do ponto\n"
   ]
  },
  {
   "cell_type": "code",
   "execution_count": 32,
   "metadata": {
    "colab": {
     "base_uri": "https://localhost:8080/",
     "height": 35
    },
    "executionInfo": {
     "elapsed": 1877,
     "status": "ok",
     "timestamp": 1603498223390,
     "user": {
      "displayName": "Orlando O. S.",
      "photoUrl": "https://lh3.googleusercontent.com/a-/AOh14Gj-E1yuy1M_3ruwN4TWYPK4BwysauSW7GQmHheS=s64",
      "userId": "15066502291703974467"
     },
     "user_tz": 180
    },
    "id": "1kVRaD1H2u3Q",
    "outputId": "aa232d94-3f21-4629-832f-bd3f86759e5d"
   },
   "outputs": [
    {
     "data": {
      "text/plain": [
       "'valor = 0.959898'"
      ]
     },
     "execution_count": 32,
     "metadata": {},
     "output_type": "execute_result"
    }
   ],
   "source": [
    "valor = 0.959898\n",
    "f'valor = {valor:f}'"
   ]
  },
  {
   "cell_type": "code",
   "execution_count": 33,
   "metadata": {
    "colab": {
     "base_uri": "https://localhost:8080/",
     "height": 35
    },
    "executionInfo": {
     "elapsed": 1189,
     "status": "ok",
     "timestamp": 1603498233571,
     "user": {
      "displayName": "Orlando O. S.",
      "photoUrl": "https://lh3.googleusercontent.com/a-/AOh14Gj-E1yuy1M_3ruwN4TWYPK4BwysauSW7GQmHheS=s64",
      "userId": "15066502291703974467"
     },
     "user_tz": 180
    },
    "id": "kfcI4YzX2u3S",
    "outputId": "94b2c33c-053c-4f1a-ae60-360ae42c98ec"
   },
   "outputs": [
    {
     "data": {
      "text/plain": [
       "'valor = 565656.566'"
      ]
     },
     "execution_count": 33,
     "metadata": {},
     "output_type": "execute_result"
    }
   ],
   "source": [
    "valor = 565656.56565\n",
    "f'valor = {valor:.3f}'"
   ]
  },
  {
   "cell_type": "code",
   "execution_count": 34,
   "metadata": {
    "colab": {
     "base_uri": "https://localhost:8080/",
     "height": 35
    },
    "executionInfo": {
     "elapsed": 856,
     "status": "ok",
     "timestamp": 1603498306019,
     "user": {
      "displayName": "Orlando O. S.",
      "photoUrl": "https://lh3.googleusercontent.com/a-/AOh14Gj-E1yuy1M_3ruwN4TWYPK4BwysauSW7GQmHheS=s64",
      "userId": "15066502291703974467"
     },
     "user_tz": 180
    },
    "id": "xlJjoDat22MQ",
    "outputId": "1fd55422-8793-4d5c-d46d-0d72b8cd4997"
   },
   "outputs": [
    {
     "data": {
      "text/plain": [
       "'valor = nan'"
      ]
     },
     "execution_count": 34,
     "metadata": {},
     "output_type": "execute_result"
    }
   ],
   "source": [
    "valor = float(\"NaN\")\n",
    "f'valor = {valor:.3f}'"
   ]
  },
  {
   "cell_type": "code",
   "execution_count": 35,
   "metadata": {
    "colab": {
     "base_uri": "https://localhost:8080/",
     "height": 35
    },
    "executionInfo": {
     "elapsed": 884,
     "status": "ok",
     "timestamp": 1603498294590,
     "user": {
      "displayName": "Orlando O. S.",
      "photoUrl": "https://lh3.googleusercontent.com/a-/AOh14Gj-E1yuy1M_3ruwN4TWYPK4BwysauSW7GQmHheS=s64",
      "userId": "15066502291703974467"
     },
     "user_tz": 180
    },
    "id": "5qdc38cZ22MV",
    "outputId": "546afa77-1919-4cc3-dd37-1fa73539e14e"
   },
   "outputs": [
    {
     "data": {
      "text/plain": [
       "'valor = inf'"
      ]
     },
     "execution_count": 35,
     "metadata": {},
     "output_type": "execute_result"
    }
   ],
   "source": [
    "valor = float(\"Inf\")\n",
    "f'valor = {valor:.3f}'"
   ]
  },
  {
   "cell_type": "markdown",
   "metadata": {
    "id": "7qRoys4wyrOb"
   },
   "source": [
    "#### :F - Fixe o formato do número do ponto, em formato maiúsculo (mostre inf e nan como INF e NAN)\n"
   ]
  },
  {
   "cell_type": "code",
   "execution_count": 36,
   "metadata": {
    "colab": {
     "base_uri": "https://localhost:8080/",
     "height": 35
    },
    "executionInfo": {
     "elapsed": 4040,
     "status": "ok",
     "timestamp": 1603498324387,
     "user": {
      "displayName": "Orlando O. S.",
      "photoUrl": "https://lh3.googleusercontent.com/a-/AOh14Gj-E1yuy1M_3ruwN4TWYPK4BwysauSW7GQmHheS=s64",
      "userId": "15066502291703974467"
     },
     "user_tz": 180
    },
    "id": "obdIpEUK0gCW",
    "outputId": "b753e0bd-3f26-4d6d-a75e-49c2708d0b0d"
   },
   "outputs": [
    {
     "data": {
      "text/plain": [
       "'valor = 0.959898'"
      ]
     },
     "execution_count": 36,
     "metadata": {},
     "output_type": "execute_result"
    }
   ],
   "source": [
    "valor = 0.959898\n",
    "f'valor = {valor:F}'"
   ]
  },
  {
   "cell_type": "code",
   "execution_count": 37,
   "metadata": {
    "id": "-VBiHMiB0oyn"
   },
   "outputs": [
    {
     "data": {
      "text/plain": [
       "'valor = 565656.566'"
      ]
     },
     "execution_count": 37,
     "metadata": {},
     "output_type": "execute_result"
    }
   ],
   "source": [
    "valor = 565656.56565\n",
    "f'valor = {valor:.3F}'"
   ]
  },
  {
   "cell_type": "code",
   "execution_count": 38,
   "metadata": {
    "id": "I5pfeQwS2PzQ"
   },
   "outputs": [
    {
     "data": {
      "text/plain": [
       "'valor = NAN'"
      ]
     },
     "execution_count": 38,
     "metadata": {},
     "output_type": "execute_result"
    }
   ],
   "source": [
    "valor = float(\"NaN\")\n",
    "f'valor = {valor:.3F}'"
   ]
  },
  {
   "cell_type": "code",
   "execution_count": 39,
   "metadata": {
    "id": "G6n9julR2gGO"
   },
   "outputs": [
    {
     "data": {
      "text/plain": [
       "'valor = INF'"
      ]
     },
     "execution_count": 39,
     "metadata": {},
     "output_type": "execute_result"
    }
   ],
   "source": [
    "valor = float(\"Inf\")\n",
    "f'valor = {valor:.3F}'"
   ]
  },
  {
   "cell_type": "markdown",
   "metadata": {
    "id": "sgzvVEwiytXb"
   },
   "source": [
    "#### :g - Formato geral\n"
   ]
  },
  {
   "cell_type": "code",
   "execution_count": 40,
   "metadata": {
    "colab": {
     "base_uri": "https://localhost:8080/",
     "height": 35
    },
    "executionInfo": {
     "elapsed": 699,
     "status": "ok",
     "timestamp": 1603498953131,
     "user": {
      "displayName": "Orlando O. S.",
      "photoUrl": "https://lh3.googleusercontent.com/a-/AOh14Gj-E1yuy1M_3ruwN4TWYPK4BwysauSW7GQmHheS=s64",
      "userId": "15066502291703974467"
     },
     "user_tz": 180
    },
    "id": "8kutduQm0HnI",
    "outputId": "593d0603-b103-4b42-aa10-21f1dca6e829"
   },
   "outputs": [
    {
     "data": {
      "text/plain": [
       "'valor = 9.59845e+21'"
      ]
     },
     "execution_count": 40,
     "metadata": {},
     "output_type": "execute_result"
    }
   ],
   "source": [
    "valor = 9598453453459823452354\n",
    "f'valor = {valor:g}'"
   ]
  },
  {
   "cell_type": "code",
   "execution_count": 41,
   "metadata": {
    "colab": {
     "base_uri": "https://localhost:8080/",
     "height": 35
    },
    "executionInfo": {
     "elapsed": 661,
     "status": "ok",
     "timestamp": 1603498955394,
     "user": {
      "displayName": "Orlando O. S.",
      "photoUrl": "https://lh3.googleusercontent.com/a-/AOh14Gj-E1yuy1M_3ruwN4TWYPK4BwysauSW7GQmHheS=s64",
      "userId": "15066502291703974467"
     },
     "user_tz": 180
    },
    "id": "oUZtDubQ0L2T",
    "outputId": "43596d32-e443-4e92-b0e0-a9e09d046f1b"
   },
   "outputs": [
    {
     "data": {
      "text/plain": [
       "'valor = 9.59845E+21'"
      ]
     },
     "execution_count": 41,
     "metadata": {},
     "output_type": "execute_result"
    }
   ],
   "source": [
    "valor = 9598453453459823452354\n",
    "f'valor = {valor:G}'"
   ]
  },
  {
   "cell_type": "markdown",
   "metadata": {
    "id": "crsfPB2kyvjg"
   },
   "source": [
    "#### :G - Formato geral (usando E maiúsculo para notações científicas)\n"
   ]
  },
  {
   "cell_type": "markdown",
   "metadata": {
    "id": "F3uSafTQy1SY"
   },
   "source": [
    "#### :n - Formato numérico\n"
   ]
  },
  {
   "cell_type": "code",
   "execution_count": 42,
   "metadata": {
    "colab": {
     "base_uri": "https://localhost:8080/",
     "height": 35
    },
    "executionInfo": {
     "elapsed": 772,
     "status": "ok",
     "timestamp": 1603498969461,
     "user": {
      "displayName": "Orlando O. S.",
      "photoUrl": "https://lh3.googleusercontent.com/a-/AOh14Gj-E1yuy1M_3ruwN4TWYPK4BwysauSW7GQmHheS=s64",
      "userId": "15066502291703974467"
     },
     "user_tz": 180
    },
    "id": "az-asP9dzxLj",
    "outputId": "0f56607e-2601-4225-bd67-df5d91ecb8d9"
   },
   "outputs": [
    {
     "data": {
      "text/plain": [
       "'valor = 0.96'"
      ]
     },
     "execution_count": 42,
     "metadata": {},
     "output_type": "execute_result"
    }
   ],
   "source": [
    "valor = 0.959898\n",
    "f'valor = {valor:.2n}'"
   ]
  },
  {
   "cell_type": "code",
   "execution_count": 43,
   "metadata": {
    "colab": {
     "base_uri": "https://localhost:8080/",
     "height": 35
    },
    "executionInfo": {
     "elapsed": 828,
     "status": "ok",
     "timestamp": 1603498973508,
     "user": {
      "displayName": "Orlando O. S.",
      "photoUrl": "https://lh3.googleusercontent.com/a-/AOh14Gj-E1yuy1M_3ruwN4TWYPK4BwysauSW7GQmHheS=s64",
      "userId": "15066502291703974467"
     },
     "user_tz": 180
    },
    "id": "zo41nufJz0mA",
    "outputId": "ddea9bc3-58d5-4d45-a996-b4ee035e17f6"
   },
   "outputs": [
    {
     "data": {
      "text/plain": [
       "'valor = 0.959898'"
      ]
     },
     "execution_count": 43,
     "metadata": {},
     "output_type": "execute_result"
    }
   ],
   "source": [
    "f'valor = {valor:n}'"
   ]
  },
  {
   "cell_type": "markdown",
   "metadata": {
    "id": "p1uxnUjwy3ZI"
   },
   "source": [
    "#### :% - Formato de porcentagem"
   ]
  },
  {
   "cell_type": "code",
   "execution_count": 44,
   "metadata": {
    "colab": {
     "base_uri": "https://localhost:8080/",
     "height": 35
    },
    "executionInfo": {
     "elapsed": 748,
     "status": "ok",
     "timestamp": 1603499229798,
     "user": {
      "displayName": "Orlando O. S.",
      "photoUrl": "https://lh3.googleusercontent.com/a-/AOh14Gj-E1yuy1M_3ruwN4TWYPK4BwysauSW7GQmHheS=s64",
      "userId": "15066502291703974467"
     },
     "user_tz": 180
    },
    "id": "NUaN5U8uy4Jf",
    "outputId": "10d8d478-dff3-439d-871c-960bcc57f698"
   },
   "outputs": [
    {
     "data": {
      "text/plain": [
       "'valor = 95.45%'"
      ]
     },
     "execution_count": 44,
     "metadata": {},
     "output_type": "execute_result"
    }
   ],
   "source": [
    "valor = 0.95445\n",
    "f'valor = {valor:.2%}'"
   ]
  },
  {
   "cell_type": "code",
   "execution_count": 45,
   "metadata": {
    "colab": {
     "base_uri": "https://localhost:8080/",
     "height": 35
    },
    "executionInfo": {
     "elapsed": 745,
     "status": "ok",
     "timestamp": 1603499232752,
     "user": {
      "displayName": "Orlando O. S.",
      "photoUrl": "https://lh3.googleusercontent.com/a-/AOh14Gj-E1yuy1M_3ruwN4TWYPK4BwysauSW7GQmHheS=s64",
      "userId": "15066502291703974467"
     },
     "user_tz": 180
    },
    "id": "SepeagOWz97I",
    "outputId": "cc908345-fba1-46fb-b276-36b470d340f6"
   },
   "outputs": [
    {
     "data": {
      "text/plain": [
       "'valor = 95.445000%'"
      ]
     },
     "execution_count": 45,
     "metadata": {},
     "output_type": "execute_result"
    }
   ],
   "source": [
    "f'valor = {valor:%}'"
   ]
  },
  {
   "cell_type": "markdown",
   "metadata": {
    "id": "VFE1rlDLIWSR"
   },
   "source": [
    "## Leituras Adicionais e Referências:\n",
    "\n",
    "- Python Tutorial at W3Schools: https://www.w3schools.com/python/\n",
    "- Python official documentation: https://docs.python.org/3/tutorial/index.html"
   ]
  }
 ],
 "metadata": {
  "colab": {
   "authorship_tag": "ABX9TyPqaMvKGQWvZVIVtYamLa8C",
   "collapsed_sections": [],
   "name": "Aula 02 - Introdução à Linguagem de Python para Analytics e Data Science.ipynb",
   "provenance": [
    {
     "file_id": "1F82PJICoVYLAG6xN-xT_KhWKkvDxdro6",
     "timestamp": 1602697754653
    }
   ]
  },
  "kernelspec": {
   "display_name": "Python 3",
   "language": "python",
   "name": "python3"
  },
  "language_info": {
   "codemirror_mode": {
    "name": "ipython",
    "version": 3
   },
   "file_extension": ".py",
   "mimetype": "text/x-python",
   "name": "python",
   "nbconvert_exporter": "python",
   "pygments_lexer": "ipython3",
   "version": "3.7.8"
  }
 },
 "nbformat": 4,
 "nbformat_minor": 1
}
