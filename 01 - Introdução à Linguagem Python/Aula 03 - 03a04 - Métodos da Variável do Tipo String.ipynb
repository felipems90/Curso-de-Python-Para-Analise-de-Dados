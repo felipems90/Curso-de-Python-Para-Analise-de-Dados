{
 "cells": [
  {
   "cell_type": "markdown",
   "metadata": {
    "id": "uGqJJfZ36iR6"
   },
   "source": [
    "# 01 - Introdução à Linguagem Python\n",
    "## Aula 03 - 03a04 - Métodos da Variável do Tipo String"
   ]
  },
  {
   "cell_type": "markdown",
   "metadata": {
    "id": "JNifjo59P9mf"
   },
   "source": [
    "## Professor: Orlando Oliveira dos Santos, MsC.\n",
    " - E-mail: professor.orlando.santos@gmail.com \n",
    " - Youtube :https://www.youtube.com/channel/UCPWWbkPWFmOjXH50TQWNAYg\n",
    " - Linkedin: https://linkedin.com/in/orlandoosantos\n",
    " - Facebook: https://www.facebook.com/proforlandosantosmsc/\n",
    " - Twitter: https://twitter.com/ProfOrlandoMsC\n",
    " - Instagram: https://www.instagram.com/proforlandosantosmsc/\n",
    "\n",
    "## Formação Acadêmica\n",
    "- Mestrado em Computação Aplicada - UnB (2014 – 2016)\t\n",
    "- MBA, Administração Estratégica de Sistemas de Informação – FGV (2011 – 2013)\n",
    "- Tecnólogo em Processamento de Dados, Análise e Desenvolvimento de Sistemas – FAETEC/SP (2000-2002)"
   ]
  },
  {
   "cell_type": "markdown",
   "metadata": {},
   "source": [
    "#  Métodos da Variável do Tipo String"
   ]
  },
  {
   "cell_type": "markdown",
   "metadata": {
    "id": "EmFO4UmQ1hDx"
   },
   "source": [
    "## Quais são os métodos / operações da uma String\n",
    "Python tem vários métodos disponíveis para o uso com strings, vejamos alguns exemplos.\n",
    "\n",
    "Nome do Método | Descrição\n",
    "--- | ----\n",
    "capitalize | Converte o primeiro caractere em maiúsculas\n",
    "casefold | Converte string em minúsculas\n",
    "center | Retorna uma string alinhada no centro\n",
    "count | Retorna o número de vezes que um valor especificado ocorre em uma string\n",
    "encode | Retorna uma versão codificada da string\n",
    "endswith | Retorna verdadeiro se a string termina com o valor especificado\n",
    "expandtabs | Define o tamanho da guia da string\n",
    "find | Pesquisa a string por um valor especificado e retorna a posição de onde foi encontrado\n",
    "format | Formata valores especificados em uma string\n",
    "format_map | Formata valores especificados em uma string\n",
    "index | Pesquisa a string por um valor especificado e retorna a posição de onde foi encontrado\n",
    "isalnum | Retorna True se todos os caracteres na string forem alfanuméricos\n",
    "isalpha | Retorna True se todos os caracteres na string estão no alfabeto\n",
    "isdecimal | Retorna True se todos os caracteres na string forem decimais\n",
    "isdigit | Retorna Verdadeiro se todos os caracteres na string forem dígitos\n",
    "isidentifier | Retorna True se a string é um identificador\n",
    "islower | Retorna True se todos os caracteres na string são minúsculos\n",
    "isnumeric | Retorna True se todos os caracteres da string forem numéricos\n",
    "isprintable | Retorna True se todos os caracteres na string são imprimíveis\n",
    "isspace | Retorna True se todos os caracteres na string forem espaços em branco\n",
    "istitle | Retorna True se a string segue as regras de um título\n",
    "isupper | Retorna True se todos os caracteres na string são maiúsculas\n",
    "join | Une os elementos de um iterável ao final da string\n",
    "ljust | Retorna uma versão justificada à esquerda da string\n",
    "lower | Converte uma string em minúsculas\n",
    "lstrip | Retorna uma versão de recortada à esquerda da string\n",
    "maketrans | Retorna uma tabela de tradução para ser usada nas traduções\n",
    "partition | Retorna uma tupla onde a string é dividida em três partes\n",
    "replace | Retorna uma string onde um valor especificado é substituído por outro valor especificado\n",
    "rfind | Procura a string por um valor especificado e retorna a última posição de onde foi encontrado\n",
    "rindex | Pesquisa a string por um valor especificado e retorna a última posição de onde foi encontrado\n",
    "rjust | Retorna uma versão justificada à direita da string\n",
    "rpartition | Retorna uma tupla onde a string é dividida em três partes\n",
    "rsplit | Divide a string no separador especificado e retorna uma lista\n",
    "rstrip | Retorna uma versão de corte direito da string\n",
    "split | Divide a string no separador especificado e retorna uma lista\n",
    "splitlines | Divide a string nas quebras de linha e retorna uma lista\n",
    "startswith | Retorna verdadeiro se a string começa com o valor especificado\n",
    "strip | Retorna uma versão aparada da string\n",
    "swapcase | Troca entre maiúsculas e minúsculas, as minúsculas tornam-se maiúsculas e vice-versa\n",
    "title | Converte o primeiro caractere de cada palavra em maiúsculas\n",
    "translate | Retorna uma string traduzida\n",
    "upper | Converte uma string em maiúsculas\n",
    "zfill | Preenche a string com um número especificado de 0 valores no início\n",
    "\n"
   ]
  },
  {
   "cell_type": "code",
   "execution_count": null,
   "metadata": {
    "id": "moL7rYhWB4Cf"
   },
   "outputs": [],
   "source": []
  },
  {
   "cell_type": "markdown",
   "metadata": {
    "id": "K9nFhg4rD2Dp"
   },
   "source": [
    "### Metodos de alinhamento"
   ]
  },
  {
   "cell_type": "code",
   "execution_count": 1,
   "metadata": {
    "colab": {
     "base_uri": "https://localhost:8080/",
     "height": 35
    },
    "executionInfo": {
     "elapsed": 744,
     "status": "ok",
     "timestamp": 1603328182299,
     "user": {
      "displayName": "Orlando O. S.",
      "photoUrl": "https://lh3.googleusercontent.com/a-/AOh14Gj-E1yuy1M_3ruwN4TWYPK4BwysauSW7GQmHheS=s64",
      "userId": "15066502291703974467"
     },
     "user_tz": 180
    },
    "id": "yV2d8TP0zcaj",
    "outputId": "9db2433b-5a50-4e3f-8b6c-e3a2828ceea8"
   },
   "outputs": [
    {
     "data": {
      "text/plain": [
       "'                  e agora jose?                   '"
      ]
     },
     "execution_count": 1,
     "metadata": {},
     "output_type": "execute_result"
    }
   ],
   "source": [
    "var = \"e agora jose?\"\n",
    "var.center(50)"
   ]
  },
  {
   "cell_type": "code",
   "execution_count": 2,
   "metadata": {
    "colab": {
     "base_uri": "https://localhost:8080/",
     "height": 35
    },
    "executionInfo": {
     "elapsed": 716,
     "status": "ok",
     "timestamp": 1603328235550,
     "user": {
      "displayName": "Orlando O. S.",
      "photoUrl": "https://lh3.googleusercontent.com/a-/AOh14Gj-E1yuy1M_3ruwN4TWYPK4BwysauSW7GQmHheS=s64",
      "userId": "15066502291703974467"
     },
     "user_tz": 180
    },
    "id": "ikscUsJuCcpk",
    "outputId": "0dd61fe6-b6ee-4198-eba0-4c48872de615"
   },
   "outputs": [
    {
     "data": {
      "text/plain": [
       "'                  e agora jose?                   '"
      ]
     },
     "execution_count": 2,
     "metadata": {},
     "output_type": "execute_result"
    }
   ],
   "source": [
    "\"e agora jose?\".center(50)"
   ]
  },
  {
   "cell_type": "code",
   "execution_count": 3,
   "metadata": {
    "colab": {
     "base_uri": "https://localhost:8080/",
     "height": 35
    },
    "executionInfo": {
     "elapsed": 622,
     "status": "ok",
     "timestamp": 1603328255275,
     "user": {
      "displayName": "Orlando O. S.",
      "photoUrl": "https://lh3.googleusercontent.com/a-/AOh14Gj-E1yuy1M_3ruwN4TWYPK4BwysauSW7GQmHheS=s64",
      "userId": "15066502291703974467"
     },
     "user_tz": 180
    },
    "id": "YmFGoPN0WJMN",
    "outputId": "5148a429-6cbf-43c0-8b4d-d57d2d4a9dbd"
   },
   "outputs": [
    {
     "data": {
      "text/plain": [
       "'e agora jose?                                     '"
      ]
     },
     "execution_count": 3,
     "metadata": {},
     "output_type": "execute_result"
    }
   ],
   "source": [
    "\"e agora jose?\".ljust(50)"
   ]
  },
  {
   "cell_type": "code",
   "execution_count": 4,
   "metadata": {
    "colab": {
     "base_uri": "https://localhost:8080/",
     "height": 35
    },
    "executionInfo": {
     "elapsed": 763,
     "status": "ok",
     "timestamp": 1603328265107,
     "user": {
      "displayName": "Orlando O. S.",
      "photoUrl": "https://lh3.googleusercontent.com/a-/AOh14Gj-E1yuy1M_3ruwN4TWYPK4BwysauSW7GQmHheS=s64",
      "userId": "15066502291703974467"
     },
     "user_tz": 180
    },
    "id": "pA2v8gWB-ZfN",
    "outputId": "54a00b35-421a-45a8-cfb0-e1ec3a87e349"
   },
   "outputs": [
    {
     "data": {
      "text/plain": [
       "'                                     e agora jose?'"
      ]
     },
     "execution_count": 4,
     "metadata": {},
     "output_type": "execute_result"
    }
   ],
   "source": [
    "\"e agora jose?\".rjust(50)"
   ]
  },
  {
   "cell_type": "code",
   "execution_count": 5,
   "metadata": {
    "colab": {
     "base_uri": "https://localhost:8080/",
     "height": 35
    },
    "executionInfo": {
     "elapsed": 596,
     "status": "ok",
     "timestamp": 1603328298777,
     "user": {
      "displayName": "Orlando O. S.",
      "photoUrl": "https://lh3.googleusercontent.com/a-/AOh14Gj-E1yuy1M_3ruwN4TWYPK4BwysauSW7GQmHheS=s64",
      "userId": "15066502291703974467"
     },
     "user_tz": 180
    },
    "id": "FbEu6Ox-DKWu",
    "outputId": "66411c75-96b1-4fa1-c8b5-fca0c81b3d34"
   },
   "outputs": [
    {
     "data": {
      "text/plain": [
       "'000000000000000000000000000e agora jose?'"
      ]
     },
     "execution_count": 5,
     "metadata": {},
     "output_type": "execute_result"
    }
   ],
   "source": [
    "\"e agora jose?\".zfill(40)"
   ]
  },
  {
   "cell_type": "code",
   "execution_count": 6,
   "metadata": {
    "colab": {
     "base_uri": "https://localhost:8080/",
     "height": 35
    },
    "executionInfo": {
     "elapsed": 756,
     "status": "ok",
     "timestamp": 1603328328013,
     "user": {
      "displayName": "Orlando O. S.",
      "photoUrl": "https://lh3.googleusercontent.com/a-/AOh14Gj-E1yuy1M_3ruwN4TWYPK4BwysauSW7GQmHheS=s64",
      "userId": "15066502291703974467"
     },
     "user_tz": 180
    },
    "id": "lIiZ4Hd5DZjX",
    "outputId": "d84409cb-375c-4b64-caf0-d5278eec301f"
   },
   "outputs": [
    {
     "data": {
      "text/plain": [
       "'e agora jose?'"
      ]
     },
     "execution_count": 6,
     "metadata": {},
     "output_type": "execute_result"
    }
   ],
   "source": [
    "\"e agora jose?\".zfill(2)"
   ]
  },
  {
   "cell_type": "code",
   "execution_count": 7,
   "metadata": {
    "colab": {
     "base_uri": "https://localhost:8080/",
     "height": 35
    },
    "executionInfo": {
     "elapsed": 678,
     "status": "ok",
     "timestamp": 1603328335735,
     "user": {
      "displayName": "Orlando O. S.",
      "photoUrl": "https://lh3.googleusercontent.com/a-/AOh14Gj-E1yuy1M_3ruwN4TWYPK4BwysauSW7GQmHheS=s64",
      "userId": "15066502291703974467"
     },
     "user_tz": 180
    },
    "id": "a43F2K4mDeEu",
    "outputId": "801bb055-ba4f-484e-b983-2c1db4fe4b16"
   },
   "outputs": [
    {
     "data": {
      "text/plain": [
       "'00245'"
      ]
     },
     "execution_count": 7,
     "metadata": {},
     "output_type": "execute_result"
    }
   ],
   "source": [
    "\"245\".zfill(5)"
   ]
  },
  {
   "cell_type": "markdown",
   "metadata": {
    "id": "TMX3bsFwD67K"
   },
   "source": [
    "### Métodos de checagem e alteração de Caixa"
   ]
  },
  {
   "cell_type": "code",
   "execution_count": 8,
   "metadata": {
    "colab": {
     "base_uri": "https://localhost:8080/",
     "height": 35
    },
    "executionInfo": {
     "elapsed": 685,
     "status": "ok",
     "timestamp": 1603328394064,
     "user": {
      "displayName": "Orlando O. S.",
      "photoUrl": "https://lh3.googleusercontent.com/a-/AOh14Gj-E1yuy1M_3ruwN4TWYPK4BwysauSW7GQmHheS=s64",
      "userId": "15066502291703974467"
     },
     "user_tz": 180
    },
    "id": "uTYqKtOSCPHv",
    "outputId": "5d55636c-7daf-4fed-e4cd-af00bd819012"
   },
   "outputs": [
    {
     "data": {
      "text/plain": [
       "'E agora jose?'"
      ]
     },
     "execution_count": 8,
     "metadata": {},
     "output_type": "execute_result"
    }
   ],
   "source": [
    "\"e agora jose?\".capitalize()"
   ]
  },
  {
   "cell_type": "code",
   "execution_count": 9,
   "metadata": {
    "colab": {
     "base_uri": "https://localhost:8080/",
     "height": 35
    },
    "executionInfo": {
     "elapsed": 972,
     "status": "ok",
     "timestamp": 1603328403185,
     "user": {
      "displayName": "Orlando O. S.",
      "photoUrl": "https://lh3.googleusercontent.com/a-/AOh14Gj-E1yuy1M_3ruwN4TWYPK4BwysauSW7GQmHheS=s64",
      "userId": "15066502291703974467"
     },
     "user_tz": 180
    },
    "id": "kh6oh6nLCcHC",
    "outputId": "af034f4a-4523-4d44-ed34-c2ec77ec57db"
   },
   "outputs": [
    {
     "data": {
      "text/plain": [
       "'e agora jose?'"
      ]
     },
     "execution_count": 9,
     "metadata": {},
     "output_type": "execute_result"
    }
   ],
   "source": [
    "\"E AGORA JOSE?\".casefold()"
   ]
  },
  {
   "cell_type": "code",
   "execution_count": 10,
   "metadata": {
    "colab": {
     "base_uri": "https://localhost:8080/",
     "height": 35
    },
    "executionInfo": {
     "elapsed": 789,
     "status": "ok",
     "timestamp": 1603328425452,
     "user": {
      "displayName": "Orlando O. S.",
      "photoUrl": "https://lh3.googleusercontent.com/a-/AOh14Gj-E1yuy1M_3ruwN4TWYPK4BwysauSW7GQmHheS=s64",
      "userId": "15066502291703974467"
     },
     "user_tz": 180
    },
    "id": "RBr7ZUJXC_lW",
    "outputId": "e884396a-866e-43a0-d63d-3a378cacab2c"
   },
   "outputs": [
    {
     "data": {
      "text/plain": [
       "'e agora                                  jose?'"
      ]
     },
     "execution_count": 10,
     "metadata": {},
     "output_type": "execute_result"
    }
   ],
   "source": [
    "\"e agora\\t jose?\".expandtabs(40)"
   ]
  },
  {
   "cell_type": "code",
   "execution_count": 11,
   "metadata": {
    "colab": {
     "base_uri": "https://localhost:8080/",
     "height": 34
    },
    "executionInfo": {
     "elapsed": 741,
     "status": "ok",
     "timestamp": 1603328454726,
     "user": {
      "displayName": "Orlando O. S.",
      "photoUrl": "https://lh3.googleusercontent.com/a-/AOh14Gj-E1yuy1M_3ruwN4TWYPK4BwysauSW7GQmHheS=s64",
      "userId": "15066502291703974467"
     },
     "user_tz": 180
    },
    "id": "3jyg4RrNVFZZ",
    "outputId": "91c81514-213e-489a-91e5-9cd30aebc059"
   },
   "outputs": [
    {
     "data": {
      "text/plain": [
       "True"
      ]
     },
     "execution_count": 11,
     "metadata": {},
     "output_type": "execute_result"
    }
   ],
   "source": [
    "\"e agora jose?\".islower()"
   ]
  },
  {
   "cell_type": "code",
   "execution_count": 12,
   "metadata": {
    "colab": {
     "base_uri": "https://localhost:8080/",
     "height": 34
    },
    "executionInfo": {
     "elapsed": 701,
     "status": "ok",
     "timestamp": 1603328462063,
     "user": {
      "displayName": "Orlando O. S.",
      "photoUrl": "https://lh3.googleusercontent.com/a-/AOh14Gj-E1yuy1M_3ruwN4TWYPK4BwysauSW7GQmHheS=s64",
      "userId": "15066502291703974467"
     },
     "user_tz": 180
    },
    "id": "xm4uIpAEVFmy",
    "outputId": "fca2a0c2-0f58-4057-b84f-937b540d8b0c"
   },
   "outputs": [
    {
     "data": {
      "text/plain": [
       "False"
      ]
     },
     "execution_count": 12,
     "metadata": {},
     "output_type": "execute_result"
    }
   ],
   "source": [
    "\"E agora jose?\".islower()"
   ]
  },
  {
   "cell_type": "code",
   "execution_count": 13,
   "metadata": {
    "colab": {
     "base_uri": "https://localhost:8080/",
     "height": 34
    },
    "executionInfo": {
     "elapsed": 883,
     "status": "ok",
     "timestamp": 1603328473396,
     "user": {
      "displayName": "Orlando O. S.",
      "photoUrl": "https://lh3.googleusercontent.com/a-/AOh14Gj-E1yuy1M_3ruwN4TWYPK4BwysauSW7GQmHheS=s64",
      "userId": "15066502291703974467"
     },
     "user_tz": 180
    },
    "id": "3PiTtfujVlBY",
    "outputId": "3266f5bb-567c-4274-eff1-e86eb2fb17d1"
   },
   "outputs": [
    {
     "data": {
      "text/plain": [
       "False"
      ]
     },
     "execution_count": 13,
     "metadata": {},
     "output_type": "execute_result"
    }
   ],
   "source": [
    "\"e agora jose?\".istitle()"
   ]
  },
  {
   "cell_type": "code",
   "execution_count": 14,
   "metadata": {
    "colab": {
     "base_uri": "https://localhost:8080/",
     "height": 34
    },
    "executionInfo": {
     "elapsed": 777,
     "status": "ok",
     "timestamp": 1603328479932,
     "user": {
      "displayName": "Orlando O. S.",
      "photoUrl": "https://lh3.googleusercontent.com/a-/AOh14Gj-E1yuy1M_3ruwN4TWYPK4BwysauSW7GQmHheS=s64",
      "userId": "15066502291703974467"
     },
     "user_tz": 180
    },
    "id": "-obyGgQaVk1a",
    "outputId": "5fa387ca-ccee-4e49-8b72-09f2e95fb166"
   },
   "outputs": [
    {
     "data": {
      "text/plain": [
       "True"
      ]
     },
     "execution_count": 14,
     "metadata": {},
     "output_type": "execute_result"
    }
   ],
   "source": [
    "\"E Agora Jose?\".istitle()"
   ]
  },
  {
   "cell_type": "code",
   "execution_count": 15,
   "metadata": {
    "colab": {
     "base_uri": "https://localhost:8080/",
     "height": 34
    },
    "executionInfo": {
     "elapsed": 883,
     "status": "ok",
     "timestamp": 1603328487494,
     "user": {
      "displayName": "Orlando O. S.",
      "photoUrl": "https://lh3.googleusercontent.com/a-/AOh14Gj-E1yuy1M_3ruwN4TWYPK4BwysauSW7GQmHheS=s64",
      "userId": "15066502291703974467"
     },
     "user_tz": 180
    },
    "id": "HEDpNkT4VvB2",
    "outputId": "080a7535-bec2-4f8a-8783-20fbb3d24b65"
   },
   "outputs": [
    {
     "data": {
      "text/plain": [
       "False"
      ]
     },
     "execution_count": 15,
     "metadata": {},
     "output_type": "execute_result"
    }
   ],
   "source": [
    "\"e agora jose?\".isupper()"
   ]
  },
  {
   "cell_type": "code",
   "execution_count": 16,
   "metadata": {
    "colab": {
     "base_uri": "https://localhost:8080/",
     "height": 34
    },
    "executionInfo": {
     "elapsed": 789,
     "status": "ok",
     "timestamp": 1603328494141,
     "user": {
      "displayName": "Orlando O. S.",
      "photoUrl": "https://lh3.googleusercontent.com/a-/AOh14Gj-E1yuy1M_3ruwN4TWYPK4BwysauSW7GQmHheS=s64",
      "userId": "15066502291703974467"
     },
     "user_tz": 180
    },
    "id": "zT_XC6d6VvNN",
    "outputId": "abaddd8e-3bbe-46e2-8f2d-2b63244194d4"
   },
   "outputs": [
    {
     "data": {
      "text/plain": [
       "True"
      ]
     },
     "execution_count": 16,
     "metadata": {},
     "output_type": "execute_result"
    }
   ],
   "source": [
    "\"E AGORA JOSE\".isupper()"
   ]
  },
  {
   "cell_type": "code",
   "execution_count": 17,
   "metadata": {
    "colab": {
     "base_uri": "https://localhost:8080/",
     "height": 35
    },
    "executionInfo": {
     "elapsed": 742,
     "status": "ok",
     "timestamp": 1603328499945,
     "user": {
      "displayName": "Orlando O. S.",
      "photoUrl": "https://lh3.googleusercontent.com/a-/AOh14Gj-E1yuy1M_3ruwN4TWYPK4BwysauSW7GQmHheS=s64",
      "userId": "15066502291703974467"
     },
     "user_tz": 180
    },
    "id": "oyqSI7TlWJFP",
    "outputId": "6ab104d4-a245-4201-c5aa-3bf09ab38a5e"
   },
   "outputs": [
    {
     "data": {
      "text/plain": [
       "'e agora jose'"
      ]
     },
     "execution_count": 17,
     "metadata": {},
     "output_type": "execute_result"
    }
   ],
   "source": [
    "\"E AGORA JOSE\".lower()"
   ]
  },
  {
   "cell_type": "code",
   "execution_count": 18,
   "metadata": {
    "colab": {
     "base_uri": "https://localhost:8080/",
     "height": 35
    },
    "executionInfo": {
     "elapsed": 905,
     "status": "ok",
     "timestamp": 1603328508397,
     "user": {
      "displayName": "Orlando O. S.",
      "photoUrl": "https://lh3.googleusercontent.com/a-/AOh14Gj-E1yuy1M_3ruwN4TWYPK4BwysauSW7GQmHheS=s64",
      "userId": "15066502291703974467"
     },
     "user_tz": 180
    },
    "id": "ust7Jk-sCq3x",
    "outputId": "ec18e0d7-354c-4c20-81cb-f0a7c06083fc"
   },
   "outputs": [
    {
     "data": {
      "text/plain": [
       "'E AGORA JOSE?'"
      ]
     },
     "execution_count": 18,
     "metadata": {},
     "output_type": "execute_result"
    }
   ],
   "source": [
    "\"e agora jose?\".swapcase()"
   ]
  },
  {
   "cell_type": "code",
   "execution_count": 19,
   "metadata": {
    "colab": {
     "base_uri": "https://localhost:8080/",
     "height": 35
    },
    "executionInfo": {
     "elapsed": 724,
     "status": "ok",
     "timestamp": 1603328513928,
     "user": {
      "displayName": "Orlando O. S.",
      "photoUrl": "https://lh3.googleusercontent.com/a-/AOh14Gj-E1yuy1M_3ruwN4TWYPK4BwysauSW7GQmHheS=s64",
      "userId": "15066502291703974467"
     },
     "user_tz": 180
    },
    "id": "9yinktpCCzyA",
    "outputId": "a1726c41-59bf-4186-853a-893a208e89ad"
   },
   "outputs": [
    {
     "data": {
      "text/plain": [
       "'e aGORA jOSE?'"
      ]
     },
     "execution_count": 19,
     "metadata": {},
     "output_type": "execute_result"
    }
   ],
   "source": [
    "\"E Agora Jose?\".swapcase()"
   ]
  },
  {
   "cell_type": "code",
   "execution_count": 20,
   "metadata": {
    "colab": {
     "base_uri": "https://localhost:8080/",
     "height": 35
    },
    "executionInfo": {
     "elapsed": 709,
     "status": "ok",
     "timestamp": 1603328522246,
     "user": {
      "displayName": "Orlando O. S.",
      "photoUrl": "https://lh3.googleusercontent.com/a-/AOh14Gj-E1yuy1M_3ruwN4TWYPK4BwysauSW7GQmHheS=s64",
      "userId": "15066502291703974467"
     },
     "user_tz": 180
    },
    "id": "hy3y2b6pCuwr",
    "outputId": "d810e841-a200-4345-8d81-3653a8dc3ae2"
   },
   "outputs": [
    {
     "data": {
      "text/plain": [
       "'e agora jose?'"
      ]
     },
     "execution_count": 20,
     "metadata": {},
     "output_type": "execute_result"
    }
   ],
   "source": [
    "\"E AGORA JOSE?\".swapcase()"
   ]
  },
  {
   "cell_type": "code",
   "execution_count": 21,
   "metadata": {
    "colab": {
     "base_uri": "https://localhost:8080/",
     "height": 35
    },
    "executionInfo": {
     "elapsed": 764,
     "status": "ok",
     "timestamp": 1603328527593,
     "user": {
      "displayName": "Orlando O. S.",
      "photoUrl": "https://lh3.googleusercontent.com/a-/AOh14Gj-E1yuy1M_3ruwN4TWYPK4BwysauSW7GQmHheS=s64",
      "userId": "15066502291703974467"
     },
     "user_tz": 180
    },
    "id": "mRZ6Kay8C9HW",
    "outputId": "2af6864e-5045-4c3c-ad89-baa6ca13ff24"
   },
   "outputs": [
    {
     "data": {
      "text/plain": [
       "'E Agora Jose?'"
      ]
     },
     "execution_count": 21,
     "metadata": {},
     "output_type": "execute_result"
    }
   ],
   "source": [
    "\"e agora jose?\".title()"
   ]
  },
  {
   "cell_type": "code",
   "execution_count": 22,
   "metadata": {
    "colab": {
     "base_uri": "https://localhost:8080/",
     "height": 35
    },
    "executionInfo": {
     "elapsed": 709,
     "status": "ok",
     "timestamp": 1603328556572,
     "user": {
      "displayName": "Orlando O. S.",
      "photoUrl": "https://lh3.googleusercontent.com/a-/AOh14Gj-E1yuy1M_3ruwN4TWYPK4BwysauSW7GQmHheS=s64",
      "userId": "15066502291703974467"
     },
     "user_tz": 180
    },
    "id": "O1VHDLenDEK8",
    "outputId": "72ee8534-f1b2-4491-b8c4-26aaba840975"
   },
   "outputs": [
    {
     "data": {
      "text/plain": [
       "'E AGORA JOSE?'"
      ]
     },
     "execution_count": 22,
     "metadata": {},
     "output_type": "execute_result"
    }
   ],
   "source": [
    "\"e agora jose?\".upper()"
   ]
  },
  {
   "cell_type": "code",
   "execution_count": 23,
   "metadata": {
    "colab": {
     "base_uri": "https://localhost:8080/",
     "height": 34
    },
    "executionInfo": {
     "elapsed": 722,
     "status": "ok",
     "timestamp": 1603328562616,
     "user": {
      "displayName": "Orlando O. S.",
      "photoUrl": "https://lh3.googleusercontent.com/a-/AOh14Gj-E1yuy1M_3ruwN4TWYPK4BwysauSW7GQmHheS=s64",
      "userId": "15066502291703974467"
     },
     "user_tz": 180
    },
    "id": "cqBKoif-Ccso",
    "outputId": "67676787-2805-44e1-b791-49372f0f4071"
   },
   "outputs": [
    {
     "data": {
      "text/plain": [
       "b'e agora jos\\xc3\\xa9?'"
      ]
     },
     "execution_count": 23,
     "metadata": {},
     "output_type": "execute_result"
    }
   ],
   "source": [
    "\"e agora josé?\".encode()"
   ]
  },
  {
   "cell_type": "markdown",
   "metadata": {
    "id": "_do8e2M1EvOx"
   },
   "source": [
    "### Métodos de limpeza de string"
   ]
  },
  {
   "cell_type": "code",
   "execution_count": 24,
   "metadata": {
    "colab": {
     "base_uri": "https://localhost:8080/",
     "height": 35
    },
    "executionInfo": {
     "elapsed": 704,
     "status": "ok",
     "timestamp": 1603328604459,
     "user": {
      "displayName": "Orlando O. S.",
      "photoUrl": "https://lh3.googleusercontent.com/a-/AOh14Gj-E1yuy1M_3ruwN4TWYPK4BwysauSW7GQmHheS=s64",
      "userId": "15066502291703974467"
     },
     "user_tz": 180
    },
    "id": "ZneQmaQT7Kk3",
    "outputId": "14eb81bd-ee65-4fbb-c594-47167f46ad7a"
   },
   "outputs": [
    {
     "data": {
      "text/plain": [
       "'e agora jose?    '"
      ]
     },
     "execution_count": 24,
     "metadata": {},
     "output_type": "execute_result"
    }
   ],
   "source": [
    "\"    e agora jose?    \".lstrip()"
   ]
  },
  {
   "cell_type": "code",
   "execution_count": 25,
   "metadata": {
    "colab": {
     "base_uri": "https://localhost:8080/",
     "height": 35
    },
    "executionInfo": {
     "elapsed": 735,
     "status": "ok",
     "timestamp": 1603328784963,
     "user": {
      "displayName": "Orlando O. S.",
      "photoUrl": "https://lh3.googleusercontent.com/a-/AOh14Gj-E1yuy1M_3ruwN4TWYPK4BwysauSW7GQmHheS=s64",
      "userId": "15066502291703974467"
     },
     "user_tz": 180
    },
    "id": "E_xOt1GP1gLu",
    "outputId": "4465e8c3-5360-41cb-9ac2-8f39a0f2fb31"
   },
   "outputs": [
    {
     "data": {
      "text/plain": [
       "'E AGORA JOSE?'"
      ]
     },
     "execution_count": 25,
     "metadata": {},
     "output_type": "execute_result"
    }
   ],
   "source": [
    "\"    e agora jose?    \".lstrip().rstrip().upper()"
   ]
  },
  {
   "cell_type": "code",
   "execution_count": 26,
   "metadata": {
    "colab": {
     "base_uri": "https://localhost:8080/",
     "height": 35
    },
    "executionInfo": {
     "elapsed": 723,
     "status": "ok",
     "timestamp": 1603328634881,
     "user": {
      "displayName": "Orlando O. S.",
      "photoUrl": "https://lh3.googleusercontent.com/a-/AOh14Gj-E1yuy1M_3ruwN4TWYPK4BwysauSW7GQmHheS=s64",
      "userId": "15066502291703974467"
     },
     "user_tz": 180
    },
    "id": "GlQFDJ2nKqyK",
    "outputId": "574d0893-7736-4c30-b3bd-8d5f6d4f9f42"
   },
   "outputs": [
    {
     "data": {
      "text/plain": [
       "'    e agora jose?'"
      ]
     },
     "execution_count": 26,
     "metadata": {},
     "output_type": "execute_result"
    }
   ],
   "source": [
    "\"    e agora jose?    \".rstrip()"
   ]
  },
  {
   "cell_type": "code",
   "execution_count": 27,
   "metadata": {
    "colab": {
     "base_uri": "https://localhost:8080/",
     "height": 35
    },
    "executionInfo": {
     "elapsed": 770,
     "status": "ok",
     "timestamp": 1603328653654,
     "user": {
      "displayName": "Orlando O. S.",
      "photoUrl": "https://lh3.googleusercontent.com/a-/AOh14Gj-E1yuy1M_3ruwN4TWYPK4BwysauSW7GQmHheS=s64",
      "userId": "15066502291703974467"
     },
     "user_tz": 180
    },
    "id": "r2_ledPKBuEw",
    "outputId": "62c2980c-697b-4dc7-917a-d9729325fc10"
   },
   "outputs": [
    {
     "data": {
      "text/plain": [
       "'e agora  jose?'"
      ]
     },
     "execution_count": 27,
     "metadata": {},
     "output_type": "execute_result"
    }
   ],
   "source": [
    "\"    e agora  jose?   \".strip()"
   ]
  },
  {
   "cell_type": "code",
   "execution_count": 28,
   "metadata": {
    "colab": {
     "base_uri": "https://localhost:8080/",
     "height": 35
    },
    "executionInfo": {
     "elapsed": 743,
     "status": "ok",
     "timestamp": 1603328849670,
     "user": {
      "displayName": "Orlando O. S.",
      "photoUrl": "https://lh3.googleusercontent.com/a-/AOh14Gj-E1yuy1M_3ruwN4TWYPK4BwysauSW7GQmHheS=s64",
      "userId": "15066502291703974467"
     },
     "user_tz": 180
    },
    "id": "qCuR_K3HAy9S",
    "outputId": "d4779944-a45d-4075-b333-08b4d291ab2d"
   },
   "outputs": [
    {
     "data": {
      "text/plain": [
       "'e agora -|=;,. jose?'"
      ]
     },
     "execution_count": 28,
     "metadata": {},
     "output_type": "execute_result"
    }
   ],
   "source": [
    "\"   -|=;,.    e agora -|=;,. jose?  -|=;,.   \".strip(' -|=;,.')"
   ]
  },
  {
   "cell_type": "code",
   "execution_count": 29,
   "metadata": {
    "colab": {
     "base_uri": "https://localhost:8080/",
     "height": 35
    },
    "executionInfo": {
     "elapsed": 972,
     "status": "ok",
     "timestamp": 1603328863906,
     "user": {
      "displayName": "Orlando O. S.",
      "photoUrl": "https://lh3.googleusercontent.com/a-/AOh14Gj-E1yuy1M_3ruwN4TWYPK4BwysauSW7GQmHheS=s64",
      "userId": "15066502291703974467"
     },
     "user_tz": 180
    },
    "id": "JEuYtr-VBh4b",
    "outputId": "d105a581-990d-410c-b546-1c8fe77b66c1"
   },
   "outputs": [
    {
     "data": {
      "text/plain": [
       "'e agora -|=;,. jose?  -|=;,.   '"
      ]
     },
     "execution_count": 29,
     "metadata": {},
     "output_type": "execute_result"
    }
   ],
   "source": [
    "\"   -|=;,.    e agora -|=;,. jose?  -|=;,.   \".lstrip(' -|=;,.')"
   ]
  },
  {
   "cell_type": "code",
   "execution_count": 30,
   "metadata": {
    "colab": {
     "base_uri": "https://localhost:8080/",
     "height": 35
    },
    "executionInfo": {
     "elapsed": 831,
     "status": "ok",
     "timestamp": 1603328936016,
     "user": {
      "displayName": "Orlando O. S.",
      "photoUrl": "https://lh3.googleusercontent.com/a-/AOh14Gj-E1yuy1M_3ruwN4TWYPK4BwysauSW7GQmHheS=s64",
      "userId": "15066502291703974467"
     },
     "user_tz": 180
    },
    "id": "GC_jRB5wKx1T",
    "outputId": "13a009b8-b1ca-41d1-c6f3-da6eaf7df2d4"
   },
   "outputs": [
    {
     "data": {
      "text/plain": [
       "'e agora -|=;,. jose?'"
      ]
     },
     "execution_count": 30,
     "metadata": {},
     "output_type": "execute_result"
    }
   ],
   "source": [
    "\"   -|=;,.    e agora -|=;,. jose?  -| = ; , .   \".strip(' -|=;,.')"
   ]
  },
  {
   "cell_type": "markdown",
   "metadata": {
    "id": "bbljR__aFKN2"
   },
   "source": [
    "### Metodos de substituição de partes da string"
   ]
  },
  {
   "cell_type": "code",
   "execution_count": 31,
   "metadata": {
    "colab": {
     "base_uri": "https://localhost:8080/",
     "height": 35
    },
    "executionInfo": {
     "elapsed": 764,
     "status": "ok",
     "timestamp": 1603328951871,
     "user": {
      "displayName": "Orlando O. S.",
      "photoUrl": "https://lh3.googleusercontent.com/a-/AOh14Gj-E1yuy1M_3ruwN4TWYPK4BwysauSW7GQmHheS=s64",
      "userId": "15066502291703974467"
     },
     "user_tz": 180
    },
    "id": "5FmxQ0HM9uFk",
    "outputId": "15c94414-0ef6-4bdd-bc8f-5f298def949b"
   },
   "outputs": [
    {
     "data": {
      "text/plain": [
       "'e agora João?'"
      ]
     },
     "execution_count": 31,
     "metadata": {},
     "output_type": "execute_result"
    }
   ],
   "source": [
    "\"e agora jose?\".replace('jose', 'João')"
   ]
  },
  {
   "cell_type": "code",
   "execution_count": 32,
   "metadata": {
    "colab": {
     "base_uri": "https://localhost:8080/",
     "height": 35
    },
    "executionInfo": {
     "elapsed": 769,
     "status": "ok",
     "timestamp": 1603328962496,
     "user": {
      "displayName": "Orlando O. S.",
      "photoUrl": "https://lh3.googleusercontent.com/a-/AOh14Gj-E1yuy1M_3ruwN4TWYPK4BwysauSW7GQmHheS=s64",
      "userId": "15066502291703974467"
     },
     "user_tz": 180
    },
    "id": "f5XB6SGV9dxn",
    "outputId": "8d2aaf4e-3a61-485e-9496-c4ed21b73528"
   },
   "outputs": [
    {
     "data": {
      "text/plain": [
       "'e agora jose?'"
      ]
     },
     "execution_count": 32,
     "metadata": {},
     "output_type": "execute_result"
    }
   ],
   "source": [
    "\"e agora jose?\".replace('Jose', 'João')"
   ]
  },
  {
   "cell_type": "code",
   "execution_count": 33,
   "metadata": {
    "colab": {
     "base_uri": "https://localhost:8080/",
     "height": 35
    },
    "executionInfo": {
     "elapsed": 733,
     "status": "ok",
     "timestamp": 1603329249636,
     "user": {
      "displayName": "Orlando O. S.",
      "photoUrl": "https://lh3.googleusercontent.com/a-/AOh14Gj-E1yuy1M_3ruwN4TWYPK4BwysauSW7GQmHheS=s64",
      "userId": "15066502291703974467"
     },
     "user_tz": 180
    },
    "id": "Vjt0eW7A3iMu",
    "outputId": "b7d84a4c-e227-407b-e298-5f0fa087f938"
   },
   "outputs": [
    {
     "data": {
      "text/plain": [
       "'e agora jose?'"
      ]
     },
     "execution_count": 33,
     "metadata": {},
     "output_type": "execute_result"
    }
   ],
   "source": [
    "\"   -|=;,.    e agora -|=;,. jose?  -| = ; , .   \".strip(' -|=;,.').replace('-|=;,. ','' )"
   ]
  },
  {
   "cell_type": "code",
   "execution_count": 34,
   "metadata": {
    "colab": {
     "base_uri": "https://localhost:8080/",
     "height": 34
    },
    "executionInfo": {
     "elapsed": 730,
     "status": "ok",
     "timestamp": 1603329059697,
     "user": {
      "displayName": "Orlando O. S.",
      "photoUrl": "https://lh3.googleusercontent.com/a-/AOh14Gj-E1yuy1M_3ruwN4TWYPK4BwysauSW7GQmHheS=s64",
      "userId": "15066502291703974467"
     },
     "user_tz": 180
    },
    "id": "Ujxks2U98Kro",
    "outputId": "40533720-4eba-4356-b7ac-caed8ad926c0"
   },
   "outputs": [
    {
     "data": {
      "text/plain": [
       "{97: 65, 101: 69, 105: 73, 111: 79, 117: 85}"
      ]
     },
     "execution_count": 34,
     "metadata": {},
     "output_type": "execute_result"
    }
   ],
   "source": [
    "trantab = \"e agora jose?\".maketrans(\"aeiou\", \"AEIOU\")\n",
    "trantab"
   ]
  },
  {
   "cell_type": "code",
   "execution_count": 35,
   "metadata": {
    "colab": {
     "base_uri": "https://localhost:8080/",
     "height": 35
    },
    "executionInfo": {
     "elapsed": 633,
     "status": "ok",
     "timestamp": 1603329088186,
     "user": {
      "displayName": "Orlando O. S.",
      "photoUrl": "https://lh3.googleusercontent.com/a-/AOh14Gj-E1yuy1M_3ruwN4TWYPK4BwysauSW7GQmHheS=s64",
      "userId": "15066502291703974467"
     },
     "user_tz": 180
    },
    "id": "YkT0d79W7Ktq",
    "outputId": "039004db-de5b-4e42-e94d-53a0cfbe5a60"
   },
   "outputs": [
    {
     "data": {
      "text/plain": [
       "'E AgOrA jOsE?'"
      ]
     },
     "execution_count": 35,
     "metadata": {},
     "output_type": "execute_result"
    }
   ],
   "source": [
    "\"e agora jose?\".translate(trantab)"
   ]
  },
  {
   "cell_type": "markdown",
   "metadata": {
    "id": "JLzBuJd4Fr8H"
   },
   "source": [
    "## Métodos de fatiamento de strings"
   ]
  },
  {
   "cell_type": "code",
   "execution_count": 36,
   "metadata": {
    "colab": {
     "base_uri": "https://localhost:8080/",
     "height": 35
    },
    "executionInfo": {
     "elapsed": 844,
     "status": "ok",
     "timestamp": 1603495146357,
     "user": {
      "displayName": "Orlando O. S.",
      "photoUrl": "https://lh3.googleusercontent.com/a-/AOh14Gj-E1yuy1M_3ruwN4TWYPK4BwysauSW7GQmHheS=s64",
      "userId": "15066502291703974467"
     },
     "user_tz": 180
    },
    "id": "QHVEOnTBLGd2",
    "outputId": "026ebd4d-6984-4dcc-85e9-7c916d7e0e47"
   },
   "outputs": [
    {
     "data": {
      "text/plain": [
       "['e', 'agora', 'jose?', 'e', 'agora', 'jose?']"
      ]
     },
     "execution_count": 36,
     "metadata": {},
     "output_type": "execute_result"
    }
   ],
   "source": [
    "\"e agora jose? e agora jose?\".split()"
   ]
  },
  {
   "cell_type": "code",
   "execution_count": 37,
   "metadata": {
    "colab": {
     "base_uri": "https://localhost:8080/",
     "height": 35
    },
    "executionInfo": {
     "elapsed": 668,
     "status": "ok",
     "timestamp": 1603495168644,
     "user": {
      "displayName": "Orlando O. S.",
      "photoUrl": "https://lh3.googleusercontent.com/a-/AOh14Gj-E1yuy1M_3ruwN4TWYPK4BwysauSW7GQmHheS=s64",
      "userId": "15066502291703974467"
     },
     "user_tz": 180
    },
    "id": "000isMU34IP7",
    "outputId": "5371ab74-4ea6-471c-f8b7-6c81501e7a60"
   },
   "outputs": [
    {
     "data": {
      "text/plain": [
       "['10', '34', '56756', '678', '67867', '67867', '678678']"
      ]
     },
     "execution_count": 37,
     "metadata": {},
     "output_type": "execute_result"
    }
   ],
   "source": [
    "'10,34,56756,678,67867,67867,678678'.split(',')"
   ]
  },
  {
   "cell_type": "code",
   "execution_count": 38,
   "metadata": {
    "colab": {
     "base_uri": "https://localhost:8080/",
     "height": 35
    },
    "executionInfo": {
     "elapsed": 716,
     "status": "ok",
     "timestamp": 1603495186233,
     "user": {
      "displayName": "Orlando O. S.",
      "photoUrl": "https://lh3.googleusercontent.com/a-/AOh14Gj-E1yuy1M_3ruwN4TWYPK4BwysauSW7GQmHheS=s64",
      "userId": "15066502291703974467"
     },
     "user_tz": 180
    },
    "id": "OkPKe2ACLKP9",
    "outputId": "62f335d8-72db-467e-d368-c0057e4469fc"
   },
   "outputs": [
    {
     "data": {
      "text/plain": [
       "['e', 'agora', 'jose?', 'e agora jose?']"
      ]
     },
     "execution_count": 38,
     "metadata": {},
     "output_type": "execute_result"
    }
   ],
   "source": [
    "\"e agora jose? e agora jose?\".split(' ', 3)"
   ]
  },
  {
   "cell_type": "code",
   "execution_count": 39,
   "metadata": {
    "colab": {
     "base_uri": "https://localhost:8080/",
     "height": 34
    },
    "executionInfo": {
     "elapsed": 960,
     "status": "ok",
     "timestamp": 1603329507657,
     "user": {
      "displayName": "Orlando O. S.",
      "photoUrl": "https://lh3.googleusercontent.com/a-/AOh14Gj-E1yuy1M_3ruwN4TWYPK4BwysauSW7GQmHheS=s64",
      "userId": "15066502291703974467"
     },
     "user_tz": 180
    },
    "id": "wsLHNdCBLDaP",
    "outputId": "f8e5efa5-96e6-4e90-d2cb-86b24a32654d"
   },
   "outputs": [
    {
     "data": {
      "text/plain": [
       "['e ag', 'ra jose? e agora jose?']"
      ]
     },
     "execution_count": 39,
     "metadata": {},
     "output_type": "execute_result"
    }
   ],
   "source": [
    "\"e agora jose? e agora jose?\".split('o', 1)"
   ]
  },
  {
   "cell_type": "code",
   "execution_count": 40,
   "metadata": {
    "colab": {
     "base_uri": "https://localhost:8080/",
     "height": 34
    },
    "executionInfo": {
     "elapsed": 948,
     "status": "ok",
     "timestamp": 1603329520294,
     "user": {
      "displayName": "Orlando O. S.",
      "photoUrl": "https://lh3.googleusercontent.com/a-/AOh14Gj-E1yuy1M_3ruwN4TWYPK4BwysauSW7GQmHheS=s64",
      "userId": "15066502291703974467"
     },
     "user_tz": 180
    },
    "id": "XYxNLcms-Zz5",
    "outputId": "b737324b-cb01-4de7-d67f-b9177420fd52"
   },
   "outputs": [
    {
     "data": {
      "text/plain": [
       "['e', 'agora', 'jose?', 'e', 'agora', 'jose?']"
      ]
     },
     "execution_count": 40,
     "metadata": {},
     "output_type": "execute_result"
    }
   ],
   "source": [
    "\"e agora jose? e agora jose?\".rsplit()"
   ]
  },
  {
   "cell_type": "code",
   "execution_count": 41,
   "metadata": {
    "colab": {
     "base_uri": "https://localhost:8080/",
     "height": 35
    },
    "executionInfo": {
     "elapsed": 878,
     "status": "ok",
     "timestamp": 1603495232146,
     "user": {
      "displayName": "Orlando O. S.",
      "photoUrl": "https://lh3.googleusercontent.com/a-/AOh14Gj-E1yuy1M_3ruwN4TWYPK4BwysauSW7GQmHheS=s64",
      "userId": "15066502291703974467"
     },
     "user_tz": 180
    },
    "id": "cFh_bupzAQDq",
    "outputId": "cc39dfb6-ecfb-4d90-e2da-c5f9bf93695e"
   },
   "outputs": [
    {
     "data": {
      "text/plain": [
       "['e agora jose?', 'e', 'agora', 'jose?']"
      ]
     },
     "execution_count": 41,
     "metadata": {},
     "output_type": "execute_result"
    }
   ],
   "source": [
    "\"e agora jose? e agora jose?\".rsplit(' ', 3)"
   ]
  },
  {
   "cell_type": "code",
   "execution_count": 42,
   "metadata": {
    "colab": {
     "base_uri": "https://localhost:8080/",
     "height": 35
    },
    "executionInfo": {
     "elapsed": 916,
     "status": "ok",
     "timestamp": 1603495239011,
     "user": {
      "displayName": "Orlando O. S.",
      "photoUrl": "https://lh3.googleusercontent.com/a-/AOh14Gj-E1yuy1M_3ruwN4TWYPK4BwysauSW7GQmHheS=s64",
      "userId": "15066502291703974467"
     },
     "user_tz": 180
    },
    "id": "LzePvZxy7KpW",
    "outputId": "b64529ec-2b9c-4a9c-b9a7-e8a3090a6632"
   },
   "outputs": [
    {
     "data": {
      "text/plain": [
       "('e ', 'agora', ' jose?')"
      ]
     },
     "execution_count": 42,
     "metadata": {},
     "output_type": "execute_result"
    }
   ],
   "source": [
    "\"e agora jose?\".partition('agora')"
   ]
  },
  {
   "cell_type": "code",
   "execution_count": 43,
   "metadata": {
    "id": "A93qftuj5HhQ"
   },
   "outputs": [],
   "source": [
    "data = '2020-10-21'"
   ]
  },
  {
   "cell_type": "code",
   "execution_count": 44,
   "metadata": {
    "colab": {
     "base_uri": "https://localhost:8080/",
     "height": 68
    },
    "executionInfo": {
     "elapsed": 1030,
     "status": "ok",
     "timestamp": 1603329760572,
     "user": {
      "displayName": "Orlando O. S.",
      "photoUrl": "https://lh3.googleusercontent.com/a-/AOh14Gj-E1yuy1M_3ruwN4TWYPK4BwysauSW7GQmHheS=s64",
      "userId": "15066502291703974467"
     },
     "user_tz": 180
    },
    "id": "iuZWGCG-5Pjc",
    "outputId": "2619b585-a171-4906-d233-4b5afbd80136"
   },
   "outputs": [
    {
     "name": "stdout",
     "output_type": "stream",
     "text": [
      "ano= 2020\n",
      "mês= 10\n",
      "dia= 21\n"
     ]
    }
   ],
   "source": [
    "print( 'ano=', data.split('-')[0])\n",
    "print( 'mês=', data.split('-')[1])\n",
    "print( 'dia=', data.split('-')[2])"
   ]
  },
  {
   "cell_type": "code",
   "execution_count": null,
   "metadata": {
    "id": "OmOyRst45PRs"
   },
   "outputs": [],
   "source": []
  },
  {
   "cell_type": "code",
   "execution_count": 45,
   "metadata": {
    "colab": {
     "base_uri": "https://localhost:8080/",
     "height": 34
    },
    "executionInfo": {
     "elapsed": 1557,
     "status": "ok",
     "timestamp": 1603329776954,
     "user": {
      "displayName": "Orlando O. S.",
      "photoUrl": "https://lh3.googleusercontent.com/a-/AOh14Gj-E1yuy1M_3ruwN4TWYPK4BwysauSW7GQmHheS=s64",
      "userId": "15066502291703974467"
     },
     "user_tz": 180
    },
    "id": "7Oki08Tl8JW9",
    "outputId": "832b622d-a3df-4aa2-8d0c-3f28a2860e2a"
   },
   "outputs": [
    {
     "data": {
      "text/plain": [
       "('e ag', 'o', 'ra jose?')"
      ]
     },
     "execution_count": 45,
     "metadata": {},
     "output_type": "execute_result"
    }
   ],
   "source": [
    "\"e agora jose?\".partition('o')"
   ]
  },
  {
   "cell_type": "code",
   "execution_count": 46,
   "metadata": {
    "colab": {
     "base_uri": "https://localhost:8080/",
     "height": 34
    },
    "executionInfo": {
     "elapsed": 661,
     "status": "ok",
     "timestamp": 1603329803854,
     "user": {
      "displayName": "Orlando O. S.",
      "photoUrl": "https://lh3.googleusercontent.com/a-/AOh14Gj-E1yuy1M_3ruwN4TWYPK4BwysauSW7GQmHheS=s64",
      "userId": "15066502291703974467"
     },
     "user_tz": 180
    },
    "id": "MN5jmueg-Zpu",
    "outputId": "384e4422-2cf2-49d3-ed4d-c6fbb6978a42"
   },
   "outputs": [
    {
     "data": {
      "text/plain": [
       "('e agora jose? e ', 'agora', ' jose?')"
      ]
     },
     "execution_count": 46,
     "metadata": {},
     "output_type": "execute_result"
    }
   ],
   "source": [
    "\"e agora jose? e agora jose?\".rpartition('agora')"
   ]
  },
  {
   "cell_type": "code",
   "execution_count": 47,
   "metadata": {
    "colab": {
     "base_uri": "https://localhost:8080/",
     "height": 35
    },
    "executionInfo": {
     "elapsed": 829,
     "status": "ok",
     "timestamp": 1603329920361,
     "user": {
      "displayName": "Orlando O. S.",
      "photoUrl": "https://lh3.googleusercontent.com/a-/AOh14Gj-E1yuy1M_3ruwN4TWYPK4BwysauSW7GQmHheS=s64",
      "userId": "15066502291703974467"
     },
     "user_tz": 180
    },
    "id": "VFDZxV3uB4MW",
    "outputId": "b9504b46-337a-4efb-c854-d1c8cd0a1072"
   },
   "outputs": [
    {
     "data": {
      "text/plain": [
       "'a noite esfriou,'"
      ]
     },
     "execution_count": 47,
     "metadata": {},
     "output_type": "execute_result"
    }
   ],
   "source": [
    "'''E agora, José?\n",
    "A festa acabou,\n",
    "a luz apagou,\n",
    "o povo sumiu,\n",
    "a noite esfriou,\n",
    "e agora, José?\n",
    "e agora, você?\n",
    "você que é sem nome,\n",
    "que zomba dos outros,\n",
    "você que faz versos,\n",
    "que ama, protesta?\n",
    "e agora, José?\n",
    "\n",
    "...Carlos Drummond de Andrade\n",
    "'''.splitlines()[4]"
   ]
  },
  {
   "cell_type": "markdown",
   "metadata": {
    "id": "ZZ3dZ_iKIu2i"
   },
   "source": [
    "### Método de formatação de strings\n"
   ]
  },
  {
   "cell_type": "code",
   "execution_count": null,
   "metadata": {
    "id": "_M1r3yuWxxDJ"
   },
   "outputs": [],
   "source": []
  },
  {
   "cell_type": "code",
   "execution_count": 48,
   "metadata": {
    "colab": {
     "base_uri": "https://localhost:8080/",
     "height": 35
    },
    "executionInfo": {
     "elapsed": 954,
     "status": "ok",
     "timestamp": 1603495544960,
     "user": {
      "displayName": "Orlando O. S.",
      "photoUrl": "https://lh3.googleusercontent.com/a-/AOh14Gj-E1yuy1M_3ruwN4TWYPK4BwysauSW7GQmHheS=s64",
      "userId": "15066502291703974467"
     },
     "user_tz": 180
    },
    "id": "LyfpMwWfC5jK",
    "outputId": "e0c8cd98-f0ec-4fa2-eaac-ff32a49d32aa"
   },
   "outputs": [
    {
     "data": {
      "text/plain": [
       "'e jose agora? '"
      ]
     },
     "execution_count": 48,
     "metadata": {},
     "output_type": "execute_result"
    }
   ],
   "source": [
    "\"e {} {}? \".format('jose','agora')"
   ]
  },
  {
   "cell_type": "code",
   "execution_count": 49,
   "metadata": {
    "colab": {
     "base_uri": "https://localhost:8080/",
     "height": 35
    },
    "executionInfo": {
     "elapsed": 734,
     "status": "ok",
     "timestamp": 1603331962044,
     "user": {
      "displayName": "Orlando O. S.",
      "photoUrl": "https://lh3.googleusercontent.com/a-/AOh14Gj-E1yuy1M_3ruwN4TWYPK4BwysauSW7GQmHheS=s64",
      "userId": "15066502291703974467"
     },
     "user_tz": 180
    },
    "id": "ZAVLp7iLMFzT",
    "outputId": "6c1f001b-1168-4cc7-d840-6cc7a326d312"
   },
   "outputs": [
    {
     "data": {
      "text/plain": [
       "'e agora jose?'"
      ]
     },
     "execution_count": 49,
     "metadata": {},
     "output_type": "execute_result"
    }
   ],
   "source": [
    "tempo = 'agora'\n",
    "nome = 'jose'\n",
    "\"e {0} {1}?\".format(tempo,nome)"
   ]
  },
  {
   "cell_type": "code",
   "execution_count": 50,
   "metadata": {
    "colab": {
     "base_uri": "https://localhost:8080/",
     "height": 35
    },
    "executionInfo": {
     "elapsed": 748,
     "status": "ok",
     "timestamp": 1603495627127,
     "user": {
      "displayName": "Orlando O. S.",
      "photoUrl": "https://lh3.googleusercontent.com/a-/AOh14Gj-E1yuy1M_3ruwN4TWYPK4BwysauSW7GQmHheS=s64",
      "userId": "15066502291703974467"
     },
     "user_tz": 180
    },
    "id": "roXPeQVIC5gQ",
    "outputId": "5b40935d-4323-4344-e1a0-0634f2c6d750"
   },
   "outputs": [
    {
     "data": {
      "text/plain": [
       "'e agora jose?'"
      ]
     },
     "execution_count": 50,
     "metadata": {},
     "output_type": "execute_result"
    }
   ],
   "source": [
    "partes = {'tempo':'agora','nome':'jose'}\n",
    "\"e {tempo} {nome}?\".format(**partes)"
   ]
  },
  {
   "cell_type": "code",
   "execution_count": 51,
   "metadata": {
    "colab": {
     "base_uri": "https://localhost:8080/",
     "height": 35
    },
    "executionInfo": {
     "elapsed": 756,
     "status": "ok",
     "timestamp": 1603495687832,
     "user": {
      "displayName": "Orlando O. S.",
      "photoUrl": "https://lh3.googleusercontent.com/a-/AOh14Gj-E1yuy1M_3ruwN4TWYPK4BwysauSW7GQmHheS=s64",
      "userId": "15066502291703974467"
     },
     "user_tz": 180
    },
    "id": "eeNP1SJFLllf",
    "outputId": "a30bb078-b8e4-4cf4-d54e-51ea28abaec7"
   },
   "outputs": [
    {
     "data": {
      "text/plain": [
       "'e agora jose?'"
      ]
     },
     "execution_count": 51,
     "metadata": {},
     "output_type": "execute_result"
    }
   ],
   "source": [
    "tempo = 'agora'\n",
    "nome = 'jose'\n",
    "f\"e {tempo} {nome}?\""
   ]
  },
  {
   "cell_type": "markdown",
   "metadata": {
    "id": "EMKkYP-7JCeA"
   },
   "source": [
    "### Método de junção / concatenação de strings"
   ]
  },
  {
   "cell_type": "code",
   "execution_count": 52,
   "metadata": {
    "colab": {
     "base_uri": "https://localhost:8080/",
     "height": 35
    },
    "executionInfo": {
     "elapsed": 847,
     "status": "ok",
     "timestamp": 1603495723979,
     "user": {
      "displayName": "Orlando O. S.",
      "photoUrl": "https://lh3.googleusercontent.com/a-/AOh14Gj-E1yuy1M_3ruwN4TWYPK4BwysauSW7GQmHheS=s64",
      "userId": "15066502291703974467"
     },
     "user_tz": 180
    },
    "id": "qvfMdlrlJbZv",
    "outputId": "dd794d24-c4a0-4d75-dd46-1f97f6319afa"
   },
   "outputs": [
    {
     "data": {
      "text/plain": [
       "'e agora jose?'"
      ]
     },
     "execution_count": 52,
     "metadata": {},
     "output_type": "execute_result"
    }
   ],
   "source": [
    "'e' + ' ' + 'agora'+ ' ' + 'jose?'"
   ]
  },
  {
   "cell_type": "code",
   "execution_count": 53,
   "metadata": {
    "colab": {
     "base_uri": "https://localhost:8080/",
     "height": 35
    },
    "executionInfo": {
     "elapsed": 738,
     "status": "ok",
     "timestamp": 1603495792160,
     "user": {
      "displayName": "Orlando O. S.",
      "photoUrl": "https://lh3.googleusercontent.com/a-/AOh14Gj-E1yuy1M_3ruwN4TWYPK4BwysauSW7GQmHheS=s64",
      "userId": "15066502291703974467"
     },
     "user_tz": 180
    },
    "id": "TlvvmRRIVvUq",
    "outputId": "777bf50e-63f9-41c0-d81f-3b10983712f8"
   },
   "outputs": [
    {
     "data": {
      "text/plain": [
       "'e agora jose?'"
      ]
     },
     "execution_count": 53,
     "metadata": {},
     "output_type": "execute_result"
    }
   ],
   "source": [
    "\" \".join(['e','agora','jose?'])"
   ]
  },
  {
   "cell_type": "code",
   "execution_count": 54,
   "metadata": {
    "colab": {
     "base_uri": "https://localhost:8080/",
     "height": 35
    },
    "executionInfo": {
     "elapsed": 720,
     "status": "ok",
     "timestamp": 1603495800993,
     "user": {
      "displayName": "Orlando O. S.",
      "photoUrl": "https://lh3.googleusercontent.com/a-/AOh14Gj-E1yuy1M_3ruwN4TWYPK4BwysauSW7GQmHheS=s64",
      "userId": "15066502291703974467"
     },
     "user_tz": 180
    },
    "id": "kLGqlUdwVvTD",
    "outputId": "ca88a82f-2461-4a83-8d78-8eed5a2da789"
   },
   "outputs": [
    {
     "data": {
      "text/plain": [
       "'e-agora-jose?'"
      ]
     },
     "execution_count": 54,
     "metadata": {},
     "output_type": "execute_result"
    }
   ],
   "source": [
    "\"-\".join(['e','agora','jose?'])"
   ]
  },
  {
   "cell_type": "code",
   "execution_count": 55,
   "metadata": {
    "colab": {
     "base_uri": "https://localhost:8080/",
     "height": 35
    },
    "executionInfo": {
     "elapsed": 695,
     "status": "ok",
     "timestamp": 1603495923980,
     "user": {
      "displayName": "Orlando O. S.",
      "photoUrl": "https://lh3.googleusercontent.com/a-/AOh14Gj-E1yuy1M_3ruwN4TWYPK4BwysauSW7GQmHheS=s64",
      "userId": "15066502291703974467"
     },
     "user_tz": 180
    },
    "id": "Lf1bXeQ-zSBN",
    "outputId": "bc139ea1-8818-4f38-a6c6-810c84aad6be"
   },
   "outputs": [
    {
     "data": {
      "text/plain": [
       "'e; agora; jose?'"
      ]
     },
     "execution_count": 55,
     "metadata": {},
     "output_type": "execute_result"
    }
   ],
   "source": [
    "'; '.join('e-agora-jose?'.split('-'))"
   ]
  },
  {
   "cell_type": "code",
   "execution_count": 56,
   "metadata": {
    "colab": {
     "base_uri": "https://localhost:8080/",
     "height": 35
    },
    "executionInfo": {
     "elapsed": 721,
     "status": "ok",
     "timestamp": 1603495821131,
     "user": {
      "displayName": "Orlando O. S.",
      "photoUrl": "https://lh3.googleusercontent.com/a-/AOh14Gj-E1yuy1M_3ruwN4TWYPK4BwysauSW7GQmHheS=s64",
      "userId": "15066502291703974467"
     },
     "user_tz": 180
    },
    "id": "c1eWT7E4WJIL",
    "outputId": "73679a4f-3f5c-4b39-a7e6-975b29c5d5b4"
   },
   "outputs": [
    {
     "data": {
      "text/plain": [
       "'e|agora|jose?'"
      ]
     },
     "execution_count": 56,
     "metadata": {},
     "output_type": "execute_result"
    }
   ],
   "source": [
    "\"|\".join(['e','agora','jose?'])"
   ]
  },
  {
   "cell_type": "markdown",
   "metadata": {
    "id": "H6_KbUdxH485"
   },
   "source": [
    "### Métodos de checagem do conteúdo da string"
   ]
  },
  {
   "cell_type": "code",
   "execution_count": 57,
   "metadata": {
    "colab": {
     "base_uri": "https://localhost:8080/",
     "height": 35
    },
    "executionInfo": {
     "elapsed": 686,
     "status": "ok",
     "timestamp": 1603496039204,
     "user": {
      "displayName": "Orlando O. S.",
      "photoUrl": "https://lh3.googleusercontent.com/a-/AOh14Gj-E1yuy1M_3ruwN4TWYPK4BwysauSW7GQmHheS=s64",
      "userId": "15066502291703974467"
     },
     "user_tz": 180
    },
    "id": "FwzBUMan9d9b",
    "outputId": "22ce6982-10de-4c37-c250-30a97af6f687"
   },
   "outputs": [
    {
     "data": {
      "text/plain": [
       "2"
      ]
     },
     "execution_count": 57,
     "metadata": {},
     "output_type": "execute_result"
    }
   ],
   "source": [
    "\"e agora jose?\".rfind(\"agora\")"
   ]
  },
  {
   "cell_type": "code",
   "execution_count": 58,
   "metadata": {
    "colab": {
     "base_uri": "https://localhost:8080/",
     "height": 35
    },
    "executionInfo": {
     "elapsed": 694,
     "status": "ok",
     "timestamp": 1603496060371,
     "user": {
      "displayName": "Orlando O. S.",
      "photoUrl": "https://lh3.googleusercontent.com/a-/AOh14Gj-E1yuy1M_3ruwN4TWYPK4BwysauSW7GQmHheS=s64",
      "userId": "15066502291703974467"
     },
     "user_tz": 180
    },
    "id": "uZUUaGMaCRuz",
    "outputId": "4d3a2782-e66c-410e-efa8-85436d5517e0"
   },
   "outputs": [
    {
     "data": {
      "text/plain": [
       "True"
      ]
     },
     "execution_count": 58,
     "metadata": {},
     "output_type": "execute_result"
    }
   ],
   "source": [
    "\"e agora jose?\".startswith('e')"
   ]
  },
  {
   "cell_type": "code",
   "execution_count": 59,
   "metadata": {
    "colab": {
     "base_uri": "https://localhost:8080/",
     "height": 35
    },
    "executionInfo": {
     "elapsed": 677,
     "status": "ok",
     "timestamp": 1603496086471,
     "user": {
      "displayName": "Orlando O. S.",
      "photoUrl": "https://lh3.googleusercontent.com/a-/AOh14Gj-E1yuy1M_3ruwN4TWYPK4BwysauSW7GQmHheS=s64",
      "userId": "15066502291703974467"
     },
     "user_tz": 180
    },
    "id": "nx2s-Eu8CR41",
    "outputId": "0eff1790-d498-47d5-d91b-b534404fd375"
   },
   "outputs": [
    {
     "data": {
      "text/plain": [
       "False"
      ]
     },
     "execution_count": 59,
     "metadata": {},
     "output_type": "execute_result"
    }
   ],
   "source": [
    "\"e agora jose?\".startswith('agora')"
   ]
  },
  {
   "cell_type": "code",
   "execution_count": 60,
   "metadata": {
    "colab": {
     "base_uri": "https://localhost:8080/",
     "height": 35
    },
    "executionInfo": {
     "elapsed": 621,
     "status": "ok",
     "timestamp": 1603496112795,
     "user": {
      "displayName": "Orlando O. S.",
      "photoUrl": "https://lh3.googleusercontent.com/a-/AOh14Gj-E1yuy1M_3ruwN4TWYPK4BwysauSW7GQmHheS=s64",
      "userId": "15066502291703974467"
     },
     "user_tz": 180
    },
    "id": "uRcGO96zC5dZ",
    "outputId": "8f6117ff-b153-4520-af21-0c19a720f8bc"
   },
   "outputs": [
    {
     "data": {
      "text/plain": [
       "True"
      ]
     },
     "execution_count": 60,
     "metadata": {},
     "output_type": "execute_result"
    }
   ],
   "source": [
    "\"e agora jose?\".endswith('jose?')"
   ]
  },
  {
   "cell_type": "code",
   "execution_count": 61,
   "metadata": {
    "colab": {
     "base_uri": "https://localhost:8080/",
     "height": 35
    },
    "executionInfo": {
     "elapsed": 722,
     "status": "ok",
     "timestamp": 1603496125386,
     "user": {
      "displayName": "Orlando O. S.",
      "photoUrl": "https://lh3.googleusercontent.com/a-/AOh14Gj-E1yuy1M_3ruwN4TWYPK4BwysauSW7GQmHheS=s64",
      "userId": "15066502291703974467"
     },
     "user_tz": 180
    },
    "id": "pEPfoTTgC5ly",
    "outputId": "6b09efa5-3ea2-4baf-e35b-f5a85bb68d2c"
   },
   "outputs": [
    {
     "data": {
      "text/plain": [
       "3"
      ]
     },
     "execution_count": 61,
     "metadata": {},
     "output_type": "execute_result"
    }
   ],
   "source": [
    "\"e agora jose?\".find('g')"
   ]
  },
  {
   "cell_type": "code",
   "execution_count": 62,
   "metadata": {
    "colab": {
     "base_uri": "https://localhost:8080/",
     "height": 35
    },
    "executionInfo": {
     "elapsed": 668,
     "status": "ok",
     "timestamp": 1603496176230,
     "user": {
      "displayName": "Orlando O. S.",
      "photoUrl": "https://lh3.googleusercontent.com/a-/AOh14Gj-E1yuy1M_3ruwN4TWYPK4BwysauSW7GQmHheS=s64",
      "userId": "15066502291703974467"
     },
     "user_tz": 180
    },
    "id": "cHZQu2NGEKKo",
    "outputId": "420b4033-3825-48f0-82e0-be1bbb702435"
   },
   "outputs": [
    {
     "data": {
      "text/plain": [
       "2"
      ]
     },
     "execution_count": 62,
     "metadata": {},
     "output_type": "execute_result"
    }
   ],
   "source": [
    "\"e agora jose?\".index('a')"
   ]
  },
  {
   "cell_type": "code",
   "execution_count": 63,
   "metadata": {
    "colab": {
     "base_uri": "https://localhost:8080/",
     "height": 35
    },
    "executionInfo": {
     "elapsed": 793,
     "status": "ok",
     "timestamp": 1603496202998,
     "user": {
      "displayName": "Orlando O. S.",
      "photoUrl": "https://lh3.googleusercontent.com/a-/AOh14Gj-E1yuy1M_3ruwN4TWYPK4BwysauSW7GQmHheS=s64",
      "userId": "15066502291703974467"
     },
     "user_tz": 180
    },
    "id": "Wqree4LxCcvY",
    "outputId": "6b460ef1-4c27-4a3b-85f0-05ed92d75635"
   },
   "outputs": [
    {
     "data": {
      "text/plain": [
       "2"
      ]
     },
     "execution_count": 63,
     "metadata": {},
     "output_type": "execute_result"
    }
   ],
   "source": [
    "\"e agora jose?\".count('o')"
   ]
  },
  {
   "cell_type": "code",
   "execution_count": 64,
   "metadata": {
    "colab": {
     "base_uri": "https://localhost:8080/",
     "height": 35
    },
    "executionInfo": {
     "elapsed": 805,
     "status": "ok",
     "timestamp": 1603496228182,
     "user": {
      "displayName": "Orlando O. S.",
      "photoUrl": "https://lh3.googleusercontent.com/a-/AOh14Gj-E1yuy1M_3ruwN4TWYPK4BwysauSW7GQmHheS=s64",
      "userId": "15066502291703974467"
     },
     "user_tz": 180
    },
    "id": "is4mwSAyEKXh",
    "outputId": "f74c7f35-8058-4a33-b684-5f7d525531ac"
   },
   "outputs": [
    {
     "data": {
      "text/plain": [
       "False"
      ]
     },
     "execution_count": 64,
     "metadata": {},
     "output_type": "execute_result"
    }
   ],
   "source": [
    "\"e agora jose?\".isalnum()"
   ]
  },
  {
   "cell_type": "code",
   "execution_count": 65,
   "metadata": {
    "colab": {
     "base_uri": "https://localhost:8080/",
     "height": 35
    },
    "executionInfo": {
     "elapsed": 955,
     "status": "ok",
     "timestamp": 1603496232631,
     "user": {
      "displayName": "Orlando O. S.",
      "photoUrl": "https://lh3.googleusercontent.com/a-/AOh14Gj-E1yuy1M_3ruwN4TWYPK4BwysauSW7GQmHheS=s64",
      "userId": "15066502291703974467"
     },
     "user_tz": 180
    },
    "id": "guF7LeIEEWxp",
    "outputId": "9d9507ea-a43f-48dc-b846-a32b61393152"
   },
   "outputs": [
    {
     "data": {
      "text/plain": [
       "True"
      ]
     },
     "execution_count": 65,
     "metadata": {},
     "output_type": "execute_result"
    }
   ],
   "source": [
    "\"123123123\".isalnum()"
   ]
  },
  {
   "cell_type": "code",
   "execution_count": 66,
   "metadata": {
    "colab": {
     "base_uri": "https://localhost:8080/",
     "height": 35
    },
    "executionInfo": {
     "elapsed": 724,
     "status": "ok",
     "timestamp": 1603496239029,
     "user": {
      "displayName": "Orlando O. S.",
      "photoUrl": "https://lh3.googleusercontent.com/a-/AOh14Gj-E1yuy1M_3ruwN4TWYPK4BwysauSW7GQmHheS=s64",
      "userId": "15066502291703974467"
     },
     "user_tz": 180
    },
    "id": "7rja9ZxmEKbW",
    "outputId": "05a8bb41-e755-40d4-9498-fc43bb2ecb06"
   },
   "outputs": [
    {
     "data": {
      "text/plain": [
       "False"
      ]
     },
     "execution_count": 66,
     "metadata": {},
     "output_type": "execute_result"
    }
   ],
   "source": [
    "\"e agora jose?\".isalpha()"
   ]
  },
  {
   "cell_type": "code",
   "execution_count": 67,
   "metadata": {
    "colab": {
     "base_uri": "https://localhost:8080/",
     "height": 35
    },
    "executionInfo": {
     "elapsed": 825,
     "status": "ok",
     "timestamp": 1603496258143,
     "user": {
      "displayName": "Orlando O. S.",
      "photoUrl": "https://lh3.googleusercontent.com/a-/AOh14Gj-E1yuy1M_3ruwN4TWYPK4BwysauSW7GQmHheS=s64",
      "userId": "15066502291703974467"
     },
     "user_tz": 180
    },
    "id": "UBYDduPJEi4c",
    "outputId": "0bf52ae0-e12e-4bd3-c1d7-fb15893b9b99"
   },
   "outputs": [
    {
     "data": {
      "text/plain": [
       "True"
      ]
     },
     "execution_count": 67,
     "metadata": {},
     "output_type": "execute_result"
    }
   ],
   "source": [
    "\"eagorajose\".isalpha()"
   ]
  },
  {
   "cell_type": "code",
   "execution_count": 68,
   "metadata": {
    "colab": {
     "base_uri": "https://localhost:8080/",
     "height": 35
    },
    "executionInfo": {
     "elapsed": 815,
     "status": "ok",
     "timestamp": 1603496266674,
     "user": {
      "displayName": "Orlando O. S.",
      "photoUrl": "https://lh3.googleusercontent.com/a-/AOh14Gj-E1yuy1M_3ruwN4TWYPK4BwysauSW7GQmHheS=s64",
      "userId": "15066502291703974467"
     },
     "user_tz": 180
    },
    "id": "WSRRjyOjEKek",
    "outputId": "9a18b51a-6f79-418a-fff6-9c6216ad5d54"
   },
   "outputs": [
    {
     "data": {
      "text/plain": [
       "False"
      ]
     },
     "execution_count": 68,
     "metadata": {},
     "output_type": "execute_result"
    }
   ],
   "source": [
    "\"e agora jose?\".isdecimal()"
   ]
  },
  {
   "cell_type": "code",
   "execution_count": 69,
   "metadata": {
    "colab": {
     "base_uri": "https://localhost:8080/",
     "height": 35
    },
    "executionInfo": {
     "elapsed": 740,
     "status": "ok",
     "timestamp": 1603496270379,
     "user": {
      "displayName": "Orlando O. S.",
      "photoUrl": "https://lh3.googleusercontent.com/a-/AOh14Gj-E1yuy1M_3ruwN4TWYPK4BwysauSW7GQmHheS=s64",
      "userId": "15066502291703974467"
     },
     "user_tz": 180
    },
    "id": "R5o6qz_RE2In",
    "outputId": "68f08504-430e-4ffd-b19b-4e5ea339af3d"
   },
   "outputs": [
    {
     "data": {
      "text/plain": [
       "True"
      ]
     },
     "execution_count": 69,
     "metadata": {},
     "output_type": "execute_result"
    }
   ],
   "source": [
    "\"123123\".isdecimal()"
   ]
  },
  {
   "cell_type": "code",
   "execution_count": 70,
   "metadata": {
    "colab": {
     "base_uri": "https://localhost:8080/",
     "height": 35
    },
    "executionInfo": {
     "elapsed": 689,
     "status": "ok",
     "timestamp": 1603496276289,
     "user": {
      "displayName": "Orlando O. S.",
      "photoUrl": "https://lh3.googleusercontent.com/a-/AOh14Gj-E1yuy1M_3ruwN4TWYPK4BwysauSW7GQmHheS=s64",
      "userId": "15066502291703974467"
     },
     "user_tz": 180
    },
    "id": "xTSNoXk_E3Yb",
    "outputId": "0f4bb08f-e9bd-4e08-f76a-3f0b79e748a5"
   },
   "outputs": [
    {
     "data": {
      "text/plain": [
       "False"
      ]
     },
     "execution_count": 70,
     "metadata": {},
     "output_type": "execute_result"
    }
   ],
   "source": [
    "\"123123,343\".isdecimal()"
   ]
  },
  {
   "cell_type": "code",
   "execution_count": 71,
   "metadata": {
    "colab": {
     "base_uri": "https://localhost:8080/",
     "height": 35
    },
    "executionInfo": {
     "elapsed": 731,
     "status": "ok",
     "timestamp": 1603496296269,
     "user": {
      "displayName": "Orlando O. S.",
      "photoUrl": "https://lh3.googleusercontent.com/a-/AOh14Gj-E1yuy1M_3ruwN4TWYPK4BwysauSW7GQmHheS=s64",
      "userId": "15066502291703974467"
     },
     "user_tz": 180
    },
    "id": "P665QapjEQ7E",
    "outputId": "36821a50-0642-4dcc-a4a6-0c0f139d6eaa"
   },
   "outputs": [
    {
     "data": {
      "text/plain": [
       "False"
      ]
     },
     "execution_count": 71,
     "metadata": {},
     "output_type": "execute_result"
    }
   ],
   "source": [
    "\"e agora jose?\".isdigit()"
   ]
  },
  {
   "cell_type": "code",
   "execution_count": 72,
   "metadata": {
    "colab": {
     "base_uri": "https://localhost:8080/",
     "height": 35
    },
    "executionInfo": {
     "elapsed": 723,
     "status": "ok",
     "timestamp": 1603496299762,
     "user": {
      "displayName": "Orlando O. S.",
      "photoUrl": "https://lh3.googleusercontent.com/a-/AOh14Gj-E1yuy1M_3ruwN4TWYPK4BwysauSW7GQmHheS=s64",
      "userId": "15066502291703974467"
     },
     "user_tz": 180
    },
    "id": "uUhJVuRWFH6j",
    "outputId": "89278e0d-f16d-4c5b-9d59-99b42884116a"
   },
   "outputs": [
    {
     "data": {
      "text/plain": [
       "True"
      ]
     },
     "execution_count": 72,
     "metadata": {},
     "output_type": "execute_result"
    }
   ],
   "source": [
    "\"123123\".isdigit()"
   ]
  },
  {
   "cell_type": "code",
   "execution_count": 73,
   "metadata": {
    "colab": {
     "base_uri": "https://localhost:8080/",
     "height": 35
    },
    "executionInfo": {
     "elapsed": 713,
     "status": "ok",
     "timestamp": 1603496312565,
     "user": {
      "displayName": "Orlando O. S.",
      "photoUrl": "https://lh3.googleusercontent.com/a-/AOh14Gj-E1yuy1M_3ruwN4TWYPK4BwysauSW7GQmHheS=s64",
      "userId": "15066502291703974467"
     },
     "user_tz": 180
    },
    "id": "kfRssuwVTffP",
    "outputId": "62a28912-033b-4f2e-b777-e8b217c5b8a3"
   },
   "outputs": [
    {
     "data": {
      "text/plain": [
       "False"
      ]
     },
     "execution_count": 73,
     "metadata": {},
     "output_type": "execute_result"
    }
   ],
   "source": [
    "\"e agora jose?\".isidentifier()"
   ]
  },
  {
   "cell_type": "markdown",
   "metadata": {
    "id": "y6ibjR9oUovW"
   },
   "source": [
    "Os identificadores podem ser uma combinação de letras em minúsculas (a a z) ou maiúsculas (A a Z) ou dígitos (0 a 9) ou um sublinhado _."
   ]
  },
  {
   "cell_type": "code",
   "execution_count": 74,
   "metadata": {
    "colab": {
     "base_uri": "https://localhost:8080/",
     "height": 35
    },
    "executionInfo": {
     "elapsed": 750,
     "status": "ok",
     "timestamp": 1603496329888,
     "user": {
      "displayName": "Orlando O. S.",
      "photoUrl": "https://lh3.googleusercontent.com/a-/AOh14Gj-E1yuy1M_3ruwN4TWYPK4BwysauSW7GQmHheS=s64",
      "userId": "15066502291703974467"
     },
     "user_tz": 180
    },
    "id": "DZ1mHvfCTflw",
    "outputId": "c5f50dc5-2fe8-43a3-f791-a9fe8c06cf60"
   },
   "outputs": [
    {
     "data": {
      "text/plain": [
       "True"
      ]
     },
     "execution_count": 74,
     "metadata": {},
     "output_type": "execute_result"
    }
   ],
   "source": [
    "\"nome_pessoa\".isidentifier()"
   ]
  },
  {
   "cell_type": "code",
   "execution_count": 75,
   "metadata": {
    "id": "Dl817S_MTfqn"
   },
   "outputs": [
    {
     "data": {
      "text/plain": [
       "False"
      ]
     },
     "execution_count": 75,
     "metadata": {},
     "output_type": "execute_result"
    }
   ],
   "source": [
    "\"1nome_pessoa\".isidentifier()"
   ]
  },
  {
   "cell_type": "code",
   "execution_count": 76,
   "metadata": {
    "colab": {
     "base_uri": "https://localhost:8080/",
     "height": 35
    },
    "executionInfo": {
     "elapsed": 697,
     "status": "ok",
     "timestamp": 1603496342485,
     "user": {
      "displayName": "Orlando O. S.",
      "photoUrl": "https://lh3.googleusercontent.com/a-/AOh14Gj-E1yuy1M_3ruwN4TWYPK4BwysauSW7GQmHheS=s64",
      "userId": "15066502291703974467"
     },
     "user_tz": 180
    },
    "id": "UhVj51g2Uzl6",
    "outputId": "610d12b6-00c9-4fdc-dfa8-4ee5e0a6fcf1"
   },
   "outputs": [
    {
     "data": {
      "text/plain": [
       "False"
      ]
     },
     "execution_count": 76,
     "metadata": {},
     "output_type": "execute_result"
    }
   ],
   "source": [
    "\"nome pessoa\".isidentifier()"
   ]
  },
  {
   "cell_type": "code",
   "execution_count": 77,
   "metadata": {
    "id": "Yb9JWR8DU5fu"
   },
   "outputs": [
    {
     "data": {
      "text/plain": [
       "True"
      ]
     },
     "execution_count": 77,
     "metadata": {},
     "output_type": "execute_result"
    }
   ],
   "source": [
    "\"NOME_PESSOA\".isidentifier()"
   ]
  },
  {
   "cell_type": "code",
   "execution_count": 78,
   "metadata": {
    "id": "qQOalEDVVF1Q"
   },
   "outputs": [
    {
     "data": {
      "text/plain": [
       "False"
      ]
     },
     "execution_count": 78,
     "metadata": {},
     "output_type": "execute_result"
    }
   ],
   "source": [
    "\"e agora jose?\".isnumeric()"
   ]
  },
  {
   "cell_type": "code",
   "execution_count": 79,
   "metadata": {
    "colab": {
     "base_uri": "https://localhost:8080/",
     "height": 35
    },
    "executionInfo": {
     "elapsed": 840,
     "status": "ok",
     "timestamp": 1603496359539,
     "user": {
      "displayName": "Orlando O. S.",
      "photoUrl": "https://lh3.googleusercontent.com/a-/AOh14Gj-E1yuy1M_3ruwN4TWYPK4BwysauSW7GQmHheS=s64",
      "userId": "15066502291703974467"
     },
     "user_tz": 180
    },
    "id": "DnB3EK0DVOCk",
    "outputId": "c2681f87-b22c-4bbc-ac6b-35c47cf0aca1"
   },
   "outputs": [
    {
     "data": {
      "text/plain": [
       "False"
      ]
     },
     "execution_count": 79,
     "metadata": {},
     "output_type": "execute_result"
    }
   ],
   "source": [
    "\"e agora jose?\".isnumeric()"
   ]
  },
  {
   "cell_type": "code",
   "execution_count": 80,
   "metadata": {
    "colab": {
     "base_uri": "https://localhost:8080/",
     "height": 35
    },
    "executionInfo": {
     "elapsed": 688,
     "status": "ok",
     "timestamp": 1603496372222,
     "user": {
      "displayName": "Orlando O. S.",
      "photoUrl": "https://lh3.googleusercontent.com/a-/AOh14Gj-E1yuy1M_3ruwN4TWYPK4BwysauSW7GQmHheS=s64",
      "userId": "15066502291703974467"
     },
     "user_tz": 180
    },
    "id": "5rivLNf7VOIF",
    "outputId": "b2bdfa40-2285-4292-c35c-ad3b5d661aa5"
   },
   "outputs": [
    {
     "data": {
      "text/plain": [
       "False"
      ]
     },
     "execution_count": 80,
     "metadata": {},
     "output_type": "execute_result"
    }
   ],
   "source": [
    "\"123,1231\".isnumeric()"
   ]
  },
  {
   "cell_type": "code",
   "execution_count": 81,
   "metadata": {
    "colab": {
     "base_uri": "https://localhost:8080/",
     "height": 35
    },
    "executionInfo": {
     "elapsed": 728,
     "status": "ok",
     "timestamp": 1603496336947,
     "user": {
      "displayName": "Orlando O. S.",
      "photoUrl": "https://lh3.googleusercontent.com/a-/AOh14Gj-E1yuy1M_3ruwN4TWYPK4BwysauSW7GQmHheS=s64",
      "userId": "15066502291703974467"
     },
     "user_tz": 180
    },
    "id": "NrvssCZHVOL6",
    "outputId": "e5ba5676-cbcc-4d13-b3bf-0db14ff1cb25"
   },
   "outputs": [
    {
     "data": {
      "text/plain": [
       "True"
      ]
     },
     "execution_count": 81,
     "metadata": {},
     "output_type": "execute_result"
    }
   ],
   "source": [
    "\"e agora jose?\".isprintable()"
   ]
  },
  {
   "cell_type": "code",
   "execution_count": 82,
   "metadata": {
    "colab": {
     "base_uri": "https://localhost:8080/",
     "height": 35
    },
    "executionInfo": {
     "elapsed": 831,
     "status": "ok",
     "timestamp": 1603496395143,
     "user": {
      "displayName": "Orlando O. S.",
      "photoUrl": "https://lh3.googleusercontent.com/a-/AOh14Gj-E1yuy1M_3ruwN4TWYPK4BwysauSW7GQmHheS=s64",
      "userId": "15066502291703974467"
     },
     "user_tz": 180
    },
    "id": "cQY8nbA1VOGM",
    "outputId": "2c8712a8-d2e3-4bf0-8dd4-9593fa642335"
   },
   "outputs": [
    {
     "data": {
      "text/plain": [
       "False"
      ]
     },
     "execution_count": 82,
     "metadata": {},
     "output_type": "execute_result"
    }
   ],
   "source": [
    "\"e agora \\tjose?\".isprintable()"
   ]
  },
  {
   "cell_type": "code",
   "execution_count": 83,
   "metadata": {
    "colab": {
     "base_uri": "https://localhost:8080/",
     "height": 35
    },
    "executionInfo": {
     "elapsed": 815,
     "status": "ok",
     "timestamp": 1603496497147,
     "user": {
      "displayName": "Orlando O. S.",
      "photoUrl": "https://lh3.googleusercontent.com/a-/AOh14Gj-E1yuy1M_3ruwN4TWYPK4BwysauSW7GQmHheS=s64",
      "userId": "15066502291703974467"
     },
     "user_tz": 180
    },
    "id": "xD3Gs4WqVk4j",
    "outputId": "f8e10ce1-faa0-44e7-ce6c-2d2856d32710"
   },
   "outputs": [
    {
     "data": {
      "text/plain": [
       "False"
      ]
     },
     "execution_count": 83,
     "metadata": {},
     "output_type": "execute_result"
    }
   ],
   "source": [
    "\"e agora jose?\".isspace()"
   ]
  },
  {
   "cell_type": "code",
   "execution_count": 84,
   "metadata": {
    "colab": {
     "base_uri": "https://localhost:8080/",
     "height": 35
    },
    "executionInfo": {
     "elapsed": 667,
     "status": "ok",
     "timestamp": 1603496504822,
     "user": {
      "displayName": "Orlando O. S.",
      "photoUrl": "https://lh3.googleusercontent.com/a-/AOh14Gj-E1yuy1M_3ruwN4TWYPK4BwysauSW7GQmHheS=s64",
      "userId": "15066502291703974467"
     },
     "user_tz": 180
    },
    "id": "ohDxsFqQVk72",
    "outputId": "32068750-53c0-4235-a2e1-5bdfdf11fc1c"
   },
   "outputs": [
    {
     "data": {
      "text/plain": [
       "True"
      ]
     },
     "execution_count": 84,
     "metadata": {},
     "output_type": "execute_result"
    }
   ],
   "source": [
    "\"           \".isspace()"
   ]
  },
  {
   "cell_type": "code",
   "execution_count": 85,
   "metadata": {
    "colab": {
     "base_uri": "https://localhost:8080/",
     "height": 35
    },
    "executionInfo": {
     "elapsed": 1177,
     "status": "ok",
     "timestamp": 1603496528095,
     "user": {
      "displayName": "Orlando O. S.",
      "photoUrl": "https://lh3.googleusercontent.com/a-/AOh14Gj-E1yuy1M_3ruwN4TWYPK4BwysauSW7GQmHheS=s64",
      "userId": "15066502291703974467"
     },
     "user_tz": 180
    },
    "id": "nhpiqeTo-Aec",
    "outputId": "7c8e29e6-1e75-4029-d416-06efdb4f3f41"
   },
   "outputs": [
    {
     "data": {
      "text/plain": [
       "9"
      ]
     },
     "execution_count": 85,
     "metadata": {},
     "output_type": "execute_result"
    }
   ],
   "source": [
    "\"e agora jose?\".rfind(\"o\")"
   ]
  },
  {
   "cell_type": "code",
   "execution_count": 86,
   "metadata": {
    "colab": {
     "base_uri": "https://localhost:8080/",
     "height": 35
    },
    "executionInfo": {
     "elapsed": 1197,
     "status": "ok",
     "timestamp": 1603496539011,
     "user": {
      "displayName": "Orlando O. S.",
      "photoUrl": "https://lh3.googleusercontent.com/a-/AOh14Gj-E1yuy1M_3ruwN4TWYPK4BwysauSW7GQmHheS=s64",
      "userId": "15066502291703974467"
     },
     "user_tz": 180
    },
    "id": "tgo55TrB9ePI",
    "outputId": "db4cdfb6-b88c-438f-d670-0cb5c58915d0"
   },
   "outputs": [
    {
     "data": {
      "text/plain": [
       "9"
      ]
     },
     "execution_count": 86,
     "metadata": {},
     "output_type": "execute_result"
    }
   ],
   "source": [
    "\"e agora jose?\".rindex(\"o\")"
   ]
  },
  {
   "cell_type": "code",
   "execution_count": 87,
   "metadata": {
    "colab": {
     "base_uri": "https://localhost:8080/",
     "height": 35
    },
    "executionInfo": {
     "elapsed": 1559,
     "status": "ok",
     "timestamp": 1603496567303,
     "user": {
      "displayName": "Orlando O. S.",
      "photoUrl": "https://lh3.googleusercontent.com/a-/AOh14Gj-E1yuy1M_3ruwN4TWYPK4BwysauSW7GQmHheS=s64",
      "userId": "15066502291703974467"
     },
     "user_tz": 180
    },
    "id": "VQVRkovHCSDB",
    "outputId": "89f20d4a-3570-4467-c3a8-2dfcccf47e6a"
   },
   "outputs": [
    {
     "data": {
      "text/plain": [
       "True"
      ]
     },
     "execution_count": 87,
     "metadata": {},
     "output_type": "execute_result"
    }
   ],
   "source": [
    "'agora' in \"e agora jose?\""
   ]
  },
  {
   "cell_type": "markdown",
   "metadata": {
    "id": "3ctLX0SXeSiJ"
   },
   "source": [
    "### Caractere de escape \n",
    "\n",
    "Caractere de escape é um termo usado em computação para identificar um único caractere numa cadeia de caracteres que altera o significado de seu sucessor.\n",
    "https://pt.wikipedia.org/wiki/Caractere_de_escape\n",
    "\n",
    "\n",
    "#Poder ser usando para dar funções especiais a determinados caracteres\n",
    "Tais como quebras de linhas, tabulações"
   ]
  },
  {
   "cell_type": "code",
   "execution_count": 88,
   "metadata": {
    "colab": {
     "base_uri": "https://localhost:8080/",
     "height": 52
    },
    "executionInfo": {
     "elapsed": 805,
     "status": "ok",
     "timestamp": 1603496660828,
     "user": {
      "displayName": "Orlando O. S.",
      "photoUrl": "https://lh3.googleusercontent.com/a-/AOh14Gj-E1yuy1M_3ruwN4TWYPK4BwysauSW7GQmHheS=s64",
      "userId": "15066502291703974467"
     },
     "user_tz": 180
    },
    "id": "J6am3rCTfCP0",
    "outputId": "a6861e8a-24b2-47dc-b0ab-242223039c38"
   },
   "outputs": [
    {
     "name": "stdout",
     "output_type": "stream",
     "text": [
      "e agora \n",
      "jose?\n"
     ]
    }
   ],
   "source": [
    "print(\"e agora \\njose?\")"
   ]
  },
  {
   "cell_type": "code",
   "execution_count": 89,
   "metadata": {
    "colab": {
     "base_uri": "https://localhost:8080/",
     "height": 35
    },
    "executionInfo": {
     "elapsed": 735,
     "status": "ok",
     "timestamp": 1603496675427,
     "user": {
      "displayName": "Orlando O. S.",
      "photoUrl": "https://lh3.googleusercontent.com/a-/AOh14Gj-E1yuy1M_3ruwN4TWYPK4BwysauSW7GQmHheS=s64",
      "userId": "15066502291703974467"
     },
     "user_tz": 180
    },
    "id": "uxa-Bhu1fOoC",
    "outputId": "7bffa3a2-b021-4815-96d6-e3f5d9b3a075"
   },
   "outputs": [
    {
     "name": "stdout",
     "output_type": "stream",
     "text": [
      "e agora \tjose?\n"
     ]
    }
   ],
   "source": [
    "print(\"e agora \\tjose?\")"
   ]
  },
  {
   "cell_type": "markdown",
   "metadata": {
    "id": "r5MXl-r5fwJR"
   },
   "source": [
    "Para inserir caracteres ilegais em uma string, como por  exemplo de caractere ilegal é uma aspa dupla dentro de uma string que está entre aspas duplas (o mesmo vale para aspas simples."
   ]
  },
  {
   "cell_type": "code",
   "execution_count": 90,
   "metadata": {
    "colab": {
     "base_uri": "https://localhost:8080/",
     "height": 35
    },
    "executionInfo": {
     "elapsed": 715,
     "status": "ok",
     "timestamp": 1603496756245,
     "user": {
      "displayName": "Orlando O. S.",
      "photoUrl": "https://lh3.googleusercontent.com/a-/AOh14Gj-E1yuy1M_3ruwN4TWYPK4BwysauSW7GQmHheS=s64",
      "userId": "15066502291703974467"
     },
     "user_tz": 180
    },
    "id": "5z9K4X4EgB10",
    "outputId": "35e0d31d-0974-4ef0-e5d2-a996e0fb63c0"
   },
   "outputs": [
    {
     "name": "stdout",
     "output_type": "stream",
     "text": [
      "e agora \"jose\"?\n"
     ]
    }
   ],
   "source": [
    "print(\"e agora \\\"jose\\\"?\")"
   ]
  },
  {
   "cell_type": "code",
   "execution_count": 91,
   "metadata": {
    "colab": {
     "base_uri": "https://localhost:8080/",
     "height": 35
    },
    "executionInfo": {
     "elapsed": 669,
     "status": "ok",
     "timestamp": 1603496773003,
     "user": {
      "displayName": "Orlando O. S.",
      "photoUrl": "https://lh3.googleusercontent.com/a-/AOh14Gj-E1yuy1M_3ruwN4TWYPK4BwysauSW7GQmHheS=s64",
      "userId": "15066502291703974467"
     },
     "user_tz": 180
    },
    "id": "VHHY_RDwgHMR",
    "outputId": "9641e777-6b8e-432b-f9d2-0bc42ac9fa2a"
   },
   "outputs": [
    {
     "name": "stdout",
     "output_type": "stream",
     "text": [
      "e agora 'jose'?\n"
     ]
    }
   ],
   "source": [
    "print('e agora \\'jose\\'?')"
   ]
  },
  {
   "cell_type": "markdown",
   "metadata": {
    "id": "HdOSoYtZgRQC"
   },
   "source": [
    "Se usar um tipo de aspas para delimitar uma string,  o outro tipo de aspas pode ser usando sem necessidade do caracter de escap."
   ]
  },
  {
   "cell_type": "code",
   "execution_count": 92,
   "metadata": {
    "colab": {
     "base_uri": "https://localhost:8080/",
     "height": 35
    },
    "executionInfo": {
     "elapsed": 723,
     "status": "ok",
     "timestamp": 1603496800297,
     "user": {
      "displayName": "Orlando O. S.",
      "photoUrl": "https://lh3.googleusercontent.com/a-/AOh14Gj-E1yuy1M_3ruwN4TWYPK4BwysauSW7GQmHheS=s64",
      "userId": "15066502291703974467"
     },
     "user_tz": 180
    },
    "id": "282Ot0LRgWBg",
    "outputId": "c61bd33c-1a52-441a-ee53-cf9e3643f18d"
   },
   "outputs": [
    {
     "name": "stdout",
     "output_type": "stream",
     "text": [
      "e agora 'jose'?\n"
     ]
    }
   ],
   "source": [
    "print(\"e agora 'jose'?\")"
   ]
  },
  {
   "cell_type": "markdown",
   "metadata": {
    "id": "Pl2_ZEPZ9nHN"
   },
   "source": [
    "### Multiplicando strings\n",
    "String pode ser repetidas pelo operador de multiplicação"
   ]
  },
  {
   "cell_type": "code",
   "execution_count": 93,
   "metadata": {
    "colab": {
     "base_uri": "https://localhost:8080/",
     "height": 55
    },
    "executionInfo": {
     "elapsed": 743,
     "status": "ok",
     "timestamp": 1603496836123,
     "user": {
      "displayName": "Orlando O. S.",
      "photoUrl": "https://lh3.googleusercontent.com/a-/AOh14Gj-E1yuy1M_3ruwN4TWYPK4BwysauSW7GQmHheS=s64",
      "userId": "15066502291703974467"
     },
     "user_tz": 180
    },
    "id": "A572CETd9yUc",
    "outputId": "081d3619-f3b2-41dd-a250-90cb9ec3b071"
   },
   "outputs": [
    {
     "name": "stdout",
     "output_type": "stream",
     "text": [
      "********************************************************************************************************************************************************************************************************\n"
     ]
    }
   ],
   "source": [
    "print('*'*200)"
   ]
  },
  {
   "cell_type": "code",
   "execution_count": 94,
   "metadata": {
    "colab": {
     "base_uri": "https://localhost:8080/",
     "height": 55
    },
    "executionInfo": {
     "elapsed": 753,
     "status": "ok",
     "timestamp": 1603496840593,
     "user": {
      "displayName": "Orlando O. S.",
      "photoUrl": "https://lh3.googleusercontent.com/a-/AOh14Gj-E1yuy1M_3ruwN4TWYPK4BwysauSW7GQmHheS=s64",
      "userId": "15066502291703974467"
     },
     "user_tz": 180
    },
    "id": "EuR4dAba987n",
    "outputId": "7de56ddb-b54a-4573-a173-7049b209abca"
   },
   "outputs": [
    {
     "name": "stdout",
     "output_type": "stream",
     "text": [
      "--------------------------------------------------------------------------------------------------------------------------------------------------------------------------------------------------------\n"
     ]
    }
   ],
   "source": [
    "print('-'*200)"
   ]
  },
  {
   "cell_type": "code",
   "execution_count": 95,
   "metadata": {
    "colab": {
     "base_uri": "https://localhost:8080/",
     "height": 55
    },
    "executionInfo": {
     "elapsed": 850,
     "status": "ok",
     "timestamp": 1603496853793,
     "user": {
      "displayName": "Orlando O. S.",
      "photoUrl": "https://lh3.googleusercontent.com/a-/AOh14Gj-E1yuy1M_3ruwN4TWYPK4BwysauSW7GQmHheS=s64",
      "userId": "15066502291703974467"
     },
     "user_tz": 180
    },
    "id": "puyP6A339_4s",
    "outputId": "719ce219-3340-40d4-9ad9-52f6d2657c07"
   },
   "outputs": [
    {
     "name": "stdout",
     "output_type": "stream",
     "text": [
      "xxxxxxxxxxxxxxxxxxxxxxxxxxxxxxxxxxxxxxxxxxxxxxxxxxxxxxxxxxxxxxxxxxxxxxxxxxxxxxxxxxxxxxxxxxxxxxxxxxxxxxxxxxxxxxxxxxxxxxxxxxxxxxxxxxxxxxxxxxxxxxxxxxxxxxxxxxxxxxxxxxxxxxxxxxxxxxxxxxxxxxxxxxxxxxxxxxxxxxxx\n"
     ]
    }
   ],
   "source": [
    "print('xx'*100)"
   ]
  },
  {
   "cell_type": "markdown",
   "metadata": {
    "id": "VFE1rlDLIWSR"
   },
   "source": [
    "## Leituras Adicionais e Referências:\n",
    "\n",
    "- Python Tutorial at W3Schools: https://www.w3schools.com/python/\n",
    "- Python official documentation: https://docs.python.org/3/tutorial/index.html"
   ]
  }
 ],
 "metadata": {
  "colab": {
   "authorship_tag": "ABX9TyPqaMvKGQWvZVIVtYamLa8C",
   "collapsed_sections": [],
   "name": "Aula 02 - Introdução à Linguagem de Python para Analytics e Data Science.ipynb",
   "provenance": [
    {
     "file_id": "1F82PJICoVYLAG6xN-xT_KhWKkvDxdro6",
     "timestamp": 1602697754653
    }
   ]
  },
  "kernelspec": {
   "display_name": "Python 3",
   "language": "python",
   "name": "python3"
  },
  "language_info": {
   "codemirror_mode": {
    "name": "ipython",
    "version": 3
   },
   "file_extension": ".py",
   "mimetype": "text/x-python",
   "name": "python",
   "nbconvert_exporter": "python",
   "pygments_lexer": "ipython3",
   "version": "3.7.8"
  }
 },
 "nbformat": 4,
 "nbformat_minor": 1
}
