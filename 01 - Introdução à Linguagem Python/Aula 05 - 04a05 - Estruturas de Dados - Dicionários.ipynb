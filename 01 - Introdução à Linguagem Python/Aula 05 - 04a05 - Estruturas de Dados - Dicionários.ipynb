{
 "cells": [
  {
   "cell_type": "markdown",
   "metadata": {
    "id": "uGqJJfZ36iR6"
   },
   "source": [
    "# 01 - Introdução à Linguagem Python\n",
    "## Aula 05 - 04a05 - Estruturas de Dados - Dicionários"
   ]
  },
  {
   "cell_type": "markdown",
   "metadata": {
    "id": "JNifjo59P9mf"
   },
   "source": [
    "## Professor: Orlando Oliveira dos Santos, MsC.\n",
    " - E-mail: professor.orlando.santos@gmail.com \n",
    " - Youtube :https://www.youtube.com/channel/UCPWWbkPWFmOjXH50TQWNAYg\n",
    " - Linkedin: https://linkedin.com/in/orlandoosantos\n",
    " - Facebook: https://www.facebook.com/proforlandosantosmsc/\n",
    " - Twitter: https://twitter.com/ProfOrlandoMsC\n",
    " - Instagram: https://www.instagram.com/proforlandosantosmsc/\n",
    "\n",
    "\n",
    "\n",
    "## Formação Acadêmica\n",
    "- Mestrado em Computação Aplicada - UnB (2014 – 2016)\t\n",
    "- MBA, Administração Estratégica de Sistemas de Informação – FGV (2011 – 2013)\n",
    "- Tecnólogo em Processamento de Dados, Análise e Desenvolvimento de Sistemas – FAETEC/SP (2000-2002)\n"
   ]
  },
  {
   "cell_type": "markdown",
   "metadata": {
    "id": "-wttXmB0JYuh"
   },
   "source": [
    "# Estruturas de Dados - Dicionários"
   ]
  },
  {
   "cell_type": "markdown",
   "metadata": {
    "id": "HuQOLLNHhR3b"
   },
   "source": [
    "## Dicionários em Python\n",
    "### dict\n",
    "- coleção não ordenada, mutável e indexada declarada com chaves e têm chaves e valores.\n",
    "\n"
   ]
  },
  {
   "cell_type": "code",
   "execution_count": 1,
   "metadata": {
    "colab": {
     "base_uri": "https://localhost:8080/"
    },
    "executionInfo": {
     "elapsed": 536,
     "status": "ok",
     "timestamp": 1603927102935,
     "user": {
      "displayName": "Orlando O. S.",
      "photoUrl": "https://lh3.googleusercontent.com/a-/AOh14Gj-E1yuy1M_3ruwN4TWYPK4BwysauSW7GQmHheS=s64",
      "userId": "15066502291703974467"
     },
     "user_tz": 180
    },
    "id": "pOjn_PslhR3b",
    "outputId": "089cbe2d-82f4-41dc-db71-0c9269add391"
   },
   "outputs": [
    {
     "name": "stdout",
     "output_type": "stream",
     "text": [
      "{'id': 1, 'sigla': 'N', 'nome': 'Norte'}\n"
     ]
    }
   ],
   "source": [
    "dict_regiao_norte = {\n",
    "    \"id\":1,\n",
    "    \"sigla\":\"N\",\n",
    "    \"nome\":\"Norte\"\n",
    "    }\n",
    "print(dict_regiao_norte)"
   ]
  },
  {
   "cell_type": "markdown",
   "metadata": {
    "id": "b2dqG6r1hR3d"
   },
   "source": [
    "### Acessar itens\n",
    "- Use o nome da chave entre colchetes\n",
    "- Se a chave não existe dará erro.\n"
   ]
  },
  {
   "cell_type": "code",
   "execution_count": 2,
   "metadata": {
    "colab": {
     "base_uri": "https://localhost:8080/"
    },
    "executionInfo": {
     "elapsed": 612,
     "status": "ok",
     "timestamp": 1603927110474,
     "user": {
      "displayName": "Orlando O. S.",
      "photoUrl": "https://lh3.googleusercontent.com/a-/AOh14Gj-E1yuy1M_3ruwN4TWYPK4BwysauSW7GQmHheS=s64",
      "userId": "15066502291703974467"
     },
     "user_tz": 180
    },
    "id": "oQfLH44XhR3e",
    "outputId": "32c57f65-9c8a-4b13-bba4-731d386b42c1"
   },
   "outputs": [
    {
     "name": "stdout",
     "output_type": "stream",
     "text": [
      "Norte\n"
     ]
    }
   ],
   "source": [
    "x = dict_regiao_norte[\"nome\"]\n",
    "print(x)"
   ]
  },
  {
   "cell_type": "code",
   "execution_count": 3,
   "metadata": {
    "colab": {
     "base_uri": "https://localhost:8080/",
     "height": 183
    },
    "executionInfo": {
     "elapsed": 596,
     "status": "error",
     "timestamp": 1603927122796,
     "user": {
      "displayName": "Orlando O. S.",
      "photoUrl": "https://lh3.googleusercontent.com/a-/AOh14Gj-E1yuy1M_3ruwN4TWYPK4BwysauSW7GQmHheS=s64",
      "userId": "15066502291703974467"
     },
     "user_tz": 180
    },
    "id": "Si_d_QF38PlO",
    "outputId": "a4445841-2754-442a-c7dc-a90288016c63"
   },
   "outputs": [
    {
     "ename": "KeyError",
     "evalue": "'nome_regiao'",
     "output_type": "error",
     "traceback": [
      "\u001b[1;31m---------------------------------------------------------------------------\u001b[0m",
      "\u001b[1;31mKeyError\u001b[0m                                  Traceback (most recent call last)",
      "\u001b[1;32m<ipython-input-3-27e3e5e0af6b>\u001b[0m in \u001b[0;36m<module>\u001b[1;34m\u001b[0m\n\u001b[1;32m----> 1\u001b[1;33m \u001b[0mx\u001b[0m \u001b[1;33m=\u001b[0m \u001b[0mdict_regiao_norte\u001b[0m\u001b[1;33m[\u001b[0m\u001b[1;34m\"nome_regiao\"\u001b[0m\u001b[1;33m]\u001b[0m\u001b[1;33m\u001b[0m\u001b[1;33m\u001b[0m\u001b[0m\n\u001b[0m\u001b[0;32m      2\u001b[0m \u001b[0mprint\u001b[0m\u001b[1;33m(\u001b[0m\u001b[0mx\u001b[0m\u001b[1;33m)\u001b[0m\u001b[1;33m\u001b[0m\u001b[1;33m\u001b[0m\u001b[0m\n",
      "\u001b[1;31mKeyError\u001b[0m: 'nome_regiao'"
     ]
    }
   ],
   "source": [
    "x = dict_regiao_norte[\"nome_regiao\"]\n",
    "print(x)"
   ]
  },
  {
   "cell_type": "markdown",
   "metadata": {
    "id": "aVJ_hfyghR3f"
   },
   "source": [
    "O método get() também pode usado para acessar o item pela chave, mas não retornará erro se não existir. Ainda pode se definir um valor alternativo a ser retornado nesse caso.\n",
    "\n",
    "Exemplo\n",
    "Obtenha o valor da chave \"Norte\":"
   ]
  },
  {
   "cell_type": "code",
   "execution_count": 5,
   "metadata": {
    "colab": {
     "base_uri": "https://localhost:8080/"
    },
    "executionInfo": {
     "elapsed": 791,
     "status": "ok",
     "timestamp": 1603927171122,
     "user": {
      "displayName": "Orlando O. S.",
      "photoUrl": "https://lh3.googleusercontent.com/a-/AOh14Gj-E1yuy1M_3ruwN4TWYPK4BwysauSW7GQmHheS=s64",
      "userId": "15066502291703974467"
     },
     "user_tz": 180
    },
    "id": "YmV8cYsGhR3g",
    "outputId": "1aee4ac6-2d67-4e92-ebcc-b7fa9c997f19"
   },
   "outputs": [
    {
     "name": "stdout",
     "output_type": "stream",
     "text": [
      "Norte\n"
     ]
    }
   ],
   "source": [
    "x = dict_regiao_norte.get(\"nome\")\n",
    "print(x)"
   ]
  },
  {
   "cell_type": "code",
   "execution_count": 6,
   "metadata": {
    "colab": {
     "base_uri": "https://localhost:8080/"
    },
    "executionInfo": {
     "elapsed": 767,
     "status": "ok",
     "timestamp": 1603927180137,
     "user": {
      "displayName": "Orlando O. S.",
      "photoUrl": "https://lh3.googleusercontent.com/a-/AOh14Gj-E1yuy1M_3ruwN4TWYPK4BwysauSW7GQmHheS=s64",
      "userId": "15066502291703974467"
     },
     "user_tz": 180
    },
    "id": "GiWXiPSV8uFv",
    "outputId": "33ba176c-d24f-4549-f153-751b7da11f9b"
   },
   "outputs": [
    {
     "name": "stdout",
     "output_type": "stream",
     "text": [
      "None\n"
     ]
    }
   ],
   "source": [
    "x = dict_regiao_norte.get(\"nome_regiao\")\n",
    "print(x)"
   ]
  },
  {
   "cell_type": "code",
   "execution_count": 7,
   "metadata": {
    "colab": {
     "base_uri": "https://localhost:8080/"
    },
    "executionInfo": {
     "elapsed": 627,
     "status": "ok",
     "timestamp": 1603927235546,
     "user": {
      "displayName": "Orlando O. S.",
      "photoUrl": "https://lh3.googleusercontent.com/a-/AOh14Gj-E1yuy1M_3ruwN4TWYPK4BwysauSW7GQmHheS=s64",
      "userId": "15066502291703974467"
     },
     "user_tz": 180
    },
    "id": "Ev_WbT2-83Rw",
    "outputId": "2a8a39ac-8bdf-47f2-9801-20552e2034aa"
   },
   "outputs": [
    {
     "name": "stdout",
     "output_type": "stream",
     "text": [
      "Não encontrei\n"
     ]
    }
   ],
   "source": [
    "x = dict_regiao_norte.get(\"nome_regiao\", \"Não encontrei\")\n",
    "print(x)"
   ]
  },
  {
   "cell_type": "code",
   "execution_count": 8,
   "metadata": {
    "colab": {
     "base_uri": "https://localhost:8080/"
    },
    "executionInfo": {
     "elapsed": 650,
     "status": "ok",
     "timestamp": 1603927253105,
     "user": {
      "displayName": "Orlando O. S.",
      "photoUrl": "https://lh3.googleusercontent.com/a-/AOh14Gj-E1yuy1M_3ruwN4TWYPK4BwysauSW7GQmHheS=s64",
      "userId": "15066502291703974467"
     },
     "user_tz": 180
    },
    "id": "2IB3IUvIg4Mo",
    "outputId": "8db99ed9-b77d-4332-a0a0-a16850f86414"
   },
   "outputs": [
    {
     "name": "stdout",
     "output_type": "stream",
     "text": [
      "Norte\n"
     ]
    }
   ],
   "source": [
    "x = dict_regiao_norte.get(\"nome\", \"Não encontrei\")\n",
    "print(x)"
   ]
  },
  {
   "cell_type": "markdown",
   "metadata": {
    "id": "YMsboBOphR3i"
   },
   "source": [
    "### Mudar valores\n",
    "Acesso o item pela chave para alterar o valor."
   ]
  },
  {
   "cell_type": "code",
   "execution_count": 9,
   "metadata": {
    "colab": {
     "base_uri": "https://localhost:8080/"
    },
    "executionInfo": {
     "elapsed": 624,
     "status": "ok",
     "timestamp": 1603927328344,
     "user": {
      "displayName": "Orlando O. S.",
      "photoUrl": "https://lh3.googleusercontent.com/a-/AOh14Gj-E1yuy1M_3ruwN4TWYPK4BwysauSW7GQmHheS=s64",
      "userId": "15066502291703974467"
     },
     "user_tz": 180
    },
    "id": "zYDh7G0lhR3i",
    "outputId": "293e4112-c95e-430b-e28b-775440f18edc"
   },
   "outputs": [
    {
     "name": "stdout",
     "output_type": "stream",
     "text": [
      "{'id': 1, 'sigla': 'N', 'nome': 'Norte'}\n",
      "{'id': 20, 'sigla': 'N', 'nome': 'Norte'}\n"
     ]
    }
   ],
   "source": [
    "dict_regiao_norte = {\n",
    "    \"id\":1,\n",
    "    \"sigla\":\"N\",\n",
    "    \"nome\":\"Norte\"}\n",
    "\n",
    "print(dict_regiao_norte)   \n",
    "\n",
    "dict_regiao_norte[\"id\"] = 20\n",
    "\n",
    "print(dict_regiao_norte)  "
   ]
  },
  {
   "cell_type": "code",
   "execution_count": 10,
   "metadata": {
    "colab": {
     "base_uri": "https://localhost:8080/"
    },
    "executionInfo": {
     "elapsed": 648,
     "status": "ok",
     "timestamp": 1603927374183,
     "user": {
      "displayName": "Orlando O. S.",
      "photoUrl": "https://lh3.googleusercontent.com/a-/AOh14Gj-E1yuy1M_3ruwN4TWYPK4BwysauSW7GQmHheS=s64",
      "userId": "15066502291703974467"
     },
     "user_tz": 180
    },
    "id": "Fsow34EzhUh-",
    "outputId": "82fa9ed2-d0f7-4e4a-9df0-4b56a5b883fb"
   },
   "outputs": [
    {
     "name": "stdout",
     "output_type": "stream",
     "text": [
      "{'id': 20, 'sigla': 'N', 'nome': 'Norte', 'codigo': 20}\n"
     ]
    }
   ],
   "source": [
    "dict_regiao_norte[\"codigo\"] = 20\n",
    "print(dict_regiao_norte)"
   ]
  },
  {
   "cell_type": "markdown",
   "metadata": {
    "id": "bjaRCngNhR3j"
   },
   "source": [
    "### Percorrer um dicionário\n",
    "- Use um forloop para percorrer os dict retornando o nome de cada chaves."
   ]
  },
  {
   "cell_type": "code",
   "execution_count": 11,
   "metadata": {
    "colab": {
     "base_uri": "https://localhost:8080/"
    },
    "executionInfo": {
     "elapsed": 1242,
     "status": "ok",
     "timestamp": 1603927439042,
     "user": {
      "displayName": "Orlando O. S.",
      "photoUrl": "https://lh3.googleusercontent.com/a-/AOh14Gj-E1yuy1M_3ruwN4TWYPK4BwysauSW7GQmHheS=s64",
      "userId": "15066502291703974467"
     },
     "user_tz": 180
    },
    "id": "xfap71adhR3j",
    "outputId": "bb463660-8441-4d5c-8481-fb9373c78352"
   },
   "outputs": [
    {
     "name": "stdout",
     "output_type": "stream",
     "text": [
      "id\n",
      "sigla\n",
      "nome\n",
      "codigo\n"
     ]
    }
   ],
   "source": [
    "for x in dict_regiao_norte:\n",
    "  print(x)\n"
   ]
  },
  {
   "cell_type": "code",
   "execution_count": 12,
   "metadata": {
    "colab": {
     "base_uri": "https://localhost:8080/"
    },
    "executionInfo": {
     "elapsed": 1644,
     "status": "ok",
     "timestamp": 1603927484217,
     "user": {
      "displayName": "Orlando O. S.",
      "photoUrl": "https://lh3.googleusercontent.com/a-/AOh14Gj-E1yuy1M_3ruwN4TWYPK4BwysauSW7GQmHheS=s64",
      "userId": "15066502291703974467"
     },
     "user_tz": 180
    },
    "id": "APcIXtfdhR3l",
    "outputId": "595384e6-c4ea-431b-b909-9597a204277e"
   },
   "outputs": [
    {
     "name": "stdout",
     "output_type": "stream",
     "text": [
      "20\n",
      "N\n",
      "Norte\n",
      "20\n"
     ]
    }
   ],
   "source": [
    "for x in dict_regiao_norte:\n",
    "  print(dict_regiao_norte[x])"
   ]
  },
  {
   "cell_type": "code",
   "execution_count": 13,
   "metadata": {
    "colab": {
     "base_uri": "https://localhost:8080/"
    },
    "executionInfo": {
     "elapsed": 672,
     "status": "ok",
     "timestamp": 1603927545792,
     "user": {
      "displayName": "Orlando O. S.",
      "photoUrl": "https://lh3.googleusercontent.com/a-/AOh14Gj-E1yuy1M_3ruwN4TWYPK4BwysauSW7GQmHheS=s64",
      "userId": "15066502291703974467"
     },
     "user_tz": 180
    },
    "id": "xeygrnNYhz7u",
    "outputId": "32977800-4c60-4845-f495-589c2d39b402"
   },
   "outputs": [
    {
     "name": "stdout",
     "output_type": "stream",
     "text": [
      "id = 20\n",
      "sigla = N\n",
      "nome = Norte\n",
      "codigo = 20\n"
     ]
    }
   ],
   "source": [
    "for x in dict_regiao_norte:\n",
    "  print(x, '=' , dict_regiao_norte.get(x))"
   ]
  },
  {
   "cell_type": "markdown",
   "metadata": {
    "id": "2O5MG6_xhR3m"
   },
   "source": [
    "- Use um forloop e o método .values()  para percorrer os dict retornando os valores de item."
   ]
  },
  {
   "cell_type": "code",
   "execution_count": 14,
   "metadata": {
    "colab": {
     "base_uri": "https://localhost:8080/"
    },
    "executionInfo": {
     "elapsed": 618,
     "status": "ok",
     "timestamp": 1603927607236,
     "user": {
      "displayName": "Orlando O. S.",
      "photoUrl": "https://lh3.googleusercontent.com/a-/AOh14Gj-E1yuy1M_3ruwN4TWYPK4BwysauSW7GQmHheS=s64",
      "userId": "15066502291703974467"
     },
     "user_tz": 180
    },
    "id": "JmnEVZ9biPvi",
    "outputId": "bb82ecac-297b-473c-dc11-a95ede23f9bb"
   },
   "outputs": [
    {
     "data": {
      "text/plain": [
       "dict_values([20, 'N', 'Norte', 20])"
      ]
     },
     "execution_count": 14,
     "metadata": {},
     "output_type": "execute_result"
    }
   ],
   "source": [
    "dict_regiao_norte.values()"
   ]
  },
  {
   "cell_type": "code",
   "execution_count": 15,
   "metadata": {
    "colab": {
     "base_uri": "https://localhost:8080/"
    },
    "executionInfo": {
     "elapsed": 622,
     "status": "ok",
     "timestamp": 1603927623152,
     "user": {
      "displayName": "Orlando O. S.",
      "photoUrl": "https://lh3.googleusercontent.com/a-/AOh14Gj-E1yuy1M_3ruwN4TWYPK4BwysauSW7GQmHheS=s64",
      "userId": "15066502291703974467"
     },
     "user_tz": 180
    },
    "id": "HopxjISdhR3m",
    "outputId": "1c716040-c2c4-4523-b510-3ac1416464a8"
   },
   "outputs": [
    {
     "name": "stdout",
     "output_type": "stream",
     "text": [
      "20\n",
      "N\n",
      "Norte\n",
      "20\n"
     ]
    }
   ],
   "source": [
    "for x in dict_regiao_norte.values():\n",
    "  print(x)"
   ]
  },
  {
   "cell_type": "markdown",
   "metadata": {
    "id": "UJIlM-gDhR3o"
   },
   "source": [
    "- Use um forloop e o método .items() para percorrer os dict retornando a chave e o valor de cada item."
   ]
  },
  {
   "cell_type": "code",
   "execution_count": 16,
   "metadata": {
    "colab": {
     "base_uri": "https://localhost:8080/"
    },
    "executionInfo": {
     "elapsed": 634,
     "status": "ok",
     "timestamp": 1603927698842,
     "user": {
      "displayName": "Orlando O. S.",
      "photoUrl": "https://lh3.googleusercontent.com/a-/AOh14Gj-E1yuy1M_3ruwN4TWYPK4BwysauSW7GQmHheS=s64",
      "userId": "15066502291703974467"
     },
     "user_tz": 180
    },
    "id": "L2xBKMKIhR3o",
    "outputId": "a73ad0b5-ee45-4d5f-ba0c-630d00a4cd6c"
   },
   "outputs": [
    {
     "name": "stdout",
     "output_type": "stream",
     "text": [
      "id = 20\n",
      "sigla = N\n",
      "nome = Norte\n",
      "codigo = 20\n"
     ]
    }
   ],
   "source": [
    "for chave , valor in dict_regiao_norte.items():\n",
    "  print(chave, '=' , valor)"
   ]
  },
  {
   "cell_type": "markdown",
   "metadata": {
    "id": "UxunlRlJhR3q"
   },
   "source": [
    "## Verificar se deteminada chave existe\n",
    "- Use o operador (in) com o nome da chave."
   ]
  },
  {
   "cell_type": "code",
   "execution_count": 17,
   "metadata": {
    "colab": {
     "base_uri": "https://localhost:8080/"
    },
    "executionInfo": {
     "elapsed": 633,
     "status": "ok",
     "timestamp": 1603928097390,
     "user": {
      "displayName": "Orlando O. S.",
      "photoUrl": "https://lh3.googleusercontent.com/a-/AOh14Gj-E1yuy1M_3ruwN4TWYPK4BwysauSW7GQmHheS=s64",
      "userId": "15066502291703974467"
     },
     "user_tz": 180
    },
    "id": "EcT1GYG4hR3q",
    "outputId": "21525bf8-2da1-4f24-a0e3-81926a60235d"
   },
   "outputs": [
    {
     "name": "stdout",
     "output_type": "stream",
     "text": [
      "Sim, 'nome' é uma das chaves existente nesse dicionário\n"
     ]
    }
   ],
   "source": [
    "dict_regiao_norte = {\n",
    "    \"id\":1,\n",
    "    \"sigla\":\"N\",\n",
    "    \"nome\":\"Norte\"}\n",
    "\n",
    "if \"nome\" in dict_regiao_norte:\n",
    "  print(\"Sim, 'nome' é uma das chaves existente nesse dicionário\")"
   ]
  },
  {
   "cell_type": "code",
   "execution_count": 18,
   "metadata": {
    "id": "AgPqL7OHk1Ur"
   },
   "outputs": [],
   "source": [
    "texto = \"\"\"id,sigla,nome\n",
    "1, N, Norte\"\"\"\n"
   ]
  },
  {
   "cell_type": "code",
   "execution_count": 19,
   "metadata": {
    "id": "ZKj8qSdBltFw"
   },
   "outputs": [],
   "source": [
    "linhas = texto.splitlines()"
   ]
  },
  {
   "cell_type": "code",
   "execution_count": 20,
   "metadata": {
    "colab": {
     "base_uri": "https://localhost:8080/"
    },
    "executionInfo": {
     "elapsed": 510,
     "status": "ok",
     "timestamp": 1603928578955,
     "user": {
      "displayName": "Orlando O. S.",
      "photoUrl": "https://lh3.googleusercontent.com/a-/AOh14Gj-E1yuy1M_3ruwN4TWYPK4BwysauSW7GQmHheS=s64",
      "userId": "15066502291703974467"
     },
     "user_tz": 180
    },
    "id": "sM_ibyFil2uW",
    "outputId": "1d51e4c0-b116-4993-eece-aedb177addc6"
   },
   "outputs": [
    {
     "data": {
      "text/plain": [
       "['id,sigla,nome', '1, N, Norte']"
      ]
     },
     "execution_count": 20,
     "metadata": {},
     "output_type": "execute_result"
    }
   ],
   "source": [
    "linhas"
   ]
  },
  {
   "cell_type": "code",
   "execution_count": 21,
   "metadata": {
    "colab": {
     "base_uri": "https://localhost:8080/"
    },
    "executionInfo": {
     "elapsed": 907,
     "status": "ok",
     "timestamp": 1603928838645,
     "user": {
      "displayName": "Orlando O. S.",
      "photoUrl": "https://lh3.googleusercontent.com/a-/AOh14Gj-E1yuy1M_3ruwN4TWYPK4BwysauSW7GQmHheS=s64",
      "userId": "15066502291703974467"
     },
     "user_tz": 180
    },
    "id": "OVg2e2KYmDoZ",
    "outputId": "0b85fe6d-ffe3-4fe5-e841-b34731c49d86"
   },
   "outputs": [
    {
     "name": "stdout",
     "output_type": "stream",
     "text": [
      "{'id': '1', 'sigla': ' N', 'nome': ' Norte'}\n"
     ]
    }
   ],
   "source": [
    "dict1 = {}\n",
    "posicao = 0\n",
    "for chave in linhas[0].split(','):\n",
    "  dict1[chave] = linhas[1].split(',')[posicao]\n",
    "  posicao +=1\n",
    "\n",
    "print(dict1)\n",
    "\n"
   ]
  },
  {
   "cell_type": "code",
   "execution_count": 22,
   "metadata": {
    "id": "2z_8GZO3nYu_"
   },
   "outputs": [],
   "source": [
    "texto = \"\"\"id,sigla,nome\n",
    "1,N,Norte\n",
    "2,S,Sul\"\"\""
   ]
  },
  {
   "cell_type": "code",
   "execution_count": 23,
   "metadata": {
    "colab": {
     "base_uri": "https://localhost:8080/"
    },
    "executionInfo": {
     "elapsed": 935,
     "status": "ok",
     "timestamp": 1603930020608,
     "user": {
      "displayName": "Orlando O. S.",
      "photoUrl": "https://lh3.googleusercontent.com/a-/AOh14Gj-E1yuy1M_3ruwN4TWYPK4BwysauSW7GQmHheS=s64",
      "userId": "15066502291703974467"
     },
     "user_tz": 180
    },
    "id": "OBku3Cm9nxGN",
    "outputId": "f067093a-8978-439c-edc6-9fcdd6f8174e"
   },
   "outputs": [
    {
     "data": {
      "text/plain": [
       "['id,sigla,nome', '1,N,Norte', '2,S,Sul']"
      ]
     },
     "execution_count": 23,
     "metadata": {},
     "output_type": "execute_result"
    }
   ],
   "source": [
    "linhas = texto.splitlines()\n",
    "linhas"
   ]
  },
  {
   "cell_type": "code",
   "execution_count": 24,
   "metadata": {
    "colab": {
     "base_uri": "https://localhost:8080/"
    },
    "executionInfo": {
     "elapsed": 850,
     "status": "ok",
     "timestamp": 1603930022213,
     "user": {
      "displayName": "Orlando O. S.",
      "photoUrl": "https://lh3.googleusercontent.com/a-/AOh14Gj-E1yuy1M_3ruwN4TWYPK4BwysauSW7GQmHheS=s64",
      "userId": "15066502291703974467"
     },
     "user_tz": 180
    },
    "id": "Bho2vWfdnhwB",
    "outputId": "d33a330f-92d3-4f14-c5e1-713d80cdb209"
   },
   "outputs": [
    {
     "name": "stdout",
     "output_type": "stream",
     "text": [
      "[{'id': '1', 'sigla': 'N', 'nome': 'Norte'}, {'id': '2', 'sigla': 'S', 'nome': 'Sul'}]\n"
     ]
    }
   ],
   "source": [
    "listdict = []\n",
    "for linha in linhas[ 1:]:\n",
    "  posicao = 0\n",
    "  dict1 = {}\n",
    "  for chave in linhas[0].split(','):\n",
    "    dict1[chave] = linha.split(',')[posicao]\n",
    "    posicao +=1\n",
    "  listdict.append(dict1)\n",
    "print(listdict)"
   ]
  },
  {
   "cell_type": "code",
   "execution_count": 25,
   "metadata": {
    "colab": {
     "base_uri": "https://localhost:8080/",
     "height": 35
    },
    "executionInfo": {
     "elapsed": 629,
     "status": "ok",
     "timestamp": 1603930024689,
     "user": {
      "displayName": "Orlando O. S.",
      "photoUrl": "https://lh3.googleusercontent.com/a-/AOh14Gj-E1yuy1M_3ruwN4TWYPK4BwysauSW7GQmHheS=s64",
      "userId": "15066502291703974467"
     },
     "user_tz": 180
    },
    "id": "YIBAOzsVqLDI",
    "outputId": "ea1d4982-ac7f-4175-d7f0-1d20d83daeed"
   },
   "outputs": [
    {
     "data": {
      "text/plain": [
       "'Sul'"
      ]
     },
     "execution_count": 25,
     "metadata": {},
     "output_type": "execute_result"
    }
   ],
   "source": [
    "listdict[1]['nome']"
   ]
  },
  {
   "cell_type": "code",
   "execution_count": 26,
   "metadata": {
    "colab": {
     "base_uri": "https://localhost:8080/",
     "height": 35
    },
    "executionInfo": {
     "elapsed": 1033,
     "status": "ok",
     "timestamp": 1603930027186,
     "user": {
      "displayName": "Orlando O. S.",
      "photoUrl": "https://lh3.googleusercontent.com/a-/AOh14Gj-E1yuy1M_3ruwN4TWYPK4BwysauSW7GQmHheS=s64",
      "userId": "15066502291703974467"
     },
     "user_tz": 180
    },
    "id": "bZKhjBTTqYCA",
    "outputId": "a0b08213-fff4-45f0-a554-7f39d05b6370"
   },
   "outputs": [
    {
     "data": {
      "text/plain": [
       "'S'"
      ]
     },
     "execution_count": 26,
     "metadata": {},
     "output_type": "execute_result"
    }
   ],
   "source": [
    "listdict[1]['sigla']"
   ]
  },
  {
   "cell_type": "code",
   "execution_count": 27,
   "metadata": {
    "colab": {
     "base_uri": "https://localhost:8080/"
    },
    "executionInfo": {
     "elapsed": 1204,
     "status": "ok",
     "timestamp": 1603930028715,
     "user": {
      "displayName": "Orlando O. S.",
      "photoUrl": "https://lh3.googleusercontent.com/a-/AOh14Gj-E1yuy1M_3ruwN4TWYPK4BwysauSW7GQmHheS=s64",
      "userId": "15066502291703974467"
     },
     "user_tz": 180
    },
    "id": "o14IuF70qjxv",
    "outputId": "094c514b-3c85-43dc-cc4a-461bee7a021a"
   },
   "outputs": [
    {
     "name": "stdout",
     "output_type": "stream",
     "text": [
      "{'N': {'id': '1', 'sigla': 'N', 'nome': 'Norte'}, 'S': {'id': '2', 'sigla': 'S', 'nome': 'Sul'}}\n"
     ]
    }
   ],
   "source": [
    "dicts = {}\n",
    "for linha in linhas[1:]:\n",
    "  posicao = 0\n",
    "  dict1 = {}\n",
    "  for chave in linhas[0].split(','):\n",
    "    dict1[chave] = linha.split(',')[posicao]\n",
    "    posicao +=1\n",
    "  sigla = dict1['sigla']\n",
    "  dicts[sigla] = dict1\n",
    "print(dicts)"
   ]
  },
  {
   "cell_type": "code",
   "execution_count": 28,
   "metadata": {
    "colab": {
     "base_uri": "https://localhost:8080/",
     "height": 35
    },
    "executionInfo": {
     "elapsed": 647,
     "status": "ok",
     "timestamp": 1603930059853,
     "user": {
      "displayName": "Orlando O. S.",
      "photoUrl": "https://lh3.googleusercontent.com/a-/AOh14Gj-E1yuy1M_3ruwN4TWYPK4BwysauSW7GQmHheS=s64",
      "userId": "15066502291703974467"
     },
     "user_tz": 180
    },
    "id": "pe_VbPaJrXp5",
    "outputId": "0a4c37c5-94dc-4bd6-e3d7-84183c1cb06d"
   },
   "outputs": [
    {
     "data": {
      "text/plain": [
       "'Norte'"
      ]
     },
     "execution_count": 28,
     "metadata": {},
     "output_type": "execute_result"
    }
   ],
   "source": [
    "dicts['N']['nome']"
   ]
  },
  {
   "cell_type": "code",
   "execution_count": 29,
   "metadata": {
    "id": "Vw4qar7dkO-m"
   },
   "outputs": [],
   "source": [
    "if dict_regiao_norte.get(\"nome_r\"):\n",
    "  print(\"Sim, 'nome' é uma das chaves existente nesse dicionário\")"
   ]
  },
  {
   "cell_type": "markdown",
   "metadata": {
    "id": "aLx8OKndhR3t"
   },
   "source": [
    "### Verifica a quantidade de intes do dict.\n",
    "use a função len().\n"
   ]
  },
  {
   "cell_type": "code",
   "execution_count": 30,
   "metadata": {
    "colab": {
     "base_uri": "https://localhost:8080/"
    },
    "executionInfo": {
     "elapsed": 705,
     "status": "ok",
     "timestamp": 1603931608575,
     "user": {
      "displayName": "Orlando O. S.",
      "photoUrl": "https://lh3.googleusercontent.com/a-/AOh14Gj-E1yuy1M_3ruwN4TWYPK4BwysauSW7GQmHheS=s64",
      "userId": "15066502291703974467"
     },
     "user_tz": 180
    },
    "id": "1zbU8vQihR3t",
    "outputId": "ca6737b6-b31a-4e23-b7bf-8458cabb4d91"
   },
   "outputs": [
    {
     "name": "stdout",
     "output_type": "stream",
     "text": [
      "3\n"
     ]
    }
   ],
   "source": [
    "print(len(dict_regiao_norte))"
   ]
  },
  {
   "cell_type": "markdown",
   "metadata": {
    "id": "wvE3jNxLhR3v"
   },
   "source": [
    "## Adicionar Itens\n",
    "- Use uma nova chave de índice e atribuindo um valor a ela."
   ]
  },
  {
   "cell_type": "code",
   "execution_count": 31,
   "metadata": {
    "colab": {
     "base_uri": "https://localhost:8080/"
    },
    "executionInfo": {
     "elapsed": 597,
     "status": "ok",
     "timestamp": 1603931700833,
     "user": {
      "displayName": "Orlando O. S.",
      "photoUrl": "https://lh3.googleusercontent.com/a-/AOh14Gj-E1yuy1M_3ruwN4TWYPK4BwysauSW7GQmHheS=s64",
      "userId": "15066502291703974467"
     },
     "user_tz": 180
    },
    "id": "7ULWVwz1hR3v",
    "outputId": "b73c54d1-6910-4a48-94f6-b301ed8f56b5"
   },
   "outputs": [
    {
     "name": "stdout",
     "output_type": "stream",
     "text": [
      "{'id': 1, 'sigla': 'N', 'nome': 'Norte'}\n",
      "{'id': 1, 'sigla': 'N', 'nome': 'Norte', 'pais': 'Brasil'}\n"
     ]
    }
   ],
   "source": [
    "dict_regiao_norte = {\n",
    "    \"id\":1,\n",
    "    \"sigla\":\"N\",\n",
    "    \"nome\":\"Norte\"}\n",
    "\n",
    "print(dict_regiao_norte)    \n",
    "\n",
    "dict_regiao_norte[\"pais\"] = \"Brasil\"\n",
    "\n",
    "print(dict_regiao_norte)"
   ]
  },
  {
   "cell_type": "markdown",
   "metadata": {
    "id": "l9U-ItUQhR3w"
   },
   "source": [
    "### Remover itens\n",
    "Existem vários métodos para remover itens de um dicionário:\n",
    "\n",
    "- O método pop() remove o item com o nome de chave especificado:"
   ]
  },
  {
   "cell_type": "code",
   "execution_count": 32,
   "metadata": {
    "colab": {
     "base_uri": "https://localhost:8080/"
    },
    "executionInfo": {
     "elapsed": 793,
     "status": "ok",
     "timestamp": 1603931743000,
     "user": {
      "displayName": "Orlando O. S.",
      "photoUrl": "https://lh3.googleusercontent.com/a-/AOh14Gj-E1yuy1M_3ruwN4TWYPK4BwysauSW7GQmHheS=s64",
      "userId": "15066502291703974467"
     },
     "user_tz": 180
    },
    "id": "JdPOGBbMhR3x",
    "outputId": "b548a3a5-fef6-4ba1-fcf0-e857e81fa839"
   },
   "outputs": [
    {
     "name": "stdout",
     "output_type": "stream",
     "text": [
      "{'id': 1, 'sigla': 'N', 'nome': 'Norte'}\n",
      "{'id': 1, 'sigla': 'N'}\n"
     ]
    }
   ],
   "source": [
    "dict_regiao_norte = {\n",
    "    \"id\":1,\n",
    "    \"sigla\":\"N\",\n",
    "    \"nome\":\"Norte\"}\n",
    "\n",
    "print(dict_regiao_norte)\n",
    "\n",
    "dict_regiao_norte.pop(\"nome\")\n",
    "\n",
    "print(dict_regiao_norte)"
   ]
  },
  {
   "cell_type": "markdown",
   "metadata": {
    "id": "HmboLgkghR30"
   },
   "source": [
    "- O método popitem() remove o último item inserido (nas versões anteriores à 3.7, um item aleatório é removido):"
   ]
  },
  {
   "cell_type": "code",
   "execution_count": 33,
   "metadata": {
    "colab": {
     "base_uri": "https://localhost:8080/"
    },
    "executionInfo": {
     "elapsed": 688,
     "status": "ok",
     "timestamp": 1603931850814,
     "user": {
      "displayName": "Orlando O. S.",
      "photoUrl": "https://lh3.googleusercontent.com/a-/AOh14Gj-E1yuy1M_3ruwN4TWYPK4BwysauSW7GQmHheS=s64",
      "userId": "15066502291703974467"
     },
     "user_tz": 180
    },
    "id": "vnmUmvEnhR30",
    "outputId": "6e91a81d-6956-40fd-9cfb-6e96b46cdc84"
   },
   "outputs": [
    {
     "name": "stdout",
     "output_type": "stream",
     "text": [
      "{'id': 1, 'sigla': 'N', 'nome': 'Norte'}\n",
      "{'id': 1, 'sigla': 'N'}\n"
     ]
    }
   ],
   "source": [
    "dict_regiao_norte = {\n",
    "    \"id\":1,\n",
    "    \"sigla\":\"N\",\n",
    "    \"nome\":\"Norte\"}\n",
    "    \n",
    "print(dict_regiao_norte)\n",
    "\n",
    "dict_regiao_norte.popitem()\n",
    "\n",
    "print(dict_regiao_norte)"
   ]
  },
  {
   "cell_type": "markdown",
   "metadata": {
    "id": "v9WBBZEPhR31"
   },
   "source": [
    "- A palavra-chave  del remove o item com o nome de chave especificado."
   ]
  },
  {
   "cell_type": "code",
   "execution_count": 34,
   "metadata": {
    "colab": {
     "base_uri": "https://localhost:8080/"
    },
    "executionInfo": {
     "elapsed": 631,
     "status": "ok",
     "timestamp": 1603931897224,
     "user": {
      "displayName": "Orlando O. S.",
      "photoUrl": "https://lh3.googleusercontent.com/a-/AOh14Gj-E1yuy1M_3ruwN4TWYPK4BwysauSW7GQmHheS=s64",
      "userId": "15066502291703974467"
     },
     "user_tz": 180
    },
    "id": "BGF3sVvXhR32",
    "outputId": "2ae35a3e-cb1d-4166-da74-316b118075f4"
   },
   "outputs": [
    {
     "name": "stdout",
     "output_type": "stream",
     "text": [
      "{'id': 1, 'sigla': 'N', 'nome': 'Norte'}\n",
      "{'id': 1, 'nome': 'Norte'}\n"
     ]
    }
   ],
   "source": [
    "dict_regiao_norte = {\n",
    "    \"id\":1,\n",
    "    \"sigla\":\"N\",\n",
    "    \"nome\":\"Norte\"}\n",
    "\n",
    "print(dict_regiao_norte)\n",
    "\n",
    "del dict_regiao_norte[\"sigla\"]\n",
    "\n",
    "print(dict_regiao_norte)"
   ]
  },
  {
   "cell_type": "markdown",
   "metadata": {
    "id": "M8GWQgTIhR33"
   },
   "source": [
    "- A palavra-chave  del também pode excluir o dicionário completamente."
   ]
  },
  {
   "cell_type": "code",
   "execution_count": 35,
   "metadata": {
    "colab": {
     "base_uri": "https://localhost:8080/"
    },
    "executionInfo": {
     "elapsed": 715,
     "status": "ok",
     "timestamp": 1603931943505,
     "user": {
      "displayName": "Orlando O. S.",
      "photoUrl": "https://lh3.googleusercontent.com/a-/AOh14Gj-E1yuy1M_3ruwN4TWYPK4BwysauSW7GQmHheS=s64",
      "userId": "15066502291703974467"
     },
     "user_tz": 180
    },
    "id": "IYPvhIhihR34",
    "outputId": "3c15fb89-cccf-4d3f-d8eb-81620fcd059b"
   },
   "outputs": [
    {
     "name": "stdout",
     "output_type": "stream",
     "text": [
      "chave\t dict1\t dict_regiao_norte\t dicts\t linha\t linhas\t listdict\t posicao\t sigla\t \n",
      "texto\t valor\t x\t \n",
      "chave\t dict1\t dicts\t linha\t linhas\t listdict\t posicao\t sigla\t texto\t \n",
      "valor\t x\t \n"
     ]
    }
   ],
   "source": [
    "dict_regiao_norte = {\n",
    "    \"id\":1,\n",
    "    \"sigla\":\"N\",\n",
    "    \"nome\":\"Norte\"}\n",
    "\n",
    "%who\n",
    "\n",
    "del dict_regiao_norte\n",
    "\n",
    "%who"
   ]
  },
  {
   "cell_type": "markdown",
   "metadata": {
    "id": "dJPzFPJzhR35"
   },
   "source": [
    "### Esvaziar o dict\n",
    "Use o método clear()"
   ]
  },
  {
   "cell_type": "code",
   "execution_count": 36,
   "metadata": {
    "colab": {
     "base_uri": "https://localhost:8080/"
    },
    "executionInfo": {
     "elapsed": 654,
     "status": "ok",
     "timestamp": 1603931990032,
     "user": {
      "displayName": "Orlando O. S.",
      "photoUrl": "https://lh3.googleusercontent.com/a-/AOh14Gj-E1yuy1M_3ruwN4TWYPK4BwysauSW7GQmHheS=s64",
      "userId": "15066502291703974467"
     },
     "user_tz": 180
    },
    "id": "_ZXeo0fmhR35",
    "outputId": "464730ca-e3b2-446a-ff82-073c0d1c2f95"
   },
   "outputs": [
    {
     "name": "stdout",
     "output_type": "stream",
     "text": [
      "{'id': 1, 'sigla': 'N', 'nome': 'Norte'}\n",
      "{}\n"
     ]
    }
   ],
   "source": [
    "dict_regiao_norte ={\n",
    "    \"id\":1,\n",
    "    \"sigla\":\"N\",\n",
    "    \"nome\":\"Norte\"}\n",
    "\n",
    "print(dict_regiao_norte)\n",
    "\n",
    "dict_regiao_norte.clear()\n",
    "\n",
    "print(dict_regiao_norte)"
   ]
  },
  {
   "cell_type": "markdown",
   "metadata": {
    "id": "yEJyvuezhR36"
   },
   "source": [
    "### Copiar um dicionário\n",
    "Não-se pode copiar um dict simplesmente digitando dict2 = dict1\n",
    "O dict2 será uma referência ao dict1\n",
    "As alterações feitas em dict1 refletirão no dict2.\n",
    "\n",
    "### Copie usando o método copy():"
   ]
  },
  {
   "cell_type": "code",
   "execution_count": 37,
   "metadata": {
    "colab": {
     "base_uri": "https://localhost:8080/"
    },
    "executionInfo": {
     "elapsed": 633,
     "status": "ok",
     "timestamp": 1603932037368,
     "user": {
      "displayName": "Orlando O. S.",
      "photoUrl": "https://lh3.googleusercontent.com/a-/AOh14Gj-E1yuy1M_3ruwN4TWYPK4BwysauSW7GQmHheS=s64",
      "userId": "15066502291703974467"
     },
     "user_tz": 180
    },
    "id": "neMyjCqOhR37",
    "outputId": "3478d253-389b-4f38-eced-62a74616dac8"
   },
   "outputs": [
    {
     "name": "stdout",
     "output_type": "stream",
     "text": [
      "{'id': 1, 'sigla': 'N', 'nome': 'Norte'}\n"
     ]
    }
   ],
   "source": [
    "dict_regiao_norte = {\n",
    "    \"id\":1,\n",
    "    \"sigla\":\"N\",\n",
    "    \"nome\":\"Norte\"}\n",
    "meu_dict = dict_regiao_norte.copy()\n",
    "print( meu_dict)"
   ]
  },
  {
   "cell_type": "markdown",
   "metadata": {
    "id": "090aYApOhR38"
   },
   "source": [
    "Copie um dict usando a função dict().\n"
   ]
  },
  {
   "cell_type": "code",
   "execution_count": 38,
   "metadata": {
    "colab": {
     "base_uri": "https://localhost:8080/",
     "height": 35
    },
    "executionInfo": {
     "elapsed": 1175,
     "status": "ok",
     "timestamp": 1603768109657,
     "user": {
      "displayName": "Orlando O. S.",
      "photoUrl": "https://lh3.googleusercontent.com/a-/AOh14Gj-E1yuy1M_3ruwN4TWYPK4BwysauSW7GQmHheS=s64",
      "userId": "15066502291703974467"
     },
     "user_tz": 180
    },
    "id": "UgQ401XRhR3-",
    "outputId": "0b37fed5-e5e3-479f-c6d2-c003e3133476"
   },
   "outputs": [
    {
     "name": "stdout",
     "output_type": "stream",
     "text": [
      "{'id': 1, 'sigla': 'N', 'nome': 'Norte'}\n"
     ]
    }
   ],
   "source": [
    "dict_regiao_norte = {\n",
    "    \"id\":1,\n",
    "    \"sigla\":\"N\",\n",
    "    \"nome\":\"Norte\"}\n",
    "\n",
    "meu_dict = dict(dict_regiao_norte)\n",
    "\n",
    "print( meu_dict)"
   ]
  },
  {
   "cell_type": "markdown",
   "metadata": {
    "id": "_3YJzXIfhR3_"
   },
   "source": [
    "### Dicionários aninhados\n",
    "Um dicionário também pode conter muitos dicionários, isso é chamado de dicionários aninhados.\n",
    "\n",
    "Exemplo\n",
    "Crie um dicionário que contenha três dicionários:"
   ]
  },
  {
   "cell_type": "code",
   "execution_count": 39,
   "metadata": {
    "colab": {
     "base_uri": "https://localhost:8080/"
    },
    "executionInfo": {
     "elapsed": 566,
     "status": "ok",
     "timestamp": 1603932187284,
     "user": {
      "displayName": "Orlando O. S.",
      "photoUrl": "https://lh3.googleusercontent.com/a-/AOh14Gj-E1yuy1M_3ruwN4TWYPK4BwysauSW7GQmHheS=s64",
      "userId": "15066502291703974467"
     },
     "user_tz": 180
    },
    "id": "ONA6SWS46OZW",
    "outputId": "9d2646ce-ffa1-4912-c4ea-d69f972a9526"
   },
   "outputs": [
    {
     "name": "stdout",
     "output_type": "stream",
     "text": [
      "{'1': {'sigla': 'N', 'nome': 'Norte'}, '2': {'sigla': 'NE', 'nome': 'Nordeste'}, '3': {'sigla': 'SE', 'nome': 'Sudeste'}, '4': {'sigla': 'S', 'nome': 'Sul'}, '5': {'sigla': 'CO', 'nome': 'Centro-Oeste'}}\n"
     ]
    }
   ],
   "source": [
    "regioes_dict = {\n",
    "    \"1\": {\n",
    "        \"sigla\":\"N\",\n",
    "        \"nome\":\"Norte\"\n",
    "        },\n",
    "    \"2\": {\n",
    "        \"sigla\":\"NE\",\n",
    "        \"nome\":\"Nordeste\"\n",
    "        },\n",
    "    \"3\": {\n",
    "        \"sigla\":\"SE\",\n",
    "        \"nome\":\"Sudeste\"\n",
    "        },\n",
    "    \"4\": {\n",
    "        \"sigla\":\"S\",\n",
    "        \"nome\":\"Sul\"},\n",
    "    \"5\": {\n",
    "        \"sigla\":\"CO\",\n",
    "        \"nome\":\"Centro-Oeste\"\n",
    "        }\n",
    "    }\n",
    "\n",
    "print(regioes_dict)"
   ]
  },
  {
   "cell_type": "markdown",
   "metadata": {
    "id": "d1pWzRLNhR4B"
   },
   "source": [
    "Pode inserir dict ja criada em outro dict."
   ]
  },
  {
   "cell_type": "code",
   "execution_count": 40,
   "metadata": {
    "colab": {
     "base_uri": "https://localhost:8080/"
    },
    "executionInfo": {
     "elapsed": 691,
     "status": "ok",
     "timestamp": 1603932385794,
     "user": {
      "displayName": "Orlando O. S.",
      "photoUrl": "https://lh3.googleusercontent.com/a-/AOh14Gj-E1yuy1M_3ruwN4TWYPK4BwysauSW7GQmHheS=s64",
      "userId": "15066502291703974467"
     },
     "user_tz": 180
    },
    "id": "pJOp5dsxhR4B",
    "outputId": "a8c0d76e-6560-479e-b287-5574c87288b5"
   },
   "outputs": [
    {
     "name": "stdout",
     "output_type": "stream",
     "text": [
      "{'1': {'sigla': 'N', 'nome': 'Norte'}, '2': {'sigla': 'NE', 'nome': 'Nordeste'}, '3': {'sigla': 'SE', 'nome': 'Sudeste'}, '4': {'sigla': 'S', 'nome': 'Sul'}, '5': {'sigla': 'CO', 'nome': 'Centro-Oeste'}}\n"
     ]
    }
   ],
   "source": [
    "regioes_1 = {\n",
    "        \"sigla\":\"N\",\n",
    "        \"nome\":\"Norte\"\n",
    "        }\n",
    "\n",
    "regioes_2 = {\n",
    "        \"sigla\":\"NE\",\n",
    "        \"nome\":\"Nordeste\"\n",
    "        }\n",
    "\n",
    "regioes_3 = {\n",
    "        \"sigla\":\"SE\",\n",
    "        \"nome\":\"Sudeste\"\n",
    "        }\n",
    "\n",
    "regioes_4 = {\n",
    "        \"sigla\":\"S\",\n",
    "        \"nome\":\"Sul\"\n",
    "        }\n",
    "\n",
    "regioes_5 = {\n",
    "        \"sigla\":\"CO\",\n",
    "        \"nome\":\"Centro-Oeste\"\n",
    "        }\n",
    "\n",
    "regioes_dict = {\n",
    "    \"1\": regioes_1.copy(),\n",
    "    \"2\": regioes_2.copy(),\n",
    "    \"3\": regioes_3.copy(),\n",
    "    \"4\": regioes_4.copy(),\n",
    "    \"5\": regioes_5.copy()\n",
    "    }\n",
    "\n",
    "print(regioes_dict)\n"
   ]
  },
  {
   "cell_type": "code",
   "execution_count": 41,
   "metadata": {
    "id": "s750NFKt0EHB"
   },
   "outputs": [],
   "source": [
    "regioes_1['sigla'] = 'R'"
   ]
  },
  {
   "cell_type": "code",
   "execution_count": 42,
   "metadata": {
    "colab": {
     "base_uri": "https://localhost:8080/"
    },
    "executionInfo": {
     "elapsed": 588,
     "status": "ok",
     "timestamp": 1603932399146,
     "user": {
      "displayName": "Orlando O. S.",
      "photoUrl": "https://lh3.googleusercontent.com/a-/AOh14Gj-E1yuy1M_3ruwN4TWYPK4BwysauSW7GQmHheS=s64",
      "userId": "15066502291703974467"
     },
     "user_tz": 180
    },
    "id": "ok2cwc4m0E_B",
    "outputId": "0793c3e2-58a3-44e0-8896-4f31741c24c0"
   },
   "outputs": [
    {
     "name": "stdout",
     "output_type": "stream",
     "text": [
      "{'1': {'sigla': 'N', 'nome': 'Norte'}, '2': {'sigla': 'NE', 'nome': 'Nordeste'}, '3': {'sigla': 'SE', 'nome': 'Sudeste'}, '4': {'sigla': 'S', 'nome': 'Sul'}, '5': {'sigla': 'CO', 'nome': 'Centro-Oeste'}}\n"
     ]
    }
   ],
   "source": [
    "print(regioes_dict)"
   ]
  },
  {
   "cell_type": "markdown",
   "metadata": {
    "id": "nifpwSUGhR4D"
   },
   "source": [
    "### O construtor dict ()"
   ]
  },
  {
   "cell_type": "code",
   "execution_count": 43,
   "metadata": {
    "colab": {
     "base_uri": "https://localhost:8080/"
    },
    "executionInfo": {
     "elapsed": 654,
     "status": "ok",
     "timestamp": 1603932438722,
     "user": {
      "displayName": "Orlando O. S.",
      "photoUrl": "https://lh3.googleusercontent.com/a-/AOh14Gj-E1yuy1M_3ruwN4TWYPK4BwysauSW7GQmHheS=s64",
      "userId": "15066502291703974467"
     },
     "user_tz": 180
    },
    "id": "k3ZE7iichR4D",
    "outputId": "236aaead-3802-44c5-f103-2a751ae64262"
   },
   "outputs": [
    {
     "name": "stdout",
     "output_type": "stream",
     "text": [
      "{'id': 1, 'nome': 'Norte', 'sigla': 'N'}\n"
     ]
    }
   ],
   "source": [
    "dict_regiao_norte = dict(id=1, nome=\"Norte\", sigla=\"N\")\n",
    "\n",
    "print(dict_regiao_norte)"
   ]
  },
  {
   "cell_type": "code",
   "execution_count": 44,
   "metadata": {
    "colab": {
     "base_uri": "https://localhost:8080/"
    },
    "executionInfo": {
     "elapsed": 722,
     "status": "ok",
     "timestamp": 1603932484434,
     "user": {
      "displayName": "Orlando O. S.",
      "photoUrl": "https://lh3.googleusercontent.com/a-/AOh14Gj-E1yuy1M_3ruwN4TWYPK4BwysauSW7GQmHheS=s64",
      "userId": "15066502291703974467"
     },
     "user_tz": 180
    },
    "id": "HzRj6ieN0vWx",
    "outputId": "a10dad98-e1a4-42ae-8ca2-75ca017fbeb7"
   },
   "outputs": [
    {
     "name": "stdout",
     "output_type": "stream",
     "text": [
      "{'id': 1, 'nome': 'Norte', 'sigla': 'N'}\n"
     ]
    }
   ],
   "source": [
    "dictx = {'id': 1, 'nome': 'Norte', 'sigla': 'N'}\n",
    "print(dictx)"
   ]
  },
  {
   "cell_type": "markdown",
   "metadata": {
    "id": "Qs3Z88HehR4F"
   },
   "source": [
    "### Outros Métodos de Dict.\n",
    "- fromkeys () Retorna um dicionário com as chaves e valores especificados\n",
    "- keys () Retorna uma lista contendo as chaves do dicionário\n",
    "- setdefault () Retorna o valor da chave especificada. Se a chave não existe: insira a chave, com o valor especificado\n",
    "- update () Atualiza o dicionário com os pares de valores-chave especificados"
   ]
  },
  {
   "cell_type": "code",
   "execution_count": 45,
   "metadata": {
    "id": "9bKXS_8IFW0d"
   },
   "outputs": [],
   "source": [
    "dict_regiao_norte = {\n",
    "    \"id\":1,\n",
    "    \"sigla\":\"N\",\n",
    "    \"nome\":\"Norte\"}"
   ]
  },
  {
   "cell_type": "code",
   "execution_count": 46,
   "metadata": {
    "colab": {
     "base_uri": "https://localhost:8080/"
    },
    "executionInfo": {
     "elapsed": 715,
     "status": "ok",
     "timestamp": 1603932584756,
     "user": {
      "displayName": "Orlando O. S.",
      "photoUrl": "https://lh3.googleusercontent.com/a-/AOh14Gj-E1yuy1M_3ruwN4TWYPK4BwysauSW7GQmHheS=s64",
      "userId": "15066502291703974467"
     },
     "user_tz": 180
    },
    "id": "phQOaODOFW_h",
    "outputId": "dd20c850-0140-4169-a94e-ad19e60da496"
   },
   "outputs": [
    {
     "data": {
      "text/plain": [
       "{'id': None, 'sigla': None}"
      ]
     },
     "execution_count": 46,
     "metadata": {},
     "output_type": "execute_result"
    }
   ],
   "source": [
    "dict_regiao_norte.fromkeys([\"id\", \"sigla\"])"
   ]
  },
  {
   "cell_type": "code",
   "execution_count": 47,
   "metadata": {
    "colab": {
     "base_uri": "https://localhost:8080/"
    },
    "executionInfo": {
     "elapsed": 724,
     "status": "ok",
     "timestamp": 1603932596122,
     "user": {
      "displayName": "Orlando O. S.",
      "photoUrl": "https://lh3.googleusercontent.com/a-/AOh14Gj-E1yuy1M_3ruwN4TWYPK4BwysauSW7GQmHheS=s64",
      "userId": "15066502291703974467"
     },
     "user_tz": 180
    },
    "id": "Or8MH5vTFXME",
    "outputId": "fb267958-d180-4f5d-eb35-7dd3c0c24c80"
   },
   "outputs": [
    {
     "data": {
      "text/plain": [
       "dict_keys(['id', 'sigla', 'nome'])"
      ]
     },
     "execution_count": 47,
     "metadata": {},
     "output_type": "execute_result"
    }
   ],
   "source": [
    "dict_regiao_norte.keys()"
   ]
  },
  {
   "cell_type": "code",
   "execution_count": 48,
   "metadata": {
    "colab": {
     "base_uri": "https://localhost:8080/"
    },
    "executionInfo": {
     "elapsed": 657,
     "status": "ok",
     "timestamp": 1603932632578,
     "user": {
      "displayName": "Orlando O. S.",
      "photoUrl": "https://lh3.googleusercontent.com/a-/AOh14Gj-E1yuy1M_3ruwN4TWYPK4BwysauSW7GQmHheS=s64",
      "userId": "15066502291703974467"
     },
     "user_tz": 180
    },
    "id": "HbERinjA1YWc",
    "outputId": "0fb2309c-b769-4139-901b-8a1782f5669a"
   },
   "outputs": [
    {
     "name": "stdout",
     "output_type": "stream",
     "text": [
      "{'id': 1, 'sigla': 'N', 'nome': 'Norte'}\n"
     ]
    }
   ],
   "source": [
    "print(dict_regiao_norte)"
   ]
  },
  {
   "cell_type": "code",
   "execution_count": 49,
   "metadata": {
    "colab": {
     "base_uri": "https://localhost:8080/"
    },
    "executionInfo": {
     "elapsed": 664,
     "status": "ok",
     "timestamp": 1603932677380,
     "user": {
      "displayName": "Orlando O. S.",
      "photoUrl": "https://lh3.googleusercontent.com/a-/AOh14Gj-E1yuy1M_3ruwN4TWYPK4BwysauSW7GQmHheS=s64",
      "userId": "15066502291703974467"
     },
     "user_tz": 180
    },
    "id": "wgs8TYDN1cSU",
    "outputId": "536fd342-8a87-4554-8e52-1c48c1a726f5"
   },
   "outputs": [
    {
     "name": "stdout",
     "output_type": "stream",
     "text": [
      "None\n"
     ]
    }
   ],
   "source": [
    "print(dict_regiao_norte.get(\"pais\"))"
   ]
  },
  {
   "cell_type": "code",
   "execution_count": 50,
   "metadata": {
    "colab": {
     "base_uri": "https://localhost:8080/",
     "height": 35
    },
    "executionInfo": {
     "elapsed": 641,
     "status": "ok",
     "timestamp": 1603932693634,
     "user": {
      "displayName": "Orlando O. S.",
      "photoUrl": "https://lh3.googleusercontent.com/a-/AOh14Gj-E1yuy1M_3ruwN4TWYPK4BwysauSW7GQmHheS=s64",
      "userId": "15066502291703974467"
     },
     "user_tz": 180
    },
    "id": "fH1ahhUjGC_b",
    "outputId": "15166d98-c349-4ce0-cbb3-65bf55f77801"
   },
   "outputs": [
    {
     "data": {
      "text/plain": [
       "'Brasil'"
      ]
     },
     "execution_count": 50,
     "metadata": {},
     "output_type": "execute_result"
    }
   ],
   "source": [
    "dict_regiao_norte.setdefault('pais','Brasil')"
   ]
  },
  {
   "cell_type": "code",
   "execution_count": 51,
   "metadata": {
    "colab": {
     "base_uri": "https://localhost:8080/",
     "height": 35
    },
    "executionInfo": {
     "elapsed": 693,
     "status": "ok",
     "timestamp": 1603932728848,
     "user": {
      "displayName": "Orlando O. S.",
      "photoUrl": "https://lh3.googleusercontent.com/a-/AOh14Gj-E1yuy1M_3ruwN4TWYPK4BwysauSW7GQmHheS=s64",
      "userId": "15066502291703974467"
     },
     "user_tz": 180
    },
    "id": "1LFT8GDk1sCb",
    "outputId": "d8698c2d-be9c-43c7-aa68-7d17fc0757e9"
   },
   "outputs": [
    {
     "data": {
      "text/plain": [
       "'Norte'"
      ]
     },
     "execution_count": 51,
     "metadata": {},
     "output_type": "execute_result"
    }
   ],
   "source": [
    "dict_regiao_norte.setdefault('nome','leste')"
   ]
  },
  {
   "cell_type": "markdown",
   "metadata": {
    "id": "DX9JWKhxX1xn"
   },
   "source": [
    "## Leituras Adicionais e Referências:\n",
    "\n",
    "- Python Tutorial at W3Schools: https://www.w3schools.com/python/\n",
    "- Python official documentation: https://docs.python.org/3/tutorial/index.html"
   ]
  }
 ],
 "metadata": {
  "colab": {
   "collapsed_sections": [],
   "name": "Aula 04 Introdução à Linguagem de Python para Analytics e Data Science.ipynb",
   "provenance": []
  },
  "kernelspec": {
   "display_name": "Python 3",
   "language": "python",
   "name": "python3"
  },
  "language_info": {
   "codemirror_mode": {
    "name": "ipython",
    "version": 3
   },
   "file_extension": ".py",
   "mimetype": "text/x-python",
   "name": "python",
   "nbconvert_exporter": "python",
   "pygments_lexer": "ipython3",
   "version": "3.7.8"
  }
 },
 "nbformat": 4,
 "nbformat_minor": 1
}
