{
 "cells": [
  {
   "cell_type": "markdown",
   "metadata": {
    "id": "uGqJJfZ36iR6"
   },
   "source": [
    "# 01 - Introdução à Linguagem Python\n",
    "## Aula 03 - 02 - Variáveis do Tipo String"
   ]
  },
  {
   "cell_type": "markdown",
   "metadata": {
    "id": "JNifjo59P9mf"
   },
   "source": [
    "## Professor: Orlando Oliveira dos Santos, MsC.\n",
    " - E-mail: professor.orlando.santos@gmail.com \n",
    " - Youtube :https://www.youtube.com/channel/UCPWWbkPWFmOjXH50TQWNAYg\n",
    " - Linkedin: https://linkedin.com/in/orlandoosantos\n",
    " - Facebook: https://www.facebook.com/proforlandosantosmsc/\n",
    " - Twitter: https://twitter.com/ProfOrlandoMsC\n",
    " - Instagram: https://www.instagram.com/proforlandosantosmsc/\n",
    "\n",
    "## Formação Acadêmica\n",
    "- Mestrado em Computação Aplicada - UnB (2014 – 2016)\t\n",
    "- MBA, Administração Estratégica de Sistemas de Informação – FGV (2011 – 2013)\n",
    "- Tecnólogo em Processamento de Dados, Análise e Desenvolvimento de Sistemas – FAETEC/SP (2000-2002)"
   ]
  },
  {
   "cell_type": "markdown",
   "metadata": {},
   "source": [
    "# Variáveis do Tipo String"
   ]
  },
  {
   "cell_type": "markdown",
   "metadata": {
    "id": "mDmoP3WFwPjg"
   },
   "source": [
    "## Variáveis do tipo string e suas operações\n",
    "\n",
    "O conteúdo de uma string são colocados entre aspas simples ou aspas duplas.\n",
    "\n",
    "'Jose' é o mesmo que \"Jose\" .\n",
    "\n",
    "Você pode exibir o conteúdo da string pode se usar a função print():"
   ]
  },
  {
   "cell_type": "code",
   "execution_count": 1,
   "metadata": {
    "colab": {
     "base_uri": "https://localhost:8080/",
     "height": 52
    },
    "executionInfo": {
     "elapsed": 731,
     "status": "ok",
     "timestamp": 1603326676777,
     "user": {
      "displayName": "Orlando O. S.",
      "photoUrl": "https://lh3.googleusercontent.com/a-/AOh14Gj-E1yuy1M_3ruwN4TWYPK4BwysauSW7GQmHheS=s64",
      "userId": "15066502291703974467"
     },
     "user_tz": 180
    },
    "id": "clHRfSRSjdwm",
    "outputId": "dd72201b-17a5-47b1-f0b7-9da145a6cd81"
   },
   "outputs": [
    {
     "name": "stdout",
     "output_type": "stream",
     "text": [
      "Jose\n",
      "Jose\n"
     ]
    }
   ],
   "source": [
    "print(\"Jose\")\n",
    "print('Jose')"
   ]
  },
  {
   "cell_type": "code",
   "execution_count": 2,
   "metadata": {
    "colab": {
     "base_uri": "https://localhost:8080/",
     "height": 34
    },
    "executionInfo": {
     "elapsed": 746,
     "status": "ok",
     "timestamp": 1603326690177,
     "user": {
      "displayName": "Orlando O. S.",
      "photoUrl": "https://lh3.googleusercontent.com/a-/AOh14Gj-E1yuy1M_3ruwN4TWYPK4BwysauSW7GQmHheS=s64",
      "userId": "15066502291703974467"
     },
     "user_tz": 180
    },
    "id": "lDDLcgdwjdz9",
    "outputId": "5a225f4c-9ec9-4e55-b858-fa4e72e2c9ea"
   },
   "outputs": [
    {
     "data": {
      "text/plain": [
       "True"
      ]
     },
     "execution_count": 2,
     "metadata": {},
     "output_type": "execute_result"
    }
   ],
   "source": [
    "'Jose' == \"Jose\""
   ]
  },
  {
   "cell_type": "markdown",
   "metadata": {
    "id": "GMYgtPXMnHIf"
   },
   "source": [
    "## Declarar varial texto em uma linha"
   ]
  },
  {
   "cell_type": "code",
   "execution_count": 3,
   "metadata": {
    "colab": {
     "base_uri": "https://localhost:8080/",
     "height": 34
    },
    "executionInfo": {
     "elapsed": 707,
     "status": "ok",
     "timestamp": 1603326708377,
     "user": {
      "displayName": "Orlando O. S.",
      "photoUrl": "https://lh3.googleusercontent.com/a-/AOh14Gj-E1yuy1M_3ruwN4TWYPK4BwysauSW7GQmHheS=s64",
      "userId": "15066502291703974467"
     },
     "user_tz": 180
    },
    "id": "10hmkL-nnzYw",
    "outputId": "2b66eaad-3ac2-4a48-9fde-eff029dbd817"
   },
   "outputs": [
    {
     "name": "stdout",
     "output_type": "stream",
     "text": [
      "Jose\n"
     ]
    }
   ],
   "source": [
    "nome = \"Jose\"\n",
    "print(nome)"
   ]
  },
  {
   "cell_type": "markdown",
   "metadata": {
    "id": "nXyFhoXmnrEg"
   },
   "source": [
    "## Declarar varial texto com muitas linhas"
   ]
  },
  {
   "cell_type": "code",
   "execution_count": 4,
   "metadata": {
    "colab": {
     "base_uri": "https://localhost:8080/",
     "height": 278
    },
    "executionInfo": {
     "elapsed": 778,
     "status": "ok",
     "timestamp": 1603326746042,
     "user": {
      "displayName": "Orlando O. S.",
      "photoUrl": "https://lh3.googleusercontent.com/a-/AOh14Gj-E1yuy1M_3ruwN4TWYPK4BwysauSW7GQmHheS=s64",
      "userId": "15066502291703974467"
     },
     "user_tz": 180
    },
    "id": "OEfH_RUWoWEf",
    "outputId": "12e130f6-a6db-4479-e485-496473fced02"
   },
   "outputs": [
    {
     "name": "stdout",
     "output_type": "stream",
     "text": [
      "E agora, José?\n",
      "A festa acabou,\n",
      "a luz apagou,\n",
      "o povo sumiu,\n",
      "a noite esfriou,\n",
      "e agora, José?\n",
      "e agora, você?\n",
      "você que é sem nome,\n",
      "que zomba dos outros,\n",
      "você que faz versos,\n",
      "que ama, protesta?\n",
      "e agora, José?\n",
      "\n",
      "...Carlos Drummond de Andrade\n",
      "\n"
     ]
    }
   ],
   "source": [
    "e_agora_jose = \"\"\"E agora, José?\n",
    "A festa acabou,\n",
    "a luz apagou,\n",
    "o povo sumiu,\n",
    "a noite esfriou,\n",
    "e agora, José?\n",
    "e agora, você?\n",
    "você que é sem nome,\n",
    "que zomba dos outros,\n",
    "você que faz versos,\n",
    "que ama, protesta?\n",
    "e agora, José?\n",
    "\n",
    "...Carlos Drummond de Andrade\n",
    "\"\"\"\n",
    "print(e_agora_jose)"
   ]
  },
  {
   "cell_type": "code",
   "execution_count": 5,
   "metadata": {
    "colab": {
     "base_uri": "https://localhost:8080/",
     "height": 278
    },
    "executionInfo": {
     "elapsed": 730,
     "status": "ok",
     "timestamp": 1603326792552,
     "user": {
      "displayName": "Orlando O. S.",
      "photoUrl": "https://lh3.googleusercontent.com/a-/AOh14Gj-E1yuy1M_3ruwN4TWYPK4BwysauSW7GQmHheS=s64",
      "userId": "15066502291703974467"
     },
     "user_tz": 180
    },
    "id": "u-z7p8TUothF",
    "outputId": "4c546082-5939-4636-b27d-130c16745499"
   },
   "outputs": [
    {
     "name": "stdout",
     "output_type": "stream",
     "text": [
      "E agora, José?\n",
      "A festa acabou,\n",
      "a luz apagou,\n",
      "o povo sumiu,\n",
      "a noite esfriou,\n",
      "e agora, José?\n",
      "e agora, você?\n",
      "você que é sem nome,\n",
      "que zomba dos outros,\n",
      "você que faz versos,\n",
      "que ama, protesta?\n",
      "e agora, José?\n",
      "\n",
      "...Carlos Drummond de Andrade\n",
      "\n"
     ]
    }
   ],
   "source": [
    "e_agora_jose = '''E agora, José?\n",
    "A festa acabou,\n",
    "a luz apagou,\n",
    "o povo sumiu,\n",
    "a noite esfriou,\n",
    "e agora, José?\n",
    "e agora, você?\n",
    "você que é sem nome,\n",
    "que zomba dos outros,\n",
    "você que faz versos,\n",
    "que ama, protesta?\n",
    "e agora, José?\n",
    "\n",
    "...Carlos Drummond de Andrade\n",
    "'''\n",
    "print(e_agora_jose)"
   ]
  },
  {
   "cell_type": "markdown",
   "metadata": {
    "id": "CLe3bCkApoO_"
   },
   "source": [
    "## Strings são Arrays de Caracteres\n",
    "Como no Python não tem um tipo de dados de caractere, um caractere e na verdade uma string com tamanho 1.\n",
    "\n"
   ]
  },
  {
   "cell_type": "code",
   "execution_count": 6,
   "metadata": {
    "id": "46V0GO9cqKXn"
   },
   "outputs": [],
   "source": [
    "letra = 'a'"
   ]
  },
  {
   "cell_type": "markdown",
   "metadata": {
    "id": "5t8zASBiqPGn"
   },
   "source": [
    "Os colchetes podem ser usados ​​para acessar os elementos da string, onde 0 (zero) corresponde ao posição do primeiro caracter."
   ]
  },
  {
   "cell_type": "code",
   "execution_count": 7,
   "metadata": {
    "colab": {
     "base_uri": "https://localhost:8080/",
     "height": 35
    },
    "executionInfo": {
     "elapsed": 730,
     "status": "ok",
     "timestamp": 1603326926528,
     "user": {
      "displayName": "Orlando O. S.",
      "photoUrl": "https://lh3.googleusercontent.com/a-/AOh14Gj-E1yuy1M_3ruwN4TWYPK4BwysauSW7GQmHheS=s64",
      "userId": "15066502291703974467"
     },
     "user_tz": 180
    },
    "id": "Wser-T67qU0m",
    "outputId": "c8fc8928-c18b-40c6-c2c7-8683e9eefd9b"
   },
   "outputs": [
    {
     "data": {
      "text/plain": [
       "'e'"
      ]
     },
     "execution_count": 7,
     "metadata": {},
     "output_type": "execute_result"
    }
   ],
   "source": [
    "nome = \"Jose\"\n",
    "nome[3]"
   ]
  },
  {
   "cell_type": "markdown",
   "metadata": {
    "id": "k9MH-dx7qxEP"
   },
   "source": [
    "## Como obter recortes de uma String\n",
    "\n",
    "Utiliza-se a sintaxe de recorte, especificado  índice inicial e o índice final, separados por dois pontos, para retornar uma parte da string."
   ]
  },
  {
   "cell_type": "code",
   "execution_count": 8,
   "metadata": {
    "colab": {
     "base_uri": "https://localhost:8080/",
     "height": 54
    },
    "executionInfo": {
     "elapsed": 924,
     "status": "ok",
     "timestamp": 1603326949251,
     "user": {
      "displayName": "Orlando O. S.",
      "photoUrl": "https://lh3.googleusercontent.com/a-/AOh14Gj-E1yuy1M_3ruwN4TWYPK4BwysauSW7GQmHheS=s64",
      "userId": "15066502291703974467"
     },
     "user_tz": 180
    },
    "id": "OIOxmx3zr82c",
    "outputId": "3f171781-2616-4e56-cb7e-c3180a9e326f"
   },
   "outputs": [
    {
     "name": "stdout",
     "output_type": "stream",
     "text": [
      "E agora, José? A festa acabou,a luz apagou,o povo sumiu,a noite esfriou,e agora, José?\n"
     ]
    }
   ],
   "source": [
    "e_agora_jose = \"E agora, José? A festa acabou,a luz apagou,o povo sumiu,a noite esfriou,e agora, José?\"\n",
    "print(e_agora_jose)"
   ]
  },
  {
   "cell_type": "code",
   "execution_count": 9,
   "metadata": {
    "colab": {
     "base_uri": "https://localhost:8080/",
     "height": 34
    },
    "executionInfo": {
     "elapsed": 663,
     "status": "ok",
     "timestamp": 1603326990103,
     "user": {
      "displayName": "Orlando O. S.",
      "photoUrl": "https://lh3.googleusercontent.com/a-/AOh14Gj-E1yuy1M_3ruwN4TWYPK4BwysauSW7GQmHheS=s64",
      "userId": "15066502291703974467"
     },
     "user_tz": 180
    },
    "id": "SDO2agLesEXX",
    "outputId": "fd8868ca-f4d9-4846-81b5-e43ede962210"
   },
   "outputs": [
    {
     "name": "stdout",
     "output_type": "stream",
     "text": [
      "A festa acabou,\n"
     ]
    }
   ],
   "source": [
    "print(e_agora_jose[15:30])"
   ]
  },
  {
   "cell_type": "markdown",
   "metadata": {
    "id": "XxvQb_-JwYmt"
   },
   "source": [
    "## Como obter recortes de uma String usando indexação negativa\n",
    "\n",
    "Utiliza-se a sintaxe de recorte, especificado  índice inicial e o índice final, mas utilizando como valores a substração da posição desejado no tamanho da string , separados por dois pontos."
   ]
  },
  {
   "cell_type": "code",
   "execution_count": 10,
   "metadata": {
    "colab": {
     "base_uri": "https://localhost:8080/",
     "height": 34
    },
    "executionInfo": {
     "elapsed": 710,
     "status": "ok",
     "timestamp": 1603327141941,
     "user": {
      "displayName": "Orlando O. S.",
      "photoUrl": "https://lh3.googleusercontent.com/a-/AOh14Gj-E1yuy1M_3ruwN4TWYPK4BwysauSW7GQmHheS=s64",
      "userId": "15066502291703974467"
     },
     "user_tz": 180
    },
    "id": "Hw75gxZfwYnA",
    "outputId": "e1d2cf7e-dcd3-4368-d1b6-739223a9aa35"
   },
   "outputs": [
    {
     "name": "stdout",
     "output_type": "stream",
     "text": [
      "agora, José\n"
     ]
    }
   ],
   "source": [
    "e_agora_jose = \"E agora, José? A festa acabou,a luz apagou,o povo sumiu,a noite esfriou,e agora, José?\"\n",
    "print(e_agora_jose[-12:-1])"
   ]
  },
  {
   "cell_type": "code",
   "execution_count": 11,
   "metadata": {
    "id": "9p_OHDEowFH1"
   },
   "outputs": [],
   "source": [
    "data = '2020-10-21'"
   ]
  },
  {
   "cell_type": "code",
   "execution_count": 12,
   "metadata": {
    "colab": {
     "base_uri": "https://localhost:8080/",
     "height": 34
    },
    "executionInfo": {
     "elapsed": 721,
     "status": "ok",
     "timestamp": 1603327302746,
     "user": {
      "displayName": "Orlando O. S.",
      "photoUrl": "https://lh3.googleusercontent.com/a-/AOh14Gj-E1yuy1M_3ruwN4TWYPK4BwysauSW7GQmHheS=s64",
      "userId": "15066502291703974467"
     },
     "user_tz": 180
    },
    "id": "FNR14hzIwKdJ",
    "outputId": "55e22447-6269-48e6-de55-ce9164477257"
   },
   "outputs": [
    {
     "name": "stdout",
     "output_type": "stream",
     "text": [
      "21\n"
     ]
    }
   ],
   "source": [
    "print(data[8:10])"
   ]
  },
  {
   "cell_type": "code",
   "execution_count": 13,
   "metadata": {
    "colab": {
     "base_uri": "https://localhost:8080/",
     "height": 34
    },
    "executionInfo": {
     "elapsed": 776,
     "status": "ok",
     "timestamp": 1603327323466,
     "user": {
      "displayName": "Orlando O. S.",
      "photoUrl": "https://lh3.googleusercontent.com/a-/AOh14Gj-E1yuy1M_3ruwN4TWYPK4BwysauSW7GQmHheS=s64",
      "userId": "15066502291703974467"
     },
     "user_tz": 180
    },
    "id": "BLQEc5ZSwUTo",
    "outputId": "761e5c08-494b-4169-d7cc-f6a10e262477"
   },
   "outputs": [
    {
     "name": "stdout",
     "output_type": "stream",
     "text": [
      "21\n"
     ]
    }
   ],
   "source": [
    "print(data[8:])"
   ]
  },
  {
   "cell_type": "code",
   "execution_count": 14,
   "metadata": {
    "colab": {
     "base_uri": "https://localhost:8080/",
     "height": 34
    },
    "executionInfo": {
     "elapsed": 912,
     "status": "ok",
     "timestamp": 1603327361499,
     "user": {
      "displayName": "Orlando O. S.",
      "photoUrl": "https://lh3.googleusercontent.com/a-/AOh14Gj-E1yuy1M_3ruwN4TWYPK4BwysauSW7GQmHheS=s64",
      "userId": "15066502291703974467"
     },
     "user_tz": 180
    },
    "id": "aQXWorfDwa8h",
    "outputId": "8f5dac62-7f0c-495e-90c0-c8941c9e54ba"
   },
   "outputs": [
    {
     "name": "stdout",
     "output_type": "stream",
     "text": [
      "21\n"
     ]
    }
   ],
   "source": [
    "print(data[-2:])"
   ]
  },
  {
   "cell_type": "code",
   "execution_count": 15,
   "metadata": {
    "id": "XgIydAKNwUqb"
   },
   "outputs": [
    {
     "name": "stdout",
     "output_type": "stream",
     "text": [
      "21\n"
     ]
    }
   ],
   "source": [
    "print(data[8:10])"
   ]
  },
  {
   "cell_type": "code",
   "execution_count": 16,
   "metadata": {
    "id": "CRmGQMf5wqVQ"
   },
   "outputs": [],
   "source": [
    "data = '2020-10-21'"
   ]
  },
  {
   "cell_type": "code",
   "execution_count": 17,
   "metadata": {
    "colab": {
     "base_uri": "https://localhost:8080/",
     "height": 34
    },
    "executionInfo": {
     "elapsed": 784,
     "status": "ok",
     "timestamp": 1603327440696,
     "user": {
      "displayName": "Orlando O. S.",
      "photoUrl": "https://lh3.googleusercontent.com/a-/AOh14Gj-E1yuy1M_3ruwN4TWYPK4BwysauSW7GQmHheS=s64",
      "userId": "15066502291703974467"
     },
     "user_tz": 180
    },
    "id": "W__Dp_yBwtXt",
    "outputId": "50553cc9-8ce9-46d4-c102-c32337a6f9a6"
   },
   "outputs": [
    {
     "name": "stdout",
     "output_type": "stream",
     "text": [
      "10\n"
     ]
    }
   ],
   "source": [
    "print(data[-5:-3])"
   ]
  },
  {
   "cell_type": "code",
   "execution_count": 18,
   "metadata": {
    "colab": {
     "base_uri": "https://localhost:8080/",
     "height": 34
    },
    "executionInfo": {
     "elapsed": 669,
     "status": "ok",
     "timestamp": 1603327599695,
     "user": {
      "displayName": "Orlando O. S.",
      "photoUrl": "https://lh3.googleusercontent.com/a-/AOh14Gj-E1yuy1M_3ruwN4TWYPK4BwysauSW7GQmHheS=s64",
      "userId": "15066502291703974467"
     },
     "user_tz": 180
    },
    "id": "kPs-2aq_w15K",
    "outputId": "8ec2e67f-65a1-458b-d820-e0300fdb5d59"
   },
   "outputs": [
    {
     "name": "stdout",
     "output_type": "stream",
     "text": [
      "10-21\n"
     ]
    }
   ],
   "source": [
    "print(data[5:])"
   ]
  },
  {
   "cell_type": "markdown",
   "metadata": {
    "id": "YfADBGBR1MdD"
   },
   "source": [
    "## Como saber o comprimento da string\n",
    "Para obter o comprimento de uma string, use a função len()"
   ]
  },
  {
   "cell_type": "code",
   "execution_count": 19,
   "metadata": {
    "colab": {
     "base_uri": "https://localhost:8080/",
     "height": 34
    },
    "executionInfo": {
     "elapsed": 857,
     "status": "ok",
     "timestamp": 1603327674779,
     "user": {
      "displayName": "Orlando O. S.",
      "photoUrl": "https://lh3.googleusercontent.com/a-/AOh14Gj-E1yuy1M_3ruwN4TWYPK4BwysauSW7GQmHheS=s64",
      "userId": "15066502291703974467"
     },
     "user_tz": 180
    },
    "id": "9F_RXAEB1egL",
    "outputId": "4c7d66ed-aba8-46a9-aa27-4f6357f49ae9"
   },
   "outputs": [
    {
     "data": {
      "text/plain": [
       "86"
      ]
     },
     "execution_count": 19,
     "metadata": {},
     "output_type": "execute_result"
    }
   ],
   "source": [
    "len(e_agora_jose)"
   ]
  },
  {
   "cell_type": "markdown",
   "metadata": {
    "id": "VFE1rlDLIWSR"
   },
   "source": [
    "## Leituras Adicionais e Referências:\n",
    "\n",
    "- Python Tutorial at W3Schools: https://www.w3schools.com/python/\n",
    "- Python official documentation: https://docs.python.org/3/tutorial/index.html"
   ]
  }
 ],
 "metadata": {
  "colab": {
   "authorship_tag": "ABX9TyPqaMvKGQWvZVIVtYamLa8C",
   "collapsed_sections": [],
   "name": "Aula 02 - Introdução à Linguagem de Python para Analytics e Data Science.ipynb",
   "provenance": [
    {
     "file_id": "1F82PJICoVYLAG6xN-xT_KhWKkvDxdro6",
     "timestamp": 1602697754653
    }
   ]
  },
  "kernelspec": {
   "display_name": "Python 3",
   "language": "python",
   "name": "python3"
  },
  "language_info": {
   "codemirror_mode": {
    "name": "ipython",
    "version": 3
   },
   "file_extension": ".py",
   "mimetype": "text/x-python",
   "name": "python",
   "nbconvert_exporter": "python",
   "pygments_lexer": "ipython3",
   "version": "3.7.8"
  }
 },
 "nbformat": 4,
 "nbformat_minor": 1
}
