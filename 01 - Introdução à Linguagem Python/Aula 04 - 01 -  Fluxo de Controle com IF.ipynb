{
 "cells": [
  {
   "cell_type": "markdown",
   "metadata": {
    "id": "uGqJJfZ36iR6"
   },
   "source": [
    "# 01 - Introdução à Linguagem Python\n",
    "## Aula 04 - 01 -  Fluxo de Controle com IF"
   ]
  },
  {
   "cell_type": "markdown",
   "metadata": {
    "id": "JNifjo59P9mf"
   },
   "source": [
    "## Professor: Orlando Oliveira dos Santos, MsC.\n",
    " - E-mail: professor.orlando.santos@gmail.com \n",
    " - Youtube :https://www.youtube.com/channel/UCPWWbkPWFmOjXH50TQWNAYg\n",
    " - Linkedin: https://linkedin.com/in/orlandoosantos\n",
    " - Facebook: https://www.facebook.com/proforlandosantosmsc/\n",
    " - Twitter: https://twitter.com/ProfOrlandoMsC\n",
    " - Instagram: https://www.instagram.com/proforlandosantosmsc/\n",
    "\n",
    "\n",
    "\n",
    "## Formação Acadêmica\n",
    "- Mestrado em Computação Aplicada - UnB (2014 – 2016)\t\n",
    "- MBA, Administração Estratégica de Sistemas de Informação – FGV (2011 – 2013)\n",
    "- Tecnólogo em Processamento de Dados, Análise e Desenvolvimento de Sistemas – FAETEC/SP (2000-2002)\n"
   ]
  },
  {
   "cell_type": "markdown",
   "metadata": {
    "id": "-wttXmB0JYuh"
   },
   "source": [
    "# Fluxo de Controle com IF"
   ]
  },
  {
   "cell_type": "markdown",
   "metadata": {
    "id": "mDmoP3WFwPjg"
   },
   "source": [
    "## Fluxo de controle usando instruções If;\n",
    "\n",
    "Python suporta as condições lógicas usuais da matemática por meio dos Operadores de comparação que são usados ​​para comparar dois valores\n",
    "\n",
    "Operador | Nome | Exemplo |\n",
    "--- | --- | --- | \n",
    "== | igual | x == y | \n",
    "!= | diferente | x != y | \n",
    "> | maior que | x > y | \n",
    "< | menor que | x < y | \n",
    ">= | maior ou igual | x >= y | \n",
    "<= | menor ou igual | x <= y |\n",
    "\n",
    "\n",
    "Esses operadores lógicos podem ser usados ​​para combinar declarações condicionais:\n",
    "\n",
    "Operador | Descrição | Exemplo \n",
    "--- | --- | --- \n",
    "and  | Retorna True if ambas afirmações forem true | x < 5 and  x < 10 | \n",
    "or | Retorna True se uma das afirmações for true | x < 5 or x < 4 | \n",
    "not | Invert o resultado, retorna False se o resultado for true | not(x < 5 and x < 10) | \n",
    "\n",
    "Esses operador são muito utilizados nas \"instruções if\" e loops.\n",
    "### Declaração if\n",
    "\n",
    "Uma \"declaração if\" é escrita usando a palavra-chave if ."
   ]
  },
  {
   "cell_type": "code",
   "execution_count": 1,
   "metadata": {
    "colab": {
     "base_uri": "https://localhost:8080/",
     "height": 34
    },
    "executionInfo": {
     "elapsed": 726,
     "status": "ok",
     "timestamp": 1603500051793,
     "user": {
      "displayName": "Orlando O. S.",
      "photoUrl": "https://lh3.googleusercontent.com/a-/AOh14Gj-E1yuy1M_3ruwN4TWYPK4BwysauSW7GQmHheS=s64",
      "userId": "15066502291703974467"
     },
     "user_tz": 180
    },
    "id": "yYGLhuHIYNp_",
    "outputId": "838bc00a-3d5b-4df4-c77f-12e6a0082051"
   },
   "outputs": [
    {
     "name": "stdout",
     "output_type": "stream",
     "text": [
      "Você é considerado um adulto, pois sua idade 25 é maior ou igual a 21 anos\n"
     ]
    }
   ],
   "source": [
    "idade = 25\n",
    "if idade >= 21:\n",
    "  print(f\"Você é considerado um adulto, pois sua idade {idade} é maior ou igual a 21 anos\")"
   ]
  },
  {
   "cell_type": "markdown",
   "metadata": {
    "id": "DMrooTFJfuQL"
   },
   "source": [
    "### else\n",
    "A palavra-chave else captura qualquer coisa que não seja capturada pelas condições anteriores."
   ]
  },
  {
   "cell_type": "code",
   "execution_count": 2,
   "metadata": {
    "colab": {
     "base_uri": "https://localhost:8080/",
     "height": 34
    },
    "executionInfo": {
     "elapsed": 740,
     "status": "ok",
     "timestamp": 1603500075183,
     "user": {
      "displayName": "Orlando O. S.",
      "photoUrl": "https://lh3.googleusercontent.com/a-/AOh14Gj-E1yuy1M_3ruwN4TWYPK4BwysauSW7GQmHheS=s64",
      "userId": "15066502291703974467"
     },
     "user_tz": 180
    },
    "id": "R4nWkXssf5sL",
    "outputId": "97e2167c-8132-47fa-c8fd-ef3222d5c1ce"
   },
   "outputs": [
    {
     "name": "stdout",
     "output_type": "stream",
     "text": [
      "Você é considerado um adulto, pois sua idade 25 é maior ou igual a 21 anos\n"
     ]
    }
   ],
   "source": [
    "idade = 25\n",
    "if idade >= 21:\n",
    "  print(f\"Você é considerado um adulto, pois sua idade {idade} é maior ou igual a 21 anos\")\n",
    "else:\n",
    "  print(f\"Você não é considerado um adulto, pois sua idade {idade} é menor que 21 anos\")"
   ]
  },
  {
   "cell_type": "markdown",
   "metadata": {
    "id": "RrPCbA1_YcHp"
   },
   "source": [
    "## elif\n",
    "A palavra-chave elif é uma abreviatura de 'else if' e um maneira de de informar ao python para que  \"se as condições anteriores não eram verdadeiras, tente esta condição\".\n",
    "\n"
   ]
  },
  {
   "cell_type": "code",
   "execution_count": 3,
   "metadata": {
    "id": "645ROqi8Y3qe"
   },
   "outputs": [
    {
     "name": "stdout",
     "output_type": "stream",
     "text": [
      "Vamos à praia!\n"
     ]
    }
   ],
   "source": [
    "temperatura = 40\n",
    "if temperatura < 0:\n",
    "  print('Temperatura congelante!')\n",
    "elif temperatura >= 0 and temperatura <20:\n",
    "  print('Que frio!')\n",
    "elif temperatura >= 20 and temperatura <25:\n",
    "  print('Que agradável!')\n",
    "else:\n",
    "  print('Vamos à praia!')"
   ]
  },
  {
   "cell_type": "markdown",
   "metadata": {
    "id": "lpwfcSiMhfz-"
   },
   "source": [
    "## Declarações if aninhadas"
   ]
  },
  {
   "cell_type": "code",
   "execution_count": 4,
   "metadata": {
    "colab": {
     "base_uri": "https://localhost:8080/",
     "height": 51
    },
    "executionInfo": {
     "elapsed": 663,
     "status": "ok",
     "timestamp": 1603500277955,
     "user": {
      "displayName": "Orlando O. S.",
      "photoUrl": "https://lh3.googleusercontent.com/a-/AOh14Gj-E1yuy1M_3ruwN4TWYPK4BwysauSW7GQmHheS=s64",
      "userId": "15066502291703974467"
     },
     "user_tz": 180
    },
    "id": "Mivn9azBZzGB",
    "outputId": "018b853e-a685-4d07-8bf4-62ea6d54794b"
   },
   "outputs": [
    {
     "name": "stdout",
     "output_type": "stream",
     "text": [
      "35 é impar\n",
      "35  é também divisível por 5\n"
     ]
    }
   ],
   "source": [
    "varnum = 35\n",
    "if varnum % 2 == 0:\n",
    "    print(\"{} é par\".format(varnum))\n",
    "    if varnum % 3 == 0:\n",
    "        print(\"{} é também divisível por 3\".format(varnum))\n",
    "    else:\n",
    "        print(\"{} mas não é divisível por 3\".format(varnum))\n",
    "else:\n",
    "    print(\"{} é impar\".format(varnum))\n",
    "    if varnum % 5 == 0:\n",
    "        print(\"{}  é também divisível por 5\".format(varnum))\n",
    "    else:\n",
    "        print(\"{} mas não é divisível por 5\".format(varnum))"
   ]
  },
  {
   "cell_type": "markdown",
   "metadata": {
    "id": "dVIpXZt6Z-n7"
   },
   "source": [
    "## A declaração pass\n",
    "\n",
    "O python não aceita a criação de uma condição sem pelo menos uma linha de comand para executar.\n",
    "\n",
    "Caso seja necessário indicar que Python não execute nada após uma condição seja atendida, utilize a declaração \"pass\""
   ]
  },
  {
   "cell_type": "code",
   "execution_count": 5,
   "metadata": {
    "colab": {
     "base_uri": "https://localhost:8080/",
     "height": 131
    },
    "executionInfo": {
     "elapsed": 750,
     "status": "error",
     "timestamp": 1603500312563,
     "user": {
      "displayName": "Orlando O. S.",
      "photoUrl": "https://lh3.googleusercontent.com/a-/AOh14Gj-E1yuy1M_3ruwN4TWYPK4BwysauSW7GQmHheS=s64",
      "userId": "15066502291703974467"
     },
     "user_tz": 180
    },
    "id": "BmU7tOaWjA-f",
    "outputId": "ebc6ec1d-071b-4c81-f8fc-f205ba15ac01"
   },
   "outputs": [
    {
     "ename": "SyntaxError",
     "evalue": "unexpected EOF while parsing (<ipython-input-5-be059ba0a882>, line 8)",
     "output_type": "error",
     "traceback": [
      "\u001b[1;36m  File \u001b[1;32m\"<ipython-input-5-be059ba0a882>\"\u001b[1;36m, line \u001b[1;32m8\u001b[0m\n\u001b[1;33m    else:\u001b[0m\n\u001b[1;37m         ^\u001b[0m\n\u001b[1;31mSyntaxError\u001b[0m\u001b[1;31m:\u001b[0m unexpected EOF while parsing\n"
     ]
    }
   ],
   "source": [
    "varnum = 20\n",
    "if varnum % 2 == 0:\n",
    "    print(\"{} é par\".format(varnum))\n",
    "    if varnum % 3 == 0:\n",
    "        print(\"{} é também divisível por 3\".format(varnum))\n",
    "    else:\n",
    "        print(\"{} mas não é divisível por 3\".format(varnum))\n",
    "else:\n"
   ]
  },
  {
   "cell_type": "code",
   "execution_count": 6,
   "metadata": {
    "colab": {
     "base_uri": "https://localhost:8080/",
     "height": 51
    },
    "executionInfo": {
     "elapsed": 737,
     "status": "ok",
     "timestamp": 1603500362859,
     "user": {
      "displayName": "Orlando O. S.",
      "photoUrl": "https://lh3.googleusercontent.com/a-/AOh14Gj-E1yuy1M_3ruwN4TWYPK4BwysauSW7GQmHheS=s64",
      "userId": "15066502291703974467"
     },
     "user_tz": 180
    },
    "id": "68gq78zeapGA",
    "outputId": "39a1238a-7e6f-4cac-ae67-a643c5225f81"
   },
   "outputs": [
    {
     "name": "stdout",
     "output_type": "stream",
     "text": [
      "20 é par\n",
      "20 mas não é divisível por 3\n"
     ]
    }
   ],
   "source": [
    "varnum = 20\n",
    "if varnum % 2 == 0:\n",
    "    print(\"{} é par\".format(varnum))\n",
    "    if varnum % 3 == 0:\n",
    "        print(\"{} é também divisível por 3\".format(varnum))\n",
    "    else:\n",
    "        print(\"{} mas não é divisível por 3\".format(varnum))\n",
    "else:\n",
    "    pass"
   ]
  },
  {
   "cell_type": "code",
   "execution_count": 7,
   "metadata": {
    "colab": {
     "base_uri": "https://localhost:8080/",
     "height": 34
    },
    "executionInfo": {
     "elapsed": 710,
     "status": "ok",
     "timestamp": 1603500415883,
     "user": {
      "displayName": "Orlando O. S.",
      "photoUrl": "https://lh3.googleusercontent.com/a-/AOh14Gj-E1yuy1M_3ruwN4TWYPK4BwysauSW7GQmHheS=s64",
      "userId": "15066502291703974467"
     },
     "user_tz": 180
    },
    "id": "BJdKbT9BjEGz",
    "outputId": "60e28050-ed3d-401d-b9fb-59054dfbb197"
   },
   "outputs": [
    {
     "name": "stdout",
     "output_type": "stream",
     "text": [
      "14 é par\n"
     ]
    }
   ],
   "source": [
    "varnum = 14\n",
    "if varnum % 2 == 0:\n",
    "    print(\"{} é par\".format(varnum))\n",
    "    if varnum % 3 == 0:\n",
    "        print(\"{} é também divisível por 3\".format(varnum))\n",
    "    else:\n",
    "        pass\n",
    "else:\n",
    "    pass"
   ]
  },
  {
   "cell_type": "markdown",
   "metadata": {
    "id": "TE6iGSSjapRt"
   },
   "source": [
    "## if com expressão condicional abreviada\n",
    "\n",
    "Pode ser usada quando apenas um comando será executado se a condição for ou não atendida."
   ]
  },
  {
   "cell_type": "code",
   "execution_count": 8,
   "metadata": {
    "colab": {
     "base_uri": "https://localhost:8080/",
     "height": 35
    },
    "executionInfo": {
     "elapsed": 726,
     "status": "ok",
     "timestamp": 1603500572890,
     "user": {
      "displayName": "Orlando O. S.",
      "photoUrl": "https://lh3.googleusercontent.com/a-/AOh14Gj-E1yuy1M_3ruwN4TWYPK4BwysauSW7GQmHheS=s64",
      "userId": "15066502291703974467"
     },
     "user_tz": 180
    },
    "id": "pzh8AfsiFAAF",
    "outputId": "769cda28-8e62-421d-f45f-031ab0d6c1dc"
   },
   "outputs": [
    {
     "data": {
      "text/plain": [
       "'Positivo'"
      ]
     },
     "execution_count": 8,
     "metadata": {},
     "output_type": "execute_result"
    }
   ],
   "source": [
    "x = 45\n",
    "if x >= 0:\n",
    "  y = 'Positivo' \n",
    "else: \n",
    "  y = 'Negativo'\n",
    "\n",
    "y"
   ]
  },
  {
   "cell_type": "code",
   "execution_count": 9,
   "metadata": {
    "colab": {
     "base_uri": "https://localhost:8080/",
     "height": 34
    },
    "executionInfo": {
     "elapsed": 686,
     "status": "ok",
     "timestamp": 1603500587435,
     "user": {
      "displayName": "Orlando O. S.",
      "photoUrl": "https://lh3.googleusercontent.com/a-/AOh14Gj-E1yuy1M_3ruwN4TWYPK4BwysauSW7GQmHheS=s64",
      "userId": "15066502291703974467"
     },
     "user_tz": 180
    },
    "id": "NmpGFyadaptG",
    "outputId": "34542f6c-d15f-4d8b-ac00-db163bb864fc"
   },
   "outputs": [
    {
     "name": "stdout",
     "output_type": "stream",
     "text": [
      "45 Positivo\n"
     ]
    }
   ],
   "source": [
    "x = 45\n",
    "y = 'Positivo' if x >= 0 else 'Negativo'\n",
    "print(x, y)"
   ]
  },
  {
   "cell_type": "code",
   "execution_count": 10,
   "metadata": {
    "colab": {
     "base_uri": "https://localhost:8080/",
     "height": 34
    },
    "executionInfo": {
     "elapsed": 714,
     "status": "ok",
     "timestamp": 1603500602481,
     "user": {
      "displayName": "Orlando O. S.",
      "photoUrl": "https://lh3.googleusercontent.com/a-/AOh14Gj-E1yuy1M_3ruwN4TWYPK4BwysauSW7GQmHheS=s64",
      "userId": "15066502291703974467"
     },
     "user_tz": 180
    },
    "id": "rFqt2ppX8Ej_",
    "outputId": "44b87b56-406f-462c-c144-6d5ad6ae1b4d"
   },
   "outputs": [
    {
     "name": "stdout",
     "output_type": "stream",
     "text": [
      "-45 Negativo\n"
     ]
    }
   ],
   "source": [
    "x = -45\n",
    "y = 'Positivo' if x >= 0 else 'Negativo'\n",
    "print(x, y)"
   ]
  },
  {
   "cell_type": "markdown",
   "metadata": {
    "id": "TBnsUa1gYgbz"
   },
   "source": [
    "\n",
    "### Condições Não Booleanas\n",
    "Observe que as condições não precisam ser necessariamente booleanas. Na verdade, uma condição pode ter qualquer valor. O valor é convertido em um booleano automaticamente.. \n",
    "\n",
    "Relembrando que a grande maioria dos valores quando avaliados pelo função bool(), retornam valor True;   \n",
    "Principalmente: \n",
    " - Se tiver algum tipo de conteúdo.\n",
    " - Qualquer string com valor, que não sejam vazias.\n",
    " - Qualquer número, exceto 0.\n",
    " - Qualquer lista, tupla, Set e dicionário, exceto se vazios.\n",
    "### Alguns são Falsos\n",
    "Alguns valores são falsos\n",
    "- valor False (obviamente)\n",
    "- Valores vazios, tais como (), [], {}, \"\", ''\n",
    "- número 0e\n",
    "- valor None\n",
    "\n",
    "\n"
   ]
  },
  {
   "cell_type": "code",
   "execution_count": 11,
   "metadata": {
    "colab": {
     "base_uri": "https://localhost:8080/",
     "height": 34
    },
    "executionInfo": {
     "elapsed": 761,
     "status": "ok",
     "timestamp": 1603500679318,
     "user": {
      "displayName": "Orlando O. S.",
      "photoUrl": "https://lh3.googleusercontent.com/a-/AOh14Gj-E1yuy1M_3ruwN4TWYPK4BwysauSW7GQmHheS=s64",
      "userId": "15066502291703974467"
     },
     "user_tz": 180
    },
    "id": "pXndoCx0dGhR",
    "outputId": "b3565f7c-a543-43cd-d237-9ffaa6af073b"
   },
   "outputs": [
    {
     "name": "stdout",
     "output_type": "stream",
     "text": [
      "A condição foi avalidada para False\n"
     ]
    }
   ],
   "source": [
    "var = ''\n",
    "if var:\n",
    "    print('A condição foi avalidada para True')\n",
    "else:\n",
    "    print('A condição foi avalidada para False')"
   ]
  },
  {
   "cell_type": "code",
   "execution_count": 12,
   "metadata": {
    "colab": {
     "base_uri": "https://localhost:8080/",
     "height": 34
    },
    "executionInfo": {
     "elapsed": 769,
     "status": "ok",
     "timestamp": 1603500689117,
     "user": {
      "displayName": "Orlando O. S.",
      "photoUrl": "https://lh3.googleusercontent.com/a-/AOh14Gj-E1yuy1M_3ruwN4TWYPK4BwysauSW7GQmHheS=s64",
      "userId": "15066502291703974467"
     },
     "user_tz": 180
    },
    "id": "stiP5XzweSCU",
    "outputId": "ed662895-4b0c-4b95-9930-0ae3d284db1c"
   },
   "outputs": [
    {
     "name": "stdout",
     "output_type": "stream",
     "text": [
      "A condição foi avalidada para True\n"
     ]
    }
   ],
   "source": [
    "var = 'José'\n",
    "if var:\n",
    "    print('A condição foi avalidada para True')\n",
    "else:\n",
    "    print('A condição foi avalidada para False')"
   ]
  },
  {
   "cell_type": "code",
   "execution_count": 13,
   "metadata": {
    "colab": {
     "base_uri": "https://localhost:8080/",
     "height": 34
    },
    "executionInfo": {
     "elapsed": 711,
     "status": "ok",
     "timestamp": 1603500694710,
     "user": {
      "displayName": "Orlando O. S.",
      "photoUrl": "https://lh3.googleusercontent.com/a-/AOh14Gj-E1yuy1M_3ruwN4TWYPK4BwysauSW7GQmHheS=s64",
      "userId": "15066502291703974467"
     },
     "user_tz": 180
    },
    "id": "Lhq3C-DBdT_1",
    "outputId": "e6860297-94f4-4623-9842-667c9a09d1d6"
   },
   "outputs": [
    {
     "name": "stdout",
     "output_type": "stream",
     "text": [
      "A condição foi avalidada para False\n"
     ]
    }
   ],
   "source": [
    " var = {}\n",
    "if var:  \n",
    "    print('A condição foi avalidada para True')\n",
    "else:\n",
    "    print('A condição foi avalidada para False')"
   ]
  },
  {
   "cell_type": "code",
   "execution_count": 14,
   "metadata": {
    "colab": {
     "base_uri": "https://localhost:8080/",
     "height": 34
    },
    "executionInfo": {
     "elapsed": 744,
     "status": "ok",
     "timestamp": 1603500701066,
     "user": {
      "displayName": "Orlando O. S.",
      "photoUrl": "https://lh3.googleusercontent.com/a-/AOh14Gj-E1yuy1M_3ruwN4TWYPK4BwysauSW7GQmHheS=s64",
      "userId": "15066502291703974467"
     },
     "user_tz": 180
    },
    "id": "Dc2RP9cJdUS4",
    "outputId": "bd733e6b-48ee-4864-fb03-d7597cd38ebb"
   },
   "outputs": [
    {
     "name": "stdout",
     "output_type": "stream",
     "text": [
      "A condição foi avalidada para False\n"
     ]
    }
   ],
   "source": [
    "var = None\n",
    "if var:  \n",
    "    print('A condição foi avalidada para True')\n",
    "else:\n",
    "    print('A condição foi avalidada para False')"
   ]
  },
  {
   "cell_type": "code",
   "execution_count": 15,
   "metadata": {
    "colab": {
     "base_uri": "https://localhost:8080/",
     "height": 34
    },
    "executionInfo": {
     "elapsed": 744,
     "status": "ok",
     "timestamp": 1603500713129,
     "user": {
      "displayName": "Orlando O. S.",
      "photoUrl": "https://lh3.googleusercontent.com/a-/AOh14Gj-E1yuy1M_3ruwN4TWYPK4BwysauSW7GQmHheS=s64",
      "userId": "15066502291703974467"
     },
     "user_tz": 180
    },
    "id": "apEP7lXQdUof",
    "outputId": "22193ea4-c85b-4be9-e592-1e22f1facff9"
   },
   "outputs": [
    {
     "name": "stdout",
     "output_type": "stream",
     "text": [
      "A condição foi avalidada para True\n"
     ]
    }
   ],
   "source": [
    "var = (1, 2, 3, 4)\n",
    "if var:  \n",
    "    print('A condição foi avalidada para True')\n",
    "else:\n",
    "    print('A condição foi avalidada para False')"
   ]
  },
  {
   "cell_type": "code",
   "execution_count": 16,
   "metadata": {
    "colab": {
     "base_uri": "https://localhost:8080/",
     "height": 34
    },
    "executionInfo": {
     "elapsed": 700,
     "status": "ok",
     "timestamp": 1603500722977,
     "user": {
      "displayName": "Orlando O. S.",
      "photoUrl": "https://lh3.googleusercontent.com/a-/AOh14Gj-E1yuy1M_3ruwN4TWYPK4BwysauSW7GQmHheS=s64",
      "userId": "15066502291703974467"
     },
     "user_tz": 180
    },
    "id": "-crVm-Kldofo",
    "outputId": "6e64419b-2178-41ae-d6a7-233b1db57b50"
   },
   "outputs": [
    {
     "name": "stdout",
     "output_type": "stream",
     "text": [
      "A condição foi avalidada para True\n"
     ]
    }
   ],
   "source": [
    "var = {1 : \"primeiro\", 2 : \"segundo\", 3 : \"terceiro\", 4 : \"quarto\"}\n",
    "if var:  \n",
    "    print('A condição foi avalidada para True')\n",
    "else:\n",
    "    print('A condição foi avalidada para False')"
   ]
  },
  {
   "cell_type": "code",
   "execution_count": 17,
   "metadata": {
    "colab": {
     "base_uri": "https://localhost:8080/",
     "height": 34
    },
    "executionInfo": {
     "elapsed": 746,
     "status": "ok",
     "timestamp": 1603500751054,
     "user": {
      "displayName": "Orlando O. S.",
      "photoUrl": "https://lh3.googleusercontent.com/a-/AOh14Gj-E1yuy1M_3ruwN4TWYPK4BwysauSW7GQmHheS=s64",
      "userId": "15066502291703974467"
     },
     "user_tz": 180
    },
    "id": "L37pBNI0doo_",
    "outputId": "cceb9150-65a3-4041-ecc8-fddbd4e3c3fb"
   },
   "outputs": [
    {
     "name": "stdout",
     "output_type": "stream",
     "text": [
      "A condição foi avalidada para True\n"
     ]
    }
   ],
   "source": [
    "var = [1, 2, 3, 4]\n",
    "if var: \n",
    "    print('A condição foi avalidada para True')\n",
    "else:\n",
    "    print('A condição foi avalidada para False')"
   ]
  },
  {
   "cell_type": "markdown",
   "metadata": {
    "id": "DX9JWKhxX1xn"
   },
   "source": [
    "## Leituras Adicionais e Referências:\n",
    "\n",
    "- Python Tutorial at W3Schools: https://www.w3schools.com/python/\n",
    "- Python official documentation: https://docs.python.org/3/tutorial/index.html"
   ]
  }
 ],
 "metadata": {
  "colab": {
   "authorship_tag": "ABX9TyPQGZW7xZfj3PwpSqgARmfR",
   "collapsed_sections": [],
   "name": "Aula 03 - Introdução à Linguagem de Python para Analytics e Data Science.ipynb",
   "provenance": [
    {
     "file_id": "1F82PJICoVYLAG6xN-xT_KhWKkvDxdro6",
     "timestamp": 1603324877816
    }
   ]
  },
  "kernelspec": {
   "display_name": "Python 3",
   "language": "python",
   "name": "python3"
  },
  "language_info": {
   "codemirror_mode": {
    "name": "ipython",
    "version": 3
   },
   "file_extension": ".py",
   "mimetype": "text/x-python",
   "name": "python",
   "nbconvert_exporter": "python",
   "pygments_lexer": "ipython3",
   "version": "3.7.8"
  }
 },
 "nbformat": 4,
 "nbformat_minor": 1
}
