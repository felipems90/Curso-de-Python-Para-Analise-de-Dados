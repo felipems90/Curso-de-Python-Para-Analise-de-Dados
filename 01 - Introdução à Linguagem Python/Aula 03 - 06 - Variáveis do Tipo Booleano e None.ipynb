{
 "cells": [
  {
   "cell_type": "markdown",
   "metadata": {
    "id": "uGqJJfZ36iR6"
   },
   "source": [
    "# 01 - Introdução à Linguagem Python\n",
    "## Aula 03 - 06 - Variáveis do Tipo Booleano e None"
   ]
  },
  {
   "cell_type": "markdown",
   "metadata": {
    "id": "JNifjo59P9mf"
   },
   "source": [
    "## Professor: Orlando Oliveira dos Santos, MsC.\n",
    " - E-mail: professor.orlando.santos@gmail.com \n",
    " - Youtube :https://www.youtube.com/channel/UCPWWbkPWFmOjXH50TQWNAYg\n",
    " - Linkedin: https://linkedin.com/in/orlandoosantos\n",
    " - Facebook: https://www.facebook.com/proforlandosantosmsc/\n",
    " - Twitter: https://twitter.com/ProfOrlandoMsC\n",
    " - Instagram: https://www.instagram.com/proforlandosantosmsc/\n",
    "\n",
    "## Formação Acadêmica\n",
    "- Mestrado em Computação Aplicada - UnB (2014 – 2016)\t\n",
    "- MBA, Administração Estratégica de Sistemas de Informação – FGV (2011 – 2013)\n",
    "- Tecnólogo em Processamento de Dados, Análise e Desenvolvimento de Sistemas – FAETEC/SP (2000-2002)"
   ]
  },
  {
   "cell_type": "markdown",
   "metadata": {
    "id": "aItHDT5Og3wz"
   },
   "source": [
    "# Variáveis do Tipo Booleano e None"
   ]
  },
  {
   "cell_type": "markdown",
   "metadata": {
    "id": "nPcJ6LSg-0vt"
   },
   "source": [
    "As valores booleanos representam um de dois valores: True ou False (Não pode ser true ou false)"
   ]
  },
  {
   "cell_type": "code",
   "execution_count": 1,
   "metadata": {
    "colab": {
     "base_uri": "https://localhost:8080/",
     "height": 51
    },
    "executionInfo": {
     "elapsed": 837,
     "status": "ok",
     "timestamp": 1603499278536,
     "user": {
      "displayName": "Orlando O. S.",
      "photoUrl": "https://lh3.googleusercontent.com/a-/AOh14Gj-E1yuy1M_3ruwN4TWYPK4BwysauSW7GQmHheS=s64",
      "userId": "15066502291703974467"
     },
     "user_tz": 180
    },
    "id": "N5xbkEFW_StM",
    "outputId": "d43bb4f0-04d3-4659-fa05-51f7074b6af6"
   },
   "outputs": [
    {
     "name": "stdout",
     "output_type": "stream",
     "text": [
      "True\n",
      "False\n"
     ]
    }
   ],
   "source": [
    "bolvar = True\n",
    "print(bolvar)\n",
    "\n",
    "bolvar = False\n",
    "print(bolvar)"
   ]
  },
  {
   "cell_type": "code",
   "execution_count": 2,
   "metadata": {
    "colab": {
     "base_uri": "https://localhost:8080/",
     "height": 165
    },
    "executionInfo": {
     "elapsed": 773,
     "status": "error",
     "timestamp": 1603499287330,
     "user": {
      "displayName": "Orlando O. S.",
      "photoUrl": "https://lh3.googleusercontent.com/a-/AOh14Gj-E1yuy1M_3ruwN4TWYPK4BwysauSW7GQmHheS=s64",
      "userId": "15066502291703974467"
     },
     "user_tz": 180
    },
    "id": "r03L_k1v_hiM",
    "outputId": "685bb8e8-f4a3-4c31-a0f9-e8fe828bd032"
   },
   "outputs": [
    {
     "ename": "NameError",
     "evalue": "name 'true' is not defined",
     "output_type": "error",
     "traceback": [
      "\u001b[1;31m---------------------------------------------------------------------------\u001b[0m",
      "\u001b[1;31mNameError\u001b[0m                                 Traceback (most recent call last)",
      "\u001b[1;32m<ipython-input-2-5247ce7aa299>\u001b[0m in \u001b[0;36m<module>\u001b[1;34m\u001b[0m\n\u001b[1;32m----> 1\u001b[1;33m \u001b[0mbolvar\u001b[0m \u001b[1;33m=\u001b[0m \u001b[0mtrue\u001b[0m\u001b[1;33m\u001b[0m\u001b[1;33m\u001b[0m\u001b[0m\n\u001b[0m",
      "\u001b[1;31mNameError\u001b[0m: name 'true' is not defined"
     ]
    }
   ],
   "source": [
    "bolvar = true"
   ]
  },
  {
   "cell_type": "markdown",
   "metadata": {
    "id": "2w7oOZuM_uo_"
   },
   "source": [
    "#### Valores booleanos podem são obtidos quando se avalia expressões em Pyton."
   ]
  },
  {
   "cell_type": "code",
   "execution_count": 3,
   "metadata": {
    "colab": {
     "base_uri": "https://localhost:8080/",
     "height": 155
    },
    "executionInfo": {
     "elapsed": 780,
     "status": "ok",
     "timestamp": 1603499313028,
     "user": {
      "displayName": "Orlando O. S.",
      "photoUrl": "https://lh3.googleusercontent.com/a-/AOh14Gj-E1yuy1M_3ruwN4TWYPK4BwysauSW7GQmHheS=s64",
      "userId": "15066502291703974467"
     },
     "user_tz": 180
    },
    "id": "-Cc5wy3qAn2M",
    "outputId": "2fde4513-9fd9-4d4b-f7a9-2b789f591151"
   },
   "outputs": [
    {
     "name": "stdout",
     "output_type": "stream",
     "text": [
      "True\n",
      "False\n",
      "True\n",
      "False\n",
      "True\n",
      "False\n",
      "False\n",
      "True\n"
     ]
    }
   ],
   "source": [
    "print(140 > 80)\n",
    "print(140 < 80)\n",
    "print(14 < 20)\n",
    "print(14 > 20)\n",
    "print(10 == 10)\n",
    "print(10 != 10)\n",
    "print(10 == 12)\n",
    "print(10 != 12)"
   ]
  },
  {
   "cell_type": "markdown",
   "metadata": {
    "id": "TUkVHK2kB7HC"
   },
   "source": [
    "#### Valores booleanos são intensivamente utilizado para o desenvolvimento dos fluxo de operação de programas de computadores"
   ]
  },
  {
   "cell_type": "code",
   "execution_count": 4,
   "metadata": {
    "colab": {
     "base_uri": "https://localhost:8080/",
     "height": 34
    },
    "executionInfo": {
     "elapsed": 729,
     "status": "ok",
     "timestamp": 1603499350518,
     "user": {
      "displayName": "Orlando O. S.",
      "photoUrl": "https://lh3.googleusercontent.com/a-/AOh14Gj-E1yuy1M_3ruwN4TWYPK4BwysauSW7GQmHheS=s64",
      "userId": "15066502291703974467"
     },
     "user_tz": 180
    },
    "id": "g5mZ8OAFBTg1",
    "outputId": "8342f407-f30e-4b07-9768-0730e3e799b0"
   },
   "outputs": [
    {
     "name": "stdout",
     "output_type": "stream",
     "text": [
      "Você é considerado um adulto, pois sua idade é maior ou igual a 21 anos\n"
     ]
    }
   ],
   "source": [
    "idade = 25\n",
    "if idade >= 21:\n",
    "  print(f\"Você é considerado um adulto, pois sua idade é maior ou igual a 21 anos\")\n",
    "else:\n",
    "  print(f\"Você não é considerado um adulto, pois sua idade é menor que 21 anos\")"
   ]
  },
  {
   "cell_type": "markdown",
   "metadata": {
    "id": "lBaxP4y-EEut"
   },
   "source": [
    "### Verificar o correspondente booleano de uma variável ou valor\n",
    "\n",
    "A função bool() permite que você avaliar qualquer valor e retornar o corresponde em valores booleanos True e False.\n"
   ]
  },
  {
   "cell_type": "code",
   "execution_count": 5,
   "metadata": {
    "colab": {
     "base_uri": "https://localhost:8080/",
     "height": 34
    },
    "executionInfo": {
     "elapsed": 809,
     "status": "ok",
     "timestamp": 1603499426088,
     "user": {
      "displayName": "Orlando O. S.",
      "photoUrl": "https://lh3.googleusercontent.com/a-/AOh14Gj-E1yuy1M_3ruwN4TWYPK4BwysauSW7GQmHheS=s64",
      "userId": "15066502291703974467"
     },
     "user_tz": 180
    },
    "id": "LbT551lxEjZI",
    "outputId": "538d1316-eb2f-45b3-ed3e-dc3649a89240"
   },
   "outputs": [
    {
     "name": "stdout",
     "output_type": "stream",
     "text": [
      "True\n"
     ]
    }
   ],
   "source": [
    "x = \"0\"\n",
    "print(bool(x))"
   ]
  },
  {
   "cell_type": "code",
   "execution_count": 6,
   "metadata": {
    "colab": {
     "base_uri": "https://localhost:8080/",
     "height": 34
    },
    "executionInfo": {
     "elapsed": 733,
     "status": "ok",
     "timestamp": 1603499462039,
     "user": {
      "displayName": "Orlando O. S.",
      "photoUrl": "https://lh3.googleusercontent.com/a-/AOh14Gj-E1yuy1M_3ruwN4TWYPK4BwysauSW7GQmHheS=s64",
      "userId": "15066502291703974467"
     },
     "user_tz": 180
    },
    "id": "F0HMBzRbExlk",
    "outputId": "c5d37b0e-f3bd-4cb6-8ef3-5c3a504afb77"
   },
   "outputs": [
    {
     "name": "stdout",
     "output_type": "stream",
     "text": [
      "True\n"
     ]
    }
   ],
   "source": [
    "x = \"1\"\n",
    "print(bool(x))"
   ]
  },
  {
   "cell_type": "code",
   "execution_count": 7,
   "metadata": {
    "colab": {
     "base_uri": "https://localhost:8080/",
     "height": 34
    },
    "executionInfo": {
     "elapsed": 704,
     "status": "ok",
     "timestamp": 1603499469487,
     "user": {
      "displayName": "Orlando O. S.",
      "photoUrl": "https://lh3.googleusercontent.com/a-/AOh14Gj-E1yuy1M_3ruwN4TWYPK4BwysauSW7GQmHheS=s64",
      "userId": "15066502291703974467"
     },
     "user_tz": 180
    },
    "id": "ivbWHEIREx0D",
    "outputId": "3e8fdf48-0c63-4dc0-ee4b-fae2ba859c8c"
   },
   "outputs": [
    {
     "name": "stdout",
     "output_type": "stream",
     "text": [
      "False\n"
     ]
    }
   ],
   "source": [
    "x = 0\n",
    "print(bool(x))"
   ]
  },
  {
   "cell_type": "code",
   "execution_count": 8,
   "metadata": {
    "colab": {
     "base_uri": "https://localhost:8080/",
     "height": 34
    },
    "executionInfo": {
     "elapsed": 784,
     "status": "ok",
     "timestamp": 1603499479391,
     "user": {
      "displayName": "Orlando O. S.",
      "photoUrl": "https://lh3.googleusercontent.com/a-/AOh14Gj-E1yuy1M_3ruwN4TWYPK4BwysauSW7GQmHheS=s64",
      "userId": "15066502291703974467"
     },
     "user_tz": 180
    },
    "id": "z5y6LBJnE4Wf",
    "outputId": "d84819f0-67b0-4c2c-afcd-5e45fb6e3de7"
   },
   "outputs": [
    {
     "name": "stdout",
     "output_type": "stream",
     "text": [
      "True\n"
     ]
    }
   ],
   "source": [
    "x = 1\n",
    "print(bool(x))"
   ]
  },
  {
   "cell_type": "code",
   "execution_count": 9,
   "metadata": {
    "colab": {
     "base_uri": "https://localhost:8080/",
     "height": 34
    },
    "executionInfo": {
     "elapsed": 725,
     "status": "ok",
     "timestamp": 1603499490077,
     "user": {
      "displayName": "Orlando O. S.",
      "photoUrl": "https://lh3.googleusercontent.com/a-/AOh14Gj-E1yuy1M_3ruwN4TWYPK4BwysauSW7GQmHheS=s64",
      "userId": "15066502291703974467"
     },
     "user_tz": 180
    },
    "id": "2wI8E-baE4sy",
    "outputId": "223781b2-e9d8-41ca-aad6-4f9ca1df9bd4"
   },
   "outputs": [
    {
     "name": "stdout",
     "output_type": "stream",
     "text": [
      "True\n"
     ]
    }
   ],
   "source": [
    "x = \"José\"\n",
    "print(bool(x))"
   ]
  },
  {
   "cell_type": "code",
   "execution_count": 10,
   "metadata": {
    "colab": {
     "base_uri": "https://localhost:8080/",
     "height": 34
    },
    "executionInfo": {
     "elapsed": 637,
     "status": "ok",
     "timestamp": 1603499492970,
     "user": {
      "displayName": "Orlando O. S.",
      "photoUrl": "https://lh3.googleusercontent.com/a-/AOh14Gj-E1yuy1M_3ruwN4TWYPK4BwysauSW7GQmHheS=s64",
      "userId": "15066502291703974467"
     },
     "user_tz": 180
    },
    "id": "PeZthVUEEyBS",
    "outputId": "92cea24c-28fe-434c-baf0-8eb77e6742da"
   },
   "outputs": [
    {
     "name": "stdout",
     "output_type": "stream",
     "text": [
      "True\n"
     ]
    }
   ],
   "source": [
    "x = \"True\"\n",
    "print(bool(x))"
   ]
  },
  {
   "cell_type": "code",
   "execution_count": 11,
   "metadata": {
    "colab": {
     "base_uri": "https://localhost:8080/",
     "height": 34
    },
    "executionInfo": {
     "elapsed": 772,
     "status": "ok",
     "timestamp": 1603499500654,
     "user": {
      "displayName": "Orlando O. S.",
      "photoUrl": "https://lh3.googleusercontent.com/a-/AOh14Gj-E1yuy1M_3ruwN4TWYPK4BwysauSW7GQmHheS=s64",
      "userId": "15066502291703974467"
     },
     "user_tz": 180
    },
    "id": "b3KBTyMCEyNS",
    "outputId": "12665539-9834-4e83-d0ca-86fe1af2fb6c"
   },
   "outputs": [
    {
     "name": "stdout",
     "output_type": "stream",
     "text": [
      "True\n"
     ]
    }
   ],
   "source": [
    "x = \"False\"\n",
    "print(bool(x))"
   ]
  },
  {
   "cell_type": "code",
   "execution_count": 12,
   "metadata": {
    "colab": {
     "base_uri": "https://localhost:8080/",
     "height": 34
    },
    "executionInfo": {
     "elapsed": 771,
     "status": "ok",
     "timestamp": 1603499532347,
     "user": {
      "displayName": "Orlando O. S.",
      "photoUrl": "https://lh3.googleusercontent.com/a-/AOh14Gj-E1yuy1M_3ruwN4TWYPK4BwysauSW7GQmHheS=s64",
      "userId": "15066502291703974467"
     },
     "user_tz": 180
    },
    "id": "Phlfk1vuEybD",
    "outputId": "c23c643f-b30e-42c1-b15c-c1c77c837951"
   },
   "outputs": [
    {
     "name": "stdout",
     "output_type": "stream",
     "text": [
      "False\n"
     ]
    }
   ],
   "source": [
    "x = None\n",
    "print(bool(x))"
   ]
  },
  {
   "cell_type": "markdown",
   "metadata": {
    "id": "2fXo62Z_FRlm"
   },
   "source": [
    "### A grande maioria dos valores quando avaliados pelo função bool(), retornam valor True;   \n",
    "Principalmente: \n",
    " - Se tiver algum tipo de conteúdo.\n",
    " - Qualquer string com valor, que não sejam vazias.\n",
    " - Qualquer número, exceto 0.\n",
    " - Qualquer lista, tupla, Set e dicionário, exceto se vazios.\n",
    "\n",
    "\n"
   ]
  },
  {
   "cell_type": "code",
   "execution_count": 13,
   "metadata": {
    "colab": {
     "base_uri": "https://localhost:8080/",
     "height": 173
    },
    "executionInfo": {
     "elapsed": 855,
     "status": "ok",
     "timestamp": 1603499566334,
     "user": {
      "displayName": "Orlando O. S.",
      "photoUrl": "https://lh3.googleusercontent.com/a-/AOh14Gj-E1yuy1M_3ruwN4TWYPK4BwysauSW7GQmHheS=s64",
      "userId": "15066502291703974467"
     },
     "user_tz": 180
    },
    "id": "6tZkuPSlGutG",
    "outputId": "4bc3416f-7bab-4819-8dc4-2e8e65e4a7f7"
   },
   "outputs": [
    {
     "name": "stdout",
     "output_type": "stream",
     "text": [
      "(1, 2, 3, 4) True\n",
      "[1, 2, 3, 4] True\n",
      "{1 : \"primeiro\", 2 : \"segundo\", 3 : \"terceiro\", 4 : \"quarto\"} True\n",
      "Jose True\n",
      "Jose True\n",
      "1 True\n",
      "10 True\n",
      "100 True\n",
      "0 False\n"
     ]
    }
   ],
   "source": [
    "print('(1, 2, 3, 4)',bool((1, 2, 3, 4)))\n",
    "print('[1, 2, 3, 4]',bool([1, 2, 3, 4]))\n",
    "print('{1 : \"primeiro\", 2 : \"segundo\", 3 : \"terceiro\", 4 : \"quarto\"}',bool({1 : \"primeiro\", 2 : \"segundo\", 3 : \"terceiro\", 4 : \"quarto\"}))\n",
    "print('Jose',bool('Jose'))\n",
    "print(\"Jose\",bool(\"Jose\"))\n",
    "print(1,bool(1))\n",
    "print(10,bool(10))\n",
    "print(100,bool(100))\n",
    "print(0,bool(0))"
   ]
  },
  {
   "cell_type": "markdown",
   "metadata": {
    "id": "nZ6FqSqeHpm0"
   },
   "source": [
    "### Alguns são Falsos\n",
    "Alguns valores são falsos\n",
    "- valor False (obviamente)\n",
    "- Valores vazios, tais como (), [], {}, \"\", ''\n",
    "- número 0e\n",
    "- valor None"
   ]
  },
  {
   "cell_type": "code",
   "execution_count": 14,
   "metadata": {
    "colab": {
     "base_uri": "https://localhost:8080/",
     "height": 103
    },
    "executionInfo": {
     "elapsed": 640,
     "status": "ok",
     "timestamp": 1603499602344,
     "user": {
      "displayName": "Orlando O. S.",
      "photoUrl": "https://lh3.googleusercontent.com/a-/AOh14Gj-E1yuy1M_3ruwN4TWYPK4BwysauSW7GQmHheS=s64",
      "userId": "15066502291703974467"
     },
     "user_tz": 180
    },
    "id": "Wf2wKBDmGHkT",
    "outputId": "5d14560c-01ab-400e-b9ed-98ecab9ea162"
   },
   "outputs": [
    {
     "name": "stdout",
     "output_type": "stream",
     "text": [
      "() False\n",
      "[] False\n",
      "{} False\n",
      "\"\" False\n",
      "'' False\n"
     ]
    }
   ],
   "source": [
    "print('()',bool(()))\n",
    "print('[]',bool([]))\n",
    "print('{}',bool({}))\n",
    "print('\"\"',bool(\"\"))\n",
    "print(\"''\",bool(''))"
   ]
  },
  {
   "cell_type": "markdown",
   "metadata": {
    "id": "poVy2LnyJnpl"
   },
   "source": [
    "### Variável tipo None\n",
    "None é um tipo de dados próprio (NoneType) usada para definir que um valor é nulo.  Não deve ser confundido com o 0 zero, False ou uma string vazia. \n"
   ]
  },
  {
   "cell_type": "code",
   "execution_count": 15,
   "metadata": {
    "colab": {
     "base_uri": "https://localhost:8080/",
     "height": 34
    },
    "executionInfo": {
     "elapsed": 898,
     "status": "ok",
     "timestamp": 1603499665496,
     "user": {
      "displayName": "Orlando O. S.",
      "photoUrl": "https://lh3.googleusercontent.com/a-/AOh14Gj-E1yuy1M_3ruwN4TWYPK4BwysauSW7GQmHheS=s64",
      "userId": "15066502291703974467"
     },
     "user_tz": 180
    },
    "id": "ize2DwGpKSYV",
    "outputId": "d243018d-c73c-4c67-f1a9-01318e2150ec"
   },
   "outputs": [
    {
     "name": "stdout",
     "output_type": "stream",
     "text": [
      "None <class 'NoneType'>\n"
     ]
    }
   ],
   "source": [
    "var = None\n",
    "print(var, type(var))"
   ]
  },
  {
   "cell_type": "code",
   "execution_count": 16,
   "metadata": {
    "colab": {
     "base_uri": "https://localhost:8080/",
     "height": 34
    },
    "executionInfo": {
     "elapsed": 802,
     "status": "ok",
     "timestamp": 1603499679243,
     "user": {
      "displayName": "Orlando O. S.",
      "photoUrl": "https://lh3.googleusercontent.com/a-/AOh14Gj-E1yuy1M_3ruwN4TWYPK4BwysauSW7GQmHheS=s64",
      "userId": "15066502291703974467"
     },
     "user_tz": 180
    },
    "id": "slZ9ZrkgKgz8",
    "outputId": "7dcf74d2-7c29-45b3-d89e-0620080c06c3"
   },
   "outputs": [
    {
     "data": {
      "text/plain": [
       "True"
      ]
     },
     "execution_count": 16,
     "metadata": {},
     "output_type": "execute_result"
    }
   ],
   "source": [
    "var == None"
   ]
  },
  {
   "cell_type": "code",
   "execution_count": 17,
   "metadata": {
    "colab": {
     "base_uri": "https://localhost:8080/",
     "height": 34
    },
    "executionInfo": {
     "elapsed": 729,
     "status": "ok",
     "timestamp": 1603499691493,
     "user": {
      "displayName": "Orlando O. S.",
      "photoUrl": "https://lh3.googleusercontent.com/a-/AOh14Gj-E1yuy1M_3ruwN4TWYPK4BwysauSW7GQmHheS=s64",
      "userId": "15066502291703974467"
     },
     "user_tz": 180
    },
    "id": "7GwvEd9QKjtH",
    "outputId": "b8a78f08-e591-4af4-a53b-4d43869143a9"
   },
   "outputs": [
    {
     "data": {
      "text/plain": [
       "True"
      ]
     },
     "execution_count": 17,
     "metadata": {},
     "output_type": "execute_result"
    }
   ],
   "source": [
    "var is None"
   ]
  },
  {
   "cell_type": "code",
   "execution_count": 18,
   "metadata": {
    "colab": {
     "base_uri": "https://localhost:8080/",
     "height": 34
    },
    "executionInfo": {
     "elapsed": 773,
     "status": "ok",
     "timestamp": 1603499702892,
     "user": {
      "displayName": "Orlando O. S.",
      "photoUrl": "https://lh3.googleusercontent.com/a-/AOh14Gj-E1yuy1M_3ruwN4TWYPK4BwysauSW7GQmHheS=s64",
      "userId": "15066502291703974467"
     },
     "user_tz": 180
    },
    "id": "lh_7h23GKosX",
    "outputId": "91e09c32-9b5d-4036-c863-d2ae462113b4"
   },
   "outputs": [
    {
     "data": {
      "text/plain": [
       "False"
      ]
     },
     "execution_count": 18,
     "metadata": {},
     "output_type": "execute_result"
    }
   ],
   "source": [
    "var = 0\n",
    "var == None"
   ]
  },
  {
   "cell_type": "code",
   "execution_count": 19,
   "metadata": {
    "colab": {
     "base_uri": "https://localhost:8080/",
     "height": 34
    },
    "executionInfo": {
     "elapsed": 939,
     "status": "ok",
     "timestamp": 1603499706550,
     "user": {
      "displayName": "Orlando O. S.",
      "photoUrl": "https://lh3.googleusercontent.com/a-/AOh14Gj-E1yuy1M_3ruwN4TWYPK4BwysauSW7GQmHheS=s64",
      "userId": "15066502291703974467"
     },
     "user_tz": 180
    },
    "id": "ASGbAqLHKuZw",
    "outputId": "db36cb7d-bbf7-426e-a3eb-1bd528fade66"
   },
   "outputs": [
    {
     "data": {
      "text/plain": [
       "False"
      ]
     },
     "execution_count": 19,
     "metadata": {},
     "output_type": "execute_result"
    }
   ],
   "source": [
    "var = ''\n",
    "var == None"
   ]
  },
  {
   "cell_type": "markdown",
   "metadata": {
    "id": "VFE1rlDLIWSR"
   },
   "source": [
    "## Leituras Adicionais e Referências:\n",
    "\n",
    "- Python Tutorial at W3Schools: https://www.w3schools.com/python/\n",
    "- Python official documentation: https://docs.python.org/3/tutorial/index.html"
   ]
  }
 ],
 "metadata": {
  "colab": {
   "authorship_tag": "ABX9TyPqaMvKGQWvZVIVtYamLa8C",
   "collapsed_sections": [],
   "name": "Aula 02 - Introdução à Linguagem de Python para Analytics e Data Science.ipynb",
   "provenance": [
    {
     "file_id": "1F82PJICoVYLAG6xN-xT_KhWKkvDxdro6",
     "timestamp": 1602697754653
    }
   ]
  },
  "kernelspec": {
   "display_name": "Python 3",
   "language": "python",
   "name": "python3"
  },
  "language_info": {
   "codemirror_mode": {
    "name": "ipython",
    "version": 3
   },
   "file_extension": ".py",
   "mimetype": "text/x-python",
   "name": "python",
   "nbconvert_exporter": "python",
   "pygments_lexer": "ipython3",
   "version": "3.7.8"
  }
 },
 "nbformat": 4,
 "nbformat_minor": 1
}
