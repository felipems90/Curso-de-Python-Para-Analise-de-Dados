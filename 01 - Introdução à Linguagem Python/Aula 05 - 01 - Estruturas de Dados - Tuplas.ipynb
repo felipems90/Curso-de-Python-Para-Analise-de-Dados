{
 "cells": [
  {
   "cell_type": "markdown",
   "metadata": {
    "id": "uGqJJfZ36iR6"
   },
   "source": [
    "# 01 - Introdução à Linguagem Python\n",
    "## Aula 05 - 01 - Estruturas de Dados - Tuplas"
   ]
  },
  {
   "cell_type": "markdown",
   "metadata": {
    "id": "JNifjo59P9mf"
   },
   "source": [
    "## Professor: Orlando Oliveira dos Santos, MsC.\n",
    " - E-mail: professor.orlando.santos@gmail.com \n",
    " - Youtube :https://www.youtube.com/channel/UCPWWbkPWFmOjXH50TQWNAYg\n",
    " - Linkedin: https://linkedin.com/in/orlandoosantos\n",
    " - Facebook: https://www.facebook.com/proforlandosantosmsc/\n",
    " - Twitter: https://twitter.com/ProfOrlandoMsC\n",
    " - Instagram: https://www.instagram.com/proforlandosantosmsc/\n",
    "\n",
    "\n",
    "\n",
    "## Formação Acadêmica\n",
    "- Mestrado em Computação Aplicada - UnB (2014 – 2016)\t\n",
    "- MBA, Administração Estratégica de Sistemas de Informação – FGV (2011 – 2013)\n",
    "- Tecnólogo em Processamento de Dados, Análise e Desenvolvimento de Sistemas – FAETEC/SP (2000-2002)\n"
   ]
  },
  {
   "cell_type": "markdown",
   "metadata": {
    "id": "-wttXmB0JYuh"
   },
   "source": [
    "# Estruturas de Dados - Tuplas"
   ]
  },
  {
   "cell_type": "markdown",
   "metadata": {
    "id": "CBWeMNKOZoMU"
   },
   "source": [
    "## Tuplas em Python\n",
    "\n",
    "## tuple\n",
    "- Coleção ordenada e imutável\n",
    "- São declaradas com colchetes."
   ]
  },
  {
   "cell_type": "code",
   "execution_count": 1,
   "metadata": {
    "colab": {
     "base_uri": "https://localhost:8080/",
     "height": 35
    },
    "executionInfo": {
     "elapsed": 1010,
     "status": "ok",
     "timestamp": 1603758359902,
     "user": {
      "displayName": "Orlando O. S.",
      "photoUrl": "https://lh3.googleusercontent.com/a-/AOh14Gj-E1yuy1M_3ruwN4TWYPK4BwysauSW7GQmHheS=s64",
      "userId": "15066502291703974467"
     },
     "user_tz": 180
    },
    "id": "Bd0ezR84hR1E",
    "outputId": "452823a5-f6f6-4b0b-8093-1ea100f63954"
   },
   "outputs": [
    {
     "name": "stdout",
     "output_type": "stream",
     "text": [
      "('Norte', 'Sul', 'Sudeste', 'Nordeste', 'Centro Oeste')\n"
     ]
    }
   ],
   "source": [
    "tupla_regioes = (\"Norte\", \"Sul\", \"Sudeste\",\"Nordeste\", \"Centro Oeste\")\n",
    "print(tupla_regioes)"
   ]
  },
  {
   "cell_type": "code",
   "execution_count": 2,
   "metadata": {
    "colab": {
     "base_uri": "https://localhost:8080/",
     "height": 35
    },
    "executionInfo": {
     "elapsed": 1028,
     "status": "ok",
     "timestamp": 1603758382595,
     "user": {
      "displayName": "Orlando O. S.",
      "photoUrl": "https://lh3.googleusercontent.com/a-/AOh14Gj-E1yuy1M_3ruwN4TWYPK4BwysauSW7GQmHheS=s64",
      "userId": "15066502291703974467"
     },
     "user_tz": 180
    },
    "id": "h0SD26Yecq1E",
    "outputId": "3f75b3d0-77d2-4c0b-ed8a-a791e3a94a3e"
   },
   "outputs": [
    {
     "data": {
      "text/plain": [
       "tuple"
      ]
     },
     "execution_count": 2,
     "metadata": {},
     "output_type": "execute_result"
    }
   ],
   "source": [
    "type(tupla_regioes)"
   ]
  },
  {
   "cell_type": "code",
   "execution_count": 3,
   "metadata": {
    "colab": {
     "base_uri": "https://localhost:8080/",
     "height": 35
    },
    "executionInfo": {
     "elapsed": 976,
     "status": "ok",
     "timestamp": 1603758463454,
     "user": {
      "displayName": "Orlando O. S.",
      "photoUrl": "https://lh3.googleusercontent.com/a-/AOh14Gj-E1yuy1M_3ruwN4TWYPK4BwysauSW7GQmHheS=s64",
      "userId": "15066502291703974467"
     },
     "user_tz": 180
    },
    "id": "Gnk0iL2Nc-MQ",
    "outputId": "3b998e77-2f81-460c-8908-b76ee94dfe96"
   },
   "outputs": [
    {
     "name": "stdout",
     "output_type": "stream",
     "text": [
      "('Norte', 1, 'Sudeste', 3, 'Centro Oeste')\n"
     ]
    }
   ],
   "source": [
    "tupla_regioes = (\"Norte\", 1, \"Sudeste\",3, \"Centro Oeste\")\n",
    "print(tupla_regioes)"
   ]
  },
  {
   "cell_type": "markdown",
   "metadata": {
    "id": "oeQj29HchR1I"
   },
   "source": [
    "### Acessar itens da tupla\n",
    "Para acessar itens de tupla utilize o número do índice, entre colchetes:\n"
   ]
  },
  {
   "cell_type": "code",
   "execution_count": 4,
   "metadata": {
    "colab": {
     "base_uri": "https://localhost:8080/",
     "height": 35
    },
    "executionInfo": {
     "elapsed": 763,
     "status": "ok",
     "timestamp": 1603758526748,
     "user": {
      "displayName": "Orlando O. S.",
      "photoUrl": "https://lh3.googleusercontent.com/a-/AOh14Gj-E1yuy1M_3ruwN4TWYPK4BwysauSW7GQmHheS=s64",
      "userId": "15066502291703974467"
     },
     "user_tz": 180
    },
    "id": "EcESWTZhhR1I",
    "outputId": "2fef7d04-dbf1-4181-abdf-31946c6ea3f8"
   },
   "outputs": [
    {
     "name": "stdout",
     "output_type": "stream",
     "text": [
      "Sul\n"
     ]
    }
   ],
   "source": [
    "tupla_regioes = (\"Norte\", \"Sul\", \"Sudeste\",\"Nordeste\", \"Centro Oeste\")\n",
    "print(tupla_regioes[1])"
   ]
  },
  {
   "cell_type": "markdown",
   "metadata": {
    "id": "00P9XM2vhR1L"
   },
   "source": [
    "Também pode se usar Indexação Negativa"
   ]
  },
  {
   "cell_type": "code",
   "execution_count": 5,
   "metadata": {
    "colab": {
     "base_uri": "https://localhost:8080/",
     "height": 35
    },
    "executionInfo": {
     "elapsed": 723,
     "status": "ok",
     "timestamp": 1603758565765,
     "user": {
      "displayName": "Orlando O. S.",
      "photoUrl": "https://lh3.googleusercontent.com/a-/AOh14Gj-E1yuy1M_3ruwN4TWYPK4BwysauSW7GQmHheS=s64",
      "userId": "15066502291703974467"
     },
     "user_tz": 180
    },
    "id": "bfHVN_wXhR1M",
    "outputId": "02b83583-4856-4b43-ea30-945db1827beb"
   },
   "outputs": [
    {
     "name": "stdout",
     "output_type": "stream",
     "text": [
      "Centro Oeste\n"
     ]
    }
   ],
   "source": [
    "tupla_regioes = (\"Norte\", \"Sul\", \"Sudeste\",\"Nordeste\", \"Centro Oeste\")\n",
    "print(tupla_regioes[-1])"
   ]
  },
  {
   "cell_type": "markdown",
   "metadata": {
    "id": "dP78NMJihR1P"
   },
   "source": [
    "Ou intervalo de  índices"
   ]
  },
  {
   "cell_type": "code",
   "execution_count": 6,
   "metadata": {
    "colab": {
     "base_uri": "https://localhost:8080/",
     "height": 35
    },
    "executionInfo": {
     "elapsed": 783,
     "status": "ok",
     "timestamp": 1603758653941,
     "user": {
      "displayName": "Orlando O. S.",
      "photoUrl": "https://lh3.googleusercontent.com/a-/AOh14Gj-E1yuy1M_3ruwN4TWYPK4BwysauSW7GQmHheS=s64",
      "userId": "15066502291703974467"
     },
     "user_tz": 180
    },
    "id": "_GjI01RXhR1P",
    "outputId": "4dbbf1fb-6639-4172-efe2-ff97e1668cdb"
   },
   "outputs": [
    {
     "name": "stdout",
     "output_type": "stream",
     "text": [
      "('Sudeste', 'Nordeste', 'Centro Oeste')\n"
     ]
    }
   ],
   "source": [
    "tupla_regioes = (\"Norte\", \"Sul\", \"Sudeste\",\"Nordeste\", \"Centro Oeste\", \"Noroeste\", \"Leste\" )\n",
    "print(tupla_regioes[2:5])"
   ]
  },
  {
   "cell_type": "markdown",
   "metadata": {
    "id": "mOmc2Bx1hR1S"
   },
   "source": [
    "Por intervalo usando indexação negativa"
   ]
  },
  {
   "cell_type": "code",
   "execution_count": 7,
   "metadata": {
    "colab": {
     "base_uri": "https://localhost:8080/",
     "height": 35
    },
    "executionInfo": {
     "elapsed": 808,
     "status": "ok",
     "timestamp": 1603751816990,
     "user": {
      "displayName": "Orlando O. S.",
      "photoUrl": "https://lh3.googleusercontent.com/a-/AOh14Gj-E1yuy1M_3ruwN4TWYPK4BwysauSW7GQmHheS=s64",
      "userId": "15066502291703974467"
     },
     "user_tz": 180
    },
    "id": "VtPKaPbIhR1T",
    "outputId": "76127496-3af1-44e9-da53-926fdb15e43c"
   },
   "outputs": [
    {
     "name": "stdout",
     "output_type": "stream",
     "text": [
      "('Nordeste', 'Centro Oeste', 'Noroeste')\n"
     ]
    }
   ],
   "source": [
    "tupla_regioes = (\"Norte\", \"Sul\", \"Sudeste\",\"Nordeste\", \"Centro Oeste\", \"Noroeste\", \"Leste\" )\n",
    "print(tupla_regioes[-4:-1])"
   ]
  },
  {
   "cell_type": "code",
   "execution_count": 8,
   "metadata": {
    "colab": {
     "base_uri": "https://localhost:8080/",
     "height": 35
    },
    "executionInfo": {
     "elapsed": 852,
     "status": "ok",
     "timestamp": 1603758811246,
     "user": {
      "displayName": "Orlando O. S.",
      "photoUrl": "https://lh3.googleusercontent.com/a-/AOh14Gj-E1yuy1M_3ruwN4TWYPK4BwysauSW7GQmHheS=s64",
      "userId": "15066502291703974467"
     },
     "user_tz": 180
    },
    "id": "Z0aHaPyJeCwp",
    "outputId": "2209959d-4f3d-489d-95e2-ae8b7160653e"
   },
   "outputs": [
    {
     "name": "stdout",
     "output_type": "stream",
     "text": [
      "('Nordeste', 'Centro Oeste', 'Noroeste', 'Leste')\n"
     ]
    }
   ],
   "source": [
    "print(tupla_regioes[-4:])"
   ]
  },
  {
   "cell_type": "code",
   "execution_count": 9,
   "metadata": {
    "colab": {
     "base_uri": "https://localhost:8080/",
     "height": 35
    },
    "executionInfo": {
     "elapsed": 924,
     "status": "ok",
     "timestamp": 1603758837135,
     "user": {
      "displayName": "Orlando O. S.",
      "photoUrl": "https://lh3.googleusercontent.com/a-/AOh14Gj-E1yuy1M_3ruwN4TWYPK4BwysauSW7GQmHheS=s64",
      "userId": "15066502291703974467"
     },
     "user_tz": 180
    },
    "id": "Gjl_jhcOeaJR",
    "outputId": "b01f3593-9c36-456d-f38e-2d9640c6d569"
   },
   "outputs": [
    {
     "name": "stdout",
     "output_type": "stream",
     "text": [
      "('Norte', 'Sul', 'Sudeste')\n"
     ]
    }
   ],
   "source": [
    "print(tupla_regioes[:-4])"
   ]
  },
  {
   "cell_type": "markdown",
   "metadata": {
    "id": "ruTysbiChR1W"
   },
   "source": [
    "### Alterar os valores da tupla\n",
    "Como as tuplas são imutáveis ou imutáveis, a alternativa é converter a tupla em uma lista, alterar a lista e converter a lista novamente em uma tupla."
   ]
  },
  {
   "cell_type": "code",
   "execution_count": 10,
   "metadata": {
    "colab": {
     "base_uri": "https://localhost:8080/",
     "height": 34
    },
    "executionInfo": {
     "elapsed": 811,
     "status": "ok",
     "timestamp": 1603759006302,
     "user": {
      "displayName": "Orlando O. S.",
      "photoUrl": "https://lh3.googleusercontent.com/a-/AOh14Gj-E1yuy1M_3ruwN4TWYPK4BwysauSW7GQmHheS=s64",
      "userId": "15066502291703974467"
     },
     "user_tz": 180
    },
    "id": "qSCoaDDkhR1W",
    "outputId": "d9a08399-8de8-479c-c18a-3de161e7e24e"
   },
   "outputs": [
    {
     "name": "stdout",
     "output_type": "stream",
     "text": [
      "('Norte', 'SUL', 'Sudeste', 'Nordeste', 'Centro Oeste')\n"
     ]
    }
   ],
   "source": [
    "x = (\"Norte\", \"Sul\", \"Sudeste\",\"Nordeste\", \"Centro Oeste\")\n",
    "y = list(x)\n",
    "y[1] = \"SUL\"\n",
    "x = tuple(y)\n",
    "\n",
    "print(x)"
   ]
  },
  {
   "cell_type": "markdown",
   "metadata": {
    "id": "IB_EnIrohR1Z"
   },
   "source": [
    "### Loop através de uma tupla usando um forloop."
   ]
  },
  {
   "cell_type": "code",
   "execution_count": 11,
   "metadata": {
    "colab": {
     "base_uri": "https://localhost:8080/",
     "height": 104
    },
    "executionInfo": {
     "elapsed": 865,
     "status": "ok",
     "timestamp": 1603751936205,
     "user": {
      "displayName": "Orlando O. S.",
      "photoUrl": "https://lh3.googleusercontent.com/a-/AOh14Gj-E1yuy1M_3ruwN4TWYPK4BwysauSW7GQmHheS=s64",
      "userId": "15066502291703974467"
     },
     "user_tz": 180
    },
    "id": "l-znKOAohR1a",
    "outputId": "36b76e86-5732-45c5-e808-8206f61ff282"
   },
   "outputs": [
    {
     "name": "stdout",
     "output_type": "stream",
     "text": [
      "Norte\n",
      "Sul\n",
      "Sudeste\n",
      "Nordeste\n",
      "Centro Oeste\n"
     ]
    }
   ],
   "source": [
    "tupla_regioes = (\"Norte\", \"Sul\", \"Sudeste\",\"Nordeste\", \"Centro Oeste\")\n",
    "for x in tupla_regioes:\n",
    "  print(x)\n",
    "  "
   ]
  },
  {
   "cell_type": "markdown",
   "metadata": {
    "id": "RBb2k2oYhR1c"
   },
   "source": [
    "### Verificar se o item existe na tupla\n"
   ]
  },
  {
   "cell_type": "code",
   "execution_count": 12,
   "metadata": {
    "colab": {
     "base_uri": "https://localhost:8080/",
     "height": 34
    },
    "executionInfo": {
     "elapsed": 895,
     "status": "ok",
     "timestamp": 1603759162702,
     "user": {
      "displayName": "Orlando O. S.",
      "photoUrl": "https://lh3.googleusercontent.com/a-/AOh14Gj-E1yuy1M_3ruwN4TWYPK4BwysauSW7GQmHheS=s64",
      "userId": "15066502291703974467"
     },
     "user_tz": 180
    },
    "id": "NGKmh4aKhR1d",
    "outputId": "0eebd1de-fa6a-4ad1-c277-2f455d2c1487"
   },
   "outputs": [
    {
     "name": "stdout",
     "output_type": "stream",
     "text": [
      "Sim, 'Sul' está na tupla de regiões\n"
     ]
    }
   ],
   "source": [
    "tupla_regioes = (\"Norte\", \"Sul\", \"Sudeste\",\"Nordeste\", \"Centro Oeste\")\n",
    "if \"Sul\" in tupla_regioes:\n",
    "  print(\"Sim, 'Sul' está na tupla de regiões\")\n",
    "  "
   ]
  },
  {
   "cell_type": "markdown",
   "metadata": {
    "id": "SwppRUYKhR1f"
   },
   "source": [
    "### Verificar o tamanho da Tupla\n",
    "Para determinar quantos itens uma tupla tem, use o método len():\n"
   ]
  },
  {
   "cell_type": "code",
   "execution_count": 13,
   "metadata": {
    "colab": {
     "base_uri": "https://localhost:8080/",
     "height": 34
    },
    "executionInfo": {
     "elapsed": 973,
     "status": "ok",
     "timestamp": 1603759192585,
     "user": {
      "displayName": "Orlando O. S.",
      "photoUrl": "https://lh3.googleusercontent.com/a-/AOh14Gj-E1yuy1M_3ruwN4TWYPK4BwysauSW7GQmHheS=s64",
      "userId": "15066502291703974467"
     },
     "user_tz": 180
    },
    "id": "akejRslkEhpU",
    "outputId": "43bb9df1-00e6-4491-9e60-cb37f6e262dc"
   },
   "outputs": [
    {
     "name": "stdout",
     "output_type": "stream",
     "text": [
      "5\n"
     ]
    }
   ],
   "source": [
    "tupla_regioes = (\"Norte\", \"Sul\", \"Sudeste\",\"Nordeste\", \"Centro Oeste\")\n",
    "print(len(tupla_regioes))"
   ]
  },
  {
   "cell_type": "markdown",
   "metadata": {
    "id": "4QOFrN4rEh2g"
   },
   "source": [
    "### Adicionar itens a uma tupla\n",
    "Não se pode adicionar itens a uma tupla, depois que uma tupla é criada. As tuplas são imutáveis ."
   ]
  },
  {
   "cell_type": "code",
   "execution_count": 14,
   "metadata": {
    "colab": {
     "base_uri": "https://localhost:8080/",
     "height": 201
    },
    "executionInfo": {
     "elapsed": 917,
     "status": "error",
     "timestamp": 1603752194703,
     "user": {
      "displayName": "Orlando O. S.",
      "photoUrl": "https://lh3.googleusercontent.com/a-/AOh14Gj-E1yuy1M_3ruwN4TWYPK4BwysauSW7GQmHheS=s64",
      "userId": "15066502291703974467"
     },
     "user_tz": 180
    },
    "id": "cOXO17u3hR1g",
    "outputId": "8ab28447-6745-4795-9f04-69d8869e2254"
   },
   "outputs": [
    {
     "ename": "TypeError",
     "evalue": "'tuple' object does not support item assignment",
     "output_type": "error",
     "traceback": [
      "\u001b[1;31m---------------------------------------------------------------------------\u001b[0m",
      "\u001b[1;31mTypeError\u001b[0m                                 Traceback (most recent call last)",
      "\u001b[1;32m<ipython-input-14-1ec3c89f477f>\u001b[0m in \u001b[0;36m<module>\u001b[1;34m\u001b[0m\n\u001b[0;32m      1\u001b[0m \u001b[0mtupla_regioes\u001b[0m \u001b[1;33m=\u001b[0m \u001b[1;33m(\u001b[0m\u001b[1;34m\"Norte\"\u001b[0m\u001b[1;33m,\u001b[0m \u001b[1;34m\"Sul\"\u001b[0m\u001b[1;33m,\u001b[0m \u001b[1;34m\"Sudeste\"\u001b[0m\u001b[1;33m,\u001b[0m\u001b[1;34m\"Nordeste\"\u001b[0m\u001b[1;33m,\u001b[0m \u001b[1;34m\"Centro Oeste\"\u001b[0m\u001b[1;33m)\u001b[0m\u001b[1;33m\u001b[0m\u001b[1;33m\u001b[0m\u001b[0m\n\u001b[1;32m----> 2\u001b[1;33m \u001b[0mtupla_regioes\u001b[0m\u001b[1;33m[\u001b[0m\u001b[1;36m3\u001b[0m\u001b[1;33m]\u001b[0m \u001b[1;33m=\u001b[0m \u001b[1;34m\"Noroeste\"\u001b[0m \u001b[1;31m# Vai causar erro\u001b[0m\u001b[1;33m\u001b[0m\u001b[1;33m\u001b[0m\u001b[0m\n\u001b[0m\u001b[0;32m      3\u001b[0m \u001b[0mprint\u001b[0m\u001b[1;33m(\u001b[0m\u001b[0mtupla_regioes\u001b[0m\u001b[1;33m)\u001b[0m\u001b[1;33m\u001b[0m\u001b[1;33m\u001b[0m\u001b[0m\n",
      "\u001b[1;31mTypeError\u001b[0m: 'tuple' object does not support item assignment"
     ]
    }
   ],
   "source": [
    "tupla_regioes = (\"Norte\", \"Sul\", \"Sudeste\",\"Nordeste\", \"Centro Oeste\")\n",
    "tupla_regioes[3] = \"Noroeste\" # Vai causar erro\n",
    "print(tupla_regioes)"
   ]
  },
  {
   "cell_type": "code",
   "execution_count": 15,
   "metadata": {
    "colab": {
     "base_uri": "https://localhost:8080/",
     "height": 35
    },
    "executionInfo": {
     "elapsed": 1053,
     "status": "ok",
     "timestamp": 1603759280860,
     "user": {
      "displayName": "Orlando O. S.",
      "photoUrl": "https://lh3.googleusercontent.com/a-/AOh14Gj-E1yuy1M_3ruwN4TWYPK4BwysauSW7GQmHheS=s64",
      "userId": "15066502291703974467"
     },
     "user_tz": 180
    },
    "id": "XIqQueFsgA00",
    "outputId": "116b6795-d16b-4568-e628-70f2c4479d90"
   },
   "outputs": [
    {
     "name": "stdout",
     "output_type": "stream",
     "text": [
      "('Norte', 'Sul', 'Sudeste', 'Nordeste', 'Centro Oeste', 'Leste')\n"
     ]
    }
   ],
   "source": [
    "x = (\"Norte\", \"Sul\", \"Sudeste\",\"Nordeste\", \"Centro Oeste\")\n",
    "y = list(x)\n",
    "y.append(\"Leste\")\n",
    "x = tuple(y)\n",
    "\n",
    "print(x)"
   ]
  },
  {
   "cell_type": "code",
   "execution_count": 16,
   "metadata": {
    "colab": {
     "base_uri": "https://localhost:8080/",
     "height": 35
    },
    "executionInfo": {
     "elapsed": 986,
     "status": "ok",
     "timestamp": 1603759743471,
     "user": {
      "displayName": "Orlando O. S.",
      "photoUrl": "https://lh3.googleusercontent.com/a-/AOh14Gj-E1yuy1M_3ruwN4TWYPK4BwysauSW7GQmHheS=s64",
      "userId": "15066502291703974467"
     },
     "user_tz": 180
    },
    "id": "Xu3z4MERhseJ",
    "outputId": "bc60ae41-034b-447a-ba8f-09f3488b811a"
   },
   "outputs": [
    {
     "name": "stdout",
     "output_type": "stream",
     "text": [
      "['Norte', 'Sul', 'Sudeste', 'Nordeste', 'Centro Oeste']\n"
     ]
    }
   ],
   "source": [
    "x = [\"Norte\", \"Sul\", \"Sudeste\",\"Nordeste\", \"Centro Oeste\"]\n",
    "print(x)"
   ]
  },
  {
   "cell_type": "code",
   "execution_count": 17,
   "metadata": {
    "colab": {
     "base_uri": "https://localhost:8080/",
     "height": 35
    },
    "executionInfo": {
     "elapsed": 920,
     "status": "ok",
     "timestamp": 1603759776440,
     "user": {
      "displayName": "Orlando O. S.",
      "photoUrl": "https://lh3.googleusercontent.com/a-/AOh14Gj-E1yuy1M_3ruwN4TWYPK4BwysauSW7GQmHheS=s64",
      "userId": "15066502291703974467"
     },
     "user_tz": 180
    },
    "id": "cTz0HwdriAVq",
    "outputId": "0a29aee7-9185-4138-b9a1-3def68f844c0"
   },
   "outputs": [
    {
     "data": {
      "text/plain": [
       "list"
      ]
     },
     "execution_count": 17,
     "metadata": {},
     "output_type": "execute_result"
    }
   ],
   "source": [
    "type(x)"
   ]
  },
  {
   "cell_type": "markdown",
   "metadata": {
    "id": "YB6IUubshR1j"
   },
   "source": [
    "### Criar tupla com um item\n",
    "Deve-se adicionar uma vírgula após o item, caso contrário, o Python não a reconhecerá como uma tupla.\n"
   ]
  },
  {
   "cell_type": "code",
   "execution_count": 18,
   "metadata": {
    "colab": {
     "base_uri": "https://localhost:8080/",
     "height": 54
    },
    "executionInfo": {
     "elapsed": 912,
     "status": "ok",
     "timestamp": 1603759423361,
     "user": {
      "displayName": "Orlando O. S.",
      "photoUrl": "https://lh3.googleusercontent.com/a-/AOh14Gj-E1yuy1M_3ruwN4TWYPK4BwysauSW7GQmHheS=s64",
      "userId": "15066502291703974467"
     },
     "user_tz": 180
    },
    "id": "JVZdbeCRhR1j",
    "outputId": "9217a542-54d5-4379-85af-cf5cc4d76f94"
   },
   "outputs": [
    {
     "name": "stdout",
     "output_type": "stream",
     "text": [
      "<class 'tuple'>\n",
      "<class 'str'>\n"
     ]
    }
   ],
   "source": [
    "tupla_regioes = (\"Norte\",)\n",
    "print(type(tupla_regioes))\n",
    "\n",
    "#Não é uma tupla\n",
    "tupla_regioes = (\"Norte\")\n",
    "print(type(tupla_regioes))"
   ]
  },
  {
   "cell_type": "code",
   "execution_count": 19,
   "metadata": {
    "colab": {
     "base_uri": "https://localhost:8080/",
     "height": 35
    },
    "executionInfo": {
     "elapsed": 931,
     "status": "ok",
     "timestamp": 1603759501958,
     "user": {
      "displayName": "Orlando O. S.",
      "photoUrl": "https://lh3.googleusercontent.com/a-/AOh14Gj-E1yuy1M_3ruwN4TWYPK4BwysauSW7GQmHheS=s64",
      "userId": "15066502291703974467"
     },
     "user_tz": 180
    },
    "id": "xctvvU1xg0A4",
    "outputId": "1c88a1a5-c4f8-4319-c9e9-1b9b3e2d74a7"
   },
   "outputs": [
    {
     "name": "stdout",
     "output_type": "stream",
     "text": [
      "Norte\n",
      "Sul\n"
     ]
    }
   ],
   "source": [
    "tupla_regioes = (\"Norte\", \"Sul\" )\n",
    "for item in  tupla_regioes:\n",
    "  print(item)\n"
   ]
  },
  {
   "cell_type": "code",
   "execution_count": 20,
   "metadata": {
    "colab": {
     "base_uri": "https://localhost:8080/",
     "height": 103
    },
    "executionInfo": {
     "elapsed": 881,
     "status": "ok",
     "timestamp": 1603759524349,
     "user": {
      "displayName": "Orlando O. S.",
      "photoUrl": "https://lh3.googleusercontent.com/a-/AOh14Gj-E1yuy1M_3ruwN4TWYPK4BwysauSW7GQmHheS=s64",
      "userId": "15066502291703974467"
     },
     "user_tz": 180
    },
    "id": "003GiaEyg12Z",
    "outputId": "29275ca7-85a9-4203-ac7c-651d894c3e22"
   },
   "outputs": [
    {
     "name": "stdout",
     "output_type": "stream",
     "text": [
      "Norte\n",
      "Sul\n"
     ]
    }
   ],
   "source": [
    "#Não é uma tupla\n",
    "tupla_regioes = (\"Norte\", \"Sul\")\n",
    "for item in  tupla_regioes:\n",
    "  print(item)\n"
   ]
  },
  {
   "cell_type": "markdown",
   "metadata": {
    "id": "rfYbywPGFVt7"
   },
   "source": [
    "### Remover itens\n",
    "Não pode-se remover itens em uma tupla.\n",
    "\n",
    "No entanto, pode-se pode excluir a tupla completamente usando a palavra-chave  del"
   ]
  },
  {
   "cell_type": "code",
   "execution_count": 21,
   "metadata": {
    "colab": {
     "base_uri": "https://localhost:8080/",
     "height": 201
    },
    "executionInfo": {
     "elapsed": 833,
     "status": "error",
     "timestamp": 1603752359059,
     "user": {
      "displayName": "Orlando O. S.",
      "photoUrl": "https://lh3.googleusercontent.com/a-/AOh14Gj-E1yuy1M_3ruwN4TWYPK4BwysauSW7GQmHheS=s64",
      "userId": "15066502291703974467"
     },
     "user_tz": 180
    },
    "id": "UO_myxVYhR1p",
    "outputId": "2a508c35-0ed9-4f71-a150-35d167bc80d2"
   },
   "outputs": [
    {
     "ename": "NameError",
     "evalue": "name 'tupla_regioes' is not defined",
     "output_type": "error",
     "traceback": [
      "\u001b[1;31m---------------------------------------------------------------------------\u001b[0m",
      "\u001b[1;31mNameError\u001b[0m                                 Traceback (most recent call last)",
      "\u001b[1;32m<ipython-input-21-86edb35baee8>\u001b[0m in \u001b[0;36m<module>\u001b[1;34m\u001b[0m\n\u001b[0;32m      1\u001b[0m \u001b[0mtupla_regioes\u001b[0m \u001b[1;33m=\u001b[0m \u001b[1;33m(\u001b[0m\u001b[1;34m\"Norte\"\u001b[0m\u001b[1;33m,\u001b[0m \u001b[1;34m\"Sul\"\u001b[0m\u001b[1;33m,\u001b[0m \u001b[1;34m\"Sudeste\"\u001b[0m\u001b[1;33m,\u001b[0m\u001b[1;34m\"Nordeste\"\u001b[0m\u001b[1;33m,\u001b[0m \u001b[1;34m\"Centro Oeste\"\u001b[0m\u001b[1;33m)\u001b[0m\u001b[1;33m\u001b[0m\u001b[1;33m\u001b[0m\u001b[0m\n\u001b[0;32m      2\u001b[0m \u001b[1;32mdel\u001b[0m \u001b[0mtupla_regioes\u001b[0m\u001b[1;33m\u001b[0m\u001b[1;33m\u001b[0m\u001b[0m\n\u001b[1;32m----> 3\u001b[1;33m \u001b[0mprint\u001b[0m\u001b[1;33m(\u001b[0m\u001b[0mtupla_regioes\u001b[0m\u001b[1;33m)\u001b[0m \u001b[1;31m#Erro pois nao existe  mais\u001b[0m\u001b[1;33m\u001b[0m\u001b[1;33m\u001b[0m\u001b[0m\n\u001b[0m",
      "\u001b[1;31mNameError\u001b[0m: name 'tupla_regioes' is not defined"
     ]
    }
   ],
   "source": [
    "tupla_regioes = (\"Norte\", \"Sul\", \"Sudeste\",\"Nordeste\", \"Centro Oeste\")\n",
    "del tupla_regioes\n",
    "print(tupla_regioes) #Erro pois nao existe  mais"
   ]
  },
  {
   "cell_type": "markdown",
   "metadata": {
    "id": "PRLKJa2HhR1r"
   },
   "source": [
    "### Juntar duas tuplas\n",
    "Usa-se o operador + "
   ]
  },
  {
   "cell_type": "code",
   "execution_count": 22,
   "metadata": {
    "colab": {
     "base_uri": "https://localhost:8080/",
     "height": 34
    },
    "executionInfo": {
     "elapsed": 877,
     "status": "ok",
     "timestamp": 1603759843091,
     "user": {
      "displayName": "Orlando O. S.",
      "photoUrl": "https://lh3.googleusercontent.com/a-/AOh14Gj-E1yuy1M_3ruwN4TWYPK4BwysauSW7GQmHheS=s64",
      "userId": "15066502291703974467"
     },
     "user_tz": 180
    },
    "id": "i9IDwD42hR1u",
    "outputId": "632acfa8-d2fa-4597-b3f8-1e5b6e6cbe04"
   },
   "outputs": [
    {
     "name": "stdout",
     "output_type": "stream",
     "text": [
      "('eu', 'voce', 'ele', 13, 42, 34)\n"
     ]
    }
   ],
   "source": [
    "tuple1 = (\"eu\", \"voce\" , \"ele\")\n",
    "tuple2 = (13, 42, 34)\n",
    "\n",
    "tuple3 = tuple1 + tuple2\n",
    "print(tuple3)"
   ]
  },
  {
   "cell_type": "markdown",
   "metadata": {
    "id": "sWZtJKWJhR1w"
   },
   "source": [
    "O construtor tuple()\n",
    "Pode-se também usar o construtor tuple () para fazer uma tupla.\n"
   ]
  },
  {
   "cell_type": "code",
   "execution_count": 23,
   "metadata": {
    "colab": {
     "base_uri": "https://localhost:8080/",
     "height": 34
    },
    "executionInfo": {
     "elapsed": 778,
     "status": "ok",
     "timestamp": 1603759891560,
     "user": {
      "displayName": "Orlando O. S.",
      "photoUrl": "https://lh3.googleusercontent.com/a-/AOh14Gj-E1yuy1M_3ruwN4TWYPK4BwysauSW7GQmHheS=s64",
      "userId": "15066502291703974467"
     },
     "user_tz": 180
    },
    "id": "Er1VgxatiXop",
    "outputId": "58aecca4-e6a6-4863-b7f7-88f1d073b054"
   },
   "outputs": [
    {
     "data": {
      "text/plain": [
       "tuple"
      ]
     },
     "execution_count": 23,
     "metadata": {},
     "output_type": "execute_result"
    }
   ],
   "source": [
    "tupla_regioes = (\"Norte\", \"Sul\", \"Sudeste\",\"Nordeste\", \"Centro Oeste\")\n",
    "type(tupla_regioes)"
   ]
  },
  {
   "cell_type": "code",
   "execution_count": 24,
   "metadata": {
    "colab": {
     "base_uri": "https://localhost:8080/",
     "height": 34
    },
    "executionInfo": {
     "elapsed": 850,
     "status": "ok",
     "timestamp": 1603759964919,
     "user": {
      "displayName": "Orlando O. S.",
      "photoUrl": "https://lh3.googleusercontent.com/a-/AOh14Gj-E1yuy1M_3ruwN4TWYPK4BwysauSW7GQmHheS=s64",
      "userId": "15066502291703974467"
     },
     "user_tz": 180
    },
    "id": "I-HHC9gqhR1x",
    "outputId": "1f3ccbfe-9f40-4f9e-c099-d0250c4b12e2"
   },
   "outputs": [
    {
     "data": {
      "text/plain": [
       "tuple"
      ]
     },
     "execution_count": 24,
     "metadata": {},
     "output_type": "execute_result"
    }
   ],
   "source": [
    "tupla_regioes = tuple([\"Norte\", \"Sul\", \"Sudeste\",\"Nordeste\", \"Centro Oeste\"]) # usa dois parentesis\n",
    "type(tupla_regioes)"
   ]
  },
  {
   "cell_type": "markdown",
   "metadata": {
    "id": "A4sfXjPvhR10"
   },
   "source": [
    "Métodos de Tupla\n",
    "Python tem dois métodos:\n",
    "\n",
    "- count () Retorna o número de vezes que um valor especificado ocorre em uma tupla\n",
    "- index () Pesquisa a tupla por um valor especificado e retorna a posição de onde foi encontrado"
   ]
  },
  {
   "cell_type": "code",
   "execution_count": 25,
   "metadata": {
    "colab": {
     "base_uri": "https://localhost:8080/",
     "height": 35
    },
    "executionInfo": {
     "elapsed": 857,
     "status": "ok",
     "timestamp": 1603760018497,
     "user": {
      "displayName": "Orlando O. S.",
      "photoUrl": "https://lh3.googleusercontent.com/a-/AOh14Gj-E1yuy1M_3ruwN4TWYPK4BwysauSW7GQmHheS=s64",
      "userId": "15066502291703974467"
     },
     "user_tz": 180
    },
    "id": "KnmYYA7JGRek",
    "outputId": "14617202-5e43-474b-9a14-f6a4edbf835d"
   },
   "outputs": [
    {
     "data": {
      "text/plain": [
       "1"
      ]
     },
     "execution_count": 25,
     "metadata": {},
     "output_type": "execute_result"
    }
   ],
   "source": [
    "tupla_regioes.count('Sul')"
   ]
  },
  {
   "cell_type": "code",
   "execution_count": 26,
   "metadata": {
    "colab": {
     "base_uri": "https://localhost:8080/",
     "height": 35
    },
    "executionInfo": {
     "elapsed": 1097,
     "status": "ok",
     "timestamp": 1603760045887,
     "user": {
      "displayName": "Orlando O. S.",
      "photoUrl": "https://lh3.googleusercontent.com/a-/AOh14Gj-E1yuy1M_3ruwN4TWYPK4BwysauSW7GQmHheS=s64",
      "userId": "15066502291703974467"
     },
     "user_tz": 180
    },
    "id": "TSnWjmUIGR1E",
    "outputId": "e527efed-aa7a-481d-aa3d-2c8629be6937"
   },
   "outputs": [
    {
     "data": {
      "text/plain": [
       "1"
      ]
     },
     "execution_count": 26,
     "metadata": {},
     "output_type": "execute_result"
    }
   ],
   "source": [
    "tupla_regioes.index('Sul')"
   ]
  },
  {
   "cell_type": "markdown",
   "metadata": {
    "id": "DX9JWKhxX1xn"
   },
   "source": [
    "## Leituras Adicionais e Referências:\n",
    "\n",
    "- Python Tutorial at W3Schools: https://www.w3schools.com/python/\n",
    "- Python official documentation: https://docs.python.org/3/tutorial/index.html"
   ]
  }
 ],
 "metadata": {
  "colab": {
   "collapsed_sections": [],
   "name": "Aula 04 Introdução à Linguagem de Python para Analytics e Data Science.ipynb",
   "provenance": []
  },
  "kernelspec": {
   "display_name": "Python 3",
   "language": "python",
   "name": "python3"
  },
  "language_info": {
   "codemirror_mode": {
    "name": "ipython",
    "version": 3
   },
   "file_extension": ".py",
   "mimetype": "text/x-python",
   "name": "python",
   "nbconvert_exporter": "python",
   "pygments_lexer": "ipython3",
   "version": "3.7.8"
  }
 },
 "nbformat": 4,
 "nbformat_minor": 1
}
