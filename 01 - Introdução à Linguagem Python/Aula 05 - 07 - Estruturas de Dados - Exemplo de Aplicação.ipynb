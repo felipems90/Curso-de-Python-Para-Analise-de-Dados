{
 "cells": [
  {
   "cell_type": "markdown",
   "metadata": {
    "id": "uGqJJfZ36iR6"
   },
   "source": [
    "# 01 - Introdução à Linguagem Python\n",
    "## Aula 05 - 07 - Estruturas de Dados - Exemplo de Aplicação"
   ]
  },
  {
   "cell_type": "markdown",
   "metadata": {
    "id": "JNifjo59P9mf"
   },
   "source": [
    "## Professor: Orlando Oliveira dos Santos, MsC.\n",
    " - E-mail: professor.orlando.santos@gmail.com \n",
    " - Youtube :https://www.youtube.com/channel/UCPWWbkPWFmOjXH50TQWNAYg\n",
    " - Linkedin: https://linkedin.com/in/orlandoosantos\n",
    " - Facebook: https://www.facebook.com/proforlandosantosmsc/\n",
    " - Twitter: https://twitter.com/ProfOrlandoMsC\n",
    " - Instagram: https://www.instagram.com/proforlandosantosmsc/\n",
    "\n",
    "\n",
    "\n",
    "## Formação Acadêmica\n",
    "- Mestrado em Computação Aplicada - UnB (2014 – 2016)\t\n",
    "- MBA, Administração Estratégica de Sistemas de Informação – FGV (2011 – 2013)\n",
    "- Tecnólogo em Processamento de Dados, Análise e Desenvolvimento de Sistemas – FAETEC/SP (2000-2002)\n"
   ]
  },
  {
   "cell_type": "markdown",
   "metadata": {
    "id": "-wttXmB0JYuh"
   },
   "source": [
    "# Estruturas de Dados - Exemplo de Aplicação"
   ]
  },
  {
   "cell_type": "markdown",
   "metadata": {
    "id": "odBvwLZNQn3U"
   },
   "source": [
    "### Exemplo de manipulação complexa de estruturas de dados\n",
    "- Com dados obtidos da api de localidades do IBGE\n",
    "- https://servicodados.ibge.gov.br/api/v1/localidades/estados"
   ]
  },
  {
   "cell_type": "code",
   "execution_count": 1,
   "metadata": {
    "id": "fq16oRM7ORjw"
   },
   "outputs": [],
   "source": [
    "estados =[{\"id\":11,\"sigla\":\"RO\",\"nome\":\"Rondônia\",\"regiao\":{\"id\":1,\"sigla\":\"N\",\"nome\":\"Norte\"}},\n",
    "          {\"id\":12,\"sigla\":\"AC\",\"nome\":\"Acre\",\"regiao\":{\"id\":1,\"sigla\":\"N\",\"nome\":\"Norte\"}},\n",
    "          {\"id\":13,\"sigla\":\"AM\",\"nome\":\"Amazonas\",\"regiao\":{\"id\":1,\"sigla\":\"N\",\"nome\":\"Norte\"}},\n",
    "          {\"id\":14,\"sigla\":\"RR\",\"nome\":\"Roraima\",\"regiao\":{\"id\":1,\"sigla\":\"N\",\"nome\":\"Norte\"}},\n",
    "          {\"id\":15,\"sigla\":\"PA\",\"nome\":\"Pará\",\"regiao\":{\"id\":1,\"sigla\":\"N\",\"nome\":\"Norte\"}},\n",
    "          {\"id\":16,\"sigla\":\"AP\",\"nome\":\"Amapá\",\"regiao\":{\"id\":1,\"sigla\":\"N\",\"nome\":\"Norte\"}},\n",
    "          {\"id\":17,\"sigla\":\"TO\",\"nome\":\"Tocantins\",\"regiao\":{\"id\":1,\"sigla\":\"N\",\"nome\":\"Norte\"}},\n",
    "          {\"id\":21,\"sigla\":\"MA\",\"nome\":\"Maranhão\",\"regiao\":{\"id\":2,\"sigla\":\"NE\",\"nome\":\"Nordeste\"}},\n",
    "          {\"id\":22,\"sigla\":\"PI\",\"nome\":\"Piauí\",\"regiao\":{\"id\":2,\"sigla\":\"NE\",\"nome\":\"Nordeste\"}},\n",
    "          {\"id\":23,\"sigla\":\"CE\",\"nome\":\"Ceará\",\"regiao\":{\"id\":2,\"sigla\":\"NE\",\"nome\":\"Nordeste\"}},\n",
    "          {\"id\":24,\"sigla\":\"RN\",\"nome\":\"Rio Grande do Norte\",\"regiao\":{\"id\":2,\"sigla\":\"NE\",\"nome\":\"Nordeste\"}},\n",
    "          {\"id\":25,\"sigla\":\"PB\",\"nome\":\"Paraíba\",\"regiao\":{\"id\":2,\"sigla\":\"NE\",\"nome\":\"Nordeste\"}},\n",
    "          {\"id\":26,\"sigla\":\"PE\",\"nome\":\"Pernambuco\",\"regiao\":{\"id\":2,\"sigla\":\"NE\",\"nome\":\"Nordeste\"}},\n",
    "          {\"id\":27,\"sigla\":\"AL\",\"nome\":\"Alagoas\",\"regiao\":{\"id\":2,\"sigla\":\"NE\",\"nome\":\"Nordeste\"}},\n",
    "          {\"id\":28,\"sigla\":\"SE\",\"nome\":\"Sergipe\",\"regiao\":{\"id\":2,\"sigla\":\"NE\",\"nome\":\"Nordeste\"}},\n",
    "          {\"id\":29,\"sigla\":\"BA\",\"nome\":\"Bahia\",\"regiao\":{\"id\":2,\"sigla\":\"NE\",\"nome\":\"Nordeste\"}},\n",
    "          {\"id\":31,\"sigla\":\"MG\",\"nome\":\"Minas Gerais\",\"regiao\":{\"id\":3,\"sigla\":\"SE\",\"nome\":\"Sudeste\"}},\n",
    "          {\"id\":32,\"sigla\":\"ES\",\"nome\":\"Espírito Santo\",\"regiao\":{\"id\":3,\"sigla\":\"SE\",\"nome\":\"Sudeste\"}},\n",
    "          {\"id\":33,\"sigla\":\"RJ\",\"nome\":\"Rio de Janeiro\",\"regiao\":{\"id\":3,\"sigla\":\"SE\",\"nome\":\"Sudeste\"}},\n",
    "          {\"id\":35,\"sigla\":\"SP\",\"nome\":\"São Paulo\",\"regiao\":{\"id\":3,\"sigla\":\"SE\",\"nome\":\"Sudeste\"}},\n",
    "          {\"id\":41,\"sigla\":\"PR\",\"nome\":\"Paraná\",\"regiao\":{\"id\":4,\"sigla\":\"S\",\"nome\":\"Sul\"}},\n",
    "          {\"id\":42,\"sigla\":\"SC\",\"nome\":\"Santa Catarina\",\"regiao\":{\"id\":4,\"sigla\":\"S\",\"nome\":\"Sul\"}},\n",
    "          {\"id\":43,\"sigla\":\"RS\",\"nome\":\"Rio Grande do Sul\",\"regiao\":{\"id\":4,\"sigla\":\"S\",\"nome\":\"Sul\"}},\n",
    "          {\"id\":50,\"sigla\":\"MS\",\"nome\":\"Mato Grosso do Sul\",\"regiao\":{\"id\":5,\"sigla\":\"CO\",\"nome\":\"Centro-Oeste\"}},\n",
    "          {\"id\":51,\"sigla\":\"MT\",\"nome\":\"Mato Grosso\",\"regiao\":{\"id\":5,\"sigla\":\"CO\",\"nome\":\"Centro-Oeste\"}},\n",
    "          {\"id\":52,\"sigla\":\"GO\",\"nome\":\"Goiás\",\"regiao\":{\"id\":5,\"sigla\":\"CO\",\"nome\":\"Centro-Oeste\"}},\n",
    "          {\"id\":53,\"sigla\":\"DF\",\"nome\":\"Distrito Federal\",\"regiao\":{\"id\":5,\"sigla\":\"CO\",\"nome\":\"Centro-Oeste\"}}]"
   ]
  },
  {
   "cell_type": "markdown",
   "metadata": {
    "id": "v5sGulDxReJ2"
   },
   "source": [
    "### Imprimir a lista de estados"
   ]
  },
  {
   "cell_type": "code",
   "execution_count": 2,
   "metadata": {
    "colab": {
     "base_uri": "https://localhost:8080/"
    },
    "executionInfo": {
     "elapsed": 659,
     "status": "ok",
     "timestamp": 1603934904761,
     "user": {
      "displayName": "Orlando O. S.",
      "photoUrl": "https://lh3.googleusercontent.com/a-/AOh14Gj-E1yuy1M_3ruwN4TWYPK4BwysauSW7GQmHheS=s64",
      "userId": "15066502291703974467"
     },
     "user_tz": 180
    },
    "id": "o8m-MsVvRl_c",
    "outputId": "30b00847-6e9e-4bba-e7d9-274c453750a5"
   },
   "outputs": [
    {
     "name": "stdout",
     "output_type": "stream",
     "text": [
      "['Rondônia', 'Acre', 'Amazonas', 'Roraima', 'Pará', 'Amapá', 'Tocantins', 'Maranhão', 'Piauí', 'Ceará', 'Rio Grande do Norte', 'Paraíba', 'Pernambuco', 'Alagoas', 'Sergipe', 'Bahia', 'Minas Gerais', 'Espírito Santo', 'Rio de Janeiro', 'São Paulo', 'Paraná', 'Santa Catarina', 'Rio Grande do Sul', 'Mato Grosso do Sul', 'Mato Grosso', 'Goiás', 'Distrito Federal']\n"
     ]
    }
   ],
   "source": [
    "nomes = [ x['nome'] for x in estados]\n",
    "print(nomes)"
   ]
  },
  {
   "cell_type": "code",
   "execution_count": 3,
   "metadata": {
    "colab": {
     "base_uri": "https://localhost:8080/"
    },
    "executionInfo": {
     "elapsed": 661,
     "status": "ok",
     "timestamp": 1603935019820,
     "user": {
      "displayName": "Orlando O. S.",
      "photoUrl": "https://lh3.googleusercontent.com/a-/AOh14Gj-E1yuy1M_3ruwN4TWYPK4BwysauSW7GQmHheS=s64",
      "userId": "15066502291703974467"
     },
     "user_tz": 180
    },
    "id": "9syFsNO1-RQE",
    "outputId": "b052b206-4b1a-4a8c-dd74-10c5cb96b665"
   },
   "outputs": [
    {
     "name": "stdout",
     "output_type": "stream",
     "text": [
      "['Acre', 'Amazonas', 'Amapá', 'Alagoas']\n"
     ]
    }
   ],
   "source": [
    "nomes = [ estado['nome'] for estado in estados if estado['nome'].startswith('A') ]\n",
    "print(nomes)"
   ]
  },
  {
   "cell_type": "code",
   "execution_count": 4,
   "metadata": {
    "colab": {
     "base_uri": "https://localhost:8080/"
    },
    "executionInfo": {
     "elapsed": 631,
     "status": "ok",
     "timestamp": 1603935115044,
     "user": {
      "displayName": "Orlando O. S.",
      "photoUrl": "https://lh3.googleusercontent.com/a-/AOh14Gj-E1yuy1M_3ruwN4TWYPK4BwysauSW7GQmHheS=s64",
      "userId": "15066502291703974467"
     },
     "user_tz": 180
    },
    "id": "eewDesb8-myJ",
    "outputId": "cbb87847-cef6-4c3f-a4e1-706097d8373f"
   },
   "outputs": [
    {
     "name": "stdout",
     "output_type": "stream",
     "text": [
      "['Acre', 'Amazonas', 'Amapá', 'Alagoas']\n"
     ]
    }
   ],
   "source": [
    "nomes = []\n",
    "for estado in estados:\n",
    "  if estado['nome'].startswith('A'):\n",
    "     nomes.append(estado['nome'])\n",
    "print(nomes)"
   ]
  },
  {
   "cell_type": "code",
   "execution_count": 5,
   "metadata": {
    "colab": {
     "base_uri": "https://localhost:8080/"
    },
    "executionInfo": {
     "elapsed": 617,
     "status": "ok",
     "timestamp": 1603935177810,
     "user": {
      "displayName": "Orlando O. S.",
      "photoUrl": "https://lh3.googleusercontent.com/a-/AOh14Gj-E1yuy1M_3ruwN4TWYPK4BwysauSW7GQmHheS=s64",
      "userId": "15066502291703974467"
     },
     "user_tz": 180
    },
    "id": "QnCktwOp--Hf",
    "outputId": "3e74e889-2a66-46f6-d4af-50e3f98bd3a4"
   },
   "outputs": [
    {
     "name": "stdout",
     "output_type": "stream",
     "text": [
      "['Rondônia', 'Roraima', 'Paraíba', 'Bahia', 'Santa Catarina']\n"
     ]
    }
   ],
   "source": [
    "nomes = []\n",
    "for estado in estados:\n",
    "  if estado['nome'].endswith('a'):\n",
    "     nomes.append(estado['nome'])\n",
    "print(nomes)"
   ]
  },
  {
   "cell_type": "code",
   "execution_count": 6,
   "metadata": {
    "colab": {
     "base_uri": "https://localhost:8080/",
     "height": 35
    },
    "executionInfo": {
     "elapsed": 840,
     "status": "ok",
     "timestamp": 1603774195939,
     "user": {
      "displayName": "Orlando O. S.",
      "photoUrl": "https://lh3.googleusercontent.com/a-/AOh14Gj-E1yuy1M_3ruwN4TWYPK4BwysauSW7GQmHheS=s64",
      "userId": "15066502291703974467"
     },
     "user_tz": 180
    },
    "id": "24dSFwRTSBlp",
    "outputId": "74c1bca7-d7da-465d-96ed-45e173eb8782"
   },
   "outputs": [
    {
     "name": "stdout",
     "output_type": "stream",
     "text": [
      "['RO', 'AC', 'AM', 'RR', 'PA', 'AP', 'TO', 'MA', 'PI', 'CE', 'RN', 'PB', 'PE', 'AL', 'SE', 'BA', 'MG', 'ES', 'RJ', 'SP', 'PR', 'SC', 'RS', 'MS', 'MT', 'GO', 'DF']\n"
     ]
    }
   ],
   "source": [
    "siglas = [ x[\"sigla\"] for x in estados]\n",
    "print(siglas)"
   ]
  },
  {
   "cell_type": "markdown",
   "metadata": {
    "id": "kWk7Q5scSF0h"
   },
   "source": [
    "### Imprimir a lista de regiões\n",
    "\n"
   ]
  },
  {
   "cell_type": "code",
   "execution_count": 7,
   "metadata": {
    "colab": {
     "base_uri": "https://localhost:8080/"
    },
    "executionInfo": {
     "elapsed": 773,
     "status": "ok",
     "timestamp": 1603935290198,
     "user": {
      "displayName": "Orlando O. S.",
      "photoUrl": "https://lh3.googleusercontent.com/a-/AOh14Gj-E1yuy1M_3ruwN4TWYPK4BwysauSW7GQmHheS=s64",
      "userId": "15066502291703974467"
     },
     "user_tz": 180
    },
    "id": "xrxbh0KwVzQE",
    "outputId": "53fbfb20-40c4-48ba-c791-a07cca04f173"
   },
   "outputs": [
    {
     "data": {
      "text/plain": [
       "{'Centro-Oeste', 'Nordeste', 'Norte', 'Sudeste', 'Sul'}"
      ]
     },
     "execution_count": 7,
     "metadata": {},
     "output_type": "execute_result"
    }
   ],
   "source": [
    "{regiao['regiao']['nome'] for regiao in estados}"
   ]
  },
  {
   "cell_type": "markdown",
   "metadata": {
    "id": "eGF-C5GqYjul"
   },
   "source": [
    "### Gerar um dicionário sem repetir os dados das regiões para cada estado, mas colando os estados em um dicionario dentro do valor de cada região."
   ]
  },
  {
   "cell_type": "code",
   "execution_count": 8,
   "metadata": {
    "colab": {
     "base_uri": "https://localhost:8080/",
     "height": 55
    },
    "executionInfo": {
     "elapsed": 916,
     "status": "ok",
     "timestamp": 1603774210705,
     "user": {
      "displayName": "Orlando O. S.",
      "photoUrl": "https://lh3.googleusercontent.com/a-/AOh14Gj-E1yuy1M_3ruwN4TWYPK4BwysauSW7GQmHheS=s64",
      "userId": "15066502291703974467"
     },
     "user_tz": 180
    },
    "id": "er8WFPCQOWny",
    "outputId": "1794d06e-1a2d-4642-db2e-dc9e435de018"
   },
   "outputs": [
    {
     "name": "stdout",
     "output_type": "stream",
     "text": [
      "{'Norte': {'RO': 'Rondônia', 'AC': 'Acre', 'AM': 'Amazonas', 'RR': 'Roraima', 'PA': 'Pará', 'AP': 'Amapá', 'TO': 'Tocantins'}, 'Nordeste': {'MA': 'Maranhão', 'PI': 'Piauí', 'CE': 'Ceará', 'RN': 'Rio Grande do Norte', 'PB': 'Paraíba', 'PE': 'Pernambuco', 'AL': 'Alagoas', 'SE': 'Sergipe', 'BA': 'Bahia'}, 'Sudeste': {'MG': 'Minas Gerais', 'ES': 'Espírito Santo', 'RJ': 'Rio de Janeiro', 'SP': 'São Paulo'}, 'Sul': {'PR': 'Paraná', 'SC': 'Santa Catarina', 'RS': 'Rio Grande do Sul'}, 'Centro-Oeste': {'MS': 'Mato Grosso do Sul', 'MT': 'Mato Grosso', 'GO': 'Goiás', 'DF': 'Distrito Federal'}}\n"
     ]
    }
   ],
   "source": [
    "regioes = {}\n",
    "for estado in estados:\n",
    "  regiao = estado[\"regiao\"][\"nome\"]\n",
    "  del estado[\"regiao\"]\n",
    "  regioes.setdefault(regiao,{})\n",
    "  regioes[regiao][estado[\"sigla\"]] = estado[\"nome\"]\n",
    "\n",
    "print(regioes)"
   ]
  },
  {
   "cell_type": "code",
   "execution_count": 9,
   "metadata": {
    "colab": {
     "base_uri": "https://localhost:8080/",
     "height": 35
    },
    "executionInfo": {
     "elapsed": 809,
     "status": "ok",
     "timestamp": 1603774477701,
     "user": {
      "displayName": "Orlando O. S.",
      "photoUrl": "https://lh3.googleusercontent.com/a-/AOh14Gj-E1yuy1M_3ruwN4TWYPK4BwysauSW7GQmHheS=s64",
      "userId": "15066502291703974467"
     },
     "user_tz": 180
    },
    "id": "46J7Iv_JQX5T",
    "outputId": "df8fc8de-7fba-4b28-bbb3-bb3a153f375c"
   },
   "outputs": [
    {
     "name": "stdout",
     "output_type": "stream",
     "text": [
      "{'PB', 'AM', 'PA', 'AP', 'PE', 'CE', 'RS', 'MS', 'DF', 'AL', 'RN', 'PI', 'MA', 'RR', 'PR', 'SP', 'ES', 'SE', 'MT', 'TO', 'SC', 'RO', 'GO', 'RJ', 'AC', 'BA', 'MG'}\n"
     ]
    }
   ],
   "source": [
    "siglas = {estado for regiao in regioes.values() for estado in regiao.keys()}\n",
    "print(siglas)"
   ]
  },
  {
   "cell_type": "code",
   "execution_count": 10,
   "metadata": {
    "colab": {
     "base_uri": "https://localhost:8080/",
     "height": 55
    },
    "executionInfo": {
     "elapsed": 833,
     "status": "ok",
     "timestamp": 1603774504456,
     "user": {
      "displayName": "Orlando O. S.",
      "photoUrl": "https://lh3.googleusercontent.com/a-/AOh14Gj-E1yuy1M_3ruwN4TWYPK4BwysauSW7GQmHheS=s64",
      "userId": "15066502291703974467"
     },
     "user_tz": 180
    },
    "id": "3BrDszwLaJf4",
    "outputId": "0fbe7b48-3aa2-4803-93e3-265bf8624687"
   },
   "outputs": [
    {
     "name": "stdout",
     "output_type": "stream",
     "text": [
      "{'Rio Grande do Norte', 'Goiás', 'Acre', 'Alagoas', 'Bahia', 'Mato Grosso', 'Rondônia', 'Paraná', 'Rio Grande do Sul', 'Rio de Janeiro', 'Paraíba', 'Roraima', 'Maranhão', 'Tocantins', 'Pernambuco', 'Amazonas', 'Espírito Santo', 'Ceará', 'São Paulo', 'Amapá', 'Sergipe', 'Mato Grosso do Sul', 'Minas Gerais', 'Santa Catarina', 'Pará', 'Distrito Federal', 'Piauí'}\n"
     ]
    }
   ],
   "source": [
    "siglas = {estado for regiao in regioes.values() for estado in regiao.values()}\n",
    "print(siglas)"
   ]
  },
  {
   "cell_type": "code",
   "execution_count": 11,
   "metadata": {
    "colab": {
     "base_uri": "https://localhost:8080/",
     "height": 55
    },
    "executionInfo": {
     "elapsed": 917,
     "status": "ok",
     "timestamp": 1603774706588,
     "user": {
      "displayName": "Orlando O. S.",
      "photoUrl": "https://lh3.googleusercontent.com/a-/AOh14Gj-E1yuy1M_3ruwN4TWYPK4BwysauSW7GQmHheS=s64",
      "userId": "15066502291703974467"
     },
     "user_tz": 180
    },
    "id": "FslcjzIraO3y",
    "outputId": "c84f2ece-4c5a-4371-c09d-520aec8cc53a"
   },
   "outputs": [
    {
     "name": "stdout",
     "output_type": "stream",
     "text": [
      "{'Espírito Santo / Sudeste', 'Rondônia / Norte', 'Mato Grosso do Sul / Centro-Oeste', 'São Paulo / Sudeste', 'Amapá / Norte', 'Amazonas / Norte', 'Sergipe / Nordeste', 'Distrito Federal / Centro-Oeste', 'Minas Gerais / Sudeste', 'Tocantins / Norte', 'Mato Grosso / Centro-Oeste', 'Santa Catarina / Sul', 'Rio Grande do Norte / Nordeste', 'Bahia / Nordeste', 'Paraná / Sul', 'Ceará / Nordeste', 'Piauí / Nordeste', 'Rio Grande do Sul / Sul', 'Maranhão / Nordeste', 'Goiás / Centro-Oeste', 'Pará / Norte', 'Acre / Norte', 'Rio de Janeiro / Sudeste', 'Paraíba / Nordeste', 'Roraima / Norte', 'Alagoas / Nordeste', 'Pernambuco / Nordeste'}\n"
     ]
    }
   ],
   "source": [
    "estado_regiao = {f'{estado_nome} / {regiao_nome}'  for regiao_nome, estados in regioes.items() \n",
    "                        for estado_sigla, estado_nome in estados.items()}\n",
    "print(estado_regiao)"
   ]
  },
  {
   "cell_type": "markdown",
   "metadata": {
    "id": "DX9JWKhxX1xn"
   },
   "source": [
    "## Leituras Adicionais e Referências:\n",
    "\n",
    "- Python Tutorial at W3Schools: https://www.w3schools.com/python/\n",
    "- Python official documentation: https://docs.python.org/3/tutorial/index.html"
   ]
  }
 ],
 "metadata": {
  "colab": {
   "collapsed_sections": [],
   "name": "Aula 04 Introdução à Linguagem de Python para Analytics e Data Science.ipynb",
   "provenance": []
  },
  "kernelspec": {
   "display_name": "Python 3",
   "language": "python",
   "name": "python3"
  },
  "language_info": {
   "codemirror_mode": {
    "name": "ipython",
    "version": 3
   },
   "file_extension": ".py",
   "mimetype": "text/x-python",
   "name": "python",
   "nbconvert_exporter": "python",
   "pygments_lexer": "ipython3",
   "version": "3.7.8"
  }
 },
 "nbformat": 4,
 "nbformat_minor": 1
}
