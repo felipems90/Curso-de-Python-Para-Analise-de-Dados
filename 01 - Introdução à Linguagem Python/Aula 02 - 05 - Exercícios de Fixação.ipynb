{
 "cells": [
  {
   "cell_type": "markdown",
   "metadata": {
    "id": "uGqJJfZ36iR6"
   },
   "source": [
    "# 01 - Introdução à Linguagem Python\n",
    "## Aula 02 - 05 - Exercícios de Fixação"
   ]
  },
  {
   "cell_type": "markdown",
   "metadata": {
    "id": "JNifjo59P9mf"
   },
   "source": [
    "## Professor: Orlando Oliveira dos Santos, MsC.\n",
    " - E-mail: professor.orlando.santos@gmail.com \n",
    " - Youtube :https://www.youtube.com/channel/UCPWWbkPWFmOjXH50TQWNAYg\n",
    " - Linkedin: https://linkedin.com/in/orlandoosantos\n",
    " - Facebook: https://www.facebook.com/proforlandosantosmsc/\n",
    " - Twitter: https://twitter.com/ProfOrlandoMsC\n",
    " - Instagram: https://www.instagram.com/proforlandosantosmsc/\n",
    "\n",
    "\n",
    "\n",
    "## Formação Acadêmica\n",
    "- Mestrado em Computação Aplicada - UnB (2014 – 2016)\t\n",
    "- MBA, Administração Estratégica de Sistemas de Informação – FGV (2011 – 2013)\n",
    "- Tecnólogo em Processamento de Dados, Análise e Desenvolvimento de Sistemas – FAETEC/SP (2000-2002)\n"
   ]
  },
  {
   "cell_type": "markdown",
   "metadata": {
    "id": "3zsZKkquNZjO"
   },
   "source": [
    "# Exercícios de Fixação\n",
    "***\n",
    "## Primeira parte\n",
    "- Execute as linhas de códigos abaixo nas diferentes formas aprendidas na aula:\n",
    "```\n",
    "print('Olá pessoal!  Esse é o meu segundo notebook jupyter.') \n",
    "print('2500 + 500 =', 2500 + 500)\n",
    "print('30 * 30 =', 30 * 30)\n",
    "print('850 - 350 =', 850 - 350)\n",
    "```\n",
    "  - Diretamente no console digitandos comandos;\n",
    "  - Criando um arquivo e executando pelo console;\n",
    "  - Criar um notebook no juptyer na máquina local, preencher e executar as células (nome do notebook  deve ser meusegundonotebook);\n",
    "  - Criar um notebook no Google Colab e , preencher e executar as células(nome do notebook  deve ser meusegundonotebook);\n",
    "\n",
    "***\n",
    "## Segunda parte\n",
    "\n",
    "- Crie um novo notebook no Google Colab com uma célula do tipo texto para o euniciado e uma célula do tipo código fonte para o resolução de cada um dos problemas enunciados abaixo (fonte dos exercícios: https://www.math-only-math.com/worksheet-on-word-problems-on-four-operations.html):\n",
    "  1.  A população de uma cidade é 198568. Destes, 45312 são homens e 35678 são mulheres. Encontre o número de crianças na cidade.\n",
    "  2.  Um lojista tem 2.425 caixas de 24 lápis cada. Quantos lápis todas as caixas têm ao todo?\n",
    "  3.  Linda comprou um casaco por 2.265 e um vestido por 2.150. Ela deu 5000 para o lojista. Quanto dinheiro o lojista devolveu a ela?\n",
    "  4.  O custo de 21 aparelhos de TV é de 95.844. Encontre o custo de um aparelho de TV.\n",
    "  5.  Uma fábrica produz 24532 lâmpadas em um mês. Qual é a sua produção anual?\n",
    "  6. Há 145968 sacos de açúcar, 236487 sacos de trigo e alguns sacos de arroz em um depósito. Se o número total de sacos no depósito for 450000, encontre o número de sacos de arroz.\n",
    "  7. Uma fábrica fabricou 483685 brinquedos em três semanas. A produção na primeira semana foi de 146345 brinquedos e na segunda semana 138152 brinquedos. Encontre a produção na terceira semana.\n",
    "  8. O custo de um conjunto de sofás é de  9.372. Quanto custarão 124 conjuntos de sofás?\n",
    "  9. Existem 86 salas em uma escola. 4356 alunos estudam lá. Se dividir igualmente o numero de alunos entre as salas. Quantos alunos estaria em cada sala?\n",
    "  10. 1575 alunos de uma escola querem ir para um evento de ônibus. Se um ônibus pode transportar 75 alunos, quantos ônibus são necessários para transportar todos os alunos?\n",
    "\n",
    "\n"
   ]
  },
  {
   "cell_type": "code",
   "execution_count": null,
   "metadata": {},
   "outputs": [],
   "source": []
  },
  {
   "cell_type": "code",
   "execution_count": null,
   "metadata": {},
   "outputs": [],
   "source": []
  }
 ],
 "metadata": {
  "colab": {
   "authorship_tag": "ABX9TyNkcJri8W4L2spn9cCfC/TQ",
   "collapsed_sections": [],
   "name": "Aula 01 - Introdução à Linguagem de Python para Analytics e Data Science.ipynb",
   "provenance": []
  },
  "kernelspec": {
   "display_name": "Python 3",
   "language": "python",
   "name": "python3"
  },
  "language_info": {
   "codemirror_mode": {
    "name": "ipython",
    "version": 3
   },
   "file_extension": ".py",
   "mimetype": "text/x-python",
   "name": "python",
   "nbconvert_exporter": "python",
   "pygments_lexer": "ipython3",
   "version": "3.7.8"
  }
 },
 "nbformat": 4,
 "nbformat_minor": 1
}
