{
 "cells": [
  {
   "cell_type": "markdown",
   "metadata": {},
   "source": [
    "# 01 - Introdução à Linguagem Python\n",
    "## Aula 05 -  Resolução dos Exercícios de Fixação do Conhecimento de Estruturas de Dados do Python"
   ]
  },
  {
   "cell_type": "markdown",
   "metadata": {},
   "source": [
    "## Professor: Orlando Oliveira dos Santos, MsC.\n",
    " - E-mail: professor.orlando.santos@gmail.com \n",
    " - Youtube :https://www.youtube.com/channel/UCPWWbkPWFmOjXH50TQWNAYg\n",
    " - Linkedin: https://linkedin.com/in/orlandoosantos\n",
    " - Facebook: https://www.facebook.com/proforlandosantosmsc/\n",
    " - Twitter: https://twitter.com/ProfOrlandoMsC\n",
    " - Instagram: https://www.instagram.com/proforlandosantosmsc/\n",
    "\n",
    "\n",
    "\n",
    "## Formação Acadêmica\n",
    "- Mestrado em Computação Aplicada - UnB (2014 – 2016)\t\n",
    "- MBA, Administração Estratégica de Sistemas de Informação – FGV (2011 – 2013)\n",
    "- Tecnólogo em Processamento de Dados, Análise e Desenvolvimento de Sistemas – FAETEC/SP (2000-2002)"
   ]
  },
  {
   "cell_type": "code",
   "execution_count": 1,
   "metadata": {
    "executionInfo": {
     "elapsed": 801,
     "status": "ok",
     "timestamp": 1604445434580,
     "user": {
      "displayName": "Orlando O. S.",
      "photoUrl": "https://lh3.googleusercontent.com/a-/AOh14Gj-E1yuy1M_3ruwN4TWYPK4BwysauSW7GQmHheS=s64",
      "userId": "15066502291703974467"
     },
     "user_tz": 180
    },
    "id": "E_pdlLGgZSvo"
   },
   "outputs": [],
   "source": [
    "estados_brasil = \"\"\"UF [-],Código [-],Gentílico [-],Governador [2019],Capital [2010],Área Territorial - km² [2019],População estimada - pessoas [2020],Densidade demográfica - hab/km² [2010],Matrículas no ensino fundamental - matrículas [2018],IDH <span>Índice de desenvolvimento humano</span> [2010],Receitas realizadas - R$ (×1000) [2017],Despesas empenhadas - R$ (×1000) [2017],Rendimento mensal domiciliar per capita - R$ [2019],Total de veículos - veículos [2018],\n",
    "Acre,12,acriano,GLADSON DE LIMA CAMELI,Rio Branco,164123.964,894470,4.47,157646,0.663,6632883.10836,6084416.8063,890,277831,\n",
    "Alagoas,27,alagoano,JOSE RENAN VASCONCELOS CALHEIROS FILHO,Maceió,27843.295,3351543,112.33,490587,0.631,11950438.46015,10460634.91711,731,834827,\n",
    "Amapá,16,amapaense,ANTONIO WALDEZ GÓES DA SILVA,Macapá,142470.762,861773,4.69,136185,0.708,5396417.14471,4224464.08829,880,195039,\n",
    "Amazonas,13,amazonense,WILSON MIRANDA LIMA,Manaus,1559167.889,4207714,2.23,705007,0.674,17328459.43402,15324896.55705,842,883083,\n",
    "Bahia,29,baiano,RUI COSTA DOS SANTOS,Salvador,564760.427,14930634,24.82,2034711,0.660,50191003.24052,45570160.0038,913,4139107,\n",
    "Ceará,23,cearense,CAMILO SOBREIRA DE SANTANA,Fortaleza,148894.441,9187103,56.76,1198116,0.682,28420222.47191,24608352.18276,942,3148369,\n",
    "Distrito Federal,53,brasiliense,IBANEIS ROCHA BARROS JUNIOR,Brasília,5760.783,3055149,444.66,377622,0.824,23812211.27074,21990464.6849,2686,1812473,\n",
    "Espírito Santo,32,capixaba ou espírito-santense,JOSE RENATO CASAGRANDE,Vitória,46074.447,4064052,76.25,502059,0.740,19685616.74376,14392338.00188,1477,1936862,\n",
    "Goiás,52,goiano,RONALDO RAMOS CAIADO,Goiânia,340203.329,7113540,17.65,877593,0.735,37885335.16848,24248380.34233,1306,3909429,\n",
    "Maranhão,21,maranhense,FLÁVIO DINO DE CASTRO E COSTA,São Luís,329642.182,7114598,19.81,1178949,0.639,18503261.35491,17627170.75574,636,1696683,\n",
    "Mato Grosso,51,mato-grossense,MAURO MENDES FERREIRA,Cuiabá,903207.019,3526220,3.36,471613,0.725,23958528.83588,18187363.27009,1403,2080848,\n",
    "Mato Grosso do Sul,50,sul-mato-grossense ou mato-grossense-do-sul,REINALDO AZAMBUJA SILVA,Campo Grande,357145.534,2809394,6.86,404114,0.729,16396655.77012,14506915.37404,1514,1583142,\n",
    "Minas Gerais,31,mineiro,ROMEU ZEMA NETO,Belo Horizonte,586521.123,21292666,33.41,2511483,0.731,97199823.15616,98391669.16323,1358,11191341,\n",
    "Pará,15,paraense,HELDER ZAHLUTH BARBALHO,Belém,1245870.798,8690745,6.07,1439788,0.646,25849446.10454,22533470.04547,807,2013952,\n",
    "Paraíba,25,paraibano,JOÃO AZEVEDO LINS FILHO,João Pessoa,56467.242,4039277,66.70,556248,0.658,13097005.31928,10074700.04266,929,1293668,\n",
    "Paraná,41,paranaense,CARLOS ROBERTO MASSA JUNIOR,Curitiba,199298.979,11516840,52.40,1427218,0.749,60163576.12246,55534402.97483,1621,7571122,\n",
    "Pernambuco,26,pernambucano,PAULO HENRIQUE SARAIVA CÂMARA,Recife,98067.881,9616621,89.62,1301930,0.673,35746028.97102,33320486.44445,970,3010638,\n",
    "Piauí,22,piauiense,JOSÉ WELLINGTON BARROSO DE ARAÚJO DIAS,Teresina,251756.515,3281480,12.40,480126,0.646,12124215.61511,9676736.31835,827,1196192,\n",
    "Rio de Janeiro,33,fluminense,WILSON JOSÉ WITZEL,Rio de Janeiro,43750.427,17366189,365.23,2003315,0.761,78488140.78862,67965548.69757,1882,6725822,\n",
    "Rio Grande do Norte,24,potiguar ou  norte-rio-grandense ou  rio-grandense-do-norte,MARIA DE FATIMA BEZERRA,Natal,52809.602,3534165,59.99,467629,0.684,13527552.73159,11330957.55333,1057,1290903,\n",
    "Rio Grande do Sul,43,gaúcho ou sul-rio-grandense,EDUARDO FIGUEIREDO CAVALHEIRO LEITE,Porto Alegre,281707.156,11422973,37.96,1298736,0.746,66397468.17915,62476279.34364,1843,7077972,\n",
    "Rondônia,11,rondoniense ou rondoniano,MARCOS JOSE ROCHA DOS SANTOS,Porto Velho,237765.240,1796460,6.58,269626,0.690,9122310.72305,7085530.0168,1136,985047,\n",
    "Roraima,14,roraimense,ANTONIO OLIVERIO GARCIA DE ALMEIDA,Boa Vista,223644.527,631181,2.01,96582,0.707,4419450.41557,3384683.73914,1044,219290,\n",
    "Santa Catarina,42,catarinense ou barriga-verde,CARLOS MOISÉS DA SILVA,Florianópolis,95730.684,7252502,65.27,851993,0.774,34696772.82078,25595103.37918,1769,5152615,\n",
    "São Paulo,35,paulista,JOÃO AGRIPINO DA COSTA DORIA JUNIOR,São Paulo,248219.481,46289333,166.23,5367614,0.783,232822496.56706,231982243.69176,1946,29057749,\n",
    "Sergipe,28,sergipano ou sergipense,BELIVALDO CHAGAS SILVA,Aracaju,21925.424,2318822,94.36,331297,0.665,10145046.95355,8494927.19996,980,772380,\n",
    "Tocantins,17,tocantinense,MAURO CARLESSE,Palmas,277466.763,1590248,4.98,246183,0.699,10305099.01288,8929456.43836,1056,690169,\"\"\""
   ]
  },
  {
   "cell_type": "code",
   "execution_count": 2,
   "metadata": {
    "executionInfo": {
     "elapsed": 632,
     "status": "ok",
     "timestamp": 1604445929534,
     "user": {
      "displayName": "Orlando O. S.",
      "photoUrl": "https://lh3.googleusercontent.com/a-/AOh14Gj-E1yuy1M_3ruwN4TWYPK4BwysauSW7GQmHheS=s64",
      "userId": "15066502291703974467"
     },
     "user_tz": 180
    },
    "id": "TTgmlygrakhu"
   },
   "outputs": [],
   "source": [
    "uf = {'Acre': [\"Acre\",\"12\",\"acriano\",\"GLADSON DE LIMA CAMELI\"],\n",
    "      \"Tocantins\" : [\"Tocantins\",\"17\",\"tocantinense\",\"MAURO CARLESSE\"]     \n",
    "      }"
   ]
  },
  {
   "cell_type": "code",
   "execution_count": 3,
   "metadata": {
    "colab": {
     "base_uri": "https://localhost:8080/"
    },
    "executionInfo": {
     "elapsed": 721,
     "status": "ok",
     "timestamp": 1604445986048,
     "user": {
      "displayName": "Orlando O. S.",
      "photoUrl": "https://lh3.googleusercontent.com/a-/AOh14Gj-E1yuy1M_3ruwN4TWYPK4BwysauSW7GQmHheS=s64",
      "userId": "15066502291703974467"
     },
     "user_tz": 180
    },
    "id": "dS9Omr6Sbf12",
    "outputId": "9f21fe47-2498-4196-828f-e258d2cf3d98"
   },
   "outputs": [
    {
     "name": "stdout",
     "output_type": "stream",
     "text": [
      "MAURO CARLESSE\n"
     ]
    }
   ],
   "source": [
    "print(uf['Tocantins'][3])"
   ]
  },
  {
   "cell_type": "code",
   "execution_count": 4,
   "metadata": {
    "executionInfo": {
     "elapsed": 604,
     "status": "ok",
     "timestamp": 1604446035851,
     "user": {
      "displayName": "Orlando O. S.",
      "photoUrl": "https://lh3.googleusercontent.com/a-/AOh14Gj-E1yuy1M_3ruwN4TWYPK4BwysauSW7GQmHheS=s64",
      "userId": "15066502291703974467"
     },
     "user_tz": 180
    },
    "id": "cxJPggykbz-U"
   },
   "outputs": [],
   "source": [
    "uf = {'Acre': (\"Acre\",\"12\",\"acriano\",\"GLADSON DE LIMA CAMELI\"),\n",
    "      \"Tocantins\" : (\"Tocantins\",\"17\",\"tocantinense\",\"MAURO CARLESSE\")     \n",
    "      }"
   ]
  },
  {
   "cell_type": "code",
   "execution_count": 5,
   "metadata": {
    "colab": {
     "base_uri": "https://localhost:8080/"
    },
    "executionInfo": {
     "elapsed": 740,
     "status": "ok",
     "timestamp": 1604446052258,
     "user": {
      "displayName": "Orlando O. S.",
      "photoUrl": "https://lh3.googleusercontent.com/a-/AOh14Gj-E1yuy1M_3ruwN4TWYPK4BwysauSW7GQmHheS=s64",
      "userId": "15066502291703974467"
     },
     "user_tz": 180
    },
    "id": "N6yo51YKb5zN",
    "outputId": "3b2f3fe6-448c-4c99-94c3-19b5ba162046"
   },
   "outputs": [
    {
     "name": "stdout",
     "output_type": "stream",
     "text": [
      "MAURO CARLESSE\n"
     ]
    }
   ],
   "source": [
    "print(uf['Tocantins'][3])"
   ]
  },
  {
   "cell_type": "code",
   "execution_count": 6,
   "metadata": {
    "executionInfo": {
     "elapsed": 614,
     "status": "ok",
     "timestamp": 1604446248927,
     "user": {
      "displayName": "Orlando O. S.",
      "photoUrl": "https://lh3.googleusercontent.com/a-/AOh14Gj-E1yuy1M_3ruwN4TWYPK4BwysauSW7GQmHheS=s64",
      "userId": "15066502291703974467"
     },
     "user_tz": 180
    },
    "id": "vgqiF82pb9xx"
   },
   "outputs": [],
   "source": [
    "uf = {'Acre': { \"UF [-]\": \"Acre\",\n",
    "               \"Código [-]\": \"12\",\n",
    "               \"Gentílico [-]\":\"acriano\",\n",
    "               \"Governador [2019]\": \"GLADSON DE LIMA CAMELI\"},\n",
    "      \"Tocantins\" :{ \"UF [-]\": \"Tocantins\",\n",
    "               \"Código [-]\": \"17\",\n",
    "               \"Gentílico [-]\":\"tocantinense\",\n",
    "               \"Governador [2019]\": \"MAURO CARLESSE\"}\n",
    "      }\n"
   ]
  },
  {
   "cell_type": "code",
   "execution_count": 7,
   "metadata": {
    "colab": {
     "base_uri": "https://localhost:8080/"
    },
    "executionInfo": {
     "elapsed": 698,
     "status": "ok",
     "timestamp": 1604446325718,
     "user": {
      "displayName": "Orlando O. S.",
      "photoUrl": "https://lh3.googleusercontent.com/a-/AOh14Gj-E1yuy1M_3ruwN4TWYPK4BwysauSW7GQmHheS=s64",
      "userId": "15066502291703974467"
     },
     "user_tz": 180
    },
    "id": "Y5BOBcZoctz4",
    "outputId": "897285d0-8d1c-4db5-cc41-bcf2dcd2df93"
   },
   "outputs": [
    {
     "name": "stdout",
     "output_type": "stream",
     "text": [
      "GLADSON DE LIMA CAMELI\n"
     ]
    }
   ],
   "source": [
    "print(uf['Acre'][\"Governador [2019]\"])"
   ]
  },
  {
   "cell_type": "code",
   "execution_count": 8,
   "metadata": {
    "colab": {
     "base_uri": "https://localhost:8080/",
     "height": 35
    },
    "executionInfo": {
     "elapsed": 697,
     "status": "ok",
     "timestamp": 1604446778634,
     "user": {
      "displayName": "Orlando O. S.",
      "photoUrl": "https://lh3.googleusercontent.com/a-/AOh14Gj-E1yuy1M_3ruwN4TWYPK4BwysauSW7GQmHheS=s64",
      "userId": "15066502291703974467"
     },
     "user_tz": 180
    },
    "id": "TeNYw6HIeX3P",
    "outputId": "fd22d08b-320b-4016-fc82-1f9b92e6a3dc"
   },
   "outputs": [
    {
     "data": {
      "text/plain": [
       "'Acre'"
      ]
     },
     "execution_count": 8,
     "metadata": {},
     "output_type": "execute_result"
    }
   ],
   "source": [
    "estados_brasil.splitlines()[1].split(',')[0]"
   ]
  },
  {
   "cell_type": "code",
   "execution_count": 9,
   "metadata": {
    "colab": {
     "base_uri": "https://localhost:8080/"
    },
    "executionInfo": {
     "elapsed": 690,
     "status": "ok",
     "timestamp": 1604447056379,
     "user": {
      "displayName": "Orlando O. S.",
      "photoUrl": "https://lh3.googleusercontent.com/a-/AOh14Gj-E1yuy1M_3ruwN4TWYPK4BwysauSW7GQmHheS=s64",
      "userId": "15066502291703974467"
     },
     "user_tz": 180
    },
    "id": "a2ECzaWJfnkI",
    "outputId": "9c22e97d-21f3-4192-feca-0ba764d0a81c"
   },
   "outputs": [
    {
     "name": "stdout",
     "output_type": "stream",
     "text": [
      "{'nome': 'Willian'}\n"
     ]
    }
   ],
   "source": [
    "dict2 = {}\n",
    "dict2['nome'] = 'Willian'\n",
    "print(dict2)"
   ]
  },
  {
   "cell_type": "code",
   "execution_count": 14,
   "metadata": {
    "colab": {
     "base_uri": "https://localhost:8080/"
    },
    "executionInfo": {
     "elapsed": 751,
     "status": "ok",
     "timestamp": 1604448895184,
     "user": {
      "displayName": "Orlando O. S.",
      "photoUrl": "https://lh3.googleusercontent.com/a-/AOh14Gj-E1yuy1M_3ruwN4TWYPK4BwysauSW7GQmHheS=s64",
      "userId": "15066502291703974467"
     },
     "user_tz": 180
    },
    "id": "0jz-hDG4deuE",
    "outputId": "12aa099e-5bbb-431f-d1bd-718ed8806c6b",
    "scrolled": true
   },
   "outputs": [
    {
     "name": "stdout",
     "output_type": "stream",
     "text": [
      "{'Acre': {'UF [-]': 'Acre', 'Código [-]': '12', 'Gentílico [-]': 'acriano', 'Governador [2019]': 'GLADSON DE LIMA CAMELI', 'Capital [2010]': 'Rio Branco', 'Área Territorial - km² [2019]': '164123.964'}, 'Alagoas': {'UF [-]': 'Alagoas', 'Código [-]': '27', 'Gentílico [-]': 'alagoano', 'Governador [2019]': 'JOSE RENAN VASCONCELOS CALHEIROS FILHO', 'Capital [2010]': 'Maceió', 'Área Territorial - km² [2019]': '27843.295'}, 'Amapá': {'UF [-]': 'Amapá', 'Código [-]': '16', 'Gentílico [-]': 'amapaense', 'Governador [2019]': 'ANTONIO WALDEZ GÓES DA SILVA', 'Capital [2010]': 'Macapá', 'Área Territorial - km² [2019]': '142470.762'}, 'Amazonas': {'UF [-]': 'Amazonas', 'Código [-]': '13', 'Gentílico [-]': 'amazonense', 'Governador [2019]': 'WILSON MIRANDA LIMA', 'Capital [2010]': 'Manaus', 'Área Territorial - km² [2019]': '1559167.889'}, 'Bahia': {'UF [-]': 'Bahia', 'Código [-]': '29', 'Gentílico [-]': 'baiano', 'Governador [2019]': 'RUI COSTA DOS SANTOS', 'Capital [2010]': 'Salvador', 'Área Territorial - km² [2019]': '564760.427'}, 'Ceará': {'UF [-]': 'Ceará', 'Código [-]': '23', 'Gentílico [-]': 'cearense', 'Governador [2019]': 'CAMILO SOBREIRA DE SANTANA', 'Capital [2010]': 'Fortaleza', 'Área Territorial - km² [2019]': '148894.441'}, 'Distrito Federal': {'UF [-]': 'Distrito Federal', 'Código [-]': '53', 'Gentílico [-]': 'brasiliense', 'Governador [2019]': 'IBANEIS ROCHA BARROS JUNIOR', 'Capital [2010]': 'Brasília', 'Área Territorial - km² [2019]': '5760.783'}, 'Espírito Santo': {'UF [-]': 'Espírito Santo', 'Código [-]': '32', 'Gentílico [-]': 'capixaba ou espírito-santense', 'Governador [2019]': 'JOSE RENATO CASAGRANDE', 'Capital [2010]': 'Vitória', 'Área Territorial - km² [2019]': '46074.447'}, 'Goiás': {'UF [-]': 'Goiás', 'Código [-]': '52', 'Gentílico [-]': 'goiano', 'Governador [2019]': 'RONALDO RAMOS CAIADO', 'Capital [2010]': 'Goiânia', 'Área Territorial - km² [2019]': '340203.329'}, 'Maranhão': {'UF [-]': 'Maranhão', 'Código [-]': '21', 'Gentílico [-]': 'maranhense', 'Governador [2019]': 'FLÁVIO DINO DE CASTRO E COSTA', 'Capital [2010]': 'São Luís', 'Área Territorial - km² [2019]': '329642.182'}, 'Mato Grosso': {'UF [-]': 'Mato Grosso', 'Código [-]': '51', 'Gentílico [-]': 'mato-grossense', 'Governador [2019]': 'MAURO MENDES FERREIRA', 'Capital [2010]': 'Cuiabá', 'Área Territorial - km² [2019]': '903207.019'}, 'Mato Grosso do Sul': {'UF [-]': 'Mato Grosso do Sul', 'Código [-]': '50', 'Gentílico [-]': 'sul-mato-grossense ou mato-grossense-do-sul', 'Governador [2019]': 'REINALDO AZAMBUJA SILVA', 'Capital [2010]': 'Campo Grande', 'Área Territorial - km² [2019]': '357145.534'}, 'Minas Gerais': {'UF [-]': 'Minas Gerais', 'Código [-]': '31', 'Gentílico [-]': 'mineiro', 'Governador [2019]': 'ROMEU ZEMA NETO', 'Capital [2010]': 'Belo Horizonte', 'Área Territorial - km² [2019]': '586521.123'}, 'Pará': {'UF [-]': 'Pará', 'Código [-]': '15', 'Gentílico [-]': 'paraense', 'Governador [2019]': 'HELDER ZAHLUTH BARBALHO', 'Capital [2010]': 'Belém', 'Área Territorial - km² [2019]': '1245870.798'}, 'Paraíba': {'UF [-]': 'Paraíba', 'Código [-]': '25', 'Gentílico [-]': 'paraibano', 'Governador [2019]': 'JOÃO AZEVEDO LINS FILHO', 'Capital [2010]': 'João Pessoa', 'Área Territorial - km² [2019]': '56467.242'}, 'Paraná': {'UF [-]': 'Paraná', 'Código [-]': '41', 'Gentílico [-]': 'paranaense', 'Governador [2019]': 'CARLOS ROBERTO MASSA JUNIOR', 'Capital [2010]': 'Curitiba', 'Área Territorial - km² [2019]': '199298.979'}, 'Pernambuco': {'UF [-]': 'Pernambuco', 'Código [-]': '26', 'Gentílico [-]': 'pernambucano', 'Governador [2019]': 'PAULO HENRIQUE SARAIVA CÂMARA', 'Capital [2010]': 'Recife', 'Área Territorial - km² [2019]': '98067.881'}, 'Piauí': {'UF [-]': 'Piauí', 'Código [-]': '22', 'Gentílico [-]': 'piauiense', 'Governador [2019]': 'JOSÉ WELLINGTON BARROSO DE ARAÚJO DIAS', 'Capital [2010]': 'Teresina', 'Área Territorial - km² [2019]': '251756.515'}, 'Rio de Janeiro': {'UF [-]': 'Rio de Janeiro', 'Código [-]': '33', 'Gentílico [-]': 'fluminense', 'Governador [2019]': 'WILSON JOSÉ WITZEL', 'Capital [2010]': 'Rio de Janeiro', 'Área Territorial - km² [2019]': '43750.427'}, 'Rio Grande do Norte': {'UF [-]': 'Rio Grande do Norte', 'Código [-]': '24', 'Gentílico [-]': 'potiguar ou  norte-rio-grandense ou  rio-grandense-do-norte', 'Governador [2019]': 'MARIA DE FATIMA BEZERRA', 'Capital [2010]': 'Natal', 'Área Territorial - km² [2019]': '52809.602'}, 'Rio Grande do Sul': {'UF [-]': 'Rio Grande do Sul', 'Código [-]': '43', 'Gentílico [-]': 'gaúcho ou sul-rio-grandense', 'Governador [2019]': 'EDUARDO FIGUEIREDO CAVALHEIRO LEITE', 'Capital [2010]': 'Porto Alegre', 'Área Territorial - km² [2019]': '281707.156'}, 'Rondônia': {'UF [-]': 'Rondônia', 'Código [-]': '11', 'Gentílico [-]': 'rondoniense ou rondoniano', 'Governador [2019]': 'MARCOS JOSE ROCHA DOS SANTOS', 'Capital [2010]': 'Porto Velho', 'Área Territorial - km² [2019]': '237765.240'}, 'Roraima': {'UF [-]': 'Roraima', 'Código [-]': '14', 'Gentílico [-]': 'roraimense', 'Governador [2019]': 'ANTONIO OLIVERIO GARCIA DE ALMEIDA', 'Capital [2010]': 'Boa Vista', 'Área Territorial - km² [2019]': '223644.527'}, 'Santa Catarina': {'UF [-]': 'Santa Catarina', 'Código [-]': '42', 'Gentílico [-]': 'catarinense ou barriga-verde', 'Governador [2019]': 'CARLOS MOISÉS DA SILVA', 'Capital [2010]': 'Florianópolis', 'Área Territorial - km² [2019]': '95730.684'}, 'São Paulo': {'UF [-]': 'São Paulo', 'Código [-]': '35', 'Gentílico [-]': 'paulista', 'Governador [2019]': 'JOÃO AGRIPINO DA COSTA DORIA JUNIOR', 'Capital [2010]': 'São Paulo', 'Área Territorial - km² [2019]': '248219.481'}, 'Sergipe': {'UF [-]': 'Sergipe', 'Código [-]': '28', 'Gentílico [-]': 'sergipano ou sergipense', 'Governador [2019]': 'BELIVALDO CHAGAS SILVA', 'Capital [2010]': 'Aracaju', 'Área Territorial - km² [2019]': '21925.424'}, 'Tocantins': {'UF [-]': 'Tocantins', 'Código [-]': '17', 'Gentílico [-]': 'tocantinense', 'Governador [2019]': 'MAURO CARLESSE', 'Capital [2010]': 'Palmas', 'Área Territorial - km² [2019]': '277466.763'}}\n"
     ]
    }
   ],
   "source": [
    "estados_dict = {}\n",
    "cabecalho = estados_brasil.splitlines()[0].split(\",\")\n",
    "for linha in estados_brasil.splitlines()[1:]:\n",
    "  linhalista = linha.split(\",\")\n",
    "  dictuf = {cabecalho[0]: linhalista[0], \n",
    "         cabecalho[1]: linhalista[1],\n",
    "         cabecalho[2]: linhalista[2],\n",
    "         cabecalho[3]: linhalista[3],\n",
    "         cabecalho[4]: linhalista[4],\n",
    "         cabecalho[5]: linhalista[5],}\n",
    "  uf = linhalista[0]\n",
    "  estados_dict[uf] = dictuf\n",
    "\n",
    "print(estados_dict)"
   ]
  },
  {
   "cell_type": "code",
   "execution_count": 15,
   "metadata": {
    "executionInfo": {
     "elapsed": 662,
     "status": "ok",
     "timestamp": 1604448174626,
     "user": {
      "displayName": "Orlando O. S.",
      "photoUrl": "https://lh3.googleusercontent.com/a-/AOh14Gj-E1yuy1M_3ruwN4TWYPK4BwysauSW7GQmHheS=s64",
      "userId": "15066502291703974467"
     },
     "user_tz": 180
    },
    "id": "0uYaZfrsj6mh"
   },
   "outputs": [],
   "source": [
    "texto = \"\"\"UF [-],Código [-],Gentílico [-],Governador [2019],Capital [2010],Área Territorial - km² [2019],População estimada - pessoas [2020],Densidade demográfica - hab/km² [2010],Matrículas no ensino fundamental - matrículas [2018],IDH <span>Índice de desenvolvimento humano</span> [2010],Receitas realizadas - R$ (×1000) [2017],Despesas empenhadas - R$ (×1000) [2017],Rendimento mensal domiciliar per capita - R$ [2019],Total de veículos - veículos [2018],\n",
    "Acre,12,acriano,GLADSON DE LIMA CAMELI,Rio Branco,164123.964,894470,4.47,157646,0.663,6632883.10836,6084416.8063,890,277831,\"\"\"\n"
   ]
  },
  {
   "cell_type": "code",
   "execution_count": 16,
   "metadata": {
    "colab": {
     "base_uri": "https://localhost:8080/"
    },
    "executionInfo": {
     "elapsed": 670,
     "status": "ok",
     "timestamp": 1604448380542,
     "user": {
      "displayName": "Orlando O. S.",
      "photoUrl": "https://lh3.googleusercontent.com/a-/AOh14Gj-E1yuy1M_3ruwN4TWYPK4BwysauSW7GQmHheS=s64",
      "userId": "15066502291703974467"
     },
     "user_tz": 180
    },
    "id": "wtSXTC3FkD9L",
    "outputId": "8adf4a39-124e-40fb-ee2c-fc844f1d7445"
   },
   "outputs": [
    {
     "name": "stdout",
     "output_type": "stream",
     "text": [
      "['UF [-]', 'Código [-]', 'Gentílico [-]', 'Governador [2019]', 'Capital [2010]', 'Área Territorial - km² [2019]', 'População estimada - pessoas [2020]', 'Densidade demográfica - hab/km² [2010]', 'Matrículas no ensino fundamental - matrículas [2018]', 'IDH <span>Índice de desenvolvimento humano</span> [2010]', 'Receitas realizadas - R$ (×1000) [2017]', 'Despesas empenhadas - R$ (×1000) [2017]', 'Rendimento mensal domiciliar per capita - R$ [2019]', 'Total de veículos - veículos [2018]', '']\n"
     ]
    }
   ],
   "source": [
    "cabecalho = texto.splitlines()[0].split(\",\")\n",
    "print(cabecalho)"
   ]
  },
  {
   "cell_type": "code",
   "execution_count": 17,
   "metadata": {
    "colab": {
     "base_uri": "https://localhost:8080/"
    },
    "executionInfo": {
     "elapsed": 721,
     "status": "ok",
     "timestamp": 1604448652287,
     "user": {
      "displayName": "Orlando O. S.",
      "photoUrl": "https://lh3.googleusercontent.com/a-/AOh14Gj-E1yuy1M_3ruwN4TWYPK4BwysauSW7GQmHheS=s64",
      "userId": "15066502291703974467"
     },
     "user_tz": 180
    },
    "id": "UTImGFwPl2Dg",
    "outputId": "1f62a879-0d80-4c5b-e102-1392eb9e566e"
   },
   "outputs": [
    {
     "data": {
      "text/plain": [
       "15"
      ]
     },
     "execution_count": 17,
     "metadata": {},
     "output_type": "execute_result"
    }
   ],
   "source": [
    "len(cabecalho)"
   ]
  },
  {
   "cell_type": "code",
   "execution_count": 18,
   "metadata": {
    "colab": {
     "base_uri": "https://localhost:8080/"
    },
    "executionInfo": {
     "elapsed": 684,
     "status": "ok",
     "timestamp": 1604448370397,
     "user": {
      "displayName": "Orlando O. S.",
      "photoUrl": "https://lh3.googleusercontent.com/a-/AOh14Gj-E1yuy1M_3ruwN4TWYPK4BwysauSW7GQmHheS=s64",
      "userId": "15066502291703974467"
     },
     "user_tz": 180
    },
    "id": "HuBGu2JvkPOC",
    "outputId": "84857ce2-bd44-431b-83de-da5874ac9c84"
   },
   "outputs": [
    {
     "name": "stdout",
     "output_type": "stream",
     "text": [
      "['Acre', '12', 'acriano', 'GLADSON DE LIMA CAMELI', 'Rio Branco', '164123.964', '894470', '4.47', '157646', '0.663', '6632883.10836', '6084416.8063', '890', '277831', '']\n"
     ]
    }
   ],
   "source": [
    "linha = texto.splitlines()[1].split(\",\")\n",
    "print(linha)"
   ]
  },
  {
   "cell_type": "code",
   "execution_count": 19,
   "metadata": {
    "colab": {
     "base_uri": "https://localhost:8080/"
    },
    "executionInfo": {
     "elapsed": 728,
     "status": "ok",
     "timestamp": 1604448693127,
     "user": {
      "displayName": "Orlando O. S.",
      "photoUrl": "https://lh3.googleusercontent.com/a-/AOh14Gj-E1yuy1M_3ruwN4TWYPK4BwysauSW7GQmHheS=s64",
      "userId": "15066502291703974467"
     },
     "user_tz": 180
    },
    "id": "sBCgXerJkkmX",
    "outputId": "572cfec2-0993-430f-d26f-4c71e521fb39"
   },
   "outputs": [
    {
     "data": {
      "text/plain": [
       "{'UF [-]': 'Acre',\n",
       " 'Código [-]': '12',\n",
       " 'Gentílico [-]': 'acriano',\n",
       " 'Governador [2019]': 'GLADSON DE LIMA CAMELI',\n",
       " 'Capital [2010]': 'Rio Branco',\n",
       " 'Área Territorial - km² [2019]': '164123.964'}"
      ]
     },
     "execution_count": 19,
     "metadata": {},
     "output_type": "execute_result"
    }
   ],
   "source": [
    "dict3 = {cabecalho[0]: linha[0], \n",
    "         cabecalho[1]: linha[1],\n",
    "         cabecalho[2]: linha[2],\n",
    "         cabecalho[3]: linha[3],\n",
    "         cabecalho[4]: linha[4],\n",
    "         cabecalho[5]: linha[5],}\n",
    "dict3"
   ]
  },
  {
   "cell_type": "code",
   "execution_count": 20,
   "metadata": {
    "colab": {
     "base_uri": "https://localhost:8080/"
    },
    "executionInfo": {
     "elapsed": 1090,
     "status": "ok",
     "timestamp": 1604449060544,
     "user": {
      "displayName": "Orlando O. S.",
      "photoUrl": "https://lh3.googleusercontent.com/a-/AOh14Gj-E1yuy1M_3ruwN4TWYPK4BwysauSW7GQmHheS=s64",
      "userId": "15066502291703974467"
     },
     "user_tz": 180
    },
    "id": "-PyFaadtk_Hn",
    "outputId": "9dbe17a7-e5f0-46b0-83a9-b705737525db"
   },
   "outputs": [
    {
     "name": "stdout",
     "output_type": "stream",
     "text": [
      "{'Acre': {'UF [-]': 'Acre', 'Código [-]': '12', 'Gentílico [-]': 'acriano', 'Governador [2019]': 'GLADSON DE LIMA CAMELI', 'Capital [2010]': 'Rio Branco', 'Área Territorial - km² [2019]': '164123.964'}, 'Alagoas': {'UF [-]': 'Alagoas', 'Código [-]': '27', 'Gentílico [-]': 'alagoano', 'Governador [2019]': 'JOSE RENAN VASCONCELOS CALHEIROS FILHO', 'Capital [2010]': 'Maceió', 'Área Territorial - km² [2019]': '27843.295'}, 'Amapá': {'UF [-]': 'Amapá', 'Código [-]': '16', 'Gentílico [-]': 'amapaense', 'Governador [2019]': 'ANTONIO WALDEZ GÓES DA SILVA', 'Capital [2010]': 'Macapá', 'Área Territorial - km² [2019]': '142470.762'}, 'Amazonas': {'UF [-]': 'Amazonas', 'Código [-]': '13', 'Gentílico [-]': 'amazonense', 'Governador [2019]': 'WILSON MIRANDA LIMA', 'Capital [2010]': 'Manaus', 'Área Territorial - km² [2019]': '1559167.889'}, 'Bahia': {'UF [-]': 'Bahia', 'Código [-]': '29', 'Gentílico [-]': 'baiano', 'Governador [2019]': 'RUI COSTA DOS SANTOS', 'Capital [2010]': 'Salvador', 'Área Territorial - km² [2019]': '564760.427'}, 'Ceará': {'UF [-]': 'Ceará', 'Código [-]': '23', 'Gentílico [-]': 'cearense', 'Governador [2019]': 'CAMILO SOBREIRA DE SANTANA', 'Capital [2010]': 'Fortaleza', 'Área Territorial - km² [2019]': '148894.441'}, 'Distrito Federal': {'UF [-]': 'Distrito Federal', 'Código [-]': '53', 'Gentílico [-]': 'brasiliense', 'Governador [2019]': 'IBANEIS ROCHA BARROS JUNIOR', 'Capital [2010]': 'Brasília', 'Área Territorial - km² [2019]': '5760.783'}, 'Espírito Santo': {'UF [-]': 'Espírito Santo', 'Código [-]': '32', 'Gentílico [-]': 'capixaba ou espírito-santense', 'Governador [2019]': 'JOSE RENATO CASAGRANDE', 'Capital [2010]': 'Vitória', 'Área Territorial - km² [2019]': '46074.447'}, 'Goiás': {'UF [-]': 'Goiás', 'Código [-]': '52', 'Gentílico [-]': 'goiano', 'Governador [2019]': 'RONALDO RAMOS CAIADO', 'Capital [2010]': 'Goiânia', 'Área Territorial - km² [2019]': '340203.329'}, 'Maranhão': {'UF [-]': 'Maranhão', 'Código [-]': '21', 'Gentílico [-]': 'maranhense', 'Governador [2019]': 'FLÁVIO DINO DE CASTRO E COSTA', 'Capital [2010]': 'São Luís', 'Área Territorial - km² [2019]': '329642.182'}, 'Mato Grosso': {'UF [-]': 'Mato Grosso', 'Código [-]': '51', 'Gentílico [-]': 'mato-grossense', 'Governador [2019]': 'MAURO MENDES FERREIRA', 'Capital [2010]': 'Cuiabá', 'Área Territorial - km² [2019]': '903207.019'}, 'Mato Grosso do Sul': {'UF [-]': 'Mato Grosso do Sul', 'Código [-]': '50', 'Gentílico [-]': 'sul-mato-grossense ou mato-grossense-do-sul', 'Governador [2019]': 'REINALDO AZAMBUJA SILVA', 'Capital [2010]': 'Campo Grande', 'Área Territorial - km² [2019]': '357145.534'}, 'Minas Gerais': {'UF [-]': 'Minas Gerais', 'Código [-]': '31', 'Gentílico [-]': 'mineiro', 'Governador [2019]': 'ROMEU ZEMA NETO', 'Capital [2010]': 'Belo Horizonte', 'Área Territorial - km² [2019]': '586521.123'}, 'Pará': {'UF [-]': 'Pará', 'Código [-]': '15', 'Gentílico [-]': 'paraense', 'Governador [2019]': 'HELDER ZAHLUTH BARBALHO', 'Capital [2010]': 'Belém', 'Área Territorial - km² [2019]': '1245870.798'}, 'Paraíba': {'UF [-]': 'Paraíba', 'Código [-]': '25', 'Gentílico [-]': 'paraibano', 'Governador [2019]': 'JOÃO AZEVEDO LINS FILHO', 'Capital [2010]': 'João Pessoa', 'Área Territorial - km² [2019]': '56467.242'}, 'Paraná': {'UF [-]': 'Paraná', 'Código [-]': '41', 'Gentílico [-]': 'paranaense', 'Governador [2019]': 'CARLOS ROBERTO MASSA JUNIOR', 'Capital [2010]': 'Curitiba', 'Área Territorial - km² [2019]': '199298.979'}, 'Pernambuco': {'UF [-]': 'Pernambuco', 'Código [-]': '26', 'Gentílico [-]': 'pernambucano', 'Governador [2019]': 'PAULO HENRIQUE SARAIVA CÂMARA', 'Capital [2010]': 'Recife', 'Área Territorial - km² [2019]': '98067.881'}, 'Piauí': {'UF [-]': 'Piauí', 'Código [-]': '22', 'Gentílico [-]': 'piauiense', 'Governador [2019]': 'JOSÉ WELLINGTON BARROSO DE ARAÚJO DIAS', 'Capital [2010]': 'Teresina', 'Área Territorial - km² [2019]': '251756.515'}, 'Rio de Janeiro': {'UF [-]': 'Rio de Janeiro', 'Código [-]': '33', 'Gentílico [-]': 'fluminense', 'Governador [2019]': 'WILSON JOSÉ WITZEL', 'Capital [2010]': 'Rio de Janeiro', 'Área Territorial - km² [2019]': '43750.427'}, 'Rio Grande do Norte': {'UF [-]': 'Rio Grande do Norte', 'Código [-]': '24', 'Gentílico [-]': 'potiguar ou  norte-rio-grandense ou  rio-grandense-do-norte', 'Governador [2019]': 'MARIA DE FATIMA BEZERRA', 'Capital [2010]': 'Natal', 'Área Territorial - km² [2019]': '52809.602'}, 'Rio Grande do Sul': {'UF [-]': 'Rio Grande do Sul', 'Código [-]': '43', 'Gentílico [-]': 'gaúcho ou sul-rio-grandense', 'Governador [2019]': 'EDUARDO FIGUEIREDO CAVALHEIRO LEITE', 'Capital [2010]': 'Porto Alegre', 'Área Territorial - km² [2019]': '281707.156'}, 'Rondônia': {'UF [-]': 'Rondônia', 'Código [-]': '11', 'Gentílico [-]': 'rondoniense ou rondoniano', 'Governador [2019]': 'MARCOS JOSE ROCHA DOS SANTOS', 'Capital [2010]': 'Porto Velho', 'Área Territorial - km² [2019]': '237765.240'}, 'Roraima': {'UF [-]': 'Roraima', 'Código [-]': '14', 'Gentílico [-]': 'roraimense', 'Governador [2019]': 'ANTONIO OLIVERIO GARCIA DE ALMEIDA', 'Capital [2010]': 'Boa Vista', 'Área Territorial - km² [2019]': '223644.527'}, 'Santa Catarina': {'UF [-]': 'Santa Catarina', 'Código [-]': '42', 'Gentílico [-]': 'catarinense ou barriga-verde', 'Governador [2019]': 'CARLOS MOISÉS DA SILVA', 'Capital [2010]': 'Florianópolis', 'Área Territorial - km² [2019]': '95730.684'}, 'São Paulo': {'UF [-]': 'São Paulo', 'Código [-]': '35', 'Gentílico [-]': 'paulista', 'Governador [2019]': 'JOÃO AGRIPINO DA COSTA DORIA JUNIOR', 'Capital [2010]': 'São Paulo', 'Área Territorial - km² [2019]': '248219.481'}, 'Sergipe': {'UF [-]': 'Sergipe', 'Código [-]': '28', 'Gentílico [-]': 'sergipano ou sergipense', 'Governador [2019]': 'BELIVALDO CHAGAS SILVA', 'Capital [2010]': 'Aracaju', 'Área Territorial - km² [2019]': '21925.424'}, 'Tocantins': {'UF [-]': 'Tocantins', 'Código [-]': '17', 'Gentílico [-]': 'tocantinense', 'Governador [2019]': 'MAURO CARLESSE', 'Capital [2010]': 'Palmas', 'Área Territorial - km² [2019]': '277466.763'}}\n"
     ]
    }
   ],
   "source": [
    "estados_dict = {}\n",
    "cabecalho = texto.splitlines()[0].split(\",\")\n",
    "for linha in estados_brasil.splitlines()[1:]:\n",
    "  linhalista = linha.split(\",\")\n",
    "  dictuf = {cabecalho[0]: linhalista[0], \n",
    "         cabecalho[1]: linhalista[1],\n",
    "         cabecalho[2]: linhalista[2],\n",
    "         cabecalho[3]: linhalista[3],\n",
    "         cabecalho[4]: linhalista[4],\n",
    "         cabecalho[5]: linhalista[5],}\n",
    "  uf = linhalista[0]\n",
    "  estados_dict[uf] = dictuf\n",
    "\n",
    "print(estados_dict)"
   ]
  },
  {
   "cell_type": "code",
   "execution_count": 21,
   "metadata": {
    "colab": {
     "base_uri": "https://localhost:8080/"
    },
    "executionInfo": {
     "elapsed": 810,
     "status": "ok",
     "timestamp": 1604449808454,
     "user": {
      "displayName": "Orlando O. S.",
      "photoUrl": "https://lh3.googleusercontent.com/a-/AOh14Gj-E1yuy1M_3ruwN4TWYPK4BwysauSW7GQmHheS=s64",
      "userId": "15066502291703974467"
     },
     "user_tz": 180
    },
    "id": "twpKKR3dqH6d",
    "outputId": "2e6ad871-c74b-40d8-8d19-d07043f67a2a"
   },
   "outputs": [
    {
     "name": "stdout",
     "output_type": "stream",
     "text": [
      "{'Acre': {'UF [-]': 'Acre', 'Código [-]': '12', 'Gentílico [-]': 'acriano', 'Governador [2019]': 'GLADSON DE LIMA CAMELI', 'Capital [2010]': 'Rio Branco', 'Área Territorial - km² [2019]': '164123.964', 'População estimada - pessoas [2020]': '894470', 'Densidade demográfica - hab/km² [2010]': '4.47', 'Matrículas no ensino fundamental - matrículas [2018]': '157646', 'IDH <span>Índice de desenvolvimento humano</span> [2010]': '0.663', 'Receitas realizadas - R$ (×1000) [2017]': '6632883.10836', 'Despesas empenhadas - R$ (×1000) [2017]': '6084416.8063', 'Rendimento mensal domiciliar per capita - R$ [2019]': '890', 'Total de veículos - veículos [2018]': '277831', '': ''}, 'Alagoas': {'UF [-]': 'Alagoas', 'Código [-]': '27', 'Gentílico [-]': 'alagoano', 'Governador [2019]': 'JOSE RENAN VASCONCELOS CALHEIROS FILHO', 'Capital [2010]': 'Maceió', 'Área Territorial - km² [2019]': '27843.295', 'População estimada - pessoas [2020]': '3351543', 'Densidade demográfica - hab/km² [2010]': '112.33', 'Matrículas no ensino fundamental - matrículas [2018]': '490587', 'IDH <span>Índice de desenvolvimento humano</span> [2010]': '0.631', 'Receitas realizadas - R$ (×1000) [2017]': '11950438.46015', 'Despesas empenhadas - R$ (×1000) [2017]': '10460634.91711', 'Rendimento mensal domiciliar per capita - R$ [2019]': '731', 'Total de veículos - veículos [2018]': '834827', '': ''}, 'Amapá': {'UF [-]': 'Amapá', 'Código [-]': '16', 'Gentílico [-]': 'amapaense', 'Governador [2019]': 'ANTONIO WALDEZ GÓES DA SILVA', 'Capital [2010]': 'Macapá', 'Área Territorial - km² [2019]': '142470.762', 'População estimada - pessoas [2020]': '861773', 'Densidade demográfica - hab/km² [2010]': '4.69', 'Matrículas no ensino fundamental - matrículas [2018]': '136185', 'IDH <span>Índice de desenvolvimento humano</span> [2010]': '0.708', 'Receitas realizadas - R$ (×1000) [2017]': '5396417.14471', 'Despesas empenhadas - R$ (×1000) [2017]': '4224464.08829', 'Rendimento mensal domiciliar per capita - R$ [2019]': '880', 'Total de veículos - veículos [2018]': '195039', '': ''}, 'Amazonas': {'UF [-]': 'Amazonas', 'Código [-]': '13', 'Gentílico [-]': 'amazonense', 'Governador [2019]': 'WILSON MIRANDA LIMA', 'Capital [2010]': 'Manaus', 'Área Territorial - km² [2019]': '1559167.889', 'População estimada - pessoas [2020]': '4207714', 'Densidade demográfica - hab/km² [2010]': '2.23', 'Matrículas no ensino fundamental - matrículas [2018]': '705007', 'IDH <span>Índice de desenvolvimento humano</span> [2010]': '0.674', 'Receitas realizadas - R$ (×1000) [2017]': '17328459.43402', 'Despesas empenhadas - R$ (×1000) [2017]': '15324896.55705', 'Rendimento mensal domiciliar per capita - R$ [2019]': '842', 'Total de veículos - veículos [2018]': '883083', '': ''}, 'Bahia': {'UF [-]': 'Bahia', 'Código [-]': '29', 'Gentílico [-]': 'baiano', 'Governador [2019]': 'RUI COSTA DOS SANTOS', 'Capital [2010]': 'Salvador', 'Área Territorial - km² [2019]': '564760.427', 'População estimada - pessoas [2020]': '14930634', 'Densidade demográfica - hab/km² [2010]': '24.82', 'Matrículas no ensino fundamental - matrículas [2018]': '2034711', 'IDH <span>Índice de desenvolvimento humano</span> [2010]': '0.660', 'Receitas realizadas - R$ (×1000) [2017]': '50191003.24052', 'Despesas empenhadas - R$ (×1000) [2017]': '45570160.0038', 'Rendimento mensal domiciliar per capita - R$ [2019]': '913', 'Total de veículos - veículos [2018]': '4139107', '': ''}, 'Ceará': {'UF [-]': 'Ceará', 'Código [-]': '23', 'Gentílico [-]': 'cearense', 'Governador [2019]': 'CAMILO SOBREIRA DE SANTANA', 'Capital [2010]': 'Fortaleza', 'Área Territorial - km² [2019]': '148894.441', 'População estimada - pessoas [2020]': '9187103', 'Densidade demográfica - hab/km² [2010]': '56.76', 'Matrículas no ensino fundamental - matrículas [2018]': '1198116', 'IDH <span>Índice de desenvolvimento humano</span> [2010]': '0.682', 'Receitas realizadas - R$ (×1000) [2017]': '28420222.47191', 'Despesas empenhadas - R$ (×1000) [2017]': '24608352.18276', 'Rendimento mensal domiciliar per capita - R$ [2019]': '942', 'Total de veículos - veículos [2018]': '3148369', '': ''}, 'Distrito Federal': {'UF [-]': 'Distrito Federal', 'Código [-]': '53', 'Gentílico [-]': 'brasiliense', 'Governador [2019]': 'IBANEIS ROCHA BARROS JUNIOR', 'Capital [2010]': 'Brasília', 'Área Territorial - km² [2019]': '5760.783', 'População estimada - pessoas [2020]': '3055149', 'Densidade demográfica - hab/km² [2010]': '444.66', 'Matrículas no ensino fundamental - matrículas [2018]': '377622', 'IDH <span>Índice de desenvolvimento humano</span> [2010]': '0.824', 'Receitas realizadas - R$ (×1000) [2017]': '23812211.27074', 'Despesas empenhadas - R$ (×1000) [2017]': '21990464.6849', 'Rendimento mensal domiciliar per capita - R$ [2019]': '2686', 'Total de veículos - veículos [2018]': '1812473', '': ''}, 'Espírito Santo': {'UF [-]': 'Espírito Santo', 'Código [-]': '32', 'Gentílico [-]': 'capixaba ou espírito-santense', 'Governador [2019]': 'JOSE RENATO CASAGRANDE', 'Capital [2010]': 'Vitória', 'Área Territorial - km² [2019]': '46074.447', 'População estimada - pessoas [2020]': '4064052', 'Densidade demográfica - hab/km² [2010]': '76.25', 'Matrículas no ensino fundamental - matrículas [2018]': '502059', 'IDH <span>Índice de desenvolvimento humano</span> [2010]': '0.740', 'Receitas realizadas - R$ (×1000) [2017]': '19685616.74376', 'Despesas empenhadas - R$ (×1000) [2017]': '14392338.00188', 'Rendimento mensal domiciliar per capita - R$ [2019]': '1477', 'Total de veículos - veículos [2018]': '1936862', '': ''}, 'Goiás': {'UF [-]': 'Goiás', 'Código [-]': '52', 'Gentílico [-]': 'goiano', 'Governador [2019]': 'RONALDO RAMOS CAIADO', 'Capital [2010]': 'Goiânia', 'Área Territorial - km² [2019]': '340203.329', 'População estimada - pessoas [2020]': '7113540', 'Densidade demográfica - hab/km² [2010]': '17.65', 'Matrículas no ensino fundamental - matrículas [2018]': '877593', 'IDH <span>Índice de desenvolvimento humano</span> [2010]': '0.735', 'Receitas realizadas - R$ (×1000) [2017]': '37885335.16848', 'Despesas empenhadas - R$ (×1000) [2017]': '24248380.34233', 'Rendimento mensal domiciliar per capita - R$ [2019]': '1306', 'Total de veículos - veículos [2018]': '3909429', '': ''}, 'Maranhão': {'UF [-]': 'Maranhão', 'Código [-]': '21', 'Gentílico [-]': 'maranhense', 'Governador [2019]': 'FLÁVIO DINO DE CASTRO E COSTA', 'Capital [2010]': 'São Luís', 'Área Territorial - km² [2019]': '329642.182', 'População estimada - pessoas [2020]': '7114598', 'Densidade demográfica - hab/km² [2010]': '19.81', 'Matrículas no ensino fundamental - matrículas [2018]': '1178949', 'IDH <span>Índice de desenvolvimento humano</span> [2010]': '0.639', 'Receitas realizadas - R$ (×1000) [2017]': '18503261.35491', 'Despesas empenhadas - R$ (×1000) [2017]': '17627170.75574', 'Rendimento mensal domiciliar per capita - R$ [2019]': '636', 'Total de veículos - veículos [2018]': '1696683', '': ''}, 'Mato Grosso': {'UF [-]': 'Mato Grosso', 'Código [-]': '51', 'Gentílico [-]': 'mato-grossense', 'Governador [2019]': 'MAURO MENDES FERREIRA', 'Capital [2010]': 'Cuiabá', 'Área Territorial - km² [2019]': '903207.019', 'População estimada - pessoas [2020]': '3526220', 'Densidade demográfica - hab/km² [2010]': '3.36', 'Matrículas no ensino fundamental - matrículas [2018]': '471613', 'IDH <span>Índice de desenvolvimento humano</span> [2010]': '0.725', 'Receitas realizadas - R$ (×1000) [2017]': '23958528.83588', 'Despesas empenhadas - R$ (×1000) [2017]': '18187363.27009', 'Rendimento mensal domiciliar per capita - R$ [2019]': '1403', 'Total de veículos - veículos [2018]': '2080848', '': ''}, 'Mato Grosso do Sul': {'UF [-]': 'Mato Grosso do Sul', 'Código [-]': '50', 'Gentílico [-]': 'sul-mato-grossense ou mato-grossense-do-sul', 'Governador [2019]': 'REINALDO AZAMBUJA SILVA', 'Capital [2010]': 'Campo Grande', 'Área Territorial - km² [2019]': '357145.534', 'População estimada - pessoas [2020]': '2809394', 'Densidade demográfica - hab/km² [2010]': '6.86', 'Matrículas no ensino fundamental - matrículas [2018]': '404114', 'IDH <span>Índice de desenvolvimento humano</span> [2010]': '0.729', 'Receitas realizadas - R$ (×1000) [2017]': '16396655.77012', 'Despesas empenhadas - R$ (×1000) [2017]': '14506915.37404', 'Rendimento mensal domiciliar per capita - R$ [2019]': '1514', 'Total de veículos - veículos [2018]': '1583142', '': ''}, 'Minas Gerais': {'UF [-]': 'Minas Gerais', 'Código [-]': '31', 'Gentílico [-]': 'mineiro', 'Governador [2019]': 'ROMEU ZEMA NETO', 'Capital [2010]': 'Belo Horizonte', 'Área Territorial - km² [2019]': '586521.123', 'População estimada - pessoas [2020]': '21292666', 'Densidade demográfica - hab/km² [2010]': '33.41', 'Matrículas no ensino fundamental - matrículas [2018]': '2511483', 'IDH <span>Índice de desenvolvimento humano</span> [2010]': '0.731', 'Receitas realizadas - R$ (×1000) [2017]': '97199823.15616', 'Despesas empenhadas - R$ (×1000) [2017]': '98391669.16323', 'Rendimento mensal domiciliar per capita - R$ [2019]': '1358', 'Total de veículos - veículos [2018]': '11191341', '': ''}, 'Pará': {'UF [-]': 'Pará', 'Código [-]': '15', 'Gentílico [-]': 'paraense', 'Governador [2019]': 'HELDER ZAHLUTH BARBALHO', 'Capital [2010]': 'Belém', 'Área Territorial - km² [2019]': '1245870.798', 'População estimada - pessoas [2020]': '8690745', 'Densidade demográfica - hab/km² [2010]': '6.07', 'Matrículas no ensino fundamental - matrículas [2018]': '1439788', 'IDH <span>Índice de desenvolvimento humano</span> [2010]': '0.646', 'Receitas realizadas - R$ (×1000) [2017]': '25849446.10454', 'Despesas empenhadas - R$ (×1000) [2017]': '22533470.04547', 'Rendimento mensal domiciliar per capita - R$ [2019]': '807', 'Total de veículos - veículos [2018]': '2013952', '': ''}, 'Paraíba': {'UF [-]': 'Paraíba', 'Código [-]': '25', 'Gentílico [-]': 'paraibano', 'Governador [2019]': 'JOÃO AZEVEDO LINS FILHO', 'Capital [2010]': 'João Pessoa', 'Área Territorial - km² [2019]': '56467.242', 'População estimada - pessoas [2020]': '4039277', 'Densidade demográfica - hab/km² [2010]': '66.70', 'Matrículas no ensino fundamental - matrículas [2018]': '556248', 'IDH <span>Índice de desenvolvimento humano</span> [2010]': '0.658', 'Receitas realizadas - R$ (×1000) [2017]': '13097005.31928', 'Despesas empenhadas - R$ (×1000) [2017]': '10074700.04266', 'Rendimento mensal domiciliar per capita - R$ [2019]': '929', 'Total de veículos - veículos [2018]': '1293668', '': ''}, 'Paraná': {'UF [-]': 'Paraná', 'Código [-]': '41', 'Gentílico [-]': 'paranaense', 'Governador [2019]': 'CARLOS ROBERTO MASSA JUNIOR', 'Capital [2010]': 'Curitiba', 'Área Territorial - km² [2019]': '199298.979', 'População estimada - pessoas [2020]': '11516840', 'Densidade demográfica - hab/km² [2010]': '52.40', 'Matrículas no ensino fundamental - matrículas [2018]': '1427218', 'IDH <span>Índice de desenvolvimento humano</span> [2010]': '0.749', 'Receitas realizadas - R$ (×1000) [2017]': '60163576.12246', 'Despesas empenhadas - R$ (×1000) [2017]': '55534402.97483', 'Rendimento mensal domiciliar per capita - R$ [2019]': '1621', 'Total de veículos - veículos [2018]': '7571122', '': ''}, 'Pernambuco': {'UF [-]': 'Pernambuco', 'Código [-]': '26', 'Gentílico [-]': 'pernambucano', 'Governador [2019]': 'PAULO HENRIQUE SARAIVA CÂMARA', 'Capital [2010]': 'Recife', 'Área Territorial - km² [2019]': '98067.881', 'População estimada - pessoas [2020]': '9616621', 'Densidade demográfica - hab/km² [2010]': '89.62', 'Matrículas no ensino fundamental - matrículas [2018]': '1301930', 'IDH <span>Índice de desenvolvimento humano</span> [2010]': '0.673', 'Receitas realizadas - R$ (×1000) [2017]': '35746028.97102', 'Despesas empenhadas - R$ (×1000) [2017]': '33320486.44445', 'Rendimento mensal domiciliar per capita - R$ [2019]': '970', 'Total de veículos - veículos [2018]': '3010638', '': ''}, 'Piauí': {'UF [-]': 'Piauí', 'Código [-]': '22', 'Gentílico [-]': 'piauiense', 'Governador [2019]': 'JOSÉ WELLINGTON BARROSO DE ARAÚJO DIAS', 'Capital [2010]': 'Teresina', 'Área Territorial - km² [2019]': '251756.515', 'População estimada - pessoas [2020]': '3281480', 'Densidade demográfica - hab/km² [2010]': '12.40', 'Matrículas no ensino fundamental - matrículas [2018]': '480126', 'IDH <span>Índice de desenvolvimento humano</span> [2010]': '0.646', 'Receitas realizadas - R$ (×1000) [2017]': '12124215.61511', 'Despesas empenhadas - R$ (×1000) [2017]': '9676736.31835', 'Rendimento mensal domiciliar per capita - R$ [2019]': '827', 'Total de veículos - veículos [2018]': '1196192', '': ''}, 'Rio de Janeiro': {'UF [-]': 'Rio de Janeiro', 'Código [-]': '33', 'Gentílico [-]': 'fluminense', 'Governador [2019]': 'WILSON JOSÉ WITZEL', 'Capital [2010]': 'Rio de Janeiro', 'Área Territorial - km² [2019]': '43750.427', 'População estimada - pessoas [2020]': '17366189', 'Densidade demográfica - hab/km² [2010]': '365.23', 'Matrículas no ensino fundamental - matrículas [2018]': '2003315', 'IDH <span>Índice de desenvolvimento humano</span> [2010]': '0.761', 'Receitas realizadas - R$ (×1000) [2017]': '78488140.78862', 'Despesas empenhadas - R$ (×1000) [2017]': '67965548.69757', 'Rendimento mensal domiciliar per capita - R$ [2019]': '1882', 'Total de veículos - veículos [2018]': '6725822', '': ''}, 'Rio Grande do Norte': {'UF [-]': 'Rio Grande do Norte', 'Código [-]': '24', 'Gentílico [-]': 'potiguar ou  norte-rio-grandense ou  rio-grandense-do-norte', 'Governador [2019]': 'MARIA DE FATIMA BEZERRA', 'Capital [2010]': 'Natal', 'Área Territorial - km² [2019]': '52809.602', 'População estimada - pessoas [2020]': '3534165', 'Densidade demográfica - hab/km² [2010]': '59.99', 'Matrículas no ensino fundamental - matrículas [2018]': '467629', 'IDH <span>Índice de desenvolvimento humano</span> [2010]': '0.684', 'Receitas realizadas - R$ (×1000) [2017]': '13527552.73159', 'Despesas empenhadas - R$ (×1000) [2017]': '11330957.55333', 'Rendimento mensal domiciliar per capita - R$ [2019]': '1057', 'Total de veículos - veículos [2018]': '1290903', '': ''}, 'Rio Grande do Sul': {'UF [-]': 'Rio Grande do Sul', 'Código [-]': '43', 'Gentílico [-]': 'gaúcho ou sul-rio-grandense', 'Governador [2019]': 'EDUARDO FIGUEIREDO CAVALHEIRO LEITE', 'Capital [2010]': 'Porto Alegre', 'Área Territorial - km² [2019]': '281707.156', 'População estimada - pessoas [2020]': '11422973', 'Densidade demográfica - hab/km² [2010]': '37.96', 'Matrículas no ensino fundamental - matrículas [2018]': '1298736', 'IDH <span>Índice de desenvolvimento humano</span> [2010]': '0.746', 'Receitas realizadas - R$ (×1000) [2017]': '66397468.17915', 'Despesas empenhadas - R$ (×1000) [2017]': '62476279.34364', 'Rendimento mensal domiciliar per capita - R$ [2019]': '1843', 'Total de veículos - veículos [2018]': '7077972', '': ''}, 'Rondônia': {'UF [-]': 'Rondônia', 'Código [-]': '11', 'Gentílico [-]': 'rondoniense ou rondoniano', 'Governador [2019]': 'MARCOS JOSE ROCHA DOS SANTOS', 'Capital [2010]': 'Porto Velho', 'Área Territorial - km² [2019]': '237765.240', 'População estimada - pessoas [2020]': '1796460', 'Densidade demográfica - hab/km² [2010]': '6.58', 'Matrículas no ensino fundamental - matrículas [2018]': '269626', 'IDH <span>Índice de desenvolvimento humano</span> [2010]': '0.690', 'Receitas realizadas - R$ (×1000) [2017]': '9122310.72305', 'Despesas empenhadas - R$ (×1000) [2017]': '7085530.0168', 'Rendimento mensal domiciliar per capita - R$ [2019]': '1136', 'Total de veículos - veículos [2018]': '985047', '': ''}, 'Roraima': {'UF [-]': 'Roraima', 'Código [-]': '14', 'Gentílico [-]': 'roraimense', 'Governador [2019]': 'ANTONIO OLIVERIO GARCIA DE ALMEIDA', 'Capital [2010]': 'Boa Vista', 'Área Territorial - km² [2019]': '223644.527', 'População estimada - pessoas [2020]': '631181', 'Densidade demográfica - hab/km² [2010]': '2.01', 'Matrículas no ensino fundamental - matrículas [2018]': '96582', 'IDH <span>Índice de desenvolvimento humano</span> [2010]': '0.707', 'Receitas realizadas - R$ (×1000) [2017]': '4419450.41557', 'Despesas empenhadas - R$ (×1000) [2017]': '3384683.73914', 'Rendimento mensal domiciliar per capita - R$ [2019]': '1044', 'Total de veículos - veículos [2018]': '219290', '': ''}, 'Santa Catarina': {'UF [-]': 'Santa Catarina', 'Código [-]': '42', 'Gentílico [-]': 'catarinense ou barriga-verde', 'Governador [2019]': 'CARLOS MOISÉS DA SILVA', 'Capital [2010]': 'Florianópolis', 'Área Territorial - km² [2019]': '95730.684', 'População estimada - pessoas [2020]': '7252502', 'Densidade demográfica - hab/km² [2010]': '65.27', 'Matrículas no ensino fundamental - matrículas [2018]': '851993', 'IDH <span>Índice de desenvolvimento humano</span> [2010]': '0.774', 'Receitas realizadas - R$ (×1000) [2017]': '34696772.82078', 'Despesas empenhadas - R$ (×1000) [2017]': '25595103.37918', 'Rendimento mensal domiciliar per capita - R$ [2019]': '1769', 'Total de veículos - veículos [2018]': '5152615', '': ''}, 'São Paulo': {'UF [-]': 'São Paulo', 'Código [-]': '35', 'Gentílico [-]': 'paulista', 'Governador [2019]': 'JOÃO AGRIPINO DA COSTA DORIA JUNIOR', 'Capital [2010]': 'São Paulo', 'Área Territorial - km² [2019]': '248219.481', 'População estimada - pessoas [2020]': '46289333', 'Densidade demográfica - hab/km² [2010]': '166.23', 'Matrículas no ensino fundamental - matrículas [2018]': '5367614', 'IDH <span>Índice de desenvolvimento humano</span> [2010]': '0.783', 'Receitas realizadas - R$ (×1000) [2017]': '232822496.56706', 'Despesas empenhadas - R$ (×1000) [2017]': '231982243.69176', 'Rendimento mensal domiciliar per capita - R$ [2019]': '1946', 'Total de veículos - veículos [2018]': '29057749', '': ''}, 'Sergipe': {'UF [-]': 'Sergipe', 'Código [-]': '28', 'Gentílico [-]': 'sergipano ou sergipense', 'Governador [2019]': 'BELIVALDO CHAGAS SILVA', 'Capital [2010]': 'Aracaju', 'Área Territorial - km² [2019]': '21925.424', 'População estimada - pessoas [2020]': '2318822', 'Densidade demográfica - hab/km² [2010]': '94.36', 'Matrículas no ensino fundamental - matrículas [2018]': '331297', 'IDH <span>Índice de desenvolvimento humano</span> [2010]': '0.665', 'Receitas realizadas - R$ (×1000) [2017]': '10145046.95355', 'Despesas empenhadas - R$ (×1000) [2017]': '8494927.19996', 'Rendimento mensal domiciliar per capita - R$ [2019]': '980', 'Total de veículos - veículos [2018]': '772380', '': ''}, 'Tocantins': {'UF [-]': 'Tocantins', 'Código [-]': '17', 'Gentílico [-]': 'tocantinense', 'Governador [2019]': 'MAURO CARLESSE', 'Capital [2010]': 'Palmas', 'Área Territorial - km² [2019]': '277466.763', 'População estimada - pessoas [2020]': '1590248', 'Densidade demográfica - hab/km² [2010]': '4.98', 'Matrículas no ensino fundamental - matrículas [2018]': '246183', 'IDH <span>Índice de desenvolvimento humano</span> [2010]': '0.699', 'Receitas realizadas - R$ (×1000) [2017]': '10305099.01288', 'Despesas empenhadas - R$ (×1000) [2017]': '8929456.43836', 'Rendimento mensal domiciliar per capita - R$ [2019]': '1056', 'Total de veículos - veículos [2018]': '690169', '': ''}}\n"
     ]
    }
   ],
   "source": [
    "estados_dict = {}\n",
    "cabecalho = texto.splitlines()[0].split(\",\")\n",
    "for linha in estados_brasil.splitlines()[1:]:\n",
    "  linhalista = linha.split(\",\")\n",
    "  dictuf = {}\n",
    "  for x in range(len(cabecalho)):\n",
    "    dictuf[ cabecalho[x]]  = linhalista[x] \n",
    "  uf = linhalista[0]\n",
    "  estados_dict[uf] = dictuf\n",
    "\n",
    "print(estados_dict)"
   ]
  },
  {
   "cell_type": "code",
   "execution_count": 22,
   "metadata": {
    "colab": {
     "base_uri": "https://localhost:8080/"
    },
    "executionInfo": {
     "elapsed": 729,
     "status": "ok",
     "timestamp": 1604450104639,
     "user": {
      "displayName": "Orlando O. S.",
      "photoUrl": "https://lh3.googleusercontent.com/a-/AOh14Gj-E1yuy1M_3ruwN4TWYPK4BwysauSW7GQmHheS=s64",
      "userId": "15066502291703974467"
     },
     "user_tz": 180
    },
    "id": "c3HgkQMYrXyl",
    "outputId": "aafe7a9b-46c3-4260-b929-b4599546742e"
   },
   "outputs": [
    {
     "data": {
      "text/plain": [
       "[0, 1, 2, 3, 4, 5, 6, 7, 8, 9, 10, 11, 12, 13, 14]"
      ]
     },
     "execution_count": 22,
     "metadata": {},
     "output_type": "execute_result"
    }
   ],
   "source": [
    "list(range(len(cabecalho)))"
   ]
  },
  {
   "cell_type": "code",
   "execution_count": 23,
   "metadata": {
    "colab": {
     "base_uri": "https://localhost:8080/"
    },
    "executionInfo": {
     "elapsed": 760,
     "status": "ok",
     "timestamp": 1604449916832,
     "user": {
      "displayName": "Orlando O. S.",
      "photoUrl": "https://lh3.googleusercontent.com/a-/AOh14Gj-E1yuy1M_3ruwN4TWYPK4BwysauSW7GQmHheS=s64",
      "userId": "15066502291703974467"
     },
     "user_tz": 180
    },
    "id": "tpQBeyBkqbc6",
    "outputId": "cddc647b-2ab5-4e33-bae2-d04d2dd4c8cc"
   },
   "outputs": [
    {
     "name": "stdout",
     "output_type": "stream",
     "text": [
      "{'Acre': {'UF [-]': 'Acre', 'Código [-]': '12', 'Gentílico [-]': 'acriano', 'Governador [2019]': 'GLADSON DE LIMA CAMELI', 'Capital [2010]': 'Rio Branco', 'Área Territorial - km² [2019]': '164123.964', 'População estimada - pessoas [2020]': '894470', 'Densidade demográfica - hab/km² [2010]': '4.47', 'Matrículas no ensino fundamental - matrículas [2018]': '157646', 'IDH <span>Índice de desenvolvimento humano</span> [2010]': '0.663', 'Receitas realizadas - R$ (×1000) [2017]': '6632883.10836', 'Despesas empenhadas - R$ (×1000) [2017]': '6084416.8063', 'Rendimento mensal domiciliar per capita - R$ [2019]': '890', 'Total de veículos - veículos [2018]': '277831', '': ''}, 'Alagoas': {'UF [-]': 'Alagoas', 'Código [-]': '27', 'Gentílico [-]': 'alagoano', 'Governador [2019]': 'JOSE RENAN VASCONCELOS CALHEIROS FILHO', 'Capital [2010]': 'Maceió', 'Área Territorial - km² [2019]': '27843.295', 'População estimada - pessoas [2020]': '3351543', 'Densidade demográfica - hab/km² [2010]': '112.33', 'Matrículas no ensino fundamental - matrículas [2018]': '490587', 'IDH <span>Índice de desenvolvimento humano</span> [2010]': '0.631', 'Receitas realizadas - R$ (×1000) [2017]': '11950438.46015', 'Despesas empenhadas - R$ (×1000) [2017]': '10460634.91711', 'Rendimento mensal domiciliar per capita - R$ [2019]': '731', 'Total de veículos - veículos [2018]': '834827', '': ''}, 'Amapá': {'UF [-]': 'Amapá', 'Código [-]': '16', 'Gentílico [-]': 'amapaense', 'Governador [2019]': 'ANTONIO WALDEZ GÓES DA SILVA', 'Capital [2010]': 'Macapá', 'Área Territorial - km² [2019]': '142470.762', 'População estimada - pessoas [2020]': '861773', 'Densidade demográfica - hab/km² [2010]': '4.69', 'Matrículas no ensino fundamental - matrículas [2018]': '136185', 'IDH <span>Índice de desenvolvimento humano</span> [2010]': '0.708', 'Receitas realizadas - R$ (×1000) [2017]': '5396417.14471', 'Despesas empenhadas - R$ (×1000) [2017]': '4224464.08829', 'Rendimento mensal domiciliar per capita - R$ [2019]': '880', 'Total de veículos - veículos [2018]': '195039', '': ''}, 'Amazonas': {'UF [-]': 'Amazonas', 'Código [-]': '13', 'Gentílico [-]': 'amazonense', 'Governador [2019]': 'WILSON MIRANDA LIMA', 'Capital [2010]': 'Manaus', 'Área Territorial - km² [2019]': '1559167.889', 'População estimada - pessoas [2020]': '4207714', 'Densidade demográfica - hab/km² [2010]': '2.23', 'Matrículas no ensino fundamental - matrículas [2018]': '705007', 'IDH <span>Índice de desenvolvimento humano</span> [2010]': '0.674', 'Receitas realizadas - R$ (×1000) [2017]': '17328459.43402', 'Despesas empenhadas - R$ (×1000) [2017]': '15324896.55705', 'Rendimento mensal domiciliar per capita - R$ [2019]': '842', 'Total de veículos - veículos [2018]': '883083', '': ''}, 'Bahia': {'UF [-]': 'Bahia', 'Código [-]': '29', 'Gentílico [-]': 'baiano', 'Governador [2019]': 'RUI COSTA DOS SANTOS', 'Capital [2010]': 'Salvador', 'Área Territorial - km² [2019]': '564760.427', 'População estimada - pessoas [2020]': '14930634', 'Densidade demográfica - hab/km² [2010]': '24.82', 'Matrículas no ensino fundamental - matrículas [2018]': '2034711', 'IDH <span>Índice de desenvolvimento humano</span> [2010]': '0.660', 'Receitas realizadas - R$ (×1000) [2017]': '50191003.24052', 'Despesas empenhadas - R$ (×1000) [2017]': '45570160.0038', 'Rendimento mensal domiciliar per capita - R$ [2019]': '913', 'Total de veículos - veículos [2018]': '4139107', '': ''}, 'Ceará': {'UF [-]': 'Ceará', 'Código [-]': '23', 'Gentílico [-]': 'cearense', 'Governador [2019]': 'CAMILO SOBREIRA DE SANTANA', 'Capital [2010]': 'Fortaleza', 'Área Territorial - km² [2019]': '148894.441', 'População estimada - pessoas [2020]': '9187103', 'Densidade demográfica - hab/km² [2010]': '56.76', 'Matrículas no ensino fundamental - matrículas [2018]': '1198116', 'IDH <span>Índice de desenvolvimento humano</span> [2010]': '0.682', 'Receitas realizadas - R$ (×1000) [2017]': '28420222.47191', 'Despesas empenhadas - R$ (×1000) [2017]': '24608352.18276', 'Rendimento mensal domiciliar per capita - R$ [2019]': '942', 'Total de veículos - veículos [2018]': '3148369', '': ''}, 'Distrito Federal': {'UF [-]': 'Distrito Federal', 'Código [-]': '53', 'Gentílico [-]': 'brasiliense', 'Governador [2019]': 'IBANEIS ROCHA BARROS JUNIOR', 'Capital [2010]': 'Brasília', 'Área Territorial - km² [2019]': '5760.783', 'População estimada - pessoas [2020]': '3055149', 'Densidade demográfica - hab/km² [2010]': '444.66', 'Matrículas no ensino fundamental - matrículas [2018]': '377622', 'IDH <span>Índice de desenvolvimento humano</span> [2010]': '0.824', 'Receitas realizadas - R$ (×1000) [2017]': '23812211.27074', 'Despesas empenhadas - R$ (×1000) [2017]': '21990464.6849', 'Rendimento mensal domiciliar per capita - R$ [2019]': '2686', 'Total de veículos - veículos [2018]': '1812473', '': ''}, 'Espírito Santo': {'UF [-]': 'Espírito Santo', 'Código [-]': '32', 'Gentílico [-]': 'capixaba ou espírito-santense', 'Governador [2019]': 'JOSE RENATO CASAGRANDE', 'Capital [2010]': 'Vitória', 'Área Territorial - km² [2019]': '46074.447', 'População estimada - pessoas [2020]': '4064052', 'Densidade demográfica - hab/km² [2010]': '76.25', 'Matrículas no ensino fundamental - matrículas [2018]': '502059', 'IDH <span>Índice de desenvolvimento humano</span> [2010]': '0.740', 'Receitas realizadas - R$ (×1000) [2017]': '19685616.74376', 'Despesas empenhadas - R$ (×1000) [2017]': '14392338.00188', 'Rendimento mensal domiciliar per capita - R$ [2019]': '1477', 'Total de veículos - veículos [2018]': '1936862', '': ''}, 'Goiás': {'UF [-]': 'Goiás', 'Código [-]': '52', 'Gentílico [-]': 'goiano', 'Governador [2019]': 'RONALDO RAMOS CAIADO', 'Capital [2010]': 'Goiânia', 'Área Territorial - km² [2019]': '340203.329', 'População estimada - pessoas [2020]': '7113540', 'Densidade demográfica - hab/km² [2010]': '17.65', 'Matrículas no ensino fundamental - matrículas [2018]': '877593', 'IDH <span>Índice de desenvolvimento humano</span> [2010]': '0.735', 'Receitas realizadas - R$ (×1000) [2017]': '37885335.16848', 'Despesas empenhadas - R$ (×1000) [2017]': '24248380.34233', 'Rendimento mensal domiciliar per capita - R$ [2019]': '1306', 'Total de veículos - veículos [2018]': '3909429', '': ''}, 'Maranhão': {'UF [-]': 'Maranhão', 'Código [-]': '21', 'Gentílico [-]': 'maranhense', 'Governador [2019]': 'FLÁVIO DINO DE CASTRO E COSTA', 'Capital [2010]': 'São Luís', 'Área Territorial - km² [2019]': '329642.182', 'População estimada - pessoas [2020]': '7114598', 'Densidade demográfica - hab/km² [2010]': '19.81', 'Matrículas no ensino fundamental - matrículas [2018]': '1178949', 'IDH <span>Índice de desenvolvimento humano</span> [2010]': '0.639', 'Receitas realizadas - R$ (×1000) [2017]': '18503261.35491', 'Despesas empenhadas - R$ (×1000) [2017]': '17627170.75574', 'Rendimento mensal domiciliar per capita - R$ [2019]': '636', 'Total de veículos - veículos [2018]': '1696683', '': ''}, 'Mato Grosso': {'UF [-]': 'Mato Grosso', 'Código [-]': '51', 'Gentílico [-]': 'mato-grossense', 'Governador [2019]': 'MAURO MENDES FERREIRA', 'Capital [2010]': 'Cuiabá', 'Área Territorial - km² [2019]': '903207.019', 'População estimada - pessoas [2020]': '3526220', 'Densidade demográfica - hab/km² [2010]': '3.36', 'Matrículas no ensino fundamental - matrículas [2018]': '471613', 'IDH <span>Índice de desenvolvimento humano</span> [2010]': '0.725', 'Receitas realizadas - R$ (×1000) [2017]': '23958528.83588', 'Despesas empenhadas - R$ (×1000) [2017]': '18187363.27009', 'Rendimento mensal domiciliar per capita - R$ [2019]': '1403', 'Total de veículos - veículos [2018]': '2080848', '': ''}, 'Mato Grosso do Sul': {'UF [-]': 'Mato Grosso do Sul', 'Código [-]': '50', 'Gentílico [-]': 'sul-mato-grossense ou mato-grossense-do-sul', 'Governador [2019]': 'REINALDO AZAMBUJA SILVA', 'Capital [2010]': 'Campo Grande', 'Área Territorial - km² [2019]': '357145.534', 'População estimada - pessoas [2020]': '2809394', 'Densidade demográfica - hab/km² [2010]': '6.86', 'Matrículas no ensino fundamental - matrículas [2018]': '404114', 'IDH <span>Índice de desenvolvimento humano</span> [2010]': '0.729', 'Receitas realizadas - R$ (×1000) [2017]': '16396655.77012', 'Despesas empenhadas - R$ (×1000) [2017]': '14506915.37404', 'Rendimento mensal domiciliar per capita - R$ [2019]': '1514', 'Total de veículos - veículos [2018]': '1583142', '': ''}, 'Minas Gerais': {'UF [-]': 'Minas Gerais', 'Código [-]': '31', 'Gentílico [-]': 'mineiro', 'Governador [2019]': 'ROMEU ZEMA NETO', 'Capital [2010]': 'Belo Horizonte', 'Área Territorial - km² [2019]': '586521.123', 'População estimada - pessoas [2020]': '21292666', 'Densidade demográfica - hab/km² [2010]': '33.41', 'Matrículas no ensino fundamental - matrículas [2018]': '2511483', 'IDH <span>Índice de desenvolvimento humano</span> [2010]': '0.731', 'Receitas realizadas - R$ (×1000) [2017]': '97199823.15616', 'Despesas empenhadas - R$ (×1000) [2017]': '98391669.16323', 'Rendimento mensal domiciliar per capita - R$ [2019]': '1358', 'Total de veículos - veículos [2018]': '11191341', '': ''}, 'Pará': {'UF [-]': 'Pará', 'Código [-]': '15', 'Gentílico [-]': 'paraense', 'Governador [2019]': 'HELDER ZAHLUTH BARBALHO', 'Capital [2010]': 'Belém', 'Área Territorial - km² [2019]': '1245870.798', 'População estimada - pessoas [2020]': '8690745', 'Densidade demográfica - hab/km² [2010]': '6.07', 'Matrículas no ensino fundamental - matrículas [2018]': '1439788', 'IDH <span>Índice de desenvolvimento humano</span> [2010]': '0.646', 'Receitas realizadas - R$ (×1000) [2017]': '25849446.10454', 'Despesas empenhadas - R$ (×1000) [2017]': '22533470.04547', 'Rendimento mensal domiciliar per capita - R$ [2019]': '807', 'Total de veículos - veículos [2018]': '2013952', '': ''}, 'Paraíba': {'UF [-]': 'Paraíba', 'Código [-]': '25', 'Gentílico [-]': 'paraibano', 'Governador [2019]': 'JOÃO AZEVEDO LINS FILHO', 'Capital [2010]': 'João Pessoa', 'Área Territorial - km² [2019]': '56467.242', 'População estimada - pessoas [2020]': '4039277', 'Densidade demográfica - hab/km² [2010]': '66.70', 'Matrículas no ensino fundamental - matrículas [2018]': '556248', 'IDH <span>Índice de desenvolvimento humano</span> [2010]': '0.658', 'Receitas realizadas - R$ (×1000) [2017]': '13097005.31928', 'Despesas empenhadas - R$ (×1000) [2017]': '10074700.04266', 'Rendimento mensal domiciliar per capita - R$ [2019]': '929', 'Total de veículos - veículos [2018]': '1293668', '': ''}, 'Paraná': {'UF [-]': 'Paraná', 'Código [-]': '41', 'Gentílico [-]': 'paranaense', 'Governador [2019]': 'CARLOS ROBERTO MASSA JUNIOR', 'Capital [2010]': 'Curitiba', 'Área Territorial - km² [2019]': '199298.979', 'População estimada - pessoas [2020]': '11516840', 'Densidade demográfica - hab/km² [2010]': '52.40', 'Matrículas no ensino fundamental - matrículas [2018]': '1427218', 'IDH <span>Índice de desenvolvimento humano</span> [2010]': '0.749', 'Receitas realizadas - R$ (×1000) [2017]': '60163576.12246', 'Despesas empenhadas - R$ (×1000) [2017]': '55534402.97483', 'Rendimento mensal domiciliar per capita - R$ [2019]': '1621', 'Total de veículos - veículos [2018]': '7571122', '': ''}, 'Pernambuco': {'UF [-]': 'Pernambuco', 'Código [-]': '26', 'Gentílico [-]': 'pernambucano', 'Governador [2019]': 'PAULO HENRIQUE SARAIVA CÂMARA', 'Capital [2010]': 'Recife', 'Área Territorial - km² [2019]': '98067.881', 'População estimada - pessoas [2020]': '9616621', 'Densidade demográfica - hab/km² [2010]': '89.62', 'Matrículas no ensino fundamental - matrículas [2018]': '1301930', 'IDH <span>Índice de desenvolvimento humano</span> [2010]': '0.673', 'Receitas realizadas - R$ (×1000) [2017]': '35746028.97102', 'Despesas empenhadas - R$ (×1000) [2017]': '33320486.44445', 'Rendimento mensal domiciliar per capita - R$ [2019]': '970', 'Total de veículos - veículos [2018]': '3010638', '': ''}, 'Piauí': {'UF [-]': 'Piauí', 'Código [-]': '22', 'Gentílico [-]': 'piauiense', 'Governador [2019]': 'JOSÉ WELLINGTON BARROSO DE ARAÚJO DIAS', 'Capital [2010]': 'Teresina', 'Área Territorial - km² [2019]': '251756.515', 'População estimada - pessoas [2020]': '3281480', 'Densidade demográfica - hab/km² [2010]': '12.40', 'Matrículas no ensino fundamental - matrículas [2018]': '480126', 'IDH <span>Índice de desenvolvimento humano</span> [2010]': '0.646', 'Receitas realizadas - R$ (×1000) [2017]': '12124215.61511', 'Despesas empenhadas - R$ (×1000) [2017]': '9676736.31835', 'Rendimento mensal domiciliar per capita - R$ [2019]': '827', 'Total de veículos - veículos [2018]': '1196192', '': ''}, 'Rio de Janeiro': {'UF [-]': 'Rio de Janeiro', 'Código [-]': '33', 'Gentílico [-]': 'fluminense', 'Governador [2019]': 'WILSON JOSÉ WITZEL', 'Capital [2010]': 'Rio de Janeiro', 'Área Territorial - km² [2019]': '43750.427', 'População estimada - pessoas [2020]': '17366189', 'Densidade demográfica - hab/km² [2010]': '365.23', 'Matrículas no ensino fundamental - matrículas [2018]': '2003315', 'IDH <span>Índice de desenvolvimento humano</span> [2010]': '0.761', 'Receitas realizadas - R$ (×1000) [2017]': '78488140.78862', 'Despesas empenhadas - R$ (×1000) [2017]': '67965548.69757', 'Rendimento mensal domiciliar per capita - R$ [2019]': '1882', 'Total de veículos - veículos [2018]': '6725822', '': ''}, 'Rio Grande do Norte': {'UF [-]': 'Rio Grande do Norte', 'Código [-]': '24', 'Gentílico [-]': 'potiguar ou  norte-rio-grandense ou  rio-grandense-do-norte', 'Governador [2019]': 'MARIA DE FATIMA BEZERRA', 'Capital [2010]': 'Natal', 'Área Territorial - km² [2019]': '52809.602', 'População estimada - pessoas [2020]': '3534165', 'Densidade demográfica - hab/km² [2010]': '59.99', 'Matrículas no ensino fundamental - matrículas [2018]': '467629', 'IDH <span>Índice de desenvolvimento humano</span> [2010]': '0.684', 'Receitas realizadas - R$ (×1000) [2017]': '13527552.73159', 'Despesas empenhadas - R$ (×1000) [2017]': '11330957.55333', 'Rendimento mensal domiciliar per capita - R$ [2019]': '1057', 'Total de veículos - veículos [2018]': '1290903', '': ''}, 'Rio Grande do Sul': {'UF [-]': 'Rio Grande do Sul', 'Código [-]': '43', 'Gentílico [-]': 'gaúcho ou sul-rio-grandense', 'Governador [2019]': 'EDUARDO FIGUEIREDO CAVALHEIRO LEITE', 'Capital [2010]': 'Porto Alegre', 'Área Territorial - km² [2019]': '281707.156', 'População estimada - pessoas [2020]': '11422973', 'Densidade demográfica - hab/km² [2010]': '37.96', 'Matrículas no ensino fundamental - matrículas [2018]': '1298736', 'IDH <span>Índice de desenvolvimento humano</span> [2010]': '0.746', 'Receitas realizadas - R$ (×1000) [2017]': '66397468.17915', 'Despesas empenhadas - R$ (×1000) [2017]': '62476279.34364', 'Rendimento mensal domiciliar per capita - R$ [2019]': '1843', 'Total de veículos - veículos [2018]': '7077972', '': ''}, 'Rondônia': {'UF [-]': 'Rondônia', 'Código [-]': '11', 'Gentílico [-]': 'rondoniense ou rondoniano', 'Governador [2019]': 'MARCOS JOSE ROCHA DOS SANTOS', 'Capital [2010]': 'Porto Velho', 'Área Territorial - km² [2019]': '237765.240', 'População estimada - pessoas [2020]': '1796460', 'Densidade demográfica - hab/km² [2010]': '6.58', 'Matrículas no ensino fundamental - matrículas [2018]': '269626', 'IDH <span>Índice de desenvolvimento humano</span> [2010]': '0.690', 'Receitas realizadas - R$ (×1000) [2017]': '9122310.72305', 'Despesas empenhadas - R$ (×1000) [2017]': '7085530.0168', 'Rendimento mensal domiciliar per capita - R$ [2019]': '1136', 'Total de veículos - veículos [2018]': '985047', '': ''}, 'Roraima': {'UF [-]': 'Roraima', 'Código [-]': '14', 'Gentílico [-]': 'roraimense', 'Governador [2019]': 'ANTONIO OLIVERIO GARCIA DE ALMEIDA', 'Capital [2010]': 'Boa Vista', 'Área Territorial - km² [2019]': '223644.527', 'População estimada - pessoas [2020]': '631181', 'Densidade demográfica - hab/km² [2010]': '2.01', 'Matrículas no ensino fundamental - matrículas [2018]': '96582', 'IDH <span>Índice de desenvolvimento humano</span> [2010]': '0.707', 'Receitas realizadas - R$ (×1000) [2017]': '4419450.41557', 'Despesas empenhadas - R$ (×1000) [2017]': '3384683.73914', 'Rendimento mensal domiciliar per capita - R$ [2019]': '1044', 'Total de veículos - veículos [2018]': '219290', '': ''}, 'Santa Catarina': {'UF [-]': 'Santa Catarina', 'Código [-]': '42', 'Gentílico [-]': 'catarinense ou barriga-verde', 'Governador [2019]': 'CARLOS MOISÉS DA SILVA', 'Capital [2010]': 'Florianópolis', 'Área Territorial - km² [2019]': '95730.684', 'População estimada - pessoas [2020]': '7252502', 'Densidade demográfica - hab/km² [2010]': '65.27', 'Matrículas no ensino fundamental - matrículas [2018]': '851993', 'IDH <span>Índice de desenvolvimento humano</span> [2010]': '0.774', 'Receitas realizadas - R$ (×1000) [2017]': '34696772.82078', 'Despesas empenhadas - R$ (×1000) [2017]': '25595103.37918', 'Rendimento mensal domiciliar per capita - R$ [2019]': '1769', 'Total de veículos - veículos [2018]': '5152615', '': ''}, 'São Paulo': {'UF [-]': 'São Paulo', 'Código [-]': '35', 'Gentílico [-]': 'paulista', 'Governador [2019]': 'JOÃO AGRIPINO DA COSTA DORIA JUNIOR', 'Capital [2010]': 'São Paulo', 'Área Territorial - km² [2019]': '248219.481', 'População estimada - pessoas [2020]': '46289333', 'Densidade demográfica - hab/km² [2010]': '166.23', 'Matrículas no ensino fundamental - matrículas [2018]': '5367614', 'IDH <span>Índice de desenvolvimento humano</span> [2010]': '0.783', 'Receitas realizadas - R$ (×1000) [2017]': '232822496.56706', 'Despesas empenhadas - R$ (×1000) [2017]': '231982243.69176', 'Rendimento mensal domiciliar per capita - R$ [2019]': '1946', 'Total de veículos - veículos [2018]': '29057749', '': ''}, 'Sergipe': {'UF [-]': 'Sergipe', 'Código [-]': '28', 'Gentílico [-]': 'sergipano ou sergipense', 'Governador [2019]': 'BELIVALDO CHAGAS SILVA', 'Capital [2010]': 'Aracaju', 'Área Territorial - km² [2019]': '21925.424', 'População estimada - pessoas [2020]': '2318822', 'Densidade demográfica - hab/km² [2010]': '94.36', 'Matrículas no ensino fundamental - matrículas [2018]': '331297', 'IDH <span>Índice de desenvolvimento humano</span> [2010]': '0.665', 'Receitas realizadas - R$ (×1000) [2017]': '10145046.95355', 'Despesas empenhadas - R$ (×1000) [2017]': '8494927.19996', 'Rendimento mensal domiciliar per capita - R$ [2019]': '980', 'Total de veículos - veículos [2018]': '772380', '': ''}, 'Tocantins': {'UF [-]': 'Tocantins', 'Código [-]': '17', 'Gentílico [-]': 'tocantinense', 'Governador [2019]': 'MAURO CARLESSE', 'Capital [2010]': 'Palmas', 'Área Territorial - km² [2019]': '277466.763', 'População estimada - pessoas [2020]': '1590248', 'Densidade demográfica - hab/km² [2010]': '4.98', 'Matrículas no ensino fundamental - matrículas [2018]': '246183', 'IDH <span>Índice de desenvolvimento humano</span> [2010]': '0.699', 'Receitas realizadas - R$ (×1000) [2017]': '10305099.01288', 'Despesas empenhadas - R$ (×1000) [2017]': '8929456.43836', 'Rendimento mensal domiciliar per capita - R$ [2019]': '1056', 'Total de veículos - veículos [2018]': '690169', '': ''}}\n"
     ]
    }
   ],
   "source": [
    "estados_dict = {}\n",
    "cabecalho = texto.splitlines()[0].split(\",\")\n",
    "for linha in estados_brasil.splitlines()[1:]:\n",
    "  linhalista = linha.split(\",\")\n",
    "  dictuf = { cabecalho[x] : linhalista[x] for x in range(len(cabecalho))  }\n",
    "  uf = linhalista[0]\n",
    "  estados_dict[uf] = dictuf\n",
    "\n",
    "print(estados_dict)"
   ]
  },
  {
   "cell_type": "code",
   "execution_count": 24,
   "metadata": {
    "colab": {
     "base_uri": "https://localhost:8080/"
    },
    "executionInfo": {
     "elapsed": 696,
     "status": "ok",
     "timestamp": 1604449305657,
     "user": {
      "displayName": "Orlando O. S.",
      "photoUrl": "https://lh3.googleusercontent.com/a-/AOh14Gj-E1yuy1M_3ruwN4TWYPK4BwysauSW7GQmHheS=s64",
      "userId": "15066502291703974467"
     },
     "user_tz": 180
    },
    "id": "TMezc_ZPoXr9",
    "outputId": "7a1db2a1-ba32-4fe3-b455-55ee8600aee2"
   },
   "outputs": [
    {
     "data": {
      "text/plain": [
       "['UF [-]',\n",
       " 'Código [-]',\n",
       " 'Gentílico [-]',\n",
       " 'Governador [2019]',\n",
       " 'Capital [2010]',\n",
       " 'Área Territorial - km² [2019]',\n",
       " 'População estimada - pessoas [2020]',\n",
       " 'Densidade demográfica - hab/km² [2010]',\n",
       " 'Matrículas no ensino fundamental - matrículas [2018]',\n",
       " 'IDH <span>Índice de desenvolvimento humano</span> [2010]',\n",
       " 'Receitas realizadas - R$ (×1000) [2017]',\n",
       " 'Despesas empenhadas - R$ (×1000) [2017]',\n",
       " 'Rendimento mensal domiciliar per capita - R$ [2019]',\n",
       " 'Total de veículos - veículos [2018]',\n",
       " '']"
      ]
     },
     "execution_count": 24,
     "metadata": {},
     "output_type": "execute_result"
    }
   ],
   "source": [
    "cabecalho"
   ]
  },
  {
   "cell_type": "code",
   "execution_count": 25,
   "metadata": {
    "colab": {
     "base_uri": "https://localhost:8080/"
    },
    "executionInfo": {
     "elapsed": 748,
     "status": "ok",
     "timestamp": 1604449326952,
     "user": {
      "displayName": "Orlando O. S.",
      "photoUrl": "https://lh3.googleusercontent.com/a-/AOh14Gj-E1yuy1M_3ruwN4TWYPK4BwysauSW7GQmHheS=s64",
      "userId": "15066502291703974467"
     },
     "user_tz": 180
    },
    "id": "GVVIqI2goCP9",
    "outputId": "f8381b1a-be05-4f52-c1a4-ae59df196ca1"
   },
   "outputs": [
    {
     "name": "stdout",
     "output_type": "stream",
     "text": [
      "{'UF [-]': 'vazio', 'Código [-]': 'vazio', 'Gentílico [-]': 'vazio', 'Governador [2019]': 'vazio', 'Capital [2010]': 'vazio', 'Área Territorial - km² [2019]': 'vazio', 'População estimada - pessoas [2020]': 'vazio', 'Densidade demográfica - hab/km² [2010]': 'vazio', 'Matrículas no ensino fundamental - matrículas [2018]': 'vazio', 'IDH <span>Índice de desenvolvimento humano</span> [2010]': 'vazio', 'Receitas realizadas - R$ (×1000) [2017]': 'vazio', 'Despesas empenhadas - R$ (×1000) [2017]': 'vazio', 'Rendimento mensal domiciliar per capita - R$ [2019]': 'vazio', 'Total de veículos - veículos [2018]': 'vazio', '': 'vazio'}\n"
     ]
    }
   ],
   "source": [
    "dictuf = {}\n",
    "for x in cabecalho:\n",
    "  dictuf[x] = 'vazio'\n",
    "\n",
    "print(dictuf)"
   ]
  },
  {
   "cell_type": "code",
   "execution_count": 26,
   "metadata": {
    "id": "UjnZGZIuoAT5"
   },
   "outputs": [],
   "source": [
    "dictuf = { x : \"vazio\" for x in cabecalho }"
   ]
  },
  {
   "cell_type": "code",
   "execution_count": 27,
   "metadata": {
    "colab": {
     "base_uri": "https://localhost:8080/"
    },
    "executionInfo": {
     "elapsed": 719,
     "status": "ok",
     "timestamp": 1604449712524,
     "user": {
      "displayName": "Orlando O. S.",
      "photoUrl": "https://lh3.googleusercontent.com/a-/AOh14Gj-E1yuy1M_3ruwN4TWYPK4BwysauSW7GQmHheS=s64",
      "userId": "15066502291703974467"
     },
     "user_tz": 180
    },
    "id": "b4IrY8ncoxwl",
    "outputId": "827154a0-2ee0-40e7-bd07-aad61370df1f"
   },
   "outputs": [
    {
     "name": "stdout",
     "output_type": "stream",
     "text": [
      "{'UF [-]': 'Tocantins', 'Código [-]': '17', 'Gentílico [-]': 'tocantinense', 'Governador [2019]': 'MAURO CARLESSE', 'Capital [2010]': 'Palmas', 'Área Territorial - km² [2019]': '277466.763', 'População estimada - pessoas [2020]': '1590248', 'Densidade demográfica - hab/km² [2010]': '4.98', 'Matrículas no ensino fundamental - matrículas [2018]': '246183', 'IDH <span>Índice de desenvolvimento humano</span> [2010]': '0.699', 'Receitas realizadas - R$ (×1000) [2017]': '10305099.01288', 'Despesas empenhadas - R$ (×1000) [2017]': '8929456.43836', 'Rendimento mensal domiciliar per capita - R$ [2019]': '1056', 'Total de veículos - veículos [2018]': '690169', '': ''}\n"
     ]
    }
   ],
   "source": [
    "dictuf = {}\n",
    "for x in range(len(cabecalho)):\n",
    "  dictuf[ cabecalho[x]]  = linhalista[x] \n",
    "print(dictuf)"
   ]
  },
  {
   "cell_type": "code",
   "execution_count": 28,
   "metadata": {
    "colab": {
     "base_uri": "https://localhost:8080/"
    },
    "executionInfo": {
     "elapsed": 765,
     "status": "ok",
     "timestamp": 1604449185095,
     "user": {
      "displayName": "Orlando O. S.",
      "photoUrl": "https://lh3.googleusercontent.com/a-/AOh14Gj-E1yuy1M_3ruwN4TWYPK4BwysauSW7GQmHheS=s64",
      "userId": "15066502291703974467"
     },
     "user_tz": 180
    },
    "id": "J-6QzPFUncHl",
    "outputId": "f4e13d22-255b-4164-f412-3cd8f424c2e3"
   },
   "outputs": [
    {
     "name": "stdout",
     "output_type": "stream",
     "text": [
      "{'Acre': {'UF [-]': 'vazio', 'Código [-]': 'vazio', 'Gentílico [-]': 'vazio', 'Governador [2019]': 'vazio', 'Capital [2010]': 'vazio', 'Área Territorial - km² [2019]': 'vazio', 'População estimada - pessoas [2020]': 'vazio', 'Densidade demográfica - hab/km² [2010]': 'vazio', 'Matrículas no ensino fundamental - matrículas [2018]': 'vazio', 'IDH <span>Índice de desenvolvimento humano</span> [2010]': 'vazio', 'Receitas realizadas - R$ (×1000) [2017]': 'vazio', 'Despesas empenhadas - R$ (×1000) [2017]': 'vazio', 'Rendimento mensal domiciliar per capita - R$ [2019]': 'vazio', 'Total de veículos - veículos [2018]': 'vazio', '': 'vazio'}, 'Alagoas': {'UF [-]': 'vazio', 'Código [-]': 'vazio', 'Gentílico [-]': 'vazio', 'Governador [2019]': 'vazio', 'Capital [2010]': 'vazio', 'Área Territorial - km² [2019]': 'vazio', 'População estimada - pessoas [2020]': 'vazio', 'Densidade demográfica - hab/km² [2010]': 'vazio', 'Matrículas no ensino fundamental - matrículas [2018]': 'vazio', 'IDH <span>Índice de desenvolvimento humano</span> [2010]': 'vazio', 'Receitas realizadas - R$ (×1000) [2017]': 'vazio', 'Despesas empenhadas - R$ (×1000) [2017]': 'vazio', 'Rendimento mensal domiciliar per capita - R$ [2019]': 'vazio', 'Total de veículos - veículos [2018]': 'vazio', '': 'vazio'}, 'Amapá': {'UF [-]': 'vazio', 'Código [-]': 'vazio', 'Gentílico [-]': 'vazio', 'Governador [2019]': 'vazio', 'Capital [2010]': 'vazio', 'Área Territorial - km² [2019]': 'vazio', 'População estimada - pessoas [2020]': 'vazio', 'Densidade demográfica - hab/km² [2010]': 'vazio', 'Matrículas no ensino fundamental - matrículas [2018]': 'vazio', 'IDH <span>Índice de desenvolvimento humano</span> [2010]': 'vazio', 'Receitas realizadas - R$ (×1000) [2017]': 'vazio', 'Despesas empenhadas - R$ (×1000) [2017]': 'vazio', 'Rendimento mensal domiciliar per capita - R$ [2019]': 'vazio', 'Total de veículos - veículos [2018]': 'vazio', '': 'vazio'}, 'Amazonas': {'UF [-]': 'vazio', 'Código [-]': 'vazio', 'Gentílico [-]': 'vazio', 'Governador [2019]': 'vazio', 'Capital [2010]': 'vazio', 'Área Territorial - km² [2019]': 'vazio', 'População estimada - pessoas [2020]': 'vazio', 'Densidade demográfica - hab/km² [2010]': 'vazio', 'Matrículas no ensino fundamental - matrículas [2018]': 'vazio', 'IDH <span>Índice de desenvolvimento humano</span> [2010]': 'vazio', 'Receitas realizadas - R$ (×1000) [2017]': 'vazio', 'Despesas empenhadas - R$ (×1000) [2017]': 'vazio', 'Rendimento mensal domiciliar per capita - R$ [2019]': 'vazio', 'Total de veículos - veículos [2018]': 'vazio', '': 'vazio'}, 'Bahia': {'UF [-]': 'vazio', 'Código [-]': 'vazio', 'Gentílico [-]': 'vazio', 'Governador [2019]': 'vazio', 'Capital [2010]': 'vazio', 'Área Territorial - km² [2019]': 'vazio', 'População estimada - pessoas [2020]': 'vazio', 'Densidade demográfica - hab/km² [2010]': 'vazio', 'Matrículas no ensino fundamental - matrículas [2018]': 'vazio', 'IDH <span>Índice de desenvolvimento humano</span> [2010]': 'vazio', 'Receitas realizadas - R$ (×1000) [2017]': 'vazio', 'Despesas empenhadas - R$ (×1000) [2017]': 'vazio', 'Rendimento mensal domiciliar per capita - R$ [2019]': 'vazio', 'Total de veículos - veículos [2018]': 'vazio', '': 'vazio'}, 'Ceará': {'UF [-]': 'vazio', 'Código [-]': 'vazio', 'Gentílico [-]': 'vazio', 'Governador [2019]': 'vazio', 'Capital [2010]': 'vazio', 'Área Territorial - km² [2019]': 'vazio', 'População estimada - pessoas [2020]': 'vazio', 'Densidade demográfica - hab/km² [2010]': 'vazio', 'Matrículas no ensino fundamental - matrículas [2018]': 'vazio', 'IDH <span>Índice de desenvolvimento humano</span> [2010]': 'vazio', 'Receitas realizadas - R$ (×1000) [2017]': 'vazio', 'Despesas empenhadas - R$ (×1000) [2017]': 'vazio', 'Rendimento mensal domiciliar per capita - R$ [2019]': 'vazio', 'Total de veículos - veículos [2018]': 'vazio', '': 'vazio'}, 'Distrito Federal': {'UF [-]': 'vazio', 'Código [-]': 'vazio', 'Gentílico [-]': 'vazio', 'Governador [2019]': 'vazio', 'Capital [2010]': 'vazio', 'Área Territorial - km² [2019]': 'vazio', 'População estimada - pessoas [2020]': 'vazio', 'Densidade demográfica - hab/km² [2010]': 'vazio', 'Matrículas no ensino fundamental - matrículas [2018]': 'vazio', 'IDH <span>Índice de desenvolvimento humano</span> [2010]': 'vazio', 'Receitas realizadas - R$ (×1000) [2017]': 'vazio', 'Despesas empenhadas - R$ (×1000) [2017]': 'vazio', 'Rendimento mensal domiciliar per capita - R$ [2019]': 'vazio', 'Total de veículos - veículos [2018]': 'vazio', '': 'vazio'}, 'Espírito Santo': {'UF [-]': 'vazio', 'Código [-]': 'vazio', 'Gentílico [-]': 'vazio', 'Governador [2019]': 'vazio', 'Capital [2010]': 'vazio', 'Área Territorial - km² [2019]': 'vazio', 'População estimada - pessoas [2020]': 'vazio', 'Densidade demográfica - hab/km² [2010]': 'vazio', 'Matrículas no ensino fundamental - matrículas [2018]': 'vazio', 'IDH <span>Índice de desenvolvimento humano</span> [2010]': 'vazio', 'Receitas realizadas - R$ (×1000) [2017]': 'vazio', 'Despesas empenhadas - R$ (×1000) [2017]': 'vazio', 'Rendimento mensal domiciliar per capita - R$ [2019]': 'vazio', 'Total de veículos - veículos [2018]': 'vazio', '': 'vazio'}, 'Goiás': {'UF [-]': 'vazio', 'Código [-]': 'vazio', 'Gentílico [-]': 'vazio', 'Governador [2019]': 'vazio', 'Capital [2010]': 'vazio', 'Área Territorial - km² [2019]': 'vazio', 'População estimada - pessoas [2020]': 'vazio', 'Densidade demográfica - hab/km² [2010]': 'vazio', 'Matrículas no ensino fundamental - matrículas [2018]': 'vazio', 'IDH <span>Índice de desenvolvimento humano</span> [2010]': 'vazio', 'Receitas realizadas - R$ (×1000) [2017]': 'vazio', 'Despesas empenhadas - R$ (×1000) [2017]': 'vazio', 'Rendimento mensal domiciliar per capita - R$ [2019]': 'vazio', 'Total de veículos - veículos [2018]': 'vazio', '': 'vazio'}, 'Maranhão': {'UF [-]': 'vazio', 'Código [-]': 'vazio', 'Gentílico [-]': 'vazio', 'Governador [2019]': 'vazio', 'Capital [2010]': 'vazio', 'Área Territorial - km² [2019]': 'vazio', 'População estimada - pessoas [2020]': 'vazio', 'Densidade demográfica - hab/km² [2010]': 'vazio', 'Matrículas no ensino fundamental - matrículas [2018]': 'vazio', 'IDH <span>Índice de desenvolvimento humano</span> [2010]': 'vazio', 'Receitas realizadas - R$ (×1000) [2017]': 'vazio', 'Despesas empenhadas - R$ (×1000) [2017]': 'vazio', 'Rendimento mensal domiciliar per capita - R$ [2019]': 'vazio', 'Total de veículos - veículos [2018]': 'vazio', '': 'vazio'}, 'Mato Grosso': {'UF [-]': 'vazio', 'Código [-]': 'vazio', 'Gentílico [-]': 'vazio', 'Governador [2019]': 'vazio', 'Capital [2010]': 'vazio', 'Área Territorial - km² [2019]': 'vazio', 'População estimada - pessoas [2020]': 'vazio', 'Densidade demográfica - hab/km² [2010]': 'vazio', 'Matrículas no ensino fundamental - matrículas [2018]': 'vazio', 'IDH <span>Índice de desenvolvimento humano</span> [2010]': 'vazio', 'Receitas realizadas - R$ (×1000) [2017]': 'vazio', 'Despesas empenhadas - R$ (×1000) [2017]': 'vazio', 'Rendimento mensal domiciliar per capita - R$ [2019]': 'vazio', 'Total de veículos - veículos [2018]': 'vazio', '': 'vazio'}, 'Mato Grosso do Sul': {'UF [-]': 'vazio', 'Código [-]': 'vazio', 'Gentílico [-]': 'vazio', 'Governador [2019]': 'vazio', 'Capital [2010]': 'vazio', 'Área Territorial - km² [2019]': 'vazio', 'População estimada - pessoas [2020]': 'vazio', 'Densidade demográfica - hab/km² [2010]': 'vazio', 'Matrículas no ensino fundamental - matrículas [2018]': 'vazio', 'IDH <span>Índice de desenvolvimento humano</span> [2010]': 'vazio', 'Receitas realizadas - R$ (×1000) [2017]': 'vazio', 'Despesas empenhadas - R$ (×1000) [2017]': 'vazio', 'Rendimento mensal domiciliar per capita - R$ [2019]': 'vazio', 'Total de veículos - veículos [2018]': 'vazio', '': 'vazio'}, 'Minas Gerais': {'UF [-]': 'vazio', 'Código [-]': 'vazio', 'Gentílico [-]': 'vazio', 'Governador [2019]': 'vazio', 'Capital [2010]': 'vazio', 'Área Territorial - km² [2019]': 'vazio', 'População estimada - pessoas [2020]': 'vazio', 'Densidade demográfica - hab/km² [2010]': 'vazio', 'Matrículas no ensino fundamental - matrículas [2018]': 'vazio', 'IDH <span>Índice de desenvolvimento humano</span> [2010]': 'vazio', 'Receitas realizadas - R$ (×1000) [2017]': 'vazio', 'Despesas empenhadas - R$ (×1000) [2017]': 'vazio', 'Rendimento mensal domiciliar per capita - R$ [2019]': 'vazio', 'Total de veículos - veículos [2018]': 'vazio', '': 'vazio'}, 'Pará': {'UF [-]': 'vazio', 'Código [-]': 'vazio', 'Gentílico [-]': 'vazio', 'Governador [2019]': 'vazio', 'Capital [2010]': 'vazio', 'Área Territorial - km² [2019]': 'vazio', 'População estimada - pessoas [2020]': 'vazio', 'Densidade demográfica - hab/km² [2010]': 'vazio', 'Matrículas no ensino fundamental - matrículas [2018]': 'vazio', 'IDH <span>Índice de desenvolvimento humano</span> [2010]': 'vazio', 'Receitas realizadas - R$ (×1000) [2017]': 'vazio', 'Despesas empenhadas - R$ (×1000) [2017]': 'vazio', 'Rendimento mensal domiciliar per capita - R$ [2019]': 'vazio', 'Total de veículos - veículos [2018]': 'vazio', '': 'vazio'}, 'Paraíba': {'UF [-]': 'vazio', 'Código [-]': 'vazio', 'Gentílico [-]': 'vazio', 'Governador [2019]': 'vazio', 'Capital [2010]': 'vazio', 'Área Territorial - km² [2019]': 'vazio', 'População estimada - pessoas [2020]': 'vazio', 'Densidade demográfica - hab/km² [2010]': 'vazio', 'Matrículas no ensino fundamental - matrículas [2018]': 'vazio', 'IDH <span>Índice de desenvolvimento humano</span> [2010]': 'vazio', 'Receitas realizadas - R$ (×1000) [2017]': 'vazio', 'Despesas empenhadas - R$ (×1000) [2017]': 'vazio', 'Rendimento mensal domiciliar per capita - R$ [2019]': 'vazio', 'Total de veículos - veículos [2018]': 'vazio', '': 'vazio'}, 'Paraná': {'UF [-]': 'vazio', 'Código [-]': 'vazio', 'Gentílico [-]': 'vazio', 'Governador [2019]': 'vazio', 'Capital [2010]': 'vazio', 'Área Territorial - km² [2019]': 'vazio', 'População estimada - pessoas [2020]': 'vazio', 'Densidade demográfica - hab/km² [2010]': 'vazio', 'Matrículas no ensino fundamental - matrículas [2018]': 'vazio', 'IDH <span>Índice de desenvolvimento humano</span> [2010]': 'vazio', 'Receitas realizadas - R$ (×1000) [2017]': 'vazio', 'Despesas empenhadas - R$ (×1000) [2017]': 'vazio', 'Rendimento mensal domiciliar per capita - R$ [2019]': 'vazio', 'Total de veículos - veículos [2018]': 'vazio', '': 'vazio'}, 'Pernambuco': {'UF [-]': 'vazio', 'Código [-]': 'vazio', 'Gentílico [-]': 'vazio', 'Governador [2019]': 'vazio', 'Capital [2010]': 'vazio', 'Área Territorial - km² [2019]': 'vazio', 'População estimada - pessoas [2020]': 'vazio', 'Densidade demográfica - hab/km² [2010]': 'vazio', 'Matrículas no ensino fundamental - matrículas [2018]': 'vazio', 'IDH <span>Índice de desenvolvimento humano</span> [2010]': 'vazio', 'Receitas realizadas - R$ (×1000) [2017]': 'vazio', 'Despesas empenhadas - R$ (×1000) [2017]': 'vazio', 'Rendimento mensal domiciliar per capita - R$ [2019]': 'vazio', 'Total de veículos - veículos [2018]': 'vazio', '': 'vazio'}, 'Piauí': {'UF [-]': 'vazio', 'Código [-]': 'vazio', 'Gentílico [-]': 'vazio', 'Governador [2019]': 'vazio', 'Capital [2010]': 'vazio', 'Área Territorial - km² [2019]': 'vazio', 'População estimada - pessoas [2020]': 'vazio', 'Densidade demográfica - hab/km² [2010]': 'vazio', 'Matrículas no ensino fundamental - matrículas [2018]': 'vazio', 'IDH <span>Índice de desenvolvimento humano</span> [2010]': 'vazio', 'Receitas realizadas - R$ (×1000) [2017]': 'vazio', 'Despesas empenhadas - R$ (×1000) [2017]': 'vazio', 'Rendimento mensal domiciliar per capita - R$ [2019]': 'vazio', 'Total de veículos - veículos [2018]': 'vazio', '': 'vazio'}, 'Rio de Janeiro': {'UF [-]': 'vazio', 'Código [-]': 'vazio', 'Gentílico [-]': 'vazio', 'Governador [2019]': 'vazio', 'Capital [2010]': 'vazio', 'Área Territorial - km² [2019]': 'vazio', 'População estimada - pessoas [2020]': 'vazio', 'Densidade demográfica - hab/km² [2010]': 'vazio', 'Matrículas no ensino fundamental - matrículas [2018]': 'vazio', 'IDH <span>Índice de desenvolvimento humano</span> [2010]': 'vazio', 'Receitas realizadas - R$ (×1000) [2017]': 'vazio', 'Despesas empenhadas - R$ (×1000) [2017]': 'vazio', 'Rendimento mensal domiciliar per capita - R$ [2019]': 'vazio', 'Total de veículos - veículos [2018]': 'vazio', '': 'vazio'}, 'Rio Grande do Norte': {'UF [-]': 'vazio', 'Código [-]': 'vazio', 'Gentílico [-]': 'vazio', 'Governador [2019]': 'vazio', 'Capital [2010]': 'vazio', 'Área Territorial - km² [2019]': 'vazio', 'População estimada - pessoas [2020]': 'vazio', 'Densidade demográfica - hab/km² [2010]': 'vazio', 'Matrículas no ensino fundamental - matrículas [2018]': 'vazio', 'IDH <span>Índice de desenvolvimento humano</span> [2010]': 'vazio', 'Receitas realizadas - R$ (×1000) [2017]': 'vazio', 'Despesas empenhadas - R$ (×1000) [2017]': 'vazio', 'Rendimento mensal domiciliar per capita - R$ [2019]': 'vazio', 'Total de veículos - veículos [2018]': 'vazio', '': 'vazio'}, 'Rio Grande do Sul': {'UF [-]': 'vazio', 'Código [-]': 'vazio', 'Gentílico [-]': 'vazio', 'Governador [2019]': 'vazio', 'Capital [2010]': 'vazio', 'Área Territorial - km² [2019]': 'vazio', 'População estimada - pessoas [2020]': 'vazio', 'Densidade demográfica - hab/km² [2010]': 'vazio', 'Matrículas no ensino fundamental - matrículas [2018]': 'vazio', 'IDH <span>Índice de desenvolvimento humano</span> [2010]': 'vazio', 'Receitas realizadas - R$ (×1000) [2017]': 'vazio', 'Despesas empenhadas - R$ (×1000) [2017]': 'vazio', 'Rendimento mensal domiciliar per capita - R$ [2019]': 'vazio', 'Total de veículos - veículos [2018]': 'vazio', '': 'vazio'}, 'Rondônia': {'UF [-]': 'vazio', 'Código [-]': 'vazio', 'Gentílico [-]': 'vazio', 'Governador [2019]': 'vazio', 'Capital [2010]': 'vazio', 'Área Territorial - km² [2019]': 'vazio', 'População estimada - pessoas [2020]': 'vazio', 'Densidade demográfica - hab/km² [2010]': 'vazio', 'Matrículas no ensino fundamental - matrículas [2018]': 'vazio', 'IDH <span>Índice de desenvolvimento humano</span> [2010]': 'vazio', 'Receitas realizadas - R$ (×1000) [2017]': 'vazio', 'Despesas empenhadas - R$ (×1000) [2017]': 'vazio', 'Rendimento mensal domiciliar per capita - R$ [2019]': 'vazio', 'Total de veículos - veículos [2018]': 'vazio', '': 'vazio'}, 'Roraima': {'UF [-]': 'vazio', 'Código [-]': 'vazio', 'Gentílico [-]': 'vazio', 'Governador [2019]': 'vazio', 'Capital [2010]': 'vazio', 'Área Territorial - km² [2019]': 'vazio', 'População estimada - pessoas [2020]': 'vazio', 'Densidade demográfica - hab/km² [2010]': 'vazio', 'Matrículas no ensino fundamental - matrículas [2018]': 'vazio', 'IDH <span>Índice de desenvolvimento humano</span> [2010]': 'vazio', 'Receitas realizadas - R$ (×1000) [2017]': 'vazio', 'Despesas empenhadas - R$ (×1000) [2017]': 'vazio', 'Rendimento mensal domiciliar per capita - R$ [2019]': 'vazio', 'Total de veículos - veículos [2018]': 'vazio', '': 'vazio'}, 'Santa Catarina': {'UF [-]': 'vazio', 'Código [-]': 'vazio', 'Gentílico [-]': 'vazio', 'Governador [2019]': 'vazio', 'Capital [2010]': 'vazio', 'Área Territorial - km² [2019]': 'vazio', 'População estimada - pessoas [2020]': 'vazio', 'Densidade demográfica - hab/km² [2010]': 'vazio', 'Matrículas no ensino fundamental - matrículas [2018]': 'vazio', 'IDH <span>Índice de desenvolvimento humano</span> [2010]': 'vazio', 'Receitas realizadas - R$ (×1000) [2017]': 'vazio', 'Despesas empenhadas - R$ (×1000) [2017]': 'vazio', 'Rendimento mensal domiciliar per capita - R$ [2019]': 'vazio', 'Total de veículos - veículos [2018]': 'vazio', '': 'vazio'}, 'São Paulo': {'UF [-]': 'vazio', 'Código [-]': 'vazio', 'Gentílico [-]': 'vazio', 'Governador [2019]': 'vazio', 'Capital [2010]': 'vazio', 'Área Territorial - km² [2019]': 'vazio', 'População estimada - pessoas [2020]': 'vazio', 'Densidade demográfica - hab/km² [2010]': 'vazio', 'Matrículas no ensino fundamental - matrículas [2018]': 'vazio', 'IDH <span>Índice de desenvolvimento humano</span> [2010]': 'vazio', 'Receitas realizadas - R$ (×1000) [2017]': 'vazio', 'Despesas empenhadas - R$ (×1000) [2017]': 'vazio', 'Rendimento mensal domiciliar per capita - R$ [2019]': 'vazio', 'Total de veículos - veículos [2018]': 'vazio', '': 'vazio'}, 'Sergipe': {'UF [-]': 'vazio', 'Código [-]': 'vazio', 'Gentílico [-]': 'vazio', 'Governador [2019]': 'vazio', 'Capital [2010]': 'vazio', 'Área Territorial - km² [2019]': 'vazio', 'População estimada - pessoas [2020]': 'vazio', 'Densidade demográfica - hab/km² [2010]': 'vazio', 'Matrículas no ensino fundamental - matrículas [2018]': 'vazio', 'IDH <span>Índice de desenvolvimento humano</span> [2010]': 'vazio', 'Receitas realizadas - R$ (×1000) [2017]': 'vazio', 'Despesas empenhadas - R$ (×1000) [2017]': 'vazio', 'Rendimento mensal domiciliar per capita - R$ [2019]': 'vazio', 'Total de veículos - veículos [2018]': 'vazio', '': 'vazio'}, 'Tocantins': {'UF [-]': 'vazio', 'Código [-]': 'vazio', 'Gentílico [-]': 'vazio', 'Governador [2019]': 'vazio', 'Capital [2010]': 'vazio', 'Área Territorial - km² [2019]': 'vazio', 'População estimada - pessoas [2020]': 'vazio', 'Densidade demográfica - hab/km² [2010]': 'vazio', 'Matrículas no ensino fundamental - matrículas [2018]': 'vazio', 'IDH <span>Índice de desenvolvimento humano</span> [2010]': 'vazio', 'Receitas realizadas - R$ (×1000) [2017]': 'vazio', 'Despesas empenhadas - R$ (×1000) [2017]': 'vazio', 'Rendimento mensal domiciliar per capita - R$ [2019]': 'vazio', 'Total de veículos - veículos [2018]': 'vazio', '': 'vazio'}}\n"
     ]
    }
   ],
   "source": [
    "estados_dict = {}\n",
    "cabecalho = texto.splitlines()[0].split(\",\")\n",
    "for linha in estados_brasil.splitlines()[1:]:\n",
    "  linhalista = linha.split(\",\")\n",
    "  dictuf = { x : \"vazio\" for x in cabecalho }\n",
    "  uf = linhalista[0]\n",
    "  estados_dict[uf] = dictuf\n",
    "\n",
    "print(estados_dict)"
   ]
  },
  {
   "cell_type": "code",
   "execution_count": 29,
   "metadata": {
    "executionInfo": {
     "elapsed": 1250,
     "status": "ok",
     "timestamp": 1604450276608,
     "user": {
      "displayName": "Orlando O. S.",
      "photoUrl": "https://lh3.googleusercontent.com/a-/AOh14Gj-E1yuy1M_3ruwN4TWYPK4BwysauSW7GQmHheS=s64",
      "userId": "15066502291703974467"
     },
     "user_tz": 180
    },
    "id": "QbsKzV26rrwV"
   },
   "outputs": [],
   "source": [
    "estados_brasil = \"\"\"UF [-],Código [-],Gentílico [-],Governador [2019],Capital [2010],Área Territorial - km² [2019],População estimada - pessoas [2020],Densidade demográfica - hab/km² [2010],Matrículas no ensino fundamental - matrículas [2018],IDH <span>Índice de desenvolvimento humano</span> [2010],Receitas realizadas - R$ (×1000) [2017],Despesas empenhadas - R$ (×1000) [2017],Rendimento mensal domiciliar per capita - R$ [2019],Total de veículos - veículos [2018],\n",
    "Acre,12,acriano,GLADSON DE LIMA CAMELI,Rio Branco,164123.964,894470,4.47,157646,0.663,6632883.10836,6084416.8063,890,277831,\n",
    "Alagoas,27,alagoano,JOSE RENAN VASCONCELOS CALHEIROS FILHO,Maceió,27843.295,3351543,112.33,490587,0.631,11950438.46015,10460634.91711,731,834827,\n",
    "Amapá,16,amapaense,ANTONIO WALDEZ GÓES DA SILVA,Macapá,142470.762,861773,4.69,136185,0.708,5396417.14471,4224464.08829,880,195039,\n",
    "Amazonas,13,amazonense,WILSON MIRANDA LIMA,Manaus,1559167.889,4207714,2.23,705007,0.674,17328459.43402,15324896.55705,842,883083,\n",
    "Bahia,29,baiano,RUI COSTA DOS SANTOS,Salvador,564760.427,14930634,24.82,2034711,0.660,50191003.24052,45570160.0038,913,4139107,\n",
    "Ceará,23,cearense,CAMILO SOBREIRA DE SANTANA,Fortaleza,148894.441,9187103,56.76,1198116,0.682,28420222.47191,24608352.18276,942,3148369,\n",
    "Distrito Federal,53,brasiliense,IBANEIS ROCHA BARROS JUNIOR,Brasília,5760.783,3055149,444.66,377622,0.824,23812211.27074,21990464.6849,2686,1812473,\n",
    "Espírito Santo,32,capixaba ou espírito-santense,JOSE RENATO CASAGRANDE,Vitória,46074.447,4064052,76.25,502059,0.740,19685616.74376,14392338.00188,1477,1936862,\n",
    "Goiás,52,goiano,RONALDO RAMOS CAIADO,Goiânia,340203.329,7113540,17.65,877593,0.735,37885335.16848,24248380.34233,1306,3909429,\n",
    "Maranhão,21,maranhense,FLÁVIO DINO DE CASTRO E COSTA,São Luís,329642.182,7114598,19.81,1178949,0.639,18503261.35491,17627170.75574,636,1696683,\n",
    "Mato Grosso,51,mato-grossense,MAURO MENDES FERREIRA,Cuiabá,903207.019,3526220,3.36,471613,0.725,23958528.83588,18187363.27009,1403,2080848,\n",
    "Mato Grosso do Sul,50,sul-mato-grossense ou mato-grossense-do-sul,REINALDO AZAMBUJA SILVA,Campo Grande,357145.534,2809394,6.86,404114,0.729,16396655.77012,14506915.37404,1514,1583142,\n",
    "Minas Gerais,31,mineiro,ROMEU ZEMA NETO,Belo Horizonte,586521.123,21292666,33.41,2511483,0.731,97199823.15616,98391669.16323,1358,11191341,\n",
    "Pará,15,paraense,HELDER ZAHLUTH BARBALHO,Belém,1245870.798,8690745,6.07,1439788,0.646,25849446.10454,22533470.04547,807,2013952,\n",
    "Paraíba,25,paraibano,JOÃO AZEVEDO LINS FILHO,João Pessoa,56467.242,4039277,66.70,556248,0.658,13097005.31928,10074700.04266,929,1293668,\n",
    "Paraná,41,paranaense,CARLOS ROBERTO MASSA JUNIOR,Curitiba,199298.979,11516840,52.40,1427218,0.749,60163576.12246,55534402.97483,1621,7571122,\n",
    "Pernambuco,26,pernambucano,PAULO HENRIQUE SARAIVA CÂMARA,Recife,98067.881,9616621,89.62,1301930,0.673,35746028.97102,33320486.44445,970,3010638,\n",
    "Piauí,22,piauiense,JOSÉ WELLINGTON BARROSO DE ARAÚJO DIAS,Teresina,251756.515,3281480,12.40,480126,0.646,12124215.61511,9676736.31835,827,1196192,\n",
    "Rio de Janeiro,33,fluminense,WILSON JOSÉ WITZEL,Rio de Janeiro,43750.427,17366189,365.23,2003315,0.761,78488140.78862,67965548.69757,1882,6725822,\n",
    "Rio Grande do Norte,24,potiguar ou  norte-rio-grandense ou  rio-grandense-do-norte,MARIA DE FATIMA BEZERRA,Natal,52809.602,3534165,59.99,467629,0.684,13527552.73159,11330957.55333,1057,1290903,\n",
    "Rio Grande do Sul,43,gaúcho ou sul-rio-grandense,EDUARDO FIGUEIREDO CAVALHEIRO LEITE,Porto Alegre,281707.156,11422973,37.96,1298736,0.746,66397468.17915,62476279.34364,1843,7077972,\n",
    "Rondônia,11,rondoniense ou rondoniano,MARCOS JOSE ROCHA DOS SANTOS,Porto Velho,237765.240,1796460,6.58,269626,0.690,9122310.72305,7085530.0168,1136,985047,\n",
    "Roraima,14,roraimense,ANTONIO OLIVERIO GARCIA DE ALMEIDA,Boa Vista,223644.527,631181,2.01,96582,0.707,4419450.41557,3384683.73914,1044,219290,\n",
    "Santa Catarina,42,catarinense ou barriga-verde,CARLOS MOISÉS DA SILVA,Florianópolis,95730.684,7252502,65.27,851993,0.774,34696772.82078,25595103.37918,1769,5152615,\n",
    "São Paulo,35,paulista,JOÃO AGRIPINO DA COSTA DORIA JUNIOR,São Paulo,248219.481,46289333,166.23,5367614,0.783,232822496.56706,231982243.69176,1946,29057749,\n",
    "Sergipe,28,sergipano ou sergipense,BELIVALDO CHAGAS SILVA,Aracaju,21925.424,2318822,94.36,331297,0.665,10145046.95355,8494927.19996,980,772380,\n",
    "Tocantins,17,tocantinense,MAURO CARLESSE,Palmas,277466.763,1590248,4.98,246183,0.699,10305099.01288,8929456.43836,1056,690169,\"\"\""
   ]
  },
  {
   "cell_type": "code",
   "execution_count": 30,
   "metadata": {
    "executionInfo": {
     "elapsed": 1530,
     "status": "ok",
     "timestamp": 1604450279120,
     "user": {
      "displayName": "Orlando O. S.",
      "photoUrl": "https://lh3.googleusercontent.com/a-/AOh14Gj-E1yuy1M_3ruwN4TWYPK4BwysauSW7GQmHheS=s64",
      "userId": "15066502291703974467"
     },
     "user_tz": 180
    },
    "id": "VNws07vqrs9H"
   },
   "outputs": [],
   "source": [
    "estados_dict = {}\n",
    "cabecalho = texto.splitlines()[0].split(\",\")\n",
    "for linha in estados_brasil.splitlines()[1:]:\n",
    "  linhalista = linha.split(\",\")\n",
    "  dictuf = { cabecalho[x] : linhalista[x] for x in range(len(cabecalho))  }\n",
    "  uf = linhalista[0]\n",
    "  estados_dict[uf] = dictuf"
   ]
  },
  {
   "cell_type": "code",
   "execution_count": 31,
   "metadata": {
    "colab": {
     "base_uri": "https://localhost:8080/"
    },
    "executionInfo": {
     "elapsed": 704,
     "status": "ok",
     "timestamp": 1604450391670,
     "user": {
      "displayName": "Orlando O. S.",
      "photoUrl": "https://lh3.googleusercontent.com/a-/AOh14Gj-E1yuy1M_3ruwN4TWYPK4BwysauSW7GQmHheS=s64",
      "userId": "15066502291703974467"
     },
     "user_tz": 180
    },
    "id": "e5Yu0SlpsFZs",
    "outputId": "7d209c9a-93b3-4cc1-fed2-ab79908e6fbd"
   },
   "outputs": [
    {
     "name": "stdout",
     "output_type": "stream",
     "text": [
      "ANTONIO OLIVERIO GARCIA DE ALMEIDA\n"
     ]
    }
   ],
   "source": [
    "print(estados_dict['Roraima']['Governador [2019]'])"
   ]
  },
  {
   "cell_type": "code",
   "execution_count": 32,
   "metadata": {
    "colab": {
     "base_uri": "https://localhost:8080/"
    },
    "executionInfo": {
     "elapsed": 784,
     "status": "ok",
     "timestamp": 1604450444756,
     "user": {
      "displayName": "Orlando O. S.",
      "photoUrl": "https://lh3.googleusercontent.com/a-/AOh14Gj-E1yuy1M_3ruwN4TWYPK4BwysauSW7GQmHheS=s64",
      "userId": "15066502291703974467"
     },
     "user_tz": 180
    },
    "id": "CPKCb627srDX",
    "outputId": "f141e6c7-1697-4df9-9286-84d6852f45ca"
   },
   "outputs": [
    {
     "data": {
      "text/plain": [
       "dict_keys(['Acre', 'Alagoas', 'Amapá', 'Amazonas', 'Bahia', 'Ceará', 'Distrito Federal', 'Espírito Santo', 'Goiás', 'Maranhão', 'Mato Grosso', 'Mato Grosso do Sul', 'Minas Gerais', 'Pará', 'Paraíba', 'Paraná', 'Pernambuco', 'Piauí', 'Rio de Janeiro', 'Rio Grande do Norte', 'Rio Grande do Sul', 'Rondônia', 'Roraima', 'Santa Catarina', 'São Paulo', 'Sergipe', 'Tocantins'])"
      ]
     },
     "execution_count": 32,
     "metadata": {},
     "output_type": "execute_result"
    }
   ],
   "source": [
    "estados_dict.keys()"
   ]
  },
  {
   "cell_type": "code",
   "execution_count": 33,
   "metadata": {
    "colab": {
     "base_uri": "https://localhost:8080/"
    },
    "executionInfo": {
     "elapsed": 1027,
     "status": "ok",
     "timestamp": 1604450519408,
     "user": {
      "displayName": "Orlando O. S.",
      "photoUrl": "https://lh3.googleusercontent.com/a-/AOh14Gj-E1yuy1M_3ruwN4TWYPK4BwysauSW7GQmHheS=s64",
      "userId": "15066502291703974467"
     },
     "user_tz": 180
    },
    "id": "hAlRdyVgsnEX",
    "outputId": "399d5aed-2124-46f3-8b13-59dbb8830b06"
   },
   "outputs": [
    {
     "name": "stdout",
     "output_type": "stream",
     "text": [
      "potiguar ou  norte-rio-grandense ou  rio-grandense-do-norte\n"
     ]
    }
   ],
   "source": [
    "print(estados_dict['Rio Grande do Norte']['Gentílico [-]'])"
   ]
  },
  {
   "cell_type": "code",
   "execution_count": 34,
   "metadata": {
    "colab": {
     "base_uri": "https://localhost:8080/"
    },
    "executionInfo": {
     "elapsed": 814,
     "status": "ok",
     "timestamp": 1604450593549,
     "user": {
      "displayName": "Orlando O. S.",
      "photoUrl": "https://lh3.googleusercontent.com/a-/AOh14Gj-E1yuy1M_3ruwN4TWYPK4BwysauSW7GQmHheS=s64",
      "userId": "15066502291703974467"
     },
     "user_tz": 180
    },
    "id": "u86IznrPtEY4",
    "outputId": "9ade2aed-4bb6-46a8-fcb2-79f5a480cc38"
   },
   "outputs": [
    {
     "name": "stdout",
     "output_type": "stream",
     "text": [
      "Macapá\n"
     ]
    }
   ],
   "source": [
    "print(estados_dict['Amapá']['Capital [2010]'])"
   ]
  },
  {
   "cell_type": "code",
   "execution_count": 35,
   "metadata": {
    "colab": {
     "base_uri": "https://localhost:8080/",
     "height": 35
    },
    "executionInfo": {
     "elapsed": 730,
     "status": "ok",
     "timestamp": 1604450668328,
     "user": {
      "displayName": "Orlando O. S.",
      "photoUrl": "https://lh3.googleusercontent.com/a-/AOh14Gj-E1yuy1M_3ruwN4TWYPK4BwysauSW7GQmHheS=s64",
      "userId": "15066502291703974467"
     },
     "user_tz": 180
    },
    "id": "LaGU-ptwtASm",
    "outputId": "7091c106-ca9f-413b-f93d-6cf66c60c455"
   },
   "outputs": [
    {
     "data": {
      "text/plain": [
       "'142470.762'"
      ]
     },
     "execution_count": 35,
     "metadata": {},
     "output_type": "execute_result"
    }
   ],
   "source": [
    "estados_dict['Amapá']['Área Territorial - km² [2019]']"
   ]
  },
  {
   "cell_type": "code",
   "execution_count": 36,
   "metadata": {
    "colab": {
     "base_uri": "https://localhost:8080/"
    },
    "executionInfo": {
     "elapsed": 772,
     "status": "ok",
     "timestamp": 1604451109249,
     "user": {
      "displayName": "Orlando O. S.",
      "photoUrl": "https://lh3.googleusercontent.com/a-/AOh14Gj-E1yuy1M_3ruwN4TWYPK4BwysauSW7GQmHheS=s64",
      "userId": "15066502291703974467"
     },
     "user_tz": 180
    },
    "id": "710o3WXrtsYi",
    "outputId": "a9b3d014-1cb9-40fb-de19-5e90c998c90b"
   },
   "outputs": [
    {
     "name": "stdout",
     "output_type": "stream",
     "text": [
      "8510295.91\n"
     ]
    }
   ],
   "source": [
    "totalbrasil = 0\n",
    "for estado, dados  in estados_dict.items():\n",
    "  totalbrasil += float(dados['Área Territorial - km² [2019]'])\n",
    "print('{:.2f}'.format(totalbrasil))"
   ]
  },
  {
   "cell_type": "code",
   "execution_count": 37,
   "metadata": {
    "colab": {
     "base_uri": "https://localhost:8080/"
    },
    "executionInfo": {
     "elapsed": 914,
     "status": "ok",
     "timestamp": 1604451200090,
     "user": {
      "displayName": "Orlando O. S.",
      "photoUrl": "https://lh3.googleusercontent.com/a-/AOh14Gj-E1yuy1M_3ruwN4TWYPK4BwysauSW7GQmHheS=s64",
      "userId": "15066502291703974467"
     },
     "user_tz": 180
    },
    "id": "FQij2346tZoF",
    "outputId": "4f10b32e-1f3d-47e0-d835-6bd87dda0dc1"
   },
   "outputs": [
    {
     "name": "stdout",
     "output_type": "stream",
     "text": [
      "8510295.91\n"
     ]
    }
   ],
   "source": [
    "totalbrasil = 0\n",
    "for dados  in estados_dict.values():\n",
    "  totalbrasil += float(dados['Área Territorial - km² [2019]'])\n",
    "print('{:.2f}'.format(totalbrasil))"
   ]
  },
  {
   "cell_type": "code",
   "execution_count": 38,
   "metadata": {
    "colab": {
     "base_uri": "https://localhost:8080/"
    },
    "executionInfo": {
     "elapsed": 728,
     "status": "ok",
     "timestamp": 1604451459368,
     "user": {
      "displayName": "Orlando O. S.",
      "photoUrl": "https://lh3.googleusercontent.com/a-/AOh14Gj-E1yuy1M_3ruwN4TWYPK4BwysauSW7GQmHheS=s64",
      "userId": "15066502291703974467"
     },
     "user_tz": 180
    },
    "id": "sKq7TApEv3sl",
    "outputId": "e8433517-cf15-44ef-d1ac-0072695fd936"
   },
   "outputs": [
    {
     "data": {
      "text/plain": [
       "8510295.913999999"
      ]
     },
     "execution_count": 38,
     "metadata": {},
     "output_type": "execute_result"
    }
   ],
   "source": [
    "from functools import reduce\n",
    "reduce(lambda x, y : x + y , [float(dados['Área Territorial - km² [2019]']) for  dados  in estados_dict.values() ])"
   ]
  },
  {
   "cell_type": "code",
   "execution_count": 39,
   "metadata": {
    "id": "RROOxs4Evrer"
   },
   "outputs": [
    {
     "name": "stdout",
     "output_type": "stream",
     "text": [
      "8510295.91\n"
     ]
    }
   ],
   "source": [
    "totalbrasil = 0\n",
    "for dados  in estados_dict.values():\n",
    "  totalbrasil += float(dados['Área Territorial - km² [2019]'])\n",
    "print('{:.2f}'.format(totalbrasil))"
   ]
  },
  {
   "cell_type": "code",
   "execution_count": 40,
   "metadata": {
    "colab": {
     "base_uri": "https://localhost:8080/"
    },
    "executionInfo": {
     "elapsed": 715,
     "status": "ok",
     "timestamp": 1604451838011,
     "user": {
      "displayName": "Orlando O. S.",
      "photoUrl": "https://lh3.googleusercontent.com/a-/AOh14Gj-E1yuy1M_3ruwN4TWYPK4BwysauSW7GQmHheS=s64",
      "userId": "15066502291703974467"
     },
     "user_tz": 180
    },
    "id": "T9TUnRBTxIhM",
    "outputId": "69110f73-7df4-40d8-d7c5-2d1e6d14ea33"
   },
   "outputs": [
    {
     "name": "stdout",
     "output_type": "stream",
     "text": [
      "Distrito Federal 444.66\n"
     ]
    }
   ],
   "source": [
    "maiordensidade = 0\n",
    "estadomaior = ''\n",
    "for estado,  dados  in estados_dict.items():\n",
    "  densidadeatual = float(dados['Densidade demográfica - hab/km² [2010]'])\n",
    "  if maiordensidade < densidadeatual:\n",
    "    maiordensidade = densidadeatual\n",
    "    estadomaior = estado\n",
    "print(estadomaior,maiordensidade)"
   ]
  },
  {
   "cell_type": "code",
   "execution_count": 41,
   "metadata": {
    "colab": {
     "base_uri": "https://localhost:8080/"
    },
    "executionInfo": {
     "elapsed": 763,
     "status": "ok",
     "timestamp": 1604451645937,
     "user": {
      "displayName": "Orlando O. S.",
      "photoUrl": "https://lh3.googleusercontent.com/a-/AOh14Gj-E1yuy1M_3ruwN4TWYPK4BwysauSW7GQmHheS=s64",
      "userId": "15066502291703974467"
     },
     "user_tz": 180
    },
    "id": "zH1wkLz4xJ2x",
    "outputId": "c5c2e50d-d955-40ba-9709-f434205d7719"
   },
   "outputs": [
    {
     "data": {
      "text/plain": [
       "{'UF [-]': 'Acre',\n",
       " 'Código [-]': '12',\n",
       " 'Gentílico [-]': 'acriano',\n",
       " 'Governador [2019]': 'GLADSON DE LIMA CAMELI',\n",
       " 'Capital [2010]': 'Rio Branco',\n",
       " 'Área Territorial - km² [2019]': '164123.964',\n",
       " 'População estimada - pessoas [2020]': '894470',\n",
       " 'Densidade demográfica - hab/km² [2010]': '4.47',\n",
       " 'Matrículas no ensino fundamental - matrículas [2018]': '157646',\n",
       " 'IDH <span>Índice de desenvolvimento humano</span> [2010]': '0.663',\n",
       " 'Receitas realizadas - R$ (×1000) [2017]': '6632883.10836',\n",
       " 'Despesas empenhadas - R$ (×1000) [2017]': '6084416.8063',\n",
       " 'Rendimento mensal domiciliar per capita - R$ [2019]': '890',\n",
       " 'Total de veículos - veículos [2018]': '277831',\n",
       " '': ''}"
      ]
     },
     "execution_count": 41,
     "metadata": {},
     "output_type": "execute_result"
    }
   ],
   "source": [
    "estados_dict['Acre']"
   ]
  }
 ],
 "metadata": {
  "colab": {
   "authorship_tag": "ABX9TyODITq7dG+G+dMwgt6G1NKl",
   "collapsed_sections": [],
   "name": "Cópia de Aula de Resolução de Exercícios 03-11-2020.ipynb",
   "provenance": [
    {
     "file_id": "12M_P9r6Vt1BlbZy3n4Q6C4mkLCL7thQe",
     "timestamp": 1604453356787
    }
   ]
  },
  "kernelspec": {
   "display_name": "Python 3",
   "language": "python",
   "name": "python3"
  },
  "language_info": {
   "codemirror_mode": {
    "name": "ipython",
    "version": 3
   },
   "file_extension": ".py",
   "mimetype": "text/x-python",
   "name": "python",
   "nbconvert_exporter": "python",
   "pygments_lexer": "ipython3",
   "version": "3.7.8"
  }
 },
 "nbformat": 4,
 "nbformat_minor": 1
}
