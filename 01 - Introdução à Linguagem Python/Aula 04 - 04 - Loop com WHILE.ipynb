{
 "cells": [
  {
   "cell_type": "markdown",
   "metadata": {
    "id": "uGqJJfZ36iR6"
   },
   "source": [
    "# 01 - Introdução à Linguagem Python\n",
    "## Aula 04 - 04 - Loop com WHILE"
   ]
  },
  {
   "cell_type": "markdown",
   "metadata": {
    "id": "JNifjo59P9mf"
   },
   "source": [
    "## Professor: Orlando Oliveira dos Santos, MsC.\n",
    " - E-mail: professor.orlando.santos@gmail.com \n",
    " - Youtube :https://www.youtube.com/channel/UCPWWbkPWFmOjXH50TQWNAYg\n",
    " - Linkedin: https://linkedin.com/in/orlandoosantos\n",
    " - Facebook: https://www.facebook.com/proforlandosantosmsc/\n",
    " - Twitter: https://twitter.com/ProfOrlandoMsC\n",
    " - Instagram: https://www.instagram.com/proforlandosantosmsc/\n",
    "\n",
    "\n",
    "\n",
    "## Formação Acadêmica\n",
    "- Mestrado em Computação Aplicada - UnB (2014 – 2016)\t\n",
    "- MBA, Administração Estratégica de Sistemas de Informação – FGV (2011 – 2013)\n",
    "- Tecnólogo em Processamento de Dados, Análise e Desenvolvimento de Sistemas – FAETEC/SP (2000-2002)\n"
   ]
  },
  {
   "cell_type": "markdown",
   "metadata": {
    "id": "-wttXmB0JYuh"
   },
   "source": [
    "# Loop com WHILE"
   ]
  },
  {
   "cell_type": "markdown",
   "metadata": {
    "id": "C_QN5poRXbSx"
   },
   "source": [
    "## Loop usando While \n",
    "Com o loop ***while***  podemos executar um conjunto de instruções enquanto uma condição for verdadeira."
   ]
  },
  {
   "cell_type": "code",
   "execution_count": 1,
   "metadata": {
    "colab": {
     "base_uri": "https://localhost:8080/",
     "height": 537
    },
    "executionInfo": {
     "elapsed": 897,
     "status": "ok",
     "timestamp": 1603755459316,
     "user": {
      "displayName": "Orlando O. S.",
      "photoUrl": "https://lh3.googleusercontent.com/a-/AOh14Gj-E1yuy1M_3ruwN4TWYPK4BwysauSW7GQmHheS=s64",
      "userId": "15066502291703974467"
     },
     "user_tz": 180
    },
    "id": "5OkN8F8qs_TG",
    "outputId": "b53b6049-ef3a-4c41-a066-43cfbc678113"
   },
   "outputs": [
    {
     "name": "stdout",
     "output_type": "stream",
     "text": [
      "Inicio das instruções\n",
      "  > NORTE\n",
      "  > Norte\n",
      "  > norte\n",
      "  > NorteNorteNorte\n",
      "Fim das instruções\n",
      "Inicio das instruções\n",
      "  > NORDESTE\n",
      "  > Nordeste\n",
      "  > nordeste\n",
      "  > NordesteNordesteNordeste\n",
      "Fim das instruções\n",
      "Inicio das instruções\n",
      "  > SUDESTE\n",
      "  > Sudeste\n",
      "  > sudeste\n",
      "  > SudesteSudesteSudeste\n",
      "Fim das instruções\n",
      "Inicio das instruções\n",
      "  > SUL\n",
      "  > Sul\n",
      "  > sul\n",
      "  > SulSulSul\n",
      "Fim das instruções\n",
      "Inicio das instruções\n",
      "  > CENTRO-OESTE\n",
      "  > Centro-Oeste\n",
      "  > centro-oeste\n",
      "  > Centro-OesteCentro-OesteCentro-Oeste\n",
      "Fim das instruções\n"
     ]
    }
   ],
   "source": [
    "regioes = [\"Norte\", \"Nordeste\", \"Sudeste\", \"Sul\", \"Centro-Oeste\"]\n",
    "tamanho_da_lista = len(regioes)\n",
    "posicao = 0\n",
    "while posicao < tamanho_da_lista:\n",
    "  regiao = regioes[posicao]\n",
    "  print('Inicio das instruções')\n",
    "  print('  >', regiao.upper())\n",
    "  print('  >',regiao.title())\n",
    "  print('  >',regiao.lower())\n",
    "  print('  >',regiao*3)\n",
    "  print('Fim das instruções')\n",
    "  posicao += 1"
   ]
  },
  {
   "cell_type": "code",
   "execution_count": 2,
   "metadata": {
    "colab": {
     "base_uri": "https://localhost:8080/",
     "height": 537
    },
    "executionInfo": {
     "elapsed": 704,
     "status": "ok",
     "timestamp": 1603755698358,
     "user": {
      "displayName": "Orlando O. S.",
      "photoUrl": "https://lh3.googleusercontent.com/a-/AOh14Gj-E1yuy1M_3ruwN4TWYPK4BwysauSW7GQmHheS=s64",
      "userId": "15066502291703974467"
     },
     "user_tz": 180
    },
    "id": "MQK2q_ttSPCD",
    "outputId": "ebee8acb-24a9-4905-d2ac-1b4048900aea"
   },
   "outputs": [
    {
     "name": "stdout",
     "output_type": "stream",
     "text": [
      "Inicio das instruções\n",
      "  > NORTE\n",
      "  > Norte\n",
      "  > norte\n",
      "  > NorteNorteNorte\n",
      "Fim das instruções\n",
      "Inicio das instruções\n",
      "  > NORDESTE\n",
      "  > Nordeste\n",
      "  > nordeste\n",
      "  > NordesteNordesteNordeste\n",
      "Fim das instruções\n",
      "Inicio das instruções\n",
      "  > SUDESTE\n",
      "  > Sudeste\n",
      "  > sudeste\n",
      "  > SudesteSudesteSudeste\n",
      "Fim das instruções\n",
      "Inicio das instruções\n",
      "  > SUL\n",
      "  > Sul\n",
      "  > sul\n",
      "  > SulSulSul\n",
      "Fim das instruções\n",
      "Inicio das instruções\n",
      "  > CENTRO-OESTE\n",
      "  > Centro-Oeste\n",
      "  > centro-oeste\n",
      "  > Centro-OesteCentro-OesteCentro-Oeste\n",
      "Fim das instruções\n"
     ]
    }
   ],
   "source": [
    "regioes = [\"Norte\", \"Nordeste\", \"Sudeste\", \"Sul\", \"Centro-Oeste\"]\n",
    "tamanho_da_lista = len(regioes)\n",
    "posicao = 0\n",
    "while posicao < tamanho_da_lista:\n",
    "  print('Inicio das instruções')\n",
    "  print('  >', regioes[posicao].upper())\n",
    "  print('  >',regioes[posicao].title())\n",
    "  print('  >',regioes[posicao].lower())\n",
    "  print('  >',regioes[posicao]*3)\n",
    "  print('Fim das instruções')\n",
    "  posicao += 1"
   ]
  },
  {
   "cell_type": "markdown",
   "metadata": {
    "id": "Xr9P6vp4s_TX"
   },
   "source": [
    "### A declaração de break (Interrupção do while)\n",
    "Com a instrução break , podemos interromper o loop antes que ele percorra todos os itens:"
   ]
  },
  {
   "cell_type": "code",
   "execution_count": 3,
   "metadata": {
    "colab": {
     "base_uri": "https://localhost:8080/",
     "height": 346
    },
    "executionInfo": {
     "elapsed": 674,
     "status": "ok",
     "timestamp": 1603755829394,
     "user": {
      "displayName": "Orlando O. S.",
      "photoUrl": "https://lh3.googleusercontent.com/a-/AOh14Gj-E1yuy1M_3ruwN4TWYPK4BwysauSW7GQmHheS=s64",
      "userId": "15066502291703974467"
     },
     "user_tz": 180
    },
    "id": "R9V_ML79s_TZ",
    "outputId": "007268dc-81bf-4538-e692-9afc891b4255"
   },
   "outputs": [
    {
     "name": "stdout",
     "output_type": "stream",
     "text": [
      "Inicio das instruções\n",
      "  > NORTE\n",
      "  > Norte\n",
      "  > norte\n",
      "  > NorteNorteNorte\n",
      "Fim das instruções\n",
      "Inicio das instruções\n",
      "  > NORDESTE\n",
      "  > Nordeste\n",
      "  > nordeste\n",
      "  > NordesteNordesteNordeste\n",
      "Fim das instruções\n",
      "Inicio das instruções\n",
      "  > SUDESTE\n",
      "  > Sudeste\n",
      "  > sudeste\n",
      "  > SudesteSudesteSudeste\n",
      "Fim das instruções\n",
      "Achei o que procurava! A região Sudeste\n"
     ]
    }
   ],
   "source": [
    "regioes = [\"Norte\", \"Nordeste\", \"Sudeste\", \"Sul\", \"Centro-Oeste\"]\n",
    "regiao_desejada = \"Sudeste\"\n",
    "tamanho_da_lista = len(regioes)\n",
    "posicao = 0\n",
    "while posicao < tamanho_da_lista:\n",
    "  x = regioes[posicao]\n",
    "  print('Inicio das instruções')\n",
    "  print('  >', x.upper())\n",
    "  print('  >',x.title())\n",
    "  print('  >',x.lower())\n",
    "  print('  >',x*3)\n",
    "  print('Fim das instruções')\n",
    "  if  x == regiao_desejada :\n",
    "    print(f'Achei o que procurava! A região {x}')\n",
    "    break\n",
    "  posicao += 1"
   ]
  },
  {
   "cell_type": "markdown",
   "metadata": {
    "id": "Gm3yHtSes_Tl"
   },
   "source": [
    "### A instrução continue\n",
    "Com a instrução continue , podemos parar a iteração atual do loop e continuar com a próxima interação:"
   ]
  },
  {
   "cell_type": "code",
   "execution_count": 4,
   "metadata": {
    "colab": {
     "base_uri": "https://localhost:8080/",
     "height": 173
    },
    "executionInfo": {
     "elapsed": 726,
     "status": "ok",
     "timestamp": 1603503429163,
     "user": {
      "displayName": "Orlando O. S.",
      "photoUrl": "https://lh3.googleusercontent.com/a-/AOh14Gj-E1yuy1M_3ruwN4TWYPK4BwysauSW7GQmHheS=s64",
      "userId": "15066502291703974467"
     },
     "user_tz": 180
    },
    "id": "glg7eCANs_Tn",
    "outputId": "9d6cfa62-12dd-4e59-87a8-84598b6d2ee8"
   },
   "outputs": [
    {
     "name": "stdout",
     "output_type": "stream",
     "text": [
      "Norte não é o que estou procurando!\n",
      "Nordeste não é o que estou procurando!\n",
      "Inicio das instruções\n",
      "  > SUDESTE\n",
      "  > Sudeste\n",
      "  > sudeste\n",
      "  > SudesteSudesteSudeste\n",
      "Fim das instruções\n",
      "Achei o que procurava! A região Sudeste\n"
     ]
    }
   ],
   "source": [
    "regioes = [\"Norte\", \"Nordeste\", \"Sudeste\", \"Sul\", \"Centro-Oeste\"]\n",
    "regiao_desejada = \"Sudeste\"\n",
    "tamanho_da_lista = len(regioes)\n",
    "posicao = 0\n",
    "while posicao < tamanho_da_lista:\n",
    "  x = regioes[posicao]\n",
    "  posicao += 1\n",
    "  if x != regiao_desejada :\n",
    "    print(f'{x} não é o que estou procurando!')\n",
    "    continue\n",
    "  print('Inicio das instruções')\n",
    "  print('  >', x.upper())\n",
    "  print('  >',x.title())\n",
    "  print('  >',x.lower())\n",
    "  print('  >',x*3)\n",
    "  print('Fim das instruções')\n",
    "  if  x == regiao_desejada :\n",
    "    print(f'Achei o que procurava! A região {x}')\n",
    "    break\n",
    "  "
   ]
  },
  {
   "cell_type": "code",
   "execution_count": 5,
   "metadata": {
    "colab": {
     "base_uri": "https://localhost:8080/",
     "height": 35
    },
    "executionInfo": {
     "elapsed": 687,
     "status": "ok",
     "timestamp": 1603756399130,
     "user": {
      "displayName": "Orlando O. S.",
      "photoUrl": "https://lh3.googleusercontent.com/a-/AOh14Gj-E1yuy1M_3ruwN4TWYPK4BwysauSW7GQmHheS=s64",
      "userId": "15066502291703974467"
     },
     "user_tz": 180
    },
    "id": "ordR9bLZVFl2",
    "outputId": "ea1cd696-66ca-4bd2-8915-1a37c41ebae7"
   },
   "outputs": [
    {
     "data": {
      "text/plain": [
       "'________________________________________'"
      ]
     },
     "execution_count": 5,
     "metadata": {},
     "output_type": "execute_result"
    }
   ],
   "source": [
    "'_'* 40"
   ]
  },
  {
   "cell_type": "code",
   "execution_count": 6,
   "metadata": {
    "colab": {
     "base_uri": "https://localhost:8080/",
     "height": 35
    },
    "executionInfo": {
     "elapsed": 701,
     "status": "ok",
     "timestamp": 1603756129484,
     "user": {
      "displayName": "Orlando O. S.",
      "photoUrl": "https://lh3.googleusercontent.com/a-/AOh14Gj-E1yuy1M_3ruwN4TWYPK4BwysauSW7GQmHheS=s64",
      "userId": "15066502291703974467"
     },
     "user_tz": 180
    },
    "id": "R-DAtnjWUDkG",
    "outputId": "2af729f2-3cc9-45cb-8194-82f4ddd001e4"
   },
   "outputs": [
    {
     "data": {
      "text/plain": [
       "'Norte não é o que estou procurando!'"
      ]
     },
     "execution_count": 6,
     "metadata": {},
     "output_type": "execute_result"
    }
   ],
   "source": [
    "x = 'Norte'\n",
    "f'{x} não é o que estou procurando!'"
   ]
  },
  {
   "cell_type": "code",
   "execution_count": 7,
   "metadata": {
    "colab": {
     "base_uri": "https://localhost:8080/",
     "height": 35
    },
    "executionInfo": {
     "elapsed": 645,
     "status": "ok",
     "timestamp": 1603756235982,
     "user": {
      "displayName": "Orlando O. S.",
      "photoUrl": "https://lh3.googleusercontent.com/a-/AOh14Gj-E1yuy1M_3ruwN4TWYPK4BwysauSW7GQmHheS=s64",
      "userId": "15066502291703974467"
     },
     "user_tz": 180
    },
    "id": "G_N2rNpSUK3U",
    "outputId": "41f55116-ed14-4b32-e390-7ac462bc0c8a"
   },
   "outputs": [
    {
     "data": {
      "text/plain": [
       "'Norte não é o que estou procurando! O que procuro é Sul'"
      ]
     },
     "execution_count": 7,
     "metadata": {},
     "output_type": "execute_result"
    }
   ],
   "source": [
    "y = 'Sul'\n",
    "'{} não é o que estou procurando! O que procuro é {}'.format(x,y)"
   ]
  },
  {
   "cell_type": "code",
   "execution_count": 8,
   "metadata": {
    "colab": {
     "base_uri": "https://localhost:8080/",
     "height": 35
    },
    "executionInfo": {
     "elapsed": 625,
     "status": "ok",
     "timestamp": 1603756335937,
     "user": {
      "displayName": "Orlando O. S.",
      "photoUrl": "https://lh3.googleusercontent.com/a-/AOh14Gj-E1yuy1M_3ruwN4TWYPK4BwysauSW7GQmHheS=s64",
      "userId": "15066502291703974467"
     },
     "user_tz": 180
    },
    "id": "18PIkbRSUkm_",
    "outputId": "c45f3901-cc5f-4471-e387-a8f827dbd85c"
   },
   "outputs": [
    {
     "data": {
      "text/plain": [
       "'Norte não é o que estou procurando! O que procuro é Sul que não corresponde a Norte'"
      ]
     },
     "execution_count": 8,
     "metadata": {},
     "output_type": "execute_result"
    }
   ],
   "source": [
    "f'{x} não é o que estou procurando! O que procuro é {y} que não corresponde a {x}'"
   ]
  },
  {
   "cell_type": "markdown",
   "metadata": {
    "id": "1OHGncCqvDkP"
   },
   "source": [
    "### ATENÇÃO CUIDADO COM O LOOP INFINITO"
   ]
  },
  {
   "cell_type": "markdown",
   "metadata": {
    "id": "HOdg1fGRvRFb"
   },
   "source": [
    "### instrução else\n",
    "A instrução else pode executar um bloco de código uma vez quando a condição não for mais verdadeira."
   ]
  },
  {
   "cell_type": "code",
   "execution_count": 9,
   "metadata": {
    "colab": {
     "base_uri": "https://localhost:8080/",
     "height": 121
    },
    "executionInfo": {
     "elapsed": 828,
     "status": "ok",
     "timestamp": 1603756498824,
     "user": {
      "displayName": "Orlando O. S.",
      "photoUrl": "https://lh3.googleusercontent.com/a-/AOh14Gj-E1yuy1M_3ruwN4TWYPK4BwysauSW7GQmHheS=s64",
      "userId": "15066502291703974467"
     },
     "user_tz": 180
    },
    "id": "Ckv3-EIVvoDv",
    "outputId": "37b14a75-e2b8-4453-aa86-e660427a4edf"
   },
   "outputs": [
    {
     "name": "stdout",
     "output_type": "stream",
     "text": [
      "Norte não é o que estou procurando!\n",
      "Nordeste não é o que estou procurando!\n",
      "Sudeste não é o que estou procurando!\n",
      "Sul não é o que estou procurando!\n",
      "Centro-Oeste não é o que estou procurando!\n",
      "O que eu procurava não se encontra nessa lista!\n"
     ]
    }
   ],
   "source": [
    "regioes = [\"Norte\", \"Nordeste\", \"Sudeste\", \"Sul\", \"Centro-Oeste\"]\n",
    "regiao_desejada = \"Nororeste\"\n",
    "tamanho_da_lista = len(regioes)\n",
    "posicao = 0\n",
    "while posicao < tamanho_da_lista:\n",
    "  x = regioes[posicao]\n",
    "  posicao += 1\n",
    "  if not x == regiao_desejada :\n",
    "    print(f'{x} não é o que estou procurando!')\n",
    "    continue\n",
    "  print('Inicio das instruções')\n",
    "  print('  >', x.upper())\n",
    "  print('  >',x.title())\n",
    "  print('  >',x.lower())\n",
    "  print('  >',x*3)\n",
    "  print('Fim das instruções')\n",
    "  if  x == regiao_desejada :\n",
    "    print(f'Achei o que procurava! A região {x}')\n",
    "    break\n",
    "else:\n",
    "  print(f'O que eu procurava não se encontra nessa lista!')\n"
   ]
  },
  {
   "cell_type": "code",
   "execution_count": 10,
   "metadata": {
    "colab": {
     "base_uri": "https://localhost:8080/",
     "height": 34
    },
    "executionInfo": {
     "elapsed": 481,
     "status": "ok",
     "timestamp": 1603503433254,
     "user": {
      "displayName": "Orlando O. S.",
      "photoUrl": "https://lh3.googleusercontent.com/a-/AOh14Gj-E1yuy1M_3ruwN4TWYPK4BwysauSW7GQmHheS=s64",
      "userId": "15066502291703974467"
     },
     "user_tz": 180
    },
    "id": "OupozpVWzWNR",
    "outputId": "2e1c4465-8545-4d00-9832-9502023ce5a1"
   },
   "outputs": [
    {
     "name": "stdout",
     "output_type": "stream",
     "text": [
      "A média da idade dos alunos é 30.87\n"
     ]
    }
   ],
   "source": [
    "## Calcula a média de idades com o for\n",
    "idades = [23,25,'Não revelo minha idade',30,34, 'Não sei quando nasci', 27,28,None,23,24,None,25,32,43,None,32,54, 'pergunta para minha mãe',30,None,33]\n",
    "total = 0\n",
    "n =  0\n",
    "posicao = 0\n",
    "while posicao < len(idades):\n",
    "  valor = idades[posicao]\n",
    "  posicao +=1\n",
    "  if type(valor) != int and type(valor) != float:\n",
    "    continue\n",
    "\n",
    "  total += valor\n",
    "  n += 1\n",
    "\n",
    "\n",
    "media = total / n\n",
    "print(f'A média da idade dos alunos é {media:.2f}')"
   ]
  },
  {
   "cell_type": "code",
   "execution_count": 11,
   "metadata": {
    "colab": {
     "base_uri": "https://localhost:8080/",
     "height": 415
    },
    "executionInfo": {
     "elapsed": 689,
     "status": "ok",
     "timestamp": 1603503434957,
     "user": {
      "displayName": "Orlando O. S.",
      "photoUrl": "https://lh3.googleusercontent.com/a-/AOh14Gj-E1yuy1M_3ruwN4TWYPK4BwysauSW7GQmHheS=s64",
      "userId": "15066502291703974467"
     },
     "user_tz": 180
    },
    "id": "RIoZfVus5hYd",
    "outputId": "9c10e17f-3a0c-4103-be26-078bf4fb4c10"
   },
   "outputs": [
    {
     "name": "stdout",
     "output_type": "stream",
     "text": [
      "________________________________________________________________________\n",
      "|                  Tabuada de Multiplicação com o For                  |\n",
      "________________________________________________________________________\n",
      "|     1|     2|     3|     4|     5|     6|     7|     8|     9|    10 |\n",
      "________________________________________________________________________\n",
      "|     2|     4|     6|     8|    10|    12|    14|    16|    18|    20 |\n",
      "________________________________________________________________________\n",
      "|     3|     6|     9|    12|    15|    18|    21|    24|    27|    30 |\n",
      "________________________________________________________________________\n",
      "|     4|     8|    12|    16|    20|    24|    28|    32|    36|    40 |\n",
      "________________________________________________________________________\n",
      "|     5|    10|    15|    20|    25|    30|    35|    40|    45|    50 |\n",
      "________________________________________________________________________\n",
      "|     6|    12|    18|    24|    30|    36|    42|    48|    54|    60 |\n",
      "________________________________________________________________________\n",
      "|     7|    14|    21|    28|    35|    42|    49|    56|    63|    70 |\n",
      "________________________________________________________________________\n",
      "|     8|    16|    24|    32|    40|    48|    56|    64|    72|    80 |\n",
      "________________________________________________________________________\n",
      "|     9|    18|    27|    36|    45|    54|    63|    72|    81|    90 |\n",
      "________________________________________________________________________\n",
      "|    10|    20|    30|    40|    50|    60|    70|    80|    90|   100 |\n",
      "________________________________________________________________________\n"
     ]
    }
   ],
   "source": [
    "#Tabuada de Multiplicação com o For\n",
    "print('_'*72)\n",
    "print('|{0:^70s}|'.format('Tabuada de Multiplicação com o For'))\n",
    "print('_'*72)\n",
    "x = 1\n",
    "while x <= 10:\n",
    "  y = 1\n",
    "  while y <= 10:\n",
    "    if y==10:\n",
    "      print(f'|{x*y:>6d} |')\n",
    "    else:\n",
    "      print(f'|{x*y:>6d}', end='')\n",
    "    y += 1\n",
    "  print('_'*72)\n",
    "  x += 1"
   ]
  },
  {
   "cell_type": "markdown",
   "metadata": {
    "id": "DX9JWKhxX1xn"
   },
   "source": [
    "## Leituras Adicionais e Referências:\n",
    "\n",
    "- Python Tutorial at W3Schools: https://www.w3schools.com/python/\n",
    "- Python official documentation: https://docs.python.org/3/tutorial/index.html"
   ]
  }
 ],
 "metadata": {
  "colab": {
   "authorship_tag": "ABX9TyPQGZW7xZfj3PwpSqgARmfR",
   "collapsed_sections": [],
   "name": "Aula 03 - Introdução à Linguagem de Python para Analytics e Data Science.ipynb",
   "provenance": [
    {
     "file_id": "1F82PJICoVYLAG6xN-xT_KhWKkvDxdro6",
     "timestamp": 1603324877816
    }
   ]
  },
  "kernelspec": {
   "display_name": "Python 3",
   "language": "python",
   "name": "python3"
  },
  "language_info": {
   "codemirror_mode": {
    "name": "ipython",
    "version": 3
   },
   "file_extension": ".py",
   "mimetype": "text/x-python",
   "name": "python",
   "nbconvert_exporter": "python",
   "pygments_lexer": "ipython3",
   "version": "3.7.8"
  }
 },
 "nbformat": 4,
 "nbformat_minor": 1
}
