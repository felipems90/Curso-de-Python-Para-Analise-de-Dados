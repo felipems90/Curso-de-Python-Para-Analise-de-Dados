{
 "cells": [
  {
   "cell_type": "markdown",
   "metadata": {
    "id": "uGqJJfZ36iR6"
   },
   "source": [
    "# 01 - Introdução à Linguagem Python\n",
    "## Aula 05 - 03 - Estruturas de Dados - Conjuntos"
   ]
  },
  {
   "cell_type": "markdown",
   "metadata": {
    "id": "JNifjo59P9mf"
   },
   "source": [
    "## Professor: Orlando Oliveira dos Santos, MsC.\n",
    " - E-mail: professor.orlando.santos@gmail.com \n",
    " - Youtube :https://www.youtube.com/channel/UCPWWbkPWFmOjXH50TQWNAYg\n",
    " - Linkedin: https://linkedin.com/in/orlandoosantos\n",
    " - Facebook: https://www.facebook.com/proforlandosantosmsc/\n",
    " - Twitter: https://twitter.com/ProfOrlandoMsC\n",
    " - Instagram: https://www.instagram.com/proforlandosantosmsc/\n",
    "\n",
    "\n",
    "\n",
    "## Formação Acadêmica\n",
    "- Mestrado em Computação Aplicada - UnB (2014 – 2016)\t\n",
    "- MBA, Administração Estratégica de Sistemas de Informação – FGV (2011 – 2013)\n",
    "- Tecnólogo em Processamento de Dados, Análise e Desenvolvimento de Sistemas – FAETEC/SP (2000-2002)\n"
   ]
  },
  {
   "cell_type": "markdown",
   "metadata": {
    "id": "-wttXmB0JYuh"
   },
   "source": [
    "# Estruturas de Dados - Conjuntos"
   ]
  },
  {
   "cell_type": "markdown",
   "metadata": {
    "id": "ICWsJqHOhR2-"
   },
   "source": [
    "## Set em Python\n",
    "### set são coleção não ordenada e não indexada, declarada com chaves."
   ]
  },
  {
   "cell_type": "code",
   "execution_count": 1,
   "metadata": {
    "colab": {
     "base_uri": "https://localhost:8080/",
     "height": 35
    },
    "executionInfo": {
     "elapsed": 849,
     "status": "ok",
     "timestamp": 1603764916696,
     "user": {
      "displayName": "Orlando O. S.",
      "photoUrl": "https://lh3.googleusercontent.com/a-/AOh14Gj-E1yuy1M_3ruwN4TWYPK4BwysauSW7GQmHheS=s64",
      "userId": "15066502291703974467"
     },
     "user_tz": 180
    },
    "id": "w76jRUcOhR2-",
    "outputId": "43f90146-e8a7-492d-f3f2-37f1b5129845"
   },
   "outputs": [
    {
     "name": "stdout",
     "output_type": "stream",
     "text": [
      "{'Sul', 'Sudeste', 'Centro Oeste', 'Nordeste', 'Norte'}\n"
     ]
    }
   ],
   "source": [
    "set_regioes = {\"Norte\", \"Sul\", \"Sudeste\",\"Nordeste\", \"Centro Oeste\"}\n",
    "print(set_regioes)"
   ]
  },
  {
   "cell_type": "markdown",
   "metadata": {
    "id": "PjMQlAIb14Yo"
   },
   "source": [
    "Observe os conjuntos não estão ordenados, ou seja não aparecem na ordem que foram criados."
   ]
  },
  {
   "cell_type": "code",
   "execution_count": 2,
   "metadata": {
    "colab": {
     "base_uri": "https://localhost:8080/",
     "height": 35
    },
    "executionInfo": {
     "elapsed": 872,
     "status": "ok",
     "timestamp": 1603764952540,
     "user": {
      "displayName": "Orlando O. S.",
      "photoUrl": "https://lh3.googleusercontent.com/a-/AOh14Gj-E1yuy1M_3ruwN4TWYPK4BwysauSW7GQmHheS=s64",
      "userId": "15066502291703974467"
     },
     "user_tz": 180
    },
    "id": "-HZ70QJA1woH",
    "outputId": "73f8cc92-ce0a-43c2-e694-32ba793ea388"
   },
   "outputs": [
    {
     "name": "stdout",
     "output_type": "stream",
     "text": [
      "{'Sul', 'Sudeste', 'Centro Oeste', 'Nordeste', 'Norte'}\n"
     ]
    }
   ],
   "source": [
    "print(set_regioes)"
   ]
  },
  {
   "cell_type": "markdown",
   "metadata": {
    "id": "-D48p5BxhR3B"
   },
   "source": [
    "### Acesso ao item na set\n",
    "Não se pode acessar itens em um set pelo índice ou chave.\n",
    "\n",
    "Um for loop pode ser usado para esse fim."
   ]
  },
  {
   "cell_type": "code",
   "execution_count": 3,
   "metadata": {
    "colab": {
     "base_uri": "https://localhost:8080/",
     "height": 108
    },
    "executionInfo": {
     "elapsed": 1527,
     "status": "ok",
     "timestamp": 1603765131852,
     "user": {
      "displayName": "Orlando O. S.",
      "photoUrl": "https://lh3.googleusercontent.com/a-/AOh14Gj-E1yuy1M_3ruwN4TWYPK4BwysauSW7GQmHheS=s64",
      "userId": "15066502291703974467"
     },
     "user_tz": 180
    },
    "id": "Vp2JDJEehR3C",
    "outputId": "9fd10801-c172-47ee-ff61-84c5dd417e67"
   },
   "outputs": [
    {
     "name": "stdout",
     "output_type": "stream",
     "text": [
      "Sul\n",
      "Sudeste\n",
      "Centro Oeste\n",
      "Nordeste\n",
      "Norte\n"
     ]
    }
   ],
   "source": [
    "set_regioes = {\"Norte\", \"Sul\", \"Sudeste\",\"Nordeste\", \"Centro Oeste\"}\n",
    "\n",
    "for regiao in set_regioes:\n",
    "  print(regiao)"
   ]
  },
  {
   "cell_type": "markdown",
   "metadata": {
    "id": "vgIc_AYE2lQ8"
   },
   "source": [
    "### Verificar se um item existe no set."
   ]
  },
  {
   "cell_type": "code",
   "execution_count": 4,
   "metadata": {
    "colab": {
     "base_uri": "https://localhost:8080/",
     "height": 35
    },
    "executionInfo": {
     "elapsed": 1070,
     "status": "ok",
     "timestamp": 1603765188845,
     "user": {
      "displayName": "Orlando O. S.",
      "photoUrl": "https://lh3.googleusercontent.com/a-/AOh14Gj-E1yuy1M_3ruwN4TWYPK4BwysauSW7GQmHheS=s64",
      "userId": "15066502291703974467"
     },
     "user_tz": 180
    },
    "id": "UuCT1sEghR3E",
    "outputId": "72ec4ebf-0612-4649-8585-eda976cd47f2"
   },
   "outputs": [
    {
     "name": "stdout",
     "output_type": "stream",
     "text": [
      "True\n"
     ]
    }
   ],
   "source": [
    "set_regioes = {\"Norte\", \"Sul\", \"Sudeste\",\"Nordeste\", \"Centro Oeste\"}\n",
    "\n",
    "print(\"Norte\" in set_regioes)"
   ]
  },
  {
   "cell_type": "markdown",
   "metadata": {
    "id": "bCPPcl1-hR3G"
   },
   "source": [
    "### Alterar itens\n",
    "Não se pode alterar os itens do set depois de criado, mas pode-se adicionar novos itens.\n",
    "\n",
    "### Adicionar itens\n",
    "- Use o método add() para adicionar um item a um set\n",
    "- Use o método update() para adicionar adicionar mais de um item a um set.\n"
   ]
  },
  {
   "cell_type": "code",
   "execution_count": 5,
   "metadata": {
    "colab": {
     "base_uri": "https://localhost:8080/",
     "height": 35
    },
    "executionInfo": {
     "elapsed": 884,
     "status": "ok",
     "timestamp": 1603765357701,
     "user": {
      "displayName": "Orlando O. S.",
      "photoUrl": "https://lh3.googleusercontent.com/a-/AOh14Gj-E1yuy1M_3ruwN4TWYPK4BwysauSW7GQmHheS=s64",
      "userId": "15066502291703974467"
     },
     "user_tz": 180
    },
    "id": "etCow0kShR3G",
    "outputId": "a864114b-b3c6-4227-9ee0-9c1435954b26"
   },
   "outputs": [
    {
     "name": "stdout",
     "output_type": "stream",
     "text": [
      "{'Sul', 'Sudeste', 'Centro Oeste', 'Nordeste', 'Noroeste', 'Norte'}\n"
     ]
    }
   ],
   "source": [
    "set_regioes = {\"Norte\", \"Sul\", \"Sudeste\",\"Nordeste\", \"Centro Oeste\"}\n",
    "\n",
    "set_regioes.add(\"Noroeste\")\n",
    "\n",
    "print(set_regioes)"
   ]
  },
  {
   "cell_type": "code",
   "execution_count": 6,
   "metadata": {
    "colab": {
     "base_uri": "https://localhost:8080/",
     "height": 35
    },
    "executionInfo": {
     "elapsed": 828,
     "status": "ok",
     "timestamp": 1603765374012,
     "user": {
      "displayName": "Orlando O. S.",
      "photoUrl": "https://lh3.googleusercontent.com/a-/AOh14Gj-E1yuy1M_3ruwN4TWYPK4BwysauSW7GQmHheS=s64",
      "userId": "15066502291703974467"
     },
     "user_tz": 180
    },
    "id": "hL5C7W3zhR3J",
    "outputId": "a58cd253-5644-4d4f-d24e-428b42cee93f"
   },
   "outputs": [
    {
     "name": "stdout",
     "output_type": "stream",
     "text": [
      "{'Sul', 'Oeste', 'Sudeste', 'Centro Oeste', 'Nordeste', 'Noroeste', 'Norte', 'leste'}\n"
     ]
    }
   ],
   "source": [
    "set_regioes = {\"Norte\", \"Sul\", \"Sudeste\",\"Nordeste\", \"Centro Oeste\"}\n",
    "\n",
    "set_regioes.update([\"leste\", \"Oeste\", \"Noroeste\"])\n",
    "\n",
    "print(set_regioes)"
   ]
  },
  {
   "cell_type": "markdown",
   "metadata": {
    "id": "y4XcSWzxhR3L"
   },
   "source": [
    "### Obter o tamanho de um set\n",
    "- Use o método len()"
   ]
  },
  {
   "cell_type": "code",
   "execution_count": 7,
   "metadata": {
    "colab": {
     "base_uri": "https://localhost:8080/",
     "height": 35
    },
    "executionInfo": {
     "elapsed": 956,
     "status": "ok",
     "timestamp": 1603765440497,
     "user": {
      "displayName": "Orlando O. S.",
      "photoUrl": "https://lh3.googleusercontent.com/a-/AOh14Gj-E1yuy1M_3ruwN4TWYPK4BwysauSW7GQmHheS=s64",
      "userId": "15066502291703974467"
     },
     "user_tz": 180
    },
    "id": "klDDLUSZhR3M",
    "outputId": "fbc4bd3b-4173-4984-f20d-f6068e6845fe"
   },
   "outputs": [
    {
     "name": "stdout",
     "output_type": "stream",
     "text": [
      "5\n"
     ]
    }
   ],
   "source": [
    "set_regioes = {\"Norte\", \"Sul\", \"Sudeste\",\"Nordeste\", \"Centro Oeste\"}\n",
    "\n",
    "print(len(set_regioes))"
   ]
  },
  {
   "cell_type": "markdown",
   "metadata": {
    "id": "oDO1QfyrhR3O"
   },
   "source": [
    "### Remover item do set\n",
    "- Use o método remove(), ou o método discard();\n",
    "- Ocorrerá erro no método remove() se o item a ser removido não existir, mas isso não ocorrerá no método discard();"
   ]
  },
  {
   "cell_type": "code",
   "execution_count": 8,
   "metadata": {
    "colab": {
     "base_uri": "https://localhost:8080/",
     "height": 54
    },
    "executionInfo": {
     "elapsed": 838,
     "status": "ok",
     "timestamp": 1603765513826,
     "user": {
      "displayName": "Orlando O. S.",
      "photoUrl": "https://lh3.googleusercontent.com/a-/AOh14Gj-E1yuy1M_3ruwN4TWYPK4BwysauSW7GQmHheS=s64",
      "userId": "15066502291703974467"
     },
     "user_tz": 180
    },
    "id": "KkLMBimShR3P",
    "outputId": "240fedf5-492e-4c8f-c866-106954758f2d"
   },
   "outputs": [
    {
     "name": "stdout",
     "output_type": "stream",
     "text": [
      "{'Sul', 'Sudeste', 'Centro Oeste', 'Nordeste', 'Norte'}\n",
      "{'Sul', 'Sudeste', 'Centro Oeste', 'Nordeste'}\n"
     ]
    }
   ],
   "source": [
    "set_regioes = {\"Norte\", \"Sul\", \"Sudeste\",\"Nordeste\", \"Centro Oeste\"}\n",
    "\n",
    "print(set_regioes)\n",
    "\n",
    "set_regioes.remove(\"Norte\")\n",
    "\n",
    "print(set_regioes)"
   ]
  },
  {
   "cell_type": "code",
   "execution_count": 9,
   "metadata": {
    "colab": {
     "base_uri": "https://localhost:8080/",
     "height": 171
    },
    "executionInfo": {
     "elapsed": 837,
     "status": "error",
     "timestamp": 1603765652156,
     "user": {
      "displayName": "Orlando O. S.",
      "photoUrl": "https://lh3.googleusercontent.com/a-/AOh14Gj-E1yuy1M_3ruwN4TWYPK4BwysauSW7GQmHheS=s64",
      "userId": "15066502291703974467"
     },
     "user_tz": 180
    },
    "id": "W6Rs5S2U4a8r",
    "outputId": "5af1428a-4044-425c-bb51-6e91104b18b3"
   },
   "outputs": [
    {
     "ename": "KeyError",
     "evalue": "'Norte'",
     "output_type": "error",
     "traceback": [
      "\u001b[1;31m---------------------------------------------------------------------------\u001b[0m",
      "\u001b[1;31mKeyError\u001b[0m                                  Traceback (most recent call last)",
      "\u001b[1;32m<ipython-input-9-f7981eab3318>\u001b[0m in \u001b[0;36m<module>\u001b[1;34m\u001b[0m\n\u001b[1;32m----> 1\u001b[1;33m \u001b[0mset_regioes\u001b[0m\u001b[1;33m.\u001b[0m\u001b[0mremove\u001b[0m\u001b[1;33m(\u001b[0m\u001b[1;34m\"Norte\"\u001b[0m\u001b[1;33m)\u001b[0m\u001b[1;33m\u001b[0m\u001b[1;33m\u001b[0m\u001b[0m\n\u001b[0m",
      "\u001b[1;31mKeyError\u001b[0m: 'Norte'"
     ]
    }
   ],
   "source": [
    "set_regioes.remove(\"Norte\")"
   ]
  },
  {
   "cell_type": "code",
   "execution_count": 10,
   "metadata": {
    "colab": {
     "base_uri": "https://localhost:8080/",
     "height": 35
    },
    "executionInfo": {
     "elapsed": 1005,
     "status": "ok",
     "timestamp": 1603765626817,
     "user": {
      "displayName": "Orlando O. S.",
      "photoUrl": "https://lh3.googleusercontent.com/a-/AOh14Gj-E1yuy1M_3ruwN4TWYPK4BwysauSW7GQmHheS=s64",
      "userId": "15066502291703974467"
     },
     "user_tz": 180
    },
    "id": "KCoYYDj_hR3S",
    "outputId": "db439778-042e-41d6-d1bb-ab5ee956255c"
   },
   "outputs": [
    {
     "name": "stdout",
     "output_type": "stream",
     "text": [
      "{'Sul', 'Sudeste', 'Centro Oeste', 'Nordeste'}\n"
     ]
    }
   ],
   "source": [
    "set_regioes = {\"Norte\", \"Sul\", \"Sudeste\",\"Nordeste\", \"Centro Oeste\"}\n",
    "\n",
    "set_regioes.discard(\"Norte\")\n",
    "\n",
    "print(set_regioes)"
   ]
  },
  {
   "cell_type": "code",
   "execution_count": 11,
   "metadata": {
    "id": "rjF45Wcr4YJf"
   },
   "outputs": [],
   "source": [
    "set_regioes.discard(\"Norte\")"
   ]
  },
  {
   "cell_type": "markdown",
   "metadata": {
    "id": "GQ2jWbJkhR3U"
   },
   "source": [
    "- Pode ser usar o método pop() para remover um item,removerá o último item. você não saberá qual item será removido.\n",
    "- Ao usar o método pop(), não se sabe qual item será removido."
   ]
  },
  {
   "cell_type": "code",
   "execution_count": 12,
   "metadata": {
    "colab": {
     "base_uri": "https://localhost:8080/",
     "height": 72
    },
    "executionInfo": {
     "elapsed": 855,
     "status": "ok",
     "timestamp": 1603765847078,
     "user": {
      "displayName": "Orlando O. S.",
      "photoUrl": "https://lh3.googleusercontent.com/a-/AOh14Gj-E1yuy1M_3ruwN4TWYPK4BwysauSW7GQmHheS=s64",
      "userId": "15066502291703974467"
     },
     "user_tz": 180
    },
    "id": "5PXJ8usyhR3U",
    "outputId": "22b2a25a-31d3-4fff-b790-1dacaf7ba73c"
   },
   "outputs": [
    {
     "name": "stdout",
     "output_type": "stream",
     "text": [
      "{'Sul', 'Sudeste', 'Centro Oeste', 'Nordeste', 'Norte'}\n",
      "Sul\n",
      "{'Sudeste', 'Centro Oeste', 'Nordeste', 'Norte'}\n"
     ]
    }
   ],
   "source": [
    "set_regioes = {\"Norte\", \"Sul\", \"Sudeste\",\"Nordeste\", \"Centro Oeste\"}\n",
    "\n",
    "print(set_regioes)\n",
    "\n",
    "x = set_regioes.pop()\n",
    "\n",
    "print(x)\n",
    "\n",
    "print(set_regioes)\n",
    "\n"
   ]
  },
  {
   "cell_type": "code",
   "execution_count": 13,
   "metadata": {
    "colab": {
     "base_uri": "https://localhost:8080/",
     "height": 35
    },
    "executionInfo": {
     "elapsed": 965,
     "status": "ok",
     "timestamp": 1603765906850,
     "user": {
      "displayName": "Orlando O. S.",
      "photoUrl": "https://lh3.googleusercontent.com/a-/AOh14Gj-E1yuy1M_3ruwN4TWYPK4BwysauSW7GQmHheS=s64",
      "userId": "15066502291703974467"
     },
     "user_tz": 180
    },
    "id": "7tehgR73hR3W",
    "outputId": "bc98708a-65cc-4862-d61b-66d05543cafc"
   },
   "outputs": [
    {
     "name": "stdout",
     "output_type": "stream",
     "text": [
      "set()\n"
     ]
    }
   ],
   "source": [
    "set_regioes = {\"Norte\", \"Sul\", \"Sudeste\",\"Nordeste\", \"Centro Oeste\"}\n",
    "\n",
    "set_regioes.clear()\n",
    "\n",
    "print(set_regioes)"
   ]
  },
  {
   "cell_type": "markdown",
   "metadata": {
    "id": "pVQl4lZ7hR3Z"
   },
   "source": [
    "### Remover o set completamente\n",
    "Use a palavra-chave del"
   ]
  },
  {
   "cell_type": "code",
   "execution_count": 14,
   "metadata": {
    "colab": {
     "base_uri": "https://localhost:8080/",
     "height": 54
    },
    "executionInfo": {
     "elapsed": 774,
     "status": "ok",
     "timestamp": 1603765988779,
     "user": {
      "displayName": "Orlando O. S.",
      "photoUrl": "https://lh3.googleusercontent.com/a-/AOh14Gj-E1yuy1M_3ruwN4TWYPK4BwysauSW7GQmHheS=s64",
      "userId": "15066502291703974467"
     },
     "user_tz": 180
    },
    "id": "EMHwSy2WhR3Z",
    "outputId": "5181f70f-9f2f-4a31-a101-0a000f3b839e"
   },
   "outputs": [
    {
     "name": "stdout",
     "output_type": "stream",
     "text": [
      "regiao\t set_regioes\t x\t \n"
     ]
    }
   ],
   "source": [
    "set_regioes = {\"Norte\", \"Sul\", \"Sudeste\",\"Nordeste\", \"Centro Oeste\"}\n",
    "\n",
    "%who "
   ]
  },
  {
   "cell_type": "code",
   "execution_count": 15,
   "metadata": {
    "colab": {
     "base_uri": "https://localhost:8080/",
     "height": 54
    },
    "executionInfo": {
     "elapsed": 594,
     "status": "ok",
     "timestamp": 1603765989245,
     "user": {
      "displayName": "Orlando O. S.",
      "photoUrl": "https://lh3.googleusercontent.com/a-/AOh14Gj-E1yuy1M_3ruwN4TWYPK4BwysauSW7GQmHheS=s64",
      "userId": "15066502291703974467"
     },
     "user_tz": 180
    },
    "id": "6bHnSaM95tGI",
    "outputId": "bd305972-387e-4b43-9a18-1358e3720c91"
   },
   "outputs": [
    {
     "name": "stdout",
     "output_type": "stream",
     "text": [
      "regiao\t x\t \n"
     ]
    }
   ],
   "source": [
    "del set_regioes\n",
    "\n",
    "%who"
   ]
  },
  {
   "cell_type": "markdown",
   "metadata": {
    "id": "DX9JWKhxX1xn"
   },
   "source": [
    "## Leituras Adicionais e Referências:\n",
    "\n",
    "- Python Tutorial at W3Schools: https://www.w3schools.com/python/\n",
    "- Python official documentation: https://docs.python.org/3/tutorial/index.html"
   ]
  }
 ],
 "metadata": {
  "colab": {
   "collapsed_sections": [],
   "name": "Aula 04 Introdução à Linguagem de Python para Analytics e Data Science.ipynb",
   "provenance": []
  },
  "kernelspec": {
   "display_name": "Python 3",
   "language": "python",
   "name": "python3"
  },
  "language_info": {
   "codemirror_mode": {
    "name": "ipython",
    "version": 3
   },
   "file_extension": ".py",
   "mimetype": "text/x-python",
   "name": "python",
   "nbconvert_exporter": "python",
   "pygments_lexer": "ipython3",
   "version": "3.7.8"
  }
 },
 "nbformat": 4,
 "nbformat_minor": 1
}
