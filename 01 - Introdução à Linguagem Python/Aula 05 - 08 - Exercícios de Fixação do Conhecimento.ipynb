{
 "cells": [
  {
   "cell_type": "markdown",
   "metadata": {
    "id": "uGqJJfZ36iR6"
   },
   "source": [
    "# 01 - Introdução à Linguagem Python\n",
    "## Aula 03 - 08 - Exercícios de Fixação do Conhecimento"
   ]
  },
  {
   "cell_type": "markdown",
   "metadata": {
    "id": "JNifjo59P9mf"
   },
   "source": [
    "## Professor: Orlando Oliveira dos Santos, MsC.\n",
    " - E-mail: professor.orlando.santos@gmail.com \n",
    " - Youtube :https://www.youtube.com/channel/UCPWWbkPWFmOjXH50TQWNAYg\n",
    " - Linkedin: https://linkedin.com/in/orlandoosantos\n",
    " - Facebook: https://www.facebook.com/proforlandosantosmsc/\n",
    " - Twitter: https://twitter.com/ProfOrlandoMsC\n",
    " - Instagram: https://www.instagram.com/proforlandosantosmsc/\n",
    "\n",
    "\n",
    "\n",
    "## Formação Acadêmica\n",
    "- Mestrado em Computação Aplicada - UnB (2014 – 2016)\t\n",
    "- MBA, Administração Estratégica de Sistemas de Informação – FGV (2011 – 2013)\n",
    "- Tecnólogo em Processamento de Dados, Análise e Desenvolvimento de Sistemas – FAETEC/SP (2000-2002)\n"
   ]
  },
  {
   "cell_type": "markdown",
   "metadata": {},
   "source": [
    "# Estruturas de Dados (Tuplas, Listas, Conjuntos e Dicionários)"
   ]
  },
  {
   "cell_type": "markdown",
   "metadata": {
    "id": "W2DQ8lHqSz8O"
   },
   "source": [
    "# Exercícios de Fixação\n",
    "***\n",
    "- Utilizando o conteúdo abaixo, extraído do portal do IBGE (https://www.ibge.gov.br/cidades-e-estados), atribua-o a uma variável chamada estados do Brasil"
   ]
  },
  {
   "cell_type": "code",
   "execution_count": 1,
   "metadata": {
    "id": "9Sv2_d6nSnUF"
   },
   "outputs": [],
   "source": [
    "estados_brasil = \"\"\"UF [-],Código [-],Gentílico [-],Governador [2019],Capital [2010],Área Territorial - km² [2019],População estimada - pessoas [2020],Densidade demográfica - hab/km² [2010],Matrículas no ensino fundamental - matrículas [2018],IDH <span>Índice de desenvolvimento humano</span> [2010],Receitas realizadas - R$ (×1000) [2017],Despesas empenhadas - R$ (×1000) [2017],Rendimento mensal domiciliar per capita - R$ [2019],Total de veículos - veículos [2018],\n",
    "Acre,12,acriano,GLADSON DE LIMA CAMELI,Rio Branco,164123.964,894470,4.47,157646,0.663,6632883.10836,6084416.8063,890,277831,\n",
    "Alagoas,27,alagoano,JOSE RENAN VASCONCELOS CALHEIROS FILHO,Maceió,27843.295,3351543,112.33,490587,0.631,11950438.46015,10460634.91711,731,834827,\n",
    "Amapá,16,amapaense,ANTONIO WALDEZ GÓES DA SILVA,Macapá,142470.762,861773,4.69,136185,0.708,5396417.14471,4224464.08829,880,195039,\n",
    "Amazonas,13,amazonense,WILSON MIRANDA LIMA,Manaus,1559167.889,4207714,2.23,705007,0.674,17328459.43402,15324896.55705,842,883083,\n",
    "Bahia,29,baiano,RUI COSTA DOS SANTOS,Salvador,564760.427,14930634,24.82,2034711,0.660,50191003.24052,45570160.0038,913,4139107,\n",
    "Ceará,23,cearense,CAMILO SOBREIRA DE SANTANA,Fortaleza,148894.441,9187103,56.76,1198116,0.682,28420222.47191,24608352.18276,942,3148369,\n",
    "Distrito Federal,53,brasiliense,IBANEIS ROCHA BARROS JUNIOR,Brasília,5760.783,3055149,444.66,377622,0.824,23812211.27074,21990464.6849,2686,1812473,\n",
    "Espírito Santo,32,capixaba ou espírito-santense,JOSE RENATO CASAGRANDE,Vitória,46074.447,4064052,76.25,502059,0.740,19685616.74376,14392338.00188,1477,1936862,\n",
    "Goiás,52,goiano,RONALDO RAMOS CAIADO,Goiânia,340203.329,7113540,17.65,877593,0.735,37885335.16848,24248380.34233,1306,3909429,\n",
    "Maranhão,21,maranhense,FLÁVIO DINO DE CASTRO E COSTA,São Luís,329642.182,7114598,19.81,1178949,0.639,18503261.35491,17627170.75574,636,1696683,\n",
    "Mato Grosso,51,mato-grossense,MAURO MENDES FERREIRA,Cuiabá,903207.019,3526220,3.36,471613,0.725,23958528.83588,18187363.27009,1403,2080848,\n",
    "Mato Grosso do Sul,50,sul-mato-grossense ou mato-grossense-do-sul,REINALDO AZAMBUJA SILVA,Campo Grande,357145.534,2809394,6.86,404114,0.729,16396655.77012,14506915.37404,1514,1583142,\n",
    "Minas Gerais,31,mineiro,ROMEU ZEMA NETO,Belo Horizonte,586521.123,21292666,33.41,2511483,0.731,97199823.15616,98391669.16323,1358,11191341,\n",
    "Pará,15,paraense,HELDER ZAHLUTH BARBALHO,Belém,1245870.798,8690745,6.07,1439788,0.646,25849446.10454,22533470.04547,807,2013952,\n",
    "Paraíba,25,paraibano,JOÃO AZEVEDO LINS FILHO,João Pessoa,56467.242,4039277,66.70,556248,0.658,13097005.31928,10074700.04266,929,1293668,\n",
    "Paraná,41,paranaense,CARLOS ROBERTO MASSA JUNIOR,Curitiba,199298.979,11516840,52.40,1427218,0.749,60163576.12246,55534402.97483,1621,7571122,\n",
    "Pernambuco,26,pernambucano,PAULO HENRIQUE SARAIVA CÂMARA,Recife,98067.881,9616621,89.62,1301930,0.673,35746028.97102,33320486.44445,970,3010638,\n",
    "Piauí,22,piauiense,JOSÉ WELLINGTON BARROSO DE ARAÚJO DIAS,Teresina,251756.515,3281480,12.40,480126,0.646,12124215.61511,9676736.31835,827,1196192,\n",
    "Rio de Janeiro,33,fluminense,WILSON JOSÉ WITZEL,Rio de Janeiro,43750.427,17366189,365.23,2003315,0.761,78488140.78862,67965548.69757,1882,6725822,\n",
    "Rio Grande do Norte,24,potiguar ou  norte-rio-grandense ou  rio-grandense-do-norte,MARIA DE FATIMA BEZERRA,Natal,52809.602,3534165,59.99,467629,0.684,13527552.73159,11330957.55333,1057,1290903,\n",
    "Rio Grande do Sul,43,gaúcho ou sul-rio-grandense,EDUARDO FIGUEIREDO CAVALHEIRO LEITE,Porto Alegre,281707.156,11422973,37.96,1298736,0.746,66397468.17915,62476279.34364,1843,7077972,\n",
    "Rondônia,11,rondoniense ou rondoniano,MARCOS JOSE ROCHA DOS SANTOS,Porto Velho,237765.240,1796460,6.58,269626,0.690,9122310.72305,7085530.0168,1136,985047,\n",
    "Roraima,14,roraimense,ANTONIO OLIVERIO GARCIA DE ALMEIDA,Boa Vista,223644.527,631181,2.01,96582,0.707,4419450.41557,3384683.73914,1044,219290,\n",
    "Santa Catarina,42,catarinense ou barriga-verde,CARLOS MOISÉS DA SILVA,Florianópolis,95730.684,7252502,65.27,851993,0.774,34696772.82078,25595103.37918,1769,5152615,\n",
    "São Paulo,35,paulista,JOÃO AGRIPINO DA COSTA DORIA JUNIOR,São Paulo,248219.481,46289333,166.23,5367614,0.783,232822496.56706,231982243.69176,1946,29057749,\n",
    "Sergipe,28,sergipano ou sergipense,BELIVALDO CHAGAS SILVA,Aracaju,21925.424,2318822,94.36,331297,0.665,10145046.95355,8494927.19996,980,772380,\n",
    "Tocantins,17,tocantinense,MAURO CARLESSE,Palmas,277466.763,1590248,4.98,246183,0.699,10305099.01288,8929456.43836,1056,690169,\"\"\""
   ]
  },
  {
   "cell_type": "markdown",
   "metadata": {
    "id": "3zsZKkquNZjO"
   },
   "source": [
    "- 1) Usando o conteúdo da variável acima, cria uma rotina para transformar seu conteúdo em um dicionário de dados aninhando, lista com um dicionário para cada estado.  Use os nomes das colunas para o nome das chaves dos dicionários e valores das colunas para o valor de cada chave.\n",
    "\n",
    "\n"
   ]
  },
  {
   "cell_type": "markdown",
   "metadata": {
    "id": "Usf9G06pXxDm"
   },
   "source": [
    "- 2) Usando o dicionário criado na questão anterior ou a variável inicial imprima qual o nome do governador de Roraima."
   ]
  },
  {
   "cell_type": "markdown",
   "metadata": {
    "id": "uRBi5Af0YFaw"
   },
   "source": [
    "- 3) Usando o dicionário criado na questão anterior ou a variável inicial imprima qual o gentílico de quem nas no Rio Grande do Norte."
   ]
  },
  {
   "cell_type": "markdown",
   "metadata": {
    "id": "uSHT4UK8YQEj"
   },
   "source": [
    "- 4) Usando o dicionário criado na questão anterior ou a variável inicial imprima qual o capital do estado do Amapá."
   ]
  },
  {
   "cell_type": "markdown",
   "metadata": {
    "id": "j_sFEpy6YdEX"
   },
   "source": [
    "- 5) Usando o dicionário criado na questão anterior ou a variável inicial imprima o total da área territorial do Brasil."
   ]
  },
  {
   "cell_type": "markdown",
   "metadata": {
    "id": "1PyHIlCkYvIj"
   },
   "source": [
    "- 6) Usando o dicionário criado na questão anterior ou a variável inicial imprima o total da população estimada do Brasil."
   ]
  },
  {
   "cell_type": "markdown",
   "metadata": {
    "id": "otRcyKWkY2Xa"
   },
   "source": [
    "- 8) Usando o dicionário criado na questão anterior ou a variável inicial imprima o total de veículos do Brasil."
   ]
  },
  {
   "cell_type": "markdown",
   "metadata": {
    "id": "6OAocsjfZcST"
   },
   "source": [
    "- 9) Imprima o nome do estado de maior densidade demográfica"
   ]
  },
  {
   "cell_type": "markdown",
   "metadata": {
    "id": "cWD3Mu11Xs_Y"
   },
   "source": [
    "- 10) Imprima o estado de menor população"
   ]
  },
  {
   "cell_type": "markdown",
   "metadata": {
    "id": "9GNZPEoyaCQQ"
   },
   "source": [
    "- 11) Imprima a média de população dos estados"
   ]
  },
  {
   "cell_type": "markdown",
   "metadata": {
    "id": "ErmdtaxTaIbl"
   },
   "source": [
    "- 12) Imprima a média de densidade demográfica dos estados"
   ]
  },
  {
   "cell_type": "markdown",
   "metadata": {
    "id": "sD2U6m0Eacyo"
   },
   "source": [
    "- 13) Imprima o nome do Governando do Estado com menor IDH\n"
   ]
  },
  {
   "cell_type": "markdown",
   "metadata": {
    "id": "iN-FVZEMadOz"
   },
   "source": [
    "- 14) Imprima o nome da Capital do estado com maior IDH"
   ]
  },
  {
   "cell_type": "markdown",
   "metadata": {
    "id": "i089cJ6_as8C"
   },
   "source": [
    "- 15) Imprima o nome do estado e valor da receita realizada dos estados da região Sul\n"
   ]
  },
  {
   "cell_type": "code",
   "execution_count": null,
   "metadata": {
    "id": "YYKwslo2HiTk"
   },
   "outputs": [],
   "source": []
  }
 ],
 "metadata": {
  "colab": {
   "collapsed_sections": [],
   "name": "Aula 04 Introdução à Linguagem de Python para Analytics e Data Science.ipynb",
   "provenance": []
  },
  "kernelspec": {
   "display_name": "Python 3",
   "language": "python",
   "name": "python3"
  },
  "language_info": {
   "codemirror_mode": {
    "name": "ipython",
    "version": 3
   },
   "file_extension": ".py",
   "mimetype": "text/x-python",
   "name": "python",
   "nbconvert_exporter": "python",
   "pygments_lexer": "ipython3",
   "version": "3.7.8"
  }
 },
 "nbformat": 4,
 "nbformat_minor": 1
}
