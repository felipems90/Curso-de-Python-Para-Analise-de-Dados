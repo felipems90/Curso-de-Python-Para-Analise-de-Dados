{
 "cells": [
  {
   "cell_type": "markdown",
   "metadata": {
    "id": "uGqJJfZ36iR6"
   },
   "source": [
    "# 01 - Introdução à Linguagem Python\n",
    "## Aula 03 - 07 - Exercícios de Fixação"
   ]
  },
  {
   "cell_type": "markdown",
   "metadata": {
    "id": "JNifjo59P9mf"
   },
   "source": [
    "## Professor: Orlando Oliveira dos Santos, MsC.\n",
    " - E-mail: professor.orlando.santos@gmail.com \n",
    " - Youtube :https://www.youtube.com/channel/UCPWWbkPWFmOjXH50TQWNAYg\n",
    " - Linkedin: https://linkedin.com/in/orlandoosantos\n",
    " - Facebook: https://www.facebook.com/proforlandosantosmsc/\n",
    " - Twitter: https://twitter.com/ProfOrlandoMsC\n",
    " - Instagram: https://www.instagram.com/proforlandosantosmsc/\n",
    "\n",
    "## Formação Acadêmica\n",
    "- Mestrado em Computação Aplicada - UnB (2014 – 2016)\t\n",
    "- MBA, Administração Estratégica de Sistemas de Informação – FGV (2011 – 2013)\n",
    "- Tecnólogo em Processamento de Dados, Análise e Desenvolvimento de Sistemas – FAETEC/SP (2000-2002)\n"
   ]
  },
  {
   "cell_type": "markdown",
   "metadata": {
    "id": "-wttXmB0JYuh"
   },
   "source": [
    "# Variáveis do tipo String, Numéricas, Booleanas e None e suas operações"
   ]
  },
  {
   "cell_type": "markdown",
   "metadata": {
    "id": "3zsZKkquNZjO"
   },
   "source": [
    "# Exercícios de Fixação\n",
    "***\n",
    "##  Variáveis do tipo string e suas operações\n",
    "\n",
    "- 1) Crie uma variável nome_pessoa  e atribua seu nome completo a ela e imprima seu valor com a função print;\n",
    "- 2) Conte quantas vezes aparece a letra 'a' no seu nome;\n",
    "- 3) Altere o seu nome para letras minusculas;\n",
    "- 4) Altere o seu nome para maiusculas;\n",
    "- 5) subustitua as vogais acentuadas da palavra 'ógãos' por vogais não acentuadas usando as funções maketrans e translate; \n",
    "- 6) Crie uma variável chamada poema comforme abaixo e conte quantas vezes nome 'José' ocorre;\n",
    "\n",
    "```\n",
    "poema = '''E agora, José?\n",
    "A festa acabou,\n",
    "a luz apagou,\n",
    "o povo sumiu,\n",
    "a noite esfriou,\n",
    "e agora, José?\n",
    "e agora, você?\n",
    "você que é sem nome,\n",
    "que zomba dos outros,\n",
    "você que faz versos,\n",
    "que ama, protesta?\n",
    "e agora, José?\n",
    "\n",
    "...Carlos Drummond de Andrade\n",
    "'''\n",
    "\n",
    "```\n",
    "- 7) Troque o nome de José por Joaquim no conteúdo da variável poema;\n",
    "- 9) Crie tres variáves primeiro_nome, nome_do_meio e ultimo_nome e atribuia a cada uma as parte do seu nome, depois use a função join para imprimir seu nome completo;\n",
    "- 10) Usando as mesmas tres variáveis da questão anterior, use a função format para imprimir seu nome completo;\n",
    "\n",
    "- 11) Usando os conhecimento de variáveis string, números e as funções print e format, crie as variáveis meu_nome, minha_idade, minha_altura, depois imprima no seguinte formato:  \n",
    "xxxxxxxxxxxxxxxxxxxxxxxxxxxxxxxxxxxxxxxxxxxxxxxxxxxxxxxx  \n",
    "xxxxxxxxxxxxx  MINHA FICHA DE DADOS xxxxxxxxxxxxxxxxxxxx  \n",
    "xxMEU NOME:       Meu Nome (no centro)              \n",
    "xxMINHA IDADE (na direita)                          \n",
    "xxMEU ALTURA: na esquerda com duas casas decimais)   \n",
    "xxxxxxxxxxxxxxxxxxxxxxxxxxxxxxxxxxxxxxxxxxxxxxxxxxxxxxxx  \n",
    "\n",
    "\n",
    "- 12) Adicione o conteúdo abaixo em uma variável string multilinhas e depois imprima os codigo, a sigla e nome da região contida na terceira linha:\n",
    "``` \n",
    "Região - Código IBGE,Região - Sigla,Região\n",
    "1,N,Norte\n",
    "2,NE,Nordeste\n",
    "3,SE,Sudeste\n",
    "4,S,Sul\n",
    "5,CO,Centro-Oeste\n",
    "``` \n",
    "- 13) Crie uma célula do tipo de texto e preencha com o conteúdo indicado para a questão anterior no formato de tabela usando markdown;\n",
    "- 14) Reimprima o conteúdo da variável multilinha da questão 12, substutituindo todos as virgulas por ponto e virgula;\n",
    "- 15) Reimprima o conteúdo da variável multilinha da questão 12, alterando o formato para colunas de tamanho fixo, onde a coluna \"Região - Código IBGE\" tenha largura de 5 caracteres e seja preenchida com zeros a esquerta, a coluna \"Região - Sigla\" tenha tamanho 10 com alinhamento centralizado, e a coluna \"Região tenha tamanho 30 com alinhamento a direita;\n",
    "- 16) crie uma variável poema e preenche como string multilinha com o texto do poema do Rei Davi, Salmo 23 (https://www.biblianva.com.br/apenastextoptbr/psa/23/)\n",
    "```\n",
    "Salmo de Davi. \n",
    "1 Yahweh é o meu pastor; de nada terei falta. \n",
    "2 Ele me faz deitar em verdes pastos e me guia às águas tranquilas.\n",
    "3 Ele restaura a minha vida; Ele me guia pelos caminhos justos por amor ao Seu nome.\n",
    "4 Mesmo se eu andar por um vale da mais escura sombra, não temerei mal algum, pois Tu estás comigo; Tua vara e Teu cajado me consolam.\n",
    "5 Preparas um banquete para mim, na presença dos meus inimigos. Unges a minha cabeça com óleo, o meu cálice transborda.\n",
    "6 Certamente, Tua bondade e amor leal me acompanharão todos os dias da minha vida; e morarei na casa de Yahweh para sempre!\n",
    "```\n",
    "- 17) imprima o conteúdo do quinto verso do Salmo 23;\n",
    "- 18) imprima o conteúdo dos versos de números pares do Salmo 23;\n",
    "- 19) imprima o conteúdo dos versos de números impares do Salmo 23;\n",
    "- 20) imprima o texto do Salmo 23 sem os numeros dos versos;\n",
    "- 20) conte quantas vogais existem no texto do Salmo 23;\n",
    "- 21) conte quantas consoantes existem no texto do Salmo 23;\n",
    "- 24) Divida o texto do Salmo 23 em 3 partes iguais (mesmo tamanho);\n",
    "- 25) Localize a primeira ocorrência da palavra \"amor\" e imprima um recorte que que comece 30 caracteres antes da dessa palavra e 30 caracteres depois dela.\n",
    "\n",
    "\n",
    "\n"
   ]
  },
  {
   "cell_type": "code",
   "execution_count": null,
   "metadata": {},
   "outputs": [],
   "source": []
  }
 ],
 "metadata": {
  "colab": {
   "authorship_tag": "ABX9TyPqaMvKGQWvZVIVtYamLa8C",
   "collapsed_sections": [],
   "name": "Aula 02 - Introdução à Linguagem de Python para Analytics e Data Science.ipynb",
   "provenance": [
    {
     "file_id": "1F82PJICoVYLAG6xN-xT_KhWKkvDxdro6",
     "timestamp": 1602697754653
    }
   ]
  },
  "kernelspec": {
   "display_name": "Python 3",
   "language": "python",
   "name": "python3"
  },
  "language_info": {
   "codemirror_mode": {
    "name": "ipython",
    "version": 3
   },
   "file_extension": ".py",
   "mimetype": "text/x-python",
   "name": "python",
   "nbconvert_exporter": "python",
   "pygments_lexer": "ipython3",
   "version": "3.7.8"
  }
 },
 "nbformat": 4,
 "nbformat_minor": 1
}
