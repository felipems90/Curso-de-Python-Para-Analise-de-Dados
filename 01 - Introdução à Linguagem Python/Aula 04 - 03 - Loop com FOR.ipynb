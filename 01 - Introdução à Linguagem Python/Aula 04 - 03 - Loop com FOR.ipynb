{
 "cells": [
  {
   "cell_type": "markdown",
   "metadata": {
    "id": "uGqJJfZ36iR6"
   },
   "source": [
    "# 01 - Introdução à Linguagem Python\n",
    "## Aula 04 - 03 - Loop com FOR"
   ]
  },
  {
   "cell_type": "markdown",
   "metadata": {
    "id": "JNifjo59P9mf"
   },
   "source": [
    "## Professor: Orlando Oliveira dos Santos, MsC.\n",
    " - E-mail: professor.orlando.santos@gmail.com \n",
    " - Youtube :https://www.youtube.com/channel/UCPWWbkPWFmOjXH50TQWNAYg\n",
    " - Linkedin: https://linkedin.com/in/orlandoosantos\n",
    " - Facebook: https://www.facebook.com/proforlandosantosmsc/\n",
    " - Twitter: https://twitter.com/ProfOrlandoMsC\n",
    " - Instagram: https://www.instagram.com/proforlandosantosmsc/\n",
    "\n",
    "\n",
    "\n",
    "## Formação Acadêmica\n",
    "- Mestrado em Computação Aplicada - UnB (2014 – 2016)\t\n",
    "- MBA, Administração Estratégica de Sistemas de Informação – FGV (2011 – 2013)\n",
    "- Tecnólogo em Processamento de Dados, Análise e Desenvolvimento de Sistemas – FAETEC/SP (2000-2002)\n"
   ]
  },
  {
   "cell_type": "markdown",
   "metadata": {
    "id": "-wttXmB0JYuh"
   },
   "source": [
    "# Loop com FOR"
   ]
  },
  {
   "cell_type": "markdown",
   "metadata": {
    "id": "Uv87rLOZXOn6"
   },
   "source": [
    "## Iteração Looping usando For \n",
    "### For loops\n",
    "\n",
    "Um laço for é utilizado para a iteração através de uma sequência e  funciona mais como um método iterador, em que podemos executar um conjunto de instruções, uma vez para cada item em uma lista, tupla, conjunto etc.\n",
    "\n"
   ]
  },
  {
   "cell_type": "code",
   "execution_count": 1,
   "metadata": {
    "colab": {
     "base_uri": "https://localhost:8080/",
     "height": 537
    },
    "executionInfo": {
     "elapsed": 623,
     "status": "ok",
     "timestamp": 1603501501980,
     "user": {
      "displayName": "Orlando O. S.",
      "photoUrl": "https://lh3.googleusercontent.com/a-/AOh14Gj-E1yuy1M_3ruwN4TWYPK4BwysauSW7GQmHheS=s64",
      "userId": "15066502291703974467"
     },
     "user_tz": 180
    },
    "id": "MMjJv3XVnJMh",
    "outputId": "00c37f82-ee67-439e-9496-3d74bb51d70d"
   },
   "outputs": [
    {
     "name": "stdout",
     "output_type": "stream",
     "text": [
      "Inicio das instruções\n",
      "  > NORTE\n",
      "  > Norte\n",
      "  > norte\n",
      "  > NorteNorteNorte\n",
      "Fim das instruções\n",
      "Inicio das instruções\n",
      "  > NORDESTE\n",
      "  > Nordeste\n",
      "  > nordeste\n",
      "  > NordesteNordesteNordeste\n",
      "Fim das instruções\n",
      "Inicio das instruções\n",
      "  > SUDESTE\n",
      "  > Sudeste\n",
      "  > sudeste\n",
      "  > SudesteSudesteSudeste\n",
      "Fim das instruções\n",
      "Inicio das instruções\n",
      "  > SUL\n",
      "  > Sul\n",
      "  > sul\n",
      "  > SulSulSul\n",
      "Fim das instruções\n",
      "Inicio das instruções\n",
      "  > CENTRO-OESTE\n",
      "  > Centro-Oeste\n",
      "  > centro-oeste\n",
      "  > Centro-OesteCentro-OesteCentro-Oeste\n",
      "Fim das instruções\n"
     ]
    }
   ],
   "source": [
    "regioes = [\"Norte\", \"Nordeste\", \"Sudeste\", \"Sul\", \"Centro-Oeste\"]\n",
    "for x in regioes:\n",
    "  print('Inicio das instruções')\n",
    "  print('  >', x.upper())\n",
    "  print('  >',x.title())\n",
    "  print('  >',x.lower())\n",
    "  print('  >',x*3)\n",
    "  print('Fim das instruções')"
   ]
  },
  {
   "cell_type": "markdown",
   "metadata": {
    "id": "5HzmDDQ7oOgX"
   },
   "source": [
    "### A declaração de break (Interrupção do for)\n",
    "Com a instrução break , podemos interromper o loop antes que ele percorra todos os itens:"
   ]
  },
  {
   "cell_type": "code",
   "execution_count": 2,
   "metadata": {
    "colab": {
     "base_uri": "https://localhost:8080/",
     "height": 242
    },
    "executionInfo": {
     "elapsed": 702,
     "status": "ok",
     "timestamp": 1603501651165,
     "user": {
      "displayName": "Orlando O. S.",
      "photoUrl": "https://lh3.googleusercontent.com/a-/AOh14Gj-E1yuy1M_3ruwN4TWYPK4BwysauSW7GQmHheS=s64",
      "userId": "15066502291703974467"
     },
     "user_tz": 180
    },
    "id": "_lBRwgLsoHe5",
    "outputId": "d9469373-78ad-486b-9829-e25e325b8a3d"
   },
   "outputs": [
    {
     "name": "stdout",
     "output_type": "stream",
     "text": [
      "Inicio das instruções\n",
      "  > NORTE\n",
      "  > Norte\n",
      "  > norte\n",
      "  > NorteNorteNorte\n",
      "Fim das instruções\n",
      "Inicio das instruções\n",
      "  > NORDESTE\n",
      "  > Nordeste\n",
      "  > nordeste\n",
      "  > NordesteNordesteNordeste\n",
      "Fim das instruções\n",
      "Achei o que procurava! A região Nordeste\n"
     ]
    }
   ],
   "source": [
    "regioes = [\"Norte\", \"Nordeste\", \"Sudeste\", \"Sul\", \"Centro-Oeste\"]\n",
    "regiao_desejada = \"Nordeste\"\n",
    "for x in regioes:\n",
    "  print('Inicio das instruções')\n",
    "  print('  >', x.upper())\n",
    "  print('  >',x.title())\n",
    "  print('  >',x.lower())\n",
    "  print('  >',x*3)\n",
    "  print('Fim das instruções')\n",
    "  if x == regiao_desejada :\n",
    "    print(f'Achei o que procurava! A região {x}')\n",
    "    break"
   ]
  },
  {
   "cell_type": "markdown",
   "metadata": {
    "id": "_TDffatTpfYU"
   },
   "source": [
    "### A instrução continue\n",
    "Com a instrução continue , podemos parar a iteração atual do loop e continuar com a próxima interação:"
   ]
  },
  {
   "cell_type": "code",
   "execution_count": 3,
   "metadata": {
    "colab": {
     "base_uri": "https://localhost:8080/",
     "height": 190
    },
    "executionInfo": {
     "elapsed": 1225,
     "status": "ok",
     "timestamp": 1603501974007,
     "user": {
      "displayName": "Orlando O. S.",
      "photoUrl": "https://lh3.googleusercontent.com/a-/AOh14Gj-E1yuy1M_3ruwN4TWYPK4BwysauSW7GQmHheS=s64",
      "userId": "15066502291703974467"
     },
     "user_tz": 180
    },
    "id": "cA38GXuWpf5x",
    "outputId": "9b88a47b-d410-4cef-fe16-8600cdd222c1"
   },
   "outputs": [
    {
     "name": "stdout",
     "output_type": "stream",
     "text": [
      "Norte não é o que estou procurando!\n",
      "Nordeste não é o que estou procurando!\n",
      "Sudeste não é o que estou procurando!\n",
      "Inicio das instruções\n",
      "  > SUL\n",
      "  > Sul\n",
      "  > sul\n",
      "  > SulSulSul\n",
      "Fim das instruções\n",
      "Achei o que procurava! A região Sul\n"
     ]
    }
   ],
   "source": [
    "regioes = [\"Norte\", \"Nordeste\", \"Sudeste\", \"Sul\", \"Centro-Oeste\"]\n",
    "regiao_desejada = \"Sul\"\n",
    "for x in regioes:\n",
    "  if not x == regiao_desejada :\n",
    "    print(f'{x} não é o que estou procurando!')\n",
    "    continue\n",
    "  print('Inicio das instruções')\n",
    "  print('  >', x.upper())\n",
    "  print('  >',x.title())\n",
    "  print('  >',x.lower())\n",
    "  print('  >',x*3)\n",
    "  print('Fim das instruções')\n",
    "  if x == regiao_desejada :\n",
    "    print(f'Achei o que procurava! A região {x}')\n",
    "    break"
   ]
  },
  {
   "cell_type": "markdown",
   "metadata": {
    "id": "lJ_5zJdAqdRS"
   },
   "source": [
    "### Looping em strings\n",
    "Como as  strings são arrays de caracteres, elas são iteráveis com o \"for\""
   ]
  },
  {
   "cell_type": "code",
   "execution_count": 4,
   "metadata": {
    "colab": {
     "base_uri": "https://localhost:8080/",
     "height": 225
    },
    "executionInfo": {
     "elapsed": 700,
     "status": "ok",
     "timestamp": 1603502006183,
     "user": {
      "displayName": "Orlando O. S.",
      "photoUrl": "https://lh3.googleusercontent.com/a-/AOh14Gj-E1yuy1M_3ruwN4TWYPK4BwysauSW7GQmHheS=s64",
      "userId": "15066502291703974467"
     },
     "user_tz": 180
    },
    "id": "_Z-CDNKDq7xv",
    "outputId": "6119b298-c1ab-4eef-cb17-d944cb6c45df"
   },
   "outputs": [
    {
     "name": "stdout",
     "output_type": "stream",
     "text": [
      "C\n",
      "e\n",
      "n\n",
      "t\n",
      "r\n",
      "o\n",
      "-\n",
      "O\n",
      "e\n",
      "s\n",
      "t\n",
      "e\n"
     ]
    }
   ],
   "source": [
    "for letra in \"Centro-Oeste\":\n",
    "  print(letra)"
   ]
  },
  {
   "cell_type": "markdown",
   "metadata": {
    "id": "uMJZIarprUb5"
   },
   "source": [
    "### For loop com a função range()\n",
    "\n",
    "A função range pode ser usada para gerar uma sequência de números para ser usa no for."
   ]
  },
  {
   "cell_type": "code",
   "execution_count": 5,
   "metadata": {
    "colab": {
     "base_uri": "https://localhost:8080/",
     "height": 34
    },
    "executionInfo": {
     "elapsed": 692,
     "status": "ok",
     "timestamp": 1603502090694,
     "user": {
      "displayName": "Orlando O. S.",
      "photoUrl": "https://lh3.googleusercontent.com/a-/AOh14Gj-E1yuy1M_3ruwN4TWYPK4BwysauSW7GQmHheS=s64",
      "userId": "15066502291703974467"
     },
     "user_tz": 180
    },
    "id": "MCh-HgCtq2-P",
    "outputId": "97be6acd-07b3-40b0-b0f6-ecdce51926df"
   },
   "outputs": [
    {
     "name": "stdout",
     "output_type": "stream",
     "text": [
      "0,1,2,3,4,5,6,7,8,9,10,11,12,13,14,15,16,17,18,19,20,"
     ]
    }
   ],
   "source": [
    "for i in range(21):\n",
    "  print(i, end=',')"
   ]
  },
  {
   "cell_type": "code",
   "execution_count": 6,
   "metadata": {
    "id": "NAHtYcr3sDrj"
   },
   "outputs": [
    {
     "name": "stdout",
     "output_type": "stream",
     "text": [
      "0,1,2,3,4,5,6,7,8,9,10,11,12,13,14,15,16,17,18,19,20,"
     ]
    }
   ],
   "source": [
    "for i in range(21):\n",
    "  print(i, end=',')"
   ]
  },
  {
   "cell_type": "code",
   "execution_count": 7,
   "metadata": {
    "colab": {
     "base_uri": "https://localhost:8080/",
     "height": 34
    },
    "executionInfo": {
     "elapsed": 712,
     "status": "ok",
     "timestamp": 1603502183663,
     "user": {
      "displayName": "Orlando O. S.",
      "photoUrl": "https://lh3.googleusercontent.com/a-/AOh14Gj-E1yuy1M_3ruwN4TWYPK4BwysauSW7GQmHheS=s64",
      "userId": "15066502291703974467"
     },
     "user_tz": 180
    },
    "id": "SMyXt7UgsFLs",
    "outputId": "3292e067-1936-45cd-d7ec-3765f7498ca7"
   },
   "outputs": [
    {
     "name": "stdout",
     "output_type": "stream",
     "text": [
      "0,2,4,6,8,10,12,14,16,18,20,"
     ]
    }
   ],
   "source": [
    "#imprimir a lista de numeros pares menores ou igual a 20\n",
    "for i in range(21):\n",
    "  if i % 2 == 0:\n",
    "    print(i, end=',')"
   ]
  },
  {
   "cell_type": "code",
   "execution_count": 8,
   "metadata": {
    "colab": {
     "base_uri": "https://localhost:8080/",
     "height": 34
    },
    "executionInfo": {
     "elapsed": 657,
     "status": "ok",
     "timestamp": 1603502193284,
     "user": {
      "displayName": "Orlando O. S.",
      "photoUrl": "https://lh3.googleusercontent.com/a-/AOh14Gj-E1yuy1M_3ruwN4TWYPK4BwysauSW7GQmHheS=s64",
      "userId": "15066502291703974467"
     },
     "user_tz": 180
    },
    "id": "EhFIsNS2shnE",
    "outputId": "9d8a09bb-7380-4f3d-8ab5-19c958135970"
   },
   "outputs": [
    {
     "name": "stdout",
     "output_type": "stream",
     "text": [
      "0,2,4,6,8,10,12,14,16,18,20,"
     ]
    }
   ],
   "source": [
    "#imprimir a lista de numeros pares menores ou igual a 20\n",
    "for i in range(0,21,2):\n",
    "  print(i, end=',')"
   ]
  },
  {
   "cell_type": "code",
   "execution_count": 9,
   "metadata": {
    "colab": {
     "base_uri": "https://localhost:8080/",
     "height": 34
    },
    "executionInfo": {
     "elapsed": 717,
     "status": "ok",
     "timestamp": 1603502325553,
     "user": {
      "displayName": "Orlando O. S.",
      "photoUrl": "https://lh3.googleusercontent.com/a-/AOh14Gj-E1yuy1M_3ruwN4TWYPK4BwysauSW7GQmHheS=s64",
      "userId": "15066502291703974467"
     },
     "user_tz": 180
    },
    "id": "NYhSbP3xw9bL",
    "outputId": "da56bd0b-ed04-4786-9d1e-4b9c6ddf77a7"
   },
   "outputs": [
    {
     "name": "stdout",
     "output_type": "stream",
     "text": [
      "A média da idade dos alunos é 30.87\n"
     ]
    }
   ],
   "source": [
    "## Calcula a média de idades com o for\n",
    "idades = [23,25,'Não revelo minha idade',30,34, 'Não sei quando nasci', 27,28,None,23,24,None,25,32,43,None,32,54, 'pergunta para minha mãe',30,None,33]\n",
    "total = 0\n",
    "n =  0\n",
    "for valor in idades:\n",
    "    if type(valor) != int and type(valor) != float:\n",
    "      continue\n",
    "\n",
    "    total += valor\n",
    "    n += 1\n",
    "\n",
    "media = total / n\n",
    "print(f'A média da idade dos alunos é {media:.2f}')"
   ]
  },
  {
   "cell_type": "markdown",
   "metadata": {
    "id": "47gLyOCp0aMx"
   },
   "source": [
    "### Loops aninhados com o for\n",
    "\n",
    "Podem ser criados quantos loops aninhados quanto forem necessário, bastando observar a correta identação.\n"
   ]
  },
  {
   "cell_type": "code",
   "execution_count": 10,
   "metadata": {
    "colab": {
     "base_uri": "https://localhost:8080/",
     "height": 415
    },
    "executionInfo": {
     "elapsed": 717,
     "status": "ok",
     "timestamp": 1603502752150,
     "user": {
      "displayName": "Orlando O. S.",
      "photoUrl": "https://lh3.googleusercontent.com/a-/AOh14Gj-E1yuy1M_3ruwN4TWYPK4BwysauSW7GQmHheS=s64",
      "userId": "15066502291703974467"
     },
     "user_tz": 180
    },
    "id": "z_yFJixc0v-Q",
    "outputId": "815bfdee-0c62-426f-9347-2bd028780dbc"
   },
   "outputs": [
    {
     "name": "stdout",
     "output_type": "stream",
     "text": [
      "________________________________________________________________________\n",
      "|                  Tabuada de Multiplicação com o For                  |\n",
      "________________________________________________________________________\n",
      "|     1|     2|     3|     4|     5|     6|     7|     8|     9|    10 |\n",
      "________________________________________________________________________\n",
      "|     2|     4|     6|     8|    10|    12|    14|    16|    18|    20 |\n",
      "________________________________________________________________________\n",
      "|     3|     6|     9|    12|    15|    18|    21|    24|    27|    30 |\n",
      "________________________________________________________________________\n",
      "|     4|     8|    12|    16|    20|    24|    28|    32|    36|    40 |\n",
      "________________________________________________________________________\n",
      "|     5|    10|    15|    20|    25|    30|    35|    40|    45|    50 |\n",
      "________________________________________________________________________\n",
      "|     6|    12|    18|    24|    30|    36|    42|    48|    54|    60 |\n",
      "________________________________________________________________________\n",
      "|     7|    14|    21|    28|    35|    42|    49|    56|    63|    70 |\n",
      "________________________________________________________________________\n",
      "|     8|    16|    24|    32|    40|    48|    56|    64|    72|    80 |\n",
      "________________________________________________________________________\n",
      "|     9|    18|    27|    36|    45|    54|    63|    72|    81|    90 |\n",
      "________________________________________________________________________\n",
      "|    10|    20|    30|    40|    50|    60|    70|    80|    90|   100 |\n",
      "________________________________________________________________________\n"
     ]
    }
   ],
   "source": [
    "#Tabuada de Multiplicação com o For\n",
    "print('_'*72)\n",
    "print('|{0:^70s}|'.format('Tabuada de Multiplicação com o For'))\n",
    "print('_'*72)\n",
    "for x in range(1,11):\n",
    "  for y in range(1,11):\n",
    "    if y==10:\n",
    "      print(f'|{x*y:>6d} |')\n",
    "    else:\n",
    "      print(f'|{x*y:>6d}', end='')\n",
    "  print('_'*72)\n"
   ]
  },
  {
   "cell_type": "code",
   "execution_count": 11,
   "metadata": {
    "colab": {
     "base_uri": "https://localhost:8080/",
     "height": 210
    },
    "executionInfo": {
     "elapsed": 708,
     "status": "ok",
     "timestamp": 1603502893247,
     "user": {
      "displayName": "Orlando O. S.",
      "photoUrl": "https://lh3.googleusercontent.com/a-/AOh14Gj-E1yuy1M_3ruwN4TWYPK4BwysauSW7GQmHheS=s64",
      "userId": "15066502291703974467"
     },
     "user_tz": 180
    },
    "id": "2hFhp6Ny0Yle",
    "outputId": "e0e5ac09-d4c8-40fd-f6eb-cdb14b3d40bf"
   },
   "outputs": [
    {
     "name": "stdout",
     "output_type": "stream",
     "text": [
      "________________________________________________________________________________________________________________\n",
      "|                                                    Outubro                                                    |\n",
      "________________________________________________________________________________________________________________\n",
      "|    domingo    | segunda-feira |  terça-feira  | quarta-feira  | quinta-feira  |  sexta-feira  |    sábado     |\n",
      "|               |               |               |               |              1|              2|              3|\n",
      "|              4|              5|              6|              7|              8|              9|             10|\n",
      "|             11|             12|             13|             14|             15|             16|             17|\n",
      "|             18|             19|             20|             21|             22|             23|             24|\n",
      "|             25|             26|             27|             28|             29|             30|             31|\n",
      "________________________________________________________________________________________________________________\n"
     ]
    }
   ],
   "source": [
    "#Imprimindo o Calendário do Mês\n",
    "Mes = 'Outubro'\n",
    "dias_semana = ['domingo', 'segunda-feira', 'terça-feira', 'quarta-feira', 'quinta-feira', 'sexta-feira', 'sábado']\n",
    "mes_inicia_dia_semana = 'quinta-feira'\n",
    "quantidade_dias_do_mes = 31\n",
    "dia_mes = 0\n",
    "print('_'*112)\n",
    "print('|{0:^111s}|'.format(Mes))\n",
    "print('_'*112)\n",
    "for dia_semana in dias_semana:\n",
    "  if dia_semana =='sábado':\n",
    "    print(f'|{dia_semana:^15s}|')\n",
    "  else:\n",
    "    print(f'|{dia_semana:^15s}', end='')\n",
    "\n",
    "for posicao in range(1,5 * 7 + 1):\n",
    "  if dia_mes == 0 and dias_semana[posicao-1]!=mes_inicia_dia_semana:\n",
    "    print(f'|{\" \":>15s}', end='') \n",
    "    continue\n",
    "  \n",
    "  dia_mes += 1\n",
    "  if posicao % 7 == 0:\n",
    "    print(f'|{dia_mes:>15d}|' if dia_mes <= quantidade_dias_do_mes else  f'|{\" \":>15s}|')\n",
    "  else:\n",
    "    print(f'|{dia_mes:>15d}' if dia_mes <= quantidade_dias_do_mes else  f'|{\" \":>15s}', end='')\n",
    "print('_'*112)\n"
   ]
  },
  {
   "cell_type": "markdown",
   "metadata": {
    "id": "DX9JWKhxX1xn"
   },
   "source": [
    "## Leituras Adicionais e Referências:\n",
    "\n",
    "- Python Tutorial at W3Schools: https://www.w3schools.com/python/\n",
    "- Python official documentation: https://docs.python.org/3/tutorial/index.html"
   ]
  }
 ],
 "metadata": {
  "colab": {
   "authorship_tag": "ABX9TyPQGZW7xZfj3PwpSqgARmfR",
   "collapsed_sections": [],
   "name": "Aula 03 - Introdução à Linguagem de Python para Analytics e Data Science.ipynb",
   "provenance": [
    {
     "file_id": "1F82PJICoVYLAG6xN-xT_KhWKkvDxdro6",
     "timestamp": 1603324877816
    }
   ]
  },
  "kernelspec": {
   "display_name": "Python 3",
   "language": "python",
   "name": "python3"
  },
  "language_info": {
   "codemirror_mode": {
    "name": "ipython",
    "version": 3
   },
   "file_extension": ".py",
   "mimetype": "text/x-python",
   "name": "python",
   "nbconvert_exporter": "python",
   "pygments_lexer": "ipython3",
   "version": "3.7.8"
  }
 },
 "nbformat": 4,
 "nbformat_minor": 1
}
