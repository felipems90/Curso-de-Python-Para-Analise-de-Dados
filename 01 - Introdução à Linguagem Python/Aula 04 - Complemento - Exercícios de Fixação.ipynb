{
 "cells": [
  {
   "cell_type": "markdown",
   "metadata": {
    "id": "uGqJJfZ36iR6"
   },
   "source": [
    "# 01 - Introdução à Linguagem Python\n",
    "## Aula 04 - 05 - Exercícios de Fixação"
   ]
  },
  {
   "cell_type": "markdown",
   "metadata": {
    "id": "JNifjo59P9mf"
   },
   "source": [
    "## Professor: Orlando Oliveira dos Santos, MsC.\n",
    " - E-mail: professor.orlando.santos@gmail.com \n",
    " - Youtube :https://www.youtube.com/channel/UCPWWbkPWFmOjXH50TQWNAYg\n",
    " - Linkedin: https://linkedin.com/in/orlandoosantos\n",
    " - Facebook: https://www.facebook.com/proforlandosantosmsc/\n",
    " - Twitter: https://twitter.com/ProfOrlandoMsC\n",
    " - Instagram: https://www.instagram.com/proforlandosantosmsc/\n",
    "\n",
    "\n",
    "\n",
    "## Formação Acadêmica\n",
    "- Mestrado em Computação Aplicada - UnB (2014 – 2016)\t\n",
    "- MBA, Administração Estratégica de Sistemas de Informação – FGV (2011 – 2013)\n",
    "- Tecnólogo em Processamento de Dados, Análise e Desenvolvimento de Sistemas – FAETEC/SP (2000-2002)\n"
   ]
  },
  {
   "cell_type": "markdown",
   "metadata": {
    "id": "-wttXmB0JYuh"
   },
   "source": [
    "# Fluxo de controle usando instruções If; Geradores de Sequencias; Iteração Looping usando For e While"
   ]
  },
  {
   "cell_type": "markdown",
   "metadata": {
    "id": "3zsZKkquNZjO"
   },
   "source": [
    "# Exercícios de Fixação\n",
    "***\n",
    "- 1) Escreva um rotina que receba em uma variável idade um valor inteiro e em seguinte e que ao ser executada imprime de acordo com a tabela de faixas etarias abaixo qual a classificação da pessoa.\n",
    "\n",
    "classificação | Parâmetros\n",
    "--- | ---\n",
    "Jovens | Indivíduos de até 15 anos;\n",
    "Adultos | Indivíduos com idade entre 16 até 64 anos;\n",
    "Idosos | Indivíduos de 65 anos em diante.\n",
    "\n",
    "- 2) Usando seguinte lista de valores de idades idades = [63, 23, 76, 50, 44, 48, 13, 79, 18, 67, 46, 43, 78, 39, 21, 73, 55, 11, 19, 40], imprima para cada idade da lista seu valor e sua classificação de faixa etária.\n",
    "\n",
    "- 3) Usando loop com o for calcule e imprima a média de idade da lista;\n",
    "- 4) Usando loop com o while calcule e imprima  a média de idade da lista;\n",
    "- 5) Usando loop com o for calcule e imprima  a menor valor de idade da lista;\n",
    "- 6) Usando loop com o while calcule e imprima  a maior valor de idade da lista;\n",
    "- 7) Usando um loop com o for calcule quantas pessoas são Jovens;  \n",
    "- 8) Usando um loop com o while calcule quantas pessoas são Adultos;  \n",
    "- 9) Usando um loop com o while calcule quantas pessoas são Idosos;  \n",
    "- 10) Usando um loop com while e usando break e continue identifique a posição na lista para a pessoa que tem 78 anos;  \n",
    "- 11) Usando um loop com while e usando break, continue e else, crie uma nova versão da rotina da criada no exercício anterior de modo que se a idade procurada não for encontrada da lista então imprima a mensagem \"idade informada não localizada\".  Use a idade de 100 anos com valor a ser procurado na lista;  \n",
    "- 12) Escreva uma rotina que receba duas variáveis  area_atuacao_empresa = \"Indústria\" e numero_funcionario = 150; e com base nessas informações consiga classificá-la o porte da empresa com base na tabela de Definição de porte de estabelecimentos segundo o número de empregados (Fonte: [Anuário do trabalho na micro e pequena empresa](www.sebrae.com.br/Sebrae/Portal%20Sebrae/Anexos/Anuario%20do%20Trabalho%20Na%20Micro%20e%20Pequena%20Empresa_2013.pdf), p. 17.):\n",
    "\n",
    "Porte | Comércio e Serviços  | Indústria\n",
    "--- | --- | ---\n",
    "Microempresa (ME)  | Até 9 empregados  | Até 19 empregados\n",
    "Empresa de Pequeno Porte (EPP) |  De 10 a 49 empregados |  De 20 a 99 empregados\n",
    "Empresa de médio porte  | De 50 a 99 empregados  | De 100 a 499 empregados\n",
    "Grandes empresas  | 100 ou mais empregados  | 500 ou mais empregados\n",
    "\n",
    "\n",
    "\n",
    "- 13) Considerando a que a seguinte lista [18, 231, 33, 1315, 590, 1390, 188, 1095, 1498, 449, 519, 1134, 604, 1656, 294, 211, 486, 924, 207, 177] contem a  quantidade de funcionários de empresas do área INDUSTRIAL, imprima para cada um dos valores da lista, o valor e a respectiva classificação de porte da empresa.\n",
    "\n",
    "- 14) Considerando a que a seguinte lista [558, 939, 155, 433, 460, 945, 215, 596, 323, 787, 164, 509, 464, 80, 773, 649, 83, 782, 284, 267] contem a  quantidade de funcionários de empresas do área COMÉRCIO E SERVIÇOS, imprima para cada um dos valores da lista, o valor e a respectiva classificação de porte da empresa.\n",
    "- 15) Altere a rotina apresentada em aula que imprime o calendário do mês de janeiro, de modo que passe a imprimir o nome do mês alinhado a esquerda, os nomes dos dias da semana em maiúsculas e número do dia alinhados ao centro.\n",
    "\n",
    "- 16) Considerando a tabela de correspondencia dos nomes do dia da semana em português e inglês, elabore uma rotina, que receba receba o nome do dia em português e retorne o seu correspondente em inglês.\n",
    "\n",
    "Português | Inglês\n",
    "--- | ---\n",
    "domingo | Sunday\n",
    "segunda-feira | Monday\n",
    "terça-feira | Tuesday\n",
    "quarta-feira | Wednesday\n",
    "quinta-feira | Thursday\n",
    "sexta-feira | Friday\n",
    "sábado | Saturday\n",
    "\n",
    "## Entrega dos Exercícios:\n",
    "Os notebooks devem ser postados no ambiente virtual https://inefeonline.com.br/ no tópico da respectiva aula para avaliação.\n",
    "\n"
   ]
  },
  {
   "cell_type": "markdown",
   "metadata": {
    "id": "Eng6mnot_NJw"
   },
   "source": [
    "# Agradecimentos\n",
    "\n",
    "## Muito obrigado a todos os presentes e até a próxima aula.\n",
    "\n",
    "**Na próxima aula será ensinado sobre variáveis do tipo string, numéricas, booleanas e None e suas operações.**\n"
   ]
  },
  {
   "cell_type": "code",
   "execution_count": null,
   "metadata": {
    "id": "YYKwslo2HiTk"
   },
   "outputs": [],
   "source": []
  }
 ],
 "metadata": {
  "colab": {
   "authorship_tag": "ABX9TyPQGZW7xZfj3PwpSqgARmfR",
   "collapsed_sections": [],
   "name": "Aula 03 - Introdução à Linguagem de Python para Analytics e Data Science.ipynb",
   "provenance": [
    {
     "file_id": "1F82PJICoVYLAG6xN-xT_KhWKkvDxdro6",
     "timestamp": 1603324877816
    }
   ]
  },
  "kernelspec": {
   "display_name": "Python 3",
   "language": "python",
   "name": "python3"
  },
  "language_info": {
   "codemirror_mode": {
    "name": "ipython",
    "version": 3
   },
   "file_extension": ".py",
   "mimetype": "text/x-python",
   "name": "python",
   "nbconvert_exporter": "python",
   "pygments_lexer": "ipython3",
   "version": "3.7.8"
  }
 },
 "nbformat": 4,
 "nbformat_minor": 1
}
