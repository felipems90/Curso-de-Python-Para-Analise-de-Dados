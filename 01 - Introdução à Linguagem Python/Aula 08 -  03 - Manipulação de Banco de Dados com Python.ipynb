{
 "cells": [
  {
   "cell_type": "markdown",
   "metadata": {
    "id": "uGqJJfZ36iR6"
   },
   "source": [
    "# 01 - Introdução à Linguagem Python\n",
    "## Aula 08 - 03 - Manipulação de Banco de Dados com Python"
   ]
  },
  {
   "cell_type": "markdown",
   "metadata": {
    "id": "JNifjo59P9mf"
   },
   "source": [
    "## Professor: Orlando Oliveira dos Santos, MsC.\n",
    " - E-mail: professor.orlando.santos@gmail.com \n",
    " - Youtube :https://www.youtube.com/channel/UCPWWbkPWFmOjXH50TQWNAYg\n",
    " - Linkedin: https://linkedin.com/in/orlandoosantos\n",
    " - Facebook: https://www.facebook.com/proforlandosantosmsc/\n",
    " - Twitter: https://twitter.com/ProfOrlandoMsC\n",
    " - Instagram: https://www.instagram.com/proforlandosantosmsc/\n",
    "\n",
    "\n",
    "\n",
    "## Formação Acadêmica\n",
    "- Mestrado em Computação Aplicada - UnB (2014 – 2016)\t\n",
    "- MBA, Administração Estratégica de Sistemas de Informação – FGV (2011 – 2013)\n",
    "- Tecnólogo em Processamento de Dados, Análise e Desenvolvimento de Sistemas – FAETEC/SP (2000-2002)"
   ]
  },
  {
   "cell_type": "markdown",
   "metadata": {
    "id": "NbIECU_jPRPg"
   },
   "source": [
    "# Manipulação de Banco de Dados com Python"
   ]
  },
  {
   "cell_type": "markdown",
   "metadata": {
    "id": "bH3iy80uyx9K"
   },
   "source": [
    "# SQLite3\n",
    "- https://www.tutorialspoint.com/sqlite/sqlite_python.htm"
   ]
  },
  {
   "cell_type": "markdown",
   "metadata": {
    "id": "MTcB4fMkJOPo"
   },
   "source": [
    "## Criando Banco de dados  SQLite3"
   ]
  },
  {
   "cell_type": "code",
   "execution_count": 1,
   "metadata": {
    "executionInfo": {
     "elapsed": 3403,
     "status": "ok",
     "timestamp": 1605140202726,
     "user": {
      "displayName": "Orlando O. S.",
      "photoUrl": "https://lh3.googleusercontent.com/a-/AOh14Gj-E1yuy1M_3ruwN4TWYPK4BwysauSW7GQmHheS=s64",
      "userId": "15066502291703974467"
     },
     "user_tz": 180
    },
    "id": "gP-Qy8Vdujiv"
   },
   "outputs": [],
   "source": [
    "import os\n",
    "\n",
    "if not os.path.exists('Database'):\n",
    "    os.makedirs('Database')"
   ]
  },
  {
   "cell_type": "code",
   "execution_count": 2,
   "metadata": {
    "colab": {
     "base_uri": "https://localhost:8080/"
    },
    "executionInfo": {
     "elapsed": 2563,
     "status": "ok",
     "timestamp": 1605140322892,
     "user": {
      "displayName": "Orlando O. S.",
      "photoUrl": "https://lh3.googleusercontent.com/a-/AOh14Gj-E1yuy1M_3ruwN4TWYPK4BwysauSW7GQmHheS=s64",
      "userId": "15066502291703974467"
     },
     "user_tz": 180
    },
    "id": "9NRSvgtGvLYf",
    "outputId": "4adee3ac-2af9-4894-90b4-f5ddbd4a7663"
   },
   "outputs": [
    {
     "name": "stdout",
     "output_type": "stream",
     "text": [
      "Banco de dados já existe!\n"
     ]
    }
   ],
   "source": [
    "import sqlite3\n",
    "banco = \"Database/dados.db\"\n",
    "try:\n",
    "  with open(banco): \n",
    "    print ('Banco de dados já existe!')\n",
    "except IOError as e:\n",
    "  blank_db = sqlite3.connect(banco)\n",
    "  print ('banco vazio foi criado')"
   ]
  },
  {
   "cell_type": "markdown",
   "metadata": {
    "id": "1TU9FjjdJaVS"
   },
   "source": [
    "## Conectar ao Banco de dados"
   ]
  },
  {
   "cell_type": "code",
   "execution_count": 3,
   "metadata": {
    "executionInfo": {
     "elapsed": 8387,
     "status": "ok",
     "timestamp": 1605140426635,
     "user": {
      "displayName": "Orlando O. S.",
      "photoUrl": "https://lh3.googleusercontent.com/a-/AOh14Gj-E1yuy1M_3ruwN4TWYPK4BwysauSW7GQmHheS=s64",
      "userId": "15066502291703974467"
     },
     "user_tz": 180
    },
    "id": "jM0rEb_-jvbr"
   },
   "outputs": [],
   "source": [
    "conn = sqlite3.connect(banco)"
   ]
  },
  {
   "cell_type": "markdown",
   "metadata": {
    "id": "d-xB-E1pJZXv"
   },
   "source": [
    "## Criando tabelas no banco de dados"
   ]
  },
  {
   "cell_type": "code",
   "execution_count": 4,
   "metadata": {
    "colab": {
     "base_uri": "https://localhost:8080/"
    },
    "executionInfo": {
     "elapsed": 1224,
     "status": "ok",
     "timestamp": 1605140857769,
     "user": {
      "displayName": "Orlando O. S.",
      "photoUrl": "https://lh3.googleusercontent.com/a-/AOh14Gj-E1yuy1M_3ruwN4TWYPK4BwysauSW7GQmHheS=s64",
      "userId": "15066502291703974467"
     },
     "user_tz": 180
    },
    "id": "yXm-ea4L2TrT",
    "outputId": "ecc52f92-d9ef-4c42-f235-d4ed317c4ad9"
   },
   "outputs": [
    {
     "data": {
      "text/plain": [
       "<sqlite3.Cursor at 0x1b87fac6420>"
      ]
     },
     "execution_count": 4,
     "metadata": {},
     "output_type": "execute_result"
    }
   ],
   "source": [
    "conn.execute('''\n",
    "    drop TABLE pessoas \n",
    "''')"
   ]
  },
  {
   "cell_type": "code",
   "execution_count": 5,
   "metadata": {
    "colab": {
     "base_uri": "https://localhost:8080/"
    },
    "executionInfo": {
     "elapsed": 1691,
     "status": "ok",
     "timestamp": 1605140866910,
     "user": {
      "displayName": "Orlando O. S.",
      "photoUrl": "https://lh3.googleusercontent.com/a-/AOh14Gj-E1yuy1M_3ruwN4TWYPK4BwysauSW7GQmHheS=s64",
      "userId": "15066502291703974467"
     },
     "user_tz": 180
    },
    "id": "R_7yogmW2Jlw",
    "outputId": "4442de30-6830-4e10-926b-0b484c4f601c"
   },
   "outputs": [
    {
     "data": {
      "text/plain": [
       "<sqlite3.Cursor at 0x1b87fac6d50>"
      ]
     },
     "execution_count": 5,
     "metadata": {},
     "output_type": "execute_result"
    }
   ],
   "source": [
    "conn.execute('''\n",
    "    CREATE TABLE pessoas (\n",
    "      id INTEGER PRIMARY KEY,\n",
    "      nome TEXT NOT NULL,\n",
    "      idade  INTEGER NOT NULL\n",
    "    )\n",
    "''')"
   ]
  },
  {
   "cell_type": "code",
   "execution_count": 6,
   "metadata": {
    "executionInfo": {
     "elapsed": 3550,
     "status": "ok",
     "timestamp": 1605140877798,
     "user": {
      "displayName": "Orlando O. S.",
      "photoUrl": "https://lh3.googleusercontent.com/a-/AOh14Gj-E1yuy1M_3ruwN4TWYPK4BwysauSW7GQmHheS=s64",
      "userId": "15066502291703974467"
     },
     "user_tz": 180
    },
    "id": "SUY63p_rUHjg"
   },
   "outputs": [],
   "source": [
    "try:\n",
    "  cur = conn.cursor()\n",
    "  cur.execute(''' select * from pessoas; ''')\n",
    "  cur.close()\n",
    "except:\n",
    "  conn.execute('''\n",
    "    CREATE TABLE pessoas (\n",
    "      id INTEGER PRIMARY KEY,\n",
    "      nome TEXT NOT NULL,\n",
    "      idade  INTEGER NOT NULL\n",
    "    )\n",
    "''')\n"
   ]
  },
  {
   "cell_type": "markdown",
   "metadata": {
    "id": "ReM6308CJlDV"
   },
   "source": [
    "## Inserindo Registros"
   ]
  },
  {
   "cell_type": "code",
   "execution_count": 7,
   "metadata": {
    "executionInfo": {
     "elapsed": 1050,
     "status": "ok",
     "timestamp": 1605141462998,
     "user": {
      "displayName": "Orlando O. S.",
      "photoUrl": "https://lh3.googleusercontent.com/a-/AOh14Gj-E1yuy1M_3ruwN4TWYPK4BwysauSW7GQmHheS=s64",
      "userId": "15066502291703974467"
     },
     "user_tz": 180
    },
    "id": "XTdm4ecn-SMC"
   },
   "outputs": [],
   "source": [
    "sql = f'INSERT INTO pessoas (id, nome, idade) VALUES (?,?,?);'\n",
    "cur = conn.cursor()\n",
    "cur.execute(sql,(1,'Jose',20))\n",
    "conn.commit()"
   ]
  },
  {
   "cell_type": "markdown",
   "metadata": {
    "id": "EXxrvvAiJqL7"
   },
   "source": [
    "## Consultando Registros "
   ]
  },
  {
   "cell_type": "code",
   "execution_count": 8,
   "metadata": {
    "colab": {
     "base_uri": "https://localhost:8080/"
    },
    "executionInfo": {
     "elapsed": 911,
     "status": "ok",
     "timestamp": 1605141115224,
     "user": {
      "displayName": "Orlando O. S.",
      "photoUrl": "https://lh3.googleusercontent.com/a-/AOh14Gj-E1yuy1M_3ruwN4TWYPK4BwysauSW7GQmHheS=s64",
      "userId": "15066502291703974467"
     },
     "user_tz": 180
    },
    "id": "0c5ktoPm-qmC",
    "outputId": "71822acc-fafd-4999-abeb-8deeb88632b7"
   },
   "outputs": [
    {
     "name": "stdout",
     "output_type": "stream",
     "text": [
      "(1, 'Jose', 20)\n"
     ]
    }
   ],
   "source": [
    "cur = conn.cursor()\n",
    "cur.execute(\"SELECT * FROM pessoas\")\n",
    "linhas = cur.fetchall()\n",
    "for linha in linhas:\n",
    "    print(linha)"
   ]
  },
  {
   "cell_type": "code",
   "execution_count": 9,
   "metadata": {
    "executionInfo": {
     "elapsed": 1260,
     "status": "ok",
     "timestamp": 1605141470516,
     "user": {
      "displayName": "Orlando O. S.",
      "photoUrl": "https://lh3.googleusercontent.com/a-/AOh14Gj-E1yuy1M_3ruwN4TWYPK4BwysauSW7GQmHheS=s64",
      "userId": "15066502291703974467"
     },
     "user_tz": 180
    },
    "id": "7zhZDEKh-usj"
   },
   "outputs": [],
   "source": [
    "sql = f'INSERT INTO pessoas (id, nome, idade) VALUES (?,?,?);'\n",
    "cur = conn.cursor()\n",
    "cur.execute(sql,(2,'João',40))\n",
    "conn.commit()"
   ]
  },
  {
   "cell_type": "code",
   "execution_count": 10,
   "metadata": {
    "colab": {
     "base_uri": "https://localhost:8080/"
    },
    "executionInfo": {
     "elapsed": 1367,
     "status": "ok",
     "timestamp": 1605141475241,
     "user": {
      "displayName": "Orlando O. S.",
      "photoUrl": "https://lh3.googleusercontent.com/a-/AOh14Gj-E1yuy1M_3ruwN4TWYPK4BwysauSW7GQmHheS=s64",
      "userId": "15066502291703974467"
     },
     "user_tz": 180
    },
    "id": "VrSWunx69_6C",
    "outputId": "2bce33d8-feba-4601-9ee2-6d310e2c9eba"
   },
   "outputs": [
    {
     "name": "stdout",
     "output_type": "stream",
     "text": [
      "(1, 'Jose', 20)\n",
      "(2, 'João', 40)\n"
     ]
    }
   ],
   "source": [
    "cur = conn.cursor()\n",
    "cur.execute(\"SELECT * FROM pessoas\")\n",
    "linhas = cur.fetchall()\n",
    "for linha in linhas:\n",
    "    print(linha)"
   ]
  },
  {
   "cell_type": "markdown",
   "metadata": {
    "id": "mgeHojQAJzkG"
   },
   "source": [
    "## Apagando registros"
   ]
  },
  {
   "cell_type": "code",
   "execution_count": 11,
   "metadata": {
    "executionInfo": {
     "elapsed": 796,
     "status": "ok",
     "timestamp": 1605141528562,
     "user": {
      "displayName": "Orlando O. S.",
      "photoUrl": "https://lh3.googleusercontent.com/a-/AOh14Gj-E1yuy1M_3ruwN4TWYPK4BwysauSW7GQmHheS=s64",
      "userId": "15066502291703974467"
     },
     "user_tz": 180
    },
    "id": "Fe-zLpQQfgZR"
   },
   "outputs": [],
   "source": [
    "cur = conn.cursor()\n",
    "cur.execute(\"DELETE FROM pessoas\")\n",
    "conn.commit()\n",
    "\n",
    "\n",
    "cur = conn.cursor()\n",
    "cur.execute(\"SELECT * FROM pessoas\")\n",
    "rows = cur.fetchall()\n",
    "for row in rows:\n",
    "    print(row)"
   ]
  },
  {
   "cell_type": "markdown",
   "metadata": {
    "id": "h1fFNXYOJ8dw"
   },
   "source": [
    "## Inserindo vários registros em lote"
   ]
  },
  {
   "cell_type": "code",
   "execution_count": 12,
   "metadata": {
    "executionInfo": {
     "elapsed": 1581,
     "status": "ok",
     "timestamp": 1605141623057,
     "user": {
      "displayName": "Orlando O. S.",
      "photoUrl": "https://lh3.googleusercontent.com/a-/AOh14Gj-E1yuy1M_3ruwN4TWYPK4BwysauSW7GQmHheS=s64",
      "userId": "15066502291703974467"
     },
     "user_tz": 180
    },
    "id": "0lKDxTNgZl2-"
   },
   "outputs": [],
   "source": [
    "valores = [(1, 'Jose', '20'), (2, 'João', '40'),(3, 'Maria', '30'), \n",
    "           (4, 'Marta', '87'),(5, 'Elias', '78'), (6, 'Gabriel', '56'),\n",
    "           (7, 'Daniel', '23'), (8, 'Antonio', '34')]\n",
    "sql = f'INSERT INTO pessoas (id, nome, idade) VALUES (?,?,?);'\n",
    "cur = conn.cursor()\n",
    "cur.executemany(sql,valores)\n",
    "conn.commit()"
   ]
  },
  {
   "cell_type": "code",
   "execution_count": 13,
   "metadata": {
    "executionInfo": {
     "elapsed": 942,
     "status": "ok",
     "timestamp": 1605141805095,
     "user": {
      "displayName": "Orlando O. S.",
      "photoUrl": "https://lh3.googleusercontent.com/a-/AOh14Gj-E1yuy1M_3ruwN4TWYPK4BwysauSW7GQmHheS=s64",
      "userId": "15066502291703974467"
     },
     "user_tz": 180
    },
    "id": "VKkCgeZX5keA"
   },
   "outputs": [],
   "source": [
    "cur = conn.cursor()\n",
    "cur.execute(\"INSERT INTO pessoas (id, nome, idade) VALUES (10,'Willian',25);\")\n",
    "conn.commit()"
   ]
  },
  {
   "cell_type": "code",
   "execution_count": 14,
   "metadata": {
    "colab": {
     "base_uri": "https://localhost:8080/"
    },
    "executionInfo": {
     "elapsed": 1435,
     "status": "ok",
     "timestamp": 1605141814958,
     "user": {
      "displayName": "Orlando O. S.",
      "photoUrl": "https://lh3.googleusercontent.com/a-/AOh14Gj-E1yuy1M_3ruwN4TWYPK4BwysauSW7GQmHheS=s64",
      "userId": "15066502291703974467"
     },
     "user_tz": 180
    },
    "id": "vLVqSq3xcjbD",
    "outputId": "cf55c3c0-856b-4c9b-98d4-1bd33ee2182b"
   },
   "outputs": [
    {
     "name": "stdout",
     "output_type": "stream",
     "text": [
      "(1, 'Jose', 20)\n",
      "(2, 'João', 40)\n",
      "(3, 'Maria', 30)\n",
      "(4, 'Marta', 87)\n",
      "(5, 'Elias', 78)\n",
      "(6, 'Gabriel', 56)\n",
      "(7, 'Daniel', 23)\n",
      "(8, 'Antonio', 34)\n",
      "(10, 'Willian', 25)\n"
     ]
    }
   ],
   "source": [
    "cur = conn.cursor()\n",
    "cur.execute(\"SELECT * FROM pessoas\")\n",
    "rows = cur.fetchall()\n",
    "for row in rows:\n",
    "    print(row)"
   ]
  },
  {
   "cell_type": "markdown",
   "metadata": {
    "id": "KQNpm3y-KEBV"
   },
   "source": [
    "## Atualizando registros"
   ]
  },
  {
   "cell_type": "code",
   "execution_count": 15,
   "metadata": {
    "colab": {
     "base_uri": "https://localhost:8080/"
    },
    "executionInfo": {
     "elapsed": 969,
     "status": "ok",
     "timestamp": 1605141967449,
     "user": {
      "displayName": "Orlando O. S.",
      "photoUrl": "https://lh3.googleusercontent.com/a-/AOh14Gj-E1yuy1M_3ruwN4TWYPK4BwysauSW7GQmHheS=s64",
      "userId": "15066502291703974467"
     },
     "user_tz": 180
    },
    "id": "WpIpNNjQhZeI",
    "outputId": "ecf571c5-21c9-4718-ea80-eb484fddb9a7"
   },
   "outputs": [
    {
     "name": "stdout",
     "output_type": "stream",
     "text": [
      "(1, 'Jose', 20)\n",
      "(2, 'João', 40)\n",
      "(3, 'Maria', 30)\n",
      "(4, 'Marta', 87)\n",
      "(5, 'Elias', 78)\n",
      "(6, 'Gabriel', 56)\n",
      "(7, 'Daniel', 23)\n",
      "(8, 'Antonio', 34)\n",
      "(10, 'Willian', 25)\n"
     ]
    }
   ],
   "source": [
    "cur = conn.cursor()\n",
    "cur.execute(\"SELECT * FROM pessoas\")\n",
    "rows = cur.fetchall()\n",
    "for row in rows:\n",
    "  print(row)\n",
    "  cur.execute(\"UPDATE pessoas SET nome = ? where id = ?\", (row[1].upper(), row[0]))\n",
    "  conn.commit()"
   ]
  },
  {
   "cell_type": "code",
   "execution_count": 16,
   "metadata": {
    "executionInfo": {
     "elapsed": 755,
     "status": "ok",
     "timestamp": 1605142074673,
     "user": {
      "displayName": "Orlando O. S.",
      "photoUrl": "https://lh3.googleusercontent.com/a-/AOh14Gj-E1yuy1M_3ruwN4TWYPK4BwysauSW7GQmHheS=s64",
      "userId": "15066502291703974467"
     },
     "user_tz": 180
    },
    "id": "T5GVol7T61ll"
   },
   "outputs": [],
   "source": [
    "cur = conn.cursor()\n",
    "cur.execute(\"UPDATE pessoas SET nome = 'Jose' where id = 1\")\n",
    "conn.commit()"
   ]
  },
  {
   "cell_type": "code",
   "execution_count": 17,
   "metadata": {
    "colab": {
     "base_uri": "https://localhost:8080/"
    },
    "executionInfo": {
     "elapsed": 1250,
     "status": "ok",
     "timestamp": 1605142081128,
     "user": {
      "displayName": "Orlando O. S.",
      "photoUrl": "https://lh3.googleusercontent.com/a-/AOh14Gj-E1yuy1M_3ruwN4TWYPK4BwysauSW7GQmHheS=s64",
      "userId": "15066502291703974467"
     },
     "user_tz": 180
    },
    "id": "uVlzcKKKh_Jw",
    "outputId": "fe98c42c-3b1f-4af1-df59-08de14665021"
   },
   "outputs": [
    {
     "name": "stdout",
     "output_type": "stream",
     "text": [
      "(1, 'Jose', 20)\n",
      "(2, 'JOÃO', 40)\n",
      "(3, 'MARIA', 30)\n",
      "(4, 'MARTA', 87)\n",
      "(5, 'ELIAS', 78)\n",
      "(6, 'GABRIEL', 56)\n",
      "(7, 'DANIEL', 23)\n",
      "(8, 'ANTONIO', 34)\n",
      "(10, 'WILLIAN', 25)\n"
     ]
    }
   ],
   "source": [
    "cur = conn.cursor()\n",
    "cur.execute(\"SELECT * FROM pessoas\")\n",
    "rows = cur.fetchall()\n",
    "for row in rows:\n",
    "    print(row)"
   ]
  },
  {
   "cell_type": "markdown",
   "metadata": {
    "id": "Hnc63dAkKJqr"
   },
   "source": [
    "## Apagando Registros"
   ]
  },
  {
   "cell_type": "code",
   "execution_count": 18,
   "metadata": {
    "colab": {
     "base_uri": "https://localhost:8080/"
    },
    "executionInfo": {
     "elapsed": 1542,
     "status": "ok",
     "timestamp": 1605142188300,
     "user": {
      "displayName": "Orlando O. S.",
      "photoUrl": "https://lh3.googleusercontent.com/a-/AOh14Gj-E1yuy1M_3ruwN4TWYPK4BwysauSW7GQmHheS=s64",
      "userId": "15066502291703974467"
     },
     "user_tz": 180
    },
    "id": "Ragvg9zRiIDV",
    "outputId": "40918a91-ac76-4bef-ad58-47650eae46a7"
   },
   "outputs": [
    {
     "name": "stdout",
     "output_type": "stream",
     "text": [
      "(1, 'Jose', 20)\n",
      "(2, 'JOÃO', 40)\n",
      "(5, 'ELIAS', 78)\n",
      "(6, 'GABRIEL', 56)\n",
      "(7, 'DANIEL', 23)\n",
      "(8, 'ANTONIO', 34)\n",
      "(10, 'WILLIAN', 25)\n"
     ]
    }
   ],
   "source": [
    "cur = conn.cursor()\n",
    "cur.execute(\"DELETE FROM pessoas WHERE nome LIKE 'MA%'\")\n",
    "conn.commit()\n",
    "cur.execute(\"SELECT * FROM pessoas\")\n",
    "rows = cur.fetchall()\n",
    "for row in rows:\n",
    "    print(row)"
   ]
  },
  {
   "cell_type": "markdown",
   "metadata": {
    "id": "lOPDvvrMKP9T"
   },
   "source": [
    "## Selecionando registros com filtros"
   ]
  },
  {
   "cell_type": "code",
   "execution_count": 19,
   "metadata": {
    "colab": {
     "base_uri": "https://localhost:8080/"
    },
    "executionInfo": {
     "elapsed": 747,
     "status": "ok",
     "timestamp": 1605142469855,
     "user": {
      "displayName": "Orlando O. S.",
      "photoUrl": "https://lh3.googleusercontent.com/a-/AOh14Gj-E1yuy1M_3ruwN4TWYPK4BwysauSW7GQmHheS=s64",
      "userId": "15066502291703974467"
     },
     "user_tz": 180
    },
    "id": "xF6P-0Crc9mM",
    "outputId": "27ff03d5-a2c2-40d1-b36a-0380231efea7"
   },
   "outputs": [
    {
     "name": "stdout",
     "output_type": "stream",
     "text": [
      "(8, 'ANTONIO', 34)\n"
     ]
    }
   ],
   "source": [
    "cur = conn.cursor()\n",
    "cur.execute(\"\"\"SELECT *  \n",
    "               FROM pessoas WHERE nome = ?\n",
    "            \"\"\", ('ANTONIO',))\n",
    "rows = cur.fetchall()\n",
    "for row in rows:\n",
    "    print(row)\n"
   ]
  },
  {
   "cell_type": "markdown",
   "metadata": {
    "id": "LCCUXktyKU3c"
   },
   "source": [
    "## Fazendo estatísticas no banco de dados\n"
   ]
  },
  {
   "cell_type": "code",
   "execution_count": 20,
   "metadata": {
    "colab": {
     "base_uri": "https://localhost:8080/"
    },
    "executionInfo": {
     "elapsed": 719,
     "status": "ok",
     "timestamp": 1605142602851,
     "user": {
      "displayName": "Orlando O. S.",
      "photoUrl": "https://lh3.googleusercontent.com/a-/AOh14Gj-E1yuy1M_3ruwN4TWYPK4BwysauSW7GQmHheS=s64",
      "userId": "15066502291703974467"
     },
     "user_tz": 180
    },
    "id": "HevQYMaCdf1r",
    "outputId": "10383e93-6b8f-4b70-c49e-c97be1f3b3f3"
   },
   "outputs": [
    {
     "name": "stdout",
     "output_type": "stream",
     "text": [
      "(30.0,)\n"
     ]
    }
   ],
   "source": [
    "cur = conn.cursor()\n",
    "cur.execute(\"\"\"SELECT avg(idade)\n",
    "               FROM pessoas \n",
    "               where nome like 'J%'\n",
    "            \"\"\")\n",
    "rows = cur.fetchall()\n",
    "for row in rows:\n",
    "    print(row)"
   ]
  },
  {
   "cell_type": "code",
   "execution_count": 21,
   "metadata": {
    "colab": {
     "base_uri": "https://localhost:8080/"
    },
    "executionInfo": {
     "elapsed": 1388,
     "status": "ok",
     "timestamp": 1605142637040,
     "user": {
      "displayName": "Orlando O. S.",
      "photoUrl": "https://lh3.googleusercontent.com/a-/AOh14Gj-E1yuy1M_3ruwN4TWYPK4BwysauSW7GQmHheS=s64",
      "userId": "15066502291703974467"
     },
     "user_tz": 180
    },
    "id": "UY8fSmA2dvP6",
    "outputId": "6a447457-5623-469e-b88c-fb39a0ecd166"
   },
   "outputs": [
    {
     "name": "stdout",
     "output_type": "stream",
     "text": [
      "(78,)\n"
     ]
    }
   ],
   "source": [
    "cur = conn.cursor()\n",
    "cur.execute(\"\"\"SELECT max(idade)\n",
    "               FROM pessoas \n",
    "            \"\"\")\n",
    "rows = cur.fetchall()\n",
    "for row in rows:\n",
    "    print(row)"
   ]
  },
  {
   "cell_type": "code",
   "execution_count": 22,
   "metadata": {
    "colab": {
     "base_uri": "https://localhost:8080/"
    },
    "executionInfo": {
     "elapsed": 878,
     "status": "ok",
     "timestamp": 1604640436828,
     "user": {
      "displayName": "Orlando O. S.",
      "photoUrl": "https://lh3.googleusercontent.com/a-/AOh14Gj-E1yuy1M_3ruwN4TWYPK4BwysauSW7GQmHheS=s64",
      "userId": "15066502291703974467"
     },
     "user_tz": 180
    },
    "id": "zpmVL5rWdxor",
    "outputId": "e1be94dc-d8ff-4026-f7c5-3781934e8dc8"
   },
   "outputs": [
    {
     "name": "stdout",
     "output_type": "stream",
     "text": [
      "(20,)\n"
     ]
    }
   ],
   "source": [
    "cur = conn.cursor()\n",
    "cur.execute(\"\"\"SELECT min(idade)\n",
    "               FROM pessoas \n",
    "            \"\"\")\n",
    "rows = cur.fetchall()\n",
    "for row in rows:\n",
    "    print(row)"
   ]
  },
  {
   "cell_type": "markdown",
   "metadata": {
    "id": "0OftJxdYKgCR"
   },
   "source": [
    "## usando subsconsultas "
   ]
  },
  {
   "cell_type": "code",
   "execution_count": 23,
   "metadata": {
    "colab": {
     "base_uri": "https://localhost:8080/"
    },
    "executionInfo": {
     "elapsed": 1047,
     "status": "ok",
     "timestamp": 1605142786610,
     "user": {
      "displayName": "Orlando O. S.",
      "photoUrl": "https://lh3.googleusercontent.com/a-/AOh14Gj-E1yuy1M_3ruwN4TWYPK4BwysauSW7GQmHheS=s64",
      "userId": "15066502291703974467"
     },
     "user_tz": 180
    },
    "id": "Guzd4Pvwd7sL",
    "outputId": "6a48b940-d209-448f-9f4f-aebf9e343d7c"
   },
   "outputs": [
    {
     "name": "stdout",
     "output_type": "stream",
     "text": [
      "(5, 'ELIAS', 78)\n"
     ]
    }
   ],
   "source": [
    "cur = conn.cursor()\n",
    "cur.execute(\"\"\"SELECT *\n",
    "               FROM pessoas \n",
    "               WHERE idade = (SELECT max(idade) FROM pessoas)\n",
    "            \"\"\")\n",
    "rows = cur.fetchall()\n",
    "for row in rows:\n",
    "    print(row)"
   ]
  },
  {
   "cell_type": "markdown",
   "metadata": {
    "id": "45u1wVWlKmVj"
   },
   "source": [
    "## Retornando os metadados da tabela"
   ]
  },
  {
   "cell_type": "code",
   "execution_count": 24,
   "metadata": {
    "colab": {
     "base_uri": "https://localhost:8080/"
    },
    "executionInfo": {
     "elapsed": 1185,
     "status": "ok",
     "timestamp": 1604640601289,
     "user": {
      "displayName": "Orlando O. S.",
      "photoUrl": "https://lh3.googleusercontent.com/a-/AOh14Gj-E1yuy1M_3ruwN4TWYPK4BwysauSW7GQmHheS=s64",
      "userId": "15066502291703974467"
     },
     "user_tz": 180
    },
    "id": "pQOQ54I1ix90",
    "outputId": "a1ae17cd-e9b1-4f79-cd3f-6f9f518ced56"
   },
   "outputs": [
    {
     "name": "stdout",
     "output_type": "stream",
     "text": [
      "CREATE TABLE pessoas (\n",
      "      id INTEGER PRIMARY KEY,\n",
      "      nome TEXT NOT NULL,\n",
      "      idade  INTEGER NOT NULL\n",
      "    )\n"
     ]
    }
   ],
   "source": [
    "cur = conn.cursor()\n",
    "cur.execute(\"\"\" SELECT sql \n",
    "                FROM sqlite_master \n",
    "                WHERE name = 'pessoas';\n",
    "            \"\"\")\n",
    "rows = cur.fetchall()\n",
    "for row in rows:\n",
    "    print(row[0])"
   ]
  },
  {
   "cell_type": "markdown",
   "metadata": {
    "id": "eMV6iG2LKxzF"
   },
   "source": [
    "## Obtendo os nomes dos campos da consulta\n"
   ]
  },
  {
   "cell_type": "code",
   "execution_count": 25,
   "metadata": {
    "colab": {
     "base_uri": "https://localhost:8080/"
    },
    "executionInfo": {
     "elapsed": 2241,
     "status": "ok",
     "timestamp": 1605143085285,
     "user": {
      "displayName": "Orlando O. S.",
      "photoUrl": "https://lh3.googleusercontent.com/a-/AOh14Gj-E1yuy1M_3ruwN4TWYPK4BwysauSW7GQmHheS=s64",
      "userId": "15066502291703974467"
     },
     "user_tz": 180
    },
    "id": "v2WUdinZKygs",
    "outputId": "42cf4298-3162-44bd-dd61-b7a5c3e4a2ff"
   },
   "outputs": [
    {
     "data": {
      "text/plain": [
       "['sql']"
      ]
     },
     "execution_count": 25,
     "metadata": {},
     "output_type": "execute_result"
    }
   ],
   "source": [
    "[d[0] for d in cur.description]"
   ]
  },
  {
   "cell_type": "code",
   "execution_count": 26,
   "metadata": {
    "colab": {
     "base_uri": "https://localhost:8080/"
    },
    "executionInfo": {
     "elapsed": 1375,
     "status": "ok",
     "timestamp": 1605143077329,
     "user": {
      "displayName": "Orlando O. S.",
      "photoUrl": "https://lh3.googleusercontent.com/a-/AOh14Gj-E1yuy1M_3ruwN4TWYPK4BwysauSW7GQmHheS=s64",
      "userId": "15066502291703974467"
     },
     "user_tz": 180
    },
    "id": "m_IhttellCSy",
    "outputId": "350f7d6b-61bf-4c17-db61-4fdbb3acc0ce"
   },
   "outputs": [
    {
     "name": "stdout",
     "output_type": "stream",
     "text": [
      "(1, 'Jose', 20)\n",
      "(2, 'JOÃO', 40)\n",
      "(5, 'ELIAS', 78)\n",
      "(6, 'GABRIEL', 56)\n",
      "(7, 'DANIEL', 23)\n",
      "(8, 'ANTONIO', 34)\n",
      "(10, 'WILLIAN', 25)\n"
     ]
    }
   ],
   "source": [
    "cur = conn.cursor()\n",
    "cur.execute(\"SELECT * FROM pessoas\")\n",
    "rows = cur.fetchall()\n",
    "for row in rows:\n",
    "    print(row)"
   ]
  },
  {
   "cell_type": "code",
   "execution_count": 27,
   "metadata": {
    "colab": {
     "base_uri": "https://localhost:8080/"
    },
    "executionInfo": {
     "elapsed": 2579,
     "status": "ok",
     "timestamp": 1605142969872,
     "user": {
      "displayName": "Orlando O. S.",
      "photoUrl": "https://lh3.googleusercontent.com/a-/AOh14Gj-E1yuy1M_3ruwN4TWYPK4BwysauSW7GQmHheS=s64",
      "userId": "15066502291703974467"
     },
     "user_tz": 180
    },
    "id": "OfV62J0d-QyU",
    "outputId": "79e42d48-ca6c-4445-a004-69c5c8e31609"
   },
   "outputs": [
    {
     "data": {
      "text/plain": [
       "(('id', None, None, None, None, None, None),\n",
       " ('nome', None, None, None, None, None, None),\n",
       " ('idade', None, None, None, None, None, None))"
      ]
     },
     "execution_count": 27,
     "metadata": {},
     "output_type": "execute_result"
    }
   ],
   "source": [
    "cur.description"
   ]
  },
  {
   "cell_type": "markdown",
   "metadata": {
    "id": "afEsG_v7LCj2"
   },
   "source": [
    "## Gerando um dicionário com o resultado da consulta ao banco"
   ]
  },
  {
   "cell_type": "code",
   "execution_count": 28,
   "metadata": {
    "colab": {
     "base_uri": "https://localhost:8080/"
    },
    "executionInfo": {
     "elapsed": 716,
     "status": "ok",
     "timestamp": 1605143191438,
     "user": {
      "displayName": "Orlando O. S.",
      "photoUrl": "https://lh3.googleusercontent.com/a-/AOh14Gj-E1yuy1M_3ruwN4TWYPK4BwysauSW7GQmHheS=s64",
      "userId": "15066502291703974467"
     },
     "user_tz": 180
    },
    "id": "VdhUWwLRlQbT",
    "outputId": "d4201e17-feef-4562-c613-59a5c9ea5cf8"
   },
   "outputs": [
    {
     "name": "stdout",
     "output_type": "stream",
     "text": [
      "{1: {'id': 1, 'nome': 'Jose', 'idade': 20}, 2: {'id': 2, 'nome': 'JOÃO', 'idade': 40}, 5: {'id': 5, 'nome': 'ELIAS', 'idade': 78}, 6: {'id': 6, 'nome': 'GABRIEL', 'idade': 56}, 7: {'id': 7, 'nome': 'DANIEL', 'idade': 23}, 8: {'id': 8, 'nome': 'ANTONIO', 'idade': 34}, 10: {'id': 10, 'nome': 'WILLIAN', 'idade': 25}}\n"
     ]
    }
   ],
   "source": [
    "camposresultado = [d[0] for d in cur.description]\n",
    "pessoas_bd_dict = {}\n",
    "for row in rows:\n",
    "  dict1 = {}\n",
    "  id = row[camposresultado.index('id')]\n",
    "  for chave in camposresultado:\n",
    "    dict1[chave] = row[camposresultado.index(chave)]\n",
    "  pessoas_bd_dict[id] = dict1\n",
    "print(pessoas_bd_dict)"
   ]
  },
  {
   "cell_type": "markdown",
   "metadata": {
    "id": "DX9JWKhxX1xn"
   },
   "source": [
    "## Leituras Adicionais e Referências:\n",
    "\n",
    "- Python Tutorial at W3Schools: https://www.w3schools.com/python/\n",
    "- Python official documentation: https://docs.python.org/3/tutorial/index.html\n",
    "- Tutorial SQL: https://www.w3schools.com/sql/default.asp\n",
    "- Tutorial SQLite3: https://www.tutorialspoint.com/sqlite/sqlite_python.htm"
   ]
  }
 ],
 "metadata": {
  "colab": {
   "collapsed_sections": [],
   "name": "Aula 06 Introdução à Linguagem de Python para Analytics e Data Science.ipynb",
   "provenance": []
  },
  "kernelspec": {
   "display_name": "Python 3 (ipykernel)",
   "language": "python",
   "name": "python3"
  },
  "language_info": {
   "codemirror_mode": {
    "name": "ipython",
    "version": 3
   },
   "file_extension": ".py",
   "mimetype": "text/x-python",
   "name": "python",
   "nbconvert_exporter": "python",
   "pygments_lexer": "ipython3",
   "version": "3.7.9"
  }
 },
 "nbformat": 4,
 "nbformat_minor": 1
}
