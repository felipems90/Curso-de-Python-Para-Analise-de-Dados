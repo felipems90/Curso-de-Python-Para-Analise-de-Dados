{
 "cells": [
  {
   "cell_type": "markdown",
   "metadata": {
    "id": "uGqJJfZ36iR6"
   },
   "source": [
    "# 03 - Visualização de Dados\n",
    "## Aula 10 - 03 - Matplotlib - Bar e Histplot - Gráficos de Barras e Histogramas"
   ]
  },
  {
   "cell_type": "markdown",
   "metadata": {
    "id": "JNifjo59P9mf"
   },
   "source": [
    "## Professor: Orlando Oliveira dos Santos, MsC.\n",
    " - E-mail: professor.orlando.santos@gmail.com \n",
    " - Youtube :https://www.youtube.com/channel/UCPWWbkPWFmOjXH50TQWNAYg\n",
    " - Linkedin: https://linkedin.com/in/orlandoosantos\n",
    " - Facebook: https://www.facebook.com/proforlandosantosmsc/\n",
    " - Twitter: https://twitter.com/ProfOrlandoMsC\n",
    " - Instagram: https://www.instagram.com/proforlandosantosmsc/\n",
    "\n",
    "\n",
    "\n",
    "## Formação Acadêmica\n",
    "- Mestrado em Computação Aplicada - UnB (2014 – 2016)\t\n",
    "- MBA, Administração Estratégica de Sistemas de Informação – FGV (2011 – 2013)\n",
    "- Tecnólogo em Processamento de Dados, Análise e Desenvolvimento de Sistemas – FAETEC/SP (2000-2002)"
   ]
  },
  {
   "cell_type": "markdown",
   "metadata": {
    "id": "dIR5YaOF6mGE"
   },
   "source": [
    "# Matplotlib - Bar e Histplot - Gráficos de Barras e Histogramas"
   ]
  },
  {
   "cell_type": "markdown",
   "metadata": {
    "id": "U4_dgxGySv3q"
   },
   "source": [
    "### Carga de Arrays com dados das Covid para uso nos gráficos"
   ]
  },
  {
   "cell_type": "code",
   "execution_count": 1,
   "metadata": {
    "colab": {
     "base_uri": "https://localhost:8080/"
    },
    "executionInfo": {
     "elapsed": 963,
     "status": "ok",
     "timestamp": 1606522838930,
     "user": {
      "displayName": "Orlando O. S.",
      "photoUrl": "https://lh3.googleusercontent.com/a-/AOh14Gj-E1yuy1M_3ruwN4TWYPK4BwysauSW7GQmHheS=s64",
      "userId": "15066502291703974467"
     },
     "user_tz": 180
    },
    "id": "9OQhztUCSv3q",
    "outputId": "f085b489-7b66-4c05-80a9-5a32defaaeea"
   },
   "outputs": [],
   "source": [
    "import os\n",
    "import numpy as np"
   ]
  },
  {
   "cell_type": "code",
   "execution_count": 2,
   "metadata": {
    "colab": {
     "base_uri": "https://localhost:8080/"
    },
    "executionInfo": {
     "elapsed": 963,
     "status": "ok",
     "timestamp": 1606522838930,
     "user": {
      "displayName": "Orlando O. S.",
      "photoUrl": "https://lh3.googleusercontent.com/a-/AOh14Gj-E1yuy1M_3ruwN4TWYPK4BwysauSW7GQmHheS=s64",
      "userId": "15066502291703974467"
     },
     "user_tz": 180
    },
    "id": "9OQhztUCSv3q",
    "outputId": "f085b489-7b66-4c05-80a9-5a32defaaeea"
   },
   "outputs": [
    {
     "data": {
      "text/plain": [
       "['matrizmesestado.csv',\n",
       " 'matrizmesregiao.csv',\n",
       " 'totaisestadoscomregiao_arr.csv',\n",
       " 'totaisestados_arr.csv',\n",
       " 'totaisregioes_arr.csv',\n",
       " 'total_brasil.csv']"
      ]
     },
     "execution_count": 2,
     "metadata": {},
     "output_type": "execute_result"
    }
   ],
   "source": [
    "diratual = os.getcwd()\n",
    "diretorio = os.path.join(diratual, 'content') \n",
    "os.listdir(diretorio)"
   ]
  },
  {
   "cell_type": "code",
   "execution_count": 3,
   "metadata": {
    "colab": {
     "base_uri": "https://localhost:8080/"
    },
    "executionInfo": {
     "elapsed": 1868,
     "status": "ok",
     "timestamp": 1606522839890,
     "user": {
      "displayName": "Orlando O. S.",
      "photoUrl": "https://lh3.googleusercontent.com/a-/AOh14Gj-E1yuy1M_3ruwN4TWYPK4BwysauSW7GQmHheS=s64",
      "userId": "15066502291703974467"
     },
     "user_tz": 180
    },
    "id": "xBrLFOzuSv3s",
    "outputId": "a8feb1af-9072-4870-cefb-9f26622ebdc0"
   },
   "outputs": [
    {
     "name": "stdout",
     "output_type": "stream",
     "text": [
      "[['2020-02' '2' '0']\n",
      " ['2020-03' '5715' '201']\n",
      " ['2020-04' '79663' '5700']\n",
      " ['2020-05' '428820' '23413']\n",
      " ['2020-06' '887841' '30280']]\n"
     ]
    }
   ],
   "source": [
    "arquivo = 'total_brasil.csv'\n",
    "caminho = os.path.join(diretorio,arquivo)\n",
    "total_brasil = np.loadtxt(caminho, delimiter=';', skiprows=0 , dtype='U', encoding = 'utf-8')\n",
    "print(total_brasil[:5])"
   ]
  },
  {
   "cell_type": "code",
   "execution_count": 4,
   "metadata": {
    "colab": {
     "base_uri": "https://localhost:8080/"
    },
    "executionInfo": {
     "elapsed": 1850,
     "status": "ok",
     "timestamp": 1606522839893,
     "user": {
      "displayName": "Orlando O. S.",
      "photoUrl": "https://lh3.googleusercontent.com/a-/AOh14Gj-E1yuy1M_3ruwN4TWYPK4BwysauSW7GQmHheS=s64",
      "userId": "15066502291703974467"
     },
     "user_tz": 180
    },
    "id": "wPE5A6TSSv3s",
    "outputId": "9ee50fa6-1cd8-4a5e-808a-030eae1988fc"
   },
   "outputs": [
    {
     "name": "stdout",
     "output_type": "stream",
     "text": [
      "[['Centro-Oeste' '734005' '15660']\n",
      " ['Nordeste' '1553565' '43546']\n",
      " ['Norte' '739331' '16428']\n",
      " ['Sudeste' '2078787' '76288']\n",
      " ['Sul' '840161' '15533']]\n"
     ]
    }
   ],
   "source": [
    "arquivo = 'totaisregioes_arr.csv'\n",
    "caminho = os.path.join(diretorio,arquivo)\n",
    "totaisregioes_arr = np.loadtxt(caminho, delimiter=';', skiprows=0 , dtype='U', encoding = 'utf-8')\n",
    "print(totaisregioes_arr[:5])"
   ]
  },
  {
   "cell_type": "code",
   "execution_count": 5,
   "metadata": {
    "colab": {
     "base_uri": "https://localhost:8080/"
    },
    "executionInfo": {
     "elapsed": 1828,
     "status": "ok",
     "timestamp": 1606522839897,
     "user": {
      "displayName": "Orlando O. S.",
      "photoUrl": "https://lh3.googleusercontent.com/a-/AOh14Gj-E1yuy1M_3ruwN4TWYPK4BwysauSW7GQmHheS=s64",
      "userId": "15066502291703974467"
     },
     "user_tz": 180
    },
    "id": "fcmmEGKDSv3s",
    "outputId": "87e9a610-3239-4614-b3de-8b7adf4b7990"
   },
   "outputs": [
    {
     "name": "stdout",
     "output_type": "stream",
     "text": [
      "[['DF' '221526' '3845']\n",
      " ['GO' '269857' '6107']\n",
      " ['MS' '89654' '1699']\n",
      " ['MT' '152968' '4009']\n",
      " ['AL' '92951' '2304']]\n"
     ]
    }
   ],
   "source": [
    "arquivo = 'totaisestados_arr.csv'\n",
    "caminho = os.path.join(diretorio,arquivo)\n",
    "totaisestados_arr = np.loadtxt(caminho, delimiter=';', skiprows=0 , dtype='U', encoding = 'utf-8')\n",
    "print(totaisestados_arr[:5])"
   ]
  },
  {
   "cell_type": "code",
   "execution_count": 6,
   "metadata": {
    "colab": {
     "base_uri": "https://localhost:8080/"
    },
    "executionInfo": {
     "elapsed": 1807,
     "status": "ok",
     "timestamp": 1606522839900,
     "user": {
      "displayName": "Orlando O. S.",
      "photoUrl": "https://lh3.googleusercontent.com/a-/AOh14Gj-E1yuy1M_3ruwN4TWYPK4BwysauSW7GQmHheS=s64",
      "userId": "15066502291703974467"
     },
     "user_tz": 180
    },
    "id": "_YopS-tHSv3s",
    "outputId": "feb9d69e-b7c1-4dca-9155-b2eee4a2c701"
   },
   "outputs": [
    {
     "name": "stdout",
     "output_type": "stream",
     "text": [
      "[['Mês' 'Centro-Oeste' 'Nordeste' 'Norte' 'Sudeste' 'Sul']\n",
      " ['2020-02' '0' '0' '0' '0' '0']\n",
      " ['2020-03' '5' '22' '4' '161' '9']\n",
      " ['2020-04' '74' '1514' '708' '3233' '171']\n",
      " ['2020-05' '296' '7330' '4978' '10440' '369']]\n"
     ]
    }
   ],
   "source": [
    "arquivo = 'matrizmesregiao.csv'\n",
    "caminho = os.path.join(diretorio,arquivo)\n",
    "matrizmesregiao = np.loadtxt(caminho, delimiter=';', skiprows=0 , dtype='U', encoding = 'utf-8')\n",
    "print(matrizmesregiao[:5])"
   ]
  },
  {
   "cell_type": "code",
   "execution_count": 7,
   "metadata": {
    "colab": {
     "base_uri": "https://localhost:8080/"
    },
    "executionInfo": {
     "elapsed": 1774,
     "status": "ok",
     "timestamp": 1606522839903,
     "user": {
      "displayName": "Orlando O. S.",
      "photoUrl": "https://lh3.googleusercontent.com/a-/AOh14Gj-E1yuy1M_3ruwN4TWYPK4BwysauSW7GQmHheS=s64",
      "userId": "15066502291703974467"
     },
     "user_tz": 180
    },
    "id": "--Qn00QnSv3s",
    "outputId": "19943464-7b90-41e5-e576-bb770f620a27"
   },
   "outputs": [
    {
     "name": "stdout",
     "output_type": "stream",
     "text": [
      "[['Mês' 'DF' 'GO' 'MS' 'MT' 'AL' 'BA' 'CE' 'MA' 'PB' 'PE' 'PI' 'RN' 'SE'\n",
      "  'AC' 'AM' 'AP' 'PA' 'RO' 'RR' 'TO' 'ES' 'MG' 'RJ' 'SP' 'PR' 'RS' 'SC']\n",
      " ['2020-02' '0' '0' '0' '0' '0' '0' '0' '0' '0' '0' '0' '0' '0' '0' '0'\n",
      "  '0' '0' '0' '0' '0' '0' '0' '0' '0' '0' '0' '0']\n",
      " ['2020-03' '3' '1' '1' '0' '1' '2' '7' '1' '0' '6' '4' '1' '0' '0' '3'\n",
      "  '0' '0' '1' '0' '0' '0' '2' '23' '136' '3' '4' '2']\n",
      " ['2020-04' '27' '28' '8' '11' '46' '102' '475' '183' '62' '559' '20'\n",
      "  '55' '12' '19' '422' '34' '208' '15' '7' '3' '83' '80' '831' '2239'\n",
      "  '80' '47' '44']\n",
      " ['2020-05' '140' '95' '11' '50' '396' '563' '2528' '771' '298' '2242'\n",
      "  '137' '249' '146' '129' '1627' '188' '2715' '140' '109' '70' '521'\n",
      "  '189' '4490' '5240' '99' '173' '97']]\n"
     ]
    }
   ],
   "source": [
    "arquivo = 'matrizmesestado.csv'\n",
    "caminho = os.path.join(diretorio,arquivo)\n",
    "matrizmesestado = np.loadtxt(caminho, delimiter=';', skiprows=0 , dtype='U', encoding = 'utf-8')\n",
    "print(matrizmesestado[:5])"
   ]
  },
  {
   "cell_type": "code",
   "execution_count": 8,
   "metadata": {
    "colab": {
     "base_uri": "https://localhost:8080/"
    },
    "executionInfo": {
     "elapsed": 1734,
     "status": "ok",
     "timestamp": 1606522839905,
     "user": {
      "displayName": "Orlando O. S.",
      "photoUrl": "https://lh3.googleusercontent.com/a-/AOh14Gj-E1yuy1M_3ruwN4TWYPK4BwysauSW7GQmHheS=s64",
      "userId": "15066502291703974467"
     },
     "user_tz": 180
    },
    "id": "_EaLVOJX7ElB",
    "outputId": "0b2fb76b-bf09-461f-a06c-1e8998647f97"
   },
   "outputs": [
    {
     "name": "stdout",
     "output_type": "stream",
     "text": [
      "[['Centro-Oeste' 'DF' '221526' '3845']\n",
      " ['Centro-Oeste' 'GO' '269857' '6107']\n",
      " ['Centro-Oeste' 'MS' '89654' '1699']\n",
      " ['Centro-Oeste' 'MT' '152968' '4009']\n",
      " ['Nordeste' 'AL' '92951' '2304']]\n"
     ]
    }
   ],
   "source": [
    "arquivo = 'totaisestadoscomregiao_arr.csv'\n",
    "caminho = os.path.join(diretorio,arquivo)\n",
    "totaisestadoscomregiao_arr = np.loadtxt(caminho, delimiter=';', skiprows=0 , dtype='U', encoding = 'utf-8')\n",
    "print(totaisestadoscomregiao_arr[:5])"
   ]
  },
  {
   "cell_type": "markdown",
   "metadata": {
    "id": "LxNlvCigSv3z"
   },
   "source": [
    "# Criando Gráficos de Barras\n",
    "\n",
    "-  No Pyplot a função a bar() é utilizada para desenhar gráficos de barras.\n",
    "\n"
   ]
  },
  {
   "cell_type": "code",
   "execution_count": 9,
   "metadata": {
    "colab": {
     "base_uri": "https://localhost:8080/"
    },
    "executionInfo": {
     "elapsed": 1005,
     "status": "ok",
     "timestamp": 1606519452050,
     "user": {
      "displayName": "Orlando O. S.",
      "photoUrl": "https://lh3.googleusercontent.com/a-/AOh14Gj-E1yuy1M_3ruwN4TWYPK4BwysauSW7GQmHheS=s64",
      "userId": "15066502291703974467"
     },
     "user_tz": 180
    },
    "id": "U2r2hhFtBWXa",
    "outputId": "b39d73ee-7ced-4ff7-ce27-d40dd8719cf6"
   },
   "outputs": [
    {
     "data": {
      "text/plain": [
       "array([['Centro-Oeste', '734005', '15660'],\n",
       "       ['Nordeste', '1553565', '43546'],\n",
       "       ['Norte', '739331', '16428'],\n",
       "       ['Sudeste', '2078787', '76288'],\n",
       "       ['Sul', '840161', '15533']], dtype='<U12')"
      ]
     },
     "execution_count": 9,
     "metadata": {},
     "output_type": "execute_result"
    }
   ],
   "source": [
    "totaisregioes_arr"
   ]
  },
  {
   "cell_type": "code",
   "execution_count": 10,
   "metadata": {
    "colab": {
     "base_uri": "https://localhost:8080/",
     "height": 511
    },
    "executionInfo": {
     "elapsed": 1156,
     "status": "ok",
     "timestamp": 1606519414979,
     "user": {
      "displayName": "Orlando O. S.",
      "photoUrl": "https://lh3.googleusercontent.com/a-/AOh14Gj-E1yuy1M_3ruwN4TWYPK4BwysauSW7GQmHheS=s64",
      "userId": "15066502291703974467"
     },
     "user_tz": 180
    },
    "id": "pttCheZGSv3z",
    "outputId": "66afcc0f-f2f4-4abc-b52d-111db0173db1"
   },
   "outputs": [
    {
     "data": {
      "image/png": "[encoded data removed]",
      "text/plain": [
       "<Figure size 432x288 with 1 Axes>"
      ]
     },
     "metadata": {
      "needs_background": "light"
     },
     "output_type": "display_data"
    }
   ],
   "source": [
    "import matplotlib.pyplot as plt\n",
    "import numpy as np\n",
    "\n",
    "xregiao = totaisregioes_arr[:,0]\n",
    "ycasos = totaisregioes_arr[:,1].astype('i')\n",
    "\n",
    "plt.bar(xregiao,ycasos)\n",
    "plt.show()"
   ]
  },
  {
   "cell_type": "markdown",
   "metadata": {
    "id": "lTX9A9GQSv3z"
   },
   "source": [
    "## Criando Gráficos de Barras horizontais\n",
    "Para gerar gráficos com barras horizontais, use a função barh()"
   ]
  },
  {
   "cell_type": "code",
   "execution_count": 11,
   "metadata": {
    "colab": {
     "base_uri": "https://localhost:8080/",
     "height": 513
    },
    "executionInfo": {
     "elapsed": 1383,
     "status": "ok",
     "timestamp": 1606519556341,
     "user": {
      "displayName": "Orlando O. S.",
      "photoUrl": "https://lh3.googleusercontent.com/a-/AOh14Gj-E1yuy1M_3ruwN4TWYPK4BwysauSW7GQmHheS=s64",
      "userId": "15066502291703974467"
     },
     "user_tz": 180
    },
    "id": "aYDwGteDSv3z",
    "outputId": "0572b991-e55b-47d5-e6cd-0a5267c60917"
   },
   "outputs": [
    {
     "data": {
      "image/png": "[encoded data removed]",
      "text/plain": [
       "<Figure size 432x288 with 1 Axes>"
      ]
     },
     "metadata": {
      "needs_background": "light"
     },
     "output_type": "display_data"
    }
   ],
   "source": [
    "import matplotlib.pyplot as plt\n",
    "import numpy as np\n",
    "\n",
    "xregiao = totaisregioes_arr[:,0]\n",
    "ycasos = totaisregioes_arr[:,1].astype('i')\n",
    "\n",
    "plt.barh(xregiao,ycasos)\n",
    "\n",
    "plt.show()"
   ]
  },
  {
   "cell_type": "markdown",
   "metadata": {
    "id": "TQk_RhwsSv3z"
   },
   "source": [
    "## Colorindo as Barras\n",
    "Utilize o parâmetro color para definir a cor das barras.\n",
    "\n"
   ]
  },
  {
   "cell_type": "code",
   "execution_count": 12,
   "metadata": {
    "colab": {
     "base_uri": "https://localhost:8080/",
     "height": 511
    },
    "executionInfo": {
     "elapsed": 1049,
     "status": "ok",
     "timestamp": 1606519646975,
     "user": {
      "displayName": "Orlando O. S.",
      "photoUrl": "https://lh3.googleusercontent.com/a-/AOh14Gj-E1yuy1M_3ruwN4TWYPK4BwysauSW7GQmHheS=s64",
      "userId": "15066502291703974467"
     },
     "user_tz": 180
    },
    "id": "ztLEIvs7Sv3z",
    "outputId": "3ee7efff-0be3-49e2-dbf4-d94623e6031e"
   },
   "outputs": [
    {
     "data": {
      "image/png": "[encoded data removed]",
      "text/plain": [
       "<Figure size 432x288 with 1 Axes>"
      ]
     },
     "metadata": {
      "needs_background": "light"
     },
     "output_type": "display_data"
    }
   ],
   "source": [
    "import matplotlib.pyplot as plt\n",
    "import numpy as np\n",
    "\n",
    "xregiao = totaisregioes_arr[:,0]\n",
    "ycasos = totaisregioes_arr[:,1].astype('i')\n",
    "\n",
    "plt.bar(xregiao,ycasos, color = \"blue\")\n",
    "plt.show()\n"
   ]
  },
  {
   "cell_type": "markdown",
   "metadata": {
    "id": "JsS63jiaSv3z"
   },
   "source": [
    "Resultado:\n",
    "\n",
    "\n",
    "Nomes de Cores\n",
    "Você pode usar qualquer um dos 140 nomes de cores suportados .\n",
    "\n",
    "Exemplo\n",
    "Desenhe 4 barras \"rosa choque\":"
   ]
  },
  {
   "cell_type": "markdown",
   "metadata": {
    "id": "pR85668mSv3z"
   },
   "source": [
    "### Definindo a largura da Barra\n",
    "\n",
    "Use o parâmetro  width para definir a largura das barras"
   ]
  },
  {
   "cell_type": "code",
   "execution_count": 13,
   "metadata": {
    "colab": {
     "base_uri": "https://localhost:8080/",
     "height": 511
    },
    "executionInfo": {
     "elapsed": 1038,
     "status": "ok",
     "timestamp": 1606519698849,
     "user": {
      "displayName": "Orlando O. S.",
      "photoUrl": "https://lh3.googleusercontent.com/a-/AOh14Gj-E1yuy1M_3ruwN4TWYPK4BwysauSW7GQmHheS=s64",
      "userId": "15066502291703974467"
     },
     "user_tz": 180
    },
    "id": "QldXIfZfSv3z",
    "outputId": "3bf20ea9-5e43-4b75-cc56-baaf3e043e33"
   },
   "outputs": [
    {
     "data": {
      "image/png": "[encoded data removed]",
      "text/plain": [
       "<Figure size 432x288 with 1 Axes>"
      ]
     },
     "metadata": {
      "needs_background": "light"
     },
     "output_type": "display_data"
    }
   ],
   "source": [
    "import matplotlib.pyplot as plt\n",
    "import numpy as np\n",
    "\n",
    "xregiao = totaisregioes_arr[:,0]\n",
    "ycasos = totaisregioes_arr[:,1].astype('i')\n",
    "\n",
    "plt.bar(xregiao,ycasos, width = 0.8)\n",
    "plt.show()\n"
   ]
  },
  {
   "cell_type": "markdown",
   "metadata": {
    "id": "bt4gLIBZSv3z"
   },
   "source": [
    "### Para Gráficos de barras horizontais use o parâmetro height no lugar de  width.\n"
   ]
  },
  {
   "cell_type": "code",
   "execution_count": 14,
   "metadata": {
    "colab": {
     "base_uri": "https://localhost:8080/",
     "height": 513
    },
    "executionInfo": {
     "elapsed": 1077,
     "status": "ok",
     "timestamp": 1606519730480,
     "user": {
      "displayName": "Orlando O. S.",
      "photoUrl": "https://lh3.googleusercontent.com/a-/AOh14Gj-E1yuy1M_3ruwN4TWYPK4BwysauSW7GQmHheS=s64",
      "userId": "15066502291703974467"
     },
     "user_tz": 180
    },
    "id": "hJb1lERoSv3z",
    "outputId": "c91ea159-bc59-45b7-b522-ca6f9fb146dc"
   },
   "outputs": [
    {
     "data": {
      "image/png": "[encoded data removed]",
      "text/plain": [
       "<Figure size 432x288 with 1 Axes>"
      ]
     },
     "metadata": {
      "needs_background": "light"
     },
     "output_type": "display_data"
    }
   ],
   "source": [
    "import matplotlib.pyplot as plt\n",
    "import numpy as np\n",
    "\n",
    "\n",
    "xregiao = totaisregioes_arr[:,0]\n",
    "ycasos = totaisregioes_arr[:,1].astype('i')\n",
    "\n",
    "plt.barh(xregiao,ycasos, height = 0.7)\n",
    "plt.show()\n"
   ]
  },
  {
   "cell_type": "markdown",
   "metadata": {
    "id": "hWtemd1bSv3z"
   },
   "source": [
    "## Desenhanfo Histogramas\n",
    "\n",
    "\n",
    "Um histograma é um gráfico que mostra as distribuições de frequência .\n",
    "\n",
    "É um gráfico que mostra o número de observações em cada intervalo determinado.\n",
    "\n",
    "No Matplotlib, usamos a função hist() para criar histogramas a partir de um array de números."
   ]
  },
  {
   "cell_type": "code",
   "execution_count": 15,
   "metadata": {
    "id": "AUMdzX4WDGGa"
   },
   "outputs": [],
   "source": [
    "casoscemmill = [x // 100000 for x in totaisestados_arr[:,1].astype('i')]\n"
   ]
  },
  {
   "cell_type": "code",
   "execution_count": 16,
   "metadata": {
    "colab": {
     "base_uri": "https://localhost:8080/"
    },
    "executionInfo": {
     "elapsed": 1360,
     "status": "ok",
     "timestamp": 1606520169655,
     "user": {
      "displayName": "Orlando O. S.",
      "photoUrl": "https://lh3.googleusercontent.com/a-/AOh14Gj-E1yuy1M_3ruwN4TWYPK4BwysauSW7GQmHheS=s64",
      "userId": "15066502291703974467"
     },
     "user_tz": 180
    },
    "id": "YNJ8wNAYEFZU",
    "outputId": "084df5b6-9010-4d27-d912-7d7a905c0b53"
   },
   "outputs": [
    {
     "data": {
      "text/plain": [
       "array([['DF', '221526', '3845'],\n",
       "       ['GO', '269857', '6107'],\n",
       "       ['MS', '89654', '1699'],\n",
       "       ['MT', '152968', '4009'],\n",
       "       ['AL', '92951', '2304'],\n",
       "       ['BA', '377445', '8013'],\n",
       "       ['CE', '288122', '9461'],\n",
       "       ['MA', '190321', '4203'],\n",
       "       ['PB', '140355', '3223'],\n",
       "       ['PE', '172716', '8873'],\n",
       "       ['PI', '120913', '2554'],\n",
       "       ['RN', '84381', '2649'],\n",
       "       ['SE', '86361', '2266'],\n",
       "       ['AC', '33725', '709'],\n",
       "       ['AM', '171161', '4728'],\n",
       "       ['AP', '55652', '783'],\n",
       "       ['PA', '263155', '6844'],\n",
       "       ['RO', '76019', '1511'],\n",
       "       ['RR', '61001', '709'],\n",
       "       ['TO', '78618', '1144'],\n",
       "       ['ES', '174144', '4058'],\n",
       "       ['MG', '387751', '9605'],\n",
       "       ['RJ', '332396', '21698'],\n",
       "       ['SP', '1184496', '40927'],\n",
       "       ['PR', '246169', '5793'],\n",
       "       ['RS', '287204', '6356'],\n",
       "       ['SC', '306788', '3384']], dtype='<U7')"
      ]
     },
     "execution_count": 16,
     "metadata": {},
     "output_type": "execute_result"
    }
   ],
   "source": [
    "totaisestados_arr"
   ]
  },
  {
   "cell_type": "code",
   "execution_count": 17,
   "metadata": {
    "colab": {
     "base_uri": "https://localhost:8080/"
    },
    "executionInfo": {
     "elapsed": 1119,
     "status": "ok",
     "timestamp": 1606520187554,
     "user": {
      "displayName": "Orlando O. S.",
      "photoUrl": "https://lh3.googleusercontent.com/a-/AOh14Gj-E1yuy1M_3ruwN4TWYPK4BwysauSW7GQmHheS=s64",
      "userId": "15066502291703974467"
     },
     "user_tz": 180
    },
    "id": "vKllcy0KD3U2",
    "outputId": "a6fc6489-8753-46b6-d2d1-b8713b16c5e2"
   },
   "outputs": [
    {
     "data": {
      "text/plain": [
       "220216.62962962964"
      ]
     },
     "execution_count": 17,
     "metadata": {},
     "output_type": "execute_result"
    }
   ],
   "source": [
    "np.average(totaisestados_arr[:,1].astype('i'))"
   ]
  },
  {
   "cell_type": "code",
   "execution_count": 18,
   "metadata": {
    "colab": {
     "base_uri": "https://localhost:8080/"
    },
    "executionInfo": {
     "elapsed": 976,
     "status": "ok",
     "timestamp": 1606520312921,
     "user": {
      "displayName": "Orlando O. S.",
      "photoUrl": "https://lh3.googleusercontent.com/a-/AOh14Gj-E1yuy1M_3ruwN4TWYPK4BwysauSW7GQmHheS=s64",
      "userId": "15066502291703974467"
     },
     "user_tz": 180
    },
    "id": "CdydBsh5ERRo",
    "outputId": "1060b47c-a397-4b0e-ea1a-3d027f918b25"
   },
   "outputs": [
    {
     "data": {
      "text/plain": [
       "183128.96153846153"
      ]
     },
     "execution_count": 18,
     "metadata": {},
     "output_type": "execute_result"
    }
   ],
   "source": [
    "np.average(totaisestados_arr[ totaisestados_arr[:,0] != 'SP' ,1].astype('i'))"
   ]
  },
  {
   "cell_type": "code",
   "execution_count": 19,
   "metadata": {
    "colab": {
     "base_uri": "https://localhost:8080/"
    },
    "executionInfo": {
     "elapsed": 987,
     "status": "ok",
     "timestamp": 1606520580775,
     "user": {
      "displayName": "Orlando O. S.",
      "photoUrl": "https://lh3.googleusercontent.com/a-/AOh14Gj-E1yuy1M_3ruwN4TWYPK4BwysauSW7GQmHheS=s64",
      "userId": "15066502291703974467"
     },
     "user_tz": 180
    },
    "id": "WXjyeQX4FIX8",
    "outputId": "0528481a-923f-4855-c378-7b872a33fd4d"
   },
   "outputs": [
    {
     "data": {
      "text/plain": [
       "array([['DF', '221526', '3845'],\n",
       "       ['GO', '269857', '6107'],\n",
       "       ['MS', '89654', '1699'],\n",
       "       ['MT', '152968', '4009'],\n",
       "       ['AL', '92951', '2304'],\n",
       "       ['BA', '377445', '8013'],\n",
       "       ['CE', '288122', '9461'],\n",
       "       ['MA', '190321', '4203'],\n",
       "       ['PB', '140355', '3223'],\n",
       "       ['PE', '172716', '8873'],\n",
       "       ['PI', '120913', '2554'],\n",
       "       ['RN', '84381', '2649'],\n",
       "       ['SE', '86361', '2266'],\n",
       "       ['AC', '33725', '709'],\n",
       "       ['AM', '171161', '4728'],\n",
       "       ['AP', '55652', '783'],\n",
       "       ['PA', '263155', '6844'],\n",
       "       ['RO', '76019', '1511'],\n",
       "       ['RR', '61001', '709'],\n",
       "       ['TO', '78618', '1144'],\n",
       "       ['ES', '174144', '4058'],\n",
       "       ['MG', '387751', '9605'],\n",
       "       ['RJ', '332396', '21698'],\n",
       "       ['SP', '1000000000', '40927'],\n",
       "       ['PR', '246169', '5793'],\n",
       "       ['RS', '287204', '6356'],\n",
       "       ['SC', '306788', '3384']], dtype='<U20')"
      ]
     },
     "execution_count": 19,
     "metadata": {},
     "output_type": "execute_result"
    }
   ],
   "source": [
    "totaisestados_arr = totaisestados_arr.astype('U20')\n",
    "totaisestados_arr[-4,1] = 1_000_000_000\n",
    "totaisestados_arr"
   ]
  },
  {
   "cell_type": "code",
   "execution_count": 20,
   "metadata": {
    "colab": {
     "base_uri": "https://localhost:8080/"
    },
    "executionInfo": {
     "elapsed": 1047,
     "status": "ok",
     "timestamp": 1606520596887,
     "user": {
      "displayName": "Orlando O. S.",
      "photoUrl": "https://lh3.googleusercontent.com/a-/AOh14Gj-E1yuy1M_3ruwN4TWYPK4BwysauSW7GQmHheS=s64",
      "userId": "15066502291703974467"
     },
     "user_tz": 180
    },
    "id": "aRQLYMUQE1Wp",
    "outputId": "798d7f1d-1549-4be6-900e-98c9d16eba44"
   },
   "outputs": [
    {
     "data": {
      "text/plain": [
       "172716.0"
      ]
     },
     "execution_count": 20,
     "metadata": {},
     "output_type": "execute_result"
    }
   ],
   "source": [
    "np.median(totaisestados_arr[:,1].astype('i'))"
   ]
  },
  {
   "cell_type": "code",
   "execution_count": 21,
   "metadata": {
    "colab": {
     "base_uri": "https://localhost:8080/"
    },
    "executionInfo": {
     "elapsed": 1007,
     "status": "ok",
     "timestamp": 1606520397763,
     "user": {
      "displayName": "Orlando O. S.",
      "photoUrl": "https://lh3.googleusercontent.com/a-/AOh14Gj-E1yuy1M_3ruwN4TWYPK4BwysauSW7GQmHheS=s64",
      "userId": "15066502291703974467"
     },
     "user_tz": 180
    },
    "id": "5aIh8G2OE1ll",
    "outputId": "2e6ef903-a2fd-4595-948d-3f2dfdab36b0"
   },
   "outputs": [
    {
     "data": {
      "text/plain": [
       "171938.5"
      ]
     },
     "execution_count": 21,
     "metadata": {},
     "output_type": "execute_result"
    }
   ],
   "source": [
    "np.median(totaisestados_arr[ totaisestados_arr[:,0] != 'SP' ,1].astype('i'))"
   ]
  },
  {
   "cell_type": "code",
   "execution_count": 22,
   "metadata": {
    "colab": {
     "base_uri": "https://localhost:8080/",
     "height": 500
    },
    "executionInfo": {
     "elapsed": 1106,
     "status": "ok",
     "timestamp": 1606519866511,
     "user": {
      "displayName": "Orlando O. S.",
      "photoUrl": "https://lh3.googleusercontent.com/a-/AOh14Gj-E1yuy1M_3ruwN4TWYPK4BwysauSW7GQmHheS=s64",
      "userId": "15066502291703974467"
     },
     "user_tz": 180
    },
    "id": "qlnsqRhrSv30",
    "outputId": "86cc5e2f-1b3a-42d8-b4c2-d4bb4054ce79"
   },
   "outputs": [
    {
     "data": {
      "image/png": "[encoded data removed]",
      "text/plain": [
       "<Figure size 432x288 with 1 Axes>"
      ]
     },
     "metadata": {
      "needs_background": "light"
     },
     "output_type": "display_data"
    }
   ],
   "source": [
    "import matplotlib.pyplot as plt\n",
    "import numpy as np\n",
    "\n",
    "x= casoscemmill = [x // 100000 for x in totaisestados_arr[:,1].astype('i')]\n",
    "\n",
    "plt.hist(x)\n",
    "plt.show() "
   ]
  },
  {
   "cell_type": "markdown",
   "metadata": {
    "id": "DX9JWKhxX1xn"
   },
   "source": [
    "\n",
    "## Leituras Adicionais e Referências:\n",
    "\n",
    "- Python Tutorial at W3Schools: https://www.w3schools.com/python/\n",
    "- Python official documentation: https://docs.python.org/3/tutorial/index.html\n",
    "- Matplolib tutoriais: https://matplotlib.org/tutorials/index.html\n"
   ]
  }
 ],
 "metadata": {
  "colab": {
   "collapsed_sections": [],
   "name": "Aula de Visualização de Dados com Matplotlib.ipynb",
   "provenance": []
  },
  "kernelspec": {
   "display_name": "Python 3",
   "language": "python",
   "name": "python3"
  },
  "language_info": {
   "codemirror_mode": {
    "name": "ipython",
    "version": 3
   },
   "file_extension": ".py",
   "mimetype": "text/x-python",
   "name": "python",
   "nbconvert_exporter": "python",
   "pygments_lexer": "ipython3",
   "version": "3.7.8"
  }
 },
 "nbformat": 4,
 "nbformat_minor": 1
}
