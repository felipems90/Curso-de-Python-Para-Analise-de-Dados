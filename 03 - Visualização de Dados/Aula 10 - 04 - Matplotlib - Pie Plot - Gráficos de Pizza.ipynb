{
 "cells": [
  {
   "cell_type": "markdown",
   "metadata": {
    "id": "uGqJJfZ36iR6"
   },
   "source": [
    "# 03 - Visualização de Dados\n",
    "## Aula 10 - 04 - Matplotlib - Pie Plot - Gráficos de Pizza"
   ]
  },
  {
   "cell_type": "markdown",
   "metadata": {
    "id": "JNifjo59P9mf"
   },
   "source": [
    "## Professor: Orlando Oliveira dos Santos, MsC.\n",
    " - E-mail: professor.orlando.santos@gmail.com \n",
    " - Youtube :https://www.youtube.com/channel/UCPWWbkPWFmOjXH50TQWNAYg\n",
    " - Linkedin: https://linkedin.com/in/orlandoosantos\n",
    " - Facebook: https://www.facebook.com/proforlandosantosmsc/\n",
    " - Twitter: https://twitter.com/ProfOrlandoMsC\n",
    " - Instagram: https://www.instagram.com/proforlandosantosmsc/\n",
    "\n",
    "\n",
    "\n",
    "## Formação Acadêmica\n",
    "- Mestrado em Computação Aplicada - UnB (2014 – 2016)\t\n",
    "- MBA, Administração Estratégica de Sistemas de Informação – FGV (2011 – 2013)\n",
    "- Tecnólogo em Processamento de Dados, Análise e Desenvolvimento de Sistemas – FAETEC/SP (2000-2002)"
   ]
  },
  {
   "cell_type": "markdown",
   "metadata": {
    "id": "dIR5YaOF6mGE"
   },
   "source": [
    "# Matplotlib - Pie Plot - Gráficos de Pizza"
   ]
  },
  {
   "cell_type": "markdown",
   "metadata": {
    "id": "U4_dgxGySv3q"
   },
   "source": [
    "### Carga de Arrays com dados das Covid para uso nos gráficos"
   ]
  },
  {
   "cell_type": "code",
   "execution_count": 1,
   "metadata": {
    "colab": {
     "base_uri": "https://localhost:8080/"
    },
    "executionInfo": {
     "elapsed": 963,
     "status": "ok",
     "timestamp": 1606522838930,
     "user": {
      "displayName": "Orlando O. S.",
      "photoUrl": "https://lh3.googleusercontent.com/a-/AOh14Gj-E1yuy1M_3ruwN4TWYPK4BwysauSW7GQmHheS=s64",
      "userId": "15066502291703974467"
     },
     "user_tz": 180
    },
    "id": "9OQhztUCSv3q",
    "outputId": "f085b489-7b66-4c05-80a9-5a32defaaeea"
   },
   "outputs": [],
   "source": [
    "import os\n",
    "import numpy as np"
   ]
  },
  {
   "cell_type": "code",
   "execution_count": 2,
   "metadata": {
    "colab": {
     "base_uri": "https://localhost:8080/"
    },
    "executionInfo": {
     "elapsed": 963,
     "status": "ok",
     "timestamp": 1606522838930,
     "user": {
      "displayName": "Orlando O. S.",
      "photoUrl": "https://lh3.googleusercontent.com/a-/AOh14Gj-E1yuy1M_3ruwN4TWYPK4BwysauSW7GQmHheS=s64",
      "userId": "15066502291703974467"
     },
     "user_tz": 180
    },
    "id": "9OQhztUCSv3q",
    "outputId": "f085b489-7b66-4c05-80a9-5a32defaaeea"
   },
   "outputs": [
    {
     "data": {
      "text/plain": [
       "['matrizmesestado.csv',\n",
       " 'matrizmesregiao.csv',\n",
       " 'totaisestadoscomregiao_arr.csv',\n",
       " 'totaisestados_arr.csv',\n",
       " 'totaisregioes_arr.csv',\n",
       " 'total_brasil.csv']"
      ]
     },
     "execution_count": 2,
     "metadata": {},
     "output_type": "execute_result"
    }
   ],
   "source": [
    "diratual = os.getcwd()\n",
    "diretorio = os.path.join(diratual, 'content') \n",
    "os.listdir(diretorio)"
   ]
  },
  {
   "cell_type": "code",
   "execution_count": 3,
   "metadata": {
    "colab": {
     "base_uri": "https://localhost:8080/"
    },
    "executionInfo": {
     "elapsed": 1868,
     "status": "ok",
     "timestamp": 1606522839890,
     "user": {
      "displayName": "Orlando O. S.",
      "photoUrl": "https://lh3.googleusercontent.com/a-/AOh14Gj-E1yuy1M_3ruwN4TWYPK4BwysauSW7GQmHheS=s64",
      "userId": "15066502291703974467"
     },
     "user_tz": 180
    },
    "id": "xBrLFOzuSv3s",
    "outputId": "a8feb1af-9072-4870-cefb-9f26622ebdc0"
   },
   "outputs": [
    {
     "name": "stdout",
     "output_type": "stream",
     "text": [
      "[['2020-02' '2' '0']\n",
      " ['2020-03' '5715' '201']\n",
      " ['2020-04' '79663' '5700']\n",
      " ['2020-05' '428820' '23413']\n",
      " ['2020-06' '887841' '30280']]\n"
     ]
    }
   ],
   "source": [
    "arquivo = 'total_brasil.csv'\n",
    "caminho = os.path.join(diretorio,arquivo)\n",
    "total_brasil = np.loadtxt(caminho, delimiter=';', skiprows=0 , dtype='U', encoding = 'utf-8')\n",
    "print(total_brasil[:5])"
   ]
  },
  {
   "cell_type": "code",
   "execution_count": 4,
   "metadata": {
    "colab": {
     "base_uri": "https://localhost:8080/"
    },
    "executionInfo": {
     "elapsed": 1850,
     "status": "ok",
     "timestamp": 1606522839893,
     "user": {
      "displayName": "Orlando O. S.",
      "photoUrl": "https://lh3.googleusercontent.com/a-/AOh14Gj-E1yuy1M_3ruwN4TWYPK4BwysauSW7GQmHheS=s64",
      "userId": "15066502291703974467"
     },
     "user_tz": 180
    },
    "id": "wPE5A6TSSv3s",
    "outputId": "9ee50fa6-1cd8-4a5e-808a-030eae1988fc"
   },
   "outputs": [
    {
     "name": "stdout",
     "output_type": "stream",
     "text": [
      "[['Centro-Oeste' '734005' '15660']\n",
      " ['Nordeste' '1553565' '43546']\n",
      " ['Norte' '739331' '16428']\n",
      " ['Sudeste' '2078787' '76288']\n",
      " ['Sul' '840161' '15533']]\n"
     ]
    }
   ],
   "source": [
    "arquivo = 'totaisregioes_arr.csv'\n",
    "caminho = os.path.join(diretorio,arquivo)\n",
    "totaisregioes_arr = np.loadtxt(caminho, delimiter=';', skiprows=0 , dtype='U', encoding = 'utf-8')\n",
    "print(totaisregioes_arr[:5])"
   ]
  },
  {
   "cell_type": "code",
   "execution_count": 5,
   "metadata": {
    "colab": {
     "base_uri": "https://localhost:8080/"
    },
    "executionInfo": {
     "elapsed": 1828,
     "status": "ok",
     "timestamp": 1606522839897,
     "user": {
      "displayName": "Orlando O. S.",
      "photoUrl": "https://lh3.googleusercontent.com/a-/AOh14Gj-E1yuy1M_3ruwN4TWYPK4BwysauSW7GQmHheS=s64",
      "userId": "15066502291703974467"
     },
     "user_tz": 180
    },
    "id": "fcmmEGKDSv3s",
    "outputId": "87e9a610-3239-4614-b3de-8b7adf4b7990"
   },
   "outputs": [
    {
     "name": "stdout",
     "output_type": "stream",
     "text": [
      "[['DF' '221526' '3845']\n",
      " ['GO' '269857' '6107']\n",
      " ['MS' '89654' '1699']\n",
      " ['MT' '152968' '4009']\n",
      " ['AL' '92951' '2304']]\n"
     ]
    }
   ],
   "source": [
    "arquivo = 'totaisestados_arr.csv'\n",
    "caminho = os.path.join(diretorio,arquivo)\n",
    "totaisestados_arr = np.loadtxt(caminho, delimiter=';', skiprows=0 , dtype='U', encoding = 'utf-8')\n",
    "print(totaisestados_arr[:5])"
   ]
  },
  {
   "cell_type": "code",
   "execution_count": 6,
   "metadata": {
    "colab": {
     "base_uri": "https://localhost:8080/"
    },
    "executionInfo": {
     "elapsed": 1807,
     "status": "ok",
     "timestamp": 1606522839900,
     "user": {
      "displayName": "Orlando O. S.",
      "photoUrl": "https://lh3.googleusercontent.com/a-/AOh14Gj-E1yuy1M_3ruwN4TWYPK4BwysauSW7GQmHheS=s64",
      "userId": "15066502291703974467"
     },
     "user_tz": 180
    },
    "id": "_YopS-tHSv3s",
    "outputId": "feb9d69e-b7c1-4dca-9155-b2eee4a2c701"
   },
   "outputs": [
    {
     "name": "stdout",
     "output_type": "stream",
     "text": [
      "[['Mês' 'Centro-Oeste' 'Nordeste' 'Norte' 'Sudeste' 'Sul']\n",
      " ['2020-02' '0' '0' '0' '0' '0']\n",
      " ['2020-03' '5' '22' '4' '161' '9']\n",
      " ['2020-04' '74' '1514' '708' '3233' '171']\n",
      " ['2020-05' '296' '7330' '4978' '10440' '369']]\n"
     ]
    }
   ],
   "source": [
    "arquivo = 'matrizmesregiao.csv'\n",
    "caminho = os.path.join(diretorio,arquivo)\n",
    "matrizmesregiao = np.loadtxt(caminho, delimiter=';', skiprows=0 , dtype='U', encoding = 'utf-8')\n",
    "print(matrizmesregiao[:5])"
   ]
  },
  {
   "cell_type": "code",
   "execution_count": 7,
   "metadata": {
    "colab": {
     "base_uri": "https://localhost:8080/"
    },
    "executionInfo": {
     "elapsed": 1774,
     "status": "ok",
     "timestamp": 1606522839903,
     "user": {
      "displayName": "Orlando O. S.",
      "photoUrl": "https://lh3.googleusercontent.com/a-/AOh14Gj-E1yuy1M_3ruwN4TWYPK4BwysauSW7GQmHheS=s64",
      "userId": "15066502291703974467"
     },
     "user_tz": 180
    },
    "id": "--Qn00QnSv3s",
    "outputId": "19943464-7b90-41e5-e576-bb770f620a27"
   },
   "outputs": [
    {
     "name": "stdout",
     "output_type": "stream",
     "text": [
      "[['Mês' 'DF' 'GO' 'MS' 'MT' 'AL' 'BA' 'CE' 'MA' 'PB' 'PE' 'PI' 'RN' 'SE'\n",
      "  'AC' 'AM' 'AP' 'PA' 'RO' 'RR' 'TO' 'ES' 'MG' 'RJ' 'SP' 'PR' 'RS' 'SC']\n",
      " ['2020-02' '0' '0' '0' '0' '0' '0' '0' '0' '0' '0' '0' '0' '0' '0' '0'\n",
      "  '0' '0' '0' '0' '0' '0' '0' '0' '0' '0' '0' '0']\n",
      " ['2020-03' '3' '1' '1' '0' '1' '2' '7' '1' '0' '6' '4' '1' '0' '0' '3'\n",
      "  '0' '0' '1' '0' '0' '0' '2' '23' '136' '3' '4' '2']\n",
      " ['2020-04' '27' '28' '8' '11' '46' '102' '475' '183' '62' '559' '20'\n",
      "  '55' '12' '19' '422' '34' '208' '15' '7' '3' '83' '80' '831' '2239'\n",
      "  '80' '47' '44']\n",
      " ['2020-05' '140' '95' '11' '50' '396' '563' '2528' '771' '298' '2242'\n",
      "  '137' '249' '146' '129' '1627' '188' '2715' '140' '109' '70' '521'\n",
      "  '189' '4490' '5240' '99' '173' '97']]\n"
     ]
    }
   ],
   "source": [
    "arquivo = 'matrizmesestado.csv'\n",
    "caminho = os.path.join(diretorio,arquivo)\n",
    "matrizmesestado = np.loadtxt(caminho, delimiter=';', skiprows=0 , dtype='U', encoding = 'utf-8')\n",
    "print(matrizmesestado[:5])"
   ]
  },
  {
   "cell_type": "code",
   "execution_count": 8,
   "metadata": {
    "colab": {
     "base_uri": "https://localhost:8080/"
    },
    "executionInfo": {
     "elapsed": 1734,
     "status": "ok",
     "timestamp": 1606522839905,
     "user": {
      "displayName": "Orlando O. S.",
      "photoUrl": "https://lh3.googleusercontent.com/a-/AOh14Gj-E1yuy1M_3ruwN4TWYPK4BwysauSW7GQmHheS=s64",
      "userId": "15066502291703974467"
     },
     "user_tz": 180
    },
    "id": "_EaLVOJX7ElB",
    "outputId": "0b2fb76b-bf09-461f-a06c-1e8998647f97"
   },
   "outputs": [
    {
     "name": "stdout",
     "output_type": "stream",
     "text": [
      "[['Centro-Oeste' 'DF' '221526' '3845']\n",
      " ['Centro-Oeste' 'GO' '269857' '6107']\n",
      " ['Centro-Oeste' 'MS' '89654' '1699']\n",
      " ['Centro-Oeste' 'MT' '152968' '4009']\n",
      " ['Nordeste' 'AL' '92951' '2304']]\n"
     ]
    }
   ],
   "source": [
    "arquivo = 'totaisestadoscomregiao_arr.csv'\n",
    "caminho = os.path.join(diretorio,arquivo)\n",
    "totaisestadoscomregiao_arr = np.loadtxt(caminho, delimiter=';', skiprows=0 , dtype='U', encoding = 'utf-8')\n",
    "print(totaisestadoscomregiao_arr[:5])"
   ]
  },
  {
   "cell_type": "markdown",
   "metadata": {
    "id": "-RY9Zsd0Sv30"
   },
   "source": [
    "## Desenhando gráficos de pizza\n",
    "No Pyplot, utiliza-se a função  pie() para desenhar gráficos de pizza:"
   ]
  },
  {
   "cell_type": "code",
   "execution_count": 9,
   "metadata": {
    "colab": {
     "base_uri": "https://localhost:8080/",
     "height": 480
    },
    "executionInfo": {
     "elapsed": 1101,
     "status": "ok",
     "timestamp": 1606520631462,
     "user": {
      "displayName": "Orlando O. S.",
      "photoUrl": "https://lh3.googleusercontent.com/a-/AOh14Gj-E1yuy1M_3ruwN4TWYPK4BwysauSW7GQmHheS=s64",
      "userId": "15066502291703974467"
     },
     "user_tz": 180
    },
    "id": "27Zk65TuSv30",
    "outputId": "471ab83a-d697-4cc1-ecdc-55ab61a485a0"
   },
   "outputs": [
    {
     "data": {
      "image/png": "[encoded data removed]",
      "text/plain": [
       "<Figure size 432x288 with 1 Axes>"
      ]
     },
     "metadata": {},
     "output_type": "display_data"
    }
   ],
   "source": [
    "import matplotlib.pyplot as plt\n",
    "import numpy as np\n",
    "\n",
    "ycasos = totaisregioes_arr[:,1].astype('i')\n",
    "\n",
    "plt.pie(ycasos)\n",
    "\n",
    "plt.show() "
   ]
  },
  {
   "cell_type": "markdown",
   "metadata": {
    "id": "rqLVVTcmSv30"
   },
   "source": [
    "### Adicionando rótulos nas fatias das pizzas utilizando o parâmetro label"
   ]
  },
  {
   "cell_type": "code",
   "execution_count": 10,
   "metadata": {
    "colab": {
     "base_uri": "https://localhost:8080/",
     "height": 480
    },
    "executionInfo": {
     "elapsed": 1268,
     "status": "ok",
     "timestamp": 1606520724632,
     "user": {
      "displayName": "Orlando O. S.",
      "photoUrl": "https://lh3.googleusercontent.com/a-/AOh14Gj-E1yuy1M_3ruwN4TWYPK4BwysauSW7GQmHheS=s64",
      "userId": "15066502291703974467"
     },
     "user_tz": 180
    },
    "id": "nMnOHckdSv30",
    "outputId": "a5a468f2-289d-46bc-8328-9dc589459bb1"
   },
   "outputs": [
    {
     "data": {
      "image/png": "[encoded data removed]",
      "text/plain": [
       "<Figure size 432x288 with 1 Axes>"
      ]
     },
     "metadata": {},
     "output_type": "display_data"
    }
   ],
   "source": [
    "import matplotlib.pyplot as plt\n",
    "import numpy as np\n",
    "\n",
    "labelregioes = totaisregioes_arr[:,0]\n",
    "ycasos = totaisregioes_arr[:,1].astype('i')\n",
    "\n",
    "\n",
    "plt.pie(ycasos, labels = labelregioes)\n",
    "\n",
    "plt.show() "
   ]
  },
  {
   "cell_type": "markdown",
   "metadata": {
    "id": "KnyUx7fESv30"
   },
   "source": [
    "### Ajusta o Ângulo inicial\n",
    "O ângulo inicial padrão está no eixo x, mas pode ser alterado pelo parâmetro startangle"
   ]
  },
  {
   "cell_type": "code",
   "execution_count": 11,
   "metadata": {
    "colab": {
     "base_uri": "https://localhost:8080/",
     "height": 480
    },
    "executionInfo": {
     "elapsed": 1347,
     "status": "ok",
     "timestamp": 1606520765872,
     "user": {
      "displayName": "Orlando O. S.",
      "photoUrl": "https://lh3.googleusercontent.com/a-/AOh14Gj-E1yuy1M_3ruwN4TWYPK4BwysauSW7GQmHheS=s64",
      "userId": "15066502291703974467"
     },
     "user_tz": 180
    },
    "id": "iL1iNXiKSv30",
    "outputId": "11260ccc-75e0-4084-af39-328111b7da7d"
   },
   "outputs": [
    {
     "data": {
      "image/png": "[encoded data removed]",
      "text/plain": [
       "<Figure size 432x288 with 1 Axes>"
      ]
     },
     "metadata": {},
     "output_type": "display_data"
    }
   ],
   "source": [
    "import matplotlib.pyplot as plt\n",
    "import numpy as np\n",
    "\n",
    "labelregioes = totaisregioes_arr[:,0]\n",
    "ycasos = totaisregioes_arr[:,1].astype('i')\n",
    "\n",
    "\n",
    "plt.pie(ycasos, labels = labelregioes, startangle = 90)\n",
    "\n",
    "plt.show() "
   ]
  },
  {
   "cell_type": "markdown",
   "metadata": {
    "id": "L-p0nfqESv30"
   },
   "source": [
    "### Destacar fatias do gráfico usando o parâmetro explode"
   ]
  },
  {
   "cell_type": "code",
   "execution_count": 12,
   "metadata": {
    "colab": {
     "base_uri": "https://localhost:8080/"
    },
    "executionInfo": {
     "elapsed": 1008,
     "status": "ok",
     "timestamp": 1606520865865,
     "user": {
      "displayName": "Orlando O. S.",
      "photoUrl": "https://lh3.googleusercontent.com/a-/AOh14Gj-E1yuy1M_3ruwN4TWYPK4BwysauSW7GQmHheS=s64",
      "userId": "15066502291703974467"
     },
     "user_tz": 180
    },
    "id": "Q3YBOywgGvjh",
    "outputId": "4ab0369d-2491-456d-c58b-82f1e3c4bd7e"
   },
   "outputs": [
    {
     "data": {
      "text/plain": [
       "array(['Centro-Oeste', 'Nordeste', 'Norte', 'Sudeste', 'Sul'],\n",
       "      dtype='<U12')"
      ]
     },
     "execution_count": 12,
     "metadata": {},
     "output_type": "execute_result"
    }
   ],
   "source": [
    "labelregioes"
   ]
  },
  {
   "cell_type": "code",
   "execution_count": 13,
   "metadata": {
    "colab": {
     "base_uri": "https://localhost:8080/",
     "height": 480
    },
    "executionInfo": {
     "elapsed": 1238,
     "status": "ok",
     "timestamp": 1606520832273,
     "user": {
      "displayName": "Orlando O. S.",
      "photoUrl": "https://lh3.googleusercontent.com/a-/AOh14Gj-E1yuy1M_3ruwN4TWYPK4BwysauSW7GQmHheS=s64",
      "userId": "15066502291703974467"
     },
     "user_tz": 180
    },
    "id": "actIJYhuSv30",
    "outputId": "4968250c-cf4c-44be-a964-9111d9d20ca0"
   },
   "outputs": [
    {
     "data": {
      "image/png": "[encoded data removed]",
      "text/plain": [
       "<Figure size 432x288 with 1 Axes>"
      ]
     },
     "metadata": {},
     "output_type": "display_data"
    }
   ],
   "source": [
    "import matplotlib.pyplot as plt\n",
    "import numpy as np\n",
    "\n",
    "labelregioes = totaisregioes_arr[:,0]\n",
    "ycasos = totaisregioes_arr[:,1].astype('i')\n",
    "explode = [0.2, 0, 0.1, 0, 0]\n",
    "\n",
    "plt.pie(ycasos, labels = labelregioes, explode = explode)\n",
    "plt.show() "
   ]
  },
  {
   "cell_type": "markdown",
   "metadata": {
    "id": "ekVGn9jvSv30"
   },
   "source": [
    "### Adicionando um sombra ao gráfico de pizza com o parâmetro shadows para True."
   ]
  },
  {
   "cell_type": "code",
   "execution_count": 14,
   "metadata": {
    "colab": {
     "base_uri": "https://localhost:8080/",
     "height": 480
    },
    "executionInfo": {
     "elapsed": 1112,
     "status": "ok",
     "timestamp": 1606520906280,
     "user": {
      "displayName": "Orlando O. S.",
      "photoUrl": "https://lh3.googleusercontent.com/a-/AOh14Gj-E1yuy1M_3ruwN4TWYPK4BwysauSW7GQmHheS=s64",
      "userId": "15066502291703974467"
     },
     "user_tz": 180
    },
    "id": "qnYspZJ5Sv30",
    "outputId": "b7e2b678-e339-4142-8ce3-82a574edcc56"
   },
   "outputs": [
    {
     "data": {
      "image/png": "[encoded data removed]",
      "text/plain": [
       "<Figure size 432x288 with 1 Axes>"
      ]
     },
     "metadata": {},
     "output_type": "display_data"
    }
   ],
   "source": [
    "import matplotlib.pyplot as plt\n",
    "import numpy as np\n",
    "\n",
    "labelregioes = totaisregioes_arr[:,0]\n",
    "ycasos = totaisregioes_arr[:,1].astype('i')\n",
    "explode = [0.2, 0, 0, 0, 0]\n",
    "\n",
    "plt.pie(ycasos, labels = labelregioes, explode = explode, shadow = True)\n",
    "\n",
    "plt.show() "
   ]
  },
  {
   "cell_type": "markdown",
   "metadata": {
    "id": "moqbnhRJSv30"
   },
   "source": [
    "### Definindo as cores das fatias com o parâmetro colors"
   ]
  },
  {
   "cell_type": "code",
   "execution_count": 15,
   "metadata": {
    "colab": {
     "base_uri": "https://localhost:8080/",
     "height": 480
    },
    "executionInfo": {
     "elapsed": 1369,
     "status": "ok",
     "timestamp": 1606521085925,
     "user": {
      "displayName": "Orlando O. S.",
      "photoUrl": "https://lh3.googleusercontent.com/a-/AOh14Gj-E1yuy1M_3ruwN4TWYPK4BwysauSW7GQmHheS=s64",
      "userId": "15066502291703974467"
     },
     "user_tz": 180
    },
    "id": "8raIviBsSv30",
    "outputId": "a55a3bf9-15b5-4afa-bd1a-871bbe34af97"
   },
   "outputs": [
    {
     "data": {
      "image/png": "[encoded data removed]",
      "text/plain": [
       "<Figure size 432x288 with 1 Axes>"
      ]
     },
     "metadata": {},
     "output_type": "display_data"
    }
   ],
   "source": [
    "import matplotlib.pyplot as plt\n",
    "import numpy as np\n",
    "\n",
    "labelregioes = totaisregioes_arr[:,0]\n",
    "ycasos = totaisregioes_arr[:,1].astype('i')\n",
    "cores = [\"green\", \"red\", \"yellow\", \"blue\", \"gray\"]\n",
    "\n",
    "plt.pie(ycasos, labels = labelregioes, colors = cores )\n",
    "\n",
    "plt.show() "
   ]
  },
  {
   "cell_type": "markdown",
   "metadata": {
    "id": "mweBy6hPSv30"
   },
   "source": [
    "### Adicionando legenda usando a  função legend()\n"
   ]
  },
  {
   "cell_type": "code",
   "execution_count": 16,
   "metadata": {
    "colab": {
     "base_uri": "https://localhost:8080/",
     "height": 480
    },
    "executionInfo": {
     "elapsed": 1650,
     "status": "ok",
     "timestamp": 1606521134771,
     "user": {
      "displayName": "Orlando O. S.",
      "photoUrl": "https://lh3.googleusercontent.com/a-/AOh14Gj-E1yuy1M_3ruwN4TWYPK4BwysauSW7GQmHheS=s64",
      "userId": "15066502291703974467"
     },
     "user_tz": 180
    },
    "id": "dBMbxbtXSv30",
    "outputId": "574ecc89-8cd8-43d0-abf4-80021e091a8e"
   },
   "outputs": [
    {
     "data": {
      "image/png": "[encoded data removed]",
      "text/plain": [
       "<Figure size 432x288 with 1 Axes>"
      ]
     },
     "metadata": {},
     "output_type": "display_data"
    }
   ],
   "source": [
    "import matplotlib.pyplot as plt\n",
    "import numpy as np\n",
    "\n",
    "labelregioes = totaisregioes_arr[:,0]\n",
    "ycasos = totaisregioes_arr[:,1].astype('i')\n",
    "\n",
    "plt.pie(ycasos, labels = labelregioes )\n",
    "\n",
    "plt.legend()\n",
    "plt.show() "
   ]
  },
  {
   "cell_type": "markdown",
   "metadata": {
    "id": "WflOuDsdSv30"
   },
   "source": [
    "### Adicionar Legenda com cabeçalho usando o parâmetro title da função legend()\n"
   ]
  },
  {
   "cell_type": "code",
   "execution_count": 17,
   "metadata": {
    "colab": {
     "base_uri": "https://localhost:8080/",
     "height": 480
    },
    "executionInfo": {
     "elapsed": 1244,
     "status": "ok",
     "timestamp": 1606521180954,
     "user": {
      "displayName": "Orlando O. S.",
      "photoUrl": "https://lh3.googleusercontent.com/a-/AOh14Gj-E1yuy1M_3ruwN4TWYPK4BwysauSW7GQmHheS=s64",
      "userId": "15066502291703974467"
     },
     "user_tz": 180
    },
    "id": "HMcPG5aPSv30",
    "outputId": "41a7d469-8cd5-43d9-b50a-f407715f5ec7"
   },
   "outputs": [
    {
     "data": {
      "image/png": "[encoded data removed]",
      "text/plain": [
       "<Figure size 432x288 with 1 Axes>"
      ]
     },
     "metadata": {},
     "output_type": "display_data"
    }
   ],
   "source": [
    "import matplotlib.pyplot as plt\n",
    "import numpy as np\n",
    "\n",
    "labelregioes = totaisregioes_arr[:,0]\n",
    "ycasos = totaisregioes_arr[:,1].astype('i')\n",
    "\n",
    "plt.pie(ycasos, labels = labelregioes )\n",
    "\n",
    "plt.legend(title = \"Regiões\")\n",
    "plt.show() "
   ]
  },
  {
   "cell_type": "markdown",
   "metadata": {
    "id": "DX9JWKhxX1xn"
   },
   "source": [
    "\n",
    "## Leituras Adicionais e Referências:\n",
    "\n",
    "- Python Tutorial at W3Schools: https://www.w3schools.com/python/\n",
    "- Python official documentation: https://docs.python.org/3/tutorial/index.html\n",
    "- Matplolib tutoriais: https://matplotlib.org/tutorials/index.html\n"
   ]
  }
 ],
 "metadata": {
  "colab": {
   "collapsed_sections": [],
   "name": "Aula de Visualização de Dados com Matplotlib.ipynb",
   "provenance": []
  },
  "kernelspec": {
   "display_name": "Python 3",
   "language": "python",
   "name": "python3"
  },
  "language_info": {
   "codemirror_mode": {
    "name": "ipython",
    "version": 3
   },
   "file_extension": ".py",
   "mimetype": "text/x-python",
   "name": "python",
   "nbconvert_exporter": "python",
   "pygments_lexer": "ipython3",
   "version": "3.7.8"
  }
 },
 "nbformat": 4,
 "nbformat_minor": 1
}
