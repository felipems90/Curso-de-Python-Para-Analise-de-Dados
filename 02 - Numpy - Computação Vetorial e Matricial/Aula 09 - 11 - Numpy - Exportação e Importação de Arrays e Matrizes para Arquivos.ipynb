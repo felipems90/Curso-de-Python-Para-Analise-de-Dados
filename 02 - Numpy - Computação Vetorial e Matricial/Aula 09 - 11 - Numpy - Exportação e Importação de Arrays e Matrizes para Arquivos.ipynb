{
 "cells": [
  {
   "cell_type": "markdown",
   "metadata": {
    "id": "uGqJJfZ36iR6"
   },
   "source": [
    "# 02 - Numpy - Computação Vetorial e Matricial\n",
    "## Aula 09 - 11 - Numpy - Exportação e Importação de Arrays e Matrizes para Arquivos"
   ]
  },
  {
   "cell_type": "markdown",
   "metadata": {
    "id": "JNifjo59P9mf"
   },
   "source": [
    "## Professor: Orlando Oliveira dos Santos, MsC.\n",
    " - E-mail: professor.orlando.santos@gmail.com \n",
    " - Youtube :https://www.youtube.com/channel/UCPWWbkPWFmOjXH50TQWNAYg\n",
    " - Linkedin: https://linkedin.com/in/orlandoosantos\n",
    " - Facebook: https://www.facebook.com/proforlandosantosmsc/\n",
    " - Twitter: https://twitter.com/ProfOrlandoMsC\n",
    " - Instagram: https://www.instagram.com/proforlandosantosmsc/\n",
    "\n",
    "\n",
    "\n",
    "## Formação Acadêmica\n",
    "- Mestrado em Computação Aplicada - UnB (2014 – 2016)\t\n",
    "- MBA, Administração Estratégica de Sistemas de Informação – FGV (2011 – 2013)\n",
    "- Tecnólogo em Processamento de Dados, Análise e Desenvolvimento de Sistemas – FAETEC/SP (2000-2002)"
   ]
  },
  {
   "cell_type": "markdown",
   "metadata": {
    "id": "-wttXmB0JYuh"
   },
   "source": [
    "# Numpy - Exportação e Importação de Arrays e Matrizes para Arquivos"
   ]
  },
  {
   "cell_type": "markdown",
   "metadata": {
    "id": "jSl18ZEeC-dP"
   },
   "source": [
    "## Salvando Arrays em arquivos\n"
   ]
  },
  {
   "cell_type": "code",
   "execution_count": 1,
   "metadata": {
    "colab": {
     "base_uri": "https://localhost:8080/"
    },
    "executionInfo": {
     "elapsed": 732,
     "status": "ok",
     "timestamp": 1605575164856,
     "user": {
      "displayName": "Orlando O. S.",
      "photoUrl": "https://lh3.googleusercontent.com/a-/AOh14Gj-E1yuy1M_3ruwN4TWYPK4BwysauSW7GQmHheS=s64",
      "userId": "15066502291703974467"
     },
     "user_tz": 180
    },
    "id": "2AwCzqrqDhDd",
    "outputId": "79e19af1-cdd4-481f-e4d3-30e265cccc4c"
   },
   "outputs": [
    {
     "name": "stdout",
     "output_type": "stream",
     "text": [
      "[[54 68 35 29 30]\n",
      " [50 15 43 40 21]\n",
      " [29 33 37 52 15]\n",
      " [54 40 51 28 44]\n",
      " [22 13 14 36 49]]\n"
     ]
    }
   ],
   "source": [
    "import numpy as np\n",
    "from numpy import random\n",
    "\n",
    "meu_array =random.randint(10,70, size=(5, 5)) \n",
    "\n",
    "print(meu_array)\n",
    "\n",
    "np.savetxt(\"array.csv\", meu_array, delimiter=\";\", fmt='%s')"
   ]
  },
  {
   "cell_type": "code",
   "execution_count": 2,
   "metadata": {
    "colab": {
     "base_uri": "https://localhost:8080/"
    },
    "executionInfo": {
     "elapsed": 748,
     "status": "ok",
     "timestamp": 1605575207395,
     "user": {
      "displayName": "Orlando O. S.",
      "photoUrl": "https://lh3.googleusercontent.com/a-/AOh14Gj-E1yuy1M_3ruwN4TWYPK4BwysauSW7GQmHheS=s64",
      "userId": "15066502291703974467"
     },
     "user_tz": 180
    },
    "id": "zYzWyCo5ETey",
    "outputId": "7c434f51-d55c-4437-99c1-69a00db266a3"
   },
   "outputs": [
    {
     "name": "stdout",
     "output_type": "stream",
     "text": [
      "54;68;35;29;30\n",
      "50;15;43;40;21\n",
      "29;33;37;52;15\n",
      "54;40;51;28;44\n",
      "22;13;14;36;49\n",
      "\n"
     ]
    }
   ],
   "source": [
    "with open(\"array.csv\") as f:\n",
    "  print(f.read())"
   ]
  },
  {
   "cell_type": "markdown",
   "metadata": {
    "id": "XsASVlDADj2v"
   },
   "source": [
    "## Carregando Arrays a partir de Arquivos"
   ]
  },
  {
   "cell_type": "code",
   "execution_count": 3,
   "metadata": {
    "colab": {
     "base_uri": "https://localhost:8080/"
    },
    "executionInfo": {
     "elapsed": 747,
     "status": "ok",
     "timestamp": 1605575278231,
     "user": {
      "displayName": "Orlando O. S.",
      "photoUrl": "https://lh3.googleusercontent.com/a-/AOh14Gj-E1yuy1M_3ruwN4TWYPK4BwysauSW7GQmHheS=s64",
      "userId": "15066502291703974467"
     },
     "user_tz": 180
    },
    "id": "3sfb4oXWDlD0",
    "outputId": "04e29403-f53e-4a50-9770-4a8b9a66e0b7",
    "scrolled": true
   },
   "outputs": [
    {
     "name": "stdout",
     "output_type": "stream",
     "text": [
      "[[54. 68. 35. 29. 30.]\n",
      " [50. 15. 43. 40. 21.]\n",
      " [29. 33. 37. 52. 15.]\n",
      " [54. 40. 51. 28. 44.]\n",
      " [22. 13. 14. 36. 49.]]\n"
     ]
    }
   ],
   "source": [
    "import numpy as np\n",
    "novo_arr = np.loadtxt('array.csv', delimiter=';', skiprows=0 , dtype=float)\n",
    "print(novo_arr)"
   ]
  },
  {
   "cell_type": "markdown",
   "metadata": {
    "id": "DX9JWKhxX1xn"
   },
   "source": [
    "## Leituras Adicionais e Referências:\n",
    "\n",
    "- Python Tutorial at W3Schools: https://www.w3schools.com/python/\n",
    "- Python official documentation: https://docs.python.org/3/tutorial/index.html\n",
    "- NumPy v1.19 Manual: https://numpy.org/doc/stable/\n"
   ]
  }
 ],
 "metadata": {
  "colab": {
   "collapsed_sections": [],
   "name": "Aula 07 Introdução à Linguagem de Python para Analytics e Data Science.ipynb",
   "provenance": []
  },
  "kernelspec": {
   "display_name": "Python 3",
   "language": "python",
   "name": "python3"
  },
  "language_info": {
   "codemirror_mode": {
    "name": "ipython",
    "version": 3
   },
   "file_extension": ".py",
   "mimetype": "text/x-python",
   "name": "python",
   "nbconvert_exporter": "python",
   "pygments_lexer": "ipython3",
   "version": "3.7.8"
  }
 },
 "nbformat": 4,
 "nbformat_minor": 1
}
