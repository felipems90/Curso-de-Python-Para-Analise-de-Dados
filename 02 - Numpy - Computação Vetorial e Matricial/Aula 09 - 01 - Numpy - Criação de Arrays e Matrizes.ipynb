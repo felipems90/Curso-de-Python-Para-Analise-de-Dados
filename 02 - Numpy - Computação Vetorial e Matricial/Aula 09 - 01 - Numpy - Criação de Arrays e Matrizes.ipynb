{
 "cells": [
  {
   "cell_type": "markdown",
   "metadata": {
    "id": "uGqJJfZ36iR6"
   },
   "source": [
    "# 02 - Numpy - Computação Vetorial e Matricial\n",
    "## Aula 09 - 01 - Numpy - Criação de Arrays e Matrizes"
   ]
  },
  {
   "cell_type": "markdown",
   "metadata": {
    "id": "JNifjo59P9mf"
   },
   "source": [
    "## Professor: Orlando Oliveira dos Santos, MsC.\n",
    " - E-mail: professor.orlando.santos@gmail.com \n",
    " - Youtube :https://www.youtube.com/channel/UCPWWbkPWFmOjXH50TQWNAYg\n",
    " - Linkedin: https://linkedin.com/in/orlandoosantos\n",
    " - Facebook: https://www.facebook.com/proforlandosantosmsc/\n",
    " - Twitter: https://twitter.com/ProfOrlandoMsC\n",
    " - Instagram: https://www.instagram.com/proforlandosantosmsc/\n",
    "\n",
    "\n",
    "\n",
    "## Formação Acadêmica\n",
    "- Mestrado em Computação Aplicada - UnB (2014 – 2016)\t\n",
    "- MBA, Administração Estratégica de Sistemas de Informação – FGV (2011 – 2013)\n",
    "- Tecnólogo em Processamento de Dados, Análise e Desenvolvimento de Sistemas – FAETEC/SP (2000-2002)"
   ]
  },
  {
   "cell_type": "markdown",
   "metadata": {
    "id": "-wttXmB0JYuh"
   },
   "source": [
    "# Numpy - Criação de Arrays e Matrizes"
   ]
  },
  {
   "cell_type": "markdown",
   "metadata": {
    "id": "zIeytrHNvP06"
   },
   "source": [
    "# NumPy (Numerical Python)\n",
    "- Biblioteca python usada para trabalhar com álgebra linear, arrays e matrizes.\n",
    "- Criada em 2005 por Travis Oliphant como projeto de código aberto. \n",
    "- Fornecer um objeto de matriz que é até 50x mais rápido que as listas tradicionais do Python\n",
    "  - Array NumPy é armazenados em um local contínuo na memória;\n",
    "  - É otimizado para funcionar com as arquiteturas de CPU mais recentes;\n",
    "  - Utiliza tipos fixos;\n",
    "  - Demandam menos espaço de memória para mesma quantidade de elementos;\n",
    "  - SIMD - Processamento vetores Single instruction, multiple data (SIMD);\n",
    "  - Utilização eficente de cache do processador\n",
    "  - Mais versatilidade nas operações com arrays (ex. multiplicação)\n",
    "  - Utilizado como base para calculos matemáticos, Plotagem de gráficos (Matplotlib), backend do pandas, base para algoritmos de machine learning.\n",
    "- É codificado parcialmente em Python, mas a maioria das partes que requerem computação rápida são escritas em C ou C ++.\n",
    "- O objeto array em NumPy é chamado ndarray.\n",
    "- O ndarray fornece várias funções de suporte que facilitam muito se uso.\n",
    "- São indicados para situações em que velocidade e recursos são muito importantes.\n",
    "\n",
    "## Importância do Numpy\n",
    "### Aplicativos Numpy com outras bibliotecas\n",
    "\n",
    "###NumPy com Pandas\n",
    "\n",
    "Pandas é uma das bibliotecas mais importantes em Python para análise de dados, fornece recuros de  alto desempenho para tratamento e análise de dados. \n",
    "O Dataframe do Pandas utiliza o NumPy para cálculos mais rápidos. \n",
    "\n",
    "### NumPy com Matplotlib\n",
    "\n",
    "É uma ferramenta muito útil para trabalhar com representações gráficas. Consiste em uma ampla gama de funções para traçar gráficos e também manipulá-los. O Matplot utiliza também adota o NumPy entre suas dependencias.\n",
    "\n",
    "### NumPy com SciPy\n",
    "\n",
    "Scipy é  biblioteca científica mais importante em python. Ele foi construído sobre as funcionalidades do NumPy, com funcionalidades avançadas no SciPy para cálculos científicos com maior desempenho matemático.\n",
    "\n",
    "\n",
    "## Instalação de NumPy\n",
    "Usar o comando \n",
    "\n",
    "```\n",
    "pip install numpy\n",
    "\n",
    "```\n",
    "\n",
    "\n",
    "## Importar NumPy\n",
    "```\n",
    "import numpy\n",
    "\n",
    "```\n"
   ]
  },
  {
   "cell_type": "code",
   "execution_count": 1,
   "metadata": {
    "colab": {
     "base_uri": "https://localhost:8080/"
    },
    "executionInfo": {
     "elapsed": 1578,
     "status": "ok",
     "timestamp": 1605310533010,
     "user": {
      "displayName": "Orlando O. S.",
      "photoUrl": "https://lh3.googleusercontent.com/a-/AOh14Gj-E1yuy1M_3ruwN4TWYPK4BwysauSW7GQmHheS=s64",
      "userId": "15066502291703974467"
     },
     "user_tz": 180
    },
    "id": "gLr-TFpNvP08",
    "outputId": "977e7e08-b2fd-42d4-b36d-4b9f34ccb573"
   },
   "outputs": [
    {
     "name": "stdout",
     "output_type": "stream",
     "text": [
      "[ 10  20  30  40  50  60  70  80  90 100]\n"
     ]
    }
   ],
   "source": [
    "import numpy\n",
    "\n",
    "meu_array = numpy.array([10, 20, 30, 40, 50, 60, 70, 80, 90, 100])\n",
    "\n",
    "print(meu_array)"
   ]
  },
  {
   "cell_type": "markdown",
   "metadata": {
    "id": "iuq_q3LTvP1C"
   },
   "source": [
    "## Padrão de importação do NumPy com o alias np\n"
   ]
  },
  {
   "cell_type": "code",
   "execution_count": 2,
   "metadata": {
    "colab": {
     "base_uri": "https://localhost:8080/"
    },
    "executionInfo": {
     "elapsed": 1579,
     "status": "ok",
     "timestamp": 1605310553723,
     "user": {
      "displayName": "Orlando O. S.",
      "photoUrl": "https://lh3.googleusercontent.com/a-/AOh14Gj-E1yuy1M_3ruwN4TWYPK4BwysauSW7GQmHheS=s64",
      "userId": "15066502291703974467"
     },
     "user_tz": 180
    },
    "id": "yeBB7ixBvP1D",
    "outputId": "a9832c60-10de-4813-c9b0-664ecf131a06"
   },
   "outputs": [
    {
     "name": "stdout",
     "output_type": "stream",
     "text": [
      "[ 10  20  30  40  50  60  70  80  90 100]\n"
     ]
    }
   ],
   "source": [
    "import numpy as np\n",
    "\n",
    "meu_array = np.array([10, 20, 30, 40, 50, 60, 70, 80, 90, 100])\n",
    "\n",
    "print(meu_array)"
   ]
  },
  {
   "cell_type": "markdown",
   "metadata": {
    "id": "XMnDNZi6vP1O"
   },
   "source": [
    "## Como checar a versão do NumPy\n",
    "Acessar o propriedade __version__ do pacote."
   ]
  },
  {
   "cell_type": "code",
   "execution_count": 3,
   "metadata": {
    "colab": {
     "base_uri": "https://localhost:8080/"
    },
    "executionInfo": {
     "elapsed": 1422,
     "status": "ok",
     "timestamp": 1605310571312,
     "user": {
      "displayName": "Orlando O. S.",
      "photoUrl": "https://lh3.googleusercontent.com/a-/AOh14Gj-E1yuy1M_3ruwN4TWYPK4BwysauSW7GQmHheS=s64",
      "userId": "15066502291703974467"
     },
     "user_tz": 180
    },
    "id": "E_t8pnFBvP1P",
    "outputId": "159fafe4-54f5-488e-d26a-5d54ecdf22f2"
   },
   "outputs": [
    {
     "name": "stdout",
     "output_type": "stream",
     "text": [
      "1.21.0\n"
     ]
    }
   ],
   "source": [
    "import numpy as np\n",
    "\n",
    "print(np.__version__)"
   ]
  },
  {
   "cell_type": "markdown",
   "metadata": {
    "id": "aMN-1sxevP1U"
   },
   "source": [
    "## Criando matrizes\n",
    "- O objeto de matriz em NumPy é chamado ndarray.\n",
    "- Usar a função array() para criar a matriz.\n"
   ]
  },
  {
   "cell_type": "code",
   "execution_count": 4,
   "metadata": {
    "colab": {
     "base_uri": "https://localhost:8080/"
    },
    "executionInfo": {
     "elapsed": 862,
     "status": "ok",
     "timestamp": 1605310680644,
     "user": {
      "displayName": "Orlando O. S.",
      "photoUrl": "https://lh3.googleusercontent.com/a-/AOh14Gj-E1yuy1M_3ruwN4TWYPK4BwysauSW7GQmHheS=s64",
      "userId": "15066502291703974467"
     },
     "user_tz": 180
    },
    "id": "ZK-UKt_evP1V",
    "outputId": "eb2bf8b1-12a2-4c0c-9273-281cecdec4b9"
   },
   "outputs": [
    {
     "name": "stdout",
     "output_type": "stream",
     "text": [
      "['10' '20' '30' '40' '50' '60' '70' '80' '90' '100']\n",
      "<class 'numpy.ndarray'>\n"
     ]
    },
    {
     "data": {
      "text/plain": [
       "dtype('<U11')"
      ]
     },
     "execution_count": 4,
     "metadata": {},
     "output_type": "execute_result"
    }
   ],
   "source": [
    "import numpy as np\n",
    "\n",
    "meu_array = np.array([10, 20, 30, '40', 50, 60, 70, 80, 90, 100])\n",
    "\n",
    "print(meu_array)\n",
    "\n",
    "print(type(meu_array))\n",
    "\n",
    "meu_array.dtype"
   ]
  },
  {
   "cell_type": "markdown",
   "metadata": {
    "id": "boJkiYrqvP1a"
   },
   "source": [
    "Pode-se passar  lista, tupla ou qualquer objeto do tipo array para a função array()\n",
    "\n",
    "### Usando uma tupla para criar uma matriz NumPy:\n"
   ]
  },
  {
   "cell_type": "code",
   "execution_count": 5,
   "metadata": {
    "colab": {
     "base_uri": "https://localhost:8080/"
    },
    "executionInfo": {
     "elapsed": 953,
     "status": "ok",
     "timestamp": 1605310714482,
     "user": {
      "displayName": "Orlando O. S.",
      "photoUrl": "https://lh3.googleusercontent.com/a-/AOh14Gj-E1yuy1M_3ruwN4TWYPK4BwysauSW7GQmHheS=s64",
      "userId": "15066502291703974467"
     },
     "user_tz": 180
    },
    "id": "6oYSKpiXDbmJ",
    "outputId": "155f24a9-4cec-45a5-9aad-91a8d5d4be81"
   },
   "outputs": [
    {
     "name": "stdout",
     "output_type": "stream",
     "text": [
      "[ 10  20  30  40  50  60  70  80  90 100]\n",
      "<class 'numpy.ndarray'>\n"
     ]
    }
   ],
   "source": [
    "import numpy as np\n",
    "\n",
    "meu_array = np.array((10, 20, 30, 40, 50, 60, 70, 80, 90, 100))\n",
    "\n",
    "print(meu_array)\n",
    "\n",
    "print(type(meu_array))"
   ]
  },
  {
   "cell_type": "markdown",
   "metadata": {
    "id": "ELLf1BRPDSmJ"
   },
   "source": [
    "### Usando um set para criar uma matriz NumPy:"
   ]
  },
  {
   "cell_type": "code",
   "execution_count": 6,
   "metadata": {
    "colab": {
     "base_uri": "https://localhost:8080/"
    },
    "executionInfo": {
     "elapsed": 811,
     "status": "ok",
     "timestamp": 1605310725064,
     "user": {
      "displayName": "Orlando O. S.",
      "photoUrl": "https://lh3.googleusercontent.com/a-/AOh14Gj-E1yuy1M_3ruwN4TWYPK4BwysauSW7GQmHheS=s64",
      "userId": "15066502291703974467"
     },
     "user_tz": 180
    },
    "id": "-AVSGuclvP1b",
    "outputId": "4814fe50-a1e9-4ab7-cbd9-5edc2775c3fb"
   },
   "outputs": [
    {
     "name": "stdout",
     "output_type": "stream",
     "text": [
      "{100, 70, 40, 10, 80, 50, 20, 90, 60, 30}\n",
      "<class 'numpy.ndarray'>\n"
     ]
    }
   ],
   "source": [
    "import numpy as np\n",
    "\n",
    "meu_array = np.array({10, 20, 30, 40, 50, 60, 70, 80, 90, 100})\n",
    "\n",
    "print(meu_array)\n",
    "\n",
    "print(type(meu_array))"
   ]
  },
  {
   "cell_type": "markdown",
   "metadata": {
    "id": "jbY4KlMIvP1e"
   },
   "source": [
    "## Dimensões em matrizes\n",
    "### Matrizes 0-D\n",
    "- Matrizes 0-D, ou escalares, são os elementos de uma matriz.\n",
    "- Cada valor em uma matriz é uma matriz 0-D.\n"
   ]
  },
  {
   "cell_type": "code",
   "execution_count": 7,
   "metadata": {
    "colab": {
     "base_uri": "https://localhost:8080/"
    },
    "executionInfo": {
     "elapsed": 995,
     "status": "ok",
     "timestamp": 1605310751077,
     "user": {
      "displayName": "Orlando O. S.",
      "photoUrl": "https://lh3.googleusercontent.com/a-/AOh14Gj-E1yuy1M_3ruwN4TWYPK4BwysauSW7GQmHheS=s64",
      "userId": "15066502291703974467"
     },
     "user_tz": 180
    },
    "id": "ko4szMrWvP1f",
    "outputId": "c5eab4ec-6e28-41f1-9629-6e9b655aabd5"
   },
   "outputs": [
    {
     "name": "stdout",
     "output_type": "stream",
     "text": [
      "100\n",
      "<class 'numpy.ndarray'>\n"
     ]
    }
   ],
   "source": [
    "import numpy as np\n",
    "\n",
    "meu_array = np.array(100)\n",
    "\n",
    "print(meu_array)\n",
    "\n",
    "print(type(meu_array))"
   ]
  },
  {
   "cell_type": "markdown",
   "metadata": {
    "id": "Wd92M3LsvP1i"
   },
   "source": [
    "### Matrizes 1-D ou unidimensional\n",
    "Matriz que possui matrizes 0-D como seus elementos. São os arrays mais comuns e básicos.\n",
    "\n"
   ]
  },
  {
   "cell_type": "code",
   "execution_count": 8,
   "metadata": {
    "colab": {
     "base_uri": "https://localhost:8080/"
    },
    "executionInfo": {
     "elapsed": 1006,
     "status": "ok",
     "timestamp": 1605310766397,
     "user": {
      "displayName": "Orlando O. S.",
      "photoUrl": "https://lh3.googleusercontent.com/a-/AOh14Gj-E1yuy1M_3ruwN4TWYPK4BwysauSW7GQmHheS=s64",
      "userId": "15066502291703974467"
     },
     "user_tz": 180
    },
    "id": "a719aKegvP1i",
    "outputId": "475ef3a7-2d89-46fd-ac88-3cdeb8aa729b"
   },
   "outputs": [
    {
     "name": "stdout",
     "output_type": "stream",
     "text": [
      "[ 10  20  30  40  50  60  70  80  90 100]\n",
      "<class 'numpy.ndarray'>\n"
     ]
    }
   ],
   "source": [
    "import numpy as np\n",
    "\n",
    "meu_array = np.array([10, 20, 30, 40, 50, 60, 70, 80, 90, 100])\n",
    "\n",
    "print(meu_array)\n",
    "\n",
    "print(type(meu_array))"
   ]
  },
  {
   "cell_type": "markdown",
   "metadata": {
    "id": "Xle3QNzrMQq1"
   },
   "source": [
    "### Utilizam tipos fixos para todos os elementos\n",
    "Os tipos serão convertidos para sejam do mesmo tipo\n"
   ]
  },
  {
   "cell_type": "code",
   "execution_count": 9,
   "metadata": {
    "colab": {
     "base_uri": "https://localhost:8080/"
    },
    "executionInfo": {
     "elapsed": 954,
     "status": "ok",
     "timestamp": 1605310812001,
     "user": {
      "displayName": "Orlando O. S.",
      "photoUrl": "https://lh3.googleusercontent.com/a-/AOh14Gj-E1yuy1M_3ruwN4TWYPK4BwysauSW7GQmHheS=s64",
      "userId": "15066502291703974467"
     },
     "user_tz": 180
    },
    "id": "KVfRfdGPMD_p",
    "outputId": "9db5c613-1cff-49e4-8288-66ac1c2de394"
   },
   "outputs": [
    {
     "name": "stdout",
     "output_type": "stream",
     "text": [
      "[ 10.   20.   30.   40.5  50.5  60.5  70.5  80.   90.  100. ]\n",
      "<class 'numpy.ndarray'>\n"
     ]
    }
   ],
   "source": [
    "import numpy as np\n",
    "\n",
    "meu_array = np.array([10, 20, 30, 40.5, 50.5, 60.5, 70.5, 80, 90, 100])\n",
    "\n",
    "print(meu_array)\n",
    "\n",
    "print(type(meu_array))"
   ]
  },
  {
   "cell_type": "code",
   "execution_count": 10,
   "metadata": {
    "colab": {
     "base_uri": "https://localhost:8080/"
    },
    "executionInfo": {
     "elapsed": 1092,
     "status": "ok",
     "timestamp": 1605310814654,
     "user": {
      "displayName": "Orlando O. S.",
      "photoUrl": "https://lh3.googleusercontent.com/a-/AOh14Gj-E1yuy1M_3ruwN4TWYPK4BwysauSW7GQmHheS=s64",
      "userId": "15066502291703974467"
     },
     "user_tz": 180
    },
    "id": "vNK8ryjCMl5-",
    "outputId": "2fd1f8a6-ebc9-4efb-ac30-7c8239615afe"
   },
   "outputs": [
    {
     "name": "stdout",
     "output_type": "stream",
     "text": [
      "['10' '20' '30' '40.5' '50.5' '60.5' '70.5' '80' '90' '100']\n",
      "<class 'numpy.ndarray'>\n"
     ]
    }
   ],
   "source": [
    "import numpy as np\n",
    "\n",
    "meu_array = np.array([10, 20, 30, 40.5, 50.5, 60.5, 70.5, '80', '90', '100'])\n",
    "\n",
    "print(meu_array)\n",
    "\n",
    "print(type(meu_array))"
   ]
  },
  {
   "cell_type": "markdown",
   "metadata": {
    "id": "JFqXUt80vP1l"
   },
   "source": [
    "### Matrizes 2-D\n",
    "Matriz que possui matrizes 1-D como seus elementos, geralmente usada para representar matrizes."
   ]
  },
  {
   "cell_type": "code",
   "execution_count": 11,
   "metadata": {
    "colab": {
     "base_uri": "https://localhost:8080/"
    },
    "executionInfo": {
     "elapsed": 902,
     "status": "ok",
     "timestamp": 1605310895778,
     "user": {
      "displayName": "Orlando O. S.",
      "photoUrl": "https://lh3.googleusercontent.com/a-/AOh14Gj-E1yuy1M_3ruwN4TWYPK4BwysauSW7GQmHheS=s64",
      "userId": "15066502291703974467"
     },
     "user_tz": 180
    },
    "id": "8VjCYgEzvP1m",
    "outputId": "311fdc9f-ebe2-404f-a46c-55cd5f013e72"
   },
   "outputs": [
    {
     "name": "stdout",
     "output_type": "stream",
     "text": [
      "[[10 20 30]\n",
      " [40 50 60]]\n",
      "<class 'numpy.ndarray'>\n"
     ]
    }
   ],
   "source": [
    "import numpy as np\n",
    "\n",
    "meu_array = np.array([\n",
    "                      [10, 20, 30], \n",
    "                      [40, 50, 60]\n",
    "                      ])\n",
    "\n",
    "print(meu_array)\n",
    "\n",
    "print(type(meu_array))"
   ]
  },
  {
   "cell_type": "markdown",
   "metadata": {
    "id": "0Bqt6Y4zvP1p"
   },
   "source": [
    "## Arrays 3-D\n",
    "Array que possui arrays 2-D (matrizes) como seus elementos.\n"
   ]
  },
  {
   "cell_type": "code",
   "execution_count": 12,
   "metadata": {
    "colab": {
     "base_uri": "https://localhost:8080/"
    },
    "executionInfo": {
     "elapsed": 1097,
     "status": "ok",
     "timestamp": 1605310960383,
     "user": {
      "displayName": "Orlando O. S.",
      "photoUrl": "https://lh3.googleusercontent.com/a-/AOh14Gj-E1yuy1M_3ruwN4TWYPK4BwysauSW7GQmHheS=s64",
      "userId": "15066502291703974467"
     },
     "user_tz": 180
    },
    "id": "OdcwzCwgvP1p",
    "outputId": "f080b86a-fb3f-4dc3-ed7d-41c5516f1061"
   },
   "outputs": [
    {
     "name": "stdout",
     "output_type": "stream",
     "text": [
      "[[[10 20 30]\n",
      "  [40 50 60]]\n",
      "\n",
      " [[10 20 30]\n",
      "  [40 50 60]]]\n",
      "<class 'numpy.ndarray'>\n"
     ]
    }
   ],
   "source": [
    "import numpy as np\n",
    "\n",
    "meu_array = np.array([\n",
    "                      [\n",
    "                       [10, 20, 30], \n",
    "                       [40, 50, 60]\n",
    "                       ], \n",
    "                      [\n",
    "                       [10, 20, 30], \n",
    "                       [40, 50, 60]\n",
    "                       ]\n",
    "                      ])\n",
    "\n",
    "print(meu_array)\n",
    "\n",
    "print(type(meu_array))"
   ]
  },
  {
   "cell_type": "markdown",
   "metadata": {
    "id": "rQtfQ2AQvP1s"
   },
   "source": [
    "### Obtendo a quantidade de dimensões do array\n",
    "- Utilize o atributo do objeto ndarray."
   ]
  },
  {
   "cell_type": "code",
   "execution_count": 13,
   "metadata": {
    "colab": {
     "base_uri": "https://localhost:8080/"
    },
    "executionInfo": {
     "elapsed": 1578,
     "status": "ok",
     "timestamp": 1605310979511,
     "user": {
      "displayName": "Orlando O. S.",
      "photoUrl": "https://lh3.googleusercontent.com/a-/AOh14Gj-E1yuy1M_3ruwN4TWYPK4BwysauSW7GQmHheS=s64",
      "userId": "15066502291703974467"
     },
     "user_tz": 180
    },
    "id": "WBi9ZN_iGSbg",
    "outputId": "7d0e7827-3149-46e4-bb74-01d39fcf41ed"
   },
   "outputs": [
    {
     "name": "stdout",
     "output_type": "stream",
     "text": [
      "0\n"
     ]
    }
   ],
   "source": [
    "import numpy as np\n",
    "\n",
    "meu_array = np.array(42)\n",
    "\n",
    "print(meu_array.ndim)\n"
   ]
  },
  {
   "cell_type": "code",
   "execution_count": 14,
   "metadata": {
    "colab": {
     "base_uri": "https://localhost:8080/"
    },
    "executionInfo": {
     "elapsed": 1244,
     "status": "ok",
     "timestamp": 1605310986973,
     "user": {
      "displayName": "Orlando O. S.",
      "photoUrl": "https://lh3.googleusercontent.com/a-/AOh14Gj-E1yuy1M_3ruwN4TWYPK4BwysauSW7GQmHheS=s64",
      "userId": "15066502291703974467"
     },
     "user_tz": 180
    },
    "id": "mQdk6PVRGTAq",
    "outputId": "371537f9-6336-4757-a50b-ca940ad8549b"
   },
   "outputs": [
    {
     "name": "stdout",
     "output_type": "stream",
     "text": [
      "1\n"
     ]
    }
   ],
   "source": [
    "import numpy as np\n",
    "\n",
    "meu_array = np.array([10, 20, 30, 40, 50, 60, 70, 80, 90, 100])\n",
    "\n",
    "print(meu_array.ndim)"
   ]
  },
  {
   "cell_type": "code",
   "execution_count": 15,
   "metadata": {
    "colab": {
     "base_uri": "https://localhost:8080/"
    },
    "executionInfo": {
     "elapsed": 1114,
     "status": "ok",
     "timestamp": 1605311012566,
     "user": {
      "displayName": "Orlando O. S.",
      "photoUrl": "https://lh3.googleusercontent.com/a-/AOh14Gj-E1yuy1M_3ruwN4TWYPK4BwysauSW7GQmHheS=s64",
      "userId": "15066502291703974467"
     },
     "user_tz": 180
    },
    "id": "GQ6goQmRGTTv",
    "outputId": "05f075a0-9341-4a33-c466-6c23dd2ecc95"
   },
   "outputs": [
    {
     "name": "stdout",
     "output_type": "stream",
     "text": [
      "2\n"
     ]
    }
   ],
   "source": [
    "import numpy as np\n",
    "\n",
    "meu_array = np.array([\n",
    "                      [10, 20, 30], \n",
    "                      [40, 50, 60]\n",
    "                      ])\n",
    "\n",
    "print(meu_array.ndim)"
   ]
  },
  {
   "cell_type": "code",
   "execution_count": 16,
   "metadata": {
    "colab": {
     "base_uri": "https://localhost:8080/"
    },
    "executionInfo": {
     "elapsed": 1011,
     "status": "ok",
     "timestamp": 1605311027694,
     "user": {
      "displayName": "Orlando O. S.",
      "photoUrl": "https://lh3.googleusercontent.com/a-/AOh14Gj-E1yuy1M_3ruwN4TWYPK4BwysauSW7GQmHheS=s64",
      "userId": "15066502291703974467"
     },
     "user_tz": 180
    },
    "id": "0-ji-o-hGSwK",
    "outputId": "915f7937-e094-4416-de3d-c52f12a85d7b"
   },
   "outputs": [
    {
     "name": "stdout",
     "output_type": "stream",
     "text": [
      "3\n"
     ]
    }
   ],
   "source": [
    "import numpy as np\n",
    "\n",
    "meu_array = np.array([[\n",
    "                       [10, 20, 30], [40, 50, 60]\n",
    "                       ], \n",
    "                      [\n",
    "                       [10, 20, 30], [40, 50, 60]\n",
    "                       ]\n",
    "                      ])\n",
    "\n",
    "print(meu_array.ndim)"
   ]
  },
  {
   "cell_type": "markdown",
   "metadata": {
    "id": "6RvK4gNIvP1w"
   },
   "source": [
    "## Matrizes com muitas dimensões\n",
    "- Uma matriz pode ser criada com qualquer número de dimensões, usando o argumento ndmin."
   ]
  },
  {
   "cell_type": "code",
   "execution_count": 17,
   "metadata": {
    "colab": {
     "base_uri": "https://localhost:8080/"
    },
    "executionInfo": {
     "elapsed": 1091,
     "status": "ok",
     "timestamp": 1605311139713,
     "user": {
      "displayName": "Orlando O. S.",
      "photoUrl": "https://lh3.googleusercontent.com/a-/AOh14Gj-E1yuy1M_3ruwN4TWYPK4BwysauSW7GQmHheS=s64",
      "userId": "15066502291703974467"
     },
     "user_tz": 180
    },
    "id": "YwyEOuR7vP1w",
    "outputId": "9982a009-1722-413a-b068-ea1bf3d15d54"
   },
   "outputs": [
    {
     "name": "stdout",
     "output_type": "stream",
     "text": [
      "[[[[[21 22 23 24 25]]]]]\n",
      "5\n"
     ]
    }
   ],
   "source": [
    "import numpy as np\n",
    "\n",
    "meu_array = np.array([21, 22, 23, 24, 25], ndmin=5)\n",
    "\n",
    "print(meu_array)\n",
    "\n",
    "print(meu_array.ndim)"
   ]
  },
  {
   "cell_type": "markdown",
   "metadata": {
    "id": "rI7RQqJF9FrA"
   },
   "source": [
    "## Criando arrays vazios ou com valores predefinidos"
   ]
  },
  {
   "cell_type": "markdown",
   "metadata": {
    "id": "qoOd4gaa9q-R"
   },
   "source": [
    "- sem valor indicar valor prededfinido"
   ]
  },
  {
   "cell_type": "code",
   "execution_count": 18,
   "metadata": {
    "colab": {
     "base_uri": "https://localhost:8080/"
    },
    "executionInfo": {
     "elapsed": 1176,
     "status": "ok",
     "timestamp": 1605311165202,
     "user": {
      "displayName": "Orlando O. S.",
      "photoUrl": "https://lh3.googleusercontent.com/a-/AOh14Gj-E1yuy1M_3ruwN4TWYPK4BwysauSW7GQmHheS=s64",
      "userId": "15066502291703974467"
     },
     "user_tz": 180
    },
    "id": "5mfWH0sm9NU8",
    "outputId": "f56b8e51-616a-4ec9-f603-8d7815742422"
   },
   "outputs": [
    {
     "name": "stdout",
     "output_type": "stream",
     "text": [
      "[2.12199579e-314 9.27312161e-312 6.32404027e-321 6.95250701e-310]\n",
      "1\n"
     ]
    }
   ],
   "source": [
    "import numpy as np\n",
    "\n",
    "meu_array = np.empty((4,))\n",
    "\n",
    "print(meu_array)\n",
    "\n",
    "print(meu_array.ndim)\n"
   ]
  },
  {
   "cell_type": "code",
   "execution_count": 19,
   "metadata": {
    "colab": {
     "base_uri": "https://localhost:8080/"
    },
    "executionInfo": {
     "elapsed": 1201,
     "status": "ok",
     "timestamp": 1605311229870,
     "user": {
      "displayName": "Orlando O. S.",
      "photoUrl": "https://lh3.googleusercontent.com/a-/AOh14Gj-E1yuy1M_3ruwN4TWYPK4BwysauSW7GQmHheS=s64",
      "userId": "15066502291703974467"
     },
     "user_tz": 180
    },
    "id": "C7R3mjTY9ZRe",
    "outputId": "b5a0372b-a9e5-4bdf-b6dd-d0631f8c95d5"
   },
   "outputs": [
    {
     "name": "stdout",
     "output_type": "stream",
     "text": [
      "[[0.00000000e+000 0.00000000e+000 0.00000000e+000]\n",
      " [0.00000000e+000 0.00000000e+000 8.45840386e-321]\n",
      " [0.00000000e+000 9.27312161e-312 9.27965344e-312]]\n",
      "2\n"
     ]
    }
   ],
   "source": [
    "import numpy as np\n",
    "\n",
    "meu_array = np.empty((3,3))\n",
    "\n",
    "print(meu_array)\n",
    "\n",
    "print(meu_array.ndim)"
   ]
  },
  {
   "cell_type": "markdown",
   "metadata": {
    "id": "EnkGpopI92RS"
   },
   "source": [
    "- indicado 1 como valores"
   ]
  },
  {
   "cell_type": "code",
   "execution_count": 20,
   "metadata": {
    "colab": {
     "base_uri": "https://localhost:8080/"
    },
    "executionInfo": {
     "elapsed": 1086,
     "status": "ok",
     "timestamp": 1605311260017,
     "user": {
      "displayName": "Orlando O. S.",
      "photoUrl": "https://lh3.googleusercontent.com/a-/AOh14Gj-E1yuy1M_3ruwN4TWYPK4BwysauSW7GQmHheS=s64",
      "userId": "15066502291703974467"
     },
     "user_tz": 180
    },
    "id": "vhvj6NRI9ZnP",
    "outputId": "70977e44-a891-44c5-b0de-58c8eb9d1571"
   },
   "outputs": [
    {
     "name": "stdout",
     "output_type": "stream",
     "text": [
      "[[1. 1. 1.]\n",
      " [1. 1. 1.]\n",
      " [1. 1. 1.]]\n",
      "2\n"
     ]
    }
   ],
   "source": [
    "import numpy as np\n",
    "\n",
    "meu_array = np.ones((3,3))\n",
    "\n",
    "print(meu_array)\n",
    "\n",
    "print(meu_array.ndim)"
   ]
  },
  {
   "cell_type": "markdown",
   "metadata": {
    "id": "yMgO1o9w99aB"
   },
   "source": [
    "- Indicando 0 zereo como valores"
   ]
  },
  {
   "cell_type": "code",
   "execution_count": 21,
   "metadata": {
    "colab": {
     "base_uri": "https://localhost:8080/"
    },
    "executionInfo": {
     "elapsed": 837,
     "status": "ok",
     "timestamp": 1605311285072,
     "user": {
      "displayName": "Orlando O. S.",
      "photoUrl": "https://lh3.googleusercontent.com/a-/AOh14Gj-E1yuy1M_3ruwN4TWYPK4BwysauSW7GQmHheS=s64",
      "userId": "15066502291703974467"
     },
     "user_tz": 180
    },
    "id": "2UpaIWSs-CpR",
    "outputId": "486104e8-63c1-4abe-e17b-8ddd7c3214b4"
   },
   "outputs": [
    {
     "name": "stdout",
     "output_type": "stream",
     "text": [
      "[[0. 0. 0. 0. 0.]\n",
      " [0. 0. 0. 0. 0.]\n",
      " [0. 0. 0. 0. 0.]]\n",
      "2\n"
     ]
    }
   ],
   "source": [
    "import numpy as np\n",
    "\n",
    "meu_array = np.zeros((3,5))\n",
    "\n",
    "print(meu_array)\n",
    "\n",
    "print(meu_array.ndim)"
   ]
  },
  {
   "cell_type": "markdown",
   "metadata": {
    "id": "F2aYqAgJ-Gyy"
   },
   "source": [
    "- Indicando o valor desejado"
   ]
  },
  {
   "cell_type": "code",
   "execution_count": 22,
   "metadata": {
    "colab": {
     "base_uri": "https://localhost:8080/"
    },
    "executionInfo": {
     "elapsed": 1073,
     "status": "ok",
     "timestamp": 1605311309662,
     "user": {
      "displayName": "Orlando O. S.",
      "photoUrl": "https://lh3.googleusercontent.com/a-/AOh14Gj-E1yuy1M_3ruwN4TWYPK4BwysauSW7GQmHheS=s64",
      "userId": "15066502291703974467"
     },
     "user_tz": 180
    },
    "id": "cxZMmyHz9ZG9",
    "outputId": "91bcafd7-8dfa-41fe-dc27-df746b36a196"
   },
   "outputs": [
    {
     "name": "stdout",
     "output_type": "stream",
     "text": [
      "[[99 99 99]\n",
      " [99 99 99]\n",
      " [99 99 99]]\n",
      "2\n"
     ]
    }
   ],
   "source": [
    "import numpy as np\n",
    "\n",
    "meu_array = np.full((3,3), 99)\n",
    "\n",
    "print(meu_array)\n",
    "\n",
    "print(meu_array.ndim)\n"
   ]
  },
  {
   "cell_type": "markdown",
   "metadata": {
    "id": "hYUf2LFjI4dc"
   },
   "source": [
    "## Adicionando e removendo elementos \n",
    "### insert(arr, obj, valores [, eixo])\n",
    "Insira valores ao longo do eixo fornecido antes dos índices fornecidos.\n",
    "\n"
   ]
  },
  {
   "cell_type": "code",
   "execution_count": 23,
   "metadata": {
    "colab": {
     "base_uri": "https://localhost:8080/"
    },
    "executionInfo": {
     "elapsed": 1724,
     "status": "ok",
     "timestamp": 1605311422518,
     "user": {
      "displayName": "Orlando O. S.",
      "photoUrl": "https://lh3.googleusercontent.com/a-/AOh14Gj-E1yuy1M_3ruwN4TWYPK4BwysauSW7GQmHheS=s64",
      "userId": "15066502291703974467"
     },
     "user_tz": 180
    },
    "id": "tBdsUnPlJX7t",
    "outputId": "bbe75443-a215-4280-8c70-c336db928324"
   },
   "outputs": [
    {
     "name": "stdout",
     "output_type": "stream",
     "text": [
      "[ 10  20  30  40  50  60  70  80  90 100]\n",
      "[ 10  20  30 888  40  50  60  70  80  90 100]\n",
      "[ 10  20  30  40  50  60  70  80  90 100]\n"
     ]
    }
   ],
   "source": [
    "import numpy as np\n",
    "\n",
    "meu_array = np.array([10, 20, 30, 40, 50, 60, 70, 80, 90, 100])\n",
    "\n",
    "print(meu_array)\n",
    "\n",
    "novo_array = np.insert(meu_array,3,888)\n",
    "\n",
    "print(novo_array)\n",
    "\n",
    "print(meu_array)"
   ]
  },
  {
   "cell_type": "markdown",
   "metadata": {
    "id": "qJ-Twd_SKgLY"
   },
   "source": [
    "### append(arr, valores [, eixo])\n",
    "\n",
    "Acrescente valores ao final de uma matriz.\n",
    "\n"
   ]
  },
  {
   "cell_type": "code",
   "execution_count": 24,
   "metadata": {
    "colab": {
     "base_uri": "https://localhost:8080/"
    },
    "executionInfo": {
     "elapsed": 1376,
     "status": "ok",
     "timestamp": 1605311447290,
     "user": {
      "displayName": "Orlando O. S.",
      "photoUrl": "https://lh3.googleusercontent.com/a-/AOh14Gj-E1yuy1M_3ruwN4TWYPK4BwysauSW7GQmHheS=s64",
      "userId": "15066502291703974467"
     },
     "user_tz": 180
    },
    "id": "dsAGB3tsKgLZ",
    "outputId": "b96e73aa-5b99-4371-84ee-46cc1084de89"
   },
   "outputs": [
    {
     "name": "stdout",
     "output_type": "stream",
     "text": [
      "[ 10  20  30  40  50  60  70  80  90 100]\n",
      "[ 10  20  30  40  50  60  70  80  90 100 888 999]\n",
      "[ 10  20  30  40  50  60  70  80  90 100]\n"
     ]
    }
   ],
   "source": [
    "import numpy as np\n",
    "\n",
    "meu_array = np.array([10, 20, 30, 40, 50, 60, 70, 80, 90, 100])\n",
    "\n",
    "print(meu_array)\n",
    "\n",
    "novo_array = np.append(meu_array,[888,999])\n",
    "\n",
    "print(novo_array)\n",
    "\n",
    "print(meu_array)"
   ]
  },
  {
   "cell_type": "markdown",
   "metadata": {
    "id": "p6BnkLpjLXKH"
   },
   "source": [
    "### delete(arr, obj [, eixo])\n",
    "\n",
    "Retorne uma nova matriz com submatrizes ao longo de um eixo excluído.\n",
    "\n"
   ]
  },
  {
   "cell_type": "code",
   "execution_count": 25,
   "metadata": {
    "colab": {
     "base_uri": "https://localhost:8080/"
    },
    "executionInfo": {
     "elapsed": 716,
     "status": "ok",
     "timestamp": 1605311606042,
     "user": {
      "displayName": "Orlando O. S.",
      "photoUrl": "https://lh3.googleusercontent.com/a-/AOh14Gj-E1yuy1M_3ruwN4TWYPK4BwysauSW7GQmHheS=s64",
      "userId": "15066502291703974467"
     },
     "user_tz": 180
    },
    "id": "mC_C1OAYLXKJ",
    "outputId": "a0e31e0c-e15e-4f5b-86d8-26a026c7f54a"
   },
   "outputs": [
    {
     "name": "stdout",
     "output_type": "stream",
     "text": [
      "[ 10  20  30  40  50  60  70  80  90 100]\n",
      "[ 10  20  30  70  80  90 100]\n",
      "[ 10  20  30  40  50  60  70  80  90 100]\n"
     ]
    }
   ],
   "source": [
    "import numpy as np\n",
    "\n",
    "meu_array = np.array([10, 20, 30, 40, 50, 60, 70, 80, 90, 100])\n",
    "\n",
    "print(meu_array)\n",
    "\n",
    "novo_array = np.delete(meu_array,[3,4,5])\n",
    "\n",
    "print(novo_array)\n",
    "\n",
    "print(meu_array)"
   ]
  },
  {
   "cell_type": "markdown",
   "metadata": {
    "id": "nmMZyufNJFZe"
   },
   "source": [
    "### unique(ar [, return_index, return_inverse,…])\n",
    "\n",
    "Encontre os elementos exclusivos de uma matriz."
   ]
  },
  {
   "cell_type": "code",
   "execution_count": 26,
   "metadata": {
    "colab": {
     "base_uri": "https://localhost:8080/"
    },
    "executionInfo": {
     "elapsed": 834,
     "status": "ok",
     "timestamp": 1605311671492,
     "user": {
      "displayName": "Orlando O. S.",
      "photoUrl": "https://lh3.googleusercontent.com/a-/AOh14Gj-E1yuy1M_3ruwN4TWYPK4BwysauSW7GQmHheS=s64",
      "userId": "15066502291703974467"
     },
     "user_tz": 180
    },
    "id": "GZW_f2CeMc3G",
    "outputId": "8d04bcd8-d096-4c16-e505-b65f80c21e4c"
   },
   "outputs": [
    {
     "name": "stdout",
     "output_type": "stream",
     "text": [
      "[ 10  20  30  40  50  60  70  80  90 100]\n",
      "[ 10  20  30  40  50  60  70  80  90 100  10  20  30  40  50  60  70  80\n",
      "  90 100  10  20  30  40  50  60  70  80  90 100]\n"
     ]
    }
   ],
   "source": [
    "import numpy as np\n",
    "\n",
    "meu_array = np.array([10, 20, 30, 40, 50, 60, 70, 80, 90, 100,10, 20, 30, 40, 50, 60, 70, 80, 90, 100,10, 20, 30, 40, 50, 60, 70, 80, 90, 100])\n",
    "\n",
    "# print(meu_array)\n",
    "\n",
    "novo_array = np.unique(meu_array)\n",
    "\n",
    "print(novo_array)\n",
    "\n",
    "print(meu_array)"
   ]
  },
  {
   "cell_type": "markdown",
   "metadata": {},
   "source": [
    "## Leituras Adicionais e Referências:\n",
    "\n",
    "- Python Tutorial at W3Schools: https://www.w3schools.com/python/\n",
    "- Python official documentation: https://docs.python.org/3/tutorial/index.html\n",
    "- NumPy v1.19 Manual: https://numpy.org/doc/stable/"
   ]
  }
 ],
 "metadata": {
  "colab": {
   "collapsed_sections": [],
   "name": "Aula 07 Introdução à Linguagem de Python para Analytics e Data Science.ipynb",
   "provenance": []
  },
  "kernelspec": {
   "display_name": "Python 3",
   "language": "python",
   "name": "python3"
  },
  "language_info": {
   "codemirror_mode": {
    "name": "ipython",
    "version": 3
   },
   "file_extension": ".py",
   "mimetype": "text/x-python",
   "name": "python",
   "nbconvert_exporter": "python",
   "pygments_lexer": "ipython3",
   "version": "3.7.8"
  }
 },
 "nbformat": 4,
 "nbformat_minor": 1
}
