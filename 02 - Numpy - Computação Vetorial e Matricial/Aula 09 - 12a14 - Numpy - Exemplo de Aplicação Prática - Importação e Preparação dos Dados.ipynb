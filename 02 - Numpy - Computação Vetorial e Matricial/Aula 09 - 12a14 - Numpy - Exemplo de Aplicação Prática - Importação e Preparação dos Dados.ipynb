{
 "cells": [
  {
   "cell_type": "markdown",
   "metadata": {
    "id": "uGqJJfZ36iR6"
   },
   "source": [
    "# 02 - Numpy - Computação Vetorial e Matricial\n",
    "## Aula 09 - 12a14 - Numpy - Exemplo de Aplicação Prática - Importação e Preparação dos Dados"
   ]
  },
  {
   "cell_type": "markdown",
   "metadata": {
    "id": "JNifjo59P9mf"
   },
   "source": [
    "## Professor: Orlando Oliveira dos Santos, MsC.\n",
    " - E-mail: professor.orlando.santos@gmail.com \n",
    " - Youtube :https://www.youtube.com/channel/UCPWWbkPWFmOjXH50TQWNAYg\n",
    " - Linkedin: https://linkedin.com/in/orlandoosantos\n",
    " - Facebook: https://www.facebook.com/proforlandosantosmsc/\n",
    " - Twitter: https://twitter.com/ProfOrlandoMsC\n",
    " - Instagram: https://www.instagram.com/proforlandosantosmsc/\n",
    "\n",
    "\n",
    "\n",
    "## Formação Acadêmica\n",
    "- Mestrado em Computação Aplicada - UnB (2014 – 2016)\t\n",
    "- MBA, Administração Estratégica de Sistemas de Informação – FGV (2011 – 2013)\n",
    "- Tecnólogo em Processamento de Dados, Análise e Desenvolvimento de Sistemas – FAETEC/SP (2000-2002)"
   ]
  },
  {
   "cell_type": "markdown",
   "metadata": {
    "id": "-wttXmB0JYuh"
   },
   "source": [
    "# Numpy - Exemplo de Aplicação Prática - Importação e Preparação dos Dados"
   ]
  },
  {
   "cell_type": "markdown",
   "metadata": {
    "id": "W2DQ8lHqSz8O"
   },
   "source": [
    "# Exemplo de Aplicação Prática\n",
    "***\n",
    "- Utilizando o conteúdo do arquivo csv extraído do Ministério da Saúde (https://covid.saude.gov.br/), abra o arquivo transforme-o em um array 2-D."
   ]
  },
  {
   "cell_type": "markdown",
   "metadata": {
    "id": "v1FR3isQx4w1"
   },
   "source": [
    "## Descompacte o arquivo\n"
   ]
  },
  {
   "cell_type": "code",
   "execution_count": 1,
   "metadata": {},
   "outputs": [
    {
     "name": "stdout",
     "output_type": "stream",
     "text": [
      "C:\\Orlando\\Curso-de-Python-Para-Analise-de-Dados\\02 - Numpy - Computação Vetorial e Matricial\n"
     ]
    }
   ],
   "source": [
    "import os\n",
    "diratual = os.getcwd()\n",
    "print(diratual)"
   ]
  },
  {
   "cell_type": "code",
   "execution_count": 2,
   "metadata": {
    "id": "09wx3BThmBPH"
   },
   "outputs": [],
   "source": [
    "nome_arquivo_compactado = 'HIST_PAINEL_COVIDBR_18nov2020.zip'\n",
    "diretorio = os.path.join(diratual, 'content') "
   ]
  },
  {
   "cell_type": "code",
   "execution_count": 3,
   "metadata": {
    "colab": {
     "base_uri": "https://localhost:8080/"
    },
    "executionInfo": {
     "elapsed": 966,
     "status": "ok",
     "timestamp": 1605915937748,
     "user": {
      "displayName": "Orlando O. S.",
      "photoUrl": "https://lh3.googleusercontent.com/a-/AOh14Gj-E1yuy1M_3ruwN4TWYPK4BwysauSW7GQmHheS=s64",
      "userId": "15066502291703974467"
     },
     "user_tz": 180
    },
    "id": "hXRYkqdhy2iR",
    "outputId": "00d671d2-cdd9-4226-c1a8-a2776da4a450"
   },
   "outputs": [
    {
     "data": {
      "text/plain": [
       "['HIST_PAINEL_COVIDBR_18nov2020.csv', 'HIST_PAINEL_COVIDBR_18nov2020.zip']"
      ]
     },
     "execution_count": 3,
     "metadata": {},
     "output_type": "execute_result"
    }
   ],
   "source": [
    "os.listdir(diretorio)"
   ]
  },
  {
   "cell_type": "code",
   "execution_count": 4,
   "metadata": {
    "id": "OxHAz_iCx8gY"
   },
   "outputs": [],
   "source": [
    "import zipfile\n",
    "caminho_arquivo_zip = os.path.join(diretorio, nome_arquivo_compactado)\n",
    "with zipfile.ZipFile( caminho_arquivo_zip , 'r') as zip_ref:\n",
    "    zip_ref.extractall(diretorio)"
   ]
  },
  {
   "cell_type": "code",
   "execution_count": 5,
   "metadata": {
    "colab": {
     "base_uri": "https://localhost:8080/"
    },
    "executionInfo": {
     "elapsed": 914,
     "status": "ok",
     "timestamp": 1605915941256,
     "user": {
      "displayName": "Orlando O. S.",
      "photoUrl": "https://lh3.googleusercontent.com/a-/AOh14Gj-E1yuy1M_3ruwN4TWYPK4BwysauSW7GQmHheS=s64",
      "userId": "15066502291703974467"
     },
     "user_tz": 180
    },
    "id": "J61IPfWByWhF",
    "outputId": "0c0c0564-3323-42ca-c9f6-3dd8e4c9a9bf"
   },
   "outputs": [
    {
     "data": {
      "text/plain": [
       "['HIST_PAINEL_COVIDBR_18nov2020.csv', 'HIST_PAINEL_COVIDBR_18nov2020.zip']"
      ]
     },
     "execution_count": 5,
     "metadata": {},
     "output_type": "execute_result"
    }
   ],
   "source": [
    "import os\n",
    "os.listdir(diretorio)"
   ]
  },
  {
   "cell_type": "code",
   "execution_count": 6,
   "metadata": {
    "id": "jmZCe7yilNmE"
   },
   "outputs": [],
   "source": [
    "nome_arquivo_csv = 'HIST_PAINEL_COVIDBR_18nov2020.csv'\n",
    "caminho_arquivo_csv = os.path.join(diretorio, nome_arquivo_csv)\n",
    "with open(caminho_arquivo_csv) as f:\n",
    "  colunas = f.readline().strip('\\n').split(';')"
   ]
  },
  {
   "cell_type": "code",
   "execution_count": 7,
   "metadata": {
    "colab": {
     "base_uri": "https://localhost:8080/"
    },
    "executionInfo": {
     "elapsed": 943,
     "status": "ok",
     "timestamp": 1605915947928,
     "user": {
      "displayName": "Orlando O. S.",
      "photoUrl": "https://lh3.googleusercontent.com/a-/AOh14Gj-E1yuy1M_3ruwN4TWYPK4BwysauSW7GQmHheS=s64",
      "userId": "15066502291703974467"
     },
     "user_tz": 180
    },
    "id": "Y3RzEyt_lNmE",
    "outputId": "b0040f21-fd1d-47c5-bb02-769322b00898"
   },
   "outputs": [
    {
     "name": "stdout",
     "output_type": "stream",
     "text": [
      "['regiao', 'estado', 'municipio', 'coduf', 'codmun', 'codRegiaoSaude', 'nomeRegiaoSaude', 'data', 'semanaEpi', 'populacaoTCU2019', 'casosAcumulado', 'casosNovos', 'obitosAcumulado', 'obitosNovos', 'Recuperadosnovos', 'emAcompanhamentoNovos', 'interior/metropolitana']\n"
     ]
    }
   ],
   "source": [
    "print(colunas)"
   ]
  },
  {
   "cell_type": "code",
   "execution_count": 8,
   "metadata": {
    "colab": {
     "base_uri": "https://localhost:8080/"
    },
    "executionInfo": {
     "elapsed": 803,
     "status": "ok",
     "timestamp": 1605915194531,
     "user": {
      "displayName": "Orlando O. S.",
      "photoUrl": "https://lh3.googleusercontent.com/a-/AOh14Gj-E1yuy1M_3ruwN4TWYPK4BwysauSW7GQmHheS=s64",
      "userId": "15066502291703974467"
     },
     "user_tz": 180
    },
    "id": "CqFG87zRs31R",
    "outputId": "f94e9df7-0d1f-4174-969d-b6db06b5330d"
   },
   "outputs": [
    {
     "name": "stdout",
     "output_type": "stream",
     "text": [
      "regiao;estado;municipio;coduf;codmun;codRegiaoSaude;nomeRegiaoSaude;data;semanaEpi;populacaoTCU2019;casosAcumulado;casosNovos;obitosAcumulado;obitosNovos;Recuperadosnovos;emAcompanhamentoNovos;interior/metropolitana\n",
      "Brasil;;;76;;;;2020-02-25;9;210147125;0;0;0;0;;;\n",
      "Brasil;;;76;;;;2020-02-26;9;210147125;1;1;0;0;;;\n",
      "Brasil;;;76;;;;2020-02-27;9;210147125;1;0;0;0;;;\n",
      "Brasil;;;76;;;;2020-02-28;9;210147125;1;0;0;0;;;\n",
      "Brasil;;;76;;;;2020-02-29;9;210147125;2;1;0;0;;;\n",
      "Brasil;;;76;;;;2020-03-01;10;210147125;\n"
     ]
    }
   ],
   "source": [
    "with open(caminho_arquivo_csv) as f:\n",
    "  print(f.read(500))"
   ]
  },
  {
   "cell_type": "code",
   "execution_count": 9,
   "metadata": {
    "colab": {
     "base_uri": "https://localhost:8080/"
    },
    "executionInfo": {
     "elapsed": 26346,
     "status": "ok",
     "timestamp": 1605915979472,
     "user": {
      "displayName": "Orlando O. S.",
      "photoUrl": "https://lh3.googleusercontent.com/a-/AOh14Gj-E1yuy1M_3ruwN4TWYPK4BwysauSW7GQmHheS=s64",
      "userId": "15066502291703974467"
     },
     "user_tz": 180
    },
    "id": "XdAhkfDxlNmF",
    "outputId": "0276ea46-5f50-42dc-de0b-f99810e36e99"
   },
   "outputs": [
    {
     "name": "stdout",
     "output_type": "stream",
     "text": [
      "[['Brasil' '' '' '76' '' '' '' '2020-02-25' '9' '210147125' '0' '0' '0'\n",
      "  '0' '' '' '']\n",
      " ['Brasil' '' '' '76' '' '' '' '2020-02-26' '9' '210147125' '1' '1' '0'\n",
      "  '0' '' '' '']\n",
      " ['Brasil' '' '' '76' '' '' '' '2020-02-27' '9' '210147125' '1' '0' '0'\n",
      "  '0' '' '' '']\n",
      " ['Brasil' '' '' '76' '' '' '' '2020-02-28' '9' '210147125' '1' '0' '0'\n",
      "  '0' '' '' '']\n",
      " ['Brasil' '' '' '76' '' '' '' '2020-02-29' '9' '210147125' '2' '1' '0'\n",
      "  '0' '' '' '']]\n",
      "[['Centro-Oeste' 'DF' 'Brasília' '53' '530010' '53001' 'DISTRITO FEDERAL'\n",
      "  '2020-11-16' '47' '3015268' '220403' '411' '3825' '8' '' '' '1']\n",
      " ['Centro-Oeste' 'DF' 'Brasília' '53' '530010' '53001' 'DISTRITO FEDERAL'\n",
      "  '2020-11-17' '47' '3015268' '221031' '628' '3837' '12' '' '' '1']\n",
      " ['Centro-Oeste' 'DF' 'Brasília' '53' '530010' '53001' 'DISTRITO FEDERAL'\n",
      "  '2020-11-18' '47' '3015268' '221526' '495' '3845' '8' '' '' '1']\n",
      " ['Centro-Oeste' 'DF' 'Brasília' '53' '530010' '53001' 'DISTRITO FEDERAL'\n",
      "  '2020-11-19' '47' '3015268' '222282' '756' '3852' '7' '' '' '1']\n",
      " ['Centro-Oeste' 'DF' 'Brasília' '53' '530010' '53001' 'DISTRITO FEDERAL'\n",
      "  '2020-11-20' '47' '3015268' '222836' '554' '3857' '5' '' '' '1']]\n",
      "2\n",
      "(1343809, 17)\n"
     ]
    }
   ],
   "source": [
    "import numpy as np\n",
    "\n",
    "## Carrega os dados no array\n",
    "dadoscovid = np.loadtxt(caminho_arquivo_csv,\n",
    "    delimiter=';', skiprows=1 ,\n",
    "    dtype='U', encoding='utf-8')\n",
    "\n",
    "## imprime as primeiras linhas do array\n",
    "print(dadoscovid[:5])\n",
    "\n",
    "## imprime as ultimas linhas do \n",
    "print(dadoscovid[-5:])\n",
    "\n",
    "## verifica a quantidade de dimensões\n",
    "print(dadoscovid.ndim)\n",
    "\n",
    "## verifica a forma do array\n",
    "print(dadoscovid.shape)"
   ]
  },
  {
   "cell_type": "markdown",
   "metadata": {
    "id": "90krTI6jejuc"
   },
   "source": [
    "# Gerar informações a nível Brasil"
   ]
  },
  {
   "cell_type": "code",
   "execution_count": 10,
   "metadata": {
    "colab": {
     "base_uri": "https://localhost:8080/"
    },
    "executionInfo": {
     "elapsed": 1215,
     "status": "ok",
     "timestamp": 1605743525599,
     "user": {
      "displayName": "Orlando O. S.",
      "photoUrl": "https://lh3.googleusercontent.com/a-/AOh14Gj-E1yuy1M_3ruwN4TWYPK4BwysauSW7GQmHheS=s64",
      "userId": "15066502291703974467"
     },
     "user_tz": 180
    },
    "id": "VlErp9sNIecy",
    "outputId": "5c120641-036a-4755-8135-6610a1632317"
   },
   "outputs": [
    {
     "name": "stdout",
     "output_type": "stream",
     "text": [
      "[['Brasil' '' '' '76' '' '' '' '2020-02-25' '9' '210147125' '0' '0' '0'\n",
      "  '0' '' '' '']\n",
      " ['Brasil' '' '' '76' '' '' '' '2020-02-26' '9' '210147125' '1' '1' '0'\n",
      "  '0' '' '' '']\n",
      " ['Brasil' '' '' '76' '' '' '' '2020-02-27' '9' '210147125' '1' '0' '0'\n",
      "  '0' '' '' '']\n",
      " ['Brasil' '' '' '76' '' '' '' '2020-02-28' '9' '210147125' '1' '0' '0'\n",
      "  '0' '' '' '']\n",
      " ['Brasil' '' '' '76' '' '' '' '2020-02-29' '9' '210147125' '2' '1' '0'\n",
      "  '0' '' '' '']]\n",
      "[['Brasil' '' '' '76' '' '' '' '2020-11-16' '47' '210147125' '5876464'\n",
      "  '13371' '166014' '216' '5322406' '388044' '']\n",
      " ['Brasil' '' '' '76' '' '' '' '2020-11-17' '47' '210147125' '5911758'\n",
      "  '35294' '166699' '685' '5361592' '383467' '']\n",
      " ['Brasil' '' '' '76' '' '' '' '2020-11-18' '47' '210147125' '5945849'\n",
      "  '34091' '167455' '756' '5389863' '388531' '']\n",
      " ['Brasil' '' '' '76' '' '' '' '2020-11-19' '47' '210147125' '5981767'\n",
      "  '35918' '168061' '606' '5407498' '406208' '']\n",
      " ['Brasil' '' '' '76' '' '' '' '2020-11-20' '47' '210147125' '6020164'\n",
      "  '38397' '168613' '552' '5422102' '429449' '']]\n",
      "2\n",
      "(270, 17)\n"
     ]
    }
   ],
   "source": [
    "## cria o fitro dos registros estatísticos da covid a nivel Brasil\n",
    "brasil = dadoscovid[: , 0] == 'Brasil'\n",
    "\n",
    "## gera array com apenas os dados do brasil\n",
    "brasilarr = dadoscovid[brasil]\n",
    "\n",
    "## imprime as primeiras linhas do array\n",
    "print(brasilarr[:5])\n",
    "\n",
    "## imprime as ultimas linhas do \n",
    "print(brasilarr[-5:])\n",
    "\n",
    "## verifica a quantidade de dimensões\n",
    "print(brasilarr.ndim)\n",
    "\n",
    "## verifica a forma do array\n",
    "print(brasilarr.shape)"
   ]
  },
  {
   "cell_type": "code",
   "execution_count": 11,
   "metadata": {
    "colab": {
     "base_uri": "https://localhost:8080/"
    },
    "executionInfo": {
     "elapsed": 566,
     "status": "ok",
     "timestamp": 1605743382424,
     "user": {
      "displayName": "Orlando O. S.",
      "photoUrl": "https://lh3.googleusercontent.com/a-/AOh14Gj-E1yuy1M_3ruwN4TWYPK4BwysauSW7GQmHheS=s64",
      "userId": "15066502291703974467"
     },
     "user_tz": 180
    },
    "id": "BaR0NojKvYqK",
    "outputId": "23403ce5-e479-47aa-9922-c30f765d7154"
   },
   "outputs": [
    {
     "data": {
      "text/plain": [
       "['regiao',\n",
       " 'estado',\n",
       " 'municipio',\n",
       " 'coduf',\n",
       " 'codmun',\n",
       " 'codRegiaoSaude',\n",
       " 'nomeRegiaoSaude',\n",
       " 'data',\n",
       " 'semanaEpi',\n",
       " 'populacaoTCU2019',\n",
       " 'casosAcumulado',\n",
       " 'casosNovos',\n",
       " 'obitosAcumulado',\n",
       " 'obitosNovos',\n",
       " 'Recuperadosnovos',\n",
       " 'emAcompanhamentoNovos',\n",
       " 'interior/metropolitana']"
      ]
     },
     "execution_count": 11,
     "metadata": {},
     "output_type": "execute_result"
    }
   ],
   "source": [
    "colunas"
   ]
  },
  {
   "cell_type": "code",
   "execution_count": 12,
   "metadata": {
    "colab": {
     "base_uri": "https://localhost:8080/"
    },
    "executionInfo": {
     "elapsed": 795,
     "status": "ok",
     "timestamp": 1605743384137,
     "user": {
      "displayName": "Orlando O. S.",
      "photoUrl": "https://lh3.googleusercontent.com/a-/AOh14Gj-E1yuy1M_3ruwN4TWYPK4BwysauSW7GQmHheS=s64",
      "userId": "15066502291703974467"
     },
     "user_tz": 180
    },
    "id": "r14YKVQWbh3v",
    "outputId": "8a45c0e5-889f-4264-bfba-ff786c942481"
   },
   "outputs": [
    {
     "name": "stdout",
     "output_type": "stream",
     "text": [
      "['Brasil']\n",
      "['']\n",
      "['']\n"
     ]
    }
   ],
   "source": [
    "## verifica se o resultado do filtros gerou o array corretamente\n",
    "print(np.unique(brasilarr[: , 0]))\n",
    "print(np.unique(brasilarr[: , 1]))\n",
    "print(np.unique(brasilarr[: , 2]))"
   ]
  },
  {
   "cell_type": "code",
   "execution_count": 13,
   "metadata": {
    "colab": {
     "base_uri": "https://localhost:8080/"
    },
    "executionInfo": {
     "elapsed": 1076,
     "status": "ok",
     "timestamp": 1605743386312,
     "user": {
      "displayName": "Orlando O. S.",
      "photoUrl": "https://lh3.googleusercontent.com/a-/AOh14Gj-E1yuy1M_3ruwN4TWYPK4BwysauSW7GQmHheS=s64",
      "userId": "15066502291703974467"
     },
     "user_tz": 180
    },
    "id": "1Oqb_hsPwNUa",
    "outputId": "b6809c04-3ae8-4546-8896-fe975111e94f"
   },
   "outputs": [
    {
     "name": "stdout",
     "output_type": "stream",
     "text": [
      "['data', 'casosAcumulado', 'obitosAcumulado']\n",
      "['regiao', 'estado', 'municipio', 'coduf', 'codmun', 'codRegiaoSaude', 'nomeRegiaoSaude', 'data', 'semanaEpi', 'populacaoTCU2019', 'casosAcumulado', 'casosNovos', 'obitosAcumulado', 'obitosNovos', 'Recuperadosnovos', 'emAcompanhamentoNovos', 'interior/metropolitana']\n",
      "[7, 10, 12]\n"
     ]
    }
   ],
   "source": [
    "## obtem os índices das colunas que serão utilizadas\n",
    "colunasselecionadas = ['data',  'casosAcumulado',  'obitosAcumulado']\n",
    "print(colunasselecionadas)\n",
    "print(colunas)\n",
    "indice_colunas_selecionadas = [colunas.index(x) for x in colunasselecionadas ]\n",
    "print(indice_colunas_selecionadas)"
   ]
  },
  {
   "cell_type": "code",
   "execution_count": 14,
   "metadata": {
    "colab": {
     "base_uri": "https://localhost:8080/"
    },
    "executionInfo": {
     "elapsed": 797,
     "status": "ok",
     "timestamp": 1605743548227,
     "user": {
      "displayName": "Orlando O. S.",
      "photoUrl": "https://lh3.googleusercontent.com/a-/AOh14Gj-E1yuy1M_3ruwN4TWYPK4BwysauSW7GQmHheS=s64",
      "userId": "15066502291703974467"
     },
     "user_tz": 180
    },
    "id": "kKQ30OWaxfqS",
    "outputId": "a4ace7dc-8f18-49f8-c77d-d0027655696c"
   },
   "outputs": [
    {
     "data": {
      "text/plain": [
       "(270, 17)"
      ]
     },
     "execution_count": 14,
     "metadata": {},
     "output_type": "execute_result"
    }
   ],
   "source": [
    "brasilarr.shape"
   ]
  },
  {
   "cell_type": "code",
   "execution_count": 15,
   "metadata": {
    "id": "ESXFHvzAww-b"
   },
   "outputs": [],
   "source": [
    "## remove as colunas desnecessárias do array\n",
    "brasilarr = brasilarr[: , indice_colunas_selecionadas] "
   ]
  },
  {
   "cell_type": "code",
   "execution_count": 16,
   "metadata": {
    "colab": {
     "base_uri": "https://localhost:8080/"
    },
    "executionInfo": {
     "elapsed": 766,
     "status": "ok",
     "timestamp": 1605743574411,
     "user": {
      "displayName": "Orlando O. S.",
      "photoUrl": "https://lh3.googleusercontent.com/a-/AOh14Gj-E1yuy1M_3ruwN4TWYPK4BwysauSW7GQmHheS=s64",
      "userId": "15066502291703974467"
     },
     "user_tz": 180
    },
    "id": "Kp8KkVPlw8MK",
    "outputId": "7a17637f-d54b-42ce-e874-fe94890baade"
   },
   "outputs": [
    {
     "data": {
      "text/plain": [
       "array([['2020-02-25', '0', '0'],\n",
       "       ['2020-02-26', '1', '0'],\n",
       "       ['2020-02-27', '1', '0'],\n",
       "       ['2020-02-28', '1', '0'],\n",
       "       ['2020-02-29', '2', '0'],\n",
       "       ['2020-03-01', '2', '0'],\n",
       "       ['2020-03-02', '2', '0'],\n",
       "       ['2020-03-03', '2', '0'],\n",
       "       ['2020-03-04', '3', '0'],\n",
       "       ['2020-03-05', '7', '0']], dtype='<U32')"
      ]
     },
     "execution_count": 16,
     "metadata": {},
     "output_type": "execute_result"
    }
   ],
   "source": [
    "  brasilarr[0:10] "
   ]
  },
  {
   "cell_type": "code",
   "execution_count": 17,
   "metadata": {
    "colab": {
     "base_uri": "https://localhost:8080/"
    },
    "executionInfo": {
     "elapsed": 865,
     "status": "ok",
     "timestamp": 1605743567304,
     "user": {
      "displayName": "Orlando O. S.",
      "photoUrl": "https://lh3.googleusercontent.com/a-/AOh14Gj-E1yuy1M_3ruwN4TWYPK4BwysauSW7GQmHheS=s64",
      "userId": "15066502291703974467"
     },
     "user_tz": 180
    },
    "id": "S1fYG3wQxk04",
    "outputId": "7e2bdf08-06d0-4c61-c70f-ab1c7f28ba24"
   },
   "outputs": [
    {
     "data": {
      "text/plain": [
       "(270, 3)"
      ]
     },
     "execution_count": 17,
     "metadata": {},
     "output_type": "execute_result"
    }
   ],
   "source": [
    "brasilarr.shape"
   ]
  },
  {
   "cell_type": "code",
   "execution_count": 18,
   "metadata": {
    "colab": {
     "base_uri": "https://localhost:8080/"
    },
    "executionInfo": {
     "elapsed": 730,
     "status": "ok",
     "timestamp": 1605744500130,
     "user": {
      "displayName": "Orlando O. S.",
      "photoUrl": "https://lh3.googleusercontent.com/a-/AOh14Gj-E1yuy1M_3ruwN4TWYPK4BwysauSW7GQmHheS=s64",
      "userId": "15066502291703974467"
     },
     "user_tz": 180
    },
    "id": "c13FmtWMzPMc",
    "outputId": "b4364649-d226-42c8-87da-b9c901ab60ab"
   },
   "outputs": [
    {
     "name": "stdout",
     "output_type": "stream",
     "text": [
      "['0' '1' '1' '1' '2' '2' '2' '2' '3' '7']\n",
      "['1' '0' '0' '1' '0' '0' '0' '1' '4' '6']\n"
     ]
    }
   ],
   "source": [
    "## gera a coluna de novos casos a partir dos valores acumulados e adiciona na matriz\n",
    "novoscasos = np.diff(brasilarr[: , 1].astype('i')).astype(str)\n",
    "print(brasilarr[: , 1][:10])\n",
    "print(novoscasos[:10])"
   ]
  },
  {
   "cell_type": "code",
   "execution_count": 19,
   "metadata": {
    "colab": {
     "base_uri": "https://localhost:8080/"
    },
    "executionInfo": {
     "elapsed": 1233,
     "status": "ok",
     "timestamp": 1605744181683,
     "user": {
      "displayName": "Orlando O. S.",
      "photoUrl": "https://lh3.googleusercontent.com/a-/AOh14Gj-E1yuy1M_3ruwN4TWYPK4BwysauSW7GQmHheS=s64",
      "userId": "15066502291703974467"
     },
     "user_tz": 180
    },
    "id": "8E04-pXwzO3z",
    "outputId": "0ed45fc2-e4bc-479f-ed22-a33846aad79b"
   },
   "outputs": [
    {
     "data": {
      "text/plain": [
       "(270,)"
      ]
     },
     "execution_count": 19,
     "metadata": {},
     "output_type": "execute_result"
    }
   ],
   "source": [
    "brasilarr[: , 1].shape"
   ]
  },
  {
   "cell_type": "code",
   "execution_count": 20,
   "metadata": {
    "colab": {
     "base_uri": "https://localhost:8080/"
    },
    "executionInfo": {
     "elapsed": 832,
     "status": "ok",
     "timestamp": 1605744199708,
     "user": {
      "displayName": "Orlando O. S.",
      "photoUrl": "https://lh3.googleusercontent.com/a-/AOh14Gj-E1yuy1M_3ruwN4TWYPK4BwysauSW7GQmHheS=s64",
      "userId": "15066502291703974467"
     },
     "user_tz": 180
    },
    "id": "qfgcRW5Sz-GD",
    "outputId": "331cccdd-9f9a-4479-b194-790fbbeb361e"
   },
   "outputs": [
    {
     "data": {
      "text/plain": [
       "(269,)"
      ]
     },
     "execution_count": 20,
     "metadata": {},
     "output_type": "execute_result"
    }
   ],
   "source": [
    "novoscasos.shape"
   ]
  },
  {
   "cell_type": "code",
   "execution_count": 21,
   "metadata": {
    "colab": {
     "base_uri": "https://localhost:8080/",
     "height": 35
    },
    "executionInfo": {
     "elapsed": 706,
     "status": "ok",
     "timestamp": 1605744441946,
     "user": {
      "displayName": "Orlando O. S.",
      "photoUrl": "https://lh3.googleusercontent.com/a-/AOh14Gj-E1yuy1M_3ruwN4TWYPK4BwysauSW7GQmHheS=s64",
      "userId": "15066502291703974467"
     },
     "user_tz": 180
    },
    "id": "1K1E2IsF0hpY",
    "outputId": "215804e4-7fa1-4b62-929d-9f4985daceab"
   },
   "outputs": [
    {
     "data": {
      "text/plain": [
       "'0'"
      ]
     },
     "execution_count": 21,
     "metadata": {},
     "output_type": "execute_result"
    }
   ],
   "source": [
    "brasilarr[0, 1]"
   ]
  },
  {
   "cell_type": "code",
   "execution_count": 22,
   "metadata": {
    "id": "aPpwz5Ft0FvN"
   },
   "outputs": [],
   "source": [
    "primeiroelemento = brasilarr[0, 1]\n",
    "novoscasos =  np.insert(novoscasos,0,primeiroelemento)"
   ]
  },
  {
   "cell_type": "code",
   "execution_count": 23,
   "metadata": {
    "colab": {
     "base_uri": "https://localhost:8080/"
    },
    "executionInfo": {
     "elapsed": 691,
     "status": "ok",
     "timestamp": 1605744517653,
     "user": {
      "displayName": "Orlando O. S.",
      "photoUrl": "https://lh3.googleusercontent.com/a-/AOh14Gj-E1yuy1M_3ruwN4TWYPK4BwysauSW7GQmHheS=s64",
      "userId": "15066502291703974467"
     },
     "user_tz": 180
    },
    "id": "07ZT8Xaf1EOe",
    "outputId": "94c8680b-bad6-4ef2-e252-6fa824fc2840"
   },
   "outputs": [
    {
     "name": "stdout",
     "output_type": "stream",
     "text": [
      "['0' '1' '1' '1' '2' '2' '2' '2' '3' '7']\n",
      "['0' '1' '0' '0' '1' '0' '0' '0' '1' '4']\n"
     ]
    }
   ],
   "source": [
    "print(brasilarr[: , 1][:10])\n",
    "print(novoscasos[:10])"
   ]
  },
  {
   "cell_type": "code",
   "execution_count": 24,
   "metadata": {
    "colab": {
     "base_uri": "https://localhost:8080/"
    },
    "executionInfo": {
     "elapsed": 876,
     "status": "ok",
     "timestamp": 1605744666786,
     "user": {
      "displayName": "Orlando O. S.",
      "photoUrl": "https://lh3.googleusercontent.com/a-/AOh14Gj-E1yuy1M_3ruwN4TWYPK4BwysauSW7GQmHheS=s64",
      "userId": "15066502291703974467"
     },
     "user_tz": 180
    },
    "id": "KZxaGKdu1u2w",
    "outputId": "def7b3c5-b585-4be4-8fd3-e1319703d2de"
   },
   "outputs": [
    {
     "data": {
      "text/plain": [
       "(270, 3)"
      ]
     },
     "execution_count": 24,
     "metadata": {},
     "output_type": "execute_result"
    }
   ],
   "source": [
    "brasilarr.shape"
   ]
  },
  {
   "cell_type": "code",
   "execution_count": 25,
   "metadata": {
    "id": "ugm97rFm1ra_"
   },
   "outputs": [],
   "source": [
    "novoscasos = novoscasos.reshape((brasilarr.shape[0],1))"
   ]
  },
  {
   "cell_type": "code",
   "execution_count": 26,
   "metadata": {
    "colab": {
     "base_uri": "https://localhost:8080/"
    },
    "executionInfo": {
     "elapsed": 765,
     "status": "ok",
     "timestamp": 1605744771240,
     "user": {
      "displayName": "Orlando O. S.",
      "photoUrl": "https://lh3.googleusercontent.com/a-/AOh14Gj-E1yuy1M_3ruwN4TWYPK4BwysauSW7GQmHheS=s64",
      "userId": "15066502291703974467"
     },
     "user_tz": 180
    },
    "id": "N8eZgwju2EMP",
    "outputId": "1e60eb98-a519-497e-f84e-b142a42fe21d"
   },
   "outputs": [
    {
     "data": {
      "text/plain": [
       "array([['0'],\n",
       "       ['1'],\n",
       "       ['0'],\n",
       "       ['0'],\n",
       "       ['1'],\n",
       "       ['0'],\n",
       "       ['0'],\n",
       "       ['0'],\n",
       "       ['1'],\n",
       "       ['4']], dtype='<U11')"
      ]
     },
     "execution_count": 26,
     "metadata": {},
     "output_type": "execute_result"
    }
   ],
   "source": [
    "novoscasos[:10]"
   ]
  },
  {
   "cell_type": "code",
   "execution_count": 27,
   "metadata": {
    "id": "t-sOnuJ62Rvh"
   },
   "outputs": [],
   "source": [
    "brasilarr = np.concatenate((brasilarr, novoscasos), axis=1  )"
   ]
  },
  {
   "cell_type": "code",
   "execution_count": 28,
   "metadata": {
    "colab": {
     "base_uri": "https://localhost:8080/"
    },
    "executionInfo": {
     "elapsed": 1168,
     "status": "ok",
     "timestamp": 1605744840796,
     "user": {
      "displayName": "Orlando O. S.",
      "photoUrl": "https://lh3.googleusercontent.com/a-/AOh14Gj-E1yuy1M_3ruwN4TWYPK4BwysauSW7GQmHheS=s64",
      "userId": "15066502291703974467"
     },
     "user_tz": 180
    },
    "id": "DG1l7IEQxju7",
    "outputId": "ccaf06c7-10fb-4387-e339-3e8b910a0876"
   },
   "outputs": [
    {
     "name": "stdout",
     "output_type": "stream",
     "text": [
      "[['2020-02-25' '0' '0' '0']\n",
      " ['2020-02-26' '1' '0' '1']\n",
      " ['2020-02-27' '1' '0' '0']]\n",
      "[['2020-11-18' '5945849' '167455' '34091']\n",
      " ['2020-11-19' '5981767' '168061' '35918']\n",
      " ['2020-11-20' '6020164' '168613' '38397']]\n"
     ]
    }
   ],
   "source": [
    "## gera a coluna de novos casos a partir dos valores acumulados e adiciona na matriz\n",
    "# novoscasos = np.diff(brasilarr[: , 1].astype('i')).astype(str)\n",
    "# novoscasos =  np.insert(novoscasos,0,0)\n",
    "# novoscasos = novoscasos.reshape((brasilarr.shape[0],1))\n",
    "# brasilarr = np.concatenate((brasilarr, novoscasos), axis=1  )\n",
    "print(brasilarr[0:3])\n",
    "print(brasilarr[-3:])"
   ]
  },
  {
   "cell_type": "code",
   "execution_count": 29,
   "metadata": {
    "colab": {
     "base_uri": "https://localhost:8080/"
    },
    "executionInfo": {
     "elapsed": 757,
     "status": "ok",
     "timestamp": 1605744921951,
     "user": {
      "displayName": "Orlando O. S.",
      "photoUrl": "https://lh3.googleusercontent.com/a-/AOh14Gj-E1yuy1M_3ruwN4TWYPK4BwysauSW7GQmHheS=s64",
      "userId": "15066502291703974467"
     },
     "user_tz": 180
    },
    "id": "hwPUamkL94Q0",
    "outputId": "b8125a39-578d-4662-fd49-0a506f3f5d78"
   },
   "outputs": [
    {
     "name": "stdout",
     "output_type": "stream",
     "text": [
      "[['2020-02-25' '0' '0' '0' '0']\n",
      " ['2020-02-26' '1' '0' '1' '0']\n",
      " ['2020-02-27' '1' '0' '0' '0']]\n",
      "[['2020-11-18' '5945849' '167455' '34091' '756']\n",
      " ['2020-11-19' '5981767' '168061' '35918' '606']\n",
      " ['2020-11-20' '6020164' '168613' '38397' '552']]\n"
     ]
    }
   ],
   "source": [
    "## gera a coluna de novos obitos a partir dos valores acumulados e adiciona na matriz\n",
    "novosobitos = np.diff(brasilarr[: , 2].astype('i')).astype(str)\n",
    "primeiroelemento = brasilarr[0, 2]\n",
    "novosobitos =  np.insert(novosobitos,0,primeiroelemento)\n",
    "novosobitos = novosobitos.reshape((brasilarr.shape[0],1))\n",
    "brasilarr = np.concatenate((brasilarr, novosobitos), axis=1  )\n",
    "print(brasilarr[0:3])\n",
    "print(brasilarr[-3:])"
   ]
  },
  {
   "cell_type": "code",
   "execution_count": 30,
   "metadata": {
    "id": "p0NhXo0S9qML"
   },
   "outputs": [],
   "source": [
    "##Alternativa\n",
    "#np.hstack((brasilarr, novoscasos))"
   ]
  },
  {
   "cell_type": "code",
   "execution_count": 31,
   "metadata": {
    "colab": {
     "base_uri": "https://localhost:8080/"
    },
    "executionInfo": {
     "elapsed": 700,
     "status": "ok",
     "timestamp": 1605746485202,
     "user": {
      "displayName": "Orlando O. S.",
      "photoUrl": "https://lh3.googleusercontent.com/a-/AOh14Gj-E1yuy1M_3ruwN4TWYPK4BwysauSW7GQmHheS=s64",
      "userId": "15066502291703974467"
     },
     "user_tz": 180
    },
    "id": "eX4OJHf48Ou1",
    "outputId": "6e75b82b-7241-4b6e-e594-1077c4c1920d"
   },
   "outputs": [
    {
     "data": {
      "text/plain": [
       "array(['2020-02', '2020-03', '2020-04', '2020-05', '2020-06', '2020-07',\n",
       "       '2020-08', '2020-09', '2020-10', '2020-11'], dtype='<U7')"
      ]
     },
     "execution_count": 31,
     "metadata": {},
     "output_type": "execute_result"
    }
   ],
   "source": [
    " np.unique(list(map(lambda x : x[:7] , np.unique(brasilarr[:,0]))))"
   ]
  },
  {
   "cell_type": "code",
   "execution_count": 32,
   "metadata": {
    "colab": {
     "base_uri": "https://localhost:8080/"
    },
    "executionInfo": {
     "elapsed": 704,
     "status": "ok",
     "timestamp": 1605746335288,
     "user": {
      "displayName": "Orlando O. S.",
      "photoUrl": "https://lh3.googleusercontent.com/a-/AOh14Gj-E1yuy1M_3ruwN4TWYPK4BwysauSW7GQmHheS=s64",
      "userId": "15066502291703974467"
     },
     "user_tz": 180
    },
    "id": "BJl-IQ8y8Gci",
    "outputId": "edb2dbc6-00f1-4a03-d381-8259b80561b3"
   },
   "outputs": [
    {
     "data": {
      "text/plain": [
       "array(['2020-02', '2020-03', '2020-04', '2020-05', '2020-06', '2020-07',\n",
       "       '2020-08', '2020-09', '2020-10', '2020-11'], dtype='<U7')"
      ]
     },
     "execution_count": 32,
     "metadata": {},
     "output_type": "execute_result"
    }
   ],
   "source": [
    "meses_arr = np.sort(np.unique(np.array(list(map(lambda x : x[:7] , np.unique(brasilarr[:,0]))))))\n",
    "meses_arr"
   ]
  },
  {
   "cell_type": "code",
   "execution_count": 33,
   "metadata": {
    "id": "kK11nnQX9VII"
   },
   "outputs": [],
   "source": [
    "casos_mes_arr = None\n",
    "mes = '2020-11'\n",
    "filtro =  np.array([mes in x for x in brasilarr[:,0]])"
   ]
  },
  {
   "cell_type": "code",
   "execution_count": 34,
   "metadata": {
    "colab": {
     "base_uri": "https://localhost:8080/"
    },
    "executionInfo": {
     "elapsed": 901,
     "status": "ok",
     "timestamp": 1605746954735,
     "user": {
      "displayName": "Orlando O. S.",
      "photoUrl": "https://lh3.googleusercontent.com/a-/AOh14Gj-E1yuy1M_3ruwN4TWYPK4BwysauSW7GQmHheS=s64",
      "userId": "15066502291703974467"
     },
     "user_tz": 180
    },
    "id": "Di95Pqrz9l6Y",
    "outputId": "204f695d-9fa9-4f0f-eaa0-559fcfa97f7a"
   },
   "outputs": [
    {
     "data": {
      "text/plain": [
       "484559"
      ]
     },
     "execution_count": 34,
     "metadata": {},
     "output_type": "execute_result"
    }
   ],
   "source": [
    " casos_arr = brasilarr[filtro,3].astype('i')\n",
    " total_casos = np.sum(casos_arr)\n",
    " total_casos\n"
   ]
  },
  {
   "cell_type": "code",
   "execution_count": 35,
   "metadata": {
    "colab": {
     "base_uri": "https://localhost:8080/"
    },
    "executionInfo": {
     "elapsed": 803,
     "status": "ok",
     "timestamp": 1605747009760,
     "user": {
      "displayName": "Orlando O. S.",
      "photoUrl": "https://lh3.googleusercontent.com/a-/AOh14Gj-E1yuy1M_3ruwN4TWYPK4BwysauSW7GQmHheS=s64",
      "userId": "15066502291703974467"
     },
     "user_tz": 180
    },
    "id": "MvMD5GDr-s4X",
    "outputId": "38418070-7ddf-40c1-c0a2-5f3d5eb46cb0"
   },
   "outputs": [
    {
     "data": {
      "text/plain": [
       "8729"
      ]
     },
     "execution_count": 35,
     "metadata": {},
     "output_type": "execute_result"
    }
   ],
   "source": [
    "  obitos_arr = brasilarr[filtro,4].astype('i')\n",
    "  total_obitos = np.sum(obitos_arr)\n",
    "  total_obitos"
   ]
  },
  {
   "cell_type": "code",
   "execution_count": 36,
   "metadata": {
    "colab": {
     "base_uri": "https://localhost:8080/"
    },
    "executionInfo": {
     "elapsed": 663,
     "status": "ok",
     "timestamp": 1605747047259,
     "user": {
      "displayName": "Orlando O. S.",
      "photoUrl": "https://lh3.googleusercontent.com/a-/AOh14Gj-E1yuy1M_3ruwN4TWYPK4BwysauSW7GQmHheS=s64",
      "userId": "15066502291703974467"
     },
     "user_tz": 180
    },
    "id": "jwcBC1fY9WZM",
    "outputId": "270ee6c2-3fc0-4be9-dc3c-9435ab45d3d6"
   },
   "outputs": [
    {
     "data": {
      "text/plain": [
       "array(['2020-11', '484559', '8729'], dtype='<U11')"
      ]
     },
     "execution_count": 36,
     "metadata": {},
     "output_type": "execute_result"
    }
   ],
   "source": [
    "  arraytemp = np.array([mes, total_casos, total_obitos], dtype=str)\n",
    "  arraytemp"
   ]
  },
  {
   "cell_type": "code",
   "execution_count": 37,
   "metadata": {
    "colab": {
     "base_uri": "https://localhost:8080/"
    },
    "executionInfo": {
     "elapsed": 796,
     "status": "ok",
     "timestamp": 1605747142460,
     "user": {
      "displayName": "Orlando O. S.",
      "photoUrl": "https://lh3.googleusercontent.com/a-/AOh14Gj-E1yuy1M_3ruwN4TWYPK4BwysauSW7GQmHheS=s64",
      "userId": "15066502291703974467"
     },
     "user_tz": 180
    },
    "id": "eiwJYhE8Bh5i",
    "outputId": "ae80ddac-c7d8-4597-dfef-b43f8f0b48d7"
   },
   "outputs": [
    {
     "name": "stdout",
     "output_type": "stream",
     "text": [
      "[['2020-02' '2' '0']\n",
      " ['2020-03' '5715' '201']\n",
      " ['2020-04' '79663' '5700']\n",
      " ['2020-05' '428820' '23413']\n",
      " ['2020-06' '887841' '30280']\n",
      " ['2020-07' '1260444' '32881']\n",
      " ['2020-08' '1245787' '28906']\n",
      " ['2020-09' '902663' '22571']\n",
      " ['2020-10' '724670' '15932']\n",
      " ['2020-11' '484559' '8729']]\n"
     ]
    }
   ],
   "source": [
    "# Calcular os totais de casos e obitos por mês\n",
    "meses_arr = np.sort(np.unique(np.array(list(map(lambda x : x[:7] , np.unique(brasilarr[:,0]))))))\n",
    "casos_mes_arr = None\n",
    "for mes in meses_arr:\n",
    "  filtro =  np.array([mes in x for x in brasilarr[:,0]])\n",
    "  casos_arr = brasilarr[filtro,3].astype('i')\n",
    "  total_casos = np.sum(casos_arr)\n",
    "  obitos_arr = brasilarr[filtro,4].astype('i')\n",
    "  total_obitos = np.sum(obitos_arr)\n",
    "  arraytemp = np.array([mes, total_casos, total_obitos], dtype=str)\n",
    "  if casos_mes_arr is None:\n",
    "    casos_mes_arr = arraytemp\n",
    "  else: \n",
    "    casos_mes_arr = np.vstack((casos_mes_arr,arraytemp ))\n",
    "\n",
    "print(casos_mes_arr)"
   ]
  },
  {
   "cell_type": "code",
   "execution_count": 38,
   "metadata": {
    "colab": {
     "base_uri": "https://localhost:8080/"
    },
    "executionInfo": {
     "elapsed": 1259,
     "status": "ok",
     "timestamp": 1605747777631,
     "user": {
      "displayName": "Orlando O. S.",
      "photoUrl": "https://lh3.googleusercontent.com/a-/AOh14Gj-E1yuy1M_3ruwN4TWYPK4BwysauSW7GQmHheS=s64",
      "userId": "15066502291703974467"
     },
     "user_tz": 180
    },
    "id": "libxIUjHDSOl",
    "outputId": "c47ca71a-907d-474e-a403-a642bf17f7cb"
   },
   "outputs": [
    {
     "name": "stdout",
     "output_type": "stream",
     "text": [
      "['0' '5713' '73948' '349157' '459021' '372603' '-14657' '-343124'\n",
      " '-177993' '-240111']\n",
      "[['2020-02' '2' '0' '0']\n",
      " ['2020-03' '5715' '201' '5713']\n",
      " ['2020-04' '79663' '5700' '73948']\n",
      " ['2020-05' '428820' '23413' '349157']\n",
      " ['2020-06' '887841' '30280' '459021']\n",
      " ['2020-07' '1260444' '32881' '372603']\n",
      " ['2020-08' '1245787' '28906' '-14657']\n",
      " ['2020-09' '902663' '22571' '-343124']\n",
      " ['2020-10' '724670' '15932' '-177993']\n",
      " ['2020-11' '484559' '8729' '-240111']]\n"
     ]
    }
   ],
   "source": [
    "# Calcular novos casos diferença mes a mes\n",
    "novoscasos = np.diff(casos_mes_arr[: , 1].astype('i')).astype(str)\n",
    "novoscasos =  np.insert(novoscasos,0,0)\n",
    "print(novoscasos)\n",
    "\n",
    "#Adicionar novos casos no array\n",
    "novoscasos = novoscasos.reshape((casos_mes_arr.shape[0],1))\n",
    "casos_mes_arr = np.concatenate((casos_mes_arr, novoscasos), axis=1)\n",
    "print(casos_mes_arr)"
   ]
  },
  {
   "cell_type": "code",
   "execution_count": 39,
   "metadata": {
    "colab": {
     "base_uri": "https://localhost:8080/"
    },
    "executionInfo": {
     "elapsed": 5528,
     "status": "ok",
     "timestamp": 1605747788206,
     "user": {
      "displayName": "Orlando O. S.",
      "photoUrl": "https://lh3.googleusercontent.com/a-/AOh14Gj-E1yuy1M_3ruwN4TWYPK4BwysauSW7GQmHheS=s64",
      "userId": "15066502291703974467"
     },
     "user_tz": 180
    },
    "id": "Byuy-nuvJ-Px",
    "outputId": "a6712f8d-955e-4a80-f13c-89f5e6ff2376"
   },
   "outputs": [
    {
     "name": "stdout",
     "output_type": "stream",
     "text": [
      "['0' '201' '5499' '17713' '6867' '2601' '-3975' '-6335' '-6639' '-7203']\n",
      "[['2020-02' '2' '0' '0' '0']\n",
      " ['2020-03' '5715' '201' '5713' '201']\n",
      " ['2020-04' '79663' '5700' '73948' '5499']\n",
      " ['2020-05' '428820' '23413' '349157' '17713']\n",
      " ['2020-06' '887841' '30280' '459021' '6867']\n",
      " ['2020-07' '1260444' '32881' '372603' '2601']\n",
      " ['2020-08' '1245787' '28906' '-14657' '-3975']\n",
      " ['2020-09' '902663' '22571' '-343124' '-6335']\n",
      " ['2020-10' '724670' '15932' '-177993' '-6639']\n",
      " ['2020-11' '484559' '8729' '-240111' '-7203']]\n"
     ]
    }
   ],
   "source": [
    "# Calcular novos obtidos diferença mes a mes\n",
    "novosobitos = np.diff(casos_mes_arr[: , 2].astype('i')).astype(str)\n",
    "novosobitos =  np.insert(novosobitos,0,0)\n",
    "print(novosobitos)\n",
    "\n",
    "#Adicionar novos casos no array\n",
    "novosobitos = novosobitos.reshape((casos_mes_arr.shape[0],1))\n",
    "casos_mes_arr = np.concatenate((casos_mes_arr, novosobitos), axis=1)\n",
    "print(casos_mes_arr)\n"
   ]
  },
  {
   "cell_type": "code",
   "execution_count": 40,
   "metadata": {
    "colab": {
     "base_uri": "https://localhost:8080/"
    },
    "executionInfo": {
     "elapsed": 727,
     "status": "ok",
     "timestamp": 1605747441492,
     "user": {
      "displayName": "Orlando O. S.",
      "photoUrl": "https://lh3.googleusercontent.com/a-/AOh14Gj-E1yuy1M_3ruwN4TWYPK4BwysauSW7GQmHheS=s64",
      "userId": "15066502291703974467"
     },
     "user_tz": 180
    },
    "id": "d4uGqhRXJ-P4",
    "outputId": "c356d805-8a0b-4929-a131-f8afdc33f849"
   },
   "outputs": [
    {
     "name": "stdout",
     "output_type": "stream",
     "text": [
      "['2' '5717' '85380' '514200' '1402041' '2662485' '3908272' '4810935'\n",
      " '5535605' '6020164']\n",
      "[['2020-02' '2' '0' '0' '0' '2']\n",
      " ['2020-03' '5715' '201' '5713' '201' '5717']\n",
      " ['2020-04' '79663' '5700' '73948' '5499' '85380']\n",
      " ['2020-05' '428820' '23413' '349157' '17713' '514200']\n",
      " ['2020-06' '887841' '30280' '459021' '6867' '1402041']\n",
      " ['2020-07' '1260444' '32881' '372603' '2601' '2662485']\n",
      " ['2020-08' '1245787' '28906' '-14657' '-3975' '3908272']\n",
      " ['2020-09' '902663' '22571' '-343124' '-6335' '4810935']\n",
      " ['2020-10' '724670' '15932' '-177993' '-6639' '5535605']\n",
      " ['2020-11' '484559' '8729' '-240111' '-7203' '6020164']]\n"
     ]
    }
   ],
   "source": [
    "# Calcular casos acumulados mes a mes\n",
    "casosacumulados = np.cumsum(casos_mes_arr[: , 1].astype('i')).astype(str)\n",
    "print(casosacumulados)\n",
    "\n",
    "#Adicionar casos acumulados no array\n",
    "casosacumulados = casosacumulados.reshape((casos_mes_arr.shape[0],1))\n",
    "casos_mes_arr = np.concatenate((casos_mes_arr, casosacumulados), axis=1)\n",
    "print(casos_mes_arr)"
   ]
  },
  {
   "cell_type": "code",
   "execution_count": 41,
   "metadata": {
    "colab": {
     "base_uri": "https://localhost:8080/"
    },
    "executionInfo": {
     "elapsed": 1210,
     "status": "ok",
     "timestamp": 1605747484409,
     "user": {
      "displayName": "Orlando O. S.",
      "photoUrl": "https://lh3.googleusercontent.com/a-/AOh14Gj-E1yuy1M_3ruwN4TWYPK4BwysauSW7GQmHheS=s64",
      "userId": "15066502291703974467"
     },
     "user_tz": 180
    },
    "id": "E9QGxOXYRuDY",
    "outputId": "e3d07651-8962-4e2f-bc8b-fe36b2c3a705"
   },
   "outputs": [
    {
     "name": "stdout",
     "output_type": "stream",
     "text": [
      "['0' '201' '5901' '29314' '59594' '92475' '121381' '143952' '159884'\n",
      " '168613']\n",
      "[['2020-02' '2' '0' '0' '0' '2' '0']\n",
      " ['2020-03' '5715' '201' '5713' '201' '5717' '201']\n",
      " ['2020-04' '79663' '5700' '73948' '5499' '85380' '5901']\n",
      " ['2020-05' '428820' '23413' '349157' '17713' '514200' '29314']\n",
      " ['2020-06' '887841' '30280' '459021' '6867' '1402041' '59594']\n",
      " ['2020-07' '1260444' '32881' '372603' '2601' '2662485' '92475']\n",
      " ['2020-08' '1245787' '28906' '-14657' '-3975' '3908272' '121381']\n",
      " ['2020-09' '902663' '22571' '-343124' '-6335' '4810935' '143952']\n",
      " ['2020-10' '724670' '15932' '-177993' '-6639' '5535605' '159884']\n",
      " ['2020-11' '484559' '8729' '-240111' '-7203' '6020164' '168613']]\n"
     ]
    }
   ],
   "source": [
    "# Calcular obitos acumulados mes a mes\n",
    "obitosacumulados = np.cumsum(casos_mes_arr[: , 2].astype('i')).astype(str)\n",
    "print(obitosacumulados)\n",
    "\n",
    "#Adicionar obitos acumulados no array\n",
    "obitosacumulados = obitosacumulados.reshape((casos_mes_arr.shape[0],1))\n",
    "casos_mes_arr = np.concatenate((casos_mes_arr, obitosacumulados), axis=1)\n",
    "print(casos_mes_arr)"
   ]
  },
  {
   "cell_type": "code",
   "execution_count": 42,
   "metadata": {
    "colab": {
     "base_uri": "https://localhost:8080/"
    },
    "executionInfo": {
     "elapsed": 1582,
     "status": "ok",
     "timestamp": 1605747849700,
     "user": {
      "displayName": "Orlando O. S.",
      "photoUrl": "https://lh3.googleusercontent.com/a-/AOh14Gj-E1yuy1M_3ruwN4TWYPK4BwysauSW7GQmHheS=s64",
      "userId": "15066502291703974467"
     },
     "user_tz": 180
    },
    "id": "utY_iDcRB5sg",
    "outputId": "ef84e617-43e4-4ced-b91a-22cd86ae7805"
   },
   "outputs": [
    {
     "name": "stdout",
     "output_type": "stream",
     "text": [
      "[['2020-02' '2' '0' '0' '0' '2' '0']\n",
      " ['2020-03' '5715' '201' '5713' '201' '5717' '201']\n",
      " ['2020-04' '79663' '5700' '73948' '5499' '85380' '5901']\n",
      " ['2020-05' '428820' '23413' '349157' '17713' '514200' '29314']\n",
      " ['2020-06' '887841' '30280' '459021' '6867' '1402041' '59594']\n",
      " ['2020-07' '1260444' '32881' '372603' '2601' '2662485' '92475']\n",
      " ['2020-08' '1245787' '28906' '-14657' '-3975' '3908272' '121381']\n",
      " ['2020-09' '902663' '22571' '-343124' '-6335' '4810935' '143952']\n",
      " ['2020-10' '724670' '15932' '-177993' '-6639' '5535605' '159884']\n",
      " ['2020-11' '484559' '8729' '-240111' '-7203' '6020164' '168613']]\n"
     ]
    }
   ],
   "source": [
    "print(casos_mes_arr)"
   ]
  },
  {
   "cell_type": "code",
   "execution_count": 43,
   "metadata": {
    "colab": {
     "base_uri": "https://localhost:8080/"
    },
    "executionInfo": {
     "elapsed": 887,
     "status": "ok",
     "timestamp": 1605747885136,
     "user": {
      "displayName": "Orlando O. S.",
      "photoUrl": "https://lh3.googleusercontent.com/a-/AOh14Gj-E1yuy1M_3ruwN4TWYPK4BwysauSW7GQmHheS=s64",
      "userId": "15066502291703974467"
     },
     "user_tz": 180
    },
    "id": "E03sluQfKdAZ",
    "outputId": "286127d1-213b-4f6d-bdb3-221a68421208"
   },
   "outputs": [
    {
     "name": "stdout",
     "output_type": "stream",
     "text": [
      "[['2020-02' '2' '0' '2' '0' '0' '0']\n",
      " ['2020-03' '5715' '5713' '5717' '201' '201' '201']\n",
      " ['2020-04' '79663' '73948' '85380' '5700' '5499' '5901']\n",
      " ['2020-05' '428820' '349157' '514200' '23413' '17713' '29314']\n",
      " ['2020-06' '887841' '459021' '1402041' '30280' '6867' '59594']\n",
      " ['2020-07' '1260444' '372603' '2662485' '32881' '2601' '92475']\n",
      " ['2020-08' '1245787' '-14657' '3908272' '28906' '-3975' '121381']\n",
      " ['2020-09' '902663' '-343124' '4810935' '22571' '-6335' '143952']\n",
      " ['2020-10' '724670' '-177993' '5535605' '15932' '-6639' '159884']\n",
      " ['2020-11' '484559' '-240111' '6020164' '8729' '-7203' '168613']]\n"
     ]
    }
   ],
   "source": [
    "#Reorganizando as colunas\n",
    "casos_mes_arr = casos_mes_arr[: , [0,1,3,5,2,4,6]]\n",
    "print(casos_mes_arr)"
   ]
  },
  {
   "cell_type": "code",
   "execution_count": 44,
   "metadata": {
    "colab": {
     "base_uri": "https://localhost:8080/"
    },
    "executionInfo": {
     "elapsed": 709,
     "status": "ok",
     "timestamp": 1605748335194,
     "user": {
      "displayName": "Orlando O. S.",
      "photoUrl": "https://lh3.googleusercontent.com/a-/AOh14Gj-E1yuy1M_3ruwN4TWYPK4BwysauSW7GQmHheS=s64",
      "userId": "15066502291703974467"
     },
     "user_tz": 180
    },
    "id": "M3cnNSQgCsjo",
    "outputId": "b5d9ee9c-3e30-43a2-947f-2da9e8d5634c"
   },
   "outputs": [
    {
     "data": {
      "text/plain": [
       "(7,)"
      ]
     },
     "execution_count": 44,
     "metadata": {},
     "output_type": "execute_result"
    }
   ],
   "source": [
    "colunas = np.array(['DATA', 'CASOS_NOVOS', 'CASOS_ACUMULADOS',\n",
    "           'CASOS_DIF_MES_ANT', \n",
    "           'OBITOS_NOVOS', 'OBITOS_ACUMULADOS',\n",
    "           'OBITOS_DIF_MES_ANT'])\n",
    "\n",
    "colunas.shape          "
   ]
  },
  {
   "cell_type": "code",
   "execution_count": 45,
   "metadata": {
    "id": "DoT9KhZhEC6K"
   },
   "outputs": [],
   "source": [
    "casos_mes_arr= np.vstack((colunas, casos_mes_arr))"
   ]
  },
  {
   "cell_type": "code",
   "execution_count": 46,
   "metadata": {
    "colab": {
     "base_uri": "https://localhost:8080/"
    },
    "executionInfo": {
     "elapsed": 743,
     "status": "ok",
     "timestamp": 1605748351210,
     "user": {
      "displayName": "Orlando O. S.",
      "photoUrl": "https://lh3.googleusercontent.com/a-/AOh14Gj-E1yuy1M_3ruwN4TWYPK4BwysauSW7GQmHheS=s64",
      "userId": "15066502291703974467"
     },
     "user_tz": 180
    },
    "id": "glk0uyKIDzNt",
    "outputId": "e6d80027-12d7-4373-9548-6fc7036fa6c7"
   },
   "outputs": [
    {
     "data": {
      "text/plain": [
       "(11, 7)"
      ]
     },
     "execution_count": 46,
     "metadata": {},
     "output_type": "execute_result"
    }
   ],
   "source": [
    "casos_mes_arr.shape "
   ]
  },
  {
   "cell_type": "code",
   "execution_count": 47,
   "metadata": {
    "colab": {
     "base_uri": "https://localhost:8080/"
    },
    "executionInfo": {
     "elapsed": 772,
     "status": "ok",
     "timestamp": 1605748385439,
     "user": {
      "displayName": "Orlando O. S.",
      "photoUrl": "https://lh3.googleusercontent.com/a-/AOh14Gj-E1yuy1M_3ruwN4TWYPK4BwysauSW7GQmHheS=s64",
      "userId": "15066502291703974467"
     },
     "user_tz": 180
    },
    "id": "G0-8-MiRD9X-",
    "outputId": "3fe919db-8665-4405-c812-59ebc53b13d2"
   },
   "outputs": [
    {
     "data": {
      "text/plain": [
       "array([['DATA', 'CASOS_NOVOS', 'CASOS_ACUMULADOS', 'CASOS_DIF_MES_ANT',\n",
       "        'OBITOS_NOVOS', 'OBITOS_ACUMULADOS', 'OBITOS_DIF_MES_ANT'],\n",
       "       ['2020-02', '2', '0', '2', '0', '0', '0'],\n",
       "       ['2020-03', '5715', '5713', '5717', '201', '201', '201'],\n",
       "       ['2020-04', '79663', '73948', '85380', '5700', '5499', '5901'],\n",
       "       ['2020-05', '428820', '349157', '514200', '23413', '17713',\n",
       "        '29314'],\n",
       "       ['2020-06', '887841', '459021', '1402041', '30280', '6867',\n",
       "        '59594'],\n",
       "       ['2020-07', '1260444', '372603', '2662485', '32881', '2601',\n",
       "        '92475'],\n",
       "       ['2020-08', '1245787', '-14657', '3908272', '28906', '-3975',\n",
       "        '121381'],\n",
       "       ['2020-09', '902663', '-343124', '4810935', '22571', '-6335',\n",
       "        '143952'],\n",
       "       ['2020-10', '724670', '-177993', '5535605', '15932', '-6639',\n",
       "        '159884'],\n",
       "       ['2020-11', '484559', '-240111', '6020164', '8729', '-7203',\n",
       "        '168613']], dtype='<U18')"
      ]
     },
     "execution_count": 47,
     "metadata": {},
     "output_type": "execute_result"
    }
   ],
   "source": [
    "casos_mes_arr"
   ]
  },
  {
   "cell_type": "code",
   "execution_count": 48,
   "metadata": {
    "id": "TQSAaFNUBIcy"
   },
   "outputs": [],
   "source": [
    "np.savetxt(\"casos_mes_arr.csv\", casos_mes_arr, delimiter=\";\", fmt='%s')"
   ]
  },
  {
   "cell_type": "markdown",
   "metadata": {
    "id": "xYXlqKgpeWKG"
   },
   "source": [
    "# Gerar informações a nível regional e estadual"
   ]
  },
  {
   "cell_type": "code",
   "execution_count": 49,
   "metadata": {
    "colab": {
     "base_uri": "https://localhost:8080/"
    },
    "executionInfo": {
     "elapsed": 793,
     "status": "ok",
     "timestamp": 1605914784173,
     "user": {
      "displayName": "Orlando O. S.",
      "photoUrl": "https://lh3.googleusercontent.com/a-/AOh14Gj-E1yuy1M_3ruwN4TWYPK4BwysauSW7GQmHheS=s64",
      "userId": "15066502291703974467"
     },
     "user_tz": 180
    },
    "id": "zEek_GxV-to1",
    "outputId": "ccf2f515-ed05-4f24-9b4a-905053e1e503"
   },
   "outputs": [
    {
     "data": {
      "text/plain": [
       "array(['DATA', 'CASOS_NOVOS', 'CASOS_ACUMULADOS', 'CASOS_DIF_MES_ANT',\n",
       "       'OBITOS_NOVOS', 'OBITOS_ACUMULADOS', 'OBITOS_DIF_MES_ANT'],\n",
       "      dtype='<U18')"
      ]
     },
     "execution_count": 49,
     "metadata": {},
     "output_type": "execute_result"
    }
   ],
   "source": [
    "colunas"
   ]
  },
  {
   "cell_type": "code",
   "execution_count": 50,
   "metadata": {
    "colab": {
     "base_uri": "https://localhost:8080/"
    },
    "executionInfo": {
     "elapsed": 849,
     "status": "ok",
     "timestamp": 1605916211148,
     "user": {
      "displayName": "Orlando O. S.",
      "photoUrl": "https://lh3.googleusercontent.com/a-/AOh14Gj-E1yuy1M_3ruwN4TWYPK4BwysauSW7GQmHheS=s64",
      "userId": "15066502291703974467"
     },
     "user_tz": 180
    },
    "id": "HNGlkYnfLSKL",
    "outputId": "a8d4ea0c-cbf3-4725-d6a2-05d1922abb7c"
   },
   "outputs": [
    {
     "name": "stdout",
     "output_type": "stream",
     "text": [
      "[['Norte' 'RO' '' '11' '' '' '' '2020-02-25' '9' '1777225' '0' '0' '0'\n",
      "  '0' '' '' '']\n",
      " ['Norte' 'RO' '' '11' '' '' '' '2020-02-26' '9' '1777225' '0' '0' '0'\n",
      "  '0' '' '' '']\n",
      " ['Norte' 'RO' '' '11' '' '' '' '2020-02-27' '9' '1777225' '0' '0' '0'\n",
      "  '0' '' '' '']\n",
      " ['Norte' 'RO' '' '11' '' '' '' '2020-02-28' '9' '1777225' '0' '0' '0'\n",
      "  '0' '' '' '']\n",
      " ['Norte' 'RO' '' '11' '' '' '' '2020-02-29' '9' '1777225' '0' '0' '0'\n",
      "  '0' '' '' '']]\n",
      "[['Centro-Oeste' 'DF' '' '53' '' '' '' '2020-11-16' '47' '3015268'\n",
      "  '220403' '411' '3825' '8' '' '' '']\n",
      " ['Centro-Oeste' 'DF' '' '53' '' '' '' '2020-11-17' '47' '3015268'\n",
      "  '221031' '628' '3837' '12' '' '' '']\n",
      " ['Centro-Oeste' 'DF' '' '53' '' '' '' '2020-11-18' '47' '3015268'\n",
      "  '221526' '495' '3845' '8' '' '' '']\n",
      " ['Centro-Oeste' 'DF' '' '53' '' '' '' '2020-11-19' '47' '3015268'\n",
      "  '222282' '756' '3852' '7' '' '' '']\n",
      " ['Centro-Oeste' 'DF' '' '53' '' '' '' '2020-11-20' '47' '3015268'\n",
      "  '222836' '554' '3857' '5' '' '' '']]\n",
      "2\n",
      "(7290, 17)\n"
     ]
    }
   ],
   "source": [
    "## cria o fitro dos registros estatísticos da covid a nivel estadual\n",
    "estados = np.array(\n",
    "          dadoscovid[: , 0] != 'Brasil') \\\n",
    "          & np.array(dadoscovid[: ,2] == '') \\\n",
    "          & np.array(dadoscovid[: ,4] == ''\n",
    "          ) \n",
    "\n",
    "## gera array com apenas os dados dos estados\n",
    "estadosarr = dadoscovid[estados]\n",
    "\n",
    "## imprime as primeiras linhas do array\n",
    "print(estadosarr[:5])\n",
    "\n",
    "## imprime as ultimas linhas do \n",
    "print(estadosarr[-5:])\n",
    "\n",
    "## verifica a quantidade de dimensões\n",
    "print(estadosarr.ndim)\n",
    "\n",
    "## verifica a forma do array\n",
    "print(estadosarr.shape)"
   ]
  },
  {
   "cell_type": "code",
   "execution_count": 51,
   "metadata": {
    "colab": {
     "base_uri": "https://localhost:8080/"
    },
    "executionInfo": {
     "elapsed": 751,
     "status": "ok",
     "timestamp": 1605916218677,
     "user": {
      "displayName": "Orlando O. S.",
      "photoUrl": "https://lh3.googleusercontent.com/a-/AOh14Gj-E1yuy1M_3ruwN4TWYPK4BwysauSW7GQmHheS=s64",
      "userId": "15066502291703974467"
     },
     "user_tz": 180
    },
    "id": "dwEJYJcxff_N",
    "outputId": "84e47736-742d-4539-f994-4a539c35844e"
   },
   "outputs": [
    {
     "name": "stdout",
     "output_type": "stream",
     "text": [
      "['Centro-Oeste' 'Nordeste' 'Norte' 'Sudeste' 'Sul']\n",
      "['AC' 'AL' 'AM' 'AP' 'BA' 'CE' 'DF' 'ES' 'GO' 'MA' 'MG' 'MS' 'MT' 'PA'\n",
      " 'PB' 'PE' 'PI' 'PR' 'RJ' 'RN' 'RO' 'RR' 'RS' 'SC' 'SE' 'SP' 'TO']\n",
      "['']\n"
     ]
    }
   ],
   "source": [
    "## verifica se o resultado do filtros gerou o array corretamente\n",
    "print(np.unique(estadosarr[: , 0]))\n",
    "print(np.unique(estadosarr[: , 1]))\n",
    "print(np.unique(estadosarr[: , 2]))"
   ]
  },
  {
   "cell_type": "code",
   "execution_count": 52,
   "metadata": {},
   "outputs": [],
   "source": [
    "colunas = ['regiao', 'estado', 'municipio', 'coduf', 'codmun', 'codRegiaoSaude'\n",
    "           , 'nomeRegiaoSaude', 'data', 'semanaEpi', 'populacaoTCU2019'\n",
    "           , 'casosAcumulado', 'casosNovos', 'obitosAcumulado', 'obitosNovos'\n",
    "           , 'Recuperadosnovos', 'emAcompanhamentoNovos', 'interior/metropolitana']"
   ]
  },
  {
   "cell_type": "code",
   "execution_count": 53,
   "metadata": {
    "colab": {
     "background_save": true,
     "base_uri": "https://localhost:8080/"
    },
    "executionInfo": {
     "elapsed": 11862,
     "status": "ok",
     "timestamp": 1605915539438,
     "user": {
      "displayName": "Orlando O. S.",
      "photoUrl": "https://lh3.googleusercontent.com/a-/AOh14Gj-E1yuy1M_3ruwN4TWYPK4BwysauSW7GQmHheS=s64",
      "userId": "15066502291703974467"
     },
     "user_tz": 180
    },
    "id": "ssyxhsAHfny3",
    "outputId": "05a6e731-65c4-4629-bae1-11194b57af48"
   },
   "outputs": [
    {
     "name": "stdout",
     "output_type": "stream",
     "text": [
      "['regiao', 'estado', 'municipio', 'coduf', 'codmun', 'codRegiaoSaude', 'nomeRegiaoSaude', 'data', 'semanaEpi', 'populacaoTCU2019', 'casosAcumulado', 'casosNovos', 'obitosAcumulado', 'obitosNovos', 'Recuperadosnovos', 'emAcompanhamentoNovos', 'interior/metropolitana']\n"
     ]
    }
   ],
   "source": [
    "print(colunas)"
   ]
  },
  {
   "cell_type": "code",
   "execution_count": 54,
   "metadata": {
    "colab": {
     "base_uri": "https://localhost:8080/"
    },
    "executionInfo": {
     "elapsed": 936,
     "status": "ok",
     "timestamp": 1605916228542,
     "user": {
      "displayName": "Orlando O. S.",
      "photoUrl": "https://lh3.googleusercontent.com/a-/AOh14Gj-E1yuy1M_3ruwN4TWYPK4BwysauSW7GQmHheS=s64",
      "userId": "15066502291703974467"
     },
     "user_tz": 180
    },
    "id": "oTxz1PpZff_U",
    "outputId": "4ee38e1f-05b4-4755-c3cd-ed744514db0a"
   },
   "outputs": [
    {
     "name": "stdout",
     "output_type": "stream",
     "text": [
      "[0, 1, 7, 10, 12]\n"
     ]
    }
   ],
   "source": [
    "## obtem os índices das colunas que serão utilizadas\n",
    "colunasselecionadas = ['regiao', 'estado', 'data',  'casosAcumulado',  'obitosAcumulado']\n",
    "indice_colunas_selecionadas = [list(colunas).index(x) for x in colunasselecionadas ]\n",
    "print(indice_colunas_selecionadas)"
   ]
  },
  {
   "cell_type": "code",
   "execution_count": 55,
   "metadata": {},
   "outputs": [
    {
     "data": {
      "text/plain": [
       "(7290, 17)"
      ]
     },
     "execution_count": 55,
     "metadata": {},
     "output_type": "execute_result"
    }
   ],
   "source": [
    "estadosarr.shape"
   ]
  },
  {
   "cell_type": "code",
   "execution_count": 56,
   "metadata": {
    "colab": {
     "base_uri": "https://localhost:8080/"
    },
    "executionInfo": {
     "elapsed": 865,
     "status": "ok",
     "timestamp": 1605916279166,
     "user": {
      "displayName": "Orlando O. S.",
      "photoUrl": "https://lh3.googleusercontent.com/a-/AOh14Gj-E1yuy1M_3ruwN4TWYPK4BwysauSW7GQmHheS=s64",
      "userId": "15066502291703974467"
     },
     "user_tz": 180
    },
    "id": "wy1buB1xff_W",
    "outputId": "ee01ca85-5d51-48f0-af92-88c680145610"
   },
   "outputs": [
    {
     "data": {
      "text/plain": [
       "array([['Centro-Oeste', 'DF', '2020-11-18', '221526', '3845'],\n",
       "       ['Centro-Oeste', 'DF', '2020-11-19', '222282', '3852'],\n",
       "       ['Centro-Oeste', 'DF', '2020-11-20', '222836', '3857']],\n",
       "      dtype='<U32')"
      ]
     },
     "execution_count": 56,
     "metadata": {},
     "output_type": "execute_result"
    }
   ],
   "source": [
    "## remove as colunas desnecessárias do array\n",
    "estadosarr = estadosarr[: , indice_colunas_selecionadas] \n",
    "estadosarr[-3:]     "
   ]
  },
  {
   "cell_type": "code",
   "execution_count": 57,
   "metadata": {
    "colab": {
     "base_uri": "https://localhost:8080/"
    },
    "executionInfo": {
     "elapsed": 952,
     "status": "ok",
     "timestamp": 1605916295507,
     "user": {
      "displayName": "Orlando O. S.",
      "photoUrl": "https://lh3.googleusercontent.com/a-/AOh14Gj-E1yuy1M_3ruwN4TWYPK4BwysauSW7GQmHheS=s64",
      "userId": "15066502291703974467"
     },
     "user_tz": 180
    },
    "id": "S4u3RsU4mCVt",
    "outputId": "9248c6e6-95b2-4509-b86e-2b2bef69b86f"
   },
   "outputs": [
    {
     "name": "stdout",
     "output_type": "stream",
     "text": [
      "['Centro-Oeste' 'Nordeste' 'Norte' 'Sudeste' 'Sul']\n"
     ]
    }
   ],
   "source": [
    "regioes =  np.unique(estadosarr[:,0])\n",
    "print(regioes)"
   ]
  },
  {
   "cell_type": "code",
   "execution_count": 58,
   "metadata": {
    "id": "Z-g757yLmh2Y"
   },
   "outputs": [],
   "source": [
    "## Transforma o array em um dicionário de arrays por estado de cada regiao\n",
    "dic_arr_reg_uf = {}\n",
    "for regiao in regioes:\n",
    "    filtro =  np.array([regiao == x for x in estadosarr[:,0]])\n",
    "    regiao_selec_arr = estadosarr[filtro]\n",
    "    estados = np.unique(regiao_selec_arr[:,1])\n",
    "    dic_arr_reg_uf[regiao] = {}\n",
    "    for estado in estados: \n",
    "        filtroestado =  np.array([estado == x for x in regiao_selec_arr[:,1]])\n",
    "        estado_selec_arr = regiao_selec_arr[filtroestado]\n",
    "        estado_selec_arr = estado_selec_arr[: ,1:]\n",
    "        dic_arr_reg_uf[regiao][estado] = estado_selec_arr "
   ]
  },
  {
   "cell_type": "code",
   "execution_count": 59,
   "metadata": {
    "colab": {
     "base_uri": "https://localhost:8080/"
    },
    "executionInfo": {
     "elapsed": 901,
     "status": "ok",
     "timestamp": 1605916679112,
     "user": {
      "displayName": "Orlando O. S.",
      "photoUrl": "https://lh3.googleusercontent.com/a-/AOh14Gj-E1yuy1M_3ruwN4TWYPK4BwysauSW7GQmHheS=s64",
      "userId": "15066502291703974467"
     },
     "user_tz": 180
    },
    "id": "N12MWWvrsgVA",
    "outputId": "af690429-5936-44b7-cf2b-651b300b672b"
   },
   "outputs": [
    {
     "data": {
      "text/plain": [
       "array([['GO', '2020-02-25', '0', '0'],\n",
       "       ['GO', '2020-02-26', '0', '0'],\n",
       "       ['GO', '2020-02-27', '0', '0'],\n",
       "       ...,\n",
       "       ['GO', '2020-11-18', '269857', '6107'],\n",
       "       ['GO', '2020-11-19', '271258', '6159'],\n",
       "       ['GO', '2020-11-20', '272494', '6201']], dtype='<U32')"
      ]
     },
     "execution_count": 59,
     "metadata": {},
     "output_type": "execute_result"
    }
   ],
   "source": [
    "dic_arr_reg_uf['Centro-Oeste']['GO']"
   ]
  },
  {
   "cell_type": "code",
   "execution_count": 60,
   "metadata": {
    "id": "DbO-TuSFqbp6"
   },
   "outputs": [],
   "source": [
    "## Adicionar as colunas de casos novos e obitos novos nos arrays dos estados no dicionário de arrays\n",
    "for regiao, estados in dic_arr_reg_uf.items():\n",
    "    for estado,  arr_atual in estados.items():\n",
    "        novoscasos = np.diff(arr_atual[: , 2].astype('i')).astype(str)\n",
    "        novoscasos =  np.insert(novoscasos,0,0)\n",
    "        novoscasos = novoscasos.reshape((arr_atual.shape[0],1))\n",
    "        arr_atual = np.concatenate((arr_atual, novoscasos), axis=1  )\n",
    "\n",
    "        novosobitos = np.diff(arr_atual[: , 3].astype('i')).astype(str)\n",
    "        novosobitos =  np.insert(novosobitos,0,0)\n",
    "        novosobitos = novosobitos.reshape((arr_atual.shape[0],1))\n",
    "        arr_atual = np.concatenate((arr_atual, novosobitos), axis=1  )\n",
    "\n",
    "        dic_arr_reg_uf[regiao][estado] = arr_atual[: ,]\n",
    "\n"
   ]
  },
  {
   "cell_type": "code",
   "execution_count": 61,
   "metadata": {
    "colab": {
     "base_uri": "https://localhost:8080/"
    },
    "executionInfo": {
     "elapsed": 721,
     "status": "ok",
     "timestamp": 1605917494848,
     "user": {
      "displayName": "Orlando O. S.",
      "photoUrl": "https://lh3.googleusercontent.com/a-/AOh14Gj-E1yuy1M_3ruwN4TWYPK4BwysauSW7GQmHheS=s64",
      "userId": "15066502291703974467"
     },
     "user_tz": 180
    },
    "id": "jzBAxTZ1tCn1",
    "outputId": "6c9353f9-cecc-46f3-89cb-ae686ce2ed11"
   },
   "outputs": [
    {
     "data": {
      "text/plain": [
       "array([['GO', '2020-02-25', '0', '0', '0', '0'],\n",
       "       ['GO', '2020-02-26', '0', '0', '0', '0'],\n",
       "       ['GO', '2020-02-27', '0', '0', '0', '0'],\n",
       "       ...,\n",
       "       ['GO', '2020-11-18', '269857', '6107', '640', '36'],\n",
       "       ['GO', '2020-11-19', '271258', '6159', '1401', '52'],\n",
       "       ['GO', '2020-11-20', '272494', '6201', '1236', '42']], dtype='<U32')"
      ]
     },
     "execution_count": 61,
     "metadata": {},
     "output_type": "execute_result"
    }
   ],
   "source": [
    "dic_arr_reg_uf['Centro-Oeste']['GO']"
   ]
  },
  {
   "cell_type": "code",
   "execution_count": 62,
   "metadata": {
    "id": "GWH_2vI7qbqX"
   },
   "outputs": [],
   "source": [
    "# Gera um dicionario dos valores mensais para cada estado do dicionário \n",
    "\n",
    "dic_arr_reg_uf_mensal = {}\n",
    "for regiao, estados in dic_arr_reg_uf.items():\n",
    "  dic_arr_reg_uf_mensal[regiao] = {}\n",
    "  for estado,  arr_atual in estados.items():\n",
    "    meses_arr = np.sort(np.unique(np.array(list(map(lambda x : x[:7] , np.unique(arr_atual[:,1]))))))\n",
    "    casos_mes_arr = None\n",
    "    for mes in meses_arr:\n",
    "      filtro =  np.array([mes in x for x in arr_atual[:,1]])\n",
    "      casos_arr = arr_atual[filtro,4].astype('i')\n",
    "      total_casos = np.sum(casos_arr)\n",
    "      obitos_arr = arr_atual[filtro,5].astype('i')\n",
    "      total_obitos = np.sum(obitos_arr)\n",
    "      arraytemp = np.array([arr_atual[0][0], mes, total_casos, total_obitos], dtype=str)\n",
    "      if casos_mes_arr is None:\n",
    "        casos_mes_arr = arraytemp\n",
    "      else: \n",
    "        casos_mes_arr = np.vstack((casos_mes_arr,arraytemp ))\n",
    "      dic_arr_reg_uf_mensal[regiao][estado] = casos_mes_arr"
   ]
  },
  {
   "cell_type": "code",
   "execution_count": 63,
   "metadata": {
    "colab": {
     "base_uri": "https://localhost:8080/"
    },
    "executionInfo": {
     "elapsed": 1179,
     "status": "ok",
     "timestamp": 1605919100250,
     "user": {
      "displayName": "Orlando O. S.",
      "photoUrl": "https://lh3.googleusercontent.com/a-/AOh14Gj-E1yuy1M_3ruwN4TWYPK4BwysauSW7GQmHheS=s64",
      "userId": "15066502291703974467"
     },
     "user_tz": 180
    },
    "id": "RZ-nVsr7FdOO",
    "outputId": "b086ba52-2355-4b08-e18b-f541b87f01a0"
   },
   "outputs": [
    {
     "data": {
      "text/plain": [
       "array([['GO', '2020-02', '0', '0'],\n",
       "       ['GO', '2020-03', '65', '1'],\n",
       "       ['GO', '2020-04', '716', '28'],\n",
       "       ['GO', '2020-05', '2921', '95'],\n",
       "       ['GO', '2020-06', '20679', '350'],\n",
       "       ['GO', '2020-07', '43560', '1182'],\n",
       "       ['GO', '2020-08', '64565', '1438'],\n",
       "       ['GO', '2020-09', '76905', '1578'],\n",
       "       ['GO', '2020-10', '46036', '1081'],\n",
       "       ['GO', '2020-11', '17047', '448']], dtype='<U11')"
      ]
     },
     "execution_count": 63,
     "metadata": {},
     "output_type": "execute_result"
    }
   ],
   "source": [
    "dic_arr_reg_uf_mensal['Centro-Oeste']['GO']"
   ]
  },
  {
   "cell_type": "code",
   "execution_count": 64,
   "metadata": {
    "colab": {
     "base_uri": "https://localhost:8080/"
    },
    "executionInfo": {
     "elapsed": 909,
     "status": "ok",
     "timestamp": 1605919418573,
     "user": {
      "displayName": "Orlando O. S.",
      "photoUrl": "https://lh3.googleusercontent.com/a-/AOh14Gj-E1yuy1M_3ruwN4TWYPK4BwysauSW7GQmHheS=s64",
      "userId": "15066502291703974467"
     },
     "user_tz": 180
    },
    "id": "bgxmAntDQMUU",
    "outputId": "2663ab52-2bee-44fd-b1df-784b61fe7450"
   },
   "outputs": [
    {
     "data": {
      "text/plain": [
       "6201"
      ]
     },
     "execution_count": 64,
     "metadata": {},
     "output_type": "execute_result"
    }
   ],
   "source": [
    "np.sum(dic_arr_reg_uf_mensal['Centro-Oeste']['GO'][:,3].astype('i'))"
   ]
  },
  {
   "cell_type": "code",
   "execution_count": 65,
   "metadata": {
    "id": "zf5sSpM4J07X"
   },
   "outputs": [
    {
     "name": "stdout",
     "output_type": "stream",
     "text": [
      "6201\n"
     ]
    }
   ],
   "source": [
    "print(np.sum(dic_arr_reg_uf_mensal['Centro-Oeste']['GO'][:,3].astype('i')))"
   ]
  },
  {
   "cell_type": "code",
   "execution_count": 66,
   "metadata": {
    "colab": {
     "base_uri": "https://localhost:8080/"
    },
    "executionInfo": {
     "elapsed": 784,
     "status": "ok",
     "timestamp": 1605919446609,
     "user": {
      "displayName": "Orlando O. S.",
      "photoUrl": "https://lh3.googleusercontent.com/a-/AOh14Gj-E1yuy1M_3ruwN4TWYPK4BwysauSW7GQmHheS=s64",
      "userId": "15066502291703974467"
     },
     "user_tz": 180
    },
    "id": "NpHZXxVd-KmX",
    "outputId": "a2746c4d-b67a-4f6a-95c3-1a4cac4c945e"
   },
   "outputs": [
    {
     "data": {
      "text/plain": [
       "array([['MT', '2020-02', '0', '0'],\n",
       "       ['MT', '2020-03', '25', '0'],\n",
       "       ['MT', '2020-04', '272', '11'],\n",
       "       ['MT', '2020-05', '2132', '50'],\n",
       "       ['MT', '2020-06', '13207', '532'],\n",
       "       ['MT', '2020-07', '36229', '1226'],\n",
       "       ['MT', '2020-08', '39481', '932'],\n",
       "       ['MT', '2020-09', '32070', '655'],\n",
       "       ['MT', '2020-10', '19486', '392'],\n",
       "       ['MT', '2020-11', '10898', '227']], dtype='<U11')"
      ]
     },
     "execution_count": 66,
     "metadata": {},
     "output_type": "execute_result"
    }
   ],
   "source": [
    "dic_arr_reg_uf_mensal['Centro-Oeste']['MT']"
   ]
  },
  {
   "cell_type": "code",
   "execution_count": 67,
   "metadata": {
    "colab": {
     "base_uri": "https://localhost:8080/"
    },
    "executionInfo": {
     "elapsed": 874,
     "status": "ok",
     "timestamp": 1605919462082,
     "user": {
      "displayName": "Orlando O. S.",
      "photoUrl": "https://lh3.googleusercontent.com/a-/AOh14Gj-E1yuy1M_3ruwN4TWYPK4BwysauSW7GQmHheS=s64",
      "userId": "15066502291703974467"
     },
     "user_tz": 180
    },
    "id": "VokJNptLKEMW",
    "outputId": "24826451-59fd-4806-b9f4-adf4c7b95444"
   },
   "outputs": [
    {
     "name": "stdout",
     "output_type": "stream",
     "text": [
      "4025\n"
     ]
    }
   ],
   "source": [
    "print(np.sum(dic_arr_reg_uf_mensal['Centro-Oeste']['MT'][:,3].astype('i')))"
   ]
  },
  {
   "cell_type": "markdown",
   "metadata": {
    "id": "k4EdXCdRCjmk"
   },
   "source": [
    "# Agregação dos dados por Região"
   ]
  },
  {
   "cell_type": "code",
   "execution_count": 68,
   "metadata": {
    "id": "4gKrcunC-5QU"
   },
   "outputs": [],
   "source": [
    "# gera dicionário dos valores totalidados por região\n",
    "\n",
    "totaismensaisregiao = {}\n",
    "for regiao, estados in dic_arr_reg_uf_mensal.items():\n",
    "  totalcasosarr = None\n",
    "  totalobitosarr = None\n",
    "  for estado, arr in estados.items():\n",
    "    casos = arr[:,2].reshape((arr.shape[0],1)).astype('i')\n",
    "    if totalcasosarr is None:\n",
    "      totalcasosarr = casos\n",
    "    else:\n",
    "      totalcasosarr = np.add(totalcasosarr,casos)\n",
    "    #print(regiao, np.sum(totalcasosarr))\n",
    "\n",
    "    obitos = arr[:,3].reshape((arr.shape[0],1)).astype('i')\n",
    "    if totalobitosarr is None:\n",
    "      totalobitosarr = obitos\n",
    "    else:\n",
    "      totalobitosarr = np.add(totalobitosarr, obitos)\n",
    "    #print(regiao, np.sum(totalobitosarr))\n",
    "    meses = arr[:,1].reshape((arr.shape[0],1)).astype(str)\n",
    "  totaismensaisregiao[regiao] = np.hstack((meses, totalcasosarr.astype(str),totalobitosarr.astype(str)))\n"
   ]
  },
  {
   "cell_type": "code",
   "execution_count": 69,
   "metadata": {
    "colab": {
     "base_uri": "https://localhost:8080/"
    },
    "executionInfo": {
     "elapsed": 709,
     "status": "ok",
     "timestamp": 1605919660016,
     "user": {
      "displayName": "Orlando O. S.",
      "photoUrl": "https://lh3.googleusercontent.com/a-/AOh14Gj-E1yuy1M_3ruwN4TWYPK4BwysauSW7GQmHheS=s64",
      "userId": "15066502291703974467"
     },
     "user_tz": 180
    },
    "id": "B3HF_E0dMGT6",
    "outputId": "40af38bb-6a96-475f-f6a6-b7f658c8da1a"
   },
   "outputs": [
    {
     "data": {
      "text/plain": [
       "{'Centro-Oeste': array([['2020-02', '0', '0'],\n",
       "        ['2020-03', '470', '5'],\n",
       "        ['2020-04', '2219', '74'],\n",
       "        ['2020-05', '14711', '296'],\n",
       "        ['2020-06', '79800', '1355'],\n",
       "        ['2020-07', '153834', '3590'],\n",
       "        ['2020-08', '183797', '3908'],\n",
       "        ['2020-09', '159947', '3408'],\n",
       "        ['2020-10', '99160', '2190'],\n",
       "        ['2020-11', '45957', '970']], dtype='<U11'),\n",
       " 'Nordeste': array([['2020-02', '0', '0'],\n",
       "        ['2020-03', '875', '22'],\n",
       "        ['2020-04', '23643', '1514'],\n",
       "        ['2020-05', '154234', '7330'],\n",
       "        ['2020-06', '301602', '10412'],\n",
       "        ['2020-07', '378473', '9341'],\n",
       "        ['2020-08', '286270', '6501'],\n",
       "        ['2020-09', '178428', '4077'],\n",
       "        ['2020-10', '155268', '2980'],\n",
       "        ['2020-11', '87140', '1524']], dtype='<U11'),\n",
       " 'Norte': array([['2020-02', '0', '0'],\n",
       "        ['2020-03', '294', '4'],\n",
       "        ['2020-04', '10478', '708'],\n",
       "        ['2020-05', '96980', '4978'],\n",
       "        ['2020-06', '154678', '3836'],\n",
       "        ['2020-07', '145120', '2324'],\n",
       "        ['2020-08', '129507', '1626'],\n",
       "        ['2020-09', '93557', '1565'],\n",
       "        ['2020-10', '71478', '932'],\n",
       "        ['2020-11', '43347', '523']], dtype='<U11'),\n",
       " 'Sudeste': array([['2020-02', '2', '0'],\n",
       "        ['2020-03', '3404', '161'],\n",
       "        ['2020-04', '39037', '3233'],\n",
       "        ['2020-05', '144797', '10440'],\n",
       "        ['2020-06', '298645', '13622'],\n",
       "        ['2020-07', '432312', '14332'],\n",
       "        ['2020-08', '437594', '12784'],\n",
       "        ['2020-09', '321279', '10442'],\n",
       "        ['2020-10', '263714', '7767'],\n",
       "        ['2020-11', '166492', '4125']], dtype='<U11'),\n",
       " 'Sul': array([['2020-02', '0', '0'],\n",
       "        ['2020-03', '672', '9'],\n",
       "        ['2020-04', '4286', '171'],\n",
       "        ['2020-05', '18098', '369'],\n",
       "        ['2020-06', '53116', '1055'],\n",
       "        ['2020-07', '150705', '3294'],\n",
       "        ['2020-08', '208619', '4087'],\n",
       "        ['2020-09', '149452', '3079'],\n",
       "        ['2020-10', '135050', '2063'],\n",
       "        ['2020-11', '141623', '1587']], dtype='<U11')}"
      ]
     },
     "execution_count": 69,
     "metadata": {},
     "output_type": "execute_result"
    }
   ],
   "source": [
    "totaismensaisregiao"
   ]
  },
  {
   "cell_type": "code",
   "execution_count": 70,
   "metadata": {
    "colab": {
     "base_uri": "https://localhost:8080/"
    },
    "executionInfo": {
     "elapsed": 735,
     "status": "ok",
     "timestamp": 1605919929086,
     "user": {
      "displayName": "Orlando O. S.",
      "photoUrl": "https://lh3.googleusercontent.com/a-/AOh14Gj-E1yuy1M_3ruwN4TWYPK4BwysauSW7GQmHheS=s64",
      "userId": "15066502291703974467"
     },
     "user_tz": 180
    },
    "id": "RFIL0aumCdZ0",
    "outputId": "5a478c8c-468b-40a2-c1d6-f03726ab7abe"
   },
   "outputs": [
    {
     "name": "stdout",
     "output_type": "stream",
     "text": [
      "2107276\n"
     ]
    }
   ],
   "source": [
    "print(np.sum(totaismensaisregiao['Sudeste'][:,1].astype('i')))"
   ]
  },
  {
   "cell_type": "markdown",
   "metadata": {
    "id": "TdqVynI5G3p4"
   },
   "source": [
    "## Calcula do total do Brasil pela soma da regiões"
   ]
  },
  {
   "cell_type": "code",
   "execution_count": 71,
   "metadata": {
    "colab": {
     "base_uri": "https://localhost:8080/"
    },
    "executionInfo": {
     "elapsed": 812,
     "status": "ok",
     "timestamp": 1605919947365,
     "user": {
      "displayName": "Orlando O. S.",
      "photoUrl": "https://lh3.googleusercontent.com/a-/AOh14Gj-E1yuy1M_3ruwN4TWYPK4BwysauSW7GQmHheS=s64",
      "userId": "15066502291703974467"
     },
     "user_tz": 180
    },
    "id": "FVkMqOV-F9ML",
    "outputId": "2b0801b2-85cd-4a9d-80c3-fa04404d0d34"
   },
   "outputs": [
    {
     "data": {
      "text/plain": [
       "array([[      2,       0],\n",
       "       [   5715,     201],\n",
       "       [  79663,    5700],\n",
       "       [ 428820,   23413],\n",
       "       [ 887841,   30280],\n",
       "       [1260444,   32881],\n",
       "       [1245787,   28906],\n",
       "       [ 902663,   22571],\n",
       "       [ 724670,   15932],\n",
       "       [ 484559,    8729]], dtype=int32)"
      ]
     },
     "execution_count": 71,
     "metadata": {},
     "output_type": "execute_result"
    }
   ],
   "source": [
    "from functools import reduce\n",
    "totalbrasil = reduce(lambda x, y: np.add(x,y),[ x[:,[1,2]].astype('i') for x in totaismensaisregiao.values()])\n",
    "totalbrasil"
   ]
  },
  {
   "cell_type": "code",
   "execution_count": 72,
   "metadata": {
    "colab": {
     "base_uri": "https://localhost:8080/"
    },
    "executionInfo": {
     "elapsed": 813,
     "status": "ok",
     "timestamp": 1605920083280,
     "user": {
      "displayName": "Orlando O. S.",
      "photoUrl": "https://lh3.googleusercontent.com/a-/AOh14Gj-E1yuy1M_3ruwN4TWYPK4BwysauSW7GQmHheS=s64",
      "userId": "15066502291703974467"
     },
     "user_tz": 180
    },
    "id": "jvx0PpZRHCfH",
    "outputId": "e7d3aea5-7b70-4939-ed2a-b9823894e1c8"
   },
   "outputs": [
    {
     "name": "stdout",
     "output_type": "stream",
     "text": [
      "Total de casos igual a 6020164 \n",
      "Total de obitos igual a 168613 \n"
     ]
    }
   ],
   "source": [
    "totalcasos = np.sum(totalbrasil[:,0])\n",
    "totalobitos = np.sum(totalbrasil[:,1])\n",
    "print(f'Total de casos igual a {totalcasos} \\nTotal de obitos igual a {totalobitos} ')"
   ]
  },
  {
   "cell_type": "markdown",
   "metadata": {
    "id": "5OBiuqewe253"
   },
   "source": [
    "# Gerar informações a nível municipal"
   ]
  },
  {
   "cell_type": "code",
   "execution_count": 73,
   "metadata": {
    "id": "NZLluk53Kce4"
   },
   "outputs": [
    {
     "name": "stdout",
     "output_type": "stream",
     "text": [
      "[['Norte' 'RO' \"Alta Floresta D'Oeste\" '11' '110001' '11005'\n",
      "  'ZONA DA MATA' '2020-03-27' '13' '22945' '0' '0' '0' '0' '' '' '0']\n",
      " ['Norte' 'RO' \"Alta Floresta D'Oeste\" '11' '110001' '11005'\n",
      "  'ZONA DA MATA' '2020-03-28' '13' '22945' '0' '0' '0' '0' '' '' '0']\n",
      " ['Norte' 'RO' \"Alta Floresta D'Oeste\" '11' '110001' '11005'\n",
      "  'ZONA DA MATA' '2020-03-29' '14' '22945' '0' '0' '0' '0' '' '' '0']\n",
      " ['Norte' 'RO' \"Alta Floresta D'Oeste\" '11' '110001' '11005'\n",
      "  'ZONA DA MATA' '2020-03-30' '14' '22945' '0' '0' '0' '0' '' '' '0']\n",
      " ['Norte' 'RO' \"Alta Floresta D'Oeste\" '11' '110001' '11005'\n",
      "  'ZONA DA MATA' '2020-03-31' '14' '22945' '0' '0' '0' '0' '' '' '0']]\n",
      "[['Centro-Oeste' 'DF' 'Brasília' '53' '530010' '53001' 'DISTRITO FEDERAL'\n",
      "  '2020-11-16' '47' '3015268' '220403' '411' '3825' '8' '' '' '1']\n",
      " ['Centro-Oeste' 'DF' 'Brasília' '53' '530010' '53001' 'DISTRITO FEDERAL'\n",
      "  '2020-11-17' '47' '3015268' '221031' '628' '3837' '12' '' '' '1']\n",
      " ['Centro-Oeste' 'DF' 'Brasília' '53' '530010' '53001' 'DISTRITO FEDERAL'\n",
      "  '2020-11-18' '47' '3015268' '221526' '495' '3845' '8' '' '' '1']\n",
      " ['Centro-Oeste' 'DF' 'Brasília' '53' '530010' '53001' 'DISTRITO FEDERAL'\n",
      "  '2020-11-19' '47' '3015268' '222282' '756' '3852' '7' '' '' '1']\n",
      " ['Centro-Oeste' 'DF' 'Brasília' '53' '530010' '53001' 'DISTRITO FEDERAL'\n",
      "  '2020-11-20' '47' '3015268' '222836' '554' '3857' '5' '' '' '1']]\n",
      "2\n",
      "(1331230, 17)\n"
     ]
    }
   ],
   "source": [
    "municipios = np.array(dadoscovid[: , 0] != 'Brasil') \\\n",
    "           & np.array(dadoscovid[: , 2] != '')\n",
    "municipiosarr = dadoscovid[municipios]\n",
    "print(municipiosarr[:5])\n",
    "print(municipiosarr[-5:])\n",
    "print(municipiosarr.ndim)\n",
    "print(municipiosarr.shape)"
   ]
  },
  {
   "cell_type": "code",
   "execution_count": 74,
   "metadata": {
    "id": "zQUnFLK4RJKc"
   },
   "outputs": [
    {
     "name": "stdout",
     "output_type": "stream",
     "text": [
      "['Centro-Oeste' 'Nordeste' 'Norte' 'Sudeste' 'Sul']\n",
      "['AC' 'AL' 'AM' 'AP' 'BA' 'CE' 'DF' 'ES' 'GO' 'MA' 'MG' 'MS' 'MT' 'PA'\n",
      " 'PB' 'PE' 'PI' 'PR' 'RJ' 'RN' 'RO' 'RR' 'RS' 'SC' 'SE' 'SP' 'TO']\n",
      "['Abadia de Goiás' 'Abadia dos Dourados' 'Abadiânia' ... 'Érico Cardoso'\n",
      " 'Óbidos' 'Óleo']\n",
      "(5297,)\n"
     ]
    }
   ],
   "source": [
    "print(np.unique(municipiosarr[: , 0]))\n",
    "print(np.unique(municipiosarr[: , 1]))\n",
    "print(np.unique(municipiosarr[: , 2]))\n",
    "print(np.sort(np.unique(municipiosarr[: , 2])).shape)"
   ]
  },
  {
   "cell_type": "markdown",
   "metadata": {},
   "source": [
    "## Leituras Adicionais e Referências:\n",
    "\n",
    "- Python Tutorial at W3Schools: https://www.w3schools.com/python/\n",
    "- Python official documentation: https://docs.python.org/3/tutorial/index.html\n",
    "- NumPy v1.19 Manual: https://numpy.org/doc/stable/"
   ]
  }
 ],
 "metadata": {
  "colab": {
   "collapsed_sections": [],
   "name": "Aula 07 Introdução à Linguagem de Python para Analytics e Data Science.ipynb",
   "provenance": []
  },
  "kernelspec": {
   "display_name": "Python 3",
   "language": "python",
   "name": "python3"
  },
  "language_info": {
   "codemirror_mode": {
    "name": "ipython",
    "version": 3
   },
   "file_extension": ".py",
   "mimetype": "text/x-python",
   "name": "python",
   "nbconvert_exporter": "python",
   "pygments_lexer": "ipython3",
   "version": "3.7.8"
  }
 },
 "nbformat": 4,
 "nbformat_minor": 1
}
