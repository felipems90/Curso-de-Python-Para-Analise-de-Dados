{
 "cells": [
  {
   "cell_type": "markdown",
   "metadata": {
    "id": "uGqJJfZ36iR6"
   },
   "source": [
    "# 02 - Numpy - Computação Vetorial e Matricial\n",
    "## Aula 09 - 10 - Numpy - Operações Aritméticas entre Arrays e Matrizes"
   ]
  },
  {
   "cell_type": "markdown",
   "metadata": {
    "id": "JNifjo59P9mf"
   },
   "source": [
    "## Professor: Orlando Oliveira dos Santos, MsC.\n",
    " - E-mail: professor.orlando.santos@gmail.com \n",
    " - Youtube :https://www.youtube.com/channel/UCPWWbkPWFmOjXH50TQWNAYg\n",
    " - Linkedin: https://linkedin.com/in/orlandoosantos\n",
    " - Facebook: https://www.facebook.com/proforlandosantosmsc/\n",
    " - Twitter: https://twitter.com/ProfOrlandoMsC\n",
    " - Instagram: https://www.instagram.com/proforlandosantosmsc/\n",
    "\n",
    "\n",
    "\n",
    "## Formação Acadêmica\n",
    "- Mestrado em Computação Aplicada - UnB (2014 – 2016)\t\n",
    "- MBA, Administração Estratégica de Sistemas de Informação – FGV (2011 – 2013)\n",
    "- Tecnólogo em Processamento de Dados, Análise e Desenvolvimento de Sistemas – FAETEC/SP (2000-2002)"
   ]
  },
  {
   "cell_type": "markdown",
   "metadata": {
    "id": "-wttXmB0JYuh"
   },
   "source": [
    "# Numpy - Operações Aritméticas entre Arrays e Matrizes"
   ]
  },
  {
   "cell_type": "markdown",
   "metadata": {
    "id": "fqgBurK2vP7N"
   },
   "source": [
    "## Aritmética Entre Arrays\n",
    "### Adição\n",
    "A função add() soma o conteúdo de duas matrizes e retorna os resultados em uma nova matriz.\n"
   ]
  },
  {
   "cell_type": "code",
   "execution_count": 1,
   "metadata": {
    "colab": {
     "base_uri": "https://localhost:8080/"
    },
    "executionInfo": {
     "elapsed": 738,
     "status": "ok",
     "timestamp": 1605574187716,
     "user": {
      "displayName": "Orlando O. S.",
      "photoUrl": "https://lh3.googleusercontent.com/a-/AOh14Gj-E1yuy1M_3ruwN4TWYPK4BwysauSW7GQmHheS=s64",
      "userId": "15066502291703974467"
     },
     "user_tz": 180
    },
    "id": "YUw7kS0CvP7N",
    "outputId": "319144cd-32a8-4e1c-cc3e-6933826dda01"
   },
   "outputs": [
    {
     "name": "stdout",
     "output_type": "stream",
     "text": [
      "[300 320 340 360 380 400]\n",
      "[300 320 340 360 380 400]\n"
     ]
    }
   ],
   "source": [
    "import numpy as np\n",
    "\n",
    "arr1 = np.array([100, 110, 120, 130, 140, 150])\n",
    "arr2 = np.array([200, 210, 220, 230, 240, 250])\n",
    "\n",
    "novo_array = np.add(arr1, arr2)\n",
    "\n",
    "print(novo_array)\n",
    "\n",
    "print(arr1 + arr2)"
   ]
  },
  {
   "cell_type": "markdown",
   "metadata": {
    "id": "8Bu7LIVAvP7O"
   },
   "source": [
    "## Subtração\n",
    "A função subtract() subtrai os valores de uma matriz com os valores de outra matriz e retorna os resultados em uma nova matriz.\n"
   ]
  },
  {
   "cell_type": "code",
   "execution_count": 2,
   "metadata": {
    "colab": {
     "base_uri": "https://localhost:8080/"
    },
    "executionInfo": {
     "elapsed": 726,
     "status": "ok",
     "timestamp": 1605574233587,
     "user": {
      "displayName": "Orlando O. S.",
      "photoUrl": "https://lh3.googleusercontent.com/a-/AOh14Gj-E1yuy1M_3ruwN4TWYPK4BwysauSW7GQmHheS=s64",
      "userId": "15066502291703974467"
     },
     "user_tz": 180
    },
    "id": "ESRICdz5vP7P",
    "outputId": "c3f18f35-b50d-460d-82ab-708951b3e875"
   },
   "outputs": [
    {
     "name": "stdout",
     "output_type": "stream",
     "text": [
      "[-100 -100 -100 -100 -100 -100]\n",
      "[-100 -100 -100 -100 -100 -100]\n"
     ]
    }
   ],
   "source": [
    "import numpy as np\n",
    "\n",
    "\n",
    "arr1 = np.array([100, 110, 120, 130, 140, 150])\n",
    "arr2 = np.array([200, 210, 220, 230, 240, 250])\n",
    "\n",
    "novo_array = np.subtract(arr1, arr2)\n",
    "\n",
    "print(novo_array)\n",
    "\n",
    "print(arr1 - arr2)"
   ]
  },
  {
   "cell_type": "markdown",
   "metadata": {
    "id": "2imuYfvDvP7R"
   },
   "source": [
    "## Multiplicação\n",
    "A função multiply() multiplica os valores de uma matriz com os valores de outra matriz e retorna os resultados em uma nova matriz."
   ]
  },
  {
   "cell_type": "code",
   "execution_count": 3,
   "metadata": {
    "colab": {
     "base_uri": "https://localhost:8080/"
    },
    "executionInfo": {
     "elapsed": 738,
     "status": "ok",
     "timestamp": 1605574249703,
     "user": {
      "displayName": "Orlando O. S.",
      "photoUrl": "https://lh3.googleusercontent.com/a-/AOh14Gj-E1yuy1M_3ruwN4TWYPK4BwysauSW7GQmHheS=s64",
      "userId": "15066502291703974467"
     },
     "user_tz": 180
    },
    "id": "j5eL4JP2vP7R",
    "outputId": "39661307-1faf-4538-fd88-988e3dc6a230"
   },
   "outputs": [
    {
     "name": "stdout",
     "output_type": "stream",
     "text": [
      "[20000 23100 26400 29900 33600 37500]\n"
     ]
    }
   ],
   "source": [
    "import numpy as np\n",
    "\n",
    "\n",
    "arr1 = np.array([100, 110, 120, 130, 140, 150])\n",
    "arr2 = np.array([200, 210, 220, 230, 240, 250])\n",
    "\n",
    "novo_array = np.multiply(arr1, arr2)\n",
    "\n",
    "print(novo_array)"
   ]
  },
  {
   "cell_type": "markdown",
   "metadata": {
    "id": "JEzA-z15vP7U"
   },
   "source": [
    "## Divisão\n",
    "A função divide() divide os valores de uma matriz com os valores de outra matriz e retorna os resultados em uma nova matriz."
   ]
  },
  {
   "cell_type": "code",
   "execution_count": 4,
   "metadata": {
    "colab": {
     "base_uri": "https://localhost:8080/"
    },
    "executionInfo": {
     "elapsed": 804,
     "status": "ok",
     "timestamp": 1605574270675,
     "user": {
      "displayName": "Orlando O. S.",
      "photoUrl": "https://lh3.googleusercontent.com/a-/AOh14Gj-E1yuy1M_3ruwN4TWYPK4BwysauSW7GQmHheS=s64",
      "userId": "15066502291703974467"
     },
     "user_tz": 180
    },
    "id": "HmZNlHGJvP7U",
    "outputId": "65790cca-df8f-4acd-873e-8934cd2e847e"
   },
   "outputs": [
    {
     "name": "stdout",
     "output_type": "stream",
     "text": [
      "[2.         1.90909091 1.83333333 1.76923077 1.71428571 1.66666667]\n"
     ]
    }
   ],
   "source": [
    "import numpy as np\n",
    "\n",
    "arr1 = np.array([100, 110, 120, 130, 140, 150])\n",
    "arr2 = np.array([200, 210, 220, 230, 240, 250])\n",
    "\n",
    "novo_array = np.divide(arr2, arr1)\n",
    "\n",
    "print(novo_array)"
   ]
  },
  {
   "cell_type": "markdown",
   "metadata": {
    "id": "PASbOVqivP7W"
   },
   "source": [
    "## Potenciação\n",
    "A função power() eleva os valores da primeira matriz à potência dos valores da segunda matriz e retorna os resultados em uma nova matriz."
   ]
  },
  {
   "cell_type": "code",
   "execution_count": 5,
   "metadata": {
    "colab": {
     "base_uri": "https://localhost:8080/"
    },
    "executionInfo": {
     "elapsed": 937,
     "status": "ok",
     "timestamp": 1605574283102,
     "user": {
      "displayName": "Orlando O. S.",
      "photoUrl": "https://lh3.googleusercontent.com/a-/AOh14Gj-E1yuy1M_3ruwN4TWYPK4BwysauSW7GQmHheS=s64",
      "userId": "15066502291703974467"
     },
     "user_tz": 180
    },
    "id": "uBcLm3UnvP7X",
    "outputId": "736b6729-6cb3-4999-cbb2-1f566484bf48"
   },
   "outputs": [
    {
     "name": "stdout",
     "output_type": "stream",
     "text": [
      "[   100    400    900  64000 125000 216000]\n"
     ]
    }
   ],
   "source": [
    "import numpy as np\n",
    "\n",
    "arr1 = np.array([10, 20, 30, 40, 50, 60])\n",
    "arr2 = np.array([2, 2, 2, 3, 3, 3])\n",
    "\n",
    "novo_array = np.power(arr1, arr2)\n",
    "\n",
    "print(novo_array)"
   ]
  },
  {
   "cell_type": "markdown",
   "metadata": {
    "id": "KJhHhBp0vP7a"
   },
   "source": [
    "## Resto da Divisão\n",
    "As funções mod() e as remainder() retornar o resto da divisão da primeira matriz pela segunda matriz, e devolver os resultados de uma nova matriz."
   ]
  },
  {
   "cell_type": "code",
   "execution_count": 6,
   "metadata": {
    "colab": {
     "base_uri": "https://localhost:8080/"
    },
    "executionInfo": {
     "elapsed": 743,
     "status": "ok",
     "timestamp": 1605574300947,
     "user": {
      "displayName": "Orlando O. S.",
      "photoUrl": "https://lh3.googleusercontent.com/a-/AOh14Gj-E1yuy1M_3ruwN4TWYPK4BwysauSW7GQmHheS=s64",
      "userId": "15066502291703974467"
     },
     "user_tz": 180
    },
    "id": "AmvWcBywvP7a",
    "outputId": "f7ba3b97-8886-4a5a-9a2d-ea4725b737dd"
   },
   "outputs": [
    {
     "name": "stdout",
     "output_type": "stream",
     "text": [
      "[0 0 2 4 1 6]\n"
     ]
    }
   ],
   "source": [
    "import numpy as np\n",
    "\n",
    "arr1 = np.array([10, 20, 30, 40, 50, 60])\n",
    "arr2 = np.array([2, 5, 4, 6, 7, 9])\n",
    "\n",
    "novo_array = np.mod(arr1, arr2)\n",
    "\n",
    "print(novo_array)"
   ]
  },
  {
   "cell_type": "code",
   "execution_count": 7,
   "metadata": {
    "colab": {
     "base_uri": "https://localhost:8080/"
    },
    "executionInfo": {
     "elapsed": 728,
     "status": "ok",
     "timestamp": 1605574325786,
     "user": {
      "displayName": "Orlando O. S.",
      "photoUrl": "https://lh3.googleusercontent.com/a-/AOh14Gj-E1yuy1M_3ruwN4TWYPK4BwysauSW7GQmHheS=s64",
      "userId": "15066502291703974467"
     },
     "user_tz": 180
    },
    "id": "S6aMjAF-vP7d",
    "outputId": "6587736b-5d73-458d-c2f5-538abac2fd1b"
   },
   "outputs": [
    {
     "name": "stdout",
     "output_type": "stream",
     "text": [
      "[0 0 2 4 1 6]\n"
     ]
    }
   ],
   "source": [
    "import numpy as np\n",
    "\n",
    "arr1 = np.array([10, 20, 30, 40, 50, 60])\n",
    "arr2 = np.array([2, 5, 4, 6, 7, 9])\n",
    "\n",
    "novo_array = np.remainder(arr1, arr2)\n",
    "\n",
    "print(novo_array)"
   ]
  },
  {
   "cell_type": "markdown",
   "metadata": {
    "id": "GcSGlsQjvP7f"
   },
   "source": [
    "## Quociente e Resto da Divisão\n",
    "A divmod()função retorna o quociente e o mod em dois arrays.\n",
    "O primeiro array contém o quociente e o segundo array contém o resto.\n"
   ]
  },
  {
   "cell_type": "code",
   "execution_count": 8,
   "metadata": {
    "colab": {
     "base_uri": "https://localhost:8080/"
    },
    "executionInfo": {
     "elapsed": 783,
     "status": "ok",
     "timestamp": 1605574357845,
     "user": {
      "displayName": "Orlando O. S.",
      "photoUrl": "https://lh3.googleusercontent.com/a-/AOh14Gj-E1yuy1M_3ruwN4TWYPK4BwysauSW7GQmHheS=s64",
      "userId": "15066502291703974467"
     },
     "user_tz": 180
    },
    "id": "ktxdJtbDvP7g",
    "outputId": "5accec23-9c1f-4fc8-db93-19609fa78a76"
   },
   "outputs": [
    {
     "name": "stdout",
     "output_type": "stream",
     "text": [
      "(array([5, 4, 7, 6, 7, 6], dtype=int32), array([0, 0, 2, 4, 1, 6], dtype=int32))\n"
     ]
    }
   ],
   "source": [
    "import numpy as np\n",
    "\n",
    "arr1 = np.array([10, 20, 30, 40, 50, 60])\n",
    "arr2 = np.array([2, 5, 4, 6, 7, 9])\n",
    "\n",
    "novo_array = np.divmod(arr1, arr2)\n",
    "\n",
    "print(novo_array)"
   ]
  },
  {
   "cell_type": "markdown",
   "metadata": {
    "id": "QeV56d6VvP7k"
   },
   "source": [
    "## Valores absolutos\n",
    "As funções absolute()e as abs() servem para eliminar o sinal negativo dos valores."
   ]
  },
  {
   "cell_type": "code",
   "execution_count": 9,
   "metadata": {
    "colab": {
     "base_uri": "https://localhost:8080/"
    },
    "executionInfo": {
     "elapsed": 570,
     "status": "ok",
     "timestamp": 1605574387302,
     "user": {
      "displayName": "Orlando O. S.",
      "photoUrl": "https://lh3.googleusercontent.com/a-/AOh14Gj-E1yuy1M_3ruwN4TWYPK4BwysauSW7GQmHheS=s64",
      "userId": "15066502291703974467"
     },
     "user_tz": 180
    },
    "id": "_kMknO2IvP7k",
    "outputId": "35e67e0f-94aa-485b-dcce-fd34e11c552b"
   },
   "outputs": [
    {
     "name": "stdout",
     "output_type": "stream",
     "text": [
      "[10 34 11 32 31]\n"
     ]
    }
   ],
   "source": [
    "import numpy as np\n",
    "\n",
    "meu_array = np.array([-10, -34, 11, 32, 34 -65])\n",
    "\n",
    "novo_array = np.absolute(meu_array)\n",
    "\n",
    "print(novo_array)"
   ]
  },
  {
   "cell_type": "markdown",
   "metadata": {
    "id": "_lZD7BS8vP7n"
   },
   "source": [
    "## Arredondamento de Casas Decimais\n",
    "\n",
    "###Truncamento\n",
    "Remove os decimais e retorna o número flutuante menor mais próximo de zero"
   ]
  },
  {
   "cell_type": "code",
   "execution_count": 10,
   "metadata": {
    "colab": {
     "base_uri": "https://localhost:8080/"
    },
    "executionInfo": {
     "elapsed": 837,
     "status": "ok",
     "timestamp": 1605574397823,
     "user": {
      "displayName": "Orlando O. S.",
      "photoUrl": "https://lh3.googleusercontent.com/a-/AOh14Gj-E1yuy1M_3ruwN4TWYPK4BwysauSW7GQmHheS=s64",
      "userId": "15066502291703974467"
     },
     "user_tz": 180
    },
    "id": "6nKufo7BvP7n",
    "outputId": "eef0a437-1a16-45ab-ae6c-6ddfdf5c9cfc"
   },
   "outputs": [
    {
     "name": "stdout",
     "output_type": "stream",
     "text": [
      "[-12.  54.]\n"
     ]
    }
   ],
   "source": [
    "import numpy as np\n",
    "\n",
    "meu_array = np.trunc([-12.234234, 54.12315])\n",
    "\n",
    "print(meu_array)"
   ]
  },
  {
   "cell_type": "markdown",
   "metadata": {
    "id": "xNepgAGVvP7q"
   },
   "source": [
    "Exemplo\n",
    "Mesmo exemplo, usando fix():"
   ]
  },
  {
   "cell_type": "code",
   "execution_count": 11,
   "metadata": {
    "colab": {
     "base_uri": "https://localhost:8080/"
    },
    "executionInfo": {
     "elapsed": 833,
     "status": "ok",
     "timestamp": 1605574408409,
     "user": {
      "displayName": "Orlando O. S.",
      "photoUrl": "https://lh3.googleusercontent.com/a-/AOh14Gj-E1yuy1M_3ruwN4TWYPK4BwysauSW7GQmHheS=s64",
      "userId": "15066502291703974467"
     },
     "user_tz": 180
    },
    "id": "C7GDMNfyvP7q",
    "outputId": "ccb8c2e5-68b8-402e-f656-986de0cc8a84"
   },
   "outputs": [
    {
     "name": "stdout",
     "output_type": "stream",
     "text": [
      "[-12.  54.]\n"
     ]
    }
   ],
   "source": [
    "import numpy as np\n",
    "\n",
    "meu_array = np.fix([-12.234234, 54.12315])\n",
    "\n",
    "print(meu_array)"
   ]
  },
  {
   "cell_type": "markdown",
   "metadata": {
    "id": "4Bwdh5q8vP7t"
   },
   "source": [
    "## Arredondamento\n",
    "A função around() incrementa o dígito anterior ou decimal em 1 se> = 5, caso contrário, não fará nada.\n"
   ]
  },
  {
   "cell_type": "code",
   "execution_count": 12,
   "metadata": {
    "colab": {
     "base_uri": "https://localhost:8080/"
    },
    "executionInfo": {
     "elapsed": 893,
     "status": "ok",
     "timestamp": 1605574414353,
     "user": {
      "displayName": "Orlando O. S.",
      "photoUrl": "https://lh3.googleusercontent.com/a-/AOh14Gj-E1yuy1M_3ruwN4TWYPK4BwysauSW7GQmHheS=s64",
      "userId": "15066502291703974467"
     },
     "user_tz": 180
    },
    "id": "xiHQJormvP7t",
    "outputId": "4cef2431-b918-456a-fe45-6c1f2a9806b2"
   },
   "outputs": [
    {
     "name": "stdout",
     "output_type": "stream",
     "text": [
      "[-12.58  54.12]\n"
     ]
    }
   ],
   "source": [
    "import numpy as np\n",
    "\n",
    "meu_array = np.around([-12.57734234, 54.12315], 2)\n",
    "\n",
    "print(meu_array)"
   ]
  },
  {
   "cell_type": "markdown",
   "metadata": {
    "id": "RD_TwfbGvP7x"
   },
   "source": [
    "A função floor () arredonda o decimal para o inteiro inferior mais próximo.\n"
   ]
  },
  {
   "cell_type": "code",
   "execution_count": 13,
   "metadata": {
    "colab": {
     "base_uri": "https://localhost:8080/"
    },
    "executionInfo": {
     "elapsed": 918,
     "status": "ok",
     "timestamp": 1605574422212,
     "user": {
      "displayName": "Orlando O. S.",
      "photoUrl": "https://lh3.googleusercontent.com/a-/AOh14Gj-E1yuy1M_3ruwN4TWYPK4BwysauSW7GQmHheS=s64",
      "userId": "15066502291703974467"
     },
     "user_tz": 180
    },
    "id": "bxY1munmvP70",
    "outputId": "4b3d4688-57ff-412d-bd08-6a1155d19ec5"
   },
   "outputs": [
    {
     "name": "stdout",
     "output_type": "stream",
     "text": [
      "[-13.  54.]\n"
     ]
    }
   ],
   "source": [
    "import numpy as np\n",
    "\n",
    "meu_array = np.floor([-12.234234, 54.12315])\n",
    "\n",
    "print(meu_array)"
   ]
  },
  {
   "cell_type": "markdown",
   "metadata": {
    "id": "bg8Jqw1rvP73"
   },
   "source": [
    "A função ceil () arredonda o decimal para o inteiro superior mais próximo."
   ]
  },
  {
   "cell_type": "code",
   "execution_count": 14,
   "metadata": {
    "colab": {
     "base_uri": "https://localhost:8080/"
    },
    "executionInfo": {
     "elapsed": 730,
     "status": "ok",
     "timestamp": 1605574426085,
     "user": {
      "displayName": "Orlando O. S.",
      "photoUrl": "https://lh3.googleusercontent.com/a-/AOh14Gj-E1yuy1M_3ruwN4TWYPK4BwysauSW7GQmHheS=s64",
      "userId": "15066502291703974467"
     },
     "user_tz": 180
    },
    "id": "3g6_pZOuvP73",
    "outputId": "0b077ffc-b9e8-40b1-a7d6-88b139c999ae"
   },
   "outputs": [
    {
     "name": "stdout",
     "output_type": "stream",
     "text": [
      "[-12.  55.]\n"
     ]
    }
   ],
   "source": [
    "import numpy as np\n",
    "\n",
    "meu_array = np.ceil([-12.234234, 54.12315])\n",
    "\n",
    "print(meu_array)"
   ]
  },
  {
   "cell_type": "markdown",
   "metadata": {
    "id": "xZkzQeJwvP8H"
   },
   "source": [
    "## Soma de Matrizes\n",
    "Some os valores em arr1 e os valores em arr2:"
   ]
  },
  {
   "cell_type": "code",
   "execution_count": 15,
   "metadata": {
    "colab": {
     "base_uri": "https://localhost:8080/"
    },
    "executionInfo": {
     "elapsed": 653,
     "status": "ok",
     "timestamp": 1605574503188,
     "user": {
      "displayName": "Orlando O. S.",
      "photoUrl": "https://lh3.googleusercontent.com/a-/AOh14Gj-E1yuy1M_3ruwN4TWYPK4BwysauSW7GQmHheS=s64",
      "userId": "15066502291703974467"
     },
     "user_tz": 180
    },
    "id": "vtXCV55kvP8I",
    "outputId": "7ad1b788-301d-4065-fdc0-2c4f1298a6b3"
   },
   "outputs": [
    {
     "name": "stdout",
     "output_type": "stream",
     "text": [
      "300\n"
     ]
    }
   ],
   "source": [
    "import numpy as np\n",
    "\n",
    "arr1 = np.array([10, 20, 30, 40, 50])\n",
    "arr2 = np.array([10, 20, 30, 40, 50])\n",
    "\n",
    "novo_array = np.sum([arr1, arr2])\n",
    "\n",
    "print(novo_array)"
   ]
  },
  {
   "cell_type": "markdown",
   "metadata": {
    "id": "WbsElfX6vP8K"
   },
   "source": [
    "# Soma sobre determinado eixo\n",
    "axis = 0 zero para somar as colunas\n",
    "axis = 1 para somar linhas"
   ]
  },
  {
   "cell_type": "code",
   "execution_count": 16,
   "metadata": {
    "colab": {
     "base_uri": "https://localhost:8080/"
    },
    "executionInfo": {
     "elapsed": 949,
     "status": "ok",
     "timestamp": 1605574539705,
     "user": {
      "displayName": "Orlando O. S.",
      "photoUrl": "https://lh3.googleusercontent.com/a-/AOh14Gj-E1yuy1M_3ruwN4TWYPK4BwysauSW7GQmHheS=s64",
      "userId": "15066502291703974467"
     },
     "user_tz": 180
    },
    "id": "7XexIq8SvP8K",
    "outputId": "3ca7c43d-ca6f-41b9-994b-a174f0237d31"
   },
   "outputs": [
    {
     "name": "stdout",
     "output_type": "stream",
     "text": [
      "[150 150]\n"
     ]
    }
   ],
   "source": [
    "import numpy as np\n",
    "\n",
    "arr1 = np.array([10, 20, 30, 40, 50])\n",
    "arr2 = np.array([10, 20, 30, 40, 50])\n",
    "\n",
    "novo_array = np.sum([arr1, arr2], axis=1)\n",
    "\n",
    "print(novo_array)"
   ]
  },
  {
   "cell_type": "code",
   "execution_count": 17,
   "metadata": {
    "colab": {
     "base_uri": "https://localhost:8080/"
    },
    "executionInfo": {
     "elapsed": 1080,
     "status": "ok",
     "timestamp": 1605574564101,
     "user": {
      "displayName": "Orlando O. S.",
      "photoUrl": "https://lh3.googleusercontent.com/a-/AOh14Gj-E1yuy1M_3ruwN4TWYPK4BwysauSW7GQmHheS=s64",
      "userId": "15066502291703974467"
     },
     "user_tz": 180
    },
    "id": "lNJj4y8CwhwN",
    "outputId": "185165a3-6c98-40a8-b67f-be5b7baa9b0b"
   },
   "outputs": [
    {
     "name": "stdout",
     "output_type": "stream",
     "text": [
      "[ 20  40  60  80 100]\n"
     ]
    }
   ],
   "source": [
    "import numpy as np\n",
    "\n",
    "arr1 = np.array([10, 20, 30, 40, 50])\n",
    "arr2 = np.array([10, 20, 30, 40, 50])\n",
    "\n",
    "novo_array = np.sum([arr1, arr2], axis=0)\n",
    "\n",
    "print(novo_array)"
   ]
  },
  {
   "cell_type": "markdown",
   "metadata": {
    "id": "No5gzwU1vP8M"
   },
   "source": [
    "## Soma Cumulativa\n",
    "Soma cumulativa significa adicionar parcialmente os elementos na matriz.\n"
   ]
  },
  {
   "cell_type": "code",
   "execution_count": 18,
   "metadata": {
    "colab": {
     "base_uri": "https://localhost:8080/"
    },
    "executionInfo": {
     "elapsed": 723,
     "status": "ok",
     "timestamp": 1605574612308,
     "user": {
      "displayName": "Orlando O. S.",
      "photoUrl": "https://lh3.googleusercontent.com/a-/AOh14Gj-E1yuy1M_3ruwN4TWYPK4BwysauSW7GQmHheS=s64",
      "userId": "15066502291703974467"
     },
     "user_tz": 180
    },
    "id": "SgFFJt4ivP8M",
    "outputId": "10db24da-043c-4d37-96b3-ce3409aeacdd"
   },
   "outputs": [
    {
     "name": "stdout",
     "output_type": "stream",
     "text": [
      "[ 10  30  60 100 150]\n"
     ]
    }
   ],
   "source": [
    "import numpy as np\n",
    "\n",
    "meu_array = np.array([10, 20, 30, 40, 50])\n",
    "\n",
    "novo_array = np.cumsum(meu_array)\n",
    "\n",
    "print(novo_array)"
   ]
  },
  {
   "cell_type": "markdown",
   "metadata": {
    "id": "fGBX-gpMvP8T"
   },
   "source": [
    "## Produto cumulativo\n",
    "Produto cumulativo significa retirar o produto parcialmente.\n"
   ]
  },
  {
   "cell_type": "code",
   "execution_count": 19,
   "metadata": {
    "colab": {
     "base_uri": "https://localhost:8080/"
    },
    "executionInfo": {
     "elapsed": 764,
     "status": "ok",
     "timestamp": 1605574626312,
     "user": {
      "displayName": "Orlando O. S.",
      "photoUrl": "https://lh3.googleusercontent.com/a-/AOh14Gj-E1yuy1M_3ruwN4TWYPK4BwysauSW7GQmHheS=s64",
      "userId": "15066502291703974467"
     },
     "user_tz": 180
    },
    "id": "r_plNsXovP8U",
    "outputId": "5395f0aa-ae3e-4ec2-bc7b-489564e050a5"
   },
   "outputs": [
    {
     "name": "stdout",
     "output_type": "stream",
     "text": [
      "[  1   2   6  24 120]\n"
     ]
    }
   ],
   "source": [
    "import numpy as np\n",
    "\n",
    "meu_array = np.array([1, 2, 3, 4, 5])\n",
    "\n",
    "novo_array = np.cumprod(meu_array)\n",
    "\n",
    "print(novo_array)"
   ]
  },
  {
   "cell_type": "markdown",
   "metadata": {
    "id": "WI59i2AxvP8V"
   },
   "source": [
    "## Diferenças \n",
    "Uma diferença discreta significa subtrair dois elementos sucessivos.\n"
   ]
  },
  {
   "cell_type": "code",
   "execution_count": 20,
   "metadata": {
    "colab": {
     "base_uri": "https://localhost:8080/"
    },
    "executionInfo": {
     "elapsed": 714,
     "status": "ok",
     "timestamp": 1605574722137,
     "user": {
      "displayName": "Orlando O. S.",
      "photoUrl": "https://lh3.googleusercontent.com/a-/AOh14Gj-E1yuy1M_3ruwN4TWYPK4BwysauSW7GQmHheS=s64",
      "userId": "15066502291703974467"
     },
     "user_tz": 180
    },
    "id": "Bcn6wOpQvP8W",
    "outputId": "b87f32ee-69fe-4220-a1bb-c50221caf66e"
   },
   "outputs": [
    {
     "name": "stdout",
     "output_type": "stream",
     "text": [
      "[ 10  30  60 100 150]\n",
      "[20 30 40 50]\n"
     ]
    }
   ],
   "source": [
    "import numpy as np\n",
    "\n",
    "meu_array = np.array([10, 20, 30, 40, 50])\n",
    "\n",
    "acum_array = np.cumsum(meu_array)\n",
    "\n",
    "print(acum_array)\n",
    "\n",
    "dif_array = np.diff(acum_array)\n",
    "\n",
    "print(dif_array)"
   ]
  },
  {
   "cell_type": "markdown",
   "metadata": {
    "id": "TXcZ3j0AvP8y"
   },
   "source": [
    "# Operações de conjunto (Coleção de elementos únicos)\n",
    "\n",
    "Usa dos para operações de intersecção, união e diferença.\n",
    "O método unique() do NumPy para encontrar elementos exclusivos de qualquer array. "
   ]
  },
  {
   "cell_type": "code",
   "execution_count": 21,
   "metadata": {
    "colab": {
     "base_uri": "https://localhost:8080/"
    },
    "executionInfo": {
     "elapsed": 747,
     "status": "ok",
     "timestamp": 1605574803398,
     "user": {
      "displayName": "Orlando O. S.",
      "photoUrl": "https://lh3.googleusercontent.com/a-/AOh14Gj-E1yuy1M_3ruwN4TWYPK4BwysauSW7GQmHheS=s64",
      "userId": "15066502291703974467"
     },
     "user_tz": 180
    },
    "id": "Tn7LoEZjvP8y",
    "outputId": "0cd7294e-b780-487c-b29c-3b759792bc0e"
   },
   "outputs": [
    {
     "name": "stdout",
     "output_type": "stream",
     "text": [
      "[12 22 23 24 25 26 27]\n"
     ]
    }
   ],
   "source": [
    "import numpy as np\n",
    "\n",
    "meu_array = np.array([12, 12, 12, 22, 23, 24, 25, 25, 26, 27])\n",
    "\n",
    "x = np.unique(meu_array)\n",
    "\n",
    "print(x)"
   ]
  },
  {
   "cell_type": "markdown",
   "metadata": {
    "id": "0gouzLlfvP8z"
   },
   "source": [
    "### Encontrando União\n"
   ]
  },
  {
   "cell_type": "code",
   "execution_count": 22,
   "metadata": {
    "colab": {
     "base_uri": "https://localhost:8080/"
    },
    "executionInfo": {
     "elapsed": 761,
     "status": "ok",
     "timestamp": 1605574832923,
     "user": {
      "displayName": "Orlando O. S.",
      "photoUrl": "https://lh3.googleusercontent.com/a-/AOh14Gj-E1yuy1M_3ruwN4TWYPK4BwysauSW7GQmHheS=s64",
      "userId": "15066502291703974467"
     },
     "user_tz": 180
    },
    "id": "ZdBReavbvP8z",
    "outputId": "a570c33d-fb8d-4e28-9992-114b2517f137"
   },
   "outputs": [
    {
     "name": "stdout",
     "output_type": "stream",
     "text": [
      "[21 22 23 24 25 26]\n"
     ]
    }
   ],
   "source": [
    "import numpy as np\n",
    "\n",
    "conj1 = np.array([21, 22, 23, 24, 25])\n",
    "conj2 = np.array([23, 24, 25, 26])\n",
    "\n",
    "novo_array = np.union1d(conj1, conj2)\n",
    "\n",
    "print(novo_array)"
   ]
  },
  {
   "cell_type": "markdown",
   "metadata": {
    "id": "yp98WvcJvP80"
   },
   "source": [
    "### Encontrando intersecção\n"
   ]
  },
  {
   "cell_type": "code",
   "execution_count": 23,
   "metadata": {
    "colab": {
     "base_uri": "https://localhost:8080/"
    },
    "executionInfo": {
     "elapsed": 888,
     "status": "ok",
     "timestamp": 1605574866500,
     "user": {
      "displayName": "Orlando O. S.",
      "photoUrl": "https://lh3.googleusercontent.com/a-/AOh14Gj-E1yuy1M_3ruwN4TWYPK4BwysauSW7GQmHheS=s64",
      "userId": "15066502291703974467"
     },
     "user_tz": 180
    },
    "id": "IhbWo78xvP80",
    "outputId": "94b8f5f2-c32e-4491-9f37-dfe42c670767"
   },
   "outputs": [
    {
     "name": "stdout",
     "output_type": "stream",
     "text": [
      "[23 24 25]\n"
     ]
    }
   ],
   "source": [
    "import numpy as np\n",
    "\n",
    "conj1 = np.array([21, 22, 23, 24, 25])\n",
    "conj2 = np.array([23, 24, 25, 26])\n",
    "\n",
    "novo_array = np.intersect1d(conj1, conj2, assume_unique=True)\n",
    "\n",
    "print(novo_array)"
   ]
  },
  {
   "cell_type": "markdown",
   "metadata": {
    "id": "BKQwUGFOvP81"
   },
   "source": [
    "### Encontrando Diferença\n",
    "\n",
    "Use o método setdiff1d() para encontrar apenas os valores no primeiro conjunto que NÃO estão no segundos."
   ]
  },
  {
   "cell_type": "code",
   "execution_count": 24,
   "metadata": {
    "colab": {
     "base_uri": "https://localhost:8080/"
    },
    "executionInfo": {
     "elapsed": 898,
     "status": "ok",
     "timestamp": 1605574916227,
     "user": {
      "displayName": "Orlando O. S.",
      "photoUrl": "https://lh3.googleusercontent.com/a-/AOh14Gj-E1yuy1M_3ruwN4TWYPK4BwysauSW7GQmHheS=s64",
      "userId": "15066502291703974467"
     },
     "user_tz": 180
    },
    "id": "TrSj7eZ5vP82",
    "outputId": "ee7325ca-78b6-4666-a9bc-e9f2327539ea"
   },
   "outputs": [
    {
     "name": "stdout",
     "output_type": "stream",
     "text": [
      "[21 22]\n"
     ]
    }
   ],
   "source": [
    "import numpy as np\n",
    "\n",
    "conj1 = np.array([21, 22, 23, 24, 25])\n",
    "conj2 = np.array([23, 24, 25, 26])\n",
    "\n",
    "novo_array = np.setdiff1d(conj1, conj2, assume_unique=True)\n",
    "\n",
    "print(novo_array)"
   ]
  },
  {
   "cell_type": "markdown",
   "metadata": {
    "id": "rVQL-CqnvP85"
   },
   "source": [
    "#Encontrando Diferença Simétrica\n",
    "Use o método setxor1d() para encontrar apenas os valores que NÃO estão presentes em AMBOS os conjuntos."
   ]
  },
  {
   "cell_type": "code",
   "execution_count": 25,
   "metadata": {
    "colab": {
     "base_uri": "https://localhost:8080/"
    },
    "executionInfo": {
     "elapsed": 659,
     "status": "ok",
     "timestamp": 1605574928632,
     "user": {
      "displayName": "Orlando O. S.",
      "photoUrl": "https://lh3.googleusercontent.com/a-/AOh14Gj-E1yuy1M_3ruwN4TWYPK4BwysauSW7GQmHheS=s64",
      "userId": "15066502291703974467"
     },
     "user_tz": 180
    },
    "id": "QaKAOB7lvP85",
    "outputId": "10618230-f11e-46ce-d0cf-a32c06d98d59"
   },
   "outputs": [
    {
     "name": "stdout",
     "output_type": "stream",
     "text": [
      "[21 22 26]\n"
     ]
    }
   ],
   "source": [
    "import numpy as np\n",
    "\n",
    "set1 = np.array([21, 22, 23, 24, 25])\n",
    "set2 = np.array([23, 24, 25, 26])\n",
    "\n",
    "novo_array = np.setxor1d(set1, set2, assume_unique=True)\n",
    "\n",
    "print(novo_array)"
   ]
  },
  {
   "cell_type": "markdown",
   "metadata": {
    "id": "0POE56KvvP7H"
   },
   "source": [
    "##  Criar ufunc personalizadas\n",
    "Definir uma função, como você faz com funções normais em Python, e então adicioná-la à sua biblioteca ufunc NumPy com o método frompyfunc().\n",
    "\n",
    "O métodofrompyfunc() precisa dos seguintes argumentos:\n",
    "- function - o nome da função.\n",
    "- inputs - o número de argumentos de entrada (matrizes).\n",
    "- outputs - o número de matrizes de saída.\n"
   ]
  },
  {
   "cell_type": "code",
   "execution_count": 26,
   "metadata": {
    "colab": {
     "base_uri": "https://localhost:8080/"
    },
    "executionInfo": {
     "elapsed": 743,
     "status": "ok",
     "timestamp": 1605575045022,
     "user": {
      "displayName": "Orlando O. S.",
      "photoUrl": "https://lh3.googleusercontent.com/a-/AOh14Gj-E1yuy1M_3ruwN4TWYPK4BwysauSW7GQmHheS=s64",
      "userId": "15066502291703974467"
     },
     "user_tz": 180
    },
    "id": "NSt1F_O-vP7H",
    "outputId": "e68fed51-ec58-42b5-df59-3a4c58d5f935"
   },
   "outputs": [
    {
     "name": "stdout",
     "output_type": "stream",
     "text": [
      "[46 48 50 52]\n"
     ]
    }
   ],
   "source": [
    "import numpy as np\n",
    "\n",
    "def adicionar(arr1, arr2):\n",
    "  return arr1 + arr2\n",
    "\n",
    "func_adicionar = np.frompyfunc(adicionar, 2, 1)\n",
    "\n",
    "print(func_adicionar([21, 22, 23, 24], [25, 26, 27, 28]))"
   ]
  },
  {
   "cell_type": "markdown",
   "metadata": {
    "id": "tDClGkQUvP7I"
   },
   "source": [
    "### Como checar se uma função é um ufunc\n",
    "Verifique o tipo de função para verificar se é ufunc ou não.\n"
   ]
  },
  {
   "cell_type": "code",
   "execution_count": 27,
   "metadata": {
    "colab": {
     "base_uri": "https://localhost:8080/"
    },
    "executionInfo": {
     "elapsed": 814,
     "status": "ok",
     "timestamp": 1605575103057,
     "user": {
      "displayName": "Orlando O. S.",
      "photoUrl": "https://lh3.googleusercontent.com/a-/AOh14Gj-E1yuy1M_3ruwN4TWYPK4BwysauSW7GQmHheS=s64",
      "userId": "15066502291703974467"
     },
     "user_tz": 180
    },
    "id": "wBJAvndEvP7I",
    "outputId": "dd737089-b031-4120-ae78-bd76250ef728"
   },
   "outputs": [
    {
     "name": "stdout",
     "output_type": "stream",
     "text": [
      "<class 'numpy.ufunc'>\n",
      "<class 'numpy.ufunc'>\n",
      "True\n"
     ]
    }
   ],
   "source": [
    "import numpy as np\n",
    "print(type(func_adicionar))\n",
    "print(type(np.add))\n",
    "print(type(np.add) == np.ufunc)"
   ]
  },
  {
   "cell_type": "markdown",
   "metadata": {},
   "source": [
    "## Leituras Adicionais e Referências:\n",
    "\n",
    "- Python Tutorial at W3Schools: https://www.w3schools.com/python/\n",
    "- Python official documentation: https://docs.python.org/3/tutorial/index.html\n",
    "- NumPy v1.19 Manual: https://numpy.org/doc/stable/"
   ]
  }
 ],
 "metadata": {
  "colab": {
   "collapsed_sections": [],
   "name": "Aula 07 Introdução à Linguagem de Python para Analytics e Data Science.ipynb",
   "provenance": []
  },
  "kernelspec": {
   "display_name": "Python 3",
   "language": "python",
   "name": "python3"
  },
  "language_info": {
   "codemirror_mode": {
    "name": "ipython",
    "version": 3
   },
   "file_extension": ".py",
   "mimetype": "text/x-python",
   "name": "python",
   "nbconvert_exporter": "python",
   "pygments_lexer": "ipython3",
   "version": "3.7.8"
  }
 },
 "nbformat": 4,
 "nbformat_minor": 1
}
