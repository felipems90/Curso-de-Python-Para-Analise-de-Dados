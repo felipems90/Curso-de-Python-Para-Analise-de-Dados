{
 "cells": [
  {
   "cell_type": "markdown",
   "metadata": {
    "id": "uGqJJfZ36iR6"
   },
   "source": [
    "# 02 - Numpy - Computação Vetorial e Matricial\n",
    "## Aula 09 - 07 - Numpy - Filtragem e Ordenação em Arrays e Matrizes"
   ]
  },
  {
   "cell_type": "markdown",
   "metadata": {
    "id": "JNifjo59P9mf"
   },
   "source": [
    "## Professor: Orlando Oliveira dos Santos, MsC.\n",
    " - E-mail: professor.orlando.santos@gmail.com \n",
    " - Youtube :https://www.youtube.com/channel/UCPWWbkPWFmOjXH50TQWNAYg\n",
    " - Linkedin: https://linkedin.com/in/orlandoosantos\n",
    " - Facebook: https://www.facebook.com/proforlandosantosmsc/\n",
    " - Twitter: https://twitter.com/ProfOrlandoMsC\n",
    " - Instagram: https://www.instagram.com/proforlandosantosmsc/\n",
    "\n",
    "\n",
    "\n",
    "## Formação Acadêmica\n",
    "- Mestrado em Computação Aplicada - UnB (2014 – 2016)\t\n",
    "- MBA, Administração Estratégica de Sistemas de Informação – FGV (2011 – 2013)\n",
    "- Tecnólogo em Processamento de Dados, Análise e Desenvolvimento de Sistemas – FAETEC/SP (2000-2002)"
   ]
  },
  {
   "cell_type": "markdown",
   "metadata": {
    "id": "-wttXmB0JYuh"
   },
   "source": [
    "# Numpy - Filtragem e Ordenação em Arrays e Matrizes"
   ]
  },
  {
   "cell_type": "markdown",
   "metadata": {
    "id": "zKc0rEDPvP53"
   },
   "source": [
    "## Pesquisando valores em arrays usando o método where()\n",
    "\n",
    "Exemplo\n",
    "Encontre os índices onde o valor é 3:"
   ]
  },
  {
   "cell_type": "code",
   "execution_count": 1,
   "metadata": {
    "colab": {
     "base_uri": "https://localhost:8080/"
    },
    "executionInfo": {
     "elapsed": 734,
     "status": "ok",
     "timestamp": 1605570607249,
     "user": {
      "displayName": "Orlando O. S.",
      "photoUrl": "https://lh3.googleusercontent.com/a-/AOh14Gj-E1yuy1M_3ruwN4TWYPK4BwysauSW7GQmHheS=s64",
      "userId": "15066502291703974467"
     },
     "user_tz": 180
    },
    "id": "pmBpnQfRvP53",
    "outputId": "fc4c6e7a-e48a-4160-fa2b-b385b1023940"
   },
   "outputs": [
    {
     "name": "stdout",
     "output_type": "stream",
     "text": [
      "As posições encontradas foram [0 1 2 3 4 5 6 7 8 9]\n",
      "As valores encontradas foram [ 10  20  30  40  50  60  70  80  90 100]\n"
     ]
    }
   ],
   "source": [
    "import numpy as np\n",
    "\n",
    "meu_array = np.array([10, 20, 30, 40, 50, 60, 70, 80, 90, 100])\n",
    "# Encontrar os pares\n",
    "encontrados_arr = np.where(meu_array % 2 == 0)\n",
    "\n",
    "print('As posições encontradas foram {}'.format(', '.join([str(p) for p in list(encontrados_arr)])))\n",
    "print('As valores encontradas foram {}'.format(', '.join([str(meu_array[p]) for p in list(encontrados_arr)])))"
   ]
  },
  {
   "cell_type": "code",
   "execution_count": 2,
   "metadata": {
    "colab": {
     "base_uri": "https://localhost:8080/"
    },
    "executionInfo": {
     "elapsed": 771,
     "status": "ok",
     "timestamp": 1605570680964,
     "user": {
      "displayName": "Orlando O. S.",
      "photoUrl": "https://lh3.googleusercontent.com/a-/AOh14Gj-E1yuy1M_3ruwN4TWYPK4BwysauSW7GQmHheS=s64",
      "userId": "15066502291703974467"
     },
     "user_tz": 180
    },
    "id": "S8TmyIPTHL0-",
    "outputId": "bcaafb48-2c40-4ce6-e5b0-b570245977a4"
   },
   "outputs": [
    {
     "name": "stdout",
     "output_type": "stream",
     "text": [
      "As posições encontradas foram [0 2 4 6 8]\n",
      "As valores encontradas foram [1 3 5 7 9]\n"
     ]
    }
   ],
   "source": [
    "import numpy as np\n",
    "\n",
    "meu_array = np.array([1, 2, 3, 4, 5, 6, 7, 8, 9, 10])\n",
    "# Encontrar os impares\n",
    "encontrados_arr = np.where(meu_array % 2 == 1)\n",
    "\n",
    "print('As posições encontradas foram {}'.format(', '.join([str(p) for p in list(encontrados_arr)])))\n",
    "print('As valores encontradas foram {}'.format(', '.join([str(meu_array[p]) for p in list(encontrados_arr)])))"
   ]
  },
  {
   "cell_type": "code",
   "execution_count": 3,
   "metadata": {
    "colab": {
     "base_uri": "https://localhost:8080/"
    },
    "executionInfo": {
     "elapsed": 834,
     "status": "ok",
     "timestamp": 1605570706295,
     "user": {
      "displayName": "Orlando O. S.",
      "photoUrl": "https://lh3.googleusercontent.com/a-/AOh14Gj-E1yuy1M_3ruwN4TWYPK4BwysauSW7GQmHheS=s64",
      "userId": "15066502291703974467"
     },
     "user_tz": 180
    },
    "id": "7MsAbfsrG_SH",
    "outputId": "8010b02f-88ac-468b-df27-bd4e50bff455"
   },
   "outputs": [
    {
     "name": "stdout",
     "output_type": "stream",
     "text": [
      "As posições encontradas foram [2 5 8]\n",
      "As valores encontradas foram [30 60 90]\n"
     ]
    }
   ],
   "source": [
    "import numpy as np\n",
    "\n",
    "meu_array = np.array([10, 20, 30, 40, 50, 60, 70, 80, 90, 100])\n",
    "# Encontrar os multiplos de 3\n",
    "encontrados_arr = np.where(meu_array % 3 == 0)\n",
    "\n",
    "print('As posições encontradas foram {}'.format(', '.join([str(p) for p in list(encontrados_arr)])))\n",
    "print('As valores encontradas foram {}'.format(', '.join([str(meu_array[p]) for p in list(encontrados_arr)])))"
   ]
  },
  {
   "cell_type": "markdown",
   "metadata": {
    "id": "RyuL-u1VvP6D"
   },
   "source": [
    "## Pesquisa Ordenada para identifica onde determinado valores deveria ser inserido no array mantendo-o ordenado\n"
   ]
  },
  {
   "cell_type": "code",
   "execution_count": 4,
   "metadata": {
    "colab": {
     "base_uri": "https://localhost:8080/"
    },
    "executionInfo": {
     "elapsed": 794,
     "status": "ok",
     "timestamp": 1605570759449,
     "user": {
      "displayName": "Orlando O. S.",
      "photoUrl": "https://lh3.googleusercontent.com/a-/AOh14Gj-E1yuy1M_3ruwN4TWYPK4BwysauSW7GQmHheS=s64",
      "userId": "15066502291703974467"
     },
     "user_tz": 180
    },
    "id": "YxhUNLvnvP6E",
    "outputId": "3316d66f-fc67-4a6f-b1e3-cb2b43519177"
   },
   "outputs": [
    {
     "name": "stdout",
     "output_type": "stream",
     "text": [
      "6\n"
     ]
    }
   ],
   "source": [
    "import numpy as np\n",
    "\n",
    "meu_array = np.array([1, 2, 3, 4, 5, 6, 8, 9, 10])\n",
    "\n",
    "x = np.searchsorted(meu_array, 7)\n",
    "\n",
    "print(x)"
   ]
  },
  {
   "cell_type": "code",
   "execution_count": 5,
   "metadata": {
    "colab": {
     "base_uri": "https://localhost:8080/"
    },
    "executionInfo": {
     "elapsed": 768,
     "status": "ok",
     "timestamp": 1605570789900,
     "user": {
      "displayName": "Orlando O. S.",
      "photoUrl": "https://lh3.googleusercontent.com/a-/AOh14Gj-E1yuy1M_3ruwN4TWYPK4BwysauSW7GQmHheS=s64",
      "userId": "15066502291703974467"
     },
     "user_tz": 180
    },
    "id": "FTABTp4tV7HU",
    "outputId": "85b08013-942a-4e3a-cdf7-610bb623340f"
   },
   "outputs": [
    {
     "name": "stdout",
     "output_type": "stream",
     "text": [
      "[1 2 3]\n"
     ]
    }
   ],
   "source": [
    "import numpy as np\n",
    "\n",
    "meu_array = np.array([1, 3, 5, 7])\n",
    "\n",
    "x = np.searchsorted(meu_array, [2, 4, 6])\n",
    "\n",
    "print(x)"
   ]
  },
  {
   "cell_type": "markdown",
   "metadata": {
    "id": "0cJzGEfmvP6L"
   },
   "source": [
    "## Ordenação de matrizes usando sort()\n",
    "Colocar os elementos em uma sequência ordenada, numérico ou alfabético, crescente ou decrescente.\n",
    "  "
   ]
  },
  {
   "cell_type": "code",
   "execution_count": 6,
   "metadata": {
    "colab": {
     "base_uri": "https://localhost:8080/"
    },
    "executionInfo": {
     "elapsed": 737,
     "status": "ok",
     "timestamp": 1605570863584,
     "user": {
      "displayName": "Orlando O. S.",
      "photoUrl": "https://lh3.googleusercontent.com/a-/AOh14Gj-E1yuy1M_3ruwN4TWYPK4BwysauSW7GQmHheS=s64",
      "userId": "15066502291703974467"
     },
     "user_tz": 180
    },
    "id": "Kmg_ei9XvP6M",
    "outputId": "852d9618-23a1-46de-880e-27b6e7384631"
   },
   "outputs": [
    {
     "name": "stdout",
     "output_type": "stream",
     "text": [
      "[ 10  20  30  40  50  60  70  80  90 100]\n"
     ]
    }
   ],
   "source": [
    "import numpy as np\n",
    "\n",
    "meu_array = np.array([10, 30, 60, 90, 20,100, 70, 80, 40, 50])\n",
    "\n",
    "print(np.sort(meu_array))"
   ]
  },
  {
   "cell_type": "code",
   "execution_count": 7,
   "metadata": {
    "colab": {
     "base_uri": "https://localhost:8080/"
    },
    "executionInfo": {
     "elapsed": 748,
     "status": "ok",
     "timestamp": 1605570879950,
     "user": {
      "displayName": "Orlando O. S.",
      "photoUrl": "https://lh3.googleusercontent.com/a-/AOh14Gj-E1yuy1M_3ruwN4TWYPK4BwysauSW7GQmHheS=s64",
      "userId": "15066502291703974467"
     },
     "user_tz": 180
    },
    "id": "pztKpA78XLmU",
    "outputId": "b2bba893-f334-479c-ab1f-411405139390"
   },
   "outputs": [
    {
     "name": "stdout",
     "output_type": "stream",
     "text": [
      "[[ 10  20  30  40  50  60  70  80  90 100]\n",
      " [  1   2   3   4   5   6   7   8   9  10]\n",
      " [ 10  20  30  40  50  60  70  80  90 100]]\n"
     ]
    }
   ],
   "source": [
    "import numpy as np\n",
    "\n",
    "meu_array = np.array([\n",
    "                      [10, 30, 60, 90, 20,100, 70, 80, 40, 50],\n",
    "                      [1, 3, 6, 9, 2,10, 7, 8, 4, 5],\n",
    "                      [10, 30, 60, 90, 20,100, 70, 80, 40, 50]\n",
    "])\n",
    "\n",
    "print(np.sort(meu_array))"
   ]
  },
  {
   "cell_type": "code",
   "execution_count": 8,
   "metadata": {
    "colab": {
     "base_uri": "https://localhost:8080/"
    },
    "executionInfo": {
     "elapsed": 602,
     "status": "ok",
     "timestamp": 1605570928031,
     "user": {
      "displayName": "Orlando O. S.",
      "photoUrl": "https://lh3.googleusercontent.com/a-/AOh14Gj-E1yuy1M_3ruwN4TWYPK4BwysauSW7GQmHheS=s64",
      "userId": "15066502291703974467"
     },
     "user_tz": 180
    },
    "id": "U3G2vKBmvP6P",
    "outputId": "e2f3de91-710e-46b5-cf7d-dec7ccce180a"
   },
   "outputs": [
    {
     "name": "stdout",
     "output_type": "stream",
     "text": [
      "['Leste' 'Norte' 'Oeste' 'Sul']\n"
     ]
    }
   ],
   "source": [
    "import numpy as np\n",
    "\n",
    "meu_array = np.array(['Norte', 'Sul', 'Leste', 'Oeste'])\n",
    "\n",
    "print(np.sort(meu_array))"
   ]
  },
  {
   "cell_type": "code",
   "execution_count": 9,
   "metadata": {
    "colab": {
     "base_uri": "https://localhost:8080/"
    },
    "executionInfo": {
     "elapsed": 915,
     "status": "ok",
     "timestamp": 1605570933330,
     "user": {
      "displayName": "Orlando O. S.",
      "photoUrl": "https://lh3.googleusercontent.com/a-/AOh14Gj-E1yuy1M_3ruwN4TWYPK4BwysauSW7GQmHheS=s64",
      "userId": "15066502291703974467"
     },
     "user_tz": 180
    },
    "id": "HTotNQrpvP6V",
    "outputId": "2c6f9304-632f-44e5-b32d-e7d658d47a9f"
   },
   "outputs": [
    {
     "name": "stdout",
     "output_type": "stream",
     "text": [
      "[False False False False False False  True  True  True  True]\n"
     ]
    }
   ],
   "source": [
    "import numpy as np\n",
    "\n",
    "meu_array = np.array([True, False, False, False, False, True, True, False, True, False])\n",
    "\n",
    "print(np.sort(meu_array))"
   ]
  },
  {
   "cell_type": "markdown",
   "metadata": {
    "id": "cP_QNs0MvP6d"
   },
   "source": [
    "## Filtrar matrizes usando uma lista de índice booleano .\n",
    "- Se o valor em um índice for True o elemento é mantido, se False é excluído do resultado"
   ]
  },
  {
   "cell_type": "code",
   "execution_count": 10,
   "metadata": {
    "colab": {
     "base_uri": "https://localhost:8080/"
    },
    "executionInfo": {
     "elapsed": 763,
     "status": "ok",
     "timestamp": 1605571094464,
     "user": {
      "displayName": "Orlando O. S.",
      "photoUrl": "https://lh3.googleusercontent.com/a-/AOh14Gj-E1yuy1M_3ruwN4TWYPK4BwysauSW7GQmHheS=s64",
      "userId": "15066502291703974467"
     },
     "user_tz": 180
    },
    "id": "reLEMjNUfWem",
    "outputId": "427c4c59-bee5-4c1e-fb02-02145ce7f5f2"
   },
   "outputs": [
    {
     "data": {
      "text/plain": [
       "array([2, 4])"
      ]
     },
     "execution_count": 10,
     "metadata": {},
     "output_type": "execute_result"
    }
   ],
   "source": [
    "arr1 = np.array([1,2,3,4,5])\n",
    "arr1[[False, True, False, True, False]]"
   ]
  },
  {
   "cell_type": "code",
   "execution_count": 11,
   "metadata": {
    "colab": {
     "base_uri": "https://localhost:8080/"
    },
    "executionInfo": {
     "elapsed": 817,
     "status": "ok",
     "timestamp": 1605571149971,
     "user": {
      "displayName": "Orlando O. S.",
      "photoUrl": "https://lh3.googleusercontent.com/a-/AOh14Gj-E1yuy1M_3ruwN4TWYPK4BwysauSW7GQmHheS=s64",
      "userId": "15066502291703974467"
     },
     "user_tz": 180
    },
    "id": "5iiGEKJ3YTMd",
    "outputId": "fd17d873-735f-482c-9fd4-d131f5301af7"
   },
   "outputs": [
    {
     "name": "stdout",
     "output_type": "stream",
     "text": [
      "[ 10  20  30  40  50  60  70  80  90 100]\n",
      "[False False  True False False  True False False  True False]\n",
      "[30 60 90]\n"
     ]
    }
   ],
   "source": [
    "import numpy as np\n",
    "\n",
    "meu_array = np.array([10, 20, 30, 40, 50, 60, 70, 80, 90, 100])\n",
    "print(meu_array)\n",
    "\n",
    "filtro_multip3 = meu_array % 3 == 0\n",
    "print(filtro_multip3)\n",
    "\n",
    "\n",
    "array_filtrado = meu_array[filtro_multip3]\n",
    "print(array_filtrado)"
   ]
  },
  {
   "cell_type": "code",
   "execution_count": 12,
   "metadata": {
    "colab": {
     "base_uri": "https://localhost:8080/"
    },
    "executionInfo": {
     "elapsed": 789,
     "status": "ok",
     "timestamp": 1605571199967,
     "user": {
      "displayName": "Orlando O. S.",
      "photoUrl": "https://lh3.googleusercontent.com/a-/AOh14Gj-E1yuy1M_3ruwN4TWYPK4BwysauSW7GQmHheS=s64",
      "userId": "15066502291703974467"
     },
     "user_tz": 180
    },
    "id": "LrfDBv20YTMh",
    "outputId": "0f915017-e7b3-4780-b613-d89f3c8ca7de"
   },
   "outputs": [
    {
     "name": "stdout",
     "output_type": "stream",
     "text": [
      "[[ 10  20  30  40  50  60  70  80  90 100]\n",
      " [  1   2   3   4   5   6   7   8   9  10]\n",
      " [ 10  20  30  40  50  60  70  80  90 100]]\n",
      "[[False False  True False False  True False False  True False]\n",
      " [False False  True False False  True False False  True False]\n",
      " [False False  True False False  True False False  True False]]\n",
      "[30 60 90  3  6  9 30 60 90]\n"
     ]
    }
   ],
   "source": [
    "import numpy as np\n",
    "\n",
    "meu_array = np.array([\n",
    "    [10, 20, 30, 40, 50, 60, 70, 80, 90, 100],\n",
    "    [1, 2, 3, 4, 5, 6, 7, 8, 9, 10],\n",
    "    [10, 20, 30, 40, 50, 60, 70, 80, 90, 100]\n",
    "])\n",
    "\n",
    "print(meu_array)\n",
    "\n",
    "filtro_multip3 = meu_array % 3 == 0\n",
    "print(filtro_multip3)\n",
    "\n",
    "\n",
    "array_filtrado = meu_array[filtro_multip3]\n",
    "print(array_filtrado)\n",
    "\n"
   ]
  },
  {
   "cell_type": "markdown",
   "metadata": {
    "id": "EG_w3LVpvP6p"
   },
   "source": [
    "- Filtrar passando a expressão direta como indice"
   ]
  },
  {
   "cell_type": "code",
   "execution_count": 13,
   "metadata": {
    "colab": {
     "base_uri": "https://localhost:8080/"
    },
    "executionInfo": {
     "elapsed": 822,
     "status": "ok",
     "timestamp": 1605571368193,
     "user": {
      "displayName": "Orlando O. S.",
      "photoUrl": "https://lh3.googleusercontent.com/a-/AOh14Gj-E1yuy1M_3ruwN4TWYPK4BwysauSW7GQmHheS=s64",
      "userId": "15066502291703974467"
     },
     "user_tz": 180
    },
    "id": "q6Yz1qMuvP6q",
    "outputId": "b6a71948-927f-41c8-b29e-b9d330b2556f"
   },
   "outputs": [
    {
     "name": "stdout",
     "output_type": "stream",
     "text": [
      "[ 20  30  40  60  80  90 100]\n"
     ]
    }
   ],
   "source": [
    "import numpy as np\n",
    "\n",
    "meu_array = np.array([10, 20, 30, 40, 50, 60, 70, 80, 90, 100])\n",
    "\n",
    "novo_array = meu_array[(meu_array % 3 == 0) | (meu_array % 4 == 0)  ]\n",
    "\n",
    "print(novo_array)"
   ]
  },
  {
   "cell_type": "markdown",
   "metadata": {},
   "source": [
    "## Leituras Adicionais e Referências:\n",
    "\n",
    "- Python Tutorial at W3Schools: https://www.w3schools.com/python/\n",
    "- Python official documentation: https://docs.python.org/3/tutorial/index.html\n",
    "- NumPy v1.19 Manual: https://numpy.org/doc/stable/"
   ]
  }
 ],
 "metadata": {
  "colab": {
   "collapsed_sections": [],
   "name": "Aula 07 Introdução à Linguagem de Python para Analytics e Data Science.ipynb",
   "provenance": []
  },
  "kernelspec": {
   "display_name": "Python 3",
   "language": "python",
   "name": "python3"
  },
  "language_info": {
   "codemirror_mode": {
    "name": "ipython",
    "version": 3
   },
   "file_extension": ".py",
   "mimetype": "text/x-python",
   "name": "python",
   "nbconvert_exporter": "python",
   "pygments_lexer": "ipython3",
   "version": "3.7.8"
  }
 },
 "nbformat": 4,
 "nbformat_minor": 1
}
