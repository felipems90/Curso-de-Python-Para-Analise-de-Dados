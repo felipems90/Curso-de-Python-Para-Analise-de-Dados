{
 "cells": [
  {
   "cell_type": "markdown",
   "metadata": {
    "id": "uGqJJfZ36iR6"
   },
   "source": [
    "# 02 - Numpy - Computação Vetorial e Matricial\n",
    "## Aula 09 - Numpy - Matrizes e Computação Vetorizada"
   ]
  },
  {
   "cell_type": "markdown",
   "metadata": {
    "id": "JNifjo59P9mf"
   },
   "source": [
    "## Professor: Orlando Oliveira dos Santos, MsC.\n",
    " - E-mail: professor.orlando.santos@gmail.com \n",
    " - Youtube :https://www.youtube.com/channel/UCPWWbkPWFmOjXH50TQWNAYg\n",
    " - Linkedin: https://linkedin.com/in/orlandoosantos\n",
    " - Facebook: https://www.facebook.com/proforlandosantosmsc/\n",
    " - Twitter: https://twitter.com/ProfOrlandoMsC\n",
    " - Instagram: https://www.instagram.com/proforlandosantosmsc/\n",
    "\n",
    "\n",
    "\n",
    "## Formação Acadêmica\n",
    "- Mestrado em Computação Aplicada - UnB (2014 – 2016)\t\n",
    "- MBA, Administração Estratégica de Sistemas de Informação – FGV (2011 – 2013)\n",
    "- Tecnólogo em Processamento de Dados, Análise e Desenvolvimento de Sistemas – FAETEC/SP (2000-2002)"
   ]
  },
  {
   "cell_type": "markdown",
   "metadata": {
    "id": "-wttXmB0JYuh"
   },
   "source": [
    "# NumPy: matrizes e computação vetorizada"
   ]
  },
  {
   "cell_type": "markdown",
   "metadata": {
    "id": "bZs_qyB2NdMm"
   },
   "source": [
    "# Exercícios de Fixação\n",
    "***\n",
    "\n",
    "Fazer esses calculos para casos e obitos a partir das colunas acumulada de casos e obitos do Exemplo de Aplicação Prática da aula.\n",
    "- como obter a curva acumulada  do Brasil\n",
    "- como obter a curva acumulada  de cada estado e municipio\n",
    "- como obter a curva acumulada  de cada regiao\n",
    "- como obter a curva as diferencas dia a dia por pais, regiao, estado, municipio\n",
    "- como calcular os totais acumulados por pais, regiao, estado, municipio\n",
    "- como calcular as médias entre regiao, estado, municipio\n",
    "- como calcular o desvio-padrão entre regiao, estado, municipio, estados da regiao e município do estado\n",
    "- como calular o pior e o melhor estado, municipio e regiao\n",
    "- como calcular a média movel para regiao, estado, municipio e pais\n",
    "- como calcular a taxa de crescimento da média móvel para regiao, estado, municipio e pais\n",
    "- como identificar maiores crescimento da média movel dia a dia regiao, estado, municipio\n",
    "- como calcular por 100mil habitantes\n",
    "\n"
   ]
  },
  {
   "cell_type": "code",
   "execution_count": null,
   "metadata": {},
   "outputs": [],
   "source": []
  }
 ],
 "metadata": {
  "colab": {
   "collapsed_sections": [],
   "name": "Aula 07 Introdução à Linguagem de Python para Analytics e Data Science.ipynb",
   "provenance": []
  },
  "kernelspec": {
   "display_name": "Python 3",
   "language": "python",
   "name": "python3"
  },
  "language_info": {
   "codemirror_mode": {
    "name": "ipython",
    "version": 3
   },
   "file_extension": ".py",
   "mimetype": "text/x-python",
   "name": "python",
   "nbconvert_exporter": "python",
   "pygments_lexer": "ipython3",
   "version": "3.7.8"
  }
 },
 "nbformat": 4,
 "nbformat_minor": 1
}
