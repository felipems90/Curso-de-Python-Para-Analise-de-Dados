{
 "cells": [
  {
   "cell_type": "markdown",
   "metadata": {
    "id": "uGqJJfZ36iR6"
   },
   "source": [
    "# 02 - Numpy - Computação Vetorial e Matricial\n",
    "## Aula 09 - 05 - Numpy -  Interação com  Arrays e Matrizes"
   ]
  },
  {
   "cell_type": "markdown",
   "metadata": {
    "id": "JNifjo59P9mf"
   },
   "source": [
    "## Professor: Orlando Oliveira dos Santos, MsC.\n",
    " - E-mail: professor.orlando.santos@gmail.com \n",
    " - Youtube :https://www.youtube.com/channel/UCPWWbkPWFmOjXH50TQWNAYg\n",
    " - Linkedin: https://linkedin.com/in/orlandoosantos\n",
    " - Facebook: https://www.facebook.com/proforlandosantosmsc/\n",
    " - Twitter: https://twitter.com/ProfOrlandoMsC\n",
    " - Instagram: https://www.instagram.com/proforlandosantosmsc/\n",
    "\n",
    "\n",
    "\n",
    "## Formação Acadêmica\n",
    "- Mestrado em Computação Aplicada - UnB (2014 – 2016)\t\n",
    "- MBA, Administração Estratégica de Sistemas de Informação – FGV (2011 – 2013)\n",
    "- Tecnólogo em Processamento de Dados, Análise e Desenvolvimento de Sistemas – FAETEC/SP (2000-2002)"
   ]
  },
  {
   "cell_type": "markdown",
   "metadata": {
    "id": "-wttXmB0JYuh"
   },
   "source": [
    "# Numpy -  Interação com  Arrays e Matrizes"
   ]
  },
  {
   "cell_type": "markdown",
   "metadata": {
    "id": "oIIICNU_vP4Z"
   },
   "source": [
    "## Fazendo iteração em NumPy Array \n",
    "- Utilize forloop para iterar por cada elemento de um array;\n",
    "- Utilize loops aninhados para iterar nos elementos de cada.\n",
    "\n",
    "\n",
    "#### iteração em  Arrays 1-D"
   ]
  },
  {
   "cell_type": "code",
   "execution_count": 1,
   "metadata": {
    "colab": {
     "base_uri": "https://localhost:8080/"
    },
    "executionInfo": {
     "elapsed": 1812,
     "status": "ok",
     "timestamp": 1605568547537,
     "user": {
      "displayName": "Orlando O. S.",
      "photoUrl": "https://lh3.googleusercontent.com/a-/AOh14Gj-E1yuy1M_3ruwN4TWYPK4BwysauSW7GQmHheS=s64",
      "userId": "15066502291703974467"
     },
     "user_tz": 180
    },
    "id": "UKU9O6FAvP4a",
    "outputId": "8a34d4b6-6190-417f-da89-1bfaf1340fcf"
   },
   "outputs": [
    {
     "name": "stdout",
     "output_type": "stream",
     "text": [
      "1, 2, 3, 4, 5, 6, 7, 8, 9, 10, 11, 12, 13, 14, 15, 16, 17, 18, 19, 20, 21, 22, 23, 24, 25, 26, 27, 28, 29, 30, 31, 32, 33, 34, 35, 36, 37, 38, 39, 40, "
     ]
    }
   ],
   "source": [
    "import numpy as np\n",
    "\n",
    "meu_array = np.array([ 1,  2,  3,  4,  5,  6,  7,  8,  9, 10, 11, 12, 13, 14, 15, 16, 17,\n",
    "       18, 19, 20, 21, 22, 23, 24, 25, 26, 27, 28, 29, 30, 31, 32, 33, 34,\n",
    "       35, 36, 37, 38, 39, 40])\n",
    "\n",
    "for x in meu_array:\n",
    "  print(x, end=', ')\n"
   ]
  },
  {
   "cell_type": "markdown",
   "metadata": {
    "id": "Fm4AyX9hvP4e"
   },
   "source": [
    "#### Iteração em   matriz 2-D"
   ]
  },
  {
   "cell_type": "code",
   "execution_count": 2,
   "metadata": {
    "colab": {
     "base_uri": "https://localhost:8080/"
    },
    "executionInfo": {
     "elapsed": 1310,
     "status": "ok",
     "timestamp": 1605568614435,
     "user": {
      "displayName": "Orlando O. S.",
      "photoUrl": "https://lh3.googleusercontent.com/a-/AOh14Gj-E1yuy1M_3ruwN4TWYPK4BwysauSW7GQmHheS=s64",
      "userId": "15066502291703974467"
     },
     "user_tz": 180
    },
    "id": "WPxNnN9OvP4e",
    "outputId": "05cea8b8-1400-498d-f1ab-df0eae8359f3"
   },
   "outputs": [
    {
     "name": "stdout",
     "output_type": "stream",
     "text": [
      "[ 1  2  3  4  5  6  7  8  9 10]\n",
      "[11 12 13 14 15 16 17 18 19 20]\n",
      "[21 22 23 24 25 26 27 28 29 30]\n",
      "[31 32 33 34 35 36 37 38 39 40]\n"
     ]
    }
   ],
   "source": [
    "import numpy as np\n",
    "\n",
    "meu_array = np.array([[1,2,3,4,5,6,7,8,9,10],\n",
    "              [11,12,13,14,15,16,17,18,19,20],\n",
    "              [21,22,23,24,25,26,27,28,29,30],\n",
    "              [31,32,33,34,35,36,37,38,39,40]])\n",
    "\n",
    "for x in meu_array:\n",
    "  print(x)"
   ]
  },
  {
   "cell_type": "code",
   "execution_count": 3,
   "metadata": {
    "colab": {
     "base_uri": "https://localhost:8080/"
    },
    "executionInfo": {
     "elapsed": 732,
     "status": "ok",
     "timestamp": 1605568645949,
     "user": {
      "displayName": "Orlando O. S.",
      "photoUrl": "https://lh3.googleusercontent.com/a-/AOh14Gj-E1yuy1M_3ruwN4TWYPK4BwysauSW7GQmHheS=s64",
      "userId": "15066502291703974467"
     },
     "user_tz": 180
    },
    "id": "zzx6v2JjvP4k",
    "outputId": "49026ebc-2fc0-4a84-ef9d-49f317e3b3fe"
   },
   "outputs": [
    {
     "name": "stdout",
     "output_type": "stream",
     "text": [
      "linha: [ 1  2  3  4  5  6  7  8  9 10]\n",
      "coluna:  1; coluna:  2; coluna:  3; coluna:  4; coluna:  5; coluna:  6; coluna:  7; coluna:  8; coluna:  9; coluna:  10; \n",
      "linha: [11 12 13 14 15 16 17 18 19 20]\n",
      "coluna:  11; coluna:  12; coluna:  13; coluna:  14; coluna:  15; coluna:  16; coluna:  17; coluna:  18; coluna:  19; coluna:  20; \n",
      "linha: [21 22 23 24 25 26 27 28 29 30]\n",
      "coluna:  21; coluna:  22; coluna:  23; coluna:  24; coluna:  25; coluna:  26; coluna:  27; coluna:  28; coluna:  29; coluna:  30; \n",
      "linha: [31 32 33 34 35 36 37 38 39 40]\n",
      "coluna:  31; coluna:  32; coluna:  33; coluna:  34; coluna:  35; coluna:  36; coluna:  37; coluna:  38; coluna:  39; coluna:  40; \n"
     ]
    }
   ],
   "source": [
    "import numpy as np\n",
    "\n",
    "import numpy as np\n",
    "\n",
    "meu_array = np.array([[1,2,3,4,5,6,7,8,9,10],\n",
    "              [11,12,13,14,15,16,17,18,19,20],\n",
    "              [21,22,23,24,25,26,27,28,29,30],\n",
    "              [31,32,33,34,35,36,37,38,39,40]])\n",
    "\n",
    "for x in meu_array:\n",
    "  print('linha:', x)\n",
    "  for y in x:\n",
    "    print('coluna: ', y, end='; ')\n",
    "  print('')"
   ]
  },
  {
   "cell_type": "code",
   "execution_count": 4,
   "metadata": {
    "colab": {
     "base_uri": "https://localhost:8080/"
    },
    "executionInfo": {
     "elapsed": 822,
     "status": "ok",
     "timestamp": 1605568889655,
     "user": {
      "displayName": "Orlando O. S.",
      "photoUrl": "https://lh3.googleusercontent.com/a-/AOh14Gj-E1yuy1M_3ruwN4TWYPK4BwysauSW7GQmHheS=s64",
      "userId": "15066502291703974467"
     },
     "user_tz": 180
    },
    "id": "f72YlBEAWo71",
    "outputId": "0a99e680-531e-4487-e5b6-3a564e54b94e"
   },
   "outputs": [
    {
     "name": "stdout",
     "output_type": "stream",
     "text": [
      "[ 10  40  90 160 250 360]\n"
     ]
    }
   ],
   "source": [
    "quantidade  = np.array( [1,2,3,4,5,6])\n",
    "preco = np.array( [10,20,30,40,50,60])\n",
    "faturamento = quantidade * preco\n",
    "print(faturamento)\n"
   ]
  },
  {
   "cell_type": "code",
   "execution_count": 5,
   "metadata": {
    "colab": {
     "base_uri": "https://localhost:8080/"
    },
    "executionInfo": {
     "elapsed": 884,
     "status": "ok",
     "timestamp": 1605569043548,
     "user": {
      "displayName": "Orlando O. S.",
      "photoUrl": "https://lh3.googleusercontent.com/a-/AOh14Gj-E1yuy1M_3ruwN4TWYPK4BwysauSW7GQmHheS=s64",
      "userId": "15066502291703974467"
     },
     "user_tz": 180
    },
    "id": "3qiQtcw4XZVP",
    "outputId": "d41e3fb2-3613-4a1d-b178-73a5272d2ca5"
   },
   "outputs": [
    {
     "name": "stdout",
     "output_type": "stream",
     "text": [
      "[10, 40, 90, 160, 250, 360]\n"
     ]
    }
   ],
   "source": [
    "quantidade  =  [1,2,3,4,5,6]\n",
    "preco =  [10,20,30,40,50,60]\n",
    "faturamento = [ qt * pr for qt , pr in zip(quantidade,preco)]\n",
    "print(faturamento)"
   ]
  },
  {
   "cell_type": "markdown",
   "metadata": {
    "id": "BqHcSAG3vP4p"
   },
   "source": [
    "### Iteração em matrizes 3-D"
   ]
  },
  {
   "cell_type": "code",
   "execution_count": 6,
   "metadata": {
    "colab": {
     "base_uri": "https://localhost:8080/"
    },
    "executionInfo": {
     "elapsed": 651,
     "status": "ok",
     "timestamp": 1605569188332,
     "user": {
      "displayName": "Orlando O. S.",
      "photoUrl": "https://lh3.googleusercontent.com/a-/AOh14Gj-E1yuy1M_3ruwN4TWYPK4BwysauSW7GQmHheS=s64",
      "userId": "15066502291703974467"
     },
     "user_tz": 180
    },
    "id": "sjbMh7Y0vP4u",
    "outputId": "235dac3e-de76-4239-df69-8e6a2d356065"
   },
   "outputs": [
    {
     "name": "stdout",
     "output_type": "stream",
     "text": [
      "10\n",
      "20\n",
      "30\n",
      "\n",
      "40\n",
      "50\n",
      "60\n",
      "\n",
      "\n",
      "70\n",
      "80\n",
      "90\n",
      "\n",
      "100\n",
      "110\n",
      "120\n",
      "\n",
      "\n"
     ]
    }
   ],
   "source": [
    "import numpy as np\n",
    "\n",
    "meu_array = np.array([\n",
    "                      [\n",
    "                       [10, 20, 30], \n",
    "                       [40, 50, 60]\n",
    "                       ], \n",
    "                      [\n",
    "                       [70, 80, 90], \n",
    "                       [100, 110, 120]\n",
    "                       ]\n",
    "                      ])\n",
    "\n",
    "for x in meu_array:\n",
    "  for y in x:\n",
    "    for z in y:\n",
    "      print(z)\n",
    "    print('')\n",
    "  print('')"
   ]
  },
  {
   "cell_type": "markdown",
   "metadata": {
    "id": "iKyUKiPwvP4z"
   },
   "source": [
    "# Simplificando a iteração com nditer ()\n",
    "- Percorra todos os itens de um array multidimensional usando um único loop."
   ]
  },
  {
   "cell_type": "code",
   "execution_count": 7,
   "metadata": {
    "colab": {
     "base_uri": "https://localhost:8080/"
    },
    "executionInfo": {
     "elapsed": 758,
     "status": "ok",
     "timestamp": 1605569254397,
     "user": {
      "displayName": "Orlando O. S.",
      "photoUrl": "https://lh3.googleusercontent.com/a-/AOh14Gj-E1yuy1M_3ruwN4TWYPK4BwysauSW7GQmHheS=s64",
      "userId": "15066502291703974467"
     },
     "user_tz": 180
    },
    "id": "Yb9vO0LWvP40",
    "outputId": "befbcc30-8441-4640-912e-56245d92300a"
   },
   "outputs": [
    {
     "name": "stdout",
     "output_type": "stream",
     "text": [
      "10, 20, 30, 40, 50, 60, 70, 80, 90, 100, 110, 120, "
     ]
    }
   ],
   "source": [
    "import numpy as np\n",
    "\n",
    "meu_array = np.array([\n",
    "                      [\n",
    "                       [10, 20, 30], \n",
    "                       [40, 50, 60]\n",
    "                       ], \n",
    "                      [\n",
    "                       [70, 80, 90], \n",
    "                       [100, 110, 120]\n",
    "                       ]\n",
    "                      ])\n",
    "\n",
    "\n",
    "for x in np.nditer(meu_array):\n",
    "  print(x, end=', ')"
   ]
  },
  {
   "cell_type": "markdown",
   "metadata": {
    "id": "TcXrkILMvP43"
   },
   "source": [
    "### Para alterar o tipo de dados dos elementos durante a iteração.\n",
    "\n",
    "Deve-se indicar o tipo de dado e se será usado um buffer durante a iteração ou se será gerado uma cópia do array.\n"
   ]
  },
  {
   "cell_type": "code",
   "execution_count": 8,
   "metadata": {
    "colab": {
     "base_uri": "https://localhost:8080/"
    },
    "executionInfo": {
     "elapsed": 811,
     "status": "ok",
     "timestamp": 1605569364953,
     "user": {
      "displayName": "Orlando O. S.",
      "photoUrl": "https://lh3.googleusercontent.com/a-/AOh14Gj-E1yuy1M_3ruwN4TWYPK4BwysauSW7GQmHheS=s64",
      "userId": "15066502291703974467"
     },
     "user_tz": 180
    },
    "id": "t9RX6cENvP43",
    "outputId": "703268d6-fd65-4184-b8ec-a8382c472634"
   },
   "outputs": [
    {
     "name": "stdout",
     "output_type": "stream",
     "text": [
      "10\n",
      "20\n",
      "30\n",
      "40\n",
      "50\n"
     ]
    }
   ],
   "source": [
    "import numpy as np\n",
    "\n",
    "meu_array = np.array([10, 20, 30, 40, 50])\n",
    "\n",
    "for x in np.nditer(meu_array, flags=['buffered'], op_dtypes=['U']):\n",
    "  print(x)"
   ]
  },
  {
   "cell_type": "code",
   "execution_count": 9,
   "metadata": {
    "colab": {
     "base_uri": "https://localhost:8080/"
    },
    "executionInfo": {
     "elapsed": 969,
     "status": "ok",
     "timestamp": 1605569374302,
     "user": {
      "displayName": "Orlando O. S.",
      "photoUrl": "https://lh3.googleusercontent.com/a-/AOh14Gj-E1yuy1M_3ruwN4TWYPK4BwysauSW7GQmHheS=s64",
      "userId": "15066502291703974467"
     },
     "user_tz": 180
    },
    "id": "XYnAcPARDq19",
    "outputId": "d4532e8c-f145-4a46-dd28-f789b823ab5e"
   },
   "outputs": [
    {
     "name": "stdout",
     "output_type": "stream",
     "text": [
      "10.0\n",
      "20.0\n",
      "30.0\n",
      "40.0\n",
      "50.0\n"
     ]
    }
   ],
   "source": [
    "import numpy as np\n",
    "\n",
    "meu_array = np.array([10, 20, 30, 40, 50])\n",
    "\n",
    "for x in np.nditer(meu_array, flags=['buffered'], op_dtypes=['f8']):\n",
    "  print(x)"
   ]
  },
  {
   "cell_type": "markdown",
   "metadata": {
    "id": "Tw4oUsN3vP46"
   },
   "source": [
    "## Iteração enumerada com indice usando ndenumerate ()\n",
    "### Iterando em array 1-D"
   ]
  },
  {
   "cell_type": "code",
   "execution_count": 10,
   "metadata": {
    "colab": {
     "base_uri": "https://localhost:8080/"
    },
    "executionInfo": {
     "elapsed": 853,
     "status": "ok",
     "timestamp": 1605569496598,
     "user": {
      "displayName": "Orlando O. S.",
      "photoUrl": "https://lh3.googleusercontent.com/a-/AOh14Gj-E1yuy1M_3ruwN4TWYPK4BwysauSW7GQmHheS=s64",
      "userId": "15066502291703974467"
     },
     "user_tz": 180
    },
    "id": "2nr0yOnQvP47",
    "outputId": "d9829bef-b6cd-405a-9606-e02c17a98274"
   },
   "outputs": [
    {
     "name": "stdout",
     "output_type": "stream",
     "text": [
      "(0,) 10\n",
      "(2,) 30\n",
      "(4,) 50\n"
     ]
    }
   ],
   "source": [
    "import numpy as np\n",
    "\n",
    "meu_array = np.array([10, 20, 30, 40, 50])\n",
    "\n",
    "for idx, x in np.ndenumerate(meu_array):\n",
    "    if idx[0] % 2 == 0:\n",
    "      print(idx, x)"
   ]
  },
  {
   "cell_type": "markdown",
   "metadata": {
    "id": "mols32oyvP49"
   },
   "source": [
    "### Iterando em matriz 2D:"
   ]
  },
  {
   "cell_type": "code",
   "execution_count": 11,
   "metadata": {
    "colab": {
     "base_uri": "https://localhost:8080/"
    },
    "executionInfo": {
     "elapsed": 749,
     "status": "ok",
     "timestamp": 1605569588173,
     "user": {
      "displayName": "Orlando O. S.",
      "photoUrl": "https://lh3.googleusercontent.com/a-/AOh14Gj-E1yuy1M_3ruwN4TWYPK4BwysauSW7GQmHheS=s64",
      "userId": "15066502291703974467"
     },
     "user_tz": 180
    },
    "id": "y7IrQAEIvP4-",
    "outputId": "7f1d8d52-b4d5-4c3d-c1d9-4d17fd41efdc"
   },
   "outputs": [
    {
     "name": "stdout",
     "output_type": "stream",
     "text": [
      "(0,) [21, 22, 23, 24, 25]\n",
      "(0,) 21\n",
      "(1,) 22\n",
      "(2,) 23\n",
      "(3,) 24\n",
      "(4,) 25\n",
      "(1,) [5, 6, 7, 8]\n",
      "(0,) 5\n",
      "(1,) 6\n",
      "(2,) 7\n",
      "(3,) 8\n"
     ]
    },
    {
     "name": "stderr",
     "output_type": "stream",
     "text": [
      "c:\\python\\envs\\jupyter\\lib\\site-packages\\ipykernel_launcher.py:3: VisibleDeprecationWarning: Creating an ndarray from ragged nested sequences (which is a list-or-tuple of lists-or-tuples-or ndarrays with different lengths or shapes) is deprecated. If you meant to do this, you must specify 'dtype=object' when creating the ndarray.\n",
      "  This is separate from the ipykernel package so we can avoid doing imports until\n"
     ]
    }
   ],
   "source": [
    "import numpy as np\n",
    "\n",
    "meu_array = np.array([[21, 22, 23, 24, 25], [5, 6, 7, 8]])\n",
    "\n",
    "for idlinha, linha in np.ndenumerate(meu_array):\n",
    "  print(idlinha, linha)\n",
    "  for idcoluna, coluna in np.ndenumerate(linha):\n",
    "    print(idcoluna, coluna)"
   ]
  },
  {
   "cell_type": "markdown",
   "metadata": {},
   "source": [
    "## Leituras Adicionais e Referências:\n",
    "\n",
    "- Python Tutorial at W3Schools: https://www.w3schools.com/python/\n",
    "- Python official documentation: https://docs.python.org/3/tutorial/index.html\n",
    "- NumPy v1.19 Manual: https://numpy.org/doc/stable/"
   ]
  }
 ],
 "metadata": {
  "colab": {
   "collapsed_sections": [],
   "name": "Aula 07 Introdução à Linguagem de Python para Analytics e Data Science.ipynb",
   "provenance": []
  },
  "kernelspec": {
   "display_name": "Python 3",
   "language": "python",
   "name": "python3"
  },
  "language_info": {
   "codemirror_mode": {
    "name": "ipython",
    "version": 3
   },
   "file_extension": ".py",
   "mimetype": "text/x-python",
   "name": "python",
   "nbconvert_exporter": "python",
   "pygments_lexer": "ipython3",
   "version": "3.7.8"
  }
 },
 "nbformat": 4,
 "nbformat_minor": 1
}
