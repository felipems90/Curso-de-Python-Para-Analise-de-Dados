{
 "cells": [
  {
   "cell_type": "markdown",
   "metadata": {
    "id": "uGqJJfZ36iR6"
   },
   "source": [
    "# 02 - Numpy - Computação Vetorial e Matricial\n",
    "## Aula 09 - 09 - Numpy - Funções Matemáticas e Estatísticas em Arrays e Matrizes"
   ]
  },
  {
   "cell_type": "markdown",
   "metadata": {
    "id": "JNifjo59P9mf"
   },
   "source": [
    "## Professor: Orlando Oliveira dos Santos, MsC.\n",
    " - E-mail: professor.orlando.santos@gmail.com \n",
    " - Youtube :https://www.youtube.com/channel/UCPWWbkPWFmOjXH50TQWNAYg\n",
    " - Linkedin: https://linkedin.com/in/orlandoosantos\n",
    " - Facebook: https://www.facebook.com/proforlandosantosmsc/\n",
    " - Twitter: https://twitter.com/ProfOrlandoMsC\n",
    " - Instagram: https://www.instagram.com/proforlandosantosmsc/\n",
    "\n",
    "\n",
    "\n",
    "## Formação Acadêmica\n",
    "- Mestrado em Computação Aplicada - UnB (2014 – 2016)\t\n",
    "- MBA, Administração Estratégica de Sistemas de Informação – FGV (2011 – 2013)\n",
    "- Tecnólogo em Processamento de Dados, Análise e Desenvolvimento de Sistemas – FAETEC/SP (2000-2002)"
   ]
  },
  {
   "cell_type": "markdown",
   "metadata": {
    "id": "-wttXmB0JYuh"
   },
   "source": [
    "# Numpy - Funções Matemáticas e Estatísticas em Arrays e Matrizes"
   ]
  },
  {
   "cell_type": "markdown",
   "metadata": {
    "id": "1s9ULEpevP7E"
   },
   "source": [
    "## Ufuncs NumPy\n",
    "- ufuncs são \"Funções Universais\" que operam no objeto ndarray por meio de vetorização (operação baseada em vetor em vez de iteracao) no NumPy, que é muito mais rápido do que iterar sobre os elementos.\n",
    "\n",
    "- fornecem transmissão e métodos adicionais, como reduzir, acumular, entre outros.\n",
    "- aceitam argumentos adicionais, como: where, dtype e out.\n",
    "\n",
    "- operação baseada em vetor são mais rápidas porque as CPUs modernas são otimizadas para esse tipo de operações."
   ]
  },
  {
   "cell_type": "markdown",
   "metadata": {
    "id": "JzXtie2fvP7E"
   },
   "source": [
    "### Verifique a diferença de tempo de processamento entre uma mesma operação interativa e uma operação vetorial"
   ]
  },
  {
   "cell_type": "code",
   "execution_count": 1,
   "metadata": {
    "colab": {
     "base_uri": "https://localhost:8080/"
    },
    "executionInfo": {
     "elapsed": 1250,
     "status": "ok",
     "timestamp": 1605571921194,
     "user": {
      "displayName": "Orlando O. S.",
      "photoUrl": "https://lh3.googleusercontent.com/a-/AOh14Gj-E1yuy1M_3ruwN4TWYPK4BwysauSW7GQmHheS=s64",
      "userId": "15066502291703974467"
     },
     "user_tz": 180
    },
    "id": "aDYOmIN6vP7F",
    "outputId": "07e02289-3b3b-41a5-b8b8-6c1b0c2f2297"
   },
   "outputs": [
    {
     "name": "stdout",
     "output_type": "stream",
     "text": [
      "(10000000,)\n"
     ]
    }
   ],
   "source": [
    "import numpy as np\n",
    "x = np.random.randint(100, size=(10**7))\n",
    "y = np.random.randint(100, size=(10**7))\n",
    "z = []\n",
    "print(x.shape)"
   ]
  },
  {
   "cell_type": "code",
   "execution_count": 2,
   "metadata": {
    "colab": {
     "base_uri": "https://localhost:8080/"
    },
    "executionInfo": {
     "elapsed": 19141,
     "status": "ok",
     "timestamp": 1605571944174,
     "user": {
      "displayName": "Orlando O. S.",
      "photoUrl": "https://lh3.googleusercontent.com/a-/AOh14Gj-E1yuy1M_3ruwN4TWYPK4BwysauSW7GQmHheS=s64",
      "userId": "15066502291703974467"
     },
     "user_tz": 180
    },
    "id": "oGDC_pndsTr6",
    "outputId": "8ceffad2-1f5e-4040-bf6f-bd4616ea9a64"
   },
   "outputs": [
    {
     "name": "stdout",
     "output_type": "stream",
     "text": [
      "2.27 s ± 326 ms per loop (mean ± std. dev. of 7 runs, 1 loop each)\n"
     ]
    }
   ],
   "source": [
    "%%timeit\n",
    "for i, j in zip(x, y):\n",
    "  z.append(i + j)"
   ]
  },
  {
   "cell_type": "code",
   "execution_count": 3,
   "metadata": {
    "colab": {
     "base_uri": "https://localhost:8080/"
    },
    "executionInfo": {
     "elapsed": 2249,
     "status": "ok",
     "timestamp": 1605571946488,
     "user": {
      "displayName": "Orlando O. S.",
      "photoUrl": "https://lh3.googleusercontent.com/a-/AOh14Gj-E1yuy1M_3ruwN4TWYPK4BwysauSW7GQmHheS=s64",
      "userId": "15066502291703974467"
     },
     "user_tz": 180
    },
    "id": "uConOuPgvP7G",
    "outputId": "3bfe9136-6857-4ff1-efef-4f9901f639d7"
   },
   "outputs": [
    {
     "name": "stdout",
     "output_type": "stream",
     "text": [
      "16.6 ms ± 278 µs per loop (mean ± std. dev. of 7 runs, 10 loops each)\n"
     ]
    }
   ],
   "source": [
    "%%timeit\n",
    "z = np.add(x, y)"
   ]
  },
  {
   "cell_type": "markdown",
   "metadata": {
    "id": "UVYY2RTRtrmC"
   },
   "source": [
    "### O NumPy oferece uma grande quantidade de funções vetorias para diversos fins\n",
    "\n",
    "\n",
    "- Cálculos matemáticos: https://numpy.org/doc/stable/reference/routines.math.html\n",
    "- Cálculos estatísticos:  https://numpy.org/doc/stable/reference/routines.statistics.html\n",
    "\n",
    "- Calculos financeiros: https://numpy.org/doc/stable/reference/routines.financial.html\n",
    "- Manipulação de texto: https://numpy.org/doc/stable/reference/routines.char.html\n",
    "- Algebra linear: https://numpy.org/doc/stable/reference/routines.linalg.html"
   ]
  },
  {
   "cell_type": "markdown",
   "metadata": {
    "id": "HpE-UEnPu8eA"
   },
   "source": [
    "## Exemplo de cálculos matemáticos\n",
    "\n",
    "- Cálculos matemáticos: https://numpy.org/doc/stable/reference/routines.math.html\n"
   ]
  },
  {
   "cell_type": "markdown",
   "metadata": {
    "id": "e7ighbcYvsdf"
   },
   "source": [
    "#### floor(x, /[, out, where, casting, order, …])\n",
    "- Retorma o array com valor arrendondados para o inteiro menor"
   ]
  },
  {
   "cell_type": "code",
   "execution_count": 4,
   "metadata": {
    "colab": {
     "base_uri": "https://localhost:8080/"
    },
    "executionInfo": {
     "elapsed": 752,
     "status": "ok",
     "timestamp": 1605573204272,
     "user": {
      "displayName": "Orlando O. S.",
      "photoUrl": "https://lh3.googleusercontent.com/a-/AOh14Gj-E1yuy1M_3ruwN4TWYPK4BwysauSW7GQmHheS=s64",
      "userId": "15066502291703974467"
     },
     "user_tz": 180
    },
    "id": "1Bo6Rx7pyGs5",
    "outputId": "96e5a888-c55b-448e-893a-e2d9f4600090"
   },
   "outputs": [
    {
     "name": "stdout",
     "output_type": "stream",
     "text": [
      "[[85.21419414 25.21229956 21.36973513  8.08274549 12.03928041]\n",
      " [62.19433109 28.7969437  99.77536801 94.5269999  34.61811375]\n",
      " [ 0.7356546  77.61916653 83.07410781 71.1770724  94.78265445]]\n"
     ]
    }
   ],
   "source": [
    "from numpy import random\n",
    "\n",
    "x=random.randint(100, size=(3, 5)) + random.rand(3, 5) \n",
    "\n",
    "print(x)"
   ]
  },
  {
   "cell_type": "code",
   "execution_count": 5,
   "metadata": {
    "colab": {
     "base_uri": "https://localhost:8080/"
    },
    "executionInfo": {
     "elapsed": 856,
     "status": "ok",
     "timestamp": 1605573212280,
     "user": {
      "displayName": "Orlando O. S.",
      "photoUrl": "https://lh3.googleusercontent.com/a-/AOh14Gj-E1yuy1M_3ruwN4TWYPK4BwysauSW7GQmHheS=s64",
      "userId": "15066502291703974467"
     },
     "user_tz": 180
    },
    "id": "FFv_Z2qT504f",
    "outputId": "a0c49084-ac8f-422b-9a12-0a7d0d6f6015"
   },
   "outputs": [
    {
     "name": "stdout",
     "output_type": "stream",
     "text": [
      "[[30.96627386 11.88139795 25.5687027  36.38725652 42.69151225]\n",
      " [ 0.19698335 27.33312935 73.97299115 80.72908563 17.20192182]\n",
      " [25.03246074  1.3341385  98.11297741 19.38141037 63.80357083]]\n",
      "[[30. 11. 25. 36. 42.]\n",
      " [ 0. 27. 73. 80. 17.]\n",
      " [25.  1. 98. 19. 63.]]\n",
      "[[30.96627386 11.88139795 25.5687027  36.38725652 42.69151225]\n",
      " [ 0.19698335 27.33312935 73.97299115 80.72908563 17.20192182]\n",
      " [25.03246074  1.3341385  98.11297741 19.38141037 63.80357083]]\n"
     ]
    }
   ],
   "source": [
    "from numpy import random\n",
    "\n",
    "x=random.randint(100, size=(3, 5)) + random.rand(3, 5) \n",
    "\n",
    "print(x)\n",
    "\n",
    "print(np.floor(x))\n",
    "\n",
    "print(x)"
   ]
  },
  {
   "cell_type": "code",
   "execution_count": 6,
   "metadata": {
    "colab": {
     "base_uri": "https://localhost:8080/"
    },
    "executionInfo": {
     "elapsed": 959,
     "status": "ok",
     "timestamp": 1605573714360,
     "user": {
      "displayName": "Orlando O. S.",
      "photoUrl": "https://lh3.googleusercontent.com/a-/AOh14Gj-E1yuy1M_3ruwN4TWYPK4BwysauSW7GQmHheS=s64",
      "userId": "15066502291703974467"
     },
     "user_tz": 180
    },
    "id": "f8CKrP3BzyN6",
    "outputId": "fca2689b-dfbc-4318-fe36-904280fd4a58"
   },
   "outputs": [
    {
     "name": "stdout",
     "output_type": "stream",
     "text": [
      "[[31.61986397 79.99484409 11.38012316 49.55672057  8.31162864]\n",
      " [86.78751053 47.22707273 10.57792309  7.62486934  2.28018371]\n",
      " [15.69064545 34.62138951 39.51849289 33.80841723 26.28973441]]\n",
      "[[31. 79. 11. 49.  8.]\n",
      " [86. 47. 10.  7.  2.]\n",
      " [15. 34. 39. 33. 26.]]\n",
      "[[31. 79. 11. 49.  8.]\n",
      " [86. 47. 10.  7.  2.]\n",
      " [15. 34. 39. 33. 26.]]\n"
     ]
    }
   ],
   "source": [
    "import numpy as np\n",
    "\n",
    "\n",
    "x= np.random.randint(100, size=(3, 5)) + np.random.rand(3, 5) \n",
    "\n",
    "print(x)\n",
    "\n",
    "print(np.floor(x, out=x))\n",
    "\n",
    "print(x)"
   ]
  },
  {
   "cell_type": "code",
   "execution_count": 7,
   "metadata": {
    "colab": {
     "base_uri": "https://localhost:8080/"
    },
    "executionInfo": {
     "elapsed": 753,
     "status": "ok",
     "timestamp": 1605573366572,
     "user": {
      "displayName": "Orlando O. S.",
      "photoUrl": "https://lh3.googleusercontent.com/a-/AOh14Gj-E1yuy1M_3ruwN4TWYPK4BwysauSW7GQmHheS=s64",
      "userId": "15066502291703974467"
     },
     "user_tz": 180
    },
    "id": "6VF2hAC050TF",
    "outputId": "346dbd4a-63db-4b60-b97f-efd961c8a3ca"
   },
   "outputs": [
    {
     "name": "stdout",
     "output_type": "stream",
     "text": [
      "[[28.68395669 52.04587776 35.41281366 83.85148848 19.96027338]\n",
      " [28.46229191 29.48307332 63.57266717 40.87938401 76.04070874]\n",
      " [16.07940433  3.87688956  4.00946234 85.3273555  99.48472748]]\n",
      "[[28.68395669 52.         35.41281366 83.         19.96027338]\n",
      " [28.46229191 29.48307332 63.         40.87938401 76.        ]\n",
      " [16.07940433  3.87688956  4.00946234 85.         99.        ]]\n",
      "[[28.68395669 52.         35.41281366 83.         19.96027338]\n",
      " [28.46229191 29.48307332 63.         40.87938401 76.        ]\n",
      " [16.07940433  3.87688956  4.00946234 85.         99.        ]]\n",
      "[[0. 0. 0. 0. 0.]\n",
      " [0. 0. 0. 0. 0.]\n",
      " [0. 0. 0. 0. 0.]]\n"
     ]
    }
   ],
   "source": [
    "from numpy import random\n",
    "\n",
    "x=random.randint(100, size=(3, 5)) + random.rand(3, 5) \n",
    "\n",
    "print(x)\n",
    "\n",
    "resultado = np.zeros(x.shape)\n",
    "\n",
    "print(np.floor(x, where=x>50 , out=x))\n",
    "\n",
    "print(x)\n",
    "\n",
    "print(resultado)\n"
   ]
  },
  {
   "cell_type": "markdown",
   "metadata": {
    "id": "pZGqZ0ruyYn7"
   },
   "source": [
    "### ceil(x, /[, out, where, casting, order, …])\n",
    "\n",
    "Retorna o inteiro superior"
   ]
  },
  {
   "cell_type": "code",
   "execution_count": 8,
   "metadata": {
    "colab": {
     "base_uri": "https://localhost:8080/"
    },
    "executionInfo": {
     "elapsed": 727,
     "status": "ok",
     "timestamp": 1605573390375,
     "user": {
      "displayName": "Orlando O. S.",
      "photoUrl": "https://lh3.googleusercontent.com/a-/AOh14Gj-E1yuy1M_3ruwN4TWYPK4BwysauSW7GQmHheS=s64",
      "userId": "15066502291703974467"
     },
     "user_tz": 180
    },
    "id": "BW-oVDHz_KSR",
    "outputId": "360a841d-4428-4569-d35b-c33615234278"
   },
   "outputs": [
    {
     "name": "stdout",
     "output_type": "stream",
     "text": [
      "[[73.9543552  66.60288021 12.64685261 49.83296036 99.89922453]\n",
      " [ 6.5428475  62.86548304 94.38727239 23.31552444 12.29109343]\n",
      " [87.11116915 22.48609099 92.3098061   6.62134422  1.40953927]]\n",
      "[[ 74.  67.  13.  50. 100.]\n",
      " [  7.  63.  95.  24.  13.]\n",
      " [ 88.  23.  93.   7.   2.]]\n"
     ]
    }
   ],
   "source": [
    "from numpy import random\n",
    "\n",
    "x=random.randint(100, size=(3, 5)) + random.rand(3, 5) \n",
    "\n",
    "print(x)\n",
    "\n",
    "print(np.ceil(x))\n"
   ]
  },
  {
   "cell_type": "markdown",
   "metadata": {
    "id": "DON2eLIn_R6y"
   },
   "source": [
    "### prod(a[, axis, dtype, out, keepdims, …])\n",
    "- Retorna o produto dos elementos de um array no eixo informado"
   ]
  },
  {
   "cell_type": "code",
   "execution_count": 9,
   "metadata": {
    "colab": {
     "base_uri": "https://localhost:8080/"
    },
    "executionInfo": {
     "elapsed": 753,
     "status": "ok",
     "timestamp": 1605573419009,
     "user": {
      "displayName": "Orlando O. S.",
      "photoUrl": "https://lh3.googleusercontent.com/a-/AOh14Gj-E1yuy1M_3ruwN4TWYPK4BwysauSW7GQmHheS=s64",
      "userId": "15066502291703974467"
     },
     "user_tz": 180
    },
    "id": "If8ZJYxH_y2x",
    "outputId": "4ca0d9be-66aa-4d4a-ccaf-8510ad38d53e"
   },
   "outputs": [
    {
     "name": "stdout",
     "output_type": "stream",
     "text": [
      "[[4 4]\n",
      " [4 4]\n",
      " [3 2]]\n",
      "[48 32]\n"
     ]
    }
   ],
   "source": [
    "# Produto das colunas\n",
    "from numpy import random\n",
    "\n",
    "a=random.randint(1,5, size=(3, 2)) \n",
    "\n",
    "print(a)\n",
    "\n",
    "print(np.prod(a,axis=0))"
   ]
  },
  {
   "cell_type": "code",
   "execution_count": 10,
   "metadata": {
    "colab": {
     "base_uri": "https://localhost:8080/"
    },
    "executionInfo": {
     "elapsed": 696,
     "status": "ok",
     "timestamp": 1605573451476,
     "user": {
      "displayName": "Orlando O. S.",
      "photoUrl": "https://lh3.googleusercontent.com/a-/AOh14Gj-E1yuy1M_3ruwN4TWYPK4BwysauSW7GQmHheS=s64",
      "userId": "15066502291703974467"
     },
     "user_tz": 180
    },
    "id": "45ZjT84vBLij",
    "outputId": "0b2b1b4b-1995-421a-9e67-aee95b8bcc2f"
   },
   "outputs": [
    {
     "name": "stdout",
     "output_type": "stream",
     "text": [
      "[[4 1]\n",
      " [4 4]\n",
      " [3 3]]\n",
      "[ 4 16  9]\n"
     ]
    }
   ],
   "source": [
    "# Produto das linhas\n",
    "from numpy import random\n",
    "\n",
    "a=random.randint(1,5, size=(3, 2)) \n",
    "\n",
    "print(a)\n",
    "\n",
    "print(np.prod(a,axis=1))"
   ]
  },
  {
   "cell_type": "markdown",
   "metadata": {
    "id": "OE9an3-SCLSz"
   },
   "source": [
    "### sum(a[, axis, dtype, out, keepdims, …])\n",
    "Retorna a soma dos elementos do array para o eixo escolhido"
   ]
  },
  {
   "cell_type": "code",
   "execution_count": 11,
   "metadata": {
    "colab": {
     "base_uri": "https://localhost:8080/"
    },
    "executionInfo": {
     "elapsed": 828,
     "status": "ok",
     "timestamp": 1605573469836,
     "user": {
      "displayName": "Orlando O. S.",
      "photoUrl": "https://lh3.googleusercontent.com/a-/AOh14Gj-E1yuy1M_3ruwN4TWYPK4BwysauSW7GQmHheS=s64",
      "userId": "15066502291703974467"
     },
     "user_tz": 180
    },
    "id": "C1CZo1GLCLS1",
    "outputId": "41d47cc6-327f-4cab-8334-5d21d08393e7"
   },
   "outputs": [
    {
     "name": "stdout",
     "output_type": "stream",
     "text": [
      "[[3 3]\n",
      " [1 3]\n",
      " [1 3]]\n",
      "[5 9]\n"
     ]
    }
   ],
   "source": [
    "# soma das colunas\n",
    "from numpy import random\n",
    "\n",
    "a=random.randint(1,5, size=(3, 2)) \n",
    "\n",
    "print(a)\n",
    "\n",
    "print(np.sum(a,axis=0))"
   ]
  },
  {
   "cell_type": "code",
   "execution_count": 12,
   "metadata": {
    "colab": {
     "base_uri": "https://localhost:8080/"
    },
    "executionInfo": {
     "elapsed": 856,
     "status": "ok",
     "timestamp": 1605573524462,
     "user": {
      "displayName": "Orlando O. S.",
      "photoUrl": "https://lh3.googleusercontent.com/a-/AOh14Gj-E1yuy1M_3ruwN4TWYPK4BwysauSW7GQmHheS=s64",
      "userId": "15066502291703974467"
     },
     "user_tz": 180
    },
    "id": "gdsmboGYCLS4",
    "outputId": "cb1a69bd-0e60-458d-9475-43094fbc7304"
   },
   "outputs": [
    {
     "name": "stdout",
     "output_type": "stream",
     "text": [
      "[[3 4]\n",
      " [1 1]\n",
      " [4 1]]\n",
      "[7 2 5]\n"
     ]
    }
   ],
   "source": [
    "# soma das linhas\n",
    "from numpy import random\n",
    "\n",
    "a=random.randint(1,5, size=(3, 2)) \n",
    "\n",
    "print(a)\n",
    "\n",
    "print(np.sum(a,axis=1))"
   ]
  },
  {
   "cell_type": "markdown",
   "metadata": {
    "id": "oUY5aAyUCMdw"
   },
   "source": [
    "### exp(x, /[, out, where, casting, order, …])\n",
    "- Retorna o exponencial dos elementos de um array (e=2.718281)"
   ]
  },
  {
   "cell_type": "code",
   "execution_count": 13,
   "metadata": {
    "colab": {
     "base_uri": "https://localhost:8080/"
    },
    "executionInfo": {
     "elapsed": 801,
     "status": "ok",
     "timestamp": 1605573547050,
     "user": {
      "displayName": "Orlando O. S.",
      "photoUrl": "https://lh3.googleusercontent.com/a-/AOh14Gj-E1yuy1M_3ruwN4TWYPK4BwysauSW7GQmHheS=s64",
      "userId": "15066502291703974467"
     },
     "user_tz": 180
    },
    "id": "33sMHbtfCMdy",
    "outputId": "6c1df521-067c-4b90-fdf0-d6d143e1ef79"
   },
   "outputs": [
    {
     "name": "stdout",
     "output_type": "stream",
     "text": [
      "[[1 2]\n",
      " [2 3]\n",
      " [3 2]]\n",
      "[[ 2.71828183  7.3890561 ]\n",
      " [ 7.3890561  20.08553692]\n",
      " [20.08553692  7.3890561 ]]\n"
     ]
    }
   ],
   "source": [
    "from numpy import random\n",
    "\n",
    "a=random.randint(1,5, size=(3, 2)) \n",
    "\n",
    "print(a)\n",
    "\n",
    "print(np.exp(a))\n",
    "\n"
   ]
  },
  {
   "cell_type": "markdown",
   "metadata": {
    "id": "kySwgKE0Doky"
   },
   "source": [
    "### log10(x, /[, out, where, casting, order, …])\n",
    "- Retorna o logarítimo na base 10 dos elementos do array"
   ]
  },
  {
   "cell_type": "code",
   "execution_count": 14,
   "metadata": {
    "colab": {
     "base_uri": "https://localhost:8080/"
    },
    "executionInfo": {
     "elapsed": 739,
     "status": "ok",
     "timestamp": 1605573592526,
     "user": {
      "displayName": "Orlando O. S.",
      "photoUrl": "https://lh3.googleusercontent.com/a-/AOh14Gj-E1yuy1M_3ruwN4TWYPK4BwysauSW7GQmHheS=s64",
      "userId": "15066502291703974467"
     },
     "user_tz": 180
    },
    "id": "sMhD_v0GDok3",
    "outputId": "ad203994-fe2c-4a83-e73c-7da0b4a9b3cd"
   },
   "outputs": [
    {
     "name": "stdout",
     "output_type": "stream",
     "text": [
      "[[1704 1708]\n",
      " [1662 1339]\n",
      " [1718 1716]]\n",
      "[[3.23146959 3.23248787]\n",
      " [3.22063102 3.12678058]\n",
      " [3.23502316 3.23451728]]\n"
     ]
    }
   ],
   "source": [
    "from numpy import random\n",
    "\n",
    "a=random.randint(1000,2000, size=(3, 2)) \n",
    "\n",
    "print(a)\n",
    "\n",
    "print(np.log10(a))\n",
    "\n"
   ]
  },
  {
   "cell_type": "markdown",
   "metadata": {
    "id": "EvzMpJhPEphQ"
   },
   "source": [
    "## Exemplo de cálculos estatísticos\n",
    "\n",
    "- Cálculos estatísticos:  https://numpy.org/doc/stable/reference/routines.statistics.html"
   ]
  },
  {
   "cell_type": "markdown",
   "metadata": {
    "id": "jFk0MpzjEhfS"
   },
   "source": [
    "### amin(a[, axis, out, keepdims, initial, where])\n",
    "- Retorna o menor valor do array para o eixo informado"
   ]
  },
  {
   "cell_type": "code",
   "execution_count": 15,
   "metadata": {
    "colab": {
     "base_uri": "https://localhost:8080/"
    },
    "executionInfo": {
     "elapsed": 743,
     "status": "ok",
     "timestamp": 1605573740811,
     "user": {
      "displayName": "Orlando O. S.",
      "photoUrl": "https://lh3.googleusercontent.com/a-/AOh14Gj-E1yuy1M_3ruwN4TWYPK4BwysauSW7GQmHheS=s64",
      "userId": "15066502291703974467"
     },
     "user_tz": 180
    },
    "id": "GapAWvOvEhfT",
    "outputId": "d3fb8bda-2afa-4e4e-e247-d4ea066e447d"
   },
   "outputs": [
    {
     "name": "stdout",
     "output_type": "stream",
     "text": [
      "[[35 33 13 62 22]\n",
      " [42 60 64 37 27]\n",
      " [11 18 50 18 67]\n",
      " [26 65 26 57 47]\n",
      " [36 22 62 68 20]]\n",
      "[11 18 13 18 20]\n",
      "[13 27 11 26 20]\n"
     ]
    }
   ],
   "source": [
    "from numpy import random\n",
    "\n",
    "a=random.randint(10,70, size=(5, 5)) \n",
    "\n",
    "print(a)\n",
    "\n",
    "print(np.amin(a, axis=0))\n",
    "\n",
    "print(np.amin(a, axis=1))"
   ]
  },
  {
   "cell_type": "markdown",
   "metadata": {
    "id": "nNg9LOJrFUyP"
   },
   "source": [
    "### amax(a[, axis, out, keepdims, initial, where])\n",
    "- Retorna o maior valor do array para o eixo informado"
   ]
  },
  {
   "cell_type": "code",
   "execution_count": 16,
   "metadata": {
    "colab": {
     "base_uri": "https://localhost:8080/"
    },
    "executionInfo": {
     "elapsed": 756,
     "status": "ok",
     "timestamp": 1605573808269,
     "user": {
      "displayName": "Orlando O. S.",
      "photoUrl": "https://lh3.googleusercontent.com/a-/AOh14Gj-E1yuy1M_3ruwN4TWYPK4BwysauSW7GQmHheS=s64",
      "userId": "15066502291703974467"
     },
     "user_tz": 180
    },
    "id": "cyf6K5K4FUyQ",
    "outputId": "b46798c1-8283-4079-91fb-9064cf63707b"
   },
   "outputs": [
    {
     "name": "stdout",
     "output_type": "stream",
     "text": [
      "[[32 22 62 18 44]\n",
      " [52 29 23 57 69]\n",
      " [50 59 44 55 20]\n",
      " [64 65 62 53 37]\n",
      " [68 59 45 42 66]]\n",
      "[68 65 62 57 69]\n",
      "[62 69 59 65 68]\n"
     ]
    }
   ],
   "source": [
    "from numpy import random\n",
    "\n",
    "a=random.randint(10,70, size=(5, 5)) \n",
    "\n",
    "print(a)\n",
    "\n",
    "print(np.amax(a, axis=0))\n",
    "\n",
    "print(np.amax(a, axis=1))"
   ]
  },
  {
   "cell_type": "markdown",
   "metadata": {
    "id": "Le7ME4LgFk6L"
   },
   "source": [
    "### median(a[, axis, out, overwrite_input, keepdims])\n",
    "- Retorna a mediana dos valores do array para o eixo informado"
   ]
  },
  {
   "cell_type": "code",
   "execution_count": 17,
   "metadata": {
    "colab": {
     "base_uri": "https://localhost:8080/"
    },
    "executionInfo": {
     "elapsed": 932,
     "status": "ok",
     "timestamp": 1605573823913,
     "user": {
      "displayName": "Orlando O. S.",
      "photoUrl": "https://lh3.googleusercontent.com/a-/AOh14Gj-E1yuy1M_3ruwN4TWYPK4BwysauSW7GQmHheS=s64",
      "userId": "15066502291703974467"
     },
     "user_tz": 180
    },
    "id": "be6dCBckFk6O",
    "outputId": "7cd13bdc-3d61-482d-ac07-c58e6de304ac"
   },
   "outputs": [
    {
     "name": "stdout",
     "output_type": "stream",
     "text": [
      "[[29 53 49 23 25]\n",
      " [37 63 22 25 58]\n",
      " [16 54 18 67 35]\n",
      " [64 25 43 39 35]\n",
      " [54 50 33 30 30]]\n",
      "[37. 53. 33. 30. 35.]\n",
      "[29. 37. 35. 39. 33.]\n"
     ]
    }
   ],
   "source": [
    "from numpy import random\n",
    "\n",
    "a=random.randint(10,70, size=(5, 5)) \n",
    "\n",
    "print(a)\n",
    "\n",
    "print(np.median(a, axis=0))\n",
    "\n",
    "print(np.median(a, axis=1))"
   ]
  },
  {
   "cell_type": "markdown",
   "metadata": {
    "id": "5wH3D9kJF1KY"
   },
   "source": [
    "### average(a[, axis, weights, returned])\n",
    "- Retorna a media ponderada dos valores do array para o eixo informado"
   ]
  },
  {
   "cell_type": "code",
   "execution_count": 18,
   "metadata": {
    "colab": {
     "base_uri": "https://localhost:8080/"
    },
    "executionInfo": {
     "elapsed": 964,
     "status": "ok",
     "timestamp": 1605573983244,
     "user": {
      "displayName": "Orlando O. S.",
      "photoUrl": "https://lh3.googleusercontent.com/a-/AOh14Gj-E1yuy1M_3ruwN4TWYPK4BwysauSW7GQmHheS=s64",
      "userId": "15066502291703974467"
     },
     "user_tz": 180
    },
    "id": "-aSyt-P8F1KZ",
    "outputId": "822002c1-712a-4f53-8a70-6fc77f5e5dcc"
   },
   "outputs": [
    {
     "name": "stdout",
     "output_type": "stream",
     "text": [
      "[[39 49 25 56 29]\n",
      " [65 58 48 36 26]\n",
      " [10 43 62 19 34]\n",
      " [52 15 13 28 68]\n",
      " [58 39 52 43 35]]\n",
      "media coluna [44.8 40.8 40.  36.4 38.4]\n",
      "media linha [39.6 46.6 33.6 35.2 45.4]\n",
      "pesos [[3 1 4 1 4]\n",
      " [3 2 4 1 3]\n",
      " [2 1 1 3 1]\n",
      " [4 4 2 4 3]\n",
      " [1 4 1 1 1]]\n",
      "media ponderada coluna [46.         35.33333333 36.         30.4        38.91666667]\n",
      "media ponderada linha [33.69230769 47.46153846 27.         35.88235294 43.        ]\n"
     ]
    }
   ],
   "source": [
    "from numpy import random\n",
    "\n",
    "a=random.randint(10,70, size=(5, 5)) \n",
    "print(a)\n",
    "\n",
    "print('media coluna',np.average(a, axis=0))\n",
    "\n",
    "print('media linha',np.average(a, axis=1))\n",
    "\n",
    "pesos = random.randint(1,5, size=(5, 5)) \n",
    "\n",
    "print('pesos',pesos)\n",
    "\n",
    "print('media ponderada coluna',np.average(a, axis=0, weights=pesos))\n",
    "\n",
    "print('media ponderada linha',np.average(a, axis=1, weights=pesos))\n"
   ]
  },
  {
   "cell_type": "markdown",
   "metadata": {
    "id": "OQOBW1ERHHh8"
   },
   "source": [
    "### mean(a[, axis, dtype, out, keepdims])\n",
    "- Retorna a media aritmética dos valores do array para o eixo informado"
   ]
  },
  {
   "cell_type": "code",
   "execution_count": 19,
   "metadata": {
    "colab": {
     "base_uri": "https://localhost:8080/"
    },
    "executionInfo": {
     "elapsed": 632,
     "status": "ok",
     "timestamp": 1605574094676,
     "user": {
      "displayName": "Orlando O. S.",
      "photoUrl": "https://lh3.googleusercontent.com/a-/AOh14Gj-E1yuy1M_3ruwN4TWYPK4BwysauSW7GQmHheS=s64",
      "userId": "15066502291703974467"
     },
     "user_tz": 180
    },
    "id": "lR9R6fEDHHh9",
    "outputId": "39818d22-cfe6-42ec-9b3a-96b23f4322cf"
   },
   "outputs": [
    {
     "name": "stdout",
     "output_type": "stream",
     "text": [
      "[[13 66 19 46 22]\n",
      " [40 49 47 57 39]\n",
      " [60 38 50 25 44]\n",
      " [10 21 37 36 28]\n",
      " [33 31 50 11 14]]\n",
      "[31.2 41.  40.6 35.  29.4]\n",
      "[33.2 46.4 43.4 26.4 27.8]\n"
     ]
    }
   ],
   "source": [
    "from numpy import random\n",
    "\n",
    "a=random.randint(10,70, size=(5, 5)) \n",
    "\n",
    "print(a)\n",
    "\n",
    "print(np.mean(a, axis=0))\n",
    "\n",
    "print(np.mean(a, axis=1))"
   ]
  },
  {
   "cell_type": "markdown",
   "metadata": {
    "id": "c8C08g86Hmz9"
   },
   "source": [
    "### std(a[, axis, dtype, out, ddof, keepdims])\n",
    "- Retorna a desvio-padrao dos valores do array para o eixo informado"
   ]
  },
  {
   "cell_type": "code",
   "execution_count": 20,
   "metadata": {
    "colab": {
     "base_uri": "https://localhost:8080/"
    },
    "executionInfo": {
     "elapsed": 791,
     "status": "ok",
     "timestamp": 1605574099653,
     "user": {
      "displayName": "Orlando O. S.",
      "photoUrl": "https://lh3.googleusercontent.com/a-/AOh14Gj-E1yuy1M_3ruwN4TWYPK4BwysauSW7GQmHheS=s64",
      "userId": "15066502291703974467"
     },
     "user_tz": 180
    },
    "id": "2aScKWGnHmz-",
    "outputId": "60b5df3a-ea35-4445-8a5b-603745eef51c"
   },
   "outputs": [
    {
     "name": "stdout",
     "output_type": "stream",
     "text": [
      "[[59 59 13 65 65]\n",
      " [64 45 36 17 45]\n",
      " [65 17 63 40 55]\n",
      " [27 44 62 68 25]\n",
      " [54 21 47 13 23]]\n",
      "[13.96280774 15.82908715 18.5407659  23.08765904 16.4632925 ]\n",
      "[19.78282083 15.23942256 17.82133553 17.56587601 15.94490514]\n"
     ]
    }
   ],
   "source": [
    "from numpy import random\n",
    "\n",
    "a=random.randint(10,70, size=(5, 5)) \n",
    "\n",
    "print(a)\n",
    "\n",
    "print(np.std(a, axis=0))\n",
    "\n",
    "print(np.std(a, axis=1))"
   ]
  },
  {
   "cell_type": "markdown",
   "metadata": {
    "id": "La5rX2feH2G4"
   },
   "source": [
    "### var(a[, axis, dtype, out, ddof, keepdims])\n",
    "- Retorna a variância dos valores do array para o eixo informado"
   ]
  },
  {
   "cell_type": "code",
   "execution_count": 21,
   "metadata": {
    "colab": {
     "base_uri": "https://localhost:8080/"
    },
    "executionInfo": {
     "elapsed": 882,
     "status": "ok",
     "timestamp": 1605574105736,
     "user": {
      "displayName": "Orlando O. S.",
      "photoUrl": "https://lh3.googleusercontent.com/a-/AOh14Gj-E1yuy1M_3ruwN4TWYPK4BwysauSW7GQmHheS=s64",
      "userId": "15066502291703974467"
     },
     "user_tz": 180
    },
    "id": "y_8g1mkXH2G6",
    "outputId": "ec3b69ac-afc4-4a46-d98a-2d650e9f721b",
    "scrolled": true
   },
   "outputs": [
    {
     "name": "stdout",
     "output_type": "stream",
     "text": [
      "[[66 41 28 12 10]\n",
      " [39 35 49 48 51]\n",
      " [68 30 65 23 12]\n",
      " [21 69 68 19 10]\n",
      " [63 15 40 48 32]]\n",
      "[340.24 314.4  226.8  228.4  264.8 ]\n",
      "[427.04  39.04 516.24 658.64 256.24]\n"
     ]
    }
   ],
   "source": [
    "from numpy import random\n",
    "\n",
    "a=random.randint(10,70, size=(5, 5)) \n",
    "\n",
    "print(a)\n",
    "\n",
    "print(np.var(a, axis=0))\n",
    "\n",
    "print(np.var(a, axis=1))"
   ]
  },
  {
   "cell_type": "markdown",
   "metadata": {},
   "source": [
    "## Leituras Adicionais e Referências:\n",
    "\n",
    "- Python Tutorial at W3Schools: https://www.w3schools.com/python/\n",
    "- Python official documentation: https://docs.python.org/3/tutorial/index.html\n",
    "- NumPy v1.19 Manual: https://numpy.org/doc/stable/"
   ]
  }
 ],
 "metadata": {
  "colab": {
   "collapsed_sections": [],
   "name": "Aula 07 Introdução à Linguagem de Python para Analytics e Data Science.ipynb",
   "provenance": []
  },
  "kernelspec": {
   "display_name": "Python 3",
   "language": "python",
   "name": "python3"
  },
  "language_info": {
   "codemirror_mode": {
    "name": "ipython",
    "version": 3
   },
   "file_extension": ".py",
   "mimetype": "text/x-python",
   "name": "python",
   "nbconvert_exporter": "python",
   "pygments_lexer": "ipython3",
   "version": "3.7.8"
  }
 },
 "nbformat": 4,
 "nbformat_minor": 1
}
