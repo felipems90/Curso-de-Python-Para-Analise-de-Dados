{
 "cells": [
  {
   "cell_type": "markdown",
   "metadata": {
    "id": "uGqJJfZ36iR6"
   },
   "source": [
    "# 02 - Numpy - Computação Vetorial e Matricial\n",
    "## Aula 09 - 04 - Numpy - Forma e Remodelagem de Matrizes (shape)"
   ]
  },
  {
   "cell_type": "markdown",
   "metadata": {
    "id": "JNifjo59P9mf"
   },
   "source": [
    "## Professor: Orlando Oliveira dos Santos, MsC.\n",
    " - E-mail: professor.orlando.santos@gmail.com \n",
    " - Youtube :https://www.youtube.com/channel/UCPWWbkPWFmOjXH50TQWNAYg\n",
    " - Linkedin: https://linkedin.com/in/orlandoosantos\n",
    " - Facebook: https://www.facebook.com/proforlandosantosmsc/\n",
    " - Twitter: https://twitter.com/ProfOrlandoMsC\n",
    " - Instagram: https://www.instagram.com/proforlandosantosmsc/\n",
    "\n",
    "\n",
    "\n",
    "## Formação Acadêmica\n",
    "- Mestrado em Computação Aplicada - UnB (2014 – 2016)\t\n",
    "- MBA, Administração Estratégica de Sistemas de Informação – FGV (2011 – 2013)\n",
    "- Tecnólogo em Processamento de Dados, Análise e Desenvolvimento de Sistemas – FAETEC/SP (2000-2002)"
   ]
  },
  {
   "cell_type": "markdown",
   "metadata": {
    "id": "-wttXmB0JYuh"
   },
   "source": [
    "# Numpy - Forma e Remodelagem de Matrizes (shape)"
   ]
  },
  {
   "cell_type": "markdown",
   "metadata": {
    "id": "el5FGRiyvP3t"
   },
   "source": [
    "## Forma de matriz NumPy\n",
    "- Referese ao número de elementos em cada dimensão.\n",
    "- Use o atributo shape para retornar a tupla com as informações da forma.\n"
   ]
  },
  {
   "cell_type": "code",
   "execution_count": 1,
   "metadata": {
    "colab": {
     "base_uri": "https://localhost:8080/"
    },
    "executionInfo": {
     "elapsed": 632,
     "status": "ok",
     "timestamp": 1605314825349,
     "user": {
      "displayName": "Orlando O. S.",
      "photoUrl": "https://lh3.googleusercontent.com/a-/AOh14Gj-E1yuy1M_3ruwN4TWYPK4BwysauSW7GQmHheS=s64",
      "userId": "15066502291703974467"
     },
     "user_tz": 180
    },
    "id": "WvD_Xj_JvP3t",
    "outputId": "29a0ba6b-af3f-4b7d-ac64-e0c60929ce69"
   },
   "outputs": [
    {
     "name": "stdout",
     "output_type": "stream",
     "text": [
      "(2, 4)\n",
      "Essa matriz possuir 2 dimensões com 4 elementos\n"
     ]
    }
   ],
   "source": [
    "import numpy as np\n",
    "\n",
    "meu_array = np.array([\n",
    "                      [21, 22, 23, 24], \n",
    "                      [25, 26, 27, 28]\n",
    "                      ])\n",
    "\n",
    "print(meu_array.shape)\n",
    "\n",
    "print(f'Essa matriz possuir {meu_array.shape[0]} dimensões com {meu_array.shape[1]} elementos')"
   ]
  },
  {
   "cell_type": "code",
   "execution_count": 2,
   "metadata": {
    "colab": {
     "base_uri": "https://localhost:8080/"
    },
    "executionInfo": {
     "elapsed": 679,
     "status": "ok",
     "timestamp": 1605314837126,
     "user": {
      "displayName": "Orlando O. S.",
      "photoUrl": "https://lh3.googleusercontent.com/a-/AOh14Gj-E1yuy1M_3ruwN4TWYPK4BwysauSW7GQmHheS=s64",
      "userId": "15066502291703974467"
     },
     "user_tz": 180
    },
    "id": "UoSrFPmIvP3x",
    "outputId": "e1b8ce21-b3da-476c-fa19-61d42e582ca2"
   },
   "outputs": [
    {
     "name": "stdout",
     "output_type": "stream",
     "text": [
      "[[[[21 22 23 24 25]]]]\n",
      "A forma desse array é : (1, 1, 1, 5)\n"
     ]
    }
   ],
   "source": [
    "import numpy as np\n",
    "\n",
    "meu_array = np.array([21, 22, 23, 24, 25], ndmin=4)\n",
    "\n",
    "print(meu_array)\n",
    "\n",
    "print('A forma desse array é :', meu_array.shape)"
   ]
  },
  {
   "cell_type": "code",
   "execution_count": 3,
   "metadata": {
    "colab": {
     "base_uri": "https://localhost:8080/"
    },
    "executionInfo": {
     "elapsed": 629,
     "status": "ok",
     "timestamp": 1605314892695,
     "user": {
      "displayName": "Orlando O. S.",
      "photoUrl": "https://lh3.googleusercontent.com/a-/AOh14Gj-E1yuy1M_3ruwN4TWYPK4BwysauSW7GQmHheS=s64",
      "userId": "15066502291703974467"
     },
     "user_tz": 180
    },
    "id": "1y-TWKm1ZFyA",
    "outputId": "e681f5d1-148e-4b42-e92e-1a6c001cc729"
   },
   "outputs": [
    {
     "name": "stdout",
     "output_type": "stream",
     "text": [
      "[[[[21 22 23 24 25]\n",
      "   [21 22 23 24 25]\n",
      "   [21 22 23 24 25]]\n",
      "\n",
      "  [[21 22 23 24 25]\n",
      "   [21 22 23 24 25]\n",
      "   [21 22 23 24 25]]]\n",
      "\n",
      "\n",
      " [[[21 22 23 24 25]\n",
      "   [21 22 23 24 25]\n",
      "   [21 22 23 24 25]]\n",
      "\n",
      "  [[21 22 23 24 25]\n",
      "   [21 22 23 24 25]\n",
      "   [21 22 23 24 25]]]]\n",
      "A forma desse array é : (2, 2, 3, 5)\n"
     ]
    }
   ],
   "source": [
    "import numpy as np\n",
    "\n",
    "meu_array = np.array([[\n",
    "                       [[21, 22, 23, 24, 25],\n",
    "                        [21, 22, 23, 24, 25],\n",
    "                        [21, 22, 23, 24, 25]\n",
    "                       ],\n",
    "                       [\n",
    "                        [21, 22, 23, 24, 25],\n",
    "                        [21, 22, 23, 24, 25],\n",
    "                        [21, 22, 23, 24, 25]\n",
    "                       ]\n",
    "                      ],\n",
    "                      [\n",
    "                       [[21, 22, 23, 24, 25],\n",
    "                        [21, 22, 23, 24, 25],\n",
    "                        [21, 22, 23, 24, 25]\n",
    "                       ],\n",
    "                       [\n",
    "                        [21, 22, 23, 24, 25],\n",
    "                        [21, 22, 23, 24, 25],\n",
    "                        [21, 22, 23, 24, 25]\n",
    "                       ]\n",
    "                      ],\n",
    "   \n",
    "                      ] )\n",
    "\n",
    "print(meu_array)\n",
    "\n",
    "print('A forma desse array é :', meu_array.shape)"
   ]
  },
  {
   "cell_type": "markdown",
   "metadata": {
    "id": "L3zHRMt6vP3z"
   },
   "source": [
    "## NumPy Array Remodelagem\n",
    "- Alterar a forma de uma matriz\n",
    "- Pode se também adicionar ou remover dimensões ou alterar o número de elementos em cada dimensão.\n",
    "\n",
    "### Remodelar de 1-D para 2-D"
   ]
  },
  {
   "cell_type": "code",
   "execution_count": 4,
   "metadata": {
    "colab": {
     "base_uri": "https://localhost:8080/"
    },
    "executionInfo": {
     "elapsed": 703,
     "status": "ok",
     "timestamp": 1605315005743,
     "user": {
      "displayName": "Orlando O. S.",
      "photoUrl": "https://lh3.googleusercontent.com/a-/AOh14Gj-E1yuy1M_3ruwN4TWYPK4BwysauSW7GQmHheS=s64",
      "userId": "15066502291703974467"
     },
     "user_tz": 180
    },
    "id": "knqiXFuBvP30",
    "outputId": "66303a66-ab80-4e79-81ab-5f9e507e43c0"
   },
   "outputs": [
    {
     "name": "stdout",
     "output_type": "stream",
     "text": [
      "[[ 10  20  30]\n",
      " [ 40  50  60]\n",
      " [ 70  80  90]\n",
      " [100   8   9]\n",
      " [100 110 120]]\n"
     ]
    }
   ],
   "source": [
    "import numpy as np\n",
    "\n",
    "meu_array = np.array([10, 20, 30, 40, 50, 60, 70, 80, 90, 100, 8, 9, 100, 110, 120])\n",
    "\n",
    "novo_array = meu_array.reshape(5, 3)\n",
    "\n",
    "print(novo_array)"
   ]
  },
  {
   "cell_type": "markdown",
   "metadata": {
    "id": "CzOpdx_zvP34"
   },
   "source": [
    "## Remodelar de 1-D para 3-D\n"
   ]
  },
  {
   "cell_type": "code",
   "execution_count": 5,
   "metadata": {
    "colab": {
     "base_uri": "https://localhost:8080/"
    },
    "executionInfo": {
     "elapsed": 725,
     "status": "ok",
     "timestamp": 1605315061813,
     "user": {
      "displayName": "Orlando O. S.",
      "photoUrl": "https://lh3.googleusercontent.com/a-/AOh14Gj-E1yuy1M_3ruwN4TWYPK4BwysauSW7GQmHheS=s64",
      "userId": "15066502291703974467"
     },
     "user_tz": 180
    },
    "id": "92ze5YzZvP34",
    "outputId": "4d98f292-4678-4344-c9a8-a68fd4299d8e"
   },
   "outputs": [
    {
     "name": "stdout",
     "output_type": "stream",
     "text": [
      "[[[ 10  20  30]\n",
      "  [ 40  50  60]\n",
      "  [ 70  80  90]]\n",
      "\n",
      " [[100   8   9]\n",
      "  [100 110 120]\n",
      "  [130 140 150]]]\n"
     ]
    }
   ],
   "source": [
    "import numpy as np\n",
    "\n",
    "meu_array = np.array([10, 20, 30, 40, 50, 60, 70, 80, 90, 100, 8, 9, 100, 110, 120, 130, 140, 150])\n",
    "\n",
    "novo_array = meu_array.reshape(2, 3, 3)\n",
    "\n",
    "print(novo_array)"
   ]
  },
  {
   "cell_type": "markdown",
   "metadata": {
    "id": "jptmgluOvP39"
   },
   "source": [
    "## Pode-se remodelar de qualquer forma desde que a quantidade de elementos seja  a mesma"
   ]
  },
  {
   "cell_type": "code",
   "execution_count": 6,
   "metadata": {
    "colab": {
     "base_uri": "https://localhost:8080/"
    },
    "executionInfo": {
     "elapsed": 727,
     "status": "ok",
     "timestamp": 1605315188255,
     "user": {
      "displayName": "Orlando O. S.",
      "photoUrl": "https://lh3.googleusercontent.com/a-/AOh14Gj-E1yuy1M_3ruwN4TWYPK4BwysauSW7GQmHheS=s64",
      "userId": "15066502291703974467"
     },
     "user_tz": 180
    },
    "id": "n5KodUEVvP4A",
    "outputId": "4407d0ab-5769-42ad-be12-06b811f7bc13"
   },
   "outputs": [
    {
     "name": "stdout",
     "output_type": "stream",
     "text": [
      "[[10 20 30]\n",
      " [40 50 60]\n",
      " [70 80 90]]\n"
     ]
    }
   ],
   "source": [
    "import numpy as np\n",
    "\n",
    "meu_array = np.array([10, 20, 30, 40, 50, 60, 70, 80, 90])\n",
    "\n",
    "novo_array = meu_array.reshape(3, 3)\n",
    "\n",
    "print(novo_array)"
   ]
  },
  {
   "cell_type": "markdown",
   "metadata": {
    "id": "YhrJdFaovP4E"
   },
   "source": [
    "## Dependendo da situação do resultado de um reshape pode ser uma cópia ou uma visão da matriz."
   ]
  },
  {
   "cell_type": "code",
   "execution_count": 7,
   "metadata": {
    "colab": {
     "base_uri": "https://localhost:8080/"
    },
    "executionInfo": {
     "elapsed": 704,
     "status": "ok",
     "timestamp": 1605315214156,
     "user": {
      "displayName": "Orlando O. S.",
      "photoUrl": "https://lh3.googleusercontent.com/a-/AOh14Gj-E1yuy1M_3ruwN4TWYPK4BwysauSW7GQmHheS=s64",
      "userId": "15066502291703974467"
     },
     "user_tz": 180
    },
    "id": "tm14dF7hvP4F",
    "outputId": "1eed8f46-da46-47d4-f15b-5667f11c177a"
   },
   "outputs": [
    {
     "name": "stdout",
     "output_type": "stream",
     "text": [
      "[ 10  20  30  40  50  60  70  80  90 100]\n"
     ]
    }
   ],
   "source": [
    "import numpy as np\n",
    "\n",
    "meu_array = np.array([10, 20, 30, 40, 50, 60, 70, 80, 90, 100])\n",
    "\n",
    "novo_array = meu_array.reshape(2, 5)\n",
    "\n",
    "print(novo_array.base)"
   ]
  },
  {
   "cell_type": "code",
   "execution_count": 8,
   "metadata": {
    "colab": {
     "base_uri": "https://localhost:8080/"
    },
    "executionInfo": {
     "elapsed": 674,
     "status": "ok",
     "timestamp": 1605315221619,
     "user": {
      "displayName": "Orlando O. S.",
      "photoUrl": "https://lh3.googleusercontent.com/a-/AOh14Gj-E1yuy1M_3ruwN4TWYPK4BwysauSW7GQmHheS=s64",
      "userId": "15066502291703974467"
     },
     "user_tz": 180
    },
    "id": "1V0QLF30w10B",
    "outputId": "698be472-ce69-4a7d-d4a9-61b651909a63"
   },
   "outputs": [
    {
     "name": "stdout",
     "output_type": "stream",
     "text": [
      "[ 10  20  30  40  50  60  70  80  90 100]\n"
     ]
    }
   ],
   "source": [
    "import numpy as np\n",
    "\n",
    "meu_array = np.array([10, 20, 30, 40, 50, 60, 70, 80, 90, 100])\n",
    "\n",
    "novo_array = meu_array.reshape(10)\n",
    "\n",
    "print(novo_array.base)"
   ]
  },
  {
   "cell_type": "code",
   "execution_count": 9,
   "metadata": {
    "id": "v4E7iV_cw7-O"
   },
   "outputs": [
    {
     "data": {
      "text/plain": [
       "array([ 10,  20,  30,  40,  50,  60,  70,  80,  90, 100])"
      ]
     },
     "execution_count": 9,
     "metadata": {},
     "output_type": "execute_result"
    }
   ],
   "source": [
    "novo_array.reshape(10).base"
   ]
  },
  {
   "cell_type": "markdown",
   "metadata": {
    "id": "Wecss0YgvP4M"
   },
   "source": [
    "## Deixando o NumPy calcular o tamanho de uma das dimensões informa o valor -1"
   ]
  },
  {
   "cell_type": "code",
   "execution_count": 10,
   "metadata": {
    "colab": {
     "base_uri": "https://localhost:8080/"
    },
    "executionInfo": {
     "elapsed": 631,
     "status": "ok",
     "timestamp": 1605315261486,
     "user": {
      "displayName": "Orlando O. S.",
      "photoUrl": "https://lh3.googleusercontent.com/a-/AOh14Gj-E1yuy1M_3ruwN4TWYPK4BwysauSW7GQmHheS=s64",
      "userId": "15066502291703974467"
     },
     "user_tz": 180
    },
    "id": "Q2wfyHaZvP4N",
    "outputId": "2533ed87-906f-4633-e3c4-0d0871f69dc4"
   },
   "outputs": [
    {
     "name": "stdout",
     "output_type": "stream",
     "text": [
      "[[ 10  20  30  40  50]\n",
      " [ 60  70  80  90 100]]\n"
     ]
    }
   ],
   "source": [
    "import numpy as np\n",
    "\n",
    "meu_array = np.array([10, 20, 30, 40, 50, 60, 70, 80, 90, 100])\n",
    "\n",
    "novo_array = meu_array.reshape(2, -1)\n",
    "\n",
    "print(novo_array)"
   ]
  },
  {
   "cell_type": "markdown",
   "metadata": {
    "id": "N2VVDY-CvP4U"
   },
   "source": [
    "## Achatamento de matrizes\n",
    "- Pode se usar reshape(-1) converter uma matriz multidimensional em uma matriz 1D."
   ]
  },
  {
   "cell_type": "code",
   "execution_count": 11,
   "metadata": {
    "colab": {
     "base_uri": "https://localhost:8080/"
    },
    "executionInfo": {
     "elapsed": 752,
     "status": "ok",
     "timestamp": 1605315391437,
     "user": {
      "displayName": "Orlando O. S.",
      "photoUrl": "https://lh3.googleusercontent.com/a-/AOh14Gj-E1yuy1M_3ruwN4TWYPK4BwysauSW7GQmHheS=s64",
      "userId": "15066502291703974467"
     },
     "user_tz": 180
    },
    "id": "6Hdfxk9YvP4U",
    "outputId": "6fdd11bd-1e12-4677-ce40-b1833b313c55"
   },
   "outputs": [
    {
     "name": "stdout",
     "output_type": "stream",
     "text": [
      "(2, 3, 3)\n",
      "[10 20 30 40 50 60 40 50 60 10 20 30 40 50 60 40 50 60]\n"
     ]
    }
   ],
   "source": [
    "import numpy as np\n",
    "\n",
    "meu_array = np.array([[\n",
    "                      [10, 20, 30], \n",
    "                      [40, 50, 60], \n",
    "                      [40, 50, 60]\n",
    "                      ],\n",
    "                      [\n",
    "                      [10, 20, 30], \n",
    "                      [40, 50, 60], \n",
    "                      [40, 50, 60]\n",
    "                      ]\n",
    "                     ]\n",
    "                      )\n",
    "print(meu_array.shape)\n",
    "novo_array = meu_array.reshape(-1)\n",
    "\n",
    "print(novo_array)"
   ]
  },
  {
   "cell_type": "markdown",
   "metadata": {
    "id": "SxpxlNpb1jJR"
   },
   "source": [
    "## Achatamento de matrizes com a função flatten"
   ]
  },
  {
   "cell_type": "code",
   "execution_count": 12,
   "metadata": {
    "colab": {
     "base_uri": "https://localhost:8080/"
    },
    "executionInfo": {
     "elapsed": 731,
     "status": "ok",
     "timestamp": 1605315452280,
     "user": {
      "displayName": "Orlando O. S.",
      "photoUrl": "https://lh3.googleusercontent.com/a-/AOh14Gj-E1yuy1M_3ruwN4TWYPK4BwysauSW7GQmHheS=s64",
      "userId": "15066502291703974467"
     },
     "user_tz": 180
    },
    "id": "02lkrLxV0PeJ",
    "outputId": "a43e9af7-a385-40f6-df60-78bddaf37962"
   },
   "outputs": [
    {
     "data": {
      "text/plain": [
       "array([ 1,  2,  3,  4,  5,  6,  7,  8,  9, 10, 11, 12, 13, 14, 15, 16, 17,\n",
       "       18, 19, 20, 21, 22, 23, 24, 25, 26, 27, 28, 29, 30, 31, 32, 33, 34,\n",
       "       35, 36, 37, 38, 39, 40])"
      ]
     },
     "execution_count": 12,
     "metadata": {},
     "output_type": "execute_result"
    }
   ],
   "source": [
    "a = np.array([[1,2,3,4,5,6,7,8,9,10],\n",
    "              [11,12,13,14,15,16,17,18,19,20],\n",
    "              [21,22,23,24,25,26,27,28,29,30],\n",
    "              [31,32,33,34,35,36,37,38,39,40]])\n",
    "a.flatten()"
   ]
  },
  {
   "cell_type": "code",
   "execution_count": 13,
   "metadata": {
    "colab": {
     "base_uri": "https://localhost:8080/"
    },
    "executionInfo": {
     "elapsed": 713,
     "status": "ok",
     "timestamp": 1605315462592,
     "user": {
      "displayName": "Orlando O. S.",
      "photoUrl": "https://lh3.googleusercontent.com/a-/AOh14Gj-E1yuy1M_3ruwN4TWYPK4BwysauSW7GQmHheS=s64",
      "userId": "15066502291703974467"
     },
     "user_tz": 180
    },
    "id": "32l8v7VN0ppE",
    "outputId": "956fb009-d318-4dec-94b5-8373b29669bc"
   },
   "outputs": [
    {
     "data": {
      "text/plain": [
       "array([ 1,  2,  3,  4,  5,  6,  7,  8,  9, 10, 11, 12, 13, 14, 15, 16, 17,\n",
       "       18, 19, 20, 21, 22, 23, 24, 25, 26, 27, 28, 29, 30, 31, 32, 33, 34,\n",
       "       35, 36, 37, 38, 39, 40])"
      ]
     },
     "execution_count": 13,
     "metadata": {},
     "output_type": "execute_result"
    }
   ],
   "source": [
    "a.flatten('C')"
   ]
  },
  {
   "cell_type": "code",
   "execution_count": 14,
   "metadata": {
    "colab": {
     "base_uri": "https://localhost:8080/"
    },
    "executionInfo": {
     "elapsed": 760,
     "status": "ok",
     "timestamp": 1605315466300,
     "user": {
      "displayName": "Orlando O. S.",
      "photoUrl": "https://lh3.googleusercontent.com/a-/AOh14Gj-E1yuy1M_3ruwN4TWYPK4BwysauSW7GQmHheS=s64",
      "userId": "15066502291703974467"
     },
     "user_tz": 180
    },
    "id": "0zvmhv2p04_n",
    "outputId": "d51f2ade-0804-40b0-cc8e-cc1e186a7dda"
   },
   "outputs": [
    {
     "data": {
      "text/plain": [
       "array([ 1, 11, 21, 31,  2, 12, 22, 32,  3, 13, 23, 33,  4, 14, 24, 34,  5,\n",
       "       15, 25, 35,  6, 16, 26, 36,  7, 17, 27, 37,  8, 18, 28, 38,  9, 19,\n",
       "       29, 39, 10, 20, 30, 40])"
      ]
     },
     "execution_count": 14,
     "metadata": {},
     "output_type": "execute_result"
    }
   ],
   "source": [
    "a.flatten('F')"
   ]
  },
  {
   "cell_type": "markdown",
   "metadata": {},
   "source": [
    "## Leituras Adicionais e Referências:\n",
    "\n",
    "- Python Tutorial at W3Schools: https://www.w3schools.com/python/\n",
    "- Python official documentation: https://docs.python.org/3/tutorial/index.html\n",
    "- NumPy v1.19 Manual: https://numpy.org/doc/stable/"
   ]
  }
 ],
 "metadata": {
  "colab": {
   "collapsed_sections": [],
   "name": "Aula 07 Introdução à Linguagem de Python para Analytics e Data Science.ipynb",
   "provenance": []
  },
  "kernelspec": {
   "display_name": "Python 3",
   "language": "python",
   "name": "python3"
  },
  "language_info": {
   "codemirror_mode": {
    "name": "ipython",
    "version": 3
   },
   "file_extension": ".py",
   "mimetype": "text/x-python",
   "name": "python",
   "nbconvert_exporter": "python",
   "pygments_lexer": "ipython3",
   "version": "3.7.8"
  }
 },
 "nbformat": 4,
 "nbformat_minor": 1
}
